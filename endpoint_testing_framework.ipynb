{
 "cells": [
  {
   "cell_type": "markdown",
   "metadata": {},
   "source": [
    "### Imports"
   ]
  },
  {
   "cell_type": "code",
   "execution_count": 2,
   "metadata": {},
   "outputs": [
    {
     "name": "stderr",
     "output_type": "stream",
     "text": [
      "/Library/Frameworks/Python.framework/Versions/3.8/lib/python3.8/site-packages/tqdm/auto.py:22: TqdmWarning: IProgress not found. Please update jupyter and ipywidgets. See https://ipywidgets.readthedocs.io/en/stable/user_install.html\n",
      "  from .autonotebook import tqdm as notebook_tqdm\n"
     ]
    }
   ],
   "source": [
    "from caveclient import CAVEclient\n",
    "from intern import array\n",
    "import pickle\n",
    "import numpy as np\n",
    "from agents import data_loader\n",
    "from cloudvolume import CloudVolume\n",
    "from membrane_detection import membranes\n",
    "from agents.scripts import precompute_membrane_vectors, create_post_matrix, merge_paths, get_soma\n",
    "import agents.sensor\n",
    "from agents.run import run_agents\n",
    "import aws.sqs as sqs\n",
    "import sys\n",
    "import time\n",
    "import ast\n",
    "import pandas as pd\n",
    "import agents.scripts as scripts\n",
    "from drive import drive\n",
    "from finding_orphans import *\n",
    "from math import sqrt\n",
    "from tip_finding.tip_finding import tip_finder_decimation"
   ]
  },
  {
   "cell_type": "markdown",
   "metadata": {},
   "source": [
    "### Helper functions\n"
   ]
  },
  {
   "cell_type": "code",
   "execution_count": 3,
   "metadata": {},
   "outputs": [],
   "source": [
    "def find_euclidian_distance(proposed_endpoint, gt_endponts_array):\n",
    "    diffs = gt_endponts_array - proposed_endpoint\n",
    "    diffs_distance = np.sqrt(np.sum(np.square(diffs), axis=1))\n",
    "    min_dist_ind = np.argmin(diffs_distance)\n",
    "    min_dist = diffs_distance[min_dist_ind]\n",
    "    return min_dist"
   ]
  },
  {
   "cell_type": "code",
   "execution_count": 32,
   "metadata": {},
   "outputs": [],
   "source": [
    "def endpoint_generator(load, invalidation_d, humfrey_iters, decimation_factor):\n",
    "    for idx, i in enumerate(load['seg_id']):\n",
    "        # if idx == 20:\n",
    "        #     break\n",
    "        try:\n",
    "            t1, skel, mesh_obj = tip_finder_decimation(str(i))\n",
    "            endpoints_dict[i] = t1\n",
    "        except:\n",
    "            print(f\"\\n\\nSeg {i} returned error on get. Skipping.\\n\")\n",
    "            pass\n",
    "    load['endpoints'] = load['endpoints'].apply(\n",
    "        lambda x: list(ast.literal_eval(x)))\n",
    "    load['proposed_endpoints'] = load.seg_id.map(endpoints_dict)\n",
    "    return load\n"
   ]
  },
  {
   "cell_type": "code",
   "execution_count": 33,
   "metadata": {},
   "outputs": [],
   "source": [
    "def testing_metrics(load, threshold, run, output):\n",
    "    for index, row in load.iterrows():\n",
    "        # if index == 20:\n",
    "        #     break\n",
    "\n",
    "        endpoint_array = np.array(row[\"endpoints\"])\n",
    "        proposed_endpoints_array = np.array(row[\"proposed_endpoints\"])\n",
    "        segID = row[\"seg_id\"]\n",
    "\n",
    "        #skip anything seg_id that isn't 'good'\n",
    "        if row[\"comments\"] != 'good':\n",
    "            print(\"skipping \\n\")\n",
    "            continue\n",
    "\n",
    "        #if both say no endpoints, then it's correct\n",
    "        elif (len(proposed_endpoints_array.shape) == 0 and len(endpoint_array.shape) == 0):\n",
    "            output.loc[len(output.index)] = [run, 1.0,1.0,1.0, segID, len(\n",
    "                endpoint_array), endpoint_array, row[\"comments\"], proposed_endpoints_array]\n",
    "            continue\n",
    "\n",
    "        #if we propose no endpoints but there are endpoints, it's wrong\n",
    "        elif (len(proposed_endpoints_array.shape) == 0 and len(endpoint_array.shape) > 0):\n",
    "            output.loc[len(output.index)] = [run, 0.0,0.0,0.0, segID, len(\n",
    "                endpoint_array), endpoint_array, row[\"comments\"], proposed_endpoints_array]\n",
    "            continue\n",
    "\n",
    "        #if we propose endpoints but there are none, it's wrong\n",
    "        elif proposed_endpoints_array.size > 0 and endpoint_array.size == 0:\n",
    "            output.loc[len(output.index)] = [run, 0.0,0.0,0.0, segID, len(\n",
    "                endpoint_array), endpoint_array, row[\"comments\"], proposed_endpoints_array]\n",
    "            continue\n",
    "\n",
    "        #should skip for now if the endpoint array is size zero to avoid divide by zero error\n",
    "        elif endpoint_array.size == 0:\n",
    "            output.loc[len(output.index)] = [run,-1,-1,-1,segID, len(endpoint_array), endpoint_array, row[\"comments\"], proposed_endpoints_array]\n",
    "            continue\n",
    "\n",
    "        else:\n",
    "            endpoint_ids = np.arange(0, len(endpoint_array))\n",
    "            test_ids = np.arange(\n",
    "                0, len(proposed_endpoints_array)) + len(proposed_endpoints_array)\n",
    "\n",
    "            #get precision and recall at end of each iteration\n",
    "            analysis = run_synapse_analysis(\n",
    "                endpoint_array,\n",
    "                np.array(endpoint_ids),\n",
    "                proposed_endpoints_array,\n",
    "                np.array(test_ids),\n",
    "                threshold,\n",
    "                iso_correction=10,\n",
    "            )\n",
    "\n",
    "            output.loc[len(output.index)] = [run, analysis.precision, analysis.recall, analysis.f1, segID, len(\n",
    "                endpoint_array), endpoint_array, row[\"comments\"], proposed_endpoints_array]\n",
    "    return output\n"
   ]
  },
  {
   "cell_type": "code",
   "execution_count": 6,
   "metadata": {},
   "outputs": [],
   "source": [
    "\"\"\"\n",
    "Various utility classes and functions for Confirms.\n",
    "\"\"\"\n",
    "from copy import deepcopy\n",
    "\n",
    "import numpy as np\n",
    "import pandas as pd\n",
    "from scipy import spatial\n",
    "from scipy.optimize import linear_sum_assignment\n",
    "\n",
    "\n",
    "def calculate_precision_recall(tp, fp, fn):\n",
    "    \"\"\"\n",
    "    Calculate precision/recall from given true positives, false positives, and false negatives.\n",
    "    Parameters\n",
    "    ----------\n",
    "    tp : int\n",
    "        The number of true positives.\n",
    "    fp : int\n",
    "        The number of false positives.\n",
    "    fn : int\n",
    "        The number of false negatives.\n",
    "    Returns\n",
    "    -------\n",
    "    precision : float\n",
    "        The precision score.\n",
    "    recall : float\n",
    "        The recall score.\n",
    "    \"\"\"\n",
    "    precision = tp / (tp + fp)\n",
    "    recall = tp / (tp + fn)\n",
    "    return precision, recall\n",
    "\n",
    "\n",
    "def calculate_f1(precision, recall):\n",
    "    \"\"\"\n",
    "    Calculate the F1 score from precision/recall scores.\n",
    "    Parameters\n",
    "    ----------\n",
    "    precision : float\n",
    "        The precision score.\n",
    "    recall : float\n",
    "        The recall score.\n",
    "    Returns\n",
    "    -------\n",
    "    f1 : float\n",
    "        The F1 score.\n",
    "    \"\"\"\n",
    "    return 2 * ((precision * recall) / (precision + recall))\n",
    "\n",
    "\n",
    "def get_summary_metrics(array):\n",
    "    \"\"\"\n",
    "    Calculate a number of summary metrics on an array of numbers.\n",
    "    Parameters\n",
    "    ----------\n",
    "    array : array_like\n",
    "        Array containing numbers who summary metrics is desired.\n",
    "    Returns\n",
    "    -------\n",
    "    metrics : dict\n",
    "        Dict containing the mean, median, max, min, range, standard deviation,\n",
    "        and variance of the input array.\n",
    "    \"\"\"\n",
    "    summary_object = {}\n",
    "    array = np.array(array)\n",
    "\n",
    "    summary_object[\"mean\"] = np.mean(array)\n",
    "    summary_object[\"median\"] = np.median(array)\n",
    "    summary_object[\"max\"] = np.amax(array)\n",
    "    summary_object[\"min\"] = np.amin(array)\n",
    "    summary_object[\"range\"] = np.mean(array)\n",
    "    summary_object[\"stddev\"] = np.std(array)\n",
    "    summary_object[\"variance\"] = np.var(array)\n",
    "\n",
    "    return summary_object\n",
    "\n",
    "\n",
    "def munkres_assignment(workers, jobs):\n",
    "    \"\"\"\n",
    "    Perform hungarian-munkres assignment.\n",
    "    Parameters\n",
    "    ----------\n",
    "    workers : array_like\n",
    "        Array containing the first set of points.\n",
    "    jobs : array_like\n",
    "        Array containing the second set of points.\n",
    "    Returns\n",
    "    -------\n",
    "    cost_matrix : numpy.ndarray\n",
    "        Matrix containing pairwise distances (the cost of assignment).\n",
    "    row_ind : numpy.ndarray\n",
    "        Row indices of cost_matrix for optimal assignment.\n",
    "    col_ind : numpy.ndarray\n",
    "        Column indices of cost_matrx for optimal assignment.\n",
    "    \"\"\"\n",
    "    cost_matrix = spatial.distance.cdist(workers, jobs, \"euclidean\")\n",
    "    row_ind, col_ind = linear_sum_assignment(cost_matrix)\n",
    "    return cost_matrix, row_ind, col_ind\n",
    "\n",
    "\n",
    "def make_isotropic(xyz, correction, dimen=2):\n",
    "    \"\"\"\n",
    "    Correct anisotropy in a collection of x, y, z coordinates.\n",
    "    This function performs a deepcopy of xyz before making the necessary modifications.\n",
    "    Parameters\n",
    "    ----------\n",
    "    xyz : numpy.ndarray or pandas.DataFrame:\n",
    "        The coordinate values.\n",
    "    correction : float\n",
    "        The value to correct anisotrophy.\n",
    "    dimen : int\n",
    "        Index of last dimension to which to apply the correction. Default is 2.\n",
    "    Returns\n",
    "    -------\n",
    "    iso_xyz : numpy.ndarray or pandas.DataFrame\n",
    "        An isotropic version of xyz.\n",
    "    \"\"\"\n",
    "\n",
    "    if not isinstance(xyz, np.ndarray) and not isinstance(xyz, pd.DataFrame):\n",
    "        xyz = np.asarray(xyz)\n",
    "\n",
    "    shape = np.shape(xyz)\n",
    "    isotropic_xyz = xyz.copy()\n",
    "    size = shape[-1]\n",
    "    if dimen >= size or dimen < 0:\n",
    "        raise ValueError(\n",
    "            \"improper dimen value (valid: 0 through {})\".format(size - 1))\n",
    "    if isinstance(xyz, np.ndarray):\n",
    "        isotropic_xyz[..., dimen] = isotropic_xyz[..., dimen] * correction\n",
    "    else:\n",
    "        isotropic_xyz.iloc[:, dimen] = isotropic_xyz.iloc[:,\n",
    "                                                          dimen] * correction\n",
    "    return isotropic_xyz\n"
   ]
  },
  {
   "cell_type": "code",
   "execution_count": 16,
   "metadata": {},
   "outputs": [],
   "source": [
    "\"\"\"\n",
    "Confirms synapse processing and analysis functions.\n",
    "\"\"\"\n",
    "from collections import namedtuple\n",
    "\n",
    "import numpy as np\n",
    "import pandas as pd\n",
    "from scipy import spatial\n",
    "from scipy.optimize import linear_sum_assignment\n",
    "\n",
    "# from . import utils\n",
    "# import utils\n",
    "\n",
    "SynapseMetrics = namedtuple(\n",
    "    \"SynapseMetrics\",\n",
    "    [\"precision\", \"recall\", \"f1\", \"tp_gt_ids\", \"tp_test_ids\", \"fp_ids\", \"fn_ids\"],\n",
    ")\n",
    "\n",
    "\n",
    "def filter_synapse_id_core(volume, xyz, ids, box_radius_nm=2500):\n",
    "    \"\"\"\n",
    "    Filter synapses to only return those within a central core.\n",
    "    Parameters\n",
    "    ----------\n",
    "    volume : dict\n",
    "        The volume to filter on.\n",
    "    xyz : array_like\n",
    "        Synapse xyz coordinates.\n",
    "    ids : array_like\n",
    "        Synapse hash (ids).\n",
    "    box_radius_nm : int\n",
    "        radius of cube, from volume core.\n",
    "    Returns\n",
    "    -------\n",
    "        xyz : numpy.ndarray\n",
    "            Synapse coordinates.\n",
    "        ids : numpy.ndarray\n",
    "            Synapse ids.\n",
    "    \"\"\"\n",
    "\n",
    "    xyz_out = []\n",
    "    id_out = []\n",
    "    center = np.asarray(volume[\"center\"], \"float\")\n",
    "    base_resolution = np.asarray(volume[\"base_resolution\"], \"float\")\n",
    "    annotation_resolution = np.asarray(volume[\"resolution\"], \"float\")\n",
    "\n",
    "    pad_vx = box_radius_nm / base_resolution[0] / (2 ** annotation_resolution)\n",
    "    pad_vy = box_radius_nm / base_resolution[1] / (2 ** annotation_resolution)\n",
    "    pad_vz = box_radius_nm / base_resolution[2]\n",
    "    xr = (center[0] - pad_vx, center[0] + pad_vx)\n",
    "    yr = (center[1] - pad_vy, center[1] + pad_vy)\n",
    "    zr = (center[2] - pad_vz, center[2] + pad_vz)\n",
    "\n",
    "    for i in range(len(xyz)):\n",
    "        x = xyz[i][0]\n",
    "        y = xyz[i][1]\n",
    "        z = xyz[i][2]\n",
    "\n",
    "        if (\n",
    "            x > xr[0]\n",
    "            and x < xr[1]\n",
    "            and y > yr[0]\n",
    "            and y < yr[1]\n",
    "            and z > zr[0]\n",
    "            and z < zr[1]\n",
    "        ):\n",
    "            xyz_out.append(xyz[i])\n",
    "            id_out.append(ids[i])\n",
    "\n",
    "    return np.array(xyz_out), np.array(id_out, dtype=np.object)\n",
    "\n",
    "\n",
    "def synapse_match(\n",
    "    xyz_truth, xyz_detect, id_truth, id_detect, thresh\n",
    "):  # pylint: disable=R0914\n",
    "    \"\"\"\n",
    "    <Description here>\n",
    "    Parameters\n",
    "    ----------\n",
    "    xyz_truth : array_like\n",
    "        <description>\n",
    "    xyz_detect : array_like\n",
    "        <description>\n",
    "    id_truth : array_like\n",
    "        <description>\n",
    "    id_detech : array_like\n",
    "        <description>\n",
    "    thresh : float\n",
    "        <description>\n",
    "    Returns\n",
    "    -------\n",
    "    id_lookup : <type>\n",
    "        <description>\n",
    "    \"\"\"\n",
    "\n",
    "    # pylint: disable=C0103\n",
    "\n",
    "    # Ensure we have numpy arrays\n",
    "    xyz_truth = np.asarray(xyz_truth)\n",
    "    xyz_detect = np.asarray(xyz_detect)\n",
    "    id_truth = np.asarray(id_truth)\n",
    "    id_detect = np.asarray(id_detect)\n",
    "\n",
    "    cost, row_ind, col_ind = munkres_assignment(xyz_truth, xyz_detect)\n",
    "    print(cost)\n",
    "    match_idx = np.where(cost[row_ind, col_ind] < thresh)\n",
    "\n",
    "    if len(match_idx) > 0:\n",
    "        # row is idx of GT TP\n",
    "        # col is idx of student TP\n",
    "        gt_tp_idx, det_tp_idx = row_ind[match_idx], col_ind[match_idx]\n",
    "        gt_tp_ids, det_tp_ids = id_truth[gt_tp_idx], id_detect[det_tp_idx]\n",
    "        # Combine into pairs\n",
    "        id_lookup = np.column_stack((gt_tp_ids, det_tp_ids))\n",
    "    else:\n",
    "        gt_tp_idx = []\n",
    "        det_tp_idx = []\n",
    "        id_lookup = np.column_stack(\n",
    "            (np.array([], dtype=\"object\"), np.array([], dtype=\"object\"))\n",
    "        )\n",
    "\n",
    "    # not in row (set diff) are FN\n",
    "    gt_syn_idx = np.arange(0, len(xyz_truth))\n",
    "    fn_idx = np.setdiff1d(gt_syn_idx, gt_tp_idx)\n",
    "    if len(fn_idx) > 0:\n",
    "        fn_ids = id_truth[fn_idx]\n",
    "        id_lookup_fn = np.column_stack((fn_ids, np.repeat(None, len(fn_ids))))\n",
    "        id_lookup = np.concatenate((id_lookup, id_lookup_fn))\n",
    "\n",
    "    # not in col (set diff) are FP\n",
    "    det_syn_idx = set(np.arange(0, len(xyz_detect)))\n",
    "    fp_idx = np.asarray(list(det_syn_idx.difference(det_tp_idx)))\n",
    "    if len(fp_idx) > 0:\n",
    "        fp_ids = id_detect[fp_idx]\n",
    "        id_lookup_fp = np.column_stack((np.repeat(None, len(fp_ids)), fp_ids))\n",
    "        id_lookup = np.concatenate((id_lookup, id_lookup_fp))\n",
    "\n",
    "    return pd.DataFrame(id_lookup, columns=[\"ground_truth\", \"detect\"])\n",
    "\n",
    "\n",
    "def run_synapse_analysis(\n",
    "    gt_xyzs,\n",
    "    gt_ids,\n",
    "    test_xyzs,\n",
    "    test_ids,\n",
    "    threshold,\n",
    "    iso_corrected=False,\n",
    "    iso_correction=1,\n",
    "):\n",
    "    \"\"\"\n",
    "    <Description here>\n",
    "    Parameters\n",
    "    ----------\n",
    "    gt_xyzs : numpy.ndarray\n",
    "        Array of ground truth xyz coordinates\n",
    "    gt_ids : numpy.ndarray\n",
    "        Array of ids associated with ground truth xyz coordinates\n",
    "    test_xyzs : numpy.ndarray\n",
    "        Array of test xyz coordinates\n",
    "    test_ids : numpy.ndarray\n",
    "        Array of ids associated with test xyz coordinates\n",
    "    threshold : float\n",
    "        Synapse matching threshold\n",
    "    iso_corrected : boolean\n",
    "        Mark whether the data is isotropic. If not, it will be made isotropic using the\n",
    "        `iso_correction` parameter.\n",
    "    iso_correction : float\n",
    "        Value to correct anistropy.\n",
    "    Returns\n",
    "    -------\n",
    "    sm : SynapseMetrics\n",
    "        Resultant object containing precision, recall, and F1 scores, along with\n",
    "        with true positive (both ground truth and test), false positive, and false negative\n",
    "        ids.\n",
    "    \"\"\"\n",
    "    # pylint: disable=R0913,R0914\n",
    "    if not iso_corrected:\n",
    "        # gt_xyzs = utils.make_isotropic(gt_xyzs, iso_correction)\n",
    "        gt_xyzs = make_isotropic(gt_xyzs, iso_correction)\n",
    "        # test_xyzs = utils.make_isotropic(test_xyzs, iso_correction)\n",
    "        test_xyzs = make_isotropic(test_xyzs, iso_correction)\n",
    "\n",
    "    results_table = synapse_match(\n",
    "        gt_xyzs, test_xyzs, gt_ids, test_ids, threshold)\n",
    "\n",
    "    tp = results_table.dropna()\n",
    "    fn = results_table[results_table.detect.isnull()]\n",
    "    fp = results_table[results_table.ground_truth.isnull()]\n",
    "\n",
    "    assert len(tp.ground_truth) == len(\n",
    "        tp.detect\n",
    "    ), \"true positive ground truth and test size mismatch\"\n",
    "\n",
    "    tp_count = len(tp)\n",
    "    fp_count = len(fp)\n",
    "    fn_count = len(fn)\n",
    "\n",
    "    try:\n",
    "        # precision, recall = utils.calculate_precision_recall(\n",
    "        #     tp_count, fp_count, fn_count\n",
    "        # )\n",
    "\n",
    "        precision, recall = calculate_precision_recall(\n",
    "            tp_count, fp_count, fn_count\n",
    "        )\n",
    "\n",
    "    except ZeroDivisionError:\n",
    "        precision, recall = np.nan, np.nan\n",
    "\n",
    "    try:\n",
    "        # f1 = utils.calculate_f1(precision, recall)\n",
    "        f1 = calculate_f1(precision, recall)\n",
    "    except ZeroDivisionError:\n",
    "        f1 = np.nan\n",
    "\n",
    "    sm = SynapseMetrics(\n",
    "        precision=precision,\n",
    "        recall=recall,\n",
    "        f1=f1,\n",
    "        tp_gt_ids=np.asarray(tp.ground_truth),\n",
    "        tp_test_ids=np.asarray(tp.detect),\n",
    "        fp_ids=np.asarray(fp.detect),\n",
    "        fn_ids=np.asarray(fn.ground_truth),\n",
    "    )\n",
    "    return sm\n"
   ]
  },
  {
   "cell_type": "markdown",
   "metadata": {},
   "source": [
    "### Running metrics"
   ]
  },
  {
   "cell_type": "code",
   "execution_count": 34,
   "metadata": {},
   "outputs": [],
   "source": [
    "# Loading in data\n",
    "load = pd.read_csv(\"agents/Data/endpoints_gt5.csv\")\n",
    "endpoints_dict = {}\n",
    "\n",
    "# #creating series objects for the desired collumns\n",
    "# segIDs = load['seg_id']\n",
    "# Endpoints = load['endpoints']\n"
   ]
  },
  {
   "cell_type": "code",
   "execution_count": 35,
   "metadata": {},
   "outputs": [],
   "source": [
    "# Generate out_df\n",
    "\n",
    "out_df = pd.DataFrame(columns=[\"run\", \"precision\", \"recall\", \"f1\", \"seg_id\",\n",
    "                      \"num_endpoints\", \"endpoints\", \"comments\", \"proposed_endpoints\"])\n"
   ]
  },
  {
   "cell_type": "code",
   "execution_count": 36,
   "metadata": {},
   "outputs": [
    {
     "name": "stderr",
     "output_type": "stream",
     "text": [
      "07/29/2022 11:11:43 AM WARNING: face_normals incorrect shape, ignoring! \n"
     ]
    },
    {
     "name": "stdout",
     "output_type": "stream",
     "text": [
      "Warning: deduplication not currently supported for this layer's variable layered draco meshes\n"
     ]
    },
    {
     "name": "stderr",
     "output_type": "stream",
     "text": [
      "100%|██████████| 3996/3996 [00:00<00:00, 367311.83it/s]\n",
      "07/29/2022 11:11:45 AM WARNING: face_normals incorrect shape, ignoring! \n"
     ]
    },
    {
     "name": "stdout",
     "output_type": "stream",
     "text": [
      "Warning: deduplication not currently supported for this layer's variable layered draco meshes\n"
     ]
    },
    {
     "name": "stderr",
     "output_type": "stream",
     "text": [
      "  0%|          | 0/10649 [00:00<?, ?it/s]/Library/Frameworks/Python.framework/Versions/3.8/lib/python3.8/site-packages/meshparty/skeletonize.py:613: RuntimeWarning: invalid value encountered in multiply\n",
      "  target = np.nanargmax(root_ds * valid)\n",
      "100%|██████████| 10649/10649 [00:00<00:00, 471509.41it/s]\n",
      "07/29/2022 11:11:48 AM WARNING: face_normals incorrect shape, ignoring! \n"
     ]
    },
    {
     "name": "stdout",
     "output_type": "stream",
     "text": [
      "Warning: deduplication not currently supported for this layer's variable layered draco meshes\n"
     ]
    },
    {
     "name": "stderr",
     "output_type": "stream",
     "text": [
      "100%|██████████| 1140/1140 [00:00<00:00, 244904.04it/s]\n",
      "07/29/2022 11:11:53 AM WARNING: face_normals incorrect shape, ignoring! \n"
     ]
    },
    {
     "name": "stdout",
     "output_type": "stream",
     "text": [
      "Warning: deduplication not currently supported for this layer's variable layered draco meshes\n"
     ]
    },
    {
     "name": "stderr",
     "output_type": "stream",
     "text": [
      "100%|██████████| 91377/91377 [00:00<00:00, 189416.89it/s]\n",
      "07/29/2022 11:12:04 AM WARNING: face_normals incorrect shape, ignoring! \n"
     ]
    },
    {
     "name": "stdout",
     "output_type": "stream",
     "text": [
      "Warning: deduplication not currently supported for this layer's variable layered draco meshes\n"
     ]
    },
    {
     "name": "stderr",
     "output_type": "stream",
     "text": [
      "100%|██████████| 117/117 [00:00<00:00, 57658.74it/s]\n",
      "07/29/2022 11:12:05 AM WARNING: face_normals incorrect shape, ignoring! \n"
     ]
    },
    {
     "name": "stdout",
     "output_type": "stream",
     "text": [
      "Warning: deduplication not currently supported for this layer's variable layered draco meshes\n"
     ]
    },
    {
     "name": "stderr",
     "output_type": "stream",
     "text": [
      "100%|██████████| 725/725 [00:00<00:00, 283425.33it/s]\n",
      "07/29/2022 11:12:07 AM WARNING: face_normals incorrect shape, ignoring! \n"
     ]
    },
    {
     "name": "stdout",
     "output_type": "stream",
     "text": [
      "Warning: deduplication not currently supported for this layer's variable layered draco meshes\n"
     ]
    },
    {
     "name": "stderr",
     "output_type": "stream",
     "text": [
      "100%|██████████| 3024/3024 [00:00<00:00, 406563.94it/s]\n",
      "07/29/2022 11:12:08 AM WARNING: face_normals incorrect shape, ignoring! \n"
     ]
    },
    {
     "name": "stdout",
     "output_type": "stream",
     "text": [
      "Warning: deduplication not currently supported for this layer's variable layered draco meshes\n"
     ]
    },
    {
     "name": "stderr",
     "output_type": "stream",
     "text": [
      "100%|██████████| 590/590 [00:00<00:00, 107921.47it/s]\n",
      "07/29/2022 11:12:11 AM WARNING: face_normals incorrect shape, ignoring! \n"
     ]
    },
    {
     "name": "stdout",
     "output_type": "stream",
     "text": [
      "Warning: deduplication not currently supported for this layer's variable layered draco meshes\n"
     ]
    },
    {
     "name": "stderr",
     "output_type": "stream",
     "text": [
      "100%|██████████| 33205/33205 [00:00<00:00, 137580.18it/s]\n",
      "07/29/2022 11:12:15 AM WARNING: face_normals incorrect shape, ignoring! \n"
     ]
    },
    {
     "name": "stdout",
     "output_type": "stream",
     "text": [
      "Warning: deduplication not currently supported for this layer's variable layered draco meshes\n"
     ]
    },
    {
     "name": "stderr",
     "output_type": "stream",
     "text": [
      "100%|██████████| 338/338 [00:00<00:00, 174848.88it/s]\n",
      "07/29/2022 11:12:17 AM WARNING: face_normals incorrect shape, ignoring! \n"
     ]
    },
    {
     "name": "stdout",
     "output_type": "stream",
     "text": [
      "Warning: deduplication not currently supported for this layer's variable layered draco meshes\n"
     ]
    },
    {
     "name": "stderr",
     "output_type": "stream",
     "text": [
      "100%|██████████| 5856/5856 [00:00<00:00, 229734.59it/s]\n",
      "07/29/2022 11:12:18 AM WARNING: face_normals incorrect shape, ignoring! \n"
     ]
    },
    {
     "name": "stdout",
     "output_type": "stream",
     "text": [
      "Warning: deduplication not currently supported for this layer's variable layered draco meshes\n"
     ]
    },
    {
     "name": "stderr",
     "output_type": "stream",
     "text": [
      "100%|██████████| 7270/7270 [00:00<00:00, 505429.97it/s]\n",
      "07/29/2022 11:12:20 AM WARNING: face_normals incorrect shape, ignoring! \n"
     ]
    },
    {
     "name": "stdout",
     "output_type": "stream",
     "text": [
      "Warning: deduplication not currently supported for this layer's variable layered draco meshes\n"
     ]
    },
    {
     "name": "stderr",
     "output_type": "stream",
     "text": [
      "100%|██████████| 12420/12420 [00:00<00:00, 516060.94it/s]\n",
      "07/29/2022 11:12:23 AM WARNING: face_normals incorrect shape, ignoring! \n"
     ]
    },
    {
     "name": "stdout",
     "output_type": "stream",
     "text": [
      "Warning: deduplication not currently supported for this layer's variable layered draco meshes\n"
     ]
    },
    {
     "name": "stderr",
     "output_type": "stream",
     "text": [
      "100%|██████████| 11545/11545 [00:00<00:00, 683548.22it/s]\n",
      "07/29/2022 11:12:25 AM WARNING: face_normals incorrect shape, ignoring! \n"
     ]
    },
    {
     "name": "stdout",
     "output_type": "stream",
     "text": [
      "Warning: deduplication not currently supported for this layer's variable layered draco meshes\n",
      "\n",
      "\n",
      "Seg 864691133692934758 returned error on get. Skipping.\n",
      "\n"
     ]
    },
    {
     "name": "stderr",
     "output_type": "stream",
     "text": [
      "07/29/2022 11:12:26 AM WARNING: face_normals incorrect shape, ignoring! \n"
     ]
    },
    {
     "name": "stdout",
     "output_type": "stream",
     "text": [
      "Warning: deduplication not currently supported for this layer's variable layered draco meshes\n"
     ]
    },
    {
     "name": "stderr",
     "output_type": "stream",
     "text": [
      "100%|██████████| 158/158 [00:00<00:00, 101985.23it/s]\n",
      "07/29/2022 11:12:28 AM WARNING: face_normals incorrect shape, ignoring! \n"
     ]
    },
    {
     "name": "stdout",
     "output_type": "stream",
     "text": [
      "Warning: deduplication not currently supported for this layer's variable layered draco meshes\n"
     ]
    },
    {
     "name": "stderr",
     "output_type": "stream",
     "text": [
      "100%|██████████| 1243/1243 [00:00<00:00, 241456.09it/s]\n",
      "07/29/2022 11:12:29 AM WARNING: face_normals incorrect shape, ignoring! \n"
     ]
    },
    {
     "name": "stdout",
     "output_type": "stream",
     "text": [
      "Warning: deduplication not currently supported for this layer's variable layered draco meshes\n",
      "\n",
      "\n",
      "Seg 864691133946526057 returned error on get. Skipping.\n",
      "\n"
     ]
    },
    {
     "name": "stderr",
     "output_type": "stream",
     "text": [
      "07/29/2022 11:12:30 AM WARNING: face_normals incorrect shape, ignoring! \n"
     ]
    },
    {
     "name": "stdout",
     "output_type": "stream",
     "text": [
      "Warning: deduplication not currently supported for this layer's variable layered draco meshes\n",
      "\n",
      "\n",
      "Seg 864691133712131152 returned error on get. Skipping.\n",
      "\n"
     ]
    },
    {
     "name": "stderr",
     "output_type": "stream",
     "text": [
      "07/29/2022 11:12:31 AM WARNING: face_normals incorrect shape, ignoring! \n"
     ]
    },
    {
     "name": "stdout",
     "output_type": "stream",
     "text": [
      "Warning: deduplication not currently supported for this layer's variable layered draco meshes\n"
     ]
    },
    {
     "name": "stderr",
     "output_type": "stream",
     "text": [
      "100%|██████████| 204/204 [00:00<00:00, 111848.11it/s]\n",
      "07/29/2022 11:12:34 AM WARNING: face_normals incorrect shape, ignoring! \n"
     ]
    },
    {
     "name": "stdout",
     "output_type": "stream",
     "text": [
      "Warning: deduplication not currently supported for this layer's variable layered draco meshes\n"
     ]
    },
    {
     "name": "stderr",
     "output_type": "stream",
     "text": [
      "100%|██████████| 22603/22603 [00:00<00:00, 415372.78it/s]\n",
      "07/29/2022 11:12:37 AM WARNING: face_normals incorrect shape, ignoring! \n"
     ]
    },
    {
     "name": "stdout",
     "output_type": "stream",
     "text": [
      "Warning: deduplication not currently supported for this layer's variable layered draco meshes\n"
     ]
    },
    {
     "name": "stderr",
     "output_type": "stream",
     "text": [
      "100%|██████████| 3568/3568 [00:00<00:00, 403354.99it/s]\n",
      "07/29/2022 11:12:39 AM WARNING: face_normals incorrect shape, ignoring! \n"
     ]
    },
    {
     "name": "stdout",
     "output_type": "stream",
     "text": [
      "Warning: deduplication not currently supported for this layer's variable layered draco meshes\n",
      "\n",
      "\n",
      "Seg 864691133678427777 returned error on get. Skipping.\n",
      "\n"
     ]
    },
    {
     "name": "stderr",
     "output_type": "stream",
     "text": [
      "07/29/2022 11:12:40 AM WARNING: face_normals incorrect shape, ignoring! \n"
     ]
    },
    {
     "name": "stdout",
     "output_type": "stream",
     "text": [
      "Warning: deduplication not currently supported for this layer's variable layered draco meshes\n"
     ]
    },
    {
     "name": "stderr",
     "output_type": "stream",
     "text": [
      "100%|██████████| 556/556 [00:00<00:00, 301179.52it/s]\n",
      "07/29/2022 11:12:42 AM WARNING: face_normals incorrect shape, ignoring! \n"
     ]
    },
    {
     "name": "stdout",
     "output_type": "stream",
     "text": [
      "Warning: deduplication not currently supported for this layer's variable layered draco meshes\n"
     ]
    },
    {
     "name": "stderr",
     "output_type": "stream",
     "text": [
      "100%|██████████| 1119/1119 [00:00<00:00, 212574.22it/s]\n",
      "07/29/2022 11:12:43 AM WARNING: face_normals incorrect shape, ignoring! \n"
     ]
    },
    {
     "name": "stdout",
     "output_type": "stream",
     "text": [
      "Warning: deduplication not currently supported for this layer's variable layered draco meshes\n"
     ]
    },
    {
     "name": "stderr",
     "output_type": "stream",
     "text": [
      "100%|██████████| 3576/3576 [00:00<00:00, 329673.62it/s]\n",
      "07/29/2022 11:12:45 AM WARNING: face_normals incorrect shape, ignoring! \n"
     ]
    },
    {
     "name": "stdout",
     "output_type": "stream",
     "text": [
      "Warning: deduplication not currently supported for this layer's variable layered draco meshes\n"
     ]
    },
    {
     "name": "stderr",
     "output_type": "stream",
     "text": [
      "100%|██████████| 230/230 [00:00<00:00, 150029.54it/s]\n",
      "07/29/2022 11:12:46 AM WARNING: face_normals incorrect shape, ignoring! \n"
     ]
    },
    {
     "name": "stdout",
     "output_type": "stream",
     "text": [
      "Warning: deduplication not currently supported for this layer's variable layered draco meshes\n"
     ]
    },
    {
     "name": "stderr",
     "output_type": "stream",
     "text": [
      "100%|██████████| 1402/1402 [00:00<00:00, 314932.21it/s]\n",
      "07/29/2022 11:12:47 AM WARNING: face_normals incorrect shape, ignoring! \n"
     ]
    },
    {
     "name": "stdout",
     "output_type": "stream",
     "text": [
      "Warning: deduplication not currently supported for this layer's variable layered draco meshes\n",
      "\n",
      "\n",
      "Seg 864691133766052845 returned error on get. Skipping.\n",
      "\n"
     ]
    },
    {
     "name": "stderr",
     "output_type": "stream",
     "text": [
      "07/29/2022 11:12:48 AM WARNING: face_normals incorrect shape, ignoring! \n"
     ]
    },
    {
     "name": "stdout",
     "output_type": "stream",
     "text": [
      "Warning: deduplication not currently supported for this layer's variable layered draco meshes\n"
     ]
    },
    {
     "name": "stderr",
     "output_type": "stream",
     "text": [
      "100%|██████████| 1499/1499 [00:00<00:00, 252957.62it/s]\n",
      "07/29/2022 11:12:50 AM WARNING: face_normals incorrect shape, ignoring! \n"
     ]
    },
    {
     "name": "stdout",
     "output_type": "stream",
     "text": [
      "Warning: deduplication not currently supported for this layer's variable layered draco meshes\n"
     ]
    },
    {
     "name": "stderr",
     "output_type": "stream",
     "text": [
      "100%|██████████| 14992/14992 [00:00<00:00, 594377.75it/s]\n",
      "07/29/2022 11:12:53 AM WARNING: face_normals incorrect shape, ignoring! \n"
     ]
    },
    {
     "name": "stdout",
     "output_type": "stream",
     "text": [
      "Warning: deduplication not currently supported for this layer's variable layered draco meshes\n"
     ]
    },
    {
     "name": "stderr",
     "output_type": "stream",
     "text": [
      "100%|██████████| 351/351 [00:00<00:00, 117908.11it/s]\n",
      "07/29/2022 11:12:54 AM WARNING: face_normals incorrect shape, ignoring! \n"
     ]
    },
    {
     "name": "stdout",
     "output_type": "stream",
     "text": [
      "Warning: deduplication not currently supported for this layer's variable layered draco meshes\n"
     ]
    },
    {
     "name": "stderr",
     "output_type": "stream",
     "text": [
      "100%|██████████| 3586/3586 [00:00<00:00, 423433.30it/s]\n",
      "07/29/2022 11:12:55 AM WARNING: face_normals incorrect shape, ignoring! \n"
     ]
    },
    {
     "name": "stdout",
     "output_type": "stream",
     "text": [
      "Warning: deduplication not currently supported for this layer's variable layered draco meshes\n"
     ]
    },
    {
     "name": "stderr",
     "output_type": "stream",
     "text": [
      "100%|██████████| 5274/5274 [00:00<00:00, 650476.65it/s]\n",
      "07/29/2022 11:12:57 AM WARNING: face_normals incorrect shape, ignoring! \n"
     ]
    },
    {
     "name": "stdout",
     "output_type": "stream",
     "text": [
      "Warning: deduplication not currently supported for this layer's variable layered draco meshes\n"
     ]
    },
    {
     "name": "stderr",
     "output_type": "stream",
     "text": [
      "100%|██████████| 7026/7026 [00:00<00:00, 540580.03it/s]\n",
      "07/29/2022 11:12:59 AM WARNING: face_normals incorrect shape, ignoring! \n"
     ]
    },
    {
     "name": "stdout",
     "output_type": "stream",
     "text": [
      "Warning: deduplication not currently supported for this layer's variable layered draco meshes\n"
     ]
    },
    {
     "name": "stderr",
     "output_type": "stream",
     "text": [
      "100%|██████████| 2368/2368 [00:00<00:00, 467041.84it/s]\n",
      "07/29/2022 11:13:01 AM WARNING: face_normals incorrect shape, ignoring! \n"
     ]
    },
    {
     "name": "stdout",
     "output_type": "stream",
     "text": [
      "Warning: deduplication not currently supported for this layer's variable layered draco meshes\n"
     ]
    },
    {
     "name": "stderr",
     "output_type": "stream",
     "text": [
      "100%|██████████| 4525/4525 [00:00<00:00, 396714.65it/s]\n",
      "07/29/2022 11:13:03 AM WARNING: face_normals incorrect shape, ignoring! \n"
     ]
    },
    {
     "name": "stdout",
     "output_type": "stream",
     "text": [
      "Warning: deduplication not currently supported for this layer's variable layered draco meshes\n"
     ]
    },
    {
     "name": "stderr",
     "output_type": "stream",
     "text": [
      "100%|██████████| 15505/15505 [00:00<00:00, 530121.73it/s]\n",
      "07/29/2022 11:13:08 AM WARNING: face_normals incorrect shape, ignoring! \n"
     ]
    },
    {
     "name": "stdout",
     "output_type": "stream",
     "text": [
      "Warning: deduplication not currently supported for this layer's variable layered draco meshes\n"
     ]
    },
    {
     "name": "stderr",
     "output_type": "stream",
     "text": [
      "100%|██████████| 28900/28900 [00:00<00:00, 300311.63it/s]\n",
      "07/29/2022 11:13:13 AM WARNING: face_normals incorrect shape, ignoring! \n"
     ]
    },
    {
     "name": "stdout",
     "output_type": "stream",
     "text": [
      "Warning: deduplication not currently supported for this layer's variable layered draco meshes\n"
     ]
    },
    {
     "name": "stderr",
     "output_type": "stream",
     "text": [
      "100%|██████████| 6582/6582 [00:00<00:00, 512406.20it/s]\n",
      "07/29/2022 11:13:19 AM WARNING: face_normals incorrect shape, ignoring! \n"
     ]
    },
    {
     "name": "stdout",
     "output_type": "stream",
     "text": [
      "Warning: deduplication not currently supported for this layer's variable layered draco meshes\n"
     ]
    },
    {
     "name": "stderr",
     "output_type": "stream",
     "text": [
      "100%|██████████| 105180/105180 [00:00<00:00, 207962.31it/s]\n",
      "07/29/2022 11:13:33 AM WARNING: face_normals incorrect shape, ignoring! \n"
     ]
    },
    {
     "name": "stdout",
     "output_type": "stream",
     "text": [
      "Warning: deduplication not currently supported for this layer's variable layered draco meshes\n"
     ]
    },
    {
     "name": "stderr",
     "output_type": "stream",
     "text": [
      "100%|██████████| 18513/18513 [00:00<00:00, 412334.32it/s]\n",
      "07/29/2022 11:13:38 AM WARNING: face_normals incorrect shape, ignoring! \n"
     ]
    },
    {
     "name": "stdout",
     "output_type": "stream",
     "text": [
      "Warning: deduplication not currently supported for this layer's variable layered draco meshes\n"
     ]
    },
    {
     "name": "stderr",
     "output_type": "stream",
     "text": [
      "100%|██████████| 15061/15061 [00:00<00:00, 340423.86it/s]\n",
      "07/29/2022 11:13:42 AM WARNING: face_normals incorrect shape, ignoring! \n"
     ]
    },
    {
     "name": "stdout",
     "output_type": "stream",
     "text": [
      "Warning: deduplication not currently supported for this layer's variable layered draco meshes\n"
     ]
    },
    {
     "name": "stderr",
     "output_type": "stream",
     "text": [
      "100%|██████████| 14865/14865 [00:00<00:00, 622537.03it/s]\n",
      "07/29/2022 11:13:51 AM WARNING: face_normals incorrect shape, ignoring! \n"
     ]
    },
    {
     "name": "stdout",
     "output_type": "stream",
     "text": [
      "Warning: deduplication not currently supported for this layer's variable layered draco meshes\n"
     ]
    },
    {
     "name": "stderr",
     "output_type": "stream",
     "text": [
      "100%|██████████| 73820/73820 [00:01<00:00, 50825.62it/s] \n",
      "07/29/2022 11:14:08 AM WARNING: face_normals incorrect shape, ignoring! \n"
     ]
    },
    {
     "name": "stdout",
     "output_type": "stream",
     "text": [
      "Warning: deduplication not currently supported for this layer's variable layered draco meshes\n"
     ]
    },
    {
     "name": "stderr",
     "output_type": "stream",
     "text": [
      "100%|██████████| 5791/5791 [00:00<00:00, 561626.31it/s]\n",
      "07/29/2022 11:14:10 AM WARNING: face_normals incorrect shape, ignoring! \n"
     ]
    },
    {
     "name": "stdout",
     "output_type": "stream",
     "text": [
      "Warning: deduplication not currently supported for this layer's variable layered draco meshes\n"
     ]
    },
    {
     "name": "stderr",
     "output_type": "stream",
     "text": [
      "100%|██████████| 14714/14714 [00:00<00:00, 294074.15it/s]\n",
      "07/29/2022 11:14:14 AM WARNING: face_normals incorrect shape, ignoring! \n"
     ]
    },
    {
     "name": "stdout",
     "output_type": "stream",
     "text": [
      "Warning: deduplication not currently supported for this layer's variable layered draco meshes\n"
     ]
    },
    {
     "name": "stderr",
     "output_type": "stream",
     "text": [
      "100%|██████████| 12530/12530 [00:00<00:00, 437944.29it/s]\n",
      "07/29/2022 11:14:18 AM WARNING: face_normals incorrect shape, ignoring! \n"
     ]
    },
    {
     "name": "stdout",
     "output_type": "stream",
     "text": [
      "Warning: deduplication not currently supported for this layer's variable layered draco meshes\n"
     ]
    },
    {
     "name": "stderr",
     "output_type": "stream",
     "text": [
      "100%|██████████| 26058/26058 [00:00<00:00, 627613.78it/s]\n",
      "07/29/2022 11:14:30 AM WARNING: face_normals incorrect shape, ignoring! \n"
     ]
    },
    {
     "name": "stdout",
     "output_type": "stream",
     "text": [
      "Warning: deduplication not currently supported for this layer's variable layered draco meshes\n"
     ]
    },
    {
     "name": "stderr",
     "output_type": "stream",
     "text": [
      "100%|██████████| 210150/210150 [00:01<00:00, 108325.02it/s]\n",
      "07/29/2022 11:14:57 AM WARNING: face_normals incorrect shape, ignoring! \n"
     ]
    },
    {
     "name": "stdout",
     "output_type": "stream",
     "text": [
      "Warning: deduplication not currently supported for this layer's variable layered draco meshes\n"
     ]
    },
    {
     "name": "stderr",
     "output_type": "stream",
     "text": [
      "100%|██████████| 3699/3699 [00:00<00:00, 457297.45it/s]\n",
      "07/29/2022 11:14:59 AM WARNING: face_normals incorrect shape, ignoring! \n"
     ]
    },
    {
     "name": "stdout",
     "output_type": "stream",
     "text": [
      "Warning: deduplication not currently supported for this layer's variable layered draco meshes\n"
     ]
    },
    {
     "name": "stderr",
     "output_type": "stream",
     "text": [
      "100%|██████████| 8352/8352 [00:00<00:00, 527397.96it/s]\n",
      "07/29/2022 11:15:04 AM WARNING: face_normals incorrect shape, ignoring! \n"
     ]
    },
    {
     "name": "stdout",
     "output_type": "stream",
     "text": [
      "Warning: deduplication not currently supported for this layer's variable layered draco meshes\n"
     ]
    },
    {
     "name": "stderr",
     "output_type": "stream",
     "text": [
      "100%|██████████| 17575/17575 [00:00<00:00, 665068.77it/s]\n",
      "07/29/2022 11:15:08 AM WARNING: face_normals incorrect shape, ignoring! \n"
     ]
    },
    {
     "name": "stdout",
     "output_type": "stream",
     "text": [
      "Warning: deduplication not currently supported for this layer's variable layered draco meshes\n"
     ]
    },
    {
     "name": "stderr",
     "output_type": "stream",
     "text": [
      "100%|██████████| 17800/17800 [00:00<00:00, 270187.97it/s]\n",
      "07/29/2022 11:15:11 AM WARNING: face_normals incorrect shape, ignoring! \n"
     ]
    },
    {
     "name": "stdout",
     "output_type": "stream",
     "text": [
      "Warning: deduplication not currently supported for this layer's variable layered draco meshes\n"
     ]
    },
    {
     "name": "stderr",
     "output_type": "stream",
     "text": [
      "100%|██████████| 1644/1644 [00:00<00:00, 203435.19it/s]\n",
      "07/29/2022 11:15:13 AM WARNING: face_normals incorrect shape, ignoring! \n"
     ]
    },
    {
     "name": "stdout",
     "output_type": "stream",
     "text": [
      "Warning: deduplication not currently supported for this layer's variable layered draco meshes\n"
     ]
    },
    {
     "name": "stderr",
     "output_type": "stream",
     "text": [
      "100%|██████████| 11380/11380 [00:00<00:00, 508378.83it/s]\n",
      "07/29/2022 11:15:15 AM WARNING: face_normals incorrect shape, ignoring! \n"
     ]
    },
    {
     "name": "stdout",
     "output_type": "stream",
     "text": [
      "Warning: deduplication not currently supported for this layer's variable layered draco meshes\n"
     ]
    },
    {
     "name": "stderr",
     "output_type": "stream",
     "text": [
      "100%|██████████| 152/152 [00:00<00:00, 75915.00it/s]\n",
      "07/29/2022 11:15:16 AM WARNING: face_normals incorrect shape, ignoring! \n"
     ]
    },
    {
     "name": "stdout",
     "output_type": "stream",
     "text": [
      "Warning: deduplication not currently supported for this layer's variable layered draco meshes\n"
     ]
    },
    {
     "name": "stderr",
     "output_type": "stream",
     "text": [
      "100%|██████████| 934/934 [00:00<00:00, 119899.61it/s]\n",
      "07/29/2022 11:15:20 AM WARNING: face_normals incorrect shape, ignoring! \n"
     ]
    },
    {
     "name": "stdout",
     "output_type": "stream",
     "text": [
      "Warning: deduplication not currently supported for this layer's variable layered draco meshes\n"
     ]
    },
    {
     "name": "stderr",
     "output_type": "stream",
     "text": [
      "100%|██████████| 73645/73645 [00:00<00:00, 310414.90it/s]\n",
      "07/29/2022 11:15:29 AM WARNING: face_normals incorrect shape, ignoring! \n"
     ]
    },
    {
     "name": "stdout",
     "output_type": "stream",
     "text": [
      "Warning: deduplication not currently supported for this layer's variable layered draco meshes\n"
     ]
    },
    {
     "name": "stderr",
     "output_type": "stream",
     "text": [
      "100%|██████████| 403/403 [00:00<00:00, 103281.47it/s]\n",
      "07/29/2022 11:15:30 AM WARNING: face_normals incorrect shape, ignoring! \n"
     ]
    },
    {
     "name": "stdout",
     "output_type": "stream",
     "text": [
      "Warning: deduplication not currently supported for this layer's variable layered draco meshes\n"
     ]
    },
    {
     "name": "stderr",
     "output_type": "stream",
     "text": [
      "100%|██████████| 5928/5928 [00:00<00:00, 452901.40it/s]\n",
      "07/29/2022 11:15:33 AM WARNING: face_normals incorrect shape, ignoring! \n"
     ]
    },
    {
     "name": "stdout",
     "output_type": "stream",
     "text": [
      "Warning: deduplication not currently supported for this layer's variable layered draco meshes\n"
     ]
    },
    {
     "name": "stderr",
     "output_type": "stream",
     "text": [
      "100%|██████████| 8016/8016 [00:00<00:00, 649214.89it/s]\n",
      "07/29/2022 11:15:34 AM WARNING: face_normals incorrect shape, ignoring! \n"
     ]
    },
    {
     "name": "stdout",
     "output_type": "stream",
     "text": [
      "Warning: deduplication not currently supported for this layer's variable layered draco meshes\n"
     ]
    },
    {
     "name": "stderr",
     "output_type": "stream",
     "text": [
      "100%|██████████| 264/264 [00:00<00:00, 93982.03it/s]\n",
      "07/29/2022 11:15:37 AM WARNING: face_normals incorrect shape, ignoring! \n"
     ]
    },
    {
     "name": "stdout",
     "output_type": "stream",
     "text": [
      "Warning: deduplication not currently supported for this layer's variable layered draco meshes\n"
     ]
    },
    {
     "name": "stderr",
     "output_type": "stream",
     "text": [
      "100%|██████████| 30530/30530 [00:00<00:00, 495503.97it/s]\n",
      "07/29/2022 11:15:41 AM WARNING: face_normals incorrect shape, ignoring! \n"
     ]
    },
    {
     "name": "stdout",
     "output_type": "stream",
     "text": [
      "Warning: deduplication not currently supported for this layer's variable layered draco meshes\n"
     ]
    },
    {
     "name": "stderr",
     "output_type": "stream",
     "text": [
      "100%|██████████| 3806/3806 [00:00<00:00, 498501.73it/s]\n",
      "07/29/2022 11:15:43 AM WARNING: face_normals incorrect shape, ignoring! \n"
     ]
    },
    {
     "name": "stdout",
     "output_type": "stream",
     "text": [
      "Warning: deduplication not currently supported for this layer's variable layered draco meshes\n"
     ]
    },
    {
     "name": "stderr",
     "output_type": "stream",
     "text": [
      "100%|██████████| 7820/7820 [00:00<00:00, 670156.25it/s]\n",
      "07/29/2022 11:15:45 AM WARNING: face_normals incorrect shape, ignoring! \n"
     ]
    },
    {
     "name": "stdout",
     "output_type": "stream",
     "text": [
      "Warning: deduplication not currently supported for this layer's variable layered draco meshes\n",
      "\n",
      "\n",
      "Seg 864691133769133345 returned error on get. Skipping.\n",
      "\n"
     ]
    },
    {
     "name": "stderr",
     "output_type": "stream",
     "text": [
      "07/29/2022 11:15:49 AM WARNING: face_normals incorrect shape, ignoring! \n"
     ]
    },
    {
     "name": "stdout",
     "output_type": "stream",
     "text": [
      "Warning: deduplication not currently supported for this layer's variable layered draco meshes\n"
     ]
    },
    {
     "name": "stderr",
     "output_type": "stream",
     "text": [
      "100%|██████████| 49920/49920 [00:00<00:00, 286435.74it/s]\n",
      "07/29/2022 11:15:57 AM WARNING: face_normals incorrect shape, ignoring! \n"
     ]
    },
    {
     "name": "stdout",
     "output_type": "stream",
     "text": [
      "Warning: deduplication not currently supported for this layer's variable layered draco meshes\n"
     ]
    },
    {
     "name": "stderr",
     "output_type": "stream",
     "text": [
      "100%|██████████| 43892/43892 [00:00<00:00, 446034.77it/s]\n",
      "07/29/2022 11:16:04 AM WARNING: face_normals incorrect shape, ignoring! \n"
     ]
    },
    {
     "name": "stdout",
     "output_type": "stream",
     "text": [
      "Warning: deduplication not currently supported for this layer's variable layered draco meshes\n"
     ]
    },
    {
     "name": "stderr",
     "output_type": "stream",
     "text": [
      "100%|██████████| 19407/19407 [00:00<00:00, 411094.96it/s]\n",
      "07/29/2022 11:16:06 AM WARNING: face_normals incorrect shape, ignoring! \n"
     ]
    },
    {
     "name": "stdout",
     "output_type": "stream",
     "text": [
      "Warning: deduplication not currently supported for this layer's variable layered draco meshes\n"
     ]
    },
    {
     "name": "stderr",
     "output_type": "stream",
     "text": [
      "100%|██████████| 2448/2448 [00:00<00:00, 264364.59it/s]\n",
      "07/29/2022 11:16:10 AM WARNING: face_normals incorrect shape, ignoring! \n"
     ]
    },
    {
     "name": "stdout",
     "output_type": "stream",
     "text": [
      "Warning: deduplication not currently supported for this layer's variable layered draco meshes\n"
     ]
    },
    {
     "name": "stderr",
     "output_type": "stream",
     "text": [
      "100%|██████████| 39637/39637 [00:00<00:00, 269388.53it/s]\n",
      "07/29/2022 11:16:15 AM WARNING: face_normals incorrect shape, ignoring! \n"
     ]
    },
    {
     "name": "stdout",
     "output_type": "stream",
     "text": [
      "Warning: deduplication not currently supported for this layer's variable layered draco meshes\n"
     ]
    },
    {
     "name": "stderr",
     "output_type": "stream",
     "text": [
      "100%|██████████| 8835/8835 [00:00<00:00, 472740.07it/s]\n",
      "07/29/2022 11:16:17 AM WARNING: face_normals incorrect shape, ignoring! \n"
     ]
    },
    {
     "name": "stdout",
     "output_type": "stream",
     "text": [
      "Warning: deduplication not currently supported for this layer's variable layered draco meshes\n"
     ]
    },
    {
     "name": "stderr",
     "output_type": "stream",
     "text": [
      "100%|██████████| 9474/9474 [00:00<00:00, 734303.54it/s]\n",
      "07/29/2022 11:16:21 AM WARNING: face_normals incorrect shape, ignoring! \n"
     ]
    },
    {
     "name": "stdout",
     "output_type": "stream",
     "text": [
      "Warning: deduplication not currently supported for this layer's variable layered draco meshes\n"
     ]
    },
    {
     "name": "stderr",
     "output_type": "stream",
     "text": [
      "100%|██████████| 19620/19620 [00:00<00:00, 621139.17it/s]\n",
      "07/29/2022 11:16:25 AM WARNING: face_normals incorrect shape, ignoring! \n"
     ]
    },
    {
     "name": "stdout",
     "output_type": "stream",
     "text": [
      "Warning: deduplication not currently supported for this layer's variable layered draco meshes\n"
     ]
    },
    {
     "name": "stderr",
     "output_type": "stream",
     "text": [
      "100%|██████████| 1286/1286 [00:00<00:00, 450766.75it/s]\n",
      "07/29/2022 11:16:28 AM WARNING: face_normals incorrect shape, ignoring! \n"
     ]
    },
    {
     "name": "stdout",
     "output_type": "stream",
     "text": [
      "Warning: deduplication not currently supported for this layer's variable layered draco meshes\n"
     ]
    },
    {
     "name": "stderr",
     "output_type": "stream",
     "text": [
      "100%|██████████| 23442/23442 [00:00<00:00, 539977.45it/s]\n",
      "07/29/2022 11:16:33 AM WARNING: face_normals incorrect shape, ignoring! \n"
     ]
    },
    {
     "name": "stdout",
     "output_type": "stream",
     "text": [
      "Warning: deduplication not currently supported for this layer's variable layered draco meshes\n"
     ]
    },
    {
     "name": "stderr",
     "output_type": "stream",
     "text": [
      "100%|██████████| 36158/36158 [00:00<00:00, 509316.49it/s]\n",
      "07/29/2022 11:16:38 AM WARNING: face_normals incorrect shape, ignoring! \n"
     ]
    },
    {
     "name": "stdout",
     "output_type": "stream",
     "text": [
      "Warning: deduplication not currently supported for this layer's variable layered draco meshes\n"
     ]
    },
    {
     "name": "stderr",
     "output_type": "stream",
     "text": [
      "100%|██████████| 4826/4826 [00:00<00:00, 686089.93it/s]\n",
      "07/29/2022 11:16:40 AM WARNING: face_normals incorrect shape, ignoring! \n"
     ]
    },
    {
     "name": "stdout",
     "output_type": "stream",
     "text": [
      "Warning: deduplication not currently supported for this layer's variable layered draco meshes\n"
     ]
    },
    {
     "name": "stderr",
     "output_type": "stream",
     "text": [
      "100%|██████████| 1973/1973 [00:00<00:00, 276213.68it/s]\n",
      "07/29/2022 11:16:53 AM WARNING: face_normals incorrect shape, ignoring! \n"
     ]
    },
    {
     "name": "stdout",
     "output_type": "stream",
     "text": [
      "Warning: deduplication not currently supported for this layer's variable layered draco meshes\n"
     ]
    },
    {
     "name": "stderr",
     "output_type": "stream",
     "text": [
      "100%|██████████| 187764/187764 [00:07<00:00, 25010.16it/s]\n",
      "07/29/2022 11:17:29 AM WARNING: face_normals incorrect shape, ignoring! \n"
     ]
    },
    {
     "name": "stdout",
     "output_type": "stream",
     "text": [
      "Warning: deduplication not currently supported for this layer's variable layered draco meshes\n"
     ]
    },
    {
     "name": "stderr",
     "output_type": "stream",
     "text": [
      "100%|██████████| 485/485 [00:00<00:00, 185809.05it/s]\n",
      "07/29/2022 11:17:34 AM WARNING: face_normals incorrect shape, ignoring! \n"
     ]
    },
    {
     "name": "stdout",
     "output_type": "stream",
     "text": [
      "Warning: deduplication not currently supported for this layer's variable layered draco meshes\n"
     ]
    },
    {
     "name": "stderr",
     "output_type": "stream",
     "text": [
      "100%|██████████| 37232/37232 [00:00<00:00, 191234.32it/s]\n",
      "07/29/2022 11:17:39 AM WARNING: face_normals incorrect shape, ignoring! \n"
     ]
    },
    {
     "name": "stdout",
     "output_type": "stream",
     "text": [
      "Warning: deduplication not currently supported for this layer's variable layered draco meshes\n"
     ]
    },
    {
     "name": "stderr",
     "output_type": "stream",
     "text": [
      "100%|██████████| 2640/2640 [00:00<00:00, 310811.28it/s]\n",
      "07/29/2022 11:17:42 AM WARNING: face_normals incorrect shape, ignoring! \n"
     ]
    },
    {
     "name": "stdout",
     "output_type": "stream",
     "text": [
      "Warning: deduplication not currently supported for this layer's variable layered draco meshes\n"
     ]
    },
    {
     "name": "stderr",
     "output_type": "stream",
     "text": [
      "100%|██████████| 5980/5980 [00:00<00:00, 485003.15it/s]\n",
      "07/29/2022 11:17:45 AM WARNING: face_normals incorrect shape, ignoring! \n"
     ]
    },
    {
     "name": "stdout",
     "output_type": "stream",
     "text": [
      "Warning: deduplication not currently supported for this layer's variable layered draco meshes\n"
     ]
    },
    {
     "name": "stderr",
     "output_type": "stream",
     "text": [
      "100%|██████████| 7616/7616 [00:00<00:00, 459874.74it/s]\n",
      "07/29/2022 11:17:47 AM WARNING: face_normals incorrect shape, ignoring! \n"
     ]
    },
    {
     "name": "stdout",
     "output_type": "stream",
     "text": [
      "Warning: deduplication not currently supported for this layer's variable layered draco meshes\n"
     ]
    },
    {
     "name": "stderr",
     "output_type": "stream",
     "text": [
      "100%|██████████| 1211/1211 [00:00<00:00, 301836.35it/s]\n",
      "07/29/2022 11:17:48 AM WARNING: face_normals incorrect shape, ignoring! \n"
     ]
    },
    {
     "name": "stdout",
     "output_type": "stream",
     "text": [
      "Warning: deduplication not currently supported for this layer's variable layered draco meshes\n"
     ]
    },
    {
     "name": "stderr",
     "output_type": "stream",
     "text": [
      "100%|██████████| 1359/1359 [00:00<00:00, 289210.98it/s]\n",
      "07/29/2022 11:17:50 AM WARNING: face_normals incorrect shape, ignoring! \n"
     ]
    },
    {
     "name": "stdout",
     "output_type": "stream",
     "text": [
      "Warning: deduplication not currently supported for this layer's variable layered draco meshes\n"
     ]
    },
    {
     "name": "stderr",
     "output_type": "stream",
     "text": [
      "100%|██████████| 11308/11308 [00:00<00:00, 562110.40it/s]\n",
      "07/29/2022 11:17:53 AM WARNING: face_normals incorrect shape, ignoring! \n"
     ]
    },
    {
     "name": "stdout",
     "output_type": "stream",
     "text": [
      "Warning: deduplication not currently supported for this layer's variable layered draco meshes\n"
     ]
    },
    {
     "name": "stderr",
     "output_type": "stream",
     "text": [
      "100%|██████████| 191/191 [00:00<00:00, 111559.96it/s]\n",
      "07/29/2022 11:17:55 AM WARNING: face_normals incorrect shape, ignoring! \n"
     ]
    },
    {
     "name": "stdout",
     "output_type": "stream",
     "text": [
      "Warning: deduplication not currently supported for this layer's variable layered draco meshes\n"
     ]
    },
    {
     "name": "stderr",
     "output_type": "stream",
     "text": [
      "100%|██████████| 105/105 [00:00<00:00, 60246.50it/s]\n",
      "07/29/2022 11:17:57 AM WARNING: face_normals incorrect shape, ignoring! \n"
     ]
    },
    {
     "name": "stdout",
     "output_type": "stream",
     "text": [
      "Warning: deduplication not currently supported for this layer's variable layered draco meshes\n"
     ]
    },
    {
     "name": "stderr",
     "output_type": "stream",
     "text": [
      "100%|██████████| 7685/7685 [00:00<00:00, 336456.72it/s]\n",
      "07/29/2022 11:17:59 AM WARNING: face_normals incorrect shape, ignoring! \n"
     ]
    },
    {
     "name": "stdout",
     "output_type": "stream",
     "text": [
      "Warning: deduplication not currently supported for this layer's variable layered draco meshes\n"
     ]
    },
    {
     "name": "stderr",
     "output_type": "stream",
     "text": [
      "100%|██████████| 6048/6048 [00:00<00:00, 582109.11it/s]\n",
      "07/29/2022 11:18:01 AM WARNING: face_normals incorrect shape, ignoring! \n"
     ]
    },
    {
     "name": "stdout",
     "output_type": "stream",
     "text": [
      "Warning: deduplication not currently supported for this layer's variable layered draco meshes\n"
     ]
    },
    {
     "name": "stderr",
     "output_type": "stream",
     "text": [
      "100%|██████████| 6896/6896 [00:00<00:00, 481864.56it/s]\n",
      "07/29/2022 11:18:03 AM WARNING: face_normals incorrect shape, ignoring! \n"
     ]
    },
    {
     "name": "stdout",
     "output_type": "stream",
     "text": [
      "Warning: deduplication not currently supported for this layer's variable layered draco meshes\n"
     ]
    },
    {
     "name": "stderr",
     "output_type": "stream",
     "text": [
      "100%|██████████| 2858/2858 [00:00<00:00, 450583.40it/s]\n",
      "07/29/2022 11:18:05 AM WARNING: face_normals incorrect shape, ignoring! \n"
     ]
    },
    {
     "name": "stdout",
     "output_type": "stream",
     "text": [
      "Warning: deduplication not currently supported for this layer's variable layered draco meshes\n"
     ]
    },
    {
     "name": "stderr",
     "output_type": "stream",
     "text": [
      "100%|██████████| 4775/4775 [00:00<00:00, 410826.70it/s]\n",
      "07/29/2022 11:18:07 AM WARNING: face_normals incorrect shape, ignoring! \n"
     ]
    },
    {
     "name": "stdout",
     "output_type": "stream",
     "text": [
      "Warning: deduplication not currently supported for this layer's variable layered draco meshes\n"
     ]
    },
    {
     "name": "stderr",
     "output_type": "stream",
     "text": [
      "100%|██████████| 1010/1010 [00:00<00:00, 233736.87it/s]\n",
      "07/29/2022 11:18:09 AM WARNING: face_normals incorrect shape, ignoring! \n"
     ]
    },
    {
     "name": "stdout",
     "output_type": "stream",
     "text": [
      "Warning: deduplication not currently supported for this layer's variable layered draco meshes\n"
     ]
    },
    {
     "name": "stderr",
     "output_type": "stream",
     "text": [
      "100%|██████████| 8895/8895 [00:00<00:00, 549589.51it/s]\n",
      "07/29/2022 11:18:11 AM WARNING: face_normals incorrect shape, ignoring! \n"
     ]
    },
    {
     "name": "stdout",
     "output_type": "stream",
     "text": [
      "Warning: deduplication not currently supported for this layer's variable layered draco meshes\n",
      "\n",
      "\n",
      "Seg 864691132747855184 returned error on get. Skipping.\n",
      "\n"
     ]
    },
    {
     "name": "stderr",
     "output_type": "stream",
     "text": [
      "07/29/2022 11:18:18 AM WARNING: face_normals incorrect shape, ignoring! \n"
     ]
    },
    {
     "name": "stdout",
     "output_type": "stream",
     "text": [
      "Warning: deduplication not currently supported for this layer's variable layered draco meshes\n"
     ]
    },
    {
     "name": "stderr",
     "output_type": "stream",
     "text": [
      "100%|██████████| 126419/126419 [00:00<00:00, 250227.09it/s]\n",
      "07/29/2022 11:18:34 AM WARNING: face_normals incorrect shape, ignoring! \n"
     ]
    },
    {
     "name": "stdout",
     "output_type": "stream",
     "text": [
      "Warning: deduplication not currently supported for this layer's variable layered draco meshes\n"
     ]
    },
    {
     "name": "stderr",
     "output_type": "stream",
     "text": [
      "100%|██████████| 22194/22194 [00:00<00:00, 333059.21it/s]\n",
      "07/29/2022 11:18:40 AM WARNING: face_normals incorrect shape, ignoring! \n"
     ]
    },
    {
     "name": "stdout",
     "output_type": "stream",
     "text": [
      "Warning: deduplication not currently supported for this layer's variable layered draco meshes\n"
     ]
    },
    {
     "name": "stderr",
     "output_type": "stream",
     "text": [
      "100%|██████████| 33346/33346 [00:00<00:00, 403088.55it/s]\n",
      "07/29/2022 11:18:45 AM WARNING: face_normals incorrect shape, ignoring! \n"
     ]
    },
    {
     "name": "stdout",
     "output_type": "stream",
     "text": [
      "Warning: deduplication not currently supported for this layer's variable layered draco meshes\n"
     ]
    },
    {
     "name": "stderr",
     "output_type": "stream",
     "text": [
      "100%|██████████| 22364/22364 [00:00<00:00, 445887.79it/s]\n",
      "07/29/2022 11:18:48 AM WARNING: face_normals incorrect shape, ignoring! \n"
     ]
    },
    {
     "name": "stdout",
     "output_type": "stream",
     "text": [
      "Warning: deduplication not currently supported for this layer's variable layered draco meshes\n"
     ]
    },
    {
     "name": "stderr",
     "output_type": "stream",
     "text": [
      "100%|██████████| 152/152 [00:00<00:00, 56780.75it/s]\n",
      "07/29/2022 11:18:50 AM WARNING: face_normals incorrect shape, ignoring! \n"
     ]
    },
    {
     "name": "stdout",
     "output_type": "stream",
     "text": [
      "Warning: deduplication not currently supported for this layer's variable layered draco meshes\n"
     ]
    },
    {
     "name": "stderr",
     "output_type": "stream",
     "text": [
      "100%|██████████| 5763/5763 [00:00<00:00, 662403.71it/s]\n",
      "07/29/2022 11:18:52 AM WARNING: face_normals incorrect shape, ignoring! \n"
     ]
    },
    {
     "name": "stdout",
     "output_type": "stream",
     "text": [
      "Warning: deduplication not currently supported for this layer's variable layered draco meshes\n",
      "\n",
      "\n",
      "Seg 864691136347887475 returned error on get. Skipping.\n",
      "\n"
     ]
    },
    {
     "name": "stderr",
     "output_type": "stream",
     "text": [
      "07/29/2022 11:18:53 AM WARNING: face_normals incorrect shape, ignoring! \n"
     ]
    },
    {
     "name": "stdout",
     "output_type": "stream",
     "text": [
      "Warning: deduplication not currently supported for this layer's variable layered draco meshes\n"
     ]
    },
    {
     "name": "stderr",
     "output_type": "stream",
     "text": [
      "100%|██████████| 1905/1905 [00:00<00:00, 359156.25it/s]\n",
      "07/29/2022 11:18:55 AM WARNING: face_normals incorrect shape, ignoring! \n"
     ]
    },
    {
     "name": "stdout",
     "output_type": "stream",
     "text": [
      "Warning: deduplication not currently supported for this layer's variable layered draco meshes\n"
     ]
    },
    {
     "name": "stderr",
     "output_type": "stream",
     "text": [
      "100%|██████████| 138/138 [00:00<00:00, 51976.83it/s]\n",
      "07/29/2022 11:18:58 AM WARNING: face_normals incorrect shape, ignoring! \n"
     ]
    },
    {
     "name": "stdout",
     "output_type": "stream",
     "text": [
      "Warning: deduplication not currently supported for this layer's variable layered draco meshes\n"
     ]
    },
    {
     "name": "stderr",
     "output_type": "stream",
     "text": [
      "100%|██████████| 11909/11909 [00:00<00:00, 543412.86it/s]\n",
      "07/29/2022 11:19:00 AM WARNING: face_normals incorrect shape, ignoring! \n"
     ]
    },
    {
     "name": "stdout",
     "output_type": "stream",
     "text": [
      "Warning: deduplication not currently supported for this layer's variable layered draco meshes\n",
      "\n",
      "\n",
      "Seg 864691133525367772 returned error on get. Skipping.\n",
      "\n"
     ]
    },
    {
     "name": "stderr",
     "output_type": "stream",
     "text": [
      "07/29/2022 11:19:05 AM WARNING: face_normals incorrect shape, ignoring! \n"
     ]
    },
    {
     "name": "stdout",
     "output_type": "stream",
     "text": [
      "Warning: deduplication not currently supported for this layer's variable layered draco meshes\n"
     ]
    },
    {
     "name": "stderr",
     "output_type": "stream",
     "text": [
      "100%|██████████| 120275/120275 [00:00<00:00, 188949.38it/s]\n",
      "07/29/2022 11:19:27 AM WARNING: face_normals incorrect shape, ignoring! \n"
     ]
    },
    {
     "name": "stdout",
     "output_type": "stream",
     "text": [
      "Warning: deduplication not currently supported for this layer's variable layered draco meshes\n"
     ]
    },
    {
     "name": "stderr",
     "output_type": "stream",
     "text": [
      "100%|██████████| 202161/202161 [00:01<00:00, 162920.86it/s]\n",
      "07/29/2022 11:19:50 AM WARNING: face_normals incorrect shape, ignoring! \n"
     ]
    },
    {
     "name": "stdout",
     "output_type": "stream",
     "text": [
      "Warning: deduplication not currently supported for this layer's variable layered draco meshes\n"
     ]
    },
    {
     "name": "stderr",
     "output_type": "stream",
     "text": [
      "100%|██████████| 194/194 [00:00<00:00, 83765.18it/s]\n",
      "07/29/2022 11:19:52 AM WARNING: face_normals incorrect shape, ignoring! \n"
     ]
    },
    {
     "name": "stdout",
     "output_type": "stream",
     "text": [
      "Warning: deduplication not currently supported for this layer's variable layered draco meshes\n"
     ]
    },
    {
     "name": "stderr",
     "output_type": "stream",
     "text": [
      "100%|██████████| 128/128 [00:00<00:00, 58642.37it/s]\n",
      "07/29/2022 11:19:53 AM WARNING: face_normals incorrect shape, ignoring! \n"
     ]
    },
    {
     "name": "stdout",
     "output_type": "stream",
     "text": [
      "Warning: deduplication not currently supported for this layer's variable layered draco meshes\n"
     ]
    },
    {
     "name": "stderr",
     "output_type": "stream",
     "text": [
      "100%|██████████| 266/266 [00:00<00:00, 154100.12it/s]\n",
      "07/29/2022 11:19:54 AM WARNING: face_normals incorrect shape, ignoring! \n"
     ]
    },
    {
     "name": "stdout",
     "output_type": "stream",
     "text": [
      "Warning: deduplication not currently supported for this layer's variable layered draco meshes\n"
     ]
    },
    {
     "name": "stderr",
     "output_type": "stream",
     "text": [
      "100%|██████████| 1532/1532 [00:00<00:00, 324430.66it/s]\n",
      "07/29/2022 11:19:56 AM WARNING: face_normals incorrect shape, ignoring! \n"
     ]
    },
    {
     "name": "stdout",
     "output_type": "stream",
     "text": [
      "Warning: deduplication not currently supported for this layer's variable layered draco meshes\n"
     ]
    },
    {
     "name": "stderr",
     "output_type": "stream",
     "text": [
      "100%|██████████| 2876/2876 [00:00<00:00, 394570.79it/s]\n",
      "07/29/2022 11:19:59 AM WARNING: face_normals incorrect shape, ignoring! \n"
     ]
    },
    {
     "name": "stdout",
     "output_type": "stream",
     "text": [
      "Warning: deduplication not currently supported for this layer's variable layered draco meshes\n"
     ]
    },
    {
     "name": "stderr",
     "output_type": "stream",
     "text": [
      "100%|██████████| 4484/4484 [00:00<00:00, 454490.20it/s]\n",
      "07/29/2022 11:20:02 AM WARNING: face_normals incorrect shape, ignoring! \n"
     ]
    },
    {
     "name": "stdout",
     "output_type": "stream",
     "text": [
      "Warning: deduplication not currently supported for this layer's variable layered draco meshes\n"
     ]
    },
    {
     "name": "stderr",
     "output_type": "stream",
     "text": [
      "100%|██████████| 13121/13121 [00:00<00:00, 484778.09it/s]\n",
      "07/29/2022 11:20:04 AM WARNING: face_normals incorrect shape, ignoring! \n"
     ]
    },
    {
     "name": "stdout",
     "output_type": "stream",
     "text": [
      "Warning: deduplication not currently supported for this layer's variable layered draco meshes\n"
     ]
    },
    {
     "name": "stderr",
     "output_type": "stream",
     "text": [
      "100%|██████████| 1758/1758 [00:00<00:00, 287671.13it/s]\n",
      "07/29/2022 11:20:06 AM WARNING: face_normals incorrect shape, ignoring! \n"
     ]
    },
    {
     "name": "stdout",
     "output_type": "stream",
     "text": [
      "Warning: deduplication not currently supported for this layer's variable layered draco meshes\n",
      "\n",
      "\n",
      "Seg 864691132647441812 returned error on get. Skipping.\n",
      "\n"
     ]
    },
    {
     "name": "stderr",
     "output_type": "stream",
     "text": [
      "07/29/2022 11:20:08 AM WARNING: face_normals incorrect shape, ignoring! \n"
     ]
    },
    {
     "name": "stdout",
     "output_type": "stream",
     "text": [
      "Warning: deduplication not currently supported for this layer's variable layered draco meshes\n"
     ]
    },
    {
     "name": "stderr",
     "output_type": "stream",
     "text": [
      "100%|██████████| 20125/20125 [00:00<00:00, 341233.98it/s]\n",
      "07/29/2022 11:20:13 AM WARNING: face_normals incorrect shape, ignoring! \n"
     ]
    },
    {
     "name": "stdout",
     "output_type": "stream",
     "text": [
      "Warning: deduplication not currently supported for this layer's variable layered draco meshes\n"
     ]
    },
    {
     "name": "stderr",
     "output_type": "stream",
     "text": [
      "100%|██████████| 11410/11410 [00:00<00:00, 744149.66it/s]\n",
      "07/29/2022 11:20:16 AM WARNING: face_normals incorrect shape, ignoring! \n"
     ]
    },
    {
     "name": "stdout",
     "output_type": "stream",
     "text": [
      "Warning: deduplication not currently supported for this layer's variable layered draco meshes\n"
     ]
    },
    {
     "name": "stderr",
     "output_type": "stream",
     "text": [
      "100%|██████████| 15601/15601 [00:00<00:00, 704075.15it/s]\n",
      "07/29/2022 11:20:19 AM WARNING: face_normals incorrect shape, ignoring! \n"
     ]
    },
    {
     "name": "stdout",
     "output_type": "stream",
     "text": [
      "Warning: deduplication not currently supported for this layer's variable layered draco meshes\n",
      "\n",
      "\n",
      "Seg 864691136597387729 returned error on get. Skipping.\n",
      "\n"
     ]
    },
    {
     "name": "stderr",
     "output_type": "stream",
     "text": [
      "07/29/2022 11:20:23 AM WARNING: face_normals incorrect shape, ignoring! \n"
     ]
    },
    {
     "name": "stdout",
     "output_type": "stream",
     "text": [
      "Warning: deduplication not currently supported for this layer's variable layered draco meshes\n"
     ]
    },
    {
     "name": "stderr",
     "output_type": "stream",
     "text": [
      "100%|██████████| 13348/13348 [00:00<00:00, 541169.13it/s]\n",
      "07/29/2022 11:20:25 AM WARNING: face_normals incorrect shape, ignoring! \n"
     ]
    },
    {
     "name": "stdout",
     "output_type": "stream",
     "text": [
      "Warning: deduplication not currently supported for this layer's variable layered draco meshes\n"
     ]
    },
    {
     "name": "stderr",
     "output_type": "stream",
     "text": [
      "100%|██████████| 2543/2543 [00:00<00:00, 223598.91it/s]\n",
      "07/29/2022 11:20:28 AM WARNING: face_normals incorrect shape, ignoring! \n"
     ]
    },
    {
     "name": "stdout",
     "output_type": "stream",
     "text": [
      "Warning: deduplication not currently supported for this layer's variable layered draco meshes\n"
     ]
    },
    {
     "name": "stderr",
     "output_type": "stream",
     "text": [
      "100%|██████████| 13258/13258 [00:00<00:00, 492660.62it/s]\n",
      "07/29/2022 11:20:30 AM WARNING: face_normals incorrect shape, ignoring! \n"
     ]
    },
    {
     "name": "stdout",
     "output_type": "stream",
     "text": [
      "Warning: deduplication not currently supported for this layer's variable layered draco meshes\n"
     ]
    },
    {
     "name": "stderr",
     "output_type": "stream",
     "text": [
      "100%|██████████| 9618/9618 [00:00<00:00, 656385.82it/s]\n",
      "07/29/2022 11:20:37 AM WARNING: face_normals incorrect shape, ignoring! \n"
     ]
    },
    {
     "name": "stdout",
     "output_type": "stream",
     "text": [
      "Warning: deduplication not currently supported for this layer's variable layered draco meshes\n"
     ]
    },
    {
     "name": "stderr",
     "output_type": "stream",
     "text": [
      "100%|██████████| 38734/38734 [00:00<00:00, 180329.19it/s]\n",
      "07/29/2022 11:20:42 AM WARNING: face_normals incorrect shape, ignoring! \n"
     ]
    },
    {
     "name": "stdout",
     "output_type": "stream",
     "text": [
      "Warning: deduplication not currently supported for this layer's variable layered draco meshes\n"
     ]
    },
    {
     "name": "stderr",
     "output_type": "stream",
     "text": [
      "100%|██████████| 811/811 [00:00<00:00, 160300.69it/s]\n",
      "07/29/2022 11:20:44 AM WARNING: face_normals incorrect shape, ignoring! \n"
     ]
    },
    {
     "name": "stdout",
     "output_type": "stream",
     "text": [
      "Warning: deduplication not currently supported for this layer's variable layered draco meshes\n"
     ]
    },
    {
     "name": "stderr",
     "output_type": "stream",
     "text": [
      "100%|██████████| 9313/9313 [00:00<00:00, 404980.18it/s]\n"
     ]
    },
    {
     "name": "stdout",
     "output_type": "stream",
     "text": [
      "[[  99.46356117 4423.90008929]\n",
      " [4415.78452826   24.37211521]]\n",
      "[[ 146.85366866 5470.51569781 9272.57704201]\n",
      " [5554.85157317  495.77414213 8350.73439884]\n",
      " [9231.09576378 8664.4402589   368.27978495]]\n",
      "skipping \n",
      "\n",
      "skipping \n",
      "\n",
      "[[173.70377083 226.46191733]\n",
      " [146.63560277 252.88337233]]\n",
      "[[358.60842154 495.25548962]\n",
      " [491.02851241 233.07724042]]\n",
      "[[  65.7267069  4494.89933146]\n",
      " [4475.84450132  624.97999968]]\n",
      "[[901.23748258 517.58284361]\n",
      " [826.68313156 572.19926599]]\n",
      "skipping \n",
      "\n",
      "[[648.0686692   81.63332653]\n",
      " [107.42904635 605.6153895 ]]\n",
      "[[ 4128.18483113  3189.93291466    91.23595782]\n",
      " [  170.76592166  3482.68416598  4007.43771006]\n",
      " [11292.02129824  8929.37315829 11956.89278199]\n",
      " [13982.45489891 13733.27073206 16546.69710244]\n",
      " [ 7099.01887587  3574.97762231  6076.14853341]]\n",
      "[[8128.64742746  864.88033854]\n",
      " [ 315.13171849 8280.50898194]]\n",
      "[[  802.63628126  3717.38079836 10550.35264813]\n",
      " [10174.82270116  7734.51601589   253.21334878]\n",
      " [ 3197.35218579   939.4423878   8381.84043036]]\n",
      "[[  657.3864921  12356.94270441]\n",
      " [12607.73147715    40.01249805]]\n",
      "[[358.52057124  26.07680962]\n",
      " [ 56.04462508 314.89680849]]\n",
      "[[ 632.51561246  629.52442367]\n",
      " [ 642.04750603 1205.60773057]]\n",
      "skipping \n",
      "\n",
      "[[ 37.36308338 514.76693756]\n",
      " [501.74196556  38.85871846]]\n",
      "[[34041.63876784 31834.05071617 24858.62701357  1196.39165828]\n",
      " [  281.82441342  2356.785947    9314.39455896 33086.30786292]]\n",
      "[[4675.35089592  353.72022843]\n",
      " [  88.20430828 4446.01304541]]\n",
      "[[123.97580409 682.20231603]\n",
      " [594.66797459  82.21921916]]\n",
      "[[  96.42095208 1749.52479262]\n",
      " [1622.45369734  458.97712361]]\n",
      "[[3712.40905613  559.51407489]\n",
      " [ 239.59340559 4046.79725215]]\n",
      "skipping \n",
      "\n",
      "[[1026.45214209  801.50483467]\n",
      " [ 513.0984311  1353.38095154]\n",
      " [ 994.47724961  182.20043908]]\n",
      "[[ 315.70397527 1909.91203986]\n",
      " [1556.73568726  809.35838786]]\n",
      "[[13630.80280101    38.94868419]\n",
      " [  830.40291425 13620.68739088]]\n",
      "[[562.729953   135.3070582 ]\n",
      " [126.54643417 595.58794481]]\n",
      "[[ 101.93134945 4868.93725571]\n",
      " [4959.18098077   30.72458299]]\n",
      "[[  48.88762625 5029.54560572]\n",
      " [5920.58147482 2289.41040445]]\n",
      "[[  14.86606875 8083.54829267]\n",
      " [8031.90002428  139.17614738]]\n",
      "[[3140.96879959  548.80324343]\n",
      " [ 217.33154396 2828.26536944]]\n",
      "[[ 774.19700335 5053.42309727]\n",
      " [ 612.68670624 5120.38758299]\n",
      " [5673.50209306   84.        ]]\n",
      "[[16271.3315374   1838.26983873]\n",
      " [  758.89656739 17297.52901428]]\n",
      "[[14102.25460698  6289.34654793  7228.31847666  7941.92375939\n",
      "   5860.16083397   120.65653733  6205.24366967]\n",
      " [13490.80360838  9103.78871679  8456.15261215  9887.33209718\n",
      "   7570.78463569  6137.64686179   114.27160627]\n",
      " [ 7142.88849136  2328.45721455    39.86226286  4800.11812355\n",
      "   3143.47228396  7310.09336466  8508.53077799]\n",
      " [ 8983.21668446   151.01324445  2230.20738946  5433.86602706\n",
      "   3803.59303817  6365.88320659  9125.85612422]\n",
      " [   82.56512581  9018.89682833  7064.19705274  8417.82305587\n",
      "   8702.44362234 14172.27271823 13451.78148053]]\n",
      "[[5794.38529958 6356.7184144   135.32183859]\n",
      " [2064.61449186   16.88194302 6440.60478527]]\n",
      "[[4.50567954e+04 1.95527682e+04 4.32130717e+04 3.61400069e+04\n",
      "  2.88308804e+04 1.60921288e+04 2.43874006e+04 3.96036614e+02\n",
      "  6.84594369e+03 2.76317840e+04 2.11539684e+04]\n",
      " [4.96027166e+04 3.50540310e+04 4.65528773e+04 4.10964200e+04\n",
      "  3.51900786e+04 2.56049446e+04 2.81851677e+04 2.11822273e+04\n",
      "  1.94390054e+04 2.59480859e+04 1.19770614e+02]\n",
      " [3.94565994e+04 1.76924279e+04 3.74326762e+04 3.04801133e+04\n",
      "  2.33836711e+04 1.05374384e+04 1.87831214e+04 6.75872325e+03\n",
      "  3.05754804e+02 2.17274451e+04 1.97742795e+04]\n",
      " [3.08923464e+04 2.94788059e+01 3.02752051e+04 2.33337256e+04\n",
      "  1.68508351e+04 1.21898493e+04 1.72754401e+04 1.92451296e+04\n",
      "  1.78571114e+04 2.40759315e+04 3.50968094e+04]\n",
      " [2.39736267e+04 2.40849685e+04 2.07564881e+04 1.61690038e+04\n",
      "  1.25535155e+04 1.44435247e+04 7.05194562e+03 2.75182756e+04\n",
      "  2.15612117e+04 5.80689246e+01 2.59303084e+04]\n",
      " [1.69526623e+04 3.74175293e+04 1.44405559e+04 1.79942325e+04\n",
      "  2.22190963e+04 3.27249794e+04 2.34454581e+04 4.72716312e+04\n",
      "  4.18426409e+04 2.11124565e+04 4.53483959e+04]\n",
      " [1.71688672e+02 3.07966662e+04 3.50946221e+03 8.88641829e+03\n",
      "  1.61709604e+04 2.89191754e+04 2.21129889e+04 4.47682982e+04\n",
      "  3.93289749e+04 2.38090284e+04 4.94339803e+04]]\n",
      "[[  150.56227947 10139.99802761  9720.50770279]\n",
      " [10274.09363399   239.8353602   4692.46470418]\n",
      " [ 9706.69093976  5391.09562149   749.00333778]]\n",
      "[[13287.84832093 11924.3910117  12666.62338589 10743.91027513\n",
      "  11108.58933438]\n",
      " [11162.08313891  3678.04567671  1975.96685195  2588.36801866\n",
      "   1021.83266732]\n",
      " [  314.23717158  7707.22965793 10312.37799928  8624.81443279\n",
      "  11753.47782573]]\n",
      "[[   41.43669871 20114.63521916]\n",
      " [20059.3399692     97.90301323]]\n",
      "skipping \n",
      "\n",
      "[[ 385.75121516 2269.35453378 6356.16551075]\n",
      " [2036.26913742   15.16575089 6922.34208921]\n",
      " [6698.05232885 6982.27677767  196.23710149]]\n",
      "skipping \n",
      "\n",
      "[[10766.71491217 10795.95850307  7354.95622013    89.10667764]\n",
      " [ 5875.00306383  5399.21003481    32.06243908  7446.11099837]\n",
      " [ 1426.61312205   156.08010764  5577.4343564  10982.13553914]]\n",
      "[[  180.29143074 25361.66280038]\n",
      " [25233.5133503     26.17250466]]\n",
      "skipping \n",
      "\n",
      "[[1325.23507349  387.45967532 3857.5413154 ]\n",
      " [3161.97991771 3651.31401005  211.43793416]]\n",
      "[[8038.83362186 5166.50055647  339.53055827]\n",
      " [3601.18841495   24.         5241.9398127 ]\n",
      " [  61.77378085 3587.78065104 8078.02457288]]\n",
      "skipping \n",
      "\n",
      "skipping \n",
      "\n",
      "[[ 134.33167906 2601.44056246]\n",
      " [2675.36726451   16.43167673]]\n",
      "[[  102.32301794  3504.01198628 11723.69967203]\n",
      " [11797.9401592   9240.54619598    50.19960159]]\n",
      "[[352.76054201 152.72524349]\n",
      " [ 21.3541565  455.48325985]]\n",
      "[[1699.82499099   26.92582404]\n",
      " [  27.07397274 1686.14619769]]\n",
      "[[ 12735.57372088  35001.25403468  26599.29173869  31009.2873346\n",
      "   18918.2796258   21415.43819304    195.        ]\n",
      " [   301.27230208  29328.06330121  20596.38774154  25772.44656605\n",
      "   13893.6083506   16828.08046094  12851.58239284]\n",
      " [ 64509.84775211  35976.8216634   45516.34141712  40144.50859084\n",
      "   52716.28075841  49759.24316145  70017.38436988]\n",
      " [ 72187.74902295  42949.80131502  52173.1623155   46692.69514603\n",
      "   59320.50088292  56256.50353515  76470.50367298]\n",
      " [ 68360.7938295   40015.56258507  49292.89741941  44239.97294303\n",
      "   56826.52029642  53986.53469153  74924.55799002]\n",
      " [113576.93540504  85373.08518497  94868.54986243  89575.09471388\n",
      "  102162.50138872  99230.29741465 119370.20541576]\n",
      " [ 58934.454074    31081.74507649  40358.9344012   35395.96869701\n",
      "   47788.1562419   45007.34462285  65755.84007524]\n",
      " [ 66034.22107514  38490.39684129  47676.72327247  42804.27198306\n",
      "   55135.50566559  52394.03532846  73148.50202157]]\n",
      "skipping \n",
      "\n",
      "[[3118.03624097 2715.30403454  182.75940468]\n",
      " [1867.67609612  341.8420688  2969.0680356 ]\n",
      " [ 237.05906437 1942.45128639 3063.23195335]]\n",
      "[[ 179.55779014 8997.95098898]\n",
      " [9016.72512612   18.13835715]]\n",
      "[[355.19149765 487.7191815 ]\n",
      " [ 49.04079934 707.92513729]]\n",
      "[[33091.47897873  5453.96452134   128.77888026]\n",
      " [ 1215.36002896 27800.90027319 33288.84685597]]\n",
      "[[4091.22108911   18.86796226]\n",
      " [  40.80441153 4068.75226574]]\n",
      "[[10109.88036527   155.2836115 ]\n",
      " [   16.88194302 10227.94920793]]\n",
      "skipping \n",
      "\n",
      "[[3.76209746e+04 4.17216896e+04 4.24502617e+04 1.40036211e+04\n",
      "  1.24854545e+04 8.62515374e+03 8.03767485e+03 3.10644491e+01]\n",
      " [1.54378187e+04 3.68919409e+03 7.89936706e+01 3.35119813e+04\n",
      "  3.41707110e+04 3.56190252e+04 3.73391194e+04 4.23995665e+04]]\n",
      "[[1.53406421e+03 1.94164878e+01 3.84468895e+04]\n",
      " [3.81276523e+04 3.84133919e+04 4.12310563e+01]]\n",
      "[[19864.73951503 22595.52814165  7738.78207472   444.96404349]\n",
      " [11735.7593704  15914.75818227  2189.38347486  9321.85051371]\n",
      " [ 5936.93329927    59.8414572  15733.12788355 22988.30224266]]\n",
      "[[2617.98242928   58.9067059 ]\n",
      " [ 134.12680567 2526.06650744]]\n",
      "skipping \n",
      "\n",
      "[[2181.11118469 6958.83675624  434.84365006]\n",
      " [5488.58141964  606.60118694 6716.95593256]]\n",
      "skipping \n",
      "\n",
      "skipping \n",
      "\n",
      "[[728.33646071 821.10291681]\n",
      " [536.80257078  56.96490147]]\n",
      "[[ 3909.81099287    28.72281323 25144.70258325]\n",
      " [23509.82254293 25148.07199369    48.60041152]]\n",
      "[[  131.48383931 12935.8821887  21815.46309387]\n",
      " [13095.24799307   399.20921833 18095.85814489]\n",
      " [21916.76173617 18056.13737763    64.90762667]]\n",
      "[[  46.43274706 5320.16447114]\n",
      " [5685.48617094  461.89284472]]\n",
      "[[3211.97073461   38.89730068]\n",
      " [  30.7408523  3229.0676673 ]]\n",
      "skipping \n",
      "\n",
      "[[620.95813063 151.21177203]\n",
      " [218.73499949 552.63821801]]\n",
      "skipping \n",
      "\n",
      "[[1430.60267021  183.84776311 2427.92298066]\n",
      " [1941.98455195 2540.09133694   20.14944168]]\n",
      "[[   31.89043744 12745.44314647]\n",
      " [12741.17047213    30.01666204]]\n",
      "[[7605.6870827    88.60022573 9508.79498149]\n",
      " [6684.9412862  9589.93879021   31.144823  ]\n",
      " [  43.79497688 7638.56138288 6656.71961254]]\n",
      "[[ 935.98344002 2534.72089193]\n",
      " [1850.50506619   62.        ]]\n",
      "[[1619.99876543 1284.47070811]\n",
      " [ 105.89145386 1031.67824442]]\n",
      "[[   75.74958746  6510.60058674 11021.62478948]\n",
      " [11065.46799733  4853.89328272   248.2035455 ]]\n",
      "skipping \n",
      "\n",
      "[[310.85366332  23.02172887]\n",
      " [ 62.4899992  303.19135872]]\n",
      "skipping \n",
      "\n",
      "[[   40.31128874 12244.73049928]\n",
      " [12212.52574204    46.09772229]]\n",
      "[[ 5963.93569717 14680.46378695    96.64884893]\n",
      " [ 9660.69666225    65.32993188 14711.3417471 ]]\n",
      "[[1109.86485664 3692.88505101]\n",
      " [2858.46899581   32.26453161]]\n",
      "[[4383.26647604 6625.7616166   805.82938641]\n",
      " [2635.96092536   45.475268   6080.72758804]]\n",
      "[[299.8349546  881.41080093]\n",
      " [776.66273246  45.48626166]]\n",
      "[[4345.46487732  142.46754016 8994.61805748]\n",
      " [7223.4288257  9523.42816427  725.81333688]]\n",
      "skipping \n",
      "\n",
      "[[ 50971.90969544 104903.52570338  68877.84624972  69601.12287169\n",
      "   50977.3090404   37501.3884543   32724.09505242    223.90176417]\n",
      " [   247.97177259  58257.45934213  23492.67945552  24605.16199906\n",
      "   12148.74944181  16729.28868781  21044.78008913  51145.82626178]\n",
      " [ 58174.28027058    167.16458955  36412.88591969  35762.25286528\n",
      "   55096.19992341  68432.88695503  72770.63700422 104960.22963485]]\n",
      "skipping \n",
      "\n",
      "[[ 1169.28396893    50.21951812 20369.20933664 21178.14800685\n",
      "  22693.15000171]\n",
      " [22746.87391709 22673.23818955  2769.20656507  1592.80413108\n",
      "     47.16990566]]\n",
      "[[11691.13086917  9801.80677222  9378.60570661   235.75623003]\n",
      " [  208.540164   15491.69041777  2728.81384488 11749.98114892]\n",
      " [15814.15486202   354.9154829  14240.8687235   9929.1142606 ]]\n",
      "skipping \n",
      "\n",
      "[[7405.00506414   71.86793444]\n",
      " [1041.80468419 7166.27378768]]\n",
      "skipping \n",
      "\n",
      "[[ 241.85532866 1607.08244966]\n",
      " [1651.96277198  120.70211266]]\n",
      "[[ 45.12205669 225.22211259]\n",
      " [239.06066176  56.64803615]]\n",
      "[[5477.85049084  865.63560463 9255.64584456]\n",
      " [5316.68176591 8598.90365105  211.10423965]]\n",
      "skipping \n",
      "\n",
      "[[  591.34930456 22345.55718706 20834.35396167 32221.76342164\n",
      "  28132.42209622 18346.75491742 23968.62065285 28552.57153042\n",
      "  33621.04781235 33355.17911809 35467.64570704 26253.03237723]\n",
      " [21964.59917686    74.97332859 25135.39575976 14815.47046165\n",
      "  11708.64885459 18790.40406697 19885.16142756 17245.05610313\n",
      "  16683.97137974 17666.75004068 20839.42103322 19991.73929402]\n",
      " [29138.15301285 12566.00003979 23355.91762274  4316.74194272\n",
      "   1159.97499973 16395.49111799 13768.579629    7046.28299176\n",
      "   4531.07856917  5175.55340036  8393.80205866 12749.20985787]\n",
      " [21090.70212203 25336.70917858   172.11914478 24363.70587575\n",
      "  22715.49966433 12222.70174716 11740.74060696 18521.69303816\n",
      "  26040.63236559 24634.55499903 26155.31903839 19618.24959062]\n",
      " [24017.2248605  19923.11566999 11706.35541063 15462.8802621\n",
      "  13167.82537096  6541.77804576    35.4964787   7777.74935312\n",
      "  15798.07925034 14257.72527439 15129.8856572   8555.66064077]\n",
      " [26686.70335579 20175.2463182  19779.53500465 15804.26904352\n",
      "  12219.50281313  9519.67488941  8702.17133824  8666.01898221\n",
      "  14056.78661715 12916.80796482 12349.07211089   325.30754679]\n",
      " [29086.42803783 17484.98452959 18847.49917098  7881.35775105\n",
      "   6918.81991383 13060.30818932  8317.81377527   714.30035699\n",
      "   7654.9833442   5982.61548154  7460.83520794  9368.27225266]\n",
      " [32272.01637642 15114.68084347 24389.70065417   271.99448524\n",
      "   5440.21801034 19388.34982664 15544.6416813   8389.15573821\n",
      "   4053.78995509  4594.41759095  8307.25544329 15990.67359432]\n",
      " [33505.35419899 16721.38427284 26019.9288431   4125.32277525\n",
      "   5654.70361734 19484.60659084 15827.77501735  8099.26965843\n",
      "     36.74234614  2126.70073118  5012.11991078 14217.90297477]\n",
      " [35371.1980289  20700.96582288 26253.68037057  8304.35271409\n",
      "   9062.62461983 19458.9074719  15245.72936924  7930.21468814\n",
      "   4822.75854672  3690.78555324   291.10135692 12630.15601646]]\n",
      "skipping \n",
      "\n",
      "skipping \n",
      "\n",
      "skipping \n",
      "\n",
      "skipping \n",
      "\n",
      "[[1773.9574403   262.78698598]\n",
      " [  12.36931688 1964.69157885]]\n",
      "[[2931.81121493   94.95261976]\n",
      " [ 101.78899744 2977.3716597 ]]\n",
      "[[5963.40339068  941.31450642]\n",
      " [  41.0487515  5354.89215578]]\n",
      "[[17026.81520426    20.90454496 19963.30669003]\n",
      " [ 3509.92948647 19956.17247871    25.        ]]\n",
      "[[1631.98774505  139.89996426]\n",
      " [  94.27619    1655.5470395 ]]\n",
      "[[5.24722708e+03 6.10227572e+03 3.18216907e+02 1.72840896e+04\n",
      "  1.09311354e+04 2.03664803e+04]\n",
      " [1.65972974e+04 1.46402354e+04 2.03785424e+04 4.23783305e+03\n",
      "  1.00837706e+04 9.21954446e+00]]\n",
      "[[10355.88513841    35.28455753]\n",
      " [   31.06444913 10358.44124374]]\n",
      "skipping \n",
      "\n",
      "skipping \n",
      "\n",
      "[[   61.40032573  5161.01055996 16096.10241642]\n",
      " [16090.07426956 11216.67999009    49.12229636]]\n",
      "[[ 567.43369657 3469.70978613]\n",
      " [3244.97411392   68.02940541]]\n",
      "[[16733.89643807  8273.97316892   682.07111066]\n",
      " [   59.51470407 11144.90735717 16849.42506438]]\n",
      "[[11926.12267252   124.6314567 ]\n",
      " [  118.41030361 11931.48532246]]\n",
      "skipping \n",
      "\n",
      "[[ 106.62082348  894.87261663]\n",
      " [1033.07550547  708.78064308]]\n",
      "skipping \n",
      "\n"
     ]
    },
    {
     "name": "stderr",
     "output_type": "stream",
     "text": [
      "07/29/2022 11:20:47 AM WARNING: face_normals incorrect shape, ignoring! \n"
     ]
    },
    {
     "name": "stdout",
     "output_type": "stream",
     "text": [
      "Warning: deduplication not currently supported for this layer's variable layered draco meshes\n"
     ]
    },
    {
     "name": "stderr",
     "output_type": "stream",
     "text": [
      "100%|██████████| 3996/3996 [00:00<00:00, 611114.96it/s]\n",
      "07/29/2022 11:20:49 AM WARNING: face_normals incorrect shape, ignoring! \n"
     ]
    },
    {
     "name": "stdout",
     "output_type": "stream",
     "text": [
      "Warning: deduplication not currently supported for this layer's variable layered draco meshes\n"
     ]
    },
    {
     "name": "stderr",
     "output_type": "stream",
     "text": [
      "  0%|          | 0/10649 [00:00<?, ?it/s]/Library/Frameworks/Python.framework/Versions/3.8/lib/python3.8/site-packages/meshparty/skeletonize.py:613: RuntimeWarning: invalid value encountered in multiply\n",
      "  target = np.nanargmax(root_ds * valid)\n",
      "100%|██████████| 10649/10649 [00:00<00:00, 455047.05it/s]\n",
      "07/29/2022 11:20:51 AM WARNING: face_normals incorrect shape, ignoring! \n"
     ]
    },
    {
     "name": "stdout",
     "output_type": "stream",
     "text": [
      "Warning: deduplication not currently supported for this layer's variable layered draco meshes\n"
     ]
    },
    {
     "name": "stderr",
     "output_type": "stream",
     "text": [
      "100%|██████████| 1140/1140 [00:00<00:00, 312088.41it/s]\n",
      "07/29/2022 11:20:56 AM WARNING: face_normals incorrect shape, ignoring! \n"
     ]
    },
    {
     "name": "stdout",
     "output_type": "stream",
     "text": [
      "Warning: deduplication not currently supported for this layer's variable layered draco meshes\n"
     ]
    },
    {
     "name": "stderr",
     "output_type": "stream",
     "text": [
      "100%|██████████| 91377/91377 [00:00<00:00, 208665.79it/s]\n",
      "07/29/2022 11:21:07 AM WARNING: face_normals incorrect shape, ignoring! \n"
     ]
    },
    {
     "name": "stdout",
     "output_type": "stream",
     "text": [
      "Warning: deduplication not currently supported for this layer's variable layered draco meshes\n"
     ]
    },
    {
     "name": "stderr",
     "output_type": "stream",
     "text": [
      "100%|██████████| 117/117 [00:00<00:00, 48467.51it/s]\n",
      "07/29/2022 11:21:09 AM WARNING: face_normals incorrect shape, ignoring! \n"
     ]
    },
    {
     "name": "stdout",
     "output_type": "stream",
     "text": [
      "Warning: deduplication not currently supported for this layer's variable layered draco meshes\n"
     ]
    },
    {
     "name": "stderr",
     "output_type": "stream",
     "text": [
      "100%|██████████| 725/725 [00:00<00:00, 159944.79it/s]\n",
      "07/29/2022 11:21:11 AM WARNING: face_normals incorrect shape, ignoring! \n"
     ]
    },
    {
     "name": "stdout",
     "output_type": "stream",
     "text": [
      "Warning: deduplication not currently supported for this layer's variable layered draco meshes\n"
     ]
    },
    {
     "name": "stderr",
     "output_type": "stream",
     "text": [
      "100%|██████████| 3024/3024 [00:00<00:00, 155456.93it/s]\n",
      "07/29/2022 11:21:13 AM WARNING: face_normals incorrect shape, ignoring! \n"
     ]
    },
    {
     "name": "stdout",
     "output_type": "stream",
     "text": [
      "Warning: deduplication not currently supported for this layer's variable layered draco meshes\n"
     ]
    },
    {
     "name": "stderr",
     "output_type": "stream",
     "text": [
      "100%|██████████| 590/590 [00:00<00:00, 85335.33it/s]\n",
      "07/29/2022 11:21:16 AM WARNING: face_normals incorrect shape, ignoring! \n"
     ]
    },
    {
     "name": "stdout",
     "output_type": "stream",
     "text": [
      "Warning: deduplication not currently supported for this layer's variable layered draco meshes\n"
     ]
    },
    {
     "name": "stderr",
     "output_type": "stream",
     "text": [
      "100%|██████████| 33205/33205 [00:00<00:00, 142540.02it/s]\n",
      "07/29/2022 11:21:20 AM WARNING: face_normals incorrect shape, ignoring! \n"
     ]
    },
    {
     "name": "stdout",
     "output_type": "stream",
     "text": [
      "Warning: deduplication not currently supported for this layer's variable layered draco meshes\n"
     ]
    },
    {
     "name": "stderr",
     "output_type": "stream",
     "text": [
      "100%|██████████| 338/338 [00:00<00:00, 149701.66it/s]\n",
      "07/29/2022 11:21:22 AM WARNING: face_normals incorrect shape, ignoring! \n"
     ]
    },
    {
     "name": "stdout",
     "output_type": "stream",
     "text": [
      "Warning: deduplication not currently supported for this layer's variable layered draco meshes\n"
     ]
    },
    {
     "name": "stderr",
     "output_type": "stream",
     "text": [
      "100%|██████████| 5856/5856 [00:00<00:00, 436034.87it/s]\n",
      "07/29/2022 11:21:24 AM WARNING: face_normals incorrect shape, ignoring! \n"
     ]
    },
    {
     "name": "stdout",
     "output_type": "stream",
     "text": [
      "Warning: deduplication not currently supported for this layer's variable layered draco meshes\n"
     ]
    },
    {
     "name": "stderr",
     "output_type": "stream",
     "text": [
      "100%|██████████| 7270/7270 [00:00<00:00, 462703.00it/s]\n",
      "07/29/2022 11:21:26 AM WARNING: face_normals incorrect shape, ignoring! \n"
     ]
    },
    {
     "name": "stdout",
     "output_type": "stream",
     "text": [
      "Warning: deduplication not currently supported for this layer's variable layered draco meshes\n"
     ]
    },
    {
     "name": "stderr",
     "output_type": "stream",
     "text": [
      "100%|██████████| 12420/12420 [00:00<00:00, 530222.05it/s]\n",
      "07/29/2022 11:21:29 AM WARNING: face_normals incorrect shape, ignoring! \n"
     ]
    },
    {
     "name": "stdout",
     "output_type": "stream",
     "text": [
      "Warning: deduplication not currently supported for this layer's variable layered draco meshes\n"
     ]
    },
    {
     "name": "stderr",
     "output_type": "stream",
     "text": [
      "100%|██████████| 11545/11545 [00:00<00:00, 715293.73it/s]\n",
      "07/29/2022 11:21:31 AM WARNING: face_normals incorrect shape, ignoring! \n"
     ]
    },
    {
     "name": "stdout",
     "output_type": "stream",
     "text": [
      "Warning: deduplication not currently supported for this layer's variable layered draco meshes\n",
      "\n",
      "\n",
      "Seg 864691133692934758 returned error on get. Skipping.\n",
      "\n"
     ]
    },
    {
     "name": "stderr",
     "output_type": "stream",
     "text": [
      "07/29/2022 11:21:32 AM WARNING: face_normals incorrect shape, ignoring! \n"
     ]
    },
    {
     "name": "stdout",
     "output_type": "stream",
     "text": [
      "Warning: deduplication not currently supported for this layer's variable layered draco meshes\n"
     ]
    },
    {
     "name": "stderr",
     "output_type": "stream",
     "text": [
      "100%|██████████| 158/158 [00:00<00:00, 75598.91it/s]\n",
      "07/29/2022 11:21:34 AM WARNING: face_normals incorrect shape, ignoring! \n"
     ]
    },
    {
     "name": "stdout",
     "output_type": "stream",
     "text": [
      "Warning: deduplication not currently supported for this layer's variable layered draco meshes\n"
     ]
    },
    {
     "name": "stderr",
     "output_type": "stream",
     "text": [
      "100%|██████████| 1243/1243 [00:00<00:00, 299886.10it/s]\n",
      "07/29/2022 11:21:35 AM WARNING: face_normals incorrect shape, ignoring! \n"
     ]
    },
    {
     "name": "stdout",
     "output_type": "stream",
     "text": [
      "Warning: deduplication not currently supported for this layer's variable layered draco meshes\n",
      "\n",
      "\n",
      "Seg 864691133946526057 returned error on get. Skipping.\n",
      "\n"
     ]
    },
    {
     "name": "stderr",
     "output_type": "stream",
     "text": [
      "07/29/2022 11:21:36 AM WARNING: face_normals incorrect shape, ignoring! \n"
     ]
    },
    {
     "name": "stdout",
     "output_type": "stream",
     "text": [
      "Warning: deduplication not currently supported for this layer's variable layered draco meshes\n",
      "\n",
      "\n",
      "Seg 864691133712131152 returned error on get. Skipping.\n",
      "\n"
     ]
    },
    {
     "name": "stderr",
     "output_type": "stream",
     "text": [
      "07/29/2022 11:21:37 AM WARNING: face_normals incorrect shape, ignoring! \n"
     ]
    },
    {
     "name": "stdout",
     "output_type": "stream",
     "text": [
      "Warning: deduplication not currently supported for this layer's variable layered draco meshes\n"
     ]
    },
    {
     "name": "stderr",
     "output_type": "stream",
     "text": [
      "100%|██████████| 204/204 [00:00<00:00, 101439.01it/s]\n",
      "07/29/2022 11:21:40 AM WARNING: face_normals incorrect shape, ignoring! \n"
     ]
    },
    {
     "name": "stdout",
     "output_type": "stream",
     "text": [
      "Warning: deduplication not currently supported for this layer's variable layered draco meshes\n"
     ]
    },
    {
     "name": "stderr",
     "output_type": "stream",
     "text": [
      "100%|██████████| 22603/22603 [00:00<00:00, 364575.52it/s]\n",
      "07/29/2022 11:21:43 AM WARNING: face_normals incorrect shape, ignoring! \n"
     ]
    },
    {
     "name": "stdout",
     "output_type": "stream",
     "text": [
      "Warning: deduplication not currently supported for this layer's variable layered draco meshes\n"
     ]
    },
    {
     "name": "stderr",
     "output_type": "stream",
     "text": [
      "100%|██████████| 3568/3568 [00:00<00:00, 558385.01it/s]\n",
      "07/29/2022 11:21:45 AM WARNING: face_normals incorrect shape, ignoring! \n"
     ]
    },
    {
     "name": "stdout",
     "output_type": "stream",
     "text": [
      "Warning: deduplication not currently supported for this layer's variable layered draco meshes\n",
      "\n",
      "\n",
      "Seg 864691133678427777 returned error on get. Skipping.\n",
      "\n"
     ]
    },
    {
     "name": "stderr",
     "output_type": "stream",
     "text": [
      "07/29/2022 11:21:46 AM WARNING: face_normals incorrect shape, ignoring! \n"
     ]
    },
    {
     "name": "stdout",
     "output_type": "stream",
     "text": [
      "Warning: deduplication not currently supported for this layer's variable layered draco meshes\n"
     ]
    },
    {
     "name": "stderr",
     "output_type": "stream",
     "text": [
      "100%|██████████| 556/556 [00:00<00:00, 256464.65it/s]\n",
      "07/29/2022 11:21:48 AM WARNING: face_normals incorrect shape, ignoring! \n"
     ]
    },
    {
     "name": "stdout",
     "output_type": "stream",
     "text": [
      "Warning: deduplication not currently supported for this layer's variable layered draco meshes\n"
     ]
    },
    {
     "name": "stderr",
     "output_type": "stream",
     "text": [
      "100%|██████████| 1119/1119 [00:00<00:00, 207949.76it/s]\n",
      "07/29/2022 11:21:49 AM WARNING: face_normals incorrect shape, ignoring! \n"
     ]
    },
    {
     "name": "stdout",
     "output_type": "stream",
     "text": [
      "Warning: deduplication not currently supported for this layer's variable layered draco meshes\n"
     ]
    },
    {
     "name": "stderr",
     "output_type": "stream",
     "text": [
      "100%|██████████| 3576/3576 [00:00<00:00, 592651.77it/s]\n",
      "07/29/2022 11:21:51 AM WARNING: face_normals incorrect shape, ignoring! \n"
     ]
    },
    {
     "name": "stdout",
     "output_type": "stream",
     "text": [
      "Warning: deduplication not currently supported for this layer's variable layered draco meshes\n"
     ]
    },
    {
     "name": "stderr",
     "output_type": "stream",
     "text": [
      "100%|██████████| 230/230 [00:00<00:00, 66088.23it/s]\n",
      "07/29/2022 11:21:52 AM WARNING: face_normals incorrect shape, ignoring! \n"
     ]
    },
    {
     "name": "stdout",
     "output_type": "stream",
     "text": [
      "Warning: deduplication not currently supported for this layer's variable layered draco meshes\n"
     ]
    },
    {
     "name": "stderr",
     "output_type": "stream",
     "text": [
      "100%|██████████| 1402/1402 [00:00<00:00, 301451.49it/s]\n",
      "07/29/2022 11:21:53 AM WARNING: face_normals incorrect shape, ignoring! \n"
     ]
    },
    {
     "name": "stdout",
     "output_type": "stream",
     "text": [
      "Warning: deduplication not currently supported for this layer's variable layered draco meshes\n",
      "\n",
      "\n",
      "Seg 864691133766052845 returned error on get. Skipping.\n",
      "\n"
     ]
    },
    {
     "name": "stderr",
     "output_type": "stream",
     "text": [
      "07/29/2022 11:21:54 AM WARNING: face_normals incorrect shape, ignoring! \n"
     ]
    },
    {
     "name": "stdout",
     "output_type": "stream",
     "text": [
      "Warning: deduplication not currently supported for this layer's variable layered draco meshes\n"
     ]
    },
    {
     "name": "stderr",
     "output_type": "stream",
     "text": [
      "100%|██████████| 1499/1499 [00:00<00:00, 344432.00it/s]\n",
      "07/29/2022 11:21:57 AM WARNING: face_normals incorrect shape, ignoring! \n"
     ]
    },
    {
     "name": "stdout",
     "output_type": "stream",
     "text": [
      "Warning: deduplication not currently supported for this layer's variable layered draco meshes\n"
     ]
    },
    {
     "name": "stderr",
     "output_type": "stream",
     "text": [
      "100%|██████████| 14992/14992 [00:00<00:00, 585413.36it/s]\n",
      "07/29/2022 11:21:59 AM WARNING: face_normals incorrect shape, ignoring! \n"
     ]
    },
    {
     "name": "stdout",
     "output_type": "stream",
     "text": [
      "Warning: deduplication not currently supported for this layer's variable layered draco meshes\n"
     ]
    },
    {
     "name": "stderr",
     "output_type": "stream",
     "text": [
      "100%|██████████| 351/351 [00:00<00:00, 181193.93it/s]\n",
      "07/29/2022 11:22:00 AM WARNING: face_normals incorrect shape, ignoring! \n"
     ]
    },
    {
     "name": "stdout",
     "output_type": "stream",
     "text": [
      "Warning: deduplication not currently supported for this layer's variable layered draco meshes\n"
     ]
    },
    {
     "name": "stderr",
     "output_type": "stream",
     "text": [
      "100%|██████████| 3586/3586 [00:00<00:00, 584493.61it/s]\n",
      "07/29/2022 11:22:02 AM WARNING: face_normals incorrect shape, ignoring! \n"
     ]
    },
    {
     "name": "stdout",
     "output_type": "stream",
     "text": [
      "Warning: deduplication not currently supported for this layer's variable layered draco meshes\n"
     ]
    },
    {
     "name": "stderr",
     "output_type": "stream",
     "text": [
      "100%|██████████| 5274/5274 [00:00<00:00, 616280.14it/s]\n",
      "07/29/2022 11:22:04 AM WARNING: face_normals incorrect shape, ignoring! \n"
     ]
    },
    {
     "name": "stdout",
     "output_type": "stream",
     "text": [
      "Warning: deduplication not currently supported for this layer's variable layered draco meshes\n"
     ]
    },
    {
     "name": "stderr",
     "output_type": "stream",
     "text": [
      "100%|██████████| 7026/7026 [00:00<00:00, 639605.42it/s]\n",
      "07/29/2022 11:22:05 AM WARNING: face_normals incorrect shape, ignoring! \n"
     ]
    },
    {
     "name": "stdout",
     "output_type": "stream",
     "text": [
      "Warning: deduplication not currently supported for this layer's variable layered draco meshes\n"
     ]
    },
    {
     "name": "stderr",
     "output_type": "stream",
     "text": [
      "100%|██████████| 2368/2368 [00:00<00:00, 479349.03it/s]\n",
      "07/29/2022 11:22:08 AM WARNING: face_normals incorrect shape, ignoring! \n"
     ]
    },
    {
     "name": "stdout",
     "output_type": "stream",
     "text": [
      "Warning: deduplication not currently supported for this layer's variable layered draco meshes\n"
     ]
    },
    {
     "name": "stderr",
     "output_type": "stream",
     "text": [
      "100%|██████████| 4525/4525 [00:00<00:00, 557589.33it/s]\n",
      "07/29/2022 11:22:10 AM WARNING: face_normals incorrect shape, ignoring! \n"
     ]
    },
    {
     "name": "stdout",
     "output_type": "stream",
     "text": [
      "Warning: deduplication not currently supported for this layer's variable layered draco meshes\n"
     ]
    },
    {
     "name": "stderr",
     "output_type": "stream",
     "text": [
      "100%|██████████| 15505/15505 [00:00<00:00, 605140.96it/s]\n",
      "07/29/2022 11:22:16 AM WARNING: face_normals incorrect shape, ignoring! \n"
     ]
    },
    {
     "name": "stdout",
     "output_type": "stream",
     "text": [
      "Warning: deduplication not currently supported for this layer's variable layered draco meshes\n"
     ]
    },
    {
     "name": "stderr",
     "output_type": "stream",
     "text": [
      "100%|██████████| 28900/28900 [00:00<00:00, 207970.12it/s]\n",
      "07/29/2022 11:22:20 AM WARNING: face_normals incorrect shape, ignoring! \n"
     ]
    },
    {
     "name": "stdout",
     "output_type": "stream",
     "text": [
      "Warning: deduplication not currently supported for this layer's variable layered draco meshes\n"
     ]
    },
    {
     "name": "stderr",
     "output_type": "stream",
     "text": [
      "100%|██████████| 6582/6582 [00:00<00:00, 484365.73it/s]\n",
      "07/29/2022 11:22:27 AM WARNING: face_normals incorrect shape, ignoring! \n"
     ]
    },
    {
     "name": "stdout",
     "output_type": "stream",
     "text": [
      "Warning: deduplication not currently supported for this layer's variable layered draco meshes\n"
     ]
    },
    {
     "name": "stderr",
     "output_type": "stream",
     "text": [
      "100%|██████████| 105180/105180 [00:00<00:00, 175970.46it/s]\n",
      "07/29/2022 11:22:43 AM WARNING: face_normals incorrect shape, ignoring! \n"
     ]
    },
    {
     "name": "stdout",
     "output_type": "stream",
     "text": [
      "Warning: deduplication not currently supported for this layer's variable layered draco meshes\n"
     ]
    },
    {
     "name": "stderr",
     "output_type": "stream",
     "text": [
      "100%|██████████| 18513/18513 [00:00<00:00, 373870.43it/s]\n",
      "07/29/2022 11:22:48 AM WARNING: face_normals incorrect shape, ignoring! \n"
     ]
    },
    {
     "name": "stdout",
     "output_type": "stream",
     "text": [
      "Warning: deduplication not currently supported for this layer's variable layered draco meshes\n"
     ]
    },
    {
     "name": "stderr",
     "output_type": "stream",
     "text": [
      "100%|██████████| 15061/15061 [00:00<00:00, 165570.85it/s]\n",
      "07/29/2022 11:22:52 AM WARNING: face_normals incorrect shape, ignoring! \n"
     ]
    },
    {
     "name": "stdout",
     "output_type": "stream",
     "text": [
      "Warning: deduplication not currently supported for this layer's variable layered draco meshes\n"
     ]
    },
    {
     "name": "stderr",
     "output_type": "stream",
     "text": [
      "100%|██████████| 14865/14865 [00:00<00:00, 610826.96it/s]\n",
      "07/29/2022 11:23:01 AM WARNING: face_normals incorrect shape, ignoring! \n"
     ]
    },
    {
     "name": "stdout",
     "output_type": "stream",
     "text": [
      "Warning: deduplication not currently supported for this layer's variable layered draco meshes\n"
     ]
    },
    {
     "name": "stderr",
     "output_type": "stream",
     "text": [
      "100%|██████████| 73820/73820 [00:01<00:00, 44412.78it/s] \n",
      "07/29/2022 11:23:19 AM WARNING: face_normals incorrect shape, ignoring! \n"
     ]
    },
    {
     "name": "stdout",
     "output_type": "stream",
     "text": [
      "Warning: deduplication not currently supported for this layer's variable layered draco meshes\n"
     ]
    },
    {
     "name": "stderr",
     "output_type": "stream",
     "text": [
      "100%|██████████| 5791/5791 [00:00<00:00, 397981.59it/s]\n",
      "07/29/2022 11:23:22 AM WARNING: face_normals incorrect shape, ignoring! \n"
     ]
    },
    {
     "name": "stdout",
     "output_type": "stream",
     "text": [
      "Warning: deduplication not currently supported for this layer's variable layered draco meshes\n"
     ]
    },
    {
     "name": "stderr",
     "output_type": "stream",
     "text": [
      "100%|██████████| 14714/14714 [00:00<00:00, 237426.53it/s]\n",
      "07/29/2022 11:23:25 AM WARNING: face_normals incorrect shape, ignoring! \n"
     ]
    },
    {
     "name": "stdout",
     "output_type": "stream",
     "text": [
      "Warning: deduplication not currently supported for this layer's variable layered draco meshes\n"
     ]
    },
    {
     "name": "stderr",
     "output_type": "stream",
     "text": [
      "100%|██████████| 12530/12530 [00:00<00:00, 404179.32it/s]\n",
      "07/29/2022 11:23:30 AM WARNING: face_normals incorrect shape, ignoring! \n"
     ]
    },
    {
     "name": "stdout",
     "output_type": "stream",
     "text": [
      "Warning: deduplication not currently supported for this layer's variable layered draco meshes\n"
     ]
    },
    {
     "name": "stderr",
     "output_type": "stream",
     "text": [
      "100%|██████████| 26058/26058 [00:00<00:00, 502689.13it/s]\n",
      "07/29/2022 11:23:42 AM WARNING: face_normals incorrect shape, ignoring! \n"
     ]
    },
    {
     "name": "stdout",
     "output_type": "stream",
     "text": [
      "Warning: deduplication not currently supported for this layer's variable layered draco meshes\n"
     ]
    },
    {
     "name": "stderr",
     "output_type": "stream",
     "text": [
      "100%|██████████| 210150/210150 [00:02<00:00, 99079.08it/s] \n",
      "07/29/2022 11:24:11 AM WARNING: face_normals incorrect shape, ignoring! \n"
     ]
    },
    {
     "name": "stdout",
     "output_type": "stream",
     "text": [
      "Warning: deduplication not currently supported for this layer's variable layered draco meshes\n"
     ]
    },
    {
     "name": "stderr",
     "output_type": "stream",
     "text": [
      "100%|██████████| 3699/3699 [00:00<00:00, 358150.71it/s]\n",
      "07/29/2022 11:24:15 AM WARNING: face_normals incorrect shape, ignoring! \n"
     ]
    },
    {
     "name": "stdout",
     "output_type": "stream",
     "text": [
      "Warning: deduplication not currently supported for this layer's variable layered draco meshes\n"
     ]
    },
    {
     "name": "stderr",
     "output_type": "stream",
     "text": [
      "100%|██████████| 8352/8352 [00:00<00:00, 449268.68it/s]\n",
      "07/29/2022 11:24:21 AM WARNING: face_normals incorrect shape, ignoring! \n"
     ]
    },
    {
     "name": "stdout",
     "output_type": "stream",
     "text": [
      "Warning: deduplication not currently supported for this layer's variable layered draco meshes\n"
     ]
    },
    {
     "name": "stderr",
     "output_type": "stream",
     "text": [
      "100%|██████████| 17575/17575 [00:00<00:00, 608700.87it/s]\n",
      "07/29/2022 11:24:25 AM WARNING: face_normals incorrect shape, ignoring! \n"
     ]
    },
    {
     "name": "stdout",
     "output_type": "stream",
     "text": [
      "Warning: deduplication not currently supported for this layer's variable layered draco meshes\n"
     ]
    },
    {
     "name": "stderr",
     "output_type": "stream",
     "text": [
      "100%|██████████| 17800/17800 [00:00<00:00, 102723.91it/s]\n",
      "07/29/2022 11:24:29 AM WARNING: face_normals incorrect shape, ignoring! \n"
     ]
    },
    {
     "name": "stdout",
     "output_type": "stream",
     "text": [
      "Warning: deduplication not currently supported for this layer's variable layered draco meshes\n"
     ]
    },
    {
     "name": "stderr",
     "output_type": "stream",
     "text": [
      "100%|██████████| 1644/1644 [00:00<00:00, 215179.77it/s]\n",
      "07/29/2022 11:24:31 AM WARNING: face_normals incorrect shape, ignoring! \n"
     ]
    },
    {
     "name": "stdout",
     "output_type": "stream",
     "text": [
      "Warning: deduplication not currently supported for this layer's variable layered draco meshes\n"
     ]
    },
    {
     "name": "stderr",
     "output_type": "stream",
     "text": [
      "100%|██████████| 11380/11380 [00:00<00:00, 444788.84it/s]\n",
      "07/29/2022 11:24:34 AM WARNING: face_normals incorrect shape, ignoring! \n"
     ]
    },
    {
     "name": "stdout",
     "output_type": "stream",
     "text": [
      "Warning: deduplication not currently supported for this layer's variable layered draco meshes\n"
     ]
    },
    {
     "name": "stderr",
     "output_type": "stream",
     "text": [
      "100%|██████████| 152/152 [00:00<00:00, 38636.10it/s]\n",
      "07/29/2022 11:24:35 AM WARNING: face_normals incorrect shape, ignoring! \n"
     ]
    },
    {
     "name": "stdout",
     "output_type": "stream",
     "text": [
      "Warning: deduplication not currently supported for this layer's variable layered draco meshes\n"
     ]
    },
    {
     "name": "stderr",
     "output_type": "stream",
     "text": [
      "100%|██████████| 934/934 [00:00<00:00, 210787.19it/s]\n",
      "07/29/2022 11:24:39 AM WARNING: face_normals incorrect shape, ignoring! \n"
     ]
    },
    {
     "name": "stdout",
     "output_type": "stream",
     "text": [
      "Warning: deduplication not currently supported for this layer's variable layered draco meshes\n"
     ]
    },
    {
     "name": "stderr",
     "output_type": "stream",
     "text": [
      "100%|██████████| 73645/73645 [00:00<00:00, 323086.59it/s]\n",
      "07/29/2022 11:24:48 AM WARNING: face_normals incorrect shape, ignoring! \n"
     ]
    },
    {
     "name": "stdout",
     "output_type": "stream",
     "text": [
      "Warning: deduplication not currently supported for this layer's variable layered draco meshes\n"
     ]
    },
    {
     "name": "stderr",
     "output_type": "stream",
     "text": [
      "100%|██████████| 403/403 [00:00<00:00, 78662.72it/s]\n",
      "07/29/2022 11:24:49 AM WARNING: face_normals incorrect shape, ignoring! \n"
     ]
    },
    {
     "name": "stdout",
     "output_type": "stream",
     "text": [
      "Warning: deduplication not currently supported for this layer's variable layered draco meshes\n"
     ]
    },
    {
     "name": "stderr",
     "output_type": "stream",
     "text": [
      "100%|██████████| 5928/5928 [00:00<00:00, 422998.20it/s]\n",
      "07/29/2022 11:24:52 AM WARNING: face_normals incorrect shape, ignoring! \n"
     ]
    },
    {
     "name": "stdout",
     "output_type": "stream",
     "text": [
      "Warning: deduplication not currently supported for this layer's variable layered draco meshes\n"
     ]
    },
    {
     "name": "stderr",
     "output_type": "stream",
     "text": [
      "100%|██████████| 8016/8016 [00:00<00:00, 672753.74it/s]\n",
      "07/29/2022 11:24:54 AM WARNING: face_normals incorrect shape, ignoring! \n"
     ]
    },
    {
     "name": "stdout",
     "output_type": "stream",
     "text": [
      "Warning: deduplication not currently supported for this layer's variable layered draco meshes\n"
     ]
    },
    {
     "name": "stderr",
     "output_type": "stream",
     "text": [
      "100%|██████████| 264/264 [00:00<00:00, 108910.81it/s]\n",
      "07/29/2022 11:24:57 AM WARNING: face_normals incorrect shape, ignoring! \n"
     ]
    },
    {
     "name": "stdout",
     "output_type": "stream",
     "text": [
      "Warning: deduplication not currently supported for this layer's variable layered draco meshes\n"
     ]
    },
    {
     "name": "stderr",
     "output_type": "stream",
     "text": [
      "100%|██████████| 30530/30530 [00:00<00:00, 516370.35it/s]\n",
      "07/29/2022 11:25:01 AM WARNING: face_normals incorrect shape, ignoring! \n"
     ]
    },
    {
     "name": "stdout",
     "output_type": "stream",
     "text": [
      "Warning: deduplication not currently supported for this layer's variable layered draco meshes\n"
     ]
    },
    {
     "name": "stderr",
     "output_type": "stream",
     "text": [
      "100%|██████████| 3806/3806 [00:00<00:00, 380409.90it/s]\n",
      "07/29/2022 11:25:03 AM WARNING: face_normals incorrect shape, ignoring! \n"
     ]
    },
    {
     "name": "stdout",
     "output_type": "stream",
     "text": [
      "Warning: deduplication not currently supported for this layer's variable layered draco meshes\n"
     ]
    },
    {
     "name": "stderr",
     "output_type": "stream",
     "text": [
      "100%|██████████| 7820/7820 [00:00<00:00, 612170.02it/s]\n",
      "07/29/2022 11:25:05 AM WARNING: face_normals incorrect shape, ignoring! \n"
     ]
    },
    {
     "name": "stdout",
     "output_type": "stream",
     "text": [
      "Warning: deduplication not currently supported for this layer's variable layered draco meshes\n",
      "\n",
      "\n",
      "Seg 864691133769133345 returned error on get. Skipping.\n",
      "\n"
     ]
    },
    {
     "name": "stderr",
     "output_type": "stream",
     "text": [
      "07/29/2022 11:25:10 AM WARNING: face_normals incorrect shape, ignoring! \n"
     ]
    },
    {
     "name": "stdout",
     "output_type": "stream",
     "text": [
      "Warning: deduplication not currently supported for this layer's variable layered draco meshes\n"
     ]
    },
    {
     "name": "stderr",
     "output_type": "stream",
     "text": [
      "100%|██████████| 49920/49920 [00:00<00:00, 260506.05it/s]\n",
      "07/29/2022 11:25:18 AM WARNING: face_normals incorrect shape, ignoring! \n"
     ]
    },
    {
     "name": "stdout",
     "output_type": "stream",
     "text": [
      "Warning: deduplication not currently supported for this layer's variable layered draco meshes\n"
     ]
    },
    {
     "name": "stderr",
     "output_type": "stream",
     "text": [
      "100%|██████████| 43892/43892 [00:00<00:00, 482596.03it/s]\n",
      "07/29/2022 11:25:26 AM WARNING: face_normals incorrect shape, ignoring! \n"
     ]
    },
    {
     "name": "stdout",
     "output_type": "stream",
     "text": [
      "Warning: deduplication not currently supported for this layer's variable layered draco meshes\n"
     ]
    },
    {
     "name": "stderr",
     "output_type": "stream",
     "text": [
      "100%|██████████| 19407/19407 [00:00<00:00, 460309.65it/s]\n",
      "07/29/2022 11:25:29 AM WARNING: face_normals incorrect shape, ignoring! \n"
     ]
    },
    {
     "name": "stdout",
     "output_type": "stream",
     "text": [
      "Warning: deduplication not currently supported for this layer's variable layered draco meshes\n"
     ]
    },
    {
     "name": "stderr",
     "output_type": "stream",
     "text": [
      "100%|██████████| 2448/2448 [00:00<00:00, 461384.75it/s]\n",
      "07/29/2022 11:25:34 AM WARNING: face_normals incorrect shape, ignoring! \n"
     ]
    },
    {
     "name": "stdout",
     "output_type": "stream",
     "text": [
      "Warning: deduplication not currently supported for this layer's variable layered draco meshes\n"
     ]
    },
    {
     "name": "stderr",
     "output_type": "stream",
     "text": [
      "100%|██████████| 39637/39637 [00:00<00:00, 225389.61it/s]\n",
      "07/29/2022 11:25:40 AM WARNING: face_normals incorrect shape, ignoring! \n"
     ]
    },
    {
     "name": "stdout",
     "output_type": "stream",
     "text": [
      "Warning: deduplication not currently supported for this layer's variable layered draco meshes\n"
     ]
    },
    {
     "name": "stderr",
     "output_type": "stream",
     "text": [
      "100%|██████████| 8835/8835 [00:00<00:00, 509461.15it/s]\n",
      "07/29/2022 11:25:42 AM WARNING: face_normals incorrect shape, ignoring! \n"
     ]
    },
    {
     "name": "stdout",
     "output_type": "stream",
     "text": [
      "Warning: deduplication not currently supported for this layer's variable layered draco meshes\n"
     ]
    },
    {
     "name": "stderr",
     "output_type": "stream",
     "text": [
      "100%|██████████| 9474/9474 [00:00<00:00, 699826.28it/s]\n",
      "07/29/2022 11:25:46 AM WARNING: face_normals incorrect shape, ignoring! \n"
     ]
    },
    {
     "name": "stdout",
     "output_type": "stream",
     "text": [
      "Warning: deduplication not currently supported for this layer's variable layered draco meshes\n"
     ]
    },
    {
     "name": "stderr",
     "output_type": "stream",
     "text": [
      "100%|██████████| 19620/19620 [00:00<00:00, 533585.63it/s]\n",
      "07/29/2022 11:25:51 AM WARNING: face_normals incorrect shape, ignoring! \n"
     ]
    },
    {
     "name": "stdout",
     "output_type": "stream",
     "text": [
      "Warning: deduplication not currently supported for this layer's variable layered draco meshes\n"
     ]
    },
    {
     "name": "stderr",
     "output_type": "stream",
     "text": [
      "100%|██████████| 1286/1286 [00:00<00:00, 287888.29it/s]\n",
      "07/29/2022 11:25:54 AM WARNING: face_normals incorrect shape, ignoring! \n"
     ]
    },
    {
     "name": "stdout",
     "output_type": "stream",
     "text": [
      "Warning: deduplication not currently supported for this layer's variable layered draco meshes\n"
     ]
    },
    {
     "name": "stderr",
     "output_type": "stream",
     "text": [
      "100%|██████████| 23442/23442 [00:00<00:00, 482215.98it/s]\n",
      "07/29/2022 11:26:01 AM WARNING: face_normals incorrect shape, ignoring! \n"
     ]
    },
    {
     "name": "stdout",
     "output_type": "stream",
     "text": [
      "Warning: deduplication not currently supported for this layer's variable layered draco meshes\n"
     ]
    },
    {
     "name": "stderr",
     "output_type": "stream",
     "text": [
      "100%|██████████| 36158/36158 [00:00<00:00, 443238.63it/s]\n",
      "07/29/2022 11:26:07 AM WARNING: face_normals incorrect shape, ignoring! \n"
     ]
    },
    {
     "name": "stdout",
     "output_type": "stream",
     "text": [
      "Warning: deduplication not currently supported for this layer's variable layered draco meshes\n"
     ]
    },
    {
     "name": "stderr",
     "output_type": "stream",
     "text": [
      "100%|██████████| 4826/4826 [00:00<00:00, 609341.37it/s]\n",
      "07/29/2022 11:26:08 AM WARNING: face_normals incorrect shape, ignoring! \n"
     ]
    },
    {
     "name": "stdout",
     "output_type": "stream",
     "text": [
      "Warning: deduplication not currently supported for this layer's variable layered draco meshes\n"
     ]
    },
    {
     "name": "stderr",
     "output_type": "stream",
     "text": [
      "100%|██████████| 1973/1973 [00:00<00:00, 439617.60it/s]\n",
      "07/29/2022 11:26:22 AM WARNING: face_normals incorrect shape, ignoring! \n"
     ]
    },
    {
     "name": "stdout",
     "output_type": "stream",
     "text": [
      "Warning: deduplication not currently supported for this layer's variable layered draco meshes\n"
     ]
    },
    {
     "name": "stderr",
     "output_type": "stream",
     "text": [
      "100%|██████████| 187764/187764 [00:07<00:00, 23867.68it/s]\n",
      "07/29/2022 11:27:01 AM WARNING: face_normals incorrect shape, ignoring! \n"
     ]
    },
    {
     "name": "stdout",
     "output_type": "stream",
     "text": [
      "Warning: deduplication not currently supported for this layer's variable layered draco meshes\n"
     ]
    },
    {
     "name": "stderr",
     "output_type": "stream",
     "text": [
      "100%|██████████| 485/485 [00:00<00:00, 170843.83it/s]\n",
      "07/29/2022 11:27:05 AM WARNING: face_normals incorrect shape, ignoring! \n"
     ]
    },
    {
     "name": "stdout",
     "output_type": "stream",
     "text": [
      "Warning: deduplication not currently supported for this layer's variable layered draco meshes\n"
     ]
    },
    {
     "name": "stderr",
     "output_type": "stream",
     "text": [
      "100%|██████████| 37232/37232 [00:00<00:00, 217960.43it/s]\n",
      "07/29/2022 11:27:10 AM WARNING: face_normals incorrect shape, ignoring! \n"
     ]
    },
    {
     "name": "stdout",
     "output_type": "stream",
     "text": [
      "Warning: deduplication not currently supported for this layer's variable layered draco meshes\n"
     ]
    },
    {
     "name": "stderr",
     "output_type": "stream",
     "text": [
      "100%|██████████| 2640/2640 [00:00<00:00, 371102.71it/s]\n",
      "07/29/2022 11:27:12 AM WARNING: face_normals incorrect shape, ignoring! \n"
     ]
    },
    {
     "name": "stdout",
     "output_type": "stream",
     "text": [
      "Warning: deduplication not currently supported for this layer's variable layered draco meshes\n"
     ]
    },
    {
     "name": "stderr",
     "output_type": "stream",
     "text": [
      "100%|██████████| 5980/5980 [00:00<00:00, 354710.55it/s]\n",
      "07/29/2022 11:27:14 AM WARNING: face_normals incorrect shape, ignoring! \n"
     ]
    },
    {
     "name": "stdout",
     "output_type": "stream",
     "text": [
      "Warning: deduplication not currently supported for this layer's variable layered draco meshes\n"
     ]
    },
    {
     "name": "stderr",
     "output_type": "stream",
     "text": [
      "100%|██████████| 7616/7616 [00:00<00:00, 456425.04it/s]\n",
      "07/29/2022 11:27:17 AM WARNING: face_normals incorrect shape, ignoring! \n"
     ]
    },
    {
     "name": "stdout",
     "output_type": "stream",
     "text": [
      "Warning: deduplication not currently supported for this layer's variable layered draco meshes\n"
     ]
    },
    {
     "name": "stderr",
     "output_type": "stream",
     "text": [
      "100%|██████████| 1211/1211 [00:00<00:00, 342964.36it/s]\n",
      "07/29/2022 11:27:18 AM WARNING: face_normals incorrect shape, ignoring! \n"
     ]
    },
    {
     "name": "stdout",
     "output_type": "stream",
     "text": [
      "Warning: deduplication not currently supported for this layer's variable layered draco meshes\n"
     ]
    },
    {
     "name": "stderr",
     "output_type": "stream",
     "text": [
      "100%|██████████| 1359/1359 [00:00<00:00, 298494.93it/s]\n",
      "07/29/2022 11:27:20 AM WARNING: face_normals incorrect shape, ignoring! \n"
     ]
    },
    {
     "name": "stdout",
     "output_type": "stream",
     "text": [
      "Warning: deduplication not currently supported for this layer's variable layered draco meshes\n"
     ]
    },
    {
     "name": "stderr",
     "output_type": "stream",
     "text": [
      "100%|██████████| 11308/11308 [00:00<00:00, 559135.05it/s]\n",
      "07/29/2022 11:27:23 AM WARNING: face_normals incorrect shape, ignoring! \n"
     ]
    },
    {
     "name": "stdout",
     "output_type": "stream",
     "text": [
      "Warning: deduplication not currently supported for this layer's variable layered draco meshes\n"
     ]
    },
    {
     "name": "stderr",
     "output_type": "stream",
     "text": [
      "100%|██████████| 191/191 [00:00<00:00, 106276.47it/s]\n",
      "07/29/2022 11:27:24 AM WARNING: face_normals incorrect shape, ignoring! \n"
     ]
    },
    {
     "name": "stdout",
     "output_type": "stream",
     "text": [
      "Warning: deduplication not currently supported for this layer's variable layered draco meshes\n"
     ]
    },
    {
     "name": "stderr",
     "output_type": "stream",
     "text": [
      "100%|██████████| 105/105 [00:00<00:00, 42423.84it/s]\n",
      "07/29/2022 11:27:26 AM WARNING: face_normals incorrect shape, ignoring! \n"
     ]
    },
    {
     "name": "stdout",
     "output_type": "stream",
     "text": [
      "Warning: deduplication not currently supported for this layer's variable layered draco meshes\n"
     ]
    },
    {
     "name": "stderr",
     "output_type": "stream",
     "text": [
      "100%|██████████| 7685/7685 [00:00<00:00, 336088.36it/s]\n",
      "07/29/2022 11:27:28 AM WARNING: face_normals incorrect shape, ignoring! \n"
     ]
    },
    {
     "name": "stdout",
     "output_type": "stream",
     "text": [
      "Warning: deduplication not currently supported for this layer's variable layered draco meshes\n"
     ]
    },
    {
     "name": "stderr",
     "output_type": "stream",
     "text": [
      "100%|██████████| 6048/6048 [00:00<00:00, 442661.34it/s]\n",
      "07/29/2022 11:27:31 AM WARNING: face_normals incorrect shape, ignoring! \n"
     ]
    },
    {
     "name": "stdout",
     "output_type": "stream",
     "text": [
      "Warning: deduplication not currently supported for this layer's variable layered draco meshes\n"
     ]
    },
    {
     "name": "stderr",
     "output_type": "stream",
     "text": [
      "100%|██████████| 6896/6896 [00:00<00:00, 470300.00it/s]\n",
      "07/29/2022 11:27:33 AM WARNING: face_normals incorrect shape, ignoring! \n"
     ]
    },
    {
     "name": "stdout",
     "output_type": "stream",
     "text": [
      "Warning: deduplication not currently supported for this layer's variable layered draco meshes\n"
     ]
    },
    {
     "name": "stderr",
     "output_type": "stream",
     "text": [
      "100%|██████████| 2858/2858 [00:00<00:00, 571042.34it/s]\n",
      "07/29/2022 11:27:34 AM WARNING: face_normals incorrect shape, ignoring! \n"
     ]
    },
    {
     "name": "stdout",
     "output_type": "stream",
     "text": [
      "Warning: deduplication not currently supported for this layer's variable layered draco meshes\n"
     ]
    },
    {
     "name": "stderr",
     "output_type": "stream",
     "text": [
      "100%|██████████| 4775/4775 [00:00<00:00, 448310.01it/s]\n",
      "07/29/2022 11:27:36 AM WARNING: face_normals incorrect shape, ignoring! \n"
     ]
    },
    {
     "name": "stdout",
     "output_type": "stream",
     "text": [
      "Warning: deduplication not currently supported for this layer's variable layered draco meshes\n"
     ]
    },
    {
     "name": "stderr",
     "output_type": "stream",
     "text": [
      "100%|██████████| 1010/1010 [00:00<00:00, 304875.64it/s]\n",
      "07/29/2022 11:27:38 AM WARNING: face_normals incorrect shape, ignoring! \n"
     ]
    },
    {
     "name": "stdout",
     "output_type": "stream",
     "text": [
      "Warning: deduplication not currently supported for this layer's variable layered draco meshes\n"
     ]
    },
    {
     "name": "stderr",
     "output_type": "stream",
     "text": [
      "100%|██████████| 8895/8895 [00:00<00:00, 491785.64it/s]\n",
      "07/29/2022 11:27:40 AM WARNING: face_normals incorrect shape, ignoring! \n"
     ]
    },
    {
     "name": "stdout",
     "output_type": "stream",
     "text": [
      "Warning: deduplication not currently supported for this layer's variable layered draco meshes\n",
      "\n",
      "\n",
      "Seg 864691132747855184 returned error on get. Skipping.\n",
      "\n"
     ]
    },
    {
     "name": "stderr",
     "output_type": "stream",
     "text": [
      "07/29/2022 11:27:46 AM WARNING: face_normals incorrect shape, ignoring! \n"
     ]
    },
    {
     "name": "stdout",
     "output_type": "stream",
     "text": [
      "Warning: deduplication not currently supported for this layer's variable layered draco meshes\n"
     ]
    },
    {
     "name": "stderr",
     "output_type": "stream",
     "text": [
      "100%|██████████| 126419/126419 [00:00<00:00, 199014.58it/s]\n",
      "07/29/2022 11:28:04 AM WARNING: face_normals incorrect shape, ignoring! \n"
     ]
    },
    {
     "name": "stdout",
     "output_type": "stream",
     "text": [
      "Warning: deduplication not currently supported for this layer's variable layered draco meshes\n"
     ]
    },
    {
     "name": "stderr",
     "output_type": "stream",
     "text": [
      "100%|██████████| 22194/22194 [00:00<00:00, 345814.36it/s]\n",
      "07/29/2022 11:28:08 AM WARNING: face_normals incorrect shape, ignoring! \n"
     ]
    },
    {
     "name": "stdout",
     "output_type": "stream",
     "text": [
      "Warning: deduplication not currently supported for this layer's variable layered draco meshes\n"
     ]
    },
    {
     "name": "stderr",
     "output_type": "stream",
     "text": [
      "100%|██████████| 33346/33346 [00:00<00:00, 440536.41it/s]\n",
      "07/29/2022 11:28:14 AM WARNING: face_normals incorrect shape, ignoring! \n"
     ]
    },
    {
     "name": "stdout",
     "output_type": "stream",
     "text": [
      "Warning: deduplication not currently supported for this layer's variable layered draco meshes\n"
     ]
    },
    {
     "name": "stderr",
     "output_type": "stream",
     "text": [
      "100%|██████████| 22364/22364 [00:00<00:00, 461789.31it/s]\n",
      "07/29/2022 11:28:17 AM WARNING: face_normals incorrect shape, ignoring! \n"
     ]
    },
    {
     "name": "stdout",
     "output_type": "stream",
     "text": [
      "Warning: deduplication not currently supported for this layer's variable layered draco meshes\n"
     ]
    },
    {
     "name": "stderr",
     "output_type": "stream",
     "text": [
      "100%|██████████| 152/152 [00:00<00:00, 45401.95it/s]\n",
      "07/29/2022 11:28:18 AM WARNING: face_normals incorrect shape, ignoring! \n"
     ]
    },
    {
     "name": "stdout",
     "output_type": "stream",
     "text": [
      "Warning: deduplication not currently supported for this layer's variable layered draco meshes\n"
     ]
    },
    {
     "name": "stderr",
     "output_type": "stream",
     "text": [
      "100%|██████████| 5763/5763 [00:00<00:00, 559350.53it/s]\n",
      "07/29/2022 11:28:21 AM WARNING: face_normals incorrect shape, ignoring! \n"
     ]
    },
    {
     "name": "stdout",
     "output_type": "stream",
     "text": [
      "Warning: deduplication not currently supported for this layer's variable layered draco meshes\n",
      "\n",
      "\n",
      "Seg 864691136347887475 returned error on get. Skipping.\n",
      "\n"
     ]
    },
    {
     "name": "stderr",
     "output_type": "stream",
     "text": [
      "07/29/2022 11:28:22 AM WARNING: face_normals incorrect shape, ignoring! \n"
     ]
    },
    {
     "name": "stdout",
     "output_type": "stream",
     "text": [
      "Warning: deduplication not currently supported for this layer's variable layered draco meshes\n"
     ]
    },
    {
     "name": "stderr",
     "output_type": "stream",
     "text": [
      "100%|██████████| 1905/1905 [00:00<00:00, 239742.83it/s]\n",
      "07/29/2022 11:28:23 AM WARNING: face_normals incorrect shape, ignoring! \n"
     ]
    },
    {
     "name": "stdout",
     "output_type": "stream",
     "text": [
      "Warning: deduplication not currently supported for this layer's variable layered draco meshes\n"
     ]
    },
    {
     "name": "stderr",
     "output_type": "stream",
     "text": [
      "100%|██████████| 138/138 [00:00<00:00, 39770.09it/s]\n",
      "07/29/2022 11:28:26 AM WARNING: face_normals incorrect shape, ignoring! \n"
     ]
    },
    {
     "name": "stdout",
     "output_type": "stream",
     "text": [
      "Warning: deduplication not currently supported for this layer's variable layered draco meshes\n"
     ]
    },
    {
     "name": "stderr",
     "output_type": "stream",
     "text": [
      "100%|██████████| 11909/11909 [00:00<00:00, 543424.68it/s]\n",
      "07/29/2022 11:28:28 AM WARNING: face_normals incorrect shape, ignoring! \n"
     ]
    },
    {
     "name": "stdout",
     "output_type": "stream",
     "text": [
      "Warning: deduplication not currently supported for this layer's variable layered draco meshes\n",
      "\n",
      "\n",
      "Seg 864691133525367772 returned error on get. Skipping.\n",
      "\n"
     ]
    },
    {
     "name": "stderr",
     "output_type": "stream",
     "text": [
      "07/29/2022 11:28:33 AM WARNING: face_normals incorrect shape, ignoring! \n"
     ]
    },
    {
     "name": "stdout",
     "output_type": "stream",
     "text": [
      "Warning: deduplication not currently supported for this layer's variable layered draco meshes\n"
     ]
    },
    {
     "name": "stderr",
     "output_type": "stream",
     "text": [
      "100%|██████████| 120275/120275 [00:00<00:00, 181359.10it/s]\n",
      "07/29/2022 11:28:56 AM WARNING: face_normals incorrect shape, ignoring! \n"
     ]
    },
    {
     "name": "stdout",
     "output_type": "stream",
     "text": [
      "Warning: deduplication not currently supported for this layer's variable layered draco meshes\n"
     ]
    },
    {
     "name": "stderr",
     "output_type": "stream",
     "text": [
      "100%|██████████| 202161/202161 [00:01<00:00, 156570.60it/s]\n",
      "07/29/2022 11:29:21 AM WARNING: face_normals incorrect shape, ignoring! \n"
     ]
    },
    {
     "name": "stdout",
     "output_type": "stream",
     "text": [
      "Warning: deduplication not currently supported for this layer's variable layered draco meshes\n"
     ]
    },
    {
     "name": "stderr",
     "output_type": "stream",
     "text": [
      "100%|██████████| 194/194 [00:00<00:00, 57209.80it/s]\n",
      "07/29/2022 11:29:23 AM WARNING: face_normals incorrect shape, ignoring! \n"
     ]
    },
    {
     "name": "stdout",
     "output_type": "stream",
     "text": [
      "Warning: deduplication not currently supported for this layer's variable layered draco meshes\n"
     ]
    },
    {
     "name": "stderr",
     "output_type": "stream",
     "text": [
      "100%|██████████| 128/128 [00:00<00:00, 24422.09it/s]\n",
      "07/29/2022 11:29:24 AM WARNING: face_normals incorrect shape, ignoring! \n"
     ]
    },
    {
     "name": "stdout",
     "output_type": "stream",
     "text": [
      "Warning: deduplication not currently supported for this layer's variable layered draco meshes\n"
     ]
    },
    {
     "name": "stderr",
     "output_type": "stream",
     "text": [
      "100%|██████████| 266/266 [00:00<00:00, 101758.93it/s]\n",
      "07/29/2022 11:29:26 AM WARNING: face_normals incorrect shape, ignoring! \n"
     ]
    },
    {
     "name": "stdout",
     "output_type": "stream",
     "text": [
      "Warning: deduplication not currently supported for this layer's variable layered draco meshes\n"
     ]
    },
    {
     "name": "stderr",
     "output_type": "stream",
     "text": [
      "100%|██████████| 1532/1532 [00:00<00:00, 353875.63it/s]\n",
      "07/29/2022 11:29:28 AM WARNING: face_normals incorrect shape, ignoring! \n"
     ]
    },
    {
     "name": "stdout",
     "output_type": "stream",
     "text": [
      "Warning: deduplication not currently supported for this layer's variable layered draco meshes\n"
     ]
    },
    {
     "name": "stderr",
     "output_type": "stream",
     "text": [
      "100%|██████████| 2876/2876 [00:00<00:00, 372010.68it/s]\n",
      "07/29/2022 11:29:33 AM WARNING: face_normals incorrect shape, ignoring! \n"
     ]
    },
    {
     "name": "stdout",
     "output_type": "stream",
     "text": [
      "Warning: deduplication not currently supported for this layer's variable layered draco meshes\n"
     ]
    },
    {
     "name": "stderr",
     "output_type": "stream",
     "text": [
      "100%|██████████| 4484/4484 [00:00<00:00, 501219.50it/s]\n",
      "07/29/2022 11:29:35 AM WARNING: face_normals incorrect shape, ignoring! \n"
     ]
    },
    {
     "name": "stdout",
     "output_type": "stream",
     "text": [
      "Warning: deduplication not currently supported for this layer's variable layered draco meshes\n"
     ]
    },
    {
     "name": "stderr",
     "output_type": "stream",
     "text": [
      "100%|██████████| 13121/13121 [00:00<00:00, 473011.45it/s]\n",
      "07/29/2022 11:29:37 AM WARNING: face_normals incorrect shape, ignoring! \n"
     ]
    },
    {
     "name": "stdout",
     "output_type": "stream",
     "text": [
      "Warning: deduplication not currently supported for this layer's variable layered draco meshes\n"
     ]
    },
    {
     "name": "stderr",
     "output_type": "stream",
     "text": [
      "100%|██████████| 1758/1758 [00:00<00:00, 452978.65it/s]\n",
      "07/29/2022 11:29:39 AM WARNING: face_normals incorrect shape, ignoring! \n"
     ]
    },
    {
     "name": "stdout",
     "output_type": "stream",
     "text": [
      "Warning: deduplication not currently supported for this layer's variable layered draco meshes\n",
      "\n",
      "\n",
      "Seg 864691132647441812 returned error on get. Skipping.\n",
      "\n"
     ]
    },
    {
     "name": "stderr",
     "output_type": "stream",
     "text": [
      "07/29/2022 11:29:42 AM WARNING: face_normals incorrect shape, ignoring! \n"
     ]
    },
    {
     "name": "stdout",
     "output_type": "stream",
     "text": [
      "Warning: deduplication not currently supported for this layer's variable layered draco meshes\n"
     ]
    },
    {
     "name": "stderr",
     "output_type": "stream",
     "text": [
      "100%|██████████| 20125/20125 [00:00<00:00, 336612.78it/s]\n",
      "07/29/2022 11:29:46 AM WARNING: face_normals incorrect shape, ignoring! \n"
     ]
    },
    {
     "name": "stdout",
     "output_type": "stream",
     "text": [
      "Warning: deduplication not currently supported for this layer's variable layered draco meshes\n"
     ]
    },
    {
     "name": "stderr",
     "output_type": "stream",
     "text": [
      "100%|██████████| 11410/11410 [00:00<00:00, 726250.59it/s]\n",
      "07/29/2022 11:29:49 AM WARNING: face_normals incorrect shape, ignoring! \n"
     ]
    },
    {
     "name": "stdout",
     "output_type": "stream",
     "text": [
      "Warning: deduplication not currently supported for this layer's variable layered draco meshes\n"
     ]
    },
    {
     "name": "stderr",
     "output_type": "stream",
     "text": [
      "100%|██████████| 15601/15601 [00:00<00:00, 500656.75it/s]\n",
      "07/29/2022 11:29:53 AM WARNING: face_normals incorrect shape, ignoring! \n"
     ]
    },
    {
     "name": "stdout",
     "output_type": "stream",
     "text": [
      "Warning: deduplication not currently supported for this layer's variable layered draco meshes\n",
      "\n",
      "\n",
      "Seg 864691136597387729 returned error on get. Skipping.\n",
      "\n"
     ]
    },
    {
     "name": "stderr",
     "output_type": "stream",
     "text": [
      "07/29/2022 11:29:56 AM WARNING: face_normals incorrect shape, ignoring! \n"
     ]
    },
    {
     "name": "stdout",
     "output_type": "stream",
     "text": [
      "Warning: deduplication not currently supported for this layer's variable layered draco meshes\n"
     ]
    },
    {
     "name": "stderr",
     "output_type": "stream",
     "text": [
      "100%|██████████| 13348/13348 [00:00<00:00, 489923.95it/s]\n",
      "07/29/2022 11:29:59 AM WARNING: face_normals incorrect shape, ignoring! \n"
     ]
    },
    {
     "name": "stdout",
     "output_type": "stream",
     "text": [
      "Warning: deduplication not currently supported for this layer's variable layered draco meshes\n"
     ]
    },
    {
     "name": "stderr",
     "output_type": "stream",
     "text": [
      "100%|██████████| 2543/2543 [00:00<00:00, 534053.43it/s]\n",
      "07/29/2022 11:30:01 AM WARNING: face_normals incorrect shape, ignoring! \n"
     ]
    },
    {
     "name": "stdout",
     "output_type": "stream",
     "text": [
      "Warning: deduplication not currently supported for this layer's variable layered draco meshes\n"
     ]
    },
    {
     "name": "stderr",
     "output_type": "stream",
     "text": [
      "100%|██████████| 13258/13258 [00:00<00:00, 358738.68it/s]\n",
      "07/29/2022 11:30:04 AM WARNING: face_normals incorrect shape, ignoring! \n"
     ]
    },
    {
     "name": "stdout",
     "output_type": "stream",
     "text": [
      "Warning: deduplication not currently supported for this layer's variable layered draco meshes\n"
     ]
    },
    {
     "name": "stderr",
     "output_type": "stream",
     "text": [
      "100%|██████████| 9618/9618 [00:00<00:00, 637295.67it/s]\n",
      "07/29/2022 11:30:10 AM WARNING: face_normals incorrect shape, ignoring! \n"
     ]
    },
    {
     "name": "stdout",
     "output_type": "stream",
     "text": [
      "Warning: deduplication not currently supported for this layer's variable layered draco meshes\n"
     ]
    },
    {
     "name": "stderr",
     "output_type": "stream",
     "text": [
      "100%|██████████| 38734/38734 [00:00<00:00, 170955.23it/s]\n",
      "07/29/2022 11:30:16 AM WARNING: face_normals incorrect shape, ignoring! \n"
     ]
    },
    {
     "name": "stdout",
     "output_type": "stream",
     "text": [
      "Warning: deduplication not currently supported for this layer's variable layered draco meshes\n"
     ]
    },
    {
     "name": "stderr",
     "output_type": "stream",
     "text": [
      "100%|██████████| 811/811 [00:00<00:00, 235094.38it/s]\n",
      "07/29/2022 11:30:17 AM WARNING: face_normals incorrect shape, ignoring! \n"
     ]
    },
    {
     "name": "stdout",
     "output_type": "stream",
     "text": [
      "Warning: deduplication not currently supported for this layer's variable layered draco meshes\n"
     ]
    },
    {
     "name": "stderr",
     "output_type": "stream",
     "text": [
      "100%|██████████| 9313/9313 [00:00<00:00, 401112.65it/s]\n"
     ]
    },
    {
     "name": "stdout",
     "output_type": "stream",
     "text": [
      "[[  99.46356117 4423.90008929]\n",
      " [4415.78452826   24.37211521]]\n",
      "[[ 146.85366866 5470.51569781 9272.57704201]\n",
      " [5554.85157317  495.77414213 8350.73439884]\n",
      " [9231.09576378 8664.4402589   368.27978495]]\n",
      "skipping \n",
      "\n",
      "skipping \n",
      "\n",
      "[[173.70377083 226.46191733]\n",
      " [146.63560277 252.88337233]]\n",
      "[[358.60842154 495.25548962]\n",
      " [491.02851241 233.07724042]]\n",
      "[[  65.7267069  4494.89933146]\n",
      " [4475.84450132  624.97999968]]\n",
      "[[901.23748258 517.58284361]\n",
      " [826.68313156 572.19926599]]\n",
      "skipping \n",
      "\n",
      "[[648.0686692   81.63332653]\n",
      " [107.42904635 605.6153895 ]]\n",
      "[[ 4128.18483113  3189.93291466    91.23595782]\n",
      " [  170.76592166  3482.68416598  4007.43771006]\n",
      " [11292.02129824  8929.37315829 11956.89278199]\n",
      " [13982.45489891 13733.27073206 16546.69710244]\n",
      " [ 7099.01887587  3574.97762231  6076.14853341]]\n",
      "[[8128.64742746  864.88033854]\n",
      " [ 315.13171849 8280.50898194]]\n",
      "[[  802.63628126  3717.38079836 10550.35264813]\n",
      " [10174.82270116  7734.51601589   253.21334878]\n",
      " [ 3197.35218579   939.4423878   8381.84043036]]\n",
      "[[  657.3864921  12356.94270441]\n",
      " [12607.73147715    40.01249805]]\n",
      "[[358.52057124  26.07680962]\n",
      " [ 56.04462508 314.89680849]]\n",
      "[[ 632.51561246  629.52442367]\n",
      " [ 642.04750603 1205.60773057]]\n",
      "skipping \n",
      "\n",
      "[[ 37.36308338 514.76693756]\n",
      " [501.74196556  38.85871846]]\n",
      "[[34041.63876784 31834.05071617 24858.62701357  1196.39165828]\n",
      " [  281.82441342  2356.785947    9314.39455896 33086.30786292]]\n",
      "[[4675.35089592  353.72022843]\n",
      " [  88.20430828 4446.01304541]]\n",
      "[[123.97580409 682.20231603]\n",
      " [594.66797459  82.21921916]]\n",
      "[[  96.42095208 1749.52479262]\n",
      " [1622.45369734  458.97712361]]\n",
      "[[3712.40905613  559.51407489]\n",
      " [ 239.59340559 4046.79725215]]\n",
      "skipping \n",
      "\n",
      "[[1026.45214209  801.50483467]\n",
      " [ 513.0984311  1353.38095154]\n",
      " [ 994.47724961  182.20043908]]\n",
      "[[ 315.70397527 1909.91203986]\n",
      " [1556.73568726  809.35838786]]\n",
      "[[13630.80280101    38.94868419]\n",
      " [  830.40291425 13620.68739088]]\n",
      "[[562.729953   135.3070582 ]\n",
      " [126.54643417 595.58794481]]\n",
      "[[ 101.93134945 4868.93725571]\n",
      " [4959.18098077   30.72458299]]\n",
      "[[  48.88762625 5029.54560572]\n",
      " [5920.58147482 2289.41040445]]\n",
      "[[  14.86606875 8083.54829267]\n",
      " [8031.90002428  139.17614738]]\n",
      "[[3140.96879959  548.80324343]\n",
      " [ 217.33154396 2828.26536944]]\n",
      "[[ 774.19700335 5053.42309727]\n",
      " [ 612.68670624 5120.38758299]\n",
      " [5673.50209306   84.        ]]\n",
      "[[16271.3315374   1838.26983873]\n",
      " [  758.89656739 17297.52901428]]\n",
      "[[14102.25460698  6289.34654793  7228.31847666  7941.92375939\n",
      "   5860.16083397   120.65653733  6205.24366967]\n",
      " [13490.80360838  9103.78871679  8456.15261215  9887.33209718\n",
      "   7570.78463569  6137.64686179   114.27160627]\n",
      " [ 7142.88849136  2328.45721455    39.86226286  4800.11812355\n",
      "   3143.47228396  7310.09336466  8508.53077799]\n",
      " [ 8983.21668446   151.01324445  2230.20738946  5433.86602706\n",
      "   3803.59303817  6365.88320659  9125.85612422]\n",
      " [   82.56512581  9018.89682833  7064.19705274  8417.82305587\n",
      "   8702.44362234 14172.27271823 13451.78148053]]\n",
      "[[5794.38529958 6356.7184144   135.32183859]\n",
      " [2064.61449186   16.88194302 6440.60478527]]\n",
      "[[4.50567954e+04 1.95527682e+04 4.32130717e+04 3.61400069e+04\n",
      "  2.88308804e+04 1.60921288e+04 2.43874006e+04 3.96036614e+02\n",
      "  6.84594369e+03 2.76317840e+04 2.11539684e+04]\n",
      " [4.96027166e+04 3.50540310e+04 4.65528773e+04 4.10964200e+04\n",
      "  3.51900786e+04 2.56049446e+04 2.81851677e+04 2.11822273e+04\n",
      "  1.94390054e+04 2.59480859e+04 1.19770614e+02]\n",
      " [3.94565994e+04 1.76924279e+04 3.74326762e+04 3.04801133e+04\n",
      "  2.33836711e+04 1.05374384e+04 1.87831214e+04 6.75872325e+03\n",
      "  3.05754804e+02 2.17274451e+04 1.97742795e+04]\n",
      " [3.08923464e+04 2.94788059e+01 3.02752051e+04 2.33337256e+04\n",
      "  1.68508351e+04 1.21898493e+04 1.72754401e+04 1.92451296e+04\n",
      "  1.78571114e+04 2.40759315e+04 3.50968094e+04]\n",
      " [2.39736267e+04 2.40849685e+04 2.07564881e+04 1.61690038e+04\n",
      "  1.25535155e+04 1.44435247e+04 7.05194562e+03 2.75182756e+04\n",
      "  2.15612117e+04 5.80689246e+01 2.59303084e+04]\n",
      " [1.69526623e+04 3.74175293e+04 1.44405559e+04 1.79942325e+04\n",
      "  2.22190963e+04 3.27249794e+04 2.34454581e+04 4.72716312e+04\n",
      "  4.18426409e+04 2.11124565e+04 4.53483959e+04]\n",
      " [1.71688672e+02 3.07966662e+04 3.50946221e+03 8.88641829e+03\n",
      "  1.61709604e+04 2.89191754e+04 2.21129889e+04 4.47682982e+04\n",
      "  3.93289749e+04 2.38090284e+04 4.94339803e+04]]\n",
      "[[  150.56227947 10139.99802761  9720.50770279]\n",
      " [10274.09363399   239.8353602   4692.46470418]\n",
      " [ 9706.69093976  5391.09562149   749.00333778]]\n",
      "[[13287.84832093 11924.3910117  12666.62338589 10743.91027513\n",
      "  11108.58933438]\n",
      " [11162.08313891  3678.04567671  1975.96685195  2588.36801866\n",
      "   1021.83266732]\n",
      " [  314.23717158  7707.22965793 10312.37799928  8624.81443279\n",
      "  11753.47782573]]\n",
      "[[   41.43669871 20114.63521916]\n",
      " [20059.3399692     97.90301323]]\n",
      "skipping \n",
      "\n",
      "[[ 385.75121516 2269.35453378 6356.16551075]\n",
      " [2036.26913742   15.16575089 6922.34208921]\n",
      " [6698.05232885 6982.27677767  196.23710149]]\n",
      "skipping \n",
      "\n",
      "[[10766.71491217 10795.95850307  7354.95622013    89.10667764]\n",
      " [ 5875.00306383  5399.21003481    32.06243908  7446.11099837]\n",
      " [ 1426.61312205   156.08010764  5577.4343564  10982.13553914]]\n",
      "[[  180.29143074 25361.66280038]\n",
      " [25233.5133503     26.17250466]]\n",
      "skipping \n",
      "\n",
      "[[1325.23507349  387.45967532 3857.5413154 ]\n",
      " [3161.97991771 3651.31401005  211.43793416]]\n",
      "[[8038.83362186 5166.50055647  339.53055827]\n",
      " [3601.18841495   24.         5241.9398127 ]\n",
      " [  61.77378085 3587.78065104 8078.02457288]]\n",
      "skipping \n",
      "\n",
      "skipping \n",
      "\n",
      "[[ 134.33167906 2601.44056246]\n",
      " [2675.36726451   16.43167673]]\n",
      "[[  102.32301794  3504.01198628 11723.69967203]\n",
      " [11797.9401592   9240.54619598    50.19960159]]\n",
      "[[352.76054201 152.72524349]\n",
      " [ 21.3541565  455.48325985]]\n",
      "[[1699.82499099   26.92582404]\n",
      " [  27.07397274 1686.14619769]]\n",
      "[[ 12735.57372088  35001.25403468  26599.29173869  31009.2873346\n",
      "   18918.2796258   21415.43819304    195.        ]\n",
      " [   301.27230208  29328.06330121  20596.38774154  25772.44656605\n",
      "   13893.6083506   16828.08046094  12851.58239284]\n",
      " [ 64509.84775211  35976.8216634   45516.34141712  40144.50859084\n",
      "   52716.28075841  49759.24316145  70017.38436988]\n",
      " [ 72187.74902295  42949.80131502  52173.1623155   46692.69514603\n",
      "   59320.50088292  56256.50353515  76470.50367298]\n",
      " [ 68360.7938295   40015.56258507  49292.89741941  44239.97294303\n",
      "   56826.52029642  53986.53469153  74924.55799002]\n",
      " [113576.93540504  85373.08518497  94868.54986243  89575.09471388\n",
      "  102162.50138872  99230.29741465 119370.20541576]\n",
      " [ 58934.454074    31081.74507649  40358.9344012   35395.96869701\n",
      "   47788.1562419   45007.34462285  65755.84007524]\n",
      " [ 66034.22107514  38490.39684129  47676.72327247  42804.27198306\n",
      "   55135.50566559  52394.03532846  73148.50202157]]\n",
      "skipping \n",
      "\n",
      "[[3118.03624097 2715.30403454  182.75940468]\n",
      " [1867.67609612  341.8420688  2969.0680356 ]\n",
      " [ 237.05906437 1942.45128639 3063.23195335]]\n",
      "[[ 179.55779014 8997.95098898]\n",
      " [9016.72512612   18.13835715]]\n",
      "[[355.19149765 487.7191815 ]\n",
      " [ 49.04079934 707.92513729]]\n",
      "[[33091.47897873  5453.96452134   128.77888026]\n",
      " [ 1215.36002896 27800.90027319 33288.84685597]]\n",
      "[[4091.22108911   18.86796226]\n",
      " [  40.80441153 4068.75226574]]\n",
      "[[10109.88036527   155.2836115 ]\n",
      " [   16.88194302 10227.94920793]]\n",
      "skipping \n",
      "\n",
      "[[3.76209746e+04 4.17216896e+04 4.24502617e+04 1.40036211e+04\n",
      "  1.24854545e+04 8.62515374e+03 8.03767485e+03 3.10644491e+01]\n",
      " [1.54378187e+04 3.68919409e+03 7.89936706e+01 3.35119813e+04\n",
      "  3.41707110e+04 3.56190252e+04 3.73391194e+04 4.23995665e+04]]\n",
      "[[1.53406421e+03 1.94164878e+01 3.84468895e+04]\n",
      " [3.81276523e+04 3.84133919e+04 4.12310563e+01]]\n",
      "[[19864.73951503 22595.52814165  7738.78207472   444.96404349]\n",
      " [11735.7593704  15914.75818227  2189.38347486  9321.85051371]\n",
      " [ 5936.93329927    59.8414572  15733.12788355 22988.30224266]]\n",
      "[[2617.98242928   58.9067059 ]\n",
      " [ 134.12680567 2526.06650744]]\n",
      "skipping \n",
      "\n",
      "[[2181.11118469 6958.83675624  434.84365006]\n",
      " [5488.58141964  606.60118694 6716.95593256]]\n",
      "skipping \n",
      "\n",
      "skipping \n",
      "\n",
      "[[728.33646071 821.10291681]\n",
      " [536.80257078  56.96490147]]\n",
      "[[ 3909.81099287    28.72281323 25144.70258325]\n",
      " [23509.82254293 25148.07199369    48.60041152]]\n",
      "[[  131.48383931 12935.8821887  21815.46309387]\n",
      " [13095.24799307   399.20921833 18095.85814489]\n",
      " [21916.76173617 18056.13737763    64.90762667]]\n",
      "[[  46.43274706 5320.16447114]\n",
      " [5685.48617094  461.89284472]]\n",
      "[[3211.97073461   38.89730068]\n",
      " [  30.7408523  3229.0676673 ]]\n",
      "skipping \n",
      "\n",
      "[[620.95813063 151.21177203]\n",
      " [218.73499949 552.63821801]]\n",
      "skipping \n",
      "\n",
      "[[1430.60267021  183.84776311 2427.92298066]\n",
      " [1941.98455195 2540.09133694   20.14944168]]\n",
      "[[   31.89043744 12745.44314647]\n",
      " [12741.17047213    30.01666204]]\n",
      "[[7605.6870827    88.60022573 9508.79498149]\n",
      " [6684.9412862  9589.93879021   31.144823  ]\n",
      " [  43.79497688 7638.56138288 6656.71961254]]\n",
      "[[ 935.98344002 2534.72089193]\n",
      " [1850.50506619   62.        ]]\n",
      "[[1619.99876543 1284.47070811]\n",
      " [ 105.89145386 1031.67824442]]\n",
      "[[   75.74958746  6510.60058674 11021.62478948]\n",
      " [11065.46799733  4853.89328272   248.2035455 ]]\n",
      "skipping \n",
      "\n",
      "[[310.85366332  23.02172887]\n",
      " [ 62.4899992  303.19135872]]\n",
      "skipping \n",
      "\n",
      "[[   40.31128874 12244.73049928]\n",
      " [12212.52574204    46.09772229]]\n",
      "[[ 5963.93569717 14680.46378695    96.64884893]\n",
      " [ 9660.69666225    65.32993188 14711.3417471 ]]\n",
      "[[1109.86485664 3692.88505101]\n",
      " [2858.46899581   32.26453161]]\n",
      "[[4383.26647604 6625.7616166   805.82938641]\n",
      " [2635.96092536   45.475268   6080.72758804]]\n",
      "[[299.8349546  881.41080093]\n",
      " [776.66273246  45.48626166]]\n",
      "[[4345.46487732  142.46754016 8994.61805748]\n",
      " [7223.4288257  9523.42816427  725.81333688]]\n",
      "skipping \n",
      "\n",
      "[[ 50971.90969544 104903.52570338  68877.84624972  69601.12287169\n",
      "   50977.3090404   37501.3884543   32724.09505242    223.90176417]\n",
      " [   247.97177259  58257.45934213  23492.67945552  24605.16199906\n",
      "   12148.74944181  16729.28868781  21044.78008913  51145.82626178]\n",
      " [ 58174.28027058    167.16458955  36412.88591969  35762.25286528\n",
      "   55096.19992341  68432.88695503  72770.63700422 104960.22963485]]\n",
      "skipping \n",
      "\n",
      "[[ 1169.28396893    47.93745926 20369.20933664 21178.14800685\n",
      "  22693.15000171]\n",
      " [22746.87391709 22677.40836163  2769.20656507  1592.80413108\n",
      "     47.16990566]]\n",
      "[[11691.13086917  9801.80677222  9378.60570661   235.75623003]\n",
      " [  208.540164   15491.69041777  2728.81384488 11749.98114892]\n",
      " [15814.15486202   354.9154829  14240.8687235   9929.1142606 ]]\n",
      "skipping \n",
      "\n",
      "[[7405.00506414   71.86793444]\n",
      " [1041.80468419 7166.27378768]]\n",
      "skipping \n",
      "\n",
      "[[ 241.85532866 1607.08244966]\n",
      " [1651.96277198  120.70211266]]\n",
      "[[ 45.12205669 225.22211259]\n",
      " [239.06066176  56.64803615]]\n",
      "[[5477.85049084  865.63560463 9255.64584456]\n",
      " [5316.68176591 8598.90365105  211.10423965]]\n",
      "skipping \n",
      "\n",
      "[[  591.34930456 22345.55718706 20834.35396167 32221.76342164\n",
      "  28132.42209622 18346.75491742 23968.62065285 28552.57153042\n",
      "  33621.04781235 33355.17911809 35467.64570704 26253.03237723]\n",
      " [21964.59917686    74.97332859 25135.39575976 14815.47046165\n",
      "  11708.64885459 18790.40406697 19885.16142756 17245.05610313\n",
      "  16683.97137974 17666.75004068 20839.42103322 19991.73929402]\n",
      " [29138.15301285 12566.00003979 23355.91762274  4316.74194272\n",
      "   1159.97499973 16395.49111799 13768.579629    7046.28299176\n",
      "   4531.07856917  5175.55340036  8393.80205866 12749.20985787]\n",
      " [21090.70212203 25336.70917858   172.11914478 24363.70587575\n",
      "  22715.49966433 12222.70174716 11740.74060696 18521.69303816\n",
      "  26040.63236559 24634.55499903 26155.31903839 19618.24959062]\n",
      " [24017.2248605  19923.11566999 11706.35541063 15462.8802621\n",
      "  13167.82537096  6541.77804576    35.4964787   7777.74935312\n",
      "  15798.07925034 14257.72527439 15129.8856572   8555.66064077]\n",
      " [26686.70335579 20175.2463182  19779.53500465 15804.26904352\n",
      "  12219.50281313  9519.67488941  8702.17133824  8666.01898221\n",
      "  14056.78661715 12916.80796482 12349.07211089   325.30754679]\n",
      " [29086.42803783 17484.98452959 18847.49917098  7881.35775105\n",
      "   6918.81991383 13060.30818932  8317.81377527   714.30035699\n",
      "   7654.9833442   5982.61548154  7460.83520794  9368.27225266]\n",
      " [32272.01637642 15114.68084347 24389.70065417   271.99448524\n",
      "   5440.21801034 19388.34982664 15544.6416813   8389.15573821\n",
      "   4053.78995509  4594.41759095  8307.25544329 15990.67359432]\n",
      " [33505.35419899 16721.38427284 26019.9288431   4125.32277525\n",
      "   5654.70361734 19484.60659084 15827.77501735  8099.26965843\n",
      "     36.74234614  2126.70073118  5012.11991078 14217.90297477]\n",
      " [35371.1980289  20700.96582288 26253.68037057  8304.35271409\n",
      "   9062.62461983 19458.9074719  15245.72936924  7930.21468814\n",
      "   4822.75854672  3690.78555324   291.10135692 12630.15601646]]\n",
      "skipping \n",
      "\n",
      "skipping \n",
      "\n",
      "skipping \n",
      "\n",
      "skipping \n",
      "\n",
      "[[1773.9574403   262.78698598]\n",
      " [  12.36931688 1964.69157885]]\n",
      "[[2931.81121493   94.95261976]\n",
      " [ 101.78899744 2977.3716597 ]]\n",
      "[[5963.40339068  941.31450642]\n",
      " [  41.0487515  5354.89215578]]\n",
      "[[17026.81520426    20.90454496 19963.30669003]\n",
      " [ 3509.92948647 19956.17247871    25.        ]]\n",
      "[[1631.98774505  139.89996426]\n",
      " [  94.27619    1655.5470395 ]]\n",
      "[[5.24722708e+03 6.10227572e+03 3.18216907e+02 1.72840896e+04\n",
      "  1.09311354e+04 2.03664803e+04]\n",
      " [1.65972974e+04 1.46402354e+04 2.03785424e+04 4.23783305e+03\n",
      "  1.00837706e+04 9.21954446e+00]]\n",
      "[[10355.88513841    35.28455753]\n",
      " [   31.06444913 10358.44124374]]\n",
      "skipping \n",
      "\n",
      "skipping \n",
      "\n",
      "[[   61.40032573  5161.01055996 16096.10241642]\n",
      " [16090.07426956 11216.67999009    49.12229636]]\n",
      "[[ 567.43369657 3469.70978613]\n",
      " [3244.97411392   68.02940541]]\n",
      "[[16733.89643807  8273.97316892   682.07111066]\n",
      " [   59.51470407 11144.90735717 16849.42506438]]\n",
      "[[11926.12267252   124.6314567 ]\n",
      " [  118.41030361 11931.48532246]]\n",
      "skipping \n",
      "\n",
      "[[ 106.62082348  894.87261663]\n",
      " [1033.07550547  708.78064308]]\n",
      "skipping \n",
      "\n"
     ]
    },
    {
     "name": "stderr",
     "output_type": "stream",
     "text": [
      "07/29/2022 11:30:20 AM WARNING: face_normals incorrect shape, ignoring! \n"
     ]
    },
    {
     "name": "stdout",
     "output_type": "stream",
     "text": [
      "Warning: deduplication not currently supported for this layer's variable layered draco meshes\n"
     ]
    },
    {
     "name": "stderr",
     "output_type": "stream",
     "text": [
      "100%|██████████| 3996/3996 [00:00<00:00, 548138.76it/s]\n",
      "07/29/2022 11:30:22 AM WARNING: face_normals incorrect shape, ignoring! \n"
     ]
    },
    {
     "name": "stdout",
     "output_type": "stream",
     "text": [
      "Warning: deduplication not currently supported for this layer's variable layered draco meshes\n"
     ]
    },
    {
     "name": "stderr",
     "output_type": "stream",
     "text": [
      "  0%|          | 0/10649 [00:00<?, ?it/s]/Library/Frameworks/Python.framework/Versions/3.8/lib/python3.8/site-packages/meshparty/skeletonize.py:613: RuntimeWarning: invalid value encountered in multiply\n",
      "  target = np.nanargmax(root_ds * valid)\n",
      "100%|██████████| 10649/10649 [00:00<00:00, 467962.44it/s]\n",
      "07/29/2022 11:30:24 AM WARNING: face_normals incorrect shape, ignoring! \n"
     ]
    },
    {
     "name": "stdout",
     "output_type": "stream",
     "text": [
      "Warning: deduplication not currently supported for this layer's variable layered draco meshes\n"
     ]
    },
    {
     "name": "stderr",
     "output_type": "stream",
     "text": [
      "100%|██████████| 1140/1140 [00:00<00:00, 324786.48it/s]\n",
      "07/29/2022 11:30:35 AM WARNING: face_normals incorrect shape, ignoring! \n"
     ]
    },
    {
     "name": "stdout",
     "output_type": "stream",
     "text": [
      "Warning: deduplication not currently supported for this layer's variable layered draco meshes\n"
     ]
    },
    {
     "name": "stderr",
     "output_type": "stream",
     "text": [
      "100%|██████████| 91377/91377 [00:00<00:00, 196688.62it/s]\n",
      "07/29/2022 11:30:47 AM WARNING: face_normals incorrect shape, ignoring! \n"
     ]
    },
    {
     "name": "stdout",
     "output_type": "stream",
     "text": [
      "Warning: deduplication not currently supported for this layer's variable layered draco meshes\n"
     ]
    },
    {
     "name": "stderr",
     "output_type": "stream",
     "text": [
      "100%|██████████| 117/117 [00:00<00:00, 63377.70it/s]\n",
      "07/29/2022 11:30:48 AM WARNING: face_normals incorrect shape, ignoring! \n"
     ]
    },
    {
     "name": "stdout",
     "output_type": "stream",
     "text": [
      "Warning: deduplication not currently supported for this layer's variable layered draco meshes\n"
     ]
    },
    {
     "name": "stderr",
     "output_type": "stream",
     "text": [
      "100%|██████████| 725/725 [00:00<00:00, 384239.37it/s]\n",
      "07/29/2022 11:30:49 AM WARNING: face_normals incorrect shape, ignoring! \n"
     ]
    },
    {
     "name": "stdout",
     "output_type": "stream",
     "text": [
      "Warning: deduplication not currently supported for this layer's variable layered draco meshes\n"
     ]
    },
    {
     "name": "stderr",
     "output_type": "stream",
     "text": [
      "100%|██████████| 3024/3024 [00:00<00:00, 394267.18it/s]\n",
      "07/29/2022 11:30:51 AM WARNING: face_normals incorrect shape, ignoring! \n"
     ]
    },
    {
     "name": "stdout",
     "output_type": "stream",
     "text": [
      "Warning: deduplication not currently supported for this layer's variable layered draco meshes\n"
     ]
    },
    {
     "name": "stderr",
     "output_type": "stream",
     "text": [
      "100%|██████████| 590/590 [00:00<00:00, 150626.29it/s]\n",
      "07/29/2022 11:30:53 AM WARNING: face_normals incorrect shape, ignoring! \n"
     ]
    },
    {
     "name": "stdout",
     "output_type": "stream",
     "text": [
      "Warning: deduplication not currently supported for this layer's variable layered draco meshes\n"
     ]
    },
    {
     "name": "stderr",
     "output_type": "stream",
     "text": [
      "100%|██████████| 33205/33205 [00:00<00:00, 102668.42it/s]\n",
      "07/29/2022 11:30:58 AM WARNING: face_normals incorrect shape, ignoring! \n"
     ]
    },
    {
     "name": "stdout",
     "output_type": "stream",
     "text": [
      "Warning: deduplication not currently supported for this layer's variable layered draco meshes\n"
     ]
    },
    {
     "name": "stderr",
     "output_type": "stream",
     "text": [
      "100%|██████████| 338/338 [00:00<00:00, 147782.21it/s]\n",
      "07/29/2022 11:30:59 AM WARNING: face_normals incorrect shape, ignoring! \n"
     ]
    },
    {
     "name": "stdout",
     "output_type": "stream",
     "text": [
      "Warning: deduplication not currently supported for this layer's variable layered draco meshes\n"
     ]
    },
    {
     "name": "stderr",
     "output_type": "stream",
     "text": [
      "100%|██████████| 5856/5856 [00:00<00:00, 416126.12it/s]\n",
      "07/29/2022 11:31:01 AM WARNING: face_normals incorrect shape, ignoring! \n"
     ]
    },
    {
     "name": "stdout",
     "output_type": "stream",
     "text": [
      "Warning: deduplication not currently supported for this layer's variable layered draco meshes\n"
     ]
    },
    {
     "name": "stderr",
     "output_type": "stream",
     "text": [
      "100%|██████████| 7270/7270 [00:00<00:00, 492284.43it/s]\n",
      "07/29/2022 11:31:03 AM WARNING: face_normals incorrect shape, ignoring! \n"
     ]
    },
    {
     "name": "stdout",
     "output_type": "stream",
     "text": [
      "Warning: deduplication not currently supported for this layer's variable layered draco meshes\n"
     ]
    },
    {
     "name": "stderr",
     "output_type": "stream",
     "text": [
      "100%|██████████| 12420/12420 [00:00<00:00, 545284.98it/s]\n",
      "07/29/2022 11:31:06 AM WARNING: face_normals incorrect shape, ignoring! \n"
     ]
    },
    {
     "name": "stdout",
     "output_type": "stream",
     "text": [
      "Warning: deduplication not currently supported for this layer's variable layered draco meshes\n"
     ]
    },
    {
     "name": "stderr",
     "output_type": "stream",
     "text": [
      "100%|██████████| 11545/11545 [00:00<00:00, 601232.18it/s]\n",
      "07/29/2022 11:31:08 AM WARNING: face_normals incorrect shape, ignoring! \n"
     ]
    },
    {
     "name": "stdout",
     "output_type": "stream",
     "text": [
      "Warning: deduplication not currently supported for this layer's variable layered draco meshes\n",
      "\n",
      "\n",
      "Seg 864691133692934758 returned error on get. Skipping.\n",
      "\n"
     ]
    },
    {
     "name": "stderr",
     "output_type": "stream",
     "text": [
      "07/29/2022 11:31:09 AM WARNING: face_normals incorrect shape, ignoring! \n"
     ]
    },
    {
     "name": "stdout",
     "output_type": "stream",
     "text": [
      "Warning: deduplication not currently supported for this layer's variable layered draco meshes\n"
     ]
    },
    {
     "name": "stderr",
     "output_type": "stream",
     "text": [
      "100%|██████████| 158/158 [00:00<00:00, 115392.66it/s]\n",
      "07/29/2022 11:31:10 AM WARNING: face_normals incorrect shape, ignoring! \n"
     ]
    },
    {
     "name": "stdout",
     "output_type": "stream",
     "text": [
      "Warning: deduplication not currently supported for this layer's variable layered draco meshes\n"
     ]
    },
    {
     "name": "stderr",
     "output_type": "stream",
     "text": [
      "100%|██████████| 1243/1243 [00:00<00:00, 297456.49it/s]\n",
      "07/29/2022 11:31:11 AM WARNING: face_normals incorrect shape, ignoring! \n"
     ]
    },
    {
     "name": "stdout",
     "output_type": "stream",
     "text": [
      "Warning: deduplication not currently supported for this layer's variable layered draco meshes\n",
      "\n",
      "\n",
      "Seg 864691133946526057 returned error on get. Skipping.\n",
      "\n"
     ]
    },
    {
     "name": "stderr",
     "output_type": "stream",
     "text": [
      "07/29/2022 11:31:13 AM WARNING: face_normals incorrect shape, ignoring! \n"
     ]
    },
    {
     "name": "stdout",
     "output_type": "stream",
     "text": [
      "Warning: deduplication not currently supported for this layer's variable layered draco meshes\n",
      "\n",
      "\n",
      "Seg 864691133712131152 returned error on get. Skipping.\n",
      "\n"
     ]
    },
    {
     "name": "stderr",
     "output_type": "stream",
     "text": [
      "07/29/2022 11:31:14 AM WARNING: face_normals incorrect shape, ignoring! \n"
     ]
    },
    {
     "name": "stdout",
     "output_type": "stream",
     "text": [
      "Warning: deduplication not currently supported for this layer's variable layered draco meshes\n"
     ]
    },
    {
     "name": "stderr",
     "output_type": "stream",
     "text": [
      "100%|██████████| 204/204 [00:00<00:00, 119302.57it/s]\n",
      "07/29/2022 11:31:17 AM WARNING: face_normals incorrect shape, ignoring! \n"
     ]
    },
    {
     "name": "stdout",
     "output_type": "stream",
     "text": [
      "Warning: deduplication not currently supported for this layer's variable layered draco meshes\n"
     ]
    },
    {
     "name": "stderr",
     "output_type": "stream",
     "text": [
      "100%|██████████| 22603/22603 [00:00<00:00, 377674.50it/s]\n",
      "07/29/2022 11:31:20 AM WARNING: face_normals incorrect shape, ignoring! \n"
     ]
    },
    {
     "name": "stdout",
     "output_type": "stream",
     "text": [
      "Warning: deduplication not currently supported for this layer's variable layered draco meshes\n"
     ]
    },
    {
     "name": "stderr",
     "output_type": "stream",
     "text": [
      "100%|██████████| 3568/3568 [00:00<00:00, 568438.36it/s]\n",
      "07/29/2022 11:31:21 AM WARNING: face_normals incorrect shape, ignoring! \n"
     ]
    },
    {
     "name": "stdout",
     "output_type": "stream",
     "text": [
      "Warning: deduplication not currently supported for this layer's variable layered draco meshes\n",
      "\n",
      "\n",
      "Seg 864691133678427777 returned error on get. Skipping.\n",
      "\n"
     ]
    },
    {
     "name": "stderr",
     "output_type": "stream",
     "text": [
      "07/29/2022 11:31:22 AM WARNING: face_normals incorrect shape, ignoring! \n"
     ]
    },
    {
     "name": "stdout",
     "output_type": "stream",
     "text": [
      "Warning: deduplication not currently supported for this layer's variable layered draco meshes\n"
     ]
    },
    {
     "name": "stderr",
     "output_type": "stream",
     "text": [
      "100%|██████████| 556/556 [00:00<00:00, 231283.65it/s]\n",
      "07/29/2022 11:31:23 AM WARNING: face_normals incorrect shape, ignoring! \n"
     ]
    },
    {
     "name": "stdout",
     "output_type": "stream",
     "text": [
      "Warning: deduplication not currently supported for this layer's variable layered draco meshes\n"
     ]
    },
    {
     "name": "stderr",
     "output_type": "stream",
     "text": [
      "100%|██████████| 1119/1119 [00:00<00:00, 305084.90it/s]\n",
      "07/29/2022 11:31:25 AM WARNING: face_normals incorrect shape, ignoring! \n"
     ]
    },
    {
     "name": "stdout",
     "output_type": "stream",
     "text": [
      "Warning: deduplication not currently supported for this layer's variable layered draco meshes\n"
     ]
    },
    {
     "name": "stderr",
     "output_type": "stream",
     "text": [
      "100%|██████████| 3576/3576 [00:00<00:00, 591950.08it/s]\n",
      "07/29/2022 11:31:26 AM WARNING: face_normals incorrect shape, ignoring! \n"
     ]
    },
    {
     "name": "stdout",
     "output_type": "stream",
     "text": [
      "Warning: deduplication not currently supported for this layer's variable layered draco meshes\n"
     ]
    },
    {
     "name": "stderr",
     "output_type": "stream",
     "text": [
      "100%|██████████| 230/230 [00:00<00:00, 73388.35it/s]\n",
      "07/29/2022 11:31:28 AM WARNING: face_normals incorrect shape, ignoring! \n"
     ]
    },
    {
     "name": "stdout",
     "output_type": "stream",
     "text": [
      "Warning: deduplication not currently supported for this layer's variable layered draco meshes\n"
     ]
    },
    {
     "name": "stderr",
     "output_type": "stream",
     "text": [
      "100%|██████████| 1402/1402 [00:00<00:00, 187836.65it/s]\n",
      "07/29/2022 11:31:29 AM WARNING: face_normals incorrect shape, ignoring! \n"
     ]
    },
    {
     "name": "stdout",
     "output_type": "stream",
     "text": [
      "Warning: deduplication not currently supported for this layer's variable layered draco meshes\n",
      "\n",
      "\n",
      "Seg 864691133766052845 returned error on get. Skipping.\n",
      "\n"
     ]
    },
    {
     "name": "stderr",
     "output_type": "stream",
     "text": [
      "07/29/2022 11:31:30 AM WARNING: face_normals incorrect shape, ignoring! \n"
     ]
    },
    {
     "name": "stdout",
     "output_type": "stream",
     "text": [
      "Warning: deduplication not currently supported for this layer's variable layered draco meshes\n"
     ]
    },
    {
     "name": "stderr",
     "output_type": "stream",
     "text": [
      "100%|██████████| 1499/1499 [00:00<00:00, 538615.75it/s]\n",
      "07/29/2022 11:31:32 AM WARNING: face_normals incorrect shape, ignoring! \n"
     ]
    },
    {
     "name": "stdout",
     "output_type": "stream",
     "text": [
      "Warning: deduplication not currently supported for this layer's variable layered draco meshes\n"
     ]
    },
    {
     "name": "stderr",
     "output_type": "stream",
     "text": [
      "100%|██████████| 14992/14992 [00:00<00:00, 673280.21it/s]\n",
      "07/29/2022 11:31:34 AM WARNING: face_normals incorrect shape, ignoring! \n"
     ]
    },
    {
     "name": "stdout",
     "output_type": "stream",
     "text": [
      "Warning: deduplication not currently supported for this layer's variable layered draco meshes\n"
     ]
    },
    {
     "name": "stderr",
     "output_type": "stream",
     "text": [
      "100%|██████████| 351/351 [00:00<00:00, 244632.89it/s]\n",
      "07/29/2022 11:31:36 AM WARNING: face_normals incorrect shape, ignoring! \n"
     ]
    },
    {
     "name": "stdout",
     "output_type": "stream",
     "text": [
      "Warning: deduplication not currently supported for this layer's variable layered draco meshes\n"
     ]
    },
    {
     "name": "stderr",
     "output_type": "stream",
     "text": [
      "100%|██████████| 3586/3586 [00:00<00:00, 478898.79it/s]\n",
      "07/29/2022 11:31:37 AM WARNING: face_normals incorrect shape, ignoring! \n"
     ]
    },
    {
     "name": "stdout",
     "output_type": "stream",
     "text": [
      "Warning: deduplication not currently supported for this layer's variable layered draco meshes\n"
     ]
    },
    {
     "name": "stderr",
     "output_type": "stream",
     "text": [
      "100%|██████████| 5274/5274 [00:00<00:00, 445848.22it/s]\n",
      "07/29/2022 11:31:39 AM WARNING: face_normals incorrect shape, ignoring! \n"
     ]
    },
    {
     "name": "stdout",
     "output_type": "stream",
     "text": [
      "Warning: deduplication not currently supported for this layer's variable layered draco meshes\n"
     ]
    },
    {
     "name": "stderr",
     "output_type": "stream",
     "text": [
      "100%|██████████| 7026/7026 [00:00<00:00, 718252.45it/s]\n",
      "07/29/2022 11:31:40 AM WARNING: face_normals incorrect shape, ignoring! \n"
     ]
    },
    {
     "name": "stdout",
     "output_type": "stream",
     "text": [
      "Warning: deduplication not currently supported for this layer's variable layered draco meshes\n"
     ]
    },
    {
     "name": "stderr",
     "output_type": "stream",
     "text": [
      "100%|██████████| 2368/2368 [00:00<00:00, 464595.00it/s]\n",
      "07/29/2022 11:31:42 AM WARNING: face_normals incorrect shape, ignoring! \n"
     ]
    },
    {
     "name": "stdout",
     "output_type": "stream",
     "text": [
      "Warning: deduplication not currently supported for this layer's variable layered draco meshes\n"
     ]
    },
    {
     "name": "stderr",
     "output_type": "stream",
     "text": [
      "100%|██████████| 4525/4525 [00:00<00:00, 447180.28it/s]\n"
     ]
    },
    {
     "name": "stdout",
     "output_type": "stream",
     "text": [
      "\n",
      "\n",
      "Seg 864691135452288336 returned error on get. Skipping.\n",
      "\n"
     ]
    },
    {
     "name": "stderr",
     "output_type": "stream",
     "text": [
      "07/29/2022 11:31:52 AM WARNING: face_normals incorrect shape, ignoring! \n"
     ]
    },
    {
     "name": "stdout",
     "output_type": "stream",
     "text": [
      "Warning: deduplication not currently supported for this layer's variable layered draco meshes\n"
     ]
    },
    {
     "name": "stderr",
     "output_type": "stream",
     "text": [
      "100%|██████████| 28900/28900 [00:00<00:00, 304009.01it/s]\n",
      "07/29/2022 11:31:56 AM WARNING: face_normals incorrect shape, ignoring! \n"
     ]
    },
    {
     "name": "stdout",
     "output_type": "stream",
     "text": [
      "Warning: deduplication not currently supported for this layer's variable layered draco meshes\n"
     ]
    },
    {
     "name": "stderr",
     "output_type": "stream",
     "text": [
      "100%|██████████| 6582/6582 [00:00<00:00, 442099.59it/s]\n",
      "07/29/2022 11:32:02 AM WARNING: face_normals incorrect shape, ignoring! \n"
     ]
    },
    {
     "name": "stdout",
     "output_type": "stream",
     "text": [
      "Warning: deduplication not currently supported for this layer's variable layered draco meshes\n"
     ]
    },
    {
     "name": "stderr",
     "output_type": "stream",
     "text": [
      "100%|██████████| 105180/105180 [00:00<00:00, 208024.68it/s]\n",
      "07/29/2022 11:32:16 AM WARNING: face_normals incorrect shape, ignoring! \n"
     ]
    },
    {
     "name": "stdout",
     "output_type": "stream",
     "text": [
      "Warning: deduplication not currently supported for this layer's variable layered draco meshes\n"
     ]
    },
    {
     "name": "stderr",
     "output_type": "stream",
     "text": [
      "100%|██████████| 18513/18513 [00:00<00:00, 331075.61it/s]\n",
      "07/29/2022 11:32:20 AM WARNING: face_normals incorrect shape, ignoring! \n"
     ]
    },
    {
     "name": "stdout",
     "output_type": "stream",
     "text": [
      "Warning: deduplication not currently supported for this layer's variable layered draco meshes\n"
     ]
    },
    {
     "name": "stderr",
     "output_type": "stream",
     "text": [
      "100%|██████████| 15061/15061 [00:00<00:00, 333968.17it/s]\n",
      "07/29/2022 11:32:25 AM WARNING: face_normals incorrect shape, ignoring! \n"
     ]
    },
    {
     "name": "stdout",
     "output_type": "stream",
     "text": [
      "Warning: deduplication not currently supported for this layer's variable layered draco meshes\n"
     ]
    },
    {
     "name": "stderr",
     "output_type": "stream",
     "text": [
      "100%|██████████| 14865/14865 [00:00<00:00, 627164.75it/s]\n",
      "07/29/2022 11:32:33 AM WARNING: face_normals incorrect shape, ignoring! \n"
     ]
    },
    {
     "name": "stdout",
     "output_type": "stream",
     "text": [
      "Warning: deduplication not currently supported for this layer's variable layered draco meshes\n"
     ]
    },
    {
     "name": "stderr",
     "output_type": "stream",
     "text": [
      "100%|██████████| 73820/73820 [00:01<00:00, 48325.90it/s] \n",
      "07/29/2022 11:32:51 AM WARNING: face_normals incorrect shape, ignoring! \n"
     ]
    },
    {
     "name": "stdout",
     "output_type": "stream",
     "text": [
      "Warning: deduplication not currently supported for this layer's variable layered draco meshes\n"
     ]
    },
    {
     "name": "stderr",
     "output_type": "stream",
     "text": [
      "100%|██████████| 5791/5791 [00:00<00:00, 444165.94it/s]\n",
      "07/29/2022 11:32:53 AM WARNING: face_normals incorrect shape, ignoring! \n"
     ]
    },
    {
     "name": "stdout",
     "output_type": "stream",
     "text": [
      "Warning: deduplication not currently supported for this layer's variable layered draco meshes\n"
     ]
    },
    {
     "name": "stderr",
     "output_type": "stream",
     "text": [
      "100%|██████████| 14714/14714 [00:00<00:00, 283719.68it/s]\n",
      "07/29/2022 11:32:57 AM WARNING: face_normals incorrect shape, ignoring! \n"
     ]
    },
    {
     "name": "stdout",
     "output_type": "stream",
     "text": [
      "Warning: deduplication not currently supported for this layer's variable layered draco meshes\n"
     ]
    },
    {
     "name": "stderr",
     "output_type": "stream",
     "text": [
      "100%|██████████| 12530/12530 [00:00<00:00, 418138.94it/s]\n",
      "07/29/2022 11:33:02 AM WARNING: face_normals incorrect shape, ignoring! \n"
     ]
    },
    {
     "name": "stdout",
     "output_type": "stream",
     "text": [
      "Warning: deduplication not currently supported for this layer's variable layered draco meshes\n"
     ]
    },
    {
     "name": "stderr",
     "output_type": "stream",
     "text": [
      "100%|██████████| 26058/26058 [00:00<00:00, 320512.77it/s]\n",
      "07/29/2022 11:33:14 AM WARNING: face_normals incorrect shape, ignoring! \n"
     ]
    },
    {
     "name": "stdout",
     "output_type": "stream",
     "text": [
      "Warning: deduplication not currently supported for this layer's variable layered draco meshes\n"
     ]
    },
    {
     "name": "stderr",
     "output_type": "stream",
     "text": [
      "100%|██████████| 210150/210150 [00:02<00:00, 98970.69it/s] \n",
      "07/29/2022 11:33:44 AM WARNING: face_normals incorrect shape, ignoring! \n"
     ]
    },
    {
     "name": "stdout",
     "output_type": "stream",
     "text": [
      "Warning: deduplication not currently supported for this layer's variable layered draco meshes\n"
     ]
    },
    {
     "name": "stderr",
     "output_type": "stream",
     "text": [
      "100%|██████████| 3699/3699 [00:00<00:00, 259413.29it/s]\n",
      "07/29/2022 11:33:46 AM WARNING: face_normals incorrect shape, ignoring! \n"
     ]
    },
    {
     "name": "stdout",
     "output_type": "stream",
     "text": [
      "Warning: deduplication not currently supported for this layer's variable layered draco meshes\n"
     ]
    },
    {
     "name": "stderr",
     "output_type": "stream",
     "text": [
      "100%|██████████| 8352/8352 [00:00<00:00, 428616.51it/s]\n",
      "07/29/2022 11:33:50 AM WARNING: face_normals incorrect shape, ignoring! \n"
     ]
    },
    {
     "name": "stdout",
     "output_type": "stream",
     "text": [
      "Warning: deduplication not currently supported for this layer's variable layered draco meshes\n"
     ]
    },
    {
     "name": "stderr",
     "output_type": "stream",
     "text": [
      "100%|██████████| 17575/17575 [00:00<00:00, 558911.92it/s]\n",
      "07/29/2022 11:33:54 AM WARNING: face_normals incorrect shape, ignoring! \n"
     ]
    },
    {
     "name": "stdout",
     "output_type": "stream",
     "text": [
      "Warning: deduplication not currently supported for this layer's variable layered draco meshes\n"
     ]
    },
    {
     "name": "stderr",
     "output_type": "stream",
     "text": [
      "100%|██████████| 17800/17800 [00:00<00:00, 287894.82it/s]\n",
      "07/29/2022 11:33:58 AM WARNING: face_normals incorrect shape, ignoring! \n"
     ]
    },
    {
     "name": "stdout",
     "output_type": "stream",
     "text": [
      "Warning: deduplication not currently supported for this layer's variable layered draco meshes\n"
     ]
    },
    {
     "name": "stderr",
     "output_type": "stream",
     "text": [
      "100%|██████████| 1644/1644 [00:00<00:00, 397591.87it/s]\n",
      "07/29/2022 11:34:01 AM WARNING: face_normals incorrect shape, ignoring! \n"
     ]
    },
    {
     "name": "stdout",
     "output_type": "stream",
     "text": [
      "Warning: deduplication not currently supported for this layer's variable layered draco meshes\n"
     ]
    },
    {
     "name": "stderr",
     "output_type": "stream",
     "text": [
      "100%|██████████| 11380/11380 [00:00<00:00, 527807.10it/s]\n",
      "07/29/2022 11:34:03 AM WARNING: face_normals incorrect shape, ignoring! \n"
     ]
    },
    {
     "name": "stdout",
     "output_type": "stream",
     "text": [
      "Warning: deduplication not currently supported for this layer's variable layered draco meshes\n"
     ]
    },
    {
     "name": "stderr",
     "output_type": "stream",
     "text": [
      "100%|██████████| 152/152 [00:00<00:00, 121043.14it/s]\n",
      "07/29/2022 11:34:05 AM WARNING: face_normals incorrect shape, ignoring! \n"
     ]
    },
    {
     "name": "stdout",
     "output_type": "stream",
     "text": [
      "Warning: deduplication not currently supported for this layer's variable layered draco meshes\n"
     ]
    },
    {
     "name": "stderr",
     "output_type": "stream",
     "text": [
      "100%|██████████| 934/934 [00:00<00:00, 217010.85it/s]\n",
      "07/29/2022 11:34:09 AM WARNING: face_normals incorrect shape, ignoring! \n"
     ]
    },
    {
     "name": "stdout",
     "output_type": "stream",
     "text": [
      "Warning: deduplication not currently supported for this layer's variable layered draco meshes\n"
     ]
    },
    {
     "name": "stderr",
     "output_type": "stream",
     "text": [
      "100%|██████████| 73645/73645 [00:00<00:00, 290206.05it/s]\n",
      "07/29/2022 11:34:18 AM WARNING: face_normals incorrect shape, ignoring! \n"
     ]
    },
    {
     "name": "stdout",
     "output_type": "stream",
     "text": [
      "Warning: deduplication not currently supported for this layer's variable layered draco meshes\n"
     ]
    },
    {
     "name": "stderr",
     "output_type": "stream",
     "text": [
      "100%|██████████| 403/403 [00:00<00:00, 234438.91it/s]\n",
      "07/29/2022 11:34:20 AM WARNING: face_normals incorrect shape, ignoring! \n"
     ]
    },
    {
     "name": "stdout",
     "output_type": "stream",
     "text": [
      "Warning: deduplication not currently supported for this layer's variable layered draco meshes\n"
     ]
    },
    {
     "name": "stderr",
     "output_type": "stream",
     "text": [
      "100%|██████████| 5928/5928 [00:00<00:00, 459030.28it/s]\n",
      "07/29/2022 11:34:23 AM WARNING: face_normals incorrect shape, ignoring! \n"
     ]
    },
    {
     "name": "stdout",
     "output_type": "stream",
     "text": [
      "Warning: deduplication not currently supported for this layer's variable layered draco meshes\n"
     ]
    },
    {
     "name": "stderr",
     "output_type": "stream",
     "text": [
      "100%|██████████| 8016/8016 [00:00<00:00, 650068.46it/s]\n",
      "07/29/2022 11:34:26 AM WARNING: face_normals incorrect shape, ignoring! \n"
     ]
    },
    {
     "name": "stdout",
     "output_type": "stream",
     "text": [
      "Warning: deduplication not currently supported for this layer's variable layered draco meshes\n"
     ]
    },
    {
     "name": "stderr",
     "output_type": "stream",
     "text": [
      "100%|██████████| 264/264 [00:00<00:00, 59931.60it/s]\n",
      "07/29/2022 11:34:41 AM WARNING: face_normals incorrect shape, ignoring! \n"
     ]
    },
    {
     "name": "stdout",
     "output_type": "stream",
     "text": [
      "Warning: deduplication not currently supported for this layer's variable layered draco meshes\n"
     ]
    },
    {
     "name": "stderr",
     "output_type": "stream",
     "text": [
      "100%|██████████| 30530/30530 [00:00<00:00, 490157.21it/s]\n",
      "07/29/2022 11:34:45 AM WARNING: face_normals incorrect shape, ignoring! \n"
     ]
    },
    {
     "name": "stdout",
     "output_type": "stream",
     "text": [
      "Warning: deduplication not currently supported for this layer's variable layered draco meshes\n"
     ]
    },
    {
     "name": "stderr",
     "output_type": "stream",
     "text": [
      "100%|██████████| 3806/3806 [00:00<00:00, 683165.19it/s]\n",
      "07/29/2022 11:34:47 AM WARNING: face_normals incorrect shape, ignoring! \n"
     ]
    },
    {
     "name": "stdout",
     "output_type": "stream",
     "text": [
      "Warning: deduplication not currently supported for this layer's variable layered draco meshes\n"
     ]
    },
    {
     "name": "stderr",
     "output_type": "stream",
     "text": [
      "100%|██████████| 7820/7820 [00:00<00:00, 404716.72it/s]\n",
      "07/29/2022 11:34:50 AM WARNING: face_normals incorrect shape, ignoring! \n"
     ]
    },
    {
     "name": "stdout",
     "output_type": "stream",
     "text": [
      "Warning: deduplication not currently supported for this layer's variable layered draco meshes\n",
      "\n",
      "\n",
      "Seg 864691133769133345 returned error on get. Skipping.\n",
      "\n"
     ]
    },
    {
     "name": "stderr",
     "output_type": "stream",
     "text": [
      "07/29/2022 11:34:56 AM WARNING: face_normals incorrect shape, ignoring! \n"
     ]
    },
    {
     "name": "stdout",
     "output_type": "stream",
     "text": [
      "Warning: deduplication not currently supported for this layer's variable layered draco meshes\n"
     ]
    },
    {
     "name": "stderr",
     "output_type": "stream",
     "text": [
      "100%|██████████| 49920/49920 [00:00<00:00, 259383.95it/s]\n",
      "07/29/2022 11:35:04 AM WARNING: face_normals incorrect shape, ignoring! \n"
     ]
    },
    {
     "name": "stdout",
     "output_type": "stream",
     "text": [
      "Warning: deduplication not currently supported for this layer's variable layered draco meshes\n"
     ]
    },
    {
     "name": "stderr",
     "output_type": "stream",
     "text": [
      "100%|██████████| 43892/43892 [00:00<00:00, 511715.74it/s]\n",
      "07/29/2022 11:35:11 AM WARNING: face_normals incorrect shape, ignoring! \n"
     ]
    },
    {
     "name": "stdout",
     "output_type": "stream",
     "text": [
      "Warning: deduplication not currently supported for this layer's variable layered draco meshes\n"
     ]
    },
    {
     "name": "stderr",
     "output_type": "stream",
     "text": [
      "100%|██████████| 19407/19407 [00:00<00:00, 357594.41it/s]\n",
      "07/29/2022 11:35:14 AM WARNING: face_normals incorrect shape, ignoring! \n"
     ]
    },
    {
     "name": "stdout",
     "output_type": "stream",
     "text": [
      "Warning: deduplication not currently supported for this layer's variable layered draco meshes\n"
     ]
    },
    {
     "name": "stderr",
     "output_type": "stream",
     "text": [
      "100%|██████████| 2448/2448 [00:00<00:00, 418030.14it/s]\n",
      "07/29/2022 11:35:19 AM WARNING: face_normals incorrect shape, ignoring! \n"
     ]
    },
    {
     "name": "stdout",
     "output_type": "stream",
     "text": [
      "Warning: deduplication not currently supported for this layer's variable layered draco meshes\n"
     ]
    },
    {
     "name": "stderr",
     "output_type": "stream",
     "text": [
      "100%|██████████| 39637/39637 [00:00<00:00, 256294.65it/s]\n",
      "07/29/2022 11:35:25 AM WARNING: face_normals incorrect shape, ignoring! \n"
     ]
    },
    {
     "name": "stdout",
     "output_type": "stream",
     "text": [
      "Warning: deduplication not currently supported for this layer's variable layered draco meshes\n"
     ]
    },
    {
     "name": "stderr",
     "output_type": "stream",
     "text": [
      "100%|██████████| 8835/8835 [00:00<00:00, 531103.38it/s]\n",
      "07/29/2022 11:35:26 AM WARNING: face_normals incorrect shape, ignoring! \n"
     ]
    },
    {
     "name": "stdout",
     "output_type": "stream",
     "text": [
      "Warning: deduplication not currently supported for this layer's variable layered draco meshes\n"
     ]
    },
    {
     "name": "stderr",
     "output_type": "stream",
     "text": [
      "100%|██████████| 9474/9474 [00:00<00:00, 517386.51it/s]\n",
      "07/29/2022 11:35:30 AM WARNING: face_normals incorrect shape, ignoring! \n"
     ]
    },
    {
     "name": "stdout",
     "output_type": "stream",
     "text": [
      "Warning: deduplication not currently supported for this layer's variable layered draco meshes\n"
     ]
    },
    {
     "name": "stderr",
     "output_type": "stream",
     "text": [
      "100%|██████████| 19620/19620 [00:00<00:00, 649602.11it/s]\n",
      "07/29/2022 11:35:34 AM WARNING: face_normals incorrect shape, ignoring! \n"
     ]
    },
    {
     "name": "stdout",
     "output_type": "stream",
     "text": [
      "Warning: deduplication not currently supported for this layer's variable layered draco meshes\n"
     ]
    },
    {
     "name": "stderr",
     "output_type": "stream",
     "text": [
      "100%|██████████| 1286/1286 [00:00<00:00, 509962.65it/s]\n",
      "07/29/2022 11:35:37 AM WARNING: face_normals incorrect shape, ignoring! \n"
     ]
    },
    {
     "name": "stdout",
     "output_type": "stream",
     "text": [
      "Warning: deduplication not currently supported for this layer's variable layered draco meshes\n"
     ]
    },
    {
     "name": "stderr",
     "output_type": "stream",
     "text": [
      "100%|██████████| 23442/23442 [00:00<00:00, 536123.33it/s]\n",
      "07/29/2022 11:35:42 AM WARNING: face_normals incorrect shape, ignoring! \n"
     ]
    },
    {
     "name": "stdout",
     "output_type": "stream",
     "text": [
      "Warning: deduplication not currently supported for this layer's variable layered draco meshes\n"
     ]
    },
    {
     "name": "stderr",
     "output_type": "stream",
     "text": [
      "100%|██████████| 36158/36158 [00:00<00:00, 403787.25it/s]\n",
      "07/29/2022 11:35:47 AM WARNING: face_normals incorrect shape, ignoring! \n"
     ]
    },
    {
     "name": "stdout",
     "output_type": "stream",
     "text": [
      "Warning: deduplication not currently supported for this layer's variable layered draco meshes\n"
     ]
    },
    {
     "name": "stderr",
     "output_type": "stream",
     "text": [
      "100%|██████████| 4826/4826 [00:00<00:00, 496351.51it/s]\n",
      "07/29/2022 11:35:48 AM WARNING: face_normals incorrect shape, ignoring! \n"
     ]
    },
    {
     "name": "stdout",
     "output_type": "stream",
     "text": [
      "Warning: deduplication not currently supported for this layer's variable layered draco meshes\n"
     ]
    },
    {
     "name": "stderr",
     "output_type": "stream",
     "text": [
      "100%|██████████| 1973/1973 [00:00<00:00, 314832.10it/s]\n",
      "07/29/2022 11:36:01 AM WARNING: face_normals incorrect shape, ignoring! \n"
     ]
    },
    {
     "name": "stdout",
     "output_type": "stream",
     "text": [
      "Warning: deduplication not currently supported for this layer's variable layered draco meshes\n"
     ]
    },
    {
     "name": "stderr",
     "output_type": "stream",
     "text": [
      "100%|██████████| 187764/187764 [00:07<00:00, 23875.21it/s]\n",
      "07/29/2022 11:36:41 AM WARNING: face_normals incorrect shape, ignoring! \n"
     ]
    },
    {
     "name": "stdout",
     "output_type": "stream",
     "text": [
      "Warning: deduplication not currently supported for this layer's variable layered draco meshes\n"
     ]
    },
    {
     "name": "stderr",
     "output_type": "stream",
     "text": [
      "100%|██████████| 485/485 [00:00<00:00, 273860.72it/s]\n",
      "07/29/2022 11:36:46 AM WARNING: face_normals incorrect shape, ignoring! \n"
     ]
    },
    {
     "name": "stdout",
     "output_type": "stream",
     "text": [
      "Warning: deduplication not currently supported for this layer's variable layered draco meshes\n"
     ]
    },
    {
     "name": "stderr",
     "output_type": "stream",
     "text": [
      "100%|██████████| 37232/37232 [00:00<00:00, 210931.83it/s]\n",
      "07/29/2022 11:36:51 AM WARNING: face_normals incorrect shape, ignoring! \n"
     ]
    },
    {
     "name": "stdout",
     "output_type": "stream",
     "text": [
      "Warning: deduplication not currently supported for this layer's variable layered draco meshes\n"
     ]
    },
    {
     "name": "stderr",
     "output_type": "stream",
     "text": [
      "100%|██████████| 2640/2640 [00:00<00:00, 288998.11it/s]\n",
      "07/29/2022 11:36:53 AM WARNING: face_normals incorrect shape, ignoring! \n"
     ]
    },
    {
     "name": "stdout",
     "output_type": "stream",
     "text": [
      "Warning: deduplication not currently supported for this layer's variable layered draco meshes\n"
     ]
    },
    {
     "name": "stderr",
     "output_type": "stream",
     "text": [
      "100%|██████████| 5980/5980 [00:00<00:00, 491899.16it/s]\n",
      "07/29/2022 11:36:55 AM WARNING: face_normals incorrect shape, ignoring! \n"
     ]
    },
    {
     "name": "stdout",
     "output_type": "stream",
     "text": [
      "Warning: deduplication not currently supported for this layer's variable layered draco meshes\n"
     ]
    },
    {
     "name": "stderr",
     "output_type": "stream",
     "text": [
      "100%|██████████| 7616/7616 [00:00<00:00, 469168.69it/s]\n",
      "07/29/2022 11:36:57 AM WARNING: face_normals incorrect shape, ignoring! \n"
     ]
    },
    {
     "name": "stdout",
     "output_type": "stream",
     "text": [
      "Warning: deduplication not currently supported for this layer's variable layered draco meshes\n"
     ]
    },
    {
     "name": "stderr",
     "output_type": "stream",
     "text": [
      "100%|██████████| 1211/1211 [00:00<00:00, 242529.83it/s]\n",
      "07/29/2022 11:36:59 AM WARNING: face_normals incorrect shape, ignoring! \n"
     ]
    },
    {
     "name": "stdout",
     "output_type": "stream",
     "text": [
      "Warning: deduplication not currently supported for this layer's variable layered draco meshes\n"
     ]
    },
    {
     "name": "stderr",
     "output_type": "stream",
     "text": [
      "100%|██████████| 1359/1359 [00:00<00:00, 376042.96it/s]\n",
      "07/29/2022 11:37:01 AM WARNING: face_normals incorrect shape, ignoring! \n"
     ]
    },
    {
     "name": "stdout",
     "output_type": "stream",
     "text": [
      "Warning: deduplication not currently supported for this layer's variable layered draco meshes\n"
     ]
    },
    {
     "name": "stderr",
     "output_type": "stream",
     "text": [
      "100%|██████████| 11308/11308 [00:00<00:00, 506678.81it/s]\n",
      "07/29/2022 11:37:04 AM WARNING: face_normals incorrect shape, ignoring! \n"
     ]
    },
    {
     "name": "stdout",
     "output_type": "stream",
     "text": [
      "Warning: deduplication not currently supported for this layer's variable layered draco meshes\n"
     ]
    },
    {
     "name": "stderr",
     "output_type": "stream",
     "text": [
      "100%|██████████| 191/191 [00:00<00:00, 85424.62it/s]\n",
      "07/29/2022 11:37:05 AM WARNING: face_normals incorrect shape, ignoring! \n"
     ]
    },
    {
     "name": "stdout",
     "output_type": "stream",
     "text": [
      "Warning: deduplication not currently supported for this layer's variable layered draco meshes\n"
     ]
    },
    {
     "name": "stderr",
     "output_type": "stream",
     "text": [
      "100%|██████████| 105/105 [00:00<00:00, 51299.00it/s]\n",
      "07/29/2022 11:37:06 AM WARNING: face_normals incorrect shape, ignoring! \n"
     ]
    },
    {
     "name": "stdout",
     "output_type": "stream",
     "text": [
      "Warning: deduplication not currently supported for this layer's variable layered draco meshes\n"
     ]
    },
    {
     "name": "stderr",
     "output_type": "stream",
     "text": [
      "100%|██████████| 7685/7685 [00:00<00:00, 284303.79it/s]\n",
      "07/29/2022 11:37:08 AM WARNING: face_normals incorrect shape, ignoring! \n"
     ]
    },
    {
     "name": "stdout",
     "output_type": "stream",
     "text": [
      "Warning: deduplication not currently supported for this layer's variable layered draco meshes\n"
     ]
    },
    {
     "name": "stderr",
     "output_type": "stream",
     "text": [
      "100%|██████████| 6048/6048 [00:00<00:00, 633244.73it/s]\n",
      "07/29/2022 11:37:11 AM WARNING: face_normals incorrect shape, ignoring! \n"
     ]
    },
    {
     "name": "stdout",
     "output_type": "stream",
     "text": [
      "Warning: deduplication not currently supported for this layer's variable layered draco meshes\n"
     ]
    },
    {
     "name": "stderr",
     "output_type": "stream",
     "text": [
      "100%|██████████| 6896/6896 [00:00<00:00, 458869.49it/s]\n",
      "07/29/2022 11:37:13 AM WARNING: face_normals incorrect shape, ignoring! \n"
     ]
    },
    {
     "name": "stdout",
     "output_type": "stream",
     "text": [
      "Warning: deduplication not currently supported for this layer's variable layered draco meshes\n"
     ]
    },
    {
     "name": "stderr",
     "output_type": "stream",
     "text": [
      "100%|██████████| 2858/2858 [00:00<00:00, 473900.80it/s]\n",
      "07/29/2022 11:37:14 AM WARNING: face_normals incorrect shape, ignoring! \n"
     ]
    },
    {
     "name": "stdout",
     "output_type": "stream",
     "text": [
      "Warning: deduplication not currently supported for this layer's variable layered draco meshes\n"
     ]
    },
    {
     "name": "stderr",
     "output_type": "stream",
     "text": [
      "100%|██████████| 4775/4775 [00:00<00:00, 354079.55it/s]\n",
      "07/29/2022 11:37:16 AM WARNING: face_normals incorrect shape, ignoring! \n"
     ]
    },
    {
     "name": "stdout",
     "output_type": "stream",
     "text": [
      "Warning: deduplication not currently supported for this layer's variable layered draco meshes\n"
     ]
    },
    {
     "name": "stderr",
     "output_type": "stream",
     "text": [
      "100%|██████████| 1010/1010 [00:00<00:00, 305249.10it/s]\n",
      "07/29/2022 11:37:18 AM WARNING: face_normals incorrect shape, ignoring! \n"
     ]
    },
    {
     "name": "stdout",
     "output_type": "stream",
     "text": [
      "Warning: deduplication not currently supported for this layer's variable layered draco meshes\n"
     ]
    },
    {
     "name": "stderr",
     "output_type": "stream",
     "text": [
      "100%|██████████| 8895/8895 [00:00<00:00, 534648.89it/s]\n",
      "07/29/2022 11:37:20 AM WARNING: face_normals incorrect shape, ignoring! \n"
     ]
    },
    {
     "name": "stdout",
     "output_type": "stream",
     "text": [
      "Warning: deduplication not currently supported for this layer's variable layered draco meshes\n",
      "\n",
      "\n",
      "Seg 864691132747855184 returned error on get. Skipping.\n",
      "\n"
     ]
    },
    {
     "name": "stderr",
     "output_type": "stream",
     "text": [
      "07/29/2022 11:37:27 AM WARNING: face_normals incorrect shape, ignoring! \n"
     ]
    },
    {
     "name": "stdout",
     "output_type": "stream",
     "text": [
      "Warning: deduplication not currently supported for this layer's variable layered draco meshes\n"
     ]
    },
    {
     "name": "stderr",
     "output_type": "stream",
     "text": [
      "100%|██████████| 126419/126419 [00:00<00:00, 236758.87it/s]\n",
      "07/29/2022 11:37:43 AM WARNING: face_normals incorrect shape, ignoring! \n"
     ]
    },
    {
     "name": "stdout",
     "output_type": "stream",
     "text": [
      "Warning: deduplication not currently supported for this layer's variable layered draco meshes\n"
     ]
    },
    {
     "name": "stderr",
     "output_type": "stream",
     "text": [
      "100%|██████████| 22194/22194 [00:00<00:00, 356054.77it/s]\n",
      "07/29/2022 11:37:49 AM WARNING: face_normals incorrect shape, ignoring! \n"
     ]
    },
    {
     "name": "stdout",
     "output_type": "stream",
     "text": [
      "Warning: deduplication not currently supported for this layer's variable layered draco meshes\n"
     ]
    },
    {
     "name": "stderr",
     "output_type": "stream",
     "text": [
      "100%|██████████| 33346/33346 [00:00<00:00, 382009.59it/s]\n",
      "07/29/2022 11:37:54 AM WARNING: face_normals incorrect shape, ignoring! \n"
     ]
    },
    {
     "name": "stdout",
     "output_type": "stream",
     "text": [
      "Warning: deduplication not currently supported for this layer's variable layered draco meshes\n"
     ]
    },
    {
     "name": "stderr",
     "output_type": "stream",
     "text": [
      "100%|██████████| 22364/22364 [00:00<00:00, 407752.46it/s]\n",
      "07/29/2022 11:37:58 AM WARNING: face_normals incorrect shape, ignoring! \n"
     ]
    },
    {
     "name": "stdout",
     "output_type": "stream",
     "text": [
      "Warning: deduplication not currently supported for this layer's variable layered draco meshes\n"
     ]
    },
    {
     "name": "stderr",
     "output_type": "stream",
     "text": [
      "100%|██████████| 152/152 [00:00<00:00, 92129.22it/s]\n",
      "07/29/2022 11:38:00 AM WARNING: face_normals incorrect shape, ignoring! \n"
     ]
    },
    {
     "name": "stdout",
     "output_type": "stream",
     "text": [
      "Warning: deduplication not currently supported for this layer's variable layered draco meshes\n"
     ]
    },
    {
     "name": "stderr",
     "output_type": "stream",
     "text": [
      "100%|██████████| 5763/5763 [00:00<00:00, 659332.10it/s]\n",
      "07/29/2022 11:38:02 AM WARNING: face_normals incorrect shape, ignoring! \n"
     ]
    },
    {
     "name": "stdout",
     "output_type": "stream",
     "text": [
      "Warning: deduplication not currently supported for this layer's variable layered draco meshes\n",
      "\n",
      "\n",
      "Seg 864691136347887475 returned error on get. Skipping.\n",
      "\n"
     ]
    },
    {
     "name": "stderr",
     "output_type": "stream",
     "text": [
      "07/29/2022 11:38:03 AM WARNING: face_normals incorrect shape, ignoring! \n"
     ]
    },
    {
     "name": "stdout",
     "output_type": "stream",
     "text": [
      "Warning: deduplication not currently supported for this layer's variable layered draco meshes\n"
     ]
    },
    {
     "name": "stderr",
     "output_type": "stream",
     "text": [
      "100%|██████████| 1905/1905 [00:00<00:00, 345191.56it/s]\n",
      "07/29/2022 11:38:05 AM WARNING: face_normals incorrect shape, ignoring! \n"
     ]
    },
    {
     "name": "stdout",
     "output_type": "stream",
     "text": [
      "Warning: deduplication not currently supported for this layer's variable layered draco meshes\n"
     ]
    },
    {
     "name": "stderr",
     "output_type": "stream",
     "text": [
      "100%|██████████| 138/138 [00:00<00:00, 93932.81it/s]\n",
      "07/29/2022 11:38:07 AM WARNING: face_normals incorrect shape, ignoring! \n"
     ]
    },
    {
     "name": "stdout",
     "output_type": "stream",
     "text": [
      "Warning: deduplication not currently supported for this layer's variable layered draco meshes\n"
     ]
    },
    {
     "name": "stderr",
     "output_type": "stream",
     "text": [
      "100%|██████████| 11909/11909 [00:00<00:00, 503974.96it/s]\n",
      "07/29/2022 11:38:10 AM WARNING: face_normals incorrect shape, ignoring! \n"
     ]
    },
    {
     "name": "stdout",
     "output_type": "stream",
     "text": [
      "Warning: deduplication not currently supported for this layer's variable layered draco meshes\n",
      "\n",
      "\n",
      "Seg 864691133525367772 returned error on get. Skipping.\n",
      "\n"
     ]
    },
    {
     "name": "stderr",
     "output_type": "stream",
     "text": [
      "07/29/2022 11:38:15 AM WARNING: face_normals incorrect shape, ignoring! \n"
     ]
    },
    {
     "name": "stdout",
     "output_type": "stream",
     "text": [
      "Warning: deduplication not currently supported for this layer's variable layered draco meshes\n"
     ]
    },
    {
     "name": "stderr",
     "output_type": "stream",
     "text": [
      "100%|██████████| 120275/120275 [00:00<00:00, 186030.10it/s]\n",
      "07/29/2022 11:38:37 AM WARNING: face_normals incorrect shape, ignoring! \n"
     ]
    },
    {
     "name": "stdout",
     "output_type": "stream",
     "text": [
      "Warning: deduplication not currently supported for this layer's variable layered draco meshes\n"
     ]
    },
    {
     "name": "stderr",
     "output_type": "stream",
     "text": [
      "100%|██████████| 202161/202161 [00:01<00:00, 149015.84it/s]\n",
      "07/29/2022 11:39:03 AM WARNING: face_normals incorrect shape, ignoring! \n"
     ]
    },
    {
     "name": "stdout",
     "output_type": "stream",
     "text": [
      "Warning: deduplication not currently supported for this layer's variable layered draco meshes\n"
     ]
    },
    {
     "name": "stderr",
     "output_type": "stream",
     "text": [
      "100%|██████████| 194/194 [00:00<00:00, 93228.11it/s]\n",
      "07/29/2022 11:39:04 AM WARNING: face_normals incorrect shape, ignoring! \n"
     ]
    },
    {
     "name": "stdout",
     "output_type": "stream",
     "text": [
      "Warning: deduplication not currently supported for this layer's variable layered draco meshes\n"
     ]
    },
    {
     "name": "stderr",
     "output_type": "stream",
     "text": [
      "100%|██████████| 128/128 [00:00<00:00, 50893.06it/s]\n",
      "07/29/2022 11:39:05 AM WARNING: face_normals incorrect shape, ignoring! \n"
     ]
    },
    {
     "name": "stdout",
     "output_type": "stream",
     "text": [
      "Warning: deduplication not currently supported for this layer's variable layered draco meshes\n"
     ]
    },
    {
     "name": "stderr",
     "output_type": "stream",
     "text": [
      "100%|██████████| 266/266 [00:00<00:00, 107608.49it/s]\n",
      "07/29/2022 11:39:07 AM WARNING: face_normals incorrect shape, ignoring! \n"
     ]
    },
    {
     "name": "stdout",
     "output_type": "stream",
     "text": [
      "Warning: deduplication not currently supported for this layer's variable layered draco meshes\n"
     ]
    },
    {
     "name": "stderr",
     "output_type": "stream",
     "text": [
      "100%|██████████| 1532/1532 [00:00<00:00, 340451.08it/s]\n",
      "07/29/2022 11:39:08 AM WARNING: face_normals incorrect shape, ignoring! \n"
     ]
    },
    {
     "name": "stdout",
     "output_type": "stream",
     "text": [
      "Warning: deduplication not currently supported for this layer's variable layered draco meshes\n"
     ]
    },
    {
     "name": "stderr",
     "output_type": "stream",
     "text": [
      "100%|██████████| 2876/2876 [00:00<00:00, 507310.05it/s]\n",
      "07/29/2022 11:39:11 AM WARNING: face_normals incorrect shape, ignoring! \n"
     ]
    },
    {
     "name": "stdout",
     "output_type": "stream",
     "text": [
      "Warning: deduplication not currently supported for this layer's variable layered draco meshes\n"
     ]
    },
    {
     "name": "stderr",
     "output_type": "stream",
     "text": [
      "100%|██████████| 4484/4484 [00:00<00:00, 468541.58it/s]\n",
      "07/29/2022 11:39:13 AM WARNING: face_normals incorrect shape, ignoring! \n"
     ]
    },
    {
     "name": "stdout",
     "output_type": "stream",
     "text": [
      "Warning: deduplication not currently supported for this layer's variable layered draco meshes\n"
     ]
    },
    {
     "name": "stderr",
     "output_type": "stream",
     "text": [
      "100%|██████████| 13121/13121 [00:00<00:00, 452447.59it/s]\n",
      "07/29/2022 11:39:16 AM WARNING: face_normals incorrect shape, ignoring! \n"
     ]
    },
    {
     "name": "stdout",
     "output_type": "stream",
     "text": [
      "Warning: deduplication not currently supported for this layer's variable layered draco meshes\n"
     ]
    },
    {
     "name": "stderr",
     "output_type": "stream",
     "text": [
      "100%|██████████| 1758/1758 [00:00<00:00, 476699.41it/s]\n",
      "07/29/2022 11:39:17 AM WARNING: face_normals incorrect shape, ignoring! \n"
     ]
    },
    {
     "name": "stdout",
     "output_type": "stream",
     "text": [
      "Warning: deduplication not currently supported for this layer's variable layered draco meshes\n",
      "\n",
      "\n",
      "Seg 864691132647441812 returned error on get. Skipping.\n",
      "\n"
     ]
    },
    {
     "name": "stderr",
     "output_type": "stream",
     "text": [
      "07/29/2022 11:39:21 AM WARNING: face_normals incorrect shape, ignoring! \n"
     ]
    },
    {
     "name": "stdout",
     "output_type": "stream",
     "text": [
      "Warning: deduplication not currently supported for this layer's variable layered draco meshes\n"
     ]
    },
    {
     "name": "stderr",
     "output_type": "stream",
     "text": [
      "100%|██████████| 20125/20125 [00:00<00:00, 142733.36it/s]\n",
      "07/29/2022 11:39:26 AM WARNING: face_normals incorrect shape, ignoring! \n"
     ]
    },
    {
     "name": "stdout",
     "output_type": "stream",
     "text": [
      "Warning: deduplication not currently supported for this layer's variable layered draco meshes\n"
     ]
    },
    {
     "name": "stderr",
     "output_type": "stream",
     "text": [
      "100%|██████████| 11410/11410 [00:00<00:00, 547318.80it/s]\n",
      "07/29/2022 11:39:30 AM WARNING: face_normals incorrect shape, ignoring! \n"
     ]
    },
    {
     "name": "stdout",
     "output_type": "stream",
     "text": [
      "Warning: deduplication not currently supported for this layer's variable layered draco meshes\n"
     ]
    },
    {
     "name": "stderr",
     "output_type": "stream",
     "text": [
      "100%|██████████| 15601/15601 [00:00<00:00, 693839.79it/s]\n",
      "07/29/2022 11:39:33 AM WARNING: face_normals incorrect shape, ignoring! \n"
     ]
    },
    {
     "name": "stdout",
     "output_type": "stream",
     "text": [
      "Warning: deduplication not currently supported for this layer's variable layered draco meshes\n",
      "\n",
      "\n",
      "Seg 864691136597387729 returned error on get. Skipping.\n",
      "\n"
     ]
    },
    {
     "name": "stderr",
     "output_type": "stream",
     "text": [
      "07/29/2022 11:39:36 AM WARNING: face_normals incorrect shape, ignoring! \n"
     ]
    },
    {
     "name": "stdout",
     "output_type": "stream",
     "text": [
      "Warning: deduplication not currently supported for this layer's variable layered draco meshes\n"
     ]
    },
    {
     "name": "stderr",
     "output_type": "stream",
     "text": [
      "100%|██████████| 13348/13348 [00:00<00:00, 522999.90it/s]\n",
      "07/29/2022 11:39:38 AM WARNING: face_normals incorrect shape, ignoring! \n"
     ]
    },
    {
     "name": "stdout",
     "output_type": "stream",
     "text": [
      "Warning: deduplication not currently supported for this layer's variable layered draco meshes\n"
     ]
    },
    {
     "name": "stderr",
     "output_type": "stream",
     "text": [
      "100%|██████████| 2543/2543 [00:00<00:00, 392858.75it/s]\n",
      "07/29/2022 11:39:40 AM WARNING: face_normals incorrect shape, ignoring! \n"
     ]
    },
    {
     "name": "stdout",
     "output_type": "stream",
     "text": [
      "Warning: deduplication not currently supported for this layer's variable layered draco meshes\n"
     ]
    },
    {
     "name": "stderr",
     "output_type": "stream",
     "text": [
      "100%|██████████| 13258/13258 [00:00<00:00, 548895.78it/s]\n",
      "07/29/2022 11:39:43 AM WARNING: face_normals incorrect shape, ignoring! \n"
     ]
    },
    {
     "name": "stdout",
     "output_type": "stream",
     "text": [
      "Warning: deduplication not currently supported for this layer's variable layered draco meshes\n"
     ]
    },
    {
     "name": "stderr",
     "output_type": "stream",
     "text": [
      "100%|██████████| 9618/9618 [00:00<00:00, 688139.74it/s]\n",
      "07/29/2022 11:39:48 AM WARNING: face_normals incorrect shape, ignoring! \n"
     ]
    },
    {
     "name": "stdout",
     "output_type": "stream",
     "text": [
      "Warning: deduplication not currently supported for this layer's variable layered draco meshes\n"
     ]
    },
    {
     "name": "stderr",
     "output_type": "stream",
     "text": [
      "100%|██████████| 38734/38734 [00:00<00:00, 196366.16it/s]\n",
      "07/29/2022 11:39:53 AM WARNING: face_normals incorrect shape, ignoring! \n"
     ]
    },
    {
     "name": "stdout",
     "output_type": "stream",
     "text": [
      "Warning: deduplication not currently supported for this layer's variable layered draco meshes\n"
     ]
    },
    {
     "name": "stderr",
     "output_type": "stream",
     "text": [
      "100%|██████████| 811/811 [00:00<00:00, 192691.36it/s]\n",
      "07/29/2022 11:39:55 AM WARNING: face_normals incorrect shape, ignoring! \n"
     ]
    },
    {
     "name": "stdout",
     "output_type": "stream",
     "text": [
      "Warning: deduplication not currently supported for this layer's variable layered draco meshes\n"
     ]
    },
    {
     "name": "stderr",
     "output_type": "stream",
     "text": [
      "100%|██████████| 9313/9313 [00:00<00:00, 408213.62it/s]\n"
     ]
    },
    {
     "name": "stdout",
     "output_type": "stream",
     "text": [
      "[[  99.46356117 4423.90008929]\n",
      " [4415.78452826   24.37211521]]\n",
      "[[ 146.85366866 5470.51569781 9272.57704201]\n",
      " [5554.85157317  495.77414213 8350.73439884]\n",
      " [9231.09576378 8664.4402589   368.27978495]]\n",
      "skipping \n",
      "\n",
      "skipping \n",
      "\n",
      "[[173.70377083 226.46191733]\n",
      " [146.63560277 252.88337233]]\n",
      "[[358.60842154 495.25548962]\n",
      " [491.02851241 233.07724042]]\n",
      "[[  65.7267069  4494.89933146]\n",
      " [4475.84450132  624.97999968]]\n",
      "[[901.23748258 517.58284361]\n",
      " [826.68313156 572.19926599]]\n",
      "skipping \n",
      "\n",
      "[[648.0686692   81.63332653]\n",
      " [107.42904635 605.6153895 ]]\n",
      "[[ 4128.18483113  3189.93291466    91.23595782]\n",
      " [  170.76592166  3482.68416598  4007.43771006]\n",
      " [11292.02129824  8929.37315829 11956.89278199]\n",
      " [13982.45489891 13733.27073206 16546.69710244]\n",
      " [ 7099.01887587  3574.97762231  6076.14853341]]\n",
      "[[8128.64742746  864.88033854]\n",
      " [ 315.13171849 8280.50898194]]\n",
      "[[  802.63628126  3717.38079836 10550.35264813]\n",
      " [10174.82270116  7734.51601589   253.21334878]\n",
      " [ 3197.35218579   939.4423878   8381.84043036]]\n",
      "[[  657.3864921  12356.94270441]\n",
      " [12607.73147715    40.01249805]]\n",
      "[[358.52057124  26.07680962]\n",
      " [ 56.04462508 314.89680849]]\n",
      "[[ 632.51561246  629.52442367]\n",
      " [ 642.04750603 1205.60773057]]\n",
      "skipping \n",
      "\n",
      "[[ 37.36308338 514.76693756]\n",
      " [501.74196556  38.85871846]]\n",
      "[[34041.63876784 31834.05071617 24858.62701357  1196.39165828]\n",
      " [  281.82441342  2356.785947    9314.39455896 33086.30786292]]\n",
      "[[4675.35089592  353.72022843]\n",
      " [  88.20430828 4446.01304541]]\n",
      "[[123.97580409 682.20231603]\n",
      " [594.66797459  82.21921916]]\n",
      "[[  96.42095208 1749.52479262]\n",
      " [1622.45369734  458.97712361]]\n",
      "[[3712.40905613  559.51407489]\n",
      " [ 239.59340559 4046.79725215]]\n",
      "skipping \n",
      "\n",
      "[[1026.45214209  801.50483467]\n",
      " [ 513.0984311  1353.38095154]\n",
      " [ 994.47724961  182.20043908]]\n",
      "[[ 315.70397527 1909.91203986]\n",
      " [1556.73568726  809.35838786]]\n",
      "[[13630.80280101    38.94868419]\n",
      " [  830.40291425 13620.68739088]]\n",
      "[[562.729953   135.3070582 ]\n",
      " [126.54643417 595.58794481]]\n",
      "[[ 101.93134945 4868.93725571]\n",
      " [4959.18098077   30.72458299]]\n",
      "[[  48.88762625 5029.54560572]\n",
      " [5920.58147482 2289.41040445]]\n",
      "[[  14.86606875 8083.54829267]\n",
      " [8031.90002428  139.17614738]]\n",
      "[[3140.96879959  548.80324343]\n",
      " [ 217.33154396 2828.26536944]]\n",
      "[[ 774.19700335 5053.42309727]\n",
      " [ 612.68670624 5120.38758299]\n",
      " [5673.50209306   84.        ]]\n",
      "[[16271.3315374   1838.26983873]\n",
      " [  758.89656739 17297.52901428]]\n",
      "[[14102.25460698  6289.34654793  7228.31847666  7941.92375939\n",
      "   5860.16083397   120.65653733  6205.24366967]\n",
      " [13490.80360838  9103.78871679  8456.15261215  9887.33209718\n",
      "   7570.78463569  6137.64686179   114.27160627]\n",
      " [ 7142.88849136  2328.45721455    39.86226286  4800.11812355\n",
      "   3143.47228396  7310.09336466  8508.53077799]\n",
      " [ 8983.21668446   151.01324445  2230.20738946  5433.86602706\n",
      "   3803.59303817  6365.88320659  9125.85612422]\n",
      " [   82.56512581  9018.89682833  7064.19705274  8417.82305587\n",
      "   8702.44362234 14172.27271823 13451.78148053]]\n",
      "[[5794.38529958 6356.7184144   135.32183859]\n",
      " [2064.61449186   16.88194302 6440.60478527]]\n",
      "[[4.50567954e+04 1.95527682e+04 4.32130717e+04 3.61400069e+04\n",
      "  2.88308804e+04 1.60921288e+04 2.43874006e+04 3.96036614e+02\n",
      "  6.84594369e+03 2.76317840e+04 2.11539684e+04]\n",
      " [4.96027166e+04 3.50540310e+04 4.65528773e+04 4.10964200e+04\n",
      "  3.51900786e+04 2.56049446e+04 2.81851677e+04 2.11822273e+04\n",
      "  1.94390054e+04 2.59480859e+04 1.19770614e+02]\n",
      " [3.94565994e+04 1.76924279e+04 3.74326762e+04 3.04801133e+04\n",
      "  2.33836711e+04 1.05374384e+04 1.87831214e+04 6.75872325e+03\n",
      "  3.05754804e+02 2.17274451e+04 1.97742795e+04]\n",
      " [3.08923464e+04 2.94788059e+01 3.02752051e+04 2.33337256e+04\n",
      "  1.68508351e+04 1.21898493e+04 1.72754401e+04 1.92451296e+04\n",
      "  1.78571114e+04 2.40759315e+04 3.50968094e+04]\n",
      " [2.39736267e+04 2.40849685e+04 2.07564881e+04 1.61690038e+04\n",
      "  1.25535155e+04 1.44435247e+04 7.05194562e+03 2.75182756e+04\n",
      "  2.15612117e+04 5.80689246e+01 2.59303084e+04]\n",
      " [1.69526623e+04 3.74175293e+04 1.44405559e+04 1.79942325e+04\n",
      "  2.22190963e+04 3.27249794e+04 2.34454581e+04 4.72716312e+04\n",
      "  4.18426409e+04 2.11124565e+04 4.53483959e+04]\n",
      " [1.71688672e+02 3.07966662e+04 3.50946221e+03 8.88641829e+03\n",
      "  1.61709604e+04 2.89191754e+04 2.21129889e+04 4.47682982e+04\n",
      "  3.93289749e+04 2.38090284e+04 4.94339803e+04]]\n",
      "[[  150.56227947 10139.99802761  9720.50770279]\n",
      " [10274.09363399   239.8353602   4692.46470418]\n",
      " [ 9706.69093976  5391.09562149   749.00333778]]\n",
      "[[13287.84832093 11924.3910117  12666.62338589 10743.91027513\n",
      "  11108.58933438]\n",
      " [11162.08313891  3678.04567671  1975.96685195  2588.36801866\n",
      "   1021.83266732]\n",
      " [  314.23717158  7707.22965793 10312.37799928  8624.81443279\n",
      "  11753.47782573]]\n",
      "[[   41.43669871 20114.63521916]\n",
      " [20059.3399692     97.90301323]]\n",
      "skipping \n",
      "\n",
      "[[ 385.75121516 2269.35453378 6356.16551075]\n",
      " [2036.26913742   15.16575089 6922.34208921]\n",
      " [6698.05232885 6982.27677767  196.23710149]]\n",
      "skipping \n",
      "\n",
      "[[10766.71491217 10795.95850307  7354.95622013    89.10667764]\n",
      " [ 5875.00306383  5399.21003481    32.06243908  7446.11099837]\n",
      " [ 1426.61312205   156.08010764  5577.4343564  10982.13553914]]\n",
      "[[  180.29143074 25361.66280038]\n",
      " [25233.5133503     26.17250466]]\n",
      "skipping \n",
      "\n",
      "[[1325.23507349  387.45967532 3857.5413154 ]\n",
      " [3161.97991771 3651.31401005  211.43793416]]\n",
      "[[8038.83362186 5166.50055647  339.53055827]\n",
      " [3601.18841495   24.         5241.9398127 ]\n",
      " [  61.77378085 3587.78065104 8078.02457288]]\n",
      "skipping \n",
      "\n",
      "skipping \n",
      "\n",
      "[[ 134.33167906 2601.44056246]\n",
      " [2675.36726451   16.43167673]]\n",
      "[[  102.32301794  3504.01198628 11723.69967203]\n",
      " [11797.9401592   9240.54619598    50.19960159]]\n",
      "[[352.76054201 152.72524349]\n",
      " [ 21.3541565  455.48325985]]\n",
      "[[1699.82499099   26.92582404]\n",
      " [  27.07397274 1686.14619769]]\n",
      "[[ 12735.57372088  35001.25403468  26599.29173869  31009.2873346\n",
      "   18918.2796258   21415.43819304    195.        ]\n",
      " [   301.27230208  29328.06330121  20596.38774154  25772.44656605\n",
      "   13893.6083506   16828.08046094  12851.58239284]\n",
      " [ 64509.84775211  35976.8216634   45516.34141712  40144.50859084\n",
      "   52716.28075841  49759.24316145  70017.38436988]\n",
      " [ 72187.74902295  42949.80131502  52173.1623155   46692.69514603\n",
      "   59320.50088292  56256.50353515  76470.50367298]\n",
      " [ 68360.7938295   40015.56258507  49292.89741941  44239.97294303\n",
      "   56826.52029642  53986.53469153  74924.55799002]\n",
      " [113576.93540504  85373.08518497  94868.54986243  89575.09471388\n",
      "  102162.50138872  99230.29741465 119370.20541576]\n",
      " [ 58934.454074    31081.74507649  40358.9344012   35395.96869701\n",
      "   47788.1562419   45007.34462285  65755.84007524]\n",
      " [ 66034.22107514  38490.39684129  47676.72327247  42804.27198306\n",
      "   55135.50566559  52394.03532846  73148.50202157]]\n",
      "skipping \n",
      "\n",
      "[[3118.03624097 2715.30403454  182.75940468]\n",
      " [1867.67609612  341.8420688  2969.0680356 ]\n",
      " [ 237.05906437 1942.45128639 3063.23195335]]\n",
      "[[ 179.55779014 8997.95098898]\n",
      " [9016.72512612   18.13835715]]\n",
      "[[355.19149765 487.7191815 ]\n",
      " [ 49.04079934 707.92513729]]\n",
      "[[33091.47897873  5453.96452134   128.77888026]\n",
      " [ 1215.36002896 27800.90027319 33288.84685597]]\n",
      "[[4091.22108911   18.86796226]\n",
      " [  40.80441153 4068.75226574]]\n",
      "[[10109.88036527   155.2836115 ]\n",
      " [   16.88194302 10227.94920793]]\n",
      "skipping \n",
      "\n",
      "[[3.76209746e+04 4.17216896e+04 4.24502617e+04 1.40036211e+04\n",
      "  1.24854545e+04 8.62515374e+03 8.03767485e+03 3.10644491e+01]\n",
      " [1.54378187e+04 3.68919409e+03 7.89936706e+01 3.35119813e+04\n",
      "  3.41707110e+04 3.56190252e+04 3.73391194e+04 4.23995665e+04]]\n",
      "[[1.53406421e+03 1.94164878e+01 3.84468895e+04]\n",
      " [3.81276523e+04 3.84133919e+04 4.12310563e+01]]\n",
      "[[19864.73951503 22595.52814165  7738.78207472   444.96404349]\n",
      " [11735.7593704  15914.75818227  2189.38347486  9321.85051371]\n",
      " [ 5936.93329927    59.8414572  15733.12788355 22988.30224266]]\n",
      "[[2617.98242928   58.9067059 ]\n",
      " [ 134.12680567 2526.06650744]]\n",
      "skipping \n",
      "\n",
      "[[2181.11118469 6958.83675624  434.84365006]\n",
      " [5488.58141964  606.60118694 6716.95593256]]\n",
      "skipping \n",
      "\n",
      "skipping \n",
      "\n",
      "[[728.33646071 821.10291681]\n",
      " [536.80257078  56.96490147]]\n",
      "[[ 3909.81099287    28.72281323 25144.70258325]\n",
      " [23509.82254293 25148.07199369    48.60041152]]\n",
      "[[  131.48383931 12935.8821887  21815.46309387]\n",
      " [13095.24799307   399.20921833 18095.85814489]\n",
      " [21916.76173617 18056.13737763    64.90762667]]\n",
      "[[  46.43274706 5320.16447114]\n",
      " [5685.48617094  461.89284472]]\n",
      "[[3211.97073461   38.89730068]\n",
      " [  30.7408523  3229.0676673 ]]\n",
      "skipping \n",
      "\n",
      "[[620.95813063 151.21177203]\n",
      " [218.73499949 552.63821801]]\n",
      "skipping \n",
      "\n",
      "[[1430.60267021  183.84776311 2427.92298066]\n",
      " [1941.98455195 2540.09133694   20.14944168]]\n",
      "[[   31.89043744 12745.44314647]\n",
      " [12741.17047213    30.01666204]]\n",
      "[[7605.6870827    88.60022573 9508.79498149]\n",
      " [6684.9412862  9589.93879021   31.144823  ]\n",
      " [  43.79497688 7638.56138288 6656.71961254]]\n",
      "[[ 935.98344002 2534.72089193]\n",
      " [1850.50506619   62.        ]]\n",
      "[[1619.99876543 1284.47070811]\n",
      " [ 105.89145386 1031.67824442]]\n",
      "[[   75.74958746  6510.60058674 11021.62478948]\n",
      " [11065.46799733  4853.89328272   248.2035455 ]]\n",
      "skipping \n",
      "\n",
      "[[310.85366332  23.02172887]\n",
      " [ 62.4899992  303.19135872]]\n",
      "skipping \n",
      "\n",
      "[[   40.31128874 12244.73049928]\n",
      " [12212.52574204    46.09772229]]\n",
      "[[ 5963.93569717 14680.46378695    96.64884893]\n",
      " [ 9660.69666225    65.32993188 14711.3417471 ]]\n",
      "[[1109.86485664 3692.88505101]\n",
      " [2858.46899581   32.26453161]]\n",
      "[[4383.26647604 6625.7616166   805.82938641]\n",
      " [2635.96092536   45.475268   6080.72758804]]\n",
      "[[299.8349546  881.41080093]\n",
      " [776.66273246  45.48626166]]\n",
      "[[4345.46487732  142.46754016 8994.61805748]\n",
      " [7223.4288257  9523.42816427  725.81333688]]\n",
      "skipping \n",
      "\n",
      "[[ 50971.90969544 104903.52570338  68877.84624972  69601.12287169\n",
      "   50977.3090404   37501.3884543   32724.09505242    223.90176417]\n",
      " [   247.97177259  58257.45934213  23492.67945552  24605.16199906\n",
      "   12148.74944181  16729.28868781  21044.78008913  51145.82626178]\n",
      " [ 58174.28027058    167.16458955  36412.88591969  35762.25286528\n",
      "   55096.19992341  68432.88695503  72770.63700422 104960.22963485]]\n",
      "skipping \n",
      "\n",
      "[[ 1169.28396893    47.93745926 20369.20933664 21178.14800685\n",
      "  22693.15000171]\n",
      " [22746.87391709 22677.40836163  2769.20656507  1592.80413108\n",
      "     47.16990566]]\n",
      "[[11691.13086917  9801.80677222  9378.60570661   235.75623003]\n",
      " [  208.540164   15491.69041777  2728.81384488 11749.98114892]\n",
      " [15814.15486202   354.9154829  14240.8687235   9929.1142606 ]]\n",
      "skipping \n",
      "\n",
      "[[7405.00506414   71.86793444]\n",
      " [1041.80468419 7166.27378768]]\n",
      "skipping \n",
      "\n",
      "[[ 241.85532866 1607.08244966]\n",
      " [1651.96277198  120.70211266]]\n",
      "[[ 45.12205669 225.22211259]\n",
      " [239.06066176  56.64803615]]\n",
      "[[5477.85049084  865.63560463 9255.64584456]\n",
      " [5316.68176591 8598.90365105  211.10423965]]\n",
      "skipping \n",
      "\n",
      "[[  591.34930456 22345.55718706 20834.35396167 32221.76342164\n",
      "  28132.42209622 18346.75491742 23968.62065285 28552.57153042\n",
      "  33621.04781235 33355.17911809 35467.64570704 26253.03237723]\n",
      " [21964.59917686    74.97332859 25135.39575976 14815.47046165\n",
      "  11708.64885459 18790.40406697 19885.16142756 17245.05610313\n",
      "  16683.97137974 17666.75004068 20839.42103322 19991.73929402]\n",
      " [29138.15301285 12566.00003979 23355.91762274  4316.74194272\n",
      "   1159.97499973 16395.49111799 13768.579629    7046.28299176\n",
      "   4531.07856917  5175.55340036  8393.80205866 12749.20985787]\n",
      " [21090.70212203 25336.70917858   172.11914478 24363.70587575\n",
      "  22715.49966433 12222.70174716 11740.74060696 18521.69303816\n",
      "  26040.63236559 24634.55499903 26155.31903839 19618.24959062]\n",
      " [24017.2248605  19923.11566999 11706.35541063 15462.8802621\n",
      "  13167.82537096  6541.77804576    35.4964787   7777.74935312\n",
      "  15798.07925034 14257.72527439 15129.8856572   8555.66064077]\n",
      " [26686.70335579 20175.2463182  19779.53500465 15804.26904352\n",
      "  12219.50281313  9519.67488941  8702.17133824  8666.01898221\n",
      "  14056.78661715 12916.80796482 12349.07211089   325.30754679]\n",
      " [29086.42803783 17484.98452959 18847.49917098  7881.35775105\n",
      "   6918.81991383 13060.30818932  8317.81377527   714.30035699\n",
      "   7654.9833442   5982.61548154  7460.83520794  9368.27225266]\n",
      " [32272.01637642 15114.68084347 24389.70065417   271.99448524\n",
      "   5440.21801034 19388.34982664 15544.6416813   8389.15573821\n",
      "   4053.78995509  4594.41759095  8307.25544329 15990.67359432]\n",
      " [33505.35419899 16721.38427284 26019.9288431   4125.32277525\n",
      "   5654.70361734 19484.60659084 15827.77501735  8099.26965843\n",
      "     36.74234614  2126.70073118  5012.11991078 14217.90297477]\n",
      " [35371.1980289  20700.96582288 26253.68037057  8304.35271409\n",
      "   9062.62461983 19458.9074719  15245.72936924  7930.21468814\n",
      "   4822.75854672  3690.78555324   291.10135692 12630.15601646]]\n",
      "skipping \n",
      "\n",
      "skipping \n",
      "\n",
      "skipping \n",
      "\n",
      "skipping \n",
      "\n",
      "[[1773.9574403   262.78698598]\n",
      " [  12.36931688 1964.69157885]]\n",
      "[[2931.81121493   94.95261976]\n",
      " [ 101.78899744 2977.3716597 ]]\n",
      "[[5963.40339068  941.31450642]\n",
      " [  41.0487515  5354.89215578]]\n",
      "[[17026.81520426    20.90454496 19963.30669003]\n",
      " [ 3509.92948647 19956.17247871    25.        ]]\n",
      "[[1631.98774505  139.89996426]\n",
      " [  94.27619    1655.5470395 ]]\n",
      "[[5.24722708e+03 6.10227572e+03 3.18216907e+02 1.72840896e+04\n",
      "  1.09311354e+04 2.03664803e+04]\n",
      " [1.65972974e+04 1.46402354e+04 2.03785424e+04 4.23783305e+03\n",
      "  1.00837706e+04 9.21954446e+00]]\n",
      "[[10355.88513841    35.28455753]\n",
      " [   31.06444913 10358.44124374]]\n",
      "skipping \n",
      "\n",
      "skipping \n",
      "\n",
      "[[   61.40032573  5161.01055996 16096.10241642]\n",
      " [16090.07426956 11216.67999009    49.12229636]]\n",
      "[[ 567.43369657 3469.70978613]\n",
      " [3244.97411392   68.02940541]]\n",
      "[[16733.89643807  8273.97316892   682.07111066]\n",
      " [   59.51470407 11144.90735717 16849.42506438]]\n",
      "[[11926.12267252   124.6314567 ]\n",
      " [  118.41030361 11931.48532246]]\n",
      "skipping \n",
      "\n",
      "[[ 106.62082348  894.87261663]\n",
      " [1033.07550547  708.78064308]]\n",
      "skipping \n",
      "\n"
     ]
    },
    {
     "name": "stderr",
     "output_type": "stream",
     "text": [
      "07/29/2022 11:39:57 AM WARNING: face_normals incorrect shape, ignoring! \n"
     ]
    },
    {
     "name": "stdout",
     "output_type": "stream",
     "text": [
      "Warning: deduplication not currently supported for this layer's variable layered draco meshes\n"
     ]
    },
    {
     "name": "stderr",
     "output_type": "stream",
     "text": [
      "100%|██████████| 3996/3996 [00:00<00:00, 334639.89it/s]\n",
      "07/29/2022 11:40:00 AM WARNING: face_normals incorrect shape, ignoring! \n"
     ]
    },
    {
     "name": "stdout",
     "output_type": "stream",
     "text": [
      "Warning: deduplication not currently supported for this layer's variable layered draco meshes\n"
     ]
    },
    {
     "name": "stderr",
     "output_type": "stream",
     "text": [
      "  0%|          | 0/10649 [00:00<?, ?it/s]/Library/Frameworks/Python.framework/Versions/3.8/lib/python3.8/site-packages/meshparty/skeletonize.py:613: RuntimeWarning: invalid value encountered in multiply\n",
      "  target = np.nanargmax(root_ds * valid)\n",
      "100%|██████████| 10649/10649 [00:00<00:00, 478065.09it/s]\n",
      "07/29/2022 11:40:02 AM WARNING: face_normals incorrect shape, ignoring! \n"
     ]
    },
    {
     "name": "stdout",
     "output_type": "stream",
     "text": [
      "Warning: deduplication not currently supported for this layer's variable layered draco meshes\n"
     ]
    },
    {
     "name": "stderr",
     "output_type": "stream",
     "text": [
      "100%|██████████| 1140/1140 [00:00<00:00, 223090.87it/s]\n",
      "07/29/2022 11:40:07 AM WARNING: face_normals incorrect shape, ignoring! \n"
     ]
    },
    {
     "name": "stdout",
     "output_type": "stream",
     "text": [
      "Warning: deduplication not currently supported for this layer's variable layered draco meshes\n"
     ]
    },
    {
     "name": "stderr",
     "output_type": "stream",
     "text": [
      "100%|██████████| 91377/91377 [00:00<00:00, 128002.07it/s]\n",
      "07/29/2022 11:40:21 AM WARNING: face_normals incorrect shape, ignoring! \n"
     ]
    },
    {
     "name": "stdout",
     "output_type": "stream",
     "text": [
      "Warning: deduplication not currently supported for this layer's variable layered draco meshes\n"
     ]
    },
    {
     "name": "stderr",
     "output_type": "stream",
     "text": [
      "100%|██████████| 117/117 [00:00<00:00, 49644.27it/s]\n",
      "07/29/2022 11:40:22 AM WARNING: face_normals incorrect shape, ignoring! \n"
     ]
    },
    {
     "name": "stdout",
     "output_type": "stream",
     "text": [
      "Warning: deduplication not currently supported for this layer's variable layered draco meshes\n"
     ]
    },
    {
     "name": "stderr",
     "output_type": "stream",
     "text": [
      "100%|██████████| 725/725 [00:00<00:00, 140449.42it/s]\n",
      "07/29/2022 11:40:24 AM WARNING: face_normals incorrect shape, ignoring! \n"
     ]
    },
    {
     "name": "stdout",
     "output_type": "stream",
     "text": [
      "Warning: deduplication not currently supported for this layer's variable layered draco meshes\n"
     ]
    },
    {
     "name": "stderr",
     "output_type": "stream",
     "text": [
      "100%|██████████| 3024/3024 [00:00<00:00, 459433.31it/s]\n",
      "07/29/2022 11:40:26 AM WARNING: face_normals incorrect shape, ignoring! \n"
     ]
    },
    {
     "name": "stdout",
     "output_type": "stream",
     "text": [
      "Warning: deduplication not currently supported for this layer's variable layered draco meshes\n"
     ]
    },
    {
     "name": "stderr",
     "output_type": "stream",
     "text": [
      "100%|██████████| 590/590 [00:00<00:00, 229218.17it/s]\n",
      "07/29/2022 11:40:28 AM WARNING: face_normals incorrect shape, ignoring! \n"
     ]
    },
    {
     "name": "stdout",
     "output_type": "stream",
     "text": [
      "Warning: deduplication not currently supported for this layer's variable layered draco meshes\n"
     ]
    },
    {
     "name": "stderr",
     "output_type": "stream",
     "text": [
      "100%|██████████| 33205/33205 [00:00<00:00, 148461.48it/s]\n",
      "07/29/2022 11:40:32 AM WARNING: face_normals incorrect shape, ignoring! \n"
     ]
    },
    {
     "name": "stdout",
     "output_type": "stream",
     "text": [
      "Warning: deduplication not currently supported for this layer's variable layered draco meshes\n"
     ]
    },
    {
     "name": "stderr",
     "output_type": "stream",
     "text": [
      "100%|██████████| 338/338 [00:00<00:00, 161392.85it/s]\n",
      "07/29/2022 11:40:34 AM WARNING: face_normals incorrect shape, ignoring! \n"
     ]
    },
    {
     "name": "stdout",
     "output_type": "stream",
     "text": [
      "Warning: deduplication not currently supported for this layer's variable layered draco meshes\n"
     ]
    },
    {
     "name": "stderr",
     "output_type": "stream",
     "text": [
      "100%|██████████| 5856/5856 [00:00<00:00, 422358.64it/s]\n",
      "07/29/2022 11:40:36 AM WARNING: face_normals incorrect shape, ignoring! \n"
     ]
    },
    {
     "name": "stdout",
     "output_type": "stream",
     "text": [
      "Warning: deduplication not currently supported for this layer's variable layered draco meshes\n"
     ]
    },
    {
     "name": "stderr",
     "output_type": "stream",
     "text": [
      "100%|██████████| 7270/7270 [00:00<00:00, 575842.54it/s]\n",
      "07/29/2022 11:40:38 AM WARNING: face_normals incorrect shape, ignoring! \n"
     ]
    },
    {
     "name": "stdout",
     "output_type": "stream",
     "text": [
      "Warning: deduplication not currently supported for this layer's variable layered draco meshes\n"
     ]
    },
    {
     "name": "stderr",
     "output_type": "stream",
     "text": [
      "100%|██████████| 12420/12420 [00:00<00:00, 477880.32it/s]\n",
      "07/29/2022 11:40:41 AM WARNING: face_normals incorrect shape, ignoring! \n"
     ]
    },
    {
     "name": "stdout",
     "output_type": "stream",
     "text": [
      "Warning: deduplication not currently supported for this layer's variable layered draco meshes\n"
     ]
    },
    {
     "name": "stderr",
     "output_type": "stream",
     "text": [
      "100%|██████████| 11545/11545 [00:00<00:00, 675622.83it/s]\n",
      "07/29/2022 11:40:43 AM WARNING: face_normals incorrect shape, ignoring! \n"
     ]
    },
    {
     "name": "stdout",
     "output_type": "stream",
     "text": [
      "Warning: deduplication not currently supported for this layer's variable layered draco meshes\n",
      "\n",
      "\n",
      "Seg 864691133692934758 returned error on get. Skipping.\n",
      "\n"
     ]
    },
    {
     "name": "stderr",
     "output_type": "stream",
     "text": [
      "07/29/2022 11:40:44 AM WARNING: face_normals incorrect shape, ignoring! \n"
     ]
    },
    {
     "name": "stdout",
     "output_type": "stream",
     "text": [
      "Warning: deduplication not currently supported for this layer's variable layered draco meshes\n"
     ]
    },
    {
     "name": "stderr",
     "output_type": "stream",
     "text": [
      "100%|██████████| 158/158 [00:00<00:00, 84302.26it/s]\n",
      "07/29/2022 11:40:45 AM WARNING: face_normals incorrect shape, ignoring! \n"
     ]
    },
    {
     "name": "stdout",
     "output_type": "stream",
     "text": [
      "Warning: deduplication not currently supported for this layer's variable layered draco meshes\n"
     ]
    },
    {
     "name": "stderr",
     "output_type": "stream",
     "text": [
      "100%|██████████| 1243/1243 [00:00<00:00, 332558.52it/s]\n",
      "07/29/2022 11:40:47 AM WARNING: face_normals incorrect shape, ignoring! \n"
     ]
    },
    {
     "name": "stdout",
     "output_type": "stream",
     "text": [
      "Warning: deduplication not currently supported for this layer's variable layered draco meshes\n",
      "\n",
      "\n",
      "Seg 864691133946526057 returned error on get. Skipping.\n",
      "\n"
     ]
    },
    {
     "name": "stderr",
     "output_type": "stream",
     "text": [
      "07/29/2022 11:40:48 AM WARNING: face_normals incorrect shape, ignoring! \n"
     ]
    },
    {
     "name": "stdout",
     "output_type": "stream",
     "text": [
      "Warning: deduplication not currently supported for this layer's variable layered draco meshes\n",
      "\n",
      "\n",
      "Seg 864691133712131152 returned error on get. Skipping.\n",
      "\n"
     ]
    },
    {
     "name": "stderr",
     "output_type": "stream",
     "text": [
      "07/29/2022 11:40:49 AM WARNING: face_normals incorrect shape, ignoring! \n"
     ]
    },
    {
     "name": "stdout",
     "output_type": "stream",
     "text": [
      "Warning: deduplication not currently supported for this layer's variable layered draco meshes\n"
     ]
    },
    {
     "name": "stderr",
     "output_type": "stream",
     "text": [
      "100%|██████████| 204/204 [00:00<00:00, 78614.30it/s]\n",
      "07/29/2022 11:40:52 AM WARNING: face_normals incorrect shape, ignoring! \n"
     ]
    },
    {
     "name": "stdout",
     "output_type": "stream",
     "text": [
      "Warning: deduplication not currently supported for this layer's variable layered draco meshes\n"
     ]
    },
    {
     "name": "stderr",
     "output_type": "stream",
     "text": [
      "100%|██████████| 22603/22603 [00:00<00:00, 426832.89it/s]\n",
      "07/29/2022 11:40:55 AM WARNING: face_normals incorrect shape, ignoring! \n"
     ]
    },
    {
     "name": "stdout",
     "output_type": "stream",
     "text": [
      "Warning: deduplication not currently supported for this layer's variable layered draco meshes\n"
     ]
    },
    {
     "name": "stderr",
     "output_type": "stream",
     "text": [
      "100%|██████████| 3568/3568 [00:00<00:00, 537816.31it/s]\n",
      "07/29/2022 11:40:57 AM WARNING: face_normals incorrect shape, ignoring! \n"
     ]
    },
    {
     "name": "stdout",
     "output_type": "stream",
     "text": [
      "Warning: deduplication not currently supported for this layer's variable layered draco meshes\n",
      "\n",
      "\n",
      "Seg 864691133678427777 returned error on get. Skipping.\n",
      "\n"
     ]
    },
    {
     "name": "stderr",
     "output_type": "stream",
     "text": [
      "07/29/2022 11:40:58 AM WARNING: face_normals incorrect shape, ignoring! \n"
     ]
    },
    {
     "name": "stdout",
     "output_type": "stream",
     "text": [
      "Warning: deduplication not currently supported for this layer's variable layered draco meshes\n"
     ]
    },
    {
     "name": "stderr",
     "output_type": "stream",
     "text": [
      "100%|██████████| 556/556 [00:00<00:00, 236802.70it/s]\n",
      "07/29/2022 11:40:59 AM WARNING: face_normals incorrect shape, ignoring! \n"
     ]
    },
    {
     "name": "stdout",
     "output_type": "stream",
     "text": [
      "Warning: deduplication not currently supported for this layer's variable layered draco meshes\n"
     ]
    },
    {
     "name": "stderr",
     "output_type": "stream",
     "text": [
      "100%|██████████| 1119/1119 [00:00<00:00, 283436.57it/s]\n",
      "07/29/2022 11:41:00 AM WARNING: face_normals incorrect shape, ignoring! \n"
     ]
    },
    {
     "name": "stdout",
     "output_type": "stream",
     "text": [
      "Warning: deduplication not currently supported for this layer's variable layered draco meshes\n"
     ]
    },
    {
     "name": "stderr",
     "output_type": "stream",
     "text": [
      "100%|██████████| 3576/3576 [00:00<00:00, 400267.70it/s]\n",
      "07/29/2022 11:41:02 AM WARNING: face_normals incorrect shape, ignoring! \n"
     ]
    },
    {
     "name": "stdout",
     "output_type": "stream",
     "text": [
      "Warning: deduplication not currently supported for this layer's variable layered draco meshes\n"
     ]
    },
    {
     "name": "stderr",
     "output_type": "stream",
     "text": [
      "100%|██████████| 230/230 [00:00<00:00, 102911.24it/s]\n",
      "07/29/2022 11:41:03 AM WARNING: face_normals incorrect shape, ignoring! \n"
     ]
    },
    {
     "name": "stdout",
     "output_type": "stream",
     "text": [
      "Warning: deduplication not currently supported for this layer's variable layered draco meshes\n"
     ]
    },
    {
     "name": "stderr",
     "output_type": "stream",
     "text": [
      "100%|██████████| 1402/1402 [00:00<00:00, 426518.76it/s]\n",
      "07/29/2022 11:41:04 AM WARNING: face_normals incorrect shape, ignoring! \n"
     ]
    },
    {
     "name": "stdout",
     "output_type": "stream",
     "text": [
      "Warning: deduplication not currently supported for this layer's variable layered draco meshes\n",
      "\n",
      "\n",
      "Seg 864691133766052845 returned error on get. Skipping.\n",
      "\n"
     ]
    },
    {
     "name": "stderr",
     "output_type": "stream",
     "text": [
      "07/29/2022 11:41:05 AM WARNING: face_normals incorrect shape, ignoring! \n"
     ]
    },
    {
     "name": "stdout",
     "output_type": "stream",
     "text": [
      "Warning: deduplication not currently supported for this layer's variable layered draco meshes\n"
     ]
    },
    {
     "name": "stderr",
     "output_type": "stream",
     "text": [
      "100%|██████████| 1499/1499 [00:00<00:00, 234371.94it/s]\n",
      "07/29/2022 11:41:08 AM WARNING: face_normals incorrect shape, ignoring! \n"
     ]
    },
    {
     "name": "stdout",
     "output_type": "stream",
     "text": [
      "Warning: deduplication not currently supported for this layer's variable layered draco meshes\n"
     ]
    },
    {
     "name": "stderr",
     "output_type": "stream",
     "text": [
      "100%|██████████| 14992/14992 [00:00<00:00, 708582.24it/s]\n",
      "07/29/2022 11:41:11 AM WARNING: face_normals incorrect shape, ignoring! \n"
     ]
    },
    {
     "name": "stdout",
     "output_type": "stream",
     "text": [
      "Warning: deduplication not currently supported for this layer's variable layered draco meshes\n"
     ]
    },
    {
     "name": "stderr",
     "output_type": "stream",
     "text": [
      "100%|██████████| 351/351 [00:00<00:00, 86533.87it/s]\n",
      "07/29/2022 11:41:12 AM WARNING: face_normals incorrect shape, ignoring! \n"
     ]
    },
    {
     "name": "stdout",
     "output_type": "stream",
     "text": [
      "Warning: deduplication not currently supported for this layer's variable layered draco meshes\n"
     ]
    },
    {
     "name": "stderr",
     "output_type": "stream",
     "text": [
      "100%|██████████| 3586/3586 [00:00<00:00, 434516.08it/s]\n",
      "07/29/2022 11:41:13 AM WARNING: face_normals incorrect shape, ignoring! \n"
     ]
    },
    {
     "name": "stdout",
     "output_type": "stream",
     "text": [
      "Warning: deduplication not currently supported for this layer's variable layered draco meshes\n"
     ]
    },
    {
     "name": "stderr",
     "output_type": "stream",
     "text": [
      "100%|██████████| 5274/5274 [00:00<00:00, 524263.15it/s]\n",
      "07/29/2022 11:41:15 AM WARNING: face_normals incorrect shape, ignoring! \n"
     ]
    },
    {
     "name": "stdout",
     "output_type": "stream",
     "text": [
      "Warning: deduplication not currently supported for this layer's variable layered draco meshes\n"
     ]
    },
    {
     "name": "stderr",
     "output_type": "stream",
     "text": [
      "100%|██████████| 7026/7026 [00:00<00:00, 655161.85it/s]\n",
      "07/29/2022 11:41:17 AM WARNING: face_normals incorrect shape, ignoring! \n"
     ]
    },
    {
     "name": "stdout",
     "output_type": "stream",
     "text": [
      "Warning: deduplication not currently supported for this layer's variable layered draco meshes\n"
     ]
    },
    {
     "name": "stderr",
     "output_type": "stream",
     "text": [
      "100%|██████████| 2368/2368 [00:00<00:00, 453210.67it/s]\n",
      "07/29/2022 11:41:19 AM WARNING: face_normals incorrect shape, ignoring! \n"
     ]
    },
    {
     "name": "stdout",
     "output_type": "stream",
     "text": [
      "Warning: deduplication not currently supported for this layer's variable layered draco meshes\n"
     ]
    },
    {
     "name": "stderr",
     "output_type": "stream",
     "text": [
      "100%|██████████| 4525/4525 [00:00<00:00, 568751.14it/s]\n",
      "07/29/2022 11:41:21 AM WARNING: face_normals incorrect shape, ignoring! \n"
     ]
    },
    {
     "name": "stdout",
     "output_type": "stream",
     "text": [
      "Warning: deduplication not currently supported for this layer's variable layered draco meshes\n"
     ]
    },
    {
     "name": "stderr",
     "output_type": "stream",
     "text": [
      "100%|██████████| 15505/15505 [00:00<00:00, 690617.46it/s]\n",
      "07/29/2022 11:41:26 AM WARNING: face_normals incorrect shape, ignoring! \n"
     ]
    },
    {
     "name": "stdout",
     "output_type": "stream",
     "text": [
      "Warning: deduplication not currently supported for this layer's variable layered draco meshes\n"
     ]
    },
    {
     "name": "stderr",
     "output_type": "stream",
     "text": [
      "100%|██████████| 28900/28900 [00:00<00:00, 308535.80it/s]\n",
      "07/29/2022 11:41:30 AM WARNING: face_normals incorrect shape, ignoring! \n"
     ]
    },
    {
     "name": "stdout",
     "output_type": "stream",
     "text": [
      "Warning: deduplication not currently supported for this layer's variable layered draco meshes\n"
     ]
    },
    {
     "name": "stderr",
     "output_type": "stream",
     "text": [
      "100%|██████████| 6582/6582 [00:00<00:00, 472130.88it/s]\n",
      "07/29/2022 11:41:36 AM WARNING: face_normals incorrect shape, ignoring! \n"
     ]
    },
    {
     "name": "stdout",
     "output_type": "stream",
     "text": [
      "Warning: deduplication not currently supported for this layer's variable layered draco meshes\n"
     ]
    },
    {
     "name": "stderr",
     "output_type": "stream",
     "text": [
      "100%|██████████| 105180/105180 [00:00<00:00, 210096.92it/s]\n",
      "07/29/2022 11:41:50 AM WARNING: face_normals incorrect shape, ignoring! \n"
     ]
    },
    {
     "name": "stdout",
     "output_type": "stream",
     "text": [
      "Warning: deduplication not currently supported for this layer's variable layered draco meshes\n"
     ]
    },
    {
     "name": "stderr",
     "output_type": "stream",
     "text": [
      "100%|██████████| 18513/18513 [00:00<00:00, 423183.80it/s]\n",
      "07/29/2022 11:41:54 AM WARNING: face_normals incorrect shape, ignoring! \n"
     ]
    },
    {
     "name": "stdout",
     "output_type": "stream",
     "text": [
      "Warning: deduplication not currently supported for this layer's variable layered draco meshes\n"
     ]
    },
    {
     "name": "stderr",
     "output_type": "stream",
     "text": [
      "100%|██████████| 15061/15061 [00:00<00:00, 292890.88it/s]\n",
      "07/29/2022 11:42:00 AM WARNING: face_normals incorrect shape, ignoring! \n"
     ]
    },
    {
     "name": "stdout",
     "output_type": "stream",
     "text": [
      "Warning: deduplication not currently supported for this layer's variable layered draco meshes\n"
     ]
    },
    {
     "name": "stderr",
     "output_type": "stream",
     "text": [
      "100%|██████████| 14865/14865 [00:00<00:00, 437065.93it/s]\n",
      "07/29/2022 11:42:08 AM WARNING: face_normals incorrect shape, ignoring! \n"
     ]
    },
    {
     "name": "stdout",
     "output_type": "stream",
     "text": [
      "Warning: deduplication not currently supported for this layer's variable layered draco meshes\n"
     ]
    },
    {
     "name": "stderr",
     "output_type": "stream",
     "text": [
      "100%|██████████| 73820/73820 [00:01<00:00, 51258.51it/s] \n",
      "07/29/2022 11:42:27 AM WARNING: face_normals incorrect shape, ignoring! \n"
     ]
    },
    {
     "name": "stdout",
     "output_type": "stream",
     "text": [
      "Warning: deduplication not currently supported for this layer's variable layered draco meshes\n"
     ]
    },
    {
     "name": "stderr",
     "output_type": "stream",
     "text": [
      "100%|██████████| 5791/5791 [00:00<00:00, 481146.04it/s]\n",
      "07/29/2022 11:42:30 AM WARNING: face_normals incorrect shape, ignoring! \n"
     ]
    },
    {
     "name": "stdout",
     "output_type": "stream",
     "text": [
      "Warning: deduplication not currently supported for this layer's variable layered draco meshes\n"
     ]
    },
    {
     "name": "stderr",
     "output_type": "stream",
     "text": [
      "100%|██████████| 14714/14714 [00:00<00:00, 199946.18it/s]\n",
      "07/29/2022 11:42:33 AM WARNING: face_normals incorrect shape, ignoring! \n"
     ]
    },
    {
     "name": "stdout",
     "output_type": "stream",
     "text": [
      "Warning: deduplication not currently supported for this layer's variable layered draco meshes\n"
     ]
    },
    {
     "name": "stderr",
     "output_type": "stream",
     "text": [
      "100%|██████████| 12530/12530 [00:00<00:00, 439262.05it/s]\n",
      "07/29/2022 11:42:37 AM WARNING: face_normals incorrect shape, ignoring! \n"
     ]
    },
    {
     "name": "stdout",
     "output_type": "stream",
     "text": [
      "Warning: deduplication not currently supported for this layer's variable layered draco meshes\n"
     ]
    },
    {
     "name": "stderr",
     "output_type": "stream",
     "text": [
      "100%|██████████| 26058/26058 [00:00<00:00, 649291.12it/s]\n",
      "07/29/2022 11:42:50 AM WARNING: face_normals incorrect shape, ignoring! \n"
     ]
    },
    {
     "name": "stdout",
     "output_type": "stream",
     "text": [
      "Warning: deduplication not currently supported for this layer's variable layered draco meshes\n"
     ]
    },
    {
     "name": "stderr",
     "output_type": "stream",
     "text": [
      "100%|██████████| 210150/210150 [00:01<00:00, 110533.88it/s]\n",
      "07/29/2022 11:43:17 AM WARNING: face_normals incorrect shape, ignoring! \n"
     ]
    },
    {
     "name": "stdout",
     "output_type": "stream",
     "text": [
      "Warning: deduplication not currently supported for this layer's variable layered draco meshes\n"
     ]
    },
    {
     "name": "stderr",
     "output_type": "stream",
     "text": [
      "100%|██████████| 3699/3699 [00:00<00:00, 224113.86it/s]\n",
      "07/29/2022 11:43:19 AM WARNING: face_normals incorrect shape, ignoring! \n"
     ]
    },
    {
     "name": "stdout",
     "output_type": "stream",
     "text": [
      "Warning: deduplication not currently supported for this layer's variable layered draco meshes\n"
     ]
    },
    {
     "name": "stderr",
     "output_type": "stream",
     "text": [
      "100%|██████████| 8352/8352 [00:00<00:00, 516100.34it/s]\n",
      "07/29/2022 11:43:22 AM WARNING: face_normals incorrect shape, ignoring! \n"
     ]
    },
    {
     "name": "stdout",
     "output_type": "stream",
     "text": [
      "Warning: deduplication not currently supported for this layer's variable layered draco meshes\n"
     ]
    },
    {
     "name": "stderr",
     "output_type": "stream",
     "text": [
      "100%|██████████| 17575/17575 [00:00<00:00, 661808.63it/s]\n",
      "07/29/2022 11:43:26 AM WARNING: face_normals incorrect shape, ignoring! \n"
     ]
    },
    {
     "name": "stdout",
     "output_type": "stream",
     "text": [
      "Warning: deduplication not currently supported for this layer's variable layered draco meshes\n"
     ]
    },
    {
     "name": "stderr",
     "output_type": "stream",
     "text": [
      "100%|██████████| 17800/17800 [00:00<00:00, 295990.66it/s]\n",
      "07/29/2022 11:43:29 AM WARNING: face_normals incorrect shape, ignoring! \n"
     ]
    },
    {
     "name": "stdout",
     "output_type": "stream",
     "text": [
      "Warning: deduplication not currently supported for this layer's variable layered draco meshes\n"
     ]
    },
    {
     "name": "stderr",
     "output_type": "stream",
     "text": [
      "100%|██████████| 1644/1644 [00:00<00:00, 306422.96it/s]\n",
      "07/29/2022 11:43:31 AM WARNING: face_normals incorrect shape, ignoring! \n"
     ]
    },
    {
     "name": "stdout",
     "output_type": "stream",
     "text": [
      "Warning: deduplication not currently supported for this layer's variable layered draco meshes\n"
     ]
    },
    {
     "name": "stderr",
     "output_type": "stream",
     "text": [
      "100%|██████████| 11380/11380 [00:00<00:00, 558331.24it/s]\n",
      "07/29/2022 11:43:33 AM WARNING: face_normals incorrect shape, ignoring! \n"
     ]
    },
    {
     "name": "stdout",
     "output_type": "stream",
     "text": [
      "Warning: deduplication not currently supported for this layer's variable layered draco meshes\n"
     ]
    },
    {
     "name": "stderr",
     "output_type": "stream",
     "text": [
      "100%|██████████| 152/152 [00:00<00:00, 45398.72it/s]\n",
      "07/29/2022 11:43:34 AM WARNING: face_normals incorrect shape, ignoring! \n"
     ]
    },
    {
     "name": "stdout",
     "output_type": "stream",
     "text": [
      "Warning: deduplication not currently supported for this layer's variable layered draco meshes\n"
     ]
    },
    {
     "name": "stderr",
     "output_type": "stream",
     "text": [
      "100%|██████████| 934/934 [00:00<00:00, 264676.71it/s]\n",
      "07/29/2022 11:43:38 AM WARNING: face_normals incorrect shape, ignoring! \n"
     ]
    },
    {
     "name": "stdout",
     "output_type": "stream",
     "text": [
      "Warning: deduplication not currently supported for this layer's variable layered draco meshes\n"
     ]
    },
    {
     "name": "stderr",
     "output_type": "stream",
     "text": [
      "100%|██████████| 73645/73645 [00:00<00:00, 298453.78it/s]\n",
      "07/29/2022 11:43:47 AM WARNING: face_normals incorrect shape, ignoring! \n"
     ]
    },
    {
     "name": "stdout",
     "output_type": "stream",
     "text": [
      "Warning: deduplication not currently supported for this layer's variable layered draco meshes\n"
     ]
    },
    {
     "name": "stderr",
     "output_type": "stream",
     "text": [
      "100%|██████████| 403/403 [00:00<00:00, 167855.46it/s]\n",
      "07/29/2022 11:43:48 AM WARNING: face_normals incorrect shape, ignoring! \n"
     ]
    },
    {
     "name": "stdout",
     "output_type": "stream",
     "text": [
      "Warning: deduplication not currently supported for this layer's variable layered draco meshes\n"
     ]
    },
    {
     "name": "stderr",
     "output_type": "stream",
     "text": [
      "100%|██████████| 5928/5928 [00:00<00:00, 365343.75it/s]\n",
      "07/29/2022 11:43:51 AM WARNING: face_normals incorrect shape, ignoring! \n"
     ]
    },
    {
     "name": "stdout",
     "output_type": "stream",
     "text": [
      "Warning: deduplication not currently supported for this layer's variable layered draco meshes\n"
     ]
    },
    {
     "name": "stderr",
     "output_type": "stream",
     "text": [
      "100%|██████████| 8016/8016 [00:00<00:00, 358079.76it/s]\n",
      "07/29/2022 11:43:53 AM WARNING: face_normals incorrect shape, ignoring! \n"
     ]
    },
    {
     "name": "stdout",
     "output_type": "stream",
     "text": [
      "Warning: deduplication not currently supported for this layer's variable layered draco meshes\n"
     ]
    },
    {
     "name": "stderr",
     "output_type": "stream",
     "text": [
      "100%|██████████| 264/264 [00:00<00:00, 96169.55it/s]\n",
      "07/29/2022 11:43:56 AM WARNING: face_normals incorrect shape, ignoring! \n"
     ]
    },
    {
     "name": "stdout",
     "output_type": "stream",
     "text": [
      "Warning: deduplication not currently supported for this layer's variable layered draco meshes\n"
     ]
    },
    {
     "name": "stderr",
     "output_type": "stream",
     "text": [
      "100%|██████████| 30530/30530 [00:00<00:00, 432742.95it/s]\n",
      "07/29/2022 11:44:00 AM WARNING: face_normals incorrect shape, ignoring! \n"
     ]
    },
    {
     "name": "stdout",
     "output_type": "stream",
     "text": [
      "Warning: deduplication not currently supported for this layer's variable layered draco meshes\n"
     ]
    },
    {
     "name": "stderr",
     "output_type": "stream",
     "text": [
      "100%|██████████| 3806/3806 [00:00<00:00, 535078.13it/s]\n",
      "07/29/2022 11:44:02 AM WARNING: face_normals incorrect shape, ignoring! \n"
     ]
    },
    {
     "name": "stdout",
     "output_type": "stream",
     "text": [
      "Warning: deduplication not currently supported for this layer's variable layered draco meshes\n"
     ]
    },
    {
     "name": "stderr",
     "output_type": "stream",
     "text": [
      "100%|██████████| 7820/7820 [00:00<00:00, 600942.79it/s]\n",
      "07/29/2022 11:44:04 AM WARNING: face_normals incorrect shape, ignoring! \n"
     ]
    },
    {
     "name": "stdout",
     "output_type": "stream",
     "text": [
      "Warning: deduplication not currently supported for this layer's variable layered draco meshes\n",
      "\n",
      "\n",
      "Seg 864691133769133345 returned error on get. Skipping.\n",
      "\n"
     ]
    },
    {
     "name": "stderr",
     "output_type": "stream",
     "text": [
      "07/29/2022 11:44:09 AM WARNING: face_normals incorrect shape, ignoring! \n"
     ]
    },
    {
     "name": "stdout",
     "output_type": "stream",
     "text": [
      "Warning: deduplication not currently supported for this layer's variable layered draco meshes\n"
     ]
    },
    {
     "name": "stderr",
     "output_type": "stream",
     "text": [
      "100%|██████████| 49920/49920 [00:00<00:00, 320047.16it/s]\n",
      "07/29/2022 11:44:16 AM WARNING: face_normals incorrect shape, ignoring! \n"
     ]
    },
    {
     "name": "stdout",
     "output_type": "stream",
     "text": [
      "Warning: deduplication not currently supported for this layer's variable layered draco meshes\n"
     ]
    },
    {
     "name": "stderr",
     "output_type": "stream",
     "text": [
      "100%|██████████| 43892/43892 [00:00<00:00, 583739.91it/s]\n",
      "07/29/2022 11:44:23 AM WARNING: face_normals incorrect shape, ignoring! \n"
     ]
    },
    {
     "name": "stdout",
     "output_type": "stream",
     "text": [
      "Warning: deduplication not currently supported for this layer's variable layered draco meshes\n"
     ]
    },
    {
     "name": "stderr",
     "output_type": "stream",
     "text": [
      "100%|██████████| 19407/19407 [00:00<00:00, 219135.18it/s]\n",
      "07/29/2022 11:44:26 AM WARNING: face_normals incorrect shape, ignoring! \n"
     ]
    },
    {
     "name": "stdout",
     "output_type": "stream",
     "text": [
      "Warning: deduplication not currently supported for this layer's variable layered draco meshes\n"
     ]
    },
    {
     "name": "stderr",
     "output_type": "stream",
     "text": [
      "100%|██████████| 2448/2448 [00:00<00:00, 497030.51it/s]\n",
      "07/29/2022 11:44:30 AM WARNING: face_normals incorrect shape, ignoring! \n"
     ]
    },
    {
     "name": "stdout",
     "output_type": "stream",
     "text": [
      "Warning: deduplication not currently supported for this layer's variable layered draco meshes\n"
     ]
    },
    {
     "name": "stderr",
     "output_type": "stream",
     "text": [
      "100%|██████████| 39637/39637 [00:00<00:00, 287056.49it/s]\n",
      "07/29/2022 11:44:35 AM WARNING: face_normals incorrect shape, ignoring! \n"
     ]
    },
    {
     "name": "stdout",
     "output_type": "stream",
     "text": [
      "Warning: deduplication not currently supported for this layer's variable layered draco meshes\n"
     ]
    },
    {
     "name": "stderr",
     "output_type": "stream",
     "text": [
      "100%|██████████| 8835/8835 [00:00<00:00, 571544.76it/s]\n",
      "07/29/2022 11:44:37 AM WARNING: face_normals incorrect shape, ignoring! \n"
     ]
    },
    {
     "name": "stdout",
     "output_type": "stream",
     "text": [
      "Warning: deduplication not currently supported for this layer's variable layered draco meshes\n"
     ]
    },
    {
     "name": "stderr",
     "output_type": "stream",
     "text": [
      "100%|██████████| 9474/9474 [00:00<00:00, 739400.02it/s]\n",
      "07/29/2022 11:44:40 AM WARNING: face_normals incorrect shape, ignoring! \n"
     ]
    },
    {
     "name": "stdout",
     "output_type": "stream",
     "text": [
      "Warning: deduplication not currently supported for this layer's variable layered draco meshes\n"
     ]
    },
    {
     "name": "stderr",
     "output_type": "stream",
     "text": [
      "100%|██████████| 19620/19620 [00:00<00:00, 666668.65it/s]\n",
      "07/29/2022 11:44:45 AM WARNING: face_normals incorrect shape, ignoring! \n"
     ]
    },
    {
     "name": "stdout",
     "output_type": "stream",
     "text": [
      "Warning: deduplication not currently supported for this layer's variable layered draco meshes\n"
     ]
    },
    {
     "name": "stderr",
     "output_type": "stream",
     "text": [
      "100%|██████████| 1286/1286 [00:00<00:00, 313051.36it/s]\n",
      "07/29/2022 11:44:47 AM WARNING: face_normals incorrect shape, ignoring! \n"
     ]
    },
    {
     "name": "stdout",
     "output_type": "stream",
     "text": [
      "Warning: deduplication not currently supported for this layer's variable layered draco meshes\n"
     ]
    },
    {
     "name": "stderr",
     "output_type": "stream",
     "text": [
      "100%|██████████| 23442/23442 [00:00<00:00, 598850.54it/s]\n",
      "07/29/2022 11:44:52 AM WARNING: face_normals incorrect shape, ignoring! \n"
     ]
    },
    {
     "name": "stdout",
     "output_type": "stream",
     "text": [
      "Warning: deduplication not currently supported for this layer's variable layered draco meshes\n"
     ]
    },
    {
     "name": "stderr",
     "output_type": "stream",
     "text": [
      "100%|██████████| 36158/36158 [00:00<00:00, 550273.74it/s]\n",
      "07/29/2022 11:44:57 AM WARNING: face_normals incorrect shape, ignoring! \n"
     ]
    },
    {
     "name": "stdout",
     "output_type": "stream",
     "text": [
      "Warning: deduplication not currently supported for this layer's variable layered draco meshes\n"
     ]
    },
    {
     "name": "stderr",
     "output_type": "stream",
     "text": [
      "100%|██████████| 4826/4826 [00:00<00:00, 625632.41it/s]\n",
      "07/29/2022 11:44:59 AM WARNING: face_normals incorrect shape, ignoring! \n"
     ]
    },
    {
     "name": "stdout",
     "output_type": "stream",
     "text": [
      "Warning: deduplication not currently supported for this layer's variable layered draco meshes\n"
     ]
    },
    {
     "name": "stderr",
     "output_type": "stream",
     "text": [
      "100%|██████████| 1973/1973 [00:00<00:00, 299517.24it/s]\n",
      "07/29/2022 11:45:11 AM WARNING: face_normals incorrect shape, ignoring! \n"
     ]
    },
    {
     "name": "stdout",
     "output_type": "stream",
     "text": [
      "Warning: deduplication not currently supported for this layer's variable layered draco meshes\n"
     ]
    },
    {
     "name": "stderr",
     "output_type": "stream",
     "text": [
      "100%|██████████| 187764/187764 [00:07<00:00, 25403.72it/s]\n",
      "07/29/2022 11:45:47 AM WARNING: face_normals incorrect shape, ignoring! \n"
     ]
    },
    {
     "name": "stdout",
     "output_type": "stream",
     "text": [
      "Warning: deduplication not currently supported for this layer's variable layered draco meshes\n"
     ]
    },
    {
     "name": "stderr",
     "output_type": "stream",
     "text": [
      "100%|██████████| 485/485 [00:00<00:00, 300478.20it/s]\n",
      "07/29/2022 11:45:51 AM WARNING: face_normals incorrect shape, ignoring! \n"
     ]
    },
    {
     "name": "stdout",
     "output_type": "stream",
     "text": [
      "Warning: deduplication not currently supported for this layer's variable layered draco meshes\n"
     ]
    },
    {
     "name": "stderr",
     "output_type": "stream",
     "text": [
      "100%|██████████| 37232/37232 [00:00<00:00, 242839.90it/s]\n",
      "07/29/2022 11:45:57 AM WARNING: face_normals incorrect shape, ignoring! \n"
     ]
    },
    {
     "name": "stdout",
     "output_type": "stream",
     "text": [
      "Warning: deduplication not currently supported for this layer's variable layered draco meshes\n"
     ]
    },
    {
     "name": "stderr",
     "output_type": "stream",
     "text": [
      "100%|██████████| 2640/2640 [00:00<00:00, 301748.49it/s]\n",
      "07/29/2022 11:45:58 AM WARNING: face_normals incorrect shape, ignoring! \n"
     ]
    },
    {
     "name": "stdout",
     "output_type": "stream",
     "text": [
      "Warning: deduplication not currently supported for this layer's variable layered draco meshes\n"
     ]
    },
    {
     "name": "stderr",
     "output_type": "stream",
     "text": [
      "100%|██████████| 5980/5980 [00:00<00:00, 433800.96it/s]\n",
      "07/29/2022 11:46:01 AM WARNING: face_normals incorrect shape, ignoring! \n"
     ]
    },
    {
     "name": "stdout",
     "output_type": "stream",
     "text": [
      "Warning: deduplication not currently supported for this layer's variable layered draco meshes\n"
     ]
    },
    {
     "name": "stderr",
     "output_type": "stream",
     "text": [
      "100%|██████████| 7616/7616 [00:00<00:00, 471258.99it/s]\n",
      "07/29/2022 11:46:02 AM WARNING: face_normals incorrect shape, ignoring! \n"
     ]
    },
    {
     "name": "stdout",
     "output_type": "stream",
     "text": [
      "Warning: deduplication not currently supported for this layer's variable layered draco meshes\n"
     ]
    },
    {
     "name": "stderr",
     "output_type": "stream",
     "text": [
      "100%|██████████| 1211/1211 [00:00<00:00, 204184.84it/s]\n",
      "07/29/2022 11:46:04 AM WARNING: face_normals incorrect shape, ignoring! \n"
     ]
    },
    {
     "name": "stdout",
     "output_type": "stream",
     "text": [
      "Warning: deduplication not currently supported for this layer's variable layered draco meshes\n"
     ]
    },
    {
     "name": "stderr",
     "output_type": "stream",
     "text": [
      "100%|██████████| 1359/1359 [00:00<00:00, 333492.81it/s]\n",
      "07/29/2022 11:46:05 AM WARNING: face_normals incorrect shape, ignoring! \n"
     ]
    },
    {
     "name": "stdout",
     "output_type": "stream",
     "text": [
      "Warning: deduplication not currently supported for this layer's variable layered draco meshes\n"
     ]
    },
    {
     "name": "stderr",
     "output_type": "stream",
     "text": [
      "100%|██████████| 11308/11308 [00:00<00:00, 605613.02it/s]\n",
      "07/29/2022 11:46:08 AM WARNING: face_normals incorrect shape, ignoring! \n"
     ]
    },
    {
     "name": "stdout",
     "output_type": "stream",
     "text": [
      "Warning: deduplication not currently supported for this layer's variable layered draco meshes\n"
     ]
    },
    {
     "name": "stderr",
     "output_type": "stream",
     "text": [
      "100%|██████████| 191/191 [00:00<00:00, 87381.33it/s]\n",
      "07/29/2022 11:46:09 AM WARNING: face_normals incorrect shape, ignoring! \n"
     ]
    },
    {
     "name": "stdout",
     "output_type": "stream",
     "text": [
      "Warning: deduplication not currently supported for this layer's variable layered draco meshes\n"
     ]
    },
    {
     "name": "stderr",
     "output_type": "stream",
     "text": [
      "100%|██████████| 105/105 [00:00<00:00, 60728.34it/s]\n",
      "07/29/2022 11:46:10 AM WARNING: face_normals incorrect shape, ignoring! \n"
     ]
    },
    {
     "name": "stdout",
     "output_type": "stream",
     "text": [
      "Warning: deduplication not currently supported for this layer's variable layered draco meshes\n"
     ]
    },
    {
     "name": "stderr",
     "output_type": "stream",
     "text": [
      "100%|██████████| 7685/7685 [00:00<00:00, 126342.38it/s]\n",
      "07/29/2022 11:46:13 AM WARNING: face_normals incorrect shape, ignoring! \n"
     ]
    },
    {
     "name": "stdout",
     "output_type": "stream",
     "text": [
      "Warning: deduplication not currently supported for this layer's variable layered draco meshes\n"
     ]
    },
    {
     "name": "stderr",
     "output_type": "stream",
     "text": [
      "100%|██████████| 6048/6048 [00:00<00:00, 610095.25it/s]\n",
      "07/29/2022 11:46:15 AM WARNING: face_normals incorrect shape, ignoring! \n"
     ]
    },
    {
     "name": "stdout",
     "output_type": "stream",
     "text": [
      "Warning: deduplication not currently supported for this layer's variable layered draco meshes\n"
     ]
    },
    {
     "name": "stderr",
     "output_type": "stream",
     "text": [
      "100%|██████████| 6896/6896 [00:00<00:00, 482451.30it/s]\n",
      "07/29/2022 11:46:16 AM WARNING: face_normals incorrect shape, ignoring! \n"
     ]
    },
    {
     "name": "stdout",
     "output_type": "stream",
     "text": [
      "Warning: deduplication not currently supported for this layer's variable layered draco meshes\n"
     ]
    },
    {
     "name": "stderr",
     "output_type": "stream",
     "text": [
      "100%|██████████| 2858/2858 [00:00<00:00, 528471.58it/s]\n",
      "07/29/2022 11:46:18 AM WARNING: face_normals incorrect shape, ignoring! \n"
     ]
    },
    {
     "name": "stdout",
     "output_type": "stream",
     "text": [
      "Warning: deduplication not currently supported for this layer's variable layered draco meshes\n"
     ]
    },
    {
     "name": "stderr",
     "output_type": "stream",
     "text": [
      "100%|██████████| 4775/4775 [00:00<00:00, 492931.37it/s]\n",
      "07/29/2022 11:46:19 AM WARNING: face_normals incorrect shape, ignoring! \n"
     ]
    },
    {
     "name": "stdout",
     "output_type": "stream",
     "text": [
      "Warning: deduplication not currently supported for this layer's variable layered draco meshes\n"
     ]
    },
    {
     "name": "stderr",
     "output_type": "stream",
     "text": [
      "100%|██████████| 1010/1010 [00:00<00:00, 425069.94it/s]\n",
      "07/29/2022 11:46:21 AM WARNING: face_normals incorrect shape, ignoring! \n"
     ]
    },
    {
     "name": "stdout",
     "output_type": "stream",
     "text": [
      "Warning: deduplication not currently supported for this layer's variable layered draco meshes\n"
     ]
    },
    {
     "name": "stderr",
     "output_type": "stream",
     "text": [
      "100%|██████████| 8895/8895 [00:00<00:00, 537491.13it/s]\n",
      "07/29/2022 11:46:23 AM WARNING: face_normals incorrect shape, ignoring! \n"
     ]
    },
    {
     "name": "stdout",
     "output_type": "stream",
     "text": [
      "Warning: deduplication not currently supported for this layer's variable layered draco meshes\n",
      "\n",
      "\n",
      "Seg 864691132747855184 returned error on get. Skipping.\n",
      "\n"
     ]
    },
    {
     "name": "stderr",
     "output_type": "stream",
     "text": [
      "07/29/2022 11:46:29 AM WARNING: face_normals incorrect shape, ignoring! \n"
     ]
    },
    {
     "name": "stdout",
     "output_type": "stream",
     "text": [
      "Warning: deduplication not currently supported for this layer's variable layered draco meshes\n"
     ]
    },
    {
     "name": "stderr",
     "output_type": "stream",
     "text": [
      "100%|██████████| 126419/126419 [00:00<00:00, 280253.55it/s]\n",
      "07/29/2022 11:46:44 AM WARNING: face_normals incorrect shape, ignoring! \n"
     ]
    },
    {
     "name": "stdout",
     "output_type": "stream",
     "text": [
      "Warning: deduplication not currently supported for this layer's variable layered draco meshes\n"
     ]
    },
    {
     "name": "stderr",
     "output_type": "stream",
     "text": [
      "100%|██████████| 22194/22194 [00:00<00:00, 381872.86it/s]\n",
      "07/29/2022 11:46:48 AM WARNING: face_normals incorrect shape, ignoring! \n"
     ]
    },
    {
     "name": "stdout",
     "output_type": "stream",
     "text": [
      "Warning: deduplication not currently supported for this layer's variable layered draco meshes\n"
     ]
    },
    {
     "name": "stderr",
     "output_type": "stream",
     "text": [
      "100%|██████████| 33346/33346 [00:00<00:00, 471129.46it/s]\n",
      "07/29/2022 11:46:54 AM WARNING: face_normals incorrect shape, ignoring! \n"
     ]
    },
    {
     "name": "stdout",
     "output_type": "stream",
     "text": [
      "Warning: deduplication not currently supported for this layer's variable layered draco meshes\n"
     ]
    },
    {
     "name": "stderr",
     "output_type": "stream",
     "text": [
      "100%|██████████| 22364/22364 [00:00<00:00, 475302.45it/s]\n",
      "07/29/2022 11:46:57 AM WARNING: face_normals incorrect shape, ignoring! \n"
     ]
    },
    {
     "name": "stdout",
     "output_type": "stream",
     "text": [
      "Warning: deduplication not currently supported for this layer's variable layered draco meshes\n"
     ]
    },
    {
     "name": "stderr",
     "output_type": "stream",
     "text": [
      "100%|██████████| 152/152 [00:00<00:00, 66687.68it/s]\n",
      "07/29/2022 11:46:58 AM WARNING: face_normals incorrect shape, ignoring! \n"
     ]
    },
    {
     "name": "stdout",
     "output_type": "stream",
     "text": [
      "Warning: deduplication not currently supported for this layer's variable layered draco meshes\n"
     ]
    },
    {
     "name": "stderr",
     "output_type": "stream",
     "text": [
      "100%|██████████| 5763/5763 [00:00<00:00, 599810.76it/s]\n",
      "07/29/2022 11:47:00 AM WARNING: face_normals incorrect shape, ignoring! \n"
     ]
    },
    {
     "name": "stdout",
     "output_type": "stream",
     "text": [
      "Warning: deduplication not currently supported for this layer's variable layered draco meshes\n",
      "\n",
      "\n",
      "Seg 864691136347887475 returned error on get. Skipping.\n",
      "\n"
     ]
    },
    {
     "name": "stderr",
     "output_type": "stream",
     "text": [
      "07/29/2022 11:47:01 AM WARNING: face_normals incorrect shape, ignoring! \n"
     ]
    },
    {
     "name": "stdout",
     "output_type": "stream",
     "text": [
      "Warning: deduplication not currently supported for this layer's variable layered draco meshes\n"
     ]
    },
    {
     "name": "stderr",
     "output_type": "stream",
     "text": [
      "100%|██████████| 1905/1905 [00:00<00:00, 364464.22it/s]\n",
      "07/29/2022 11:47:02 AM WARNING: face_normals incorrect shape, ignoring! \n"
     ]
    },
    {
     "name": "stdout",
     "output_type": "stream",
     "text": [
      "Warning: deduplication not currently supported for this layer's variable layered draco meshes\n"
     ]
    },
    {
     "name": "stderr",
     "output_type": "stream",
     "text": [
      "100%|██████████| 138/138 [00:00<00:00, 64969.58it/s]\n",
      "07/29/2022 11:47:05 AM WARNING: face_normals incorrect shape, ignoring! \n"
     ]
    },
    {
     "name": "stdout",
     "output_type": "stream",
     "text": [
      "Warning: deduplication not currently supported for this layer's variable layered draco meshes\n"
     ]
    },
    {
     "name": "stderr",
     "output_type": "stream",
     "text": [
      "100%|██████████| 11909/11909 [00:00<00:00, 566499.57it/s]\n",
      "07/29/2022 11:47:07 AM WARNING: face_normals incorrect shape, ignoring! \n"
     ]
    },
    {
     "name": "stdout",
     "output_type": "stream",
     "text": [
      "Warning: deduplication not currently supported for this layer's variable layered draco meshes\n",
      "\n",
      "\n",
      "Seg 864691133525367772 returned error on get. Skipping.\n",
      "\n"
     ]
    },
    {
     "name": "stderr",
     "output_type": "stream",
     "text": [
      "07/29/2022 11:47:12 AM WARNING: face_normals incorrect shape, ignoring! \n"
     ]
    },
    {
     "name": "stdout",
     "output_type": "stream",
     "text": [
      "Warning: deduplication not currently supported for this layer's variable layered draco meshes\n"
     ]
    },
    {
     "name": "stderr",
     "output_type": "stream",
     "text": [
      "100%|██████████| 120275/120275 [00:00<00:00, 214750.02it/s]\n",
      "07/29/2022 11:47:32 AM WARNING: face_normals incorrect shape, ignoring! \n"
     ]
    },
    {
     "name": "stdout",
     "output_type": "stream",
     "text": [
      "Warning: deduplication not currently supported for this layer's variable layered draco meshes\n"
     ]
    },
    {
     "name": "stderr",
     "output_type": "stream",
     "text": [
      "100%|██████████| 202161/202161 [00:01<00:00, 178839.15it/s]\n",
      "07/29/2022 11:47:54 AM WARNING: face_normals incorrect shape, ignoring! \n"
     ]
    },
    {
     "name": "stdout",
     "output_type": "stream",
     "text": [
      "Warning: deduplication not currently supported for this layer's variable layered draco meshes\n"
     ]
    },
    {
     "name": "stderr",
     "output_type": "stream",
     "text": [
      "100%|██████████| 194/194 [00:00<00:00, 93057.52it/s]\n",
      "07/29/2022 11:47:55 AM WARNING: face_normals incorrect shape, ignoring! \n"
     ]
    },
    {
     "name": "stdout",
     "output_type": "stream",
     "text": [
      "Warning: deduplication not currently supported for this layer's variable layered draco meshes\n"
     ]
    },
    {
     "name": "stderr",
     "output_type": "stream",
     "text": [
      "100%|██████████| 128/128 [00:00<00:00, 62924.39it/s]\n",
      "07/29/2022 11:47:56 AM WARNING: face_normals incorrect shape, ignoring! \n"
     ]
    },
    {
     "name": "stdout",
     "output_type": "stream",
     "text": [
      "Warning: deduplication not currently supported for this layer's variable layered draco meshes\n"
     ]
    },
    {
     "name": "stderr",
     "output_type": "stream",
     "text": [
      "100%|██████████| 266/266 [00:00<00:00, 152187.27it/s]\n",
      "07/29/2022 11:47:58 AM WARNING: face_normals incorrect shape, ignoring! \n"
     ]
    },
    {
     "name": "stdout",
     "output_type": "stream",
     "text": [
      "Warning: deduplication not currently supported for this layer's variable layered draco meshes\n"
     ]
    },
    {
     "name": "stderr",
     "output_type": "stream",
     "text": [
      "100%|██████████| 1532/1532 [00:00<00:00, 390808.52it/s]\n",
      "07/29/2022 11:47:59 AM WARNING: face_normals incorrect shape, ignoring! \n"
     ]
    },
    {
     "name": "stdout",
     "output_type": "stream",
     "text": [
      "Warning: deduplication not currently supported for this layer's variable layered draco meshes\n"
     ]
    },
    {
     "name": "stderr",
     "output_type": "stream",
     "text": [
      "100%|██████████| 2876/2876 [00:00<00:00, 518652.43it/s]\n",
      "07/29/2022 11:48:01 AM WARNING: face_normals incorrect shape, ignoring! \n"
     ]
    },
    {
     "name": "stdout",
     "output_type": "stream",
     "text": [
      "Warning: deduplication not currently supported for this layer's variable layered draco meshes\n"
     ]
    },
    {
     "name": "stderr",
     "output_type": "stream",
     "text": [
      "100%|██████████| 4484/4484 [00:00<00:00, 642390.24it/s]\n",
      "07/29/2022 11:48:03 AM WARNING: face_normals incorrect shape, ignoring! \n"
     ]
    },
    {
     "name": "stdout",
     "output_type": "stream",
     "text": [
      "Warning: deduplication not currently supported for this layer's variable layered draco meshes\n"
     ]
    },
    {
     "name": "stderr",
     "output_type": "stream",
     "text": [
      "100%|██████████| 13121/13121 [00:00<00:00, 538851.70it/s]\n",
      "07/29/2022 11:48:05 AM WARNING: face_normals incorrect shape, ignoring! \n"
     ]
    },
    {
     "name": "stdout",
     "output_type": "stream",
     "text": [
      "Warning: deduplication not currently supported for this layer's variable layered draco meshes\n"
     ]
    },
    {
     "name": "stderr",
     "output_type": "stream",
     "text": [
      "100%|██████████| 1758/1758 [00:00<00:00, 390943.56it/s]\n",
      "07/29/2022 11:48:07 AM WARNING: face_normals incorrect shape, ignoring! \n"
     ]
    },
    {
     "name": "stdout",
     "output_type": "stream",
     "text": [
      "Warning: deduplication not currently supported for this layer's variable layered draco meshes\n",
      "\n",
      "\n",
      "Seg 864691132647441812 returned error on get. Skipping.\n",
      "\n"
     ]
    },
    {
     "name": "stderr",
     "output_type": "stream",
     "text": [
      "07/29/2022 11:48:09 AM WARNING: face_normals incorrect shape, ignoring! \n"
     ]
    },
    {
     "name": "stdout",
     "output_type": "stream",
     "text": [
      "Warning: deduplication not currently supported for this layer's variable layered draco meshes\n"
     ]
    },
    {
     "name": "stderr",
     "output_type": "stream",
     "text": [
      "100%|██████████| 20125/20125 [00:00<00:00, 410998.05it/s]\n",
      "07/29/2022 11:48:13 AM WARNING: face_normals incorrect shape, ignoring! \n"
     ]
    },
    {
     "name": "stdout",
     "output_type": "stream",
     "text": [
      "Warning: deduplication not currently supported for this layer's variable layered draco meshes\n"
     ]
    },
    {
     "name": "stderr",
     "output_type": "stream",
     "text": [
      "100%|██████████| 11410/11410 [00:00<00:00, 739458.41it/s]\n",
      "07/29/2022 11:48:16 AM WARNING: face_normals incorrect shape, ignoring! \n"
     ]
    },
    {
     "name": "stdout",
     "output_type": "stream",
     "text": [
      "Warning: deduplication not currently supported for this layer's variable layered draco meshes\n"
     ]
    },
    {
     "name": "stderr",
     "output_type": "stream",
     "text": [
      "100%|██████████| 15601/15601 [00:00<00:00, 684978.77it/s]\n",
      "07/29/2022 11:48:19 AM WARNING: face_normals incorrect shape, ignoring! \n"
     ]
    },
    {
     "name": "stdout",
     "output_type": "stream",
     "text": [
      "Warning: deduplication not currently supported for this layer's variable layered draco meshes\n",
      "\n",
      "\n",
      "Seg 864691136597387729 returned error on get. Skipping.\n",
      "\n"
     ]
    },
    {
     "name": "stderr",
     "output_type": "stream",
     "text": [
      "07/29/2022 11:48:22 AM WARNING: face_normals incorrect shape, ignoring! \n"
     ]
    },
    {
     "name": "stdout",
     "output_type": "stream",
     "text": [
      "Warning: deduplication not currently supported for this layer's variable layered draco meshes\n"
     ]
    },
    {
     "name": "stderr",
     "output_type": "stream",
     "text": [
      "100%|██████████| 13348/13348 [00:00<00:00, 554614.59it/s]\n",
      "07/29/2022 11:48:24 AM WARNING: face_normals incorrect shape, ignoring! \n"
     ]
    },
    {
     "name": "stdout",
     "output_type": "stream",
     "text": [
      "Warning: deduplication not currently supported for this layer's variable layered draco meshes\n"
     ]
    },
    {
     "name": "stderr",
     "output_type": "stream",
     "text": [
      "100%|██████████| 2543/2543 [00:00<00:00, 431023.80it/s]\n",
      "07/29/2022 11:48:26 AM WARNING: face_normals incorrect shape, ignoring! \n"
     ]
    },
    {
     "name": "stdout",
     "output_type": "stream",
     "text": [
      "Warning: deduplication not currently supported for this layer's variable layered draco meshes\n"
     ]
    },
    {
     "name": "stderr",
     "output_type": "stream",
     "text": [
      "100%|██████████| 13258/13258 [00:00<00:00, 492276.83it/s]\n",
      "07/29/2022 11:48:29 AM WARNING: face_normals incorrect shape, ignoring! \n"
     ]
    },
    {
     "name": "stdout",
     "output_type": "stream",
     "text": [
      "Warning: deduplication not currently supported for this layer's variable layered draco meshes\n"
     ]
    },
    {
     "name": "stderr",
     "output_type": "stream",
     "text": [
      "100%|██████████| 9618/9618 [00:00<00:00, 712231.92it/s]\n",
      "07/29/2022 11:48:35 AM WARNING: face_normals incorrect shape, ignoring! \n"
     ]
    },
    {
     "name": "stdout",
     "output_type": "stream",
     "text": [
      "Warning: deduplication not currently supported for this layer's variable layered draco meshes\n"
     ]
    },
    {
     "name": "stderr",
     "output_type": "stream",
     "text": [
      "100%|██████████| 38734/38734 [00:00<00:00, 202684.76it/s]\n",
      "07/29/2022 11:48:40 AM WARNING: face_normals incorrect shape, ignoring! \n"
     ]
    },
    {
     "name": "stdout",
     "output_type": "stream",
     "text": [
      "Warning: deduplication not currently supported for this layer's variable layered draco meshes\n"
     ]
    },
    {
     "name": "stderr",
     "output_type": "stream",
     "text": [
      "100%|██████████| 811/811 [00:00<00:00, 264693.84it/s]\n",
      "07/29/2022 11:48:41 AM WARNING: face_normals incorrect shape, ignoring! \n"
     ]
    },
    {
     "name": "stdout",
     "output_type": "stream",
     "text": [
      "Warning: deduplication not currently supported for this layer's variable layered draco meshes\n"
     ]
    },
    {
     "name": "stderr",
     "output_type": "stream",
     "text": [
      "100%|██████████| 9313/9313 [00:00<00:00, 417248.50it/s]\n"
     ]
    },
    {
     "name": "stdout",
     "output_type": "stream",
     "text": [
      "[[  99.46356117 4423.90008929]\n",
      " [4415.78452826   24.37211521]]\n",
      "[[ 146.85366866 5470.51569781 9272.57704201]\n",
      " [5554.85157317  495.77414213 8350.73439884]\n",
      " [9231.09576378 8664.4402589   368.27978495]]\n",
      "skipping \n",
      "\n",
      "skipping \n",
      "\n",
      "[[173.70377083 226.46191733]\n",
      " [146.63560277 252.88337233]]\n",
      "[[358.60842154 495.25548962]\n",
      " [491.02851241 233.07724042]]\n",
      "[[  65.7267069  4494.89933146]\n",
      " [4475.84450132  624.97999968]]\n",
      "[[901.23748258 517.58284361]\n",
      " [826.68313156 572.19926599]]\n",
      "skipping \n",
      "\n",
      "[[648.0686692   81.63332653]\n",
      " [107.42904635 605.6153895 ]]\n",
      "[[ 4128.18483113  3189.93291466    91.23595782]\n",
      " [  170.76592166  3482.68416598  4007.43771006]\n",
      " [11292.02129824  8929.37315829 11956.89278199]\n",
      " [13982.45489891 13733.27073206 16546.69710244]\n",
      " [ 7099.01887587  3574.97762231  6076.14853341]]\n",
      "[[8128.64742746  864.88033854]\n",
      " [ 315.13171849 8280.50898194]]\n",
      "[[  802.63628126  3717.38079836 10550.35264813]\n",
      " [10174.82270116  7734.51601589   253.21334878]\n",
      " [ 3197.35218579   939.4423878   8381.84043036]]\n",
      "[[  657.3864921  12356.94270441]\n",
      " [12607.73147715    40.01249805]]\n",
      "[[358.52057124  26.07680962]\n",
      " [ 56.04462508 314.89680849]]\n",
      "[[ 632.51561246  629.52442367]\n",
      " [ 642.04750603 1205.60773057]]\n",
      "skipping \n",
      "\n",
      "[[ 37.36308338 514.76693756]\n",
      " [501.74196556  38.85871846]]\n",
      "[[34041.63876784 31834.05071617 24858.62701357  1196.39165828]\n",
      " [  281.82441342  2356.785947    9314.39455896 33086.30786292]]\n",
      "[[4675.35089592  353.72022843]\n",
      " [  88.20430828 4446.01304541]]\n",
      "[[123.97580409 682.20231603]\n",
      " [594.66797459  82.21921916]]\n",
      "[[  96.42095208 1749.52479262]\n",
      " [1622.45369734  458.97712361]]\n",
      "[[3712.40905613  559.51407489]\n",
      " [ 239.59340559 4046.79725215]]\n",
      "skipping \n",
      "\n",
      "[[1026.45214209  801.50483467]\n",
      " [ 513.0984311  1353.38095154]\n",
      " [ 994.47724961  182.20043908]]\n",
      "[[ 315.70397527 1909.91203986]\n",
      " [1556.73568726  809.35838786]]\n",
      "[[13630.80280101    38.94868419]\n",
      " [  830.40291425 13620.68739088]]\n",
      "[[562.729953   135.3070582 ]\n",
      " [126.54643417 595.58794481]]\n",
      "[[ 101.93134945 4868.93725571]\n",
      " [4959.18098077   30.72458299]]\n",
      "[[  48.88762625 5029.54560572]\n",
      " [5920.58147482 2289.41040445]]\n",
      "[[  14.86606875 8083.54829267]\n",
      " [8031.90002428  139.17614738]]\n",
      "[[3140.96879959  548.80324343]\n",
      " [ 217.33154396 2828.26536944]]\n",
      "[[ 774.19700335 5053.42309727]\n",
      " [ 612.68670624 5120.38758299]\n",
      " [5673.50209306   84.        ]]\n",
      "[[16271.3315374   1838.26983873]\n",
      " [  758.89656739 17297.52901428]]\n",
      "[[14102.25460698  6289.34654793  7228.31847666  7941.92375939\n",
      "   5860.16083397   120.65653733  6205.24366967]\n",
      " [13490.80360838  9103.78871679  8456.15261215  9887.33209718\n",
      "   7570.78463569  6137.64686179   114.27160627]\n",
      " [ 7142.88849136  2328.45721455    39.86226286  4800.11812355\n",
      "   3143.47228396  7310.09336466  8508.53077799]\n",
      " [ 8983.21668446   151.01324445  2230.20738946  5433.86602706\n",
      "   3803.59303817  6365.88320659  9125.85612422]\n",
      " [   82.56512581  9018.89682833  7064.19705274  8417.82305587\n",
      "   8702.44362234 14172.27271823 13451.78148053]]\n",
      "[[5794.38529958 6356.7184144   135.32183859]\n",
      " [2064.61449186   16.88194302 6440.60478527]]\n",
      "[[4.50567954e+04 1.95527682e+04 4.32130717e+04 3.61400069e+04\n",
      "  2.88308804e+04 1.60921288e+04 2.43874006e+04 3.96036614e+02\n",
      "  6.84594369e+03 2.76317840e+04 2.11539684e+04]\n",
      " [4.96027166e+04 3.50540310e+04 4.65528773e+04 4.10964200e+04\n",
      "  3.51900786e+04 2.56049446e+04 2.81851677e+04 2.11822273e+04\n",
      "  1.94390054e+04 2.59480859e+04 1.19770614e+02]\n",
      " [3.94565994e+04 1.76924279e+04 3.74326762e+04 3.04801133e+04\n",
      "  2.33836711e+04 1.05374384e+04 1.87831214e+04 6.75872325e+03\n",
      "  3.05754804e+02 2.17274451e+04 1.97742795e+04]\n",
      " [3.08923464e+04 2.94788059e+01 3.02752051e+04 2.33337256e+04\n",
      "  1.68508351e+04 1.21898493e+04 1.72754401e+04 1.92451296e+04\n",
      "  1.78571114e+04 2.40759315e+04 3.50968094e+04]\n",
      " [2.39736267e+04 2.40849685e+04 2.07564881e+04 1.61690038e+04\n",
      "  1.25535155e+04 1.44435247e+04 7.05194562e+03 2.75182756e+04\n",
      "  2.15612117e+04 5.80689246e+01 2.59303084e+04]\n",
      " [1.69526623e+04 3.74175293e+04 1.44405559e+04 1.79942325e+04\n",
      "  2.22190963e+04 3.27249794e+04 2.34454581e+04 4.72716312e+04\n",
      "  4.18426409e+04 2.11124565e+04 4.53483959e+04]\n",
      " [1.71688672e+02 3.07966662e+04 3.50946221e+03 8.88641829e+03\n",
      "  1.61709604e+04 2.89191754e+04 2.21129889e+04 4.47682982e+04\n",
      "  3.93289749e+04 2.38090284e+04 4.94339803e+04]]\n",
      "[[  150.56227947 10139.99802761  9720.50770279]\n",
      " [10274.09363399   239.8353602   4692.46470418]\n",
      " [ 9706.69093976  5391.09562149   749.00333778]]\n",
      "[[13287.84832093 11924.3910117  12666.62338589 10743.91027513\n",
      "  11108.58933438]\n",
      " [11162.08313891  3678.04567671  1975.96685195  2588.36801866\n",
      "   1021.83266732]\n",
      " [  314.23717158  7707.22965793 10312.37799928  8624.81443279\n",
      "  11753.47782573]]\n",
      "[[   41.43669871 20114.63521916]\n",
      " [20059.3399692     97.90301323]]\n",
      "skipping \n",
      "\n",
      "[[ 385.75121516 2269.35453378 6356.16551075]\n",
      " [2036.26913742   15.16575089 6922.34208921]\n",
      " [6698.05232885 6982.27677767  196.23710149]]\n",
      "skipping \n",
      "\n",
      "[[10766.71491217 10795.95850307  7354.95622013    89.10667764]\n",
      " [ 5875.00306383  5399.21003481    32.06243908  7446.11099837]\n",
      " [ 1426.61312205   156.08010764  5577.4343564  10982.13553914]]\n",
      "[[  180.29143074 25361.66280038]\n",
      " [25233.5133503     26.17250466]]\n",
      "skipping \n",
      "\n",
      "[[1325.23507349  387.45967532 3857.5413154 ]\n",
      " [3161.97991771 3651.31401005  211.43793416]]\n",
      "[[8038.83362186 5166.50055647  339.53055827]\n",
      " [3601.18841495   24.         5241.9398127 ]\n",
      " [  61.77378085 3587.78065104 8078.02457288]]\n",
      "skipping \n",
      "\n",
      "skipping \n",
      "\n",
      "[[ 134.33167906 2601.44056246]\n",
      " [2675.36726451   16.43167673]]\n",
      "[[  102.32301794  3504.01198628 11723.69967203]\n",
      " [11797.9401592   9240.54619598    50.19960159]]\n",
      "[[352.76054201 152.72524349]\n",
      " [ 21.3541565  455.48325985]]\n",
      "[[1699.82499099   26.92582404]\n",
      " [  27.07397274 1686.14619769]]\n",
      "[[ 12735.57372088  35001.25403468  26599.29173869  31009.2873346\n",
      "   18918.2796258   21415.43819304    195.        ]\n",
      " [   301.27230208  29328.06330121  20596.38774154  25772.44656605\n",
      "   13893.6083506   16828.08046094  12851.58239284]\n",
      " [ 64509.84775211  35976.8216634   45516.34141712  40144.50859084\n",
      "   52716.28075841  49759.24316145  70017.38436988]\n",
      " [ 72187.74902295  42949.80131502  52173.1623155   46692.69514603\n",
      "   59320.50088292  56256.50353515  76470.50367298]\n",
      " [ 68360.7938295   40015.56258507  49292.89741941  44239.97294303\n",
      "   56826.52029642  53986.53469153  74924.55799002]\n",
      " [113576.93540504  85373.08518497  94868.54986243  89575.09471388\n",
      "  102162.50138872  99230.29741465 119370.20541576]\n",
      " [ 58934.454074    31081.74507649  40358.9344012   35395.96869701\n",
      "   47788.1562419   45007.34462285  65755.84007524]\n",
      " [ 66034.22107514  38490.39684129  47676.72327247  42804.27198306\n",
      "   55135.50566559  52394.03532846  73148.50202157]]\n",
      "skipping \n",
      "\n",
      "[[3118.03624097 2715.30403454  182.75940468]\n",
      " [1867.67609612  341.8420688  2969.0680356 ]\n",
      " [ 237.05906437 1942.45128639 3063.23195335]]\n",
      "[[ 179.55779014 8997.95098898]\n",
      " [9016.72512612   18.13835715]]\n",
      "[[355.19149765 487.7191815 ]\n",
      " [ 49.04079934 707.92513729]]\n",
      "[[33091.47897873  5453.96452134   128.77888026]\n",
      " [ 1215.36002896 27800.90027319 33288.84685597]]\n",
      "[[4091.22108911   18.86796226]\n",
      " [  40.80441153 4068.75226574]]\n",
      "[[10109.88036527   155.2836115 ]\n",
      " [   16.88194302 10227.94920793]]\n",
      "skipping \n",
      "\n",
      "[[3.76209746e+04 4.17216896e+04 4.24502617e+04 1.40036211e+04\n",
      "  1.24854545e+04 8.62515374e+03 8.03767485e+03 3.10644491e+01]\n",
      " [1.54378187e+04 3.68919409e+03 7.89936706e+01 3.35119813e+04\n",
      "  3.41707110e+04 3.56190252e+04 3.73391194e+04 4.23995665e+04]]\n",
      "[[1.53406421e+03 1.94164878e+01 3.84468895e+04]\n",
      " [3.81276523e+04 3.84133919e+04 4.12310563e+01]]\n",
      "[[19864.73951503 22595.52814165  7738.78207472   444.96404349]\n",
      " [11735.7593704  15914.75818227  2189.38347486  9321.85051371]\n",
      " [ 5936.93329927    59.8414572  15733.12788355 22988.30224266]]\n",
      "[[2617.98242928   58.9067059 ]\n",
      " [ 134.12680567 2526.06650744]]\n",
      "skipping \n",
      "\n",
      "[[2181.11118469 6958.83675624  434.84365006]\n",
      " [5488.58141964  606.60118694 6716.95593256]]\n",
      "skipping \n",
      "\n",
      "skipping \n",
      "\n",
      "[[728.33646071 821.10291681]\n",
      " [536.80257078  56.96490147]]\n",
      "[[ 3909.81099287    28.72281323 25144.70258325]\n",
      " [23509.82254293 25148.07199369    48.60041152]]\n",
      "[[  131.48383931 12935.8821887  21815.46309387]\n",
      " [13095.24799307   399.20921833 18095.85814489]\n",
      " [21916.76173617 18056.13737763    64.90762667]]\n",
      "[[  46.43274706 5320.16447114]\n",
      " [5685.48617094  461.89284472]]\n",
      "[[3211.97073461   38.89730068]\n",
      " [  30.7408523  3229.0676673 ]]\n",
      "skipping \n",
      "\n",
      "[[620.95813063 151.21177203]\n",
      " [218.73499949 552.63821801]]\n",
      "skipping \n",
      "\n",
      "[[1430.60267021  183.84776311 2427.92298066]\n",
      " [1941.98455195 2540.09133694   20.14944168]]\n",
      "[[   31.89043744 12745.44314647]\n",
      " [12741.17047213    30.01666204]]\n",
      "[[7605.6870827    88.60022573 9508.79498149]\n",
      " [6684.9412862  9589.93879021   31.144823  ]\n",
      " [  43.79497688 7638.56138288 6656.71961254]]\n",
      "[[ 935.98344002 2534.72089193]\n",
      " [1850.50506619   62.        ]]\n",
      "[[1619.99876543 1284.47070811]\n",
      " [ 105.89145386 1031.67824442]]\n",
      "[[   75.74958746  6510.60058674 11021.62478948]\n",
      " [11065.46799733  4853.89328272   248.2035455 ]]\n",
      "skipping \n",
      "\n",
      "[[310.85366332  23.02172887]\n",
      " [ 62.4899992  303.19135872]]\n",
      "skipping \n",
      "\n",
      "[[   40.31128874 12244.73049928]\n",
      " [12212.52574204    46.09772229]]\n",
      "[[ 5963.93569717 14680.46378695    96.64884893]\n",
      " [ 9660.69666225    65.32993188 14711.3417471 ]]\n",
      "[[1109.86485664 3692.88505101]\n",
      " [2858.46899581   32.26453161]]\n",
      "[[4383.26647604 6625.7616166   805.82938641]\n",
      " [2635.96092536   45.475268   6080.72758804]]\n",
      "[[299.8349546  881.41080093]\n",
      " [776.66273246  45.48626166]]\n",
      "[[4345.46487732  142.46754016 8994.61805748]\n",
      " [7223.4288257  9523.42816427  725.81333688]]\n",
      "skipping \n",
      "\n",
      "[[ 50971.90969544 104903.52570338  68877.84624972  69601.12287169\n",
      "   50977.3090404   37501.3884543   32724.09505242    223.90176417]\n",
      " [   247.97177259  58257.45934213  23492.67945552  24605.16199906\n",
      "   12148.74944181  16729.28868781  21044.78008913  51145.82626178]\n",
      " [ 58174.28027058    167.16458955  36412.88591969  35762.25286528\n",
      "   55096.19992341  68432.88695503  72770.63700422 104960.22963485]]\n",
      "skipping \n",
      "\n",
      "[[ 1169.28396893    47.93745926 20369.20933664 21178.14800685\n",
      "  22693.15000171]\n",
      " [22746.87391709 22677.40836163  2769.20656507  1592.80413108\n",
      "     47.16990566]]\n",
      "[[11691.13086917  9801.80677222  9378.60570661   235.75623003]\n",
      " [  208.540164   15491.69041777  2728.81384488 11749.98114892]\n",
      " [15814.15486202   354.9154829  14240.8687235   9929.1142606 ]]\n",
      "skipping \n",
      "\n",
      "[[7405.00506414   71.86793444]\n",
      " [1041.80468419 7166.27378768]]\n",
      "skipping \n",
      "\n",
      "[[ 241.85532866 1607.08244966]\n",
      " [1651.96277198  120.70211266]]\n",
      "[[ 45.12205669 225.22211259]\n",
      " [239.06066176  56.64803615]]\n",
      "[[5477.85049084  865.63560463 9255.64584456]\n",
      " [5316.68176591 8598.90365105  211.10423965]]\n",
      "skipping \n",
      "\n",
      "[[  591.34930456 22345.55718706 20834.35396167 32221.76342164\n",
      "  28132.42209622 18346.75491742 23968.62065285 28552.57153042\n",
      "  33621.04781235 33355.17911809 35467.64570704 26253.03237723]\n",
      " [21964.59917686    74.97332859 25135.39575976 14815.47046165\n",
      "  11708.64885459 18790.40406697 19885.16142756 17245.05610313\n",
      "  16683.97137974 17666.75004068 20839.42103322 19991.73929402]\n",
      " [29138.15301285 12566.00003979 23355.91762274  4316.74194272\n",
      "   1159.97499973 16395.49111799 13768.579629    7046.28299176\n",
      "   4531.07856917  5175.55340036  8393.80205866 12749.20985787]\n",
      " [21090.70212203 25336.70917858   172.11914478 24363.70587575\n",
      "  22715.49966433 12222.70174716 11740.74060696 18521.69303816\n",
      "  26040.63236559 24634.55499903 26155.31903839 19618.24959062]\n",
      " [24017.2248605  19923.11566999 11706.35541063 15462.8802621\n",
      "  13167.82537096  6541.77804576    35.4964787   7777.74935312\n",
      "  15798.07925034 14257.72527439 15129.8856572   8555.66064077]\n",
      " [26686.70335579 20175.2463182  19779.53500465 15804.26904352\n",
      "  12219.50281313  9519.67488941  8702.17133824  8666.01898221\n",
      "  14056.78661715 12916.80796482 12349.07211089   325.30754679]\n",
      " [29086.42803783 17484.98452959 18847.49917098  7881.35775105\n",
      "   6918.81991383 13060.30818932  8317.81377527   714.30035699\n",
      "   7654.9833442   5982.61548154  7460.83520794  9368.27225266]\n",
      " [32272.01637642 15114.68084347 24389.70065417   271.99448524\n",
      "   5440.21801034 19388.34982664 15544.6416813   8389.15573821\n",
      "   4053.78995509  4594.41759095  8307.25544329 15990.67359432]\n",
      " [33505.35419899 16721.38427284 26019.9288431   4125.32277525\n",
      "   5654.70361734 19484.60659084 15827.77501735  8099.26965843\n",
      "     36.74234614  2126.70073118  5012.11991078 14217.90297477]\n",
      " [35371.1980289  20700.96582288 26253.68037057  8304.35271409\n",
      "   9062.62461983 19458.9074719  15245.72936924  7930.21468814\n",
      "   4822.75854672  3690.78555324   291.10135692 12630.15601646]]\n",
      "skipping \n",
      "\n",
      "skipping \n",
      "\n",
      "skipping \n",
      "\n",
      "skipping \n",
      "\n",
      "[[1773.9574403   262.78698598]\n",
      " [  12.36931688 1964.69157885]]\n",
      "[[2931.81121493   94.95261976]\n",
      " [ 101.78899744 2977.3716597 ]]\n",
      "[[5963.40339068  941.31450642]\n",
      " [  41.0487515  5354.89215578]]\n",
      "[[17026.81520426    20.90454496 19963.30669003]\n",
      " [ 3509.92948647 19956.17247871    25.        ]]\n",
      "[[1631.98774505  139.89996426]\n",
      " [  94.27619    1655.5470395 ]]\n",
      "[[5.24722708e+03 6.10227572e+03 3.18216907e+02 1.72840896e+04\n",
      "  1.09311354e+04 2.03664803e+04]\n",
      " [1.65972974e+04 1.46402354e+04 2.03785424e+04 4.23783305e+03\n",
      "  1.00837706e+04 9.21954446e+00]]\n",
      "[[10355.88513841    35.28455753]\n",
      " [   31.06444913 10358.44124374]]\n",
      "skipping \n",
      "\n",
      "skipping \n",
      "\n",
      "[[   61.40032573  5161.01055996 16096.10241642]\n",
      " [16090.07426956 11216.67999009    49.12229636]]\n",
      "[[ 567.43369657 3469.70978613]\n",
      " [3244.97411392   68.02940541]]\n",
      "[[16733.89643807  8273.97316892   682.07111066]\n",
      " [   59.51470407 11144.90735717 16849.42506438]]\n",
      "[[11926.12267252   124.6314567 ]\n",
      " [  118.41030361 11931.48532246]]\n",
      "skipping \n",
      "\n",
      "[[ 106.62082348  894.87261663]\n",
      " [1033.07550547  708.78064308]]\n",
      "skipping \n",
      "\n"
     ]
    },
    {
     "name": "stderr",
     "output_type": "stream",
     "text": [
      "07/29/2022 11:48:43 AM WARNING: face_normals incorrect shape, ignoring! \n"
     ]
    },
    {
     "name": "stdout",
     "output_type": "stream",
     "text": [
      "Warning: deduplication not currently supported for this layer's variable layered draco meshes\n"
     ]
    },
    {
     "name": "stderr",
     "output_type": "stream",
     "text": [
      "100%|██████████| 3996/3996 [00:00<00:00, 617714.18it/s]\n",
      "07/29/2022 11:48:45 AM WARNING: face_normals incorrect shape, ignoring! \n"
     ]
    },
    {
     "name": "stdout",
     "output_type": "stream",
     "text": [
      "Warning: deduplication not currently supported for this layer's variable layered draco meshes\n"
     ]
    },
    {
     "name": "stderr",
     "output_type": "stream",
     "text": [
      "  0%|          | 0/10649 [00:00<?, ?it/s]/Library/Frameworks/Python.framework/Versions/3.8/lib/python3.8/site-packages/meshparty/skeletonize.py:613: RuntimeWarning: invalid value encountered in multiply\n",
      "  target = np.nanargmax(root_ds * valid)\n",
      "100%|██████████| 10649/10649 [00:00<00:00, 469285.05it/s]\n",
      "07/29/2022 11:48:47 AM WARNING: face_normals incorrect shape, ignoring! \n"
     ]
    },
    {
     "name": "stdout",
     "output_type": "stream",
     "text": [
      "Warning: deduplication not currently supported for this layer's variable layered draco meshes\n"
     ]
    },
    {
     "name": "stderr",
     "output_type": "stream",
     "text": [
      "100%|██████████| 1140/1140 [00:00<00:00, 276547.52it/s]\n",
      "07/29/2022 11:48:52 AM WARNING: face_normals incorrect shape, ignoring! \n"
     ]
    },
    {
     "name": "stdout",
     "output_type": "stream",
     "text": [
      "Warning: deduplication not currently supported for this layer's variable layered draco meshes\n"
     ]
    },
    {
     "name": "stderr",
     "output_type": "stream",
     "text": [
      "100%|██████████| 91377/91377 [00:00<00:00, 231222.96it/s]\n",
      "07/29/2022 11:49:02 AM WARNING: face_normals incorrect shape, ignoring! \n"
     ]
    },
    {
     "name": "stdout",
     "output_type": "stream",
     "text": [
      "Warning: deduplication not currently supported for this layer's variable layered draco meshes\n"
     ]
    },
    {
     "name": "stderr",
     "output_type": "stream",
     "text": [
      "100%|██████████| 117/117 [00:00<00:00, 82628.99it/s]\n",
      "07/29/2022 11:49:03 AM WARNING: face_normals incorrect shape, ignoring! \n"
     ]
    },
    {
     "name": "stdout",
     "output_type": "stream",
     "text": [
      "Warning: deduplication not currently supported for this layer's variable layered draco meshes\n"
     ]
    },
    {
     "name": "stderr",
     "output_type": "stream",
     "text": [
      "100%|██████████| 725/725 [00:00<00:00, 341019.45it/s]\n",
      "07/29/2022 11:49:05 AM WARNING: face_normals incorrect shape, ignoring! \n"
     ]
    },
    {
     "name": "stdout",
     "output_type": "stream",
     "text": [
      "Warning: deduplication not currently supported for this layer's variable layered draco meshes\n"
     ]
    },
    {
     "name": "stderr",
     "output_type": "stream",
     "text": [
      "100%|██████████| 3024/3024 [00:00<00:00, 465093.88it/s]\n",
      "07/29/2022 11:49:06 AM WARNING: face_normals incorrect shape, ignoring! \n"
     ]
    },
    {
     "name": "stdout",
     "output_type": "stream",
     "text": [
      "Warning: deduplication not currently supported for this layer's variable layered draco meshes\n"
     ]
    },
    {
     "name": "stderr",
     "output_type": "stream",
     "text": [
      "100%|██████████| 590/590 [00:00<00:00, 230649.58it/s]\n",
      "07/29/2022 11:49:09 AM WARNING: face_normals incorrect shape, ignoring! \n"
     ]
    },
    {
     "name": "stdout",
     "output_type": "stream",
     "text": [
      "Warning: deduplication not currently supported for this layer's variable layered draco meshes\n"
     ]
    },
    {
     "name": "stderr",
     "output_type": "stream",
     "text": [
      "100%|██████████| 33205/33205 [00:00<00:00, 153046.68it/s]\n",
      "07/29/2022 11:49:13 AM WARNING: face_normals incorrect shape, ignoring! \n"
     ]
    },
    {
     "name": "stdout",
     "output_type": "stream",
     "text": [
      "Warning: deduplication not currently supported for this layer's variable layered draco meshes\n"
     ]
    },
    {
     "name": "stderr",
     "output_type": "stream",
     "text": [
      "100%|██████████| 338/338 [00:00<00:00, 180848.93it/s]\n",
      "07/29/2022 11:49:14 AM WARNING: face_normals incorrect shape, ignoring! \n"
     ]
    },
    {
     "name": "stdout",
     "output_type": "stream",
     "text": [
      "Warning: deduplication not currently supported for this layer's variable layered draco meshes\n"
     ]
    },
    {
     "name": "stderr",
     "output_type": "stream",
     "text": [
      "100%|██████████| 5856/5856 [00:00<00:00, 462410.23it/s]\n",
      "07/29/2022 11:49:16 AM WARNING: face_normals incorrect shape, ignoring! \n"
     ]
    },
    {
     "name": "stdout",
     "output_type": "stream",
     "text": [
      "Warning: deduplication not currently supported for this layer's variable layered draco meshes\n"
     ]
    },
    {
     "name": "stderr",
     "output_type": "stream",
     "text": [
      "100%|██████████| 7270/7270 [00:00<00:00, 577894.25it/s]\n",
      "07/29/2022 11:49:18 AM WARNING: face_normals incorrect shape, ignoring! \n"
     ]
    },
    {
     "name": "stdout",
     "output_type": "stream",
     "text": [
      "Warning: deduplication not currently supported for this layer's variable layered draco meshes\n"
     ]
    },
    {
     "name": "stderr",
     "output_type": "stream",
     "text": [
      "100%|██████████| 12420/12420 [00:00<00:00, 574517.84it/s]\n",
      "07/29/2022 11:49:21 AM WARNING: face_normals incorrect shape, ignoring! \n"
     ]
    },
    {
     "name": "stdout",
     "output_type": "stream",
     "text": [
      "Warning: deduplication not currently supported for this layer's variable layered draco meshes\n"
     ]
    },
    {
     "name": "stderr",
     "output_type": "stream",
     "text": [
      "100%|██████████| 11545/11545 [00:00<00:00, 707208.01it/s]\n",
      "07/29/2022 11:49:23 AM WARNING: face_normals incorrect shape, ignoring! \n"
     ]
    },
    {
     "name": "stdout",
     "output_type": "stream",
     "text": [
      "Warning: deduplication not currently supported for this layer's variable layered draco meshes\n",
      "\n",
      "\n",
      "Seg 864691133692934758 returned error on get. Skipping.\n",
      "\n"
     ]
    },
    {
     "name": "stderr",
     "output_type": "stream",
     "text": [
      "07/29/2022 11:49:24 AM WARNING: face_normals incorrect shape, ignoring! \n"
     ]
    },
    {
     "name": "stdout",
     "output_type": "stream",
     "text": [
      "Warning: deduplication not currently supported for this layer's variable layered draco meshes\n"
     ]
    },
    {
     "name": "stderr",
     "output_type": "stream",
     "text": [
      "100%|██████████| 158/158 [00:00<00:00, 68574.09it/s]\n",
      "07/29/2022 11:49:25 AM WARNING: face_normals incorrect shape, ignoring! \n"
     ]
    },
    {
     "name": "stdout",
     "output_type": "stream",
     "text": [
      "Warning: deduplication not currently supported for this layer's variable layered draco meshes\n"
     ]
    },
    {
     "name": "stderr",
     "output_type": "stream",
     "text": [
      "100%|██████████| 1243/1243 [00:00<00:00, 452641.07it/s]\n",
      "07/29/2022 11:49:26 AM WARNING: face_normals incorrect shape, ignoring! \n"
     ]
    },
    {
     "name": "stdout",
     "output_type": "stream",
     "text": [
      "Warning: deduplication not currently supported for this layer's variable layered draco meshes\n",
      "\n",
      "\n",
      "Seg 864691133946526057 returned error on get. Skipping.\n",
      "\n"
     ]
    },
    {
     "name": "stderr",
     "output_type": "stream",
     "text": [
      "07/29/2022 11:49:27 AM WARNING: face_normals incorrect shape, ignoring! \n"
     ]
    },
    {
     "name": "stdout",
     "output_type": "stream",
     "text": [
      "Warning: deduplication not currently supported for this layer's variable layered draco meshes\n",
      "\n",
      "\n",
      "Seg 864691133712131152 returned error on get. Skipping.\n",
      "\n"
     ]
    },
    {
     "name": "stderr",
     "output_type": "stream",
     "text": [
      "07/29/2022 11:49:28 AM WARNING: face_normals incorrect shape, ignoring! \n"
     ]
    },
    {
     "name": "stdout",
     "output_type": "stream",
     "text": [
      "Warning: deduplication not currently supported for this layer's variable layered draco meshes\n"
     ]
    },
    {
     "name": "stderr",
     "output_type": "stream",
     "text": [
      "100%|██████████| 204/204 [00:00<00:00, 90870.65it/s]\n",
      "07/29/2022 11:49:31 AM WARNING: face_normals incorrect shape, ignoring! \n"
     ]
    },
    {
     "name": "stdout",
     "output_type": "stream",
     "text": [
      "Warning: deduplication not currently supported for this layer's variable layered draco meshes\n"
     ]
    },
    {
     "name": "stderr",
     "output_type": "stream",
     "text": [
      "100%|██████████| 22603/22603 [00:00<00:00, 458674.32it/s]\n",
      "07/29/2022 11:49:35 AM WARNING: face_normals incorrect shape, ignoring! \n"
     ]
    },
    {
     "name": "stdout",
     "output_type": "stream",
     "text": [
      "Warning: deduplication not currently supported for this layer's variable layered draco meshes\n"
     ]
    },
    {
     "name": "stderr",
     "output_type": "stream",
     "text": [
      "100%|██████████| 3568/3568 [00:00<00:00, 533959.28it/s]\n",
      "07/29/2022 11:49:36 AM WARNING: face_normals incorrect shape, ignoring! \n"
     ]
    },
    {
     "name": "stdout",
     "output_type": "stream",
     "text": [
      "Warning: deduplication not currently supported for this layer's variable layered draco meshes\n",
      "\n",
      "\n",
      "Seg 864691133678427777 returned error on get. Skipping.\n",
      "\n"
     ]
    },
    {
     "name": "stderr",
     "output_type": "stream",
     "text": [
      "07/29/2022 11:49:37 AM WARNING: face_normals incorrect shape, ignoring! \n"
     ]
    },
    {
     "name": "stdout",
     "output_type": "stream",
     "text": [
      "Warning: deduplication not currently supported for this layer's variable layered draco meshes\n"
     ]
    },
    {
     "name": "stderr",
     "output_type": "stream",
     "text": [
      "100%|██████████| 556/556 [00:00<00:00, 169208.61it/s]\n",
      "07/29/2022 11:49:39 AM WARNING: face_normals incorrect shape, ignoring! \n"
     ]
    },
    {
     "name": "stdout",
     "output_type": "stream",
     "text": [
      "Warning: deduplication not currently supported for this layer's variable layered draco meshes\n"
     ]
    },
    {
     "name": "stderr",
     "output_type": "stream",
     "text": [
      "100%|██████████| 1119/1119 [00:00<00:00, 330779.21it/s]\n",
      "07/29/2022 11:49:40 AM WARNING: face_normals incorrect shape, ignoring! \n"
     ]
    },
    {
     "name": "stdout",
     "output_type": "stream",
     "text": [
      "Warning: deduplication not currently supported for this layer's variable layered draco meshes\n"
     ]
    },
    {
     "name": "stderr",
     "output_type": "stream",
     "text": [
      "100%|██████████| 3576/3576 [00:00<00:00, 609411.31it/s]\n",
      "07/29/2022 11:49:42 AM WARNING: face_normals incorrect shape, ignoring! \n"
     ]
    },
    {
     "name": "stdout",
     "output_type": "stream",
     "text": [
      "Warning: deduplication not currently supported for this layer's variable layered draco meshes\n"
     ]
    },
    {
     "name": "stderr",
     "output_type": "stream",
     "text": [
      "100%|██████████| 230/230 [00:00<00:00, 135547.27it/s]\n",
      "07/29/2022 11:49:43 AM WARNING: face_normals incorrect shape, ignoring! \n"
     ]
    },
    {
     "name": "stdout",
     "output_type": "stream",
     "text": [
      "Warning: deduplication not currently supported for this layer's variable layered draco meshes\n"
     ]
    },
    {
     "name": "stderr",
     "output_type": "stream",
     "text": [
      "100%|██████████| 1402/1402 [00:00<00:00, 340794.80it/s]\n",
      "07/29/2022 11:49:44 AM WARNING: face_normals incorrect shape, ignoring! \n"
     ]
    },
    {
     "name": "stdout",
     "output_type": "stream",
     "text": [
      "Warning: deduplication not currently supported for this layer's variable layered draco meshes\n",
      "\n",
      "\n",
      "Seg 864691133766052845 returned error on get. Skipping.\n",
      "\n"
     ]
    },
    {
     "name": "stderr",
     "output_type": "stream",
     "text": [
      "07/29/2022 11:49:46 AM WARNING: face_normals incorrect shape, ignoring! \n"
     ]
    },
    {
     "name": "stdout",
     "output_type": "stream",
     "text": [
      "Warning: deduplication not currently supported for this layer's variable layered draco meshes\n"
     ]
    },
    {
     "name": "stderr",
     "output_type": "stream",
     "text": [
      "100%|██████████| 1499/1499 [00:00<00:00, 458589.47it/s]\n",
      "07/29/2022 11:49:48 AM WARNING: face_normals incorrect shape, ignoring! \n"
     ]
    },
    {
     "name": "stdout",
     "output_type": "stream",
     "text": [
      "Warning: deduplication not currently supported for this layer's variable layered draco meshes\n"
     ]
    },
    {
     "name": "stderr",
     "output_type": "stream",
     "text": [
      "100%|██████████| 14992/14992 [00:00<00:00, 722537.64it/s]\n",
      "07/29/2022 11:49:50 AM WARNING: face_normals incorrect shape, ignoring! \n"
     ]
    },
    {
     "name": "stdout",
     "output_type": "stream",
     "text": [
      "Warning: deduplication not currently supported for this layer's variable layered draco meshes\n"
     ]
    },
    {
     "name": "stderr",
     "output_type": "stream",
     "text": [
      "100%|██████████| 351/351 [00:00<00:00, 231368.96it/s]\n",
      "07/29/2022 11:49:52 AM WARNING: face_normals incorrect shape, ignoring! \n"
     ]
    },
    {
     "name": "stdout",
     "output_type": "stream",
     "text": [
      "Warning: deduplication not currently supported for this layer's variable layered draco meshes\n"
     ]
    },
    {
     "name": "stderr",
     "output_type": "stream",
     "text": [
      "100%|██████████| 3586/3586 [00:00<00:00, 426652.32it/s]\n",
      "07/29/2022 11:49:53 AM WARNING: face_normals incorrect shape, ignoring! \n"
     ]
    },
    {
     "name": "stdout",
     "output_type": "stream",
     "text": [
      "Warning: deduplication not currently supported for this layer's variable layered draco meshes\n"
     ]
    },
    {
     "name": "stderr",
     "output_type": "stream",
     "text": [
      "100%|██████████| 5274/5274 [00:00<00:00, 670997.04it/s]\n",
      "07/29/2022 11:49:55 AM WARNING: face_normals incorrect shape, ignoring! \n"
     ]
    },
    {
     "name": "stdout",
     "output_type": "stream",
     "text": [
      "Warning: deduplication not currently supported for this layer's variable layered draco meshes\n"
     ]
    },
    {
     "name": "stderr",
     "output_type": "stream",
     "text": [
      "100%|██████████| 7026/7026 [00:00<00:00, 707203.74it/s]\n",
      "07/29/2022 11:49:57 AM WARNING: face_normals incorrect shape, ignoring! \n"
     ]
    },
    {
     "name": "stdout",
     "output_type": "stream",
     "text": [
      "Warning: deduplication not currently supported for this layer's variable layered draco meshes\n"
     ]
    },
    {
     "name": "stderr",
     "output_type": "stream",
     "text": [
      "100%|██████████| 2368/2368 [00:00<00:00, 522852.80it/s]\n",
      "07/29/2022 11:49:59 AM WARNING: face_normals incorrect shape, ignoring! \n"
     ]
    },
    {
     "name": "stdout",
     "output_type": "stream",
     "text": [
      "Warning: deduplication not currently supported for this layer's variable layered draco meshes\n"
     ]
    },
    {
     "name": "stderr",
     "output_type": "stream",
     "text": [
      "100%|██████████| 4525/4525 [00:00<00:00, 587210.35it/s]\n",
      "07/29/2022 11:50:02 AM WARNING: face_normals incorrect shape, ignoring! \n"
     ]
    },
    {
     "name": "stdout",
     "output_type": "stream",
     "text": [
      "Warning: deduplication not currently supported for this layer's variable layered draco meshes\n"
     ]
    },
    {
     "name": "stderr",
     "output_type": "stream",
     "text": [
      "100%|██████████| 15505/15505 [00:00<00:00, 711408.36it/s]\n",
      "07/29/2022 11:50:06 AM WARNING: face_normals incorrect shape, ignoring! \n"
     ]
    },
    {
     "name": "stdout",
     "output_type": "stream",
     "text": [
      "Warning: deduplication not currently supported for this layer's variable layered draco meshes\n"
     ]
    },
    {
     "name": "stderr",
     "output_type": "stream",
     "text": [
      "100%|██████████| 28900/28900 [00:00<00:00, 345235.77it/s]\n",
      "07/29/2022 11:50:10 AM WARNING: face_normals incorrect shape, ignoring! \n"
     ]
    },
    {
     "name": "stdout",
     "output_type": "stream",
     "text": [
      "Warning: deduplication not currently supported for this layer's variable layered draco meshes\n"
     ]
    },
    {
     "name": "stderr",
     "output_type": "stream",
     "text": [
      "100%|██████████| 6582/6582 [00:00<00:00, 535775.59it/s]\n",
      "07/29/2022 11:50:15 AM WARNING: face_normals incorrect shape, ignoring! \n"
     ]
    },
    {
     "name": "stdout",
     "output_type": "stream",
     "text": [
      "Warning: deduplication not currently supported for this layer's variable layered draco meshes\n"
     ]
    },
    {
     "name": "stderr",
     "output_type": "stream",
     "text": [
      "100%|██████████| 105180/105180 [00:00<00:00, 236916.44it/s]\n",
      "07/29/2022 11:50:28 AM WARNING: face_normals incorrect shape, ignoring! \n"
     ]
    },
    {
     "name": "stdout",
     "output_type": "stream",
     "text": [
      "Warning: deduplication not currently supported for this layer's variable layered draco meshes\n"
     ]
    },
    {
     "name": "stderr",
     "output_type": "stream",
     "text": [
      "100%|██████████| 18513/18513 [00:00<00:00, 463195.40it/s]\n",
      "07/29/2022 11:50:33 AM WARNING: face_normals incorrect shape, ignoring! \n"
     ]
    },
    {
     "name": "stdout",
     "output_type": "stream",
     "text": [
      "Warning: deduplication not currently supported for this layer's variable layered draco meshes\n"
     ]
    },
    {
     "name": "stderr",
     "output_type": "stream",
     "text": [
      "100%|██████████| 15061/15061 [00:00<00:00, 361606.08it/s]\n",
      "07/29/2022 11:50:38 AM WARNING: face_normals incorrect shape, ignoring! \n"
     ]
    },
    {
     "name": "stdout",
     "output_type": "stream",
     "text": [
      "Warning: deduplication not currently supported for this layer's variable layered draco meshes\n"
     ]
    },
    {
     "name": "stderr",
     "output_type": "stream",
     "text": [
      "100%|██████████| 14865/14865 [00:00<00:00, 703435.80it/s]\n",
      "07/29/2022 11:50:46 AM WARNING: face_normals incorrect shape, ignoring! \n"
     ]
    },
    {
     "name": "stdout",
     "output_type": "stream",
     "text": [
      "Warning: deduplication not currently supported for this layer's variable layered draco meshes\n"
     ]
    },
    {
     "name": "stderr",
     "output_type": "stream",
     "text": [
      "100%|██████████| 73820/73820 [00:01<00:00, 53048.95it/s] \n",
      "07/29/2022 11:51:02 AM WARNING: face_normals incorrect shape, ignoring! \n"
     ]
    },
    {
     "name": "stdout",
     "output_type": "stream",
     "text": [
      "Warning: deduplication not currently supported for this layer's variable layered draco meshes\n"
     ]
    },
    {
     "name": "stderr",
     "output_type": "stream",
     "text": [
      "100%|██████████| 5791/5791 [00:00<00:00, 588458.53it/s]\n",
      "07/29/2022 11:51:04 AM WARNING: face_normals incorrect shape, ignoring! \n"
     ]
    },
    {
     "name": "stdout",
     "output_type": "stream",
     "text": [
      "Warning: deduplication not currently supported for this layer's variable layered draco meshes\n"
     ]
    },
    {
     "name": "stderr",
     "output_type": "stream",
     "text": [
      "100%|██████████| 14714/14714 [00:00<00:00, 323392.80it/s]\n",
      "07/29/2022 11:51:07 AM WARNING: face_normals incorrect shape, ignoring! \n"
     ]
    },
    {
     "name": "stdout",
     "output_type": "stream",
     "text": [
      "Warning: deduplication not currently supported for this layer's variable layered draco meshes\n"
     ]
    },
    {
     "name": "stderr",
     "output_type": "stream",
     "text": [
      "100%|██████████| 12530/12530 [00:00<00:00, 469589.95it/s]\n",
      "07/29/2022 11:51:11 AM WARNING: face_normals incorrect shape, ignoring! \n"
     ]
    },
    {
     "name": "stdout",
     "output_type": "stream",
     "text": [
      "Warning: deduplication not currently supported for this layer's variable layered draco meshes\n"
     ]
    },
    {
     "name": "stderr",
     "output_type": "stream",
     "text": [
      "100%|██████████| 26058/26058 [00:00<00:00, 690426.30it/s]\n",
      "07/29/2022 11:51:22 AM WARNING: face_normals incorrect shape, ignoring! \n"
     ]
    },
    {
     "name": "stdout",
     "output_type": "stream",
     "text": [
      "Warning: deduplication not currently supported for this layer's variable layered draco meshes\n"
     ]
    },
    {
     "name": "stderr",
     "output_type": "stream",
     "text": [
      "100%|██████████| 210150/210150 [00:01<00:00, 121181.19it/s]\n",
      "07/29/2022 11:51:47 AM WARNING: face_normals incorrect shape, ignoring! \n"
     ]
    },
    {
     "name": "stdout",
     "output_type": "stream",
     "text": [
      "Warning: deduplication not currently supported for this layer's variable layered draco meshes\n"
     ]
    },
    {
     "name": "stderr",
     "output_type": "stream",
     "text": [
      "100%|██████████| 3699/3699 [00:00<00:00, 411367.64it/s]\n",
      "07/29/2022 11:51:49 AM WARNING: face_normals incorrect shape, ignoring! \n"
     ]
    },
    {
     "name": "stdout",
     "output_type": "stream",
     "text": [
      "Warning: deduplication not currently supported for this layer's variable layered draco meshes\n"
     ]
    },
    {
     "name": "stderr",
     "output_type": "stream",
     "text": [
      "100%|██████████| 8352/8352 [00:00<00:00, 558180.13it/s]\n",
      "07/29/2022 11:51:53 AM WARNING: face_normals incorrect shape, ignoring! \n"
     ]
    },
    {
     "name": "stdout",
     "output_type": "stream",
     "text": [
      "Warning: deduplication not currently supported for this layer's variable layered draco meshes\n"
     ]
    },
    {
     "name": "stderr",
     "output_type": "stream",
     "text": [
      "100%|██████████| 17575/17575 [00:00<00:00, 712269.36it/s]\n",
      "07/29/2022 11:51:56 AM WARNING: face_normals incorrect shape, ignoring! \n"
     ]
    },
    {
     "name": "stdout",
     "output_type": "stream",
     "text": [
      "Warning: deduplication not currently supported for this layer's variable layered draco meshes\n"
     ]
    },
    {
     "name": "stderr",
     "output_type": "stream",
     "text": [
      "100%|██████████| 17800/17800 [00:00<00:00, 331929.64it/s]\n",
      "07/29/2022 11:51:59 AM WARNING: face_normals incorrect shape, ignoring! \n"
     ]
    },
    {
     "name": "stdout",
     "output_type": "stream",
     "text": [
      "Warning: deduplication not currently supported for this layer's variable layered draco meshes\n"
     ]
    },
    {
     "name": "stderr",
     "output_type": "stream",
     "text": [
      "100%|██████████| 1644/1644 [00:00<00:00, 391986.57it/s]\n",
      "07/29/2022 11:52:01 AM WARNING: face_normals incorrect shape, ignoring! \n"
     ]
    },
    {
     "name": "stdout",
     "output_type": "stream",
     "text": [
      "Warning: deduplication not currently supported for this layer's variable layered draco meshes\n"
     ]
    },
    {
     "name": "stderr",
     "output_type": "stream",
     "text": [
      "100%|██████████| 11380/11380 [00:00<00:00, 589266.55it/s]\n",
      "07/29/2022 11:52:03 AM WARNING: face_normals incorrect shape, ignoring! \n"
     ]
    },
    {
     "name": "stdout",
     "output_type": "stream",
     "text": [
      "Warning: deduplication not currently supported for this layer's variable layered draco meshes\n"
     ]
    },
    {
     "name": "stderr",
     "output_type": "stream",
     "text": [
      "100%|██████████| 152/152 [00:00<00:00, 106736.01it/s]\n",
      "07/29/2022 11:52:04 AM WARNING: face_normals incorrect shape, ignoring! \n"
     ]
    },
    {
     "name": "stdout",
     "output_type": "stream",
     "text": [
      "Warning: deduplication not currently supported for this layer's variable layered draco meshes\n"
     ]
    },
    {
     "name": "stderr",
     "output_type": "stream",
     "text": [
      "100%|██████████| 934/934 [00:00<00:00, 354330.67it/s]\n",
      "07/29/2022 11:52:08 AM WARNING: face_normals incorrect shape, ignoring! \n"
     ]
    },
    {
     "name": "stdout",
     "output_type": "stream",
     "text": [
      "Warning: deduplication not currently supported for this layer's variable layered draco meshes\n"
     ]
    },
    {
     "name": "stderr",
     "output_type": "stream",
     "text": [
      "100%|██████████| 73645/73645 [00:00<00:00, 339202.71it/s]\n",
      "07/29/2022 11:52:17 AM WARNING: face_normals incorrect shape, ignoring! \n"
     ]
    },
    {
     "name": "stdout",
     "output_type": "stream",
     "text": [
      "Warning: deduplication not currently supported for this layer's variable layered draco meshes\n"
     ]
    },
    {
     "name": "stderr",
     "output_type": "stream",
     "text": [
      "100%|██████████| 403/403 [00:00<00:00, 227650.44it/s]\n",
      "07/29/2022 11:52:18 AM WARNING: face_normals incorrect shape, ignoring! \n"
     ]
    },
    {
     "name": "stdout",
     "output_type": "stream",
     "text": [
      "Warning: deduplication not currently supported for this layer's variable layered draco meshes\n"
     ]
    },
    {
     "name": "stderr",
     "output_type": "stream",
     "text": [
      "100%|██████████| 5928/5928 [00:00<00:00, 494075.08it/s]\n",
      "07/29/2022 11:52:20 AM WARNING: face_normals incorrect shape, ignoring! \n"
     ]
    },
    {
     "name": "stdout",
     "output_type": "stream",
     "text": [
      "Warning: deduplication not currently supported for this layer's variable layered draco meshes\n"
     ]
    },
    {
     "name": "stderr",
     "output_type": "stream",
     "text": [
      "100%|██████████| 8016/8016 [00:00<00:00, 694100.64it/s]\n",
      "07/29/2022 11:52:22 AM WARNING: face_normals incorrect shape, ignoring! \n"
     ]
    },
    {
     "name": "stdout",
     "output_type": "stream",
     "text": [
      "Warning: deduplication not currently supported for this layer's variable layered draco meshes\n"
     ]
    },
    {
     "name": "stderr",
     "output_type": "stream",
     "text": [
      "100%|██████████| 264/264 [00:00<00:00, 187645.53it/s]\n",
      "07/29/2022 11:52:25 AM WARNING: face_normals incorrect shape, ignoring! \n"
     ]
    },
    {
     "name": "stdout",
     "output_type": "stream",
     "text": [
      "Warning: deduplication not currently supported for this layer's variable layered draco meshes\n"
     ]
    },
    {
     "name": "stderr",
     "output_type": "stream",
     "text": [
      "100%|██████████| 30530/30530 [00:00<00:00, 582364.72it/s]\n",
      "07/29/2022 11:52:29 AM WARNING: face_normals incorrect shape, ignoring! \n"
     ]
    },
    {
     "name": "stdout",
     "output_type": "stream",
     "text": [
      "Warning: deduplication not currently supported for this layer's variable layered draco meshes\n"
     ]
    },
    {
     "name": "stderr",
     "output_type": "stream",
     "text": [
      "100%|██████████| 3806/3806 [00:00<00:00, 537130.59it/s]\n",
      "07/29/2022 11:52:30 AM WARNING: face_normals incorrect shape, ignoring! \n"
     ]
    },
    {
     "name": "stdout",
     "output_type": "stream",
     "text": [
      "Warning: deduplication not currently supported for this layer's variable layered draco meshes\n"
     ]
    },
    {
     "name": "stderr",
     "output_type": "stream",
     "text": [
      "100%|██████████| 7820/7820 [00:00<00:00, 643568.28it/s]\n",
      "07/29/2022 11:52:32 AM WARNING: face_normals incorrect shape, ignoring! \n"
     ]
    },
    {
     "name": "stdout",
     "output_type": "stream",
     "text": [
      "Warning: deduplication not currently supported for this layer's variable layered draco meshes\n",
      "\n",
      "\n",
      "Seg 864691133769133345 returned error on get. Skipping.\n",
      "\n"
     ]
    },
    {
     "name": "stderr",
     "output_type": "stream",
     "text": [
      "07/29/2022 11:52:36 AM WARNING: face_normals incorrect shape, ignoring! \n"
     ]
    },
    {
     "name": "stdout",
     "output_type": "stream",
     "text": [
      "Warning: deduplication not currently supported for this layer's variable layered draco meshes\n"
     ]
    },
    {
     "name": "stderr",
     "output_type": "stream",
     "text": [
      "100%|██████████| 49920/49920 [00:00<00:00, 321370.05it/s]\n",
      "07/29/2022 11:52:43 AM WARNING: face_normals incorrect shape, ignoring! \n"
     ]
    },
    {
     "name": "stdout",
     "output_type": "stream",
     "text": [
      "Warning: deduplication not currently supported for this layer's variable layered draco meshes\n"
     ]
    },
    {
     "name": "stderr",
     "output_type": "stream",
     "text": [
      "100%|██████████| 43892/43892 [00:00<00:00, 552165.49it/s]\n",
      "07/29/2022 11:52:51 AM WARNING: face_normals incorrect shape, ignoring! \n"
     ]
    },
    {
     "name": "stdout",
     "output_type": "stream",
     "text": [
      "Warning: deduplication not currently supported for this layer's variable layered draco meshes\n"
     ]
    },
    {
     "name": "stderr",
     "output_type": "stream",
     "text": [
      "100%|██████████| 19407/19407 [00:00<00:00, 479160.68it/s]\n",
      "07/29/2022 11:52:54 AM WARNING: face_normals incorrect shape, ignoring! \n"
     ]
    },
    {
     "name": "stdout",
     "output_type": "stream",
     "text": [
      "Warning: deduplication not currently supported for this layer's variable layered draco meshes\n"
     ]
    },
    {
     "name": "stderr",
     "output_type": "stream",
     "text": [
      "100%|██████████| 2448/2448 [00:00<00:00, 543521.05it/s]\n",
      "07/29/2022 11:52:57 AM WARNING: face_normals incorrect shape, ignoring! \n"
     ]
    },
    {
     "name": "stdout",
     "output_type": "stream",
     "text": [
      "Warning: deduplication not currently supported for this layer's variable layered draco meshes\n"
     ]
    },
    {
     "name": "stderr",
     "output_type": "stream",
     "text": [
      "100%|██████████| 39637/39637 [00:00<00:00, 268677.58it/s]\n",
      "07/29/2022 11:53:02 AM WARNING: face_normals incorrect shape, ignoring! \n"
     ]
    },
    {
     "name": "stdout",
     "output_type": "stream",
     "text": [
      "Warning: deduplication not currently supported for this layer's variable layered draco meshes\n"
     ]
    },
    {
     "name": "stderr",
     "output_type": "stream",
     "text": [
      "100%|██████████| 8835/8835 [00:00<00:00, 579128.20it/s]\n",
      "07/29/2022 11:53:04 AM WARNING: face_normals incorrect shape, ignoring! \n"
     ]
    },
    {
     "name": "stdout",
     "output_type": "stream",
     "text": [
      "Warning: deduplication not currently supported for this layer's variable layered draco meshes\n"
     ]
    },
    {
     "name": "stderr",
     "output_type": "stream",
     "text": [
      "100%|██████████| 9474/9474 [00:00<00:00, 725535.18it/s]\n",
      "07/29/2022 11:53:08 AM WARNING: face_normals incorrect shape, ignoring! \n"
     ]
    },
    {
     "name": "stdout",
     "output_type": "stream",
     "text": [
      "Warning: deduplication not currently supported for this layer's variable layered draco meshes\n"
     ]
    },
    {
     "name": "stderr",
     "output_type": "stream",
     "text": [
      "100%|██████████| 19620/19620 [00:00<00:00, 687602.31it/s]\n",
      "07/29/2022 11:53:12 AM WARNING: face_normals incorrect shape, ignoring! \n"
     ]
    },
    {
     "name": "stdout",
     "output_type": "stream",
     "text": [
      "Warning: deduplication not currently supported for this layer's variable layered draco meshes\n"
     ]
    },
    {
     "name": "stderr",
     "output_type": "stream",
     "text": [
      "100%|██████████| 1286/1286 [00:00<00:00, 338704.86it/s]\n",
      "07/29/2022 11:53:14 AM WARNING: face_normals incorrect shape, ignoring! \n"
     ]
    },
    {
     "name": "stdout",
     "output_type": "stream",
     "text": [
      "Warning: deduplication not currently supported for this layer's variable layered draco meshes\n"
     ]
    },
    {
     "name": "stderr",
     "output_type": "stream",
     "text": [
      "100%|██████████| 23442/23442 [00:00<00:00, 571687.83it/s]\n",
      "07/29/2022 11:53:19 AM WARNING: face_normals incorrect shape, ignoring! \n"
     ]
    },
    {
     "name": "stdout",
     "output_type": "stream",
     "text": [
      "Warning: deduplication not currently supported for this layer's variable layered draco meshes\n"
     ]
    },
    {
     "name": "stderr",
     "output_type": "stream",
     "text": [
      "100%|██████████| 36158/36158 [00:00<00:00, 529150.28it/s]\n",
      "07/29/2022 11:53:23 AM WARNING: face_normals incorrect shape, ignoring! \n"
     ]
    },
    {
     "name": "stdout",
     "output_type": "stream",
     "text": [
      "Warning: deduplication not currently supported for this layer's variable layered draco meshes\n"
     ]
    },
    {
     "name": "stderr",
     "output_type": "stream",
     "text": [
      "100%|██████████| 4826/4826 [00:00<00:00, 668330.01it/s]\n",
      "07/29/2022 11:53:25 AM WARNING: face_normals incorrect shape, ignoring! \n"
     ]
    },
    {
     "name": "stdout",
     "output_type": "stream",
     "text": [
      "Warning: deduplication not currently supported for this layer's variable layered draco meshes\n"
     ]
    },
    {
     "name": "stderr",
     "output_type": "stream",
     "text": [
      "100%|██████████| 1973/1973 [00:00<00:00, 468646.61it/s]\n",
      "07/29/2022 11:53:37 AM WARNING: face_normals incorrect shape, ignoring! \n"
     ]
    },
    {
     "name": "stdout",
     "output_type": "stream",
     "text": [
      "Warning: deduplication not currently supported for this layer's variable layered draco meshes\n"
     ]
    },
    {
     "name": "stderr",
     "output_type": "stream",
     "text": [
      "100%|██████████| 187763/187763 [00:06<00:00, 27688.06it/s]\n",
      "07/29/2022 11:54:11 AM WARNING: face_normals incorrect shape, ignoring! \n"
     ]
    },
    {
     "name": "stdout",
     "output_type": "stream",
     "text": [
      "Warning: deduplication not currently supported for this layer's variable layered draco meshes\n"
     ]
    },
    {
     "name": "stderr",
     "output_type": "stream",
     "text": [
      "100%|██████████| 485/485 [00:00<00:00, 184210.58it/s]\n",
      "07/29/2022 11:54:15 AM WARNING: face_normals incorrect shape, ignoring! \n"
     ]
    },
    {
     "name": "stdout",
     "output_type": "stream",
     "text": [
      "Warning: deduplication not currently supported for this layer's variable layered draco meshes\n"
     ]
    },
    {
     "name": "stderr",
     "output_type": "stream",
     "text": [
      "100%|██████████| 37232/37232 [00:00<00:00, 259474.39it/s]\n",
      "07/29/2022 11:54:19 AM WARNING: face_normals incorrect shape, ignoring! \n"
     ]
    },
    {
     "name": "stdout",
     "output_type": "stream",
     "text": [
      "Warning: deduplication not currently supported for this layer's variable layered draco meshes\n"
     ]
    },
    {
     "name": "stderr",
     "output_type": "stream",
     "text": [
      "100%|██████████| 2640/2640 [00:00<00:00, 350743.19it/s]\n",
      "07/29/2022 11:54:21 AM WARNING: face_normals incorrect shape, ignoring! \n"
     ]
    },
    {
     "name": "stdout",
     "output_type": "stream",
     "text": [
      "Warning: deduplication not currently supported for this layer's variable layered draco meshes\n"
     ]
    },
    {
     "name": "stderr",
     "output_type": "stream",
     "text": [
      "100%|██████████| 5980/5980 [00:00<00:00, 489977.30it/s]\n",
      "07/29/2022 11:54:23 AM WARNING: face_normals incorrect shape, ignoring! \n"
     ]
    },
    {
     "name": "stdout",
     "output_type": "stream",
     "text": [
      "Warning: deduplication not currently supported for this layer's variable layered draco meshes\n"
     ]
    },
    {
     "name": "stderr",
     "output_type": "stream",
     "text": [
      "100%|██████████| 7616/7616 [00:00<00:00, 495445.04it/s]\n",
      "07/29/2022 11:54:25 AM WARNING: face_normals incorrect shape, ignoring! \n"
     ]
    },
    {
     "name": "stdout",
     "output_type": "stream",
     "text": [
      "Warning: deduplication not currently supported for this layer's variable layered draco meshes\n"
     ]
    },
    {
     "name": "stderr",
     "output_type": "stream",
     "text": [
      "100%|██████████| 1211/1211 [00:00<00:00, 416472.79it/s]\n",
      "07/29/2022 11:54:26 AM WARNING: face_normals incorrect shape, ignoring! \n"
     ]
    },
    {
     "name": "stdout",
     "output_type": "stream",
     "text": [
      "Warning: deduplication not currently supported for this layer's variable layered draco meshes\n"
     ]
    },
    {
     "name": "stderr",
     "output_type": "stream",
     "text": [
      "100%|██████████| 1359/1359 [00:00<00:00, 369797.53it/s]\n",
      "07/29/2022 11:54:28 AM WARNING: face_normals incorrect shape, ignoring! \n"
     ]
    },
    {
     "name": "stdout",
     "output_type": "stream",
     "text": [
      "Warning: deduplication not currently supported for this layer's variable layered draco meshes\n"
     ]
    },
    {
     "name": "stderr",
     "output_type": "stream",
     "text": [
      "100%|██████████| 11308/11308 [00:00<00:00, 601008.54it/s]\n",
      "07/29/2022 11:54:30 AM WARNING: face_normals incorrect shape, ignoring! \n"
     ]
    },
    {
     "name": "stdout",
     "output_type": "stream",
     "text": [
      "Warning: deduplication not currently supported for this layer's variable layered draco meshes\n"
     ]
    },
    {
     "name": "stderr",
     "output_type": "stream",
     "text": [
      "100%|██████████| 191/191 [00:00<00:00, 145339.63it/s]\n",
      "07/29/2022 11:54:31 AM WARNING: face_normals incorrect shape, ignoring! \n"
     ]
    },
    {
     "name": "stdout",
     "output_type": "stream",
     "text": [
      "Warning: deduplication not currently supported for this layer's variable layered draco meshes\n"
     ]
    },
    {
     "name": "stderr",
     "output_type": "stream",
     "text": [
      "100%|██████████| 105/105 [00:00<00:00, 53878.39it/s]\n",
      "07/29/2022 11:54:32 AM WARNING: face_normals incorrect shape, ignoring! \n"
     ]
    },
    {
     "name": "stdout",
     "output_type": "stream",
     "text": [
      "Warning: deduplication not currently supported for this layer's variable layered draco meshes\n"
     ]
    },
    {
     "name": "stderr",
     "output_type": "stream",
     "text": [
      "100%|██████████| 7685/7685 [00:00<00:00, 377694.76it/s]\n",
      "07/29/2022 11:54:35 AM WARNING: face_normals incorrect shape, ignoring! \n"
     ]
    },
    {
     "name": "stdout",
     "output_type": "stream",
     "text": [
      "Warning: deduplication not currently supported for this layer's variable layered draco meshes\n"
     ]
    },
    {
     "name": "stderr",
     "output_type": "stream",
     "text": [
      "100%|██████████| 6048/6048 [00:00<00:00, 659692.37it/s]\n",
      "07/29/2022 11:54:37 AM WARNING: face_normals incorrect shape, ignoring! \n"
     ]
    },
    {
     "name": "stdout",
     "output_type": "stream",
     "text": [
      "Warning: deduplication not currently supported for this layer's variable layered draco meshes\n"
     ]
    },
    {
     "name": "stderr",
     "output_type": "stream",
     "text": [
      "100%|██████████| 6896/6896 [00:00<00:00, 499998.62it/s]\n",
      "07/29/2022 11:54:38 AM WARNING: face_normals incorrect shape, ignoring! \n"
     ]
    },
    {
     "name": "stdout",
     "output_type": "stream",
     "text": [
      "Warning: deduplication not currently supported for this layer's variable layered draco meshes\n"
     ]
    },
    {
     "name": "stderr",
     "output_type": "stream",
     "text": [
      "100%|██████████| 2858/2858 [00:00<00:00, 624404.67it/s]\n",
      "07/29/2022 11:54:40 AM WARNING: face_normals incorrect shape, ignoring! \n"
     ]
    },
    {
     "name": "stdout",
     "output_type": "stream",
     "text": [
      "Warning: deduplication not currently supported for this layer's variable layered draco meshes\n"
     ]
    },
    {
     "name": "stderr",
     "output_type": "stream",
     "text": [
      "100%|██████████| 4775/4775 [00:00<00:00, 498179.23it/s]\n",
      "07/29/2022 11:54:41 AM WARNING: face_normals incorrect shape, ignoring! \n"
     ]
    },
    {
     "name": "stdout",
     "output_type": "stream",
     "text": [
      "Warning: deduplication not currently supported for this layer's variable layered draco meshes\n"
     ]
    },
    {
     "name": "stderr",
     "output_type": "stream",
     "text": [
      "100%|██████████| 1010/1010 [00:00<00:00, 365666.56it/s]\n",
      "07/29/2022 11:54:43 AM WARNING: face_normals incorrect shape, ignoring! \n"
     ]
    },
    {
     "name": "stdout",
     "output_type": "stream",
     "text": [
      "Warning: deduplication not currently supported for this layer's variable layered draco meshes\n"
     ]
    },
    {
     "name": "stderr",
     "output_type": "stream",
     "text": [
      "100%|██████████| 8895/8895 [00:00<00:00, 548563.23it/s]\n",
      "07/29/2022 11:54:45 AM WARNING: face_normals incorrect shape, ignoring! \n"
     ]
    },
    {
     "name": "stdout",
     "output_type": "stream",
     "text": [
      "Warning: deduplication not currently supported for this layer's variable layered draco meshes\n",
      "\n",
      "\n",
      "Seg 864691132747855184 returned error on get. Skipping.\n",
      "\n"
     ]
    },
    {
     "name": "stderr",
     "output_type": "stream",
     "text": [
      "07/29/2022 11:54:51 AM WARNING: face_normals incorrect shape, ignoring! \n"
     ]
    },
    {
     "name": "stdout",
     "output_type": "stream",
     "text": [
      "Warning: deduplication not currently supported for this layer's variable layered draco meshes\n"
     ]
    },
    {
     "name": "stderr",
     "output_type": "stream",
     "text": [
      "100%|██████████| 126419/126419 [00:00<00:00, 284342.10it/s]\n",
      "07/29/2022 11:55:05 AM WARNING: face_normals incorrect shape, ignoring! \n"
     ]
    },
    {
     "name": "stdout",
     "output_type": "stream",
     "text": [
      "Warning: deduplication not currently supported for this layer's variable layered draco meshes\n"
     ]
    },
    {
     "name": "stderr",
     "output_type": "stream",
     "text": [
      "100%|██████████| 22194/22194 [00:00<00:00, 360790.90it/s]\n",
      "07/29/2022 11:55:10 AM WARNING: face_normals incorrect shape, ignoring! \n"
     ]
    },
    {
     "name": "stdout",
     "output_type": "stream",
     "text": [
      "Warning: deduplication not currently supported for this layer's variable layered draco meshes\n"
     ]
    },
    {
     "name": "stderr",
     "output_type": "stream",
     "text": [
      "100%|██████████| 33346/33346 [00:00<00:00, 469290.98it/s]\n",
      "07/29/2022 11:55:15 AM WARNING: face_normals incorrect shape, ignoring! \n"
     ]
    },
    {
     "name": "stdout",
     "output_type": "stream",
     "text": [
      "Warning: deduplication not currently supported for this layer's variable layered draco meshes\n"
     ]
    },
    {
     "name": "stderr",
     "output_type": "stream",
     "text": [
      "100%|██████████| 22364/22364 [00:00<00:00, 484844.52it/s]\n",
      "07/29/2022 11:55:18 AM WARNING: face_normals incorrect shape, ignoring! \n"
     ]
    },
    {
     "name": "stdout",
     "output_type": "stream",
     "text": [
      "Warning: deduplication not currently supported for this layer's variable layered draco meshes\n"
     ]
    },
    {
     "name": "stderr",
     "output_type": "stream",
     "text": [
      "100%|██████████| 152/152 [00:00<00:00, 105255.77it/s]\n",
      "07/29/2022 11:55:20 AM WARNING: face_normals incorrect shape, ignoring! \n"
     ]
    },
    {
     "name": "stdout",
     "output_type": "stream",
     "text": [
      "Warning: deduplication not currently supported for this layer's variable layered draco meshes\n"
     ]
    },
    {
     "name": "stderr",
     "output_type": "stream",
     "text": [
      "100%|██████████| 5763/5763 [00:00<00:00, 665925.78it/s]\n",
      "07/29/2022 11:55:22 AM WARNING: face_normals incorrect shape, ignoring! \n"
     ]
    },
    {
     "name": "stdout",
     "output_type": "stream",
     "text": [
      "Warning: deduplication not currently supported for this layer's variable layered draco meshes\n",
      "\n",
      "\n",
      "Seg 864691136347887475 returned error on get. Skipping.\n",
      "\n"
     ]
    },
    {
     "name": "stderr",
     "output_type": "stream",
     "text": [
      "07/29/2022 11:55:23 AM WARNING: face_normals incorrect shape, ignoring! \n"
     ]
    },
    {
     "name": "stdout",
     "output_type": "stream",
     "text": [
      "Warning: deduplication not currently supported for this layer's variable layered draco meshes\n"
     ]
    },
    {
     "name": "stderr",
     "output_type": "stream",
     "text": [
      "100%|██████████| 1905/1905 [00:00<00:00, 465762.12it/s]\n",
      "07/29/2022 11:55:24 AM WARNING: face_normals incorrect shape, ignoring! \n"
     ]
    },
    {
     "name": "stdout",
     "output_type": "stream",
     "text": [
      "Warning: deduplication not currently supported for this layer's variable layered draco meshes\n"
     ]
    },
    {
     "name": "stderr",
     "output_type": "stream",
     "text": [
      "100%|██████████| 138/138 [00:00<00:00, 77661.87it/s]\n",
      "07/29/2022 11:55:27 AM WARNING: face_normals incorrect shape, ignoring! \n"
     ]
    },
    {
     "name": "stdout",
     "output_type": "stream",
     "text": [
      "Warning: deduplication not currently supported for this layer's variable layered draco meshes\n"
     ]
    },
    {
     "name": "stderr",
     "output_type": "stream",
     "text": [
      "100%|██████████| 11909/11909 [00:00<00:00, 558530.78it/s]\n",
      "07/29/2022 11:55:29 AM WARNING: face_normals incorrect shape, ignoring! \n"
     ]
    },
    {
     "name": "stdout",
     "output_type": "stream",
     "text": [
      "Warning: deduplication not currently supported for this layer's variable layered draco meshes\n",
      "\n",
      "\n",
      "Seg 864691133525367772 returned error on get. Skipping.\n",
      "\n"
     ]
    },
    {
     "name": "stderr",
     "output_type": "stream",
     "text": [
      "07/29/2022 11:55:34 AM WARNING: face_normals incorrect shape, ignoring! \n"
     ]
    },
    {
     "name": "stdout",
     "output_type": "stream",
     "text": [
      "Warning: deduplication not currently supported for this layer's variable layered draco meshes\n"
     ]
    },
    {
     "name": "stderr",
     "output_type": "stream",
     "text": [
      "100%|██████████| 120275/120275 [00:00<00:00, 207453.27it/s]\n",
      "07/29/2022 11:55:53 AM WARNING: face_normals incorrect shape, ignoring! \n"
     ]
    },
    {
     "name": "stdout",
     "output_type": "stream",
     "text": [
      "Warning: deduplication not currently supported for this layer's variable layered draco meshes\n"
     ]
    },
    {
     "name": "stderr",
     "output_type": "stream",
     "text": [
      "100%|██████████| 202161/202161 [00:01<00:00, 173097.29it/s]\n",
      "07/29/2022 11:56:15 AM WARNING: face_normals incorrect shape, ignoring! \n"
     ]
    },
    {
     "name": "stdout",
     "output_type": "stream",
     "text": [
      "Warning: deduplication not currently supported for this layer's variable layered draco meshes\n"
     ]
    },
    {
     "name": "stderr",
     "output_type": "stream",
     "text": [
      "100%|██████████| 194/194 [00:00<00:00, 93668.12it/s]\n",
      "07/29/2022 11:56:17 AM WARNING: face_normals incorrect shape, ignoring! \n"
     ]
    },
    {
     "name": "stdout",
     "output_type": "stream",
     "text": [
      "Warning: deduplication not currently supported for this layer's variable layered draco meshes\n"
     ]
    },
    {
     "name": "stderr",
     "output_type": "stream",
     "text": [
      "100%|██████████| 128/128 [00:00<00:00, 46884.19it/s]\n",
      "07/29/2022 11:56:18 AM WARNING: face_normals incorrect shape, ignoring! \n"
     ]
    },
    {
     "name": "stdout",
     "output_type": "stream",
     "text": [
      "Warning: deduplication not currently supported for this layer's variable layered draco meshes\n"
     ]
    },
    {
     "name": "stderr",
     "output_type": "stream",
     "text": [
      "100%|██████████| 266/266 [00:00<00:00, 125062.76it/s]\n",
      "07/29/2022 11:56:19 AM WARNING: face_normals incorrect shape, ignoring! \n"
     ]
    },
    {
     "name": "stdout",
     "output_type": "stream",
     "text": [
      "Warning: deduplication not currently supported for this layer's variable layered draco meshes\n"
     ]
    },
    {
     "name": "stderr",
     "output_type": "stream",
     "text": [
      "100%|██████████| 1532/1532 [00:00<00:00, 336616.57it/s]\n",
      "07/29/2022 11:56:20 AM WARNING: face_normals incorrect shape, ignoring! \n"
     ]
    },
    {
     "name": "stdout",
     "output_type": "stream",
     "text": [
      "Warning: deduplication not currently supported for this layer's variable layered draco meshes\n"
     ]
    },
    {
     "name": "stderr",
     "output_type": "stream",
     "text": [
      "100%|██████████| 2876/2876 [00:00<00:00, 587799.35it/s]\n",
      "07/29/2022 11:56:22 AM WARNING: face_normals incorrect shape, ignoring! \n"
     ]
    },
    {
     "name": "stdout",
     "output_type": "stream",
     "text": [
      "Warning: deduplication not currently supported for this layer's variable layered draco meshes\n"
     ]
    },
    {
     "name": "stderr",
     "output_type": "stream",
     "text": [
      "100%|██████████| 4484/4484 [00:00<00:00, 610803.78it/s]\n",
      "07/29/2022 11:56:24 AM WARNING: face_normals incorrect shape, ignoring! \n"
     ]
    },
    {
     "name": "stdout",
     "output_type": "stream",
     "text": [
      "Warning: deduplication not currently supported for this layer's variable layered draco meshes\n"
     ]
    },
    {
     "name": "stderr",
     "output_type": "stream",
     "text": [
      "100%|██████████| 13121/13121 [00:00<00:00, 520199.47it/s]\n",
      "07/29/2022 11:56:26 AM WARNING: face_normals incorrect shape, ignoring! \n"
     ]
    },
    {
     "name": "stdout",
     "output_type": "stream",
     "text": [
      "Warning: deduplication not currently supported for this layer's variable layered draco meshes\n"
     ]
    },
    {
     "name": "stderr",
     "output_type": "stream",
     "text": [
      "100%|██████████| 1758/1758 [00:00<00:00, 496470.94it/s]\n",
      "07/29/2022 11:56:28 AM WARNING: face_normals incorrect shape, ignoring! \n"
     ]
    },
    {
     "name": "stdout",
     "output_type": "stream",
     "text": [
      "Warning: deduplication not currently supported for this layer's variable layered draco meshes\n",
      "\n",
      "\n",
      "Seg 864691132647441812 returned error on get. Skipping.\n",
      "\n"
     ]
    },
    {
     "name": "stderr",
     "output_type": "stream",
     "text": [
      "07/29/2022 11:56:30 AM WARNING: face_normals incorrect shape, ignoring! \n"
     ]
    },
    {
     "name": "stdout",
     "output_type": "stream",
     "text": [
      "Warning: deduplication not currently supported for this layer's variable layered draco meshes\n"
     ]
    },
    {
     "name": "stderr",
     "output_type": "stream",
     "text": [
      "100%|██████████| 20125/20125 [00:00<00:00, 403250.29it/s]\n",
      "07/29/2022 11:56:34 AM WARNING: face_normals incorrect shape, ignoring! \n"
     ]
    },
    {
     "name": "stdout",
     "output_type": "stream",
     "text": [
      "Warning: deduplication not currently supported for this layer's variable layered draco meshes\n"
     ]
    },
    {
     "name": "stderr",
     "output_type": "stream",
     "text": [
      "100%|██████████| 11410/11410 [00:00<00:00, 782207.33it/s]\n",
      "07/29/2022 11:56:38 AM WARNING: face_normals incorrect shape, ignoring! \n"
     ]
    },
    {
     "name": "stdout",
     "output_type": "stream",
     "text": [
      "Warning: deduplication not currently supported for this layer's variable layered draco meshes\n"
     ]
    },
    {
     "name": "stderr",
     "output_type": "stream",
     "text": [
      "100%|██████████| 15601/15601 [00:00<00:00, 693530.93it/s]\n",
      "07/29/2022 11:56:40 AM WARNING: face_normals incorrect shape, ignoring! \n"
     ]
    },
    {
     "name": "stdout",
     "output_type": "stream",
     "text": [
      "Warning: deduplication not currently supported for this layer's variable layered draco meshes\n",
      "\n",
      "\n",
      "Seg 864691136597387729 returned error on get. Skipping.\n",
      "\n"
     ]
    },
    {
     "name": "stderr",
     "output_type": "stream",
     "text": [
      "07/29/2022 11:56:44 AM WARNING: face_normals incorrect shape, ignoring! \n"
     ]
    },
    {
     "name": "stdout",
     "output_type": "stream",
     "text": [
      "Warning: deduplication not currently supported for this layer's variable layered draco meshes\n"
     ]
    },
    {
     "name": "stderr",
     "output_type": "stream",
     "text": [
      "100%|██████████| 13348/13348 [00:00<00:00, 570280.42it/s]\n",
      "07/29/2022 11:56:46 AM WARNING: face_normals incorrect shape, ignoring! \n"
     ]
    },
    {
     "name": "stdout",
     "output_type": "stream",
     "text": [
      "Warning: deduplication not currently supported for this layer's variable layered draco meshes\n"
     ]
    },
    {
     "name": "stderr",
     "output_type": "stream",
     "text": [
      "100%|██████████| 2543/2543 [00:00<00:00, 549120.42it/s]\n",
      "07/29/2022 11:56:49 AM WARNING: face_normals incorrect shape, ignoring! \n"
     ]
    },
    {
     "name": "stdout",
     "output_type": "stream",
     "text": [
      "Warning: deduplication not currently supported for this layer's variable layered draco meshes\n"
     ]
    },
    {
     "name": "stderr",
     "output_type": "stream",
     "text": [
      "100%|██████████| 13258/13258 [00:00<00:00, 557223.13it/s]\n",
      "07/29/2022 11:56:51 AM WARNING: face_normals incorrect shape, ignoring! \n"
     ]
    },
    {
     "name": "stdout",
     "output_type": "stream",
     "text": [
      "Warning: deduplication not currently supported for this layer's variable layered draco meshes\n"
     ]
    },
    {
     "name": "stderr",
     "output_type": "stream",
     "text": [
      "100%|██████████| 9618/9618 [00:00<00:00, 728594.42it/s]\n",
      "07/29/2022 11:56:57 AM WARNING: face_normals incorrect shape, ignoring! \n"
     ]
    },
    {
     "name": "stdout",
     "output_type": "stream",
     "text": [
      "Warning: deduplication not currently supported for this layer's variable layered draco meshes\n"
     ]
    },
    {
     "name": "stderr",
     "output_type": "stream",
     "text": [
      "100%|██████████| 38734/38734 [00:00<00:00, 147960.69it/s]\n",
      "07/29/2022 11:57:02 AM WARNING: face_normals incorrect shape, ignoring! \n"
     ]
    },
    {
     "name": "stdout",
     "output_type": "stream",
     "text": [
      "Warning: deduplication not currently supported for this layer's variable layered draco meshes\n"
     ]
    },
    {
     "name": "stderr",
     "output_type": "stream",
     "text": [
      "100%|██████████| 811/811 [00:00<00:00, 260517.77it/s]\n",
      "07/29/2022 11:57:03 AM WARNING: face_normals incorrect shape, ignoring! \n"
     ]
    },
    {
     "name": "stdout",
     "output_type": "stream",
     "text": [
      "Warning: deduplication not currently supported for this layer's variable layered draco meshes\n"
     ]
    },
    {
     "name": "stderr",
     "output_type": "stream",
     "text": [
      "100%|██████████| 9313/9313 [00:00<00:00, 461382.36it/s]\n"
     ]
    },
    {
     "name": "stdout",
     "output_type": "stream",
     "text": [
      "[[  99.46356117 4423.90008929]\n",
      " [4415.78452826   24.37211521]]\n",
      "[[ 146.85366866 5470.51569781 9272.57704201]\n",
      " [5554.85157317  495.77414213 8350.73439884]\n",
      " [9231.09576378 8664.4402589   368.27978495]]\n",
      "skipping \n",
      "\n",
      "skipping \n",
      "\n",
      "[[173.70377083 226.46191733]\n",
      " [146.63560277 252.88337233]]\n",
      "[[358.60842154 495.25548962]\n",
      " [491.02851241 233.07724042]]\n",
      "[[  65.7267069  4494.89933146]\n",
      " [4475.84450132  624.97999968]]\n",
      "[[901.23748258 517.58284361]\n",
      " [826.68313156 572.19926599]]\n",
      "skipping \n",
      "\n",
      "[[648.0686692   81.63332653]\n",
      " [107.42904635 605.6153895 ]]\n",
      "[[ 4128.18483113  3189.93291466    91.23595782]\n",
      " [  170.76592166  3482.68416598  4007.43771006]\n",
      " [11292.02129824  8929.37315829 11956.89278199]\n",
      " [13982.45489891 13733.27073206 16546.69710244]\n",
      " [ 7099.01887587  3574.97762231  6076.14853341]]\n",
      "[[8128.64742746  864.88033854]\n",
      " [ 315.13171849 8280.50898194]]\n",
      "[[  802.63628126  3717.38079836 10550.35264813]\n",
      " [10174.82270116  7734.51601589   253.21334878]\n",
      " [ 3197.35218579   939.4423878   8381.84043036]]\n",
      "[[  657.3864921  12356.94270441]\n",
      " [12607.73147715    40.01249805]]\n",
      "[[358.52057124  26.07680962]\n",
      " [ 56.04462508 314.89680849]]\n",
      "[[ 632.51561246  629.52442367]\n",
      " [ 642.04750603 1205.60773057]]\n",
      "skipping \n",
      "\n",
      "[[ 37.36308338 514.76693756]\n",
      " [501.74196556  38.85871846]]\n",
      "[[34041.63876784 31834.05071617 24858.62701357  1196.39165828]\n",
      " [  281.82441342  2356.785947    9314.39455896 33086.30786292]]\n",
      "[[4675.35089592  353.72022843]\n",
      " [  88.20430828 4446.01304541]]\n",
      "[[123.97580409 682.20231603]\n",
      " [594.66797459  82.21921916]]\n",
      "[[  96.42095208 1749.52479262]\n",
      " [1622.45369734  458.97712361]]\n",
      "[[3712.40905613  559.51407489]\n",
      " [ 239.59340559 4046.79725215]]\n",
      "skipping \n",
      "\n",
      "[[1026.45214209  801.50483467]\n",
      " [ 513.0984311  1353.38095154]\n",
      " [ 994.47724961  182.20043908]]\n",
      "[[ 315.70397527 1909.91203986]\n",
      " [1556.73568726  809.35838786]]\n",
      "[[13630.80280101    38.94868419]\n",
      " [  830.40291425 13620.68739088]]\n",
      "[[562.729953   135.3070582 ]\n",
      " [126.54643417 595.58794481]]\n",
      "[[ 101.93134945 4868.93725571]\n",
      " [4959.18098077   30.72458299]]\n",
      "[[  48.88762625 5029.54560572]\n",
      " [5920.58147482 2289.41040445]]\n",
      "[[  14.86606875 8083.54829267]\n",
      " [8031.90002428  139.17614738]]\n",
      "[[3140.96879959  548.80324343]\n",
      " [ 217.33154396 2828.26536944]]\n",
      "[[ 774.19700335 5053.42309727]\n",
      " [ 612.68670624 5120.38758299]\n",
      " [5673.50209306   84.        ]]\n",
      "[[16271.3315374   1838.26983873]\n",
      " [  758.89656739 17297.52901428]]\n",
      "[[14102.25460698  6289.34654793  7228.31847666  7941.92375939\n",
      "   5860.16083397   120.65653733  6205.24366967]\n",
      " [13490.80360838  9103.78871679  8456.15261215  9887.33209718\n",
      "   7570.78463569  6137.64686179   114.27160627]\n",
      " [ 7142.88849136  2328.45721455    39.86226286  4800.11812355\n",
      "   3143.47228396  7310.09336466  8508.53077799]\n",
      " [ 8983.21668446   151.01324445  2230.20738946  5433.86602706\n",
      "   3803.59303817  6365.88320659  9125.85612422]\n",
      " [   82.56512581  9018.89682833  7064.19705274  8417.82305587\n",
      "   8702.44362234 14172.27271823 13451.78148053]]\n",
      "[[5794.38529958 6356.7184144   135.32183859]\n",
      " [2064.61449186   16.88194302 6440.60478527]]\n",
      "[[4.50567954e+04 1.95527682e+04 4.32130717e+04 3.61400069e+04\n",
      "  2.88308804e+04 1.60921288e+04 2.43874006e+04 3.96036614e+02\n",
      "  6.84594369e+03 2.76317840e+04 2.11539684e+04]\n",
      " [4.96027166e+04 3.50540310e+04 4.65528773e+04 4.10964200e+04\n",
      "  3.51900786e+04 2.56049446e+04 2.81851677e+04 2.11822273e+04\n",
      "  1.94390054e+04 2.59480859e+04 1.19770614e+02]\n",
      " [3.94565994e+04 1.76924279e+04 3.74326762e+04 3.04801133e+04\n",
      "  2.33836711e+04 1.05374384e+04 1.87831214e+04 6.75872325e+03\n",
      "  3.05754804e+02 2.17274451e+04 1.97742795e+04]\n",
      " [3.08923464e+04 2.94788059e+01 3.02752051e+04 2.33337256e+04\n",
      "  1.68508351e+04 1.21898493e+04 1.72754401e+04 1.92451296e+04\n",
      "  1.78571114e+04 2.40759315e+04 3.50968094e+04]\n",
      " [2.39736267e+04 2.40849685e+04 2.07564881e+04 1.61690038e+04\n",
      "  1.25535155e+04 1.44435247e+04 7.05194562e+03 2.75182756e+04\n",
      "  2.15612117e+04 5.80689246e+01 2.59303084e+04]\n",
      " [1.69526623e+04 3.74175293e+04 1.44405559e+04 1.79942325e+04\n",
      "  2.22190963e+04 3.27249794e+04 2.34454581e+04 4.72716312e+04\n",
      "  4.18426409e+04 2.11124565e+04 4.53483959e+04]\n",
      " [1.71688672e+02 3.07966662e+04 3.50946221e+03 8.88641829e+03\n",
      "  1.61709604e+04 2.89191754e+04 2.21129889e+04 4.47682982e+04\n",
      "  3.93289749e+04 2.38090284e+04 4.94339803e+04]]\n",
      "[[  150.56227947 10139.99802761  9720.50770279]\n",
      " [10274.09363399   239.8353602   4692.46470418]\n",
      " [ 9706.69093976  5391.09562149   749.00333778]]\n",
      "[[13287.84832093 11924.3910117  12666.62338589 10743.91027513\n",
      "  11108.58933438]\n",
      " [11162.08313891  3678.04567671  1975.96685195  2588.36801866\n",
      "   1021.83266732]\n",
      " [  314.23717158  7707.22965793 10312.37799928  8624.81443279\n",
      "  11753.47782573]]\n",
      "[[   41.43669871 20114.63521916]\n",
      " [20059.3399692     97.90301323]]\n",
      "skipping \n",
      "\n",
      "[[ 385.75121516 2269.35453378 6356.16551075]\n",
      " [2036.26913742   15.16575089 6922.34208921]\n",
      " [6698.05232885 6982.27677767  196.23710149]]\n",
      "skipping \n",
      "\n",
      "[[10766.71491217 10795.95850307  7354.95622013    89.10667764]\n",
      " [ 5875.00306383  5399.21003481    32.06243908  7446.11099837]\n",
      " [ 1426.61312205   156.08010764  5577.4343564  10982.13553914]]\n",
      "[[  180.29143074 25361.66280038]\n",
      " [25233.5133503     26.17250466]]\n",
      "skipping \n",
      "\n",
      "[[1325.23507349  387.45967532 3857.5413154 ]\n",
      " [3161.97991771 3651.31401005  211.43793416]]\n",
      "[[8038.83362186 5166.50055647  339.53055827]\n",
      " [3601.18841495   24.         5241.9398127 ]\n",
      " [  61.77378085 3587.78065104 8078.02457288]]\n",
      "skipping \n",
      "\n",
      "skipping \n",
      "\n",
      "[[ 134.33167906 2601.44056246]\n",
      " [2675.36726451   16.43167673]]\n",
      "[[  102.32301794  3504.01198628 11723.69967203]\n",
      " [11797.9401592   9240.54619598    50.19960159]]\n",
      "[[352.76054201 152.72524349]\n",
      " [ 21.3541565  455.48325985]]\n",
      "[[1699.82499099   26.92582404]\n",
      " [  27.07397274 1686.14619769]]\n",
      "[[ 12735.57372088  35001.25403468  26599.29173869  31009.2873346\n",
      "   18918.2796258   21415.43819304    195.        ]\n",
      " [   301.27230208  29328.06330121  20596.38774154  25772.44656605\n",
      "   13893.6083506   16828.08046094  12851.58239284]\n",
      " [ 64509.84775211  35976.8216634   45516.34141712  40144.50859084\n",
      "   52716.28075841  49759.24316145  70017.38436988]\n",
      " [ 72187.74902295  42949.80131502  52173.1623155   46692.69514603\n",
      "   59320.50088292  56256.50353515  76470.50367298]\n",
      " [ 68360.7938295   40015.56258507  49292.89741941  44239.97294303\n",
      "   56826.52029642  53986.53469153  74924.55799002]\n",
      " [113576.93540504  85373.08518497  94868.54986243  89575.09471388\n",
      "  102162.50138872  99230.29741465 119370.20541576]\n",
      " [ 58934.454074    31081.74507649  40358.9344012   35395.96869701\n",
      "   47788.1562419   45007.34462285  65755.84007524]\n",
      " [ 66034.22107514  38490.39684129  47676.72327247  42804.27198306\n",
      "   55135.50566559  52394.03532846  73148.50202157]]\n",
      "skipping \n",
      "\n",
      "[[3118.03624097 2715.30403454  182.75940468]\n",
      " [1867.67609612  341.8420688  2969.0680356 ]\n",
      " [ 237.05906437 1942.45128639 3063.23195335]]\n",
      "[[ 179.55779014 8997.95098898]\n",
      " [9016.72512612   18.13835715]]\n",
      "[[355.19149765 487.7191815 ]\n",
      " [ 49.04079934 707.92513729]]\n",
      "[[33091.47897873  5453.96452134   128.77888026]\n",
      " [ 1215.36002896 27800.90027319 33288.84685597]]\n",
      "[[4091.22108911   18.86796226]\n",
      " [  40.80441153 4068.75226574]]\n",
      "[[10109.88036527   155.2836115 ]\n",
      " [   16.88194302 10227.94920793]]\n",
      "skipping \n",
      "\n",
      "[[3.76209746e+04 4.17216896e+04 4.24502617e+04 1.40036211e+04\n",
      "  1.24854545e+04 8.62515374e+03 8.03767485e+03 3.10644491e+01]\n",
      " [1.54378187e+04 3.68919409e+03 7.89936706e+01 3.35119813e+04\n",
      "  3.41707110e+04 3.56190252e+04 3.73391194e+04 4.23995665e+04]]\n",
      "[[1.53406421e+03 1.94164878e+01 3.84468895e+04]\n",
      " [3.81276523e+04 3.84133919e+04 4.12310563e+01]]\n",
      "[[19864.73951503 22595.52814165  7738.78207472   444.96404349]\n",
      " [11735.7593704  15914.75818227  2189.38347486  9321.85051371]\n",
      " [ 5936.93329927    59.8414572  15733.12788355 22988.30224266]]\n",
      "[[2617.98242928   58.9067059 ]\n",
      " [ 134.12680567 2526.06650744]]\n",
      "skipping \n",
      "\n",
      "[[2181.11118469 6958.83675624  434.84365006]\n",
      " [5488.58141964  606.60118694 6716.95593256]]\n",
      "skipping \n",
      "\n",
      "skipping \n",
      "\n",
      "[[728.33646071 821.10291681]\n",
      " [536.80257078  56.96490147]]\n",
      "[[ 3909.81099287    28.72281323 25144.70258325]\n",
      " [23509.82254293 25148.07199369    48.60041152]]\n",
      "[[  131.48383931 12935.8821887  21815.46309387]\n",
      " [13095.24799307   399.20921833 18095.85814489]\n",
      " [21916.76173617 18056.13737763    64.90762667]]\n",
      "[[  46.43274706 5320.16447114]\n",
      " [5685.48617094  461.89284472]]\n",
      "[[3211.97073461   38.89730068]\n",
      " [  30.7408523  3229.0676673 ]]\n",
      "skipping \n",
      "\n",
      "[[620.95813063 151.21177203]\n",
      " [218.73499949 552.63821801]]\n",
      "skipping \n",
      "\n",
      "[[1430.60267021  183.84776311 2427.92298066]\n",
      " [1941.98455195 2540.09133694   20.14944168]]\n",
      "[[   31.89043744 12745.44314647]\n",
      " [12741.17047213    30.01666204]]\n",
      "[[7605.6870827    88.60022573 9508.79498149]\n",
      " [6684.9412862  9589.93879021   31.144823  ]\n",
      " [  43.79497688 7638.56138288 6656.71961254]]\n",
      "[[ 935.98344002 2534.72089193]\n",
      " [1850.50506619   62.        ]]\n",
      "[[1619.99876543 1284.47070811]\n",
      " [ 105.89145386 1031.67824442]]\n",
      "[[   75.74958746  6510.60058674 11021.62478948]\n",
      " [11065.46799733  4853.89328272   248.2035455 ]]\n",
      "skipping \n",
      "\n",
      "[[310.85366332  23.02172887]\n",
      " [ 62.4899992  303.19135872]]\n",
      "skipping \n",
      "\n",
      "[[   40.31128874 12244.73049928]\n",
      " [12212.52574204    46.09772229]]\n",
      "[[ 5963.93569717 14680.46378695    96.64884893]\n",
      " [ 9660.69666225    65.32993188 14711.3417471 ]]\n",
      "[[1109.86485664 3692.88505101]\n",
      " [2858.46899581   32.26453161]]\n",
      "[[4383.26647604 6625.7616166   805.82938641]\n",
      " [2635.96092536   45.475268   6080.72758804]]\n",
      "[[299.8349546  881.41080093]\n",
      " [776.66273246  45.48626166]]\n",
      "[[4345.46487732  142.46754016 8994.61805748]\n",
      " [7223.4288257  9523.42816427  725.81333688]]\n",
      "skipping \n",
      "\n",
      "[[ 50971.90969544 104903.52570338  68877.84624972  69601.12287169\n",
      "   50977.3090404   37501.3884543   32724.09505242    223.90176417]\n",
      " [   247.97177259  58257.45934213  23492.67945552  24605.16199906\n",
      "   12148.74944181  16729.28868781  21044.78008913  51145.82626178]\n",
      " [ 58174.28027058    167.16458955  36412.88591969  35762.25286528\n",
      "   55096.19992341  68432.88695503  72770.63700422 104960.22963485]]\n",
      "skipping \n",
      "\n",
      "[[ 1169.28396893    47.93745926 20369.20933664 21178.14800685\n",
      "  22693.15000171]\n",
      " [22746.87391709 22677.40836163  2769.20656507  1592.80413108\n",
      "     47.16990566]]\n",
      "[[11691.13086917  9801.80677222  9378.60570661   235.75623003]\n",
      " [  208.540164   15491.69041777  2728.81384488 11749.98114892]\n",
      " [15814.15486202   354.9154829  14240.8687235   9929.1142606 ]]\n",
      "skipping \n",
      "\n",
      "[[7405.00506414   71.86793444]\n",
      " [1041.80468419 7166.27378768]]\n",
      "skipping \n",
      "\n",
      "[[ 241.85532866 1607.08244966]\n",
      " [1651.96277198  120.70211266]]\n",
      "[[ 45.12205669 225.22211259]\n",
      " [239.06066176  56.64803615]]\n",
      "[[5477.85049084  865.63560463 9255.64584456]\n",
      " [5316.68176591 8598.90365105  211.10423965]]\n",
      "skipping \n",
      "\n",
      "[[  591.34930456 22345.55718706 20834.35396167 32221.76342164\n",
      "  28132.42209622 18346.75491742 23968.62065285 28552.57153042\n",
      "  33621.04781235 33355.17911809 35467.64570704 26253.03237723]\n",
      " [21964.59917686    74.97332859 25135.39575976 14815.47046165\n",
      "  11708.64885459 18790.40406697 19885.16142756 17245.05610313\n",
      "  16683.97137974 17666.75004068 20839.42103322 19991.73929402]\n",
      " [29138.15301285 12566.00003979 23355.91762274  4316.74194272\n",
      "   1159.97499973 16395.49111799 13768.579629    7046.28299176\n",
      "   4531.07856917  5175.55340036  8393.80205866 12749.20985787]\n",
      " [21090.70212203 25336.70917858   172.11914478 24363.70587575\n",
      "  22715.49966433 12222.70174716 11740.74060696 18521.69303816\n",
      "  26040.63236559 24634.55499903 26155.31903839 19618.24959062]\n",
      " [24017.2248605  19923.11566999 11706.35541063 15462.8802621\n",
      "  13167.82537096  6541.77804576    35.4964787   7777.74935312\n",
      "  15798.07925034 14257.72527439 15129.8856572   8555.66064077]\n",
      " [26686.70335579 20175.2463182  19779.53500465 15804.26904352\n",
      "  12219.50281313  9519.67488941  8702.17133824  8666.01898221\n",
      "  14056.78661715 12916.80796482 12349.07211089   325.30754679]\n",
      " [29086.42803783 17484.98452959 18847.49917098  7881.35775105\n",
      "   6918.81991383 13060.30818932  8317.81377527   714.30035699\n",
      "   7654.9833442   5982.61548154  7460.83520794  9368.27225266]\n",
      " [32272.01637642 15114.68084347 24389.70065417   271.99448524\n",
      "   5440.21801034 19388.34982664 15544.6416813   8389.15573821\n",
      "   4053.78995509  4594.41759095  8307.25544329 15990.67359432]\n",
      " [33505.35419899 16721.38427284 26019.9288431   4125.32277525\n",
      "   5654.70361734 19484.60659084 15827.77501735  8099.26965843\n",
      "     36.74234614  2126.70073118  5012.11991078 14217.90297477]\n",
      " [35371.1980289  20700.96582288 26253.68037057  8304.35271409\n",
      "   9062.62461983 19458.9074719  15245.72936924  7930.21468814\n",
      "   4822.75854672  3690.78555324   291.10135692 12630.15601646]]\n",
      "skipping \n",
      "\n",
      "skipping \n",
      "\n",
      "skipping \n",
      "\n",
      "skipping \n",
      "\n",
      "[[1773.9574403   262.78698598]\n",
      " [  12.36931688 1964.69157885]]\n",
      "[[2931.81121493   94.95261976]\n",
      " [ 101.78899744 2977.3716597 ]]\n",
      "[[5963.40339068  941.31450642]\n",
      " [  41.0487515  5354.89215578]]\n",
      "[[17026.81520426    20.90454496 19963.30669003]\n",
      " [ 3509.92948647 19956.17247871    25.        ]]\n",
      "[[1631.98774505  139.89996426]\n",
      " [  94.27619    1655.5470395 ]]\n",
      "[[5.24722708e+03 6.10227572e+03 3.18216907e+02 1.72840896e+04\n",
      "  1.09311354e+04 2.03664803e+04]\n",
      " [1.65972974e+04 1.46402354e+04 2.03785424e+04 4.23783305e+03\n",
      "  1.00837706e+04 9.21954446e+00]]\n",
      "[[10355.88513841    35.28455753]\n",
      " [   31.06444913 10358.44124374]]\n",
      "skipping \n",
      "\n",
      "skipping \n",
      "\n",
      "[[   61.40032573  5161.01055996 16096.10241642]\n",
      " [16090.07426956 11216.67999009    49.12229636]]\n",
      "[[ 567.43369657 3469.70978613]\n",
      " [3244.97411392   68.02940541]]\n",
      "[[16733.89643807  8273.97316892   682.07111066]\n",
      " [   59.51470407 11144.90735717 16849.42506438]]\n",
      "[[11926.12267252   124.6314567 ]\n",
      " [  118.41030361 11931.48532246]]\n",
      "skipping \n",
      "\n",
      "[[ 106.62082348  894.87261663]\n",
      " [1033.07550547  708.78064308]]\n",
      "skipping \n",
      "\n"
     ]
    },
    {
     "name": "stderr",
     "output_type": "stream",
     "text": [
      "07/29/2022 11:57:05 AM WARNING: face_normals incorrect shape, ignoring! \n"
     ]
    },
    {
     "name": "stdout",
     "output_type": "stream",
     "text": [
      "Warning: deduplication not currently supported for this layer's variable layered draco meshes\n"
     ]
    },
    {
     "name": "stderr",
     "output_type": "stream",
     "text": [
      "100%|██████████| 3996/3996 [00:00<00:00, 616850.27it/s]\n",
      "07/29/2022 11:57:07 AM WARNING: face_normals incorrect shape, ignoring! \n"
     ]
    },
    {
     "name": "stdout",
     "output_type": "stream",
     "text": [
      "Warning: deduplication not currently supported for this layer's variable layered draco meshes\n"
     ]
    },
    {
     "name": "stderr",
     "output_type": "stream",
     "text": [
      "  0%|          | 0/10649 [00:00<?, ?it/s]/Library/Frameworks/Python.framework/Versions/3.8/lib/python3.8/site-packages/meshparty/skeletonize.py:613: RuntimeWarning: invalid value encountered in multiply\n",
      "  target = np.nanargmax(root_ds * valid)\n",
      "100%|██████████| 10649/10649 [00:00<00:00, 541002.22it/s]\n",
      "07/29/2022 11:57:10 AM WARNING: face_normals incorrect shape, ignoring! \n"
     ]
    },
    {
     "name": "stdout",
     "output_type": "stream",
     "text": [
      "Warning: deduplication not currently supported for this layer's variable layered draco meshes\n"
     ]
    },
    {
     "name": "stderr",
     "output_type": "stream",
     "text": [
      "100%|██████████| 1140/1140 [00:00<00:00, 358702.67it/s]\n",
      "07/29/2022 11:57:14 AM WARNING: face_normals incorrect shape, ignoring! \n"
     ]
    },
    {
     "name": "stdout",
     "output_type": "stream",
     "text": [
      "Warning: deduplication not currently supported for this layer's variable layered draco meshes\n"
     ]
    },
    {
     "name": "stderr",
     "output_type": "stream",
     "text": [
      "100%|██████████| 91377/91377 [00:00<00:00, 231210.68it/s]\n",
      "07/29/2022 11:57:24 AM WARNING: face_normals incorrect shape, ignoring! \n"
     ]
    },
    {
     "name": "stdout",
     "output_type": "stream",
     "text": [
      "Warning: deduplication not currently supported for this layer's variable layered draco meshes\n"
     ]
    },
    {
     "name": "stderr",
     "output_type": "stream",
     "text": [
      "100%|██████████| 117/117 [00:00<00:00, 59845.56it/s]\n",
      "07/29/2022 11:57:25 AM WARNING: face_normals incorrect shape, ignoring! \n"
     ]
    },
    {
     "name": "stdout",
     "output_type": "stream",
     "text": [
      "Warning: deduplication not currently supported for this layer's variable layered draco meshes\n"
     ]
    },
    {
     "name": "stderr",
     "output_type": "stream",
     "text": [
      "100%|██████████| 725/725 [00:00<00:00, 363566.52it/s]\n",
      "07/29/2022 11:57:27 AM WARNING: face_normals incorrect shape, ignoring! \n"
     ]
    },
    {
     "name": "stdout",
     "output_type": "stream",
     "text": [
      "Warning: deduplication not currently supported for this layer's variable layered draco meshes\n"
     ]
    },
    {
     "name": "stderr",
     "output_type": "stream",
     "text": [
      "100%|██████████| 3024/3024 [00:00<00:00, 569178.57it/s]\n",
      "07/29/2022 11:57:28 AM WARNING: face_normals incorrect shape, ignoring! \n"
     ]
    },
    {
     "name": "stdout",
     "output_type": "stream",
     "text": [
      "Warning: deduplication not currently supported for this layer's variable layered draco meshes\n"
     ]
    },
    {
     "name": "stderr",
     "output_type": "stream",
     "text": [
      "100%|██████████| 590/590 [00:00<00:00, 222299.62it/s]\n",
      "07/29/2022 11:57:30 AM WARNING: face_normals incorrect shape, ignoring! \n"
     ]
    },
    {
     "name": "stdout",
     "output_type": "stream",
     "text": [
      "Warning: deduplication not currently supported for this layer's variable layered draco meshes\n"
     ]
    },
    {
     "name": "stderr",
     "output_type": "stream",
     "text": [
      "100%|██████████| 33205/33205 [00:00<00:00, 134952.31it/s]\n",
      "07/29/2022 11:57:34 AM WARNING: face_normals incorrect shape, ignoring! \n"
     ]
    },
    {
     "name": "stdout",
     "output_type": "stream",
     "text": [
      "Warning: deduplication not currently supported for this layer's variable layered draco meshes\n"
     ]
    },
    {
     "name": "stderr",
     "output_type": "stream",
     "text": [
      "100%|██████████| 338/338 [00:00<00:00, 249064.43it/s]\n",
      "07/29/2022 11:57:36 AM WARNING: face_normals incorrect shape, ignoring! \n"
     ]
    },
    {
     "name": "stdout",
     "output_type": "stream",
     "text": [
      "Warning: deduplication not currently supported for this layer's variable layered draco meshes\n"
     ]
    },
    {
     "name": "stderr",
     "output_type": "stream",
     "text": [
      "100%|██████████| 5856/5856 [00:00<00:00, 449735.31it/s]\n",
      "07/29/2022 11:57:37 AM WARNING: face_normals incorrect shape, ignoring! \n"
     ]
    },
    {
     "name": "stdout",
     "output_type": "stream",
     "text": [
      "Warning: deduplication not currently supported for this layer's variable layered draco meshes\n"
     ]
    },
    {
     "name": "stderr",
     "output_type": "stream",
     "text": [
      "100%|██████████| 7270/7270 [00:00<00:00, 440848.23it/s]\n",
      "07/29/2022 11:57:39 AM WARNING: face_normals incorrect shape, ignoring! \n"
     ]
    },
    {
     "name": "stdout",
     "output_type": "stream",
     "text": [
      "Warning: deduplication not currently supported for this layer's variable layered draco meshes\n"
     ]
    },
    {
     "name": "stderr",
     "output_type": "stream",
     "text": [
      "100%|██████████| 12420/12420 [00:00<00:00, 570110.27it/s]\n",
      "07/29/2022 11:57:42 AM WARNING: face_normals incorrect shape, ignoring! \n"
     ]
    },
    {
     "name": "stdout",
     "output_type": "stream",
     "text": [
      "Warning: deduplication not currently supported for this layer's variable layered draco meshes\n"
     ]
    },
    {
     "name": "stderr",
     "output_type": "stream",
     "text": [
      "100%|██████████| 11545/11545 [00:00<00:00, 725702.72it/s]\n",
      "07/29/2022 11:57:44 AM WARNING: face_normals incorrect shape, ignoring! \n"
     ]
    },
    {
     "name": "stdout",
     "output_type": "stream",
     "text": [
      "Warning: deduplication not currently supported for this layer's variable layered draco meshes\n",
      "\n",
      "\n",
      "Seg 864691133692934758 returned error on get. Skipping.\n",
      "\n"
     ]
    },
    {
     "name": "stderr",
     "output_type": "stream",
     "text": [
      "07/29/2022 11:57:45 AM WARNING: face_normals incorrect shape, ignoring! \n"
     ]
    },
    {
     "name": "stdout",
     "output_type": "stream",
     "text": [
      "Warning: deduplication not currently supported for this layer's variable layered draco meshes\n"
     ]
    },
    {
     "name": "stderr",
     "output_type": "stream",
     "text": [
      "100%|██████████| 158/158 [00:00<00:00, 57411.42it/s]\n",
      "07/29/2022 11:57:47 AM WARNING: face_normals incorrect shape, ignoring! \n"
     ]
    },
    {
     "name": "stdout",
     "output_type": "stream",
     "text": [
      "Warning: deduplication not currently supported for this layer's variable layered draco meshes\n"
     ]
    },
    {
     "name": "stderr",
     "output_type": "stream",
     "text": [
      "100%|██████████| 1243/1243 [00:00<00:00, 524868.61it/s]\n",
      "07/29/2022 11:57:48 AM WARNING: face_normals incorrect shape, ignoring! \n"
     ]
    },
    {
     "name": "stdout",
     "output_type": "stream",
     "text": [
      "Warning: deduplication not currently supported for this layer's variable layered draco meshes\n",
      "\n",
      "\n",
      "Seg 864691133946526057 returned error on get. Skipping.\n",
      "\n"
     ]
    },
    {
     "name": "stderr",
     "output_type": "stream",
     "text": [
      "07/29/2022 11:57:49 AM WARNING: face_normals incorrect shape, ignoring! \n"
     ]
    },
    {
     "name": "stdout",
     "output_type": "stream",
     "text": [
      "Warning: deduplication not currently supported for this layer's variable layered draco meshes\n",
      "\n",
      "\n",
      "Seg 864691133712131152 returned error on get. Skipping.\n",
      "\n"
     ]
    },
    {
     "name": "stderr",
     "output_type": "stream",
     "text": [
      "07/29/2022 11:57:50 AM WARNING: face_normals incorrect shape, ignoring! \n"
     ]
    },
    {
     "name": "stdout",
     "output_type": "stream",
     "text": [
      "Warning: deduplication not currently supported for this layer's variable layered draco meshes\n"
     ]
    },
    {
     "name": "stderr",
     "output_type": "stream",
     "text": [
      "100%|██████████| 204/204 [00:00<00:00, 118954.26it/s]\n",
      "07/29/2022 11:57:53 AM WARNING: face_normals incorrect shape, ignoring! \n"
     ]
    },
    {
     "name": "stdout",
     "output_type": "stream",
     "text": [
      "Warning: deduplication not currently supported for this layer's variable layered draco meshes\n"
     ]
    },
    {
     "name": "stderr",
     "output_type": "stream",
     "text": [
      "100%|██████████| 22603/22603 [00:00<00:00, 470082.33it/s]\n",
      "07/29/2022 11:57:56 AM WARNING: face_normals incorrect shape, ignoring! \n"
     ]
    },
    {
     "name": "stdout",
     "output_type": "stream",
     "text": [
      "Warning: deduplication not currently supported for this layer's variable layered draco meshes\n"
     ]
    },
    {
     "name": "stderr",
     "output_type": "stream",
     "text": [
      "100%|██████████| 3568/3568 [00:00<00:00, 645667.30it/s]\n",
      "07/29/2022 11:57:58 AM WARNING: face_normals incorrect shape, ignoring! \n"
     ]
    },
    {
     "name": "stdout",
     "output_type": "stream",
     "text": [
      "Warning: deduplication not currently supported for this layer's variable layered draco meshes\n",
      "\n",
      "\n",
      "Seg 864691133678427777 returned error on get. Skipping.\n",
      "\n"
     ]
    },
    {
     "name": "stderr",
     "output_type": "stream",
     "text": [
      "07/29/2022 11:57:59 AM WARNING: face_normals incorrect shape, ignoring! \n"
     ]
    },
    {
     "name": "stdout",
     "output_type": "stream",
     "text": [
      "Warning: deduplication not currently supported for this layer's variable layered draco meshes\n"
     ]
    },
    {
     "name": "stderr",
     "output_type": "stream",
     "text": [
      "100%|██████████| 556/556 [00:00<00:00, 180932.04it/s]\n",
      "07/29/2022 11:58:00 AM WARNING: face_normals incorrect shape, ignoring! \n"
     ]
    },
    {
     "name": "stdout",
     "output_type": "stream",
     "text": [
      "Warning: deduplication not currently supported for this layer's variable layered draco meshes\n"
     ]
    },
    {
     "name": "stderr",
     "output_type": "stream",
     "text": [
      "100%|██████████| 1119/1119 [00:00<00:00, 496921.78it/s]\n",
      "07/29/2022 11:58:02 AM WARNING: face_normals incorrect shape, ignoring! \n"
     ]
    },
    {
     "name": "stdout",
     "output_type": "stream",
     "text": [
      "Warning: deduplication not currently supported for this layer's variable layered draco meshes\n"
     ]
    },
    {
     "name": "stderr",
     "output_type": "stream",
     "text": [
      "100%|██████████| 3576/3576 [00:00<00:00, 662843.87it/s]\n",
      "07/29/2022 11:58:03 AM WARNING: face_normals incorrect shape, ignoring! \n"
     ]
    },
    {
     "name": "stdout",
     "output_type": "stream",
     "text": [
      "Warning: deduplication not currently supported for this layer's variable layered draco meshes\n"
     ]
    },
    {
     "name": "stderr",
     "output_type": "stream",
     "text": [
      "100%|██████████| 230/230 [00:00<00:00, 116861.29it/s]\n",
      "07/29/2022 11:58:04 AM WARNING: face_normals incorrect shape, ignoring! \n"
     ]
    },
    {
     "name": "stdout",
     "output_type": "stream",
     "text": [
      "Warning: deduplication not currently supported for this layer's variable layered draco meshes\n"
     ]
    },
    {
     "name": "stderr",
     "output_type": "stream",
     "text": [
      "100%|██████████| 1402/1402 [00:00<00:00, 395056.38it/s]\n",
      "07/29/2022 11:58:06 AM WARNING: face_normals incorrect shape, ignoring! \n"
     ]
    },
    {
     "name": "stdout",
     "output_type": "stream",
     "text": [
      "Warning: deduplication not currently supported for this layer's variable layered draco meshes\n",
      "\n",
      "\n",
      "Seg 864691133766052845 returned error on get. Skipping.\n",
      "\n"
     ]
    },
    {
     "name": "stderr",
     "output_type": "stream",
     "text": [
      "07/29/2022 11:58:07 AM WARNING: face_normals incorrect shape, ignoring! \n"
     ]
    },
    {
     "name": "stdout",
     "output_type": "stream",
     "text": [
      "Warning: deduplication not currently supported for this layer's variable layered draco meshes\n"
     ]
    },
    {
     "name": "stderr",
     "output_type": "stream",
     "text": [
      "100%|██████████| 1499/1499 [00:00<00:00, 381392.88it/s]\n",
      "07/29/2022 11:58:09 AM WARNING: face_normals incorrect shape, ignoring! \n"
     ]
    },
    {
     "name": "stdout",
     "output_type": "stream",
     "text": [
      "Warning: deduplication not currently supported for this layer's variable layered draco meshes\n"
     ]
    },
    {
     "name": "stderr",
     "output_type": "stream",
     "text": [
      "100%|██████████| 14992/14992 [00:00<00:00, 409203.05it/s]\n",
      "07/29/2022 11:58:12 AM WARNING: face_normals incorrect shape, ignoring! \n"
     ]
    },
    {
     "name": "stdout",
     "output_type": "stream",
     "text": [
      "Warning: deduplication not currently supported for this layer's variable layered draco meshes\n"
     ]
    },
    {
     "name": "stderr",
     "output_type": "stream",
     "text": [
      "100%|██████████| 351/351 [00:00<00:00, 37665.68it/s]\n",
      "07/29/2022 11:58:13 AM WARNING: face_normals incorrect shape, ignoring! \n"
     ]
    },
    {
     "name": "stdout",
     "output_type": "stream",
     "text": [
      "Warning: deduplication not currently supported for this layer's variable layered draco meshes\n"
     ]
    },
    {
     "name": "stderr",
     "output_type": "stream",
     "text": [
      "100%|██████████| 3586/3586 [00:00<00:00, 640932.98it/s]\n",
      "07/29/2022 11:58:15 AM WARNING: face_normals incorrect shape, ignoring! \n"
     ]
    },
    {
     "name": "stdout",
     "output_type": "stream",
     "text": [
      "Warning: deduplication not currently supported for this layer's variable layered draco meshes\n"
     ]
    },
    {
     "name": "stderr",
     "output_type": "stream",
     "text": [
      "100%|██████████| 5274/5274 [00:00<00:00, 718159.84it/s]\n",
      "07/29/2022 11:58:16 AM WARNING: face_normals incorrect shape, ignoring! \n"
     ]
    },
    {
     "name": "stdout",
     "output_type": "stream",
     "text": [
      "Warning: deduplication not currently supported for this layer's variable layered draco meshes\n"
     ]
    },
    {
     "name": "stderr",
     "output_type": "stream",
     "text": [
      "100%|██████████| 7026/7026 [00:00<00:00, 693571.98it/s]\n",
      "07/29/2022 11:58:18 AM WARNING: face_normals incorrect shape, ignoring! \n"
     ]
    },
    {
     "name": "stdout",
     "output_type": "stream",
     "text": [
      "Warning: deduplication not currently supported for this layer's variable layered draco meshes\n"
     ]
    },
    {
     "name": "stderr",
     "output_type": "stream",
     "text": [
      "100%|██████████| 2368/2368 [00:00<00:00, 449071.39it/s]\n",
      "07/29/2022 11:58:20 AM WARNING: face_normals incorrect shape, ignoring! \n"
     ]
    },
    {
     "name": "stdout",
     "output_type": "stream",
     "text": [
      "Warning: deduplication not currently supported for this layer's variable layered draco meshes\n"
     ]
    },
    {
     "name": "stderr",
     "output_type": "stream",
     "text": [
      "100%|██████████| 4525/4525 [00:00<00:00, 547598.77it/s]\n",
      "07/29/2022 11:58:22 AM WARNING: face_normals incorrect shape, ignoring! \n"
     ]
    },
    {
     "name": "stdout",
     "output_type": "stream",
     "text": [
      "Warning: deduplication not currently supported for this layer's variable layered draco meshes\n"
     ]
    },
    {
     "name": "stderr",
     "output_type": "stream",
     "text": [
      "100%|██████████| 15505/15505 [00:00<00:00, 528763.99it/s]\n",
      "07/29/2022 11:58:27 AM WARNING: face_normals incorrect shape, ignoring! \n"
     ]
    },
    {
     "name": "stdout",
     "output_type": "stream",
     "text": [
      "Warning: deduplication not currently supported for this layer's variable layered draco meshes\n"
     ]
    },
    {
     "name": "stderr",
     "output_type": "stream",
     "text": [
      "100%|██████████| 28900/28900 [00:00<00:00, 340141.05it/s]\n",
      "07/29/2022 11:58:31 AM WARNING: face_normals incorrect shape, ignoring! \n"
     ]
    },
    {
     "name": "stdout",
     "output_type": "stream",
     "text": [
      "Warning: deduplication not currently supported for this layer's variable layered draco meshes\n"
     ]
    },
    {
     "name": "stderr",
     "output_type": "stream",
     "text": [
      "100%|██████████| 6582/6582 [00:00<00:00, 564639.29it/s]\n",
      "07/29/2022 11:58:37 AM WARNING: face_normals incorrect shape, ignoring! \n"
     ]
    },
    {
     "name": "stdout",
     "output_type": "stream",
     "text": [
      "Warning: deduplication not currently supported for this layer's variable layered draco meshes\n"
     ]
    },
    {
     "name": "stderr",
     "output_type": "stream",
     "text": [
      "100%|██████████| 105180/105180 [00:00<00:00, 240122.24it/s]\n",
      "07/29/2022 11:58:49 AM WARNING: face_normals incorrect shape, ignoring! \n"
     ]
    },
    {
     "name": "stdout",
     "output_type": "stream",
     "text": [
      "Warning: deduplication not currently supported for this layer's variable layered draco meshes\n"
     ]
    },
    {
     "name": "stderr",
     "output_type": "stream",
     "text": [
      "100%|██████████| 18513/18513 [00:00<00:00, 474008.02it/s]\n",
      "07/29/2022 11:58:54 AM WARNING: face_normals incorrect shape, ignoring! \n"
     ]
    },
    {
     "name": "stdout",
     "output_type": "stream",
     "text": [
      "Warning: deduplication not currently supported for this layer's variable layered draco meshes\n"
     ]
    },
    {
     "name": "stderr",
     "output_type": "stream",
     "text": [
      "100%|██████████| 15061/15061 [00:00<00:00, 388029.41it/s]\n",
      "07/29/2022 11:58:58 AM WARNING: face_normals incorrect shape, ignoring! \n"
     ]
    },
    {
     "name": "stdout",
     "output_type": "stream",
     "text": [
      "Warning: deduplication not currently supported for this layer's variable layered draco meshes\n"
     ]
    },
    {
     "name": "stderr",
     "output_type": "stream",
     "text": [
      "100%|██████████| 14865/14865 [00:00<00:00, 675225.85it/s]\n",
      "07/29/2022 11:59:06 AM WARNING: face_normals incorrect shape, ignoring! \n"
     ]
    },
    {
     "name": "stdout",
     "output_type": "stream",
     "text": [
      "Warning: deduplication not currently supported for this layer's variable layered draco meshes\n"
     ]
    },
    {
     "name": "stderr",
     "output_type": "stream",
     "text": [
      "100%|██████████| 73819/73819 [00:01<00:00, 54454.29it/s] \n",
      "07/29/2022 11:59:22 AM WARNING: face_normals incorrect shape, ignoring! \n"
     ]
    },
    {
     "name": "stdout",
     "output_type": "stream",
     "text": [
      "Warning: deduplication not currently supported for this layer's variable layered draco meshes\n"
     ]
    },
    {
     "name": "stderr",
     "output_type": "stream",
     "text": [
      "100%|██████████| 5791/5791 [00:00<00:00, 521104.77it/s]\n",
      "07/29/2022 11:59:24 AM WARNING: face_normals incorrect shape, ignoring! \n"
     ]
    },
    {
     "name": "stdout",
     "output_type": "stream",
     "text": [
      "Warning: deduplication not currently supported for this layer's variable layered draco meshes\n"
     ]
    },
    {
     "name": "stderr",
     "output_type": "stream",
     "text": [
      "100%|██████████| 14714/14714 [00:00<00:00, 329547.34it/s]\n",
      "07/29/2022 11:59:27 AM WARNING: face_normals incorrect shape, ignoring! \n"
     ]
    },
    {
     "name": "stdout",
     "output_type": "stream",
     "text": [
      "Warning: deduplication not currently supported for this layer's variable layered draco meshes\n"
     ]
    },
    {
     "name": "stderr",
     "output_type": "stream",
     "text": [
      "100%|██████████| 12530/12530 [00:00<00:00, 483874.98it/s]\n",
      "07/29/2022 11:59:31 AM WARNING: face_normals incorrect shape, ignoring! \n"
     ]
    },
    {
     "name": "stdout",
     "output_type": "stream",
     "text": [
      "Warning: deduplication not currently supported for this layer's variable layered draco meshes\n"
     ]
    },
    {
     "name": "stderr",
     "output_type": "stream",
     "text": [
      "100%|██████████| 26058/26058 [00:00<00:00, 706849.39it/s]\n",
      "07/29/2022 11:59:42 AM WARNING: face_normals incorrect shape, ignoring! \n"
     ]
    },
    {
     "name": "stdout",
     "output_type": "stream",
     "text": [
      "Warning: deduplication not currently supported for this layer's variable layered draco meshes\n"
     ]
    },
    {
     "name": "stderr",
     "output_type": "stream",
     "text": [
      "100%|██████████| 210150/210150 [00:01<00:00, 120773.30it/s]\n",
      "07/29/2022 12:00:06 PM WARNING: face_normals incorrect shape, ignoring! \n"
     ]
    },
    {
     "name": "stdout",
     "output_type": "stream",
     "text": [
      "Warning: deduplication not currently supported for this layer's variable layered draco meshes\n"
     ]
    },
    {
     "name": "stderr",
     "output_type": "stream",
     "text": [
      "100%|██████████| 3699/3699 [00:00<00:00, 415387.70it/s]\n",
      "07/29/2022 12:00:08 PM WARNING: face_normals incorrect shape, ignoring! \n"
     ]
    },
    {
     "name": "stdout",
     "output_type": "stream",
     "text": [
      "Warning: deduplication not currently supported for this layer's variable layered draco meshes\n"
     ]
    },
    {
     "name": "stderr",
     "output_type": "stream",
     "text": [
      "100%|██████████| 8352/8352 [00:00<00:00, 538662.33it/s]\n",
      "07/29/2022 12:00:11 PM WARNING: face_normals incorrect shape, ignoring! \n"
     ]
    },
    {
     "name": "stdout",
     "output_type": "stream",
     "text": [
      "Warning: deduplication not currently supported for this layer's variable layered draco meshes\n"
     ]
    },
    {
     "name": "stderr",
     "output_type": "stream",
     "text": [
      "100%|██████████| 17575/17575 [00:00<00:00, 725797.46it/s]\n",
      "07/29/2022 12:00:15 PM WARNING: face_normals incorrect shape, ignoring! \n"
     ]
    },
    {
     "name": "stdout",
     "output_type": "stream",
     "text": [
      "Warning: deduplication not currently supported for this layer's variable layered draco meshes\n"
     ]
    },
    {
     "name": "stderr",
     "output_type": "stream",
     "text": [
      "100%|██████████| 17800/17800 [00:00<00:00, 315591.82it/s]\n",
      "07/29/2022 12:00:18 PM WARNING: face_normals incorrect shape, ignoring! \n"
     ]
    },
    {
     "name": "stdout",
     "output_type": "stream",
     "text": [
      "Warning: deduplication not currently supported for this layer's variable layered draco meshes\n"
     ]
    },
    {
     "name": "stderr",
     "output_type": "stream",
     "text": [
      "100%|██████████| 1644/1644 [00:00<00:00, 385629.20it/s]\n",
      "07/29/2022 12:00:20 PM WARNING: face_normals incorrect shape, ignoring! \n"
     ]
    },
    {
     "name": "stdout",
     "output_type": "stream",
     "text": [
      "Warning: deduplication not currently supported for this layer's variable layered draco meshes\n"
     ]
    },
    {
     "name": "stderr",
     "output_type": "stream",
     "text": [
      "100%|██████████| 11380/11380 [00:00<00:00, 566683.44it/s]\n",
      "07/29/2022 12:00:22 PM WARNING: face_normals incorrect shape, ignoring! \n"
     ]
    },
    {
     "name": "stdout",
     "output_type": "stream",
     "text": [
      "Warning: deduplication not currently supported for this layer's variable layered draco meshes\n"
     ]
    },
    {
     "name": "stderr",
     "output_type": "stream",
     "text": [
      "100%|██████████| 152/152 [00:00<00:00, 63977.34it/s]\n",
      "07/29/2022 12:00:23 PM WARNING: face_normals incorrect shape, ignoring! \n"
     ]
    },
    {
     "name": "stdout",
     "output_type": "stream",
     "text": [
      "Warning: deduplication not currently supported for this layer's variable layered draco meshes\n"
     ]
    },
    {
     "name": "stderr",
     "output_type": "stream",
     "text": [
      "100%|██████████| 934/934 [00:00<00:00, 427999.56it/s]\n",
      "07/29/2022 12:00:27 PM WARNING: face_normals incorrect shape, ignoring! \n"
     ]
    },
    {
     "name": "stdout",
     "output_type": "stream",
     "text": [
      "Warning: deduplication not currently supported for this layer's variable layered draco meshes\n"
     ]
    },
    {
     "name": "stderr",
     "output_type": "stream",
     "text": [
      "100%|██████████| 73645/73645 [00:00<00:00, 344658.91it/s]\n",
      "07/29/2022 12:00:35 PM WARNING: face_normals incorrect shape, ignoring! \n"
     ]
    },
    {
     "name": "stdout",
     "output_type": "stream",
     "text": [
      "Warning: deduplication not currently supported for this layer's variable layered draco meshes\n"
     ]
    },
    {
     "name": "stderr",
     "output_type": "stream",
     "text": [
      "100%|██████████| 403/403 [00:00<00:00, 190114.11it/s]\n",
      "07/29/2022 12:00:36 PM WARNING: face_normals incorrect shape, ignoring! \n"
     ]
    },
    {
     "name": "stdout",
     "output_type": "stream",
     "text": [
      "Warning: deduplication not currently supported for this layer's variable layered draco meshes\n"
     ]
    },
    {
     "name": "stderr",
     "output_type": "stream",
     "text": [
      "100%|██████████| 5928/5928 [00:00<00:00, 462196.01it/s]\n",
      "07/29/2022 12:00:39 PM WARNING: face_normals incorrect shape, ignoring! \n"
     ]
    },
    {
     "name": "stdout",
     "output_type": "stream",
     "text": [
      "Warning: deduplication not currently supported for this layer's variable layered draco meshes\n"
     ]
    },
    {
     "name": "stderr",
     "output_type": "stream",
     "text": [
      "100%|██████████| 8016/8016 [00:00<00:00, 681342.78it/s]\n",
      "07/29/2022 12:00:40 PM WARNING: face_normals incorrect shape, ignoring! \n"
     ]
    },
    {
     "name": "stdout",
     "output_type": "stream",
     "text": [
      "Warning: deduplication not currently supported for this layer's variable layered draco meshes\n"
     ]
    },
    {
     "name": "stderr",
     "output_type": "stream",
     "text": [
      "100%|██████████| 264/264 [00:00<00:00, 163583.43it/s]\n",
      "07/29/2022 12:00:43 PM WARNING: face_normals incorrect shape, ignoring! \n"
     ]
    },
    {
     "name": "stdout",
     "output_type": "stream",
     "text": [
      "Warning: deduplication not currently supported for this layer's variable layered draco meshes\n"
     ]
    },
    {
     "name": "stderr",
     "output_type": "stream",
     "text": [
      "100%|██████████| 30530/30530 [00:00<00:00, 567021.21it/s]\n",
      "07/29/2022 12:00:48 PM WARNING: face_normals incorrect shape, ignoring! \n"
     ]
    },
    {
     "name": "stdout",
     "output_type": "stream",
     "text": [
      "Warning: deduplication not currently supported for this layer's variable layered draco meshes\n"
     ]
    },
    {
     "name": "stderr",
     "output_type": "stream",
     "text": [
      "100%|██████████| 3806/3806 [00:00<00:00, 559966.36it/s]\n",
      "07/29/2022 12:00:49 PM WARNING: face_normals incorrect shape, ignoring! \n"
     ]
    },
    {
     "name": "stdout",
     "output_type": "stream",
     "text": [
      "Warning: deduplication not currently supported for this layer's variable layered draco meshes\n"
     ]
    },
    {
     "name": "stderr",
     "output_type": "stream",
     "text": [
      "100%|██████████| 7820/7820 [00:00<00:00, 710898.98it/s]\n",
      "07/29/2022 12:00:51 PM WARNING: face_normals incorrect shape, ignoring! \n"
     ]
    },
    {
     "name": "stdout",
     "output_type": "stream",
     "text": [
      "Warning: deduplication not currently supported for this layer's variable layered draco meshes\n",
      "\n",
      "\n",
      "Seg 864691133769133345 returned error on get. Skipping.\n",
      "\n"
     ]
    },
    {
     "name": "stderr",
     "output_type": "stream",
     "text": [
      "07/29/2022 12:00:55 PM WARNING: face_normals incorrect shape, ignoring! \n"
     ]
    },
    {
     "name": "stdout",
     "output_type": "stream",
     "text": [
      "Warning: deduplication not currently supported for this layer's variable layered draco meshes\n"
     ]
    },
    {
     "name": "stderr",
     "output_type": "stream",
     "text": [
      "100%|██████████| 49920/49920 [00:00<00:00, 321692.96it/s]\n",
      "07/29/2022 12:01:03 PM WARNING: face_normals incorrect shape, ignoring! \n"
     ]
    },
    {
     "name": "stdout",
     "output_type": "stream",
     "text": [
      "Warning: deduplication not currently supported for this layer's variable layered draco meshes\n"
     ]
    },
    {
     "name": "stderr",
     "output_type": "stream",
     "text": [
      "100%|██████████| 43892/43892 [00:00<00:00, 568732.36it/s]\n",
      "07/29/2022 12:01:10 PM WARNING: face_normals incorrect shape, ignoring! \n"
     ]
    },
    {
     "name": "stdout",
     "output_type": "stream",
     "text": [
      "Warning: deduplication not currently supported for this layer's variable layered draco meshes\n"
     ]
    },
    {
     "name": "stderr",
     "output_type": "stream",
     "text": [
      "100%|██████████| 19407/19407 [00:00<00:00, 482572.36it/s]\n",
      "07/29/2022 12:01:13 PM WARNING: face_normals incorrect shape, ignoring! \n"
     ]
    },
    {
     "name": "stdout",
     "output_type": "stream",
     "text": [
      "Warning: deduplication not currently supported for this layer's variable layered draco meshes\n"
     ]
    },
    {
     "name": "stderr",
     "output_type": "stream",
     "text": [
      "100%|██████████| 2448/2448 [00:00<00:00, 538928.00it/s]\n",
      "07/29/2022 12:01:16 PM WARNING: face_normals incorrect shape, ignoring! \n"
     ]
    },
    {
     "name": "stdout",
     "output_type": "stream",
     "text": [
      "Warning: deduplication not currently supported for this layer's variable layered draco meshes\n"
     ]
    },
    {
     "name": "stderr",
     "output_type": "stream",
     "text": [
      "100%|██████████| 39637/39637 [00:00<00:00, 273801.66it/s]\n",
      "07/29/2022 12:01:21 PM WARNING: face_normals incorrect shape, ignoring! \n"
     ]
    },
    {
     "name": "stdout",
     "output_type": "stream",
     "text": [
      "Warning: deduplication not currently supported for this layer's variable layered draco meshes\n"
     ]
    },
    {
     "name": "stderr",
     "output_type": "stream",
     "text": [
      "100%|██████████| 8835/8835 [00:00<00:00, 581792.25it/s]\n",
      "07/29/2022 12:01:42 PM WARNING: face_normals incorrect shape, ignoring! \n"
     ]
    },
    {
     "name": "stdout",
     "output_type": "stream",
     "text": [
      "Warning: deduplication not currently supported for this layer's variable layered draco meshes\n"
     ]
    },
    {
     "name": "stderr",
     "output_type": "stream",
     "text": [
      "100%|██████████| 9474/9474 [00:00<00:00, 733219.60it/s]\n",
      "07/29/2022 12:01:46 PM WARNING: face_normals incorrect shape, ignoring! \n"
     ]
    },
    {
     "name": "stdout",
     "output_type": "stream",
     "text": [
      "Warning: deduplication not currently supported for this layer's variable layered draco meshes\n"
     ]
    },
    {
     "name": "stderr",
     "output_type": "stream",
     "text": [
      "100%|██████████| 19620/19620 [00:00<00:00, 669559.78it/s]\n",
      "07/29/2022 12:01:51 PM WARNING: face_normals incorrect shape, ignoring! \n"
     ]
    },
    {
     "name": "stdout",
     "output_type": "stream",
     "text": [
      "Warning: deduplication not currently supported for this layer's variable layered draco meshes\n"
     ]
    },
    {
     "name": "stderr",
     "output_type": "stream",
     "text": [
      "100%|██████████| 1286/1286 [00:00<00:00, 296171.48it/s]\n",
      "07/29/2022 12:01:53 PM WARNING: face_normals incorrect shape, ignoring! \n"
     ]
    },
    {
     "name": "stdout",
     "output_type": "stream",
     "text": [
      "Warning: deduplication not currently supported for this layer's variable layered draco meshes\n"
     ]
    },
    {
     "name": "stderr",
     "output_type": "stream",
     "text": [
      "100%|██████████| 23442/23442 [00:00<00:00, 553909.84it/s]\n",
      "07/29/2022 12:01:59 PM WARNING: face_normals incorrect shape, ignoring! \n"
     ]
    },
    {
     "name": "stdout",
     "output_type": "stream",
     "text": [
      "Warning: deduplication not currently supported for this layer's variable layered draco meshes\n"
     ]
    },
    {
     "name": "stderr",
     "output_type": "stream",
     "text": [
      "100%|██████████| 36158/36158 [00:00<00:00, 408787.32it/s]\n",
      "07/29/2022 12:02:03 PM WARNING: face_normals incorrect shape, ignoring! \n"
     ]
    },
    {
     "name": "stdout",
     "output_type": "stream",
     "text": [
      "Warning: deduplication not currently supported for this layer's variable layered draco meshes\n"
     ]
    },
    {
     "name": "stderr",
     "output_type": "stream",
     "text": [
      "100%|██████████| 4826/4826 [00:00<00:00, 658824.08it/s]\n",
      "07/29/2022 12:02:05 PM WARNING: face_normals incorrect shape, ignoring! \n"
     ]
    },
    {
     "name": "stdout",
     "output_type": "stream",
     "text": [
      "Warning: deduplication not currently supported for this layer's variable layered draco meshes\n"
     ]
    },
    {
     "name": "stderr",
     "output_type": "stream",
     "text": [
      "100%|██████████| 1973/1973 [00:00<00:00, 527563.55it/s]\n",
      "07/29/2022 12:02:19 PM WARNING: face_normals incorrect shape, ignoring! \n"
     ]
    },
    {
     "name": "stdout",
     "output_type": "stream",
     "text": [
      "Warning: deduplication not currently supported for this layer's variable layered draco meshes\n"
     ]
    },
    {
     "name": "stderr",
     "output_type": "stream",
     "text": [
      "100%|██████████| 187764/187764 [00:06<00:00, 28049.87it/s]\n",
      "07/29/2022 12:02:52 PM WARNING: face_normals incorrect shape, ignoring! \n"
     ]
    },
    {
     "name": "stdout",
     "output_type": "stream",
     "text": [
      "Warning: deduplication not currently supported for this layer's variable layered draco meshes\n"
     ]
    },
    {
     "name": "stderr",
     "output_type": "stream",
     "text": [
      "100%|██████████| 485/485 [00:00<00:00, 266645.36it/s]\n",
      "07/29/2022 12:02:58 PM WARNING: face_normals incorrect shape, ignoring! \n"
     ]
    },
    {
     "name": "stdout",
     "output_type": "stream",
     "text": [
      "Warning: deduplication not currently supported for this layer's variable layered draco meshes\n"
     ]
    },
    {
     "name": "stderr",
     "output_type": "stream",
     "text": [
      "100%|██████████| 37232/37232 [00:00<00:00, 258021.88it/s]\n",
      "07/29/2022 12:03:03 PM WARNING: face_normals incorrect shape, ignoring! \n"
     ]
    },
    {
     "name": "stdout",
     "output_type": "stream",
     "text": [
      "Warning: deduplication not currently supported for this layer's variable layered draco meshes\n"
     ]
    },
    {
     "name": "stderr",
     "output_type": "stream",
     "text": [
      "100%|██████████| 2640/2640 [00:00<00:00, 380736.60it/s]\n",
      "07/29/2022 12:03:05 PM WARNING: face_normals incorrect shape, ignoring! \n"
     ]
    },
    {
     "name": "stdout",
     "output_type": "stream",
     "text": [
      "Warning: deduplication not currently supported for this layer's variable layered draco meshes\n"
     ]
    },
    {
     "name": "stderr",
     "output_type": "stream",
     "text": [
      "100%|██████████| 5980/5980 [00:00<00:00, 480598.17it/s]\n",
      "07/29/2022 12:03:08 PM WARNING: face_normals incorrect shape, ignoring! \n"
     ]
    },
    {
     "name": "stdout",
     "output_type": "stream",
     "text": [
      "Warning: deduplication not currently supported for this layer's variable layered draco meshes\n"
     ]
    },
    {
     "name": "stderr",
     "output_type": "stream",
     "text": [
      "100%|██████████| 7616/7616 [00:00<00:00, 516372.24it/s]\n",
      "07/29/2022 12:03:10 PM WARNING: face_normals incorrect shape, ignoring! \n"
     ]
    },
    {
     "name": "stdout",
     "output_type": "stream",
     "text": [
      "Warning: deduplication not currently supported for this layer's variable layered draco meshes\n"
     ]
    },
    {
     "name": "stderr",
     "output_type": "stream",
     "text": [
      "100%|██████████| 1211/1211 [00:00<00:00, 410084.14it/s]\n",
      "07/29/2022 12:03:11 PM WARNING: face_normals incorrect shape, ignoring! \n"
     ]
    },
    {
     "name": "stdout",
     "output_type": "stream",
     "text": [
      "Warning: deduplication not currently supported for this layer's variable layered draco meshes\n"
     ]
    },
    {
     "name": "stderr",
     "output_type": "stream",
     "text": [
      "100%|██████████| 1359/1359 [00:00<00:00, 334235.91it/s]\n",
      "07/29/2022 12:03:13 PM WARNING: face_normals incorrect shape, ignoring! \n"
     ]
    },
    {
     "name": "stdout",
     "output_type": "stream",
     "text": [
      "Warning: deduplication not currently supported for this layer's variable layered draco meshes\n"
     ]
    },
    {
     "name": "stderr",
     "output_type": "stream",
     "text": [
      "100%|██████████| 11308/11308 [00:00<00:00, 569043.30it/s]\n",
      "07/29/2022 12:03:16 PM WARNING: face_normals incorrect shape, ignoring! \n"
     ]
    },
    {
     "name": "stdout",
     "output_type": "stream",
     "text": [
      "Warning: deduplication not currently supported for this layer's variable layered draco meshes\n"
     ]
    },
    {
     "name": "stderr",
     "output_type": "stream",
     "text": [
      "100%|██████████| 191/191 [00:00<00:00, 79388.77it/s]\n",
      "07/29/2022 12:03:17 PM WARNING: face_normals incorrect shape, ignoring! \n"
     ]
    },
    {
     "name": "stdout",
     "output_type": "stream",
     "text": [
      "Warning: deduplication not currently supported for this layer's variable layered draco meshes\n"
     ]
    },
    {
     "name": "stderr",
     "output_type": "stream",
     "text": [
      "100%|██████████| 105/105 [00:00<00:00, 65663.03it/s]\n",
      "07/29/2022 12:03:19 PM WARNING: face_normals incorrect shape, ignoring! \n"
     ]
    },
    {
     "name": "stdout",
     "output_type": "stream",
     "text": [
      "Warning: deduplication not currently supported for this layer's variable layered draco meshes\n"
     ]
    },
    {
     "name": "stderr",
     "output_type": "stream",
     "text": [
      "100%|██████████| 7685/7685 [00:00<00:00, 375928.37it/s]\n",
      "07/29/2022 12:03:22 PM WARNING: face_normals incorrect shape, ignoring! \n"
     ]
    },
    {
     "name": "stdout",
     "output_type": "stream",
     "text": [
      "Warning: deduplication not currently supported for this layer's variable layered draco meshes\n"
     ]
    },
    {
     "name": "stderr",
     "output_type": "stream",
     "text": [
      "100%|██████████| 6048/6048 [00:00<00:00, 628740.16it/s]\n",
      "07/29/2022 12:03:24 PM WARNING: face_normals incorrect shape, ignoring! \n"
     ]
    },
    {
     "name": "stdout",
     "output_type": "stream",
     "text": [
      "Warning: deduplication not currently supported for this layer's variable layered draco meshes\n"
     ]
    },
    {
     "name": "stderr",
     "output_type": "stream",
     "text": [
      "100%|██████████| 6896/6896 [00:00<00:00, 475988.55it/s]\n",
      "07/29/2022 12:03:26 PM WARNING: face_normals incorrect shape, ignoring! \n"
     ]
    },
    {
     "name": "stdout",
     "output_type": "stream",
     "text": [
      "Warning: deduplication not currently supported for this layer's variable layered draco meshes\n"
     ]
    },
    {
     "name": "stderr",
     "output_type": "stream",
     "text": [
      "100%|██████████| 2858/2858 [00:00<00:00, 625806.36it/s]\n",
      "07/29/2022 12:03:28 PM WARNING: face_normals incorrect shape, ignoring! \n"
     ]
    },
    {
     "name": "stdout",
     "output_type": "stream",
     "text": [
      "Warning: deduplication not currently supported for this layer's variable layered draco meshes\n"
     ]
    },
    {
     "name": "stderr",
     "output_type": "stream",
     "text": [
      "100%|██████████| 4775/4775 [00:00<00:00, 527227.78it/s]\n",
      "07/29/2022 12:03:30 PM WARNING: face_normals incorrect shape, ignoring! \n"
     ]
    },
    {
     "name": "stdout",
     "output_type": "stream",
     "text": [
      "Warning: deduplication not currently supported for this layer's variable layered draco meshes\n"
     ]
    },
    {
     "name": "stderr",
     "output_type": "stream",
     "text": [
      "100%|██████████| 1010/1010 [00:00<00:00, 259303.85it/s]\n",
      "07/29/2022 12:03:32 PM WARNING: face_normals incorrect shape, ignoring! \n"
     ]
    },
    {
     "name": "stdout",
     "output_type": "stream",
     "text": [
      "Warning: deduplication not currently supported for this layer's variable layered draco meshes\n"
     ]
    },
    {
     "name": "stderr",
     "output_type": "stream",
     "text": [
      "100%|██████████| 8895/8895 [00:00<00:00, 518819.83it/s]\n",
      "07/29/2022 12:03:34 PM WARNING: face_normals incorrect shape, ignoring! \n"
     ]
    },
    {
     "name": "stdout",
     "output_type": "stream",
     "text": [
      "Warning: deduplication not currently supported for this layer's variable layered draco meshes\n",
      "\n",
      "\n",
      "Seg 864691132747855184 returned error on get. Skipping.\n",
      "\n"
     ]
    },
    {
     "name": "stderr",
     "output_type": "stream",
     "text": [
      "07/29/2022 12:03:40 PM WARNING: face_normals incorrect shape, ignoring! \n"
     ]
    },
    {
     "name": "stdout",
     "output_type": "stream",
     "text": [
      "Warning: deduplication not currently supported for this layer's variable layered draco meshes\n"
     ]
    },
    {
     "name": "stderr",
     "output_type": "stream",
     "text": [
      "100%|██████████| 126421/126421 [00:00<00:00, 273242.78it/s]\n",
      "07/29/2022 12:03:56 PM WARNING: face_normals incorrect shape, ignoring! \n"
     ]
    },
    {
     "name": "stdout",
     "output_type": "stream",
     "text": [
      "Warning: deduplication not currently supported for this layer's variable layered draco meshes\n"
     ]
    },
    {
     "name": "stderr",
     "output_type": "stream",
     "text": [
      "100%|██████████| 22194/22194 [00:00<00:00, 379344.08it/s]\n",
      "07/29/2022 12:04:01 PM WARNING: face_normals incorrect shape, ignoring! \n"
     ]
    },
    {
     "name": "stdout",
     "output_type": "stream",
     "text": [
      "Warning: deduplication not currently supported for this layer's variable layered draco meshes\n"
     ]
    },
    {
     "name": "stderr",
     "output_type": "stream",
     "text": [
      "100%|██████████| 33346/33346 [00:00<00:00, 474191.51it/s]\n",
      "07/29/2022 12:04:06 PM WARNING: face_normals incorrect shape, ignoring! \n"
     ]
    },
    {
     "name": "stdout",
     "output_type": "stream",
     "text": [
      "Warning: deduplication not currently supported for this layer's variable layered draco meshes\n"
     ]
    },
    {
     "name": "stderr",
     "output_type": "stream",
     "text": [
      "100%|██████████| 22364/22364 [00:00<00:00, 473703.85it/s]\n",
      "07/29/2022 12:04:09 PM WARNING: face_normals incorrect shape, ignoring! \n"
     ]
    },
    {
     "name": "stdout",
     "output_type": "stream",
     "text": [
      "Warning: deduplication not currently supported for this layer's variable layered draco meshes\n"
     ]
    },
    {
     "name": "stderr",
     "output_type": "stream",
     "text": [
      "100%|██████████| 152/152 [00:00<00:00, 106291.13it/s]\n",
      "07/29/2022 12:04:11 PM WARNING: face_normals incorrect shape, ignoring! \n"
     ]
    },
    {
     "name": "stdout",
     "output_type": "stream",
     "text": [
      "Warning: deduplication not currently supported for this layer's variable layered draco meshes\n"
     ]
    },
    {
     "name": "stderr",
     "output_type": "stream",
     "text": [
      "100%|██████████| 5763/5763 [00:00<00:00, 638063.88it/s]\n",
      "07/29/2022 12:04:13 PM WARNING: face_normals incorrect shape, ignoring! \n"
     ]
    },
    {
     "name": "stdout",
     "output_type": "stream",
     "text": [
      "Warning: deduplication not currently supported for this layer's variable layered draco meshes\n",
      "\n",
      "\n",
      "Seg 864691136347887475 returned error on get. Skipping.\n",
      "\n"
     ]
    },
    {
     "name": "stderr",
     "output_type": "stream",
     "text": [
      "07/29/2022 12:04:14 PM WARNING: face_normals incorrect shape, ignoring! \n"
     ]
    },
    {
     "name": "stdout",
     "output_type": "stream",
     "text": [
      "Warning: deduplication not currently supported for this layer's variable layered draco meshes\n"
     ]
    },
    {
     "name": "stderr",
     "output_type": "stream",
     "text": [
      "100%|██████████| 1905/1905 [00:00<00:00, 395317.09it/s]\n",
      "07/29/2022 12:04:16 PM WARNING: face_normals incorrect shape, ignoring! \n"
     ]
    },
    {
     "name": "stdout",
     "output_type": "stream",
     "text": [
      "Warning: deduplication not currently supported for this layer's variable layered draco meshes\n"
     ]
    },
    {
     "name": "stderr",
     "output_type": "stream",
     "text": [
      "100%|██████████| 138/138 [00:00<00:00, 79398.35it/s]\n",
      "07/29/2022 12:04:18 PM WARNING: face_normals incorrect shape, ignoring! \n"
     ]
    },
    {
     "name": "stdout",
     "output_type": "stream",
     "text": [
      "Warning: deduplication not currently supported for this layer's variable layered draco meshes\n"
     ]
    },
    {
     "name": "stderr",
     "output_type": "stream",
     "text": [
      "100%|██████████| 11909/11909 [00:00<00:00, 575261.62it/s]\n",
      "07/29/2022 12:04:20 PM WARNING: face_normals incorrect shape, ignoring! \n"
     ]
    },
    {
     "name": "stdout",
     "output_type": "stream",
     "text": [
      "Warning: deduplication not currently supported for this layer's variable layered draco meshes\n",
      "\n",
      "\n",
      "Seg 864691133525367772 returned error on get. Skipping.\n",
      "\n"
     ]
    },
    {
     "name": "stderr",
     "output_type": "stream",
     "text": [
      "07/29/2022 12:04:25 PM WARNING: face_normals incorrect shape, ignoring! \n"
     ]
    },
    {
     "name": "stdout",
     "output_type": "stream",
     "text": [
      "Warning: deduplication not currently supported for this layer's variable layered draco meshes\n"
     ]
    },
    {
     "name": "stderr",
     "output_type": "stream",
     "text": [
      "100%|██████████| 120275/120275 [00:00<00:00, 211754.40it/s]\n",
      "07/29/2022 12:04:45 PM WARNING: face_normals incorrect shape, ignoring! \n"
     ]
    },
    {
     "name": "stdout",
     "output_type": "stream",
     "text": [
      "Warning: deduplication not currently supported for this layer's variable layered draco meshes\n"
     ]
    },
    {
     "name": "stderr",
     "output_type": "stream",
     "text": [
      "100%|██████████| 202161/202161 [00:01<00:00, 178811.47it/s]\n",
      "07/29/2022 12:05:07 PM WARNING: face_normals incorrect shape, ignoring! \n"
     ]
    },
    {
     "name": "stdout",
     "output_type": "stream",
     "text": [
      "Warning: deduplication not currently supported for this layer's variable layered draco meshes\n"
     ]
    },
    {
     "name": "stderr",
     "output_type": "stream",
     "text": [
      "100%|██████████| 194/194 [00:00<00:00, 122618.29it/s]\n",
      "07/29/2022 12:05:09 PM WARNING: face_normals incorrect shape, ignoring! \n"
     ]
    },
    {
     "name": "stdout",
     "output_type": "stream",
     "text": [
      "Warning: deduplication not currently supported for this layer's variable layered draco meshes\n"
     ]
    },
    {
     "name": "stderr",
     "output_type": "stream",
     "text": [
      "100%|██████████| 128/128 [00:00<00:00, 95443.72it/s]\n",
      "07/29/2022 12:05:10 PM WARNING: face_normals incorrect shape, ignoring! \n"
     ]
    },
    {
     "name": "stdout",
     "output_type": "stream",
     "text": [
      "Warning: deduplication not currently supported for this layer's variable layered draco meshes\n"
     ]
    },
    {
     "name": "stderr",
     "output_type": "stream",
     "text": [
      "100%|██████████| 266/266 [00:00<00:00, 170073.91it/s]\n",
      "07/29/2022 12:05:12 PM WARNING: face_normals incorrect shape, ignoring! \n"
     ]
    },
    {
     "name": "stdout",
     "output_type": "stream",
     "text": [
      "Warning: deduplication not currently supported for this layer's variable layered draco meshes\n"
     ]
    },
    {
     "name": "stderr",
     "output_type": "stream",
     "text": [
      "100%|██████████| 1532/1532 [00:00<00:00, 419731.77it/s]\n",
      "07/29/2022 12:05:15 PM WARNING: face_normals incorrect shape, ignoring! \n"
     ]
    },
    {
     "name": "stdout",
     "output_type": "stream",
     "text": [
      "Warning: deduplication not currently supported for this layer's variable layered draco meshes\n"
     ]
    },
    {
     "name": "stderr",
     "output_type": "stream",
     "text": [
      "100%|██████████| 2876/2876 [00:00<00:00, 369900.29it/s]\n",
      "07/29/2022 12:05:17 PM WARNING: face_normals incorrect shape, ignoring! \n"
     ]
    },
    {
     "name": "stdout",
     "output_type": "stream",
     "text": [
      "Warning: deduplication not currently supported for this layer's variable layered draco meshes\n"
     ]
    },
    {
     "name": "stderr",
     "output_type": "stream",
     "text": [
      "100%|██████████| 4484/4484 [00:00<00:00, 618741.25it/s]\n",
      "07/29/2022 12:05:19 PM WARNING: face_normals incorrect shape, ignoring! \n"
     ]
    },
    {
     "name": "stdout",
     "output_type": "stream",
     "text": [
      "Warning: deduplication not currently supported for this layer's variable layered draco meshes\n"
     ]
    },
    {
     "name": "stderr",
     "output_type": "stream",
     "text": [
      "100%|██████████| 13121/13121 [00:00<00:00, 530678.30it/s]\n",
      "07/29/2022 12:05:21 PM WARNING: face_normals incorrect shape, ignoring! \n"
     ]
    },
    {
     "name": "stdout",
     "output_type": "stream",
     "text": [
      "Warning: deduplication not currently supported for this layer's variable layered draco meshes\n"
     ]
    },
    {
     "name": "stderr",
     "output_type": "stream",
     "text": [
      "100%|██████████| 1758/1758 [00:00<00:00, 485200.13it/s]\n",
      "07/29/2022 12:05:23 PM WARNING: face_normals incorrect shape, ignoring! \n"
     ]
    },
    {
     "name": "stdout",
     "output_type": "stream",
     "text": [
      "Warning: deduplication not currently supported for this layer's variable layered draco meshes\n",
      "\n",
      "\n",
      "Seg 864691132647441812 returned error on get. Skipping.\n",
      "\n"
     ]
    },
    {
     "name": "stderr",
     "output_type": "stream",
     "text": [
      "07/29/2022 12:05:25 PM WARNING: face_normals incorrect shape, ignoring! \n"
     ]
    },
    {
     "name": "stdout",
     "output_type": "stream",
     "text": [
      "Warning: deduplication not currently supported for this layer's variable layered draco meshes\n"
     ]
    },
    {
     "name": "stderr",
     "output_type": "stream",
     "text": [
      "100%|██████████| 20125/20125 [00:00<00:00, 391919.14it/s]\n",
      "07/29/2022 12:05:29 PM WARNING: face_normals incorrect shape, ignoring! \n"
     ]
    },
    {
     "name": "stdout",
     "output_type": "stream",
     "text": [
      "Warning: deduplication not currently supported for this layer's variable layered draco meshes\n"
     ]
    },
    {
     "name": "stderr",
     "output_type": "stream",
     "text": [
      "100%|██████████| 11410/11410 [00:00<00:00, 765100.06it/s]\n",
      "07/29/2022 12:05:33 PM WARNING: face_normals incorrect shape, ignoring! \n"
     ]
    },
    {
     "name": "stdout",
     "output_type": "stream",
     "text": [
      "Warning: deduplication not currently supported for this layer's variable layered draco meshes\n"
     ]
    },
    {
     "name": "stderr",
     "output_type": "stream",
     "text": [
      "100%|██████████| 15601/15601 [00:00<00:00, 639023.20it/s]\n",
      "07/29/2022 12:05:36 PM WARNING: face_normals incorrect shape, ignoring! \n"
     ]
    },
    {
     "name": "stdout",
     "output_type": "stream",
     "text": [
      "Warning: deduplication not currently supported for this layer's variable layered draco meshes\n",
      "\n",
      "\n",
      "Seg 864691136597387729 returned error on get. Skipping.\n",
      "\n"
     ]
    },
    {
     "name": "stderr",
     "output_type": "stream",
     "text": [
      "07/29/2022 12:05:38 PM WARNING: face_normals incorrect shape, ignoring! \n"
     ]
    },
    {
     "name": "stdout",
     "output_type": "stream",
     "text": [
      "Warning: deduplication not currently supported for this layer's variable layered draco meshes\n"
     ]
    },
    {
     "name": "stderr",
     "output_type": "stream",
     "text": [
      "100%|██████████| 13348/13348 [00:00<00:00, 520858.99it/s]\n",
      "07/29/2022 12:05:41 PM WARNING: face_normals incorrect shape, ignoring! \n"
     ]
    },
    {
     "name": "stdout",
     "output_type": "stream",
     "text": [
      "Warning: deduplication not currently supported for this layer's variable layered draco meshes\n"
     ]
    },
    {
     "name": "stderr",
     "output_type": "stream",
     "text": [
      "100%|██████████| 2543/2543 [00:00<00:00, 522362.26it/s]\n",
      "07/29/2022 12:05:43 PM WARNING: face_normals incorrect shape, ignoring! \n"
     ]
    },
    {
     "name": "stdout",
     "output_type": "stream",
     "text": [
      "Warning: deduplication not currently supported for this layer's variable layered draco meshes\n"
     ]
    },
    {
     "name": "stderr",
     "output_type": "stream",
     "text": [
      "100%|██████████| 13258/13258 [00:00<00:00, 560186.99it/s]\n",
      "07/29/2022 12:05:46 PM WARNING: face_normals incorrect shape, ignoring! \n"
     ]
    },
    {
     "name": "stdout",
     "output_type": "stream",
     "text": [
      "Warning: deduplication not currently supported for this layer's variable layered draco meshes\n"
     ]
    },
    {
     "name": "stderr",
     "output_type": "stream",
     "text": [
      "100%|██████████| 9618/9618 [00:00<00:00, 743047.94it/s]\n",
      "07/29/2022 12:05:51 PM WARNING: face_normals incorrect shape, ignoring! \n"
     ]
    },
    {
     "name": "stdout",
     "output_type": "stream",
     "text": [
      "Warning: deduplication not currently supported for this layer's variable layered draco meshes\n"
     ]
    },
    {
     "name": "stderr",
     "output_type": "stream",
     "text": [
      "100%|██████████| 38734/38734 [00:00<00:00, 194951.88it/s]\n",
      "07/29/2022 12:05:56 PM WARNING: face_normals incorrect shape, ignoring! \n"
     ]
    },
    {
     "name": "stdout",
     "output_type": "stream",
     "text": [
      "Warning: deduplication not currently supported for this layer's variable layered draco meshes\n"
     ]
    },
    {
     "name": "stderr",
     "output_type": "stream",
     "text": [
      "100%|██████████| 811/811 [00:00<00:00, 241144.23it/s]\n",
      "07/29/2022 12:05:57 PM WARNING: face_normals incorrect shape, ignoring! \n"
     ]
    },
    {
     "name": "stdout",
     "output_type": "stream",
     "text": [
      "Warning: deduplication not currently supported for this layer's variable layered draco meshes\n"
     ]
    },
    {
     "name": "stderr",
     "output_type": "stream",
     "text": [
      "100%|██████████| 9313/9313 [00:00<00:00, 462990.15it/s]\n"
     ]
    },
    {
     "name": "stdout",
     "output_type": "stream",
     "text": [
      "[[  99.46356117 4423.90008929]\n",
      " [4415.78452826   24.37211521]]\n",
      "[[ 146.85366866 5470.51569781 9272.57704201]\n",
      " [5554.85157317  495.77414213 8350.73439884]\n",
      " [9231.09576378 8664.4402589   368.27978495]]\n",
      "skipping \n",
      "\n",
      "skipping \n",
      "\n",
      "[[173.70377083 226.46191733]\n",
      " [146.63560277 252.88337233]]\n",
      "[[358.60842154 495.25548962]\n",
      " [491.02851241 233.07724042]]\n",
      "[[  65.7267069  4494.89933146]\n",
      " [4475.84450132  624.97999968]]\n",
      "[[901.23748258 517.58284361]\n",
      " [826.68313156 572.19926599]]\n",
      "skipping \n",
      "\n",
      "[[648.0686692   81.63332653]\n",
      " [107.42904635 605.6153895 ]]\n",
      "[[ 4128.18483113  3189.93291466    91.23595782]\n",
      " [  170.76592166  3482.68416598  4007.43771006]\n",
      " [11292.02129824  8929.37315829 11956.89278199]\n",
      " [13982.45489891 13733.27073206 16546.69710244]\n",
      " [ 7099.01887587  3574.97762231  6076.14853341]]\n",
      "[[8128.64742746  864.88033854]\n",
      " [ 315.13171849 8280.50898194]]\n",
      "[[  802.63628126  3717.38079836 10550.35264813]\n",
      " [10174.82270116  7734.51601589   253.21334878]\n",
      " [ 3197.35218579   939.4423878   8381.84043036]]\n",
      "[[  657.3864921  12356.94270441]\n",
      " [12607.73147715    40.01249805]]\n",
      "[[358.52057124  26.07680962]\n",
      " [ 56.04462508 314.89680849]]\n",
      "[[ 632.51561246  629.52442367]\n",
      " [ 642.04750603 1205.60773057]]\n",
      "skipping \n",
      "\n",
      "[[ 37.36308338 514.76693756]\n",
      " [501.74196556  38.85871846]]\n",
      "[[34041.63876784 31834.05071617 24858.62701357  1196.39165828]\n",
      " [  281.82441342  2356.785947    9314.39455896 33086.30786292]]\n",
      "[[4675.35089592  353.72022843]\n",
      " [  88.20430828 4446.01304541]]\n",
      "[[123.97580409 682.20231603]\n",
      " [594.66797459  82.21921916]]\n",
      "[[  96.42095208 1749.52479262]\n",
      " [1622.45369734  458.97712361]]\n",
      "[[3712.40905613  559.51407489]\n",
      " [ 239.59340559 4046.79725215]]\n",
      "skipping \n",
      "\n",
      "[[1026.45214209  801.50483467]\n",
      " [ 513.0984311  1353.38095154]\n",
      " [ 994.47724961  182.20043908]]\n",
      "[[ 315.70397527 1909.91203986]\n",
      " [1556.73568726  809.35838786]]\n",
      "[[13630.80280101    38.94868419]\n",
      " [  830.40291425 13620.68739088]]\n",
      "[[562.729953   135.3070582 ]\n",
      " [126.54643417 595.58794481]]\n",
      "[[ 101.93134945 4868.93725571]\n",
      " [4959.18098077   30.72458299]]\n",
      "[[  48.88762625 5029.54560572]\n",
      " [5920.58147482 2289.41040445]]\n",
      "[[  14.86606875 8083.54829267]\n",
      " [8031.90002428  139.17614738]]\n",
      "[[3140.96879959  548.80324343]\n",
      " [ 217.33154396 2828.26536944]]\n",
      "[[ 774.19700335 5053.42309727]\n",
      " [ 612.68670624 5120.38758299]\n",
      " [5673.50209306   84.        ]]\n",
      "[[16271.3315374   1838.26983873]\n",
      " [  758.89656739 17297.52901428]]\n",
      "[[14102.25460698  6289.34654793  7228.31847666  7941.92375939\n",
      "   5860.16083397   120.65653733  6205.24366967]\n",
      " [13490.80360838  9103.78871679  8456.15261215  9887.33209718\n",
      "   7570.78463569  6137.64686179   114.27160627]\n",
      " [ 7142.88849136  2328.45721455    39.86226286  4800.11812355\n",
      "   3143.47228396  7310.09336466  8508.53077799]\n",
      " [ 8983.21668446   151.01324445  2230.20738946  5433.86602706\n",
      "   3803.59303817  6365.88320659  9125.85612422]\n",
      " [   82.56512581  9018.89682833  7064.19705274  8417.82305587\n",
      "   8702.44362234 14172.27271823 13451.78148053]]\n",
      "[[5794.38529958 6356.7184144   135.32183859]\n",
      " [2064.61449186   16.88194302 6440.60478527]]\n",
      "[[4.50567954e+04 1.95527682e+04 4.32130717e+04 3.61400069e+04\n",
      "  2.88308804e+04 1.60921288e+04 2.43874006e+04 3.96036614e+02\n",
      "  6.84594369e+03 2.76317840e+04 2.11539684e+04]\n",
      " [4.96027166e+04 3.50540310e+04 4.65528773e+04 4.10964200e+04\n",
      "  3.51900786e+04 2.56049446e+04 2.81851677e+04 2.11822273e+04\n",
      "  1.94390054e+04 2.59480859e+04 1.19770614e+02]\n",
      " [3.94565994e+04 1.76924279e+04 3.74326762e+04 3.04801133e+04\n",
      "  2.33836711e+04 1.05374384e+04 1.87831214e+04 6.75872325e+03\n",
      "  3.05754804e+02 2.17274451e+04 1.97742795e+04]\n",
      " [3.08923464e+04 2.94788059e+01 3.02752051e+04 2.33337256e+04\n",
      "  1.68508351e+04 1.21898493e+04 1.72754401e+04 1.92451296e+04\n",
      "  1.78571114e+04 2.40759315e+04 3.50968094e+04]\n",
      " [2.39736267e+04 2.40849685e+04 2.07564881e+04 1.61690038e+04\n",
      "  1.25535155e+04 1.44435247e+04 7.05194562e+03 2.75182756e+04\n",
      "  2.15612117e+04 5.80689246e+01 2.59303084e+04]\n",
      " [1.69526623e+04 3.74175293e+04 1.44405559e+04 1.79942325e+04\n",
      "  2.22190963e+04 3.27249794e+04 2.34454581e+04 4.72716312e+04\n",
      "  4.18426409e+04 2.11124565e+04 4.53483959e+04]\n",
      " [1.71688672e+02 3.07966662e+04 3.50946221e+03 8.88641829e+03\n",
      "  1.61709604e+04 2.89191754e+04 2.21129889e+04 4.47682982e+04\n",
      "  3.93289749e+04 2.38090284e+04 4.94339803e+04]]\n",
      "[[  150.56227947 10139.99802761  9720.50770279]\n",
      " [10274.09363399   239.8353602   4692.46470418]\n",
      " [ 9706.69093976  5391.09562149   749.00333778]]\n",
      "[[13287.84832093 11924.3910117  12666.62338589 10743.91027513\n",
      "  11108.58933438]\n",
      " [11162.08313891  3678.04567671  1975.96685195  2588.36801866\n",
      "   1021.83266732]\n",
      " [  314.23717158  7707.22965793 10312.37799928  8624.81443279\n",
      "  11753.47782573]]\n",
      "[[   41.43669871 20114.63521916]\n",
      " [20059.3399692     97.90301323]]\n",
      "skipping \n",
      "\n",
      "[[ 385.75121516 2269.35453378 6356.16551075]\n",
      " [2036.26913742   15.16575089 6922.34208921]\n",
      " [6698.05232885 6982.27677767  196.23710149]]\n",
      "skipping \n",
      "\n",
      "[[10766.71491217 10795.95850307  7354.95622013    89.10667764]\n",
      " [ 5875.00306383  5399.21003481    32.06243908  7446.11099837]\n",
      " [ 1426.61312205   156.08010764  5577.4343564  10982.13553914]]\n",
      "[[  180.29143074 25361.66280038]\n",
      " [25233.5133503     26.17250466]]\n",
      "skipping \n",
      "\n",
      "[[1325.23507349  387.45967532 3857.5413154 ]\n",
      " [3161.97991771 3651.31401005  211.43793416]]\n",
      "[[8038.83362186 5166.50055647  339.53055827]\n",
      " [3601.18841495   24.         5241.9398127 ]\n",
      " [  61.77378085 3587.78065104 8078.02457288]]\n",
      "skipping \n",
      "\n",
      "skipping \n",
      "\n",
      "[[ 134.33167906 2601.44056246]\n",
      " [2675.36726451   16.43167673]]\n",
      "[[  102.32301794  3504.01198628 11723.69967203]\n",
      " [11797.9401592   9240.54619598    50.19960159]]\n",
      "[[352.76054201 152.72524349]\n",
      " [ 21.3541565  455.48325985]]\n",
      "[[1699.82499099   26.92582404]\n",
      " [  27.07397274 1686.14619769]]\n",
      "[[ 12735.57372088  35001.25403468  26599.29173869  31009.2873346\n",
      "   18918.2796258   21415.43819304    195.        ]\n",
      " [   301.27230208  29328.06330121  20596.38774154  25772.44656605\n",
      "   13893.6083506   16828.08046094  12851.58239284]\n",
      " [ 64509.84775211  35976.8216634   45516.34141712  40144.50859084\n",
      "   52716.28075841  49759.24316145  70017.38436988]\n",
      " [ 72187.74902295  42949.80131502  52173.1623155   46692.69514603\n",
      "   59320.50088292  56256.50353515  76470.50367298]\n",
      " [ 68360.7938295   40015.56258507  49292.89741941  44239.97294303\n",
      "   56826.52029642  53986.53469153  74924.55799002]\n",
      " [113576.93540504  85373.08518497  94868.54986243  89575.09471388\n",
      "  102162.50138872  99230.29741465 119370.20541576]\n",
      " [ 58934.454074    31081.74507649  40358.9344012   35395.96869701\n",
      "   47788.1562419   45007.34462285  65755.84007524]\n",
      " [ 66034.22107514  38490.39684129  47676.72327247  42804.27198306\n",
      "   55135.50566559  52394.03532846  73148.50202157]]\n",
      "skipping \n",
      "\n",
      "[[3118.03624097 2715.30403454  182.75940468]\n",
      " [1867.67609612  341.8420688  2969.0680356 ]\n",
      " [ 237.05906437 1942.45128639 3063.23195335]]\n",
      "[[ 179.55779014 8997.95098898]\n",
      " [9016.72512612   18.13835715]]\n",
      "[[355.19149765 487.7191815 ]\n",
      " [ 49.04079934 707.92513729]]\n",
      "[[33091.47897873  5453.96452134   128.77888026]\n",
      " [ 1215.36002896 27800.90027319 33288.84685597]]\n",
      "[[4091.22108911   18.86796226]\n",
      " [  40.80441153 4068.75226574]]\n",
      "[[10109.88036527   155.2836115 ]\n",
      " [   16.88194302 10227.94920793]]\n",
      "skipping \n",
      "\n",
      "[[3.76209746e+04 4.17216896e+04 4.24502617e+04 1.40036211e+04\n",
      "  1.24854545e+04 8.62515374e+03 8.03767485e+03 3.10644491e+01]\n",
      " [1.54378187e+04 3.68919409e+03 7.89936706e+01 3.35119813e+04\n",
      "  3.41707110e+04 3.56190252e+04 3.73391194e+04 4.23995665e+04]]\n",
      "[[1.53406421e+03 1.94164878e+01 3.84468895e+04]\n",
      " [3.81276523e+04 3.84133919e+04 4.12310563e+01]]\n",
      "[[19864.73951503 22595.52814165  7738.78207472   444.96404349]\n",
      " [11735.7593704  15914.75818227  2189.38347486  9321.85051371]\n",
      " [ 5936.93329927    59.8414572  15733.12788355 22988.30224266]]\n",
      "[[2617.98242928   58.9067059 ]\n",
      " [ 134.12680567 2526.06650744]]\n",
      "skipping \n",
      "\n",
      "[[2181.11118469 6958.83675624  434.84365006]\n",
      " [5488.58141964  606.60118694 6716.95593256]]\n",
      "skipping \n",
      "\n",
      "skipping \n",
      "\n",
      "[[728.33646071 821.10291681]\n",
      " [536.80257078  56.96490147]]\n",
      "[[ 3909.81099287    28.72281323 25144.70258325]\n",
      " [23509.82254293 25148.07199369    48.60041152]]\n",
      "[[  131.48383931 12935.8821887  21815.46309387]\n",
      " [13095.24799307   399.20921833 18095.85814489]\n",
      " [21916.76173617 18056.13737763    64.90762667]]\n",
      "[[  46.43274706 5320.16447114]\n",
      " [5685.48617094  461.89284472]]\n",
      "[[3211.97073461   38.89730068]\n",
      " [  30.7408523  3229.0676673 ]]\n",
      "skipping \n",
      "\n",
      "[[620.95813063 151.21177203]\n",
      " [218.73499949 552.63821801]]\n",
      "skipping \n",
      "\n",
      "[[1430.60267021  183.84776311 2427.92298066]\n",
      " [1941.98455195 2540.09133694   20.14944168]]\n",
      "[[   31.89043744 12745.44314647]\n",
      " [12741.17047213    30.01666204]]\n",
      "[[7605.6870827    88.60022573 9508.79498149]\n",
      " [6684.9412862  9589.93879021   31.144823  ]\n",
      " [  43.79497688 7638.56138288 6656.71961254]]\n",
      "[[ 935.98344002 2534.72089193]\n",
      " [1850.50506619   62.        ]]\n",
      "[[1619.99876543 1284.47070811]\n",
      " [ 105.89145386 1031.67824442]]\n",
      "[[   75.74958746  6510.60058674 11021.62478948]\n",
      " [11065.46799733  4853.89328272   248.2035455 ]]\n",
      "skipping \n",
      "\n",
      "[[310.85366332  23.02172887]\n",
      " [ 62.4899992  303.19135872]]\n",
      "skipping \n",
      "\n",
      "[[   40.31128874 12244.73049928]\n",
      " [12212.52574204    46.09772229]]\n",
      "[[ 5963.93569717 14680.46378695    96.64884893]\n",
      " [ 9660.69666225    65.32993188 14711.3417471 ]]\n",
      "[[1109.86485664 3692.88505101]\n",
      " [2858.46899581   32.26453161]]\n",
      "[[4383.26647604 6625.7616166   805.82938641]\n",
      " [2635.96092536   45.475268   6080.72758804]]\n",
      "[[299.8349546  881.41080093]\n",
      " [776.66273246  45.48626166]]\n",
      "[[4345.46487732  142.46754016 8994.61805748]\n",
      " [7223.4288257  9523.42816427  725.81333688]]\n",
      "skipping \n",
      "\n",
      "[[ 50971.90969544 104903.52570338  68877.84624972  69601.12287169\n",
      "   50977.3090404   37458.22980334  32724.09505242    223.90176417]\n",
      " [   247.97177259  58257.45934213  23492.67945552  24605.16199906\n",
      "   12148.74944181  16761.69203869  21044.78008913  51145.82626178]\n",
      " [ 58174.28027058    167.16458955  36412.88591969  35762.25286528\n",
      "   55096.19992341  68473.48112226  72770.63700422 104960.22963485]]\n",
      "skipping \n",
      "\n",
      "[[ 1169.28396893    50.21951812 20369.20933664 21178.14800685\n",
      "  22693.15000171]\n",
      " [22746.87391709 22673.23818955  2769.20656507  1592.80413108\n",
      "     47.16990566]]\n",
      "[[11691.13086917  9801.80677222  9378.60570661   235.75623003]\n",
      " [  208.540164   15491.69041777  2728.81384488 11749.98114892]\n",
      " [15814.15486202   354.9154829  14240.8687235   9929.1142606 ]]\n",
      "skipping \n",
      "\n",
      "[[7405.00506414   71.86793444]\n",
      " [1041.80468419 7166.27378768]]\n",
      "skipping \n",
      "\n",
      "[[ 241.85532866 1607.08244966]\n",
      " [1651.96277198  120.70211266]]\n",
      "[[ 45.12205669 225.22211259]\n",
      " [239.06066176  56.64803615]]\n",
      "[[5477.85049084  865.63560463 9255.64584456]\n",
      " [5316.68176591 8598.90365105  211.10423965]]\n",
      "skipping \n",
      "\n",
      "[[  591.34930456 22345.55718706 20834.35396167 32221.76342164\n",
      "  28132.42209622 18346.75491742 23968.62065285 28552.57153042\n",
      "  33621.04781235 33355.17911809 35467.64570704 26253.03237723]\n",
      " [21964.59917686    74.97332859 25135.39575976 14815.47046165\n",
      "  11708.64885459 18790.40406697 19885.16142756 17245.05610313\n",
      "  16683.97137974 17666.75004068 20839.42103322 19991.73929402]\n",
      " [29138.15301285 12566.00003979 23355.91762274  4316.74194272\n",
      "   1159.97499973 16395.49111799 13768.579629    7046.28299176\n",
      "   4531.07856917  5175.55340036  8393.80205866 12749.20985787]\n",
      " [21090.70212203 25336.70917858   172.11914478 24363.70587575\n",
      "  22715.49966433 12222.70174716 11740.74060696 18521.69303816\n",
      "  26040.63236559 24634.55499903 26155.31903839 19618.24959062]\n",
      " [24017.2248605  19923.11566999 11706.35541063 15462.8802621\n",
      "  13167.82537096  6541.77804576    35.4964787   7777.74935312\n",
      "  15798.07925034 14257.72527439 15129.8856572   8555.66064077]\n",
      " [26686.70335579 20175.2463182  19779.53500465 15804.26904352\n",
      "  12219.50281313  9519.67488941  8702.17133824  8666.01898221\n",
      "  14056.78661715 12916.80796482 12349.07211089   325.30754679]\n",
      " [29086.42803783 17484.98452959 18847.49917098  7881.35775105\n",
      "   6918.81991383 13060.30818932  8317.81377527   714.30035699\n",
      "   7654.9833442   5982.61548154  7460.83520794  9368.27225266]\n",
      " [32272.01637642 15114.68084347 24389.70065417   271.99448524\n",
      "   5440.21801034 19388.34982664 15544.6416813   8389.15573821\n",
      "   4053.78995509  4594.41759095  8307.25544329 15990.67359432]\n",
      " [33505.35419899 16721.38427284 26019.9288431   4125.32277525\n",
      "   5654.70361734 19484.60659084 15827.77501735  8099.26965843\n",
      "     36.74234614  2126.70073118  5012.11991078 14217.90297477]\n",
      " [35371.1980289  20700.96582288 26253.68037057  8304.35271409\n",
      "   9062.62461983 19458.9074719  15245.72936924  7930.21468814\n",
      "   4822.75854672  3690.78555324   291.10135692 12630.15601646]]\n",
      "skipping \n",
      "\n",
      "skipping \n",
      "\n",
      "skipping \n",
      "\n",
      "skipping \n",
      "\n",
      "[[1773.9574403   262.78698598]\n",
      " [  12.36931688 1964.69157885]]\n",
      "[[2931.81121493   94.95261976]\n",
      " [ 101.78899744 2977.3716597 ]]\n",
      "[[5963.40339068  941.31450642]\n",
      " [  41.0487515  5354.89215578]]\n",
      "[[17026.81520426    20.90454496 19963.30669003]\n",
      " [ 3509.92948647 19956.17247871    25.        ]]\n",
      "[[1631.98774505  139.89996426]\n",
      " [  94.27619    1655.5470395 ]]\n",
      "[[5.24722708e+03 6.10227572e+03 3.18216907e+02 1.72840896e+04\n",
      "  1.09311354e+04 2.03664803e+04]\n",
      " [1.65972974e+04 1.46402354e+04 2.03785424e+04 4.23783305e+03\n",
      "  1.00837706e+04 9.21954446e+00]]\n",
      "[[10355.88513841    35.28455753]\n",
      " [   31.06444913 10358.44124374]]\n",
      "skipping \n",
      "\n",
      "skipping \n",
      "\n",
      "[[   61.40032573  5161.01055996 16096.10241642]\n",
      " [16090.07426956 11216.67999009    49.12229636]]\n",
      "[[ 567.43369657 3469.70978613]\n",
      " [3244.97411392   68.02940541]]\n",
      "[[16733.89643807  8273.97316892   682.07111066]\n",
      " [   59.51470407 11144.90735717 16849.42506438]]\n",
      "[[11926.12267252   124.6314567 ]\n",
      " [  118.41030361 11931.48532246]]\n",
      "skipping \n",
      "\n",
      "[[ 106.62082348  894.87261663]\n",
      " [1033.07550547  708.78064308]]\n",
      "skipping \n",
      "\n"
     ]
    },
    {
     "name": "stderr",
     "output_type": "stream",
     "text": [
      "07/29/2022 12:06:00 PM WARNING: face_normals incorrect shape, ignoring! \n"
     ]
    },
    {
     "name": "stdout",
     "output_type": "stream",
     "text": [
      "Warning: deduplication not currently supported for this layer's variable layered draco meshes\n"
     ]
    },
    {
     "name": "stderr",
     "output_type": "stream",
     "text": [
      "100%|██████████| 3996/3996 [00:00<00:00, 543305.74it/s]\n",
      "07/29/2022 12:06:03 PM WARNING: face_normals incorrect shape, ignoring! \n"
     ]
    },
    {
     "name": "stdout",
     "output_type": "stream",
     "text": [
      "Warning: deduplication not currently supported for this layer's variable layered draco meshes\n"
     ]
    },
    {
     "name": "stderr",
     "output_type": "stream",
     "text": [
      "  0%|          | 0/10649 [00:00<?, ?it/s]/Library/Frameworks/Python.framework/Versions/3.8/lib/python3.8/site-packages/meshparty/skeletonize.py:613: RuntimeWarning: invalid value encountered in multiply\n",
      "  target = np.nanargmax(root_ds * valid)\n",
      "100%|██████████| 10649/10649 [00:00<00:00, 531727.90it/s]\n",
      "07/29/2022 12:06:05 PM WARNING: face_normals incorrect shape, ignoring! \n"
     ]
    },
    {
     "name": "stdout",
     "output_type": "stream",
     "text": [
      "Warning: deduplication not currently supported for this layer's variable layered draco meshes\n"
     ]
    },
    {
     "name": "stderr",
     "output_type": "stream",
     "text": [
      "100%|██████████| 1140/1140 [00:00<00:00, 307769.47it/s]\n",
      "07/29/2022 12:06:11 PM WARNING: face_normals incorrect shape, ignoring! \n"
     ]
    },
    {
     "name": "stdout",
     "output_type": "stream",
     "text": [
      "Warning: deduplication not currently supported for this layer's variable layered draco meshes\n"
     ]
    },
    {
     "name": "stderr",
     "output_type": "stream",
     "text": [
      "100%|██████████| 91377/91377 [00:00<00:00, 231618.41it/s]\n",
      "07/29/2022 12:06:21 PM WARNING: face_normals incorrect shape, ignoring! \n"
     ]
    },
    {
     "name": "stdout",
     "output_type": "stream",
     "text": [
      "Warning: deduplication not currently supported for this layer's variable layered draco meshes\n"
     ]
    },
    {
     "name": "stderr",
     "output_type": "stream",
     "text": [
      "100%|██████████| 117/117 [00:00<00:00, 77684.59it/s]\n",
      "07/29/2022 12:06:23 PM WARNING: face_normals incorrect shape, ignoring! \n"
     ]
    },
    {
     "name": "stdout",
     "output_type": "stream",
     "text": [
      "Warning: deduplication not currently supported for this layer's variable layered draco meshes\n"
     ]
    },
    {
     "name": "stderr",
     "output_type": "stream",
     "text": [
      "100%|██████████| 725/725 [00:00<00:00, 237697.99it/s]\n",
      "07/29/2022 12:06:24 PM WARNING: face_normals incorrect shape, ignoring! \n"
     ]
    },
    {
     "name": "stdout",
     "output_type": "stream",
     "text": [
      "Warning: deduplication not currently supported for this layer's variable layered draco meshes\n"
     ]
    },
    {
     "name": "stderr",
     "output_type": "stream",
     "text": [
      "100%|██████████| 3024/3024 [00:00<00:00, 557225.87it/s]\n",
      "07/29/2022 12:06:26 PM WARNING: face_normals incorrect shape, ignoring! \n"
     ]
    },
    {
     "name": "stdout",
     "output_type": "stream",
     "text": [
      "Warning: deduplication not currently supported for this layer's variable layered draco meshes\n"
     ]
    },
    {
     "name": "stderr",
     "output_type": "stream",
     "text": [
      "100%|██████████| 590/590 [00:00<00:00, 273440.81it/s]\n",
      "07/29/2022 12:06:29 PM WARNING: face_normals incorrect shape, ignoring! \n"
     ]
    },
    {
     "name": "stdout",
     "output_type": "stream",
     "text": [
      "Warning: deduplication not currently supported for this layer's variable layered draco meshes\n"
     ]
    },
    {
     "name": "stderr",
     "output_type": "stream",
     "text": [
      "100%|██████████| 33205/33205 [00:00<00:00, 151856.68it/s]\n",
      "07/29/2022 12:06:33 PM WARNING: face_normals incorrect shape, ignoring! \n"
     ]
    },
    {
     "name": "stdout",
     "output_type": "stream",
     "text": [
      "Warning: deduplication not currently supported for this layer's variable layered draco meshes\n"
     ]
    },
    {
     "name": "stderr",
     "output_type": "stream",
     "text": [
      "100%|██████████| 338/338 [00:00<00:00, 196517.15it/s]\n",
      "07/29/2022 12:06:34 PM WARNING: face_normals incorrect shape, ignoring! \n"
     ]
    },
    {
     "name": "stdout",
     "output_type": "stream",
     "text": [
      "Warning: deduplication not currently supported for this layer's variable layered draco meshes\n"
     ]
    },
    {
     "name": "stderr",
     "output_type": "stream",
     "text": [
      "100%|██████████| 5856/5856 [00:00<00:00, 466972.97it/s]\n",
      "07/29/2022 12:06:36 PM WARNING: face_normals incorrect shape, ignoring! \n"
     ]
    },
    {
     "name": "stdout",
     "output_type": "stream",
     "text": [
      "Warning: deduplication not currently supported for this layer's variable layered draco meshes\n"
     ]
    },
    {
     "name": "stderr",
     "output_type": "stream",
     "text": [
      "100%|██████████| 7270/7270 [00:00<00:00, 520333.61it/s]\n",
      "07/29/2022 12:06:38 PM WARNING: face_normals incorrect shape, ignoring! \n"
     ]
    },
    {
     "name": "stdout",
     "output_type": "stream",
     "text": [
      "Warning: deduplication not currently supported for this layer's variable layered draco meshes\n"
     ]
    },
    {
     "name": "stderr",
     "output_type": "stream",
     "text": [
      "100%|██████████| 12420/12420 [00:00<00:00, 383058.36it/s]\n",
      "07/29/2022 12:06:41 PM WARNING: face_normals incorrect shape, ignoring! \n"
     ]
    },
    {
     "name": "stdout",
     "output_type": "stream",
     "text": [
      "Warning: deduplication not currently supported for this layer's variable layered draco meshes\n"
     ]
    },
    {
     "name": "stderr",
     "output_type": "stream",
     "text": [
      "100%|██████████| 11545/11545 [00:00<00:00, 716860.94it/s]\n",
      "07/29/2022 12:06:44 PM WARNING: face_normals incorrect shape, ignoring! \n"
     ]
    },
    {
     "name": "stdout",
     "output_type": "stream",
     "text": [
      "Warning: deduplication not currently supported for this layer's variable layered draco meshes\n",
      "\n",
      "\n",
      "Seg 864691133692934758 returned error on get. Skipping.\n",
      "\n"
     ]
    },
    {
     "name": "stderr",
     "output_type": "stream",
     "text": [
      "07/29/2022 12:06:46 PM WARNING: face_normals incorrect shape, ignoring! \n"
     ]
    },
    {
     "name": "stdout",
     "output_type": "stream",
     "text": [
      "Warning: deduplication not currently supported for this layer's variable layered draco meshes\n"
     ]
    },
    {
     "name": "stderr",
     "output_type": "stream",
     "text": [
      "100%|██████████| 158/158 [00:00<00:00, 46900.21it/s]\n",
      "07/29/2022 12:06:48 PM WARNING: face_normals incorrect shape, ignoring! \n"
     ]
    },
    {
     "name": "stdout",
     "output_type": "stream",
     "text": [
      "Warning: deduplication not currently supported for this layer's variable layered draco meshes\n"
     ]
    },
    {
     "name": "stderr",
     "output_type": "stream",
     "text": [
      "100%|██████████| 1243/1243 [00:00<00:00, 378257.26it/s]\n",
      "07/29/2022 12:06:50 PM WARNING: face_normals incorrect shape, ignoring! \n"
     ]
    },
    {
     "name": "stdout",
     "output_type": "stream",
     "text": [
      "Warning: deduplication not currently supported for this layer's variable layered draco meshes\n",
      "\n",
      "\n",
      "Seg 864691133946526057 returned error on get. Skipping.\n",
      "\n"
     ]
    },
    {
     "name": "stderr",
     "output_type": "stream",
     "text": [
      "07/29/2022 12:06:51 PM WARNING: face_normals incorrect shape, ignoring! \n"
     ]
    },
    {
     "name": "stdout",
     "output_type": "stream",
     "text": [
      "Warning: deduplication not currently supported for this layer's variable layered draco meshes\n",
      "\n",
      "\n",
      "Seg 864691133712131152 returned error on get. Skipping.\n",
      "\n"
     ]
    },
    {
     "name": "stderr",
     "output_type": "stream",
     "text": [
      "07/29/2022 12:06:52 PM WARNING: face_normals incorrect shape, ignoring! \n"
     ]
    },
    {
     "name": "stdout",
     "output_type": "stream",
     "text": [
      "Warning: deduplication not currently supported for this layer's variable layered draco meshes\n"
     ]
    },
    {
     "name": "stderr",
     "output_type": "stream",
     "text": [
      "100%|██████████| 204/204 [00:00<00:00, 89981.91it/s]\n",
      "07/29/2022 12:06:55 PM WARNING: face_normals incorrect shape, ignoring! \n"
     ]
    },
    {
     "name": "stdout",
     "output_type": "stream",
     "text": [
      "Warning: deduplication not currently supported for this layer's variable layered draco meshes\n"
     ]
    },
    {
     "name": "stderr",
     "output_type": "stream",
     "text": [
      "100%|██████████| 22603/22603 [00:00<00:00, 456987.35it/s]\n",
      "07/29/2022 12:06:58 PM WARNING: face_normals incorrect shape, ignoring! \n"
     ]
    },
    {
     "name": "stdout",
     "output_type": "stream",
     "text": [
      "Warning: deduplication not currently supported for this layer's variable layered draco meshes\n"
     ]
    },
    {
     "name": "stderr",
     "output_type": "stream",
     "text": [
      "100%|██████████| 3568/3568 [00:00<00:00, 663442.69it/s]\n",
      "07/29/2022 12:07:00 PM WARNING: face_normals incorrect shape, ignoring! \n"
     ]
    },
    {
     "name": "stdout",
     "output_type": "stream",
     "text": [
      "Warning: deduplication not currently supported for this layer's variable layered draco meshes\n",
      "\n",
      "\n",
      "Seg 864691133678427777 returned error on get. Skipping.\n",
      "\n"
     ]
    },
    {
     "name": "stderr",
     "output_type": "stream",
     "text": [
      "07/29/2022 12:07:01 PM WARNING: face_normals incorrect shape, ignoring! \n"
     ]
    },
    {
     "name": "stdout",
     "output_type": "stream",
     "text": [
      "Warning: deduplication not currently supported for this layer's variable layered draco meshes\n"
     ]
    },
    {
     "name": "stderr",
     "output_type": "stream",
     "text": [
      "100%|██████████| 556/556 [00:00<00:00, 192666.31it/s]\n",
      "07/29/2022 12:07:02 PM WARNING: face_normals incorrect shape, ignoring! \n"
     ]
    },
    {
     "name": "stdout",
     "output_type": "stream",
     "text": [
      "Warning: deduplication not currently supported for this layer's variable layered draco meshes\n"
     ]
    },
    {
     "name": "stderr",
     "output_type": "stream",
     "text": [
      "100%|██████████| 1119/1119 [00:00<00:00, 410515.72it/s]\n",
      "07/29/2022 12:07:03 PM WARNING: face_normals incorrect shape, ignoring! \n"
     ]
    },
    {
     "name": "stdout",
     "output_type": "stream",
     "text": [
      "Warning: deduplication not currently supported for this layer's variable layered draco meshes\n"
     ]
    },
    {
     "name": "stderr",
     "output_type": "stream",
     "text": [
      "100%|██████████| 3576/3576 [00:00<00:00, 585480.17it/s]\n",
      "07/29/2022 12:07:05 PM WARNING: face_normals incorrect shape, ignoring! \n"
     ]
    },
    {
     "name": "stdout",
     "output_type": "stream",
     "text": [
      "Warning: deduplication not currently supported for this layer's variable layered draco meshes\n"
     ]
    },
    {
     "name": "stderr",
     "output_type": "stream",
     "text": [
      "100%|██████████| 230/230 [00:00<00:00, 111267.58it/s]\n",
      "07/29/2022 12:07:06 PM WARNING: face_normals incorrect shape, ignoring! \n"
     ]
    },
    {
     "name": "stdout",
     "output_type": "stream",
     "text": [
      "Warning: deduplication not currently supported for this layer's variable layered draco meshes\n"
     ]
    },
    {
     "name": "stderr",
     "output_type": "stream",
     "text": [
      "100%|██████████| 1402/1402 [00:00<00:00, 456093.56it/s]\n",
      "07/29/2022 12:07:07 PM WARNING: face_normals incorrect shape, ignoring! \n"
     ]
    },
    {
     "name": "stdout",
     "output_type": "stream",
     "text": [
      "Warning: deduplication not currently supported for this layer's variable layered draco meshes\n",
      "\n",
      "\n",
      "Seg 864691133766052845 returned error on get. Skipping.\n",
      "\n"
     ]
    },
    {
     "name": "stderr",
     "output_type": "stream",
     "text": [
      "07/29/2022 12:07:09 PM WARNING: face_normals incorrect shape, ignoring! \n"
     ]
    },
    {
     "name": "stdout",
     "output_type": "stream",
     "text": [
      "Warning: deduplication not currently supported for this layer's variable layered draco meshes\n"
     ]
    },
    {
     "name": "stderr",
     "output_type": "stream",
     "text": [
      "100%|██████████| 1499/1499 [00:00<00:00, 375112.56it/s]\n",
      "07/29/2022 12:07:11 PM WARNING: face_normals incorrect shape, ignoring! \n"
     ]
    },
    {
     "name": "stdout",
     "output_type": "stream",
     "text": [
      "Warning: deduplication not currently supported for this layer's variable layered draco meshes\n"
     ]
    },
    {
     "name": "stderr",
     "output_type": "stream",
     "text": [
      "100%|██████████| 14992/14992 [00:00<00:00, 719940.07it/s]\n",
      "07/29/2022 12:07:13 PM WARNING: face_normals incorrect shape, ignoring! \n"
     ]
    },
    {
     "name": "stdout",
     "output_type": "stream",
     "text": [
      "Warning: deduplication not currently supported for this layer's variable layered draco meshes\n"
     ]
    },
    {
     "name": "stderr",
     "output_type": "stream",
     "text": [
      "100%|██████████| 351/351 [00:00<00:00, 179975.64it/s]\n"
     ]
    },
    {
     "name": "stdout",
     "output_type": "stream",
     "text": [
      "\n",
      "\n",
      "Seg 864691135467651075 returned error on get. Skipping.\n",
      "\n"
     ]
    },
    {
     "name": "stderr",
     "output_type": "stream",
     "text": [
      "07/29/2022 12:07:19 PM WARNING: face_normals incorrect shape, ignoring! \n"
     ]
    },
    {
     "name": "stdout",
     "output_type": "stream",
     "text": [
      "Warning: deduplication not currently supported for this layer's variable layered draco meshes\n"
     ]
    },
    {
     "name": "stderr",
     "output_type": "stream",
     "text": [
      "100%|██████████| 5274/5274 [00:00<00:00, 647658.01it/s]\n",
      "07/29/2022 12:07:21 PM WARNING: face_normals incorrect shape, ignoring! \n"
     ]
    },
    {
     "name": "stdout",
     "output_type": "stream",
     "text": [
      "Warning: deduplication not currently supported for this layer's variable layered draco meshes\n"
     ]
    },
    {
     "name": "stderr",
     "output_type": "stream",
     "text": [
      "100%|██████████| 7026/7026 [00:00<00:00, 745545.57it/s]\n",
      "07/29/2022 12:07:22 PM WARNING: face_normals incorrect shape, ignoring! \n"
     ]
    },
    {
     "name": "stdout",
     "output_type": "stream",
     "text": [
      "Warning: deduplication not currently supported for this layer's variable layered draco meshes\n"
     ]
    },
    {
     "name": "stderr",
     "output_type": "stream",
     "text": [
      "100%|██████████| 2368/2368 [00:00<00:00, 557983.81it/s]\n",
      "07/29/2022 12:07:25 PM WARNING: face_normals incorrect shape, ignoring! \n"
     ]
    },
    {
     "name": "stdout",
     "output_type": "stream",
     "text": [
      "Warning: deduplication not currently supported for this layer's variable layered draco meshes\n"
     ]
    },
    {
     "name": "stderr",
     "output_type": "stream",
     "text": [
      "100%|██████████| 4525/4525 [00:00<00:00, 455979.28it/s]\n",
      "07/29/2022 12:07:27 PM WARNING: face_normals incorrect shape, ignoring! \n"
     ]
    },
    {
     "name": "stdout",
     "output_type": "stream",
     "text": [
      "Warning: deduplication not currently supported for this layer's variable layered draco meshes\n"
     ]
    },
    {
     "name": "stderr",
     "output_type": "stream",
     "text": [
      "100%|██████████| 15505/15505 [00:00<00:00, 708996.28it/s]\n",
      "07/29/2022 12:07:32 PM WARNING: face_normals incorrect shape, ignoring! \n"
     ]
    },
    {
     "name": "stdout",
     "output_type": "stream",
     "text": [
      "Warning: deduplication not currently supported for this layer's variable layered draco meshes\n"
     ]
    },
    {
     "name": "stderr",
     "output_type": "stream",
     "text": [
      "100%|██████████| 28900/28900 [00:00<00:00, 340528.05it/s]\n",
      "07/29/2022 12:07:36 PM WARNING: face_normals incorrect shape, ignoring! \n"
     ]
    },
    {
     "name": "stdout",
     "output_type": "stream",
     "text": [
      "Warning: deduplication not currently supported for this layer's variable layered draco meshes\n"
     ]
    },
    {
     "name": "stderr",
     "output_type": "stream",
     "text": [
      "100%|██████████| 6582/6582 [00:00<00:00, 573197.45it/s]\n",
      "07/29/2022 12:07:41 PM WARNING: face_normals incorrect shape, ignoring! \n"
     ]
    },
    {
     "name": "stdout",
     "output_type": "stream",
     "text": [
      "Warning: deduplication not currently supported for this layer's variable layered draco meshes\n"
     ]
    },
    {
     "name": "stderr",
     "output_type": "stream",
     "text": [
      "100%|██████████| 105180/105180 [00:00<00:00, 245694.30it/s]\n",
      "07/29/2022 12:07:53 PM WARNING: face_normals incorrect shape, ignoring! \n"
     ]
    },
    {
     "name": "stdout",
     "output_type": "stream",
     "text": [
      "Warning: deduplication not currently supported for this layer's variable layered draco meshes\n"
     ]
    },
    {
     "name": "stderr",
     "output_type": "stream",
     "text": [
      "100%|██████████| 18513/18513 [00:00<00:00, 464170.04it/s]\n",
      "07/29/2022 12:07:58 PM WARNING: face_normals incorrect shape, ignoring! \n"
     ]
    },
    {
     "name": "stdout",
     "output_type": "stream",
     "text": [
      "Warning: deduplication not currently supported for this layer's variable layered draco meshes\n"
     ]
    },
    {
     "name": "stderr",
     "output_type": "stream",
     "text": [
      "100%|██████████| 15061/15061 [00:00<00:00, 307618.65it/s]\n",
      "07/29/2022 12:08:02 PM WARNING: face_normals incorrect shape, ignoring! \n"
     ]
    },
    {
     "name": "stdout",
     "output_type": "stream",
     "text": [
      "Warning: deduplication not currently supported for this layer's variable layered draco meshes\n"
     ]
    },
    {
     "name": "stderr",
     "output_type": "stream",
     "text": [
      "100%|██████████| 14865/14865 [00:00<00:00, 673599.06it/s]\n",
      "07/29/2022 12:08:10 PM WARNING: face_normals incorrect shape, ignoring! \n"
     ]
    },
    {
     "name": "stdout",
     "output_type": "stream",
     "text": [
      "Warning: deduplication not currently supported for this layer's variable layered draco meshes\n"
     ]
    },
    {
     "name": "stderr",
     "output_type": "stream",
     "text": [
      "100%|██████████| 73820/73820 [00:01<00:00, 54913.50it/s] \n",
      "07/29/2022 12:08:26 PM WARNING: face_normals incorrect shape, ignoring! \n"
     ]
    },
    {
     "name": "stdout",
     "output_type": "stream",
     "text": [
      "Warning: deduplication not currently supported for this layer's variable layered draco meshes\n"
     ]
    },
    {
     "name": "stderr",
     "output_type": "stream",
     "text": [
      "100%|██████████| 5791/5791 [00:00<00:00, 547967.66it/s]\n",
      "07/29/2022 12:08:28 PM WARNING: face_normals incorrect shape, ignoring! \n"
     ]
    },
    {
     "name": "stdout",
     "output_type": "stream",
     "text": [
      "Warning: deduplication not currently supported for this layer's variable layered draco meshes\n"
     ]
    },
    {
     "name": "stderr",
     "output_type": "stream",
     "text": [
      "100%|██████████| 14714/14714 [00:00<00:00, 292519.99it/s]\n",
      "07/29/2022 12:08:32 PM WARNING: face_normals incorrect shape, ignoring! \n"
     ]
    },
    {
     "name": "stdout",
     "output_type": "stream",
     "text": [
      "Warning: deduplication not currently supported for this layer's variable layered draco meshes\n"
     ]
    },
    {
     "name": "stderr",
     "output_type": "stream",
     "text": [
      "100%|██████████| 12530/12530 [00:00<00:00, 465905.70it/s]\n",
      "07/29/2022 12:08:36 PM WARNING: face_normals incorrect shape, ignoring! \n"
     ]
    },
    {
     "name": "stdout",
     "output_type": "stream",
     "text": [
      "Warning: deduplication not currently supported for this layer's variable layered draco meshes\n"
     ]
    },
    {
     "name": "stderr",
     "output_type": "stream",
     "text": [
      "100%|██████████| 26058/26058 [00:00<00:00, 687836.61it/s]\n",
      "07/29/2022 12:08:47 PM WARNING: face_normals incorrect shape, ignoring! \n"
     ]
    },
    {
     "name": "stdout",
     "output_type": "stream",
     "text": [
      "Warning: deduplication not currently supported for this layer's variable layered draco meshes\n"
     ]
    },
    {
     "name": "stderr",
     "output_type": "stream",
     "text": [
      "100%|██████████| 210150/210150 [00:01<00:00, 121236.13it/s]\n",
      "07/29/2022 12:09:12 PM WARNING: face_normals incorrect shape, ignoring! \n"
     ]
    },
    {
     "name": "stdout",
     "output_type": "stream",
     "text": [
      "Warning: deduplication not currently supported for this layer's variable layered draco meshes\n"
     ]
    },
    {
     "name": "stderr",
     "output_type": "stream",
     "text": [
      "100%|██████████| 3699/3699 [00:00<00:00, 486126.60it/s]\n",
      "07/29/2022 12:09:14 PM WARNING: face_normals incorrect shape, ignoring! \n"
     ]
    },
    {
     "name": "stdout",
     "output_type": "stream",
     "text": [
      "Warning: deduplication not currently supported for this layer's variable layered draco meshes\n"
     ]
    },
    {
     "name": "stderr",
     "output_type": "stream",
     "text": [
      "100%|██████████| 8352/8352 [00:00<00:00, 536615.97it/s]\n",
      "07/29/2022 12:09:18 PM WARNING: face_normals incorrect shape, ignoring! \n"
     ]
    },
    {
     "name": "stdout",
     "output_type": "stream",
     "text": [
      "Warning: deduplication not currently supported for this layer's variable layered draco meshes\n"
     ]
    },
    {
     "name": "stderr",
     "output_type": "stream",
     "text": [
      "100%|██████████| 17575/17575 [00:00<00:00, 694912.17it/s]\n",
      "07/29/2022 12:09:22 PM WARNING: face_normals incorrect shape, ignoring! \n"
     ]
    },
    {
     "name": "stdout",
     "output_type": "stream",
     "text": [
      "Warning: deduplication not currently supported for this layer's variable layered draco meshes\n"
     ]
    },
    {
     "name": "stderr",
     "output_type": "stream",
     "text": [
      "100%|██████████| 17800/17800 [00:00<00:00, 302249.35it/s]\n",
      "07/29/2022 12:09:24 PM WARNING: face_normals incorrect shape, ignoring! \n"
     ]
    },
    {
     "name": "stdout",
     "output_type": "stream",
     "text": [
      "Warning: deduplication not currently supported for this layer's variable layered draco meshes\n"
     ]
    },
    {
     "name": "stderr",
     "output_type": "stream",
     "text": [
      "100%|██████████| 1644/1644 [00:00<00:00, 431828.39it/s]\n",
      "07/29/2022 12:09:26 PM WARNING: face_normals incorrect shape, ignoring! \n"
     ]
    },
    {
     "name": "stdout",
     "output_type": "stream",
     "text": [
      "Warning: deduplication not currently supported for this layer's variable layered draco meshes\n"
     ]
    },
    {
     "name": "stderr",
     "output_type": "stream",
     "text": [
      "100%|██████████| 11380/11380 [00:00<00:00, 567350.29it/s]\n",
      "07/29/2022 12:09:28 PM WARNING: face_normals incorrect shape, ignoring! \n"
     ]
    },
    {
     "name": "stdout",
     "output_type": "stream",
     "text": [
      "Warning: deduplication not currently supported for this layer's variable layered draco meshes\n"
     ]
    },
    {
     "name": "stderr",
     "output_type": "stream",
     "text": [
      "100%|██████████| 152/152 [00:00<00:00, 87657.67it/s]\n",
      "07/29/2022 12:09:30 PM WARNING: face_normals incorrect shape, ignoring! \n"
     ]
    },
    {
     "name": "stdout",
     "output_type": "stream",
     "text": [
      "Warning: deduplication not currently supported for this layer's variable layered draco meshes\n"
     ]
    },
    {
     "name": "stderr",
     "output_type": "stream",
     "text": [
      "100%|██████████| 934/934 [00:00<00:00, 272463.48it/s]\n",
      "07/29/2022 12:09:33 PM WARNING: face_normals incorrect shape, ignoring! \n"
     ]
    },
    {
     "name": "stdout",
     "output_type": "stream",
     "text": [
      "Warning: deduplication not currently supported for this layer's variable layered draco meshes\n"
     ]
    },
    {
     "name": "stderr",
     "output_type": "stream",
     "text": [
      "100%|██████████| 73645/73645 [00:00<00:00, 338208.84it/s]\n",
      "07/29/2022 12:09:41 PM WARNING: face_normals incorrect shape, ignoring! \n"
     ]
    },
    {
     "name": "stdout",
     "output_type": "stream",
     "text": [
      "Warning: deduplication not currently supported for this layer's variable layered draco meshes\n"
     ]
    },
    {
     "name": "stderr",
     "output_type": "stream",
     "text": [
      "100%|██████████| 403/403 [00:00<00:00, 202723.02it/s]\n",
      "07/29/2022 12:09:42 PM WARNING: face_normals incorrect shape, ignoring! \n"
     ]
    },
    {
     "name": "stdout",
     "output_type": "stream",
     "text": [
      "Warning: deduplication not currently supported for this layer's variable layered draco meshes\n"
     ]
    },
    {
     "name": "stderr",
     "output_type": "stream",
     "text": [
      "100%|██████████| 5928/5928 [00:00<00:00, 476875.93it/s]\n",
      "07/29/2022 12:09:45 PM WARNING: face_normals incorrect shape, ignoring! \n"
     ]
    },
    {
     "name": "stdout",
     "output_type": "stream",
     "text": [
      "Warning: deduplication not currently supported for this layer's variable layered draco meshes\n"
     ]
    },
    {
     "name": "stderr",
     "output_type": "stream",
     "text": [
      "100%|██████████| 8016/8016 [00:00<00:00, 703202.98it/s]\n",
      "07/29/2022 12:09:48 PM WARNING: face_normals incorrect shape, ignoring! \n"
     ]
    },
    {
     "name": "stdout",
     "output_type": "stream",
     "text": [
      "Warning: deduplication not currently supported for this layer's variable layered draco meshes\n"
     ]
    },
    {
     "name": "stderr",
     "output_type": "stream",
     "text": [
      "100%|██████████| 264/264 [00:00<00:00, 199692.74it/s]\n",
      "07/29/2022 12:09:51 PM WARNING: face_normals incorrect shape, ignoring! \n"
     ]
    },
    {
     "name": "stdout",
     "output_type": "stream",
     "text": [
      "Warning: deduplication not currently supported for this layer's variable layered draco meshes\n"
     ]
    },
    {
     "name": "stderr",
     "output_type": "stream",
     "text": [
      "100%|██████████| 30530/30530 [00:00<00:00, 455834.45it/s]\n",
      "07/29/2022 12:09:55 PM WARNING: face_normals incorrect shape, ignoring! \n"
     ]
    },
    {
     "name": "stdout",
     "output_type": "stream",
     "text": [
      "Warning: deduplication not currently supported for this layer's variable layered draco meshes\n"
     ]
    },
    {
     "name": "stderr",
     "output_type": "stream",
     "text": [
      "100%|██████████| 3806/3806 [00:00<00:00, 598019.07it/s]\n",
      "07/29/2022 12:09:56 PM WARNING: face_normals incorrect shape, ignoring! \n"
     ]
    },
    {
     "name": "stdout",
     "output_type": "stream",
     "text": [
      "Warning: deduplication not currently supported for this layer's variable layered draco meshes\n"
     ]
    },
    {
     "name": "stderr",
     "output_type": "stream",
     "text": [
      "100%|██████████| 7820/7820 [00:00<00:00, 700020.43it/s]\n",
      "07/29/2022 12:09:58 PM WARNING: face_normals incorrect shape, ignoring! \n"
     ]
    },
    {
     "name": "stdout",
     "output_type": "stream",
     "text": [
      "Warning: deduplication not currently supported for this layer's variable layered draco meshes\n",
      "\n",
      "\n",
      "Seg 864691133769133345 returned error on get. Skipping.\n",
      "\n"
     ]
    },
    {
     "name": "stderr",
     "output_type": "stream",
     "text": [
      "07/29/2022 12:10:03 PM WARNING: face_normals incorrect shape, ignoring! \n"
     ]
    },
    {
     "name": "stdout",
     "output_type": "stream",
     "text": [
      "Warning: deduplication not currently supported for this layer's variable layered draco meshes\n"
     ]
    },
    {
     "name": "stderr",
     "output_type": "stream",
     "text": [
      "100%|██████████| 49920/49920 [00:00<00:00, 326631.06it/s]\n",
      "07/29/2022 12:10:10 PM WARNING: face_normals incorrect shape, ignoring! \n"
     ]
    },
    {
     "name": "stdout",
     "output_type": "stream",
     "text": [
      "Warning: deduplication not currently supported for this layer's variable layered draco meshes\n"
     ]
    },
    {
     "name": "stderr",
     "output_type": "stream",
     "text": [
      "100%|██████████| 43892/43892 [00:00<00:00, 371204.74it/s]\n",
      "07/29/2022 12:10:17 PM WARNING: face_normals incorrect shape, ignoring! \n"
     ]
    },
    {
     "name": "stdout",
     "output_type": "stream",
     "text": [
      "Warning: deduplication not currently supported for this layer's variable layered draco meshes\n"
     ]
    },
    {
     "name": "stderr",
     "output_type": "stream",
     "text": [
      "100%|██████████| 19407/19407 [00:00<00:00, 466560.00it/s]\n",
      "07/29/2022 12:10:20 PM WARNING: face_normals incorrect shape, ignoring! \n"
     ]
    },
    {
     "name": "stdout",
     "output_type": "stream",
     "text": [
      "Warning: deduplication not currently supported for this layer's variable layered draco meshes\n"
     ]
    },
    {
     "name": "stderr",
     "output_type": "stream",
     "text": [
      "100%|██████████| 2448/2448 [00:00<00:00, 473950.16it/s]\n",
      "07/29/2022 12:10:23 PM WARNING: face_normals incorrect shape, ignoring! \n"
     ]
    },
    {
     "name": "stdout",
     "output_type": "stream",
     "text": [
      "Warning: deduplication not currently supported for this layer's variable layered draco meshes\n"
     ]
    },
    {
     "name": "stderr",
     "output_type": "stream",
     "text": [
      "100%|██████████| 39637/39637 [00:00<00:00, 273345.62it/s]\n",
      "07/29/2022 12:10:28 PM WARNING: face_normals incorrect shape, ignoring! \n"
     ]
    },
    {
     "name": "stdout",
     "output_type": "stream",
     "text": [
      "Warning: deduplication not currently supported for this layer's variable layered draco meshes\n"
     ]
    },
    {
     "name": "stderr",
     "output_type": "stream",
     "text": [
      "100%|██████████| 8835/8835 [00:00<00:00, 573410.84it/s]\n",
      "07/29/2022 12:10:30 PM WARNING: face_normals incorrect shape, ignoring! \n"
     ]
    },
    {
     "name": "stdout",
     "output_type": "stream",
     "text": [
      "Warning: deduplication not currently supported for this layer's variable layered draco meshes\n"
     ]
    },
    {
     "name": "stderr",
     "output_type": "stream",
     "text": [
      "100%|██████████| 9474/9474 [00:00<00:00, 744749.16it/s]\n",
      "07/29/2022 12:10:34 PM WARNING: face_normals incorrect shape, ignoring! \n"
     ]
    },
    {
     "name": "stdout",
     "output_type": "stream",
     "text": [
      "Warning: deduplication not currently supported for this layer's variable layered draco meshes\n"
     ]
    },
    {
     "name": "stderr",
     "output_type": "stream",
     "text": [
      "100%|██████████| 19620/19620 [00:00<00:00, 518869.88it/s]\n",
      "07/29/2022 12:10:38 PM WARNING: face_normals incorrect shape, ignoring! \n"
     ]
    },
    {
     "name": "stdout",
     "output_type": "stream",
     "text": [
      "Warning: deduplication not currently supported for this layer's variable layered draco meshes\n"
     ]
    },
    {
     "name": "stderr",
     "output_type": "stream",
     "text": [
      "100%|██████████| 1286/1286 [00:00<00:00, 433451.86it/s]\n",
      "07/29/2022 12:10:40 PM WARNING: face_normals incorrect shape, ignoring! \n"
     ]
    },
    {
     "name": "stdout",
     "output_type": "stream",
     "text": [
      "Warning: deduplication not currently supported for this layer's variable layered draco meshes\n"
     ]
    },
    {
     "name": "stderr",
     "output_type": "stream",
     "text": [
      "100%|██████████| 23442/23442 [00:00<00:00, 402237.25it/s]\n",
      "07/29/2022 12:10:45 PM WARNING: face_normals incorrect shape, ignoring! \n"
     ]
    },
    {
     "name": "stdout",
     "output_type": "stream",
     "text": [
      "Warning: deduplication not currently supported for this layer's variable layered draco meshes\n"
     ]
    },
    {
     "name": "stderr",
     "output_type": "stream",
     "text": [
      "100%|██████████| 36158/36158 [00:00<00:00, 540767.28it/s]\n",
      "07/29/2022 12:10:50 PM WARNING: face_normals incorrect shape, ignoring! \n"
     ]
    },
    {
     "name": "stdout",
     "output_type": "stream",
     "text": [
      "Warning: deduplication not currently supported for this layer's variable layered draco meshes\n"
     ]
    },
    {
     "name": "stderr",
     "output_type": "stream",
     "text": [
      "100%|██████████| 4826/4826 [00:00<00:00, 664185.30it/s]\n",
      "07/29/2022 12:10:51 PM WARNING: face_normals incorrect shape, ignoring! \n"
     ]
    },
    {
     "name": "stdout",
     "output_type": "stream",
     "text": [
      "Warning: deduplication not currently supported for this layer's variable layered draco meshes\n"
     ]
    },
    {
     "name": "stderr",
     "output_type": "stream",
     "text": [
      "100%|██████████| 1973/1973 [00:00<00:00, 489840.29it/s]\n",
      "07/29/2022 12:11:03 PM WARNING: face_normals incorrect shape, ignoring! \n"
     ]
    },
    {
     "name": "stdout",
     "output_type": "stream",
     "text": [
      "Warning: deduplication not currently supported for this layer's variable layered draco meshes\n"
     ]
    },
    {
     "name": "stderr",
     "output_type": "stream",
     "text": [
      "100%|██████████| 187764/187764 [00:06<00:00, 27692.47it/s]\n",
      "07/29/2022 12:11:37 PM WARNING: face_normals incorrect shape, ignoring! \n"
     ]
    },
    {
     "name": "stdout",
     "output_type": "stream",
     "text": [
      "Warning: deduplication not currently supported for this layer's variable layered draco meshes\n"
     ]
    },
    {
     "name": "stderr",
     "output_type": "stream",
     "text": [
      "100%|██████████| 485/485 [00:00<00:00, 232378.05it/s]\n",
      "07/29/2022 12:11:41 PM WARNING: face_normals incorrect shape, ignoring! \n"
     ]
    },
    {
     "name": "stdout",
     "output_type": "stream",
     "text": [
      "Warning: deduplication not currently supported for this layer's variable layered draco meshes\n"
     ]
    },
    {
     "name": "stderr",
     "output_type": "stream",
     "text": [
      "100%|██████████| 37232/37232 [00:00<00:00, 249429.11it/s]\n",
      "07/29/2022 12:11:45 PM WARNING: face_normals incorrect shape, ignoring! \n"
     ]
    },
    {
     "name": "stdout",
     "output_type": "stream",
     "text": [
      "Warning: deduplication not currently supported for this layer's variable layered draco meshes\n"
     ]
    },
    {
     "name": "stderr",
     "output_type": "stream",
     "text": [
      "100%|██████████| 2640/2640 [00:00<00:00, 384905.54it/s]\n",
      "07/29/2022 12:11:47 PM WARNING: face_normals incorrect shape, ignoring! \n"
     ]
    },
    {
     "name": "stdout",
     "output_type": "stream",
     "text": [
      "Warning: deduplication not currently supported for this layer's variable layered draco meshes\n"
     ]
    },
    {
     "name": "stderr",
     "output_type": "stream",
     "text": [
      "100%|██████████| 5980/5980 [00:00<00:00, 505704.62it/s]\n",
      "07/29/2022 12:11:50 PM WARNING: face_normals incorrect shape, ignoring! \n"
     ]
    },
    {
     "name": "stdout",
     "output_type": "stream",
     "text": [
      "Warning: deduplication not currently supported for this layer's variable layered draco meshes\n"
     ]
    },
    {
     "name": "stderr",
     "output_type": "stream",
     "text": [
      "100%|██████████| 7616/7616 [00:00<00:00, 494356.27it/s]\n",
      "07/29/2022 12:11:51 PM WARNING: face_normals incorrect shape, ignoring! \n"
     ]
    },
    {
     "name": "stdout",
     "output_type": "stream",
     "text": [
      "Warning: deduplication not currently supported for this layer's variable layered draco meshes\n"
     ]
    },
    {
     "name": "stderr",
     "output_type": "stream",
     "text": [
      "100%|██████████| 1211/1211 [00:00<00:00, 441026.50it/s]\n",
      "07/29/2022 12:11:53 PM WARNING: face_normals incorrect shape, ignoring! \n"
     ]
    },
    {
     "name": "stdout",
     "output_type": "stream",
     "text": [
      "Warning: deduplication not currently supported for this layer's variable layered draco meshes\n"
     ]
    },
    {
     "name": "stderr",
     "output_type": "stream",
     "text": [
      "100%|██████████| 1359/1359 [00:00<00:00, 233303.01it/s]\n",
      "07/29/2022 12:11:55 PM WARNING: face_normals incorrect shape, ignoring! \n"
     ]
    },
    {
     "name": "stdout",
     "output_type": "stream",
     "text": [
      "Warning: deduplication not currently supported for this layer's variable layered draco meshes\n"
     ]
    },
    {
     "name": "stderr",
     "output_type": "stream",
     "text": [
      "100%|██████████| 11308/11308 [00:00<00:00, 611011.92it/s]\n",
      "07/29/2022 12:11:57 PM WARNING: face_normals incorrect shape, ignoring! \n"
     ]
    },
    {
     "name": "stdout",
     "output_type": "stream",
     "text": [
      "Warning: deduplication not currently supported for this layer's variable layered draco meshes\n"
     ]
    },
    {
     "name": "stderr",
     "output_type": "stream",
     "text": [
      "100%|██████████| 191/191 [00:00<00:00, 126979.25it/s]\n",
      "07/29/2022 12:11:58 PM WARNING: face_normals incorrect shape, ignoring! \n"
     ]
    },
    {
     "name": "stdout",
     "output_type": "stream",
     "text": [
      "Warning: deduplication not currently supported for this layer's variable layered draco meshes\n"
     ]
    },
    {
     "name": "stderr",
     "output_type": "stream",
     "text": [
      "100%|██████████| 105/105 [00:00<00:00, 69960.59it/s]\n",
      "07/29/2022 12:12:00 PM WARNING: face_normals incorrect shape, ignoring! \n"
     ]
    },
    {
     "name": "stdout",
     "output_type": "stream",
     "text": [
      "Warning: deduplication not currently supported for this layer's variable layered draco meshes\n"
     ]
    },
    {
     "name": "stderr",
     "output_type": "stream",
     "text": [
      "100%|██████████| 7685/7685 [00:00<00:00, 384920.30it/s]\n",
      "07/29/2022 12:12:02 PM WARNING: face_normals incorrect shape, ignoring! \n"
     ]
    },
    {
     "name": "stdout",
     "output_type": "stream",
     "text": [
      "Warning: deduplication not currently supported for this layer's variable layered draco meshes\n"
     ]
    },
    {
     "name": "stderr",
     "output_type": "stream",
     "text": [
      "100%|██████████| 6048/6048 [00:00<00:00, 646346.23it/s]\n",
      "07/29/2022 12:12:04 PM WARNING: face_normals incorrect shape, ignoring! \n"
     ]
    },
    {
     "name": "stdout",
     "output_type": "stream",
     "text": [
      "Warning: deduplication not currently supported for this layer's variable layered draco meshes\n"
     ]
    },
    {
     "name": "stderr",
     "output_type": "stream",
     "text": [
      "100%|██████████| 6896/6896 [00:00<00:00, 510896.96it/s]\n",
      "07/29/2022 12:12:06 PM WARNING: face_normals incorrect shape, ignoring! \n"
     ]
    },
    {
     "name": "stdout",
     "output_type": "stream",
     "text": [
      "Warning: deduplication not currently supported for this layer's variable layered draco meshes\n"
     ]
    },
    {
     "name": "stderr",
     "output_type": "stream",
     "text": [
      "100%|██████████| 2858/2858 [00:00<00:00, 646425.84it/s]\n",
      "07/29/2022 12:12:08 PM WARNING: face_normals incorrect shape, ignoring! \n"
     ]
    },
    {
     "name": "stdout",
     "output_type": "stream",
     "text": [
      "Warning: deduplication not currently supported for this layer's variable layered draco meshes\n"
     ]
    },
    {
     "name": "stderr",
     "output_type": "stream",
     "text": [
      "100%|██████████| 4775/4775 [00:00<00:00, 469805.34it/s]\n",
      "07/29/2022 12:12:09 PM WARNING: face_normals incorrect shape, ignoring! \n"
     ]
    },
    {
     "name": "stdout",
     "output_type": "stream",
     "text": [
      "Warning: deduplication not currently supported for this layer's variable layered draco meshes\n"
     ]
    },
    {
     "name": "stderr",
     "output_type": "stream",
     "text": [
      "100%|██████████| 1010/1010 [00:00<00:00, 219290.15it/s]\n",
      "07/29/2022 12:12:11 PM WARNING: face_normals incorrect shape, ignoring! \n"
     ]
    },
    {
     "name": "stdout",
     "output_type": "stream",
     "text": [
      "Warning: deduplication not currently supported for this layer's variable layered draco meshes\n"
     ]
    },
    {
     "name": "stderr",
     "output_type": "stream",
     "text": [
      "100%|██████████| 8895/8895 [00:00<00:00, 478698.62it/s]\n",
      "07/29/2022 12:12:13 PM WARNING: face_normals incorrect shape, ignoring! \n"
     ]
    },
    {
     "name": "stdout",
     "output_type": "stream",
     "text": [
      "Warning: deduplication not currently supported for this layer's variable layered draco meshes\n",
      "\n",
      "\n",
      "Seg 864691132747855184 returned error on get. Skipping.\n",
      "\n"
     ]
    },
    {
     "name": "stderr",
     "output_type": "stream",
     "text": [
      "07/29/2022 12:12:18 PM WARNING: face_normals incorrect shape, ignoring! \n"
     ]
    },
    {
     "name": "stdout",
     "output_type": "stream",
     "text": [
      "Warning: deduplication not currently supported for this layer's variable layered draco meshes\n"
     ]
    },
    {
     "name": "stderr",
     "output_type": "stream",
     "text": [
      "100%|██████████| 126419/126419 [00:00<00:00, 273129.38it/s]\n",
      "07/29/2022 12:12:33 PM WARNING: face_normals incorrect shape, ignoring! \n"
     ]
    },
    {
     "name": "stdout",
     "output_type": "stream",
     "text": [
      "Warning: deduplication not currently supported for this layer's variable layered draco meshes\n"
     ]
    },
    {
     "name": "stderr",
     "output_type": "stream",
     "text": [
      "100%|██████████| 22194/22194 [00:00<00:00, 193725.47it/s]\n",
      "07/29/2022 12:12:38 PM WARNING: face_normals incorrect shape, ignoring! \n"
     ]
    },
    {
     "name": "stdout",
     "output_type": "stream",
     "text": [
      "Warning: deduplication not currently supported for this layer's variable layered draco meshes\n"
     ]
    },
    {
     "name": "stderr",
     "output_type": "stream",
     "text": [
      "100%|██████████| 33346/33346 [00:00<00:00, 467921.91it/s]\n",
      "07/29/2022 12:12:43 PM WARNING: face_normals incorrect shape, ignoring! \n"
     ]
    },
    {
     "name": "stdout",
     "output_type": "stream",
     "text": [
      "Warning: deduplication not currently supported for this layer's variable layered draco meshes\n"
     ]
    },
    {
     "name": "stderr",
     "output_type": "stream",
     "text": [
      "100%|██████████| 22364/22364 [00:00<00:00, 492988.50it/s]\n",
      "07/29/2022 12:12:46 PM WARNING: face_normals incorrect shape, ignoring! \n"
     ]
    },
    {
     "name": "stdout",
     "output_type": "stream",
     "text": [
      "Warning: deduplication not currently supported for this layer's variable layered draco meshes\n"
     ]
    },
    {
     "name": "stderr",
     "output_type": "stream",
     "text": [
      "100%|██████████| 152/152 [00:00<00:00, 83786.86it/s]\n",
      "07/29/2022 12:12:48 PM WARNING: face_normals incorrect shape, ignoring! \n"
     ]
    },
    {
     "name": "stdout",
     "output_type": "stream",
     "text": [
      "Warning: deduplication not currently supported for this layer's variable layered draco meshes\n"
     ]
    },
    {
     "name": "stderr",
     "output_type": "stream",
     "text": [
      "100%|██████████| 5763/5763 [00:00<00:00, 657413.35it/s]\n",
      "07/29/2022 12:12:50 PM WARNING: face_normals incorrect shape, ignoring! \n"
     ]
    },
    {
     "name": "stdout",
     "output_type": "stream",
     "text": [
      "Warning: deduplication not currently supported for this layer's variable layered draco meshes\n",
      "\n",
      "\n",
      "Seg 864691136347887475 returned error on get. Skipping.\n",
      "\n"
     ]
    },
    {
     "name": "stderr",
     "output_type": "stream",
     "text": [
      "07/29/2022 12:12:51 PM WARNING: face_normals incorrect shape, ignoring! \n"
     ]
    },
    {
     "name": "stdout",
     "output_type": "stream",
     "text": [
      "Warning: deduplication not currently supported for this layer's variable layered draco meshes\n"
     ]
    },
    {
     "name": "stderr",
     "output_type": "stream",
     "text": [
      "100%|██████████| 1905/1905 [00:00<00:00, 466687.06it/s]\n",
      "07/29/2022 12:12:52 PM WARNING: face_normals incorrect shape, ignoring! \n"
     ]
    },
    {
     "name": "stdout",
     "output_type": "stream",
     "text": [
      "Warning: deduplication not currently supported for this layer's variable layered draco meshes\n"
     ]
    },
    {
     "name": "stderr",
     "output_type": "stream",
     "text": [
      "100%|██████████| 138/138 [00:00<00:00, 76290.23it/s]\n",
      "07/29/2022 12:12:55 PM WARNING: face_normals incorrect shape, ignoring! \n"
     ]
    },
    {
     "name": "stdout",
     "output_type": "stream",
     "text": [
      "Warning: deduplication not currently supported for this layer's variable layered draco meshes\n"
     ]
    },
    {
     "name": "stderr",
     "output_type": "stream",
     "text": [
      "100%|██████████| 11909/11909 [00:00<00:00, 566345.41it/s]\n",
      "07/29/2022 12:12:57 PM WARNING: face_normals incorrect shape, ignoring! \n"
     ]
    },
    {
     "name": "stdout",
     "output_type": "stream",
     "text": [
      "Warning: deduplication not currently supported for this layer's variable layered draco meshes\n",
      "\n",
      "\n",
      "Seg 864691133525367772 returned error on get. Skipping.\n",
      "\n"
     ]
    },
    {
     "name": "stderr",
     "output_type": "stream",
     "text": [
      "07/29/2022 12:13:02 PM WARNING: face_normals incorrect shape, ignoring! \n"
     ]
    },
    {
     "name": "stdout",
     "output_type": "stream",
     "text": [
      "Warning: deduplication not currently supported for this layer's variable layered draco meshes\n"
     ]
    },
    {
     "name": "stderr",
     "output_type": "stream",
     "text": [
      "100%|██████████| 120275/120275 [00:00<00:00, 212693.17it/s]\n",
      "07/29/2022 12:13:21 PM WARNING: face_normals incorrect shape, ignoring! \n"
     ]
    },
    {
     "name": "stdout",
     "output_type": "stream",
     "text": [
      "Warning: deduplication not currently supported for this layer's variable layered draco meshes\n"
     ]
    },
    {
     "name": "stderr",
     "output_type": "stream",
     "text": [
      "100%|██████████| 202161/202161 [00:01<00:00, 172514.12it/s]\n",
      "07/29/2022 12:13:43 PM WARNING: face_normals incorrect shape, ignoring! \n"
     ]
    },
    {
     "name": "stdout",
     "output_type": "stream",
     "text": [
      "Warning: deduplication not currently supported for this layer's variable layered draco meshes\n"
     ]
    },
    {
     "name": "stderr",
     "output_type": "stream",
     "text": [
      "100%|██████████| 194/194 [00:00<00:00, 128810.35it/s]\n",
      "07/29/2022 12:13:44 PM WARNING: face_normals incorrect shape, ignoring! \n"
     ]
    },
    {
     "name": "stdout",
     "output_type": "stream",
     "text": [
      "Warning: deduplication not currently supported for this layer's variable layered draco meshes\n"
     ]
    },
    {
     "name": "stderr",
     "output_type": "stream",
     "text": [
      "100%|██████████| 128/128 [00:00<00:00, 49590.88it/s]\n",
      "07/29/2022 12:13:46 PM WARNING: face_normals incorrect shape, ignoring! \n"
     ]
    },
    {
     "name": "stdout",
     "output_type": "stream",
     "text": [
      "Warning: deduplication not currently supported for this layer's variable layered draco meshes\n"
     ]
    },
    {
     "name": "stderr",
     "output_type": "stream",
     "text": [
      "100%|██████████| 266/266 [00:00<00:00, 177092.84it/s]\n",
      "07/29/2022 12:13:47 PM WARNING: face_normals incorrect shape, ignoring! \n"
     ]
    },
    {
     "name": "stdout",
     "output_type": "stream",
     "text": [
      "Warning: deduplication not currently supported for this layer's variable layered draco meshes\n"
     ]
    },
    {
     "name": "stderr",
     "output_type": "stream",
     "text": [
      "100%|██████████| 1532/1532 [00:00<00:00, 229586.74it/s]\n",
      "07/29/2022 12:13:48 PM WARNING: face_normals incorrect shape, ignoring! \n"
     ]
    },
    {
     "name": "stdout",
     "output_type": "stream",
     "text": [
      "Warning: deduplication not currently supported for this layer's variable layered draco meshes\n"
     ]
    },
    {
     "name": "stderr",
     "output_type": "stream",
     "text": [
      "100%|██████████| 2876/2876 [00:00<00:00, 518942.50it/s]\n",
      "07/29/2022 12:13:51 PM WARNING: face_normals incorrect shape, ignoring! \n"
     ]
    },
    {
     "name": "stdout",
     "output_type": "stream",
     "text": [
      "Warning: deduplication not currently supported for this layer's variable layered draco meshes\n"
     ]
    },
    {
     "name": "stderr",
     "output_type": "stream",
     "text": [
      "100%|██████████| 4484/4484 [00:00<00:00, 537965.08it/s]\n",
      "07/29/2022 12:13:53 PM WARNING: face_normals incorrect shape, ignoring! \n"
     ]
    },
    {
     "name": "stdout",
     "output_type": "stream",
     "text": [
      "Warning: deduplication not currently supported for this layer's variable layered draco meshes\n"
     ]
    },
    {
     "name": "stderr",
     "output_type": "stream",
     "text": [
      "100%|██████████| 13121/13121 [00:00<00:00, 525258.77it/s]\n",
      "07/29/2022 12:13:55 PM WARNING: face_normals incorrect shape, ignoring! \n"
     ]
    },
    {
     "name": "stdout",
     "output_type": "stream",
     "text": [
      "Warning: deduplication not currently supported for this layer's variable layered draco meshes\n"
     ]
    },
    {
     "name": "stderr",
     "output_type": "stream",
     "text": [
      "100%|██████████| 1758/1758 [00:00<00:00, 434276.84it/s]\n",
      "07/29/2022 12:13:56 PM WARNING: face_normals incorrect shape, ignoring! \n"
     ]
    },
    {
     "name": "stdout",
     "output_type": "stream",
     "text": [
      "Warning: deduplication not currently supported for this layer's variable layered draco meshes\n",
      "\n",
      "\n",
      "Seg 864691132647441812 returned error on get. Skipping.\n",
      "\n"
     ]
    },
    {
     "name": "stderr",
     "output_type": "stream",
     "text": [
      "07/29/2022 12:13:58 PM WARNING: face_normals incorrect shape, ignoring! \n"
     ]
    },
    {
     "name": "stdout",
     "output_type": "stream",
     "text": [
      "Warning: deduplication not currently supported for this layer's variable layered draco meshes\n"
     ]
    },
    {
     "name": "stderr",
     "output_type": "stream",
     "text": [
      "100%|██████████| 20125/20125 [00:00<00:00, 410051.68it/s]\n",
      "07/29/2022 12:14:04 PM WARNING: face_normals incorrect shape, ignoring! \n"
     ]
    },
    {
     "name": "stdout",
     "output_type": "stream",
     "text": [
      "Warning: deduplication not currently supported for this layer's variable layered draco meshes\n"
     ]
    },
    {
     "name": "stderr",
     "output_type": "stream",
     "text": [
      "100%|██████████| 11410/11410 [00:00<00:00, 767431.18it/s]\n",
      "07/29/2022 12:14:08 PM WARNING: face_normals incorrect shape, ignoring! \n"
     ]
    },
    {
     "name": "stdout",
     "output_type": "stream",
     "text": [
      "Warning: deduplication not currently supported for this layer's variable layered draco meshes\n"
     ]
    },
    {
     "name": "stderr",
     "output_type": "stream",
     "text": [
      "100%|██████████| 15601/15601 [00:00<00:00, 702367.19it/s]\n",
      "07/29/2022 12:14:10 PM WARNING: face_normals incorrect shape, ignoring! \n"
     ]
    },
    {
     "name": "stdout",
     "output_type": "stream",
     "text": [
      "Warning: deduplication not currently supported for this layer's variable layered draco meshes\n",
      "\n",
      "\n",
      "Seg 864691136597387729 returned error on get. Skipping.\n",
      "\n"
     ]
    },
    {
     "name": "stderr",
     "output_type": "stream",
     "text": [
      "07/29/2022 12:14:14 PM WARNING: face_normals incorrect shape, ignoring! \n"
     ]
    },
    {
     "name": "stdout",
     "output_type": "stream",
     "text": [
      "Warning: deduplication not currently supported for this layer's variable layered draco meshes\n"
     ]
    },
    {
     "name": "stderr",
     "output_type": "stream",
     "text": [
      "100%|██████████| 13348/13348 [00:00<00:00, 545678.96it/s]\n",
      "07/29/2022 12:14:17 PM WARNING: face_normals incorrect shape, ignoring! \n"
     ]
    },
    {
     "name": "stdout",
     "output_type": "stream",
     "text": [
      "Warning: deduplication not currently supported for this layer's variable layered draco meshes\n"
     ]
    },
    {
     "name": "stderr",
     "output_type": "stream",
     "text": [
      "100%|██████████| 2543/2543 [00:00<00:00, 529914.30it/s]\n",
      "07/29/2022 12:14:19 PM WARNING: face_normals incorrect shape, ignoring! \n"
     ]
    },
    {
     "name": "stdout",
     "output_type": "stream",
     "text": [
      "Warning: deduplication not currently supported for this layer's variable layered draco meshes\n"
     ]
    },
    {
     "name": "stderr",
     "output_type": "stream",
     "text": [
      "100%|██████████| 13258/13258 [00:00<00:00, 542158.20it/s]\n",
      "07/29/2022 12:14:21 PM WARNING: face_normals incorrect shape, ignoring! \n"
     ]
    },
    {
     "name": "stdout",
     "output_type": "stream",
     "text": [
      "Warning: deduplication not currently supported for this layer's variable layered draco meshes\n"
     ]
    },
    {
     "name": "stderr",
     "output_type": "stream",
     "text": [
      "100%|██████████| 9618/9618 [00:00<00:00, 720835.11it/s]\n",
      "07/29/2022 12:14:27 PM WARNING: face_normals incorrect shape, ignoring! \n"
     ]
    },
    {
     "name": "stdout",
     "output_type": "stream",
     "text": [
      "Warning: deduplication not currently supported for this layer's variable layered draco meshes\n"
     ]
    },
    {
     "name": "stderr",
     "output_type": "stream",
     "text": [
      "100%|██████████| 38734/38734 [00:00<00:00, 196267.48it/s]\n",
      "07/29/2022 12:14:33 PM WARNING: face_normals incorrect shape, ignoring! \n"
     ]
    },
    {
     "name": "stdout",
     "output_type": "stream",
     "text": [
      "Warning: deduplication not currently supported for this layer's variable layered draco meshes\n"
     ]
    },
    {
     "name": "stderr",
     "output_type": "stream",
     "text": [
      "100%|██████████| 811/811 [00:00<00:00, 388796.50it/s]\n",
      "07/29/2022 12:14:34 PM WARNING: face_normals incorrect shape, ignoring! \n"
     ]
    },
    {
     "name": "stdout",
     "output_type": "stream",
     "text": [
      "Warning: deduplication not currently supported for this layer's variable layered draco meshes\n"
     ]
    },
    {
     "name": "stderr",
     "output_type": "stream",
     "text": [
      "100%|██████████| 9313/9313 [00:00<00:00, 422277.93it/s]\n"
     ]
    },
    {
     "name": "stdout",
     "output_type": "stream",
     "text": [
      "[[  99.46356117 4423.90008929]\n",
      " [4415.78452826   24.37211521]]\n",
      "[[ 146.85366866 5470.51569781 9272.57704201]\n",
      " [5554.85157317  495.77414213 8350.73439884]\n",
      " [9231.09576378 8664.4402589   368.27978495]]\n",
      "skipping \n",
      "\n",
      "skipping \n",
      "\n",
      "[[173.70377083 226.46191733]\n",
      " [146.63560277 252.88337233]]\n",
      "[[358.60842154 495.25548962]\n",
      " [491.02851241 233.07724042]]\n",
      "[[  65.7267069  4494.89933146]\n",
      " [4475.84450132  624.97999968]]\n",
      "[[901.23748258 517.58284361]\n",
      " [826.68313156 572.19926599]]\n",
      "skipping \n",
      "\n",
      "[[648.0686692   81.63332653]\n",
      " [107.42904635 605.6153895 ]]\n",
      "[[ 4128.18483113  3189.93291466    91.23595782]\n",
      " [  170.76592166  3482.68416598  4007.43771006]\n",
      " [11292.02129824  8929.37315829 11956.89278199]\n",
      " [13982.45489891 13733.27073206 16546.69710244]\n",
      " [ 7099.01887587  3574.97762231  6076.14853341]]\n",
      "[[8128.64742746  864.88033854]\n",
      " [ 315.13171849 8280.50898194]]\n",
      "[[  802.63628126  3717.38079836 10550.35264813]\n",
      " [10174.82270116  7734.51601589   253.21334878]\n",
      " [ 3197.35218579   939.4423878   8381.84043036]]\n",
      "[[  657.3864921  12356.94270441]\n",
      " [12607.73147715    40.01249805]]\n",
      "[[358.52057124  26.07680962]\n",
      " [ 56.04462508 314.89680849]]\n",
      "[[ 632.51561246  629.52442367]\n",
      " [ 642.04750603 1205.60773057]]\n",
      "skipping \n",
      "\n",
      "[[ 37.36308338 514.76693756]\n",
      " [501.74196556  38.85871846]]\n",
      "[[34041.63876784 31834.05071617 24858.62701357  1196.39165828]\n",
      " [  281.82441342  2356.785947    9314.39455896 33086.30786292]]\n",
      "[[4675.35089592  353.72022843]\n",
      " [  88.20430828 4446.01304541]]\n",
      "[[123.97580409 682.20231603]\n",
      " [594.66797459  82.21921916]]\n",
      "[[  96.42095208 1749.52479262]\n",
      " [1622.45369734  458.97712361]]\n",
      "[[3712.40905613  559.51407489]\n",
      " [ 239.59340559 4046.79725215]]\n",
      "skipping \n",
      "\n",
      "[[1026.45214209  801.50483467]\n",
      " [ 513.0984311  1353.38095154]\n",
      " [ 994.47724961  182.20043908]]\n",
      "[[ 315.70397527 1909.91203986]\n",
      " [1556.73568726  809.35838786]]\n",
      "[[13630.80280101    38.94868419]\n",
      " [  830.40291425 13620.68739088]]\n",
      "[[562.729953   135.3070582 ]\n",
      " [126.54643417 595.58794481]]\n",
      "[[ 101.93134945 4868.93725571]\n",
      " [4959.18098077   30.72458299]]\n",
      "[[  48.88762625 5029.54560572]\n",
      " [5920.58147482 2289.41040445]]\n",
      "[[  14.86606875 8083.54829267]\n",
      " [8031.90002428  139.17614738]]\n",
      "[[3140.96879959  548.80324343]\n",
      " [ 217.33154396 2828.26536944]]\n",
      "[[ 774.19700335 5053.42309727]\n",
      " [ 612.68670624 5120.38758299]\n",
      " [5673.50209306   84.        ]]\n",
      "[[16271.3315374   1838.26983873]\n",
      " [  758.89656739 17297.52901428]]\n",
      "[[14102.25460698  6289.34654793  7228.31847666  7941.92375939\n",
      "   5860.16083397   120.65653733  6205.24366967]\n",
      " [13490.80360838  9103.78871679  8456.15261215  9887.33209718\n",
      "   7570.78463569  6137.64686179   114.27160627]\n",
      " [ 7142.88849136  2328.45721455    39.86226286  4800.11812355\n",
      "   3143.47228396  7310.09336466  8508.53077799]\n",
      " [ 8983.21668446   151.01324445  2230.20738946  5433.86602706\n",
      "   3803.59303817  6365.88320659  9125.85612422]\n",
      " [   82.56512581  9018.89682833  7064.19705274  8417.82305587\n",
      "   8702.44362234 14172.27271823 13451.78148053]]\n",
      "[[5794.38529958 6356.7184144   135.32183859]\n",
      " [2064.61449186   16.88194302 6440.60478527]]\n",
      "[[4.50567954e+04 1.95527682e+04 4.32130717e+04 3.61400069e+04\n",
      "  2.88308804e+04 1.60921288e+04 2.43874006e+04 3.96036614e+02\n",
      "  6.84594369e+03 2.76317840e+04 2.11539684e+04]\n",
      " [4.96027166e+04 3.50540310e+04 4.65528773e+04 4.10964200e+04\n",
      "  3.51900786e+04 2.56049446e+04 2.81851677e+04 2.11822273e+04\n",
      "  1.94390054e+04 2.59480859e+04 1.19770614e+02]\n",
      " [3.94565994e+04 1.76924279e+04 3.74326762e+04 3.04801133e+04\n",
      "  2.33836711e+04 1.05374384e+04 1.87831214e+04 6.75872325e+03\n",
      "  3.05754804e+02 2.17274451e+04 1.97742795e+04]\n",
      " [3.08923464e+04 2.94788059e+01 3.02752051e+04 2.33337256e+04\n",
      "  1.68508351e+04 1.21898493e+04 1.72754401e+04 1.92451296e+04\n",
      "  1.78571114e+04 2.40759315e+04 3.50968094e+04]\n",
      " [2.39736267e+04 2.40849685e+04 2.07564881e+04 1.61690038e+04\n",
      "  1.25535155e+04 1.44435247e+04 7.05194562e+03 2.75182756e+04\n",
      "  2.15612117e+04 5.80689246e+01 2.59303084e+04]\n",
      " [1.69526623e+04 3.74175293e+04 1.44405559e+04 1.79942325e+04\n",
      "  2.22190963e+04 3.27249794e+04 2.34454581e+04 4.72716312e+04\n",
      "  4.18426409e+04 2.11124565e+04 4.53483959e+04]\n",
      " [1.71688672e+02 3.07966662e+04 3.50946221e+03 8.88641829e+03\n",
      "  1.61709604e+04 2.89191754e+04 2.21129889e+04 4.47682982e+04\n",
      "  3.93289749e+04 2.38090284e+04 4.94339803e+04]]\n",
      "[[  150.56227947 10139.99802761  9720.50770279]\n",
      " [10274.09363399   239.8353602   4692.46470418]\n",
      " [ 9706.69093976  5391.09562149   749.00333778]]\n",
      "[[13287.84832093 11924.3910117  12666.62338589 10743.91027513\n",
      "  11108.58933438]\n",
      " [11162.08313891  3678.04567671  1975.96685195  2588.36801866\n",
      "   1021.83266732]\n",
      " [  314.23717158  7707.22965793 10312.37799928  8624.81443279\n",
      "  11753.47782573]]\n",
      "[[   41.43669871 20114.63521916]\n",
      " [20059.3399692     97.90301323]]\n",
      "skipping \n",
      "\n",
      "[[ 385.75121516 2269.35453378 6356.16551075]\n",
      " [2036.26913742   15.16575089 6922.34208921]\n",
      " [6698.05232885 6982.27677767  196.23710149]]\n",
      "skipping \n",
      "\n",
      "[[10766.71491217 10795.95850307  7354.95622013    89.10667764]\n",
      " [ 5875.00306383  5399.21003481    32.06243908  7446.11099837]\n",
      " [ 1426.61312205   156.08010764  5577.4343564  10982.13553914]]\n",
      "[[  180.29143074 25361.66280038]\n",
      " [25233.5133503     26.17250466]]\n",
      "skipping \n",
      "\n",
      "[[1325.23507349  387.45967532 3857.5413154 ]\n",
      " [3161.97991771 3651.31401005  211.43793416]]\n",
      "[[8038.83362186 5166.50055647  339.53055827]\n",
      " [3601.18841495   24.         5241.9398127 ]\n",
      " [  61.77378085 3587.78065104 8078.02457288]]\n",
      "skipping \n",
      "\n",
      "skipping \n",
      "\n",
      "[[ 134.33167906 2601.44056246]\n",
      " [2675.36726451   16.43167673]]\n",
      "[[  102.32301794  3504.01198628 11723.69967203]\n",
      " [11797.9401592   9240.54619598    50.19960159]]\n",
      "[[352.76054201 152.72524349]\n",
      " [ 21.3541565  455.48325985]]\n",
      "[[1699.82499099   26.92582404]\n",
      " [  27.07397274 1686.14619769]]\n",
      "[[ 12735.57372088  35001.25403468  26599.29173869  31009.2873346\n",
      "   18918.2796258   21415.43819304    195.        ]\n",
      " [   301.27230208  29328.06330121  20596.38774154  25772.44656605\n",
      "   13893.6083506   16828.08046094  12851.58239284]\n",
      " [ 64509.84775211  35976.8216634   45516.34141712  40144.50859084\n",
      "   52716.28075841  49759.24316145  70017.38436988]\n",
      " [ 72187.74902295  42949.80131502  52173.1623155   46692.69514603\n",
      "   59320.50088292  56256.50353515  76470.50367298]\n",
      " [ 68360.7938295   40015.56258507  49292.89741941  44239.97294303\n",
      "   56826.52029642  53986.53469153  74924.55799002]\n",
      " [113576.93540504  85373.08518497  94868.54986243  89575.09471388\n",
      "  102162.50138872  99230.29741465 119370.20541576]\n",
      " [ 58934.454074    31081.74507649  40358.9344012   35395.96869701\n",
      "   47788.1562419   45007.34462285  65755.84007524]\n",
      " [ 66034.22107514  38490.39684129  47676.72327247  42804.27198306\n",
      "   55135.50566559  52394.03532846  73148.50202157]]\n",
      "skipping \n",
      "\n",
      "[[3118.03624097 2715.30403454  182.75940468]\n",
      " [1867.67609612  341.8420688  2969.0680356 ]\n",
      " [ 237.05906437 1942.45128639 3063.23195335]]\n",
      "[[ 179.55779014 8997.95098898]\n",
      " [9016.72512612   18.13835715]]\n",
      "[[355.19149765 487.7191815 ]\n",
      " [ 49.04079934 707.92513729]]\n",
      "[[33091.47897873  5453.96452134   128.77888026]\n",
      " [ 1215.36002896 27800.90027319 33288.84685597]]\n",
      "[[4091.22108911   18.86796226]\n",
      " [  40.80441153 4068.75226574]]\n",
      "[[10109.88036527   155.2836115 ]\n",
      " [   16.88194302 10227.94920793]]\n",
      "skipping \n",
      "\n",
      "[[3.76209746e+04 4.17216896e+04 4.24502617e+04 1.40036211e+04\n",
      "  1.24854545e+04 8.62515374e+03 8.03767485e+03 3.10644491e+01]\n",
      " [1.54378187e+04 3.68919409e+03 7.89936706e+01 3.35119813e+04\n",
      "  3.41707110e+04 3.56190252e+04 3.73391194e+04 4.23995665e+04]]\n",
      "[[1.53406421e+03 1.94164878e+01 3.84468895e+04]\n",
      " [3.81276523e+04 3.84133919e+04 4.12310563e+01]]\n",
      "[[19864.73951503 22595.52814165  7738.78207472   444.96404349]\n",
      " [11735.7593704  15914.75818227  2189.38347486  9321.85051371]\n",
      " [ 5936.93329927    59.8414572  15733.12788355 22988.30224266]]\n",
      "[[2617.98242928   58.9067059 ]\n",
      " [ 134.12680567 2526.06650744]]\n",
      "skipping \n",
      "\n",
      "[[2181.11118469 6958.83675624  434.84365006]\n",
      " [5488.58141964  606.60118694 6716.95593256]]\n",
      "skipping \n",
      "\n",
      "skipping \n",
      "\n",
      "[[728.33646071 821.10291681]\n",
      " [536.80257078  56.96490147]]\n",
      "[[ 3909.81099287    28.72281323 25144.70258325]\n",
      " [23509.82254293 25148.07199369    48.60041152]]\n",
      "[[  131.48383931 12935.8821887  21815.46309387]\n",
      " [13095.24799307   399.20921833 18095.85814489]\n",
      " [21916.76173617 18056.13737763    64.90762667]]\n",
      "[[  46.43274706 5320.16447114]\n",
      " [5685.48617094  461.89284472]]\n",
      "[[3211.97073461   38.89730068]\n",
      " [  30.7408523  3229.0676673 ]]\n",
      "skipping \n",
      "\n",
      "[[620.95813063 151.21177203]\n",
      " [218.73499949 552.63821801]]\n",
      "skipping \n",
      "\n",
      "[[1430.60267021  183.84776311 2427.92298066]\n",
      " [1941.98455195 2540.09133694   20.14944168]]\n",
      "[[   31.89043744 12745.44314647]\n",
      " [12741.17047213    30.01666204]]\n",
      "[[7605.6870827    88.60022573 9508.79498149]\n",
      " [6684.9412862  9589.93879021   31.144823  ]\n",
      " [  43.79497688 7638.56138288 6656.71961254]]\n",
      "[[ 935.98344002 2534.72089193]\n",
      " [1850.50506619   62.        ]]\n",
      "[[1619.99876543 1284.47070811]\n",
      " [ 105.89145386 1031.67824442]]\n",
      "[[   75.74958746  6510.60058674 11021.62478948]\n",
      " [11065.46799733  4853.89328272   248.2035455 ]]\n",
      "skipping \n",
      "\n",
      "[[310.85366332  23.02172887]\n",
      " [ 62.4899992  303.19135872]]\n",
      "skipping \n",
      "\n",
      "[[   40.31128874 12244.73049928]\n",
      " [12212.52574204    46.09772229]]\n",
      "[[ 5963.93569717 14680.46378695    96.64884893]\n",
      " [ 9660.69666225    65.32993188 14711.3417471 ]]\n",
      "[[1109.86485664 3692.88505101]\n",
      " [2858.46899581   32.26453161]]\n",
      "[[4383.26647604 6625.7616166   805.82938641]\n",
      " [2635.96092536   45.475268   6080.72758804]]\n",
      "[[299.8349546  881.41080093]\n",
      " [776.66273246  45.48626166]]\n",
      "[[4345.46487732  142.46754016 8994.61805748]\n",
      " [7223.4288257  9523.42816427  725.81333688]]\n",
      "skipping \n",
      "\n",
      "[[ 50971.90969544 104903.52570338  68877.84624972  69601.12287169\n",
      "   50977.3090404   37501.3884543   32724.09505242    223.90176417]\n",
      " [   247.97177259  58257.45934213  23492.67945552  24605.16199906\n",
      "   12148.74944181  16729.28868781  21044.78008913  51145.82626178]\n",
      " [ 58174.28027058    167.16458955  36412.88591969  35762.25286528\n",
      "   55096.19992341  68432.88695503  72770.63700422 104960.22963485]]\n",
      "skipping \n",
      "\n",
      "[[ 1169.28396893    47.93745926 20369.20933664 21178.14800685\n",
      "  22693.15000171]\n",
      " [22746.87391709 22677.40836163  2769.20656507  1592.80413108\n",
      "     47.16990566]]\n",
      "[[11691.13086917  9801.80677222  9378.60570661   235.75623003]\n",
      " [  208.540164   15491.69041777  2728.81384488 11749.98114892]\n",
      " [15814.15486202   354.9154829  14240.8687235   9929.1142606 ]]\n",
      "skipping \n",
      "\n",
      "[[7405.00506414   71.86793444]\n",
      " [1041.80468419 7166.27378768]]\n",
      "skipping \n",
      "\n",
      "[[ 241.85532866 1607.08244966]\n",
      " [1651.96277198  120.70211266]]\n",
      "[[ 45.12205669 225.22211259]\n",
      " [239.06066176  56.64803615]]\n",
      "[[5477.85049084  865.63560463 9255.64584456]\n",
      " [5316.68176591 8598.90365105  211.10423965]]\n",
      "skipping \n",
      "\n",
      "[[  591.34930456 22345.55718706 20834.35396167 32221.76342164\n",
      "  28132.42209622 18346.75491742 23968.62065285 28552.57153042\n",
      "  33621.04781235 33355.17911809 35467.64570704 26253.03237723]\n",
      " [21964.59917686    74.97332859 25135.39575976 14815.47046165\n",
      "  11708.64885459 18790.40406697 19885.16142756 17245.05610313\n",
      "  16683.97137974 17666.75004068 20839.42103322 19991.73929402]\n",
      " [29138.15301285 12566.00003979 23355.91762274  4316.74194272\n",
      "   1159.97499973 16395.49111799 13768.579629    7046.28299176\n",
      "   4531.07856917  5175.55340036  8393.80205866 12749.20985787]\n",
      " [21090.70212203 25336.70917858   172.11914478 24363.70587575\n",
      "  22715.49966433 12222.70174716 11740.74060696 18521.69303816\n",
      "  26040.63236559 24634.55499903 26155.31903839 19618.24959062]\n",
      " [24017.2248605  19923.11566999 11706.35541063 15462.8802621\n",
      "  13167.82537096  6541.77804576    35.4964787   7777.74935312\n",
      "  15798.07925034 14257.72527439 15129.8856572   8555.66064077]\n",
      " [26686.70335579 20175.2463182  19779.53500465 15804.26904352\n",
      "  12219.50281313  9519.67488941  8702.17133824  8666.01898221\n",
      "  14056.78661715 12916.80796482 12349.07211089   325.30754679]\n",
      " [29086.42803783 17484.98452959 18847.49917098  7881.35775105\n",
      "   6918.81991383 13060.30818932  8317.81377527   714.30035699\n",
      "   7654.9833442   5982.61548154  7460.83520794  9368.27225266]\n",
      " [32272.01637642 15114.68084347 24389.70065417   271.99448524\n",
      "   5440.21801034 19388.34982664 15544.6416813   8389.15573821\n",
      "   4053.78995509  4594.41759095  8307.25544329 15990.67359432]\n",
      " [33505.35419899 16721.38427284 26019.9288431   4125.32277525\n",
      "   5654.70361734 19484.60659084 15827.77501735  8099.26965843\n",
      "     36.74234614  2126.70073118  5012.11991078 14217.90297477]\n",
      " [35371.1980289  20700.96582288 26253.68037057  8304.35271409\n",
      "   9062.62461983 19458.9074719  15245.72936924  7930.21468814\n",
      "   4822.75854672  3690.78555324   291.10135692 12630.15601646]]\n",
      "skipping \n",
      "\n",
      "skipping \n",
      "\n",
      "skipping \n",
      "\n",
      "skipping \n",
      "\n",
      "[[1773.9574403   262.78698598]\n",
      " [  12.36931688 1964.69157885]]\n",
      "[[2931.81121493   94.95261976]\n",
      " [ 101.78899744 2977.3716597 ]]\n",
      "[[5963.40339068  941.31450642]\n",
      " [  41.0487515  5354.89215578]]\n",
      "[[17026.81520426    20.90454496 19963.30669003]\n",
      " [ 3509.92948647 19956.17247871    25.        ]]\n",
      "[[1631.98774505  139.89996426]\n",
      " [  94.27619    1655.5470395 ]]\n",
      "[[5.24722708e+03 6.10227572e+03 3.18216907e+02 1.72840896e+04\n",
      "  1.09311354e+04 2.03664803e+04]\n",
      " [1.65972974e+04 1.46402354e+04 2.03785424e+04 4.23783305e+03\n",
      "  1.00837706e+04 9.21954446e+00]]\n",
      "[[10355.88513841    35.28455753]\n",
      " [   31.06444913 10358.44124374]]\n",
      "skipping \n",
      "\n",
      "skipping \n",
      "\n",
      "[[   61.40032573  5161.01055996 16096.10241642]\n",
      " [16090.07426956 11216.67999009    49.12229636]]\n",
      "[[ 567.43369657 3469.70978613]\n",
      " [3244.97411392   68.02940541]]\n",
      "[[16733.89643807  8273.97316892   682.07111066]\n",
      " [   59.51470407 11144.90735717 16849.42506438]]\n",
      "[[11926.12267252   124.6314567 ]\n",
      " [  118.41030361 11931.48532246]]\n",
      "skipping \n",
      "\n",
      "[[ 106.62082348  894.87261663]\n",
      " [1033.07550547  708.78064308]]\n",
      "skipping \n",
      "\n"
     ]
    },
    {
     "name": "stderr",
     "output_type": "stream",
     "text": [
      "07/29/2022 12:14:37 PM WARNING: face_normals incorrect shape, ignoring! \n"
     ]
    },
    {
     "name": "stdout",
     "output_type": "stream",
     "text": [
      "Warning: deduplication not currently supported for this layer's variable layered draco meshes\n"
     ]
    },
    {
     "name": "stderr",
     "output_type": "stream",
     "text": [
      "100%|██████████| 3996/3996 [00:00<00:00, 487618.96it/s]\n",
      "07/29/2022 12:14:40 PM WARNING: face_normals incorrect shape, ignoring! \n"
     ]
    },
    {
     "name": "stdout",
     "output_type": "stream",
     "text": [
      "Warning: deduplication not currently supported for this layer's variable layered draco meshes\n"
     ]
    },
    {
     "name": "stderr",
     "output_type": "stream",
     "text": [
      "  0%|          | 0/10649 [00:00<?, ?it/s]/Library/Frameworks/Python.framework/Versions/3.8/lib/python3.8/site-packages/meshparty/skeletonize.py:613: RuntimeWarning: invalid value encountered in multiply\n",
      "  target = np.nanargmax(root_ds * valid)\n",
      "100%|██████████| 10649/10649 [00:00<00:00, 517820.71it/s]\n",
      "07/29/2022 12:14:42 PM WARNING: face_normals incorrect shape, ignoring! \n"
     ]
    },
    {
     "name": "stdout",
     "output_type": "stream",
     "text": [
      "Warning: deduplication not currently supported for this layer's variable layered draco meshes\n"
     ]
    },
    {
     "name": "stderr",
     "output_type": "stream",
     "text": [
      "100%|██████████| 1140/1140 [00:00<00:00, 271830.96it/s]\n",
      "07/29/2022 12:14:47 PM WARNING: face_normals incorrect shape, ignoring! \n"
     ]
    },
    {
     "name": "stdout",
     "output_type": "stream",
     "text": [
      "Warning: deduplication not currently supported for this layer's variable layered draco meshes\n"
     ]
    },
    {
     "name": "stderr",
     "output_type": "stream",
     "text": [
      "100%|██████████| 91377/91377 [00:00<00:00, 226744.28it/s]\n",
      "07/29/2022 12:14:57 PM WARNING: face_normals incorrect shape, ignoring! \n"
     ]
    },
    {
     "name": "stdout",
     "output_type": "stream",
     "text": [
      "Warning: deduplication not currently supported for this layer's variable layered draco meshes\n"
     ]
    },
    {
     "name": "stderr",
     "output_type": "stream",
     "text": [
      "100%|██████████| 117/117 [00:00<00:00, 63247.01it/s]\n",
      "07/29/2022 12:14:58 PM WARNING: face_normals incorrect shape, ignoring! \n"
     ]
    },
    {
     "name": "stdout",
     "output_type": "stream",
     "text": [
      "Warning: deduplication not currently supported for this layer's variable layered draco meshes\n"
     ]
    },
    {
     "name": "stderr",
     "output_type": "stream",
     "text": [
      "100%|██████████| 725/725 [00:00<00:00, 242803.45it/s]\n",
      "07/29/2022 12:15:00 PM WARNING: face_normals incorrect shape, ignoring! \n"
     ]
    },
    {
     "name": "stdout",
     "output_type": "stream",
     "text": [
      "Warning: deduplication not currently supported for this layer's variable layered draco meshes\n"
     ]
    },
    {
     "name": "stderr",
     "output_type": "stream",
     "text": [
      "100%|██████████| 3024/3024 [00:00<00:00, 445225.19it/s]\n",
      "07/29/2022 12:15:02 PM WARNING: face_normals incorrect shape, ignoring! \n"
     ]
    },
    {
     "name": "stdout",
     "output_type": "stream",
     "text": [
      "Warning: deduplication not currently supported for this layer's variable layered draco meshes\n"
     ]
    },
    {
     "name": "stderr",
     "output_type": "stream",
     "text": [
      "100%|██████████| 590/590 [00:00<00:00, 134279.63it/s]\n",
      "07/29/2022 12:15:04 PM WARNING: face_normals incorrect shape, ignoring! \n"
     ]
    },
    {
     "name": "stdout",
     "output_type": "stream",
     "text": [
      "Warning: deduplication not currently supported for this layer's variable layered draco meshes\n"
     ]
    },
    {
     "name": "stderr",
     "output_type": "stream",
     "text": [
      "100%|██████████| 33205/33205 [00:00<00:00, 152018.63it/s]\n",
      "07/29/2022 12:15:09 PM WARNING: face_normals incorrect shape, ignoring! \n"
     ]
    },
    {
     "name": "stdout",
     "output_type": "stream",
     "text": [
      "Warning: deduplication not currently supported for this layer's variable layered draco meshes\n"
     ]
    },
    {
     "name": "stderr",
     "output_type": "stream",
     "text": [
      "100%|██████████| 338/338 [00:00<00:00, 221511.68it/s]\n",
      "07/29/2022 12:15:10 PM WARNING: face_normals incorrect shape, ignoring! \n"
     ]
    },
    {
     "name": "stdout",
     "output_type": "stream",
     "text": [
      "Warning: deduplication not currently supported for this layer's variable layered draco meshes\n"
     ]
    },
    {
     "name": "stderr",
     "output_type": "stream",
     "text": [
      "100%|██████████| 5856/5856 [00:00<00:00, 464719.96it/s]\n",
      "07/29/2022 12:15:12 PM WARNING: face_normals incorrect shape, ignoring! \n"
     ]
    },
    {
     "name": "stdout",
     "output_type": "stream",
     "text": [
      "Warning: deduplication not currently supported for this layer's variable layered draco meshes\n"
     ]
    },
    {
     "name": "stderr",
     "output_type": "stream",
     "text": [
      "100%|██████████| 7270/7270 [00:00<00:00, 589468.00it/s]\n",
      "07/29/2022 12:15:14 PM WARNING: face_normals incorrect shape, ignoring! \n"
     ]
    },
    {
     "name": "stdout",
     "output_type": "stream",
     "text": [
      "Warning: deduplication not currently supported for this layer's variable layered draco meshes\n"
     ]
    },
    {
     "name": "stderr",
     "output_type": "stream",
     "text": [
      "100%|██████████| 12420/12420 [00:00<00:00, 550610.46it/s]\n",
      "07/29/2022 12:15:17 PM WARNING: face_normals incorrect shape, ignoring! \n"
     ]
    },
    {
     "name": "stdout",
     "output_type": "stream",
     "text": [
      "Warning: deduplication not currently supported for this layer's variable layered draco meshes\n"
     ]
    },
    {
     "name": "stderr",
     "output_type": "stream",
     "text": [
      "100%|██████████| 11545/11545 [00:00<00:00, 708978.62it/s]\n",
      "07/29/2022 12:15:19 PM WARNING: face_normals incorrect shape, ignoring! \n"
     ]
    },
    {
     "name": "stdout",
     "output_type": "stream",
     "text": [
      "Warning: deduplication not currently supported for this layer's variable layered draco meshes\n",
      "\n",
      "\n",
      "Seg 864691133692934758 returned error on get. Skipping.\n",
      "\n"
     ]
    },
    {
     "name": "stderr",
     "output_type": "stream",
     "text": [
      "07/29/2022 12:15:20 PM WARNING: face_normals incorrect shape, ignoring! \n"
     ]
    },
    {
     "name": "stdout",
     "output_type": "stream",
     "text": [
      "Warning: deduplication not currently supported for this layer's variable layered draco meshes\n"
     ]
    },
    {
     "name": "stderr",
     "output_type": "stream",
     "text": [
      "100%|██████████| 158/158 [00:00<00:00, 101750.35it/s]\n",
      "07/29/2022 12:15:21 PM WARNING: face_normals incorrect shape, ignoring! \n"
     ]
    },
    {
     "name": "stdout",
     "output_type": "stream",
     "text": [
      "Warning: deduplication not currently supported for this layer's variable layered draco meshes\n"
     ]
    },
    {
     "name": "stderr",
     "output_type": "stream",
     "text": [
      "100%|██████████| 1243/1243 [00:00<00:00, 370357.31it/s]\n",
      "07/29/2022 12:15:23 PM WARNING: face_normals incorrect shape, ignoring! \n"
     ]
    },
    {
     "name": "stdout",
     "output_type": "stream",
     "text": [
      "Warning: deduplication not currently supported for this layer's variable layered draco meshes\n",
      "\n",
      "\n",
      "Seg 864691133946526057 returned error on get. Skipping.\n",
      "\n"
     ]
    },
    {
     "name": "stderr",
     "output_type": "stream",
     "text": [
      "07/29/2022 12:15:25 PM WARNING: face_normals incorrect shape, ignoring! \n"
     ]
    },
    {
     "name": "stdout",
     "output_type": "stream",
     "text": [
      "Warning: deduplication not currently supported for this layer's variable layered draco meshes\n",
      "\n",
      "\n",
      "Seg 864691133712131152 returned error on get. Skipping.\n",
      "\n"
     ]
    },
    {
     "name": "stderr",
     "output_type": "stream",
     "text": [
      "07/29/2022 12:15:26 PM WARNING: face_normals incorrect shape, ignoring! \n"
     ]
    },
    {
     "name": "stdout",
     "output_type": "stream",
     "text": [
      "Warning: deduplication not currently supported for this layer's variable layered draco meshes\n"
     ]
    },
    {
     "name": "stderr",
     "output_type": "stream",
     "text": [
      "100%|██████████| 204/204 [00:00<00:00, 104499.02it/s]\n",
      "07/29/2022 12:15:29 PM WARNING: face_normals incorrect shape, ignoring! \n"
     ]
    },
    {
     "name": "stdout",
     "output_type": "stream",
     "text": [
      "Warning: deduplication not currently supported for this layer's variable layered draco meshes\n"
     ]
    },
    {
     "name": "stderr",
     "output_type": "stream",
     "text": [
      "100%|██████████| 22603/22603 [00:00<00:00, 424803.64it/s]\n",
      "07/29/2022 12:15:32 PM WARNING: face_normals incorrect shape, ignoring! \n"
     ]
    },
    {
     "name": "stdout",
     "output_type": "stream",
     "text": [
      "Warning: deduplication not currently supported for this layer's variable layered draco meshes\n"
     ]
    },
    {
     "name": "stderr",
     "output_type": "stream",
     "text": [
      "100%|██████████| 3568/3568 [00:00<00:00, 589068.16it/s]\n",
      "07/29/2022 12:15:34 PM WARNING: face_normals incorrect shape, ignoring! \n"
     ]
    },
    {
     "name": "stdout",
     "output_type": "stream",
     "text": [
      "Warning: deduplication not currently supported for this layer's variable layered draco meshes\n",
      "\n",
      "\n",
      "Seg 864691133678427777 returned error on get. Skipping.\n",
      "\n"
     ]
    },
    {
     "name": "stderr",
     "output_type": "stream",
     "text": [
      "07/29/2022 12:15:35 PM WARNING: face_normals incorrect shape, ignoring! \n"
     ]
    },
    {
     "name": "stdout",
     "output_type": "stream",
     "text": [
      "Warning: deduplication not currently supported for this layer's variable layered draco meshes\n"
     ]
    },
    {
     "name": "stderr",
     "output_type": "stream",
     "text": [
      "100%|██████████| 556/556 [00:00<00:00, 322683.41it/s]\n",
      "07/29/2022 12:15:36 PM WARNING: face_normals incorrect shape, ignoring! \n"
     ]
    },
    {
     "name": "stdout",
     "output_type": "stream",
     "text": [
      "Warning: deduplication not currently supported for this layer's variable layered draco meshes\n"
     ]
    },
    {
     "name": "stderr",
     "output_type": "stream",
     "text": [
      "100%|██████████| 1119/1119 [00:00<00:00, 381393.32it/s]\n",
      "07/29/2022 12:15:37 PM WARNING: face_normals incorrect shape, ignoring! \n"
     ]
    },
    {
     "name": "stdout",
     "output_type": "stream",
     "text": [
      "Warning: deduplication not currently supported for this layer's variable layered draco meshes\n"
     ]
    },
    {
     "name": "stderr",
     "output_type": "stream",
     "text": [
      "100%|██████████| 3576/3576 [00:00<00:00, 666288.97it/s]\n",
      "07/29/2022 12:15:39 PM WARNING: face_normals incorrect shape, ignoring! \n"
     ]
    },
    {
     "name": "stdout",
     "output_type": "stream",
     "text": [
      "Warning: deduplication not currently supported for this layer's variable layered draco meshes\n"
     ]
    },
    {
     "name": "stderr",
     "output_type": "stream",
     "text": [
      "100%|██████████| 230/230 [00:00<00:00, 104823.42it/s]\n",
      "07/29/2022 12:15:40 PM WARNING: face_normals incorrect shape, ignoring! \n"
     ]
    },
    {
     "name": "stdout",
     "output_type": "stream",
     "text": [
      "Warning: deduplication not currently supported for this layer's variable layered draco meshes\n"
     ]
    },
    {
     "name": "stderr",
     "output_type": "stream",
     "text": [
      "100%|██████████| 1402/1402 [00:00<00:00, 428227.08it/s]\n",
      "07/29/2022 12:15:41 PM WARNING: face_normals incorrect shape, ignoring! \n"
     ]
    },
    {
     "name": "stdout",
     "output_type": "stream",
     "text": [
      "Warning: deduplication not currently supported for this layer's variable layered draco meshes\n",
      "\n",
      "\n",
      "Seg 864691133766052845 returned error on get. Skipping.\n",
      "\n"
     ]
    },
    {
     "name": "stderr",
     "output_type": "stream",
     "text": [
      "07/29/2022 12:15:42 PM WARNING: face_normals incorrect shape, ignoring! \n"
     ]
    },
    {
     "name": "stdout",
     "output_type": "stream",
     "text": [
      "Warning: deduplication not currently supported for this layer's variable layered draco meshes\n"
     ]
    },
    {
     "name": "stderr",
     "output_type": "stream",
     "text": [
      "100%|██████████| 1499/1499 [00:00<00:00, 420580.75it/s]\n",
      "07/29/2022 12:15:45 PM WARNING: face_normals incorrect shape, ignoring! \n"
     ]
    },
    {
     "name": "stdout",
     "output_type": "stream",
     "text": [
      "Warning: deduplication not currently supported for this layer's variable layered draco meshes\n"
     ]
    },
    {
     "name": "stderr",
     "output_type": "stream",
     "text": [
      "100%|██████████| 14992/14992 [00:00<00:00, 717598.52it/s]\n",
      "07/29/2022 12:15:47 PM WARNING: face_normals incorrect shape, ignoring! \n"
     ]
    },
    {
     "name": "stdout",
     "output_type": "stream",
     "text": [
      "Warning: deduplication not currently supported for this layer's variable layered draco meshes\n"
     ]
    },
    {
     "name": "stderr",
     "output_type": "stream",
     "text": [
      "100%|██████████| 351/351 [00:00<00:00, 139228.36it/s]\n",
      "07/29/2022 12:15:48 PM WARNING: face_normals incorrect shape, ignoring! \n"
     ]
    },
    {
     "name": "stdout",
     "output_type": "stream",
     "text": [
      "Warning: deduplication not currently supported for this layer's variable layered draco meshes\n"
     ]
    },
    {
     "name": "stderr",
     "output_type": "stream",
     "text": [
      "100%|██████████| 3586/3586 [00:00<00:00, 566699.60it/s]\n",
      "07/29/2022 12:15:51 PM WARNING: face_normals incorrect shape, ignoring! \n"
     ]
    },
    {
     "name": "stdout",
     "output_type": "stream",
     "text": [
      "Warning: deduplication not currently supported for this layer's variable layered draco meshes\n"
     ]
    },
    {
     "name": "stderr",
     "output_type": "stream",
     "text": [
      "100%|██████████| 5274/5274 [00:00<00:00, 705741.43it/s]\n",
      "07/29/2022 12:15:52 PM WARNING: face_normals incorrect shape, ignoring! \n"
     ]
    },
    {
     "name": "stdout",
     "output_type": "stream",
     "text": [
      "Warning: deduplication not currently supported for this layer's variable layered draco meshes\n"
     ]
    },
    {
     "name": "stderr",
     "output_type": "stream",
     "text": [
      "100%|██████████| 7026/7026 [00:00<00:00, 702667.68it/s]\n",
      "07/29/2022 12:15:54 PM WARNING: face_normals incorrect shape, ignoring! \n"
     ]
    },
    {
     "name": "stdout",
     "output_type": "stream",
     "text": [
      "Warning: deduplication not currently supported for this layer's variable layered draco meshes\n"
     ]
    },
    {
     "name": "stderr",
     "output_type": "stream",
     "text": [
      "100%|██████████| 2368/2368 [00:00<00:00, 460801.33it/s]\n",
      "07/29/2022 12:15:57 PM WARNING: face_normals incorrect shape, ignoring! \n"
     ]
    },
    {
     "name": "stdout",
     "output_type": "stream",
     "text": [
      "Warning: deduplication not currently supported for this layer's variable layered draco meshes\n"
     ]
    },
    {
     "name": "stderr",
     "output_type": "stream",
     "text": [
      "100%|██████████| 4525/4525 [00:00<00:00, 649239.75it/s]\n",
      "07/29/2022 12:16:00 PM WARNING: face_normals incorrect shape, ignoring! \n"
     ]
    },
    {
     "name": "stdout",
     "output_type": "stream",
     "text": [
      "Warning: deduplication not currently supported for this layer's variable layered draco meshes\n"
     ]
    },
    {
     "name": "stderr",
     "output_type": "stream",
     "text": [
      "100%|██████████| 15505/15505 [00:00<00:00, 629795.50it/s]\n",
      "07/29/2022 12:16:04 PM WARNING: face_normals incorrect shape, ignoring! \n"
     ]
    },
    {
     "name": "stdout",
     "output_type": "stream",
     "text": [
      "Warning: deduplication not currently supported for this layer's variable layered draco meshes\n"
     ]
    },
    {
     "name": "stderr",
     "output_type": "stream",
     "text": [
      "100%|██████████| 28900/28900 [00:00<00:00, 335457.96it/s]\n",
      "07/29/2022 12:16:08 PM WARNING: face_normals incorrect shape, ignoring! \n"
     ]
    },
    {
     "name": "stdout",
     "output_type": "stream",
     "text": [
      "Warning: deduplication not currently supported for this layer's variable layered draco meshes\n"
     ]
    },
    {
     "name": "stderr",
     "output_type": "stream",
     "text": [
      "100%|██████████| 6582/6582 [00:00<00:00, 534561.79it/s]\n",
      "07/29/2022 12:16:13 PM WARNING: face_normals incorrect shape, ignoring! \n"
     ]
    },
    {
     "name": "stdout",
     "output_type": "stream",
     "text": [
      "Warning: deduplication not currently supported for this layer's variable layered draco meshes\n"
     ]
    },
    {
     "name": "stderr",
     "output_type": "stream",
     "text": [
      "100%|██████████| 105180/105180 [00:00<00:00, 226537.87it/s]\n",
      "07/29/2022 12:16:27 PM WARNING: face_normals incorrect shape, ignoring! \n"
     ]
    },
    {
     "name": "stdout",
     "output_type": "stream",
     "text": [
      "Warning: deduplication not currently supported for this layer's variable layered draco meshes\n"
     ]
    },
    {
     "name": "stderr",
     "output_type": "stream",
     "text": [
      "100%|██████████| 18513/18513 [00:00<00:00, 286364.44it/s]\n",
      "07/29/2022 12:16:31 PM WARNING: face_normals incorrect shape, ignoring! \n"
     ]
    },
    {
     "name": "stdout",
     "output_type": "stream",
     "text": [
      "Warning: deduplication not currently supported for this layer's variable layered draco meshes\n"
     ]
    },
    {
     "name": "stderr",
     "output_type": "stream",
     "text": [
      "100%|██████████| 15061/15061 [00:00<00:00, 362286.30it/s]\n",
      "07/29/2022 12:16:36 PM WARNING: face_normals incorrect shape, ignoring! \n"
     ]
    },
    {
     "name": "stdout",
     "output_type": "stream",
     "text": [
      "Warning: deduplication not currently supported for this layer's variable layered draco meshes\n"
     ]
    },
    {
     "name": "stderr",
     "output_type": "stream",
     "text": [
      "100%|██████████| 14865/14865 [00:00<00:00, 694309.84it/s]\n",
      "07/29/2022 12:16:44 PM WARNING: face_normals incorrect shape, ignoring! \n"
     ]
    },
    {
     "name": "stdout",
     "output_type": "stream",
     "text": [
      "Warning: deduplication not currently supported for this layer's variable layered draco meshes\n"
     ]
    },
    {
     "name": "stderr",
     "output_type": "stream",
     "text": [
      "100%|██████████| 73820/73820 [00:01<00:00, 54258.98it/s] \n",
      "07/29/2022 12:17:00 PM WARNING: face_normals incorrect shape, ignoring! \n"
     ]
    },
    {
     "name": "stdout",
     "output_type": "stream",
     "text": [
      "Warning: deduplication not currently supported for this layer's variable layered draco meshes\n"
     ]
    },
    {
     "name": "stderr",
     "output_type": "stream",
     "text": [
      "100%|██████████| 5791/5791 [00:00<00:00, 520312.21it/s]\n",
      "07/29/2022 12:17:02 PM WARNING: face_normals incorrect shape, ignoring! \n"
     ]
    },
    {
     "name": "stdout",
     "output_type": "stream",
     "text": [
      "Warning: deduplication not currently supported for this layer's variable layered draco meshes\n"
     ]
    },
    {
     "name": "stderr",
     "output_type": "stream",
     "text": [
      "100%|██████████| 14714/14714 [00:00<00:00, 291551.27it/s]\n",
      "07/29/2022 12:17:06 PM WARNING: face_normals incorrect shape, ignoring! \n"
     ]
    },
    {
     "name": "stdout",
     "output_type": "stream",
     "text": [
      "Warning: deduplication not currently supported for this layer's variable layered draco meshes\n"
     ]
    },
    {
     "name": "stderr",
     "output_type": "stream",
     "text": [
      "100%|██████████| 12530/12530 [00:00<00:00, 482165.83it/s]\n",
      "07/29/2022 12:17:10 PM WARNING: face_normals incorrect shape, ignoring! \n"
     ]
    },
    {
     "name": "stdout",
     "output_type": "stream",
     "text": [
      "Warning: deduplication not currently supported for this layer's variable layered draco meshes\n"
     ]
    },
    {
     "name": "stderr",
     "output_type": "stream",
     "text": [
      "100%|██████████| 26058/26058 [00:00<00:00, 679920.46it/s]\n",
      "07/29/2022 12:17:22 PM WARNING: face_normals incorrect shape, ignoring! \n"
     ]
    },
    {
     "name": "stdout",
     "output_type": "stream",
     "text": [
      "Warning: deduplication not currently supported for this layer's variable layered draco meshes\n"
     ]
    },
    {
     "name": "stderr",
     "output_type": "stream",
     "text": [
      "100%|██████████| 210150/210150 [00:01<00:00, 112667.79it/s]\n",
      "07/29/2022 12:17:49 PM WARNING: face_normals incorrect shape, ignoring! \n"
     ]
    },
    {
     "name": "stdout",
     "output_type": "stream",
     "text": [
      "Warning: deduplication not currently supported for this layer's variable layered draco meshes\n"
     ]
    },
    {
     "name": "stderr",
     "output_type": "stream",
     "text": [
      "100%|██████████| 3699/3699 [00:00<00:00, 237358.95it/s]\n",
      "07/29/2022 12:17:51 PM WARNING: face_normals incorrect shape, ignoring! \n"
     ]
    },
    {
     "name": "stdout",
     "output_type": "stream",
     "text": [
      "Warning: deduplication not currently supported for this layer's variable layered draco meshes\n"
     ]
    },
    {
     "name": "stderr",
     "output_type": "stream",
     "text": [
      "100%|██████████| 8352/8352 [00:00<00:00, 560161.62it/s]\n",
      "07/29/2022 12:17:55 PM WARNING: face_normals incorrect shape, ignoring! \n"
     ]
    },
    {
     "name": "stdout",
     "output_type": "stream",
     "text": [
      "Warning: deduplication not currently supported for this layer's variable layered draco meshes\n"
     ]
    },
    {
     "name": "stderr",
     "output_type": "stream",
     "text": [
      "100%|██████████| 17575/17575 [00:00<00:00, 706534.78it/s]\n",
      "07/29/2022 12:17:58 PM WARNING: face_normals incorrect shape, ignoring! \n"
     ]
    },
    {
     "name": "stdout",
     "output_type": "stream",
     "text": [
      "Warning: deduplication not currently supported for this layer's variable layered draco meshes\n"
     ]
    },
    {
     "name": "stderr",
     "output_type": "stream",
     "text": [
      "100%|██████████| 17800/17800 [00:00<00:00, 328924.44it/s]\n",
      "07/29/2022 12:18:01 PM WARNING: face_normals incorrect shape, ignoring! \n"
     ]
    },
    {
     "name": "stdout",
     "output_type": "stream",
     "text": [
      "Warning: deduplication not currently supported for this layer's variable layered draco meshes\n"
     ]
    },
    {
     "name": "stderr",
     "output_type": "stream",
     "text": [
      "100%|██████████| 1644/1644 [00:00<00:00, 277750.58it/s]\n",
      "07/29/2022 12:18:03 PM WARNING: face_normals incorrect shape, ignoring! \n"
     ]
    },
    {
     "name": "stdout",
     "output_type": "stream",
     "text": [
      "Warning: deduplication not currently supported for this layer's variable layered draco meshes\n"
     ]
    },
    {
     "name": "stderr",
     "output_type": "stream",
     "text": [
      "100%|██████████| 11380/11380 [00:00<00:00, 599555.08it/s]\n",
      "07/29/2022 12:18:06 PM WARNING: face_normals incorrect shape, ignoring! \n"
     ]
    },
    {
     "name": "stdout",
     "output_type": "stream",
     "text": [
      "Warning: deduplication not currently supported for this layer's variable layered draco meshes\n"
     ]
    },
    {
     "name": "stderr",
     "output_type": "stream",
     "text": [
      "100%|██████████| 152/152 [00:00<00:00, 67585.52it/s]\n",
      "07/29/2022 12:18:07 PM WARNING: face_normals incorrect shape, ignoring! \n"
     ]
    },
    {
     "name": "stdout",
     "output_type": "stream",
     "text": [
      "Warning: deduplication not currently supported for this layer's variable layered draco meshes\n"
     ]
    },
    {
     "name": "stderr",
     "output_type": "stream",
     "text": [
      "100%|██████████| 934/934 [00:00<00:00, 406799.58it/s]\n",
      "07/29/2022 12:18:11 PM WARNING: face_normals incorrect shape, ignoring! \n"
     ]
    },
    {
     "name": "stdout",
     "output_type": "stream",
     "text": [
      "Warning: deduplication not currently supported for this layer's variable layered draco meshes\n"
     ]
    },
    {
     "name": "stderr",
     "output_type": "stream",
     "text": [
      "100%|██████████| 73645/73645 [00:00<00:00, 329998.18it/s]\n",
      "07/29/2022 12:18:20 PM WARNING: face_normals incorrect shape, ignoring! \n"
     ]
    },
    {
     "name": "stdout",
     "output_type": "stream",
     "text": [
      "Warning: deduplication not currently supported for this layer's variable layered draco meshes\n"
     ]
    },
    {
     "name": "stderr",
     "output_type": "stream",
     "text": [
      "100%|██████████| 403/403 [00:00<00:00, 168407.34it/s]\n",
      "07/29/2022 12:18:21 PM WARNING: face_normals incorrect shape, ignoring! \n"
     ]
    },
    {
     "name": "stdout",
     "output_type": "stream",
     "text": [
      "Warning: deduplication not currently supported for this layer's variable layered draco meshes\n"
     ]
    },
    {
     "name": "stderr",
     "output_type": "stream",
     "text": [
      "100%|██████████| 5928/5928 [00:00<00:00, 467514.70it/s]\n",
      "07/29/2022 12:18:23 PM WARNING: face_normals incorrect shape, ignoring! \n"
     ]
    },
    {
     "name": "stdout",
     "output_type": "stream",
     "text": [
      "Warning: deduplication not currently supported for this layer's variable layered draco meshes\n"
     ]
    },
    {
     "name": "stderr",
     "output_type": "stream",
     "text": [
      "100%|██████████| 8016/8016 [00:00<00:00, 730982.52it/s]\n",
      "07/29/2022 12:18:25 PM WARNING: face_normals incorrect shape, ignoring! \n"
     ]
    },
    {
     "name": "stdout",
     "output_type": "stream",
     "text": [
      "Warning: deduplication not currently supported for this layer's variable layered draco meshes\n"
     ]
    },
    {
     "name": "stderr",
     "output_type": "stream",
     "text": [
      "100%|██████████| 264/264 [00:00<00:00, 174240.17it/s]\n",
      "07/29/2022 12:18:28 PM WARNING: face_normals incorrect shape, ignoring! \n"
     ]
    },
    {
     "name": "stdout",
     "output_type": "stream",
     "text": [
      "Warning: deduplication not currently supported for this layer's variable layered draco meshes\n"
     ]
    },
    {
     "name": "stderr",
     "output_type": "stream",
     "text": [
      "100%|██████████| 30530/30530 [00:00<00:00, 572192.49it/s]\n",
      "07/29/2022 12:18:32 PM WARNING: face_normals incorrect shape, ignoring! \n"
     ]
    },
    {
     "name": "stdout",
     "output_type": "stream",
     "text": [
      "Warning: deduplication not currently supported for this layer's variable layered draco meshes\n"
     ]
    },
    {
     "name": "stderr",
     "output_type": "stream",
     "text": [
      "100%|██████████| 3806/3806 [00:00<00:00, 524960.41it/s]\n",
      "07/29/2022 12:18:34 PM WARNING: face_normals incorrect shape, ignoring! \n"
     ]
    },
    {
     "name": "stdout",
     "output_type": "stream",
     "text": [
      "Warning: deduplication not currently supported for this layer's variable layered draco meshes\n"
     ]
    },
    {
     "name": "stderr",
     "output_type": "stream",
     "text": [
      "100%|██████████| 7820/7820 [00:00<00:00, 691417.37it/s]\n",
      "07/29/2022 12:18:36 PM WARNING: face_normals incorrect shape, ignoring! \n"
     ]
    },
    {
     "name": "stdout",
     "output_type": "stream",
     "text": [
      "Warning: deduplication not currently supported for this layer's variable layered draco meshes\n",
      "\n",
      "\n",
      "Seg 864691133769133345 returned error on get. Skipping.\n",
      "\n"
     ]
    },
    {
     "name": "stderr",
     "output_type": "stream",
     "text": [
      "07/29/2022 12:18:40 PM WARNING: face_normals incorrect shape, ignoring! \n"
     ]
    },
    {
     "name": "stdout",
     "output_type": "stream",
     "text": [
      "Warning: deduplication not currently supported for this layer's variable layered draco meshes\n"
     ]
    },
    {
     "name": "stderr",
     "output_type": "stream",
     "text": [
      "100%|██████████| 49920/49920 [00:00<00:00, 242151.47it/s]\n",
      "07/29/2022 12:18:47 PM WARNING: face_normals incorrect shape, ignoring! \n"
     ]
    },
    {
     "name": "stdout",
     "output_type": "stream",
     "text": [
      "Warning: deduplication not currently supported for this layer's variable layered draco meshes\n"
     ]
    },
    {
     "name": "stderr",
     "output_type": "stream",
     "text": [
      "100%|██████████| 43892/43892 [00:00<00:00, 563151.23it/s]\n",
      "07/29/2022 12:18:54 PM WARNING: face_normals incorrect shape, ignoring! \n"
     ]
    },
    {
     "name": "stdout",
     "output_type": "stream",
     "text": [
      "Warning: deduplication not currently supported for this layer's variable layered draco meshes\n"
     ]
    },
    {
     "name": "stderr",
     "output_type": "stream",
     "text": [
      "100%|██████████| 19407/19407 [00:00<00:00, 469707.25it/s]\n",
      "07/29/2022 12:18:57 PM WARNING: face_normals incorrect shape, ignoring! \n"
     ]
    },
    {
     "name": "stdout",
     "output_type": "stream",
     "text": [
      "Warning: deduplication not currently supported for this layer's variable layered draco meshes\n"
     ]
    },
    {
     "name": "stderr",
     "output_type": "stream",
     "text": [
      "100%|██████████| 2448/2448 [00:00<00:00, 481981.70it/s]\n",
      "07/29/2022 12:19:01 PM WARNING: face_normals incorrect shape, ignoring! \n"
     ]
    },
    {
     "name": "stdout",
     "output_type": "stream",
     "text": [
      "Warning: deduplication not currently supported for this layer's variable layered draco meshes\n"
     ]
    },
    {
     "name": "stderr",
     "output_type": "stream",
     "text": [
      "100%|██████████| 39637/39637 [00:00<00:00, 212785.63it/s]\n",
      "07/29/2022 12:19:06 PM WARNING: face_normals incorrect shape, ignoring! \n"
     ]
    },
    {
     "name": "stdout",
     "output_type": "stream",
     "text": [
      "Warning: deduplication not currently supported for this layer's variable layered draco meshes\n"
     ]
    },
    {
     "name": "stderr",
     "output_type": "stream",
     "text": [
      "100%|██████████| 8835/8835 [00:00<00:00, 504110.73it/s]\n",
      "07/29/2022 12:19:08 PM WARNING: face_normals incorrect shape, ignoring! \n"
     ]
    },
    {
     "name": "stdout",
     "output_type": "stream",
     "text": [
      "Warning: deduplication not currently supported for this layer's variable layered draco meshes\n"
     ]
    },
    {
     "name": "stderr",
     "output_type": "stream",
     "text": [
      "100%|██████████| 9474/9474 [00:00<00:00, 749638.47it/s]\n",
      "07/29/2022 12:19:12 PM WARNING: face_normals incorrect shape, ignoring! \n"
     ]
    },
    {
     "name": "stdout",
     "output_type": "stream",
     "text": [
      "Warning: deduplication not currently supported for this layer's variable layered draco meshes\n"
     ]
    },
    {
     "name": "stderr",
     "output_type": "stream",
     "text": [
      "100%|██████████| 19620/19620 [00:00<00:00, 644272.21it/s]\n",
      "07/29/2022 12:19:16 PM WARNING: face_normals incorrect shape, ignoring! \n"
     ]
    },
    {
     "name": "stdout",
     "output_type": "stream",
     "text": [
      "Warning: deduplication not currently supported for this layer's variable layered draco meshes\n"
     ]
    },
    {
     "name": "stderr",
     "output_type": "stream",
     "text": [
      "100%|██████████| 1286/1286 [00:00<00:00, 381840.22it/s]\n",
      "07/29/2022 12:19:19 PM WARNING: face_normals incorrect shape, ignoring! \n"
     ]
    },
    {
     "name": "stdout",
     "output_type": "stream",
     "text": [
      "Warning: deduplication not currently supported for this layer's variable layered draco meshes\n"
     ]
    },
    {
     "name": "stderr",
     "output_type": "stream",
     "text": [
      "100%|██████████| 23442/23442 [00:00<00:00, 584893.13it/s]\n",
      "07/29/2022 12:19:24 PM WARNING: face_normals incorrect shape, ignoring! \n"
     ]
    },
    {
     "name": "stdout",
     "output_type": "stream",
     "text": [
      "Warning: deduplication not currently supported for this layer's variable layered draco meshes\n"
     ]
    },
    {
     "name": "stderr",
     "output_type": "stream",
     "text": [
      "100%|██████████| 36158/36158 [00:00<00:00, 533320.36it/s]\n",
      "07/29/2022 12:19:28 PM WARNING: face_normals incorrect shape, ignoring! \n"
     ]
    },
    {
     "name": "stdout",
     "output_type": "stream",
     "text": [
      "Warning: deduplication not currently supported for this layer's variable layered draco meshes\n"
     ]
    },
    {
     "name": "stderr",
     "output_type": "stream",
     "text": [
      "100%|██████████| 4826/4826 [00:00<00:00, 732095.59it/s]\n",
      "07/29/2022 12:19:30 PM WARNING: face_normals incorrect shape, ignoring! \n"
     ]
    },
    {
     "name": "stdout",
     "output_type": "stream",
     "text": [
      "Warning: deduplication not currently supported for this layer's variable layered draco meshes\n"
     ]
    },
    {
     "name": "stderr",
     "output_type": "stream",
     "text": [
      "100%|██████████| 1973/1973 [00:00<00:00, 476911.12it/s]\n",
      "07/29/2022 12:19:42 PM WARNING: face_normals incorrect shape, ignoring! \n"
     ]
    },
    {
     "name": "stdout",
     "output_type": "stream",
     "text": [
      "Warning: deduplication not currently supported for this layer's variable layered draco meshes\n"
     ]
    },
    {
     "name": "stderr",
     "output_type": "stream",
     "text": [
      "100%|██████████| 187764/187764 [00:06<00:00, 27295.79it/s]\n",
      "07/29/2022 12:20:16 PM WARNING: face_normals incorrect shape, ignoring! \n"
     ]
    },
    {
     "name": "stdout",
     "output_type": "stream",
     "text": [
      "Warning: deduplication not currently supported for this layer's variable layered draco meshes\n"
     ]
    },
    {
     "name": "stderr",
     "output_type": "stream",
     "text": [
      "100%|██████████| 485/485 [00:00<00:00, 186046.96it/s]\n",
      "07/29/2022 12:20:21 PM WARNING: face_normals incorrect shape, ignoring! \n"
     ]
    },
    {
     "name": "stdout",
     "output_type": "stream",
     "text": [
      "Warning: deduplication not currently supported for this layer's variable layered draco meshes\n"
     ]
    },
    {
     "name": "stderr",
     "output_type": "stream",
     "text": [
      "100%|██████████| 37232/37232 [00:00<00:00, 249902.91it/s]\n",
      "07/29/2022 12:20:26 PM WARNING: face_normals incorrect shape, ignoring! \n"
     ]
    },
    {
     "name": "stdout",
     "output_type": "stream",
     "text": [
      "Warning: deduplication not currently supported for this layer's variable layered draco meshes\n"
     ]
    },
    {
     "name": "stderr",
     "output_type": "stream",
     "text": [
      "100%|██████████| 2640/2640 [00:00<00:00, 367933.63it/s]\n",
      "07/29/2022 12:20:28 PM WARNING: face_normals incorrect shape, ignoring! \n"
     ]
    },
    {
     "name": "stdout",
     "output_type": "stream",
     "text": [
      "Warning: deduplication not currently supported for this layer's variable layered draco meshes\n"
     ]
    },
    {
     "name": "stderr",
     "output_type": "stream",
     "text": [
      "100%|██████████| 5980/5980 [00:00<00:00, 498003.33it/s]\n",
      "07/29/2022 12:20:31 PM WARNING: face_normals incorrect shape, ignoring! \n"
     ]
    },
    {
     "name": "stdout",
     "output_type": "stream",
     "text": [
      "Warning: deduplication not currently supported for this layer's variable layered draco meshes\n"
     ]
    },
    {
     "name": "stderr",
     "output_type": "stream",
     "text": [
      "100%|██████████| 7616/7616 [00:00<00:00, 461963.03it/s]\n",
      "07/29/2022 12:20:32 PM WARNING: face_normals incorrect shape, ignoring! \n"
     ]
    },
    {
     "name": "stdout",
     "output_type": "stream",
     "text": [
      "Warning: deduplication not currently supported for this layer's variable layered draco meshes\n"
     ]
    },
    {
     "name": "stderr",
     "output_type": "stream",
     "text": [
      "100%|██████████| 1211/1211 [00:00<00:00, 369538.17it/s]\n",
      "07/29/2022 12:20:34 PM WARNING: face_normals incorrect shape, ignoring! \n"
     ]
    },
    {
     "name": "stdout",
     "output_type": "stream",
     "text": [
      "Warning: deduplication not currently supported for this layer's variable layered draco meshes\n"
     ]
    },
    {
     "name": "stderr",
     "output_type": "stream",
     "text": [
      "100%|██████████| 1359/1359 [00:00<00:00, 501280.37it/s]\n",
      "07/29/2022 12:20:36 PM WARNING: face_normals incorrect shape, ignoring! \n"
     ]
    },
    {
     "name": "stdout",
     "output_type": "stream",
     "text": [
      "Warning: deduplication not currently supported for this layer's variable layered draco meshes\n"
     ]
    },
    {
     "name": "stderr",
     "output_type": "stream",
     "text": [
      "100%|██████████| 11308/11308 [00:00<00:00, 573425.74it/s]\n",
      "07/29/2022 12:20:38 PM WARNING: face_normals incorrect shape, ignoring! \n"
     ]
    },
    {
     "name": "stdout",
     "output_type": "stream",
     "text": [
      "Warning: deduplication not currently supported for this layer's variable layered draco meshes\n"
     ]
    },
    {
     "name": "stderr",
     "output_type": "stream",
     "text": [
      "100%|██████████| 191/191 [00:00<00:00, 68824.06it/s]\n",
      "07/29/2022 12:20:40 PM WARNING: face_normals incorrect shape, ignoring! \n"
     ]
    },
    {
     "name": "stdout",
     "output_type": "stream",
     "text": [
      "Warning: deduplication not currently supported for this layer's variable layered draco meshes\n"
     ]
    },
    {
     "name": "stderr",
     "output_type": "stream",
     "text": [
      "100%|██████████| 105/105 [00:00<00:00, 60795.41it/s]\n",
      "07/29/2022 12:20:41 PM WARNING: face_normals incorrect shape, ignoring! \n"
     ]
    },
    {
     "name": "stdout",
     "output_type": "stream",
     "text": [
      "Warning: deduplication not currently supported for this layer's variable layered draco meshes\n"
     ]
    },
    {
     "name": "stderr",
     "output_type": "stream",
     "text": [
      "100%|██████████| 7685/7685 [00:00<00:00, 369893.12it/s]\n",
      "07/29/2022 12:20:44 PM WARNING: face_normals incorrect shape, ignoring! \n"
     ]
    },
    {
     "name": "stdout",
     "output_type": "stream",
     "text": [
      "Warning: deduplication not currently supported for this layer's variable layered draco meshes\n"
     ]
    },
    {
     "name": "stderr",
     "output_type": "stream",
     "text": [
      "100%|██████████| 6048/6048 [00:00<00:00, 589522.44it/s]\n",
      "07/29/2022 12:20:46 PM WARNING: face_normals incorrect shape, ignoring! \n"
     ]
    },
    {
     "name": "stdout",
     "output_type": "stream",
     "text": [
      "Warning: deduplication not currently supported for this layer's variable layered draco meshes\n"
     ]
    },
    {
     "name": "stderr",
     "output_type": "stream",
     "text": [
      "100%|██████████| 6896/6896 [00:00<00:00, 482177.85it/s]\n",
      "07/29/2022 12:20:48 PM WARNING: face_normals incorrect shape, ignoring! \n"
     ]
    },
    {
     "name": "stdout",
     "output_type": "stream",
     "text": [
      "Warning: deduplication not currently supported for this layer's variable layered draco meshes\n"
     ]
    },
    {
     "name": "stderr",
     "output_type": "stream",
     "text": [
      "100%|██████████| 2858/2858 [00:00<00:00, 487725.64it/s]\n",
      "07/29/2022 12:20:49 PM WARNING: face_normals incorrect shape, ignoring! \n"
     ]
    },
    {
     "name": "stdout",
     "output_type": "stream",
     "text": [
      "Warning: deduplication not currently supported for this layer's variable layered draco meshes\n"
     ]
    },
    {
     "name": "stderr",
     "output_type": "stream",
     "text": [
      "100%|██████████| 4775/4775 [00:00<00:00, 480283.01it/s]\n",
      "07/29/2022 12:20:51 PM WARNING: face_normals incorrect shape, ignoring! \n"
     ]
    },
    {
     "name": "stdout",
     "output_type": "stream",
     "text": [
      "Warning: deduplication not currently supported for this layer's variable layered draco meshes\n"
     ]
    },
    {
     "name": "stderr",
     "output_type": "stream",
     "text": [
      "100%|██████████| 1010/1010 [00:00<00:00, 423836.62it/s]\n",
      "07/29/2022 12:20:53 PM WARNING: face_normals incorrect shape, ignoring! \n"
     ]
    },
    {
     "name": "stdout",
     "output_type": "stream",
     "text": [
      "Warning: deduplication not currently supported for this layer's variable layered draco meshes\n"
     ]
    },
    {
     "name": "stderr",
     "output_type": "stream",
     "text": [
      "100%|██████████| 8895/8895 [00:00<00:00, 528776.21it/s]\n",
      "07/29/2022 12:20:56 PM WARNING: face_normals incorrect shape, ignoring! \n"
     ]
    },
    {
     "name": "stdout",
     "output_type": "stream",
     "text": [
      "Warning: deduplication not currently supported for this layer's variable layered draco meshes\n",
      "\n",
      "\n",
      "Seg 864691132747855184 returned error on get. Skipping.\n",
      "\n"
     ]
    },
    {
     "name": "stderr",
     "output_type": "stream",
     "text": [
      "07/29/2022 12:21:02 PM WARNING: face_normals incorrect shape, ignoring! \n"
     ]
    },
    {
     "name": "stdout",
     "output_type": "stream",
     "text": [
      "Warning: deduplication not currently supported for this layer's variable layered draco meshes\n"
     ]
    },
    {
     "name": "stderr",
     "output_type": "stream",
     "text": [
      "100%|██████████| 126419/126419 [00:00<00:00, 273657.99it/s]\n",
      "07/29/2022 12:21:18 PM WARNING: face_normals incorrect shape, ignoring! \n"
     ]
    },
    {
     "name": "stdout",
     "output_type": "stream",
     "text": [
      "Warning: deduplication not currently supported for this layer's variable layered draco meshes\n"
     ]
    },
    {
     "name": "stderr",
     "output_type": "stream",
     "text": [
      "100%|██████████| 22194/22194 [00:00<00:00, 393623.36it/s]\n",
      "07/29/2022 12:21:23 PM WARNING: face_normals incorrect shape, ignoring! \n"
     ]
    },
    {
     "name": "stdout",
     "output_type": "stream",
     "text": [
      "Warning: deduplication not currently supported for this layer's variable layered draco meshes\n"
     ]
    },
    {
     "name": "stderr",
     "output_type": "stream",
     "text": [
      "100%|██████████| 33346/33346 [00:00<00:00, 268257.44it/s]\n",
      "07/29/2022 12:21:28 PM WARNING: face_normals incorrect shape, ignoring! \n"
     ]
    },
    {
     "name": "stdout",
     "output_type": "stream",
     "text": [
      "Warning: deduplication not currently supported for this layer's variable layered draco meshes\n"
     ]
    },
    {
     "name": "stderr",
     "output_type": "stream",
     "text": [
      "100%|██████████| 22364/22364 [00:00<00:00, 483452.64it/s]\n",
      "07/29/2022 12:21:31 PM WARNING: face_normals incorrect shape, ignoring! \n"
     ]
    },
    {
     "name": "stdout",
     "output_type": "stream",
     "text": [
      "Warning: deduplication not currently supported for this layer's variable layered draco meshes\n"
     ]
    },
    {
     "name": "stderr",
     "output_type": "stream",
     "text": [
      "100%|██████████| 152/152 [00:00<00:00, 48177.60it/s]\n",
      "07/29/2022 12:21:32 PM WARNING: face_normals incorrect shape, ignoring! \n"
     ]
    },
    {
     "name": "stdout",
     "output_type": "stream",
     "text": [
      "Warning: deduplication not currently supported for this layer's variable layered draco meshes\n"
     ]
    },
    {
     "name": "stderr",
     "output_type": "stream",
     "text": [
      "100%|██████████| 5763/5763 [00:00<00:00, 651337.18it/s]\n",
      "07/29/2022 12:21:34 PM WARNING: face_normals incorrect shape, ignoring! \n"
     ]
    },
    {
     "name": "stdout",
     "output_type": "stream",
     "text": [
      "Warning: deduplication not currently supported for this layer's variable layered draco meshes\n",
      "\n",
      "\n",
      "Seg 864691136347887475 returned error on get. Skipping.\n",
      "\n"
     ]
    },
    {
     "name": "stderr",
     "output_type": "stream",
     "text": [
      "07/29/2022 12:21:35 PM WARNING: face_normals incorrect shape, ignoring! \n"
     ]
    },
    {
     "name": "stdout",
     "output_type": "stream",
     "text": [
      "Warning: deduplication not currently supported for this layer's variable layered draco meshes\n"
     ]
    },
    {
     "name": "stderr",
     "output_type": "stream",
     "text": [
      "100%|██████████| 1905/1905 [00:00<00:00, 479025.73it/s]\n",
      "07/29/2022 12:21:36 PM WARNING: face_normals incorrect shape, ignoring! \n"
     ]
    },
    {
     "name": "stdout",
     "output_type": "stream",
     "text": [
      "Warning: deduplication not currently supported for this layer's variable layered draco meshes\n"
     ]
    },
    {
     "name": "stderr",
     "output_type": "stream",
     "text": [
      "100%|██████████| 138/138 [00:00<00:00, 63106.62it/s]\n",
      "07/29/2022 12:21:39 PM WARNING: face_normals incorrect shape, ignoring! \n"
     ]
    },
    {
     "name": "stdout",
     "output_type": "stream",
     "text": [
      "Warning: deduplication not currently supported for this layer's variable layered draco meshes\n"
     ]
    },
    {
     "name": "stderr",
     "output_type": "stream",
     "text": [
      "100%|██████████| 11909/11909 [00:00<00:00, 547258.95it/s]\n",
      "07/29/2022 12:21:41 PM WARNING: face_normals incorrect shape, ignoring! \n"
     ]
    },
    {
     "name": "stdout",
     "output_type": "stream",
     "text": [
      "Warning: deduplication not currently supported for this layer's variable layered draco meshes\n",
      "\n",
      "\n",
      "Seg 864691133525367772 returned error on get. Skipping.\n",
      "\n"
     ]
    },
    {
     "name": "stderr",
     "output_type": "stream",
     "text": [
      "07/29/2022 12:21:46 PM WARNING: face_normals incorrect shape, ignoring! \n"
     ]
    },
    {
     "name": "stdout",
     "output_type": "stream",
     "text": [
      "Warning: deduplication not currently supported for this layer's variable layered draco meshes\n"
     ]
    },
    {
     "name": "stderr",
     "output_type": "stream",
     "text": [
      "100%|██████████| 120275/120275 [00:00<00:00, 204363.35it/s]\n",
      "07/29/2022 12:22:06 PM WARNING: face_normals incorrect shape, ignoring! \n"
     ]
    },
    {
     "name": "stdout",
     "output_type": "stream",
     "text": [
      "Warning: deduplication not currently supported for this layer's variable layered draco meshes\n"
     ]
    },
    {
     "name": "stderr",
     "output_type": "stream",
     "text": [
      "100%|██████████| 202161/202161 [00:01<00:00, 176601.75it/s]\n",
      "07/29/2022 12:22:28 PM WARNING: face_normals incorrect shape, ignoring! \n"
     ]
    },
    {
     "name": "stdout",
     "output_type": "stream",
     "text": [
      "Warning: deduplication not currently supported for this layer's variable layered draco meshes\n"
     ]
    },
    {
     "name": "stderr",
     "output_type": "stream",
     "text": [
      "100%|██████████| 194/194 [00:00<00:00, 96181.44it/s]\n",
      "07/29/2022 12:22:30 PM WARNING: face_normals incorrect shape, ignoring! \n"
     ]
    },
    {
     "name": "stdout",
     "output_type": "stream",
     "text": [
      "Warning: deduplication not currently supported for this layer's variable layered draco meshes\n"
     ]
    },
    {
     "name": "stderr",
     "output_type": "stream",
     "text": [
      "100%|██████████| 128/128 [00:00<00:00, 80393.97it/s]\n",
      "07/29/2022 12:22:31 PM WARNING: face_normals incorrect shape, ignoring! \n"
     ]
    },
    {
     "name": "stdout",
     "output_type": "stream",
     "text": [
      "Warning: deduplication not currently supported for this layer's variable layered draco meshes\n"
     ]
    },
    {
     "name": "stderr",
     "output_type": "stream",
     "text": [
      "100%|██████████| 266/266 [00:00<00:00, 182093.17it/s]\n",
      "07/29/2022 12:22:32 PM WARNING: face_normals incorrect shape, ignoring! \n"
     ]
    },
    {
     "name": "stdout",
     "output_type": "stream",
     "text": [
      "Warning: deduplication not currently supported for this layer's variable layered draco meshes\n"
     ]
    },
    {
     "name": "stderr",
     "output_type": "stream",
     "text": [
      "100%|██████████| 1532/1532 [00:00<00:00, 436942.32it/s]\n",
      "07/29/2022 12:22:34 PM WARNING: face_normals incorrect shape, ignoring! \n"
     ]
    },
    {
     "name": "stdout",
     "output_type": "stream",
     "text": [
      "Warning: deduplication not currently supported for this layer's variable layered draco meshes\n"
     ]
    },
    {
     "name": "stderr",
     "output_type": "stream",
     "text": [
      "100%|██████████| 2876/2876 [00:00<00:00, 522629.80it/s]\n",
      "07/29/2022 12:22:36 PM WARNING: face_normals incorrect shape, ignoring! \n"
     ]
    },
    {
     "name": "stdout",
     "output_type": "stream",
     "text": [
      "Warning: deduplication not currently supported for this layer's variable layered draco meshes\n"
     ]
    },
    {
     "name": "stderr",
     "output_type": "stream",
     "text": [
      "100%|██████████| 4484/4484 [00:00<00:00, 594545.54it/s]\n",
      "07/29/2022 12:22:38 PM WARNING: face_normals incorrect shape, ignoring! \n"
     ]
    },
    {
     "name": "stdout",
     "output_type": "stream",
     "text": [
      "Warning: deduplication not currently supported for this layer's variable layered draco meshes\n"
     ]
    },
    {
     "name": "stderr",
     "output_type": "stream",
     "text": [
      "100%|██████████| 13121/13121 [00:00<00:00, 527433.47it/s]\n",
      "07/29/2022 12:22:40 PM WARNING: face_normals incorrect shape, ignoring! \n"
     ]
    },
    {
     "name": "stdout",
     "output_type": "stream",
     "text": [
      "Warning: deduplication not currently supported for this layer's variable layered draco meshes\n"
     ]
    },
    {
     "name": "stderr",
     "output_type": "stream",
     "text": [
      "100%|██████████| 1758/1758 [00:00<00:00, 445399.36it/s]\n",
      "07/29/2022 12:22:42 PM WARNING: face_normals incorrect shape, ignoring! \n"
     ]
    },
    {
     "name": "stdout",
     "output_type": "stream",
     "text": [
      "Warning: deduplication not currently supported for this layer's variable layered draco meshes\n",
      "\n",
      "\n",
      "Seg 864691132647441812 returned error on get. Skipping.\n",
      "\n"
     ]
    },
    {
     "name": "stderr",
     "output_type": "stream",
     "text": [
      "07/29/2022 12:22:44 PM WARNING: face_normals incorrect shape, ignoring! \n"
     ]
    },
    {
     "name": "stdout",
     "output_type": "stream",
     "text": [
      "Warning: deduplication not currently supported for this layer's variable layered draco meshes\n"
     ]
    },
    {
     "name": "stderr",
     "output_type": "stream",
     "text": [
      "100%|██████████| 20125/20125 [00:00<00:00, 394485.21it/s]\n",
      "07/29/2022 12:22:48 PM WARNING: face_normals incorrect shape, ignoring! \n"
     ]
    },
    {
     "name": "stdout",
     "output_type": "stream",
     "text": [
      "Warning: deduplication not currently supported for this layer's variable layered draco meshes\n"
     ]
    },
    {
     "name": "stderr",
     "output_type": "stream",
     "text": [
      "100%|██████████| 11410/11410 [00:00<00:00, 777404.30it/s]\n",
      "07/29/2022 12:22:52 PM WARNING: face_normals incorrect shape, ignoring! \n"
     ]
    },
    {
     "name": "stdout",
     "output_type": "stream",
     "text": [
      "Warning: deduplication not currently supported for this layer's variable layered draco meshes\n"
     ]
    },
    {
     "name": "stderr",
     "output_type": "stream",
     "text": [
      "100%|██████████| 15601/15601 [00:00<00:00, 660889.56it/s]\n",
      "07/29/2022 12:22:54 PM WARNING: face_normals incorrect shape, ignoring! \n"
     ]
    },
    {
     "name": "stdout",
     "output_type": "stream",
     "text": [
      "Warning: deduplication not currently supported for this layer's variable layered draco meshes\n",
      "\n",
      "\n",
      "Seg 864691136597387729 returned error on get. Skipping.\n",
      "\n"
     ]
    },
    {
     "name": "stderr",
     "output_type": "stream",
     "text": [
      "07/29/2022 12:22:57 PM WARNING: face_normals incorrect shape, ignoring! \n"
     ]
    },
    {
     "name": "stdout",
     "output_type": "stream",
     "text": [
      "Warning: deduplication not currently supported for this layer's variable layered draco meshes\n"
     ]
    },
    {
     "name": "stderr",
     "output_type": "stream",
     "text": [
      "100%|██████████| 13348/13348 [00:00<00:00, 546243.31it/s]\n",
      "07/29/2022 12:22:59 PM WARNING: face_normals incorrect shape, ignoring! \n"
     ]
    },
    {
     "name": "stdout",
     "output_type": "stream",
     "text": [
      "Warning: deduplication not currently supported for this layer's variable layered draco meshes\n"
     ]
    },
    {
     "name": "stderr",
     "output_type": "stream",
     "text": [
      "100%|██████████| 2543/2543 [00:00<00:00, 469335.35it/s]\n",
      "07/29/2022 12:23:01 PM WARNING: face_normals incorrect shape, ignoring! \n"
     ]
    },
    {
     "name": "stdout",
     "output_type": "stream",
     "text": [
      "Warning: deduplication not currently supported for this layer's variable layered draco meshes\n"
     ]
    },
    {
     "name": "stderr",
     "output_type": "stream",
     "text": [
      "100%|██████████| 13258/13258 [00:00<00:00, 563593.53it/s]\n",
      "07/29/2022 12:23:04 PM WARNING: face_normals incorrect shape, ignoring! \n"
     ]
    },
    {
     "name": "stdout",
     "output_type": "stream",
     "text": [
      "Warning: deduplication not currently supported for this layer's variable layered draco meshes\n"
     ]
    },
    {
     "name": "stderr",
     "output_type": "stream",
     "text": [
      "100%|██████████| 9618/9618 [00:00<00:00, 679561.61it/s]\n",
      "07/29/2022 12:23:10 PM WARNING: face_normals incorrect shape, ignoring! \n"
     ]
    },
    {
     "name": "stdout",
     "output_type": "stream",
     "text": [
      "Warning: deduplication not currently supported for this layer's variable layered draco meshes\n"
     ]
    },
    {
     "name": "stderr",
     "output_type": "stream",
     "text": [
      "100%|██████████| 38734/38734 [00:00<00:00, 161337.97it/s]\n",
      "07/29/2022 12:23:15 PM WARNING: face_normals incorrect shape, ignoring! \n"
     ]
    },
    {
     "name": "stdout",
     "output_type": "stream",
     "text": [
      "Warning: deduplication not currently supported for this layer's variable layered draco meshes\n"
     ]
    },
    {
     "name": "stderr",
     "output_type": "stream",
     "text": [
      "100%|██████████| 811/811 [00:00<00:00, 278111.40it/s]\n",
      "07/29/2022 12:23:16 PM WARNING: face_normals incorrect shape, ignoring! \n"
     ]
    },
    {
     "name": "stdout",
     "output_type": "stream",
     "text": [
      "Warning: deduplication not currently supported for this layer's variable layered draco meshes\n"
     ]
    },
    {
     "name": "stderr",
     "output_type": "stream",
     "text": [
      "100%|██████████| 9313/9313 [00:00<00:00, 441543.11it/s]\n"
     ]
    },
    {
     "name": "stdout",
     "output_type": "stream",
     "text": [
      "[[  99.46356117 4423.90008929]\n",
      " [4415.78452826   24.37211521]]\n",
      "[[ 146.85366866 5470.51569781 9272.57704201]\n",
      " [5554.85157317  495.77414213 8350.73439884]\n",
      " [9231.09576378 8664.4402589   368.27978495]]\n",
      "skipping \n",
      "\n",
      "skipping \n",
      "\n",
      "[[173.70377083 226.46191733]\n",
      " [146.63560277 252.88337233]]\n",
      "[[358.60842154 495.25548962]\n",
      " [491.02851241 233.07724042]]\n",
      "[[  65.7267069  4494.89933146]\n",
      " [4475.84450132  624.97999968]]\n",
      "[[901.23748258 517.58284361]\n",
      " [826.68313156 572.19926599]]\n",
      "skipping \n",
      "\n",
      "[[648.0686692   81.63332653]\n",
      " [107.42904635 605.6153895 ]]\n",
      "[[ 4128.18483113  3189.93291466    91.23595782]\n",
      " [  170.76592166  3482.68416598  4007.43771006]\n",
      " [11292.02129824  8929.37315829 11956.89278199]\n",
      " [13982.45489891 13733.27073206 16546.69710244]\n",
      " [ 7099.01887587  3574.97762231  6076.14853341]]\n",
      "[[8128.64742746  864.88033854]\n",
      " [ 315.13171849 8280.50898194]]\n",
      "[[  802.63628126  3717.38079836 10550.35264813]\n",
      " [10174.82270116  7734.51601589   253.21334878]\n",
      " [ 3197.35218579   939.4423878   8381.84043036]]\n",
      "[[  657.3864921  12356.94270441]\n",
      " [12607.73147715    40.01249805]]\n",
      "[[358.52057124  26.07680962]\n",
      " [ 56.04462508 314.89680849]]\n",
      "[[ 632.51561246  629.52442367]\n",
      " [ 642.04750603 1205.60773057]]\n",
      "skipping \n",
      "\n",
      "[[ 37.36308338 514.76693756]\n",
      " [501.74196556  38.85871846]]\n",
      "[[34041.63876784 31834.05071617 24858.62701357  1196.39165828]\n",
      " [  281.82441342  2356.785947    9314.39455896 33086.30786292]]\n",
      "[[4675.35089592  353.72022843]\n",
      " [  88.20430828 4446.01304541]]\n",
      "[[123.97580409 682.20231603]\n",
      " [594.66797459  82.21921916]]\n",
      "[[  96.42095208 1749.52479262]\n",
      " [1622.45369734  458.97712361]]\n",
      "[[3712.40905613  559.51407489]\n",
      " [ 239.59340559 4046.79725215]]\n",
      "skipping \n",
      "\n",
      "[[1026.45214209  801.50483467]\n",
      " [ 513.0984311  1353.38095154]\n",
      " [ 994.47724961  182.20043908]]\n",
      "[[ 315.70397527 1909.91203986]\n",
      " [1556.73568726  809.35838786]]\n",
      "[[13630.80280101    38.94868419]\n",
      " [  830.40291425 13620.68739088]]\n",
      "[[562.729953   135.3070582 ]\n",
      " [126.54643417 595.58794481]]\n",
      "[[ 101.93134945 4868.93725571]\n",
      " [4959.18098077   30.72458299]]\n",
      "[[  48.88762625 5029.54560572]\n",
      " [5920.58147482 2289.41040445]]\n",
      "[[  14.86606875 8083.54829267]\n",
      " [8031.90002428  139.17614738]]\n",
      "[[3140.96879959  548.80324343]\n",
      " [ 217.33154396 2828.26536944]]\n",
      "[[ 774.19700335 5053.42309727]\n",
      " [ 612.68670624 5120.38758299]\n",
      " [5673.50209306   84.        ]]\n",
      "[[16271.3315374   1838.26983873]\n",
      " [  758.89656739 17297.52901428]]\n",
      "[[14102.25460698  6289.34654793  7228.31847666  7941.92375939\n",
      "   5860.16083397   120.65653733  6205.24366967]\n",
      " [13490.80360838  9103.78871679  8456.15261215  9887.33209718\n",
      "   7570.78463569  6137.64686179   114.27160627]\n",
      " [ 7142.88849136  2328.45721455    39.86226286  4800.11812355\n",
      "   3143.47228396  7310.09336466  8508.53077799]\n",
      " [ 8983.21668446   151.01324445  2230.20738946  5433.86602706\n",
      "   3803.59303817  6365.88320659  9125.85612422]\n",
      " [   82.56512581  9018.89682833  7064.19705274  8417.82305587\n",
      "   8702.44362234 14172.27271823 13451.78148053]]\n",
      "[[5794.38529958 6356.7184144   135.32183859]\n",
      " [2064.61449186   16.88194302 6440.60478527]]\n",
      "[[4.50567954e+04 1.95527682e+04 4.32130717e+04 3.61400069e+04\n",
      "  2.88308804e+04 1.60921288e+04 2.43874006e+04 3.96036614e+02\n",
      "  6.84594369e+03 2.76317840e+04 2.11539684e+04]\n",
      " [4.96027166e+04 3.50540310e+04 4.65528773e+04 4.10964200e+04\n",
      "  3.51900786e+04 2.56049446e+04 2.81851677e+04 2.11822273e+04\n",
      "  1.94390054e+04 2.59480859e+04 1.19770614e+02]\n",
      " [3.94565994e+04 1.76924279e+04 3.74326762e+04 3.04801133e+04\n",
      "  2.33836711e+04 1.05374384e+04 1.87831214e+04 6.75872325e+03\n",
      "  3.05754804e+02 2.17274451e+04 1.97742795e+04]\n",
      " [3.08923464e+04 2.94788059e+01 3.02752051e+04 2.33337256e+04\n",
      "  1.68508351e+04 1.21898493e+04 1.72754401e+04 1.92451296e+04\n",
      "  1.78571114e+04 2.40759315e+04 3.50968094e+04]\n",
      " [2.39736267e+04 2.40849685e+04 2.07564881e+04 1.61690038e+04\n",
      "  1.25535155e+04 1.44435247e+04 7.05194562e+03 2.75182756e+04\n",
      "  2.15612117e+04 5.80689246e+01 2.59303084e+04]\n",
      " [1.69526623e+04 3.74175293e+04 1.44405559e+04 1.79942325e+04\n",
      "  2.22190963e+04 3.27249794e+04 2.34454581e+04 4.72716312e+04\n",
      "  4.18426409e+04 2.11124565e+04 4.53483959e+04]\n",
      " [1.71688672e+02 3.07966662e+04 3.50946221e+03 8.88641829e+03\n",
      "  1.61709604e+04 2.89191754e+04 2.21129889e+04 4.47682982e+04\n",
      "  3.93289749e+04 2.38090284e+04 4.94339803e+04]]\n",
      "[[  150.56227947 10139.99802761  9720.50770279]\n",
      " [10274.09363399   239.8353602   4692.46470418]\n",
      " [ 9706.69093976  5391.09562149   749.00333778]]\n",
      "[[13287.84832093 11924.3910117  12666.62338589 10743.91027513\n",
      "  11108.58933438]\n",
      " [11162.08313891  3678.04567671  1975.96685195  2588.36801866\n",
      "   1021.83266732]\n",
      " [  314.23717158  7707.22965793 10312.37799928  8624.81443279\n",
      "  11753.47782573]]\n",
      "[[   41.43669871 20114.63521916]\n",
      " [20059.3399692     97.90301323]]\n",
      "skipping \n",
      "\n",
      "[[ 385.75121516 2269.35453378 6356.16551075]\n",
      " [2036.26913742   15.16575089 6922.34208921]\n",
      " [6698.05232885 6982.27677767  196.23710149]]\n",
      "skipping \n",
      "\n",
      "[[10766.71491217 10795.95850307  7354.95622013    89.10667764]\n",
      " [ 5875.00306383  5399.21003481    32.06243908  7446.11099837]\n",
      " [ 1426.61312205   156.08010764  5577.4343564  10982.13553914]]\n",
      "[[  180.29143074 25361.66280038]\n",
      " [25233.5133503     26.17250466]]\n",
      "skipping \n",
      "\n",
      "[[1325.23507349  387.45967532 3857.5413154 ]\n",
      " [3161.97991771 3651.31401005  211.43793416]]\n",
      "[[8038.83362186 5166.50055647  339.53055827]\n",
      " [3601.18841495   24.         5241.9398127 ]\n",
      " [  61.77378085 3587.78065104 8078.02457288]]\n",
      "skipping \n",
      "\n",
      "skipping \n",
      "\n",
      "[[ 134.33167906 2601.44056246]\n",
      " [2675.36726451   16.43167673]]\n",
      "[[  102.32301794  3504.01198628 11723.69967203]\n",
      " [11797.9401592   9240.54619598    50.19960159]]\n",
      "[[352.76054201 152.72524349]\n",
      " [ 21.3541565  455.48325985]]\n",
      "[[1699.82499099   26.92582404]\n",
      " [  27.07397274 1686.14619769]]\n",
      "[[ 12735.57372088  35001.25403468  26599.29173869  31009.2873346\n",
      "   18918.2796258   21415.43819304    195.        ]\n",
      " [   301.27230208  29328.06330121  20596.38774154  25772.44656605\n",
      "   13893.6083506   16828.08046094  12851.58239284]\n",
      " [ 64509.84775211  35976.8216634   45516.34141712  40144.50859084\n",
      "   52716.28075841  49759.24316145  70017.38436988]\n",
      " [ 72187.74902295  42949.80131502  52173.1623155   46692.69514603\n",
      "   59320.50088292  56256.50353515  76470.50367298]\n",
      " [ 68360.7938295   40015.56258507  49292.89741941  44239.97294303\n",
      "   56826.52029642  53986.53469153  74924.55799002]\n",
      " [113576.93540504  85373.08518497  94868.54986243  89575.09471388\n",
      "  102162.50138872  99230.29741465 119370.20541576]\n",
      " [ 58934.454074    31081.74507649  40358.9344012   35395.96869701\n",
      "   47788.1562419   45007.34462285  65755.84007524]\n",
      " [ 66034.22107514  38490.39684129  47676.72327247  42804.27198306\n",
      "   55135.50566559  52394.03532846  73148.50202157]]\n",
      "skipping \n",
      "\n",
      "[[3118.03624097 2715.30403454  182.75940468]\n",
      " [1867.67609612  341.8420688  2969.0680356 ]\n",
      " [ 237.05906437 1942.45128639 3063.23195335]]\n",
      "[[ 179.55779014 8997.95098898]\n",
      " [9016.72512612   18.13835715]]\n",
      "[[355.19149765 487.7191815 ]\n",
      " [ 49.04079934 707.92513729]]\n",
      "[[33091.47897873  5453.96452134   128.77888026]\n",
      " [ 1215.36002896 27800.90027319 33288.84685597]]\n",
      "[[4091.22108911   18.86796226]\n",
      " [  40.80441153 4068.75226574]]\n",
      "[[10109.88036527   155.2836115 ]\n",
      " [   16.88194302 10227.94920793]]\n",
      "skipping \n",
      "\n",
      "[[3.76209746e+04 4.17216896e+04 4.24502617e+04 1.40036211e+04\n",
      "  1.24854545e+04 8.62515374e+03 8.03767485e+03 3.10644491e+01]\n",
      " [1.54378187e+04 3.68919409e+03 7.89936706e+01 3.35119813e+04\n",
      "  3.41707110e+04 3.56190252e+04 3.73391194e+04 4.23995665e+04]]\n",
      "[[1.53406421e+03 1.94164878e+01 3.84468895e+04]\n",
      " [3.81276523e+04 3.84133919e+04 4.12310563e+01]]\n",
      "[[19864.73951503 22595.52814165  7738.78207472   444.96404349]\n",
      " [11735.7593704  15914.75818227  2189.38347486  9321.85051371]\n",
      " [ 5936.93329927    59.8414572  15733.12788355 22988.30224266]]\n",
      "[[2617.98242928   58.9067059 ]\n",
      " [ 134.12680567 2526.06650744]]\n",
      "skipping \n",
      "\n",
      "[[2181.11118469 6958.83675624  434.84365006]\n",
      " [5488.58141964  606.60118694 6716.95593256]]\n",
      "skipping \n",
      "\n",
      "skipping \n",
      "\n",
      "[[728.33646071 821.10291681]\n",
      " [536.80257078  56.96490147]]\n",
      "[[ 3909.81099287    28.72281323 25144.70258325]\n",
      " [23509.82254293 25148.07199369    48.60041152]]\n",
      "[[  131.48383931 12935.8821887  21815.46309387]\n",
      " [13095.24799307   399.20921833 18095.85814489]\n",
      " [21916.76173617 18056.13737763    64.90762667]]\n",
      "[[  46.43274706 5320.16447114]\n",
      " [5685.48617094  461.89284472]]\n",
      "[[3211.97073461   38.89730068]\n",
      " [  30.7408523  3229.0676673 ]]\n",
      "skipping \n",
      "\n",
      "[[620.95813063 151.21177203]\n",
      " [218.73499949 552.63821801]]\n",
      "skipping \n",
      "\n",
      "[[1430.60267021  183.84776311 2427.92298066]\n",
      " [1941.98455195 2540.09133694   20.14944168]]\n",
      "[[   31.89043744 12745.44314647]\n",
      " [12741.17047213    30.01666204]]\n",
      "[[7605.6870827    88.60022573 9508.79498149]\n",
      " [6684.9412862  9589.93879021   31.144823  ]\n",
      " [  43.79497688 7638.56138288 6656.71961254]]\n",
      "[[ 935.98344002 2534.72089193]\n",
      " [1850.50506619   62.        ]]\n",
      "[[1619.99876543 1284.47070811]\n",
      " [ 105.89145386 1031.67824442]]\n",
      "[[   75.74958746  6510.60058674 11021.62478948]\n",
      " [11065.46799733  4853.89328272   248.2035455 ]]\n",
      "skipping \n",
      "\n",
      "[[310.85366332  23.02172887]\n",
      " [ 62.4899992  303.19135872]]\n",
      "skipping \n",
      "\n",
      "[[   40.31128874 12244.73049928]\n",
      " [12212.52574204    46.09772229]]\n",
      "[[ 5963.93569717 14680.46378695    96.64884893]\n",
      " [ 9660.69666225    65.32993188 14711.3417471 ]]\n",
      "[[1109.86485664 3692.88505101]\n",
      " [2858.46899581   32.26453161]]\n",
      "[[4383.26647604 6625.7616166   805.82938641]\n",
      " [2635.96092536   45.475268   6080.72758804]]\n",
      "[[299.8349546  881.41080093]\n",
      " [776.66273246  45.48626166]]\n",
      "[[4345.46487732  142.46754016 8994.61805748]\n",
      " [7223.4288257  9523.42816427  725.81333688]]\n",
      "skipping \n",
      "\n",
      "[[ 50971.90969544 104903.52570338  68877.84624972  69601.12287169\n",
      "   50977.3090404   37501.3884543   32724.09505242    223.90176417]\n",
      " [   247.97177259  58257.45934213  23492.67945552  24605.16199906\n",
      "   12148.74944181  16729.28868781  21044.78008913  51145.82626178]\n",
      " [ 58174.28027058    167.16458955  36412.88591969  35762.25286528\n",
      "   55096.19992341  68432.88695503  72770.63700422 104960.22963485]]\n",
      "skipping \n",
      "\n",
      "[[ 1169.28396893    47.93745926 20369.20933664 21178.14800685\n",
      "  22693.15000171]\n",
      " [22746.87391709 22677.40836163  2769.20656507  1592.80413108\n",
      "     47.16990566]]\n",
      "[[11691.13086917  9801.80677222  9378.60570661   235.75623003]\n",
      " [  208.540164   15491.69041777  2728.81384488 11749.98114892]\n",
      " [15814.15486202   354.9154829  14240.8687235   9929.1142606 ]]\n",
      "skipping \n",
      "\n",
      "[[7405.00506414   71.86793444]\n",
      " [1041.80468419 7166.27378768]]\n",
      "skipping \n",
      "\n",
      "[[ 241.85532866 1607.08244966]\n",
      " [1651.96277198  120.70211266]]\n",
      "[[ 45.12205669 225.22211259]\n",
      " [239.06066176  56.64803615]]\n",
      "[[5477.85049084  865.63560463 9255.64584456]\n",
      " [5316.68176591 8598.90365105  211.10423965]]\n",
      "skipping \n",
      "\n",
      "[[  591.34930456 22345.55718706 20834.35396167 32221.76342164\n",
      "  28132.42209622 18346.75491742 23968.62065285 28552.57153042\n",
      "  33621.04781235 33355.17911809 35467.64570704 26253.03237723]\n",
      " [21964.59917686    74.97332859 25135.39575976 14815.47046165\n",
      "  11708.64885459 18790.40406697 19885.16142756 17245.05610313\n",
      "  16683.97137974 17666.75004068 20839.42103322 19991.73929402]\n",
      " [29138.15301285 12566.00003979 23355.91762274  4316.74194272\n",
      "   1159.97499973 16395.49111799 13768.579629    7046.28299176\n",
      "   4531.07856917  5175.55340036  8393.80205866 12749.20985787]\n",
      " [21090.70212203 25336.70917858   172.11914478 24363.70587575\n",
      "  22715.49966433 12222.70174716 11740.74060696 18521.69303816\n",
      "  26040.63236559 24634.55499903 26155.31903839 19618.24959062]\n",
      " [24017.2248605  19923.11566999 11706.35541063 15462.8802621\n",
      "  13167.82537096  6541.77804576    35.4964787   7777.74935312\n",
      "  15798.07925034 14257.72527439 15129.8856572   8555.66064077]\n",
      " [26686.70335579 20175.2463182  19779.53500465 15804.26904352\n",
      "  12219.50281313  9519.67488941  8702.17133824  8666.01898221\n",
      "  14056.78661715 12916.80796482 12349.07211089   325.30754679]\n",
      " [29086.42803783 17484.98452959 18847.49917098  7881.35775105\n",
      "   6918.81991383 13060.30818932  8317.81377527   714.30035699\n",
      "   7654.9833442   5982.61548154  7460.83520794  9368.27225266]\n",
      " [32272.01637642 15114.68084347 24389.70065417   271.99448524\n",
      "   5440.21801034 19388.34982664 15544.6416813   8389.15573821\n",
      "   4053.78995509  4594.41759095  8307.25544329 15990.67359432]\n",
      " [33505.35419899 16721.38427284 26019.9288431   4125.32277525\n",
      "   5654.70361734 19484.60659084 15827.77501735  8099.26965843\n",
      "     36.74234614  2126.70073118  5012.11991078 14217.90297477]\n",
      " [35371.1980289  20700.96582288 26253.68037057  8304.35271409\n",
      "   9062.62461983 19458.9074719  15245.72936924  7930.21468814\n",
      "   4822.75854672  3690.78555324   291.10135692 12630.15601646]]\n",
      "skipping \n",
      "\n",
      "skipping \n",
      "\n",
      "skipping \n",
      "\n",
      "skipping \n",
      "\n",
      "[[1773.9574403   262.78698598]\n",
      " [  12.36931688 1964.69157885]]\n",
      "[[2931.81121493   94.95261976]\n",
      " [ 101.78899744 2977.3716597 ]]\n",
      "[[5963.40339068  941.31450642]\n",
      " [  41.0487515  5354.89215578]]\n",
      "[[17026.81520426    20.90454496 19963.30669003]\n",
      " [ 3509.92948647 19956.17247871    25.        ]]\n",
      "[[1631.98774505  139.89996426]\n",
      " [  94.27619    1655.5470395 ]]\n",
      "[[5.24722708e+03 6.10227572e+03 3.18216907e+02 1.72840896e+04\n",
      "  1.09311354e+04 2.03664803e+04]\n",
      " [1.65972974e+04 1.46402354e+04 2.03785424e+04 4.23783305e+03\n",
      "  1.00837706e+04 9.21954446e+00]]\n",
      "[[10355.88513841    35.28455753]\n",
      " [   31.06444913 10358.44124374]]\n",
      "skipping \n",
      "\n",
      "skipping \n",
      "\n",
      "[[   61.40032573  5161.01055996 16096.10241642]\n",
      " [16090.07426956 11216.67999009    49.12229636]]\n",
      "[[ 567.43369657 3469.70978613]\n",
      " [3244.97411392   68.02940541]]\n",
      "[[16733.89643807  8273.97316892   682.07111066]\n",
      " [   59.51470407 11144.90735717 16849.42506438]]\n",
      "[[11926.12267252   124.6314567 ]\n",
      " [  118.41030361 11931.48532246]]\n",
      "skipping \n",
      "\n",
      "[[ 106.62082348  894.87261663]\n",
      " [1033.07550547  708.78064308]]\n",
      "skipping \n",
      "\n"
     ]
    }
   ],
   "source": [
    "run = 0\n",
    "# for invalidation_d in range(4000, 6001, 200):\n",
    "for invalidation_d in range(4000, 4201, 200):\n",
    "    # for num_humfrey_iters in range(0,251,25):\n",
    "    for num_humfrey_iters in range(50, 76, 25):\n",
    "        # for decimation_factor in np.arange(0.3, 0.71, 0.04):\n",
    "        for decimation_factor in np.linspace(0.3, 0.35, num = 2):\n",
    "            load = pd.read_csv(\"agents/Data/endpoints_gt5.csv\") #NOT THE BEST WAY TO DO THIS!!!\n",
    "            run += 1\n",
    "            load_with_proposed_endpoints = endpoint_generator(\n",
    "                load, invalidation_d=invalidation_d, humfrey_iters=num_humfrey_iters, decimation_factor=decimation_factor)\n",
    "            out_df = testing_metrics(\n",
    "                load_with_proposed_endpoints, threshold=500, run=run, output=out_df)\n"
   ]
  },
  {
   "cell_type": "code",
   "execution_count": 37,
   "metadata": {},
   "outputs": [],
   "source": [
    "out_df.to_csv('results.csv')\n"
   ]
  },
  {
   "cell_type": "code",
   "execution_count": 38,
   "metadata": {},
   "outputs": [
    {
     "data": {
      "text/html": [
       "<div>\n",
       "<style scoped>\n",
       "    .dataframe tbody tr th:only-of-type {\n",
       "        vertical-align: middle;\n",
       "    }\n",
       "\n",
       "    .dataframe tbody tr th {\n",
       "        vertical-align: top;\n",
       "    }\n",
       "\n",
       "    .dataframe thead th {\n",
       "        text-align: right;\n",
       "    }\n",
       "</style>\n",
       "<table border=\"1\" class=\"dataframe\">\n",
       "  <thead>\n",
       "    <tr style=\"text-align: right;\">\n",
       "      <th></th>\n",
       "      <th>run</th>\n",
       "      <th>precision</th>\n",
       "      <th>recall</th>\n",
       "      <th>f1</th>\n",
       "      <th>seg_id</th>\n",
       "      <th>num_endpoints</th>\n",
       "      <th>endpoints</th>\n",
       "      <th>comments</th>\n",
       "      <th>proposed_endpoints</th>\n",
       "    </tr>\n",
       "  </thead>\n",
       "  <tbody>\n",
       "    <tr>\n",
       "      <th>0</th>\n",
       "      <td>1</td>\n",
       "      <td>1.000000</td>\n",
       "      <td>1.0</td>\n",
       "      <td>1.0</td>\n",
       "      <td>864691135909994000</td>\n",
       "      <td>2</td>\n",
       "      <td>[[402584, 228856, 23991], [402985, 229235, 235...</td>\n",
       "      <td>good</td>\n",
       "      <td>[[402567, 228758, 23991], [402990, 229222, 235...</td>\n",
       "    </tr>\n",
       "    <tr>\n",
       "      <th>1</th>\n",
       "      <td>1</td>\n",
       "      <td>1.000000</td>\n",
       "      <td>1.0</td>\n",
       "      <td>1.0</td>\n",
       "      <td>864691135247440303</td>\n",
       "      <td>3</td>\n",
       "      <td>[[401612, 224623, 23991], [405257, 226318, 236...</td>\n",
       "      <td>good</td>\n",
       "      <td>[[401467, 224644, 23990], [405021, 226754, 236...</td>\n",
       "    </tr>\n",
       "    <tr>\n",
       "      <th>2</th>\n",
       "      <td>1</td>\n",
       "      <td>1.000000</td>\n",
       "      <td>1.0</td>\n",
       "      <td>1.0</td>\n",
       "      <td>864691135314714227</td>\n",
       "      <td>2</td>\n",
       "      <td>[[397867, 232230, 23999], [397854, 232252, 239...</td>\n",
       "      <td>good</td>\n",
       "      <td>[[397815, 232393, 23996], [397931, 232013, 240...</td>\n",
       "    </tr>\n",
       "    <tr>\n",
       "      <th>3</th>\n",
       "      <td>1</td>\n",
       "      <td>1.000000</td>\n",
       "      <td>1.0</td>\n",
       "      <td>1.0</td>\n",
       "      <td>864691135552841025</td>\n",
       "      <td>2</td>\n",
       "      <td>[[403332, 227545, 24398], [403566, 227614, 244...</td>\n",
       "      <td>good</td>\n",
       "      <td>[[403094, 227479, 24424], [403709, 227788, 244...</td>\n",
       "    </tr>\n",
       "    <tr>\n",
       "      <th>4</th>\n",
       "      <td>1</td>\n",
       "      <td>0.500000</td>\n",
       "      <td>0.5</td>\n",
       "      <td>0.5</td>\n",
       "      <td>864691135516937065</td>\n",
       "      <td>2</td>\n",
       "      <td>[[77262, 113088, 20442], [79178, 109116, 20402]]</td>\n",
       "      <td>good</td>\n",
       "      <td>[[77206, 113116, 20440], [79748, 109356, 20411]]</td>\n",
       "    </tr>\n",
       "    <tr>\n",
       "      <th>...</th>\n",
       "      <td>...</td>\n",
       "      <td>...</td>\n",
       "      <td>...</td>\n",
       "      <td>...</td>\n",
       "      <td>...</td>\n",
       "      <td>...</td>\n",
       "      <td>...</td>\n",
       "      <td>...</td>\n",
       "      <td>...</td>\n",
       "    </tr>\n",
       "    <tr>\n",
       "      <th>795</th>\n",
       "      <td>8</td>\n",
       "      <td>0.666667</td>\n",
       "      <td>1.0</td>\n",
       "      <td>0.8</td>\n",
       "      <td>864691136810680430</td>\n",
       "      <td>2</td>\n",
       "      <td>[[116389, 195392, 19326], [121899, 191082, 178...</td>\n",
       "      <td>good</td>\n",
       "      <td>[[116340, 195429, 19326], [118328, 192695, 189...</td>\n",
       "    </tr>\n",
       "    <tr>\n",
       "      <th>796</th>\n",
       "      <td>8</td>\n",
       "      <td>0.500000</td>\n",
       "      <td>0.5</td>\n",
       "      <td>0.5</td>\n",
       "      <td>864691135089638001</td>\n",
       "      <td>2</td>\n",
       "      <td>[[122789, 154701, 20649], [122688, 151314, 205...</td>\n",
       "      <td>good</td>\n",
       "      <td>[[122634, 154535, 20597], [122670, 151366, 205...</td>\n",
       "    </tr>\n",
       "    <tr>\n",
       "      <th>797</th>\n",
       "      <td>8</td>\n",
       "      <td>0.333333</td>\n",
       "      <td>0.5</td>\n",
       "      <td>0.4</td>\n",
       "      <td>864691135319600870</td>\n",
       "      <td>2</td>\n",
       "      <td>[[106608, 111803, 20796], [98290, 97555, 21045]]</td>\n",
       "      <td>good</td>\n",
       "      <td>[[98239, 97526, 21044], [104882, 104419, 20465...</td>\n",
       "    </tr>\n",
       "    <tr>\n",
       "      <th>798</th>\n",
       "      <td>8</td>\n",
       "      <td>1.000000</td>\n",
       "      <td>1.0</td>\n",
       "      <td>1.0</td>\n",
       "      <td>864691136558839249</td>\n",
       "      <td>2</td>\n",
       "      <td>[[103138, 188530, 21200], [91780, 189141, 20879]]</td>\n",
       "      <td>good</td>\n",
       "      <td>[[91669, 189101, 20878], [103261, 188532, 21198]]</td>\n",
       "    </tr>\n",
       "    <tr>\n",
       "      <th>799</th>\n",
       "      <td>8</td>\n",
       "      <td>0.500000</td>\n",
       "      <td>0.5</td>\n",
       "      <td>0.5</td>\n",
       "      <td>864691135458639120</td>\n",
       "      <td>2</td>\n",
       "      <td>[[127475, 206611, 21525], [128120, 207267, 215...</td>\n",
       "      <td>good</td>\n",
       "      <td>[[127403, 206533, 21524], [127619, 207230, 214...</td>\n",
       "    </tr>\n",
       "  </tbody>\n",
       "</table>\n",
       "<p>800 rows × 9 columns</p>\n",
       "</div>"
      ],
      "text/plain": [
       "     run  precision  recall   f1              seg_id  num_endpoints  \\\n",
       "0      1   1.000000     1.0  1.0  864691135909994000              2   \n",
       "1      1   1.000000     1.0  1.0  864691135247440303              3   \n",
       "2      1   1.000000     1.0  1.0  864691135314714227              2   \n",
       "3      1   1.000000     1.0  1.0  864691135552841025              2   \n",
       "4      1   0.500000     0.5  0.5  864691135516937065              2   \n",
       "..   ...        ...     ...  ...                 ...            ...   \n",
       "795    8   0.666667     1.0  0.8  864691136810680430              2   \n",
       "796    8   0.500000     0.5  0.5  864691135089638001              2   \n",
       "797    8   0.333333     0.5  0.4  864691135319600870              2   \n",
       "798    8   1.000000     1.0  1.0  864691136558839249              2   \n",
       "799    8   0.500000     0.5  0.5  864691135458639120              2   \n",
       "\n",
       "                                             endpoints comments  \\\n",
       "0    [[402584, 228856, 23991], [402985, 229235, 235...     good   \n",
       "1    [[401612, 224623, 23991], [405257, 226318, 236...     good   \n",
       "2    [[397867, 232230, 23999], [397854, 232252, 239...     good   \n",
       "3    [[403332, 227545, 24398], [403566, 227614, 244...     good   \n",
       "4     [[77262, 113088, 20442], [79178, 109116, 20402]]     good   \n",
       "..                                                 ...      ...   \n",
       "795  [[116389, 195392, 19326], [121899, 191082, 178...     good   \n",
       "796  [[122789, 154701, 20649], [122688, 151314, 205...     good   \n",
       "797   [[106608, 111803, 20796], [98290, 97555, 21045]]     good   \n",
       "798  [[103138, 188530, 21200], [91780, 189141, 20879]]     good   \n",
       "799  [[127475, 206611, 21525], [128120, 207267, 215...     good   \n",
       "\n",
       "                                    proposed_endpoints  \n",
       "0    [[402567, 228758, 23991], [402990, 229222, 235...  \n",
       "1    [[401467, 224644, 23990], [405021, 226754, 236...  \n",
       "2    [[397815, 232393, 23996], [397931, 232013, 240...  \n",
       "3    [[403094, 227479, 24424], [403709, 227788, 244...  \n",
       "4     [[77206, 113116, 20440], [79748, 109356, 20411]]  \n",
       "..                                                 ...  \n",
       "795  [[116340, 195429, 19326], [118328, 192695, 189...  \n",
       "796  [[122634, 154535, 20597], [122670, 151366, 205...  \n",
       "797  [[98239, 97526, 21044], [104882, 104419, 20465...  \n",
       "798  [[91669, 189101, 20878], [103261, 188532, 21198]]  \n",
       "799  [[127403, 206533, 21524], [127619, 207230, 214...  \n",
       "\n",
       "[800 rows x 9 columns]"
      ]
     },
     "execution_count": 38,
     "metadata": {},
     "output_type": "execute_result"
    }
   ],
   "source": [
    "out_df"
   ]
  },
  {
   "cell_type": "code",
   "execution_count": null,
   "metadata": {},
   "outputs": [],
   "source": []
  }
 ],
 "metadata": {
  "interpreter": {
   "hash": "aee8b7b246df8f9039afb4144a1f6fd8d2ca17a180786b69acc140d282b71a49"
  },
  "kernelspec": {
   "display_name": "Python 3.8.10 64-bit",
   "language": "python",
   "name": "python3"
  },
  "language_info": {
   "codemirror_mode": {
    "name": "ipython",
    "version": 3
   },
   "file_extension": ".py",
   "mimetype": "text/x-python",
   "name": "python",
   "nbconvert_exporter": "python",
   "pygments_lexer": "ipython3",
   "version": "3.8.10"
  },
  "orig_nbformat": 4
 },
 "nbformat": 4,
 "nbformat_minor": 2
}
