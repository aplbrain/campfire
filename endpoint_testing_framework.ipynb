{
 "cells": [
  {
   "cell_type": "markdown",
   "metadata": {},
   "source": [
    "### Imports"
   ]
  },
  {
   "cell_type": "code",
   "execution_count": 1,
   "metadata": {},
   "outputs": [],
   "source": [
    "from caveclient import CAVEclient\n",
    "from intern import array\n",
    "import pickle\n",
    "import numpy as np\n",
    "from agents import data_loader\n",
    "from cloudvolume import CloudVolume\n",
    "from membrane_detection import membranes\n",
    "from agents.scripts import precompute_membrane_vectors, create_post_matrix, merge_paths, get_soma\n",
    "import agents.sensor\n",
    "from agents.run import run_agents\n",
    "import aws.sqs as sqs\n",
    "import sys\n",
    "import time\n",
    "import ast\n",
    "import pandas as pd\n",
    "import agents.scripts as scripts\n",
    "from drive import drive\n",
    "from finding_orphans import *\n",
    "from math import sqrt\n",
    "from tip_finding import tip_finder_decimation"
   ]
  },
  {
   "cell_type": "markdown",
   "metadata": {},
   "source": [
    "### Helper functions\n"
   ]
  },
  {
   "cell_type": "code",
   "execution_count": 2,
   "metadata": {},
   "outputs": [],
   "source": [
    "def find_euclidian_distance(proposed_endpoint, gt_endponts_array):\n",
    "    diffs = gt_endponts_array - proposed_endpoint\n",
    "    diffs_distance = np.sqrt(np.sum(np.square(diffs), axis=1))\n",
    "    min_dist_ind = np.argmin(diffs_distance)\n",
    "    min_dist = diffs_distance[min_dist_ind]\n",
    "    return min_dist"
   ]
  },
  {
   "cell_type": "code",
   "execution_count": null,
   "metadata": {},
   "outputs": [],
   "source": [
    "def endpoint_generator_voxelise(load, invalidation_d, cube_side, decimation_factor):\n",
    "    for idx, i in enumerate(load['seg_id']):\n",
    "        try:\n",
    "            t1, skel, mesh_obj = tip_finder_decimation(root_id = str(i), inval_d = invalidation_d, cube_side_len = cube_side, decimation_factor= decimation_factor)\n",
    "            endpoints_dict[i] = t1\n",
    "            print(\"proposed endpoints: \")\n",
    "            print(t1)\n",
    "        except:\n",
    "            print(f\"\\n\\nSeg {i} returned error on get. Skipping.\\n\")\n",
    "            pass\n",
    "    load['endpoints'] = load['endpoints'].apply(\n",
    "        lambda x: list(ast.literal_eval(x)))\n",
    "    load['proposed_endpoints'] = load.seg_id.map(endpoints_dict)\n",
    "    return load\n"
   ]
  },
  {
   "cell_type": "code",
   "execution_count": 3,
   "metadata": {},
   "outputs": [],
   "source": [
    "def endpoint_generator_humfrey(load, invalidation_d, num_humfrey_iters, decimation_factor):\n",
    "    for idx, i in enumerate(load['seg_id']):\n",
    "        try:\n",
    "            t1, skel, mesh_obj = tip_finder_decimation(root_id=str(\n",
    "                i), inval_d=invalidation_d, num_humfrey_iters = num_humfrey_iters, decimation_factor=decimation_factor)\n",
    "            endpoints_dict[i] = t1\n",
    "            print(\"proposed endpoints: \")\n",
    "            print(t1)\n",
    "        except:\n",
    "            print(f\"\\n\\nSeg {i} returned error on get. Skipping.\\n\")\n",
    "            pass\n",
    "    load['endpoints'] = load['endpoints'].apply(\n",
    "        lambda x: list(ast.literal_eval(x)))\n",
    "    load['proposed_endpoints'] = load.seg_id.map(endpoints_dict)\n",
    "    return load\n"
   ]
  },
  {
   "cell_type": "code",
   "execution_count": 4,
   "metadata": {},
   "outputs": [],
   "source": [
    "def testing_metrics(load, threshold, run, output, invalidation_d, num_humfrey_iters, decimation_factor):\n",
    "    for index, row in load.iterrows():\n",
    "        # if idx < 123:\n",
    "        #     pass\n",
    "        # elif idx > 123:\n",
    "        #     pass\n",
    "\n",
    "        endpoint_array = np.array(row[\"endpoints\"])\n",
    "        proposed_endpoints_array = np.array(row[\"proposed_endpoints\"])\n",
    "        segID = row[\"seg_id\"]\n",
    "\n",
    "        #skip anything seg_id that isn't 'good'\n",
    "        if row[\"comments\"] != 'good':\n",
    "            print(\"skipping \\n\")\n",
    "            continue\n",
    "\n",
    "        #if both say no endpoints, then it's correct\n",
    "        if (len(proposed_endpoints_array.shape) == 0 and len(endpoint_array.shape) == 0):\n",
    "            output.loc[len(output.index)] = [run, 1.0,1.0,1.0, segID, len(\n",
    "                endpoint_array), endpoint_array, invalidation_d, num_humfrey_iters, decimation_factor, row[\"comments\"], proposed_endpoints_array]\n",
    "            continue\n",
    "\n",
    "        #if we propose no endpoints but there are endpoints, it's wrong\n",
    "        elif (len(proposed_endpoints_array.shape) == 0 and len(endpoint_array.shape) > 0):\n",
    "            output.loc[len(output.index)] = [run, 0.0,0.0,0.0, segID, len(\n",
    "                endpoint_array), endpoint_array, invalidation_d, num_humfrey_iters, decimation_factor, row[\"comments\"], proposed_endpoints_array]\n",
    "            continue\n",
    "\n",
    "        #if we propose endpoints but there are none, it's wrong\n",
    "        elif proposed_endpoints_array.size > 0 and endpoint_array.size == 0:\n",
    "            output.loc[len(output.index)] = [run, 0.0,0.0,0.0, segID, len(\n",
    "                endpoint_array), endpoint_array, invalidation_d, num_humfrey_iters, decimation_factor, row[\"comments\"], proposed_endpoints_array]\n",
    "            continue\n",
    "\n",
    "        #should skip for now if the endpoint array is size zero to avoid divide by zero error\n",
    "        elif endpoint_array.size == 0:\n",
    "            output.loc[len(output.index)] = [run,-1,-1,-1,segID, len(endpoint_array), endpoint_array, invalidation_d, num_humfrey_iters, decimation_factor, row[\"comments\"], proposed_endpoints_array]\n",
    "            continue\n",
    "\n",
    "        else:\n",
    "            endpoint_ids = np.arange(0, len(endpoint_array))\n",
    "            test_ids = np.arange(\n",
    "                0, len(proposed_endpoints_array)) + len(proposed_endpoints_array)\n",
    "\n",
    "            #get precision and recall at end of each iteration\n",
    "            analysis = run_synapse_analysis(\n",
    "                endpoint_array,\n",
    "                np.array(endpoint_ids),\n",
    "                proposed_endpoints_array,\n",
    "                np.array(test_ids),\n",
    "                threshold,\n",
    "                iso_correction=10,\n",
    "            )\n",
    "\n",
    "            output.loc[len(output.index)] = [run, analysis.precision, analysis.recall, analysis.f1, segID, len(\n",
    "                endpoint_array), endpoint_array,invalidation_d, num_humfrey_iters, decimation_factor, row[\"comments\"], proposed_endpoints_array]\n",
    "            # new_row = [run, analysis.precision, analysis.recall, analysis.f1, segID, len(\n",
    "            #     endpoint_array), endpoint_array,invalidation_d, num_humfrey_iters, decimation_factor, row[\"comments\"], proposed_endpoints_array]\n",
    "            # output.append(pd.Series(new_row, index=output.columns[:len(new_row)]), ignore_index=True)\n",
    "            \n",
    "    return output\n"
   ]
  },
  {
   "cell_type": "code",
   "execution_count": 5,
   "metadata": {},
   "outputs": [],
   "source": [
    "\"\"\"\n",
    "Various utility classes and functions for Confirms.\n",
    "\"\"\"\n",
    "from copy import deepcopy\n",
    "\n",
    "import numpy as np\n",
    "import pandas as pd\n",
    "from scipy import spatial\n",
    "from scipy.optimize import linear_sum_assignment\n",
    "\n",
    "\n",
    "def calculate_precision_recall(tp, fp, fn):\n",
    "    \"\"\"\n",
    "    Calculate precision/recall from given true positives, false positives, and false negatives.\n",
    "    Parameters\n",
    "    ----------\n",
    "    tp : int\n",
    "        The number of true positives.\n",
    "    fp : int\n",
    "        The number of false positives.\n",
    "    fn : int\n",
    "        The number of false negatives.\n",
    "    Returns\n",
    "    -------\n",
    "    precision : float\n",
    "        The precision score.\n",
    "    recall : float\n",
    "        The recall score.\n",
    "    \"\"\"\n",
    "    precision = tp / (tp + fp)\n",
    "    recall = tp / (tp + fn)\n",
    "    return precision, recall\n",
    "\n",
    "\n",
    "def calculate_f1(precision, recall):\n",
    "    \"\"\"\n",
    "    Calculate the F1 score from precision/recall scores.\n",
    "    Parameters\n",
    "    ----------\n",
    "    precision : float\n",
    "        The precision score.\n",
    "    recall : float\n",
    "        The recall score.\n",
    "    Returns\n",
    "    -------\n",
    "    f1 : float\n",
    "        The F1 score.\n",
    "    \"\"\"\n",
    "    return 2 * ((precision * recall) / (precision + recall))\n",
    "\n",
    "\n",
    "def get_summary_metrics(array):\n",
    "    \"\"\"\n",
    "    Calculate a number of summary metrics on an array of numbers.\n",
    "    Parameters\n",
    "    ----------\n",
    "    array : array_like\n",
    "        Array containing numbers who summary metrics is desired.\n",
    "    Returns\n",
    "    -------\n",
    "    metrics : dict\n",
    "        Dict containing the mean, median, max, min, range, standard deviation,\n",
    "        and variance of the input array.\n",
    "    \"\"\"\n",
    "    summary_object = {}\n",
    "    array = np.array(array)\n",
    "\n",
    "    summary_object[\"mean\"] = np.mean(array)\n",
    "    summary_object[\"median\"] = np.median(array)\n",
    "    summary_object[\"max\"] = np.amax(array)\n",
    "    summary_object[\"min\"] = np.amin(array)\n",
    "    summary_object[\"range\"] = np.mean(array)\n",
    "    summary_object[\"stddev\"] = np.std(array)\n",
    "    summary_object[\"variance\"] = np.var(array)\n",
    "\n",
    "    return summary_object\n",
    "\n",
    "\n",
    "def munkres_assignment(workers, jobs):\n",
    "    \"\"\"\n",
    "    Perform hungarian-munkres assignment.\n",
    "    Parameters\n",
    "    ----------\n",
    "    workers : array_like\n",
    "        Array containing the first set of points.\n",
    "    jobs : array_like\n",
    "        Array containing the second set of points.\n",
    "    Returns\n",
    "    -------\n",
    "    cost_matrix : numpy.ndarray\n",
    "        Matrix containing pairwise distances (the cost of assignment).\n",
    "    row_ind : numpy.ndarray\n",
    "        Row indices of cost_matrix for optimal assignment.\n",
    "    col_ind : numpy.ndarray\n",
    "        Column indices of cost_matrx for optimal assignment.\n",
    "    \"\"\"\n",
    "    cost_matrix = spatial.distance.cdist(workers, jobs, \"euclidean\")\n",
    "    row_ind, col_ind = linear_sum_assignment(cost_matrix)\n",
    "    return cost_matrix, row_ind, col_ind\n",
    "\n",
    "\n",
    "def make_isotropic(xyz, correction, dimen=2):\n",
    "    \"\"\"\n",
    "    Correct anisotropy in a collection of x, y, z coordinates.\n",
    "    This function performs a deepcopy of xyz before making the necessary modifications.\n",
    "    Parameters\n",
    "    ----------\n",
    "    xyz : numpy.ndarray or pandas.DataFrame:\n",
    "        The coordinate values.\n",
    "    correction : float\n",
    "        The value to correct anisotrophy.\n",
    "    dimen : int\n",
    "        Index of last dimension to which to apply the correction. Default is 2.\n",
    "    Returns\n",
    "    -------\n",
    "    iso_xyz : numpy.ndarray or pandas.DataFrame\n",
    "        An isotropic version of xyz.\n",
    "    \"\"\"\n",
    "\n",
    "    if not isinstance(xyz, np.ndarray) and not isinstance(xyz, pd.DataFrame):\n",
    "        xyz = np.asarray(xyz)\n",
    "\n",
    "    shape = np.shape(xyz)\n",
    "    isotropic_xyz = xyz.copy()\n",
    "    size = shape[-1]\n",
    "    if dimen >= size or dimen < 0:\n",
    "        raise ValueError(\n",
    "            \"improper dimen value (valid: 0 through {})\".format(size - 1))\n",
    "    if isinstance(xyz, np.ndarray):\n",
    "        isotropic_xyz[..., dimen] = isotropic_xyz[..., dimen] * correction\n",
    "    else:\n",
    "        isotropic_xyz.iloc[:, dimen] = isotropic_xyz.iloc[:,\n",
    "                                                          dimen] * correction\n",
    "    return isotropic_xyz\n"
   ]
  },
  {
   "cell_type": "code",
   "execution_count": 6,
   "metadata": {},
   "outputs": [],
   "source": [
    "\"\"\"\n",
    "Confirms synapse processing and analysis functions.\n",
    "\"\"\"\n",
    "from collections import namedtuple\n",
    "\n",
    "import numpy as np\n",
    "import pandas as pd\n",
    "from scipy import spatial\n",
    "from scipy.optimize import linear_sum_assignment\n",
    "\n",
    "# from . import utils\n",
    "# import utils\n",
    "\n",
    "SynapseMetrics = namedtuple(\n",
    "    \"SynapseMetrics\",\n",
    "    [\"precision\", \"recall\", \"f1\", \"tp_gt_ids\", \"tp_test_ids\", \"fp_ids\", \"fn_ids\"],\n",
    ")\n",
    "\n",
    "\n",
    "def filter_synapse_id_core(volume, xyz, ids, box_radius_nm=2500):\n",
    "    \"\"\"\n",
    "    Filter synapses to only return those within a central core.\n",
    "    Parameters\n",
    "    ----------\n",
    "    volume : dict\n",
    "        The volume to filter on.\n",
    "    xyz : array_like\n",
    "        Synapse xyz coordinates.\n",
    "    ids : array_like\n",
    "        Synapse hash (ids).\n",
    "    box_radius_nm : int\n",
    "        radius of cube, from volume core.\n",
    "    Returns\n",
    "    -------\n",
    "        xyz : numpy.ndarray\n",
    "            Synapse coordinates.\n",
    "        ids : numpy.ndarray\n",
    "            Synapse ids.\n",
    "    \"\"\"\n",
    "\n",
    "    xyz_out = []\n",
    "    id_out = []\n",
    "    center = np.asarray(volume[\"center\"], \"float\")\n",
    "    base_resolution = np.asarray(volume[\"base_resolution\"], \"float\")\n",
    "    annotation_resolution = np.asarray(volume[\"resolution\"], \"float\")\n",
    "\n",
    "    pad_vx = box_radius_nm / base_resolution[0] / (2 ** annotation_resolution)\n",
    "    pad_vy = box_radius_nm / base_resolution[1] / (2 ** annotation_resolution)\n",
    "    pad_vz = box_radius_nm / base_resolution[2]\n",
    "    xr = (center[0] - pad_vx, center[0] + pad_vx)\n",
    "    yr = (center[1] - pad_vy, center[1] + pad_vy)\n",
    "    zr = (center[2] - pad_vz, center[2] + pad_vz)\n",
    "\n",
    "    for i in range(len(xyz)):\n",
    "        x = xyz[i][0]\n",
    "        y = xyz[i][1]\n",
    "        z = xyz[i][2]\n",
    "\n",
    "        if (\n",
    "            x > xr[0]\n",
    "            and x < xr[1]\n",
    "            and y > yr[0]\n",
    "            and y < yr[1]\n",
    "            and z > zr[0]\n",
    "            and z < zr[1]\n",
    "        ):\n",
    "            xyz_out.append(xyz[i])\n",
    "            id_out.append(ids[i])\n",
    "\n",
    "    return np.array(xyz_out), np.array(id_out, dtype=np.object)\n",
    "\n",
    "\n",
    "def synapse_match(\n",
    "    xyz_truth, xyz_detect, id_truth, id_detect, thresh\n",
    "):  # pylint: disable=R0914\n",
    "    \"\"\"\n",
    "    <Description here>\n",
    "    Parameters\n",
    "    ----------\n",
    "    xyz_truth : array_like\n",
    "        <description>\n",
    "    xyz_detect : array_like\n",
    "        <description>\n",
    "    id_truth : array_like\n",
    "        <description>\n",
    "    id_detech : array_like\n",
    "        <description>\n",
    "    thresh : float\n",
    "        <description>\n",
    "    Returns\n",
    "    -------\n",
    "    id_lookup : <type>\n",
    "        <description>\n",
    "    \"\"\"\n",
    "\n",
    "    # pylint: disable=C0103\n",
    "\n",
    "    # Ensure we have numpy arrays\n",
    "    xyz_truth = np.asarray(xyz_truth)\n",
    "    xyz_detect = np.asarray(xyz_detect)\n",
    "    id_truth = np.asarray(id_truth)\n",
    "    id_detect = np.asarray(id_detect)\n",
    "\n",
    "    cost, row_ind, col_ind = munkres_assignment(xyz_truth, xyz_detect)\n",
    "    print(cost)\n",
    "    match_idx = np.where(cost[row_ind, col_ind] < thresh)\n",
    "\n",
    "    if len(match_idx) > 0:\n",
    "        # row is idx of GT TP\n",
    "        # col is idx of student TP\n",
    "        gt_tp_idx, det_tp_idx = row_ind[match_idx], col_ind[match_idx]\n",
    "        gt_tp_ids, det_tp_ids = id_truth[gt_tp_idx], id_detect[det_tp_idx]\n",
    "        # Combine into pairs\n",
    "        id_lookup = np.column_stack((gt_tp_ids, det_tp_ids))\n",
    "    else:\n",
    "        gt_tp_idx = []\n",
    "        det_tp_idx = []\n",
    "        id_lookup = np.column_stack(\n",
    "            (np.array([], dtype=\"object\"), np.array([], dtype=\"object\"))\n",
    "        )\n",
    "\n",
    "    # not in row (set diff) are FN\n",
    "    gt_syn_idx = np.arange(0, len(xyz_truth))\n",
    "    fn_idx = np.setdiff1d(gt_syn_idx, gt_tp_idx)\n",
    "    if len(fn_idx) > 0:\n",
    "        fn_ids = id_truth[fn_idx]\n",
    "        id_lookup_fn = np.column_stack((fn_ids, np.repeat(None, len(fn_ids))))\n",
    "        id_lookup = np.concatenate((id_lookup, id_lookup_fn))\n",
    "\n",
    "    # not in col (set diff) are FP\n",
    "    det_syn_idx = set(np.arange(0, len(xyz_detect)))\n",
    "    fp_idx = np.asarray(list(det_syn_idx.difference(det_tp_idx)))\n",
    "    if len(fp_idx) > 0:\n",
    "        fp_ids = id_detect[fp_idx]\n",
    "        id_lookup_fp = np.column_stack((np.repeat(None, len(fp_ids)), fp_ids))\n",
    "        id_lookup = np.concatenate((id_lookup, id_lookup_fp))\n",
    "\n",
    "    return pd.DataFrame(id_lookup, columns=[\"ground_truth\", \"detect\"])\n",
    "\n",
    "\n",
    "def run_synapse_analysis(\n",
    "    gt_xyzs,\n",
    "    gt_ids,\n",
    "    test_xyzs,\n",
    "    test_ids,\n",
    "    threshold,\n",
    "    iso_corrected=False,\n",
    "    iso_correction=1,\n",
    "):\n",
    "    \"\"\"\n",
    "    <Description here>\n",
    "    Parameters\n",
    "    ----------\n",
    "    gt_xyzs : numpy.ndarray\n",
    "        Array of ground truth xyz coordinates\n",
    "    gt_ids : numpy.ndarray\n",
    "        Array of ids associated with ground truth xyz coordinates\n",
    "    test_xyzs : numpy.ndarray\n",
    "        Array of test xyz coordinates\n",
    "    test_ids : numpy.ndarray\n",
    "        Array of ids associated with test xyz coordinates\n",
    "    threshold : float\n",
    "        Synapse matching threshold\n",
    "    iso_corrected : boolean\n",
    "        Mark whether the data is isotropic. If not, it will be made isotropic using the\n",
    "        `iso_correction` parameter.\n",
    "    iso_correction : float\n",
    "        Value to correct anistropy.\n",
    "    Returns\n",
    "    -------\n",
    "    sm : SynapseMetrics\n",
    "        Resultant object containing precision, recall, and F1 scores, along with\n",
    "        with true positive (both ground truth and test), false positive, and false negative\n",
    "        ids.\n",
    "    \"\"\"\n",
    "    # pylint: disable=R0913,R0914\n",
    "    if not iso_corrected:\n",
    "        # gt_xyzs = utils.make_isotropic(gt_xyzs, iso_correction)\n",
    "        gt_xyzs = make_isotropic(gt_xyzs, iso_correction)\n",
    "        # test_xyzs = utils.make_isotropic(test_xyzs, iso_correction)\n",
    "        test_xyzs = make_isotropic(test_xyzs, iso_correction)\n",
    "\n",
    "    results_table = synapse_match(\n",
    "        gt_xyzs, test_xyzs, gt_ids, test_ids, threshold)\n",
    "\n",
    "    tp = results_table.dropna()\n",
    "    fn = results_table[results_table.detect.isnull()]\n",
    "    fp = results_table[results_table.ground_truth.isnull()]\n",
    "\n",
    "    assert len(tp.ground_truth) == len(\n",
    "        tp.detect\n",
    "    ), \"true positive ground truth and test size mismatch\"\n",
    "\n",
    "    tp_count = len(tp)\n",
    "    fp_count = len(fp)\n",
    "    fn_count = len(fn)\n",
    "\n",
    "    try:\n",
    "        # precision, recall = utils.calculate_precision_recall(\n",
    "        #     tp_count, fp_count, fn_count\n",
    "        # )\n",
    "\n",
    "        precision, recall = calculate_precision_recall(\n",
    "            tp_count, fp_count, fn_count\n",
    "        )\n",
    "\n",
    "    except ZeroDivisionError:\n",
    "        precision, recall = np.nan, np.nan\n",
    "\n",
    "    try:\n",
    "        # f1 = utils.calculate_f1(precision, recall)\n",
    "        f1 = calculate_f1(precision, recall)\n",
    "    except ZeroDivisionError:\n",
    "        f1 = np.nan\n",
    "\n",
    "    sm = SynapseMetrics(\n",
    "        precision=precision,\n",
    "        recall=recall,\n",
    "        f1=f1,\n",
    "        tp_gt_ids=np.asarray(tp.ground_truth),\n",
    "        tp_test_ids=np.asarray(tp.detect),\n",
    "        fp_ids=np.asarray(fp.detect),\n",
    "        fn_ids=np.asarray(fn.ground_truth),\n",
    "    )\n",
    "    return sm\n"
   ]
  },
  {
   "cell_type": "markdown",
   "metadata": {},
   "source": [
    "### Running metrics"
   ]
  },
  {
   "cell_type": "code",
   "execution_count": null,
   "metadata": {},
   "outputs": [],
   "source": [
    "# Loading in data\n",
    "load = pd.read_csv(\"agents/Data/endpoints_gt5.csv\")\n",
    "endpoints_dict = {}\n",
    "\n",
    "load"
   ]
  },
  {
   "cell_type": "code",
   "execution_count": null,
   "metadata": {},
   "outputs": [],
   "source": [
    "# Generate out_df\n",
    "\n",
    "out_df = pd.DataFrame(columns=[\"run\", \"precision\", \"recall\", \"f1\", \"seg_id\",\n",
    "                      \"num_endpoints\", \"endpoints\",\"invalidation_d\", \"num_humfrey_iters\",\"decimation_factor\", \"comments\", \"proposed_endpoints\"])\n",
    "out_df\n"
   ]
  },
  {
   "cell_type": "code",
   "execution_count": null,
   "metadata": {},
   "outputs": [],
   "source": [
    "# run = 0\n",
    "# for invalidation_d in range(4000, 6001, 200):\n",
    "# # for invalidation_d in range(4000, 4201, 200):\n",
    "#     # for num_humfrey_iters in range(0,251,25):\n",
    "#     # for num_humfrey_iters in range(0, 251, 25):\n",
    "#     for cube_side_len in range(500,901,50):\n",
    "#         # for decimation_factor in np.arange(0.3, 0.71, 0.04):\n",
    "#         for decimation_factor in np.linspace(0.3, 0.71, num = 10):\n",
    "#             load = pd.read_csv(\"agents/Data/endpoints_gt5.csv\") #NOT THE BEST WAY TO DO THIS!!!\n",
    "#             run += 1\n",
    "#             load_with_proposed_endpoints = endpoint_generator(\n",
    "#                 load, invalidation_d=invalidation_d, cube_side = cube_side_len, decimation_factor=decimation_factor)\n",
    "#             out_df = testing_metrics(\n",
    "#                 load_with_proposed_endpoints, threshold=500, run=run, output=out_df)\n"
   ]
  },
  {
   "cell_type": "code",
   "execution_count": null,
   "metadata": {},
   "outputs": [],
   "source": [
    "# Running all seg ids with one param combo\n",
    "run = 1\n",
    "load_with_proposed_endpoints = endpoint_generator(\n",
    "    load, invalidation_d=5600, humfrey_iters=125, decimation_factor=0.5)\n",
    "out_df = testing_metrics(\n",
    "    load_with_proposed_endpoints, threshold=500, run=run, output=out_df, invalidation_d=5600, num_humfrey_iters=125, decimation_factor=0.5)\n"
   ]
  },
  {
   "cell_type": "code",
   "execution_count": 11,
   "metadata": {},
   "outputs": [
    {
     "name": "stderr",
     "output_type": "stream",
     "text": [
      "08/09/2022 03:25:02 PM WARNING: face_normals incorrect shape, ignoring! \n"
     ]
    },
    {
     "name": "stdout",
     "output_type": "stream",
     "text": [
      "Warning: deduplication not currently supported for this layer's variable layered draco meshes\n"
     ]
    },
    {
     "name": "stderr",
     "output_type": "stream",
     "text": [
      "100%|██████████| 8120/8120 [00:00<00:00, 306633.19it/s]\n"
     ]
    },
    {
     "name": "stdout",
     "output_type": "stream",
     "text": [
      "<class 'trimesh.base.Trimesh'>\n",
      "\n",
      "<trimesh.Trimesh(vertices.shape=(8301, 3), faces.shape=(16261, 3))>\n"
     ]
    },
    {
     "name": "stderr",
     "output_type": "stream",
     "text": [
      "100%|██████████| 26554/26554 [00:00<00:00, 369374.18it/s]\n"
     ]
    },
    {
     "name": "stdout",
     "output_type": "stream",
     "text": [
      "proposed endpoints: \n",
      "[(104879, 104417, 20465), (106905, 111662, 20737), (98222, 97529, 21045), (106632, 109667, 20734)]\n",
      "[[ 8276.38429509   675.41838885 16741.33124934  2224.29134782]\n",
      " [11141.9013189  16814.04395141    72.80109889 15032.01942521]]\n"
     ]
    },
    {
     "name": "stderr",
     "output_type": "stream",
     "text": [
      "08/09/2022 03:25:07 PM WARNING: face_normals incorrect shape, ignoring! \n"
     ]
    },
    {
     "name": "stdout",
     "output_type": "stream",
     "text": [
      "Warning: deduplication not currently supported for this layer's variable layered draco meshes\n"
     ]
    },
    {
     "name": "stderr",
     "output_type": "stream",
     "text": [
      "100%|██████████| 9546/9546 [00:00<00:00, 349836.84it/s]\n"
     ]
    },
    {
     "name": "stdout",
     "output_type": "stream",
     "text": [
      "<class 'trimesh.base.Trimesh'>\n",
      "\n",
      "<trimesh.Trimesh(vertices.shape=(9756, 3), faces.shape=(19112, 3))>\n"
     ]
    },
    {
     "name": "stderr",
     "output_type": "stream",
     "text": [
      "100%|██████████| 26554/26554 [00:00<00:00, 376028.65it/s]\n"
     ]
    },
    {
     "name": "stdout",
     "output_type": "stream",
     "text": [
      "proposed endpoints: \n",
      "[(104879, 104417, 20465), (106905, 111662, 20737), (98222, 97529, 21045), (106632, 109667, 20734)]\n",
      "[[ 8276.38429509   675.41838885 16741.33124934  2224.29134782]\n",
      " [11141.9013189  16814.04395141    72.80109889 15032.01942521]]\n"
     ]
    },
    {
     "name": "stderr",
     "output_type": "stream",
     "text": [
      "08/09/2022 03:25:11 PM WARNING: face_normals incorrect shape, ignoring! \n"
     ]
    },
    {
     "name": "stdout",
     "output_type": "stream",
     "text": [
      "Warning: deduplication not currently supported for this layer's variable layered draco meshes\n"
     ]
    },
    {
     "name": "stderr",
     "output_type": "stream",
     "text": [
      "100%|██████████| 11022/11022 [00:00<00:00, 367216.49it/s]\n"
     ]
    },
    {
     "name": "stdout",
     "output_type": "stream",
     "text": [
      "<class 'trimesh.base.Trimesh'>\n",
      "\n",
      "<trimesh.Trimesh(vertices.shape=(11212, 3), faces.shape=(22064, 3))>\n"
     ]
    },
    {
     "name": "stderr",
     "output_type": "stream",
     "text": [
      "100%|██████████| 26554/26554 [00:00<00:00, 370126.64it/s]\n"
     ]
    },
    {
     "name": "stdout",
     "output_type": "stream",
     "text": [
      "proposed endpoints: \n",
      "[(104879, 104417, 20465), (106905, 111662, 20737), (98222, 97529, 21045), (106632, 109667, 20734)]\n",
      "[[ 8276.38429509   675.41838885 16741.33124934  2224.29134782]\n",
      " [11141.9013189  16814.04395141    72.80109889 15032.01942521]]\n"
     ]
    },
    {
     "name": "stderr",
     "output_type": "stream",
     "text": [
      "08/09/2022 03:25:15 PM WARNING: face_normals incorrect shape, ignoring! \n"
     ]
    },
    {
     "name": "stdout",
     "output_type": "stream",
     "text": [
      "Warning: deduplication not currently supported for this layer's variable layered draco meshes\n"
     ]
    },
    {
     "name": "stderr",
     "output_type": "stream",
     "text": [
      "100%|██████████| 12462/12462 [00:00<00:00, 261302.66it/s]\n"
     ]
    },
    {
     "name": "stdout",
     "output_type": "stream",
     "text": [
      "<class 'trimesh.base.Trimesh'>\n",
      "\n",
      "<trimesh.Trimesh(vertices.shape=(12666, 3), faces.shape=(24944, 3))>\n"
     ]
    },
    {
     "name": "stderr",
     "output_type": "stream",
     "text": [
      "100%|██████████| 26554/26554 [00:00<00:00, 363007.92it/s]\n"
     ]
    },
    {
     "name": "stdout",
     "output_type": "stream",
     "text": [
      "proposed endpoints: \n",
      "[(104879, 104417, 20465), (106905, 111662, 20737), (98222, 97529, 21045), (106632, 109667, 20734)]\n",
      "[[ 8276.38429509   675.41838885 16741.33124934  2224.29134782]\n",
      " [11141.9013189  16814.04395141    72.80109889 15032.01942521]]\n"
     ]
    },
    {
     "name": "stderr",
     "output_type": "stream",
     "text": [
      "08/09/2022 03:25:18 PM WARNING: face_normals incorrect shape, ignoring! \n"
     ]
    },
    {
     "name": "stdout",
     "output_type": "stream",
     "text": [
      "Warning: deduplication not currently supported for this layer's variable layered draco meshes\n"
     ]
    },
    {
     "name": "stderr",
     "output_type": "stream",
     "text": [
      "100%|██████████| 13900/13900 [00:00<00:00, 321759.14it/s]\n"
     ]
    },
    {
     "name": "stdout",
     "output_type": "stream",
     "text": [
      "<class 'trimesh.base.Trimesh'>\n",
      "\n",
      "<trimesh.Trimesh(vertices.shape=(14119, 3), faces.shape=(27822, 3))>\n"
     ]
    },
    {
     "name": "stderr",
     "output_type": "stream",
     "text": [
      "100%|██████████| 26554/26554 [00:00<00:00, 361377.78it/s]\n"
     ]
    },
    {
     "name": "stdout",
     "output_type": "stream",
     "text": [
      "proposed endpoints: \n",
      "[(104879, 104417, 20465), (106905, 111662, 20737), (98222, 97529, 21045), (106632, 109667, 20734)]\n",
      "[[ 8276.38429509   675.41838885 16741.33124934  2224.29134782]\n",
      " [11141.9013189  16814.04395141    72.80109889 15032.01942521]]\n"
     ]
    },
    {
     "name": "stderr",
     "output_type": "stream",
     "text": [
      "08/09/2022 03:25:21 PM WARNING: face_normals incorrect shape, ignoring! \n"
     ]
    },
    {
     "name": "stdout",
     "output_type": "stream",
     "text": [
      "Warning: deduplication not currently supported for this layer's variable layered draco meshes\n"
     ]
    },
    {
     "name": "stderr",
     "output_type": "stream",
     "text": [
      "100%|██████████| 15338/15338 [00:00<00:00, 342977.21it/s]\n"
     ]
    },
    {
     "name": "stdout",
     "output_type": "stream",
     "text": [
      "<class 'trimesh.base.Trimesh'>\n",
      "\n",
      "<trimesh.Trimesh(vertices.shape=(15574, 3), faces.shape=(30699, 3))>\n"
     ]
    },
    {
     "name": "stderr",
     "output_type": "stream",
     "text": [
      "100%|██████████| 26554/26554 [00:00<00:00, 351867.45it/s]\n"
     ]
    },
    {
     "name": "stdout",
     "output_type": "stream",
     "text": [
      "proposed endpoints: \n",
      "[(104879, 104417, 20465), (106905, 111662, 20737), (98222, 97529, 21045), (106632, 109667, 20734)]\n",
      "[[ 8276.38429509   675.41838885 16741.33124934  2224.29134782]\n",
      " [11141.9013189  16814.04395141    72.80109889 15032.01942521]]\n"
     ]
    },
    {
     "name": "stderr",
     "output_type": "stream",
     "text": [
      "08/09/2022 03:25:25 PM WARNING: face_normals incorrect shape, ignoring! \n"
     ]
    },
    {
     "name": "stdout",
     "output_type": "stream",
     "text": [
      "Warning: deduplication not currently supported for this layer's variable layered draco meshes\n"
     ]
    },
    {
     "name": "stderr",
     "output_type": "stream",
     "text": [
      "100%|██████████| 16850/16850 [00:00<00:00, 334339.51it/s]\n"
     ]
    },
    {
     "name": "stdout",
     "output_type": "stream",
     "text": [
      "<class 'trimesh.base.Trimesh'>\n",
      "\n",
      "<trimesh.Trimesh(vertices.shape=(17029, 3), faces.shape=(33723, 3))>\n"
     ]
    },
    {
     "name": "stderr",
     "output_type": "stream",
     "text": [
      "100%|██████████| 26554/26554 [00:00<00:00, 371234.50it/s]\n"
     ]
    },
    {
     "name": "stdout",
     "output_type": "stream",
     "text": [
      "proposed endpoints: \n",
      "[(104879, 104417, 20465), (106905, 111662, 20737), (98222, 97529, 21045), (106632, 109667, 20734)]\n",
      "[[ 8276.38429509   675.41838885 16741.33124934  2224.29134782]\n",
      " [11141.9013189  16814.04395141    72.80109889 15032.01942521]]\n"
     ]
    },
    {
     "name": "stderr",
     "output_type": "stream",
     "text": [
      "08/09/2022 03:25:40 PM WARNING: face_normals incorrect shape, ignoring! \n"
     ]
    },
    {
     "name": "stdout",
     "output_type": "stream",
     "text": [
      "Warning: deduplication not currently supported for this layer's variable layered draco meshes\n"
     ]
    },
    {
     "name": "stderr",
     "output_type": "stream",
     "text": [
      "100%|██████████| 18298/18298 [00:00<00:00, 334489.92it/s]\n"
     ]
    },
    {
     "name": "stdout",
     "output_type": "stream",
     "text": [
      "<class 'trimesh.base.Trimesh'>\n",
      "\n",
      "<trimesh.Trimesh(vertices.shape=(18483, 3), faces.shape=(36620, 3))>\n"
     ]
    },
    {
     "name": "stderr",
     "output_type": "stream",
     "text": [
      "100%|██████████| 26554/26554 [00:00<00:00, 365616.46it/s]\n"
     ]
    },
    {
     "name": "stdout",
     "output_type": "stream",
     "text": [
      "proposed endpoints: \n",
      "[(104879, 104417, 20465), (106905, 111662, 20737), (98222, 97529, 21045), (106632, 109667, 20734)]\n",
      "[[ 8276.38429509   675.41838885 16741.33124934  2224.29134782]\n",
      " [11141.9013189  16814.04395141    72.80109889 15032.01942521]]\n"
     ]
    },
    {
     "name": "stderr",
     "output_type": "stream",
     "text": [
      "08/09/2022 03:25:43 PM WARNING: face_normals incorrect shape, ignoring! \n"
     ]
    },
    {
     "name": "stdout",
     "output_type": "stream",
     "text": [
      "Warning: deduplication not currently supported for this layer's variable layered draco meshes\n"
     ]
    },
    {
     "name": "stderr",
     "output_type": "stream",
     "text": [
      "100%|██████████| 19749/19749 [00:00<00:00, 354358.00it/s]\n"
     ]
    },
    {
     "name": "stdout",
     "output_type": "stream",
     "text": [
      "<class 'trimesh.base.Trimesh'>\n",
      "\n",
      "<trimesh.Trimesh(vertices.shape=(19938, 3), faces.shape=(39522, 3))>\n"
     ]
    },
    {
     "name": "stderr",
     "output_type": "stream",
     "text": [
      "100%|██████████| 26554/26554 [00:00<00:00, 354652.89it/s]\n"
     ]
    },
    {
     "name": "stdout",
     "output_type": "stream",
     "text": [
      "proposed endpoints: \n",
      "[(104879, 104417, 20465), (106905, 111662, 20737), (98222, 97529, 21045), (106632, 109667, 20734)]\n",
      "[[ 8276.38429509   675.41838885 16741.33124934  2224.29134782]\n",
      " [11141.9013189  16814.04395141    72.80109889 15032.01942521]]\n"
     ]
    },
    {
     "name": "stderr",
     "output_type": "stream",
     "text": [
      "08/09/2022 03:25:47 PM WARNING: face_normals incorrect shape, ignoring! \n"
     ]
    },
    {
     "name": "stdout",
     "output_type": "stream",
     "text": [
      "Warning: deduplication not currently supported for this layer's variable layered draco meshes\n"
     ]
    },
    {
     "name": "stderr",
     "output_type": "stream",
     "text": [
      "100%|██████████| 21198/21198 [00:00<00:00, 335852.32it/s]\n"
     ]
    },
    {
     "name": "stdout",
     "output_type": "stream",
     "text": [
      "<class 'trimesh.base.Trimesh'>\n",
      "\n",
      "<trimesh.Trimesh(vertices.shape=(21391, 3), faces.shape=(42420, 3))>\n"
     ]
    },
    {
     "name": "stderr",
     "output_type": "stream",
     "text": [
      "100%|██████████| 26554/26554 [00:00<00:00, 365964.86it/s]\n"
     ]
    },
    {
     "name": "stdout",
     "output_type": "stream",
     "text": [
      "proposed endpoints: \n",
      "[(104879, 104417, 20465), (106905, 111662, 20737), (98222, 97529, 21045), (106632, 109667, 20734)]\n",
      "[[ 8276.38429509   675.41838885 16741.33124934  2224.29134782]\n",
      " [11141.9013189  16814.04395141    72.80109889 15032.01942521]]\n"
     ]
    },
    {
     "name": "stderr",
     "output_type": "stream",
     "text": [
      "08/09/2022 03:25:50 PM WARNING: face_normals incorrect shape, ignoring! \n"
     ]
    },
    {
     "name": "stdout",
     "output_type": "stream",
     "text": [
      "Warning: deduplication not currently supported for this layer's variable layered draco meshes\n"
     ]
    },
    {
     "name": "stderr",
     "output_type": "stream",
     "text": [
      "100%|██████████| 8212/8212 [00:00<00:00, 370911.94it/s]\n"
     ]
    },
    {
     "name": "stdout",
     "output_type": "stream",
     "text": [
      "<class 'trimesh.base.Trimesh'>\n",
      "\n",
      "<trimesh.Trimesh(vertices.shape=(8280, 3), faces.shape=(16440, 3))>\n"
     ]
    },
    {
     "name": "stderr",
     "output_type": "stream",
     "text": [
      "100%|██████████| 26554/26554 [00:00<00:00, 369374.18it/s]\n"
     ]
    },
    {
     "name": "stdout",
     "output_type": "stream",
     "text": [
      "proposed endpoints: \n",
      "[(104882, 104419, 20465), (98255, 97522, 21044), (106899, 111656, 20738), (106631, 109679, 20734)]\n",
      "[[ 8273.97316892 16729.31469009   665.3495322   2212.75958929]\n",
      " [11144.90735717    49.13247399 16804.10610535 15041.1354957 ]]\n"
     ]
    },
    {
     "name": "stderr",
     "output_type": "stream",
     "text": [
      "08/09/2022 03:25:54 PM WARNING: face_normals incorrect shape, ignoring! \n"
     ]
    },
    {
     "name": "stdout",
     "output_type": "stream",
     "text": [
      "Warning: deduplication not currently supported for this layer's variable layered draco meshes\n"
     ]
    },
    {
     "name": "stderr",
     "output_type": "stream",
     "text": [
      "100%|██████████| 9655/9655 [00:00<00:00, 379474.54it/s]\n"
     ]
    },
    {
     "name": "stdout",
     "output_type": "stream",
     "text": [
      "<class 'trimesh.base.Trimesh'>\n",
      "\n",
      "<trimesh.Trimesh(vertices.shape=(9735, 3), faces.shape=(19328, 3))>\n"
     ]
    },
    {
     "name": "stderr",
     "output_type": "stream",
     "text": [
      "100%|██████████| 26554/26554 [00:00<00:00, 364863.08it/s]\n"
     ]
    },
    {
     "name": "stdout",
     "output_type": "stream",
     "text": [
      "proposed endpoints: \n",
      "[(104882, 104419, 20465), (98255, 97522, 21044), (106899, 111656, 20738), (106631, 109679, 20734)]\n",
      "[[ 8273.97316892 16729.31469009   665.3495322   2212.75958929]\n",
      " [11144.90735717    49.13247399 16804.10610535 15041.1354957 ]]\n"
     ]
    },
    {
     "name": "stderr",
     "output_type": "stream",
     "text": [
      "08/09/2022 03:25:57 PM WARNING: face_normals incorrect shape, ignoring! \n"
     ]
    },
    {
     "name": "stdout",
     "output_type": "stream",
     "text": [
      "Warning: deduplication not currently supported for this layer's variable layered draco meshes\n"
     ]
    },
    {
     "name": "stderr",
     "output_type": "stream",
     "text": [
      "100%|██████████| 11104/11104 [00:00<00:00, 329386.13it/s]\n"
     ]
    },
    {
     "name": "stdout",
     "output_type": "stream",
     "text": [
      "<class 'trimesh.base.Trimesh'>\n",
      "\n",
      "<trimesh.Trimesh(vertices.shape=(11192, 3), faces.shape=(22230, 3))>\n"
     ]
    },
    {
     "name": "stderr",
     "output_type": "stream",
     "text": [
      "100%|██████████| 26554/26554 [00:00<00:00, 341218.88it/s]\n"
     ]
    },
    {
     "name": "stdout",
     "output_type": "stream",
     "text": [
      "proposed endpoints: \n",
      "[(104882, 104419, 20465), (98255, 97522, 21044), (106899, 111656, 20738), (106631, 109679, 20734)]\n",
      "[[ 8273.97316892 16729.31469009   665.3495322   2212.75958929]\n",
      " [11144.90735717    49.13247399 16804.10610535 15041.1354957 ]]\n"
     ]
    },
    {
     "name": "stderr",
     "output_type": "stream",
     "text": [
      "08/09/2022 03:26:01 PM WARNING: face_normals incorrect shape, ignoring! \n"
     ]
    },
    {
     "name": "stdout",
     "output_type": "stream",
     "text": [
      "Warning: deduplication not currently supported for this layer's variable layered draco meshes\n"
     ]
    },
    {
     "name": "stderr",
     "output_type": "stream",
     "text": [
      "100%|██████████| 12546/12546 [00:00<00:00, 352345.46it/s]\n"
     ]
    },
    {
     "name": "stdout",
     "output_type": "stream",
     "text": [
      "<class 'trimesh.base.Trimesh'>\n",
      "\n",
      "<trimesh.Trimesh(vertices.shape=(12646, 3), faces.shape=(25113, 3))>\n"
     ]
    },
    {
     "name": "stderr",
     "output_type": "stream",
     "text": [
      "100%|██████████| 26554/26554 [00:00<00:00, 321527.59it/s]\n"
     ]
    },
    {
     "name": "stdout",
     "output_type": "stream",
     "text": [
      "proposed endpoints: \n",
      "[(104882, 104419, 20465), (98255, 97522, 21044), (106899, 111656, 20738), (106631, 109679, 20734)]\n",
      "[[ 8273.97316892 16729.31469009   665.3495322   2212.75958929]\n",
      " [11144.90735717    49.13247399 16804.10610535 15041.1354957 ]]\n"
     ]
    },
    {
     "name": "stderr",
     "output_type": "stream",
     "text": [
      "08/09/2022 03:26:04 PM WARNING: face_normals incorrect shape, ignoring! \n"
     ]
    },
    {
     "name": "stdout",
     "output_type": "stream",
     "text": [
      "Warning: deduplication not currently supported for this layer's variable layered draco meshes\n"
     ]
    },
    {
     "name": "stderr",
     "output_type": "stream",
     "text": [
      "100%|██████████| 13989/13989 [00:00<00:00, 317440.52it/s]\n"
     ]
    },
    {
     "name": "stdout",
     "output_type": "stream",
     "text": [
      "<class 'trimesh.base.Trimesh'>\n",
      "\n",
      "<trimesh.Trimesh(vertices.shape=(14100, 3), faces.shape=(27998, 3))>\n"
     ]
    },
    {
     "name": "stderr",
     "output_type": "stream",
     "text": [
      "100%|██████████| 26554/26554 [00:00<00:00, 374411.86it/s]\n"
     ]
    },
    {
     "name": "stdout",
     "output_type": "stream",
     "text": [
      "proposed endpoints: \n",
      "[(104882, 104419, 20465), (98255, 97522, 21044), (106899, 111656, 20738), (106631, 109679, 20734)]\n",
      "[[ 8273.97316892 16729.31469009   665.3495322   2212.75958929]\n",
      " [11144.90735717    49.13247399 16804.10610535 15041.1354957 ]]\n"
     ]
    },
    {
     "name": "stderr",
     "output_type": "stream",
     "text": [
      "08/09/2022 03:26:07 PM WARNING: face_normals incorrect shape, ignoring! \n"
     ]
    },
    {
     "name": "stdout",
     "output_type": "stream",
     "text": [
      "Warning: deduplication not currently supported for this layer's variable layered draco meshes\n"
     ]
    },
    {
     "name": "stderr",
     "output_type": "stream",
     "text": [
      "100%|██████████| 15494/15494 [00:00<00:00, 353566.30it/s]\n"
     ]
    },
    {
     "name": "stdout",
     "output_type": "stream",
     "text": [
      "<class 'trimesh.base.Trimesh'>\n",
      "\n",
      "<trimesh.Trimesh(vertices.shape=(15555, 3), faces.shape=(31007, 3))>\n"
     ]
    },
    {
     "name": "stderr",
     "output_type": "stream",
     "text": [
      "100%|██████████| 26554/26554 [00:00<00:00, 368216.50it/s]\n"
     ]
    },
    {
     "name": "stdout",
     "output_type": "stream",
     "text": [
      "proposed endpoints: \n",
      "[(104882, 104419, 20465), (98255, 97522, 21044), (106899, 111656, 20738), (106631, 109679, 20734)]\n",
      "[[ 8273.97316892 16729.31469009   665.3495322   2212.75958929]\n",
      " [11144.90735717    49.13247399 16804.10610535 15041.1354957 ]]\n"
     ]
    },
    {
     "name": "stderr",
     "output_type": "stream",
     "text": [
      "08/09/2022 03:26:11 PM WARNING: face_normals incorrect shape, ignoring! \n"
     ]
    },
    {
     "name": "stdout",
     "output_type": "stream",
     "text": [
      "Warning: deduplication not currently supported for this layer's variable layered draco meshes\n"
     ]
    },
    {
     "name": "stderr",
     "output_type": "stream",
     "text": [
      "100%|██████████| 16943/16943 [00:00<00:00, 367503.19it/s]\n"
     ]
    },
    {
     "name": "stdout",
     "output_type": "stream",
     "text": [
      "<class 'trimesh.base.Trimesh'>\n",
      "\n",
      "<trimesh.Trimesh(vertices.shape=(17011, 3), faces.shape=(33905, 3))>\n"
     ]
    },
    {
     "name": "stderr",
     "output_type": "stream",
     "text": [
      "100%|██████████| 26554/26554 [00:00<00:00, 323646.64it/s]\n"
     ]
    },
    {
     "name": "stdout",
     "output_type": "stream",
     "text": [
      "proposed endpoints: \n",
      "[(104882, 104419, 20465), (98255, 97522, 21044), (106899, 111656, 20738), (106631, 109679, 20734)]\n",
      "[[ 8273.97316892 16729.31469009   665.3495322   2212.75958929]\n",
      " [11144.90735717    49.13247399 16804.10610535 15041.1354957 ]]\n"
     ]
    },
    {
     "name": "stderr",
     "output_type": "stream",
     "text": [
      "08/09/2022 03:26:16 PM WARNING: face_normals incorrect shape, ignoring! \n"
     ]
    },
    {
     "name": "stdout",
     "output_type": "stream",
     "text": [
      "Warning: deduplication not currently supported for this layer's variable layered draco meshes\n"
     ]
    },
    {
     "name": "stderr",
     "output_type": "stream",
     "text": [
      "100%|██████████| 18391/18391 [00:00<00:00, 369177.60it/s]\n"
     ]
    },
    {
     "name": "stdout",
     "output_type": "stream",
     "text": [
      "<class 'trimesh.base.Trimesh'>\n",
      "\n",
      "<trimesh.Trimesh(vertices.shape=(18465, 3), faces.shape=(36800, 3))>\n"
     ]
    },
    {
     "name": "stderr",
     "output_type": "stream",
     "text": [
      "100%|██████████| 26554/26554 [00:00<00:00, 371255.54it/s]\n"
     ]
    },
    {
     "name": "stdout",
     "output_type": "stream",
     "text": [
      "proposed endpoints: \n",
      "[(104882, 104419, 20465), (98255, 97522, 21044), (106899, 111656, 20738), (106631, 109679, 20734)]\n",
      "[[ 8273.97316892 16729.31469009   665.3495322   2212.75958929]\n",
      " [11144.90735717    49.13247399 16804.10610535 15041.1354957 ]]\n"
     ]
    },
    {
     "name": "stderr",
     "output_type": "stream",
     "text": [
      "08/09/2022 03:26:19 PM WARNING: face_normals incorrect shape, ignoring! \n"
     ]
    },
    {
     "name": "stdout",
     "output_type": "stream",
     "text": [
      "Warning: deduplication not currently supported for this layer's variable layered draco meshes\n"
     ]
    },
    {
     "name": "stderr",
     "output_type": "stream",
     "text": [
      "100%|██████████| 19843/19843 [00:00<00:00, 293939.76it/s]\n"
     ]
    },
    {
     "name": "stdout",
     "output_type": "stream",
     "text": [
      "<class 'trimesh.base.Trimesh'>\n",
      "\n",
      "<trimesh.Trimesh(vertices.shape=(19925, 3), faces.shape=(39704, 3))>\n"
     ]
    },
    {
     "name": "stderr",
     "output_type": "stream",
     "text": [
      "100%|██████████| 26554/26554 [00:00<00:00, 351098.76it/s]\n"
     ]
    },
    {
     "name": "stdout",
     "output_type": "stream",
     "text": [
      "proposed endpoints: \n",
      "[(104882, 104419, 20465), (98255, 97522, 21044), (106899, 111656, 20738), (106631, 109679, 20734)]\n",
      "[[ 8273.97316892 16729.31469009   665.3495322   2212.75958929]\n",
      " [11144.90735717    49.13247399 16804.10610535 15041.1354957 ]]\n"
     ]
    },
    {
     "name": "stderr",
     "output_type": "stream",
     "text": [
      "08/09/2022 03:26:23 PM WARNING: face_normals incorrect shape, ignoring! \n"
     ]
    },
    {
     "name": "stdout",
     "output_type": "stream",
     "text": [
      "Warning: deduplication not currently supported for this layer's variable layered draco meshes\n"
     ]
    },
    {
     "name": "stderr",
     "output_type": "stream",
     "text": [
      "100%|██████████| 21285/21285 [00:00<00:00, 326316.99it/s]\n"
     ]
    },
    {
     "name": "stdout",
     "output_type": "stream",
     "text": [
      "<class 'trimesh.base.Trimesh'>\n",
      "\n",
      "<trimesh.Trimesh(vertices.shape=(21382, 3), faces.shape=(42587, 3))>\n"
     ]
    },
    {
     "name": "stderr",
     "output_type": "stream",
     "text": [
      "100%|██████████| 26554/26554 [00:00<00:00, 355947.28it/s]\n"
     ]
    },
    {
     "name": "stdout",
     "output_type": "stream",
     "text": [
      "proposed endpoints: \n",
      "[(104882, 104419, 20465), (98255, 97522, 21044), (106899, 111656, 20738), (106631, 109679, 20734)]\n",
      "[[ 8273.97316892 16729.31469009   665.3495322   2212.75958929]\n",
      " [11144.90735717    49.13247399 16804.10610535 15041.1354957 ]]\n"
     ]
    },
    {
     "name": "stderr",
     "output_type": "stream",
     "text": [
      "08/09/2022 03:26:27 PM WARNING: face_normals incorrect shape, ignoring! \n"
     ]
    },
    {
     "name": "stdout",
     "output_type": "stream",
     "text": [
      "Warning: deduplication not currently supported for this layer's variable layered draco meshes\n"
     ]
    },
    {
     "name": "stderr",
     "output_type": "stream",
     "text": [
      "100%|██████████| 8213/8213 [00:00<00:00, 340814.43it/s]\n"
     ]
    },
    {
     "name": "stdout",
     "output_type": "stream",
     "text": [
      "<class 'trimesh.base.Trimesh'>\n",
      "\n",
      "<trimesh.Trimesh(vertices.shape=(8280, 3), faces.shape=(16442, 3))>\n"
     ]
    },
    {
     "name": "stderr",
     "output_type": "stream",
     "text": [
      "100%|██████████| 26554/26554 [00:00<00:00, 351810.77it/s]\n"
     ]
    },
    {
     "name": "stdout",
     "output_type": "stream",
     "text": [
      "proposed endpoints: \n",
      "[(104882, 104419, 20465), (98255, 97522, 21044), (106899, 111656, 20738), (106630, 109679, 20734)]\n",
      "[[ 8273.97316892 16729.31469009   665.3495322   2212.74942097]\n",
      " [11144.90735717    49.13247399 16804.10610535 15040.58097282]]\n"
     ]
    },
    {
     "name": "stderr",
     "output_type": "stream",
     "text": [
      "08/09/2022 03:26:30 PM WARNING: face_normals incorrect shape, ignoring! \n"
     ]
    },
    {
     "name": "stdout",
     "output_type": "stream",
     "text": [
      "Warning: deduplication not currently supported for this layer's variable layered draco meshes\n"
     ]
    },
    {
     "name": "stderr",
     "output_type": "stream",
     "text": [
      "100%|██████████| 9656/9656 [00:00<00:00, 372271.85it/s]\n"
     ]
    },
    {
     "name": "stdout",
     "output_type": "stream",
     "text": [
      "<class 'trimesh.base.Trimesh'>\n",
      "\n",
      "<trimesh.Trimesh(vertices.shape=(9735, 3), faces.shape=(19330, 3))>\n"
     ]
    },
    {
     "name": "stderr",
     "output_type": "stream",
     "text": [
      "100%|██████████| 26554/26554 [00:00<00:00, 350560.57it/s]\n"
     ]
    },
    {
     "name": "stdout",
     "output_type": "stream",
     "text": [
      "proposed endpoints: \n",
      "[(104882, 104419, 20465), (98255, 97522, 21044), (106899, 111656, 20738), (106630, 109679, 20734)]\n",
      "[[ 8273.97316892 16729.31469009   665.3495322   2212.74942097]\n",
      " [11144.90735717    49.13247399 16804.10610535 15040.58097282]]\n"
     ]
    },
    {
     "name": "stderr",
     "output_type": "stream",
     "text": [
      "08/09/2022 03:26:34 PM WARNING: face_normals incorrect shape, ignoring! \n"
     ]
    },
    {
     "name": "stdout",
     "output_type": "stream",
     "text": [
      "Warning: deduplication not currently supported for this layer's variable layered draco meshes\n"
     ]
    },
    {
     "name": "stderr",
     "output_type": "stream",
     "text": [
      "100%|██████████| 11104/11104 [00:00<00:00, 361812.20it/s]\n"
     ]
    },
    {
     "name": "stdout",
     "output_type": "stream",
     "text": [
      "<class 'trimesh.base.Trimesh'>\n",
      "\n",
      "<trimesh.Trimesh(vertices.shape=(11192, 3), faces.shape=(22230, 3))>\n"
     ]
    },
    {
     "name": "stderr",
     "output_type": "stream",
     "text": [
      "100%|██████████| 26554/26554 [00:00<00:00, 343247.42it/s]\n"
     ]
    },
    {
     "name": "stdout",
     "output_type": "stream",
     "text": [
      "proposed endpoints: \n",
      "[(104882, 104419, 20465), (98255, 97522, 21044), (106899, 111656, 20738), (106630, 109679, 20734)]\n",
      "[[ 8273.97316892 16729.31469009   665.3495322   2212.74942097]\n",
      " [11144.90735717    49.13247399 16804.10610535 15040.58097282]]\n"
     ]
    },
    {
     "name": "stderr",
     "output_type": "stream",
     "text": [
      "08/09/2022 03:26:37 PM WARNING: face_normals incorrect shape, ignoring! \n"
     ]
    },
    {
     "name": "stdout",
     "output_type": "stream",
     "text": [
      "Warning: deduplication not currently supported for this layer's variable layered draco meshes\n"
     ]
    },
    {
     "name": "stderr",
     "output_type": "stream",
     "text": [
      "100%|██████████| 12546/12546 [00:00<00:00, 361358.43it/s]\n"
     ]
    },
    {
     "name": "stdout",
     "output_type": "stream",
     "text": [
      "<class 'trimesh.base.Trimesh'>\n",
      "\n",
      "<trimesh.Trimesh(vertices.shape=(12646, 3), faces.shape=(25113, 3))>\n"
     ]
    },
    {
     "name": "stderr",
     "output_type": "stream",
     "text": [
      "100%|██████████| 26554/26554 [00:00<00:00, 348413.33it/s]\n"
     ]
    },
    {
     "name": "stdout",
     "output_type": "stream",
     "text": [
      "proposed endpoints: \n",
      "[(104882, 104419, 20465), (98255, 97522, 21044), (106899, 111656, 20738), (106630, 109679, 20734)]\n",
      "[[ 8273.97316892 16729.31469009   665.3495322   2212.74942097]\n",
      " [11144.90735717    49.13247399 16804.10610535 15040.58097282]]\n"
     ]
    },
    {
     "name": "stderr",
     "output_type": "stream",
     "text": [
      "08/09/2022 03:26:41 PM WARNING: face_normals incorrect shape, ignoring! \n"
     ]
    },
    {
     "name": "stdout",
     "output_type": "stream",
     "text": [
      "Warning: deduplication not currently supported for this layer's variable layered draco meshes\n"
     ]
    },
    {
     "name": "stderr",
     "output_type": "stream",
     "text": [
      "100%|██████████| 13989/13989 [00:00<00:00, 300399.95it/s]\n"
     ]
    },
    {
     "name": "stdout",
     "output_type": "stream",
     "text": [
      "<class 'trimesh.base.Trimesh'>\n",
      "\n",
      "<trimesh.Trimesh(vertices.shape=(14100, 3), faces.shape=(27998, 3))>\n"
     ]
    },
    {
     "name": "stderr",
     "output_type": "stream",
     "text": [
      "100%|██████████| 26554/26554 [00:00<00:00, 369760.46it/s]\n"
     ]
    },
    {
     "name": "stdout",
     "output_type": "stream",
     "text": [
      "proposed endpoints: \n",
      "[(104882, 104419, 20465), (98255, 97522, 21044), (106899, 111656, 20738), (106630, 109679, 20734)]\n",
      "[[ 8273.97316892 16729.31469009   665.3495322   2212.74942097]\n",
      " [11144.90735717    49.13247399 16804.10610535 15040.58097282]]\n"
     ]
    },
    {
     "name": "stderr",
     "output_type": "stream",
     "text": [
      "08/09/2022 03:26:44 PM WARNING: face_normals incorrect shape, ignoring! \n"
     ]
    },
    {
     "name": "stdout",
     "output_type": "stream",
     "text": [
      "Warning: deduplication not currently supported for this layer's variable layered draco meshes\n"
     ]
    },
    {
     "name": "stderr",
     "output_type": "stream",
     "text": [
      "100%|██████████| 15495/15495 [00:00<00:00, 358575.54it/s]\n"
     ]
    },
    {
     "name": "stdout",
     "output_type": "stream",
     "text": [
      "<class 'trimesh.base.Trimesh'>\n",
      "\n",
      "<trimesh.Trimesh(vertices.shape=(15555, 3), faces.shape=(31009, 3))>\n"
     ]
    },
    {
     "name": "stderr",
     "output_type": "stream",
     "text": [
      "100%|██████████| 26554/26554 [00:00<00:00, 357167.52it/s]\n"
     ]
    },
    {
     "name": "stdout",
     "output_type": "stream",
     "text": [
      "proposed endpoints: \n",
      "[(104882, 104419, 20465), (98255, 97522, 21044), (106899, 111656, 20738), (106630, 109679, 20734)]\n",
      "[[ 8273.97316892 16729.31469009   665.3495322   2212.74942097]\n",
      " [11144.90735717    49.13247399 16804.10610535 15040.58097282]]\n"
     ]
    },
    {
     "name": "stderr",
     "output_type": "stream",
     "text": [
      "08/09/2022 03:26:47 PM WARNING: face_normals incorrect shape, ignoring! \n"
     ]
    },
    {
     "name": "stdout",
     "output_type": "stream",
     "text": [
      "Warning: deduplication not currently supported for this layer's variable layered draco meshes\n"
     ]
    },
    {
     "name": "stderr",
     "output_type": "stream",
     "text": [
      "100%|██████████| 16943/16943 [00:00<00:00, 346830.06it/s]\n"
     ]
    },
    {
     "name": "stdout",
     "output_type": "stream",
     "text": [
      "<class 'trimesh.base.Trimesh'>\n",
      "\n",
      "<trimesh.Trimesh(vertices.shape=(17011, 3), faces.shape=(33905, 3))>\n"
     ]
    },
    {
     "name": "stderr",
     "output_type": "stream",
     "text": [
      "100%|██████████| 26554/26554 [00:00<00:00, 377831.13it/s]\n"
     ]
    },
    {
     "name": "stdout",
     "output_type": "stream",
     "text": [
      "proposed endpoints: \n",
      "[(104882, 104419, 20465), (98255, 97522, 21044), (106899, 111656, 20738), (106630, 109679, 20734)]\n",
      "[[ 8273.97316892 16729.31469009   665.3495322   2212.74942097]\n",
      " [11144.90735717    49.13247399 16804.10610535 15040.58097282]]\n"
     ]
    },
    {
     "name": "stderr",
     "output_type": "stream",
     "text": [
      "08/09/2022 03:26:51 PM WARNING: face_normals incorrect shape, ignoring! \n"
     ]
    },
    {
     "name": "stdout",
     "output_type": "stream",
     "text": [
      "Warning: deduplication not currently supported for this layer's variable layered draco meshes\n"
     ]
    },
    {
     "name": "stderr",
     "output_type": "stream",
     "text": [
      "100%|██████████| 18391/18391 [00:00<00:00, 331691.21it/s]\n"
     ]
    },
    {
     "name": "stdout",
     "output_type": "stream",
     "text": [
      "<class 'trimesh.base.Trimesh'>\n",
      "\n",
      "<trimesh.Trimesh(vertices.shape=(18465, 3), faces.shape=(36800, 3))>\n"
     ]
    },
    {
     "name": "stderr",
     "output_type": "stream",
     "text": [
      "100%|██████████| 26554/26554 [00:00<00:00, 365767.75it/s]\n"
     ]
    },
    {
     "name": "stdout",
     "output_type": "stream",
     "text": [
      "proposed endpoints: \n",
      "[(104882, 104419, 20465), (98255, 97522, 21044), (106899, 111656, 20738), (106630, 109679, 20734)]\n",
      "[[ 8273.97316892 16729.31469009   665.3495322   2212.74942097]\n",
      " [11144.90735717    49.13247399 16804.10610535 15040.58097282]]\n"
     ]
    },
    {
     "name": "stderr",
     "output_type": "stream",
     "text": [
      "08/09/2022 03:26:56 PM WARNING: face_normals incorrect shape, ignoring! \n"
     ]
    },
    {
     "name": "stdout",
     "output_type": "stream",
     "text": [
      "Warning: deduplication not currently supported for this layer's variable layered draco meshes\n"
     ]
    },
    {
     "name": "stderr",
     "output_type": "stream",
     "text": [
      "100%|██████████| 19843/19843 [00:00<00:00, 357517.51it/s]\n"
     ]
    },
    {
     "name": "stdout",
     "output_type": "stream",
     "text": [
      "<class 'trimesh.base.Trimesh'>\n",
      "\n",
      "<trimesh.Trimesh(vertices.shape=(19925, 3), faces.shape=(39704, 3))>\n"
     ]
    },
    {
     "name": "stderr",
     "output_type": "stream",
     "text": [
      "100%|██████████| 26554/26554 [00:00<00:00, 363464.01it/s]\n"
     ]
    },
    {
     "name": "stdout",
     "output_type": "stream",
     "text": [
      "proposed endpoints: \n",
      "[(104882, 104419, 20465), (98255, 97522, 21044), (106899, 111656, 20738), (106630, 109679, 20734)]\n",
      "[[ 8273.97316892 16729.31469009   665.3495322   2212.74942097]\n",
      " [11144.90735717    49.13247399 16804.10610535 15040.58097282]]\n"
     ]
    },
    {
     "name": "stderr",
     "output_type": "stream",
     "text": [
      "08/09/2022 03:27:00 PM WARNING: face_normals incorrect shape, ignoring! \n"
     ]
    },
    {
     "name": "stdout",
     "output_type": "stream",
     "text": [
      "Warning: deduplication not currently supported for this layer's variable layered draco meshes\n"
     ]
    },
    {
     "name": "stderr",
     "output_type": "stream",
     "text": [
      "100%|██████████| 21285/21285 [00:00<00:00, 345546.58it/s]\n"
     ]
    },
    {
     "name": "stdout",
     "output_type": "stream",
     "text": [
      "<class 'trimesh.base.Trimesh'>\n",
      "\n",
      "<trimesh.Trimesh(vertices.shape=(21382, 3), faces.shape=(42587, 3))>\n"
     ]
    },
    {
     "name": "stderr",
     "output_type": "stream",
     "text": [
      "100%|██████████| 26554/26554 [00:00<00:00, 340188.12it/s]\n"
     ]
    },
    {
     "name": "stdout",
     "output_type": "stream",
     "text": [
      "proposed endpoints: \n",
      "[(104882, 104419, 20465), (98255, 97522, 21044), (106899, 111656, 20738), (106630, 109679, 20734)]\n",
      "[[ 8273.97316892 16729.31469009   665.3495322   2212.74942097]\n",
      " [11144.90735717    49.13247399 16804.10610535 15040.58097282]]\n"
     ]
    },
    {
     "name": "stderr",
     "output_type": "stream",
     "text": [
      "08/09/2022 03:27:03 PM WARNING: face_normals incorrect shape, ignoring! \n"
     ]
    },
    {
     "name": "stdout",
     "output_type": "stream",
     "text": [
      "Warning: deduplication not currently supported for this layer's variable layered draco meshes\n"
     ]
    },
    {
     "name": "stderr",
     "output_type": "stream",
     "text": [
      "100%|██████████| 8213/8213 [00:00<00:00, 376487.12it/s]\n"
     ]
    },
    {
     "name": "stdout",
     "output_type": "stream",
     "text": [
      "<class 'trimesh.base.Trimesh'>\n",
      "\n",
      "<trimesh.Trimesh(vertices.shape=(8280, 3), faces.shape=(16442, 3))>\n"
     ]
    },
    {
     "name": "stderr",
     "output_type": "stream",
     "text": [
      "100%|██████████| 26554/26554 [00:00<00:00, 352558.03it/s]\n"
     ]
    },
    {
     "name": "stdout",
     "output_type": "stream",
     "text": [
      "proposed endpoints: \n",
      "[(104882, 104419, 20465), (98255, 97522, 21044), (106899, 111656, 20738), (106630, 109679, 20734)]\n",
      "[[ 8273.97316892 16729.31469009   665.3495322   2212.74942097]\n",
      " [11144.90735717    49.13247399 16804.10610535 15040.58097282]]\n"
     ]
    },
    {
     "name": "stderr",
     "output_type": "stream",
     "text": [
      "08/09/2022 03:27:07 PM WARNING: face_normals incorrect shape, ignoring! \n"
     ]
    },
    {
     "name": "stdout",
     "output_type": "stream",
     "text": [
      "Warning: deduplication not currently supported for this layer's variable layered draco meshes\n"
     ]
    },
    {
     "name": "stderr",
     "output_type": "stream",
     "text": [
      "100%|██████████| 9656/9656 [00:00<00:00, 425489.30it/s]\n"
     ]
    },
    {
     "name": "stdout",
     "output_type": "stream",
     "text": [
      "<class 'trimesh.base.Trimesh'>\n",
      "\n",
      "<trimesh.Trimesh(vertices.shape=(9735, 3), faces.shape=(19330, 3))>\n"
     ]
    },
    {
     "name": "stderr",
     "output_type": "stream",
     "text": [
      "100%|██████████| 26554/26554 [00:00<00:00, 214841.49it/s]\n"
     ]
    },
    {
     "name": "stdout",
     "output_type": "stream",
     "text": [
      "proposed endpoints: \n",
      "[(104882, 104419, 20465), (98255, 97522, 21044), (106899, 111656, 20738), (106630, 109679, 20734)]\n",
      "[[ 8273.97316892 16729.31469009   665.3495322   2212.74942097]\n",
      " [11144.90735717    49.13247399 16804.10610535 15040.58097282]]\n"
     ]
    },
    {
     "name": "stderr",
     "output_type": "stream",
     "text": [
      "08/09/2022 03:27:10 PM WARNING: face_normals incorrect shape, ignoring! \n"
     ]
    },
    {
     "name": "stdout",
     "output_type": "stream",
     "text": [
      "Warning: deduplication not currently supported for this layer's variable layered draco meshes\n"
     ]
    },
    {
     "name": "stderr",
     "output_type": "stream",
     "text": [
      "100%|██████████| 11104/11104 [00:00<00:00, 348283.78it/s]\n"
     ]
    },
    {
     "name": "stdout",
     "output_type": "stream",
     "text": [
      "<class 'trimesh.base.Trimesh'>\n",
      "\n",
      "<trimesh.Trimesh(vertices.shape=(11192, 3), faces.shape=(22230, 3))>\n"
     ]
    },
    {
     "name": "stderr",
     "output_type": "stream",
     "text": [
      "100%|██████████| 26554/26554 [00:00<00:00, 271015.09it/s]\n"
     ]
    },
    {
     "name": "stdout",
     "output_type": "stream",
     "text": [
      "proposed endpoints: \n",
      "[(104882, 104419, 20465), (98255, 97522, 21044), (106899, 111656, 20738), (106630, 109679, 20734)]\n",
      "[[ 8273.97316892 16729.31469009   665.3495322   2212.74942097]\n",
      " [11144.90735717    49.13247399 16804.10610535 15040.58097282]]\n"
     ]
    },
    {
     "name": "stderr",
     "output_type": "stream",
     "text": [
      "08/09/2022 03:27:14 PM WARNING: face_normals incorrect shape, ignoring! \n"
     ]
    },
    {
     "name": "stdout",
     "output_type": "stream",
     "text": [
      "Warning: deduplication not currently supported for this layer's variable layered draco meshes\n"
     ]
    },
    {
     "name": "stderr",
     "output_type": "stream",
     "text": [
      "100%|██████████| 12546/12546 [00:00<00:00, 357824.96it/s]\n"
     ]
    },
    {
     "name": "stdout",
     "output_type": "stream",
     "text": [
      "<class 'trimesh.base.Trimesh'>\n",
      "\n",
      "<trimesh.Trimesh(vertices.shape=(12646, 3), faces.shape=(25113, 3))>\n"
     ]
    },
    {
     "name": "stderr",
     "output_type": "stream",
     "text": [
      "100%|██████████| 26554/26554 [00:00<00:00, 324942.16it/s]\n"
     ]
    },
    {
     "name": "stdout",
     "output_type": "stream",
     "text": [
      "proposed endpoints: \n",
      "[(104882, 104419, 20465), (98255, 97522, 21044), (106899, 111656, 20738), (106630, 109679, 20734)]\n",
      "[[ 8273.97316892 16729.31469009   665.3495322   2212.74942097]\n",
      " [11144.90735717    49.13247399 16804.10610535 15040.58097282]]\n"
     ]
    },
    {
     "name": "stderr",
     "output_type": "stream",
     "text": [
      "08/09/2022 03:27:17 PM WARNING: face_normals incorrect shape, ignoring! \n"
     ]
    },
    {
     "name": "stdout",
     "output_type": "stream",
     "text": [
      "Warning: deduplication not currently supported for this layer's variable layered draco meshes\n"
     ]
    },
    {
     "name": "stderr",
     "output_type": "stream",
     "text": [
      "100%|██████████| 13989/13989 [00:00<00:00, 297201.52it/s]\n"
     ]
    },
    {
     "name": "stdout",
     "output_type": "stream",
     "text": [
      "<class 'trimesh.base.Trimesh'>\n",
      "\n",
      "<trimesh.Trimesh(vertices.shape=(14100, 3), faces.shape=(27998, 3))>\n"
     ]
    },
    {
     "name": "stderr",
     "output_type": "stream",
     "text": [
      "100%|██████████| 26554/26554 [00:00<00:00, 361584.27it/s]\n"
     ]
    },
    {
     "name": "stdout",
     "output_type": "stream",
     "text": [
      "proposed endpoints: \n",
      "[(104882, 104419, 20465), (98255, 97522, 21044), (106899, 111656, 20738), (106630, 109679, 20734)]\n",
      "[[ 8273.97316892 16729.31469009   665.3495322   2212.74942097]\n",
      " [11144.90735717    49.13247399 16804.10610535 15040.58097282]]\n"
     ]
    },
    {
     "name": "stderr",
     "output_type": "stream",
     "text": [
      "08/09/2022 03:27:21 PM WARNING: face_normals incorrect shape, ignoring! \n"
     ]
    },
    {
     "name": "stdout",
     "output_type": "stream",
     "text": [
      "Warning: deduplication not currently supported for this layer's variable layered draco meshes\n"
     ]
    },
    {
     "name": "stderr",
     "output_type": "stream",
     "text": [
      "100%|██████████| 15495/15495 [00:00<00:00, 341571.14it/s]\n"
     ]
    },
    {
     "name": "stdout",
     "output_type": "stream",
     "text": [
      "<class 'trimesh.base.Trimesh'>\n",
      "\n",
      "<trimesh.Trimesh(vertices.shape=(15555, 3), faces.shape=(31009, 3))>\n"
     ]
    },
    {
     "name": "stderr",
     "output_type": "stream",
     "text": [
      "100%|██████████| 26554/26554 [00:00<00:00, 350825.59it/s]\n"
     ]
    },
    {
     "name": "stdout",
     "output_type": "stream",
     "text": [
      "proposed endpoints: \n",
      "[(104882, 104419, 20465), (98255, 97522, 21044), (106899, 111656, 20738), (106630, 109679, 20734)]\n",
      "[[ 8273.97316892 16729.31469009   665.3495322   2212.74942097]\n",
      " [11144.90735717    49.13247399 16804.10610535 15040.58097282]]\n"
     ]
    },
    {
     "name": "stderr",
     "output_type": "stream",
     "text": [
      "08/09/2022 03:27:25 PM WARNING: face_normals incorrect shape, ignoring! \n"
     ]
    },
    {
     "name": "stdout",
     "output_type": "stream",
     "text": [
      "Warning: deduplication not currently supported for this layer's variable layered draco meshes\n"
     ]
    },
    {
     "name": "stderr",
     "output_type": "stream",
     "text": [
      "100%|██████████| 16943/16943 [00:00<00:00, 338009.32it/s]\n"
     ]
    },
    {
     "name": "stdout",
     "output_type": "stream",
     "text": [
      "<class 'trimesh.base.Trimesh'>\n",
      "\n",
      "<trimesh.Trimesh(vertices.shape=(17011, 3), faces.shape=(33905, 3))>\n"
     ]
    },
    {
     "name": "stderr",
     "output_type": "stream",
     "text": [
      "100%|██████████| 26554/26554 [00:00<00:00, 357374.96it/s]\n"
     ]
    },
    {
     "name": "stdout",
     "output_type": "stream",
     "text": [
      "proposed endpoints: \n",
      "[(104882, 104419, 20465), (98255, 97522, 21044), (106899, 111656, 20738), (106630, 109679, 20734)]\n",
      "[[ 8273.97316892 16729.31469009   665.3495322   2212.74942097]\n",
      " [11144.90735717    49.13247399 16804.10610535 15040.58097282]]\n"
     ]
    },
    {
     "name": "stderr",
     "output_type": "stream",
     "text": [
      "08/09/2022 03:27:28 PM WARNING: face_normals incorrect shape, ignoring! \n"
     ]
    },
    {
     "name": "stdout",
     "output_type": "stream",
     "text": [
      "Warning: deduplication not currently supported for this layer's variable layered draco meshes\n"
     ]
    },
    {
     "name": "stderr",
     "output_type": "stream",
     "text": [
      "100%|██████████| 18391/18391 [00:00<00:00, 345110.82it/s]\n"
     ]
    },
    {
     "name": "stdout",
     "output_type": "stream",
     "text": [
      "<class 'trimesh.base.Trimesh'>\n",
      "\n",
      "<trimesh.Trimesh(vertices.shape=(18465, 3), faces.shape=(36800, 3))>\n"
     ]
    },
    {
     "name": "stderr",
     "output_type": "stream",
     "text": [
      "100%|██████████| 26554/26554 [00:00<00:00, 367382.07it/s]\n"
     ]
    },
    {
     "name": "stdout",
     "output_type": "stream",
     "text": [
      "proposed endpoints: \n",
      "[(104882, 104419, 20465), (98255, 97522, 21044), (106899, 111656, 20738), (106630, 109679, 20734)]\n",
      "[[ 8273.97316892 16729.31469009   665.3495322   2212.74942097]\n",
      " [11144.90735717    49.13247399 16804.10610535 15040.58097282]]\n"
     ]
    },
    {
     "name": "stderr",
     "output_type": "stream",
     "text": [
      "08/09/2022 03:27:32 PM WARNING: face_normals incorrect shape, ignoring! \n"
     ]
    },
    {
     "name": "stdout",
     "output_type": "stream",
     "text": [
      "Warning: deduplication not currently supported for this layer's variable layered draco meshes\n"
     ]
    },
    {
     "name": "stderr",
     "output_type": "stream",
     "text": [
      "100%|██████████| 19843/19843 [00:00<00:00, 302661.13it/s]\n"
     ]
    },
    {
     "name": "stdout",
     "output_type": "stream",
     "text": [
      "<class 'trimesh.base.Trimesh'>\n",
      "\n",
      "<trimesh.Trimesh(vertices.shape=(19925, 3), faces.shape=(39704, 3))>\n"
     ]
    },
    {
     "name": "stderr",
     "output_type": "stream",
     "text": [
      "100%|██████████| 26554/26554 [00:00<00:00, 354038.48it/s]\n"
     ]
    },
    {
     "name": "stdout",
     "output_type": "stream",
     "text": [
      "proposed endpoints: \n",
      "[(104882, 104419, 20465), (98255, 97522, 21044), (106899, 111656, 20738), (106630, 109679, 20734)]\n",
      "[[ 8273.97316892 16729.31469009   665.3495322   2212.74942097]\n",
      " [11144.90735717    49.13247399 16804.10610535 15040.58097282]]\n"
     ]
    },
    {
     "name": "stderr",
     "output_type": "stream",
     "text": [
      "08/09/2022 03:27:36 PM WARNING: face_normals incorrect shape, ignoring! \n"
     ]
    },
    {
     "name": "stdout",
     "output_type": "stream",
     "text": [
      "Warning: deduplication not currently supported for this layer's variable layered draco meshes\n"
     ]
    },
    {
     "name": "stderr",
     "output_type": "stream",
     "text": [
      "100%|██████████| 21285/21285 [00:00<00:00, 316815.51it/s]\n"
     ]
    },
    {
     "name": "stdout",
     "output_type": "stream",
     "text": [
      "<class 'trimesh.base.Trimesh'>\n",
      "\n",
      "<trimesh.Trimesh(vertices.shape=(21382, 3), faces.shape=(42587, 3))>\n"
     ]
    },
    {
     "name": "stderr",
     "output_type": "stream",
     "text": [
      "100%|██████████| 26554/26554 [00:00<00:00, 287829.30it/s]\n"
     ]
    },
    {
     "name": "stdout",
     "output_type": "stream",
     "text": [
      "proposed endpoints: \n",
      "[(104882, 104419, 20465), (98255, 97522, 21044), (106899, 111656, 20738), (106630, 109679, 20734)]\n",
      "[[ 8273.97316892 16729.31469009   665.3495322   2212.74942097]\n",
      " [11144.90735717    49.13247399 16804.10610535 15040.58097282]]\n"
     ]
    },
    {
     "name": "stderr",
     "output_type": "stream",
     "text": [
      "08/09/2022 03:27:39 PM WARNING: face_normals incorrect shape, ignoring! \n"
     ]
    },
    {
     "name": "stdout",
     "output_type": "stream",
     "text": [
      "Warning: deduplication not currently supported for this layer's variable layered draco meshes\n"
     ]
    },
    {
     "name": "stderr",
     "output_type": "stream",
     "text": [
      "100%|██████████| 8213/8213 [00:00<00:00, 352414.56it/s]\n"
     ]
    },
    {
     "name": "stdout",
     "output_type": "stream",
     "text": [
      "<class 'trimesh.base.Trimesh'>\n",
      "\n",
      "<trimesh.Trimesh(vertices.shape=(8280, 3), faces.shape=(16442, 3))>\n"
     ]
    },
    {
     "name": "stderr",
     "output_type": "stream",
     "text": [
      "100%|██████████| 26554/26554 [00:00<00:00, 337116.53it/s]\n"
     ]
    },
    {
     "name": "stdout",
     "output_type": "stream",
     "text": [
      "proposed endpoints: \n",
      "[(104882, 104419, 20465), (98255, 97522, 21044), (106899, 111656, 20738), (106630, 109679, 20734)]\n",
      "[[ 8273.97316892 16729.31469009   665.3495322   2212.74942097]\n",
      " [11144.90735717    49.13247399 16804.10610535 15040.58097282]]\n"
     ]
    },
    {
     "name": "stderr",
     "output_type": "stream",
     "text": [
      "08/09/2022 03:27:43 PM WARNING: face_normals incorrect shape, ignoring! \n"
     ]
    },
    {
     "name": "stdout",
     "output_type": "stream",
     "text": [
      "Warning: deduplication not currently supported for this layer's variable layered draco meshes\n"
     ]
    },
    {
     "name": "stderr",
     "output_type": "stream",
     "text": [
      "100%|██████████| 9656/9656 [00:00<00:00, 366245.86it/s]\n"
     ]
    },
    {
     "name": "stdout",
     "output_type": "stream",
     "text": [
      "<class 'trimesh.base.Trimesh'>\n",
      "\n",
      "<trimesh.Trimesh(vertices.shape=(9735, 3), faces.shape=(19330, 3))>\n"
     ]
    },
    {
     "name": "stderr",
     "output_type": "stream",
     "text": [
      "100%|██████████| 26554/26554 [00:00<00:00, 349776.70it/s]\n"
     ]
    },
    {
     "name": "stdout",
     "output_type": "stream",
     "text": [
      "proposed endpoints: \n",
      "[(104882, 104419, 20465), (98255, 97522, 21044), (106899, 111656, 20738), (106630, 109679, 20734)]\n",
      "[[ 8273.97316892 16729.31469009   665.3495322   2212.74942097]\n",
      " [11144.90735717    49.13247399 16804.10610535 15040.58097282]]\n"
     ]
    },
    {
     "name": "stderr",
     "output_type": "stream",
     "text": [
      "08/09/2022 03:27:47 PM WARNING: face_normals incorrect shape, ignoring! \n"
     ]
    },
    {
     "name": "stdout",
     "output_type": "stream",
     "text": [
      "Warning: deduplication not currently supported for this layer's variable layered draco meshes\n"
     ]
    },
    {
     "name": "stderr",
     "output_type": "stream",
     "text": [
      "100%|██████████| 11104/11104 [00:00<00:00, 331034.33it/s]\n"
     ]
    },
    {
     "name": "stdout",
     "output_type": "stream",
     "text": [
      "<class 'trimesh.base.Trimesh'>\n",
      "\n",
      "<trimesh.Trimesh(vertices.shape=(11192, 3), faces.shape=(22230, 3))>\n"
     ]
    },
    {
     "name": "stderr",
     "output_type": "stream",
     "text": [
      "100%|██████████| 26554/26554 [00:00<00:00, 360400.18it/s]\n"
     ]
    },
    {
     "name": "stdout",
     "output_type": "stream",
     "text": [
      "proposed endpoints: \n",
      "[(104882, 104419, 20465), (98255, 97522, 21044), (106899, 111656, 20738), (106630, 109679, 20734)]\n",
      "[[ 8273.97316892 16729.31469009   665.3495322   2212.74942097]\n",
      " [11144.90735717    49.13247399 16804.10610535 15040.58097282]]\n"
     ]
    },
    {
     "name": "stderr",
     "output_type": "stream",
     "text": [
      "08/09/2022 03:27:51 PM WARNING: face_normals incorrect shape, ignoring! \n"
     ]
    },
    {
     "name": "stdout",
     "output_type": "stream",
     "text": [
      "Warning: deduplication not currently supported for this layer's variable layered draco meshes\n"
     ]
    },
    {
     "name": "stderr",
     "output_type": "stream",
     "text": [
      "100%|██████████| 12546/12546 [00:00<00:00, 359433.19it/s]\n"
     ]
    },
    {
     "name": "stdout",
     "output_type": "stream",
     "text": [
      "<class 'trimesh.base.Trimesh'>\n",
      "\n",
      "<trimesh.Trimesh(vertices.shape=(12646, 3), faces.shape=(25113, 3))>\n"
     ]
    },
    {
     "name": "stderr",
     "output_type": "stream",
     "text": [
      "100%|██████████| 26554/26554 [00:00<00:00, 363958.11it/s]\n"
     ]
    },
    {
     "name": "stdout",
     "output_type": "stream",
     "text": [
      "proposed endpoints: \n",
      "[(104882, 104419, 20465), (98255, 97522, 21044), (106899, 111656, 20738), (106630, 109679, 20734)]\n",
      "[[ 8273.97316892 16729.31469009   665.3495322   2212.74942097]\n",
      " [11144.90735717    49.13247399 16804.10610535 15040.58097282]]\n"
     ]
    },
    {
     "name": "stderr",
     "output_type": "stream",
     "text": [
      "08/09/2022 03:27:54 PM WARNING: face_normals incorrect shape, ignoring! \n"
     ]
    },
    {
     "name": "stdout",
     "output_type": "stream",
     "text": [
      "Warning: deduplication not currently supported for this layer's variable layered draco meshes\n"
     ]
    },
    {
     "name": "stderr",
     "output_type": "stream",
     "text": [
      "100%|██████████| 13989/13989 [00:00<00:00, 298366.74it/s]\n"
     ]
    },
    {
     "name": "stdout",
     "output_type": "stream",
     "text": [
      "<class 'trimesh.base.Trimesh'>\n",
      "\n",
      "<trimesh.Trimesh(vertices.shape=(14100, 3), faces.shape=(27998, 3))>\n"
     ]
    },
    {
     "name": "stderr",
     "output_type": "stream",
     "text": [
      "100%|██████████| 26554/26554 [00:00<00:00, 332090.60it/s]\n"
     ]
    },
    {
     "name": "stdout",
     "output_type": "stream",
     "text": [
      "proposed endpoints: \n",
      "[(104882, 104419, 20465), (98255, 97522, 21044), (106899, 111656, 20738), (106630, 109679, 20734)]\n",
      "[[ 8273.97316892 16729.31469009   665.3495322   2212.74942097]\n",
      " [11144.90735717    49.13247399 16804.10610535 15040.58097282]]\n"
     ]
    },
    {
     "name": "stderr",
     "output_type": "stream",
     "text": [
      "08/09/2022 03:27:58 PM WARNING: face_normals incorrect shape, ignoring! \n"
     ]
    },
    {
     "name": "stdout",
     "output_type": "stream",
     "text": [
      "Warning: deduplication not currently supported for this layer's variable layered draco meshes\n"
     ]
    },
    {
     "name": "stderr",
     "output_type": "stream",
     "text": [
      "100%|██████████| 15495/15495 [00:00<00:00, 355290.15it/s]\n"
     ]
    },
    {
     "name": "stdout",
     "output_type": "stream",
     "text": [
      "<class 'trimesh.base.Trimesh'>\n",
      "\n",
      "<trimesh.Trimesh(vertices.shape=(15555, 3), faces.shape=(31009, 3))>\n"
     ]
    },
    {
     "name": "stderr",
     "output_type": "stream",
     "text": [
      "100%|██████████| 26554/26554 [00:00<00:00, 357490.81it/s]\n"
     ]
    },
    {
     "name": "stdout",
     "output_type": "stream",
     "text": [
      "proposed endpoints: \n",
      "[(104882, 104419, 20465), (98255, 97522, 21044), (106899, 111656, 20738), (106630, 109679, 20734)]\n",
      "[[ 8273.97316892 16729.31469009   665.3495322   2212.74942097]\n",
      " [11144.90735717    49.13247399 16804.10610535 15040.58097282]]\n"
     ]
    },
    {
     "name": "stderr",
     "output_type": "stream",
     "text": [
      "08/09/2022 03:28:02 PM WARNING: face_normals incorrect shape, ignoring! \n"
     ]
    },
    {
     "name": "stdout",
     "output_type": "stream",
     "text": [
      "Warning: deduplication not currently supported for this layer's variable layered draco meshes\n"
     ]
    },
    {
     "name": "stderr",
     "output_type": "stream",
     "text": [
      "100%|██████████| 16943/16943 [00:00<00:00, 355713.53it/s]\n"
     ]
    },
    {
     "name": "stdout",
     "output_type": "stream",
     "text": [
      "<class 'trimesh.base.Trimesh'>\n",
      "\n",
      "<trimesh.Trimesh(vertices.shape=(17011, 3), faces.shape=(33905, 3))>\n"
     ]
    },
    {
     "name": "stderr",
     "output_type": "stream",
     "text": [
      "100%|██████████| 26554/26554 [00:00<00:00, 344996.45it/s]\n"
     ]
    },
    {
     "name": "stdout",
     "output_type": "stream",
     "text": [
      "proposed endpoints: \n",
      "[(104882, 104419, 20465), (98255, 97522, 21044), (106899, 111656, 20738), (106630, 109679, 20734)]\n",
      "[[ 8273.97316892 16729.31469009   665.3495322   2212.74942097]\n",
      " [11144.90735717    49.13247399 16804.10610535 15040.58097282]]\n"
     ]
    },
    {
     "name": "stderr",
     "output_type": "stream",
     "text": [
      "08/09/2022 03:28:05 PM WARNING: face_normals incorrect shape, ignoring! \n"
     ]
    },
    {
     "name": "stdout",
     "output_type": "stream",
     "text": [
      "Warning: deduplication not currently supported for this layer's variable layered draco meshes\n"
     ]
    },
    {
     "name": "stderr",
     "output_type": "stream",
     "text": [
      "100%|██████████| 18391/18391 [00:00<00:00, 348629.64it/s]\n"
     ]
    },
    {
     "name": "stdout",
     "output_type": "stream",
     "text": [
      "<class 'trimesh.base.Trimesh'>\n",
      "\n",
      "<trimesh.Trimesh(vertices.shape=(18465, 3), faces.shape=(36800, 3))>\n"
     ]
    },
    {
     "name": "stderr",
     "output_type": "stream",
     "text": [
      "100%|██████████| 26554/26554 [00:00<00:00, 352829.43it/s]\n"
     ]
    },
    {
     "name": "stdout",
     "output_type": "stream",
     "text": [
      "proposed endpoints: \n",
      "[(104882, 104419, 20465), (98255, 97522, 21044), (106899, 111656, 20738), (106630, 109679, 20734)]\n",
      "[[ 8273.97316892 16729.31469009   665.3495322   2212.74942097]\n",
      " [11144.90735717    49.13247399 16804.10610535 15040.58097282]]\n"
     ]
    },
    {
     "name": "stderr",
     "output_type": "stream",
     "text": [
      "08/09/2022 03:28:09 PM WARNING: face_normals incorrect shape, ignoring! \n"
     ]
    },
    {
     "name": "stdout",
     "output_type": "stream",
     "text": [
      "Warning: deduplication not currently supported for this layer's variable layered draco meshes\n"
     ]
    },
    {
     "name": "stderr",
     "output_type": "stream",
     "text": [
      "100%|██████████| 19843/19843 [00:00<00:00, 294939.75it/s]\n"
     ]
    },
    {
     "name": "stdout",
     "output_type": "stream",
     "text": [
      "<class 'trimesh.base.Trimesh'>\n",
      "\n",
      "<trimesh.Trimesh(vertices.shape=(19925, 3), faces.shape=(39704, 3))>\n"
     ]
    },
    {
     "name": "stderr",
     "output_type": "stream",
     "text": [
      "100%|██████████| 26554/26554 [00:00<00:00, 347071.37it/s]\n"
     ]
    },
    {
     "name": "stdout",
     "output_type": "stream",
     "text": [
      "proposed endpoints: \n",
      "[(104882, 104419, 20465), (98255, 97522, 21044), (106899, 111656, 20738), (106630, 109679, 20734)]\n",
      "[[ 8273.97316892 16729.31469009   665.3495322   2212.74942097]\n",
      " [11144.90735717    49.13247399 16804.10610535 15040.58097282]]\n"
     ]
    },
    {
     "name": "stderr",
     "output_type": "stream",
     "text": [
      "08/09/2022 03:28:13 PM WARNING: face_normals incorrect shape, ignoring! \n"
     ]
    },
    {
     "name": "stdout",
     "output_type": "stream",
     "text": [
      "Warning: deduplication not currently supported for this layer's variable layered draco meshes\n"
     ]
    },
    {
     "name": "stderr",
     "output_type": "stream",
     "text": [
      "100%|██████████| 21285/21285 [00:00<00:00, 288551.33it/s]\n"
     ]
    },
    {
     "name": "stdout",
     "output_type": "stream",
     "text": [
      "<class 'trimesh.base.Trimesh'>\n",
      "\n",
      "<trimesh.Trimesh(vertices.shape=(21382, 3), faces.shape=(42587, 3))>\n"
     ]
    },
    {
     "name": "stderr",
     "output_type": "stream",
     "text": [
      "100%|██████████| 26554/26554 [00:00<00:00, 344142.57it/s]\n"
     ]
    },
    {
     "name": "stdout",
     "output_type": "stream",
     "text": [
      "proposed endpoints: \n",
      "[(104882, 104419, 20465), (98255, 97522, 21044), (106899, 111656, 20738), (106630, 109679, 20734)]\n",
      "[[ 8273.97316892 16729.31469009   665.3495322   2212.74942097]\n",
      " [11144.90735717    49.13247399 16804.10610535 15040.58097282]]\n"
     ]
    },
    {
     "name": "stderr",
     "output_type": "stream",
     "text": [
      "08/09/2022 03:28:17 PM WARNING: face_normals incorrect shape, ignoring! \n"
     ]
    },
    {
     "name": "stdout",
     "output_type": "stream",
     "text": [
      "Warning: deduplication not currently supported for this layer's variable layered draco meshes\n"
     ]
    },
    {
     "name": "stderr",
     "output_type": "stream",
     "text": [
      "100%|██████████| 8213/8213 [00:00<00:00, 368891.42it/s]\n"
     ]
    },
    {
     "name": "stdout",
     "output_type": "stream",
     "text": [
      "<class 'trimesh.base.Trimesh'>\n",
      "\n",
      "<trimesh.Trimesh(vertices.shape=(8280, 3), faces.shape=(16442, 3))>\n"
     ]
    },
    {
     "name": "stderr",
     "output_type": "stream",
     "text": [
      "100%|██████████| 26554/26554 [00:00<00:00, 340602.17it/s]\n"
     ]
    },
    {
     "name": "stdout",
     "output_type": "stream",
     "text": [
      "proposed endpoints: \n",
      "[(104882, 104419, 20465), (98255, 97522, 21044), (106899, 111656, 20738), (106630, 109679, 20734)]\n",
      "[[ 8273.97316892 16729.31469009   665.3495322   2212.74942097]\n",
      " [11144.90735717    49.13247399 16804.10610535 15040.58097282]]\n"
     ]
    },
    {
     "name": "stderr",
     "output_type": "stream",
     "text": [
      "08/09/2022 03:28:20 PM WARNING: face_normals incorrect shape, ignoring! \n"
     ]
    },
    {
     "name": "stdout",
     "output_type": "stream",
     "text": [
      "Warning: deduplication not currently supported for this layer's variable layered draco meshes\n"
     ]
    },
    {
     "name": "stderr",
     "output_type": "stream",
     "text": [
      "100%|██████████| 9656/9656 [00:00<00:00, 276105.09it/s]\n"
     ]
    },
    {
     "name": "stdout",
     "output_type": "stream",
     "text": [
      "<class 'trimesh.base.Trimesh'>\n",
      "\n",
      "<trimesh.Trimesh(vertices.shape=(9735, 3), faces.shape=(19330, 3))>\n"
     ]
    },
    {
     "name": "stderr",
     "output_type": "stream",
     "text": [
      "100%|██████████| 26554/26554 [00:00<00:00, 326359.93it/s]\n"
     ]
    },
    {
     "name": "stdout",
     "output_type": "stream",
     "text": [
      "proposed endpoints: \n",
      "[(104882, 104419, 20465), (98255, 97522, 21044), (106899, 111656, 20738), (106630, 109679, 20734)]\n",
      "[[ 8273.97316892 16729.31469009   665.3495322   2212.74942097]\n",
      " [11144.90735717    49.13247399 16804.10610535 15040.58097282]]\n"
     ]
    },
    {
     "name": "stderr",
     "output_type": "stream",
     "text": [
      "08/09/2022 03:28:24 PM WARNING: face_normals incorrect shape, ignoring! \n"
     ]
    },
    {
     "name": "stdout",
     "output_type": "stream",
     "text": [
      "Warning: deduplication not currently supported for this layer's variable layered draco meshes\n"
     ]
    },
    {
     "name": "stderr",
     "output_type": "stream",
     "text": [
      "100%|██████████| 11104/11104 [00:00<00:00, 319502.44it/s]\n"
     ]
    },
    {
     "name": "stdout",
     "output_type": "stream",
     "text": [
      "<class 'trimesh.base.Trimesh'>\n",
      "\n",
      "<trimesh.Trimesh(vertices.shape=(11192, 3), faces.shape=(22230, 3))>\n"
     ]
    },
    {
     "name": "stderr",
     "output_type": "stream",
     "text": [
      "100%|██████████| 26554/26554 [00:00<00:00, 334703.34it/s]\n"
     ]
    },
    {
     "name": "stdout",
     "output_type": "stream",
     "text": [
      "proposed endpoints: \n",
      "[(104882, 104419, 20465), (98255, 97522, 21044), (106899, 111656, 20738), (106630, 109679, 20734)]\n",
      "[[ 8273.97316892 16729.31469009   665.3495322   2212.74942097]\n",
      " [11144.90735717    49.13247399 16804.10610535 15040.58097282]]\n"
     ]
    },
    {
     "name": "stderr",
     "output_type": "stream",
     "text": [
      "08/09/2022 03:28:28 PM WARNING: face_normals incorrect shape, ignoring! \n"
     ]
    },
    {
     "name": "stdout",
     "output_type": "stream",
     "text": [
      "Warning: deduplication not currently supported for this layer's variable layered draco meshes\n"
     ]
    },
    {
     "name": "stderr",
     "output_type": "stream",
     "text": [
      "100%|██████████| 12546/12546 [00:00<00:00, 232630.59it/s]\n"
     ]
    },
    {
     "name": "stdout",
     "output_type": "stream",
     "text": [
      "<class 'trimesh.base.Trimesh'>\n",
      "\n",
      "<trimesh.Trimesh(vertices.shape=(12646, 3), faces.shape=(25113, 3))>\n"
     ]
    },
    {
     "name": "stderr",
     "output_type": "stream",
     "text": [
      "100%|██████████| 26554/26554 [00:00<00:00, 363952.16it/s]\n"
     ]
    },
    {
     "name": "stdout",
     "output_type": "stream",
     "text": [
      "proposed endpoints: \n",
      "[(104882, 104419, 20465), (98255, 97522, 21044), (106899, 111656, 20738), (106630, 109679, 20734)]\n",
      "[[ 8273.97316892 16729.31469009   665.3495322   2212.74942097]\n",
      " [11144.90735717    49.13247399 16804.10610535 15040.58097282]]\n"
     ]
    },
    {
     "name": "stderr",
     "output_type": "stream",
     "text": [
      "08/09/2022 03:28:32 PM WARNING: face_normals incorrect shape, ignoring! \n"
     ]
    },
    {
     "name": "stdout",
     "output_type": "stream",
     "text": [
      "Warning: deduplication not currently supported for this layer's variable layered draco meshes\n"
     ]
    },
    {
     "name": "stderr",
     "output_type": "stream",
     "text": [
      "100%|██████████| 13989/13989 [00:00<00:00, 295031.62it/s]\n"
     ]
    },
    {
     "name": "stdout",
     "output_type": "stream",
     "text": [
      "<class 'trimesh.base.Trimesh'>\n",
      "\n",
      "<trimesh.Trimesh(vertices.shape=(14100, 3), faces.shape=(27998, 3))>\n"
     ]
    },
    {
     "name": "stderr",
     "output_type": "stream",
     "text": [
      "100%|██████████| 26554/26554 [00:00<00:00, 344650.55it/s]\n"
     ]
    },
    {
     "name": "stdout",
     "output_type": "stream",
     "text": [
      "proposed endpoints: \n",
      "[(104882, 104419, 20465), (98255, 97522, 21044), (106899, 111656, 20738), (106630, 109679, 20734)]\n",
      "[[ 8273.97316892 16729.31469009   665.3495322   2212.74942097]\n",
      " [11144.90735717    49.13247399 16804.10610535 15040.58097282]]\n"
     ]
    },
    {
     "name": "stderr",
     "output_type": "stream",
     "text": [
      "08/09/2022 03:28:41 PM WARNING: face_normals incorrect shape, ignoring! \n"
     ]
    },
    {
     "name": "stdout",
     "output_type": "stream",
     "text": [
      "Warning: deduplication not currently supported for this layer's variable layered draco meshes\n"
     ]
    },
    {
     "name": "stderr",
     "output_type": "stream",
     "text": [
      "100%|██████████| 15495/15495 [00:00<00:00, 334101.40it/s]\n"
     ]
    },
    {
     "name": "stdout",
     "output_type": "stream",
     "text": [
      "<class 'trimesh.base.Trimesh'>\n",
      "\n",
      "<trimesh.Trimesh(vertices.shape=(15555, 3), faces.shape=(31009, 3))>\n"
     ]
    },
    {
     "name": "stderr",
     "output_type": "stream",
     "text": [
      "100%|██████████| 26554/26554 [00:00<00:00, 344333.02it/s]\n"
     ]
    },
    {
     "name": "stdout",
     "output_type": "stream",
     "text": [
      "proposed endpoints: \n",
      "[(104882, 104419, 20465), (98255, 97522, 21044), (106899, 111656, 20738), (106630, 109679, 20734)]\n",
      "[[ 8273.97316892 16729.31469009   665.3495322   2212.74942097]\n",
      " [11144.90735717    49.13247399 16804.10610535 15040.58097282]]\n"
     ]
    },
    {
     "name": "stderr",
     "output_type": "stream",
     "text": [
      "08/09/2022 03:28:44 PM WARNING: face_normals incorrect shape, ignoring! \n"
     ]
    },
    {
     "name": "stdout",
     "output_type": "stream",
     "text": [
      "Warning: deduplication not currently supported for this layer's variable layered draco meshes\n"
     ]
    },
    {
     "name": "stderr",
     "output_type": "stream",
     "text": [
      "100%|██████████| 16943/16943 [00:00<00:00, 337773.15it/s]\n"
     ]
    },
    {
     "name": "stdout",
     "output_type": "stream",
     "text": [
      "<class 'trimesh.base.Trimesh'>\n",
      "\n",
      "<trimesh.Trimesh(vertices.shape=(17011, 3), faces.shape=(33905, 3))>\n"
     ]
    },
    {
     "name": "stderr",
     "output_type": "stream",
     "text": [
      "100%|██████████| 26554/26554 [00:00<00:00, 268756.90it/s]\n"
     ]
    },
    {
     "name": "stdout",
     "output_type": "stream",
     "text": [
      "proposed endpoints: \n",
      "[(104882, 104419, 20465), (98255, 97522, 21044), (106899, 111656, 20738), (106630, 109679, 20734)]\n",
      "[[ 8273.97316892 16729.31469009   665.3495322   2212.74942097]\n",
      " [11144.90735717    49.13247399 16804.10610535 15040.58097282]]\n"
     ]
    },
    {
     "name": "stderr",
     "output_type": "stream",
     "text": [
      "08/09/2022 03:28:48 PM WARNING: face_normals incorrect shape, ignoring! \n"
     ]
    },
    {
     "name": "stdout",
     "output_type": "stream",
     "text": [
      "Warning: deduplication not currently supported for this layer's variable layered draco meshes\n"
     ]
    },
    {
     "name": "stderr",
     "output_type": "stream",
     "text": [
      "100%|██████████| 18391/18391 [00:00<00:00, 333557.23it/s]\n"
     ]
    },
    {
     "name": "stdout",
     "output_type": "stream",
     "text": [
      "<class 'trimesh.base.Trimesh'>\n",
      "\n",
      "<trimesh.Trimesh(vertices.shape=(18465, 3), faces.shape=(36800, 3))>\n"
     ]
    },
    {
     "name": "stderr",
     "output_type": "stream",
     "text": [
      "100%|██████████| 26554/26554 [00:00<00:00, 336071.83it/s]\n"
     ]
    },
    {
     "name": "stdout",
     "output_type": "stream",
     "text": [
      "proposed endpoints: \n",
      "[(104882, 104419, 20465), (98255, 97522, 21044), (106899, 111656, 20738), (106630, 109679, 20734)]\n",
      "[[ 8273.97316892 16729.31469009   665.3495322   2212.74942097]\n",
      " [11144.90735717    49.13247399 16804.10610535 15040.58097282]]\n"
     ]
    },
    {
     "name": "stderr",
     "output_type": "stream",
     "text": [
      "08/09/2022 03:28:52 PM WARNING: face_normals incorrect shape, ignoring! \n"
     ]
    },
    {
     "name": "stdout",
     "output_type": "stream",
     "text": [
      "Warning: deduplication not currently supported for this layer's variable layered draco meshes\n"
     ]
    },
    {
     "name": "stderr",
     "output_type": "stream",
     "text": [
      "100%|██████████| 19843/19843 [00:00<00:00, 282680.27it/s]\n"
     ]
    },
    {
     "name": "stdout",
     "output_type": "stream",
     "text": [
      "<class 'trimesh.base.Trimesh'>\n",
      "\n",
      "<trimesh.Trimesh(vertices.shape=(19925, 3), faces.shape=(39704, 3))>\n"
     ]
    },
    {
     "name": "stderr",
     "output_type": "stream",
     "text": [
      "100%|██████████| 26554/26554 [00:00<00:00, 276799.53it/s]\n"
     ]
    },
    {
     "name": "stdout",
     "output_type": "stream",
     "text": [
      "proposed endpoints: \n",
      "[(104882, 104419, 20465), (98255, 97522, 21044), (106899, 111656, 20738), (106630, 109679, 20734)]\n",
      "[[ 8273.97316892 16729.31469009   665.3495322   2212.74942097]\n",
      " [11144.90735717    49.13247399 16804.10610535 15040.58097282]]\n"
     ]
    },
    {
     "name": "stderr",
     "output_type": "stream",
     "text": [
      "08/09/2022 03:29:07 PM WARNING: face_normals incorrect shape, ignoring! \n"
     ]
    },
    {
     "name": "stdout",
     "output_type": "stream",
     "text": [
      "Warning: deduplication not currently supported for this layer's variable layered draco meshes\n"
     ]
    },
    {
     "name": "stderr",
     "output_type": "stream",
     "text": [
      "100%|██████████| 21285/21285 [00:00<00:00, 256451.85it/s]\n"
     ]
    },
    {
     "name": "stdout",
     "output_type": "stream",
     "text": [
      "<class 'trimesh.base.Trimesh'>\n",
      "\n",
      "<trimesh.Trimesh(vertices.shape=(21382, 3), faces.shape=(42587, 3))>\n"
     ]
    },
    {
     "name": "stderr",
     "output_type": "stream",
     "text": [
      "100%|██████████| 26554/26554 [00:00<00:00, 72499.60it/s]\n"
     ]
    },
    {
     "name": "stdout",
     "output_type": "stream",
     "text": [
      "proposed endpoints: \n",
      "[(104882, 104419, 20465), (98255, 97522, 21044), (106899, 111656, 20738), (106630, 109679, 20734)]\n",
      "[[ 8273.97316892 16729.31469009   665.3495322   2212.74942097]\n",
      " [11144.90735717    49.13247399 16804.10610535 15040.58097282]]\n"
     ]
    },
    {
     "name": "stderr",
     "output_type": "stream",
     "text": [
      "08/09/2022 03:29:13 PM WARNING: face_normals incorrect shape, ignoring! \n"
     ]
    },
    {
     "name": "stdout",
     "output_type": "stream",
     "text": [
      "Warning: deduplication not currently supported for this layer's variable layered draco meshes\n"
     ]
    },
    {
     "name": "stderr",
     "output_type": "stream",
     "text": [
      "100%|██████████| 8213/8213 [00:00<00:00, 300665.25it/s]\n"
     ]
    },
    {
     "name": "stdout",
     "output_type": "stream",
     "text": [
      "<class 'trimesh.base.Trimesh'>\n",
      "\n",
      "<trimesh.Trimesh(vertices.shape=(8280, 3), faces.shape=(16442, 3))>\n"
     ]
    },
    {
     "name": "stderr",
     "output_type": "stream",
     "text": [
      "100%|██████████| 26554/26554 [00:00<00:00, 313398.47it/s]\n"
     ]
    },
    {
     "name": "stdout",
     "output_type": "stream",
     "text": [
      "proposed endpoints: \n",
      "[(104882, 104419, 20465), (98255, 97522, 21044), (106899, 111656, 20738), (106630, 109679, 20734)]\n",
      "[[ 8273.97316892 16729.31469009   665.3495322   2212.74942097]\n",
      " [11144.90735717    49.13247399 16804.10610535 15040.58097282]]\n"
     ]
    },
    {
     "name": "stderr",
     "output_type": "stream",
     "text": [
      "08/09/2022 03:29:17 PM WARNING: face_normals incorrect shape, ignoring! \n"
     ]
    },
    {
     "name": "stdout",
     "output_type": "stream",
     "text": [
      "Warning: deduplication not currently supported for this layer's variable layered draco meshes\n"
     ]
    },
    {
     "name": "stderr",
     "output_type": "stream",
     "text": [
      "100%|██████████| 9656/9656 [00:00<00:00, 332885.65it/s]\n"
     ]
    },
    {
     "name": "stdout",
     "output_type": "stream",
     "text": [
      "<class 'trimesh.base.Trimesh'>\n",
      "\n",
      "<trimesh.Trimesh(vertices.shape=(9735, 3), faces.shape=(19330, 3))>\n"
     ]
    },
    {
     "name": "stderr",
     "output_type": "stream",
     "text": [
      "100%|██████████| 26554/26554 [00:00<00:00, 340798.11it/s]\n"
     ]
    },
    {
     "name": "stdout",
     "output_type": "stream",
     "text": [
      "proposed endpoints: \n",
      "[(104882, 104419, 20465), (98255, 97522, 21044), (106899, 111656, 20738), (106630, 109679, 20734)]\n",
      "[[ 8273.97316892 16729.31469009   665.3495322   2212.74942097]\n",
      " [11144.90735717    49.13247399 16804.10610535 15040.58097282]]\n"
     ]
    },
    {
     "name": "stderr",
     "output_type": "stream",
     "text": [
      "08/09/2022 03:29:21 PM WARNING: face_normals incorrect shape, ignoring! \n"
     ]
    },
    {
     "name": "stdout",
     "output_type": "stream",
     "text": [
      "Warning: deduplication not currently supported for this layer's variable layered draco meshes\n"
     ]
    },
    {
     "name": "stderr",
     "output_type": "stream",
     "text": [
      "100%|██████████| 11104/11104 [00:00<00:00, 367316.68it/s]\n"
     ]
    },
    {
     "name": "stdout",
     "output_type": "stream",
     "text": [
      "<class 'trimesh.base.Trimesh'>\n",
      "\n",
      "<trimesh.Trimesh(vertices.shape=(11192, 3), faces.shape=(22230, 3))>\n"
     ]
    },
    {
     "name": "stderr",
     "output_type": "stream",
     "text": [
      "100%|██████████| 26554/26554 [00:00<00:00, 242949.96it/s]\n"
     ]
    },
    {
     "name": "stdout",
     "output_type": "stream",
     "text": [
      "proposed endpoints: \n",
      "[(104882, 104419, 20465), (98255, 97522, 21044), (106899, 111656, 20738), (106630, 109679, 20734)]\n",
      "[[ 8273.97316892 16729.31469009   665.3495322   2212.74942097]\n",
      " [11144.90735717    49.13247399 16804.10610535 15040.58097282]]\n"
     ]
    },
    {
     "name": "stderr",
     "output_type": "stream",
     "text": [
      "08/09/2022 03:29:26 PM WARNING: face_normals incorrect shape, ignoring! \n"
     ]
    },
    {
     "name": "stdout",
     "output_type": "stream",
     "text": [
      "Warning: deduplication not currently supported for this layer's variable layered draco meshes\n"
     ]
    },
    {
     "name": "stderr",
     "output_type": "stream",
     "text": [
      "100%|██████████| 12546/12546 [00:00<00:00, 349284.05it/s]\n"
     ]
    },
    {
     "name": "stdout",
     "output_type": "stream",
     "text": [
      "<class 'trimesh.base.Trimesh'>\n",
      "\n",
      "<trimesh.Trimesh(vertices.shape=(12646, 3), faces.shape=(25113, 3))>\n"
     ]
    },
    {
     "name": "stderr",
     "output_type": "stream",
     "text": [
      "100%|██████████| 26554/26554 [00:00<00:00, 341768.59it/s]\n"
     ]
    },
    {
     "name": "stdout",
     "output_type": "stream",
     "text": [
      "proposed endpoints: \n",
      "[(104882, 104419, 20465), (98255, 97522, 21044), (106899, 111656, 20738), (106630, 109679, 20734)]\n",
      "[[ 8273.97316892 16729.31469009   665.3495322   2212.74942097]\n",
      " [11144.90735717    49.13247399 16804.10610535 15040.58097282]]\n"
     ]
    },
    {
     "name": "stderr",
     "output_type": "stream",
     "text": [
      "08/09/2022 03:29:32 PM WARNING: face_normals incorrect shape, ignoring! \n"
     ]
    },
    {
     "name": "stdout",
     "output_type": "stream",
     "text": [
      "Warning: deduplication not currently supported for this layer's variable layered draco meshes\n"
     ]
    },
    {
     "name": "stderr",
     "output_type": "stream",
     "text": [
      "100%|██████████| 13989/13989 [00:00<00:00, 289711.54it/s]\n"
     ]
    },
    {
     "name": "stdout",
     "output_type": "stream",
     "text": [
      "<class 'trimesh.base.Trimesh'>\n",
      "\n",
      "<trimesh.Trimesh(vertices.shape=(14100, 3), faces.shape=(27998, 3))>\n"
     ]
    },
    {
     "name": "stderr",
     "output_type": "stream",
     "text": [
      "100%|██████████| 26554/26554 [00:00<00:00, 335391.74it/s]\n"
     ]
    },
    {
     "name": "stdout",
     "output_type": "stream",
     "text": [
      "proposed endpoints: \n",
      "[(104882, 104419, 20465), (98255, 97522, 21044), (106899, 111656, 20738), (106630, 109679, 20734)]\n",
      "[[ 8273.97316892 16729.31469009   665.3495322   2212.74942097]\n",
      " [11144.90735717    49.13247399 16804.10610535 15040.58097282]]\n"
     ]
    },
    {
     "name": "stderr",
     "output_type": "stream",
     "text": [
      "08/09/2022 03:29:54 PM WARNING: face_normals incorrect shape, ignoring! \n"
     ]
    },
    {
     "name": "stdout",
     "output_type": "stream",
     "text": [
      "Warning: deduplication not currently supported for this layer's variable layered draco meshes\n"
     ]
    },
    {
     "name": "stderr",
     "output_type": "stream",
     "text": [
      "100%|██████████| 15495/15495 [00:00<00:00, 332411.35it/s]\n"
     ]
    },
    {
     "name": "stdout",
     "output_type": "stream",
     "text": [
      "<class 'trimesh.base.Trimesh'>\n",
      "\n",
      "<trimesh.Trimesh(vertices.shape=(15555, 3), faces.shape=(31009, 3))>\n"
     ]
    },
    {
     "name": "stderr",
     "output_type": "stream",
     "text": [
      "100%|██████████| 26554/26554 [00:00<00:00, 353651.76it/s]\n"
     ]
    },
    {
     "name": "stdout",
     "output_type": "stream",
     "text": [
      "proposed endpoints: \n",
      "[(104882, 104419, 20465), (98255, 97522, 21044), (106899, 111656, 20738), (106630, 109679, 20734)]\n",
      "[[ 8273.97316892 16729.31469009   665.3495322   2212.74942097]\n",
      " [11144.90735717    49.13247399 16804.10610535 15040.58097282]]\n"
     ]
    },
    {
     "name": "stderr",
     "output_type": "stream",
     "text": [
      "08/09/2022 03:29:59 PM WARNING: face_normals incorrect shape, ignoring! \n"
     ]
    },
    {
     "name": "stdout",
     "output_type": "stream",
     "text": [
      "Warning: deduplication not currently supported for this layer's variable layered draco meshes\n"
     ]
    },
    {
     "name": "stderr",
     "output_type": "stream",
     "text": [
      "100%|██████████| 16943/16943 [00:00<00:00, 329694.93it/s]\n"
     ]
    },
    {
     "name": "stdout",
     "output_type": "stream",
     "text": [
      "<class 'trimesh.base.Trimesh'>\n",
      "\n",
      "<trimesh.Trimesh(vertices.shape=(17011, 3), faces.shape=(33905, 3))>\n"
     ]
    },
    {
     "name": "stderr",
     "output_type": "stream",
     "text": [
      "100%|██████████| 26554/26554 [00:00<00:00, 345176.08it/s]\n"
     ]
    },
    {
     "name": "stdout",
     "output_type": "stream",
     "text": [
      "proposed endpoints: \n",
      "[(104882, 104419, 20465), (98255, 97522, 21044), (106899, 111656, 20738), (106630, 109679, 20734)]\n",
      "[[ 8273.97316892 16729.31469009   665.3495322   2212.74942097]\n",
      " [11144.90735717    49.13247399 16804.10610535 15040.58097282]]\n"
     ]
    },
    {
     "name": "stderr",
     "output_type": "stream",
     "text": [
      "08/09/2022 03:30:05 PM WARNING: face_normals incorrect shape, ignoring! \n"
     ]
    },
    {
     "name": "stdout",
     "output_type": "stream",
     "text": [
      "Warning: deduplication not currently supported for this layer's variable layered draco meshes\n"
     ]
    },
    {
     "name": "stderr",
     "output_type": "stream",
     "text": [
      "100%|██████████| 18391/18391 [00:00<00:00, 319433.52it/s]\n"
     ]
    },
    {
     "name": "stdout",
     "output_type": "stream",
     "text": [
      "<class 'trimesh.base.Trimesh'>\n",
      "\n",
      "<trimesh.Trimesh(vertices.shape=(18465, 3), faces.shape=(36800, 3))>\n"
     ]
    },
    {
     "name": "stderr",
     "output_type": "stream",
     "text": [
      "100%|██████████| 26554/26554 [00:00<00:00, 329604.15it/s]\n"
     ]
    },
    {
     "name": "stdout",
     "output_type": "stream",
     "text": [
      "proposed endpoints: \n",
      "[(104882, 104419, 20465), (98255, 97522, 21044), (106899, 111656, 20738), (106630, 109679, 20734)]\n",
      "[[ 8273.97316892 16729.31469009   665.3495322   2212.74942097]\n",
      " [11144.90735717    49.13247399 16804.10610535 15040.58097282]]\n"
     ]
    },
    {
     "name": "stderr",
     "output_type": "stream",
     "text": [
      "08/09/2022 03:30:17 PM WARNING: face_normals incorrect shape, ignoring! \n"
     ]
    },
    {
     "name": "stdout",
     "output_type": "stream",
     "text": [
      "Warning: deduplication not currently supported for this layer's variable layered draco meshes\n"
     ]
    },
    {
     "name": "stderr",
     "output_type": "stream",
     "text": [
      "100%|██████████| 19843/19843 [00:00<00:00, 298112.25it/s]\n"
     ]
    },
    {
     "name": "stdout",
     "output_type": "stream",
     "text": [
      "<class 'trimesh.base.Trimesh'>\n",
      "\n",
      "<trimesh.Trimesh(vertices.shape=(19925, 3), faces.shape=(39704, 3))>\n"
     ]
    },
    {
     "name": "stderr",
     "output_type": "stream",
     "text": [
      "100%|██████████| 26554/26554 [00:00<00:00, 339952.41it/s]\n"
     ]
    },
    {
     "name": "stdout",
     "output_type": "stream",
     "text": [
      "proposed endpoints: \n",
      "[(104882, 104419, 20465), (98255, 97522, 21044), (106899, 111656, 20738), (106630, 109679, 20734)]\n",
      "[[ 8273.97316892 16729.31469009   665.3495322   2212.74942097]\n",
      " [11144.90735717    49.13247399 16804.10610535 15040.58097282]]\n"
     ]
    },
    {
     "name": "stderr",
     "output_type": "stream",
     "text": [
      "08/09/2022 03:30:23 PM WARNING: face_normals incorrect shape, ignoring! \n"
     ]
    },
    {
     "name": "stdout",
     "output_type": "stream",
     "text": [
      "Warning: deduplication not currently supported for this layer's variable layered draco meshes\n"
     ]
    },
    {
     "name": "stderr",
     "output_type": "stream",
     "text": [
      "100%|██████████| 21285/21285 [00:00<00:00, 268072.84it/s]\n"
     ]
    },
    {
     "name": "stdout",
     "output_type": "stream",
     "text": [
      "<class 'trimesh.base.Trimesh'>\n",
      "\n",
      "<trimesh.Trimesh(vertices.shape=(21382, 3), faces.shape=(42587, 3))>\n"
     ]
    },
    {
     "name": "stderr",
     "output_type": "stream",
     "text": [
      "100%|██████████| 26554/26554 [00:00<00:00, 326100.02it/s]\n"
     ]
    },
    {
     "name": "stdout",
     "output_type": "stream",
     "text": [
      "proposed endpoints: \n",
      "[(104882, 104419, 20465), (98255, 97522, 21044), (106899, 111656, 20738), (106630, 109679, 20734)]\n",
      "[[ 8273.97316892 16729.31469009   665.3495322   2212.74942097]\n",
      " [11144.90735717    49.13247399 16804.10610535 15040.58097282]]\n"
     ]
    },
    {
     "name": "stderr",
     "output_type": "stream",
     "text": [
      "08/09/2022 03:30:28 PM WARNING: face_normals incorrect shape, ignoring! \n"
     ]
    },
    {
     "name": "stdout",
     "output_type": "stream",
     "text": [
      "Warning: deduplication not currently supported for this layer's variable layered draco meshes\n"
     ]
    },
    {
     "name": "stderr",
     "output_type": "stream",
     "text": [
      "100%|██████████| 8213/8213 [00:00<00:00, 367981.14it/s]\n"
     ]
    },
    {
     "name": "stdout",
     "output_type": "stream",
     "text": [
      "<class 'trimesh.base.Trimesh'>\n",
      "\n",
      "<trimesh.Trimesh(vertices.shape=(8280, 3), faces.shape=(16442, 3))>\n"
     ]
    },
    {
     "name": "stderr",
     "output_type": "stream",
     "text": [
      "100%|██████████| 26554/26554 [00:00<00:00, 310838.33it/s]\n"
     ]
    },
    {
     "name": "stdout",
     "output_type": "stream",
     "text": [
      "proposed endpoints: \n",
      "[(104882, 104419, 20465), (98255, 97522, 21044), (106899, 111656, 20738), (106630, 109679, 20734)]\n",
      "[[ 8273.97316892 16729.31469009   665.3495322   2212.74942097]\n",
      " [11144.90735717    49.13247399 16804.10610535 15040.58097282]]\n"
     ]
    },
    {
     "name": "stderr",
     "output_type": "stream",
     "text": [
      "08/09/2022 03:30:34 PM WARNING: face_normals incorrect shape, ignoring! \n"
     ]
    },
    {
     "name": "stdout",
     "output_type": "stream",
     "text": [
      "Warning: deduplication not currently supported for this layer's variable layered draco meshes\n"
     ]
    },
    {
     "name": "stderr",
     "output_type": "stream",
     "text": [
      "100%|██████████| 9656/9656 [00:00<00:00, 296288.00it/s]\n"
     ]
    },
    {
     "name": "stdout",
     "output_type": "stream",
     "text": [
      "<class 'trimesh.base.Trimesh'>\n",
      "\n",
      "<trimesh.Trimesh(vertices.shape=(9735, 3), faces.shape=(19330, 3))>\n"
     ]
    },
    {
     "name": "stderr",
     "output_type": "stream",
     "text": [
      "100%|██████████| 26554/26554 [00:00<00:00, 344744.43it/s]\n"
     ]
    },
    {
     "name": "stdout",
     "output_type": "stream",
     "text": [
      "proposed endpoints: \n",
      "[(104882, 104419, 20465), (98255, 97522, 21044), (106899, 111656, 20738), (106630, 109679, 20734)]\n",
      "[[ 8273.97316892 16729.31469009   665.3495322   2212.74942097]\n",
      " [11144.90735717    49.13247399 16804.10610535 15040.58097282]]\n"
     ]
    },
    {
     "name": "stderr",
     "output_type": "stream",
     "text": [
      "08/09/2022 03:30:39 PM WARNING: face_normals incorrect shape, ignoring! \n"
     ]
    },
    {
     "name": "stdout",
     "output_type": "stream",
     "text": [
      "Warning: deduplication not currently supported for this layer's variable layered draco meshes\n"
     ]
    },
    {
     "name": "stderr",
     "output_type": "stream",
     "text": [
      "100%|██████████| 11104/11104 [00:00<00:00, 386428.74it/s]\n"
     ]
    },
    {
     "name": "stdout",
     "output_type": "stream",
     "text": [
      "<class 'trimesh.base.Trimesh'>\n",
      "\n",
      "<trimesh.Trimesh(vertices.shape=(11192, 3), faces.shape=(22230, 3))>\n"
     ]
    },
    {
     "name": "stderr",
     "output_type": "stream",
     "text": [
      "100%|██████████| 26554/26554 [00:00<00:00, 351127.54it/s]\n"
     ]
    },
    {
     "name": "stdout",
     "output_type": "stream",
     "text": [
      "proposed endpoints: \n",
      "[(104882, 104419, 20465), (98255, 97522, 21044), (106899, 111656, 20738), (106630, 109679, 20734)]\n",
      "[[ 8273.97316892 16729.31469009   665.3495322   2212.74942097]\n",
      " [11144.90735717    49.13247399 16804.10610535 15040.58097282]]\n"
     ]
    },
    {
     "name": "stderr",
     "output_type": "stream",
     "text": [
      "08/09/2022 03:30:43 PM WARNING: face_normals incorrect shape, ignoring! \n"
     ]
    },
    {
     "name": "stdout",
     "output_type": "stream",
     "text": [
      "Warning: deduplication not currently supported for this layer's variable layered draco meshes\n"
     ]
    },
    {
     "name": "stderr",
     "output_type": "stream",
     "text": [
      "100%|██████████| 12546/12546 [00:00<00:00, 354307.42it/s]\n"
     ]
    },
    {
     "name": "stdout",
     "output_type": "stream",
     "text": [
      "<class 'trimesh.base.Trimesh'>\n",
      "\n",
      "<trimesh.Trimesh(vertices.shape=(12646, 3), faces.shape=(25113, 3))>\n"
     ]
    },
    {
     "name": "stderr",
     "output_type": "stream",
     "text": [
      "100%|██████████| 26554/26554 [00:00<00:00, 356841.38it/s]\n"
     ]
    },
    {
     "name": "stdout",
     "output_type": "stream",
     "text": [
      "proposed endpoints: \n",
      "[(104882, 104419, 20465), (98255, 97522, 21044), (106899, 111656, 20738), (106630, 109679, 20734)]\n",
      "[[ 8273.97316892 16729.31469009   665.3495322   2212.74942097]\n",
      " [11144.90735717    49.13247399 16804.10610535 15040.58097282]]\n"
     ]
    },
    {
     "name": "stderr",
     "output_type": "stream",
     "text": [
      "08/09/2022 03:30:47 PM WARNING: face_normals incorrect shape, ignoring! \n"
     ]
    },
    {
     "name": "stdout",
     "output_type": "stream",
     "text": [
      "Warning: deduplication not currently supported for this layer's variable layered draco meshes\n"
     ]
    },
    {
     "name": "stderr",
     "output_type": "stream",
     "text": [
      "100%|██████████| 13989/13989 [00:00<00:00, 315272.58it/s]\n"
     ]
    },
    {
     "name": "stdout",
     "output_type": "stream",
     "text": [
      "<class 'trimesh.base.Trimesh'>\n",
      "\n",
      "<trimesh.Trimesh(vertices.shape=(14100, 3), faces.shape=(27998, 3))>\n"
     ]
    },
    {
     "name": "stderr",
     "output_type": "stream",
     "text": [
      "100%|██████████| 26554/26554 [00:00<00:00, 354861.94it/s]\n"
     ]
    },
    {
     "name": "stdout",
     "output_type": "stream",
     "text": [
      "proposed endpoints: \n",
      "[(104882, 104419, 20465), (98255, 97522, 21044), (106899, 111656, 20738), (106630, 109679, 20734)]\n",
      "[[ 8273.97316892 16729.31469009   665.3495322   2212.74942097]\n",
      " [11144.90735717    49.13247399 16804.10610535 15040.58097282]]\n"
     ]
    },
    {
     "name": "stderr",
     "output_type": "stream",
     "text": [
      "08/09/2022 03:30:52 PM WARNING: face_normals incorrect shape, ignoring! \n"
     ]
    },
    {
     "name": "stdout",
     "output_type": "stream",
     "text": [
      "Warning: deduplication not currently supported for this layer's variable layered draco meshes\n"
     ]
    },
    {
     "name": "stderr",
     "output_type": "stream",
     "text": [
      "100%|██████████| 15495/15495 [00:00<00:00, 376402.24it/s]\n"
     ]
    },
    {
     "name": "stdout",
     "output_type": "stream",
     "text": [
      "<class 'trimesh.base.Trimesh'>\n",
      "\n",
      "<trimesh.Trimesh(vertices.shape=(15555, 3), faces.shape=(31009, 3))>\n"
     ]
    },
    {
     "name": "stderr",
     "output_type": "stream",
     "text": [
      "100%|██████████| 26554/26554 [00:00<00:00, 349174.68it/s]\n"
     ]
    },
    {
     "name": "stdout",
     "output_type": "stream",
     "text": [
      "proposed endpoints: \n",
      "[(104882, 104419, 20465), (98255, 97522, 21044), (106899, 111656, 20738), (106630, 109679, 20734)]\n",
      "[[ 8273.97316892 16729.31469009   665.3495322   2212.74942097]\n",
      " [11144.90735717    49.13247399 16804.10610535 15040.58097282]]\n"
     ]
    },
    {
     "name": "stderr",
     "output_type": "stream",
     "text": [
      "08/09/2022 03:30:56 PM WARNING: face_normals incorrect shape, ignoring! \n"
     ]
    },
    {
     "name": "stdout",
     "output_type": "stream",
     "text": [
      "Warning: deduplication not currently supported for this layer's variable layered draco meshes\n"
     ]
    },
    {
     "name": "stderr",
     "output_type": "stream",
     "text": [
      "100%|██████████| 16943/16943 [00:00<00:00, 366627.25it/s]\n"
     ]
    },
    {
     "name": "stdout",
     "output_type": "stream",
     "text": [
      "<class 'trimesh.base.Trimesh'>\n",
      "\n",
      "<trimesh.Trimesh(vertices.shape=(17011, 3), faces.shape=(33905, 3))>\n"
     ]
    },
    {
     "name": "stderr",
     "output_type": "stream",
     "text": [
      "100%|██████████| 26554/26554 [00:00<00:00, 353592.25it/s]\n"
     ]
    },
    {
     "name": "stdout",
     "output_type": "stream",
     "text": [
      "proposed endpoints: \n",
      "[(104882, 104419, 20465), (98255, 97522, 21044), (106899, 111656, 20738), (106630, 109679, 20734)]\n",
      "[[ 8273.97316892 16729.31469009   665.3495322   2212.74942097]\n",
      " [11144.90735717    49.13247399 16804.10610535 15040.58097282]]\n"
     ]
    },
    {
     "name": "stderr",
     "output_type": "stream",
     "text": [
      "08/09/2022 03:31:00 PM WARNING: face_normals incorrect shape, ignoring! \n"
     ]
    },
    {
     "name": "stdout",
     "output_type": "stream",
     "text": [
      "Warning: deduplication not currently supported for this layer's variable layered draco meshes\n"
     ]
    },
    {
     "name": "stderr",
     "output_type": "stream",
     "text": [
      "100%|██████████| 18391/18391 [00:00<00:00, 344297.50it/s]\n"
     ]
    },
    {
     "name": "stdout",
     "output_type": "stream",
     "text": [
      "<class 'trimesh.base.Trimesh'>\n",
      "\n",
      "<trimesh.Trimesh(vertices.shape=(18465, 3), faces.shape=(36800, 3))>\n"
     ]
    },
    {
     "name": "stderr",
     "output_type": "stream",
     "text": [
      "100%|██████████| 26554/26554 [00:00<00:00, 336143.84it/s]\n"
     ]
    },
    {
     "name": "stdout",
     "output_type": "stream",
     "text": [
      "proposed endpoints: \n",
      "[(104882, 104419, 20465), (98255, 97522, 21044), (106899, 111656, 20738), (106630, 109679, 20734)]\n",
      "[[ 8273.97316892 16729.31469009   665.3495322   2212.74942097]\n",
      " [11144.90735717    49.13247399 16804.10610535 15040.58097282]]\n"
     ]
    },
    {
     "name": "stderr",
     "output_type": "stream",
     "text": [
      "08/09/2022 03:31:04 PM WARNING: face_normals incorrect shape, ignoring! \n"
     ]
    },
    {
     "name": "stdout",
     "output_type": "stream",
     "text": [
      "Warning: deduplication not currently supported for this layer's variable layered draco meshes\n"
     ]
    },
    {
     "name": "stderr",
     "output_type": "stream",
     "text": [
      "100%|██████████| 19843/19843 [00:00<00:00, 249773.64it/s]\n"
     ]
    },
    {
     "name": "stdout",
     "output_type": "stream",
     "text": [
      "<class 'trimesh.base.Trimesh'>\n",
      "\n",
      "<trimesh.Trimesh(vertices.shape=(19925, 3), faces.shape=(39704, 3))>\n"
     ]
    },
    {
     "name": "stderr",
     "output_type": "stream",
     "text": [
      "100%|██████████| 26554/26554 [00:00<00:00, 329229.03it/s]\n"
     ]
    },
    {
     "name": "stdout",
     "output_type": "stream",
     "text": [
      "proposed endpoints: \n",
      "[(104882, 104419, 20465), (98255, 97522, 21044), (106899, 111656, 20738), (106630, 109679, 20734)]\n",
      "[[ 8273.97316892 16729.31469009   665.3495322   2212.74942097]\n",
      " [11144.90735717    49.13247399 16804.10610535 15040.58097282]]\n"
     ]
    },
    {
     "name": "stderr",
     "output_type": "stream",
     "text": [
      "08/09/2022 03:31:09 PM WARNING: face_normals incorrect shape, ignoring! \n"
     ]
    },
    {
     "name": "stdout",
     "output_type": "stream",
     "text": [
      "Warning: deduplication not currently supported for this layer's variable layered draco meshes\n"
     ]
    },
    {
     "name": "stderr",
     "output_type": "stream",
     "text": [
      "100%|██████████| 21285/21285 [00:00<00:00, 308828.25it/s]\n"
     ]
    },
    {
     "name": "stdout",
     "output_type": "stream",
     "text": [
      "<class 'trimesh.base.Trimesh'>\n",
      "\n",
      "<trimesh.Trimesh(vertices.shape=(21382, 3), faces.shape=(42587, 3))>\n"
     ]
    },
    {
     "name": "stderr",
     "output_type": "stream",
     "text": [
      "100%|██████████| 26554/26554 [00:00<00:00, 328898.48it/s]\n"
     ]
    },
    {
     "name": "stdout",
     "output_type": "stream",
     "text": [
      "proposed endpoints: \n",
      "[(104882, 104419, 20465), (98255, 97522, 21044), (106899, 111656, 20738), (106630, 109679, 20734)]\n",
      "[[ 8273.97316892 16729.31469009   665.3495322   2212.74942097]\n",
      " [11144.90735717    49.13247399 16804.10610535 15040.58097282]]\n"
     ]
    },
    {
     "name": "stderr",
     "output_type": "stream",
     "text": [
      "08/09/2022 03:31:14 PM WARNING: face_normals incorrect shape, ignoring! \n"
     ]
    },
    {
     "name": "stdout",
     "output_type": "stream",
     "text": [
      "Warning: deduplication not currently supported for this layer's variable layered draco meshes\n"
     ]
    },
    {
     "name": "stderr",
     "output_type": "stream",
     "text": [
      "100%|██████████| 8213/8213 [00:00<00:00, 358502.82it/s]\n"
     ]
    },
    {
     "name": "stdout",
     "output_type": "stream",
     "text": [
      "<class 'trimesh.base.Trimesh'>\n",
      "\n",
      "<trimesh.Trimesh(vertices.shape=(8280, 3), faces.shape=(16442, 3))>\n"
     ]
    },
    {
     "name": "stderr",
     "output_type": "stream",
     "text": [
      "100%|██████████| 26554/26554 [00:00<00:00, 313076.92it/s]\n"
     ]
    },
    {
     "name": "stdout",
     "output_type": "stream",
     "text": [
      "proposed endpoints: \n",
      "[(104882, 104419, 20465), (98255, 97522, 21044), (106899, 111656, 20738), (106630, 109679, 20734)]\n",
      "[[ 8273.97316892 16729.31469009   665.3495322   2212.74942097]\n",
      " [11144.90735717    49.13247399 16804.10610535 15040.58097282]]\n"
     ]
    },
    {
     "name": "stderr",
     "output_type": "stream",
     "text": [
      "08/09/2022 03:31:19 PM WARNING: face_normals incorrect shape, ignoring! \n"
     ]
    },
    {
     "name": "stdout",
     "output_type": "stream",
     "text": [
      "Warning: deduplication not currently supported for this layer's variable layered draco meshes\n"
     ]
    },
    {
     "name": "stderr",
     "output_type": "stream",
     "text": [
      "100%|██████████| 9656/9656 [00:00<00:00, 364679.39it/s]\n"
     ]
    },
    {
     "name": "stdout",
     "output_type": "stream",
     "text": [
      "<class 'trimesh.base.Trimesh'>\n",
      "\n",
      "<trimesh.Trimesh(vertices.shape=(9735, 3), faces.shape=(19330, 3))>\n"
     ]
    },
    {
     "name": "stderr",
     "output_type": "stream",
     "text": [
      "100%|██████████| 26554/26554 [00:00<00:00, 346907.05it/s]\n"
     ]
    },
    {
     "name": "stdout",
     "output_type": "stream",
     "text": [
      "proposed endpoints: \n",
      "[(104882, 104419, 20465), (98255, 97522, 21044), (106899, 111656, 20738), (106630, 109679, 20734)]\n",
      "[[ 8273.97316892 16729.31469009   665.3495322   2212.74942097]\n",
      " [11144.90735717    49.13247399 16804.10610535 15040.58097282]]\n"
     ]
    },
    {
     "name": "stderr",
     "output_type": "stream",
     "text": [
      "08/09/2022 03:31:23 PM WARNING: face_normals incorrect shape, ignoring! \n"
     ]
    },
    {
     "name": "stdout",
     "output_type": "stream",
     "text": [
      "Warning: deduplication not currently supported for this layer's variable layered draco meshes\n"
     ]
    },
    {
     "name": "stderr",
     "output_type": "stream",
     "text": [
      "100%|██████████| 11104/11104 [00:00<00:00, 360005.50it/s]\n"
     ]
    },
    {
     "name": "stdout",
     "output_type": "stream",
     "text": [
      "<class 'trimesh.base.Trimesh'>\n",
      "\n",
      "<trimesh.Trimesh(vertices.shape=(11192, 3), faces.shape=(22230, 3))>\n"
     ]
    },
    {
     "name": "stderr",
     "output_type": "stream",
     "text": [
      "100%|██████████| 26554/26554 [00:00<00:00, 352264.76it/s]\n"
     ]
    },
    {
     "name": "stdout",
     "output_type": "stream",
     "text": [
      "proposed endpoints: \n",
      "[(104882, 104419, 20465), (98255, 97522, 21044), (106899, 111656, 20738), (106630, 109679, 20734)]\n",
      "[[ 8273.97316892 16729.31469009   665.3495322   2212.74942097]\n",
      " [11144.90735717    49.13247399 16804.10610535 15040.58097282]]\n"
     ]
    },
    {
     "name": "stderr",
     "output_type": "stream",
     "text": [
      "08/09/2022 03:31:27 PM WARNING: face_normals incorrect shape, ignoring! \n"
     ]
    },
    {
     "name": "stdout",
     "output_type": "stream",
     "text": [
      "Warning: deduplication not currently supported for this layer's variable layered draco meshes\n"
     ]
    },
    {
     "name": "stderr",
     "output_type": "stream",
     "text": [
      "100%|██████████| 12546/12546 [00:00<00:00, 374889.49it/s]\n"
     ]
    },
    {
     "name": "stdout",
     "output_type": "stream",
     "text": [
      "<class 'trimesh.base.Trimesh'>\n",
      "\n",
      "<trimesh.Trimesh(vertices.shape=(12646, 3), faces.shape=(25113, 3))>\n"
     ]
    },
    {
     "name": "stderr",
     "output_type": "stream",
     "text": [
      "100%|██████████| 26554/26554 [00:00<00:00, 390194.47it/s]\n"
     ]
    },
    {
     "name": "stdout",
     "output_type": "stream",
     "text": [
      "proposed endpoints: \n",
      "[(104882, 104419, 20465), (98255, 97522, 21044), (106899, 111656, 20738), (106630, 109679, 20734)]\n",
      "[[ 8273.97316892 16729.31469009   665.3495322   2212.74942097]\n",
      " [11144.90735717    49.13247399 16804.10610535 15040.58097282]]\n"
     ]
    },
    {
     "name": "stderr",
     "output_type": "stream",
     "text": [
      "08/09/2022 03:31:31 PM WARNING: face_normals incorrect shape, ignoring! \n"
     ]
    },
    {
     "name": "stdout",
     "output_type": "stream",
     "text": [
      "Warning: deduplication not currently supported for this layer's variable layered draco meshes\n"
     ]
    },
    {
     "name": "stderr",
     "output_type": "stream",
     "text": [
      "100%|██████████| 13989/13989 [00:00<00:00, 286996.40it/s]\n"
     ]
    },
    {
     "name": "stdout",
     "output_type": "stream",
     "text": [
      "<class 'trimesh.base.Trimesh'>\n",
      "\n",
      "<trimesh.Trimesh(vertices.shape=(14100, 3), faces.shape=(27998, 3))>\n"
     ]
    },
    {
     "name": "stderr",
     "output_type": "stream",
     "text": [
      "100%|██████████| 26554/26554 [00:00<00:00, 368933.69it/s]\n"
     ]
    },
    {
     "name": "stdout",
     "output_type": "stream",
     "text": [
      "proposed endpoints: \n",
      "[(104882, 104419, 20465), (98255, 97522, 21044), (106899, 111656, 20738), (106630, 109679, 20734)]\n",
      "[[ 8273.97316892 16729.31469009   665.3495322   2212.74942097]\n",
      " [11144.90735717    49.13247399 16804.10610535 15040.58097282]]\n"
     ]
    },
    {
     "name": "stderr",
     "output_type": "stream",
     "text": [
      "08/09/2022 03:31:35 PM WARNING: face_normals incorrect shape, ignoring! \n"
     ]
    },
    {
     "name": "stdout",
     "output_type": "stream",
     "text": [
      "Warning: deduplication not currently supported for this layer's variable layered draco meshes\n"
     ]
    },
    {
     "name": "stderr",
     "output_type": "stream",
     "text": [
      "100%|██████████| 15495/15495 [00:00<00:00, 352792.56it/s]\n"
     ]
    },
    {
     "name": "stdout",
     "output_type": "stream",
     "text": [
      "<class 'trimesh.base.Trimesh'>\n",
      "\n",
      "<trimesh.Trimesh(vertices.shape=(15555, 3), faces.shape=(31009, 3))>\n"
     ]
    },
    {
     "name": "stderr",
     "output_type": "stream",
     "text": [
      "100%|██████████| 26554/26554 [00:00<00:00, 403230.71it/s]\n"
     ]
    },
    {
     "name": "stdout",
     "output_type": "stream",
     "text": [
      "proposed endpoints: \n",
      "[(104882, 104419, 20465), (98255, 97522, 21044), (106899, 111656, 20738), (106630, 109679, 20734)]\n",
      "[[ 8273.97316892 16729.31469009   665.3495322   2212.74942097]\n",
      " [11144.90735717    49.13247399 16804.10610535 15040.58097282]]\n"
     ]
    },
    {
     "name": "stderr",
     "output_type": "stream",
     "text": [
      "08/09/2022 03:31:40 PM WARNING: face_normals incorrect shape, ignoring! \n"
     ]
    },
    {
     "name": "stdout",
     "output_type": "stream",
     "text": [
      "Warning: deduplication not currently supported for this layer's variable layered draco meshes\n"
     ]
    },
    {
     "name": "stderr",
     "output_type": "stream",
     "text": [
      "100%|██████████| 16943/16943 [00:00<00:00, 352046.43it/s]\n"
     ]
    },
    {
     "name": "stdout",
     "output_type": "stream",
     "text": [
      "<class 'trimesh.base.Trimesh'>\n",
      "\n",
      "<trimesh.Trimesh(vertices.shape=(17011, 3), faces.shape=(33905, 3))>\n"
     ]
    },
    {
     "name": "stderr",
     "output_type": "stream",
     "text": [
      "100%|██████████| 26554/26554 [00:00<00:00, 359192.54it/s]\n"
     ]
    },
    {
     "name": "stdout",
     "output_type": "stream",
     "text": [
      "proposed endpoints: \n",
      "[(104882, 104419, 20465), (98255, 97522, 21044), (106899, 111656, 20738), (106630, 109679, 20734)]\n",
      "[[ 8273.97316892 16729.31469009   665.3495322   2212.74942097]\n",
      " [11144.90735717    49.13247399 16804.10610535 15040.58097282]]\n"
     ]
    },
    {
     "name": "stderr",
     "output_type": "stream",
     "text": [
      "08/09/2022 03:31:44 PM WARNING: face_normals incorrect shape, ignoring! \n"
     ]
    },
    {
     "name": "stdout",
     "output_type": "stream",
     "text": [
      "Warning: deduplication not currently supported for this layer's variable layered draco meshes\n"
     ]
    },
    {
     "name": "stderr",
     "output_type": "stream",
     "text": [
      "100%|██████████| 18391/18391 [00:00<00:00, 353041.48it/s]\n"
     ]
    },
    {
     "name": "stdout",
     "output_type": "stream",
     "text": [
      "<class 'trimesh.base.Trimesh'>\n",
      "\n",
      "<trimesh.Trimesh(vertices.shape=(18465, 3), faces.shape=(36800, 3))>\n"
     ]
    },
    {
     "name": "stderr",
     "output_type": "stream",
     "text": [
      "100%|██████████| 26554/26554 [00:00<00:00, 384523.00it/s]\n"
     ]
    },
    {
     "name": "stdout",
     "output_type": "stream",
     "text": [
      "proposed endpoints: \n",
      "[(104882, 104419, 20465), (98255, 97522, 21044), (106899, 111656, 20738), (106630, 109679, 20734)]\n",
      "[[ 8273.97316892 16729.31469009   665.3495322   2212.74942097]\n",
      " [11144.90735717    49.13247399 16804.10610535 15040.58097282]]\n"
     ]
    },
    {
     "name": "stderr",
     "output_type": "stream",
     "text": [
      "08/09/2022 03:31:48 PM WARNING: face_normals incorrect shape, ignoring! \n"
     ]
    },
    {
     "name": "stdout",
     "output_type": "stream",
     "text": [
      "Warning: deduplication not currently supported for this layer's variable layered draco meshes\n"
     ]
    },
    {
     "name": "stderr",
     "output_type": "stream",
     "text": [
      "100%|██████████| 19843/19843 [00:00<00:00, 293497.15it/s]\n"
     ]
    },
    {
     "name": "stdout",
     "output_type": "stream",
     "text": [
      "<class 'trimesh.base.Trimesh'>\n",
      "\n",
      "<trimesh.Trimesh(vertices.shape=(19925, 3), faces.shape=(39704, 3))>\n"
     ]
    },
    {
     "name": "stderr",
     "output_type": "stream",
     "text": [
      "100%|██████████| 26554/26554 [00:00<00:00, 409807.92it/s]\n"
     ]
    },
    {
     "name": "stdout",
     "output_type": "stream",
     "text": [
      "proposed endpoints: \n",
      "[(104882, 104419, 20465), (98255, 97522, 21044), (106899, 111656, 20738), (106630, 109679, 20734)]\n",
      "[[ 8273.97316892 16729.31469009   665.3495322   2212.74942097]\n",
      " [11144.90735717    49.13247399 16804.10610535 15040.58097282]]\n"
     ]
    },
    {
     "name": "stderr",
     "output_type": "stream",
     "text": [
      "08/09/2022 03:31:53 PM WARNING: face_normals incorrect shape, ignoring! \n"
     ]
    },
    {
     "name": "stdout",
     "output_type": "stream",
     "text": [
      "Warning: deduplication not currently supported for this layer's variable layered draco meshes\n"
     ]
    },
    {
     "name": "stderr",
     "output_type": "stream",
     "text": [
      "100%|██████████| 21285/21285 [00:00<00:00, 323628.23it/s]\n"
     ]
    },
    {
     "name": "stdout",
     "output_type": "stream",
     "text": [
      "<class 'trimesh.base.Trimesh'>\n",
      "\n",
      "<trimesh.Trimesh(vertices.shape=(21382, 3), faces.shape=(42587, 3))>\n"
     ]
    },
    {
     "name": "stderr",
     "output_type": "stream",
     "text": [
      "100%|██████████| 26554/26554 [00:00<00:00, 380517.43it/s]\n"
     ]
    },
    {
     "name": "stdout",
     "output_type": "stream",
     "text": [
      "proposed endpoints: \n",
      "[(104882, 104419, 20465), (98255, 97522, 21044), (106899, 111656, 20738), (106630, 109679, 20734)]\n",
      "[[ 8273.97316892 16729.31469009   665.3495322   2212.74942097]\n",
      " [11144.90735717    49.13247399 16804.10610535 15040.58097282]]\n"
     ]
    },
    {
     "name": "stderr",
     "output_type": "stream",
     "text": [
      "08/09/2022 03:31:57 PM WARNING: face_normals incorrect shape, ignoring! \n"
     ]
    },
    {
     "name": "stdout",
     "output_type": "stream",
     "text": [
      "Warning: deduplication not currently supported for this layer's variable layered draco meshes\n"
     ]
    },
    {
     "name": "stderr",
     "output_type": "stream",
     "text": [
      "100%|██████████| 8213/8213 [00:00<00:00, 292163.41it/s]\n"
     ]
    },
    {
     "name": "stdout",
     "output_type": "stream",
     "text": [
      "<class 'trimesh.base.Trimesh'>\n",
      "\n",
      "<trimesh.Trimesh(vertices.shape=(8280, 3), faces.shape=(16442, 3))>\n"
     ]
    },
    {
     "name": "stderr",
     "output_type": "stream",
     "text": [
      "100%|██████████| 26554/26554 [00:00<00:00, 396193.53it/s]\n"
     ]
    },
    {
     "name": "stdout",
     "output_type": "stream",
     "text": [
      "proposed endpoints: \n",
      "[(104882, 104419, 20465), (98255, 97522, 21044), (106899, 111656, 20738), (106630, 109679, 20734)]\n",
      "[[ 8273.97316892 16729.31469009   665.3495322   2212.74942097]\n",
      " [11144.90735717    49.13247399 16804.10610535 15040.58097282]]\n"
     ]
    },
    {
     "name": "stderr",
     "output_type": "stream",
     "text": [
      "08/09/2022 03:32:02 PM WARNING: face_normals incorrect shape, ignoring! \n"
     ]
    },
    {
     "name": "stdout",
     "output_type": "stream",
     "text": [
      "Warning: deduplication not currently supported for this layer's variable layered draco meshes\n"
     ]
    },
    {
     "name": "stderr",
     "output_type": "stream",
     "text": [
      "100%|██████████| 9656/9656 [00:00<00:00, 337800.05it/s]\n"
     ]
    },
    {
     "name": "stdout",
     "output_type": "stream",
     "text": [
      "<class 'trimesh.base.Trimesh'>\n",
      "\n",
      "<trimesh.Trimesh(vertices.shape=(9735, 3), faces.shape=(19330, 3))>\n"
     ]
    },
    {
     "name": "stderr",
     "output_type": "stream",
     "text": [
      "100%|██████████| 26554/26554 [00:00<00:00, 358237.08it/s]\n"
     ]
    },
    {
     "name": "stdout",
     "output_type": "stream",
     "text": [
      "proposed endpoints: \n",
      "[(104882, 104419, 20465), (98255, 97522, 21044), (106899, 111656, 20738), (106630, 109679, 20734)]\n",
      "[[ 8273.97316892 16729.31469009   665.3495322   2212.74942097]\n",
      " [11144.90735717    49.13247399 16804.10610535 15040.58097282]]\n"
     ]
    },
    {
     "name": "stderr",
     "output_type": "stream",
     "text": [
      "08/09/2022 03:32:06 PM WARNING: face_normals incorrect shape, ignoring! \n"
     ]
    },
    {
     "name": "stdout",
     "output_type": "stream",
     "text": [
      "Warning: deduplication not currently supported for this layer's variable layered draco meshes\n"
     ]
    },
    {
     "name": "stderr",
     "output_type": "stream",
     "text": [
      "100%|██████████| 11104/11104 [00:00<00:00, 394356.91it/s]\n"
     ]
    },
    {
     "name": "stdout",
     "output_type": "stream",
     "text": [
      "<class 'trimesh.base.Trimesh'>\n",
      "\n",
      "<trimesh.Trimesh(vertices.shape=(11192, 3), faces.shape=(22230, 3))>\n"
     ]
    },
    {
     "name": "stderr",
     "output_type": "stream",
     "text": [
      "100%|██████████| 26554/26554 [00:00<00:00, 390668.03it/s]\n"
     ]
    },
    {
     "name": "stdout",
     "output_type": "stream",
     "text": [
      "proposed endpoints: \n",
      "[(104882, 104419, 20465), (98255, 97522, 21044), (106899, 111656, 20738), (106630, 109679, 20734)]\n",
      "[[ 8273.97316892 16729.31469009   665.3495322   2212.74942097]\n",
      " [11144.90735717    49.13247399 16804.10610535 15040.58097282]]\n"
     ]
    },
    {
     "name": "stderr",
     "output_type": "stream",
     "text": [
      "08/09/2022 03:32:11 PM WARNING: face_normals incorrect shape, ignoring! \n"
     ]
    },
    {
     "name": "stdout",
     "output_type": "stream",
     "text": [
      "Warning: deduplication not currently supported for this layer's variable layered draco meshes\n"
     ]
    },
    {
     "name": "stderr",
     "output_type": "stream",
     "text": [
      "100%|██████████| 12546/12546 [00:00<00:00, 309991.86it/s]\n"
     ]
    },
    {
     "name": "stdout",
     "output_type": "stream",
     "text": [
      "<class 'trimesh.base.Trimesh'>\n",
      "\n",
      "<trimesh.Trimesh(vertices.shape=(12646, 3), faces.shape=(25113, 3))>\n"
     ]
    },
    {
     "name": "stderr",
     "output_type": "stream",
     "text": [
      "100%|██████████| 26554/26554 [00:00<00:00, 380260.19it/s]\n"
     ]
    },
    {
     "name": "stdout",
     "output_type": "stream",
     "text": [
      "proposed endpoints: \n",
      "[(104882, 104419, 20465), (98255, 97522, 21044), (106899, 111656, 20738), (106630, 109679, 20734)]\n",
      "[[ 8273.97316892 16729.31469009   665.3495322   2212.74942097]\n",
      " [11144.90735717    49.13247399 16804.10610535 15040.58097282]]\n"
     ]
    },
    {
     "name": "stderr",
     "output_type": "stream",
     "text": [
      "08/09/2022 03:32:15 PM WARNING: face_normals incorrect shape, ignoring! \n"
     ]
    },
    {
     "name": "stdout",
     "output_type": "stream",
     "text": [
      "Warning: deduplication not currently supported for this layer's variable layered draco meshes\n"
     ]
    },
    {
     "name": "stderr",
     "output_type": "stream",
     "text": [
      "100%|██████████| 13989/13989 [00:00<00:00, 361866.49it/s]\n"
     ]
    },
    {
     "name": "stdout",
     "output_type": "stream",
     "text": [
      "<class 'trimesh.base.Trimesh'>\n",
      "\n",
      "<trimesh.Trimesh(vertices.shape=(14100, 3), faces.shape=(27998, 3))>\n"
     ]
    },
    {
     "name": "stderr",
     "output_type": "stream",
     "text": [
      "100%|██████████| 26554/26554 [00:00<00:00, 396149.85it/s]\n"
     ]
    },
    {
     "name": "stdout",
     "output_type": "stream",
     "text": [
      "proposed endpoints: \n",
      "[(104882, 104419, 20465), (98255, 97522, 21044), (106899, 111656, 20738), (106630, 109679, 20734)]\n",
      "[[ 8273.97316892 16729.31469009   665.3495322   2212.74942097]\n",
      " [11144.90735717    49.13247399 16804.10610535 15040.58097282]]\n"
     ]
    },
    {
     "name": "stderr",
     "output_type": "stream",
     "text": [
      "08/09/2022 03:32:20 PM WARNING: face_normals incorrect shape, ignoring! \n"
     ]
    },
    {
     "name": "stdout",
     "output_type": "stream",
     "text": [
      "Warning: deduplication not currently supported for this layer's variable layered draco meshes\n"
     ]
    },
    {
     "name": "stderr",
     "output_type": "stream",
     "text": [
      "100%|██████████| 15495/15495 [00:00<00:00, 421336.54it/s]\n"
     ]
    },
    {
     "name": "stdout",
     "output_type": "stream",
     "text": [
      "<class 'trimesh.base.Trimesh'>\n",
      "\n",
      "<trimesh.Trimesh(vertices.shape=(15555, 3), faces.shape=(31009, 3))>\n"
     ]
    },
    {
     "name": "stderr",
     "output_type": "stream",
     "text": [
      "100%|██████████| 26554/26554 [00:00<00:00, 392954.72it/s]\n"
     ]
    },
    {
     "name": "stdout",
     "output_type": "stream",
     "text": [
      "proposed endpoints: \n",
      "[(104882, 104419, 20465), (98255, 97522, 21044), (106899, 111656, 20738), (106630, 109679, 20734)]\n",
      "[[ 8273.97316892 16729.31469009   665.3495322   2212.74942097]\n",
      " [11144.90735717    49.13247399 16804.10610535 15040.58097282]]\n"
     ]
    },
    {
     "name": "stderr",
     "output_type": "stream",
     "text": [
      "08/09/2022 03:32:24 PM WARNING: face_normals incorrect shape, ignoring! \n"
     ]
    },
    {
     "name": "stdout",
     "output_type": "stream",
     "text": [
      "Warning: deduplication not currently supported for this layer's variable layered draco meshes\n"
     ]
    },
    {
     "name": "stderr",
     "output_type": "stream",
     "text": [
      "100%|██████████| 16943/16943 [00:00<00:00, 325346.31it/s]\n"
     ]
    },
    {
     "name": "stdout",
     "output_type": "stream",
     "text": [
      "<class 'trimesh.base.Trimesh'>\n",
      "\n",
      "<trimesh.Trimesh(vertices.shape=(17011, 3), faces.shape=(33905, 3))>\n"
     ]
    },
    {
     "name": "stderr",
     "output_type": "stream",
     "text": [
      "100%|██████████| 26554/26554 [00:00<00:00, 381335.61it/s]\n"
     ]
    },
    {
     "name": "stdout",
     "output_type": "stream",
     "text": [
      "proposed endpoints: \n",
      "[(104882, 104419, 20465), (98255, 97522, 21044), (106899, 111656, 20738), (106630, 109679, 20734)]\n",
      "[[ 8273.97316892 16729.31469009   665.3495322   2212.74942097]\n",
      " [11144.90735717    49.13247399 16804.10610535 15040.58097282]]\n"
     ]
    },
    {
     "name": "stderr",
     "output_type": "stream",
     "text": [
      "08/09/2022 03:32:28 PM WARNING: face_normals incorrect shape, ignoring! \n"
     ]
    },
    {
     "name": "stdout",
     "output_type": "stream",
     "text": [
      "Warning: deduplication not currently supported for this layer's variable layered draco meshes\n"
     ]
    },
    {
     "name": "stderr",
     "output_type": "stream",
     "text": [
      "100%|██████████| 18391/18391 [00:00<00:00, 354366.54it/s]\n"
     ]
    },
    {
     "name": "stdout",
     "output_type": "stream",
     "text": [
      "<class 'trimesh.base.Trimesh'>\n",
      "\n",
      "<trimesh.Trimesh(vertices.shape=(18465, 3), faces.shape=(36800, 3))>\n"
     ]
    },
    {
     "name": "stderr",
     "output_type": "stream",
     "text": [
      "100%|██████████| 26554/26554 [00:00<00:00, 399222.70it/s]\n"
     ]
    },
    {
     "name": "stdout",
     "output_type": "stream",
     "text": [
      "proposed endpoints: \n",
      "[(104882, 104419, 20465), (98255, 97522, 21044), (106899, 111656, 20738), (106630, 109679, 20734)]\n",
      "[[ 8273.97316892 16729.31469009   665.3495322   2212.74942097]\n",
      " [11144.90735717    49.13247399 16804.10610535 15040.58097282]]\n"
     ]
    },
    {
     "name": "stderr",
     "output_type": "stream",
     "text": [
      "08/09/2022 03:32:33 PM WARNING: face_normals incorrect shape, ignoring! \n"
     ]
    },
    {
     "name": "stdout",
     "output_type": "stream",
     "text": [
      "Warning: deduplication not currently supported for this layer's variable layered draco meshes\n"
     ]
    },
    {
     "name": "stderr",
     "output_type": "stream",
     "text": [
      "100%|██████████| 19843/19843 [00:00<00:00, 373247.95it/s]\n"
     ]
    },
    {
     "name": "stdout",
     "output_type": "stream",
     "text": [
      "<class 'trimesh.base.Trimesh'>\n",
      "\n",
      "<trimesh.Trimesh(vertices.shape=(19925, 3), faces.shape=(39704, 3))>\n"
     ]
    },
    {
     "name": "stderr",
     "output_type": "stream",
     "text": [
      "100%|██████████| 26554/26554 [00:00<00:00, 378762.69it/s]\n"
     ]
    },
    {
     "name": "stdout",
     "output_type": "stream",
     "text": [
      "proposed endpoints: \n",
      "[(104882, 104419, 20465), (98255, 97522, 21044), (106899, 111656, 20738), (106630, 109679, 20734)]\n",
      "[[ 8273.97316892 16729.31469009   665.3495322   2212.74942097]\n",
      " [11144.90735717    49.13247399 16804.10610535 15040.58097282]]\n"
     ]
    },
    {
     "name": "stderr",
     "output_type": "stream",
     "text": [
      "08/09/2022 03:32:37 PM WARNING: face_normals incorrect shape, ignoring! \n"
     ]
    },
    {
     "name": "stdout",
     "output_type": "stream",
     "text": [
      "Warning: deduplication not currently supported for this layer's variable layered draco meshes\n"
     ]
    },
    {
     "name": "stderr",
     "output_type": "stream",
     "text": [
      "100%|██████████| 21285/21285 [00:00<00:00, 368062.47it/s]\n"
     ]
    },
    {
     "name": "stdout",
     "output_type": "stream",
     "text": [
      "<class 'trimesh.base.Trimesh'>\n",
      "\n",
      "<trimesh.Trimesh(vertices.shape=(21382, 3), faces.shape=(42587, 3))>\n"
     ]
    },
    {
     "name": "stderr",
     "output_type": "stream",
     "text": [
      "100%|██████████| 26554/26554 [00:00<00:00, 383405.79it/s]\n"
     ]
    },
    {
     "name": "stdout",
     "output_type": "stream",
     "text": [
      "proposed endpoints: \n",
      "[(104882, 104419, 20465), (98255, 97522, 21044), (106899, 111656, 20738), (106630, 109679, 20734)]\n",
      "[[ 8273.97316892 16729.31469009   665.3495322   2212.74942097]\n",
      " [11144.90735717    49.13247399 16804.10610535 15040.58097282]]\n"
     ]
    },
    {
     "name": "stderr",
     "output_type": "stream",
     "text": [
      "08/09/2022 03:32:42 PM WARNING: face_normals incorrect shape, ignoring! \n"
     ]
    },
    {
     "name": "stdout",
     "output_type": "stream",
     "text": [
      "Warning: deduplication not currently supported for this layer's variable layered draco meshes\n"
     ]
    },
    {
     "name": "stderr",
     "output_type": "stream",
     "text": [
      "100%|██████████| 8120/8120 [00:00<00:00, 366145.42it/s]\n"
     ]
    },
    {
     "name": "stdout",
     "output_type": "stream",
     "text": [
      "<class 'trimesh.base.Trimesh'>\n",
      "\n",
      "<trimesh.Trimesh(vertices.shape=(8301, 3), faces.shape=(16261, 3))>\n"
     ]
    },
    {
     "name": "stderr",
     "output_type": "stream",
     "text": [
      "100%|██████████| 26554/26554 [00:00<00:00, 390707.77it/s]\n"
     ]
    },
    {
     "name": "stdout",
     "output_type": "stream",
     "text": [
      "proposed endpoints: \n",
      "[(104879, 104417, 20465), (106905, 111662, 20737), (98222, 97529, 21045), (106632, 109667, 20734)]\n",
      "[[ 8276.38429509   675.41838885 16741.33124934  2224.29134782]\n",
      " [11141.9013189  16814.04395141    72.80109889 15032.01942521]]\n"
     ]
    },
    {
     "name": "stderr",
     "output_type": "stream",
     "text": [
      "08/09/2022 03:32:45 PM WARNING: face_normals incorrect shape, ignoring! \n"
     ]
    },
    {
     "name": "stdout",
     "output_type": "stream",
     "text": [
      "Warning: deduplication not currently supported for this layer's variable layered draco meshes\n"
     ]
    },
    {
     "name": "stderr",
     "output_type": "stream",
     "text": [
      "100%|██████████| 9546/9546 [00:00<00:00, 366786.91it/s]\n"
     ]
    },
    {
     "name": "stdout",
     "output_type": "stream",
     "text": [
      "<class 'trimesh.base.Trimesh'>\n",
      "\n",
      "<trimesh.Trimesh(vertices.shape=(9756, 3), faces.shape=(19112, 3))>\n"
     ]
    },
    {
     "name": "stderr",
     "output_type": "stream",
     "text": [
      "100%|██████████| 26554/26554 [00:00<00:00, 392254.44it/s]\n"
     ]
    },
    {
     "name": "stdout",
     "output_type": "stream",
     "text": [
      "proposed endpoints: \n",
      "[(104879, 104417, 20465), (106905, 111662, 20737), (98222, 97529, 21045), (106632, 109667, 20734)]\n",
      "[[ 8276.38429509   675.41838885 16741.33124934  2224.29134782]\n",
      " [11141.9013189  16814.04395141    72.80109889 15032.01942521]]\n"
     ]
    },
    {
     "name": "stderr",
     "output_type": "stream",
     "text": [
      "08/09/2022 03:32:49 PM WARNING: face_normals incorrect shape, ignoring! \n"
     ]
    },
    {
     "name": "stdout",
     "output_type": "stream",
     "text": [
      "Warning: deduplication not currently supported for this layer's variable layered draco meshes\n"
     ]
    },
    {
     "name": "stderr",
     "output_type": "stream",
     "text": [
      "100%|██████████| 11021/11021 [00:00<00:00, 378688.95it/s]\n"
     ]
    },
    {
     "name": "stdout",
     "output_type": "stream",
     "text": [
      "<class 'trimesh.base.Trimesh'>\n",
      "\n",
      "<trimesh.Trimesh(vertices.shape=(11212, 3), faces.shape=(22062, 3))>\n"
     ]
    },
    {
     "name": "stderr",
     "output_type": "stream",
     "text": [
      "100%|██████████| 26554/26554 [00:00<00:00, 401366.34it/s]\n"
     ]
    },
    {
     "name": "stdout",
     "output_type": "stream",
     "text": [
      "proposed endpoints: \n",
      "[(104879, 104417, 20465), (106905, 111662, 20737), (98222, 97529, 21045), (106632, 109667, 20734)]\n",
      "[[ 8276.38429509   675.41838885 16741.33124934  2224.29134782]\n",
      " [11141.9013189  16814.04395141    72.80109889 15032.01942521]]\n"
     ]
    },
    {
     "name": "stderr",
     "output_type": "stream",
     "text": [
      "08/09/2022 03:32:53 PM WARNING: face_normals incorrect shape, ignoring! \n"
     ]
    },
    {
     "name": "stdout",
     "output_type": "stream",
     "text": [
      "Warning: deduplication not currently supported for this layer's variable layered draco meshes\n"
     ]
    },
    {
     "name": "stderr",
     "output_type": "stream",
     "text": [
      "100%|██████████| 12462/12462 [00:00<00:00, 388501.77it/s]\n"
     ]
    },
    {
     "name": "stdout",
     "output_type": "stream",
     "text": [
      "<class 'trimesh.base.Trimesh'>\n",
      "\n",
      "<trimesh.Trimesh(vertices.shape=(12666, 3), faces.shape=(24944, 3))>\n"
     ]
    },
    {
     "name": "stderr",
     "output_type": "stream",
     "text": [
      "100%|██████████| 26554/26554 [00:00<00:00, 392583.51it/s]\n"
     ]
    },
    {
     "name": "stdout",
     "output_type": "stream",
     "text": [
      "proposed endpoints: \n",
      "[(104879, 104417, 20465), (106905, 111662, 20737), (98222, 97529, 21045), (106632, 109667, 20734)]\n",
      "[[ 8276.38429509   675.41838885 16741.33124934  2224.29134782]\n",
      " [11141.9013189  16814.04395141    72.80109889 15032.01942521]]\n"
     ]
    },
    {
     "name": "stderr",
     "output_type": "stream",
     "text": [
      "08/09/2022 03:32:57 PM WARNING: face_normals incorrect shape, ignoring! \n"
     ]
    },
    {
     "name": "stdout",
     "output_type": "stream",
     "text": [
      "Warning: deduplication not currently supported for this layer's variable layered draco meshes\n"
     ]
    },
    {
     "name": "stderr",
     "output_type": "stream",
     "text": [
      "100%|██████████| 13900/13900 [00:00<00:00, 365368.94it/s]\n"
     ]
    },
    {
     "name": "stdout",
     "output_type": "stream",
     "text": [
      "<class 'trimesh.base.Trimesh'>\n",
      "\n",
      "<trimesh.Trimesh(vertices.shape=(14119, 3), faces.shape=(27822, 3))>\n"
     ]
    },
    {
     "name": "stderr",
     "output_type": "stream",
     "text": [
      "100%|██████████| 26554/26554 [00:00<00:00, 387086.24it/s]\n"
     ]
    },
    {
     "name": "stdout",
     "output_type": "stream",
     "text": [
      "proposed endpoints: \n",
      "[(104879, 104417, 20465), (106905, 111662, 20737), (98222, 97529, 21045), (106632, 109667, 20734)]\n",
      "[[ 8276.38429509   675.41838885 16741.33124934  2224.29134782]\n",
      " [11141.9013189  16814.04395141    72.80109889 15032.01942521]]\n"
     ]
    },
    {
     "name": "stderr",
     "output_type": "stream",
     "text": [
      "08/09/2022 03:33:01 PM WARNING: face_normals incorrect shape, ignoring! \n"
     ]
    },
    {
     "name": "stdout",
     "output_type": "stream",
     "text": [
      "Warning: deduplication not currently supported for this layer's variable layered draco meshes\n"
     ]
    },
    {
     "name": "stderr",
     "output_type": "stream",
     "text": [
      "100%|██████████| 15337/15337 [00:00<00:00, 363873.14it/s]\n"
     ]
    },
    {
     "name": "stdout",
     "output_type": "stream",
     "text": [
      "<class 'trimesh.base.Trimesh'>\n",
      "\n",
      "<trimesh.Trimesh(vertices.shape=(15574, 3), faces.shape=(30697, 3))>\n"
     ]
    },
    {
     "name": "stderr",
     "output_type": "stream",
     "text": [
      "100%|██████████| 26554/26554 [00:00<00:00, 385186.60it/s]\n"
     ]
    },
    {
     "name": "stdout",
     "output_type": "stream",
     "text": [
      "proposed endpoints: \n",
      "[(104879, 104417, 20465), (106905, 111662, 20737), (98222, 97529, 21045), (106632, 109667, 20734)]\n",
      "[[ 8276.38429509   675.41838885 16741.33124934  2224.29134782]\n",
      " [11141.9013189  16814.04395141    72.80109889 15032.01942521]]\n"
     ]
    },
    {
     "name": "stderr",
     "output_type": "stream",
     "text": [
      "08/09/2022 03:33:05 PM WARNING: face_normals incorrect shape, ignoring! \n"
     ]
    },
    {
     "name": "stdout",
     "output_type": "stream",
     "text": [
      "Warning: deduplication not currently supported for this layer's variable layered draco meshes\n"
     ]
    },
    {
     "name": "stderr",
     "output_type": "stream",
     "text": [
      "100%|██████████| 16850/16850 [00:00<00:00, 378837.46it/s]\n"
     ]
    },
    {
     "name": "stdout",
     "output_type": "stream",
     "text": [
      "<class 'trimesh.base.Trimesh'>\n",
      "\n",
      "<trimesh.Trimesh(vertices.shape=(17029, 3), faces.shape=(33723, 3))>\n"
     ]
    },
    {
     "name": "stderr",
     "output_type": "stream",
     "text": [
      "100%|██████████| 26554/26554 [00:00<00:00, 379711.81it/s]\n"
     ]
    },
    {
     "name": "stdout",
     "output_type": "stream",
     "text": [
      "proposed endpoints: \n",
      "[(104879, 104417, 20465), (106905, 111662, 20737), (98222, 97529, 21045), (106632, 109667, 20734)]\n",
      "[[ 8276.38429509   675.41838885 16741.33124934  2224.29134782]\n",
      " [11141.9013189  16814.04395141    72.80109889 15032.01942521]]\n"
     ]
    },
    {
     "name": "stderr",
     "output_type": "stream",
     "text": [
      "08/09/2022 03:33:09 PM WARNING: face_normals incorrect shape, ignoring! \n"
     ]
    },
    {
     "name": "stdout",
     "output_type": "stream",
     "text": [
      "Warning: deduplication not currently supported for this layer's variable layered draco meshes\n"
     ]
    },
    {
     "name": "stderr",
     "output_type": "stream",
     "text": [
      "100%|██████████| 18298/18298 [00:00<00:00, 386539.28it/s]\n"
     ]
    },
    {
     "name": "stdout",
     "output_type": "stream",
     "text": [
      "<class 'trimesh.base.Trimesh'>\n",
      "\n",
      "<trimesh.Trimesh(vertices.shape=(18483, 3), faces.shape=(36620, 3))>\n"
     ]
    },
    {
     "name": "stderr",
     "output_type": "stream",
     "text": [
      "100%|██████████| 26554/26554 [00:00<00:00, 308318.82it/s]\n"
     ]
    },
    {
     "name": "stdout",
     "output_type": "stream",
     "text": [
      "proposed endpoints: \n",
      "[(104879, 104417, 20465), (106905, 111662, 20737), (98222, 97529, 21045), (106632, 109667, 20734)]\n",
      "[[ 8276.38429509   675.41838885 16741.33124934  2224.29134782]\n",
      " [11141.9013189  16814.04395141    72.80109889 15032.01942521]]\n"
     ]
    },
    {
     "name": "stderr",
     "output_type": "stream",
     "text": [
      "08/09/2022 03:33:16 PM WARNING: face_normals incorrect shape, ignoring! \n"
     ]
    },
    {
     "name": "stdout",
     "output_type": "stream",
     "text": [
      "Warning: deduplication not currently supported for this layer's variable layered draco meshes\n"
     ]
    },
    {
     "name": "stderr",
     "output_type": "stream",
     "text": [
      "100%|██████████| 19749/19749 [00:00<00:00, 399996.67it/s]\n"
     ]
    },
    {
     "name": "stdout",
     "output_type": "stream",
     "text": [
      "<class 'trimesh.base.Trimesh'>\n",
      "\n",
      "<trimesh.Trimesh(vertices.shape=(19938, 3), faces.shape=(39522, 3))>\n"
     ]
    },
    {
     "name": "stderr",
     "output_type": "stream",
     "text": [
      "100%|██████████| 26554/26554 [00:00<00:00, 356841.38it/s]\n"
     ]
    },
    {
     "name": "stdout",
     "output_type": "stream",
     "text": [
      "proposed endpoints: \n",
      "[(104879, 104417, 20465), (106905, 111662, 20737), (98222, 97529, 21045), (106632, 109667, 20734)]\n",
      "[[ 8276.38429509   675.41838885 16741.33124934  2224.29134782]\n",
      " [11141.9013189  16814.04395141    72.80109889 15032.01942521]]\n"
     ]
    },
    {
     "name": "stderr",
     "output_type": "stream",
     "text": [
      "08/09/2022 03:33:20 PM WARNING: face_normals incorrect shape, ignoring! \n"
     ]
    },
    {
     "name": "stdout",
     "output_type": "stream",
     "text": [
      "Warning: deduplication not currently supported for this layer's variable layered draco meshes\n"
     ]
    },
    {
     "name": "stderr",
     "output_type": "stream",
     "text": [
      "100%|██████████| 21198/21198 [00:00<00:00, 359861.00it/s]\n"
     ]
    },
    {
     "name": "stdout",
     "output_type": "stream",
     "text": [
      "<class 'trimesh.base.Trimesh'>\n",
      "\n",
      "<trimesh.Trimesh(vertices.shape=(21391, 3), faces.shape=(42420, 3))>\n"
     ]
    },
    {
     "name": "stderr",
     "output_type": "stream",
     "text": [
      "100%|██████████| 26554/26554 [00:00<00:00, 356212.53it/s]\n"
     ]
    },
    {
     "name": "stdout",
     "output_type": "stream",
     "text": [
      "proposed endpoints: \n",
      "[(104879, 104417, 20465), (106905, 111662, 20737), (98222, 97529, 21045), (106632, 109667, 20734)]\n",
      "[[ 8276.38429509   675.41838885 16741.33124934  2224.29134782]\n",
      " [11141.9013189  16814.04395141    72.80109889 15032.01942521]]\n"
     ]
    },
    {
     "name": "stderr",
     "output_type": "stream",
     "text": [
      "08/09/2022 03:33:24 PM WARNING: face_normals incorrect shape, ignoring! \n"
     ]
    },
    {
     "name": "stdout",
     "output_type": "stream",
     "text": [
      "Warning: deduplication not currently supported for this layer's variable layered draco meshes\n"
     ]
    },
    {
     "name": "stderr",
     "output_type": "stream",
     "text": [
      "100%|██████████| 8212/8212 [00:00<00:00, 375616.14it/s]\n"
     ]
    },
    {
     "name": "stdout",
     "output_type": "stream",
     "text": [
      "<class 'trimesh.base.Trimesh'>\n",
      "\n",
      "<trimesh.Trimesh(vertices.shape=(8280, 3), faces.shape=(16440, 3))>\n"
     ]
    },
    {
     "name": "stderr",
     "output_type": "stream",
     "text": [
      "100%|██████████| 26554/26554 [00:00<00:00, 438982.43it/s]\n"
     ]
    },
    {
     "name": "stdout",
     "output_type": "stream",
     "text": [
      "proposed endpoints: \n",
      "[(104882, 104419, 20465), (98255, 97522, 21044), (106899, 111656, 20738)]\n",
      "[[ 8273.97316892 16729.31469009   665.3495322 ]\n",
      " [11144.90735717    49.13247399 16804.10610535]]\n"
     ]
    },
    {
     "name": "stderr",
     "output_type": "stream",
     "text": [
      "08/09/2022 03:33:28 PM WARNING: face_normals incorrect shape, ignoring! \n"
     ]
    },
    {
     "name": "stdout",
     "output_type": "stream",
     "text": [
      "Warning: deduplication not currently supported for this layer's variable layered draco meshes\n"
     ]
    },
    {
     "name": "stderr",
     "output_type": "stream",
     "text": [
      "100%|██████████| 9655/9655 [00:00<00:00, 356350.31it/s]\n"
     ]
    },
    {
     "name": "stdout",
     "output_type": "stream",
     "text": [
      "<class 'trimesh.base.Trimesh'>\n",
      "\n",
      "<trimesh.Trimesh(vertices.shape=(9735, 3), faces.shape=(19328, 3))>\n"
     ]
    },
    {
     "name": "stderr",
     "output_type": "stream",
     "text": [
      "100%|██████████| 26554/26554 [00:00<00:00, 439446.62it/s]\n"
     ]
    },
    {
     "name": "stdout",
     "output_type": "stream",
     "text": [
      "proposed endpoints: \n",
      "[(104882, 104419, 20465), (98255, 97522, 21044), (106899, 111656, 20738)]\n",
      "[[ 8273.97316892 16729.31469009   665.3495322 ]\n",
      " [11144.90735717    49.13247399 16804.10610535]]\n"
     ]
    },
    {
     "name": "stderr",
     "output_type": "stream",
     "text": [
      "08/09/2022 03:33:32 PM WARNING: face_normals incorrect shape, ignoring! \n"
     ]
    },
    {
     "name": "stdout",
     "output_type": "stream",
     "text": [
      "Warning: deduplication not currently supported for this layer's variable layered draco meshes\n"
     ]
    },
    {
     "name": "stderr",
     "output_type": "stream",
     "text": [
      "100%|██████████| 11104/11104 [00:00<00:00, 369836.83it/s]\n"
     ]
    },
    {
     "name": "stdout",
     "output_type": "stream",
     "text": [
      "<class 'trimesh.base.Trimesh'>\n",
      "\n",
      "<trimesh.Trimesh(vertices.shape=(11192, 3), faces.shape=(22230, 3))>\n"
     ]
    },
    {
     "name": "stderr",
     "output_type": "stream",
     "text": [
      "100%|██████████| 26554/26554 [00:00<00:00, 413394.66it/s]\n"
     ]
    },
    {
     "name": "stdout",
     "output_type": "stream",
     "text": [
      "proposed endpoints: \n",
      "[(104882, 104419, 20465), (98255, 97522, 21044), (106899, 111656, 20738)]\n",
      "[[ 8273.97316892 16729.31469009   665.3495322 ]\n",
      " [11144.90735717    49.13247399 16804.10610535]]\n"
     ]
    },
    {
     "name": "stderr",
     "output_type": "stream",
     "text": [
      "08/09/2022 03:33:35 PM WARNING: face_normals incorrect shape, ignoring! \n"
     ]
    },
    {
     "name": "stdout",
     "output_type": "stream",
     "text": [
      "Warning: deduplication not currently supported for this layer's variable layered draco meshes\n"
     ]
    },
    {
     "name": "stderr",
     "output_type": "stream",
     "text": [
      "100%|██████████| 12546/12546 [00:00<00:00, 379064.53it/s]\n"
     ]
    },
    {
     "name": "stdout",
     "output_type": "stream",
     "text": [
      "<class 'trimesh.base.Trimesh'>\n",
      "\n",
      "<trimesh.Trimesh(vertices.shape=(12646, 3), faces.shape=(25113, 3))>\n"
     ]
    },
    {
     "name": "stderr",
     "output_type": "stream",
     "text": [
      "100%|██████████| 26554/26554 [00:00<00:00, 438866.53it/s]\n"
     ]
    },
    {
     "name": "stdout",
     "output_type": "stream",
     "text": [
      "proposed endpoints: \n",
      "[(104882, 104419, 20465), (98255, 97522, 21044), (106899, 111656, 20738)]\n",
      "[[ 8273.97316892 16729.31469009   665.3495322 ]\n",
      " [11144.90735717    49.13247399 16804.10610535]]\n"
     ]
    },
    {
     "name": "stderr",
     "output_type": "stream",
     "text": [
      "08/09/2022 03:33:39 PM WARNING: face_normals incorrect shape, ignoring! \n"
     ]
    },
    {
     "name": "stdout",
     "output_type": "stream",
     "text": [
      "Warning: deduplication not currently supported for this layer's variable layered draco meshes\n"
     ]
    },
    {
     "name": "stderr",
     "output_type": "stream",
     "text": [
      "100%|██████████| 13989/13989 [00:00<00:00, 360494.71it/s]\n"
     ]
    },
    {
     "name": "stdout",
     "output_type": "stream",
     "text": [
      "<class 'trimesh.base.Trimesh'>\n",
      "\n",
      "<trimesh.Trimesh(vertices.shape=(14100, 3), faces.shape=(27998, 3))>\n"
     ]
    },
    {
     "name": "stderr",
     "output_type": "stream",
     "text": [
      "100%|██████████| 26554/26554 [00:00<00:00, 444566.83it/s]\n"
     ]
    },
    {
     "name": "stdout",
     "output_type": "stream",
     "text": [
      "proposed endpoints: \n",
      "[(104882, 104419, 20465), (98255, 97522, 21044), (106899, 111656, 20738)]\n",
      "[[ 8273.97316892 16729.31469009   665.3495322 ]\n",
      " [11144.90735717    49.13247399 16804.10610535]]\n"
     ]
    },
    {
     "name": "stderr",
     "output_type": "stream",
     "text": [
      "08/09/2022 03:33:43 PM WARNING: face_normals incorrect shape, ignoring! \n"
     ]
    },
    {
     "name": "stdout",
     "output_type": "stream",
     "text": [
      "Warning: deduplication not currently supported for this layer's variable layered draco meshes\n"
     ]
    },
    {
     "name": "stderr",
     "output_type": "stream",
     "text": [
      "100%|██████████| 15494/15494 [00:00<00:00, 377468.84it/s]\n"
     ]
    },
    {
     "name": "stdout",
     "output_type": "stream",
     "text": [
      "<class 'trimesh.base.Trimesh'>\n",
      "\n",
      "<trimesh.Trimesh(vertices.shape=(15555, 3), faces.shape=(31007, 3))>\n"
     ]
    },
    {
     "name": "stderr",
     "output_type": "stream",
     "text": [
      "100%|██████████| 26554/26554 [00:00<00:00, 431512.56it/s]\n"
     ]
    },
    {
     "name": "stdout",
     "output_type": "stream",
     "text": [
      "proposed endpoints: \n",
      "[(104882, 104419, 20465), (98255, 97522, 21044), (106899, 111656, 20738)]\n",
      "[[ 8273.97316892 16729.31469009   665.3495322 ]\n",
      " [11144.90735717    49.13247399 16804.10610535]]\n"
     ]
    },
    {
     "name": "stderr",
     "output_type": "stream",
     "text": [
      "08/09/2022 03:33:47 PM WARNING: face_normals incorrect shape, ignoring! \n"
     ]
    },
    {
     "name": "stdout",
     "output_type": "stream",
     "text": [
      "Warning: deduplication not currently supported for this layer's variable layered draco meshes\n"
     ]
    },
    {
     "name": "stderr",
     "output_type": "stream",
     "text": [
      "100%|██████████| 16943/16943 [00:00<00:00, 372314.77it/s]\n"
     ]
    },
    {
     "name": "stdout",
     "output_type": "stream",
     "text": [
      "<class 'trimesh.base.Trimesh'>\n",
      "\n",
      "<trimesh.Trimesh(vertices.shape=(17011, 3), faces.shape=(33905, 3))>\n"
     ]
    },
    {
     "name": "stderr",
     "output_type": "stream",
     "text": [
      "100%|██████████| 26554/26554 [00:00<00:00, 341007.84it/s]\n"
     ]
    },
    {
     "name": "stdout",
     "output_type": "stream",
     "text": [
      "proposed endpoints: \n",
      "[(104882, 104419, 20465), (98255, 97522, 21044), (106899, 111656, 20738)]\n",
      "[[ 8273.97316892 16729.31469009   665.3495322 ]\n",
      " [11144.90735717    49.13247399 16804.10610535]]\n"
     ]
    },
    {
     "name": "stderr",
     "output_type": "stream",
     "text": [
      "08/09/2022 03:33:52 PM WARNING: face_normals incorrect shape, ignoring! \n"
     ]
    },
    {
     "name": "stdout",
     "output_type": "stream",
     "text": [
      "Warning: deduplication not currently supported for this layer's variable layered draco meshes\n"
     ]
    },
    {
     "name": "stderr",
     "output_type": "stream",
     "text": [
      "100%|██████████| 18391/18391 [00:00<00:00, 372302.93it/s]\n"
     ]
    },
    {
     "name": "stdout",
     "output_type": "stream",
     "text": [
      "<class 'trimesh.base.Trimesh'>\n",
      "\n",
      "<trimesh.Trimesh(vertices.shape=(18465, 3), faces.shape=(36800, 3))>\n"
     ]
    },
    {
     "name": "stderr",
     "output_type": "stream",
     "text": [
      "100%|██████████| 26554/26554 [00:00<00:00, 420504.07it/s]\n"
     ]
    },
    {
     "name": "stdout",
     "output_type": "stream",
     "text": [
      "proposed endpoints: \n",
      "[(104882, 104419, 20465), (98255, 97522, 21044), (106899, 111656, 20738)]\n",
      "[[ 8273.97316892 16729.31469009   665.3495322 ]\n",
      " [11144.90735717    49.13247399 16804.10610535]]\n"
     ]
    },
    {
     "name": "stderr",
     "output_type": "stream",
     "text": [
      "08/09/2022 03:33:56 PM WARNING: face_normals incorrect shape, ignoring! \n"
     ]
    },
    {
     "name": "stdout",
     "output_type": "stream",
     "text": [
      "Warning: deduplication not currently supported for this layer's variable layered draco meshes\n"
     ]
    },
    {
     "name": "stderr",
     "output_type": "stream",
     "text": [
      "100%|██████████| 19843/19843 [00:00<00:00, 369634.19it/s]\n"
     ]
    },
    {
     "name": "stdout",
     "output_type": "stream",
     "text": [
      "<class 'trimesh.base.Trimesh'>\n",
      "\n",
      "<trimesh.Trimesh(vertices.shape=(19925, 3), faces.shape=(39704, 3))>\n"
     ]
    },
    {
     "name": "stderr",
     "output_type": "stream",
     "text": [
      "100%|██████████| 26554/26554 [00:00<00:00, 446706.51it/s]\n"
     ]
    },
    {
     "name": "stdout",
     "output_type": "stream",
     "text": [
      "proposed endpoints: \n",
      "[(104882, 104419, 20465), (98255, 97522, 21044), (106899, 111656, 20738)]\n",
      "[[ 8273.97316892 16729.31469009   665.3495322 ]\n",
      " [11144.90735717    49.13247399 16804.10610535]]\n"
     ]
    },
    {
     "name": "stderr",
     "output_type": "stream",
     "text": [
      "08/09/2022 03:34:01 PM WARNING: face_normals incorrect shape, ignoring! \n"
     ]
    },
    {
     "name": "stdout",
     "output_type": "stream",
     "text": [
      "Warning: deduplication not currently supported for this layer's variable layered draco meshes\n"
     ]
    },
    {
     "name": "stderr",
     "output_type": "stream",
     "text": [
      "100%|██████████| 21285/21285 [00:00<00:00, 379736.88it/s]\n"
     ]
    },
    {
     "name": "stdout",
     "output_type": "stream",
     "text": [
      "<class 'trimesh.base.Trimesh'>\n",
      "\n",
      "<trimesh.Trimesh(vertices.shape=(21382, 3), faces.shape=(42587, 3))>\n"
     ]
    },
    {
     "name": "stderr",
     "output_type": "stream",
     "text": [
      "100%|██████████| 26554/26554 [00:00<00:00, 418233.38it/s]\n"
     ]
    },
    {
     "name": "stdout",
     "output_type": "stream",
     "text": [
      "proposed endpoints: \n",
      "[(104882, 104419, 20465), (98255, 97522, 21044), (106899, 111656, 20738)]\n",
      "[[ 8273.97316892 16729.31469009   665.3495322 ]\n",
      " [11144.90735717    49.13247399 16804.10610535]]\n"
     ]
    },
    {
     "name": "stderr",
     "output_type": "stream",
     "text": [
      "08/09/2022 03:34:05 PM WARNING: face_normals incorrect shape, ignoring! \n"
     ]
    },
    {
     "name": "stdout",
     "output_type": "stream",
     "text": [
      "Warning: deduplication not currently supported for this layer's variable layered draco meshes\n"
     ]
    },
    {
     "name": "stderr",
     "output_type": "stream",
     "text": [
      "100%|██████████| 8213/8213 [00:00<00:00, 383913.81it/s]\n"
     ]
    },
    {
     "name": "stdout",
     "output_type": "stream",
     "text": [
      "<class 'trimesh.base.Trimesh'>\n",
      "\n",
      "<trimesh.Trimesh(vertices.shape=(8280, 3), faces.shape=(16442, 3))>\n"
     ]
    },
    {
     "name": "stderr",
     "output_type": "stream",
     "text": [
      "100%|██████████| 26554/26554 [00:00<00:00, 434094.20it/s]\n"
     ]
    },
    {
     "name": "stdout",
     "output_type": "stream",
     "text": [
      "proposed endpoints: \n",
      "[(104882, 104419, 20465), (98255, 97522, 21044), (106899, 111656, 20738)]\n",
      "[[ 8273.97316892 16729.31469009   665.3495322 ]\n",
      " [11144.90735717    49.13247399 16804.10610535]]\n"
     ]
    },
    {
     "name": "stderr",
     "output_type": "stream",
     "text": [
      "08/09/2022 03:34:10 PM WARNING: face_normals incorrect shape, ignoring! \n"
     ]
    },
    {
     "name": "stdout",
     "output_type": "stream",
     "text": [
      "Warning: deduplication not currently supported for this layer's variable layered draco meshes\n"
     ]
    },
    {
     "name": "stderr",
     "output_type": "stream",
     "text": [
      "100%|██████████| 9656/9656 [00:00<00:00, 373714.61it/s]\n"
     ]
    },
    {
     "name": "stdout",
     "output_type": "stream",
     "text": [
      "<class 'trimesh.base.Trimesh'>\n",
      "\n",
      "<trimesh.Trimesh(vertices.shape=(9735, 3), faces.shape=(19330, 3))>\n"
     ]
    },
    {
     "name": "stderr",
     "output_type": "stream",
     "text": [
      "100%|██████████| 26554/26554 [00:00<00:00, 418429.79it/s]\n"
     ]
    },
    {
     "name": "stdout",
     "output_type": "stream",
     "text": [
      "proposed endpoints: \n",
      "[(104882, 104419, 20465), (98255, 97522, 21044), (106899, 111656, 20738)]\n",
      "[[ 8273.97316892 16729.31469009   665.3495322 ]\n",
      " [11144.90735717    49.13247399 16804.10610535]]\n"
     ]
    },
    {
     "name": "stderr",
     "output_type": "stream",
     "text": [
      "08/09/2022 03:34:14 PM WARNING: face_normals incorrect shape, ignoring! \n"
     ]
    },
    {
     "name": "stdout",
     "output_type": "stream",
     "text": [
      "Warning: deduplication not currently supported for this layer's variable layered draco meshes\n"
     ]
    },
    {
     "name": "stderr",
     "output_type": "stream",
     "text": [
      "100%|██████████| 11104/11104 [00:00<00:00, 392657.95it/s]\n"
     ]
    },
    {
     "name": "stdout",
     "output_type": "stream",
     "text": [
      "<class 'trimesh.base.Trimesh'>\n",
      "\n",
      "<trimesh.Trimesh(vertices.shape=(11192, 3), faces.shape=(22230, 3))>\n"
     ]
    },
    {
     "name": "stderr",
     "output_type": "stream",
     "text": [
      "100%|██████████| 26554/26554 [00:00<00:00, 426316.26it/s]\n"
     ]
    },
    {
     "name": "stdout",
     "output_type": "stream",
     "text": [
      "proposed endpoints: \n",
      "[(104882, 104419, 20465), (98255, 97522, 21044), (106899, 111656, 20738)]\n",
      "[[ 8273.97316892 16729.31469009   665.3495322 ]\n",
      " [11144.90735717    49.13247399 16804.10610535]]\n"
     ]
    },
    {
     "name": "stderr",
     "output_type": "stream",
     "text": [
      "08/09/2022 03:34:18 PM WARNING: face_normals incorrect shape, ignoring! \n"
     ]
    },
    {
     "name": "stdout",
     "output_type": "stream",
     "text": [
      "Warning: deduplication not currently supported for this layer's variable layered draco meshes\n"
     ]
    },
    {
     "name": "stderr",
     "output_type": "stream",
     "text": [
      "100%|██████████| 12546/12546 [00:00<00:00, 365038.35it/s]\n"
     ]
    },
    {
     "name": "stdout",
     "output_type": "stream",
     "text": [
      "<class 'trimesh.base.Trimesh'>\n",
      "\n",
      "<trimesh.Trimesh(vertices.shape=(12646, 3), faces.shape=(25113, 3))>\n"
     ]
    },
    {
     "name": "stderr",
     "output_type": "stream",
     "text": [
      "100%|██████████| 26554/26554 [00:00<00:00, 408801.62it/s]\n"
     ]
    },
    {
     "name": "stdout",
     "output_type": "stream",
     "text": [
      "proposed endpoints: \n",
      "[(104882, 104419, 20465), (98255, 97522, 21044), (106899, 111656, 20738)]\n",
      "[[ 8273.97316892 16729.31469009   665.3495322 ]\n",
      " [11144.90735717    49.13247399 16804.10610535]]\n"
     ]
    },
    {
     "name": "stderr",
     "output_type": "stream",
     "text": [
      "08/09/2022 03:34:23 PM WARNING: face_normals incorrect shape, ignoring! \n"
     ]
    },
    {
     "name": "stdout",
     "output_type": "stream",
     "text": [
      "Warning: deduplication not currently supported for this layer's variable layered draco meshes\n"
     ]
    },
    {
     "name": "stderr",
     "output_type": "stream",
     "text": [
      "100%|██████████| 13989/13989 [00:00<00:00, 362860.12it/s]\n"
     ]
    },
    {
     "name": "stdout",
     "output_type": "stream",
     "text": [
      "<class 'trimesh.base.Trimesh'>\n",
      "\n",
      "<trimesh.Trimesh(vertices.shape=(14100, 3), faces.shape=(27998, 3))>\n"
     ]
    },
    {
     "name": "stderr",
     "output_type": "stream",
     "text": [
      "100%|██████████| 26554/26554 [00:00<00:00, 427254.99it/s]\n"
     ]
    },
    {
     "name": "stdout",
     "output_type": "stream",
     "text": [
      "proposed endpoints: \n",
      "[(104882, 104419, 20465), (98255, 97522, 21044), (106899, 111656, 20738)]\n",
      "[[ 8273.97316892 16729.31469009   665.3495322 ]\n",
      " [11144.90735717    49.13247399 16804.10610535]]\n"
     ]
    },
    {
     "name": "stderr",
     "output_type": "stream",
     "text": [
      "08/09/2022 03:34:26 PM WARNING: face_normals incorrect shape, ignoring! \n"
     ]
    },
    {
     "name": "stdout",
     "output_type": "stream",
     "text": [
      "Warning: deduplication not currently supported for this layer's variable layered draco meshes\n"
     ]
    },
    {
     "name": "stderr",
     "output_type": "stream",
     "text": [
      "100%|██████████| 15495/15495 [00:00<00:00, 373445.62it/s]\n"
     ]
    },
    {
     "name": "stdout",
     "output_type": "stream",
     "text": [
      "<class 'trimesh.base.Trimesh'>\n",
      "\n",
      "<trimesh.Trimesh(vertices.shape=(15555, 3), faces.shape=(31009, 3))>\n"
     ]
    },
    {
     "name": "stderr",
     "output_type": "stream",
     "text": [
      "100%|██████████| 26554/26554 [00:00<00:00, 439307.95it/s]\n"
     ]
    },
    {
     "name": "stdout",
     "output_type": "stream",
     "text": [
      "proposed endpoints: \n",
      "[(104882, 104419, 20465), (98255, 97522, 21044), (106899, 111656, 20738)]\n",
      "[[ 8273.97316892 16729.31469009   665.3495322 ]\n",
      " [11144.90735717    49.13247399 16804.10610535]]\n"
     ]
    },
    {
     "name": "stderr",
     "output_type": "stream",
     "text": [
      "08/09/2022 03:34:30 PM WARNING: face_normals incorrect shape, ignoring! \n"
     ]
    },
    {
     "name": "stdout",
     "output_type": "stream",
     "text": [
      "Warning: deduplication not currently supported for this layer's variable layered draco meshes\n"
     ]
    },
    {
     "name": "stderr",
     "output_type": "stream",
     "text": [
      "100%|██████████| 16943/16943 [00:00<00:00, 368821.16it/s]\n"
     ]
    },
    {
     "name": "stdout",
     "output_type": "stream",
     "text": [
      "<class 'trimesh.base.Trimesh'>\n",
      "\n",
      "<trimesh.Trimesh(vertices.shape=(17011, 3), faces.shape=(33905, 3))>\n"
     ]
    },
    {
     "name": "stderr",
     "output_type": "stream",
     "text": [
      "100%|██████████| 26554/26554 [00:00<00:00, 425614.10it/s]\n"
     ]
    },
    {
     "name": "stdout",
     "output_type": "stream",
     "text": [
      "proposed endpoints: \n",
      "[(104882, 104419, 20465), (98255, 97522, 21044), (106899, 111656, 20738)]\n",
      "[[ 8273.97316892 16729.31469009   665.3495322 ]\n",
      " [11144.90735717    49.13247399 16804.10610535]]\n"
     ]
    },
    {
     "name": "stderr",
     "output_type": "stream",
     "text": [
      "08/09/2022 03:34:34 PM WARNING: face_normals incorrect shape, ignoring! \n"
     ]
    },
    {
     "name": "stdout",
     "output_type": "stream",
     "text": [
      "Warning: deduplication not currently supported for this layer's variable layered draco meshes\n"
     ]
    },
    {
     "name": "stderr",
     "output_type": "stream",
     "text": [
      "100%|██████████| 18391/18391 [00:00<00:00, 383682.48it/s]\n"
     ]
    },
    {
     "name": "stdout",
     "output_type": "stream",
     "text": [
      "<class 'trimesh.base.Trimesh'>\n",
      "\n",
      "<trimesh.Trimesh(vertices.shape=(18465, 3), faces.shape=(36800, 3))>\n"
     ]
    },
    {
     "name": "stderr",
     "output_type": "stream",
     "text": [
      "100%|██████████| 26554/26554 [00:00<00:00, 439039.53it/s]\n"
     ]
    },
    {
     "name": "stdout",
     "output_type": "stream",
     "text": [
      "proposed endpoints: \n",
      "[(104882, 104419, 20465), (98255, 97522, 21044), (106899, 111656, 20738)]\n",
      "[[ 8273.97316892 16729.31469009   665.3495322 ]\n",
      " [11144.90735717    49.13247399 16804.10610535]]\n"
     ]
    },
    {
     "name": "stderr",
     "output_type": "stream",
     "text": [
      "08/09/2022 03:34:38 PM WARNING: face_normals incorrect shape, ignoring! \n"
     ]
    },
    {
     "name": "stdout",
     "output_type": "stream",
     "text": [
      "Warning: deduplication not currently supported for this layer's variable layered draco meshes\n"
     ]
    },
    {
     "name": "stderr",
     "output_type": "stream",
     "text": [
      "100%|██████████| 19843/19843 [00:00<00:00, 424587.16it/s]\n"
     ]
    },
    {
     "name": "stdout",
     "output_type": "stream",
     "text": [
      "<class 'trimesh.base.Trimesh'>\n",
      "\n",
      "<trimesh.Trimesh(vertices.shape=(19925, 3), faces.shape=(39704, 3))>\n"
     ]
    },
    {
     "name": "stderr",
     "output_type": "stream",
     "text": [
      "100%|██████████| 26554/26554 [00:00<00:00, 395244.49it/s]\n"
     ]
    },
    {
     "name": "stdout",
     "output_type": "stream",
     "text": [
      "proposed endpoints: \n",
      "[(104882, 104419, 20465), (98255, 97522, 21044), (106899, 111656, 20738)]\n",
      "[[ 8273.97316892 16729.31469009   665.3495322 ]\n",
      " [11144.90735717    49.13247399 16804.10610535]]\n"
     ]
    },
    {
     "name": "stderr",
     "output_type": "stream",
     "text": [
      "08/09/2022 03:34:42 PM WARNING: face_normals incorrect shape, ignoring! \n"
     ]
    },
    {
     "name": "stdout",
     "output_type": "stream",
     "text": [
      "Warning: deduplication not currently supported for this layer's variable layered draco meshes\n"
     ]
    },
    {
     "name": "stderr",
     "output_type": "stream",
     "text": [
      "100%|██████████| 21285/21285 [00:00<00:00, 437476.16it/s]\n"
     ]
    },
    {
     "name": "stdout",
     "output_type": "stream",
     "text": [
      "<class 'trimesh.base.Trimesh'>\n",
      "\n",
      "<trimesh.Trimesh(vertices.shape=(21382, 3), faces.shape=(42587, 3))>\n"
     ]
    },
    {
     "name": "stderr",
     "output_type": "stream",
     "text": [
      "100%|██████████| 26554/26554 [00:00<00:00, 436091.34it/s]\n"
     ]
    },
    {
     "name": "stdout",
     "output_type": "stream",
     "text": [
      "proposed endpoints: \n",
      "[(104882, 104419, 20465), (98255, 97522, 21044), (106899, 111656, 20738)]\n",
      "[[ 8273.97316892 16729.31469009   665.3495322 ]\n",
      " [11144.90735717    49.13247399 16804.10610535]]\n"
     ]
    },
    {
     "name": "stderr",
     "output_type": "stream",
     "text": [
      "08/09/2022 03:34:45 PM WARNING: face_normals incorrect shape, ignoring! \n"
     ]
    },
    {
     "name": "stdout",
     "output_type": "stream",
     "text": [
      "Warning: deduplication not currently supported for this layer's variable layered draco meshes\n"
     ]
    },
    {
     "name": "stderr",
     "output_type": "stream",
     "text": [
      "100%|██████████| 8213/8213 [00:00<00:00, 382053.11it/s]\n"
     ]
    },
    {
     "name": "stdout",
     "output_type": "stream",
     "text": [
      "<class 'trimesh.base.Trimesh'>\n",
      "\n",
      "<trimesh.Trimesh(vertices.shape=(8280, 3), faces.shape=(16442, 3))>\n"
     ]
    },
    {
     "name": "stderr",
     "output_type": "stream",
     "text": [
      "100%|██████████| 26554/26554 [00:00<00:00, 435210.34it/s]\n"
     ]
    },
    {
     "name": "stdout",
     "output_type": "stream",
     "text": [
      "proposed endpoints: \n",
      "[(104882, 104419, 20465), (98255, 97522, 21044), (106899, 111656, 20738)]\n",
      "[[ 8273.97316892 16729.31469009   665.3495322 ]\n",
      " [11144.90735717    49.13247399 16804.10610535]]\n"
     ]
    },
    {
     "name": "stderr",
     "output_type": "stream",
     "text": [
      "08/09/2022 03:34:49 PM WARNING: face_normals incorrect shape, ignoring! \n"
     ]
    },
    {
     "name": "stdout",
     "output_type": "stream",
     "text": [
      "Warning: deduplication not currently supported for this layer's variable layered draco meshes\n"
     ]
    },
    {
     "name": "stderr",
     "output_type": "stream",
     "text": [
      "100%|██████████| 9656/9656 [00:00<00:00, 349815.16it/s]\n"
     ]
    },
    {
     "name": "stdout",
     "output_type": "stream",
     "text": [
      "<class 'trimesh.base.Trimesh'>\n",
      "\n",
      "<trimesh.Trimesh(vertices.shape=(9735, 3), faces.shape=(19330, 3))>\n"
     ]
    },
    {
     "name": "stderr",
     "output_type": "stream",
     "text": [
      "100%|██████████| 26554/26554 [00:00<00:00, 436241.66it/s]\n"
     ]
    },
    {
     "name": "stdout",
     "output_type": "stream",
     "text": [
      "proposed endpoints: \n",
      "[(104882, 104419, 20465), (98255, 97522, 21044), (106899, 111656, 20738)]\n",
      "[[ 8273.97316892 16729.31469009   665.3495322 ]\n",
      " [11144.90735717    49.13247399 16804.10610535]]\n"
     ]
    },
    {
     "name": "stderr",
     "output_type": "stream",
     "text": [
      "08/09/2022 03:34:53 PM WARNING: face_normals incorrect shape, ignoring! \n"
     ]
    },
    {
     "name": "stdout",
     "output_type": "stream",
     "text": [
      "Warning: deduplication not currently supported for this layer's variable layered draco meshes\n"
     ]
    },
    {
     "name": "stderr",
     "output_type": "stream",
     "text": [
      "100%|██████████| 11104/11104 [00:00<00:00, 381553.39it/s]\n"
     ]
    },
    {
     "name": "stdout",
     "output_type": "stream",
     "text": [
      "<class 'trimesh.base.Trimesh'>\n",
      "\n",
      "<trimesh.Trimesh(vertices.shape=(11192, 3), faces.shape=(22230, 3))>\n"
     ]
    },
    {
     "name": "stderr",
     "output_type": "stream",
     "text": [
      "100%|██████████| 26554/26554 [00:00<00:00, 427635.58it/s]\n"
     ]
    },
    {
     "name": "stdout",
     "output_type": "stream",
     "text": [
      "proposed endpoints: \n",
      "[(104882, 104419, 20465), (98255, 97522, 21044), (106899, 111656, 20738)]\n",
      "[[ 8273.97316892 16729.31469009   665.3495322 ]\n",
      " [11144.90735717    49.13247399 16804.10610535]]\n"
     ]
    },
    {
     "name": "stderr",
     "output_type": "stream",
     "text": [
      "08/09/2022 03:34:57 PM WARNING: face_normals incorrect shape, ignoring! \n"
     ]
    },
    {
     "name": "stdout",
     "output_type": "stream",
     "text": [
      "Warning: deduplication not currently supported for this layer's variable layered draco meshes\n"
     ]
    },
    {
     "name": "stderr",
     "output_type": "stream",
     "text": [
      "100%|██████████| 12546/12546 [00:00<00:00, 352017.83it/s]\n"
     ]
    },
    {
     "name": "stdout",
     "output_type": "stream",
     "text": [
      "<class 'trimesh.base.Trimesh'>\n",
      "\n",
      "<trimesh.Trimesh(vertices.shape=(12646, 3), faces.shape=(25113, 3))>\n"
     ]
    },
    {
     "name": "stderr",
     "output_type": "stream",
     "text": [
      "100%|██████████| 26554/26554 [00:00<00:00, 446142.85it/s]\n"
     ]
    },
    {
     "name": "stdout",
     "output_type": "stream",
     "text": [
      "proposed endpoints: \n",
      "[(104882, 104419, 20465), (98255, 97522, 21044), (106899, 111656, 20738)]\n",
      "[[ 8273.97316892 16729.31469009   665.3495322 ]\n",
      " [11144.90735717    49.13247399 16804.10610535]]\n"
     ]
    },
    {
     "name": "stderr",
     "output_type": "stream",
     "text": [
      "08/09/2022 03:35:01 PM WARNING: face_normals incorrect shape, ignoring! \n"
     ]
    },
    {
     "name": "stdout",
     "output_type": "stream",
     "text": [
      "Warning: deduplication not currently supported for this layer's variable layered draco meshes\n"
     ]
    },
    {
     "name": "stderr",
     "output_type": "stream",
     "text": [
      "100%|██████████| 13989/13989 [00:00<00:00, 356846.44it/s]\n"
     ]
    },
    {
     "name": "stdout",
     "output_type": "stream",
     "text": [
      "<class 'trimesh.base.Trimesh'>\n",
      "\n",
      "<trimesh.Trimesh(vertices.shape=(14100, 3), faces.shape=(27998, 3))>\n"
     ]
    },
    {
     "name": "stderr",
     "output_type": "stream",
     "text": [
      "100%|██████████| 26554/26554 [00:00<00:00, 441433.94it/s]\n"
     ]
    },
    {
     "name": "stdout",
     "output_type": "stream",
     "text": [
      "proposed endpoints: \n",
      "[(104882, 104419, 20465), (98255, 97522, 21044), (106899, 111656, 20738)]\n",
      "[[ 8273.97316892 16729.31469009   665.3495322 ]\n",
      " [11144.90735717    49.13247399 16804.10610535]]\n"
     ]
    },
    {
     "name": "stderr",
     "output_type": "stream",
     "text": [
      "08/09/2022 03:35:05 PM WARNING: face_normals incorrect shape, ignoring! \n"
     ]
    },
    {
     "name": "stdout",
     "output_type": "stream",
     "text": [
      "Warning: deduplication not currently supported for this layer's variable layered draco meshes\n"
     ]
    },
    {
     "name": "stderr",
     "output_type": "stream",
     "text": [
      "100%|██████████| 15495/15495 [00:00<00:00, 356831.22it/s]\n"
     ]
    },
    {
     "name": "stdout",
     "output_type": "stream",
     "text": [
      "<class 'trimesh.base.Trimesh'>\n",
      "\n",
      "<trimesh.Trimesh(vertices.shape=(15555, 3), faces.shape=(31009, 3))>\n"
     ]
    },
    {
     "name": "stderr",
     "output_type": "stream",
     "text": [
      "100%|██████████| 26554/26554 [00:00<00:00, 437168.02it/s]\n"
     ]
    },
    {
     "name": "stdout",
     "output_type": "stream",
     "text": [
      "proposed endpoints: \n",
      "[(104882, 104419, 20465), (98255, 97522, 21044), (106899, 111656, 20738)]\n",
      "[[ 8273.97316892 16729.31469009   665.3495322 ]\n",
      " [11144.90735717    49.13247399 16804.10610535]]\n"
     ]
    },
    {
     "name": "stderr",
     "output_type": "stream",
     "text": [
      "08/09/2022 03:35:10 PM WARNING: face_normals incorrect shape, ignoring! \n"
     ]
    },
    {
     "name": "stdout",
     "output_type": "stream",
     "text": [
      "Warning: deduplication not currently supported for this layer's variable layered draco meshes\n"
     ]
    },
    {
     "name": "stderr",
     "output_type": "stream",
     "text": [
      "100%|██████████| 16943/16943 [00:00<00:00, 364891.57it/s]\n"
     ]
    },
    {
     "name": "stdout",
     "output_type": "stream",
     "text": [
      "<class 'trimesh.base.Trimesh'>\n",
      "\n",
      "<trimesh.Trimesh(vertices.shape=(17011, 3), faces.shape=(33905, 3))>\n"
     ]
    },
    {
     "name": "stderr",
     "output_type": "stream",
     "text": [
      "100%|██████████| 26554/26554 [00:00<00:00, 439963.93it/s]\n"
     ]
    },
    {
     "name": "stdout",
     "output_type": "stream",
     "text": [
      "proposed endpoints: \n",
      "[(104882, 104419, 20465), (98255, 97522, 21044), (106899, 111656, 20738)]\n",
      "[[ 8273.97316892 16729.31469009   665.3495322 ]\n",
      " [11144.90735717    49.13247399 16804.10610535]]\n"
     ]
    },
    {
     "name": "stderr",
     "output_type": "stream",
     "text": [
      "08/09/2022 03:35:14 PM WARNING: face_normals incorrect shape, ignoring! \n"
     ]
    },
    {
     "name": "stdout",
     "output_type": "stream",
     "text": [
      "Warning: deduplication not currently supported for this layer's variable layered draco meshes\n"
     ]
    },
    {
     "name": "stderr",
     "output_type": "stream",
     "text": [
      "100%|██████████| 18391/18391 [00:00<00:00, 366471.30it/s]\n"
     ]
    },
    {
     "name": "stdout",
     "output_type": "stream",
     "text": [
      "<class 'trimesh.base.Trimesh'>\n",
      "\n",
      "<trimesh.Trimesh(vertices.shape=(18465, 3), faces.shape=(36800, 3))>\n"
     ]
    },
    {
     "name": "stderr",
     "output_type": "stream",
     "text": [
      "100%|██████████| 26554/26554 [00:00<00:00, 437822.78it/s]\n"
     ]
    },
    {
     "name": "stdout",
     "output_type": "stream",
     "text": [
      "proposed endpoints: \n",
      "[(104882, 104419, 20465), (98255, 97522, 21044), (106899, 111656, 20738)]\n",
      "[[ 8273.97316892 16729.31469009   665.3495322 ]\n",
      " [11144.90735717    49.13247399 16804.10610535]]\n"
     ]
    },
    {
     "name": "stderr",
     "output_type": "stream",
     "text": [
      "08/09/2022 03:35:17 PM WARNING: face_normals incorrect shape, ignoring! \n"
     ]
    },
    {
     "name": "stdout",
     "output_type": "stream",
     "text": [
      "Warning: deduplication not currently supported for this layer's variable layered draco meshes\n"
     ]
    },
    {
     "name": "stderr",
     "output_type": "stream",
     "text": [
      "100%|██████████| 19843/19843 [00:00<00:00, 367311.19it/s]\n"
     ]
    },
    {
     "name": "stdout",
     "output_type": "stream",
     "text": [
      "<class 'trimesh.base.Trimesh'>\n",
      "\n",
      "<trimesh.Trimesh(vertices.shape=(19925, 3), faces.shape=(39704, 3))>\n"
     ]
    },
    {
     "name": "stderr",
     "output_type": "stream",
     "text": [
      "100%|██████████| 26554/26554 [00:00<00:00, 441528.44it/s]\n"
     ]
    },
    {
     "name": "stdout",
     "output_type": "stream",
     "text": [
      "proposed endpoints: \n",
      "[(104882, 104419, 20465), (98255, 97522, 21044), (106899, 111656, 20738)]\n",
      "[[ 8273.97316892 16729.31469009   665.3495322 ]\n",
      " [11144.90735717    49.13247399 16804.10610535]]\n"
     ]
    },
    {
     "name": "stderr",
     "output_type": "stream",
     "text": [
      "08/09/2022 03:35:21 PM WARNING: face_normals incorrect shape, ignoring! \n"
     ]
    },
    {
     "name": "stdout",
     "output_type": "stream",
     "text": [
      "Warning: deduplication not currently supported for this layer's variable layered draco meshes\n"
     ]
    },
    {
     "name": "stderr",
     "output_type": "stream",
     "text": [
      "100%|██████████| 21285/21285 [00:00<00:00, 376807.04it/s]\n"
     ]
    },
    {
     "name": "stdout",
     "output_type": "stream",
     "text": [
      "<class 'trimesh.base.Trimesh'>\n",
      "\n",
      "<trimesh.Trimesh(vertices.shape=(21382, 3), faces.shape=(42587, 3))>\n"
     ]
    },
    {
     "name": "stderr",
     "output_type": "stream",
     "text": [
      "100%|██████████| 26554/26554 [00:00<00:00, 442278.87it/s]\n"
     ]
    },
    {
     "name": "stdout",
     "output_type": "stream",
     "text": [
      "proposed endpoints: \n",
      "[(104882, 104419, 20465), (98255, 97522, 21044), (106899, 111656, 20738)]\n",
      "[[ 8273.97316892 16729.31469009   665.3495322 ]\n",
      " [11144.90735717    49.13247399 16804.10610535]]\n"
     ]
    },
    {
     "name": "stderr",
     "output_type": "stream",
     "text": [
      "08/09/2022 03:35:26 PM WARNING: face_normals incorrect shape, ignoring! \n"
     ]
    },
    {
     "name": "stdout",
     "output_type": "stream",
     "text": [
      "Warning: deduplication not currently supported for this layer's variable layered draco meshes\n"
     ]
    },
    {
     "name": "stderr",
     "output_type": "stream",
     "text": [
      "100%|██████████| 8213/8213 [00:00<00:00, 355572.04it/s]\n"
     ]
    },
    {
     "name": "stdout",
     "output_type": "stream",
     "text": [
      "<class 'trimesh.base.Trimesh'>\n",
      "\n",
      "<trimesh.Trimesh(vertices.shape=(8280, 3), faces.shape=(16442, 3))>\n"
     ]
    },
    {
     "name": "stderr",
     "output_type": "stream",
     "text": [
      "100%|██████████| 26554/26554 [00:00<00:00, 401075.83it/s]\n"
     ]
    },
    {
     "name": "stdout",
     "output_type": "stream",
     "text": [
      "proposed endpoints: \n",
      "[(104882, 104419, 20465), (98255, 97522, 21044), (106899, 111656, 20738)]\n",
      "[[ 8273.97316892 16729.31469009   665.3495322 ]\n",
      " [11144.90735717    49.13247399 16804.10610535]]\n"
     ]
    },
    {
     "name": "stderr",
     "output_type": "stream",
     "text": [
      "08/09/2022 03:35:30 PM WARNING: face_normals incorrect shape, ignoring! \n"
     ]
    },
    {
     "name": "stdout",
     "output_type": "stream",
     "text": [
      "Warning: deduplication not currently supported for this layer's variable layered draco meshes\n"
     ]
    },
    {
     "name": "stderr",
     "output_type": "stream",
     "text": [
      "100%|██████████| 9656/9656 [00:00<00:00, 351204.49it/s]\n"
     ]
    },
    {
     "name": "stdout",
     "output_type": "stream",
     "text": [
      "<class 'trimesh.base.Trimesh'>\n",
      "\n",
      "<trimesh.Trimesh(vertices.shape=(9735, 3), faces.shape=(19330, 3))>\n"
     ]
    },
    {
     "name": "stderr",
     "output_type": "stream",
     "text": [
      "100%|██████████| 26554/26554 [00:00<00:00, 420685.14it/s]\n"
     ]
    },
    {
     "name": "stdout",
     "output_type": "stream",
     "text": [
      "proposed endpoints: \n",
      "[(104882, 104419, 20465), (98255, 97522, 21044), (106899, 111656, 20738)]\n",
      "[[ 8273.97316892 16729.31469009   665.3495322 ]\n",
      " [11144.90735717    49.13247399 16804.10610535]]\n"
     ]
    },
    {
     "name": "stderr",
     "output_type": "stream",
     "text": [
      "08/09/2022 03:35:34 PM WARNING: face_normals incorrect shape, ignoring! \n"
     ]
    },
    {
     "name": "stdout",
     "output_type": "stream",
     "text": [
      "Warning: deduplication not currently supported for this layer's variable layered draco meshes\n"
     ]
    },
    {
     "name": "stderr",
     "output_type": "stream",
     "text": [
      "100%|██████████| 11104/11104 [00:00<00:00, 331649.59it/s]\n"
     ]
    },
    {
     "name": "stdout",
     "output_type": "stream",
     "text": [
      "<class 'trimesh.base.Trimesh'>\n",
      "\n",
      "<trimesh.Trimesh(vertices.shape=(11192, 3), faces.shape=(22230, 3))>\n"
     ]
    },
    {
     "name": "stderr",
     "output_type": "stream",
     "text": [
      "100%|██████████| 26554/26554 [00:00<00:00, 405565.36it/s]\n"
     ]
    },
    {
     "name": "stdout",
     "output_type": "stream",
     "text": [
      "proposed endpoints: \n",
      "[(104882, 104419, 20465), (98255, 97522, 21044), (106899, 111656, 20738)]\n",
      "[[ 8273.97316892 16729.31469009   665.3495322 ]\n",
      " [11144.90735717    49.13247399 16804.10610535]]\n"
     ]
    },
    {
     "name": "stderr",
     "output_type": "stream",
     "text": [
      "08/09/2022 03:35:38 PM WARNING: face_normals incorrect shape, ignoring! \n"
     ]
    },
    {
     "name": "stdout",
     "output_type": "stream",
     "text": [
      "Warning: deduplication not currently supported for this layer's variable layered draco meshes\n"
     ]
    },
    {
     "name": "stderr",
     "output_type": "stream",
     "text": [
      "100%|██████████| 12546/12546 [00:00<00:00, 347141.15it/s]\n"
     ]
    },
    {
     "name": "stdout",
     "output_type": "stream",
     "text": [
      "<class 'trimesh.base.Trimesh'>\n",
      "\n",
      "<trimesh.Trimesh(vertices.shape=(12646, 3), faces.shape=(25113, 3))>\n"
     ]
    },
    {
     "name": "stderr",
     "output_type": "stream",
     "text": [
      "100%|██████████| 26554/26554 [00:00<00:00, 397907.66it/s]\n"
     ]
    },
    {
     "name": "stdout",
     "output_type": "stream",
     "text": [
      "proposed endpoints: \n",
      "[(104882, 104419, 20465), (98255, 97522, 21044), (106899, 111656, 20738)]\n",
      "[[ 8273.97316892 16729.31469009   665.3495322 ]\n",
      " [11144.90735717    49.13247399 16804.10610535]]\n"
     ]
    },
    {
     "name": "stderr",
     "output_type": "stream",
     "text": [
      "08/09/2022 03:35:43 PM WARNING: face_normals incorrect shape, ignoring! \n"
     ]
    },
    {
     "name": "stdout",
     "output_type": "stream",
     "text": [
      "Warning: deduplication not currently supported for this layer's variable layered draco meshes\n"
     ]
    },
    {
     "name": "stderr",
     "output_type": "stream",
     "text": [
      "100%|██████████| 13989/13989 [00:00<00:00, 298717.64it/s]\n"
     ]
    },
    {
     "name": "stdout",
     "output_type": "stream",
     "text": [
      "<class 'trimesh.base.Trimesh'>\n",
      "\n",
      "<trimesh.Trimesh(vertices.shape=(14100, 3), faces.shape=(27998, 3))>\n"
     ]
    },
    {
     "name": "stderr",
     "output_type": "stream",
     "text": [
      "100%|██████████| 26554/26554 [00:00<00:00, 351103.19it/s]\n"
     ]
    },
    {
     "name": "stdout",
     "output_type": "stream",
     "text": [
      "proposed endpoints: \n",
      "[(104882, 104419, 20465), (98255, 97522, 21044), (106899, 111656, 20738)]\n",
      "[[ 8273.97316892 16729.31469009   665.3495322 ]\n",
      " [11144.90735717    49.13247399 16804.10610535]]\n"
     ]
    },
    {
     "name": "stderr",
     "output_type": "stream",
     "text": [
      "08/09/2022 03:35:48 PM WARNING: face_normals incorrect shape, ignoring! \n"
     ]
    },
    {
     "name": "stdout",
     "output_type": "stream",
     "text": [
      "Warning: deduplication not currently supported for this layer's variable layered draco meshes\n"
     ]
    },
    {
     "name": "stderr",
     "output_type": "stream",
     "text": [
      "100%|██████████| 15495/15495 [00:00<00:00, 343129.26it/s]\n"
     ]
    },
    {
     "name": "stdout",
     "output_type": "stream",
     "text": [
      "<class 'trimesh.base.Trimesh'>\n",
      "\n",
      "<trimesh.Trimesh(vertices.shape=(15555, 3), faces.shape=(31009, 3))>\n"
     ]
    },
    {
     "name": "stderr",
     "output_type": "stream",
     "text": [
      "100%|██████████| 26554/26554 [00:00<00:00, 393137.81it/s]\n"
     ]
    },
    {
     "name": "stdout",
     "output_type": "stream",
     "text": [
      "proposed endpoints: \n",
      "[(104882, 104419, 20465), (98255, 97522, 21044), (106899, 111656, 20738)]\n",
      "[[ 8273.97316892 16729.31469009   665.3495322 ]\n",
      " [11144.90735717    49.13247399 16804.10610535]]\n"
     ]
    },
    {
     "name": "stderr",
     "output_type": "stream",
     "text": [
      "08/09/2022 03:35:52 PM WARNING: face_normals incorrect shape, ignoring! \n"
     ]
    },
    {
     "name": "stdout",
     "output_type": "stream",
     "text": [
      "Warning: deduplication not currently supported for this layer's variable layered draco meshes\n"
     ]
    },
    {
     "name": "stderr",
     "output_type": "stream",
     "text": [
      "100%|██████████| 16943/16943 [00:00<00:00, 360812.02it/s]\n"
     ]
    },
    {
     "name": "stdout",
     "output_type": "stream",
     "text": [
      "<class 'trimesh.base.Trimesh'>\n",
      "\n",
      "<trimesh.Trimesh(vertices.shape=(17011, 3), faces.shape=(33905, 3))>\n"
     ]
    },
    {
     "name": "stderr",
     "output_type": "stream",
     "text": [
      "100%|██████████| 26554/26554 [00:00<00:00, 396221.72it/s]\n"
     ]
    },
    {
     "name": "stdout",
     "output_type": "stream",
     "text": [
      "proposed endpoints: \n",
      "[(104882, 104419, 20465), (98255, 97522, 21044), (106899, 111656, 20738)]\n",
      "[[ 8273.97316892 16729.31469009   665.3495322 ]\n",
      " [11144.90735717    49.13247399 16804.10610535]]\n"
     ]
    },
    {
     "name": "stderr",
     "output_type": "stream",
     "text": [
      "08/09/2022 03:35:56 PM WARNING: face_normals incorrect shape, ignoring! \n"
     ]
    },
    {
     "name": "stdout",
     "output_type": "stream",
     "text": [
      "Warning: deduplication not currently supported for this layer's variable layered draco meshes\n"
     ]
    },
    {
     "name": "stderr",
     "output_type": "stream",
     "text": [
      "100%|██████████| 18391/18391 [00:00<00:00, 360226.42it/s]\n"
     ]
    },
    {
     "name": "stdout",
     "output_type": "stream",
     "text": [
      "<class 'trimesh.base.Trimesh'>\n",
      "\n",
      "<trimesh.Trimesh(vertices.shape=(18465, 3), faces.shape=(36800, 3))>\n"
     ]
    },
    {
     "name": "stderr",
     "output_type": "stream",
     "text": [
      "100%|██████████| 26554/26554 [00:00<00:00, 378294.41it/s]\n"
     ]
    },
    {
     "name": "stdout",
     "output_type": "stream",
     "text": [
      "proposed endpoints: \n",
      "[(104882, 104419, 20465), (98255, 97522, 21044), (106899, 111656, 20738)]\n",
      "[[ 8273.97316892 16729.31469009   665.3495322 ]\n",
      " [11144.90735717    49.13247399 16804.10610535]]\n"
     ]
    },
    {
     "name": "stderr",
     "output_type": "stream",
     "text": [
      "08/09/2022 03:36:00 PM WARNING: face_normals incorrect shape, ignoring! \n"
     ]
    },
    {
     "name": "stdout",
     "output_type": "stream",
     "text": [
      "Warning: deduplication not currently supported for this layer's variable layered draco meshes\n"
     ]
    },
    {
     "name": "stderr",
     "output_type": "stream",
     "text": [
      "100%|██████████| 19843/19843 [00:00<00:00, 329854.52it/s]\n"
     ]
    },
    {
     "name": "stdout",
     "output_type": "stream",
     "text": [
      "<class 'trimesh.base.Trimesh'>\n",
      "\n",
      "<trimesh.Trimesh(vertices.shape=(19925, 3), faces.shape=(39704, 3))>\n"
     ]
    },
    {
     "name": "stderr",
     "output_type": "stream",
     "text": [
      "100%|██████████| 26554/26554 [00:00<00:00, 370720.46it/s]\n"
     ]
    },
    {
     "name": "stdout",
     "output_type": "stream",
     "text": [
      "proposed endpoints: \n",
      "[(104882, 104419, 20465), (98255, 97522, 21044), (106899, 111656, 20738)]\n",
      "[[ 8273.97316892 16729.31469009   665.3495322 ]\n",
      " [11144.90735717    49.13247399 16804.10610535]]\n"
     ]
    },
    {
     "name": "stderr",
     "output_type": "stream",
     "text": [
      "08/09/2022 03:36:04 PM WARNING: face_normals incorrect shape, ignoring! \n"
     ]
    },
    {
     "name": "stdout",
     "output_type": "stream",
     "text": [
      "Warning: deduplication not currently supported for this layer's variable layered draco meshes\n"
     ]
    },
    {
     "name": "stderr",
     "output_type": "stream",
     "text": [
      "100%|██████████| 21285/21285 [00:00<00:00, 362176.41it/s]\n"
     ]
    },
    {
     "name": "stdout",
     "output_type": "stream",
     "text": [
      "<class 'trimesh.base.Trimesh'>\n",
      "\n",
      "<trimesh.Trimesh(vertices.shape=(21382, 3), faces.shape=(42587, 3))>\n"
     ]
    },
    {
     "name": "stderr",
     "output_type": "stream",
     "text": [
      "100%|██████████| 26554/26554 [00:00<00:00, 450739.79it/s]\n"
     ]
    },
    {
     "name": "stdout",
     "output_type": "stream",
     "text": [
      "proposed endpoints: \n",
      "[(104882, 104419, 20465), (98255, 97522, 21044), (106899, 111656, 20738)]\n",
      "[[ 8273.97316892 16729.31469009   665.3495322 ]\n",
      " [11144.90735717    49.13247399 16804.10610535]]\n"
     ]
    },
    {
     "name": "stderr",
     "output_type": "stream",
     "text": [
      "08/09/2022 03:36:08 PM WARNING: face_normals incorrect shape, ignoring! \n"
     ]
    },
    {
     "name": "stdout",
     "output_type": "stream",
     "text": [
      "Warning: deduplication not currently supported for this layer's variable layered draco meshes\n"
     ]
    },
    {
     "name": "stderr",
     "output_type": "stream",
     "text": [
      "100%|██████████| 8213/8213 [00:00<00:00, 342049.64it/s]\n"
     ]
    },
    {
     "name": "stdout",
     "output_type": "stream",
     "text": [
      "<class 'trimesh.base.Trimesh'>\n",
      "\n",
      "<trimesh.Trimesh(vertices.shape=(8280, 3), faces.shape=(16442, 3))>\n"
     ]
    },
    {
     "name": "stderr",
     "output_type": "stream",
     "text": [
      "100%|██████████| 26554/26554 [00:00<00:00, 396998.50it/s]\n"
     ]
    },
    {
     "name": "stdout",
     "output_type": "stream",
     "text": [
      "proposed endpoints: \n",
      "[(104882, 104419, 20465), (98255, 97522, 21044), (106899, 111656, 20738)]\n",
      "[[ 8273.97316892 16729.31469009   665.3495322 ]\n",
      " [11144.90735717    49.13247399 16804.10610535]]\n"
     ]
    },
    {
     "name": "stderr",
     "output_type": "stream",
     "text": [
      "08/09/2022 03:36:12 PM WARNING: face_normals incorrect shape, ignoring! \n"
     ]
    },
    {
     "name": "stdout",
     "output_type": "stream",
     "text": [
      "Warning: deduplication not currently supported for this layer's variable layered draco meshes\n"
     ]
    },
    {
     "name": "stderr",
     "output_type": "stream",
     "text": [
      "100%|██████████| 9656/9656 [00:00<00:00, 389338.89it/s]\n"
     ]
    },
    {
     "name": "stdout",
     "output_type": "stream",
     "text": [
      "<class 'trimesh.base.Trimesh'>\n",
      "\n",
      "<trimesh.Trimesh(vertices.shape=(9735, 3), faces.shape=(19330, 3))>\n"
     ]
    },
    {
     "name": "stderr",
     "output_type": "stream",
     "text": [
      "100%|██████████| 26554/26554 [00:00<00:00, 416475.52it/s]\n"
     ]
    },
    {
     "name": "stdout",
     "output_type": "stream",
     "text": [
      "proposed endpoints: \n",
      "[(104882, 104419, 20465), (98255, 97522, 21044), (106899, 111656, 20738)]\n",
      "[[ 8273.97316892 16729.31469009   665.3495322 ]\n",
      " [11144.90735717    49.13247399 16804.10610535]]\n"
     ]
    },
    {
     "name": "stderr",
     "output_type": "stream",
     "text": [
      "08/09/2022 03:36:18 PM WARNING: face_normals incorrect shape, ignoring! \n"
     ]
    },
    {
     "name": "stdout",
     "output_type": "stream",
     "text": [
      "Warning: deduplication not currently supported for this layer's variable layered draco meshes\n"
     ]
    },
    {
     "name": "stderr",
     "output_type": "stream",
     "text": [
      "100%|██████████| 11104/11104 [00:00<00:00, 311710.17it/s]\n"
     ]
    },
    {
     "name": "stdout",
     "output_type": "stream",
     "text": [
      "<class 'trimesh.base.Trimesh'>\n",
      "\n",
      "<trimesh.Trimesh(vertices.shape=(11192, 3), faces.shape=(22230, 3))>\n"
     ]
    },
    {
     "name": "stderr",
     "output_type": "stream",
     "text": [
      "100%|██████████| 26554/26554 [00:00<00:00, 436777.13it/s]\n"
     ]
    },
    {
     "name": "stdout",
     "output_type": "stream",
     "text": [
      "proposed endpoints: \n",
      "[(104882, 104419, 20465), (98255, 97522, 21044), (106899, 111656, 20738)]\n",
      "[[ 8273.97316892 16729.31469009   665.3495322 ]\n",
      " [11144.90735717    49.13247399 16804.10610535]]\n"
     ]
    },
    {
     "name": "stderr",
     "output_type": "stream",
     "text": [
      "08/09/2022 03:36:24 PM WARNING: face_normals incorrect shape, ignoring! \n"
     ]
    },
    {
     "name": "stdout",
     "output_type": "stream",
     "text": [
      "Warning: deduplication not currently supported for this layer's variable layered draco meshes\n"
     ]
    },
    {
     "name": "stderr",
     "output_type": "stream",
     "text": [
      "100%|██████████| 12546/12546 [00:00<00:00, 262277.27it/s]\n"
     ]
    },
    {
     "name": "stdout",
     "output_type": "stream",
     "text": [
      "<class 'trimesh.base.Trimesh'>\n",
      "\n",
      "<trimesh.Trimesh(vertices.shape=(12646, 3), faces.shape=(25113, 3))>\n"
     ]
    },
    {
     "name": "stderr",
     "output_type": "stream",
     "text": [
      "100%|██████████| 26554/26554 [00:00<00:00, 392137.05it/s]\n"
     ]
    },
    {
     "name": "stdout",
     "output_type": "stream",
     "text": [
      "proposed endpoints: \n",
      "[(104882, 104419, 20465), (98255, 97522, 21044), (106899, 111656, 20738)]\n",
      "[[ 8273.97316892 16729.31469009   665.3495322 ]\n",
      " [11144.90735717    49.13247399 16804.10610535]]\n"
     ]
    },
    {
     "name": "stderr",
     "output_type": "stream",
     "text": [
      "08/09/2022 03:36:29 PM WARNING: face_normals incorrect shape, ignoring! \n"
     ]
    },
    {
     "name": "stdout",
     "output_type": "stream",
     "text": [
      "Warning: deduplication not currently supported for this layer's variable layered draco meshes\n"
     ]
    },
    {
     "name": "stderr",
     "output_type": "stream",
     "text": [
      "100%|██████████| 13989/13989 [00:00<00:00, 343877.62it/s]\n"
     ]
    },
    {
     "name": "stdout",
     "output_type": "stream",
     "text": [
      "<class 'trimesh.base.Trimesh'>\n",
      "\n",
      "<trimesh.Trimesh(vertices.shape=(14100, 3), faces.shape=(27998, 3))>\n"
     ]
    },
    {
     "name": "stderr",
     "output_type": "stream",
     "text": [
      "100%|██████████| 26554/26554 [00:00<00:00, 266729.45it/s]\n"
     ]
    },
    {
     "name": "stdout",
     "output_type": "stream",
     "text": [
      "proposed endpoints: \n",
      "[(104882, 104419, 20465), (98255, 97522, 21044), (106899, 111656, 20738)]\n",
      "[[ 8273.97316892 16729.31469009   665.3495322 ]\n",
      " [11144.90735717    49.13247399 16804.10610535]]\n"
     ]
    },
    {
     "name": "stderr",
     "output_type": "stream",
     "text": [
      "08/09/2022 03:36:34 PM WARNING: face_normals incorrect shape, ignoring! \n"
     ]
    },
    {
     "name": "stdout",
     "output_type": "stream",
     "text": [
      "Warning: deduplication not currently supported for this layer's variable layered draco meshes\n"
     ]
    },
    {
     "name": "stderr",
     "output_type": "stream",
     "text": [
      "100%|██████████| 15495/15495 [00:00<00:00, 335519.20it/s]\n"
     ]
    },
    {
     "name": "stdout",
     "output_type": "stream",
     "text": [
      "<class 'trimesh.base.Trimesh'>\n",
      "\n",
      "<trimesh.Trimesh(vertices.shape=(15555, 3), faces.shape=(31009, 3))>\n"
     ]
    },
    {
     "name": "stderr",
     "output_type": "stream",
     "text": [
      "100%|██████████| 26554/26554 [00:00<00:00, 406535.00it/s]\n"
     ]
    },
    {
     "name": "stdout",
     "output_type": "stream",
     "text": [
      "proposed endpoints: \n",
      "[(104882, 104419, 20465), (98255, 97522, 21044), (106899, 111656, 20738)]\n",
      "[[ 8273.97316892 16729.31469009   665.3495322 ]\n",
      " [11144.90735717    49.13247399 16804.10610535]]\n"
     ]
    },
    {
     "name": "stderr",
     "output_type": "stream",
     "text": [
      "08/09/2022 03:36:38 PM WARNING: face_normals incorrect shape, ignoring! \n"
     ]
    },
    {
     "name": "stdout",
     "output_type": "stream",
     "text": [
      "Warning: deduplication not currently supported for this layer's variable layered draco meshes\n"
     ]
    },
    {
     "name": "stderr",
     "output_type": "stream",
     "text": [
      "100%|██████████| 16943/16943 [00:00<00:00, 353531.59it/s]\n"
     ]
    },
    {
     "name": "stdout",
     "output_type": "stream",
     "text": [
      "<class 'trimesh.base.Trimesh'>\n",
      "\n",
      "<trimesh.Trimesh(vertices.shape=(17011, 3), faces.shape=(33905, 3))>\n"
     ]
    },
    {
     "name": "stderr",
     "output_type": "stream",
     "text": [
      "100%|██████████| 26554/26554 [00:00<00:00, 415016.73it/s]\n"
     ]
    },
    {
     "name": "stdout",
     "output_type": "stream",
     "text": [
      "proposed endpoints: \n",
      "[(104882, 104419, 20465), (98255, 97522, 21044), (106899, 111656, 20738)]\n",
      "[[ 8273.97316892 16729.31469009   665.3495322 ]\n",
      " [11144.90735717    49.13247399 16804.10610535]]\n"
     ]
    },
    {
     "name": "stderr",
     "output_type": "stream",
     "text": [
      "08/09/2022 03:36:43 PM WARNING: face_normals incorrect shape, ignoring! \n"
     ]
    },
    {
     "name": "stdout",
     "output_type": "stream",
     "text": [
      "Warning: deduplication not currently supported for this layer's variable layered draco meshes\n"
     ]
    },
    {
     "name": "stderr",
     "output_type": "stream",
     "text": [
      "100%|██████████| 18391/18391 [00:00<00:00, 353787.94it/s]\n"
     ]
    },
    {
     "name": "stdout",
     "output_type": "stream",
     "text": [
      "<class 'trimesh.base.Trimesh'>\n",
      "\n",
      "<trimesh.Trimesh(vertices.shape=(18465, 3), faces.shape=(36800, 3))>\n"
     ]
    },
    {
     "name": "stderr",
     "output_type": "stream",
     "text": [
      "100%|██████████| 26554/26554 [00:00<00:00, 429621.66it/s]\n"
     ]
    },
    {
     "name": "stdout",
     "output_type": "stream",
     "text": [
      "proposed endpoints: \n",
      "[(104882, 104419, 20465), (98255, 97522, 21044), (106899, 111656, 20738)]\n",
      "[[ 8273.97316892 16729.31469009   665.3495322 ]\n",
      " [11144.90735717    49.13247399 16804.10610535]]\n"
     ]
    },
    {
     "name": "stderr",
     "output_type": "stream",
     "text": [
      "08/09/2022 03:36:47 PM WARNING: face_normals incorrect shape, ignoring! \n"
     ]
    },
    {
     "name": "stdout",
     "output_type": "stream",
     "text": [
      "Warning: deduplication not currently supported for this layer's variable layered draco meshes\n"
     ]
    },
    {
     "name": "stderr",
     "output_type": "stream",
     "text": [
      "100%|██████████| 19843/19843 [00:00<00:00, 360133.51it/s]\n"
     ]
    },
    {
     "name": "stdout",
     "output_type": "stream",
     "text": [
      "<class 'trimesh.base.Trimesh'>\n",
      "\n",
      "<trimesh.Trimesh(vertices.shape=(19925, 3), faces.shape=(39704, 3))>\n"
     ]
    },
    {
     "name": "stderr",
     "output_type": "stream",
     "text": [
      "100%|██████████| 26554/26554 [00:00<00:00, 420266.06it/s]\n"
     ]
    },
    {
     "name": "stdout",
     "output_type": "stream",
     "text": [
      "proposed endpoints: \n",
      "[(104882, 104419, 20465), (98255, 97522, 21044), (106899, 111656, 20738)]\n",
      "[[ 8273.97316892 16729.31469009   665.3495322 ]\n",
      " [11144.90735717    49.13247399 16804.10610535]]\n"
     ]
    },
    {
     "name": "stderr",
     "output_type": "stream",
     "text": [
      "08/09/2022 03:36:53 PM WARNING: face_normals incorrect shape, ignoring! \n"
     ]
    },
    {
     "name": "stdout",
     "output_type": "stream",
     "text": [
      "Warning: deduplication not currently supported for this layer's variable layered draco meshes\n"
     ]
    },
    {
     "name": "stderr",
     "output_type": "stream",
     "text": [
      "100%|██████████| 21285/21285 [00:00<00:00, 351486.29it/s]\n"
     ]
    },
    {
     "name": "stdout",
     "output_type": "stream",
     "text": [
      "<class 'trimesh.base.Trimesh'>\n",
      "\n",
      "<trimesh.Trimesh(vertices.shape=(21382, 3), faces.shape=(42587, 3))>\n"
     ]
    },
    {
     "name": "stderr",
     "output_type": "stream",
     "text": [
      "100%|██████████| 26554/26554 [00:00<00:00, 434243.14it/s]\n"
     ]
    },
    {
     "name": "stdout",
     "output_type": "stream",
     "text": [
      "proposed endpoints: \n",
      "[(104882, 104419, 20465), (98255, 97522, 21044), (106899, 111656, 20738)]\n",
      "[[ 8273.97316892 16729.31469009   665.3495322 ]\n",
      " [11144.90735717    49.13247399 16804.10610535]]\n"
     ]
    },
    {
     "name": "stderr",
     "output_type": "stream",
     "text": [
      "08/09/2022 03:37:15 PM WARNING: face_normals incorrect shape, ignoring! \n"
     ]
    },
    {
     "name": "stdout",
     "output_type": "stream",
     "text": [
      "Warning: deduplication not currently supported for this layer's variable layered draco meshes\n"
     ]
    },
    {
     "name": "stderr",
     "output_type": "stream",
     "text": [
      "100%|██████████| 8213/8213 [00:00<00:00, 369073.23it/s]\n"
     ]
    },
    {
     "name": "stdout",
     "output_type": "stream",
     "text": [
      "<class 'trimesh.base.Trimesh'>\n",
      "\n",
      "<trimesh.Trimesh(vertices.shape=(8280, 3), faces.shape=(16442, 3))>\n"
     ]
    },
    {
     "name": "stderr",
     "output_type": "stream",
     "text": [
      "100%|██████████| 26554/26554 [00:00<00:00, 435274.97it/s]\n"
     ]
    },
    {
     "name": "stdout",
     "output_type": "stream",
     "text": [
      "proposed endpoints: \n",
      "[(104882, 104419, 20465), (98255, 97522, 21044), (106899, 111656, 20738)]\n",
      "[[ 8273.97316892 16729.31469009   665.3495322 ]\n",
      " [11144.90735717    49.13247399 16804.10610535]]\n"
     ]
    },
    {
     "name": "stderr",
     "output_type": "stream",
     "text": [
      "08/09/2022 03:37:25 PM WARNING: face_normals incorrect shape, ignoring! \n"
     ]
    },
    {
     "name": "stdout",
     "output_type": "stream",
     "text": [
      "Warning: deduplication not currently supported for this layer's variable layered draco meshes\n"
     ]
    },
    {
     "name": "stderr",
     "output_type": "stream",
     "text": [
      "100%|██████████| 9656/9656 [00:00<00:00, 295524.82it/s]\n"
     ]
    },
    {
     "name": "stdout",
     "output_type": "stream",
     "text": [
      "<class 'trimesh.base.Trimesh'>\n",
      "\n",
      "<trimesh.Trimesh(vertices.shape=(9735, 3), faces.shape=(19330, 3))>\n"
     ]
    },
    {
     "name": "stderr",
     "output_type": "stream",
     "text": [
      "100%|██████████| 26554/26554 [00:00<00:00, 437483.99it/s]\n"
     ]
    },
    {
     "name": "stdout",
     "output_type": "stream",
     "text": [
      "proposed endpoints: \n",
      "[(104882, 104419, 20465), (98255, 97522, 21044), (106899, 111656, 20738)]\n",
      "[[ 8273.97316892 16729.31469009   665.3495322 ]\n",
      " [11144.90735717    49.13247399 16804.10610535]]\n"
     ]
    },
    {
     "name": "stderr",
     "output_type": "stream",
     "text": [
      "08/09/2022 03:37:31 PM WARNING: face_normals incorrect shape, ignoring! \n"
     ]
    },
    {
     "name": "stdout",
     "output_type": "stream",
     "text": [
      "Warning: deduplication not currently supported for this layer's variable layered draco meshes\n"
     ]
    },
    {
     "name": "stderr",
     "output_type": "stream",
     "text": [
      "100%|██████████| 11104/11104 [00:00<00:00, 350527.61it/s]\n"
     ]
    },
    {
     "name": "stdout",
     "output_type": "stream",
     "text": [
      "<class 'trimesh.base.Trimesh'>\n",
      "\n",
      "<trimesh.Trimesh(vertices.shape=(11192, 3), faces.shape=(22230, 3))>\n"
     ]
    },
    {
     "name": "stderr",
     "output_type": "stream",
     "text": [
      "100%|██████████| 26554/26554 [00:00<00:00, 433094.89it/s]\n"
     ]
    },
    {
     "name": "stdout",
     "output_type": "stream",
     "text": [
      "proposed endpoints: \n",
      "[(104882, 104419, 20465), (98255, 97522, 21044), (106899, 111656, 20738)]\n",
      "[[ 8273.97316892 16729.31469009   665.3495322 ]\n",
      " [11144.90735717    49.13247399 16804.10610535]]\n"
     ]
    },
    {
     "name": "stderr",
     "output_type": "stream",
     "text": [
      "08/09/2022 03:37:37 PM WARNING: face_normals incorrect shape, ignoring! \n"
     ]
    },
    {
     "name": "stdout",
     "output_type": "stream",
     "text": [
      "Warning: deduplication not currently supported for this layer's variable layered draco meshes\n"
     ]
    },
    {
     "name": "stderr",
     "output_type": "stream",
     "text": [
      "100%|██████████| 12546/12546 [00:00<00:00, 327015.74it/s]\n"
     ]
    },
    {
     "name": "stdout",
     "output_type": "stream",
     "text": [
      "<class 'trimesh.base.Trimesh'>\n",
      "\n",
      "<trimesh.Trimesh(vertices.shape=(12646, 3), faces.shape=(25113, 3))>\n"
     ]
    },
    {
     "name": "stderr",
     "output_type": "stream",
     "text": [
      "100%|██████████| 26554/26554 [00:00<00:00, 422477.19it/s]\n"
     ]
    },
    {
     "name": "stdout",
     "output_type": "stream",
     "text": [
      "proposed endpoints: \n",
      "[(104882, 104419, 20465), (98255, 97522, 21044), (106899, 111656, 20738)]\n",
      "[[ 8273.97316892 16729.31469009   665.3495322 ]\n",
      " [11144.90735717    49.13247399 16804.10610535]]\n"
     ]
    },
    {
     "name": "stderr",
     "output_type": "stream",
     "text": [
      "08/09/2022 03:37:45 PM WARNING: face_normals incorrect shape, ignoring! \n"
     ]
    },
    {
     "name": "stdout",
     "output_type": "stream",
     "text": [
      "Warning: deduplication not currently supported for this layer's variable layered draco meshes\n"
     ]
    },
    {
     "name": "stderr",
     "output_type": "stream",
     "text": [
      "100%|██████████| 13989/13989 [00:00<00:00, 367775.19it/s]\n"
     ]
    },
    {
     "name": "stdout",
     "output_type": "stream",
     "text": [
      "<class 'trimesh.base.Trimesh'>\n",
      "\n",
      "<trimesh.Trimesh(vertices.shape=(14100, 3), faces.shape=(27998, 3))>\n"
     ]
    },
    {
     "name": "stderr",
     "output_type": "stream",
     "text": [
      "100%|██████████| 26554/26554 [00:00<00:00, 415862.82it/s]\n"
     ]
    },
    {
     "name": "stdout",
     "output_type": "stream",
     "text": [
      "proposed endpoints: \n",
      "[(104882, 104419, 20465), (98255, 97522, 21044), (106899, 111656, 20738)]\n",
      "[[ 8273.97316892 16729.31469009   665.3495322 ]\n",
      " [11144.90735717    49.13247399 16804.10610535]]\n"
     ]
    },
    {
     "name": "stderr",
     "output_type": "stream",
     "text": [
      "08/09/2022 03:37:51 PM WARNING: face_normals incorrect shape, ignoring! \n"
     ]
    },
    {
     "name": "stdout",
     "output_type": "stream",
     "text": [
      "Warning: deduplication not currently supported for this layer's variable layered draco meshes\n"
     ]
    },
    {
     "name": "stderr",
     "output_type": "stream",
     "text": [
      "100%|██████████| 15495/15495 [00:00<00:00, 348713.28it/s]\n"
     ]
    },
    {
     "name": "stdout",
     "output_type": "stream",
     "text": [
      "<class 'trimesh.base.Trimesh'>\n",
      "\n",
      "<trimesh.Trimesh(vertices.shape=(15555, 3), faces.shape=(31009, 3))>\n"
     ]
    },
    {
     "name": "stderr",
     "output_type": "stream",
     "text": [
      "100%|██████████| 26554/26554 [00:00<00:00, 439120.89it/s]\n"
     ]
    },
    {
     "name": "stdout",
     "output_type": "stream",
     "text": [
      "proposed endpoints: \n",
      "[(104882, 104419, 20465), (98255, 97522, 21044), (106899, 111656, 20738)]\n",
      "[[ 8273.97316892 16729.31469009   665.3495322 ]\n",
      " [11144.90735717    49.13247399 16804.10610535]]\n"
     ]
    },
    {
     "name": "stderr",
     "output_type": "stream",
     "text": [
      "08/09/2022 03:37:56 PM WARNING: face_normals incorrect shape, ignoring! \n"
     ]
    },
    {
     "name": "stdout",
     "output_type": "stream",
     "text": [
      "Warning: deduplication not currently supported for this layer's variable layered draco meshes\n"
     ]
    },
    {
     "name": "stderr",
     "output_type": "stream",
     "text": [
      "100%|██████████| 16943/16943 [00:00<00:00, 347471.09it/s]\n"
     ]
    },
    {
     "name": "stdout",
     "output_type": "stream",
     "text": [
      "<class 'trimesh.base.Trimesh'>\n",
      "\n",
      "<trimesh.Trimesh(vertices.shape=(17011, 3), faces.shape=(33905, 3))>\n"
     ]
    },
    {
     "name": "stderr",
     "output_type": "stream",
     "text": [
      "100%|██████████| 26554/26554 [00:00<00:00, 405125.74it/s]\n"
     ]
    },
    {
     "name": "stdout",
     "output_type": "stream",
     "text": [
      "proposed endpoints: \n",
      "[(104882, 104419, 20465), (98255, 97522, 21044), (106899, 111656, 20738)]\n",
      "[[ 8273.97316892 16729.31469009   665.3495322 ]\n",
      " [11144.90735717    49.13247399 16804.10610535]]\n"
     ]
    },
    {
     "name": "stderr",
     "output_type": "stream",
     "text": [
      "08/09/2022 03:38:01 PM WARNING: face_normals incorrect shape, ignoring! \n"
     ]
    },
    {
     "name": "stdout",
     "output_type": "stream",
     "text": [
      "Warning: deduplication not currently supported for this layer's variable layered draco meshes\n"
     ]
    },
    {
     "name": "stderr",
     "output_type": "stream",
     "text": [
      "100%|██████████| 18391/18391 [00:00<00:00, 343936.74it/s]\n"
     ]
    },
    {
     "name": "stdout",
     "output_type": "stream",
     "text": [
      "<class 'trimesh.base.Trimesh'>\n",
      "\n",
      "<trimesh.Trimesh(vertices.shape=(18465, 3), faces.shape=(36800, 3))>\n"
     ]
    },
    {
     "name": "stderr",
     "output_type": "stream",
     "text": [
      "100%|██████████| 26554/26554 [00:00<00:00, 434312.56it/s]\n"
     ]
    },
    {
     "name": "stdout",
     "output_type": "stream",
     "text": [
      "proposed endpoints: \n",
      "[(104882, 104419, 20465), (98255, 97522, 21044), (106899, 111656, 20738)]\n",
      "[[ 8273.97316892 16729.31469009   665.3495322 ]\n",
      " [11144.90735717    49.13247399 16804.10610535]]\n"
     ]
    },
    {
     "name": "stderr",
     "output_type": "stream",
     "text": [
      "08/09/2022 03:38:06 PM WARNING: face_normals incorrect shape, ignoring! \n"
     ]
    },
    {
     "name": "stdout",
     "output_type": "stream",
     "text": [
      "Warning: deduplication not currently supported for this layer's variable layered draco meshes\n"
     ]
    },
    {
     "name": "stderr",
     "output_type": "stream",
     "text": [
      "100%|██████████| 19843/19843 [00:00<00:00, 358506.21it/s]\n"
     ]
    },
    {
     "name": "stdout",
     "output_type": "stream",
     "text": [
      "<class 'trimesh.base.Trimesh'>\n",
      "\n",
      "<trimesh.Trimesh(vertices.shape=(19925, 3), faces.shape=(39704, 3))>\n"
     ]
    },
    {
     "name": "stderr",
     "output_type": "stream",
     "text": [
      "100%|██████████| 26554/26554 [00:00<00:00, 435118.53it/s]\n"
     ]
    },
    {
     "name": "stdout",
     "output_type": "stream",
     "text": [
      "proposed endpoints: \n",
      "[(104882, 104419, 20465), (98255, 97522, 21044), (106899, 111656, 20738)]\n",
      "[[ 8273.97316892 16729.31469009   665.3495322 ]\n",
      " [11144.90735717    49.13247399 16804.10610535]]\n"
     ]
    },
    {
     "name": "stderr",
     "output_type": "stream",
     "text": [
      "08/09/2022 03:38:10 PM WARNING: face_normals incorrect shape, ignoring! \n"
     ]
    },
    {
     "name": "stdout",
     "output_type": "stream",
     "text": [
      "Warning: deduplication not currently supported for this layer's variable layered draco meshes\n"
     ]
    },
    {
     "name": "stderr",
     "output_type": "stream",
     "text": [
      "100%|██████████| 21285/21285 [00:00<00:00, 379262.60it/s]\n"
     ]
    },
    {
     "name": "stdout",
     "output_type": "stream",
     "text": [
      "<class 'trimesh.base.Trimesh'>\n",
      "\n",
      "<trimesh.Trimesh(vertices.shape=(21382, 3), faces.shape=(42587, 3))>\n"
     ]
    },
    {
     "name": "stderr",
     "output_type": "stream",
     "text": [
      "100%|██████████| 26554/26554 [00:00<00:00, 430268.95it/s]\n"
     ]
    },
    {
     "name": "stdout",
     "output_type": "stream",
     "text": [
      "proposed endpoints: \n",
      "[(104882, 104419, 20465), (98255, 97522, 21044), (106899, 111656, 20738)]\n",
      "[[ 8273.97316892 16729.31469009   665.3495322 ]\n",
      " [11144.90735717    49.13247399 16804.10610535]]\n"
     ]
    },
    {
     "name": "stderr",
     "output_type": "stream",
     "text": [
      "08/09/2022 03:38:14 PM WARNING: face_normals incorrect shape, ignoring! \n"
     ]
    },
    {
     "name": "stdout",
     "output_type": "stream",
     "text": [
      "Warning: deduplication not currently supported for this layer's variable layered draco meshes\n"
     ]
    },
    {
     "name": "stderr",
     "output_type": "stream",
     "text": [
      "100%|██████████| 8213/8213 [00:00<00:00, 371457.12it/s]\n"
     ]
    },
    {
     "name": "stdout",
     "output_type": "stream",
     "text": [
      "<class 'trimesh.base.Trimesh'>\n",
      "\n",
      "<trimesh.Trimesh(vertices.shape=(8280, 3), faces.shape=(16442, 3))>\n"
     ]
    },
    {
     "name": "stderr",
     "output_type": "stream",
     "text": [
      "100%|██████████| 26554/26554 [00:00<00:00, 442389.54it/s]\n"
     ]
    },
    {
     "name": "stdout",
     "output_type": "stream",
     "text": [
      "proposed endpoints: \n",
      "[(104882, 104419, 20465), (98255, 97522, 21044), (106899, 111656, 20738)]\n",
      "[[ 8273.97316892 16729.31469009   665.3495322 ]\n",
      " [11144.90735717    49.13247399 16804.10610535]]\n"
     ]
    },
    {
     "name": "stderr",
     "output_type": "stream",
     "text": [
      "08/09/2022 03:38:18 PM WARNING: face_normals incorrect shape, ignoring! \n"
     ]
    },
    {
     "name": "stdout",
     "output_type": "stream",
     "text": [
      "Warning: deduplication not currently supported for this layer's variable layered draco meshes\n"
     ]
    },
    {
     "name": "stderr",
     "output_type": "stream",
     "text": [
      "100%|██████████| 9656/9656 [00:00<00:00, 355498.79it/s]\n"
     ]
    },
    {
     "name": "stdout",
     "output_type": "stream",
     "text": [
      "<class 'trimesh.base.Trimesh'>\n",
      "\n",
      "<trimesh.Trimesh(vertices.shape=(9735, 3), faces.shape=(19330, 3))>\n"
     ]
    },
    {
     "name": "stderr",
     "output_type": "stream",
     "text": [
      "100%|██████████| 26554/26554 [00:00<00:00, 437759.11it/s]\n"
     ]
    },
    {
     "name": "stdout",
     "output_type": "stream",
     "text": [
      "proposed endpoints: \n",
      "[(104882, 104419, 20465), (98255, 97522, 21044), (106899, 111656, 20738)]\n",
      "[[ 8273.97316892 16729.31469009   665.3495322 ]\n",
      " [11144.90735717    49.13247399 16804.10610535]]\n"
     ]
    },
    {
     "name": "stderr",
     "output_type": "stream",
     "text": [
      "08/09/2022 03:38:24 PM WARNING: face_normals incorrect shape, ignoring! \n"
     ]
    },
    {
     "name": "stdout",
     "output_type": "stream",
     "text": [
      "Warning: deduplication not currently supported for this layer's variable layered draco meshes\n"
     ]
    },
    {
     "name": "stderr",
     "output_type": "stream",
     "text": [
      "100%|██████████| 11104/11104 [00:00<00:00, 391085.18it/s]\n"
     ]
    },
    {
     "name": "stdout",
     "output_type": "stream",
     "text": [
      "<class 'trimesh.base.Trimesh'>\n",
      "\n",
      "<trimesh.Trimesh(vertices.shape=(11192, 3), faces.shape=(22230, 3))>\n"
     ]
    },
    {
     "name": "stderr",
     "output_type": "stream",
     "text": [
      "100%|██████████| 26554/26554 [00:00<00:00, 425225.73it/s]\n"
     ]
    },
    {
     "name": "stdout",
     "output_type": "stream",
     "text": [
      "proposed endpoints: \n",
      "[(104882, 104419, 20465), (98255, 97522, 21044), (106899, 111656, 20738)]\n",
      "[[ 8273.97316892 16729.31469009   665.3495322 ]\n",
      " [11144.90735717    49.13247399 16804.10610535]]\n"
     ]
    },
    {
     "name": "stderr",
     "output_type": "stream",
     "text": [
      "08/09/2022 03:38:29 PM WARNING: face_normals incorrect shape, ignoring! \n"
     ]
    },
    {
     "name": "stdout",
     "output_type": "stream",
     "text": [
      "Warning: deduplication not currently supported for this layer's variable layered draco meshes\n"
     ]
    },
    {
     "name": "stderr",
     "output_type": "stream",
     "text": [
      "100%|██████████| 12546/12546 [00:00<00:00, 354749.30it/s]\n"
     ]
    },
    {
     "name": "stdout",
     "output_type": "stream",
     "text": [
      "<class 'trimesh.base.Trimesh'>\n",
      "\n",
      "<trimesh.Trimesh(vertices.shape=(12646, 3), faces.shape=(25113, 3))>\n"
     ]
    },
    {
     "name": "stderr",
     "output_type": "stream",
     "text": [
      "100%|██████████| 26554/26554 [00:00<00:00, 438671.21it/s]\n"
     ]
    },
    {
     "name": "stdout",
     "output_type": "stream",
     "text": [
      "proposed endpoints: \n",
      "[(104882, 104419, 20465), (98255, 97522, 21044), (106899, 111656, 20738)]\n",
      "[[ 8273.97316892 16729.31469009   665.3495322 ]\n",
      " [11144.90735717    49.13247399 16804.10610535]]\n"
     ]
    },
    {
     "name": "stderr",
     "output_type": "stream",
     "text": [
      "08/09/2022 03:38:34 PM WARNING: face_normals incorrect shape, ignoring! \n"
     ]
    },
    {
     "name": "stdout",
     "output_type": "stream",
     "text": [
      "Warning: deduplication not currently supported for this layer's variable layered draco meshes\n"
     ]
    },
    {
     "name": "stderr",
     "output_type": "stream",
     "text": [
      "100%|██████████| 13989/13989 [00:00<00:00, 365229.50it/s]\n"
     ]
    },
    {
     "name": "stdout",
     "output_type": "stream",
     "text": [
      "<class 'trimesh.base.Trimesh'>\n",
      "\n",
      "<trimesh.Trimesh(vertices.shape=(14100, 3), faces.shape=(27998, 3))>\n"
     ]
    },
    {
     "name": "stderr",
     "output_type": "stream",
     "text": [
      "100%|██████████| 26554/26554 [00:00<00:00, 430260.64it/s]\n"
     ]
    },
    {
     "name": "stdout",
     "output_type": "stream",
     "text": [
      "proposed endpoints: \n",
      "[(104882, 104419, 20465), (98255, 97522, 21044), (106899, 111656, 20738)]\n",
      "[[ 8273.97316892 16729.31469009   665.3495322 ]\n",
      " [11144.90735717    49.13247399 16804.10610535]]\n"
     ]
    },
    {
     "name": "stderr",
     "output_type": "stream",
     "text": [
      "08/09/2022 03:38:41 PM WARNING: face_normals incorrect shape, ignoring! \n"
     ]
    },
    {
     "name": "stdout",
     "output_type": "stream",
     "text": [
      "Warning: deduplication not currently supported for this layer's variable layered draco meshes\n"
     ]
    },
    {
     "name": "stderr",
     "output_type": "stream",
     "text": [
      "100%|██████████| 15495/15495 [00:00<00:00, 362999.70it/s]\n"
     ]
    },
    {
     "name": "stdout",
     "output_type": "stream",
     "text": [
      "<class 'trimesh.base.Trimesh'>\n",
      "\n",
      "<trimesh.Trimesh(vertices.shape=(15555, 3), faces.shape=(31009, 3))>\n"
     ]
    },
    {
     "name": "stderr",
     "output_type": "stream",
     "text": [
      "100%|██████████| 26554/26554 [00:00<00:00, 437319.08it/s]\n"
     ]
    },
    {
     "name": "stdout",
     "output_type": "stream",
     "text": [
      "proposed endpoints: \n",
      "[(104882, 104419, 20465), (98255, 97522, 21044), (106899, 111656, 20738)]\n",
      "[[ 8273.97316892 16729.31469009   665.3495322 ]\n",
      " [11144.90735717    49.13247399 16804.10610535]]\n"
     ]
    },
    {
     "name": "stderr",
     "output_type": "stream",
     "text": [
      "08/09/2022 03:38:46 PM WARNING: face_normals incorrect shape, ignoring! \n"
     ]
    },
    {
     "name": "stdout",
     "output_type": "stream",
     "text": [
      "Warning: deduplication not currently supported for this layer's variable layered draco meshes\n"
     ]
    },
    {
     "name": "stderr",
     "output_type": "stream",
     "text": [
      "100%|██████████| 16943/16943 [00:00<00:00, 309557.09it/s]\n"
     ]
    },
    {
     "name": "stdout",
     "output_type": "stream",
     "text": [
      "<class 'trimesh.base.Trimesh'>\n",
      "\n",
      "<trimesh.Trimesh(vertices.shape=(17011, 3), faces.shape=(33905, 3))>\n"
     ]
    },
    {
     "name": "stderr",
     "output_type": "stream",
     "text": [
      "100%|██████████| 26554/26554 [00:00<00:00, 336574.55it/s]\n"
     ]
    },
    {
     "name": "stdout",
     "output_type": "stream",
     "text": [
      "proposed endpoints: \n",
      "[(104882, 104419, 20465), (98255, 97522, 21044), (106899, 111656, 20738)]\n",
      "[[ 8273.97316892 16729.31469009   665.3495322 ]\n",
      " [11144.90735717    49.13247399 16804.10610535]]\n"
     ]
    },
    {
     "name": "stderr",
     "output_type": "stream",
     "text": [
      "08/09/2022 03:38:53 PM WARNING: face_normals incorrect shape, ignoring! \n"
     ]
    },
    {
     "name": "stdout",
     "output_type": "stream",
     "text": [
      "Warning: deduplication not currently supported for this layer's variable layered draco meshes\n"
     ]
    },
    {
     "name": "stderr",
     "output_type": "stream",
     "text": [
      "100%|██████████| 18391/18391 [00:00<00:00, 370422.13it/s]\n"
     ]
    },
    {
     "name": "stdout",
     "output_type": "stream",
     "text": [
      "<class 'trimesh.base.Trimesh'>\n",
      "\n",
      "<trimesh.Trimesh(vertices.shape=(18465, 3), faces.shape=(36800, 3))>\n"
     ]
    },
    {
     "name": "stderr",
     "output_type": "stream",
     "text": [
      "100%|██████████| 26554/26554 [00:00<00:00, 437650.74it/s]\n"
     ]
    },
    {
     "name": "stdout",
     "output_type": "stream",
     "text": [
      "proposed endpoints: \n",
      "[(104882, 104419, 20465), (98255, 97522, 21044), (106899, 111656, 20738)]\n",
      "[[ 8273.97316892 16729.31469009   665.3495322 ]\n",
      " [11144.90735717    49.13247399 16804.10610535]]\n"
     ]
    },
    {
     "name": "stderr",
     "output_type": "stream",
     "text": [
      "08/09/2022 03:38:57 PM WARNING: face_normals incorrect shape, ignoring! \n"
     ]
    },
    {
     "name": "stdout",
     "output_type": "stream",
     "text": [
      "Warning: deduplication not currently supported for this layer's variable layered draco meshes\n"
     ]
    },
    {
     "name": "stderr",
     "output_type": "stream",
     "text": [
      "100%|██████████| 19843/19843 [00:00<00:00, 365959.35it/s]\n"
     ]
    },
    {
     "name": "stdout",
     "output_type": "stream",
     "text": [
      "<class 'trimesh.base.Trimesh'>\n",
      "\n",
      "<trimesh.Trimesh(vertices.shape=(19925, 3), faces.shape=(39704, 3))>\n"
     ]
    },
    {
     "name": "stderr",
     "output_type": "stream",
     "text": [
      "100%|██████████| 26554/26554 [00:00<00:00, 388489.09it/s]\n"
     ]
    },
    {
     "name": "stdout",
     "output_type": "stream",
     "text": [
      "proposed endpoints: \n",
      "[(104882, 104419, 20465), (98255, 97522, 21044), (106899, 111656, 20738)]\n",
      "[[ 8273.97316892 16729.31469009   665.3495322 ]\n",
      " [11144.90735717    49.13247399 16804.10610535]]\n"
     ]
    },
    {
     "name": "stderr",
     "output_type": "stream",
     "text": [
      "08/09/2022 03:39:02 PM WARNING: face_normals incorrect shape, ignoring! \n"
     ]
    },
    {
     "name": "stdout",
     "output_type": "stream",
     "text": [
      "Warning: deduplication not currently supported for this layer's variable layered draco meshes\n"
     ]
    },
    {
     "name": "stderr",
     "output_type": "stream",
     "text": [
      "100%|██████████| 21285/21285 [00:00<00:00, 366566.32it/s]\n"
     ]
    },
    {
     "name": "stdout",
     "output_type": "stream",
     "text": [
      "<class 'trimesh.base.Trimesh'>\n",
      "\n",
      "<trimesh.Trimesh(vertices.shape=(21382, 3), faces.shape=(42587, 3))>\n"
     ]
    },
    {
     "name": "stderr",
     "output_type": "stream",
     "text": [
      "100%|██████████| 26554/26554 [00:00<00:00, 382654.95it/s]\n"
     ]
    },
    {
     "name": "stdout",
     "output_type": "stream",
     "text": [
      "proposed endpoints: \n",
      "[(104882, 104419, 20465), (98255, 97522, 21044), (106899, 111656, 20738)]\n",
      "[[ 8273.97316892 16729.31469009   665.3495322 ]\n",
      " [11144.90735717    49.13247399 16804.10610535]]\n"
     ]
    },
    {
     "name": "stderr",
     "output_type": "stream",
     "text": [
      "08/09/2022 03:39:07 PM WARNING: face_normals incorrect shape, ignoring! \n"
     ]
    },
    {
     "name": "stdout",
     "output_type": "stream",
     "text": [
      "Warning: deduplication not currently supported for this layer's variable layered draco meshes\n"
     ]
    },
    {
     "name": "stderr",
     "output_type": "stream",
     "text": [
      "100%|██████████| 8213/8213 [00:00<00:00, 368871.67it/s]\n"
     ]
    },
    {
     "name": "stdout",
     "output_type": "stream",
     "text": [
      "<class 'trimesh.base.Trimesh'>\n",
      "\n",
      "<trimesh.Trimesh(vertices.shape=(8280, 3), faces.shape=(16442, 3))>\n"
     ]
    },
    {
     "name": "stderr",
     "output_type": "stream",
     "text": [
      "100%|██████████| 26554/26554 [00:00<00:00, 411805.01it/s]\n"
     ]
    },
    {
     "name": "stdout",
     "output_type": "stream",
     "text": [
      "proposed endpoints: \n",
      "[(104882, 104419, 20465), (98255, 97522, 21044), (106899, 111656, 20738)]\n",
      "[[ 8273.97316892 16729.31469009   665.3495322 ]\n",
      " [11144.90735717    49.13247399 16804.10610535]]\n"
     ]
    },
    {
     "name": "stderr",
     "output_type": "stream",
     "text": [
      "08/09/2022 03:39:13 PM WARNING: face_normals incorrect shape, ignoring! \n"
     ]
    },
    {
     "name": "stdout",
     "output_type": "stream",
     "text": [
      "Warning: deduplication not currently supported for this layer's variable layered draco meshes\n"
     ]
    },
    {
     "name": "stderr",
     "output_type": "stream",
     "text": [
      "100%|██████████| 9656/9656 [00:00<00:00, 314806.72it/s]\n"
     ]
    },
    {
     "name": "stdout",
     "output_type": "stream",
     "text": [
      "<class 'trimesh.base.Trimesh'>\n",
      "\n",
      "<trimesh.Trimesh(vertices.shape=(9735, 3), faces.shape=(19330, 3))>\n"
     ]
    },
    {
     "name": "stderr",
     "output_type": "stream",
     "text": [
      "100%|██████████| 26554/26554 [00:00<00:00, 426549.74it/s]\n"
     ]
    },
    {
     "name": "stdout",
     "output_type": "stream",
     "text": [
      "proposed endpoints: \n",
      "[(104882, 104419, 20465), (98255, 97522, 21044), (106899, 111656, 20738)]\n",
      "[[ 8273.97316892 16729.31469009   665.3495322 ]\n",
      " [11144.90735717    49.13247399 16804.10610535]]\n"
     ]
    },
    {
     "name": "stderr",
     "output_type": "stream",
     "text": [
      "08/09/2022 03:39:19 PM WARNING: face_normals incorrect shape, ignoring! \n"
     ]
    },
    {
     "name": "stdout",
     "output_type": "stream",
     "text": [
      "Warning: deduplication not currently supported for this layer's variable layered draco meshes\n"
     ]
    },
    {
     "name": "stderr",
     "output_type": "stream",
     "text": [
      "100%|██████████| 11104/11104 [00:00<00:00, 369522.85it/s]\n"
     ]
    },
    {
     "name": "stdout",
     "output_type": "stream",
     "text": [
      "<class 'trimesh.base.Trimesh'>\n",
      "\n",
      "<trimesh.Trimesh(vertices.shape=(11192, 3), faces.shape=(22230, 3))>\n"
     ]
    },
    {
     "name": "stderr",
     "output_type": "stream",
     "text": [
      "100%|██████████| 26554/26554 [00:00<00:00, 398998.16it/s]\n"
     ]
    },
    {
     "name": "stdout",
     "output_type": "stream",
     "text": [
      "proposed endpoints: \n",
      "[(104882, 104419, 20465), (98255, 97522, 21044), (106899, 111656, 20738)]\n",
      "[[ 8273.97316892 16729.31469009   665.3495322 ]\n",
      " [11144.90735717    49.13247399 16804.10610535]]\n"
     ]
    },
    {
     "name": "stderr",
     "output_type": "stream",
     "text": [
      "08/09/2022 03:39:24 PM WARNING: face_normals incorrect shape, ignoring! \n"
     ]
    },
    {
     "name": "stdout",
     "output_type": "stream",
     "text": [
      "Warning: deduplication not currently supported for this layer's variable layered draco meshes\n"
     ]
    },
    {
     "name": "stderr",
     "output_type": "stream",
     "text": [
      "100%|██████████| 12546/12546 [00:00<00:00, 375649.53it/s]\n"
     ]
    },
    {
     "name": "stdout",
     "output_type": "stream",
     "text": [
      "<class 'trimesh.base.Trimesh'>\n",
      "\n",
      "<trimesh.Trimesh(vertices.shape=(12646, 3), faces.shape=(25113, 3))>\n"
     ]
    },
    {
     "name": "stderr",
     "output_type": "stream",
     "text": [
      "100%|██████████| 26554/26554 [00:00<00:00, 427834.35it/s]\n"
     ]
    },
    {
     "name": "stdout",
     "output_type": "stream",
     "text": [
      "proposed endpoints: \n",
      "[(104882, 104419, 20465), (98255, 97522, 21044), (106899, 111656, 20738)]\n",
      "[[ 8273.97316892 16729.31469009   665.3495322 ]\n",
      " [11144.90735717    49.13247399 16804.10610535]]\n"
     ]
    },
    {
     "name": "stderr",
     "output_type": "stream",
     "text": [
      "08/09/2022 03:39:28 PM WARNING: face_normals incorrect shape, ignoring! \n"
     ]
    },
    {
     "name": "stdout",
     "output_type": "stream",
     "text": [
      "Warning: deduplication not currently supported for this layer's variable layered draco meshes\n"
     ]
    },
    {
     "name": "stderr",
     "output_type": "stream",
     "text": [
      "100%|██████████| 13989/13989 [00:00<00:00, 372562.47it/s]\n"
     ]
    },
    {
     "name": "stdout",
     "output_type": "stream",
     "text": [
      "<class 'trimesh.base.Trimesh'>\n",
      "\n",
      "<trimesh.Trimesh(vertices.shape=(14100, 3), faces.shape=(27998, 3))>\n"
     ]
    },
    {
     "name": "stderr",
     "output_type": "stream",
     "text": [
      "100%|██████████| 26554/26554 [00:00<00:00, 428324.66it/s]\n"
     ]
    },
    {
     "name": "stdout",
     "output_type": "stream",
     "text": [
      "proposed endpoints: \n",
      "[(104882, 104419, 20465), (98255, 97522, 21044), (106899, 111656, 20738)]\n",
      "[[ 8273.97316892 16729.31469009   665.3495322 ]\n",
      " [11144.90735717    49.13247399 16804.10610535]]\n"
     ]
    },
    {
     "name": "stderr",
     "output_type": "stream",
     "text": [
      "08/09/2022 03:39:33 PM WARNING: face_normals incorrect shape, ignoring! \n"
     ]
    },
    {
     "name": "stdout",
     "output_type": "stream",
     "text": [
      "Warning: deduplication not currently supported for this layer's variable layered draco meshes\n"
     ]
    },
    {
     "name": "stderr",
     "output_type": "stream",
     "text": [
      "100%|██████████| 15495/15495 [00:00<00:00, 344088.46it/s]\n"
     ]
    },
    {
     "name": "stdout",
     "output_type": "stream",
     "text": [
      "<class 'trimesh.base.Trimesh'>\n",
      "\n",
      "<trimesh.Trimesh(vertices.shape=(15555, 3), faces.shape=(31009, 3))>\n"
     ]
    },
    {
     "name": "stderr",
     "output_type": "stream",
     "text": [
      "100%|██████████| 26554/26554 [00:00<00:00, 430365.38it/s]\n"
     ]
    },
    {
     "name": "stdout",
     "output_type": "stream",
     "text": [
      "proposed endpoints: \n",
      "[(104882, 104419, 20465), (98255, 97522, 21044), (106899, 111656, 20738)]\n",
      "[[ 8273.97316892 16729.31469009   665.3495322 ]\n",
      " [11144.90735717    49.13247399 16804.10610535]]\n"
     ]
    },
    {
     "name": "stderr",
     "output_type": "stream",
     "text": [
      "08/09/2022 03:39:39 PM WARNING: face_normals incorrect shape, ignoring! \n"
     ]
    },
    {
     "name": "stdout",
     "output_type": "stream",
     "text": [
      "Warning: deduplication not currently supported for this layer's variable layered draco meshes\n"
     ]
    },
    {
     "name": "stderr",
     "output_type": "stream",
     "text": [
      "100%|██████████| 16943/16943 [00:00<00:00, 366517.58it/s]\n"
     ]
    },
    {
     "name": "stdout",
     "output_type": "stream",
     "text": [
      "<class 'trimesh.base.Trimesh'>\n",
      "\n",
      "<trimesh.Trimesh(vertices.shape=(17011, 3), faces.shape=(33905, 3))>\n"
     ]
    },
    {
     "name": "stderr",
     "output_type": "stream",
     "text": [
      "100%|██████████| 26554/26554 [00:00<00:00, 427118.99it/s]\n"
     ]
    },
    {
     "name": "stdout",
     "output_type": "stream",
     "text": [
      "proposed endpoints: \n",
      "[(104882, 104419, 20465), (98255, 97522, 21044), (106899, 111656, 20738)]\n",
      "[[ 8273.97316892 16729.31469009   665.3495322 ]\n",
      " [11144.90735717    49.13247399 16804.10610535]]\n"
     ]
    },
    {
     "name": "stderr",
     "output_type": "stream",
     "text": [
      "08/09/2022 03:39:44 PM WARNING: face_normals incorrect shape, ignoring! \n"
     ]
    },
    {
     "name": "stdout",
     "output_type": "stream",
     "text": [
      "Warning: deduplication not currently supported for this layer's variable layered draco meshes\n"
     ]
    },
    {
     "name": "stderr",
     "output_type": "stream",
     "text": [
      "100%|██████████| 18391/18391 [00:00<00:00, 356640.63it/s]\n"
     ]
    },
    {
     "name": "stdout",
     "output_type": "stream",
     "text": [
      "<class 'trimesh.base.Trimesh'>\n",
      "\n",
      "<trimesh.Trimesh(vertices.shape=(18465, 3), faces.shape=(36800, 3))>\n"
     ]
    },
    {
     "name": "stderr",
     "output_type": "stream",
     "text": [
      "100%|██████████| 26554/26554 [00:00<00:00, 428482.85it/s]\n"
     ]
    },
    {
     "name": "stdout",
     "output_type": "stream",
     "text": [
      "proposed endpoints: \n",
      "[(104882, 104419, 20465), (98255, 97522, 21044), (106899, 111656, 20738)]\n",
      "[[ 8273.97316892 16729.31469009   665.3495322 ]\n",
      " [11144.90735717    49.13247399 16804.10610535]]\n"
     ]
    },
    {
     "name": "stderr",
     "output_type": "stream",
     "text": [
      "08/09/2022 03:39:49 PM WARNING: face_normals incorrect shape, ignoring! \n"
     ]
    },
    {
     "name": "stdout",
     "output_type": "stream",
     "text": [
      "Warning: deduplication not currently supported for this layer's variable layered draco meshes\n"
     ]
    },
    {
     "name": "stderr",
     "output_type": "stream",
     "text": [
      "100%|██████████| 19843/19843 [00:00<00:00, 341566.97it/s]\n"
     ]
    },
    {
     "name": "stdout",
     "output_type": "stream",
     "text": [
      "<class 'trimesh.base.Trimesh'>\n",
      "\n",
      "<trimesh.Trimesh(vertices.shape=(19925, 3), faces.shape=(39704, 3))>\n"
     ]
    },
    {
     "name": "stderr",
     "output_type": "stream",
     "text": [
      "100%|██████████| 26554/26554 [00:00<00:00, 359956.40it/s]\n"
     ]
    },
    {
     "name": "stdout",
     "output_type": "stream",
     "text": [
      "proposed endpoints: \n",
      "[(104882, 104419, 20465), (98255, 97522, 21044), (106899, 111656, 20738)]\n",
      "[[ 8273.97316892 16729.31469009   665.3495322 ]\n",
      " [11144.90735717    49.13247399 16804.10610535]]\n"
     ]
    },
    {
     "name": "stderr",
     "output_type": "stream",
     "text": [
      "08/09/2022 03:39:53 PM WARNING: face_normals incorrect shape, ignoring! \n"
     ]
    },
    {
     "name": "stdout",
     "output_type": "stream",
     "text": [
      "Warning: deduplication not currently supported for this layer's variable layered draco meshes\n"
     ]
    },
    {
     "name": "stderr",
     "output_type": "stream",
     "text": [
      "100%|██████████| 21285/21285 [00:00<00:00, 306957.27it/s]\n"
     ]
    },
    {
     "name": "stdout",
     "output_type": "stream",
     "text": [
      "<class 'trimesh.base.Trimesh'>\n",
      "\n",
      "<trimesh.Trimesh(vertices.shape=(21382, 3), faces.shape=(42587, 3))>\n"
     ]
    },
    {
     "name": "stderr",
     "output_type": "stream",
     "text": [
      "100%|██████████| 26554/26554 [00:00<00:00, 381946.33it/s]\n"
     ]
    },
    {
     "name": "stdout",
     "output_type": "stream",
     "text": [
      "proposed endpoints: \n",
      "[(104882, 104419, 20465), (98255, 97522, 21044), (106899, 111656, 20738)]\n",
      "[[ 8273.97316892 16729.31469009   665.3495322 ]\n",
      " [11144.90735717    49.13247399 16804.10610535]]\n"
     ]
    },
    {
     "name": "stderr",
     "output_type": "stream",
     "text": [
      "08/09/2022 03:39:58 PM WARNING: face_normals incorrect shape, ignoring! \n"
     ]
    },
    {
     "name": "stdout",
     "output_type": "stream",
     "text": [
      "Warning: deduplication not currently supported for this layer's variable layered draco meshes\n"
     ]
    },
    {
     "name": "stderr",
     "output_type": "stream",
     "text": [
      "100%|██████████| 8213/8213 [00:00<00:00, 404245.95it/s]\n"
     ]
    },
    {
     "name": "stdout",
     "output_type": "stream",
     "text": [
      "<class 'trimesh.base.Trimesh'>\n",
      "\n",
      "<trimesh.Trimesh(vertices.shape=(8280, 3), faces.shape=(16442, 3))>\n"
     ]
    },
    {
     "name": "stderr",
     "output_type": "stream",
     "text": [
      "100%|██████████| 26554/26554 [00:00<00:00, 396968.79it/s]\n"
     ]
    },
    {
     "name": "stdout",
     "output_type": "stream",
     "text": [
      "proposed endpoints: \n",
      "[(104882, 104419, 20465), (98255, 97522, 21044), (106899, 111656, 20738)]\n",
      "[[ 8273.97316892 16729.31469009   665.3495322 ]\n",
      " [11144.90735717    49.13247399 16804.10610535]]\n"
     ]
    },
    {
     "name": "stderr",
     "output_type": "stream",
     "text": [
      "08/09/2022 03:40:02 PM WARNING: face_normals incorrect shape, ignoring! \n"
     ]
    },
    {
     "name": "stdout",
     "output_type": "stream",
     "text": [
      "Warning: deduplication not currently supported for this layer's variable layered draco meshes\n"
     ]
    },
    {
     "name": "stderr",
     "output_type": "stream",
     "text": [
      "100%|██████████| 9656/9656 [00:00<00:00, 363896.27it/s]\n"
     ]
    },
    {
     "name": "stdout",
     "output_type": "stream",
     "text": [
      "<class 'trimesh.base.Trimesh'>\n",
      "\n",
      "<trimesh.Trimesh(vertices.shape=(9735, 3), faces.shape=(19330, 3))>\n"
     ]
    },
    {
     "name": "stderr",
     "output_type": "stream",
     "text": [
      "100%|██████████| 26554/26554 [00:00<00:00, 414718.47it/s]\n"
     ]
    },
    {
     "name": "stdout",
     "output_type": "stream",
     "text": [
      "proposed endpoints: \n",
      "[(104882, 104419, 20465), (98255, 97522, 21044), (106899, 111656, 20738)]\n",
      "[[ 8273.97316892 16729.31469009   665.3495322 ]\n",
      " [11144.90735717    49.13247399 16804.10610535]]\n"
     ]
    },
    {
     "name": "stderr",
     "output_type": "stream",
     "text": [
      "08/09/2022 03:40:06 PM WARNING: face_normals incorrect shape, ignoring! \n"
     ]
    },
    {
     "name": "stdout",
     "output_type": "stream",
     "text": [
      "Warning: deduplication not currently supported for this layer's variable layered draco meshes\n"
     ]
    },
    {
     "name": "stderr",
     "output_type": "stream",
     "text": [
      "100%|██████████| 11104/11104 [00:00<00:00, 377492.80it/s]\n"
     ]
    },
    {
     "name": "stdout",
     "output_type": "stream",
     "text": [
      "<class 'trimesh.base.Trimesh'>\n",
      "\n",
      "<trimesh.Trimesh(vertices.shape=(11192, 3), faces.shape=(22230, 3))>\n"
     ]
    },
    {
     "name": "stderr",
     "output_type": "stream",
     "text": [
      "100%|██████████| 26554/26554 [00:00<00:00, 430889.86it/s]\n"
     ]
    },
    {
     "name": "stdout",
     "output_type": "stream",
     "text": [
      "proposed endpoints: \n",
      "[(104882, 104419, 20465), (98255, 97522, 21044), (106899, 111656, 20738)]\n",
      "[[ 8273.97316892 16729.31469009   665.3495322 ]\n",
      " [11144.90735717    49.13247399 16804.10610535]]\n"
     ]
    },
    {
     "name": "stderr",
     "output_type": "stream",
     "text": [
      "08/09/2022 03:40:11 PM WARNING: face_normals incorrect shape, ignoring! \n"
     ]
    },
    {
     "name": "stdout",
     "output_type": "stream",
     "text": [
      "Warning: deduplication not currently supported for this layer's variable layered draco meshes\n"
     ]
    },
    {
     "name": "stderr",
     "output_type": "stream",
     "text": [
      "100%|██████████| 12546/12546 [00:00<00:00, 367937.87it/s]\n"
     ]
    },
    {
     "name": "stdout",
     "output_type": "stream",
     "text": [
      "<class 'trimesh.base.Trimesh'>\n",
      "\n",
      "<trimesh.Trimesh(vertices.shape=(12646, 3), faces.shape=(25113, 3))>\n"
     ]
    },
    {
     "name": "stderr",
     "output_type": "stream",
     "text": [
      "100%|██████████| 26554/26554 [00:00<00:00, 312094.34it/s]\n"
     ]
    },
    {
     "name": "stdout",
     "output_type": "stream",
     "text": [
      "proposed endpoints: \n",
      "[(104882, 104419, 20465), (98255, 97522, 21044), (106899, 111656, 20738)]\n",
      "[[ 8273.97316892 16729.31469009   665.3495322 ]\n",
      " [11144.90735717    49.13247399 16804.10610535]]\n"
     ]
    },
    {
     "name": "stderr",
     "output_type": "stream",
     "text": [
      "08/09/2022 03:40:15 PM WARNING: face_normals incorrect shape, ignoring! \n"
     ]
    },
    {
     "name": "stdout",
     "output_type": "stream",
     "text": [
      "Warning: deduplication not currently supported for this layer's variable layered draco meshes\n"
     ]
    },
    {
     "name": "stderr",
     "output_type": "stream",
     "text": [
      "100%|██████████| 13989/13989 [00:00<00:00, 415536.14it/s]\n"
     ]
    },
    {
     "name": "stdout",
     "output_type": "stream",
     "text": [
      "<class 'trimesh.base.Trimesh'>\n",
      "\n",
      "<trimesh.Trimesh(vertices.shape=(14100, 3), faces.shape=(27998, 3))>\n"
     ]
    },
    {
     "name": "stderr",
     "output_type": "stream",
     "text": [
      "100%|██████████| 26554/26554 [00:00<00:00, 412777.22it/s]\n"
     ]
    },
    {
     "name": "stdout",
     "output_type": "stream",
     "text": [
      "proposed endpoints: \n",
      "[(104882, 104419, 20465), (98255, 97522, 21044), (106899, 111656, 20738)]\n",
      "[[ 8273.97316892 16729.31469009   665.3495322 ]\n",
      " [11144.90735717    49.13247399 16804.10610535]]\n"
     ]
    },
    {
     "name": "stderr",
     "output_type": "stream",
     "text": [
      "08/09/2022 03:40:20 PM WARNING: face_normals incorrect shape, ignoring! \n"
     ]
    },
    {
     "name": "stdout",
     "output_type": "stream",
     "text": [
      "Warning: deduplication not currently supported for this layer's variable layered draco meshes\n"
     ]
    },
    {
     "name": "stderr",
     "output_type": "stream",
     "text": [
      "100%|██████████| 15495/15495 [00:00<00:00, 440212.28it/s]\n"
     ]
    },
    {
     "name": "stdout",
     "output_type": "stream",
     "text": [
      "<class 'trimesh.base.Trimesh'>\n",
      "\n",
      "<trimesh.Trimesh(vertices.shape=(15555, 3), faces.shape=(31009, 3))>\n"
     ]
    },
    {
     "name": "stderr",
     "output_type": "stream",
     "text": [
      "100%|██████████| 26554/26554 [00:00<00:00, 418938.16it/s]\n"
     ]
    },
    {
     "name": "stdout",
     "output_type": "stream",
     "text": [
      "proposed endpoints: \n",
      "[(104882, 104419, 20465), (98255, 97522, 21044), (106899, 111656, 20738)]\n",
      "[[ 8273.97316892 16729.31469009   665.3495322 ]\n",
      " [11144.90735717    49.13247399 16804.10610535]]\n"
     ]
    },
    {
     "name": "stderr",
     "output_type": "stream",
     "text": [
      "08/09/2022 03:40:25 PM WARNING: face_normals incorrect shape, ignoring! \n"
     ]
    },
    {
     "name": "stdout",
     "output_type": "stream",
     "text": [
      "Warning: deduplication not currently supported for this layer's variable layered draco meshes\n"
     ]
    },
    {
     "name": "stderr",
     "output_type": "stream",
     "text": [
      "100%|██████████| 16943/16943 [00:00<00:00, 341925.53it/s]\n"
     ]
    },
    {
     "name": "stdout",
     "output_type": "stream",
     "text": [
      "<class 'trimesh.base.Trimesh'>\n",
      "\n",
      "<trimesh.Trimesh(vertices.shape=(17011, 3), faces.shape=(33905, 3))>\n"
     ]
    },
    {
     "name": "stderr",
     "output_type": "stream",
     "text": [
      "100%|██████████| 26554/26554 [00:00<00:00, 430406.96it/s]\n"
     ]
    },
    {
     "name": "stdout",
     "output_type": "stream",
     "text": [
      "proposed endpoints: \n",
      "[(104882, 104419, 20465), (98255, 97522, 21044), (106899, 111656, 20738)]\n",
      "[[ 8273.97316892 16729.31469009   665.3495322 ]\n",
      " [11144.90735717    49.13247399 16804.10610535]]\n"
     ]
    },
    {
     "name": "stderr",
     "output_type": "stream",
     "text": [
      "08/09/2022 03:40:30 PM WARNING: face_normals incorrect shape, ignoring! \n"
     ]
    },
    {
     "name": "stdout",
     "output_type": "stream",
     "text": [
      "Warning: deduplication not currently supported for this layer's variable layered draco meshes\n"
     ]
    },
    {
     "name": "stderr",
     "output_type": "stream",
     "text": [
      "100%|██████████| 18391/18391 [00:00<00:00, 338936.08it/s]\n"
     ]
    },
    {
     "name": "stdout",
     "output_type": "stream",
     "text": [
      "<class 'trimesh.base.Trimesh'>\n",
      "\n",
      "<trimesh.Trimesh(vertices.shape=(18465, 3), faces.shape=(36800, 3))>\n"
     ]
    },
    {
     "name": "stderr",
     "output_type": "stream",
     "text": [
      "100%|██████████| 26554/26554 [00:00<00:00, 442359.67it/s]\n"
     ]
    },
    {
     "name": "stdout",
     "output_type": "stream",
     "text": [
      "proposed endpoints: \n",
      "[(104882, 104419, 20465), (98255, 97522, 21044), (106899, 111656, 20738)]\n",
      "[[ 8273.97316892 16729.31469009   665.3495322 ]\n",
      " [11144.90735717    49.13247399 16804.10610535]]\n"
     ]
    },
    {
     "name": "stderr",
     "output_type": "stream",
     "text": [
      "08/09/2022 03:40:37 PM WARNING: face_normals incorrect shape, ignoring! \n"
     ]
    },
    {
     "name": "stdout",
     "output_type": "stream",
     "text": [
      "Warning: deduplication not currently supported for this layer's variable layered draco meshes\n"
     ]
    },
    {
     "name": "stderr",
     "output_type": "stream",
     "text": [
      "100%|██████████| 19843/19843 [00:00<00:00, 388726.80it/s]\n"
     ]
    },
    {
     "name": "stdout",
     "output_type": "stream",
     "text": [
      "<class 'trimesh.base.Trimesh'>\n",
      "\n",
      "<trimesh.Trimesh(vertices.shape=(19925, 3), faces.shape=(39704, 3))>\n"
     ]
    },
    {
     "name": "stderr",
     "output_type": "stream",
     "text": [
      "100%|██████████| 26554/26554 [00:00<00:00, 431807.00it/s]\n"
     ]
    },
    {
     "name": "stdout",
     "output_type": "stream",
     "text": [
      "proposed endpoints: \n",
      "[(104882, 104419, 20465), (98255, 97522, 21044), (106899, 111656, 20738)]\n",
      "[[ 8273.97316892 16729.31469009   665.3495322 ]\n",
      " [11144.90735717    49.13247399 16804.10610535]]\n"
     ]
    },
    {
     "name": "stderr",
     "output_type": "stream",
     "text": [
      "08/09/2022 03:40:42 PM WARNING: face_normals incorrect shape, ignoring! \n"
     ]
    },
    {
     "name": "stdout",
     "output_type": "stream",
     "text": [
      "Warning: deduplication not currently supported for this layer's variable layered draco meshes\n"
     ]
    },
    {
     "name": "stderr",
     "output_type": "stream",
     "text": [
      "100%|██████████| 21285/21285 [00:00<00:00, 415406.12it/s]\n"
     ]
    },
    {
     "name": "stdout",
     "output_type": "stream",
     "text": [
      "<class 'trimesh.base.Trimesh'>\n",
      "\n",
      "<trimesh.Trimesh(vertices.shape=(21382, 3), faces.shape=(42587, 3))>\n"
     ]
    },
    {
     "name": "stderr",
     "output_type": "stream",
     "text": [
      "100%|██████████| 26554/26554 [00:00<00:00, 454071.43it/s]\n"
     ]
    },
    {
     "name": "stdout",
     "output_type": "stream",
     "text": [
      "proposed endpoints: \n",
      "[(104882, 104419, 20465), (98255, 97522, 21044), (106899, 111656, 20738)]\n",
      "[[ 8273.97316892 16729.31469009   665.3495322 ]\n",
      " [11144.90735717    49.13247399 16804.10610535]]\n"
     ]
    },
    {
     "name": "stderr",
     "output_type": "stream",
     "text": [
      "08/09/2022 03:40:46 PM WARNING: face_normals incorrect shape, ignoring! \n"
     ]
    },
    {
     "name": "stdout",
     "output_type": "stream",
     "text": [
      "Warning: deduplication not currently supported for this layer's variable layered draco meshes\n"
     ]
    },
    {
     "name": "stderr",
     "output_type": "stream",
     "text": [
      "100%|██████████| 8120/8120 [00:00<00:00, 344874.62it/s]\n"
     ]
    },
    {
     "name": "stdout",
     "output_type": "stream",
     "text": [
      "<class 'trimesh.base.Trimesh'>\n",
      "\n",
      "<trimesh.Trimesh(vertices.shape=(8301, 3), faces.shape=(16261, 3))>\n"
     ]
    },
    {
     "name": "stderr",
     "output_type": "stream",
     "text": [
      "100%|██████████| 26554/26554 [00:00<00:00, 402675.26it/s]\n"
     ]
    },
    {
     "name": "stdout",
     "output_type": "stream",
     "text": [
      "proposed endpoints: \n",
      "[(104879, 104417, 20465), (106905, 111662, 20737), (98222, 97529, 21045)]\n",
      "[[ 8276.38429509   675.41838885 16741.33124934]\n",
      " [11141.9013189  16814.04395141    72.80109889]]\n"
     ]
    },
    {
     "name": "stderr",
     "output_type": "stream",
     "text": [
      "08/09/2022 03:40:50 PM WARNING: face_normals incorrect shape, ignoring! \n"
     ]
    },
    {
     "name": "stdout",
     "output_type": "stream",
     "text": [
      "Warning: deduplication not currently supported for this layer's variable layered draco meshes\n"
     ]
    },
    {
     "name": "stderr",
     "output_type": "stream",
     "text": [
      "100%|██████████| 9546/9546 [00:00<00:00, 327682.15it/s]\n"
     ]
    },
    {
     "name": "stdout",
     "output_type": "stream",
     "text": [
      "<class 'trimesh.base.Trimesh'>\n",
      "\n",
      "<trimesh.Trimesh(vertices.shape=(9756, 3), faces.shape=(19112, 3))>\n"
     ]
    },
    {
     "name": "stderr",
     "output_type": "stream",
     "text": [
      "100%|██████████| 26554/26554 [00:00<00:00, 416723.28it/s]\n"
     ]
    },
    {
     "name": "stdout",
     "output_type": "stream",
     "text": [
      "proposed endpoints: \n",
      "[(104879, 104417, 20465), (106905, 111662, 20737), (98222, 97529, 21045)]\n",
      "[[ 8276.38429509   675.41838885 16741.33124934]\n",
      " [11141.9013189  16814.04395141    72.80109889]]\n"
     ]
    },
    {
     "name": "stderr",
     "output_type": "stream",
     "text": [
      "08/09/2022 03:40:53 PM WARNING: face_normals incorrect shape, ignoring! \n"
     ]
    },
    {
     "name": "stdout",
     "output_type": "stream",
     "text": [
      "Warning: deduplication not currently supported for this layer's variable layered draco meshes\n"
     ]
    },
    {
     "name": "stderr",
     "output_type": "stream",
     "text": [
      "100%|██████████| 11021/11021 [00:00<00:00, 376067.17it/s]\n"
     ]
    },
    {
     "name": "stdout",
     "output_type": "stream",
     "text": [
      "<class 'trimesh.base.Trimesh'>\n",
      "\n",
      "<trimesh.Trimesh(vertices.shape=(11212, 3), faces.shape=(22062, 3))>\n"
     ]
    },
    {
     "name": "stderr",
     "output_type": "stream",
     "text": [
      "100%|██████████| 26554/26554 [00:00<00:00, 421092.31it/s]\n"
     ]
    },
    {
     "name": "stdout",
     "output_type": "stream",
     "text": [
      "proposed endpoints: \n",
      "[(104879, 104417, 20465), (106905, 111662, 20737), (98222, 97529, 21045)]\n",
      "[[ 8276.38429509   675.41838885 16741.33124934]\n",
      " [11141.9013189  16814.04395141    72.80109889]]\n"
     ]
    },
    {
     "name": "stderr",
     "output_type": "stream",
     "text": [
      "08/09/2022 03:40:57 PM WARNING: face_normals incorrect shape, ignoring! \n"
     ]
    },
    {
     "name": "stdout",
     "output_type": "stream",
     "text": [
      "Warning: deduplication not currently supported for this layer's variable layered draco meshes\n"
     ]
    },
    {
     "name": "stderr",
     "output_type": "stream",
     "text": [
      "100%|██████████| 12462/12462 [00:00<00:00, 373113.12it/s]\n"
     ]
    },
    {
     "name": "stdout",
     "output_type": "stream",
     "text": [
      "<class 'trimesh.base.Trimesh'>\n",
      "\n",
      "<trimesh.Trimesh(vertices.shape=(12666, 3), faces.shape=(24944, 3))>\n"
     ]
    },
    {
     "name": "stderr",
     "output_type": "stream",
     "text": [
      "100%|██████████| 26554/26554 [00:00<00:00, 405137.53it/s]\n"
     ]
    },
    {
     "name": "stdout",
     "output_type": "stream",
     "text": [
      "proposed endpoints: \n",
      "[(104879, 104417, 20465), (106905, 111662, 20737), (98222, 97529, 21045)]\n",
      "[[ 8276.38429509   675.41838885 16741.33124934]\n",
      " [11141.9013189  16814.04395141    72.80109889]]\n"
     ]
    },
    {
     "name": "stderr",
     "output_type": "stream",
     "text": [
      "08/09/2022 03:41:01 PM WARNING: face_normals incorrect shape, ignoring! \n"
     ]
    },
    {
     "name": "stdout",
     "output_type": "stream",
     "text": [
      "Warning: deduplication not currently supported for this layer's variable layered draco meshes\n"
     ]
    },
    {
     "name": "stderr",
     "output_type": "stream",
     "text": [
      "100%|██████████| 13900/13900 [00:00<00:00, 386021.49it/s]\n"
     ]
    },
    {
     "name": "stdout",
     "output_type": "stream",
     "text": [
      "<class 'trimesh.base.Trimesh'>\n",
      "\n",
      "<trimesh.Trimesh(vertices.shape=(14119, 3), faces.shape=(27822, 3))>\n"
     ]
    },
    {
     "name": "stderr",
     "output_type": "stream",
     "text": [
      "100%|██████████| 26554/26554 [00:00<00:00, 421949.00it/s]\n"
     ]
    },
    {
     "name": "stdout",
     "output_type": "stream",
     "text": [
      "proposed endpoints: \n",
      "[(104879, 104417, 20465), (106905, 111662, 20737), (98222, 97529, 21045)]\n",
      "[[ 8276.38429509   675.41838885 16741.33124934]\n",
      " [11141.9013189  16814.04395141    72.80109889]]\n"
     ]
    },
    {
     "name": "stderr",
     "output_type": "stream",
     "text": [
      "08/09/2022 03:41:05 PM WARNING: face_normals incorrect shape, ignoring! \n"
     ]
    },
    {
     "name": "stdout",
     "output_type": "stream",
     "text": [
      "Warning: deduplication not currently supported for this layer's variable layered draco meshes\n"
     ]
    },
    {
     "name": "stderr",
     "output_type": "stream",
     "text": [
      "100%|██████████| 15338/15338 [00:00<00:00, 289101.16it/s]\n"
     ]
    },
    {
     "name": "stdout",
     "output_type": "stream",
     "text": [
      "<class 'trimesh.base.Trimesh'>\n",
      "\n",
      "<trimesh.Trimesh(vertices.shape=(15574, 3), faces.shape=(30699, 3))>\n"
     ]
    },
    {
     "name": "stderr",
     "output_type": "stream",
     "text": [
      "100%|██████████| 26554/26554 [00:00<00:00, 424823.49it/s]\n"
     ]
    },
    {
     "name": "stdout",
     "output_type": "stream",
     "text": [
      "proposed endpoints: \n",
      "[(104879, 104417, 20465), (106905, 111662, 20737), (98222, 97529, 21045)]\n",
      "[[ 8276.38429509   675.41838885 16741.33124934]\n",
      " [11141.9013189  16814.04395141    72.80109889]]\n"
     ]
    },
    {
     "name": "stderr",
     "output_type": "stream",
     "text": [
      "08/09/2022 03:41:08 PM WARNING: face_normals incorrect shape, ignoring! \n"
     ]
    },
    {
     "name": "stdout",
     "output_type": "stream",
     "text": [
      "Warning: deduplication not currently supported for this layer's variable layered draco meshes\n"
     ]
    },
    {
     "name": "stderr",
     "output_type": "stream",
     "text": [
      "100%|██████████| 16850/16850 [00:00<00:00, 365406.61it/s]\n"
     ]
    },
    {
     "name": "stdout",
     "output_type": "stream",
     "text": [
      "<class 'trimesh.base.Trimesh'>\n",
      "\n",
      "<trimesh.Trimesh(vertices.shape=(17029, 3), faces.shape=(33723, 3))>\n"
     ]
    },
    {
     "name": "stderr",
     "output_type": "stream",
     "text": [
      "100%|██████████| 26554/26554 [00:00<00:00, 433344.29it/s]\n"
     ]
    },
    {
     "name": "stdout",
     "output_type": "stream",
     "text": [
      "proposed endpoints: \n",
      "[(104879, 104417, 20465), (106905, 111662, 20737), (98222, 97529, 21045)]\n",
      "[[ 8276.38429509   675.41838885 16741.33124934]\n",
      " [11141.9013189  16814.04395141    72.80109889]]\n"
     ]
    },
    {
     "name": "stderr",
     "output_type": "stream",
     "text": [
      "08/09/2022 03:41:12 PM WARNING: face_normals incorrect shape, ignoring! \n"
     ]
    },
    {
     "name": "stdout",
     "output_type": "stream",
     "text": [
      "Warning: deduplication not currently supported for this layer's variable layered draco meshes\n"
     ]
    },
    {
     "name": "stderr",
     "output_type": "stream",
     "text": [
      "100%|██████████| 18298/18298 [00:00<00:00, 384582.96it/s]\n"
     ]
    },
    {
     "name": "stdout",
     "output_type": "stream",
     "text": [
      "<class 'trimesh.base.Trimesh'>\n",
      "\n",
      "<trimesh.Trimesh(vertices.shape=(18483, 3), faces.shape=(36620, 3))>\n"
     ]
    },
    {
     "name": "stderr",
     "output_type": "stream",
     "text": [
      "100%|██████████| 26554/26554 [00:00<00:00, 367498.44it/s]\n"
     ]
    },
    {
     "name": "stdout",
     "output_type": "stream",
     "text": [
      "proposed endpoints: \n",
      "[(104879, 104417, 20465), (106905, 111662, 20737), (98222, 97529, 21045)]\n",
      "[[ 8276.38429509   675.41838885 16741.33124934]\n",
      " [11141.9013189  16814.04395141    72.80109889]]\n"
     ]
    },
    {
     "name": "stderr",
     "output_type": "stream",
     "text": [
      "08/09/2022 03:41:16 PM WARNING: face_normals incorrect shape, ignoring! \n"
     ]
    },
    {
     "name": "stdout",
     "output_type": "stream",
     "text": [
      "Warning: deduplication not currently supported for this layer's variable layered draco meshes\n"
     ]
    },
    {
     "name": "stderr",
     "output_type": "stream",
     "text": [
      "100%|██████████| 19749/19749 [00:00<00:00, 382111.24it/s]\n"
     ]
    },
    {
     "name": "stdout",
     "output_type": "stream",
     "text": [
      "<class 'trimesh.base.Trimesh'>\n",
      "\n",
      "<trimesh.Trimesh(vertices.shape=(19938, 3), faces.shape=(39522, 3))>\n"
     ]
    },
    {
     "name": "stderr",
     "output_type": "stream",
     "text": [
      "100%|██████████| 26554/26554 [00:00<00:00, 429494.09it/s]\n"
     ]
    },
    {
     "name": "stdout",
     "output_type": "stream",
     "text": [
      "proposed endpoints: \n",
      "[(104879, 104417, 20465), (106905, 111662, 20737), (98222, 97529, 21045)]\n",
      "[[ 8276.38429509   675.41838885 16741.33124934]\n",
      " [11141.9013189  16814.04395141    72.80109889]]\n"
     ]
    },
    {
     "name": "stderr",
     "output_type": "stream",
     "text": [
      "08/09/2022 03:41:25 PM WARNING: face_normals incorrect shape, ignoring! \n"
     ]
    },
    {
     "name": "stdout",
     "output_type": "stream",
     "text": [
      "Warning: deduplication not currently supported for this layer's variable layered draco meshes\n"
     ]
    },
    {
     "name": "stderr",
     "output_type": "stream",
     "text": [
      "100%|██████████| 21198/21198 [00:00<00:00, 382827.22it/s]\n"
     ]
    },
    {
     "name": "stdout",
     "output_type": "stream",
     "text": [
      "<class 'trimesh.base.Trimesh'>\n",
      "\n",
      "<trimesh.Trimesh(vertices.shape=(21391, 3), faces.shape=(42420, 3))>\n"
     ]
    },
    {
     "name": "stderr",
     "output_type": "stream",
     "text": [
      "100%|██████████| 26554/26554 [00:00<00:00, 420412.01it/s]\n"
     ]
    },
    {
     "name": "stdout",
     "output_type": "stream",
     "text": [
      "proposed endpoints: \n",
      "[(104879, 104417, 20465), (106905, 111662, 20737), (98222, 97529, 21045)]\n",
      "[[ 8276.38429509   675.41838885 16741.33124934]\n",
      " [11141.9013189  16814.04395141    72.80109889]]\n"
     ]
    },
    {
     "name": "stderr",
     "output_type": "stream",
     "text": [
      "08/09/2022 03:41:29 PM WARNING: face_normals incorrect shape, ignoring! \n"
     ]
    },
    {
     "name": "stdout",
     "output_type": "stream",
     "text": [
      "Warning: deduplication not currently supported for this layer's variable layered draco meshes\n"
     ]
    },
    {
     "name": "stderr",
     "output_type": "stream",
     "text": [
      "100%|██████████| 8212/8212 [00:00<00:00, 359289.26it/s]\n"
     ]
    },
    {
     "name": "stdout",
     "output_type": "stream",
     "text": [
      "<class 'trimesh.base.Trimesh'>\n",
      "\n",
      "<trimesh.Trimesh(vertices.shape=(8280, 3), faces.shape=(16440, 3))>\n"
     ]
    },
    {
     "name": "stderr",
     "output_type": "stream",
     "text": [
      "100%|██████████| 26554/26554 [00:00<00:00, 437037.65it/s]\n"
     ]
    },
    {
     "name": "stdout",
     "output_type": "stream",
     "text": [
      "proposed endpoints: \n",
      "[(104882, 104419, 20465), (98255, 97522, 21044), (106899, 111656, 20738)]\n",
      "[[ 8273.97316892 16729.31469009   665.3495322 ]\n",
      " [11144.90735717    49.13247399 16804.10610535]]\n"
     ]
    },
    {
     "name": "stderr",
     "output_type": "stream",
     "text": [
      "08/09/2022 03:41:33 PM WARNING: face_normals incorrect shape, ignoring! \n"
     ]
    },
    {
     "name": "stdout",
     "output_type": "stream",
     "text": [
      "Warning: deduplication not currently supported for this layer's variable layered draco meshes\n"
     ]
    },
    {
     "name": "stderr",
     "output_type": "stream",
     "text": [
      "100%|██████████| 9655/9655 [00:00<00:00, 369034.54it/s]\n"
     ]
    },
    {
     "name": "stdout",
     "output_type": "stream",
     "text": [
      "<class 'trimesh.base.Trimesh'>\n",
      "\n",
      "<trimesh.Trimesh(vertices.shape=(9735, 3), faces.shape=(19328, 3))>\n"
     ]
    },
    {
     "name": "stderr",
     "output_type": "stream",
     "text": [
      "100%|██████████| 26554/26554 [00:00<00:00, 420370.75it/s]\n"
     ]
    },
    {
     "name": "stdout",
     "output_type": "stream",
     "text": [
      "proposed endpoints: \n",
      "[(104882, 104419, 20465), (98255, 97522, 21044), (106899, 111656, 20738)]\n",
      "[[ 8273.97316892 16729.31469009   665.3495322 ]\n",
      " [11144.90735717    49.13247399 16804.10610535]]\n"
     ]
    },
    {
     "name": "stderr",
     "output_type": "stream",
     "text": [
      "08/09/2022 03:41:36 PM WARNING: face_normals incorrect shape, ignoring! \n"
     ]
    },
    {
     "name": "stdout",
     "output_type": "stream",
     "text": [
      "Warning: deduplication not currently supported for this layer's variable layered draco meshes\n"
     ]
    },
    {
     "name": "stderr",
     "output_type": "stream",
     "text": [
      "100%|██████████| 11104/11104 [00:00<00:00, 380717.49it/s]\n"
     ]
    },
    {
     "name": "stdout",
     "output_type": "stream",
     "text": [
      "<class 'trimesh.base.Trimesh'>\n",
      "\n",
      "<trimesh.Trimesh(vertices.shape=(11192, 3), faces.shape=(22230, 3))>\n"
     ]
    },
    {
     "name": "stderr",
     "output_type": "stream",
     "text": [
      "100%|██████████| 26554/26554 [00:00<00:00, 406521.65it/s]\n"
     ]
    },
    {
     "name": "stdout",
     "output_type": "stream",
     "text": [
      "proposed endpoints: \n",
      "[(104882, 104419, 20465), (98255, 97522, 21044), (106899, 111656, 20738)]\n",
      "[[ 8273.97316892 16729.31469009   665.3495322 ]\n",
      " [11144.90735717    49.13247399 16804.10610535]]\n"
     ]
    },
    {
     "name": "stderr",
     "output_type": "stream",
     "text": [
      "08/09/2022 03:41:41 PM WARNING: face_normals incorrect shape, ignoring! \n"
     ]
    },
    {
     "name": "stdout",
     "output_type": "stream",
     "text": [
      "Warning: deduplication not currently supported for this layer's variable layered draco meshes\n"
     ]
    },
    {
     "name": "stderr",
     "output_type": "stream",
     "text": [
      "100%|██████████| 12546/12546 [00:00<00:00, 351989.58it/s]\n"
     ]
    },
    {
     "name": "stdout",
     "output_type": "stream",
     "text": [
      "<class 'trimesh.base.Trimesh'>\n",
      "\n",
      "<trimesh.Trimesh(vertices.shape=(12646, 3), faces.shape=(25113, 3))>\n"
     ]
    },
    {
     "name": "stderr",
     "output_type": "stream",
     "text": [
      "100%|██████████| 26554/26554 [00:00<00:00, 397521.36it/s]\n"
     ]
    },
    {
     "name": "stdout",
     "output_type": "stream",
     "text": [
      "proposed endpoints: \n",
      "[(104882, 104419, 20465), (98255, 97522, 21044), (106899, 111656, 20738)]\n",
      "[[ 8273.97316892 16729.31469009   665.3495322 ]\n",
      " [11144.90735717    49.13247399 16804.10610535]]\n"
     ]
    },
    {
     "name": "stderr",
     "output_type": "stream",
     "text": [
      "08/09/2022 03:41:45 PM WARNING: face_normals incorrect shape, ignoring! \n"
     ]
    },
    {
     "name": "stdout",
     "output_type": "stream",
     "text": [
      "Warning: deduplication not currently supported for this layer's variable layered draco meshes\n"
     ]
    },
    {
     "name": "stderr",
     "output_type": "stream",
     "text": [
      "100%|██████████| 13989/13989 [00:00<00:00, 367996.63it/s]\n"
     ]
    },
    {
     "name": "stdout",
     "output_type": "stream",
     "text": [
      "<class 'trimesh.base.Trimesh'>\n",
      "\n",
      "<trimesh.Trimesh(vertices.shape=(14100, 3), faces.shape=(27998, 3))>\n"
     ]
    },
    {
     "name": "stderr",
     "output_type": "stream",
     "text": [
      "100%|██████████| 26554/26554 [00:00<00:00, 405034.40it/s]\n"
     ]
    },
    {
     "name": "stdout",
     "output_type": "stream",
     "text": [
      "proposed endpoints: \n",
      "[(104882, 104419, 20465), (98255, 97522, 21044), (106899, 111656, 20738)]\n",
      "[[ 8273.97316892 16729.31469009   665.3495322 ]\n",
      " [11144.90735717    49.13247399 16804.10610535]]\n"
     ]
    },
    {
     "name": "stderr",
     "output_type": "stream",
     "text": [
      "08/09/2022 03:41:49 PM WARNING: face_normals incorrect shape, ignoring! \n"
     ]
    },
    {
     "name": "stdout",
     "output_type": "stream",
     "text": [
      "Warning: deduplication not currently supported for this layer's variable layered draco meshes\n"
     ]
    },
    {
     "name": "stderr",
     "output_type": "stream",
     "text": [
      "100%|██████████| 15494/15494 [00:00<00:00, 367471.20it/s]\n"
     ]
    },
    {
     "name": "stdout",
     "output_type": "stream",
     "text": [
      "<class 'trimesh.base.Trimesh'>\n",
      "\n",
      "<trimesh.Trimesh(vertices.shape=(15555, 3), faces.shape=(31007, 3))>\n"
     ]
    },
    {
     "name": "stderr",
     "output_type": "stream",
     "text": [
      "100%|██████████| 26554/26554 [00:00<00:00, 432039.83it/s]\n"
     ]
    },
    {
     "name": "stdout",
     "output_type": "stream",
     "text": [
      "proposed endpoints: \n",
      "[(104882, 104419, 20465), (98255, 97522, 21044), (106899, 111656, 20738)]\n",
      "[[ 8273.97316892 16729.31469009   665.3495322 ]\n",
      " [11144.90735717    49.13247399 16804.10610535]]\n"
     ]
    },
    {
     "name": "stderr",
     "output_type": "stream",
     "text": [
      "08/09/2022 03:41:53 PM WARNING: face_normals incorrect shape, ignoring! \n"
     ]
    },
    {
     "name": "stdout",
     "output_type": "stream",
     "text": [
      "Warning: deduplication not currently supported for this layer's variable layered draco meshes\n"
     ]
    },
    {
     "name": "stderr",
     "output_type": "stream",
     "text": [
      "100%|██████████| 16943/16943 [00:00<00:00, 376971.84it/s]\n"
     ]
    },
    {
     "name": "stdout",
     "output_type": "stream",
     "text": [
      "<class 'trimesh.base.Trimesh'>\n",
      "\n",
      "<trimesh.Trimesh(vertices.shape=(17011, 3), faces.shape=(33905, 3))>\n"
     ]
    },
    {
     "name": "stderr",
     "output_type": "stream",
     "text": [
      "100%|██████████| 26554/26554 [00:00<00:00, 427271.38it/s]\n"
     ]
    },
    {
     "name": "stdout",
     "output_type": "stream",
     "text": [
      "proposed endpoints: \n",
      "[(104882, 104419, 20465), (98255, 97522, 21044), (106899, 111656, 20738)]\n",
      "[[ 8273.97316892 16729.31469009   665.3495322 ]\n",
      " [11144.90735717    49.13247399 16804.10610535]]\n"
     ]
    },
    {
     "name": "stderr",
     "output_type": "stream",
     "text": [
      "08/09/2022 03:41:57 PM WARNING: face_normals incorrect shape, ignoring! \n"
     ]
    },
    {
     "name": "stdout",
     "output_type": "stream",
     "text": [
      "Warning: deduplication not currently supported for this layer's variable layered draco meshes\n"
     ]
    },
    {
     "name": "stderr",
     "output_type": "stream",
     "text": [
      "100%|██████████| 18391/18391 [00:00<00:00, 364343.96it/s]\n"
     ]
    },
    {
     "name": "stdout",
     "output_type": "stream",
     "text": [
      "<class 'trimesh.base.Trimesh'>\n",
      "\n",
      "<trimesh.Trimesh(vertices.shape=(18465, 3), faces.shape=(36800, 3))>\n"
     ]
    },
    {
     "name": "stderr",
     "output_type": "stream",
     "text": [
      "100%|██████████| 26554/26554 [00:00<00:00, 414214.12it/s]\n"
     ]
    },
    {
     "name": "stdout",
     "output_type": "stream",
     "text": [
      "proposed endpoints: \n",
      "[(104882, 104419, 20465), (98255, 97522, 21044), (106899, 111656, 20738)]\n",
      "[[ 8273.97316892 16729.31469009   665.3495322 ]\n",
      " [11144.90735717    49.13247399 16804.10610535]]\n"
     ]
    },
    {
     "name": "stderr",
     "output_type": "stream",
     "text": [
      "08/09/2022 03:42:01 PM WARNING: face_normals incorrect shape, ignoring! \n"
     ]
    },
    {
     "name": "stdout",
     "output_type": "stream",
     "text": [
      "Warning: deduplication not currently supported for this layer's variable layered draco meshes\n"
     ]
    },
    {
     "name": "stderr",
     "output_type": "stream",
     "text": [
      "100%|██████████| 19843/19843 [00:00<00:00, 360303.45it/s]\n"
     ]
    },
    {
     "name": "stdout",
     "output_type": "stream",
     "text": [
      "<class 'trimesh.base.Trimesh'>\n",
      "\n",
      "<trimesh.Trimesh(vertices.shape=(19925, 3), faces.shape=(39704, 3))>\n"
     ]
    },
    {
     "name": "stderr",
     "output_type": "stream",
     "text": [
      "100%|██████████| 26554/26554 [00:00<00:00, 414860.59it/s]\n"
     ]
    },
    {
     "name": "stdout",
     "output_type": "stream",
     "text": [
      "proposed endpoints: \n",
      "[(104882, 104419, 20465), (98255, 97522, 21044), (106899, 111656, 20738)]\n",
      "[[ 8273.97316892 16729.31469009   665.3495322 ]\n",
      " [11144.90735717    49.13247399 16804.10610535]]\n"
     ]
    },
    {
     "name": "stderr",
     "output_type": "stream",
     "text": [
      "08/09/2022 03:42:04 PM WARNING: face_normals incorrect shape, ignoring! \n"
     ]
    },
    {
     "name": "stdout",
     "output_type": "stream",
     "text": [
      "Warning: deduplication not currently supported for this layer's variable layered draco meshes\n"
     ]
    },
    {
     "name": "stderr",
     "output_type": "stream",
     "text": [
      "100%|██████████| 21285/21285 [00:00<00:00, 359811.71it/s]\n"
     ]
    },
    {
     "name": "stdout",
     "output_type": "stream",
     "text": [
      "<class 'trimesh.base.Trimesh'>\n",
      "\n",
      "<trimesh.Trimesh(vertices.shape=(21382, 3), faces.shape=(42587, 3))>\n"
     ]
    },
    {
     "name": "stderr",
     "output_type": "stream",
     "text": [
      "100%|██████████| 26554/26554 [00:00<00:00, 442329.80it/s]\n"
     ]
    },
    {
     "name": "stdout",
     "output_type": "stream",
     "text": [
      "proposed endpoints: \n",
      "[(104882, 104419, 20465), (98255, 97522, 21044), (106899, 111656, 20738)]\n",
      "[[ 8273.97316892 16729.31469009   665.3495322 ]\n",
      " [11144.90735717    49.13247399 16804.10610535]]\n"
     ]
    },
    {
     "name": "stderr",
     "output_type": "stream",
     "text": [
      "08/09/2022 03:42:08 PM WARNING: face_normals incorrect shape, ignoring! \n"
     ]
    },
    {
     "name": "stdout",
     "output_type": "stream",
     "text": [
      "Warning: deduplication not currently supported for this layer's variable layered draco meshes\n"
     ]
    },
    {
     "name": "stderr",
     "output_type": "stream",
     "text": [
      "100%|██████████| 8213/8213 [00:00<00:00, 353840.82it/s]\n"
     ]
    },
    {
     "name": "stdout",
     "output_type": "stream",
     "text": [
      "<class 'trimesh.base.Trimesh'>\n",
      "\n",
      "<trimesh.Trimesh(vertices.shape=(8280, 3), faces.shape=(16442, 3))>\n"
     ]
    },
    {
     "name": "stderr",
     "output_type": "stream",
     "text": [
      "100%|██████████| 26554/26554 [00:00<00:00, 396695.90it/s]\n"
     ]
    },
    {
     "name": "stdout",
     "output_type": "stream",
     "text": [
      "proposed endpoints: \n",
      "[(104882, 104419, 20465), (98255, 97522, 21044), (106899, 111656, 20738)]\n",
      "[[ 8273.97316892 16729.31469009   665.3495322 ]\n",
      " [11144.90735717    49.13247399 16804.10610535]]\n"
     ]
    },
    {
     "name": "stderr",
     "output_type": "stream",
     "text": [
      "08/09/2022 03:42:13 PM WARNING: face_normals incorrect shape, ignoring! \n"
     ]
    },
    {
     "name": "stdout",
     "output_type": "stream",
     "text": [
      "Warning: deduplication not currently supported for this layer's variable layered draco meshes\n"
     ]
    },
    {
     "name": "stderr",
     "output_type": "stream",
     "text": [
      "100%|██████████| 9656/9656 [00:00<00:00, 387109.78it/s]\n"
     ]
    },
    {
     "name": "stdout",
     "output_type": "stream",
     "text": [
      "<class 'trimesh.base.Trimesh'>\n",
      "\n",
      "<trimesh.Trimesh(vertices.shape=(9735, 3), faces.shape=(19330, 3))>\n"
     ]
    },
    {
     "name": "stderr",
     "output_type": "stream",
     "text": [
      "100%|██████████| 26554/26554 [00:00<00:00, 433943.67it/s]\n"
     ]
    },
    {
     "name": "stdout",
     "output_type": "stream",
     "text": [
      "proposed endpoints: \n",
      "[(104882, 104419, 20465), (98255, 97522, 21044), (106899, 111656, 20738)]\n",
      "[[ 8273.97316892 16729.31469009   665.3495322 ]\n",
      " [11144.90735717    49.13247399 16804.10610535]]\n"
     ]
    },
    {
     "name": "stderr",
     "output_type": "stream",
     "text": [
      "08/09/2022 03:42:17 PM WARNING: face_normals incorrect shape, ignoring! \n"
     ]
    },
    {
     "name": "stdout",
     "output_type": "stream",
     "text": [
      "Warning: deduplication not currently supported for this layer's variable layered draco meshes\n"
     ]
    },
    {
     "name": "stderr",
     "output_type": "stream",
     "text": [
      "100%|██████████| 11104/11104 [00:00<00:00, 353292.96it/s]\n"
     ]
    },
    {
     "name": "stdout",
     "output_type": "stream",
     "text": [
      "<class 'trimesh.base.Trimesh'>\n",
      "\n",
      "<trimesh.Trimesh(vertices.shape=(11192, 3), faces.shape=(22230, 3))>\n"
     ]
    },
    {
     "name": "stderr",
     "output_type": "stream",
     "text": [
      "100%|██████████| 26554/26554 [00:00<00:00, 437404.95it/s]\n"
     ]
    },
    {
     "name": "stdout",
     "output_type": "stream",
     "text": [
      "proposed endpoints: \n",
      "[(104882, 104419, 20465), (98255, 97522, 21044), (106899, 111656, 20738)]\n",
      "[[ 8273.97316892 16729.31469009   665.3495322 ]\n",
      " [11144.90735717    49.13247399 16804.10610535]]\n"
     ]
    },
    {
     "name": "stderr",
     "output_type": "stream",
     "text": [
      "08/09/2022 03:42:22 PM WARNING: face_normals incorrect shape, ignoring! \n"
     ]
    },
    {
     "name": "stdout",
     "output_type": "stream",
     "text": [
      "Warning: deduplication not currently supported for this layer's variable layered draco meshes\n"
     ]
    },
    {
     "name": "stderr",
     "output_type": "stream",
     "text": [
      "100%|██████████| 12546/12546 [00:00<00:00, 361442.82it/s]\n"
     ]
    },
    {
     "name": "stdout",
     "output_type": "stream",
     "text": [
      "<class 'trimesh.base.Trimesh'>\n",
      "\n",
      "<trimesh.Trimesh(vertices.shape=(12646, 3), faces.shape=(25113, 3))>\n"
     ]
    },
    {
     "name": "stderr",
     "output_type": "stream",
     "text": [
      "100%|██████████| 26554/26554 [00:00<00:00, 414704.57it/s]\n"
     ]
    },
    {
     "name": "stdout",
     "output_type": "stream",
     "text": [
      "proposed endpoints: \n",
      "[(104882, 104419, 20465), (98255, 97522, 21044), (106899, 111656, 20738)]\n",
      "[[ 8273.97316892 16729.31469009   665.3495322 ]\n",
      " [11144.90735717    49.13247399 16804.10610535]]\n"
     ]
    },
    {
     "name": "stderr",
     "output_type": "stream",
     "text": [
      "08/09/2022 03:42:29 PM WARNING: face_normals incorrect shape, ignoring! \n"
     ]
    },
    {
     "name": "stdout",
     "output_type": "stream",
     "text": [
      "Warning: deduplication not currently supported for this layer's variable layered draco meshes\n"
     ]
    },
    {
     "name": "stderr",
     "output_type": "stream",
     "text": [
      "100%|██████████| 13989/13989 [00:00<00:00, 368898.97it/s]\n"
     ]
    },
    {
     "name": "stdout",
     "output_type": "stream",
     "text": [
      "<class 'trimesh.base.Trimesh'>\n",
      "\n",
      "<trimesh.Trimesh(vertices.shape=(14100, 3), faces.shape=(27998, 3))>\n"
     ]
    },
    {
     "name": "stderr",
     "output_type": "stream",
     "text": [
      "100%|██████████| 26554/26554 [00:00<00:00, 417534.09it/s]\n"
     ]
    },
    {
     "name": "stdout",
     "output_type": "stream",
     "text": [
      "proposed endpoints: \n",
      "[(104882, 104419, 20465), (98255, 97522, 21044), (106899, 111656, 20738)]\n",
      "[[ 8273.97316892 16729.31469009   665.3495322 ]\n",
      " [11144.90735717    49.13247399 16804.10610535]]\n"
     ]
    },
    {
     "name": "stderr",
     "output_type": "stream",
     "text": [
      "08/09/2022 03:42:34 PM WARNING: face_normals incorrect shape, ignoring! \n"
     ]
    },
    {
     "name": "stdout",
     "output_type": "stream",
     "text": [
      "Warning: deduplication not currently supported for this layer's variable layered draco meshes\n"
     ]
    },
    {
     "name": "stderr",
     "output_type": "stream",
     "text": [
      "100%|██████████| 15495/15495 [00:00<00:00, 349538.49it/s]\n"
     ]
    },
    {
     "name": "stdout",
     "output_type": "stream",
     "text": [
      "<class 'trimesh.base.Trimesh'>\n",
      "\n",
      "<trimesh.Trimesh(vertices.shape=(15555, 3), faces.shape=(31009, 3))>\n"
     ]
    },
    {
     "name": "stderr",
     "output_type": "stream",
     "text": [
      "100%|██████████| 26554/26554 [00:00<00:00, 433506.21it/s]\n"
     ]
    },
    {
     "name": "stdout",
     "output_type": "stream",
     "text": [
      "proposed endpoints: \n",
      "[(104882, 104419, 20465), (98255, 97522, 21044), (106899, 111656, 20738)]\n",
      "[[ 8273.97316892 16729.31469009   665.3495322 ]\n",
      " [11144.90735717    49.13247399 16804.10610535]]\n"
     ]
    },
    {
     "name": "stderr",
     "output_type": "stream",
     "text": [
      "08/09/2022 03:42:39 PM WARNING: face_normals incorrect shape, ignoring! \n"
     ]
    },
    {
     "name": "stdout",
     "output_type": "stream",
     "text": [
      "Warning: deduplication not currently supported for this layer's variable layered draco meshes\n"
     ]
    },
    {
     "name": "stderr",
     "output_type": "stream",
     "text": [
      "100%|██████████| 16943/16943 [00:00<00:00, 352011.55it/s]\n"
     ]
    },
    {
     "name": "stdout",
     "output_type": "stream",
     "text": [
      "<class 'trimesh.base.Trimesh'>\n",
      "\n",
      "<trimesh.Trimesh(vertices.shape=(17011, 3), faces.shape=(33905, 3))>\n"
     ]
    },
    {
     "name": "stderr",
     "output_type": "stream",
     "text": [
      "100%|██████████| 26554/26554 [00:00<00:00, 427120.63it/s]\n"
     ]
    },
    {
     "name": "stdout",
     "output_type": "stream",
     "text": [
      "proposed endpoints: \n",
      "[(104882, 104419, 20465), (98255, 97522, 21044), (106899, 111656, 20738)]\n",
      "[[ 8273.97316892 16729.31469009   665.3495322 ]\n",
      " [11144.90735717    49.13247399 16804.10610535]]\n"
     ]
    },
    {
     "name": "stderr",
     "output_type": "stream",
     "text": [
      "08/09/2022 03:42:43 PM WARNING: face_normals incorrect shape, ignoring! \n"
     ]
    },
    {
     "name": "stdout",
     "output_type": "stream",
     "text": [
      "Warning: deduplication not currently supported for this layer's variable layered draco meshes\n"
     ]
    },
    {
     "name": "stderr",
     "output_type": "stream",
     "text": [
      "100%|██████████| 18391/18391 [00:00<00:00, 371145.73it/s]\n"
     ]
    },
    {
     "name": "stdout",
     "output_type": "stream",
     "text": [
      "<class 'trimesh.base.Trimesh'>\n",
      "\n",
      "<trimesh.Trimesh(vertices.shape=(18465, 3), faces.shape=(36800, 3))>\n"
     ]
    },
    {
     "name": "stderr",
     "output_type": "stream",
     "text": [
      "100%|██████████| 26554/26554 [00:00<00:00, 414672.15it/s]\n"
     ]
    },
    {
     "name": "stdout",
     "output_type": "stream",
     "text": [
      "proposed endpoints: \n",
      "[(104882, 104419, 20465), (98255, 97522, 21044), (106899, 111656, 20738)]\n",
      "[[ 8273.97316892 16729.31469009   665.3495322 ]\n",
      " [11144.90735717    49.13247399 16804.10610535]]\n"
     ]
    },
    {
     "name": "stderr",
     "output_type": "stream",
     "text": [
      "08/09/2022 03:42:47 PM WARNING: face_normals incorrect shape, ignoring! \n"
     ]
    },
    {
     "name": "stdout",
     "output_type": "stream",
     "text": [
      "Warning: deduplication not currently supported for this layer's variable layered draco meshes\n"
     ]
    },
    {
     "name": "stderr",
     "output_type": "stream",
     "text": [
      "100%|██████████| 19843/19843 [00:00<00:00, 428687.70it/s]\n"
     ]
    },
    {
     "name": "stdout",
     "output_type": "stream",
     "text": [
      "<class 'trimesh.base.Trimesh'>\n",
      "\n",
      "<trimesh.Trimesh(vertices.shape=(19925, 3), faces.shape=(39704, 3))>\n"
     ]
    },
    {
     "name": "stderr",
     "output_type": "stream",
     "text": [
      "100%|██████████| 26554/26554 [00:00<00:00, 427146.84it/s]\n"
     ]
    },
    {
     "name": "stdout",
     "output_type": "stream",
     "text": [
      "proposed endpoints: \n",
      "[(104882, 104419, 20465), (98255, 97522, 21044), (106899, 111656, 20738)]\n",
      "[[ 8273.97316892 16729.31469009   665.3495322 ]\n",
      " [11144.90735717    49.13247399 16804.10610535]]\n"
     ]
    },
    {
     "name": "stderr",
     "output_type": "stream",
     "text": [
      "08/09/2022 03:42:55 PM WARNING: face_normals incorrect shape, ignoring! \n"
     ]
    },
    {
     "name": "stdout",
     "output_type": "stream",
     "text": [
      "Warning: deduplication not currently supported for this layer's variable layered draco meshes\n"
     ]
    },
    {
     "name": "stderr",
     "output_type": "stream",
     "text": [
      "100%|██████████| 21285/21285 [00:00<00:00, 428709.54it/s]\n"
     ]
    },
    {
     "name": "stdout",
     "output_type": "stream",
     "text": [
      "<class 'trimesh.base.Trimesh'>\n",
      "\n",
      "<trimesh.Trimesh(vertices.shape=(21382, 3), faces.shape=(42587, 3))>\n"
     ]
    },
    {
     "name": "stderr",
     "output_type": "stream",
     "text": [
      "100%|██████████| 26554/26554 [00:00<00:00, 422243.34it/s]\n"
     ]
    },
    {
     "name": "stdout",
     "output_type": "stream",
     "text": [
      "proposed endpoints: \n",
      "[(104882, 104419, 20465), (98255, 97522, 21044), (106899, 111656, 20738)]\n",
      "[[ 8273.97316892 16729.31469009   665.3495322 ]\n",
      " [11144.90735717    49.13247399 16804.10610535]]\n"
     ]
    },
    {
     "name": "stderr",
     "output_type": "stream",
     "text": [
      "08/09/2022 03:42:58 PM WARNING: face_normals incorrect shape, ignoring! \n"
     ]
    },
    {
     "name": "stdout",
     "output_type": "stream",
     "text": [
      "Warning: deduplication not currently supported for this layer's variable layered draco meshes\n"
     ]
    },
    {
     "name": "stderr",
     "output_type": "stream",
     "text": [
      "100%|██████████| 8213/8213 [00:00<00:00, 373009.70it/s]\n"
     ]
    },
    {
     "name": "stdout",
     "output_type": "stream",
     "text": [
      "<class 'trimesh.base.Trimesh'>\n",
      "\n",
      "<trimesh.Trimesh(vertices.shape=(8280, 3), faces.shape=(16442, 3))>\n"
     ]
    },
    {
     "name": "stderr",
     "output_type": "stream",
     "text": [
      "100%|██████████| 26554/26554 [00:00<00:00, 420264.47it/s]\n"
     ]
    },
    {
     "name": "stdout",
     "output_type": "stream",
     "text": [
      "proposed endpoints: \n",
      "[(104882, 104419, 20465), (98255, 97522, 21044), (106899, 111656, 20738)]\n",
      "[[ 8273.97316892 16729.31469009   665.3495322 ]\n",
      " [11144.90735717    49.13247399 16804.10610535]]\n"
     ]
    },
    {
     "name": "stderr",
     "output_type": "stream",
     "text": [
      "08/09/2022 03:43:02 PM WARNING: face_normals incorrect shape, ignoring! \n"
     ]
    },
    {
     "name": "stdout",
     "output_type": "stream",
     "text": [
      "Warning: deduplication not currently supported for this layer's variable layered draco meshes\n"
     ]
    },
    {
     "name": "stderr",
     "output_type": "stream",
     "text": [
      "100%|██████████| 9656/9656 [00:00<00:00, 458930.97it/s]\n"
     ]
    },
    {
     "name": "stdout",
     "output_type": "stream",
     "text": [
      "<class 'trimesh.base.Trimesh'>\n",
      "\n",
      "<trimesh.Trimesh(vertices.shape=(9735, 3), faces.shape=(19330, 3))>\n"
     ]
    },
    {
     "name": "stderr",
     "output_type": "stream",
     "text": [
      "100%|██████████| 26554/26554 [00:00<00:00, 436096.47it/s]\n"
     ]
    },
    {
     "name": "stdout",
     "output_type": "stream",
     "text": [
      "proposed endpoints: \n",
      "[(104882, 104419, 20465), (98255, 97522, 21044), (106899, 111656, 20738)]\n",
      "[[ 8273.97316892 16729.31469009   665.3495322 ]\n",
      " [11144.90735717    49.13247399 16804.10610535]]\n"
     ]
    },
    {
     "name": "stderr",
     "output_type": "stream",
     "text": [
      "08/09/2022 03:43:07 PM WARNING: face_normals incorrect shape, ignoring! \n"
     ]
    },
    {
     "name": "stdout",
     "output_type": "stream",
     "text": [
      "Warning: deduplication not currently supported for this layer's variable layered draco meshes\n"
     ]
    },
    {
     "name": "stderr",
     "output_type": "stream",
     "text": [
      "100%|██████████| 11104/11104 [00:00<00:00, 366236.41it/s]\n"
     ]
    },
    {
     "name": "stdout",
     "output_type": "stream",
     "text": [
      "<class 'trimesh.base.Trimesh'>\n",
      "\n",
      "<trimesh.Trimesh(vertices.shape=(11192, 3), faces.shape=(22230, 3))>\n"
     ]
    },
    {
     "name": "stderr",
     "output_type": "stream",
     "text": [
      "100%|██████████| 26554/26554 [00:00<00:00, 417371.36it/s]\n"
     ]
    },
    {
     "name": "stdout",
     "output_type": "stream",
     "text": [
      "proposed endpoints: \n",
      "[(104882, 104419, 20465), (98255, 97522, 21044), (106899, 111656, 20738)]\n",
      "[[ 8273.97316892 16729.31469009   665.3495322 ]\n",
      " [11144.90735717    49.13247399 16804.10610535]]\n"
     ]
    },
    {
     "name": "stderr",
     "output_type": "stream",
     "text": [
      "08/09/2022 03:43:11 PM WARNING: face_normals incorrect shape, ignoring! \n"
     ]
    },
    {
     "name": "stdout",
     "output_type": "stream",
     "text": [
      "Warning: deduplication not currently supported for this layer's variable layered draco meshes\n"
     ]
    },
    {
     "name": "stderr",
     "output_type": "stream",
     "text": [
      "100%|██████████| 12546/12546 [00:00<00:00, 361410.55it/s]\n"
     ]
    },
    {
     "name": "stdout",
     "output_type": "stream",
     "text": [
      "<class 'trimesh.base.Trimesh'>\n",
      "\n",
      "<trimesh.Trimesh(vertices.shape=(12646, 3), faces.shape=(25113, 3))>\n"
     ]
    },
    {
     "name": "stderr",
     "output_type": "stream",
     "text": [
      "100%|██████████| 26554/26554 [00:00<00:00, 428573.54it/s]\n"
     ]
    },
    {
     "name": "stdout",
     "output_type": "stream",
     "text": [
      "proposed endpoints: \n",
      "[(104882, 104419, 20465), (98255, 97522, 21044), (106899, 111656, 20738)]\n",
      "[[ 8273.97316892 16729.31469009   665.3495322 ]\n",
      " [11144.90735717    49.13247399 16804.10610535]]\n"
     ]
    },
    {
     "name": "stderr",
     "output_type": "stream",
     "text": [
      "08/09/2022 03:43:15 PM WARNING: face_normals incorrect shape, ignoring! \n"
     ]
    },
    {
     "name": "stdout",
     "output_type": "stream",
     "text": [
      "Warning: deduplication not currently supported for this layer's variable layered draco meshes\n"
     ]
    },
    {
     "name": "stderr",
     "output_type": "stream",
     "text": [
      "100%|██████████| 13989/13989 [00:00<00:00, 356317.67it/s]\n"
     ]
    },
    {
     "name": "stdout",
     "output_type": "stream",
     "text": [
      "<class 'trimesh.base.Trimesh'>\n",
      "\n",
      "<trimesh.Trimesh(vertices.shape=(14100, 3), faces.shape=(27998, 3))>\n"
     ]
    },
    {
     "name": "stderr",
     "output_type": "stream",
     "text": [
      "100%|██████████| 26554/26554 [00:00<00:00, 408648.63it/s]\n"
     ]
    },
    {
     "name": "stdout",
     "output_type": "stream",
     "text": [
      "proposed endpoints: \n",
      "[(104882, 104419, 20465), (98255, 97522, 21044), (106899, 111656, 20738)]\n",
      "[[ 8273.97316892 16729.31469009   665.3495322 ]\n",
      " [11144.90735717    49.13247399 16804.10610535]]\n"
     ]
    },
    {
     "name": "stderr",
     "output_type": "stream",
     "text": [
      "08/09/2022 03:43:19 PM WARNING: face_normals incorrect shape, ignoring! \n"
     ]
    },
    {
     "name": "stdout",
     "output_type": "stream",
     "text": [
      "Warning: deduplication not currently supported for this layer's variable layered draco meshes\n"
     ]
    },
    {
     "name": "stderr",
     "output_type": "stream",
     "text": [
      "100%|██████████| 15495/15495 [00:00<00:00, 333900.57it/s]\n"
     ]
    },
    {
     "name": "stdout",
     "output_type": "stream",
     "text": [
      "<class 'trimesh.base.Trimesh'>\n",
      "\n",
      "<trimesh.Trimesh(vertices.shape=(15555, 3), faces.shape=(31009, 3))>\n"
     ]
    },
    {
     "name": "stderr",
     "output_type": "stream",
     "text": [
      "100%|██████████| 26554/26554 [00:00<00:00, 430506.78it/s]\n"
     ]
    },
    {
     "name": "stdout",
     "output_type": "stream",
     "text": [
      "proposed endpoints: \n",
      "[(104882, 104419, 20465), (98255, 97522, 21044), (106899, 111656, 20738)]\n",
      "[[ 8273.97316892 16729.31469009   665.3495322 ]\n",
      " [11144.90735717    49.13247399 16804.10610535]]\n"
     ]
    },
    {
     "name": "stderr",
     "output_type": "stream",
     "text": [
      "08/09/2022 03:43:23 PM WARNING: face_normals incorrect shape, ignoring! \n"
     ]
    },
    {
     "name": "stdout",
     "output_type": "stream",
     "text": [
      "Warning: deduplication not currently supported for this layer's variable layered draco meshes\n"
     ]
    },
    {
     "name": "stderr",
     "output_type": "stream",
     "text": [
      "100%|██████████| 16943/16943 [00:00<00:00, 348563.56it/s]\n"
     ]
    },
    {
     "name": "stdout",
     "output_type": "stream",
     "text": [
      "<class 'trimesh.base.Trimesh'>\n",
      "\n",
      "<trimesh.Trimesh(vertices.shape=(17011, 3), faces.shape=(33905, 3))>\n"
     ]
    },
    {
     "name": "stderr",
     "output_type": "stream",
     "text": [
      "100%|██████████| 26554/26554 [00:00<00:00, 417916.37it/s]\n"
     ]
    },
    {
     "name": "stdout",
     "output_type": "stream",
     "text": [
      "proposed endpoints: \n",
      "[(104882, 104419, 20465), (98255, 97522, 21044), (106899, 111656, 20738)]\n",
      "[[ 8273.97316892 16729.31469009   665.3495322 ]\n",
      " [11144.90735717    49.13247399 16804.10610535]]\n"
     ]
    },
    {
     "name": "stderr",
     "output_type": "stream",
     "text": [
      "08/09/2022 03:43:27 PM WARNING: face_normals incorrect shape, ignoring! \n"
     ]
    },
    {
     "name": "stdout",
     "output_type": "stream",
     "text": [
      "Warning: deduplication not currently supported for this layer's variable layered draco meshes\n"
     ]
    },
    {
     "name": "stderr",
     "output_type": "stream",
     "text": [
      "100%|██████████| 18391/18391 [00:00<00:00, 369988.61it/s]\n"
     ]
    },
    {
     "name": "stdout",
     "output_type": "stream",
     "text": [
      "<class 'trimesh.base.Trimesh'>\n",
      "\n",
      "<trimesh.Trimesh(vertices.shape=(18465, 3), faces.shape=(36800, 3))>\n"
     ]
    },
    {
     "name": "stderr",
     "output_type": "stream",
     "text": [
      "100%|██████████| 26554/26554 [00:00<00:00, 431175.11it/s]\n"
     ]
    },
    {
     "name": "stdout",
     "output_type": "stream",
     "text": [
      "proposed endpoints: \n",
      "[(104882, 104419, 20465), (98255, 97522, 21044), (106899, 111656, 20738)]\n",
      "[[ 8273.97316892 16729.31469009   665.3495322 ]\n",
      " [11144.90735717    49.13247399 16804.10610535]]\n"
     ]
    },
    {
     "name": "stderr",
     "output_type": "stream",
     "text": [
      "08/09/2022 03:43:31 PM WARNING: face_normals incorrect shape, ignoring! \n"
     ]
    },
    {
     "name": "stdout",
     "output_type": "stream",
     "text": [
      "Warning: deduplication not currently supported for this layer's variable layered draco meshes\n"
     ]
    },
    {
     "name": "stderr",
     "output_type": "stream",
     "text": [
      "100%|██████████| 19843/19843 [00:00<00:00, 369785.29it/s]\n"
     ]
    },
    {
     "name": "stdout",
     "output_type": "stream",
     "text": [
      "<class 'trimesh.base.Trimesh'>\n",
      "\n",
      "<trimesh.Trimesh(vertices.shape=(19925, 3), faces.shape=(39704, 3))>\n"
     ]
    },
    {
     "name": "stderr",
     "output_type": "stream",
     "text": [
      "100%|██████████| 26554/26554 [00:00<00:00, 427586.33it/s]\n"
     ]
    },
    {
     "name": "stdout",
     "output_type": "stream",
     "text": [
      "proposed endpoints: \n",
      "[(104882, 104419, 20465), (98255, 97522, 21044), (106899, 111656, 20738)]\n",
      "[[ 8273.97316892 16729.31469009   665.3495322 ]\n",
      " [11144.90735717    49.13247399 16804.10610535]]\n"
     ]
    },
    {
     "name": "stderr",
     "output_type": "stream",
     "text": [
      "08/09/2022 03:43:35 PM WARNING: face_normals incorrect shape, ignoring! \n"
     ]
    },
    {
     "name": "stdout",
     "output_type": "stream",
     "text": [
      "Warning: deduplication not currently supported for this layer's variable layered draco meshes\n"
     ]
    },
    {
     "name": "stderr",
     "output_type": "stream",
     "text": [
      "100%|██████████| 21285/21285 [00:00<00:00, 374334.40it/s]\n"
     ]
    },
    {
     "name": "stdout",
     "output_type": "stream",
     "text": [
      "<class 'trimesh.base.Trimesh'>\n",
      "\n",
      "<trimesh.Trimesh(vertices.shape=(21382, 3), faces.shape=(42587, 3))>\n"
     ]
    },
    {
     "name": "stderr",
     "output_type": "stream",
     "text": [
      "100%|██████████| 26554/26554 [00:00<00:00, 410081.03it/s]\n"
     ]
    },
    {
     "name": "stdout",
     "output_type": "stream",
     "text": [
      "proposed endpoints: \n",
      "[(104882, 104419, 20465), (98255, 97522, 21044), (106899, 111656, 20738)]\n",
      "[[ 8273.97316892 16729.31469009   665.3495322 ]\n",
      " [11144.90735717    49.13247399 16804.10610535]]\n"
     ]
    },
    {
     "name": "stderr",
     "output_type": "stream",
     "text": [
      "08/09/2022 03:43:39 PM WARNING: face_normals incorrect shape, ignoring! \n"
     ]
    },
    {
     "name": "stdout",
     "output_type": "stream",
     "text": [
      "Warning: deduplication not currently supported for this layer's variable layered draco meshes\n"
     ]
    },
    {
     "name": "stderr",
     "output_type": "stream",
     "text": [
      "100%|██████████| 8213/8213 [00:00<00:00, 370502.27it/s]\n"
     ]
    },
    {
     "name": "stdout",
     "output_type": "stream",
     "text": [
      "<class 'trimesh.base.Trimesh'>\n",
      "\n",
      "<trimesh.Trimesh(vertices.shape=(8280, 3), faces.shape=(16442, 3))>\n"
     ]
    },
    {
     "name": "stderr",
     "output_type": "stream",
     "text": [
      "100%|██████████| 26554/26554 [00:00<00:00, 418865.69it/s]\n"
     ]
    },
    {
     "name": "stdout",
     "output_type": "stream",
     "text": [
      "proposed endpoints: \n",
      "[(104882, 104419, 20465), (98255, 97522, 21044), (106899, 111656, 20738)]\n",
      "[[ 8273.97316892 16729.31469009   665.3495322 ]\n",
      " [11144.90735717    49.13247399 16804.10610535]]\n"
     ]
    },
    {
     "name": "stderr",
     "output_type": "stream",
     "text": [
      "08/09/2022 03:43:43 PM WARNING: face_normals incorrect shape, ignoring! \n"
     ]
    },
    {
     "name": "stdout",
     "output_type": "stream",
     "text": [
      "Warning: deduplication not currently supported for this layer's variable layered draco meshes\n"
     ]
    },
    {
     "name": "stderr",
     "output_type": "stream",
     "text": [
      "100%|██████████| 9656/9656 [00:00<00:00, 363870.12it/s]\n"
     ]
    },
    {
     "name": "stdout",
     "output_type": "stream",
     "text": [
      "<class 'trimesh.base.Trimesh'>\n",
      "\n",
      "<trimesh.Trimesh(vertices.shape=(9735, 3), faces.shape=(19330, 3))>\n"
     ]
    },
    {
     "name": "stderr",
     "output_type": "stream",
     "text": [
      "100%|██████████| 26554/26554 [00:00<00:00, 421859.50it/s]\n"
     ]
    },
    {
     "name": "stdout",
     "output_type": "stream",
     "text": [
      "proposed endpoints: \n",
      "[(104882, 104419, 20465), (98255, 97522, 21044), (106899, 111656, 20738)]\n",
      "[[ 8273.97316892 16729.31469009   665.3495322 ]\n",
      " [11144.90735717    49.13247399 16804.10610535]]\n"
     ]
    },
    {
     "name": "stderr",
     "output_type": "stream",
     "text": [
      "08/09/2022 03:43:47 PM WARNING: face_normals incorrect shape, ignoring! \n"
     ]
    },
    {
     "name": "stdout",
     "output_type": "stream",
     "text": [
      "Warning: deduplication not currently supported for this layer's variable layered draco meshes\n"
     ]
    },
    {
     "name": "stderr",
     "output_type": "stream",
     "text": [
      "100%|██████████| 11104/11104 [00:00<00:00, 371717.11it/s]\n"
     ]
    },
    {
     "name": "stdout",
     "output_type": "stream",
     "text": [
      "<class 'trimesh.base.Trimesh'>\n",
      "\n",
      "<trimesh.Trimesh(vertices.shape=(11192, 3), faces.shape=(22230, 3))>\n"
     ]
    },
    {
     "name": "stderr",
     "output_type": "stream",
     "text": [
      "100%|██████████| 26554/26554 [00:00<00:00, 238370.06it/s]\n"
     ]
    },
    {
     "name": "stdout",
     "output_type": "stream",
     "text": [
      "proposed endpoints: \n",
      "[(104882, 104419, 20465), (98255, 97522, 21044), (106899, 111656, 20738)]\n",
      "[[ 8273.97316892 16729.31469009   665.3495322 ]\n",
      " [11144.90735717    49.13247399 16804.10610535]]\n"
     ]
    },
    {
     "name": "stderr",
     "output_type": "stream",
     "text": [
      "08/09/2022 03:43:51 PM WARNING: face_normals incorrect shape, ignoring! \n"
     ]
    },
    {
     "name": "stdout",
     "output_type": "stream",
     "text": [
      "Warning: deduplication not currently supported for this layer's variable layered draco meshes\n"
     ]
    },
    {
     "name": "stderr",
     "output_type": "stream",
     "text": [
      "100%|██████████| 12546/12546 [00:00<00:00, 367819.56it/s]\n"
     ]
    },
    {
     "name": "stdout",
     "output_type": "stream",
     "text": [
      "<class 'trimesh.base.Trimesh'>\n",
      "\n",
      "<trimesh.Trimesh(vertices.shape=(12646, 3), faces.shape=(25113, 3))>\n"
     ]
    },
    {
     "name": "stderr",
     "output_type": "stream",
     "text": [
      "100%|██████████| 26554/26554 [00:00<00:00, 426290.15it/s]\n"
     ]
    },
    {
     "name": "stdout",
     "output_type": "stream",
     "text": [
      "proposed endpoints: \n",
      "[(104882, 104419, 20465), (98255, 97522, 21044), (106899, 111656, 20738)]\n",
      "[[ 8273.97316892 16729.31469009   665.3495322 ]\n",
      " [11144.90735717    49.13247399 16804.10610535]]\n"
     ]
    },
    {
     "name": "stderr",
     "output_type": "stream",
     "text": [
      "08/09/2022 03:43:55 PM WARNING: face_normals incorrect shape, ignoring! \n"
     ]
    },
    {
     "name": "stdout",
     "output_type": "stream",
     "text": [
      "Warning: deduplication not currently supported for this layer's variable layered draco meshes\n"
     ]
    },
    {
     "name": "stderr",
     "output_type": "stream",
     "text": [
      "100%|██████████| 13989/13989 [00:00<00:00, 367772.89it/s]\n"
     ]
    },
    {
     "name": "stdout",
     "output_type": "stream",
     "text": [
      "<class 'trimesh.base.Trimesh'>\n",
      "\n",
      "<trimesh.Trimesh(vertices.shape=(14100, 3), faces.shape=(27998, 3))>\n"
     ]
    },
    {
     "name": "stderr",
     "output_type": "stream",
     "text": [
      "100%|██████████| 26554/26554 [00:00<00:00, 411218.12it/s]\n"
     ]
    },
    {
     "name": "stdout",
     "output_type": "stream",
     "text": [
      "proposed endpoints: \n",
      "[(104882, 104419, 20465), (98255, 97522, 21044), (106899, 111656, 20738)]\n",
      "[[ 8273.97316892 16729.31469009   665.3495322 ]\n",
      " [11144.90735717    49.13247399 16804.10610535]]\n"
     ]
    },
    {
     "name": "stderr",
     "output_type": "stream",
     "text": [
      "08/09/2022 03:44:00 PM WARNING: face_normals incorrect shape, ignoring! \n"
     ]
    },
    {
     "name": "stdout",
     "output_type": "stream",
     "text": [
      "Warning: deduplication not currently supported for this layer's variable layered draco meshes\n"
     ]
    },
    {
     "name": "stderr",
     "output_type": "stream",
     "text": [
      "100%|██████████| 15495/15495 [00:00<00:00, 347228.40it/s]\n"
     ]
    },
    {
     "name": "stdout",
     "output_type": "stream",
     "text": [
      "<class 'trimesh.base.Trimesh'>\n",
      "\n",
      "<trimesh.Trimesh(vertices.shape=(15555, 3), faces.shape=(31009, 3))>\n"
     ]
    },
    {
     "name": "stderr",
     "output_type": "stream",
     "text": [
      "100%|██████████| 26554/26554 [00:00<00:00, 426667.39it/s]\n"
     ]
    },
    {
     "name": "stdout",
     "output_type": "stream",
     "text": [
      "proposed endpoints: \n",
      "[(104882, 104419, 20465), (98255, 97522, 21044), (106899, 111656, 20738)]\n",
      "[[ 8273.97316892 16729.31469009   665.3495322 ]\n",
      " [11144.90735717    49.13247399 16804.10610535]]\n"
     ]
    },
    {
     "name": "stderr",
     "output_type": "stream",
     "text": [
      "08/09/2022 03:44:05 PM WARNING: face_normals incorrect shape, ignoring! \n"
     ]
    },
    {
     "name": "stdout",
     "output_type": "stream",
     "text": [
      "Warning: deduplication not currently supported for this layer's variable layered draco meshes\n"
     ]
    },
    {
     "name": "stderr",
     "output_type": "stream",
     "text": [
      "100%|██████████| 16943/16943 [00:00<00:00, 352442.77it/s]\n"
     ]
    },
    {
     "name": "stdout",
     "output_type": "stream",
     "text": [
      "<class 'trimesh.base.Trimesh'>\n",
      "\n",
      "<trimesh.Trimesh(vertices.shape=(17011, 3), faces.shape=(33905, 3))>\n"
     ]
    },
    {
     "name": "stderr",
     "output_type": "stream",
     "text": [
      "100%|██████████| 26554/26554 [00:00<00:00, 447503.43it/s]\n"
     ]
    },
    {
     "name": "stdout",
     "output_type": "stream",
     "text": [
      "proposed endpoints: \n",
      "[(104882, 104419, 20465), (98255, 97522, 21044), (106899, 111656, 20738)]\n",
      "[[ 8273.97316892 16729.31469009   665.3495322 ]\n",
      " [11144.90735717    49.13247399 16804.10610535]]\n"
     ]
    },
    {
     "name": "stderr",
     "output_type": "stream",
     "text": [
      "08/09/2022 03:44:09 PM WARNING: face_normals incorrect shape, ignoring! \n"
     ]
    },
    {
     "name": "stdout",
     "output_type": "stream",
     "text": [
      "Warning: deduplication not currently supported for this layer's variable layered draco meshes\n"
     ]
    },
    {
     "name": "stderr",
     "output_type": "stream",
     "text": [
      "100%|██████████| 18391/18391 [00:00<00:00, 361487.45it/s]\n"
     ]
    },
    {
     "name": "stdout",
     "output_type": "stream",
     "text": [
      "<class 'trimesh.base.Trimesh'>\n",
      "\n",
      "<trimesh.Trimesh(vertices.shape=(18465, 3), faces.shape=(36800, 3))>\n"
     ]
    },
    {
     "name": "stderr",
     "output_type": "stream",
     "text": [
      "100%|██████████| 26554/26554 [00:00<00:00, 418013.62it/s]\n"
     ]
    },
    {
     "name": "stdout",
     "output_type": "stream",
     "text": [
      "proposed endpoints: \n",
      "[(104882, 104419, 20465), (98255, 97522, 21044), (106899, 111656, 20738)]\n",
      "[[ 8273.97316892 16729.31469009   665.3495322 ]\n",
      " [11144.90735717    49.13247399 16804.10610535]]\n"
     ]
    },
    {
     "name": "stderr",
     "output_type": "stream",
     "text": [
      "08/09/2022 03:44:15 PM WARNING: face_normals incorrect shape, ignoring! \n"
     ]
    },
    {
     "name": "stdout",
     "output_type": "stream",
     "text": [
      "Warning: deduplication not currently supported for this layer's variable layered draco meshes\n"
     ]
    },
    {
     "name": "stderr",
     "output_type": "stream",
     "text": [
      "100%|██████████| 19843/19843 [00:00<00:00, 349441.68it/s]\n"
     ]
    },
    {
     "name": "stdout",
     "output_type": "stream",
     "text": [
      "<class 'trimesh.base.Trimesh'>\n",
      "\n",
      "<trimesh.Trimesh(vertices.shape=(19925, 3), faces.shape=(39704, 3))>\n"
     ]
    },
    {
     "name": "stderr",
     "output_type": "stream",
     "text": [
      "100%|██████████| 26554/26554 [00:00<00:00, 427448.48it/s]\n"
     ]
    },
    {
     "name": "stdout",
     "output_type": "stream",
     "text": [
      "proposed endpoints: \n",
      "[(104882, 104419, 20465), (98255, 97522, 21044), (106899, 111656, 20738)]\n",
      "[[ 8273.97316892 16729.31469009   665.3495322 ]\n",
      " [11144.90735717    49.13247399 16804.10610535]]\n"
     ]
    },
    {
     "name": "stderr",
     "output_type": "stream",
     "text": [
      "08/09/2022 03:44:21 PM WARNING: face_normals incorrect shape, ignoring! \n"
     ]
    },
    {
     "name": "stdout",
     "output_type": "stream",
     "text": [
      "Warning: deduplication not currently supported for this layer's variable layered draco meshes\n"
     ]
    },
    {
     "name": "stderr",
     "output_type": "stream",
     "text": [
      "100%|██████████| 21285/21285 [00:00<00:00, 354561.55it/s]\n"
     ]
    },
    {
     "name": "stdout",
     "output_type": "stream",
     "text": [
      "<class 'trimesh.base.Trimesh'>\n",
      "\n",
      "<trimesh.Trimesh(vertices.shape=(21382, 3), faces.shape=(42587, 3))>\n"
     ]
    },
    {
     "name": "stderr",
     "output_type": "stream",
     "text": [
      "100%|██████████| 26554/26554 [00:00<00:00, 422222.53it/s]\n"
     ]
    },
    {
     "name": "stdout",
     "output_type": "stream",
     "text": [
      "proposed endpoints: \n",
      "[(104882, 104419, 20465), (98255, 97522, 21044), (106899, 111656, 20738)]\n",
      "[[ 8273.97316892 16729.31469009   665.3495322 ]\n",
      " [11144.90735717    49.13247399 16804.10610535]]\n"
     ]
    },
    {
     "name": "stderr",
     "output_type": "stream",
     "text": [
      "08/09/2022 03:44:25 PM WARNING: face_normals incorrect shape, ignoring! \n"
     ]
    },
    {
     "name": "stdout",
     "output_type": "stream",
     "text": [
      "Warning: deduplication not currently supported for this layer's variable layered draco meshes\n"
     ]
    },
    {
     "name": "stderr",
     "output_type": "stream",
     "text": [
      "100%|██████████| 8213/8213 [00:00<00:00, 337846.27it/s]\n"
     ]
    },
    {
     "name": "stdout",
     "output_type": "stream",
     "text": [
      "<class 'trimesh.base.Trimesh'>\n",
      "\n",
      "<trimesh.Trimesh(vertices.shape=(8280, 3), faces.shape=(16442, 3))>\n"
     ]
    },
    {
     "name": "stderr",
     "output_type": "stream",
     "text": [
      "100%|██████████| 26554/26554 [00:00<00:00, 423172.24it/s]\n"
     ]
    },
    {
     "name": "stdout",
     "output_type": "stream",
     "text": [
      "proposed endpoints: \n",
      "[(104882, 104419, 20465), (98255, 97522, 21044), (106899, 111656, 20738)]\n",
      "[[ 8273.97316892 16729.31469009   665.3495322 ]\n",
      " [11144.90735717    49.13247399 16804.10610535]]\n"
     ]
    },
    {
     "name": "stderr",
     "output_type": "stream",
     "text": [
      "08/09/2022 03:44:29 PM WARNING: face_normals incorrect shape, ignoring! \n"
     ]
    },
    {
     "name": "stdout",
     "output_type": "stream",
     "text": [
      "Warning: deduplication not currently supported for this layer's variable layered draco meshes\n"
     ]
    },
    {
     "name": "stderr",
     "output_type": "stream",
     "text": [
      "100%|██████████| 9656/9656 [00:00<00:00, 381465.57it/s]\n"
     ]
    },
    {
     "name": "stdout",
     "output_type": "stream",
     "text": [
      "<class 'trimesh.base.Trimesh'>\n",
      "\n",
      "<trimesh.Trimesh(vertices.shape=(9735, 3), faces.shape=(19330, 3))>\n"
     ]
    },
    {
     "name": "stderr",
     "output_type": "stream",
     "text": [
      "100%|██████████| 26554/26554 [00:00<00:00, 419188.87it/s]\n"
     ]
    },
    {
     "name": "stdout",
     "output_type": "stream",
     "text": [
      "proposed endpoints: \n",
      "[(104882, 104419, 20465), (98255, 97522, 21044), (106899, 111656, 20738)]\n",
      "[[ 8273.97316892 16729.31469009   665.3495322 ]\n",
      " [11144.90735717    49.13247399 16804.10610535]]\n"
     ]
    },
    {
     "name": "stderr",
     "output_type": "stream",
     "text": [
      "08/09/2022 03:44:33 PM WARNING: face_normals incorrect shape, ignoring! \n"
     ]
    },
    {
     "name": "stdout",
     "output_type": "stream",
     "text": [
      "Warning: deduplication not currently supported for this layer's variable layered draco meshes\n"
     ]
    },
    {
     "name": "stderr",
     "output_type": "stream",
     "text": [
      "100%|██████████| 11104/11104 [00:00<00:00, 348928.28it/s]\n"
     ]
    },
    {
     "name": "stdout",
     "output_type": "stream",
     "text": [
      "<class 'trimesh.base.Trimesh'>\n",
      "\n",
      "<trimesh.Trimesh(vertices.shape=(11192, 3), faces.shape=(22230, 3))>\n"
     ]
    },
    {
     "name": "stderr",
     "output_type": "stream",
     "text": [
      "100%|██████████| 26554/26554 [00:00<00:00, 432544.88it/s]\n"
     ]
    },
    {
     "name": "stdout",
     "output_type": "stream",
     "text": [
      "proposed endpoints: \n",
      "[(104882, 104419, 20465), (98255, 97522, 21044), (106899, 111656, 20738)]\n",
      "[[ 8273.97316892 16729.31469009   665.3495322 ]\n",
      " [11144.90735717    49.13247399 16804.10610535]]\n"
     ]
    },
    {
     "name": "stderr",
     "output_type": "stream",
     "text": [
      "08/09/2022 03:44:37 PM WARNING: face_normals incorrect shape, ignoring! \n"
     ]
    },
    {
     "name": "stdout",
     "output_type": "stream",
     "text": [
      "Warning: deduplication not currently supported for this layer's variable layered draco meshes\n"
     ]
    },
    {
     "name": "stderr",
     "output_type": "stream",
     "text": [
      "100%|██████████| 12546/12546 [00:00<00:00, 380124.23it/s]\n"
     ]
    },
    {
     "name": "stdout",
     "output_type": "stream",
     "text": [
      "<class 'trimesh.base.Trimesh'>\n",
      "\n",
      "<trimesh.Trimesh(vertices.shape=(12646, 3), faces.shape=(25113, 3))>\n"
     ]
    },
    {
     "name": "stderr",
     "output_type": "stream",
     "text": [
      "100%|██████████| 26554/26554 [00:00<00:00, 435497.94it/s]\n"
     ]
    },
    {
     "name": "stdout",
     "output_type": "stream",
     "text": [
      "proposed endpoints: \n",
      "[(104882, 104419, 20465), (98255, 97522, 21044), (106899, 111656, 20738)]\n",
      "[[ 8273.97316892 16729.31469009   665.3495322 ]\n",
      " [11144.90735717    49.13247399 16804.10610535]]\n"
     ]
    },
    {
     "name": "stderr",
     "output_type": "stream",
     "text": [
      "08/09/2022 03:44:41 PM WARNING: face_normals incorrect shape, ignoring! \n"
     ]
    },
    {
     "name": "stdout",
     "output_type": "stream",
     "text": [
      "Warning: deduplication not currently supported for this layer's variable layered draco meshes\n"
     ]
    },
    {
     "name": "stderr",
     "output_type": "stream",
     "text": [
      "100%|██████████| 13989/13989 [00:00<00:00, 336243.29it/s]\n"
     ]
    },
    {
     "name": "stdout",
     "output_type": "stream",
     "text": [
      "<class 'trimesh.base.Trimesh'>\n",
      "\n",
      "<trimesh.Trimesh(vertices.shape=(14100, 3), faces.shape=(27998, 3))>\n"
     ]
    },
    {
     "name": "stderr",
     "output_type": "stream",
     "text": [
      "100%|██████████| 26554/26554 [00:00<00:00, 423325.04it/s]\n"
     ]
    },
    {
     "name": "stdout",
     "output_type": "stream",
     "text": [
      "proposed endpoints: \n",
      "[(104882, 104419, 20465), (98255, 97522, 21044), (106899, 111656, 20738)]\n",
      "[[ 8273.97316892 16729.31469009   665.3495322 ]\n",
      " [11144.90735717    49.13247399 16804.10610535]]\n"
     ]
    },
    {
     "name": "stderr",
     "output_type": "stream",
     "text": [
      "08/09/2022 03:44:46 PM WARNING: face_normals incorrect shape, ignoring! \n"
     ]
    },
    {
     "name": "stdout",
     "output_type": "stream",
     "text": [
      "Warning: deduplication not currently supported for this layer's variable layered draco meshes\n"
     ]
    },
    {
     "name": "stderr",
     "output_type": "stream",
     "text": [
      "100%|██████████| 15495/15495 [00:00<00:00, 358781.41it/s]\n"
     ]
    },
    {
     "name": "stdout",
     "output_type": "stream",
     "text": [
      "<class 'trimesh.base.Trimesh'>\n",
      "\n",
      "<trimesh.Trimesh(vertices.shape=(15555, 3), faces.shape=(31009, 3))>\n"
     ]
    },
    {
     "name": "stderr",
     "output_type": "stream",
     "text": [
      "100%|██████████| 26554/26554 [00:00<00:00, 417895.98it/s]\n"
     ]
    },
    {
     "name": "stdout",
     "output_type": "stream",
     "text": [
      "proposed endpoints: \n",
      "[(104882, 104419, 20465), (98255, 97522, 21044), (106899, 111656, 20738)]\n",
      "[[ 8273.97316892 16729.31469009   665.3495322 ]\n",
      " [11144.90735717    49.13247399 16804.10610535]]\n"
     ]
    },
    {
     "name": "stderr",
     "output_type": "stream",
     "text": [
      "08/09/2022 03:44:50 PM WARNING: face_normals incorrect shape, ignoring! \n"
     ]
    },
    {
     "name": "stdout",
     "output_type": "stream",
     "text": [
      "Warning: deduplication not currently supported for this layer's variable layered draco meshes\n"
     ]
    },
    {
     "name": "stderr",
     "output_type": "stream",
     "text": [
      "100%|██████████| 16943/16943 [00:00<00:00, 338371.44it/s]\n"
     ]
    },
    {
     "name": "stdout",
     "output_type": "stream",
     "text": [
      "<class 'trimesh.base.Trimesh'>\n",
      "\n",
      "<trimesh.Trimesh(vertices.shape=(17011, 3), faces.shape=(33905, 3))>\n"
     ]
    },
    {
     "name": "stderr",
     "output_type": "stream",
     "text": [
      "100%|██████████| 26554/26554 [00:00<00:00, 408530.21it/s]\n"
     ]
    },
    {
     "name": "stdout",
     "output_type": "stream",
     "text": [
      "proposed endpoints: \n",
      "[(104882, 104419, 20465), (98255, 97522, 21044), (106899, 111656, 20738)]\n",
      "[[ 8273.97316892 16729.31469009   665.3495322 ]\n",
      " [11144.90735717    49.13247399 16804.10610535]]\n"
     ]
    },
    {
     "name": "stderr",
     "output_type": "stream",
     "text": [
      "08/09/2022 03:44:54 PM WARNING: face_normals incorrect shape, ignoring! \n"
     ]
    },
    {
     "name": "stdout",
     "output_type": "stream",
     "text": [
      "Warning: deduplication not currently supported for this layer's variable layered draco meshes\n"
     ]
    },
    {
     "name": "stderr",
     "output_type": "stream",
     "text": [
      "100%|██████████| 18391/18391 [00:00<00:00, 356246.97it/s]\n"
     ]
    },
    {
     "name": "stdout",
     "output_type": "stream",
     "text": [
      "<class 'trimesh.base.Trimesh'>\n",
      "\n",
      "<trimesh.Trimesh(vertices.shape=(18465, 3), faces.shape=(36800, 3))>\n"
     ]
    },
    {
     "name": "stderr",
     "output_type": "stream",
     "text": [
      "100%|██████████| 26554/26554 [00:00<00:00, 390574.87it/s]\n"
     ]
    },
    {
     "name": "stdout",
     "output_type": "stream",
     "text": [
      "proposed endpoints: \n",
      "[(104882, 104419, 20465), (98255, 97522, 21044), (106899, 111656, 20738)]\n",
      "[[ 8273.97316892 16729.31469009   665.3495322 ]\n",
      " [11144.90735717    49.13247399 16804.10610535]]\n"
     ]
    },
    {
     "name": "stderr",
     "output_type": "stream",
     "text": [
      "08/09/2022 03:44:58 PM WARNING: face_normals incorrect shape, ignoring! \n"
     ]
    },
    {
     "name": "stdout",
     "output_type": "stream",
     "text": [
      "Warning: deduplication not currently supported for this layer's variable layered draco meshes\n"
     ]
    },
    {
     "name": "stderr",
     "output_type": "stream",
     "text": [
      "100%|██████████| 19843/19843 [00:00<00:00, 356820.10it/s]\n"
     ]
    },
    {
     "name": "stdout",
     "output_type": "stream",
     "text": [
      "<class 'trimesh.base.Trimesh'>\n",
      "\n",
      "<trimesh.Trimesh(vertices.shape=(19925, 3), faces.shape=(39704, 3))>\n"
     ]
    },
    {
     "name": "stderr",
     "output_type": "stream",
     "text": [
      "100%|██████████| 26554/26554 [00:00<00:00, 430408.62it/s]\n"
     ]
    },
    {
     "name": "stdout",
     "output_type": "stream",
     "text": [
      "proposed endpoints: \n",
      "[(104882, 104419, 20465), (98255, 97522, 21044), (106899, 111656, 20738)]\n",
      "[[ 8273.97316892 16729.31469009   665.3495322 ]\n",
      " [11144.90735717    49.13247399 16804.10610535]]\n"
     ]
    },
    {
     "name": "stderr",
     "output_type": "stream",
     "text": [
      "08/09/2022 03:45:03 PM WARNING: face_normals incorrect shape, ignoring! \n"
     ]
    },
    {
     "name": "stdout",
     "output_type": "stream",
     "text": [
      "Warning: deduplication not currently supported for this layer's variable layered draco meshes\n"
     ]
    },
    {
     "name": "stderr",
     "output_type": "stream",
     "text": [
      "100%|██████████| 21285/21285 [00:00<00:00, 376932.72it/s]\n"
     ]
    },
    {
     "name": "stdout",
     "output_type": "stream",
     "text": [
      "<class 'trimesh.base.Trimesh'>\n",
      "\n",
      "<trimesh.Trimesh(vertices.shape=(21382, 3), faces.shape=(42587, 3))>\n"
     ]
    },
    {
     "name": "stderr",
     "output_type": "stream",
     "text": [
      "100%|██████████| 26554/26554 [00:00<00:00, 424692.27it/s]\n"
     ]
    },
    {
     "name": "stdout",
     "output_type": "stream",
     "text": [
      "proposed endpoints: \n",
      "[(104882, 104419, 20465), (98255, 97522, 21044), (106899, 111656, 20738)]\n",
      "[[ 8273.97316892 16729.31469009   665.3495322 ]\n",
      " [11144.90735717    49.13247399 16804.10610535]]\n"
     ]
    },
    {
     "name": "stderr",
     "output_type": "stream",
     "text": [
      "08/09/2022 03:45:07 PM WARNING: face_normals incorrect shape, ignoring! \n"
     ]
    },
    {
     "name": "stdout",
     "output_type": "stream",
     "text": [
      "Warning: deduplication not currently supported for this layer's variable layered draco meshes\n"
     ]
    },
    {
     "name": "stderr",
     "output_type": "stream",
     "text": [
      "100%|██████████| 8213/8213 [00:00<00:00, 368461.34it/s]\n"
     ]
    },
    {
     "name": "stdout",
     "output_type": "stream",
     "text": [
      "<class 'trimesh.base.Trimesh'>\n",
      "\n",
      "<trimesh.Trimesh(vertices.shape=(8280, 3), faces.shape=(16442, 3))>\n"
     ]
    },
    {
     "name": "stderr",
     "output_type": "stream",
     "text": [
      "100%|██████████| 26554/26554 [00:00<00:00, 413040.51it/s]\n"
     ]
    },
    {
     "name": "stdout",
     "output_type": "stream",
     "text": [
      "proposed endpoints: \n",
      "[(104882, 104419, 20465), (98255, 97522, 21044), (106899, 111656, 20738)]\n",
      "[[ 8273.97316892 16729.31469009   665.3495322 ]\n",
      " [11144.90735717    49.13247399 16804.10610535]]\n"
     ]
    },
    {
     "name": "stderr",
     "output_type": "stream",
     "text": [
      "08/09/2022 03:45:11 PM WARNING: face_normals incorrect shape, ignoring! \n"
     ]
    },
    {
     "name": "stdout",
     "output_type": "stream",
     "text": [
      "Warning: deduplication not currently supported for this layer's variable layered draco meshes\n"
     ]
    },
    {
     "name": "stderr",
     "output_type": "stream",
     "text": [
      "100%|██████████| 9656/9656 [00:00<00:00, 332997.87it/s]\n"
     ]
    },
    {
     "name": "stdout",
     "output_type": "stream",
     "text": [
      "<class 'trimesh.base.Trimesh'>\n",
      "\n",
      "<trimesh.Trimesh(vertices.shape=(9735, 3), faces.shape=(19330, 3))>\n"
     ]
    },
    {
     "name": "stderr",
     "output_type": "stream",
     "text": [
      "100%|██████████| 26554/26554 [00:00<00:00, 419659.56it/s]\n"
     ]
    },
    {
     "name": "stdout",
     "output_type": "stream",
     "text": [
      "proposed endpoints: \n",
      "[(104882, 104419, 20465), (98255, 97522, 21044), (106899, 111656, 20738)]\n",
      "[[ 8273.97316892 16729.31469009   665.3495322 ]\n",
      " [11144.90735717    49.13247399 16804.10610535]]\n"
     ]
    },
    {
     "name": "stderr",
     "output_type": "stream",
     "text": [
      "08/09/2022 03:45:15 PM WARNING: face_normals incorrect shape, ignoring! \n"
     ]
    },
    {
     "name": "stdout",
     "output_type": "stream",
     "text": [
      "Warning: deduplication not currently supported for this layer's variable layered draco meshes\n"
     ]
    },
    {
     "name": "stderr",
     "output_type": "stream",
     "text": [
      "100%|██████████| 11104/11104 [00:00<00:00, 371222.31it/s]\n"
     ]
    },
    {
     "name": "stdout",
     "output_type": "stream",
     "text": [
      "<class 'trimesh.base.Trimesh'>\n",
      "\n",
      "<trimesh.Trimesh(vertices.shape=(11192, 3), faces.shape=(22230, 3))>\n"
     ]
    },
    {
     "name": "stderr",
     "output_type": "stream",
     "text": [
      "100%|██████████| 26554/26554 [00:00<00:00, 419574.19it/s]\n"
     ]
    },
    {
     "name": "stdout",
     "output_type": "stream",
     "text": [
      "proposed endpoints: \n",
      "[(104882, 104419, 20465), (98255, 97522, 21044), (106899, 111656, 20738)]\n",
      "[[ 8273.97316892 16729.31469009   665.3495322 ]\n",
      " [11144.90735717    49.13247399 16804.10610535]]\n"
     ]
    },
    {
     "name": "stderr",
     "output_type": "stream",
     "text": [
      "08/09/2022 03:45:19 PM WARNING: face_normals incorrect shape, ignoring! \n"
     ]
    },
    {
     "name": "stdout",
     "output_type": "stream",
     "text": [
      "Warning: deduplication not currently supported for this layer's variable layered draco meshes\n"
     ]
    },
    {
     "name": "stderr",
     "output_type": "stream",
     "text": [
      "100%|██████████| 12546/12546 [00:00<00:00, 354207.25it/s]\n"
     ]
    },
    {
     "name": "stdout",
     "output_type": "stream",
     "text": [
      "<class 'trimesh.base.Trimesh'>\n",
      "\n",
      "<trimesh.Trimesh(vertices.shape=(12646, 3), faces.shape=(25113, 3))>\n"
     ]
    },
    {
     "name": "stderr",
     "output_type": "stream",
     "text": [
      "100%|██████████| 26554/26554 [00:00<00:00, 347975.73it/s]\n"
     ]
    },
    {
     "name": "stdout",
     "output_type": "stream",
     "text": [
      "proposed endpoints: \n",
      "[(104882, 104419, 20465), (98255, 97522, 21044), (106899, 111656, 20738)]\n",
      "[[ 8273.97316892 16729.31469009   665.3495322 ]\n",
      " [11144.90735717    49.13247399 16804.10610535]]\n"
     ]
    },
    {
     "name": "stderr",
     "output_type": "stream",
     "text": [
      "08/09/2022 03:45:23 PM WARNING: face_normals incorrect shape, ignoring! \n"
     ]
    },
    {
     "name": "stdout",
     "output_type": "stream",
     "text": [
      "Warning: deduplication not currently supported for this layer's variable layered draco meshes\n"
     ]
    },
    {
     "name": "stderr",
     "output_type": "stream",
     "text": [
      "100%|██████████| 13989/13989 [00:00<00:00, 357163.58it/s]\n"
     ]
    },
    {
     "name": "stdout",
     "output_type": "stream",
     "text": [
      "<class 'trimesh.base.Trimesh'>\n",
      "\n",
      "<trimesh.Trimesh(vertices.shape=(14100, 3), faces.shape=(27998, 3))>\n"
     ]
    },
    {
     "name": "stderr",
     "output_type": "stream",
     "text": [
      "100%|██████████| 26554/26554 [00:00<00:00, 413890.86it/s]\n"
     ]
    },
    {
     "name": "stdout",
     "output_type": "stream",
     "text": [
      "proposed endpoints: \n",
      "[(104882, 104419, 20465), (98255, 97522, 21044), (106899, 111656, 20738)]\n",
      "[[ 8273.97316892 16729.31469009   665.3495322 ]\n",
      " [11144.90735717    49.13247399 16804.10610535]]\n"
     ]
    },
    {
     "name": "stderr",
     "output_type": "stream",
     "text": [
      "08/09/2022 03:45:27 PM WARNING: face_normals incorrect shape, ignoring! \n"
     ]
    },
    {
     "name": "stdout",
     "output_type": "stream",
     "text": [
      "Warning: deduplication not currently supported for this layer's variable layered draco meshes\n"
     ]
    },
    {
     "name": "stderr",
     "output_type": "stream",
     "text": [
      "100%|██████████| 15495/15495 [00:00<00:00, 361650.36it/s]\n"
     ]
    },
    {
     "name": "stdout",
     "output_type": "stream",
     "text": [
      "<class 'trimesh.base.Trimesh'>\n",
      "\n",
      "<trimesh.Trimesh(vertices.shape=(15555, 3), faces.shape=(31009, 3))>\n"
     ]
    },
    {
     "name": "stderr",
     "output_type": "stream",
     "text": [
      "100%|██████████| 26554/26554 [00:00<00:00, 322695.79it/s]\n"
     ]
    },
    {
     "name": "stdout",
     "output_type": "stream",
     "text": [
      "proposed endpoints: \n",
      "[(104882, 104419, 20465), (98255, 97522, 21044), (106899, 111656, 20738)]\n",
      "[[ 8273.97316892 16729.31469009   665.3495322 ]\n",
      " [11144.90735717    49.13247399 16804.10610535]]\n"
     ]
    },
    {
     "name": "stderr",
     "output_type": "stream",
     "text": [
      "08/09/2022 03:45:31 PM WARNING: face_normals incorrect shape, ignoring! \n"
     ]
    },
    {
     "name": "stdout",
     "output_type": "stream",
     "text": [
      "Warning: deduplication not currently supported for this layer's variable layered draco meshes\n"
     ]
    },
    {
     "name": "stderr",
     "output_type": "stream",
     "text": [
      "100%|██████████| 16943/16943 [00:00<00:00, 369507.71it/s]\n"
     ]
    },
    {
     "name": "stdout",
     "output_type": "stream",
     "text": [
      "<class 'trimesh.base.Trimesh'>\n",
      "\n",
      "<trimesh.Trimesh(vertices.shape=(17011, 3), faces.shape=(33905, 3))>\n"
     ]
    },
    {
     "name": "stderr",
     "output_type": "stream",
     "text": [
      "100%|██████████| 26554/26554 [00:00<00:00, 430560.04it/s]\n"
     ]
    },
    {
     "name": "stdout",
     "output_type": "stream",
     "text": [
      "proposed endpoints: \n",
      "[(104882, 104419, 20465), (98255, 97522, 21044), (106899, 111656, 20738)]\n",
      "[[ 8273.97316892 16729.31469009   665.3495322 ]\n",
      " [11144.90735717    49.13247399 16804.10610535]]\n"
     ]
    },
    {
     "name": "stderr",
     "output_type": "stream",
     "text": [
      "08/09/2022 03:45:36 PM WARNING: face_normals incorrect shape, ignoring! \n"
     ]
    },
    {
     "name": "stdout",
     "output_type": "stream",
     "text": [
      "Warning: deduplication not currently supported for this layer's variable layered draco meshes\n"
     ]
    },
    {
     "name": "stderr",
     "output_type": "stream",
     "text": [
      "100%|██████████| 18391/18391 [00:00<00:00, 339661.41it/s]\n"
     ]
    },
    {
     "name": "stdout",
     "output_type": "stream",
     "text": [
      "<class 'trimesh.base.Trimesh'>\n",
      "\n",
      "<trimesh.Trimesh(vertices.shape=(18465, 3), faces.shape=(36800, 3))>\n"
     ]
    },
    {
     "name": "stderr",
     "output_type": "stream",
     "text": [
      "100%|██████████| 26554/26554 [00:00<00:00, 429101.92it/s]\n"
     ]
    },
    {
     "name": "stdout",
     "output_type": "stream",
     "text": [
      "proposed endpoints: \n",
      "[(104882, 104419, 20465), (98255, 97522, 21044), (106899, 111656, 20738)]\n",
      "[[ 8273.97316892 16729.31469009   665.3495322 ]\n",
      " [11144.90735717    49.13247399 16804.10610535]]\n"
     ]
    },
    {
     "name": "stderr",
     "output_type": "stream",
     "text": [
      "08/09/2022 03:45:40 PM WARNING: face_normals incorrect shape, ignoring! \n"
     ]
    },
    {
     "name": "stdout",
     "output_type": "stream",
     "text": [
      "Warning: deduplication not currently supported for this layer's variable layered draco meshes\n"
     ]
    },
    {
     "name": "stderr",
     "output_type": "stream",
     "text": [
      "100%|██████████| 19843/19843 [00:00<00:00, 149760.45it/s]\n"
     ]
    },
    {
     "name": "stdout",
     "output_type": "stream",
     "text": [
      "<class 'trimesh.base.Trimesh'>\n",
      "\n",
      "<trimesh.Trimesh(vertices.shape=(19925, 3), faces.shape=(39704, 3))>\n"
     ]
    },
    {
     "name": "stderr",
     "output_type": "stream",
     "text": [
      "100%|██████████| 26554/26554 [00:00<00:00, 401822.48it/s]\n"
     ]
    },
    {
     "name": "stdout",
     "output_type": "stream",
     "text": [
      "proposed endpoints: \n",
      "[(104882, 104419, 20465), (98255, 97522, 21044), (106899, 111656, 20738)]\n",
      "[[ 8273.97316892 16729.31469009   665.3495322 ]\n",
      " [11144.90735717    49.13247399 16804.10610535]]\n"
     ]
    },
    {
     "name": "stderr",
     "output_type": "stream",
     "text": [
      "08/09/2022 03:45:44 PM WARNING: face_normals incorrect shape, ignoring! \n"
     ]
    },
    {
     "name": "stdout",
     "output_type": "stream",
     "text": [
      "Warning: deduplication not currently supported for this layer's variable layered draco meshes\n"
     ]
    },
    {
     "name": "stderr",
     "output_type": "stream",
     "text": [
      "100%|██████████| 21285/21285 [00:00<00:00, 362082.40it/s]\n"
     ]
    },
    {
     "name": "stdout",
     "output_type": "stream",
     "text": [
      "<class 'trimesh.base.Trimesh'>\n",
      "\n",
      "<trimesh.Trimesh(vertices.shape=(21382, 3), faces.shape=(42587, 3))>\n"
     ]
    },
    {
     "name": "stderr",
     "output_type": "stream",
     "text": [
      "100%|██████████| 26554/26554 [00:00<00:00, 424451.12it/s]\n"
     ]
    },
    {
     "name": "stdout",
     "output_type": "stream",
     "text": [
      "proposed endpoints: \n",
      "[(104882, 104419, 20465), (98255, 97522, 21044), (106899, 111656, 20738)]\n",
      "[[ 8273.97316892 16729.31469009   665.3495322 ]\n",
      " [11144.90735717    49.13247399 16804.10610535]]\n"
     ]
    },
    {
     "name": "stderr",
     "output_type": "stream",
     "text": [
      "08/09/2022 03:45:48 PM WARNING: face_normals incorrect shape, ignoring! \n"
     ]
    },
    {
     "name": "stdout",
     "output_type": "stream",
     "text": [
      "Warning: deduplication not currently supported for this layer's variable layered draco meshes\n"
     ]
    },
    {
     "name": "stderr",
     "output_type": "stream",
     "text": [
      "100%|██████████| 8213/8213 [00:00<00:00, 354715.27it/s]\n"
     ]
    },
    {
     "name": "stdout",
     "output_type": "stream",
     "text": [
      "<class 'trimesh.base.Trimesh'>\n",
      "\n",
      "<trimesh.Trimesh(vertices.shape=(8280, 3), faces.shape=(16442, 3))>\n"
     ]
    },
    {
     "name": "stderr",
     "output_type": "stream",
     "text": [
      "100%|██████████| 26554/26554 [00:00<00:00, 431153.41it/s]\n"
     ]
    },
    {
     "name": "stdout",
     "output_type": "stream",
     "text": [
      "proposed endpoints: \n",
      "[(104882, 104419, 20465), (98255, 97522, 21044), (106899, 111656, 20738)]\n",
      "[[ 8273.97316892 16729.31469009   665.3495322 ]\n",
      " [11144.90735717    49.13247399 16804.10610535]]\n"
     ]
    },
    {
     "name": "stderr",
     "output_type": "stream",
     "text": [
      "08/09/2022 03:45:52 PM WARNING: face_normals incorrect shape, ignoring! \n"
     ]
    },
    {
     "name": "stdout",
     "output_type": "stream",
     "text": [
      "Warning: deduplication not currently supported for this layer's variable layered draco meshes\n"
     ]
    },
    {
     "name": "stderr",
     "output_type": "stream",
     "text": [
      "100%|██████████| 9656/9656 [00:00<00:00, 395702.97it/s]\n"
     ]
    },
    {
     "name": "stdout",
     "output_type": "stream",
     "text": [
      "<class 'trimesh.base.Trimesh'>\n",
      "\n",
      "<trimesh.Trimesh(vertices.shape=(9735, 3), faces.shape=(19330, 3))>\n"
     ]
    },
    {
     "name": "stderr",
     "output_type": "stream",
     "text": [
      "100%|██████████| 26554/26554 [00:00<00:00, 423671.26it/s]\n"
     ]
    },
    {
     "name": "stdout",
     "output_type": "stream",
     "text": [
      "proposed endpoints: \n",
      "[(104882, 104419, 20465), (98255, 97522, 21044), (106899, 111656, 20738)]\n",
      "[[ 8273.97316892 16729.31469009   665.3495322 ]\n",
      " [11144.90735717    49.13247399 16804.10610535]]\n"
     ]
    },
    {
     "name": "stderr",
     "output_type": "stream",
     "text": [
      "08/09/2022 03:45:57 PM WARNING: face_normals incorrect shape, ignoring! \n"
     ]
    },
    {
     "name": "stdout",
     "output_type": "stream",
     "text": [
      "Warning: deduplication not currently supported for this layer's variable layered draco meshes\n"
     ]
    },
    {
     "name": "stderr",
     "output_type": "stream",
     "text": [
      "100%|██████████| 11104/11104 [00:00<00:00, 387641.30it/s]\n"
     ]
    },
    {
     "name": "stdout",
     "output_type": "stream",
     "text": [
      "<class 'trimesh.base.Trimesh'>\n",
      "\n",
      "<trimesh.Trimesh(vertices.shape=(11192, 3), faces.shape=(22230, 3))>\n"
     ]
    },
    {
     "name": "stderr",
     "output_type": "stream",
     "text": [
      "100%|██████████| 26554/26554 [00:00<00:00, 434527.76it/s]\n"
     ]
    },
    {
     "name": "stdout",
     "output_type": "stream",
     "text": [
      "proposed endpoints: \n",
      "[(104882, 104419, 20465), (98255, 97522, 21044), (106899, 111656, 20738)]\n",
      "[[ 8273.97316892 16729.31469009   665.3495322 ]\n",
      " [11144.90735717    49.13247399 16804.10610535]]\n"
     ]
    },
    {
     "name": "stderr",
     "output_type": "stream",
     "text": [
      "08/09/2022 03:46:01 PM WARNING: face_normals incorrect shape, ignoring! \n"
     ]
    },
    {
     "name": "stdout",
     "output_type": "stream",
     "text": [
      "Warning: deduplication not currently supported for this layer's variable layered draco meshes\n"
     ]
    },
    {
     "name": "stderr",
     "output_type": "stream",
     "text": [
      "100%|██████████| 12546/12546 [00:00<00:00, 359752.64it/s]\n"
     ]
    },
    {
     "name": "stdout",
     "output_type": "stream",
     "text": [
      "<class 'trimesh.base.Trimesh'>\n",
      "\n",
      "<trimesh.Trimesh(vertices.shape=(12646, 3), faces.shape=(25113, 3))>\n"
     ]
    },
    {
     "name": "stderr",
     "output_type": "stream",
     "text": [
      "100%|██████████| 26554/26554 [00:00<00:00, 413529.73it/s]\n"
     ]
    },
    {
     "name": "stdout",
     "output_type": "stream",
     "text": [
      "proposed endpoints: \n",
      "[(104882, 104419, 20465), (98255, 97522, 21044), (106899, 111656, 20738)]\n",
      "[[ 8273.97316892 16729.31469009   665.3495322 ]\n",
      " [11144.90735717    49.13247399 16804.10610535]]\n"
     ]
    },
    {
     "name": "stderr",
     "output_type": "stream",
     "text": [
      "08/09/2022 03:46:06 PM WARNING: face_normals incorrect shape, ignoring! \n"
     ]
    },
    {
     "name": "stdout",
     "output_type": "stream",
     "text": [
      "Warning: deduplication not currently supported for this layer's variable layered draco meshes\n"
     ]
    },
    {
     "name": "stderr",
     "output_type": "stream",
     "text": [
      "100%|██████████| 13989/13989 [00:00<00:00, 326848.00it/s]\n"
     ]
    },
    {
     "name": "stdout",
     "output_type": "stream",
     "text": [
      "<class 'trimesh.base.Trimesh'>\n",
      "\n",
      "<trimesh.Trimesh(vertices.shape=(14100, 3), faces.shape=(27998, 3))>\n"
     ]
    },
    {
     "name": "stderr",
     "output_type": "stream",
     "text": [
      "100%|██████████| 26554/26554 [00:00<00:00, 390868.20it/s]\n"
     ]
    },
    {
     "name": "stdout",
     "output_type": "stream",
     "text": [
      "proposed endpoints: \n",
      "[(104882, 104419, 20465), (98255, 97522, 21044), (106899, 111656, 20738)]\n",
      "[[ 8273.97316892 16729.31469009   665.3495322 ]\n",
      " [11144.90735717    49.13247399 16804.10610535]]\n"
     ]
    },
    {
     "name": "stderr",
     "output_type": "stream",
     "text": [
      "08/09/2022 03:46:10 PM WARNING: face_normals incorrect shape, ignoring! \n"
     ]
    },
    {
     "name": "stdout",
     "output_type": "stream",
     "text": [
      "Warning: deduplication not currently supported for this layer's variable layered draco meshes\n"
     ]
    },
    {
     "name": "stderr",
     "output_type": "stream",
     "text": [
      "100%|██████████| 15495/15495 [00:00<00:00, 375339.24it/s]\n"
     ]
    },
    {
     "name": "stdout",
     "output_type": "stream",
     "text": [
      "<class 'trimesh.base.Trimesh'>\n",
      "\n",
      "<trimesh.Trimesh(vertices.shape=(15555, 3), faces.shape=(31009, 3))>\n"
     ]
    },
    {
     "name": "stderr",
     "output_type": "stream",
     "text": [
      "100%|██████████| 26554/26554 [00:00<00:00, 422289.77it/s]\n"
     ]
    },
    {
     "name": "stdout",
     "output_type": "stream",
     "text": [
      "proposed endpoints: \n",
      "[(104882, 104419, 20465), (98255, 97522, 21044), (106899, 111656, 20738)]\n",
      "[[ 8273.97316892 16729.31469009   665.3495322 ]\n",
      " [11144.90735717    49.13247399 16804.10610535]]\n"
     ]
    },
    {
     "name": "stderr",
     "output_type": "stream",
     "text": [
      "08/09/2022 03:46:15 PM WARNING: face_normals incorrect shape, ignoring! \n"
     ]
    },
    {
     "name": "stdout",
     "output_type": "stream",
     "text": [
      "Warning: deduplication not currently supported for this layer's variable layered draco meshes\n"
     ]
    },
    {
     "name": "stderr",
     "output_type": "stream",
     "text": [
      "100%|██████████| 16943/16943 [00:00<00:00, 361421.25it/s]\n"
     ]
    },
    {
     "name": "stdout",
     "output_type": "stream",
     "text": [
      "<class 'trimesh.base.Trimesh'>\n",
      "\n",
      "<trimesh.Trimesh(vertices.shape=(17011, 3), faces.shape=(33905, 3))>\n"
     ]
    },
    {
     "name": "stderr",
     "output_type": "stream",
     "text": [
      "100%|██████████| 26554/26554 [00:00<00:00, 440977.76it/s]\n"
     ]
    },
    {
     "name": "stdout",
     "output_type": "stream",
     "text": [
      "proposed endpoints: \n",
      "[(104882, 104419, 20465), (98255, 97522, 21044), (106899, 111656, 20738)]\n",
      "[[ 8273.97316892 16729.31469009   665.3495322 ]\n",
      " [11144.90735717    49.13247399 16804.10610535]]\n"
     ]
    },
    {
     "name": "stderr",
     "output_type": "stream",
     "text": [
      "08/09/2022 03:46:19 PM WARNING: face_normals incorrect shape, ignoring! \n"
     ]
    },
    {
     "name": "stdout",
     "output_type": "stream",
     "text": [
      "Warning: deduplication not currently supported for this layer's variable layered draco meshes\n"
     ]
    },
    {
     "name": "stderr",
     "output_type": "stream",
     "text": [
      "100%|██████████| 18391/18391 [00:00<00:00, 383730.20it/s]\n"
     ]
    },
    {
     "name": "stdout",
     "output_type": "stream",
     "text": [
      "<class 'trimesh.base.Trimesh'>\n",
      "\n",
      "<trimesh.Trimesh(vertices.shape=(18465, 3), faces.shape=(36800, 3))>\n"
     ]
    },
    {
     "name": "stderr",
     "output_type": "stream",
     "text": [
      "100%|██████████| 26554/26554 [00:00<00:00, 409744.60it/s]\n"
     ]
    },
    {
     "name": "stdout",
     "output_type": "stream",
     "text": [
      "proposed endpoints: \n",
      "[(104882, 104419, 20465), (98255, 97522, 21044), (106899, 111656, 20738)]\n",
      "[[ 8273.97316892 16729.31469009   665.3495322 ]\n",
      " [11144.90735717    49.13247399 16804.10610535]]\n"
     ]
    },
    {
     "name": "stderr",
     "output_type": "stream",
     "text": [
      "08/09/2022 03:46:23 PM WARNING: face_normals incorrect shape, ignoring! \n"
     ]
    },
    {
     "name": "stdout",
     "output_type": "stream",
     "text": [
      "Warning: deduplication not currently supported for this layer's variable layered draco meshes\n"
     ]
    },
    {
     "name": "stderr",
     "output_type": "stream",
     "text": [
      "100%|██████████| 19843/19843 [00:00<00:00, 351447.02it/s]\n"
     ]
    },
    {
     "name": "stdout",
     "output_type": "stream",
     "text": [
      "<class 'trimesh.base.Trimesh'>\n",
      "\n",
      "<trimesh.Trimesh(vertices.shape=(19925, 3), faces.shape=(39704, 3))>\n"
     ]
    },
    {
     "name": "stderr",
     "output_type": "stream",
     "text": [
      "100%|██████████| 26554/26554 [00:00<00:00, 434329.50it/s]\n"
     ]
    },
    {
     "name": "stdout",
     "output_type": "stream",
     "text": [
      "proposed endpoints: \n",
      "[(104882, 104419, 20465), (98255, 97522, 21044), (106899, 111656, 20738)]\n",
      "[[ 8273.97316892 16729.31469009   665.3495322 ]\n",
      " [11144.90735717    49.13247399 16804.10610535]]\n"
     ]
    },
    {
     "name": "stderr",
     "output_type": "stream",
     "text": [
      "08/09/2022 03:46:27 PM WARNING: face_normals incorrect shape, ignoring! \n"
     ]
    },
    {
     "name": "stdout",
     "output_type": "stream",
     "text": [
      "Warning: deduplication not currently supported for this layer's variable layered draco meshes\n"
     ]
    },
    {
     "name": "stderr",
     "output_type": "stream",
     "text": [
      "100%|██████████| 21285/21285 [00:00<00:00, 329143.00it/s]\n"
     ]
    },
    {
     "name": "stdout",
     "output_type": "stream",
     "text": [
      "<class 'trimesh.base.Trimesh'>\n",
      "\n",
      "<trimesh.Trimesh(vertices.shape=(21382, 3), faces.shape=(42587, 3))>\n"
     ]
    },
    {
     "name": "stderr",
     "output_type": "stream",
     "text": [
      "100%|██████████| 26554/26554 [00:00<00:00, 421375.90it/s]\n"
     ]
    },
    {
     "name": "stdout",
     "output_type": "stream",
     "text": [
      "proposed endpoints: \n",
      "[(104882, 104419, 20465), (98255, 97522, 21044), (106899, 111656, 20738)]\n",
      "[[ 8273.97316892 16729.31469009   665.3495322 ]\n",
      " [11144.90735717    49.13247399 16804.10610535]]\n"
     ]
    },
    {
     "name": "stderr",
     "output_type": "stream",
     "text": [
      "08/09/2022 03:46:32 PM WARNING: face_normals incorrect shape, ignoring! \n"
     ]
    },
    {
     "name": "stdout",
     "output_type": "stream",
     "text": [
      "Warning: deduplication not currently supported for this layer's variable layered draco meshes\n"
     ]
    },
    {
     "name": "stderr",
     "output_type": "stream",
     "text": [
      "100%|██████████| 8213/8213 [00:00<00:00, 368162.05it/s]\n"
     ]
    },
    {
     "name": "stdout",
     "output_type": "stream",
     "text": [
      "<class 'trimesh.base.Trimesh'>\n",
      "\n",
      "<trimesh.Trimesh(vertices.shape=(8280, 3), faces.shape=(16442, 3))>\n"
     ]
    },
    {
     "name": "stderr",
     "output_type": "stream",
     "text": [
      "100%|██████████| 26554/26554 [00:00<00:00, 427992.18it/s]\n"
     ]
    },
    {
     "name": "stdout",
     "output_type": "stream",
     "text": [
      "proposed endpoints: \n",
      "[(104882, 104419, 20465), (98255, 97522, 21044), (106899, 111656, 20738)]\n",
      "[[ 8273.97316892 16729.31469009   665.3495322 ]\n",
      " [11144.90735717    49.13247399 16804.10610535]]\n"
     ]
    },
    {
     "name": "stderr",
     "output_type": "stream",
     "text": [
      "08/09/2022 03:46:36 PM WARNING: face_normals incorrect shape, ignoring! \n"
     ]
    },
    {
     "name": "stdout",
     "output_type": "stream",
     "text": [
      "Warning: deduplication not currently supported for this layer's variable layered draco meshes\n"
     ]
    },
    {
     "name": "stderr",
     "output_type": "stream",
     "text": [
      "100%|██████████| 9656/9656 [00:00<00:00, 376070.86it/s]\n"
     ]
    },
    {
     "name": "stdout",
     "output_type": "stream",
     "text": [
      "<class 'trimesh.base.Trimesh'>\n",
      "\n",
      "<trimesh.Trimesh(vertices.shape=(9735, 3), faces.shape=(19330, 3))>\n"
     ]
    },
    {
     "name": "stderr",
     "output_type": "stream",
     "text": [
      "100%|██████████| 26554/26554 [00:00<00:00, 430798.19it/s]\n"
     ]
    },
    {
     "name": "stdout",
     "output_type": "stream",
     "text": [
      "proposed endpoints: \n",
      "[(104882, 104419, 20465), (98255, 97522, 21044), (106899, 111656, 20738)]\n",
      "[[ 8273.97316892 16729.31469009   665.3495322 ]\n",
      " [11144.90735717    49.13247399 16804.10610535]]\n"
     ]
    },
    {
     "name": "stderr",
     "output_type": "stream",
     "text": [
      "08/09/2022 03:46:40 PM WARNING: face_normals incorrect shape, ignoring! \n"
     ]
    },
    {
     "name": "stdout",
     "output_type": "stream",
     "text": [
      "Warning: deduplication not currently supported for this layer's variable layered draco meshes\n"
     ]
    },
    {
     "name": "stderr",
     "output_type": "stream",
     "text": [
      "100%|██████████| 11104/11104 [00:00<00:00, 374855.54it/s]\n"
     ]
    },
    {
     "name": "stdout",
     "output_type": "stream",
     "text": [
      "<class 'trimesh.base.Trimesh'>\n",
      "\n",
      "<trimesh.Trimesh(vertices.shape=(11192, 3), faces.shape=(22230, 3))>\n"
     ]
    },
    {
     "name": "stderr",
     "output_type": "stream",
     "text": [
      "100%|██████████| 26554/26554 [00:00<00:00, 433534.90it/s]\n"
     ]
    },
    {
     "name": "stdout",
     "output_type": "stream",
     "text": [
      "proposed endpoints: \n",
      "[(104882, 104419, 20465), (98255, 97522, 21044), (106899, 111656, 20738)]\n",
      "[[ 8273.97316892 16729.31469009   665.3495322 ]\n",
      " [11144.90735717    49.13247399 16804.10610535]]\n"
     ]
    },
    {
     "name": "stderr",
     "output_type": "stream",
     "text": [
      "08/09/2022 03:46:45 PM WARNING: face_normals incorrect shape, ignoring! \n"
     ]
    },
    {
     "name": "stdout",
     "output_type": "stream",
     "text": [
      "Warning: deduplication not currently supported for this layer's variable layered draco meshes\n"
     ]
    },
    {
     "name": "stderr",
     "output_type": "stream",
     "text": [
      "100%|██████████| 12546/12546 [00:00<00:00, 373603.92it/s]\n"
     ]
    },
    {
     "name": "stdout",
     "output_type": "stream",
     "text": [
      "<class 'trimesh.base.Trimesh'>\n",
      "\n",
      "<trimesh.Trimesh(vertices.shape=(12646, 3), faces.shape=(25113, 3))>\n"
     ]
    },
    {
     "name": "stderr",
     "output_type": "stream",
     "text": [
      "100%|██████████| 26554/26554 [00:00<00:00, 418607.50it/s]\n"
     ]
    },
    {
     "name": "stdout",
     "output_type": "stream",
     "text": [
      "proposed endpoints: \n",
      "[(104882, 104419, 20465), (98255, 97522, 21044), (106899, 111656, 20738)]\n",
      "[[ 8273.97316892 16729.31469009   665.3495322 ]\n",
      " [11144.90735717    49.13247399 16804.10610535]]\n"
     ]
    },
    {
     "name": "stderr",
     "output_type": "stream",
     "text": [
      "08/09/2022 03:46:49 PM WARNING: face_normals incorrect shape, ignoring! \n"
     ]
    },
    {
     "name": "stdout",
     "output_type": "stream",
     "text": [
      "Warning: deduplication not currently supported for this layer's variable layered draco meshes\n"
     ]
    },
    {
     "name": "stderr",
     "output_type": "stream",
     "text": [
      "100%|██████████| 13989/13989 [00:00<00:00, 371771.66it/s]\n"
     ]
    },
    {
     "name": "stdout",
     "output_type": "stream",
     "text": [
      "<class 'trimesh.base.Trimesh'>\n",
      "\n",
      "<trimesh.Trimesh(vertices.shape=(14100, 3), faces.shape=(27998, 3))>\n"
     ]
    },
    {
     "name": "stderr",
     "output_type": "stream",
     "text": [
      "100%|██████████| 26554/26554 [00:00<00:00, 443363.41it/s]\n"
     ]
    },
    {
     "name": "stdout",
     "output_type": "stream",
     "text": [
      "proposed endpoints: \n",
      "[(104882, 104419, 20465), (98255, 97522, 21044), (106899, 111656, 20738)]\n",
      "[[ 8273.97316892 16729.31469009   665.3495322 ]\n",
      " [11144.90735717    49.13247399 16804.10610535]]\n"
     ]
    },
    {
     "name": "stderr",
     "output_type": "stream",
     "text": [
      "08/09/2022 03:46:54 PM WARNING: face_normals incorrect shape, ignoring! \n"
     ]
    },
    {
     "name": "stdout",
     "output_type": "stream",
     "text": [
      "Warning: deduplication not currently supported for this layer's variable layered draco meshes\n"
     ]
    },
    {
     "name": "stderr",
     "output_type": "stream",
     "text": [
      "100%|██████████| 15495/15495 [00:00<00:00, 360727.00it/s]\n"
     ]
    },
    {
     "name": "stdout",
     "output_type": "stream",
     "text": [
      "<class 'trimesh.base.Trimesh'>\n",
      "\n",
      "<trimesh.Trimesh(vertices.shape=(15555, 3), faces.shape=(31009, 3))>\n"
     ]
    },
    {
     "name": "stderr",
     "output_type": "stream",
     "text": [
      "100%|██████████| 26554/26554 [00:00<00:00, 435623.98it/s]\n"
     ]
    },
    {
     "name": "stdout",
     "output_type": "stream",
     "text": [
      "proposed endpoints: \n",
      "[(104882, 104419, 20465), (98255, 97522, 21044), (106899, 111656, 20738)]\n",
      "[[ 8273.97316892 16729.31469009   665.3495322 ]\n",
      " [11144.90735717    49.13247399 16804.10610535]]\n"
     ]
    },
    {
     "name": "stderr",
     "output_type": "stream",
     "text": [
      "08/09/2022 03:46:58 PM WARNING: face_normals incorrect shape, ignoring! \n"
     ]
    },
    {
     "name": "stdout",
     "output_type": "stream",
     "text": [
      "Warning: deduplication not currently supported for this layer's variable layered draco meshes\n"
     ]
    },
    {
     "name": "stderr",
     "output_type": "stream",
     "text": [
      "100%|██████████| 16943/16943 [00:00<00:00, 278530.89it/s]\n"
     ]
    },
    {
     "name": "stdout",
     "output_type": "stream",
     "text": [
      "<class 'trimesh.base.Trimesh'>\n",
      "\n",
      "<trimesh.Trimesh(vertices.shape=(17011, 3), faces.shape=(33905, 3))>\n"
     ]
    },
    {
     "name": "stderr",
     "output_type": "stream",
     "text": [
      "100%|██████████| 26554/26554 [00:00<00:00, 437564.77it/s]\n"
     ]
    },
    {
     "name": "stdout",
     "output_type": "stream",
     "text": [
      "proposed endpoints: \n",
      "[(104882, 104419, 20465), (98255, 97522, 21044), (106899, 111656, 20738)]\n",
      "[[ 8273.97316892 16729.31469009   665.3495322 ]\n",
      " [11144.90735717    49.13247399 16804.10610535]]\n"
     ]
    },
    {
     "name": "stderr",
     "output_type": "stream",
     "text": [
      "08/09/2022 03:47:02 PM WARNING: face_normals incorrect shape, ignoring! \n"
     ]
    },
    {
     "name": "stdout",
     "output_type": "stream",
     "text": [
      "Warning: deduplication not currently supported for this layer's variable layered draco meshes\n"
     ]
    },
    {
     "name": "stderr",
     "output_type": "stream",
     "text": [
      "100%|██████████| 18391/18391 [00:00<00:00, 343801.85it/s]\n"
     ]
    },
    {
     "name": "stdout",
     "output_type": "stream",
     "text": [
      "<class 'trimesh.base.Trimesh'>\n",
      "\n",
      "<trimesh.Trimesh(vertices.shape=(18465, 3), faces.shape=(36800, 3))>\n"
     ]
    },
    {
     "name": "stderr",
     "output_type": "stream",
     "text": [
      "100%|██████████| 26554/26554 [00:00<00:00, 400186.66it/s]\n"
     ]
    },
    {
     "name": "stdout",
     "output_type": "stream",
     "text": [
      "proposed endpoints: \n",
      "[(104882, 104419, 20465), (98255, 97522, 21044), (106899, 111656, 20738)]\n",
      "[[ 8273.97316892 16729.31469009   665.3495322 ]\n",
      " [11144.90735717    49.13247399 16804.10610535]]\n"
     ]
    },
    {
     "name": "stderr",
     "output_type": "stream",
     "text": [
      "08/09/2022 03:47:06 PM WARNING: face_normals incorrect shape, ignoring! \n"
     ]
    },
    {
     "name": "stdout",
     "output_type": "stream",
     "text": [
      "Warning: deduplication not currently supported for this layer's variable layered draco meshes\n"
     ]
    },
    {
     "name": "stderr",
     "output_type": "stream",
     "text": [
      "100%|██████████| 19843/19843 [00:00<00:00, 361945.57it/s]\n"
     ]
    },
    {
     "name": "stdout",
     "output_type": "stream",
     "text": [
      "<class 'trimesh.base.Trimesh'>\n",
      "\n",
      "<trimesh.Trimesh(vertices.shape=(19925, 3), faces.shape=(39704, 3))>\n"
     ]
    },
    {
     "name": "stderr",
     "output_type": "stream",
     "text": [
      "100%|██████████| 26554/26554 [00:00<00:00, 440198.68it/s]\n"
     ]
    },
    {
     "name": "stdout",
     "output_type": "stream",
     "text": [
      "proposed endpoints: \n",
      "[(104882, 104419, 20465), (98255, 97522, 21044), (106899, 111656, 20738)]\n",
      "[[ 8273.97316892 16729.31469009   665.3495322 ]\n",
      " [11144.90735717    49.13247399 16804.10610535]]\n"
     ]
    },
    {
     "name": "stderr",
     "output_type": "stream",
     "text": [
      "08/09/2022 03:47:11 PM WARNING: face_normals incorrect shape, ignoring! \n"
     ]
    },
    {
     "name": "stdout",
     "output_type": "stream",
     "text": [
      "Warning: deduplication not currently supported for this layer's variable layered draco meshes\n"
     ]
    },
    {
     "name": "stderr",
     "output_type": "stream",
     "text": [
      "100%|██████████| 21285/21285 [00:00<00:00, 305612.27it/s]\n"
     ]
    },
    {
     "name": "stdout",
     "output_type": "stream",
     "text": [
      "<class 'trimesh.base.Trimesh'>\n",
      "\n",
      "<trimesh.Trimesh(vertices.shape=(21382, 3), faces.shape=(42587, 3))>\n"
     ]
    },
    {
     "name": "stderr",
     "output_type": "stream",
     "text": [
      "100%|██████████| 26554/26554 [00:00<00:00, 413265.81it/s]\n"
     ]
    },
    {
     "name": "stdout",
     "output_type": "stream",
     "text": [
      "proposed endpoints: \n",
      "[(104882, 104419, 20465), (98255, 97522, 21044), (106899, 111656, 20738)]\n",
      "[[ 8273.97316892 16729.31469009   665.3495322 ]\n",
      " [11144.90735717    49.13247399 16804.10610535]]\n"
     ]
    },
    {
     "name": "stderr",
     "output_type": "stream",
     "text": [
      "08/09/2022 03:47:15 PM WARNING: face_normals incorrect shape, ignoring! \n"
     ]
    },
    {
     "name": "stdout",
     "output_type": "stream",
     "text": [
      "Warning: deduplication not currently supported for this layer's variable layered draco meshes\n"
     ]
    },
    {
     "name": "stderr",
     "output_type": "stream",
     "text": [
      "100%|██████████| 8213/8213 [00:00<00:00, 308932.42it/s]\n"
     ]
    },
    {
     "name": "stdout",
     "output_type": "stream",
     "text": [
      "<class 'trimesh.base.Trimesh'>\n",
      "\n",
      "<trimesh.Trimesh(vertices.shape=(8280, 3), faces.shape=(16442, 3))>\n"
     ]
    },
    {
     "name": "stderr",
     "output_type": "stream",
     "text": [
      "100%|██████████| 26554/26554 [00:00<00:00, 341574.68it/s]\n"
     ]
    },
    {
     "name": "stdout",
     "output_type": "stream",
     "text": [
      "proposed endpoints: \n",
      "[(104882, 104419, 20465), (98255, 97522, 21044), (106899, 111656, 20738)]\n",
      "[[ 8273.97316892 16729.31469009   665.3495322 ]\n",
      " [11144.90735717    49.13247399 16804.10610535]]\n"
     ]
    },
    {
     "name": "stderr",
     "output_type": "stream",
     "text": [
      "08/09/2022 03:47:20 PM WARNING: face_normals incorrect shape, ignoring! \n"
     ]
    },
    {
     "name": "stdout",
     "output_type": "stream",
     "text": [
      "Warning: deduplication not currently supported for this layer's variable layered draco meshes\n"
     ]
    },
    {
     "name": "stderr",
     "output_type": "stream",
     "text": [
      "100%|██████████| 9656/9656 [00:00<00:00, 368971.89it/s]\n"
     ]
    },
    {
     "name": "stdout",
     "output_type": "stream",
     "text": [
      "<class 'trimesh.base.Trimesh'>\n",
      "\n",
      "<trimesh.Trimesh(vertices.shape=(9735, 3), faces.shape=(19330, 3))>\n"
     ]
    },
    {
     "name": "stderr",
     "output_type": "stream",
     "text": [
      "100%|██████████| 26554/26554 [00:00<00:00, 427110.80it/s]\n"
     ]
    },
    {
     "name": "stdout",
     "output_type": "stream",
     "text": [
      "proposed endpoints: \n",
      "[(104882, 104419, 20465), (98255, 97522, 21044), (106899, 111656, 20738)]\n",
      "[[ 8273.97316892 16729.31469009   665.3495322 ]\n",
      " [11144.90735717    49.13247399 16804.10610535]]\n"
     ]
    },
    {
     "name": "stderr",
     "output_type": "stream",
     "text": [
      "08/09/2022 03:47:24 PM WARNING: face_normals incorrect shape, ignoring! \n"
     ]
    },
    {
     "name": "stdout",
     "output_type": "stream",
     "text": [
      "Warning: deduplication not currently supported for this layer's variable layered draco meshes\n"
     ]
    },
    {
     "name": "stderr",
     "output_type": "stream",
     "text": [
      "100%|██████████| 11104/11104 [00:00<00:00, 308812.46it/s]\n"
     ]
    },
    {
     "name": "stdout",
     "output_type": "stream",
     "text": [
      "<class 'trimesh.base.Trimesh'>\n",
      "\n",
      "<trimesh.Trimesh(vertices.shape=(11192, 3), faces.shape=(22230, 3))>\n"
     ]
    },
    {
     "name": "stderr",
     "output_type": "stream",
     "text": [
      "100%|██████████| 26554/26554 [00:00<00:00, 434578.63it/s]\n"
     ]
    },
    {
     "name": "stdout",
     "output_type": "stream",
     "text": [
      "proposed endpoints: \n",
      "[(104882, 104419, 20465), (98255, 97522, 21044), (106899, 111656, 20738)]\n",
      "[[ 8273.97316892 16729.31469009   665.3495322 ]\n",
      " [11144.90735717    49.13247399 16804.10610535]]\n"
     ]
    },
    {
     "name": "stderr",
     "output_type": "stream",
     "text": [
      "08/09/2022 03:47:28 PM WARNING: face_normals incorrect shape, ignoring! \n"
     ]
    },
    {
     "name": "stdout",
     "output_type": "stream",
     "text": [
      "Warning: deduplication not currently supported for this layer's variable layered draco meshes\n"
     ]
    },
    {
     "name": "stderr",
     "output_type": "stream",
     "text": [
      "100%|██████████| 12546/12546 [00:00<00:00, 369379.04it/s]\n"
     ]
    },
    {
     "name": "stdout",
     "output_type": "stream",
     "text": [
      "<class 'trimesh.base.Trimesh'>\n",
      "\n",
      "<trimesh.Trimesh(vertices.shape=(12646, 3), faces.shape=(25113, 3))>\n"
     ]
    },
    {
     "name": "stderr",
     "output_type": "stream",
     "text": [
      "100%|██████████| 26554/26554 [00:00<00:00, 440418.01it/s]\n"
     ]
    },
    {
     "name": "stdout",
     "output_type": "stream",
     "text": [
      "proposed endpoints: \n",
      "[(104882, 104419, 20465), (98255, 97522, 21044), (106899, 111656, 20738)]\n",
      "[[ 8273.97316892 16729.31469009   665.3495322 ]\n",
      " [11144.90735717    49.13247399 16804.10610535]]\n"
     ]
    },
    {
     "name": "stderr",
     "output_type": "stream",
     "text": [
      "08/09/2022 03:47:33 PM WARNING: face_normals incorrect shape, ignoring! \n"
     ]
    },
    {
     "name": "stdout",
     "output_type": "stream",
     "text": [
      "Warning: deduplication not currently supported for this layer's variable layered draco meshes\n"
     ]
    },
    {
     "name": "stderr",
     "output_type": "stream",
     "text": [
      "100%|██████████| 13989/13989 [00:00<00:00, 444238.39it/s]\n"
     ]
    },
    {
     "name": "stdout",
     "output_type": "stream",
     "text": [
      "<class 'trimesh.base.Trimesh'>\n",
      "\n",
      "<trimesh.Trimesh(vertices.shape=(14100, 3), faces.shape=(27998, 3))>\n"
     ]
    },
    {
     "name": "stderr",
     "output_type": "stream",
     "text": [
      "100%|██████████| 26554/26554 [00:00<00:00, 426193.90it/s]\n"
     ]
    },
    {
     "name": "stdout",
     "output_type": "stream",
     "text": [
      "proposed endpoints: \n",
      "[(104882, 104419, 20465), (98255, 97522, 21044), (106899, 111656, 20738)]\n",
      "[[ 8273.97316892 16729.31469009   665.3495322 ]\n",
      " [11144.90735717    49.13247399 16804.10610535]]\n"
     ]
    },
    {
     "name": "stderr",
     "output_type": "stream",
     "text": [
      "08/09/2022 03:47:37 PM WARNING: face_normals incorrect shape, ignoring! \n"
     ]
    },
    {
     "name": "stdout",
     "output_type": "stream",
     "text": [
      "Warning: deduplication not currently supported for this layer's variable layered draco meshes\n"
     ]
    },
    {
     "name": "stderr",
     "output_type": "stream",
     "text": [
      "100%|██████████| 15495/15495 [00:00<00:00, 407977.03it/s]\n"
     ]
    },
    {
     "name": "stdout",
     "output_type": "stream",
     "text": [
      "<class 'trimesh.base.Trimesh'>\n",
      "\n",
      "<trimesh.Trimesh(vertices.shape=(15555, 3), faces.shape=(31009, 3))>\n"
     ]
    },
    {
     "name": "stderr",
     "output_type": "stream",
     "text": [
      "100%|██████████| 26554/26554 [00:00<00:00, 421525.81it/s]\n"
     ]
    },
    {
     "name": "stdout",
     "output_type": "stream",
     "text": [
      "proposed endpoints: \n",
      "[(104882, 104419, 20465), (98255, 97522, 21044), (106899, 111656, 20738)]\n",
      "[[ 8273.97316892 16729.31469009   665.3495322 ]\n",
      " [11144.90735717    49.13247399 16804.10610535]]\n"
     ]
    },
    {
     "name": "stderr",
     "output_type": "stream",
     "text": [
      "08/09/2022 03:47:41 PM WARNING: face_normals incorrect shape, ignoring! \n"
     ]
    },
    {
     "name": "stdout",
     "output_type": "stream",
     "text": [
      "Warning: deduplication not currently supported for this layer's variable layered draco meshes\n"
     ]
    },
    {
     "name": "stderr",
     "output_type": "stream",
     "text": [
      "100%|██████████| 16943/16943 [00:00<00:00, 363231.65it/s]\n"
     ]
    },
    {
     "name": "stdout",
     "output_type": "stream",
     "text": [
      "<class 'trimesh.base.Trimesh'>\n",
      "\n",
      "<trimesh.Trimesh(vertices.shape=(17011, 3), faces.shape=(33905, 3))>\n"
     ]
    },
    {
     "name": "stderr",
     "output_type": "stream",
     "text": [
      "100%|██████████| 26554/26554 [00:00<00:00, 424321.75it/s]\n"
     ]
    },
    {
     "name": "stdout",
     "output_type": "stream",
     "text": [
      "proposed endpoints: \n",
      "[(104882, 104419, 20465), (98255, 97522, 21044), (106899, 111656, 20738)]\n",
      "[[ 8273.97316892 16729.31469009   665.3495322 ]\n",
      " [11144.90735717    49.13247399 16804.10610535]]\n"
     ]
    },
    {
     "name": "stderr",
     "output_type": "stream",
     "text": [
      "08/09/2022 03:47:45 PM WARNING: face_normals incorrect shape, ignoring! \n"
     ]
    },
    {
     "name": "stdout",
     "output_type": "stream",
     "text": [
      "Warning: deduplication not currently supported for this layer's variable layered draco meshes\n"
     ]
    },
    {
     "name": "stderr",
     "output_type": "stream",
     "text": [
      "100%|██████████| 18391/18391 [00:00<00:00, 355885.38it/s]\n"
     ]
    },
    {
     "name": "stdout",
     "output_type": "stream",
     "text": [
      "<class 'trimesh.base.Trimesh'>\n",
      "\n",
      "<trimesh.Trimesh(vertices.shape=(18465, 3), faces.shape=(36800, 3))>\n"
     ]
    },
    {
     "name": "stderr",
     "output_type": "stream",
     "text": [
      "100%|██████████| 26554/26554 [00:00<00:00, 405992.62it/s]\n"
     ]
    },
    {
     "name": "stdout",
     "output_type": "stream",
     "text": [
      "proposed endpoints: \n",
      "[(104882, 104419, 20465), (98255, 97522, 21044), (106899, 111656, 20738)]\n",
      "[[ 8273.97316892 16729.31469009   665.3495322 ]\n",
      " [11144.90735717    49.13247399 16804.10610535]]\n"
     ]
    },
    {
     "name": "stderr",
     "output_type": "stream",
     "text": [
      "08/09/2022 03:47:49 PM WARNING: face_normals incorrect shape, ignoring! \n"
     ]
    },
    {
     "name": "stdout",
     "output_type": "stream",
     "text": [
      "Warning: deduplication not currently supported for this layer's variable layered draco meshes\n"
     ]
    },
    {
     "name": "stderr",
     "output_type": "stream",
     "text": [
      "100%|██████████| 19843/19843 [00:00<00:00, 421866.82it/s]\n"
     ]
    },
    {
     "name": "stdout",
     "output_type": "stream",
     "text": [
      "<class 'trimesh.base.Trimesh'>\n",
      "\n",
      "<trimesh.Trimesh(vertices.shape=(19925, 3), faces.shape=(39704, 3))>\n"
     ]
    },
    {
     "name": "stderr",
     "output_type": "stream",
     "text": [
      "100%|██████████| 26554/26554 [00:00<00:00, 436304.89it/s]\n"
     ]
    },
    {
     "name": "stdout",
     "output_type": "stream",
     "text": [
      "proposed endpoints: \n",
      "[(104882, 104419, 20465), (98255, 97522, 21044), (106899, 111656, 20738)]\n",
      "[[ 8273.97316892 16729.31469009   665.3495322 ]\n",
      " [11144.90735717    49.13247399 16804.10610535]]\n"
     ]
    },
    {
     "name": "stderr",
     "output_type": "stream",
     "text": [
      "08/09/2022 03:47:54 PM WARNING: face_normals incorrect shape, ignoring! \n"
     ]
    },
    {
     "name": "stdout",
     "output_type": "stream",
     "text": [
      "Warning: deduplication not currently supported for this layer's variable layered draco meshes\n"
     ]
    },
    {
     "name": "stderr",
     "output_type": "stream",
     "text": [
      "100%|██████████| 21285/21285 [00:00<00:00, 417394.90it/s]\n"
     ]
    },
    {
     "name": "stdout",
     "output_type": "stream",
     "text": [
      "<class 'trimesh.base.Trimesh'>\n",
      "\n",
      "<trimesh.Trimesh(vertices.shape=(21382, 3), faces.shape=(42587, 3))>\n"
     ]
    },
    {
     "name": "stderr",
     "output_type": "stream",
     "text": [
      "100%|██████████| 26554/26554 [00:00<00:00, 418635.82it/s]\n"
     ]
    },
    {
     "name": "stdout",
     "output_type": "stream",
     "text": [
      "proposed endpoints: \n",
      "[(104882, 104419, 20465), (98255, 97522, 21044), (106899, 111656, 20738)]\n",
      "[[ 8273.97316892 16729.31469009   665.3495322 ]\n",
      " [11144.90735717    49.13247399 16804.10610535]]\n"
     ]
    }
   ],
   "source": [
    "# TESTING ALL PARAM COMBOS ON A SINGLE SEG ID\n",
    "\n",
    "# Seg_id at index 97 - 864691135319600870\n",
    "\n",
    "load = pd.read_csv(\"agents/Data/endpoints_gt5.csv\")\n",
    "load = load[load[\"seg_id\"] == 864691135319600870]\n",
    "endpoints_dict = {}\n",
    "\n",
    "# Generate out_df\n",
    "out_df = pd.DataFrame(columns=[\"run\", \"precision\", \"recall\", \"f1\", \"seg_id\",\n",
    "                      \"num_endpoints\", \"endpoints\", \"invalidation_d\",\"num_humfrey_iters\",\"decimation_factor\",\"comments\", \"proposed_endpoints\"])\n",
    "\n",
    "run = 0\n",
    "for invalidation_d in range(4000, 4401, 200):\n",
    "# for invalidation_d in range(4000, 4201, 200):\n",
    "    for num_humfrey_iters in range(0, 250, 25):\n",
    "        # for decimation_factor in np.linspace(0.31, 0.8, num = 10):\n",
    "        for decimation_factor in np.linspace(0.31, 0.8, num=10):\n",
    "            load = pd.read_csv(\"agents/Data/endpoints_gt5.csv\")\n",
    "            load = load[load[\"seg_id\"] == 864691135319600870]\n",
    "            load_with_proposed_endpoints = endpoint_generator_humfrey(\n",
    "                load, invalidation_d=invalidation_d, num_humfrey_iters = num_humfrey_iters, decimation_factor=decimation_factor)\n",
    "            run += 1\n",
    "            out_df = testing_metrics(\n",
    "                load_with_proposed_endpoints, threshold=500, run=run, output=out_df, invalidation_d = invalidation_d, num_humfrey_iters = num_humfrey_iters, decimation_factor = decimation_factor)\n"
   ]
  },
  {
   "cell_type": "code",
   "execution_count": 13,
   "metadata": {},
   "outputs": [],
   "source": [
    "out_df.to_csv('single_seg_humfrey_sweep_4000_4401.csv')"
   ]
  },
  {
   "cell_type": "code",
   "execution_count": null,
   "metadata": {},
   "outputs": [],
   "source": [
    "out_df"
   ]
  },
  {
   "cell_type": "code",
   "execution_count": null,
   "metadata": {},
   "outputs": [],
   "source": []
  }
 ],
 "metadata": {
  "kernelspec": {
   "display_name": "Python 3.8.9 64-bit",
   "language": "python",
   "name": "python3"
  },
  "language_info": {
   "codemirror_mode": {
    "name": "ipython",
    "version": 3
   },
   "file_extension": ".py",
   "mimetype": "text/x-python",
   "name": "python",
   "nbconvert_exporter": "python",
   "pygments_lexer": "ipython3",
   "version": "3.8.9"
  },
  "orig_nbformat": 4,
  "vscode": {
   "interpreter": {
    "hash": "31f2aee4e71d21fbe5cf8b01ff0e069b9275f58929596ceb00d14d90e3e16cd6"
   }
  }
 },
 "nbformat": 4,
 "nbformat_minor": 2
}
