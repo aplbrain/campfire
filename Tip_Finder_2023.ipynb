{
 "cells": [
  {
   "attachments": {},
   "cell_type": "markdown",
   "metadata": {},
   "source": [
    "### CREATE DATAFRAME"
   ]
  },
  {
   "cell_type": "code",
   "execution_count": null,
   "metadata": {},
   "outputs": [],
   "source": [
    "from cloudvolume import CloudVolume\n",
    "from meshparty import skeletonize, trimesh_io\n",
    "from caveclient import CAVEclient\n",
    "import trimesh\n",
    "import numpy as np\n",
    "import datetime\n",
    "import networkx as nx\n",
    "from scipy.sparse import identity\n",
    "from scipy.spatial import distance_matrix\n",
    "import scipy \n",
    "from tqdm import tqdm\n",
    "# import aws\n",
    "import pandas as pd\n",
    "import csv\n",
    "import pyembree\n",
    "import matplotlib.pyplot as plt\n",
    "import scipy.spatial as spatial\n",
    "import itertools"
   ]
  },
  {
   "cell_type": "code",
   "execution_count": 34,
   "metadata": {},
   "outputs": [],
   "source": [
    "\n",
    "orphans = pd.read_csv(\"/Users/sheeltanna/Desktop/AGT_REPO/campfire/GT_30_Orphans_Spring_2023 - Sheet1.csv\")"
   ]
  },
  {
   "cell_type": "code",
   "execution_count": 35,
   "metadata": {},
   "outputs": [],
   "source": [
    "def my_array(x):\n",
    "    res = list(map(str.strip, x.split('; ')))\n",
    "    return res"
   ]
  },
  {
   "cell_type": "code",
   "execution_count": 36,
   "metadata": {},
   "outputs": [],
   "source": [
    "orphans['endpoints'] = orphans['endpoints'].map(lambda x: list(map(str.strip, x.split('; '))))"
   ]
  },
  {
   "cell_type": "code",
   "execution_count": 37,
   "metadata": {},
   "outputs": [],
   "source": [
    "## convert from string list to 2-d array\n",
    "def convert_to_array(row):\n",
    "    count = 0\n",
    "    result = []\n",
    "    for endpoint in row[\"endpoints\"]:\n",
    "        # endpoint = tuple(map(int, endpoint.split(', ')))\n",
    "        endpoint = eval(endpoint)\n",
    "        # print()\n",
    "        # print(endpoint)\n",
    "        # print(type(endpoint))\n",
    "        if(count == 0):\n",
    "            result = np.array(endpoint)\n",
    "            count = count + 1\n",
    "        else:\n",
    "            result = np.vstack((result, np.array(endpoint)))\n",
    "            count = count + 1\n",
    "            #result = np.concatenate(result, list(tuple))\n",
    "    #check if there was only 1 point, convert to 2-d array:\n",
    "    # if(type(result) == list):\n",
    "        \n",
    "    if(count == 1 and result.size != 0):\n",
    "        result = result.reshape(1,3)\n",
    "    return result "
   ]
  },
  {
   "cell_type": "code",
   "execution_count": 38,
   "metadata": {},
   "outputs": [],
   "source": [
    "orphans[\"real_endpoints\"] = orphans.apply(convert_to_array, axis = 1)"
   ]
  },
  {
   "cell_type": "code",
   "execution_count": 40,
   "metadata": {},
   "outputs": [
    {
     "data": {
      "text/plain": [
       "0     [[402547, 228831, 23991], [402958, 229220, 235...\n",
       "1     [[401602, 224623, 23991], [405273, 226312, 236...\n",
       "2     [[403332, 227545, 24398], [403566, 227614, 244...\n",
       "3     [[77262, 113088, 20442], [79178, 109113, 20400...\n",
       "4     [[100423, 143992, 21653], [100583, 144194, 217...\n",
       "5      [[71894, 146181, 20442], [71498, 146290, 20403]]\n",
       "6       [[77575, 107807, 21133], [77000, 99565, 21215]]\n",
       "7     [[79785, 135709, 21133], [84176, 127514, 21582...\n",
       "8       [[81198, 106660, 21133], [88834, 99501, 20479]]\n",
       "9      [[75409, 116393, 21135], [74841, 116076, 21217]]\n",
       "10    [[351150, 143681, 15176], [348147, 144970, 148...\n",
       "11    [[344600, 142349, 16939], [344592, 142335, 169...\n",
       "12    [[366719, 138890, 16417], [367885, 138975, 165...\n",
       "13    [[353411, 147608, 15177], [352173, 148914, 148...\n",
       "14    [[346497, 82778, 27090], [339051, 74578, 26769...\n",
       "15     [[351839, 91058, 27284], [349567, 97065, 26976]]\n",
       "16    [[357525, 81584, 25828], [358640, 81180, 25734...\n",
       "17     [[347271, 87374, 25828], [347862, 89018, 24930]]\n",
       "18    [[111700, 241689, 22797], [110188, 241117, 228...\n",
       "19    [[116186, 247468, 23275], [114619, 246629, 235...\n",
       "20    [[103037, 175591, 18434], [99978, 172371, 1883...\n",
       "21    [[313505, 161103, 18580], [314477, 162881, 187...\n",
       "22     [[307899, 98712, 19067], [309700, 87653, 19669]]\n",
       "23    [[286807, 94503, 18046], [291939, 86875, 18287...\n",
       "24    [[104063, 174940, 18432], [104232, 162719, 200...\n",
       "25    [[299555, 102903, 17377], [299986, 100770, 172...\n",
       "26    [[280639, 88256, 18965], [280377, 87163, 19077...\n",
       "27     [[84884, 179330, 16386], [84527, 179768, 16234]]\n",
       "28    [[125626, 172825, 17140], [125668, 172840, 171...\n",
       "29    [[299386, 144111, 17853], [308152, 142095, 172...\n",
       "Name: real_endpoints, dtype: object"
      ]
     },
     "execution_count": 40,
     "metadata": {},
     "output_type": "execute_result"
    }
   ],
   "source": [
    "orphans[\"real_endpoints\"]"
   ]
  }
 ],
 "metadata": {
  "kernelspec": {
   "display_name": "Python 3",
   "language": "python",
   "name": "python3"
  },
  "language_info": {
   "codemirror_mode": {
    "name": "ipython",
    "version": 3
   },
   "file_extension": ".py",
   "mimetype": "text/x-python",
   "name": "python",
   "nbconvert_exporter": "python",
   "pygments_lexer": "ipython3",
   "version": "3.8.3"
  },
  "orig_nbformat": 4,
  "vscode": {
   "interpreter": {
    "hash": "aee8b7b246df8f9039afb4144a1f6fd8d2ca17a180786b69acc140d282b71a49"
   }
  }
 },
 "nbformat": 4,
 "nbformat_minor": 2
}
