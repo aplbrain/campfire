{
 "cells": [
  {
   "cell_type": "code",
   "execution_count": null,
   "metadata": {
    "scrolled": true
   },
   "outputs": [],
   "source": [
    "# CODE WRITTING BY LINDSAY - THANK YOU\n",
    "\n",
    "from caveclient import CAVEclient\n",
    "from datetime import datetime\n",
    "\n",
    "cave_client_public = CAVEclient('minnie65_public_v117')\n",
    "cave_client = CAVEclient('minnie65_phase3_v1')\n",
    "\n",
    "# get timestamp for public release\n",
    "past_timestamp = cave_client.materialize.get_timestamp(117)\n",
    "\n",
    "# get old nuclei classification table\n",
    "nuclei_before = cave_client_public.materialize.query_table('nucleus_neuron_svm')\n",
    "\n",
    "# get new nuclei classification table\n",
    "nuclei_now = cave_client.materialize.query_table('allen_neuron_nonneuron_svm_v0',\n",
    "                                                timestamp=datetime.utcnow())\n",
    "\n",
    "# filter to just single soma\n",
    "single_soma_after = nuclei_now['pt_root_id'].value_counts()[nuclei_now['pt_root_id'].value_counts() < 2]\n",
    "single_soma_df_after = nuclei_now[nuclei_now['pt_root_id'].isin(single_soma_after.keys())]\n",
    "\n",
    "# merge old and new, keeping only nuclei in the new table\n",
    "# new table has already filtered out nuclei on the edge and in bad data areas\n",
    "nuclei_table = nuclei_before[['id', 'pt_root_id', 'pt_position']].merge(\n",
    "    single_soma_df_after[['id', 'cell_type']], on='id', how='right')\n",
    "\n",
    "# get just neurons\n",
    "neurons = nuclei_table[nuclei_table.cell_type == 'neuron']"
   ]
  },
  {
   "cell_type": "code",
   "execution_count": null,
   "metadata": {},
   "outputs": [],
   "source": [
    "queue_url = sqs.get_or_create_queue(\"Root_ids\")\n",
    "running_list = []\n",
    "for i, root_id in enumerate(neurons.pt_root_id.unique()[:100]):\n",
    "    running_list.append({\n",
    "            'Id': str(i),\n",
    "            'MessageBody': str(root_id),\n",
    "        })\n",
    "    if i % 10 == 0:\n",
    "        sqs.send_batch(queue_url, running_list)\n",
    "        running_list = []"
   ]
  },
  {
   "cell_type": "code",
   "execution_count": null,
   "metadata": {},
   "outputs": [],
   "source": []
  }
 ],
 "metadata": {
  "kernelspec": {
   "display_name": "Python 3",
   "language": "python",
   "name": "python3"
  }
 },
 "nbformat": 4,
 "nbformat_minor": 4
}
