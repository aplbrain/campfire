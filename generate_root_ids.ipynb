{
 "cells": [
  {
   "cell_type": "code",
   "execution_count": 9,
   "metadata": {
    "scrolled": true
   },
   "outputs": [
    {
     "name": "stderr",
     "output_type": "stream",
     "text": [
      "05/05/2022 05:04:03 PM INFO: uniq_root_ids [864691131942873927 864691132631239154 864691132640888901 ...\n",
      " 864691137197409089 864691137197412673 864691137197413441] \n",
      "05/05/2022 05:04:06 PM INFO: pt_supervoxel_id has 35 to update \n",
      "05/05/2022 05:04:06 PM INFO: num zero svids: 0 \n",
      "05/05/2022 05:04:06 PM INFO: all_svids dtype int64 \n",
      "05/05/2022 05:04:06 PM INFO: all_svid_lengths [35] \n"
     ]
    }
   ],
   "source": [
    "from caveclient import CAVEclient\n",
    "from datetime import datetime\n",
    "\n",
    "cave_client_public = CAVEclient('minnie65_public_v117')\n",
    "cave_client = CAVEclient('minnie65_phase3_v1')\n",
    "\n",
    "# get timestamp for public release\n",
    "past_timestamp = cave_client.materialize.get_timestamp(117)\n",
    "\n",
    "# get old nuclei classification table\n",
    "nuclei_before = cave_client_public.materialize.query_table('nucleus_neuron_svm')\n",
    "\n",
    "# get new nuclei classification table\n",
    "nuclei_now = cave_client.materialize.query_table('allen_neuron_nonneuron_svm_v0',\n",
    "                                                timestamp=datetime.utcnow())\n",
    "\n",
    "\n",
    "nuclei_table = nuclei_before[['id', 'pt_root_id', 'pt_position']].merge(nuclei_now[['id', 'cell_type']], on='id', how='right')\n",
    "\n",
    "neurons = nuclei_table[nuclei_table.cell_type == 'neuron']"
   ]
  },
  {
   "cell_type": "code",
   "execution_count": 21,
   "metadata": {},
   "outputs": [
    {
     "name": "stderr",
     "output_type": "stream",
     "text": [
      "05/05/2022 05:19:28 PM INFO: Found credentials in shared credentials file: ~/.aws/credentials \n",
      "05/05/2022 05:19:29 PM INFO: Found credentials in shared credentials file: ~/.aws/credentials \n",
      "05/05/2022 05:19:29 PM INFO: Found credentials in shared credentials file: ~/.aws/credentials \n",
      "05/05/2022 05:19:29 PM INFO: Found credentials in shared credentials file: ~/.aws/credentials \n",
      "05/05/2022 05:19:29 PM INFO: Found credentials in shared credentials file: ~/.aws/credentials \n",
      "05/05/2022 05:19:30 PM INFO: Found credentials in shared credentials file: ~/.aws/credentials \n",
      "05/05/2022 05:19:30 PM INFO: Found credentials in shared credentials file: ~/.aws/credentials \n",
      "05/05/2022 05:19:30 PM INFO: Found credentials in shared credentials file: ~/.aws/credentials \n",
      "05/05/2022 05:19:30 PM INFO: Found credentials in shared credentials file: ~/.aws/credentials \n",
      "05/05/2022 05:19:31 PM INFO: Found credentials in shared credentials file: ~/.aws/credentials \n",
      "05/05/2022 05:19:31 PM INFO: Found credentials in shared credentials file: ~/.aws/credentials \n"
     ]
    }
   ],
   "source": [
    "queue_url = sqs.get_or_create_queue(\"Root_ids\")\n",
    "running_list = []\n",
    "for i, root_id in enumerate(neurons.pt_root_id.unique()[:100]):\n",
    "    running_list.append({\n",
    "            'Id': str(i),\n",
    "            'MessageBody': str(root_id),\n",
    "        })\n",
    "    if i % 10 == 0:\n",
    "        sqs.send_batch(queue_url, running_list)\n",
    "        running_list = []"
   ]
  },
  {
   "cell_type": "code",
   "execution_count": null,
   "metadata": {},
   "outputs": [],
   "source": []
  }
 ],
 "metadata": {
  "kernelspec": {
   "display_name": "Python 3",
   "language": "python",
   "name": "python3"
  }
 },
 "nbformat": 4,
 "nbformat_minor": 4
}
