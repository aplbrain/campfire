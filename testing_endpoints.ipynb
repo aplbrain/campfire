{
 "cells": [
  {
   "cell_type": "code",
   "execution_count": 1,
   "metadata": {},
   "outputs": [],
   "source": [
    "from tip_finding import tip_finding\n",
    "from drive import segment_points\n",
    "import numpy as np\n",
    "import pandas as pd\n"
   ]
  },
  {
   "cell_type": "code",
   "execution_count": 2,
   "metadata": {},
   "outputs": [
    {
     "name": "stdout",
     "output_type": "stream",
     "text": [
      "Warning: deduplication not currently supported for this layer's variable layered draco meshes\n",
      "branch\n"
     ]
    },
    {
     "name": "stderr",
     "output_type": "stream",
     "text": [
      "100%|██████████| 1450/1450 [00:00<00:00, 591091.53it/s]\n",
      "/Users/sheeltanna/campfire-1/tip_finding/tip_finding.py:516: VisibleDeprecationWarning: Creating an ndarray from ragged nested sequences (which is a list-or-tuple of lists-or-tuples-or ndarrays with different lengths or shapes) is deprecated. If you meant to do this, you must specify 'dtype=object' when creating the ndarray.\n",
      "  locs = np.array([np.array(list(nx.get_node_attributes(g, 'mean_loc').values())) for g in graphs])\n",
      "100%|██████████| 6/6 [00:00<00:00, 344.51it/s]\n",
      "1it [00:00, 170.09it/s]\n",
      "0it [00:00, ?it/s]\n"
     ]
    }
   ],
   "source": [
    "root_id = 864691135552841025\n",
    "endpoints = []\n",
    "good_tips_thick, good_tips_thin, good_tips_bad_thick, good_tips_bad_thin, just_tips, just_means, skel_mp, mesh_obj  = tip_finding.endpoints_from_rid(root_id)\n",
    "for i in good_tips_thick:\n",
    "    endpoints.append(i)\n",
    "for i in good_tips_thin:\n",
    "    endpoints.append(i)"
   ]
  },
  {
   "cell_type": "code",
   "execution_count": 8,
   "metadata": {},
   "outputs": [
    {
     "name": "stderr",
     "output_type": "stream",
     "text": [
      "/Users/sheeltanna/campfire-1/tip_finding/tip_finding.py:516: VisibleDeprecationWarning: Creating an ndarray from ragged nested sequences (which is a list-or-tuple of lists-or-tuples-or ndarrays with different lengths or shapes) is deprecated. If you meant to do this, you must specify 'dtype=object' when creating the ndarray.\n",
      "  locs = np.array([np.array(list(nx.get_node_attributes(g, 'mean_loc').values())) for g in graphs])\n",
      "100%|██████████| 29/29 [00:00<00:00, 861.35it/s]\n"
     ]
    }
   ],
   "source": [
    "flat_regions = tip_finding.get_flat_regions(mesh_obj, minsize=10, n_iter=3)\n",
    "just_means = flat_regions[-1]"
   ]
  },
  {
   "cell_type": "code",
   "execution_count": 9,
   "metadata": {},
   "outputs": [
    {
     "name": "stdout",
     "output_type": "stream",
     "text": [
      "setting up renderer\n",
      "done setting up\n",
      "actors added\n",
      "camera set\n",
      "render done\n",
      "finalizing..\n"
     ]
    },
    {
     "data": {
      "text/plain": [
       "<vtkmodules.vtkRenderingOpenGL2.vtkOpenGLRenderer(0x7fafb347e000) at 0x7fafae510f40>"
      ]
     },
     "execution_count": 9,
     "metadata": {},
     "output_type": "execute_result"
    }
   ],
   "source": [
    "#visualizing mesh\n",
    "from meshparty import trimesh_io, trimesh_vtk, skeletonize, mesh_filters\n",
    "syn_actor = trimesh_vtk.point_cloud_actor(just_tips, size=400, color=(0.2, 0.9, 0.9))\n",
    "syn_actor2 = trimesh_vtk.point_cloud_actor(just_means, size=400, color=(0.9, 0.2, 0.9))\n",
    "mesh_actor = trimesh_vtk.mesh_actor(mesh_obj, opacity=1, color=(0.7, 0.7, 0.7))\n",
    "trimesh_vtk.render_actors([mesh_actor, syn_actor, syn_actor2])"
   ]
  },
  {
   "cell_type": "code",
   "execution_count": 14,
   "metadata": {},
   "outputs": [
    {
     "name": "stderr",
     "output_type": "stream",
     "text": [
      "/var/folders/bz/3tlf2mzd44x751_89tsfdgjh0000gn/T/ipykernel_14443/1175076013.py:41: VisibleDeprecationWarning: Creating an ndarray from ragged nested sequences (which is a list-or-tuple of lists-or-tuples-or ndarrays with different lengths or shapes) is deprecated. If you meant to do this, you must specify 'dtype=object' when creating the ndarray.\n",
      "  locs = np.array([np.array(list(nx.get_node_attributes(g, 'mean_loc').values())) for g in graphs])\n",
      "100%|██████████| 29/29 [00:00<00:00, 910.00it/s]\n"
     ]
    }
   ],
   "source": [
    "import trimesh\n",
    "import networkx as nx\n",
    "from tqdm import tqdm\n",
    "minsize = 10\n",
    "mesh = mesh_obj\n",
    "n_iter = 3\n",
    "\n",
    "mesh_obj = trimesh.Trimesh(np.divide(mesh.vertices, np.array([1,1,1])), mesh.faces)\n",
    "mesh_coords = mesh_obj.vertices[mesh_obj.faces]\n",
    "normals = mesh_obj.face_normals\n",
    "\n",
    "# diff = mesh_coords[:,:,2] - mesh_coords[:, 0, 2][:, None]\n",
    "\n",
    "# one_pts = np.argwhere(np.sum(np.abs(diff),axis=1) <= 1)\n",
    "# one_mask = np.full(mesh_obj.faces.shape[0], False)\n",
    "# one_mask[one_pts] = True\n",
    "\n",
    "# Make sure to fix normals in mesh\n",
    "one_mask = np.abs(normals[:, 2]) > .95\n",
    "\n",
    "adjacency_mask =  one_mask[mesh_obj.face_adjacency]\n",
    "adjacency_mask_both = adjacency_mask[:,0]*adjacency_mask[:,1]\n",
    "E = mesh_obj.face_adjacency[adjacency_mask_both]\n",
    "\n",
    "face_areas = mesh_obj.area_faces\n",
    "area_dict = {int(i): face_areas[i] for i in range(face_areas.shape[0])}\n",
    "face_centers = np.mean(mesh_coords, axis=1)\n",
    "\n",
    "loc_dict = {int(i): face_centers[i] for i in range(face_centers.shape[0])}\n",
    "\n",
    "G = nx.from_edgelist(E)\n",
    "nx.set_node_attributes(G, area_dict, name='area')\n",
    "nx.set_node_attributes(G, loc_dict, name='mean_loc')\n",
    "\n",
    "# degs = G.degree()\n",
    "# to_remove = [n for n, d in degs if d != 3 and G.nodes()[n]['area'] < a_min]\n",
    "# G.remove_nodes_from(to_remove)\n",
    "\n",
    "graphs = [G.subgraph(c).copy() for c in nx.connected_components(G)]\n",
    "sums = np.array([np.sum(list(nx.get_node_attributes(g, 'area').values())) for g in graphs])\n",
    "locs = np.array([np.array(list(nx.get_node_attributes(g, 'mean_loc').values())) for g in graphs])\n",
    "# face_angles = trimesh.geometry.vector_angle(normals[mesh_obj.face_adjacency])\n",
    "# s_min = 100000\n",
    "# s_max = 2000000\n",
    "sums_mask = np.squeeze(np.argwhere(sums > minsize))\n",
    "\n",
    "if len(sums_mask.shape) == 0:\n",
    "    sums_mask = np.array([sums_mask])\n",
    "\n",
    "# sums_mask = np.squeeze(np.argwhere((sums > s_min)))\n",
    "# sums_mask.shape[0], len(graphs), sums.shape\n",
    "n_aboves = np.zeros(sums_mask.shape[0])\n",
    "n_belows = np.zeros(sums_mask.shape[0])\n",
    "sums_mask = np.squeeze(np.argwhere(sums > minsize))\n",
    "flat_mask = np.full(sums_mask.shape[0], True)\n",
    "\n",
    "mean_locs = []\n",
    "mean_locs_all = []\n",
    "mean_locs_bad = []\n",
    "inds_good = []\n",
    "inds_bad = []\n",
    "\n",
    "all_nodes = set()\n",
    "\n",
    "for s in range(sums_mask.shape[0]):\n",
    "    all_nodes.update(list(graphs[sums_mask[s]].nodes()))\n",
    "\n",
    "# Precomputing the adjacency matrix saves a lot of time\n",
    "for _ in range(n_iter):\n",
    "    masked_ad = np.isin(mesh_obj.face_adjacency, list(all_nodes))\n",
    "    masked_ad_rows = np.sum(masked_ad,axis=1)>0\n",
    "    face_ad_sub = mesh_obj.face_adjacency[masked_ad_rows]\n",
    "    face_ad_sub_flat = mesh_obj.face_adjacency[masked_ad_rows].flatten()\n",
    "    all_nodes.update(face_ad_sub_flat)\n",
    "    \n",
    "for s in tqdm(range(sums_mask.shape[0])):\n",
    "    curr_nodes = list(graphs[sums_mask[s]].nodes())\n",
    "\n",
    "    original_nodes = list(graphs[sums_mask[s]].nodes())\n",
    "    tris_list = []\n",
    "    for _ in range(n_iter):\n",
    "        new_tris, f = tip_finding.get_next(curr_nodes, face_ad_sub, face_ad_sub_flat)\n",
    "        curr_nodes.extend(new_tris)\n",
    "        tris_list.extend(new_tris)\n",
    "    if len(tris_list)  == 0:\n",
    "        continue\n",
    "    new_tris =  np.array(tris_list)\n",
    "    \n",
    "    flat_mask_faces = np.abs(normals[original_nodes][:, 2]) == 1\n",
    "    face_z = mesh_coords[original_nodes][flat_mask_faces]\n",
    "\n",
    "    \n",
    "    if face_z.shape[0] == 0:\n",
    "        flat_mask[s] = False\n",
    "        continue\n",
    "    else:\n",
    "        face_z = face_z[0, 0, 2]\n",
    "    \n",
    "    diffs = mesh_coords[list(new_tris)][:, :, 2] - face_z\n",
    "    #could move further...change the \"5\"\n",
    "    n_above = np.sum(diffs > 5)\n",
    "    n_below = np.sum(diffs < -5)\n",
    "    n_aboves[s] = n_above\n",
    "    n_belows[s] = n_below\n",
    "    direc = np.round(np.mean(normals[original_nodes][:, 2]))\n",
    "    af = mesh_obj.area_faces[new_tris]\n",
    "    af = af / np.sum(af)\n",
    "    angs = np.arccos(np.dot(normals[new_tris], np.array([0, 0, direc])))\n",
    "    mloc = np.mean(np.mean(mesh_coords[original_nodes][flat_mask_faces], axis=1),axis=0)\n",
    "    #can change the zeros to params \n",
    "    threshold = 0\n",
    "    if (n_above > threshold) and (n_below > threshold):\n",
    "        flat_mask[s] = False\n",
    "    elif (n_above > 0 and direc == 1) or (n_below > 0 and direc == -1):\n",
    "        flat_mask[s] = False\n",
    "    elif not f:\n",
    "        flat_mask[s] = False\n",
    "    elif np.sum(af*(angs < np.pi/4)) < .35:\n",
    "        mean_locs_all.append(mloc)\n",
    "        mean_locs.append(mloc)\n",
    "        inds_good.append(s)\n",
    "    else:\n",
    "        mean_locs_all.append(mloc)\n",
    "        mean_locs_bad.append(mloc)\n",
    "        inds_bad.append(s)\n",
    "#         print(s,np.mean(angs), np.divide(mloc, np.array([4,4,40])))\n",
    "\n",
    "mean_locs = np.array(mean_locs)\n",
    "mean_locs_bad = np.array(mean_locs_bad)\n"
   ]
  },
  {
   "cell_type": "code",
   "execution_count": 22,
   "metadata": {},
   "outputs": [
    {
     "name": "stdout",
     "output_type": "stream",
     "text": [
      "29\n",
      "29\n",
      "29\n"
     ]
    }
   ],
   "source": [
    "#print(graphs)\n",
    "#print(locs)\n",
    "\n",
    "l = [np.mean(x,axis = 0) for x in locs]\n",
    "print(len(locs))\n",
    "print(len(l))\n",
    "print(len(graphs))\n",
    "\n",
    "\n",
    "\n"
   ]
  },
  {
   "cell_type": "code",
   "execution_count": null,
   "metadata": {},
   "outputs": [],
   "source": [
    "#visualizing mesh\n",
    "from meshparty import trimesh_io, trimesh_vtk, skeletonize, mesh_filters\n",
    "syn_actor = trimesh_vtk.point_cloud_actor(just_tips, size=400, color=(0.2, 0.9, 0.9))\n",
    "syn_actor2 = trimesh_vtk.point_cloud_actor(l, size=400, color=(0.9, 0.2, 0.9))\n",
    "mesh_actor = trimesh_vtk.mesh_actor(mesh_obj, opacity=1, color=(0.7, 0.7, 0.7))\n",
    "trimesh_vtk.render_actors([mesh_actor, syn_actor, syn_actor2])"
   ]
  },
  {
   "cell_type": "code",
   "execution_count": 3,
   "metadata": {},
   "outputs": [
    {
     "name": "stdout",
     "output_type": "stream",
     "text": [
      "[403520.20833333 227556.98611111  24425.625     ]\n"
     ]
    }
   ],
   "source": [
    "for endpoint in endpoints: \n",
    "    endpoint = np.array(endpoint)\n",
    "    print(endpoint / [4,4,40])\n",
    "\n",
    "    "
   ]
  }
 ],
 "metadata": {
  "kernelspec": {
   "display_name": "Python 3.8.3 ('AGTS_2022': venv)",
   "language": "python",
   "name": "python3"
  },
  "language_info": {
   "codemirror_mode": {
    "name": "ipython",
    "version": 3
   },
   "file_extension": ".py",
   "mimetype": "text/x-python",
   "name": "python",
   "nbconvert_exporter": "python",
   "pygments_lexer": "ipython3",
   "version": "3.8.3"
  },
  "orig_nbformat": 4,
  "vscode": {
   "interpreter": {
    "hash": "5796726b1a94aac0f08323043a0a9796c93d03d7eeac7ac13359ed865c5f5621"
   }
  }
 },
 "nbformat": 4,
 "nbformat_minor": 2
}
