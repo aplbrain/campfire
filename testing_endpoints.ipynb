{
 "cells": [
  {
   "cell_type": "code",
   "execution_count": 1,
   "metadata": {},
   "outputs": [],
   "source": [
    "from tip_finding import tip_finding\n",
    "from drive import segment_points\n",
    "import numpy as np\n",
    "import pandas as pd\n"
   ]
  },
  {
   "cell_type": "code",
   "execution_count": 4,
   "metadata": {},
   "outputs": [
    {
     "name": "stdout",
     "output_type": "stream",
     "text": [
      "Warning: deduplication not currently supported for this layer's variable layered draco meshes\n",
      "branch\n"
     ]
    },
    {
     "name": "stderr",
     "output_type": "stream",
     "text": [
      "100%|██████████| 1450/1450 [00:00<00:00, 417043.19it/s]\n",
      "100%|██████████| 6/6 [00:00<00:00, 333.26it/s]\n",
      "1it [00:00, 188.81it/s]\n",
      "0it [00:00, ?it/s]\n"
     ]
    }
   ],
   "source": [
    "root_id = 864691135552841025\n",
    "endpoints = []\n",
    "good_tips_thick, good_tips_thin, good_tips_bad_thick, good_tips_bad_thin, just_tips, just_means  = tip_finding.endpoints_from_rid(root_id)\n",
    "for i in good_tips_thick:\n",
    "    endpoints.append(i)\n",
    "for i in good_tips_thin:\n",
    "    endpoints.append(i)"
   ]
  },
  {
   "cell_type": "code",
   "execution_count": 5,
   "metadata": {},
   "outputs": [
    {
     "name": "stdout",
     "output_type": "stream",
     "text": [
      "[403520.20833333 227556.98611111  24425.625     ]\n"
     ]
    }
   ],
   "source": [
    "for endpoint in endpoints: \n",
    "    endpoint = np.array(endpoint)\n",
    "    print(endpoint / [4,4,40])\n",
    "\n",
    "    "
   ]
  }
 ],
 "metadata": {
  "kernelspec": {
   "display_name": "Python 3.8.3 ('AGTS_2022': venv)",
   "language": "python",
   "name": "python3"
  },
  "language_info": {
   "codemirror_mode": {
    "name": "ipython",
    "version": 3
   },
   "file_extension": ".py",
   "mimetype": "text/x-python",
   "name": "python",
   "nbconvert_exporter": "python",
   "pygments_lexer": "ipython3",
   "version": "3.8.3"
  },
  "orig_nbformat": 4,
  "vscode": {
   "interpreter": {
    "hash": "5796726b1a94aac0f08323043a0a9796c93d03d7eeac7ac13359ed865c5f5621"
   }
  }
 },
 "nbformat": 4,
 "nbformat_minor": 2
}
