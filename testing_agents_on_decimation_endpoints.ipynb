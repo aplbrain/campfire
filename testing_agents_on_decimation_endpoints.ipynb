{
 "cells": [
  {
   "cell_type": "code",
   "execution_count": 1,
   "id": "9a721ff6",
   "metadata": {},
   "outputs": [],
   "source": [
    "import numpy as np\n",
    "import pickle\n",
    "import pandas as pd\n",
    "import agents.scripts as scripts\n",
    "import aws.sqs as d_sqs\n",
    "import boto3\n",
    "from tqdm import tqdm\n",
    "import matplotlib.pyplot as plt\n",
    "\n",
    "from caveclient import CAVEclient\n",
    "client = CAVEclient(\"minnie65_phase3_v1\")\n",
    "ts = client.materialize.get_timestamp(117)"
   ]
  },
  {
   "cell_type": "code",
   "execution_count": 2,
   "id": "d8c45025",
   "metadata": {},
   "outputs": [],
   "source": [
    "skel_points = pd.read_csv(\"./points.csv\")\n",
    "gt = pd.read_pickle(\"./ground_truth_dendrite_extension.pkl\")\n",
    "run_on = gt.iloc[-1]\n",
    "root_id = scripts.get_public_seg_ids(run_on.seg_id)[0]"
   ]
  },
  {
   "cell_type": "code",
   "execution_count": 3,
   "id": "18a7ca7b",
   "metadata": {},
   "outputs": [],
   "source": [
    "import ast\n",
    "\n",
    "coor_list = ast.literal_eval(skel_points.iloc[-1].Coordinates)"
   ]
  },
  {
   "cell_type": "code",
   "execution_count": null,
   "id": "740d13dc",
   "metadata": {},
   "outputs": [
    {
     "name": "stderr",
     "output_type": "stream",
     "text": [
      "Minishard Indices: 100%|██████████████████████████████████████████████████████| 4/4 [00:00<00:00,  9.95it/s]\n",
      "100%|█████████████████████████████████████████████████████████████████████████| 6/6 [00:00<00:00, 33.53it/s]\n",
      "Decompressing: 100%|████████████████████████████████████████████████████████| 6/6 [00:00<00:00, 4559.03it/s]\n",
      "Minishard Indices: 100%|██████████████████████████████████████████████████████| 2/2 [00:00<00:00,  9.01it/s]\n",
      "100%|█████████████████████████████████████████████████████████████████████████| 8/8 [00:00<00:00,  9.61it/s]\n",
      "Decompressing: 100%|███████████████████████████████████████████████████████| 18/18 [00:00<00:00, 863.39it/s]\n"
     ]
    },
    {
     "name": "stdout",
     "output_type": "stream",
     "text": [
      "Seg time: 34.547388792037964\n",
      "Convolution time: 0.0802299976348877\n",
      "268 agents spawned\n",
      "\n",
      "Agent Spawning Prep Time 2.1755049228668213\n",
      "Steps Time 1.3596880435943604\n"
     ]
    },
    {
     "name": "stderr",
     "output_type": "stream",
     "text": [
      "100%|█████████████████████████████████████████████████████████████████████████| 6/6 [00:00<00:00, 11.44it/s]\n",
      "Decompressing: 100%|██████████████████████████████████████████████████████| 12/12 [00:00<00:00, 5489.33it/s]\n",
      "Minishard Indices: 100%|██████████████████████████████████████████████████████| 2/2 [00:00<00:00,  8.66it/s]\n",
      "100%|███████████████████████████████████████████████████████████████████████| 12/12 [00:01<00:00,  8.74it/s]\n",
      "Decompressing: 100%|███████████████████████████████████████████████████████| 24/24 [00:00<00:00, 865.70it/s]\n"
     ]
    },
    {
     "name": "stdout",
     "output_type": "stream",
     "text": [
      "Seg time: 36.85117173194885\n",
      "Convolution time: 0.07294678688049316\n",
      "95 agents spawned\n",
      "\n",
      "Agent Spawning Prep Time 2.195085048675537\n",
      "Steps Time 0.6587538719177246\n"
     ]
    },
    {
     "name": "stderr",
     "output_type": "stream",
     "text": [
      "100%|█████████████████████████████████████████████████████████████████████████| 4/4 [00:00<00:00, 14.28it/s]\n",
      "Decompressing: 100%|████████████████████████████████████████████████████████| 6/6 [00:00<00:00, 5773.30it/s]\n",
      "100%|█████████████████████████████████████████████████████████████████████████| 8/8 [00:00<00:00, 12.87it/s]\n",
      "Decompressing: 100%|███████████████████████████████████████████████████████| 18/18 [00:00<00:00, 821.39it/s]\n"
     ]
    },
    {
     "name": "stdout",
     "output_type": "stream",
     "text": [
      "Seg time: 35.409377098083496\n",
      "Convolution time: 0.070281982421875\n",
      "151 agents spawned\n",
      "\n",
      "Agent Spawning Prep Time 2.0921998023986816\n",
      "Steps Time 1.214303970336914\n"
     ]
    },
    {
     "name": "stderr",
     "output_type": "stream",
     "text": [
      "Decompressing: 100%|████████████████████████████████████████████████████████| 8/8 [00:00<00:00, 3589.09it/s]\n",
      "Minishard Indices: 100%|██████████████████████████████████████████████████████| 2/2 [00:00<00:00, 10.36it/s]\n",
      "100%|███████████████████████████████████████████████████████████████████████| 10/10 [00:00<00:00, 15.12it/s]\n",
      "Decompressing: 100%|███████████████████████████████████████████████████████| 18/18 [00:00<00:00, 734.60it/s]\n"
     ]
    },
    {
     "name": "stdout",
     "output_type": "stream",
     "text": [
      "Seg time: 36.66570520401001\n",
      "Convolution time: 0.07620406150817871\n",
      "166 agents spawned\n",
      "\n",
      "Agent Spawning Prep Time 1.6284410953521729\n",
      "Steps Time 0.6247091293334961\n"
     ]
    },
    {
     "name": "stderr",
     "output_type": "stream",
     "text": [
      "Minishard Indices: 100%|██████████████████████████████████████████████████████| 2/2 [00:00<00:00,  4.96it/s]\n",
      "100%|███████████████████████████████████████████████████████████████████████| 10/10 [00:00<00:00, 43.35it/s]\n",
      "Decompressing: 100%|██████████████████████████████████████████████████████| 18/18 [00:00<00:00, 7754.47it/s]\n",
      "Shard Indices: 100%|██████████████████████████████████████████████████████████| 2/2 [00:00<00:00,  4.13it/s]\n",
      "Minishard Indices: 100%|██████████████████████████████████████████████████████| 2/2 [00:00<00:00,  7.54it/s]\n",
      "100%|█████████████████████████████████████████████████████████████████████████| 9/9 [00:00<00:00, 11.01it/s]\n",
      "Decompressing: 100%|███████████████████████████████████████████████████████| 18/18 [00:00<00:00, 777.60it/s]\n"
     ]
    },
    {
     "name": "stdout",
     "output_type": "stream",
     "text": [
      "Seg time: 36.21969819068909\n",
      "Convolution time: 0.07438802719116211\n",
      "147 agents spawned\n",
      "\n",
      "Agent Spawning Prep Time 1.7231123447418213\n",
      "Steps Time 1.0807428359985352\n"
     ]
    },
    {
     "name": "stderr",
     "output_type": "stream",
     "text": [
      "Minishard Indices: 100%|██████████████████████████████████████████████████████| 2/2 [00:00<00:00,  9.08it/s]\n",
      "100%|█████████████████████████████████████████████████████████████████████████| 4/4 [00:00<00:00, 19.94it/s]\n",
      "Decompressing: 100%|████████████████████████████████████████████████████████| 4/4 [00:00<00:00, 1259.46it/s]\n",
      "100%|█████████████████████████████████████████████████████████████████████████| 5/5 [00:01<00:00,  4.47it/s]\n",
      "Decompressing: 100%|███████████████████████████████████████████████████████| 24/24 [00:00<00:00, 823.93it/s]\n"
     ]
    },
    {
     "name": "stdout",
     "output_type": "stream",
     "text": [
      "Seg time: 36.31143569946289\n",
      "Convolution time: 0.07546687126159668\n",
      "37 agents spawned\n",
      "\n",
      "Agent Spawning Prep Time 1.511098861694336\n",
      "Steps Time 0.25723695755004883\n"
     ]
    },
    {
     "name": "stderr",
     "output_type": "stream",
     "text": [
      "Minishard Indices: 100%|██████████████████████████████████████████████████████| 2/2 [00:00<00:00,  8.53it/s]\n",
      "100%|█████████████████████████████████████████████████████████████████████████| 5/5 [00:00<00:00, 10.93it/s]\n",
      "Decompressing: 100%|████████████████████████████████████████████████████████| 9/9 [00:00<00:00, 3175.63it/s]\n",
      "Minishard Indices: 100%|██████████████████████████████████████████████████████| 2/2 [00:00<00:00,  4.12it/s]\n",
      "100%|█████████████████████████████████████████████████████████████████████████| 9/9 [00:00<00:00, 14.02it/s]\n",
      "Decompressing: 100%|██████████████████████████████████████████████████████| 18/18 [00:00<00:00, 1031.30it/s]\n"
     ]
    },
    {
     "name": "stdout",
     "output_type": "stream",
     "text": [
      "Seg time: 36.35748100280762\n",
      "Convolution time: 0.07636475563049316\n",
      "45 agents spawned\n",
      "\n",
      "Agent Spawning Prep Time 2.1088340282440186\n",
      "Steps Time 0.3663330078125\n"
     ]
    },
    {
     "name": "stderr",
     "output_type": "stream",
     "text": [
      "100%|███████████████████████████████████████████████████████████████████████| 10/10 [00:00<00:00, 20.47it/s]\n",
      "Decompressing: 100%|██████████████████████████████████████████████████████| 18/18 [00:00<00:00, 5927.41it/s]\n",
      "Minishard Indices: 100%|██████████████████████████████████████████████████████| 2/2 [00:00<00:00,  6.44it/s]\n",
      "100%|███████████████████████████████████████████████████████████████████████| 10/10 [00:00<00:00, 13.43it/s]\n",
      "Decompressing: 100%|███████████████████████████████████████████████████████| 18/18 [00:00<00:00, 880.55it/s]\n"
     ]
    },
    {
     "name": "stdout",
     "output_type": "stream",
     "text": [
      "Seg time: 35.71422004699707\n",
      "Convolution time: 0.08615684509277344\n",
      "48 agents spawned\n",
      "\n",
      "Agent Spawning Prep Time 1.8863170146942139\n",
      "Steps Time 0.3630349636077881\n"
     ]
    },
    {
     "name": "stderr",
     "output_type": "stream",
     "text": [
      "100%|█████████████████████████████████████████████████████████████████████████| 6/6 [00:00<00:00, 39.35it/s]\n",
      "Decompressing: 100%|████████████████████████████████████████████████████████| 6/6 [00:00<00:00, 1905.35it/s]\n",
      "100%|█████████████████████████████████████████████████████████████████████████| 8/8 [00:01<00:00,  6.75it/s]\n",
      "Decompressing: 100%|███████████████████████████████████████████████████████| 18/18 [00:00<00:00, 796.88it/s]\n"
     ]
    },
    {
     "name": "stdout",
     "output_type": "stream",
     "text": [
      "Seg time: 36.39555883407593\n",
      "Convolution time: 0.07963013648986816\n",
      "140 agents spawned\n",
      "\n",
      "Agent Spawning Prep Time 1.955826997756958\n",
      "Steps Time 0.9945299625396729\n"
     ]
    }
   ],
   "source": [
    "from drive import drive\n",
    "merge_list = []\n",
    "for i in range(len(coor_list)):\n",
    "    mem_seg, merges, pos_matrix, seg_ids, em, seg = drive(1, radius=(100,100,10), \n",
    "          resolution=(2,2,1), unet_bound_mult=1.5, ep='None', save='pd', device='cpu',\n",
    "          endp=coor_list[i], nucleus_id='none', root_id=root_id, time_point=0)\n",
    "#     if merges.shape[0] > 0:\n",
    "#         merge_sort = merges.sort_values(\"Weight\",ascending=False).reset_index(drop=True)\n",
    "#         m_rank = merge_sort[merge_sort.Extension.astype(int).isin(extensions)]\n",
    "#         if m_rank.shape[0]  > 0:\n",
    "#             rank.append(m_rank.index[0])\n",
    "#             found.append(True)\n",
    "#             weight_pct.append(m_rank.iloc[0].Weight / np.sum(merges.Weight))\n",
    "#         else:\n",
    "#             found.append(False)\n",
    "#             rank.append(-1)\n",
    "#             weight_pct.append(0)            \n",
    "#     else:\n",
    "#         found.append(False)\n",
    "#         rank.append(-1)\n",
    "#         weight_pct.append(-1)\n",
    "    merge_list.append(merges)\n",
    "    "
   ]
  },
  {
   "cell_type": "code",
   "execution_count": null,
   "id": "145a7c7e",
   "metadata": {},
   "outputs": [],
   "source": [
    "ind=14\n",
    "merge_list[ind]"
   ]
  },
  {
   "cell_type": "code",
   "execution_count": null,
   "id": "47294ad7",
   "metadata": {},
   "outputs": [],
   "source": [
    "coor_list[ind]"
   ]
  },
  {
   "cell_type": "code",
   "execution_count": null,
   "id": "23618f85",
   "metadata": {},
   "outputs": [],
   "source": []
  }
 ],
 "metadata": {
  "kernelspec": {
   "display_name": "Python 3 (ipykernel)",
   "language": "python",
   "name": "python3"
  },
  "language_info": {
   "codemirror_mode": {
    "name": "ipython",
    "version": 3
   },
   "file_extension": ".py",
   "mimetype": "text/x-python",
   "name": "python",
   "nbconvert_exporter": "python",
   "pygments_lexer": "ipython3",
   "version": "3.8.2"
  }
 },
 "nbformat": 4,
 "nbformat_minor": 5
}
