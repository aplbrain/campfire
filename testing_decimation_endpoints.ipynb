{
 "cells": [
  {
   "cell_type": "code",
   "execution_count": null,
   "id": "cb0c3d61",
   "metadata": {},
   "outputs": [],
   "source": [
    "from tip_finding import tip_finding\n",
    "import pandas as pd"
   ]
  },
  {
   "cell_type": "code",
   "execution_count": null,
   "id": "13a45171",
   "metadata": {},
   "outputs": [],
   "source": [
    "gt = pd.read_pickle(\"./ground_truth_dendrite_extension.pkl\")"
   ]
  },
  {
   "cell_type": "code",
   "execution_count": null,
   "id": "c75fa71f",
   "metadata": {},
   "outputs": [],
   "source": [
    "gt.iloc[-1]"
   ]
  },
  {
   "cell_type": "code",
   "execution_count": null,
   "id": "0980eac9",
   "metadata": {},
   "outputs": [],
   "source": [
    "import time\n",
    "from tqdm import tqdm\n",
    "tip_list = []\n",
    "time_list = []\n",
    "size_list = []\n",
    "\n",
    "for i in tqdm(range(gt.shape[0])):\n",
    "    tic = time.time()\n",
    "    tips = tip_finding.tip_finder_decimation(gt.iloc[i].seg_id)\n",
    "    tip_list.append(tips)\n",
    "    toc = time.time()\n",
    "    time_list.append(tic-toc)\n",
    "    size_list.append(len(tips))"
   ]
  },
  {
   "cell_type": "code",
   "execution_count": null,
   "id": "0f5e1af7",
   "metadata": {},
   "outputs": [],
   "source": [
    "import matplotlib.pyplot as plt\n",
    "plt.scatter(size_list, [-1*t for t in time_list])"
   ]
  },
  {
   "cell_type": "code",
   "execution_count": null,
   "id": "cb52baaa",
   "metadata": {},
   "outputs": [],
   "source": [
    "import numpy as np\n",
    "np.mean(size_list), np.mean([-1*t for t in time_list])"
   ]
  },
  {
   "cell_type": "code",
   "execution_count": null,
   "id": "97eedf5c",
   "metadata": {},
   "outputs": [],
   "source": [
    "import pandas as pd\n",
    "df = pd.DataFrame({\"Coordinates\": tip_list, \"Times\": time_list, \"Sizes\":size_list})\n",
    "df.to_csv(\"./points.csv\")"
   ]
  },
  {
   "cell_type": "code",
   "execution_count": null,
   "id": "0401896b",
   "metadata": {},
   "outputs": [],
   "source": [
    "tip_list[0]"
   ]
  },
  {
   "cell_type": "code",
   "execution_count": null,
   "id": "4447bbec",
   "metadata": {},
   "outputs": [],
   "source": []
  }
 ],
 "metadata": {
  "kernelspec": {
   "display_name": "Python 3.8.10 ('venv': venv)",
   "language": "python",
   "name": "python3"
  },
  "language_info": {
   "codemirror_mode": {
    "name": "ipython",
    "version": 3
   },
   "file_extension": ".py",
   "mimetype": "text/x-python",
   "name": "python",
   "nbconvert_exporter": "python",
   "pygments_lexer": "ipython3",
   "version": "3.8.10"
  },
  "vscode": {
   "interpreter": {
    "hash": "e70cd6dbfbd84db0df722de387fd9a98787af89bf0e7b259e8f6e74e5c75f4bc"
   }
  }
 },
 "nbformat": 4,
 "nbformat_minor": 5
}
