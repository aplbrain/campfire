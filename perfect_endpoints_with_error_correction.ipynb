{
 "cells": [
  {
   "cell_type": "code",
   "execution_count": 1,
   "id": "48736e98",
   "metadata": {},
   "outputs": [],
   "source": [
    "import numpy as np\n",
    "import pickle\n",
    "import pandas as pd\n",
    "import agents.scripts as scripts\n",
    "import aws.sqs as d_sqs\n",
    "import boto3\n",
    "from tqdm import tqdm\n",
    "import matplotlib.pyplot as plt\n",
    "\n",
    "from caveclient import CAVEclient\n",
    "client = CAVEclient(\"minnie65_phase3_v1\")\n",
    "ts = client.materialize.get_timestamp(117)"
   ]
  },
  {
   "cell_type": "code",
   "execution_count": 2,
   "id": "8db539d9",
   "metadata": {},
   "outputs": [],
   "source": [
    "gt = pd.read_pickle(\"./ground_truth_dendrite_extension.pkl\")\n",
    "run_on = gt.iloc[-1]\n",
    "root_id = scripts.get_public_seg_ids(run_on.seg_id)[0]\n",
    "extensions = scripts.get_public_seg_ids(run_on.extensions)\n",
    "coords = list(run_on.annotations)"
   ]
  },
  {
   "cell_type": "code",
   "execution_count": 3,
   "id": "42385819",
   "metadata": {},
   "outputs": [],
   "source": [
    "coords = [[int(c) for c in co] for co in coords]"
   ]
  },
  {
   "cell_type": "code",
   "execution_count": 5,
   "id": "abf7967f",
   "metadata": {},
   "outputs": [],
   "source": [
    "from caveclient import CAVEclient\n",
    "from intern import array\n",
    "import pickle\n",
    "import numpy as np\n",
    "from agents import data_loader\n",
    "from cloudvolume import CloudVolume\n",
    "from membrane_detection import membranes\n",
    "import agents.sensor\n",
    "from agents.run import run_agents\n",
    "import aws.sqs as sqs\n",
    "import sys\n",
    "import time\n",
    "def drive(n, radius=(200,200,20), resolution=(8,8,40), unet_bound_mult=2, ep='sqs', save='sqs',device='cpu',\n",
    "          cnn_weights='thick',filter_merge=True,delete=True, endp=(0,0,0), nucleus_id=0, root_id=0, time_point=0):\n",
    "\n",
    "    vol = CloudVolume(\"s3://bossdb-open-data/iarpa_microns/minnie/minnie65/em\", use_https=True, mip=0)\n",
    "    resolution = [int(x) for x in resolution]\n",
    "    radius = [int(x) for x in radius]\n",
    "    unet_bound_mult = float(unet_bound_mult)\n",
    "    unet_bound = [int(x*float(unet_bound_mult)) for x in radius]\n",
    "    n = int(n)\n",
    "    ep_param = ep\n",
    "    \n",
    "    tic1=time.time()\n",
    "    if ep_param == 'sqs':\n",
    "        ep_msg = sqs.get_job_from_queue(queue_url_endpts)\n",
    "        root_id = int(ep_msg.message_attributes['root_id']['StringValue'])\n",
    "        nucleus_id = int(ep_msg.message_attributes['nucleus_id']['StringValue'])\n",
    "        time_point = int(ep_msg.message_attributes['time']['StringValue'])\n",
    "        ep = [float(p) for p in ep_msg.body.split(',')]\n",
    "        print(root_id, nucleus_id, ep)\n",
    "        if delete:\n",
    "            ep_msg.delete()\n",
    "    else:\n",
    "        root_id = root_id\n",
    "        nucleus_id = nucleus_id\n",
    "        time_point = time_point\n",
    "        ep = [float(p) for p in endp]\n",
    "    endpoint = np.divide(ep, resolution).astype('int')\n",
    "    precomp_file_path = f\"./precompute_{root_id}_{endpoint}\"\n",
    "    bound  = (endpoint[0] - radius[0], \n",
    "                endpoint[0] + radius[0],\n",
    "                endpoint[1] - radius[1],\n",
    "                endpoint[1] + radius[1],\n",
    "                endpoint[2] - radius[2],\n",
    "                endpoint[2] + radius[2])\n",
    "\n",
    "    bound_EM  = (endpoint[0] - unet_bound[0], \n",
    "                endpoint[0] + unet_bound[0],\n",
    "                endpoint[1] - unet_bound[1],\n",
    "                endpoint[1] + unet_bound[1],\n",
    "                endpoint[2] - radius[2],\n",
    "                endpoint[2] + radius[2])\n",
    "    seg = np.squeeze(data_loader.get_seg(*bound))\n",
    "    tic = time.time()\n",
    "\n",
    "    vol = CloudVolume(\"s3://bossdb-open-data/iarpa_microns/minnie/minnie65/em\", use_https=True, mip=0)\n",
    "    try:\n",
    "        em = np.squeeze(vol[bound_EM[0]:bound_EM[1], bound_EM[2]:bound_EM[3], bound_EM[4]:bound_EM[5]])\n",
    "    except OutOfBoundsError:\n",
    "        print(\"OOB\")\n",
    "    errors_shift, errors_zero = scripts.shift_detect(em, 100, 1, 1, 10)\n",
    "\n",
    "#     if cnn_weights == 'thick':\n",
    "#         mem_seg = membranes.segment_membranes(em, pth=\"./membrane_detection/best_metric_model_segmentation2d_dict.pth\", device_s=device)\n",
    "#     elif cnn_weights == 'thin':\n",
    "#         mem_seg = membranes.segment_membranes(em, pth=\"./membrane_detection/model_CREMI_2D.pth\", device_s=device)\n",
    "    mem_seg = pickle.load(open(\"./mem_dump.p\", \"rb\"))\n",
    "    mem_seg = scripts.remove_shifts(mem_seg, errors_shift+errors_zero, zero_or_remove='zero')\n",
    "\n",
    "    mem_to_run = mem_seg[int((unet_bound_mult-1)*radius[0]):int((unet_bound_mult+1)*radius[0]),\n",
    "                    int((unet_bound_mult-1)*radius[1]):int((unet_bound_mult+1)*radius[1]), :].astype(float)\n",
    "    print(f\"Seg time: {time.time() - tic}\")\n",
    "    tic = time.time()\n",
    "\n",
    "    compute_vectors = scripts.precompute_membrane_vectors(mem_to_run, mem_to_run, precomp_file_path, 3)\n",
    "    print(f\"Convolution time: {time.time() - tic}\")\n",
    "\n",
    "    sensor_list = [\n",
    "        (agents.sensor.BrownianMotionSensor(), .1),\n",
    "        (agents.sensor.PrecomputedSensor(), .2),\n",
    "        (agents.sensor.MembraneSensor(mem_to_run), 0),\n",
    "        ]\n",
    "\n",
    "    pos_histories, seg_ids, agent_ids, soma, polarities=run_agents(mem=mem_to_run, sensor_list=sensor_list,\n",
    "                                                precompute_fn=precomp_file_path+'.npz',\n",
    "                                                max_vel=.9,n_steps=250,segmentation=seg,\n",
    "                                                root_id=root_id, endpoint_nm=ep)\n",
    "    # find merges of agents from root_id\n",
    "    pos_matrix, merge_d = scripts.create_post_matrix(pos_histories, seg, mem_to_run.shape, merge=True)\n",
    "    merges = scripts.position_merge(ep, root_id, merge_d, soma, polarities)\n",
    "#     merges = scripts.merge_paths(pos_histories,seg_ids, ep, root_id, soma, polarities)\n",
    "    if merges.shape[0] > 0:\n",
    "        client = CAVEclient('minnie65_phase3_v1')\n",
    "        #merges.to_csv(f\"./merges_root_{root_id}_{endpoint}.csv\")\n",
    "        seg_ids = [int (x) for x in merges.Extension]\n",
    "\n",
    "        weights = [int(x) for x in merges.Weight]\n",
    "        weights_dict = dict(zip(seg_ids, weights))\n",
    "    else:\n",
    "        weights_dict = {}\n",
    "    if save == \"pd\":\n",
    "        merges.to_csv(f\"./merges_{root_id}_{endpoint}.csv\")\n",
    "    return mem_seg, merges, pos_matrix, seg_ids, em, seg"
   ]
  },
  {
   "cell_type": "code",
   "execution_count": 8,
   "id": "752d9190",
   "metadata": {},
   "outputs": [
    {
     "name": "stderr",
     "output_type": "stream",
     "text": [
      "100%|█████████████████████████████████████████████| 5/5 [00:00<00:00, 35.41it/s]\n",
      "Decompressing: 100%|████████████████████████████| 9/9 [00:00<00:00, 5522.05it/s]\n",
      "Decompressing: 100%|██████████████████████████| 32/32 [00:00<00:00, 1206.49it/s]\n"
     ]
    },
    {
     "name": "stdout",
     "output_type": "stream",
     "text": [
      "Seg time: 1.562467098236084\n",
      "Convolution time: 0.05805015563964844\n"
     ]
    },
    {
     "name": "stderr",
     "output_type": "stream",
     "text": [
      "/Users/joycejm1/Library/Python/3.8/lib/python/site-packages/numpy/core/fromnumeric.py:3334: RuntimeWarning: Mean of empty slice.\n",
      "  return _methods._mean(a, axis=axis, dtype=dtype,\n",
      "/Users/joycejm1/Library/Python/3.8/lib/python/site-packages/numpy/core/_methods.py:153: RuntimeWarning: invalid value encountered in true_divide\n",
      "  ret = um.true_divide(\n"
     ]
    },
    {
     "name": "stdout",
     "output_type": "stream",
     "text": [
      "303 agents spawned\n",
      "\n",
      "Agent Spawning Prep Time 7.9003520011901855\n",
      "Steps Time 2.239842176437378\n"
     ]
    },
    {
     "name": "stderr",
     "output_type": "stream",
     "text": [
      "100%|█████████████████████████████████████████████| 8/8 [00:00<00:00, 25.56it/s]\n",
      "Decompressing: 100%|██████████████████████████| 12/12 [00:00<00:00, 5979.05it/s]\n",
      "Minishard Indices: 100%|██████████████████████████| 2/2 [00:00<00:00,  9.72it/s]\n",
      "100%|███████████████████████████████████████████| 20/20 [00:00<00:00, 20.22it/s]\n",
      "Decompressing: 100%|██████████████████████████| 40/40 [00:00<00:00, 1074.61it/s]\n"
     ]
    },
    {
     "name": "stdout",
     "output_type": "stream",
     "text": [
      "Seg time: 2.2224440574645996\n",
      "Convolution time: 0.06784486770629883\n",
      "219 agents spawned\n",
      "\n",
      "Agent Spawning Prep Time 8.995017766952515\n",
      "Steps Time 1.4003798961639404\n"
     ]
    },
    {
     "name": "stderr",
     "output_type": "stream",
     "text": [
      "Minishard Indices: 100%|██████████████████████████| 2/2 [00:00<00:00,  9.01it/s]\n",
      "100%|█████████████████████████████████████████████| 8/8 [00:00<00:00, 35.19it/s]\n",
      "Decompressing: 100%|████████████████████████████| 8/8 [00:00<00:00, 3248.25it/s]\n",
      "Shard Indices: 100%|██████████████████████████████| 2/2 [00:00<00:00, 10.29it/s]\n",
      "Minishard Indices: 100%|██████████████████████████| 2/2 [00:00<00:00,  5.06it/s]\n",
      "100%|███████████████████████████████████████████| 10/10 [00:01<00:00,  9.76it/s]\n",
      "Decompressing: 100%|██████████████████████████| 32/32 [00:00<00:00, 1013.97it/s]\n"
     ]
    },
    {
     "name": "stdout",
     "output_type": "stream",
     "text": [
      "Seg time: 2.12454891204834\n",
      "Convolution time: 0.05688595771789551\n"
     ]
    },
    {
     "name": "stderr",
     "output_type": "stream",
     "text": [
      "/Users/joycejm1/Library/Python/3.8/lib/python/site-packages/numpy/core/fromnumeric.py:3334: RuntimeWarning: Mean of empty slice.\n",
      "  return _methods._mean(a, axis=axis, dtype=dtype,\n",
      "/Users/joycejm1/Library/Python/3.8/lib/python/site-packages/numpy/core/_methods.py:153: RuntimeWarning: invalid value encountered in true_divide\n",
      "  ret = um.true_divide(\n"
     ]
    },
    {
     "name": "stdout",
     "output_type": "stream",
     "text": [
      "234 agents spawned\n",
      "\n",
      "Agent Spawning Prep Time 10.05735182762146\n",
      "Steps Time 1.841284990310669\n"
     ]
    },
    {
     "name": "stderr",
     "output_type": "stream",
     "text": [
      "Minishard Indices: 100%|██████████████████████████| 2/2 [00:00<00:00,  8.41it/s]\n",
      "100%|███████████████████████████████████████████| 12/12 [00:00<00:00, 26.17it/s]\n",
      "Decompressing: 100%|██████████████████████████| 12/12 [00:00<00:00, 4826.59it/s]\n",
      "Minishard Indices: 100%|██████████████████████████| 2/2 [00:00<00:00,  8.10it/s]\n",
      "100%|███████████████████████████████████████████| 11/11 [00:01<00:00,  6.42it/s]\n",
      "Decompressing: 100%|███████████████████████████| 60/60 [00:00<00:00, 938.31it/s]\n"
     ]
    },
    {
     "name": "stdout",
     "output_type": "stream",
     "text": [
      "Seg time: 2.610684871673584\n",
      "Convolution time: 0.06714010238647461\n"
     ]
    },
    {
     "name": "stderr",
     "output_type": "stream",
     "text": [
      "/Users/joycejm1/Library/Python/3.8/lib/python/site-packages/numpy/core/fromnumeric.py:3334: RuntimeWarning: Mean of empty slice.\n",
      "  return _methods._mean(a, axis=axis, dtype=dtype,\n",
      "/Users/joycejm1/Library/Python/3.8/lib/python/site-packages/numpy/core/_methods.py:153: RuntimeWarning: invalid value encountered in true_divide\n",
      "  ret = um.true_divide(\n"
     ]
    },
    {
     "name": "stdout",
     "output_type": "stream",
     "text": [
      "147 agents spawned\n",
      "\n",
      "Agent Spawning Prep Time 8.89652395248413\n",
      "Steps Time 1.0397312641143799\n"
     ]
    },
    {
     "name": "stderr",
     "output_type": "stream",
     "text": [
      "Minishard Indices: 100%|██████████████████████████| 2/2 [00:00<00:00,  7.04it/s]\n",
      "100%|█████████████████████████████████████████████| 8/8 [00:00<00:00, 56.37it/s]\n",
      "Decompressing: 100%|████████████████████████████| 8/8 [00:00<00:00, 2235.92it/s]\n",
      "Shard Indices: 100%|██████████████████████████████| 2/2 [00:00<00:00,  8.51it/s]\n",
      "Minishard Indices: 100%|██████████████████████████| 4/4 [00:00<00:00, 11.91it/s]\n",
      "100%|███████████████████████████████████████████| 12/12 [00:00<00:00, 12.27it/s]\n",
      "Decompressing: 100%|███████████████████████████| 32/32 [00:00<00:00, 861.23it/s]\n"
     ]
    },
    {
     "name": "stdout",
     "output_type": "stream",
     "text": [
      "Seg time: 2.082634925842285\n",
      "Convolution time: 0.058925628662109375\n"
     ]
    },
    {
     "name": "stderr",
     "output_type": "stream",
     "text": [
      "/Users/joycejm1/Library/Python/3.8/lib/python/site-packages/numpy/core/fromnumeric.py:3334: RuntimeWarning: Mean of empty slice.\n",
      "  return _methods._mean(a, axis=axis, dtype=dtype,\n",
      "/Users/joycejm1/Library/Python/3.8/lib/python/site-packages/numpy/core/_methods.py:153: RuntimeWarning: invalid value encountered in true_divide\n",
      "  ret = um.true_divide(\n"
     ]
    },
    {
     "name": "stdout",
     "output_type": "stream",
     "text": [
      "27 agents spawned\n",
      "\n",
      "Agent Spawning Prep Time 8.824236154556274\n",
      "Steps Time 0.21069693565368652\n"
     ]
    },
    {
     "name": "stderr",
     "output_type": "stream",
     "text": [
      "100%|█████████████████████████████████████████████| 5/5 [00:00<00:00, 21.31it/s]\n",
      "Decompressing: 100%|████████████████████████████| 9/9 [00:00<00:00, 6526.41it/s]\n",
      "Minishard Indices: 100%|██████████████████████████| 2/2 [00:00<00:00,  7.34it/s]\n",
      "100%|███████████████████████████████████████████| 10/10 [00:03<00:00,  3.29it/s]\n",
      "Decompressing: 100%|███████████████████████████| 40/40 [00:00<00:00, 787.17it/s]\n"
     ]
    },
    {
     "name": "stdout",
     "output_type": "stream",
     "text": [
      "Seg time: 4.086798191070557\n",
      "Convolution time: 0.05592703819274902\n",
      "105 agents spawned\n",
      "\n",
      "Agent Spawning Prep Time 8.34193205833435\n",
      "Steps Time 0.7264277935028076\n"
     ]
    },
    {
     "name": "stderr",
     "output_type": "stream",
     "text": [
      "Minishard Indices: 100%|██████████████████████████| 2/2 [00:00<00:00,  4.61it/s]\n",
      "100%|█████████████████████████████████████████████| 5/5 [00:00<00:00, 26.23it/s]\n",
      "Decompressing: 100%|████████████████████████████| 9/9 [00:00<00:00, 3284.50it/s]\n",
      "Minishard Indices: 100%|██████████████████████████| 2/2 [00:00<00:00,  4.74it/s]\n",
      "100%|███████████████████████████████████████████| 10/10 [00:01<00:00,  9.53it/s]\n",
      "Decompressing: 100%|███████████████████████████| 40/40 [00:00<00:00, 946.01it/s]\n"
     ]
    },
    {
     "name": "stdout",
     "output_type": "stream",
     "text": [
      "Seg time: 2.0315418243408203\n",
      "Convolution time: 0.06273412704467773\n",
      "45 agents spawned\n",
      "\n",
      "Agent Spawning Prep Time 10.743171215057373\n",
      "Steps Time 0.3121192455291748\n"
     ]
    },
    {
     "name": "stderr",
     "output_type": "stream",
     "text": [
      "Minishard Indices: 100%|██████████████████████████| 2/2 [00:00<00:00,  7.90it/s]\n",
      "100%|███████████████████████████████████████████| 10/10 [00:00<00:00, 17.41it/s]\n",
      "Decompressing: 100%|██████████████████████████| 18/18 [00:00<00:00, 3174.56it/s]\n",
      "Minishard Indices: 100%|██████████████████████████| 2/2 [00:00<00:00,  9.64it/s]\n",
      "100%|███████████████████████████████████████████| 16/16 [00:01<00:00,  9.73it/s]\n",
      "Decompressing: 100%|██████████████████████████| 40/40 [00:00<00:00, 1052.57it/s]\n"
     ]
    },
    {
     "name": "stdout",
     "output_type": "stream",
     "text": [
      "Seg time: 2.5660998821258545\n",
      "Convolution time: 0.05519294738769531\n",
      "166 agents spawned\n",
      "\n",
      "Agent Spawning Prep Time 9.659725189208984\n",
      "Steps Time 1.1157641410827637\n"
     ]
    },
    {
     "name": "stderr",
     "output_type": "stream",
     "text": [
      "100%|█████████████████████████████████████████████| 8/8 [00:00<00:00, 20.71it/s]\n",
      "Decompressing: 100%|██████████████████████████| 18/18 [00:00<00:00, 5618.21it/s]\n",
      "Minishard Indices: 100%|██████████████████████████| 2/2 [00:00<00:00,  7.18it/s]\n",
      "100%|███████████████████████████████████████████| 22/22 [00:01<00:00, 19.25it/s]\n",
      "Decompressing: 100%|███████████████████████████| 32/32 [00:00<00:00, 787.83it/s]\n"
     ]
    },
    {
     "name": "stdout",
     "output_type": "stream",
     "text": [
      "Seg time: 2.2204580307006836\n",
      "Convolution time: 0.057692766189575195\n",
      "91 agents spawned\n",
      "\n",
      "Agent Spawning Prep Time 10.495877265930176\n",
      "Steps Time 0.7297070026397705\n"
     ]
    },
    {
     "name": "stderr",
     "output_type": "stream",
     "text": [
      "100%|█████████████████████████████████████████████| 2/2 [00:00<00:00,  4.78it/s]\n",
      "Decompressing: 100%|████████████████████████████| 6/6 [00:00<00:00, 4618.43it/s]\n",
      "Minishard Indices: 100%|██████████████████████████| 2/2 [00:00<00:00,  5.55it/s]\n",
      "100%|███████████████████████████████████████████| 16/16 [00:01<00:00, 14.34it/s]\n",
      "Decompressing: 100%|███████████████████████████| 32/32 [00:00<00:00, 831.23it/s]\n"
     ]
    },
    {
     "name": "stdout",
     "output_type": "stream",
     "text": [
      "Seg time: 3.207509994506836\n",
      "Convolution time: 0.0574190616607666\n"
     ]
    },
    {
     "name": "stderr",
     "output_type": "stream",
     "text": [
      "/Users/joycejm1/Library/Python/3.8/lib/python/site-packages/numpy/core/fromnumeric.py:3334: RuntimeWarning: Mean of empty slice.\n",
      "  return _methods._mean(a, axis=axis, dtype=dtype,\n",
      "/Users/joycejm1/Library/Python/3.8/lib/python/site-packages/numpy/core/_methods.py:153: RuntimeWarning: invalid value encountered in true_divide\n",
      "  ret = um.true_divide(\n"
     ]
    },
    {
     "name": "stdout",
     "output_type": "stream",
     "text": [
      "173 agents spawned\n",
      "\n",
      "Agent Spawning Prep Time 11.774986028671265\n",
      "Steps Time 1.4097440242767334\n"
     ]
    },
    {
     "name": "stderr",
     "output_type": "stream",
     "text": [
      "Shard Indices: 100%|██████████████████████████████| 2/2 [00:00<00:00,  4.34it/s]\n",
      "Minishard Indices: 100%|██████████████████████████| 2/2 [00:00<00:00, 10.06it/s]\n",
      "100%|█████████████████████████████████████████████| 9/9 [00:00<00:00, 29.43it/s]\n",
      "Decompressing: 100%|██████████████████████████| 18/18 [00:00<00:00, 3589.14it/s]\n",
      "Shard Indices: 100%|██████████████████████████████| 2/2 [00:00<00:00, 11.01it/s]\n",
      "Minishard Indices: 100%|██████████████████████████| 2/2 [00:00<00:00,  7.47it/s]\n",
      "100%|███████████████████████████████████████████| 16/16 [00:01<00:00, 12.57it/s]\n",
      "Decompressing: 100%|███████████████████████████| 40/40 [00:00<00:00, 917.75it/s]\n"
     ]
    },
    {
     "name": "stdout",
     "output_type": "stream",
     "text": [
      "Seg time: 2.2520627975463867\n",
      "Convolution time: 0.05846810340881348\n",
      "104 agents spawned\n",
      "\n",
      "Agent Spawning Prep Time 7.920527935028076\n",
      "Steps Time 0.8635902404785156\n"
     ]
    },
    {
     "name": "stderr",
     "output_type": "stream",
     "text": [
      "100%|█████████████████████████████████████████████| 8/8 [00:00<00:00, 15.14it/s]\n",
      "Decompressing: 100%|██████████████████████████| 12/12 [00:00<00:00, 6404.33it/s]\n",
      "100%|███████████████████████████████████████████| 14/14 [00:01<00:00,  8.87it/s]\n",
      "Decompressing: 100%|███████████████████████████| 48/48 [00:00<00:00, 948.26it/s]\n"
     ]
    },
    {
     "name": "stdout",
     "output_type": "stream",
     "text": [
      "Seg time: 2.27606201171875\n",
      "Convolution time: 0.05781698226928711\n",
      "126 agents spawned\n",
      "\n",
      "Agent Spawning Prep Time 9.50971007347107\n",
      "Steps Time 1.074563980102539\n"
     ]
    },
    {
     "name": "stderr",
     "output_type": "stream",
     "text": [
      "Minishard Indices: 100%|██████████████████████████| 2/2 [00:00<00:00, 11.27it/s]\n",
      "100%|█████████████████████████████████████████████| 5/5 [00:00<00:00, 19.87it/s]\n",
      "Decompressing: 100%|████████████████████████████| 9/9 [00:00<00:00, 6289.36it/s]\n",
      "100%|█████████████████████████████████████████████| 8/8 [00:01<00:00,  7.98it/s]\n",
      "Decompressing: 100%|███████████████████████████| 32/32 [00:00<00:00, 847.66it/s]\n"
     ]
    },
    {
     "name": "stdout",
     "output_type": "stream",
     "text": [
      "Seg time: 1.90040922164917\n",
      "Convolution time: 0.05708599090576172\n"
     ]
    },
    {
     "name": "stderr",
     "output_type": "stream",
     "text": [
      "/Users/joycejm1/Library/Python/3.8/lib/python/site-packages/numpy/core/fromnumeric.py:3334: RuntimeWarning: Mean of empty slice.\n",
      "  return _methods._mean(a, axis=axis, dtype=dtype,\n",
      "/Users/joycejm1/Library/Python/3.8/lib/python/site-packages/numpy/core/_methods.py:153: RuntimeWarning: invalid value encountered in true_divide\n",
      "  ret = um.true_divide(\n"
     ]
    },
    {
     "name": "stdout",
     "output_type": "stream",
     "text": [
      "154 agents spawned\n",
      "\n",
      "Agent Spawning Prep Time 8.856530904769897\n",
      "Steps Time 0.9311671257019043\n"
     ]
    }
   ],
   "source": [
    "found = []\n",
    "rank = []\n",
    "weight_pct = []\n",
    "merge_list = []\n",
    "for i in range(len(coords)):\n",
    "    mem_seg, merges, pos_matrix, seg_ids, em, seg = drive(1, radius=(100,100,10), \n",
    "          resolution=(2,2,1), unet_bound_mult=2, ep='None', save='pd', device='cpu',\n",
    "          endp=coords[i], nucleus_id='none', root_id=root_id, time_point=0)\n",
    "    if merges.shape[0] > 0:\n",
    "        merge_sort = merges.sort_values(\"Weight\",ascending=False).reset_index(drop=True)\n",
    "        m_rank = merge_sort[merge_sort.Extension.astype(int).isin(extensions)]\n",
    "        if m_rank.shape[0]  > 0:\n",
    "            rank.append(m_rank.index[0])\n",
    "            found.append(True)\n",
    "            weight_pct.append(m_rank.iloc[0].Weight / np.sum(merges.Weight))\n",
    "        else:\n",
    "            found.append(False)\n",
    "            rank.append(-1)\n",
    "            weight_pct.append(0)            \n",
    "    else:\n",
    "        found.append(False)\n",
    "        rank.append(-1)\n",
    "        weight_pct.append(-1)\n",
    "    merge_list.append(merges)\n",
    "    "
   ]
  },
  {
   "cell_type": "code",
   "execution_count": 50,
   "id": "2d8c57e3",
   "metadata": {},
   "outputs": [],
   "source": [
    "merge_df = pd.DataFrame()\n",
    "for i in range(len(merge_list)):\n",
    "    m = merge_list[i]\n",
    "    merge_df = pd.concat([merge_df, m])"
   ]
  },
  {
   "cell_type": "code",
   "execution_count": 52,
   "id": "33400c17",
   "metadata": {},
   "outputs": [],
   "source": [
    "merge_df.to_csv(\"GT_merges.csv\")"
   ]
  },
  {
   "cell_type": "code",
   "execution_count": 67,
   "id": "2414927e",
   "metadata": {},
   "outputs": [],
   "source": [
    "weights_merge = np.zeros_like(seg)\n",
    "for i in range(merges.shape[0]):\n",
    "    mask = np.array(seg) == int(merges.iloc[i].Extension)\n",
    "    weights_merge[mask] = merges.iloc[i].Weight"
   ]
  },
  {
   "cell_type": "code",
   "execution_count": 68,
   "id": "bbee9a5f",
   "metadata": {},
   "outputs": [
    {
     "data": {
      "text/plain": [
       "<matplotlib.image.AxesImage at 0x15ae56c40>"
      ]
     },
     "execution_count": 68,
     "metadata": {},
     "output_type": "execute_result"
    },
    {
     "data": {
      "image/png": "[encoded data removed]",
      "text/plain": [
       "<Figure size 432x288 with 1 Axes>"
      ]
     },
     "metadata": {
      "needs_background": "light"
     },
     "output_type": "display_data"
    }
   ],
   "source": [
    "plt.imshow(weights_merge[:,:,10],vmin=0, vmax=500)"
   ]
  },
  {
   "cell_type": "code",
   "execution_count": 72,
   "id": "87fa7ade",
   "metadata": {},
   "outputs": [
    {
     "data": {
      "text/plain": [
       "<matplotlib.image.AxesImage at 0x15c57f5b0>"
      ]
     },
     "execution_count": 72,
     "metadata": {},
     "output_type": "execute_result"
    },
    {
     "data": {
      "image/png": "[encoded data removed]",
      "text/plain": [
       "<Figure size 432x288 with 1 Axes>"
      ]
     },
     "metadata": {
      "needs_background": "light"
     },
     "output_type": "display_data"
    }
   ],
   "source": [
    "import matplotlib.pyplot as plt\n",
    "plt.imshow(pos_matrix[:,:,10],cmap='tab20')"
   ]
  },
  {
   "cell_type": "code",
   "execution_count": 12,
   "id": "1ca9ad1c",
   "metadata": {},
   "outputs": [
    {
     "data": {
      "text/plain": [
       "<matplotlib.image.AxesImage at 0x1532e6040>"
      ]
     },
     "execution_count": 12,
     "metadata": {},
     "output_type": "execute_result"
    },
    {
     "data": {
      "image/png": "[encoded data removed]",
      "text/plain": [
       "<Figure size 432x288 with 1 Axes>"
      ]
     },
     "metadata": {
      "needs_background": "light"
     },
     "output_type": "display_data"
    }
   ],
   "source": [
    "import matplotlib.pyplot as plt\n",
    "plt.imshow(mem_seg[:,:,11],vmin=0,vmax=1)"
   ]
  },
  {
   "cell_type": "code",
   "execution_count": 53,
   "id": "87b05d0b",
   "metadata": {},
   "outputs": [
    {
     "data": {
      "text/html": [
       "<div>\n",
       "<style scoped>\n",
       "    .dataframe tbody tr th:only-of-type {\n",
       "        vertical-align: middle;\n",
       "    }\n",
       "\n",
       "    .dataframe tbody tr th {\n",
       "        vertical-align: top;\n",
       "    }\n",
       "\n",
       "    .dataframe thead th {\n",
       "        text-align: right;\n",
       "    }\n",
       "</style>\n",
       "<table border=\"1\" class=\"dataframe\">\n",
       "  <thead>\n",
       "    <tr style=\"text-align: right;\">\n",
       "      <th></th>\n",
       "      <th>EP</th>\n",
       "      <th>Root_id</th>\n",
       "      <th>Extension</th>\n",
       "      <th>Weight</th>\n",
       "    </tr>\n",
       "  </thead>\n",
       "  <tbody>\n",
       "    <tr>\n",
       "      <th>0</th>\n",
       "      <td>[107125.0, 175763.0, 21958.0]</td>\n",
       "      <td>864691135491236447</td>\n",
       "      <td>864691133746665959</td>\n",
       "      <td>1</td>\n",
       "    </tr>\n",
       "    <tr>\n",
       "      <th>1</th>\n",
       "      <td>[107125.0, 175763.0, 21958.0]</td>\n",
       "      <td>864691135491236447</td>\n",
       "      <td>864691136597419729</td>\n",
       "      <td>5</td>\n",
       "    </tr>\n",
       "    <tr>\n",
       "      <th>13</th>\n",
       "      <td>[107125.0, 175763.0, 21958.0]</td>\n",
       "      <td>864691135491236447</td>\n",
       "      <td>864691135485573015</td>\n",
       "      <td>46</td>\n",
       "    </tr>\n",
       "    <tr>\n",
       "      <th>17</th>\n",
       "      <td>[107125.0, 175763.0, 21958.0]</td>\n",
       "      <td>864691135491236447</td>\n",
       "      <td>864691136591946193</td>\n",
       "      <td>1</td>\n",
       "    </tr>\n",
       "    <tr>\n",
       "      <th>24</th>\n",
       "      <td>[107125.0, 175763.0, 21958.0]</td>\n",
       "      <td>864691135491236447</td>\n",
       "      <td>864691136600365777</td>\n",
       "      <td>4</td>\n",
       "    </tr>\n",
       "  </tbody>\n",
       "</table>\n",
       "</div>"
      ],
      "text/plain": [
       "                               EP             Root_id           Extension  \\\n",
       "0   [107125.0, 175763.0, 21958.0]  864691135491236447  864691133746665959   \n",
       "1   [107125.0, 175763.0, 21958.0]  864691135491236447  864691136597419729   \n",
       "13  [107125.0, 175763.0, 21958.0]  864691135491236447  864691135485573015   \n",
       "17  [107125.0, 175763.0, 21958.0]  864691135491236447  864691136591946193   \n",
       "24  [107125.0, 175763.0, 21958.0]  864691135491236447  864691136600365777   \n",
       "\n",
       "    Weight  \n",
       "0        1  \n",
       "1        5  \n",
       "13      46  \n",
       "17       1  \n",
       "24       4  "
      ]
     },
     "execution_count": 53,
     "metadata": {},
     "output_type": "execute_result"
    }
   ],
   "source": [
    "merge_list[1]"
   ]
  },
  {
   "cell_type": "code",
   "execution_count": null,
   "id": "49fc4931",
   "metadata": {},
   "outputs": [],
   "source": []
  }
 ],
 "metadata": {
  "kernelspec": {
   "display_name": "Python 3 (ipykernel)",
   "language": "python",
   "name": "python3"
  },
  "language_info": {
   "codemirror_mode": {
    "name": "ipython",
    "version": 3
   },
   "file_extension": ".py",
   "mimetype": "text/x-python",
   "name": "python",
   "nbconvert_exporter": "python",
   "pygments_lexer": "ipython3",
   "version": "3.8.2"
  }
 },
 "nbformat": 4,
 "nbformat_minor": 5
}
