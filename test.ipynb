{
 "cells": [
  {
   "cell_type": "code",
   "execution_count": 1,
   "metadata": {},
   "outputs": [],
   "source": [
    "from tip_finding import tip_finding\n",
    "from drive import segment_points"
   ]
  },
  {
   "cell_type": "code",
   "execution_count": 2,
   "metadata": {},
   "outputs": [],
   "source": [
    "import numpy as np\n",
    "import pandas as pd"
   ]
  },
  {
   "cell_type": "code",
   "execution_count": 3,
   "metadata": {},
   "outputs": [
    {
     "name": "stdout",
     "output_type": "stream",
     "text": [
      "Warning: deduplication not currently supported for this layer's variable layered draco meshes\n",
      "branch\n"
     ]
    },
    {
     "name": "stderr",
     "output_type": "stream",
     "text": [
      "100%|██████████| 7992/7992 [00:00<00:00, 215987.82it/s]\n",
      "/Users/RupaChalavadi/Desktop/CRIMSON/Summer/Campfire/campfire/tip_finding/tip_finding.py:516: VisibleDeprecationWarning: Creating an ndarray from ragged nested sequences (which is a list-or-tuple of lists-or-tuples-or ndarrays with different lengths or shapes) is deprecated. If you meant to do this, you must specify 'dtype=object' when creating the ndarray.\n",
      "  locs = np.array([np.array(list(nx.get_node_attributes(g, 'mean_loc').values())) for g in graphs])\n",
      "100%|██████████| 4/4 [00:00<00:00, 175.79it/s]\n",
      "2it [00:00, 43.32it/s]\n",
      "0it [00:00, ?it/s]"
     ]
    },
    {
     "name": "stdout",
     "output_type": "stream",
     "text": [
      "[1611894.59016393  916850.24590164  942102.         1610157.66666667\n",
      "  915415.          959658.        ]\n"
     ]
    },
    {
     "name": "stderr",
     "output_type": "stream",
     "text": [
      "\n"
     ]
    }
   ],
   "source": [
    "good_tips_thick, good_tips_thin, good_tips_bad_thick, good_tips_bad_thin, just_tips, just_means  = tip_finding.endpoints_from_rid(864691135909994000)\n",
    "endpoints = np.array(good_tips_thick)\n",
    "endpoints = np.append(endpoints, good_tips_thin)\n",
    "\n",
    "print(endpoints)"
   ]
  },
  {
   "cell_type": "code",
   "execution_count": 4,
   "metadata": {},
   "outputs": [
    {
     "ename": "ModuleNotFoundError",
     "evalue": "No module named 'sofima'",
     "output_type": "error",
     "traceback": [
      "\u001b[0;31m---------------------------------------------------------------------------\u001b[0m",
      "\u001b[0;31mModuleNotFoundError\u001b[0m                       Traceback (most recent call last)",
      "\u001b[1;32m/Users/RupaChalavadi/Desktop/CRIMSON/Summer/Campfire/campfire/test.ipynb Cell 4\u001b[0m in \u001b[0;36m<cell line: 2>\u001b[0;34m()\u001b[0m\n\u001b[1;32m      <a href='vscode-notebook-cell:/Users/RupaChalavadi/Desktop/CRIMSON/Summer/Campfire/campfire/test.ipynb#W5sZmlsZQ%3D%3D?line=0'>1</a>\u001b[0m root_id \u001b[39m=\u001b[39m \u001b[39m864691135909994000\u001b[39m\n\u001b[0;32m----> <a href='vscode-notebook-cell:/Users/RupaChalavadi/Desktop/CRIMSON/Summer/Campfire/campfire/test.ipynb#W5sZmlsZQ%3D%3D?line=1'>2</a>\u001b[0m segment_points(root_id\u001b[39m=\u001b[39;49mroot_id, endpoint\u001b[39m=\u001b[39;49m endpoints[\u001b[39m0\u001b[39;49m], point_id \u001b[39m=\u001b[39;49m \u001b[39m0\u001b[39;49m)\n",
      "File \u001b[0;32m~/Desktop/CRIMSON/Summer/Campfire/campfire/drive.py:111\u001b[0m, in \u001b[0;36msegment_points\u001b[0;34m(root_id, endpoint, point_id, radius, resolution, unet_bound_mult, save, device, nucleus_id, time_point, namespace, direction_test)\u001b[0m\n\u001b[1;32m    108\u001b[0m     time_point \u001b[39m=\u001b[39m datetime\u001b[39m.\u001b[39mdatetime\u001b[39m.\u001b[39mnow()\n\u001b[1;32m    110\u001b[0m tic \u001b[39m=\u001b[39m time\u001b[39m.\u001b[39mtime()\n\u001b[0;32m--> 111\u001b[0m \u001b[39mfrom\u001b[39;00m \u001b[39mextension\u001b[39;00m \u001b[39mimport\u001b[39;00m Extension \u001b[39mas\u001b[39;00m Ext\n\u001b[1;32m    112\u001b[0m \u001b[39mfrom\u001b[39;00m \u001b[39mextension\u001b[39;00m \u001b[39mimport\u001b[39;00m save_merges\n\u001b[1;32m    113\u001b[0m ext \u001b[39m=\u001b[39m Ext(root_id, resolution, radius, unet_bound_mult,\n\u001b[1;32m    114\u001b[0m           device, save, nucleus_id, time_point, namespace, direction_test, point_id)\n",
      "File \u001b[0;32m~/Desktop/CRIMSON/Summer/Campfire/campfire/extension.py:3\u001b[0m, in \u001b[0;36m<module>\u001b[0;34m\u001b[0m\n\u001b[1;32m      1\u001b[0m \u001b[39mimport\u001b[39;00m \u001b[39maws\u001b[39;00m\u001b[39m.\u001b[39;00m\u001b[39msqs\u001b[39;00m \u001b[39mas\u001b[39;00m \u001b[39msqs\u001b[39;00m\n\u001b[1;32m      2\u001b[0m \u001b[39mfrom\u001b[39;00m \u001b[39mmembrane_detection\u001b[39;00m \u001b[39mimport\u001b[39;00m membranes\n\u001b[0;32m----> 3\u001b[0m \u001b[39mimport\u001b[39;00m \u001b[39magents\u001b[39;00m\u001b[39m.\u001b[39;00m\u001b[39mscripts\u001b[39;00m \u001b[39mas\u001b[39;00m \u001b[39mscripts\u001b[39;00m\n\u001b[1;32m      4\u001b[0m \u001b[39mimport\u001b[39;00m \u001b[39mnumpy\u001b[39;00m \u001b[39mas\u001b[39;00m \u001b[39mnp\u001b[39;00m\n\u001b[1;32m      5\u001b[0m \u001b[39mfrom\u001b[39;00m \u001b[39mcloudvolume\u001b[39;00m \u001b[39mimport\u001b[39;00m CloudVolume, exceptions\n",
      "File \u001b[0;32m~/Desktop/CRIMSON/Summer/Campfire/campfire/agents/scripts.py:10\u001b[0m, in \u001b[0;36m<module>\u001b[0;34m\u001b[0m\n\u001b[1;32m      8\u001b[0m \u001b[39mimport\u001b[39;00m \u001b[39mcv2\u001b[39;00m \n\u001b[1;32m      9\u001b[0m \u001b[39mimport\u001b[39;00m \u001b[39mdatetime\u001b[39;00m\n\u001b[0;32m---> 10\u001b[0m \u001b[39mfrom\u001b[39;00m \u001b[39msofima\u001b[39;00m\u001b[39m.\u001b[39;00m\u001b[39mflow_field\u001b[39;00m \u001b[39mimport\u001b[39;00m JAXMaskedXCorrWithStatsCalculator\n\u001b[1;32m     11\u001b[0m \u001b[39mfrom\u001b[39;00m \u001b[39msofima\u001b[39;00m\u001b[39m.\u001b[39;00m\u001b[39mflow_utils\u001b[39;00m \u001b[39mimport\u001b[39;00m clean_flow\n\u001b[1;32m     12\u001b[0m \u001b[39mfrom\u001b[39;00m \u001b[39msofima\u001b[39;00m\u001b[39m.\u001b[39;00m\u001b[39mwarp\u001b[39;00m \u001b[39mimport\u001b[39;00m ndimage_warp\n",
      "\u001b[0;31mModuleNotFoundError\u001b[0m: No module named 'sofima'"
     ]
    }
   ],
   "source": [
    "root_id = 864691135909994000\n",
    "segment_points(root_id=root_id, endpoint= endpoints[0], point_id = 0)"
   ]
  },
  {
   "cell_type": "code",
   "execution_count": null,
   "metadata": {},
   "outputs": [],
   "source": []
  }
 ],
 "metadata": {
  "kernelspec": {
   "display_name": "Python 3.8.9 64-bit",
   "language": "python",
   "name": "python3"
  },
  "language_info": {
   "codemirror_mode": {
    "name": "ipython",
    "version": 3
   },
   "file_extension": ".py",
   "mimetype": "text/x-python",
   "name": "python",
   "nbconvert_exporter": "python",
   "pygments_lexer": "ipython3",
   "version": "3.8.9"
  },
  "orig_nbformat": 4,
  "vscode": {
   "interpreter": {
    "hash": "31f2aee4e71d21fbe5cf8b01ff0e069b9275f58929596ceb00d14d90e3e16cd6"
   }
  }
 },
 "nbformat": 4,
 "nbformat_minor": 2
}
