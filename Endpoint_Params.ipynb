{
 "cells": [
  {
   "cell_type": "code",
   "execution_count": 5,
   "metadata": {},
   "outputs": [
    {
     "name": "stderr",
     "output_type": "stream",
     "text": [
      "/Library/Frameworks/Python.framework/Versions/3.8/lib/python3.8/site-packages/tqdm/auto.py:22: TqdmWarning: IProgress not found. Please update jupyter and ipywidgets. See https://ipywidgets.readthedocs.io/en/stable/user_install.html\n",
      "  from .autonotebook import tqdm as notebook_tqdm\n"
     ]
    }
   ],
   "source": [
    "from caveclient import CAVEclient\n",
    "from intern import array\n",
    "import pickle\n",
    "import numpy as np\n",
    "from agents import data_loader\n",
    "from cloudvolume import CloudVolume\n",
    "from membrane_detection import membranes\n",
    "from agents.scripts import precompute_membrane_vectors, create_post_matrix, merge_paths, get_soma\n",
    "import agents.sensor\n",
    "from agents.run import run_agents\n",
    "import aws.sqs as sqs\n",
    "import sys\n",
    "import time\n",
    "import ast\n",
    "import pandas as pd\n",
    "import agents.scripts as scripts\n",
    "from drive import drive\n",
    "from finding_orphans import *\n",
    "from math import sqrt\n",
    "from tip_finding.tip_finding import tip_finder_decimation"
   ]
  },
  {
   "cell_type": "code",
   "execution_count": 6,
   "metadata": {},
   "outputs": [],
   "source": [
    "load = pd.read_csv(\"agents/Data/endpoints_gt4.csv\")\n",
    "endpoints_dict = {}"
   ]
  },
  {
   "cell_type": "code",
   "execution_count": 7,
   "metadata": {},
   "outputs": [
    {
     "data": {
      "text/html": [
       "<div>\n",
       "<style scoped>\n",
       "    .dataframe tbody tr th:only-of-type {\n",
       "        vertical-align: middle;\n",
       "    }\n",
       "\n",
       "    .dataframe tbody tr th {\n",
       "        vertical-align: top;\n",
       "    }\n",
       "\n",
       "    .dataframe thead th {\n",
       "        text-align: right;\n",
       "    }\n",
       "</style>\n",
       "<table border=\"1\" class=\"dataframe\">\n",
       "  <thead>\n",
       "    <tr style=\"text-align: right;\">\n",
       "      <th></th>\n",
       "      <th>neuron</th>\n",
       "      <th>ng_link</th>\n",
       "      <th>seg_id</th>\n",
       "      <th>pink_pts</th>\n",
       "      <th>num_endpoints</th>\n",
       "      <th>endpoints</th>\n",
       "      <th>comments</th>\n",
       "      <th>detailed_comments</th>\n",
       "    </tr>\n",
       "  </thead>\n",
       "  <tbody>\n",
       "    <tr>\n",
       "      <th>0</th>\n",
       "      <td>8.646911e+17</td>\n",
       "      <td>https://neuroglancer.neuvue.io/?json_url=https...</td>\n",
       "      <td>864691135909994000</td>\n",
       "      <td>(402188, 228684, 24029)</td>\n",
       "      <td>2</td>\n",
       "      <td>((402584, 228856, 23991), (402985, 229235, 235...</td>\n",
       "      <td>NaN</td>\n",
       "      <td>NaN</td>\n",
       "    </tr>\n",
       "    <tr>\n",
       "      <th>1</th>\n",
       "      <td>NaN</td>\n",
       "      <td>NaN</td>\n",
       "      <td>864691135247440303</td>\n",
       "      <td>(401258, 224832, 24029)</td>\n",
       "      <td>3</td>\n",
       "      <td>((401612, 224623, 23991), (405257, 226318, 236...</td>\n",
       "      <td>NaN</td>\n",
       "      <td>NaN</td>\n",
       "    </tr>\n",
       "    <tr>\n",
       "      <th>2</th>\n",
       "      <td>NaN</td>\n",
       "      <td>NaN</td>\n",
       "      <td>864691134794123793</td>\n",
       "      <td>(401314, 228366, 24424)</td>\n",
       "      <td>2</td>\n",
       "      <td>((401242, 228382, 24444), (400982, 228457, 245...</td>\n",
       "      <td>NaN</td>\n",
       "      <td>NaN</td>\n",
       "    </tr>\n",
       "    <tr>\n",
       "      <th>3</th>\n",
       "      <td>NaN</td>\n",
       "      <td>NaN</td>\n",
       "      <td>864691134959738482</td>\n",
       "      <td>(400199, 220721, 24029)</td>\n",
       "      <td>7</td>\n",
       "      <td>((401289, 218721, 23991), (399895, 216533, 235...</td>\n",
       "      <td>NaN</td>\n",
       "      <td>NaN</td>\n",
       "    </tr>\n",
       "    <tr>\n",
       "      <th>4</th>\n",
       "      <td>NaN</td>\n",
       "      <td>NaN</td>\n",
       "      <td>864691135314714227</td>\n",
       "      <td>(397870, 232292, 24004)</td>\n",
       "      <td>2</td>\n",
       "      <td>((397867, 232230, 23999), (397854, 232252, 239...</td>\n",
       "      <td>NaN</td>\n",
       "      <td>NaN</td>\n",
       "    </tr>\n",
       "  </tbody>\n",
       "</table>\n",
       "</div>"
      ],
      "text/plain": [
       "         neuron                                            ng_link  \\\n",
       "0  8.646911e+17  https://neuroglancer.neuvue.io/?json_url=https...   \n",
       "1           NaN                                                NaN   \n",
       "2           NaN                                                NaN   \n",
       "3           NaN                                                NaN   \n",
       "4           NaN                                                NaN   \n",
       "\n",
       "               seg_id                 pink_pts  num_endpoints  \\\n",
       "0  864691135909994000  (402188, 228684, 24029)              2   \n",
       "1  864691135247440303  (401258, 224832, 24029)              3   \n",
       "2  864691134794123793  (401314, 228366, 24424)              2   \n",
       "3  864691134959738482  (400199, 220721, 24029)              7   \n",
       "4  864691135314714227  (397870, 232292, 24004)              2   \n",
       "\n",
       "                                           endpoints comments  \\\n",
       "0  ((402584, 228856, 23991), (402985, 229235, 235...      NaN   \n",
       "1  ((401612, 224623, 23991), (405257, 226318, 236...      NaN   \n",
       "2  ((401242, 228382, 24444), (400982, 228457, 245...      NaN   \n",
       "3  ((401289, 218721, 23991), (399895, 216533, 235...      NaN   \n",
       "4  ((397867, 232230, 23999), (397854, 232252, 239...      NaN   \n",
       "\n",
       "  detailed_comments  \n",
       "0               NaN  \n",
       "1               NaN  \n",
       "2               NaN  \n",
       "3               NaN  \n",
       "4               NaN  "
      ]
     },
     "execution_count": 7,
     "metadata": {},
     "output_type": "execute_result"
    }
   ],
   "source": [
    "load.head()"
   ]
  },
  {
   "cell_type": "code",
   "execution_count": 8,
   "metadata": {},
   "outputs": [],
   "source": [
    "#creating series objects for the desired collumns \n",
    "segIDs = load['seg_id']\n",
    "Endpoints = load['endpoints']\n",
    "\n"
   ]
  },
  {
   "cell_type": "code",
   "execution_count": 9,
   "metadata": {},
   "outputs": [
    {
     "name": "stderr",
     "output_type": "stream",
     "text": [
      "07/22/2022 03:49:57 PM WARNING: face_normals incorrect shape, ignoring! \n"
     ]
    },
    {
     "name": "stdout",
     "output_type": "stream",
     "text": [
      "Warning: deduplication not currently supported for this layer's variable layered draco meshes\n"
     ]
    },
    {
     "name": "stderr",
     "output_type": "stream",
     "text": [
      "100%|██████████| 3996/3996 [00:00<00:00, 558811.68it/s]\n",
      "07/22/2022 03:50:02 PM WARNING: face_normals incorrect shape, ignoring! \n"
     ]
    },
    {
     "name": "stdout",
     "output_type": "stream",
     "text": [
      "Warning: deduplication not currently supported for this layer's variable layered draco meshes\n"
     ]
    },
    {
     "name": "stderr",
     "output_type": "stream",
     "text": [
      "  0%|          | 0/10649 [00:00<?, ?it/s]/Library/Frameworks/Python.framework/Versions/3.8/lib/python3.8/site-packages/meshparty/skeletonize.py:613: RuntimeWarning: invalid value encountered in multiply\n",
      "  target = np.nanargmax(root_ds * valid)\n",
      "100%|██████████| 10649/10649 [00:00<00:00, 444876.38it/s]\n",
      "07/22/2022 03:50:04 PM WARNING: face_normals incorrect shape, ignoring! \n"
     ]
    },
    {
     "name": "stdout",
     "output_type": "stream",
     "text": [
      "Warning: deduplication not currently supported for this layer's variable layered draco meshes\n"
     ]
    },
    {
     "name": "stderr",
     "output_type": "stream",
     "text": [
      "100%|██████████| 1140/1140 [00:00<00:00, 405831.49it/s]\n",
      "07/22/2022 03:50:06 PM WARNING: face_normals incorrect shape, ignoring! \n"
     ]
    },
    {
     "name": "stdout",
     "output_type": "stream",
     "text": [
      "Warning: deduplication not currently supported for this layer's variable layered draco meshes\n"
     ]
    },
    {
     "name": "stderr",
     "output_type": "stream",
     "text": [
      "100%|██████████| 2596/2596 [00:00<00:00, 527130.77it/s]\n",
      "07/22/2022 03:50:07 PM WARNING: face_normals incorrect shape, ignoring! \n"
     ]
    },
    {
     "name": "stdout",
     "output_type": "stream",
     "text": [
      "Warning: deduplication not currently supported for this layer's variable layered draco meshes\n"
     ]
    },
    {
     "name": "stderr",
     "output_type": "stream",
     "text": [
      "100%|██████████| 117/117 [00:00<00:00, 48453.16it/s]\n",
      "07/22/2022 03:50:08 PM WARNING: face_normals incorrect shape, ignoring! \n"
     ]
    },
    {
     "name": "stdout",
     "output_type": "stream",
     "text": [
      "Warning: deduplication not currently supported for this layer's variable layered draco meshes\n"
     ]
    },
    {
     "name": "stderr",
     "output_type": "stream",
     "text": [
      "100%|██████████| 725/725 [00:00<00:00, 315344.85it/s]\n",
      "07/22/2022 03:50:10 PM WARNING: face_normals incorrect shape, ignoring! \n"
     ]
    },
    {
     "name": "stdout",
     "output_type": "stream",
     "text": [
      "Warning: deduplication not currently supported for this layer's variable layered draco meshes\n"
     ]
    },
    {
     "name": "stderr",
     "output_type": "stream",
     "text": [
      "100%|██████████| 3024/3024 [00:00<00:00, 536076.72it/s]\n",
      "07/22/2022 03:50:11 PM WARNING: face_normals incorrect shape, ignoring! \n"
     ]
    },
    {
     "name": "stdout",
     "output_type": "stream",
     "text": [
      "Warning: deduplication not currently supported for this layer's variable layered draco meshes\n"
     ]
    },
    {
     "name": "stderr",
     "output_type": "stream",
     "text": [
      "100%|██████████| 590/590 [00:00<00:00, 202673.17it/s]\n",
      "07/22/2022 03:50:13 PM WARNING: face_normals incorrect shape, ignoring! \n"
     ]
    },
    {
     "name": "stdout",
     "output_type": "stream",
     "text": [
      "Warning: deduplication not currently supported for this layer's variable layered draco meshes\n"
     ]
    },
    {
     "name": "stderr",
     "output_type": "stream",
     "text": [
      "100%|██████████| 3024/3024 [00:00<00:00, 514818.17it/s]\n",
      "07/22/2022 03:50:15 PM WARNING: face_normals incorrect shape, ignoring! \n"
     ]
    },
    {
     "name": "stdout",
     "output_type": "stream",
     "text": [
      "Warning: deduplication not currently supported for this layer's variable layered draco meshes\n"
     ]
    },
    {
     "name": "stderr",
     "output_type": "stream",
     "text": [
      "100%|██████████| 33205/33205 [00:00<00:00, 150900.89it/s]\n",
      "07/22/2022 03:50:19 PM WARNING: face_normals incorrect shape, ignoring! \n"
     ]
    },
    {
     "name": "stdout",
     "output_type": "stream",
     "text": [
      "Warning: deduplication not currently supported for this layer's variable layered draco meshes\n"
     ]
    },
    {
     "name": "stderr",
     "output_type": "stream",
     "text": [
      "100%|██████████| 338/338 [00:00<00:00, 184617.11it/s]\n",
      "07/22/2022 03:50:21 PM WARNING: face_normals incorrect shape, ignoring! \n"
     ]
    },
    {
     "name": "stdout",
     "output_type": "stream",
     "text": [
      "Warning: deduplication not currently supported for this layer's variable layered draco meshes\n"
     ]
    },
    {
     "name": "stderr",
     "output_type": "stream",
     "text": [
      "100%|██████████| 5856/5856 [00:00<00:00, 425859.01it/s]\n",
      "07/22/2022 03:50:22 PM WARNING: face_normals incorrect shape, ignoring! \n"
     ]
    },
    {
     "name": "stdout",
     "output_type": "stream",
     "text": [
      "Warning: deduplication not currently supported for this layer's variable layered draco meshes\n"
     ]
    },
    {
     "name": "stderr",
     "output_type": "stream",
     "text": [
      "100%|██████████| 7270/7270 [00:00<00:00, 574616.33it/s]\n",
      "07/22/2022 03:50:24 PM WARNING: face_normals incorrect shape, ignoring! \n"
     ]
    },
    {
     "name": "stdout",
     "output_type": "stream",
     "text": [
      "Warning: deduplication not currently supported for this layer's variable layered draco meshes\n"
     ]
    },
    {
     "name": "stderr",
     "output_type": "stream",
     "text": [
      "100%|██████████| 12420/12420 [00:00<00:00, 557970.65it/s]\n",
      "07/22/2022 03:50:27 PM WARNING: face_normals incorrect shape, ignoring! \n"
     ]
    },
    {
     "name": "stdout",
     "output_type": "stream",
     "text": [
      "Warning: deduplication not currently supported for this layer's variable layered draco meshes\n"
     ]
    },
    {
     "name": "stderr",
     "output_type": "stream",
     "text": [
      "100%|██████████| 11545/11545 [00:00<00:00, 726203.35it/s]\n",
      "07/22/2022 03:50:29 PM WARNING: face_normals incorrect shape, ignoring! \n"
     ]
    },
    {
     "name": "stdout",
     "output_type": "stream",
     "text": [
      "Warning: deduplication not currently supported for this layer's variable layered draco meshes\n",
      "\n",
      "\n",
      "Seg 864691133692934758 returned error on get. Skipping.\n",
      "\n"
     ]
    },
    {
     "name": "stderr",
     "output_type": "stream",
     "text": [
      "07/22/2022 03:50:30 PM WARNING: face_normals incorrect shape, ignoring! \n"
     ]
    },
    {
     "name": "stdout",
     "output_type": "stream",
     "text": [
      "Warning: deduplication not currently supported for this layer's variable layered draco meshes\n"
     ]
    },
    {
     "name": "stderr",
     "output_type": "stream",
     "text": [
      "100%|██████████| 158/158 [00:00<00:00, 84852.76it/s]\n",
      "07/22/2022 03:50:31 PM WARNING: face_normals incorrect shape, ignoring! \n"
     ]
    },
    {
     "name": "stdout",
     "output_type": "stream",
     "text": [
      "Warning: deduplication not currently supported for this layer's variable layered draco meshes\n"
     ]
    },
    {
     "name": "stderr",
     "output_type": "stream",
     "text": [
      "100%|██████████| 1243/1243 [00:00<00:00, 343175.35it/s]\n",
      "07/22/2022 03:50:32 PM WARNING: face_normals incorrect shape, ignoring! \n"
     ]
    },
    {
     "name": "stdout",
     "output_type": "stream",
     "text": [
      "Warning: deduplication not currently supported for this layer's variable layered draco meshes\n",
      "\n",
      "\n",
      "Seg 864691133946526057 returned error on get. Skipping.\n",
      "\n"
     ]
    },
    {
     "name": "stderr",
     "output_type": "stream",
     "text": [
      "07/22/2022 03:50:33 PM WARNING: face_normals incorrect shape, ignoring! \n"
     ]
    },
    {
     "name": "stdout",
     "output_type": "stream",
     "text": [
      "Warning: deduplication not currently supported for this layer's variable layered draco meshes\n",
      "\n",
      "\n",
      "Seg 864691133712131152 returned error on get. Skipping.\n",
      "\n"
     ]
    },
    {
     "name": "stderr",
     "output_type": "stream",
     "text": [
      "07/22/2022 03:50:34 PM WARNING: face_normals incorrect shape, ignoring! \n"
     ]
    },
    {
     "name": "stdout",
     "output_type": "stream",
     "text": [
      "Warning: deduplication not currently supported for this layer's variable layered draco meshes\n"
     ]
    },
    {
     "name": "stderr",
     "output_type": "stream",
     "text": [
      "100%|██████████| 204/204 [00:00<00:00, 105908.90it/s]\n",
      "07/22/2022 03:50:37 PM WARNING: face_normals incorrect shape, ignoring! \n"
     ]
    },
    {
     "name": "stdout",
     "output_type": "stream",
     "text": [
      "Warning: deduplication not currently supported for this layer's variable layered draco meshes\n"
     ]
    },
    {
     "name": "stderr",
     "output_type": "stream",
     "text": [
      "100%|██████████| 22603/22603 [00:00<00:00, 421232.51it/s]\n",
      "07/22/2022 03:50:41 PM WARNING: face_normals incorrect shape, ignoring! \n"
     ]
    },
    {
     "name": "stdout",
     "output_type": "stream",
     "text": [
      "Warning: deduplication not currently supported for this layer's variable layered draco meshes\n"
     ]
    },
    {
     "name": "stderr",
     "output_type": "stream",
     "text": [
      "100%|██████████| 3568/3568 [00:00<00:00, 540048.24it/s]\n",
      "07/22/2022 03:50:42 PM WARNING: face_normals incorrect shape, ignoring! \n"
     ]
    },
    {
     "name": "stdout",
     "output_type": "stream",
     "text": [
      "Warning: deduplication not currently supported for this layer's variable layered draco meshes\n",
      "\n",
      "\n",
      "Seg 864691133678427777 returned error on get. Skipping.\n",
      "\n"
     ]
    },
    {
     "name": "stderr",
     "output_type": "stream",
     "text": [
      "07/22/2022 03:50:43 PM WARNING: face_normals incorrect shape, ignoring! \n"
     ]
    },
    {
     "name": "stdout",
     "output_type": "stream",
     "text": [
      "Warning: deduplication not currently supported for this layer's variable layered draco meshes\n"
     ]
    },
    {
     "name": "stderr",
     "output_type": "stream",
     "text": [
      "100%|██████████| 556/556 [00:00<00:00, 236682.54it/s]\n",
      "07/22/2022 03:50:44 PM WARNING: face_normals incorrect shape, ignoring! \n"
     ]
    },
    {
     "name": "stdout",
     "output_type": "stream",
     "text": [
      "Warning: deduplication not currently supported for this layer's variable layered draco meshes\n"
     ]
    },
    {
     "name": "stderr",
     "output_type": "stream",
     "text": [
      "100%|██████████| 1119/1119 [00:00<00:00, 404292.03it/s]\n",
      "07/22/2022 03:50:45 PM WARNING: face_normals incorrect shape, ignoring! \n"
     ]
    },
    {
     "name": "stdout",
     "output_type": "stream",
     "text": [
      "Warning: deduplication not currently supported for this layer's variable layered draco meshes\n"
     ]
    },
    {
     "name": "stderr",
     "output_type": "stream",
     "text": [
      "100%|██████████| 3576/3576 [00:00<00:00, 580135.81it/s]\n",
      "07/22/2022 03:50:47 PM WARNING: face_normals incorrect shape, ignoring! \n"
     ]
    },
    {
     "name": "stdout",
     "output_type": "stream",
     "text": [
      "Warning: deduplication not currently supported for this layer's variable layered draco meshes\n"
     ]
    },
    {
     "name": "stderr",
     "output_type": "stream",
     "text": [
      "100%|██████████| 230/230 [00:00<00:00, 130681.38it/s]\n",
      "07/22/2022 03:50:48 PM WARNING: face_normals incorrect shape, ignoring! \n"
     ]
    },
    {
     "name": "stdout",
     "output_type": "stream",
     "text": [
      "Warning: deduplication not currently supported for this layer's variable layered draco meshes\n"
     ]
    },
    {
     "name": "stderr",
     "output_type": "stream",
     "text": [
      "100%|██████████| 1402/1402 [00:00<00:00, 390439.83it/s]\n",
      "07/22/2022 03:50:49 PM WARNING: face_normals incorrect shape, ignoring! \n"
     ]
    },
    {
     "name": "stdout",
     "output_type": "stream",
     "text": [
      "Warning: deduplication not currently supported for this layer's variable layered draco meshes\n",
      "\n",
      "\n",
      "Seg 864691133766052845 returned error on get. Skipping.\n",
      "\n"
     ]
    },
    {
     "name": "stderr",
     "output_type": "stream",
     "text": [
      "07/22/2022 03:50:50 PM WARNING: face_normals incorrect shape, ignoring! \n"
     ]
    },
    {
     "name": "stdout",
     "output_type": "stream",
     "text": [
      "Warning: deduplication not currently supported for this layer's variable layered draco meshes\n"
     ]
    },
    {
     "name": "stderr",
     "output_type": "stream",
     "text": [
      "100%|██████████| 1499/1499 [00:00<00:00, 181032.59it/s]\n",
      "07/22/2022 03:50:53 PM WARNING: face_normals incorrect shape, ignoring! \n"
     ]
    },
    {
     "name": "stdout",
     "output_type": "stream",
     "text": [
      "Warning: deduplication not currently supported for this layer's variable layered draco meshes\n"
     ]
    },
    {
     "name": "stderr",
     "output_type": "stream",
     "text": [
      "100%|██████████| 14992/14992 [00:00<00:00, 726486.11it/s]\n",
      "07/22/2022 03:50:55 PM WARNING: face_normals incorrect shape, ignoring! \n"
     ]
    },
    {
     "name": "stdout",
     "output_type": "stream",
     "text": [
      "Warning: deduplication not currently supported for this layer's variable layered draco meshes\n"
     ]
    },
    {
     "name": "stderr",
     "output_type": "stream",
     "text": [
      "100%|██████████| 351/351 [00:00<00:00, 177995.49it/s]\n",
      "07/22/2022 03:50:56 PM WARNING: face_normals incorrect shape, ignoring! \n"
     ]
    },
    {
     "name": "stdout",
     "output_type": "stream",
     "text": [
      "Warning: deduplication not currently supported for this layer's variable layered draco meshes\n"
     ]
    },
    {
     "name": "stderr",
     "output_type": "stream",
     "text": [
      "100%|██████████| 3586/3586 [00:00<00:00, 511330.07it/s]\n",
      "07/22/2022 03:50:58 PM WARNING: face_normals incorrect shape, ignoring! \n"
     ]
    },
    {
     "name": "stdout",
     "output_type": "stream",
     "text": [
      "Warning: deduplication not currently supported for this layer's variable layered draco meshes\n"
     ]
    },
    {
     "name": "stderr",
     "output_type": "stream",
     "text": [
      "100%|██████████| 5274/5274 [00:00<00:00, 701889.81it/s]\n",
      "07/22/2022 03:50:59 PM WARNING: face_normals incorrect shape, ignoring! \n"
     ]
    },
    {
     "name": "stdout",
     "output_type": "stream",
     "text": [
      "Warning: deduplication not currently supported for this layer's variable layered draco meshes\n"
     ]
    },
    {
     "name": "stderr",
     "output_type": "stream",
     "text": [
      "100%|██████████| 7026/7026 [00:00<00:00, 694340.04it/s]\n",
      "07/22/2022 03:51:01 PM WARNING: face_normals incorrect shape, ignoring! \n"
     ]
    },
    {
     "name": "stdout",
     "output_type": "stream",
     "text": [
      "Warning: deduplication not currently supported for this layer's variable layered draco meshes\n"
     ]
    },
    {
     "name": "stderr",
     "output_type": "stream",
     "text": [
      "100%|██████████| 2368/2368 [00:00<00:00, 521015.15it/s]\n",
      "07/22/2022 03:51:03 PM WARNING: face_normals incorrect shape, ignoring! \n"
     ]
    },
    {
     "name": "stdout",
     "output_type": "stream",
     "text": [
      "Warning: deduplication not currently supported for this layer's variable layered draco meshes\n"
     ]
    },
    {
     "name": "stderr",
     "output_type": "stream",
     "text": [
      "100%|██████████| 4525/4525 [00:00<00:00, 531169.73it/s]\n",
      "07/22/2022 03:51:05 PM WARNING: face_normals incorrect shape, ignoring! \n"
     ]
    },
    {
     "name": "stdout",
     "output_type": "stream",
     "text": [
      "Warning: deduplication not currently supported for this layer's variable layered draco meshes\n"
     ]
    },
    {
     "name": "stderr",
     "output_type": "stream",
     "text": [
      "100%|██████████| 15505/15505 [00:00<00:00, 714354.42it/s]\n",
      "07/22/2022 03:51:10 PM WARNING: face_normals incorrect shape, ignoring! \n"
     ]
    },
    {
     "name": "stdout",
     "output_type": "stream",
     "text": [
      "Warning: deduplication not currently supported for this layer's variable layered draco meshes\n"
     ]
    },
    {
     "name": "stderr",
     "output_type": "stream",
     "text": [
      "100%|██████████| 28900/28900 [00:00<00:00, 345416.79it/s]\n",
      "07/22/2022 03:51:14 PM WARNING: face_normals incorrect shape, ignoring! \n"
     ]
    },
    {
     "name": "stdout",
     "output_type": "stream",
     "text": [
      "Warning: deduplication not currently supported for this layer's variable layered draco meshes\n"
     ]
    },
    {
     "name": "stderr",
     "output_type": "stream",
     "text": [
      "100%|██████████| 6582/6582 [00:00<00:00, 555772.93it/s]\n",
      "07/22/2022 03:51:19 PM WARNING: face_normals incorrect shape, ignoring! \n"
     ]
    },
    {
     "name": "stdout",
     "output_type": "stream",
     "text": [
      "Warning: deduplication not currently supported for this layer's variable layered draco meshes\n"
     ]
    },
    {
     "name": "stderr",
     "output_type": "stream",
     "text": [
      "100%|██████████| 105180/105180 [00:00<00:00, 245867.66it/s]\n",
      "07/22/2022 03:51:31 PM WARNING: face_normals incorrect shape, ignoring! \n"
     ]
    },
    {
     "name": "stdout",
     "output_type": "stream",
     "text": [
      "Warning: deduplication not currently supported for this layer's variable layered draco meshes\n"
     ]
    },
    {
     "name": "stderr",
     "output_type": "stream",
     "text": [
      "100%|██████████| 18513/18513 [00:00<00:00, 481294.40it/s]\n",
      "07/22/2022 03:51:36 PM WARNING: face_normals incorrect shape, ignoring! \n"
     ]
    },
    {
     "name": "stdout",
     "output_type": "stream",
     "text": [
      "Warning: deduplication not currently supported for this layer's variable layered draco meshes\n"
     ]
    },
    {
     "name": "stderr",
     "output_type": "stream",
     "text": [
      "100%|██████████| 15061/15061 [00:00<00:00, 321226.18it/s]\n",
      "07/22/2022 03:51:41 PM WARNING: face_normals incorrect shape, ignoring! \n"
     ]
    },
    {
     "name": "stdout",
     "output_type": "stream",
     "text": [
      "Warning: deduplication not currently supported for this layer's variable layered draco meshes\n"
     ]
    },
    {
     "name": "stderr",
     "output_type": "stream",
     "text": [
      "100%|██████████| 14865/14865 [00:00<00:00, 655373.78it/s]\n",
      "07/22/2022 03:51:49 PM WARNING: face_normals incorrect shape, ignoring! \n"
     ]
    },
    {
     "name": "stdout",
     "output_type": "stream",
     "text": [
      "Warning: deduplication not currently supported for this layer's variable layered draco meshes\n"
     ]
    },
    {
     "name": "stderr",
     "output_type": "stream",
     "text": [
      "100%|██████████| 73820/73820 [00:01<00:00, 52492.62it/s] \n",
      "07/22/2022 03:52:05 PM WARNING: face_normals incorrect shape, ignoring! \n"
     ]
    },
    {
     "name": "stdout",
     "output_type": "stream",
     "text": [
      "Warning: deduplication not currently supported for this layer's variable layered draco meshes\n"
     ]
    },
    {
     "name": "stderr",
     "output_type": "stream",
     "text": [
      "100%|██████████| 5791/5791 [00:00<00:00, 498455.02it/s]\n",
      "07/22/2022 03:52:08 PM WARNING: face_normals incorrect shape, ignoring! \n"
     ]
    },
    {
     "name": "stdout",
     "output_type": "stream",
     "text": [
      "Warning: deduplication not currently supported for this layer's variable layered draco meshes\n"
     ]
    },
    {
     "name": "stderr",
     "output_type": "stream",
     "text": [
      "100%|██████████| 14714/14714 [00:00<00:00, 285410.99it/s]\n",
      "07/22/2022 03:52:11 PM WARNING: face_normals incorrect shape, ignoring! \n"
     ]
    },
    {
     "name": "stdout",
     "output_type": "stream",
     "text": [
      "Warning: deduplication not currently supported for this layer's variable layered draco meshes\n"
     ]
    },
    {
     "name": "stderr",
     "output_type": "stream",
     "text": [
      "100%|██████████| 12530/12530 [00:00<00:00, 449284.71it/s]\n",
      "07/22/2022 03:52:15 PM WARNING: face_normals incorrect shape, ignoring! \n"
     ]
    },
    {
     "name": "stdout",
     "output_type": "stream",
     "text": [
      "Warning: deduplication not currently supported for this layer's variable layered draco meshes\n"
     ]
    },
    {
     "name": "stderr",
     "output_type": "stream",
     "text": [
      "100%|██████████| 26058/26058 [00:00<00:00, 639927.71it/s]\n",
      "07/22/2022 03:52:26 PM WARNING: face_normals incorrect shape, ignoring! \n"
     ]
    },
    {
     "name": "stdout",
     "output_type": "stream",
     "text": [
      "Warning: deduplication not currently supported for this layer's variable layered draco meshes\n"
     ]
    },
    {
     "name": "stderr",
     "output_type": "stream",
     "text": [
      "100%|██████████| 210150/210150 [00:01<00:00, 116190.15it/s]\n",
      "07/22/2022 03:52:52 PM WARNING: face_normals incorrect shape, ignoring! \n"
     ]
    },
    {
     "name": "stdout",
     "output_type": "stream",
     "text": [
      "Warning: deduplication not currently supported for this layer's variable layered draco meshes\n"
     ]
    },
    {
     "name": "stderr",
     "output_type": "stream",
     "text": [
      "100%|██████████| 3699/3699 [00:00<00:00, 408239.41it/s]\n",
      "07/22/2022 03:52:54 PM WARNING: face_normals incorrect shape, ignoring! \n"
     ]
    },
    {
     "name": "stdout",
     "output_type": "stream",
     "text": [
      "Warning: deduplication not currently supported for this layer's variable layered draco meshes\n"
     ]
    },
    {
     "name": "stderr",
     "output_type": "stream",
     "text": [
      "100%|██████████| 8352/8352 [00:00<00:00, 541744.54it/s]\n",
      "07/22/2022 03:52:57 PM WARNING: face_normals incorrect shape, ignoring! \n"
     ]
    },
    {
     "name": "stdout",
     "output_type": "stream",
     "text": [
      "Warning: deduplication not currently supported for this layer's variable layered draco meshes\n"
     ]
    },
    {
     "name": "stderr",
     "output_type": "stream",
     "text": [
      "100%|██████████| 17575/17575 [00:00<00:00, 679518.93it/s]\n",
      "07/22/2022 03:53:01 PM WARNING: face_normals incorrect shape, ignoring! \n"
     ]
    },
    {
     "name": "stdout",
     "output_type": "stream",
     "text": [
      "Warning: deduplication not currently supported for this layer's variable layered draco meshes\n"
     ]
    },
    {
     "name": "stderr",
     "output_type": "stream",
     "text": [
      "100%|██████████| 17800/17800 [00:00<00:00, 339331.10it/s]\n",
      "07/22/2022 03:53:03 PM WARNING: face_normals incorrect shape, ignoring! \n"
     ]
    },
    {
     "name": "stdout",
     "output_type": "stream",
     "text": [
      "Warning: deduplication not currently supported for this layer's variable layered draco meshes\n"
     ]
    },
    {
     "name": "stderr",
     "output_type": "stream",
     "text": [
      "100%|██████████| 1644/1644 [00:00<00:00, 423136.71it/s]\n",
      "07/22/2022 03:53:05 PM WARNING: face_normals incorrect shape, ignoring! \n"
     ]
    },
    {
     "name": "stdout",
     "output_type": "stream",
     "text": [
      "Warning: deduplication not currently supported for this layer's variable layered draco meshes\n"
     ]
    },
    {
     "name": "stderr",
     "output_type": "stream",
     "text": [
      "100%|██████████| 11380/11380 [00:00<00:00, 514793.94it/s]\n",
      "07/22/2022 03:53:07 PM WARNING: face_normals incorrect shape, ignoring! \n"
     ]
    },
    {
     "name": "stdout",
     "output_type": "stream",
     "text": [
      "Warning: deduplication not currently supported for this layer's variable layered draco meshes\n"
     ]
    },
    {
     "name": "stderr",
     "output_type": "stream",
     "text": [
      "100%|██████████| 152/152 [00:00<00:00, 54401.76it/s]\n",
      "07/22/2022 03:53:09 PM WARNING: face_normals incorrect shape, ignoring! \n"
     ]
    },
    {
     "name": "stdout",
     "output_type": "stream",
     "text": [
      "Warning: deduplication not currently supported for this layer's variable layered draco meshes\n"
     ]
    },
    {
     "name": "stderr",
     "output_type": "stream",
     "text": [
      "100%|██████████| 934/934 [00:00<00:00, 379821.60it/s]\n",
      "07/22/2022 03:53:12 PM WARNING: face_normals incorrect shape, ignoring! \n"
     ]
    },
    {
     "name": "stdout",
     "output_type": "stream",
     "text": [
      "Warning: deduplication not currently supported for this layer's variable layered draco meshes\n"
     ]
    },
    {
     "name": "stderr",
     "output_type": "stream",
     "text": [
      "100%|██████████| 73645/73645 [00:00<00:00, 304658.12it/s]\n",
      "07/22/2022 03:53:21 PM WARNING: face_normals incorrect shape, ignoring! \n"
     ]
    },
    {
     "name": "stdout",
     "output_type": "stream",
     "text": [
      "Warning: deduplication not currently supported for this layer's variable layered draco meshes\n"
     ]
    },
    {
     "name": "stderr",
     "output_type": "stream",
     "text": [
      "100%|██████████| 403/403 [00:00<00:00, 213449.24it/s]\n",
      "07/22/2022 03:53:22 PM WARNING: face_normals incorrect shape, ignoring! \n"
     ]
    },
    {
     "name": "stdout",
     "output_type": "stream",
     "text": [
      "Warning: deduplication not currently supported for this layer's variable layered draco meshes\n"
     ]
    },
    {
     "name": "stderr",
     "output_type": "stream",
     "text": [
      "100%|██████████| 5928/5928 [00:00<00:00, 450872.85it/s]\n",
      "07/22/2022 03:53:25 PM WARNING: face_normals incorrect shape, ignoring! \n"
     ]
    },
    {
     "name": "stdout",
     "output_type": "stream",
     "text": [
      "Warning: deduplication not currently supported for this layer's variable layered draco meshes\n"
     ]
    },
    {
     "name": "stderr",
     "output_type": "stream",
     "text": [
      "100%|██████████| 8016/8016 [00:00<00:00, 740578.89it/s]\n",
      "07/22/2022 03:53:26 PM WARNING: face_normals incorrect shape, ignoring! \n"
     ]
    },
    {
     "name": "stdout",
     "output_type": "stream",
     "text": [
      "Warning: deduplication not currently supported for this layer's variable layered draco meshes\n"
     ]
    },
    {
     "name": "stderr",
     "output_type": "stream",
     "text": [
      "100%|██████████| 264/264 [00:00<00:00, 88181.59it/s]\n",
      "07/22/2022 03:53:29 PM WARNING: face_normals incorrect shape, ignoring! \n"
     ]
    },
    {
     "name": "stdout",
     "output_type": "stream",
     "text": [
      "Warning: deduplication not currently supported for this layer's variable layered draco meshes\n"
     ]
    },
    {
     "name": "stderr",
     "output_type": "stream",
     "text": [
      "100%|██████████| 30530/30530 [00:00<00:00, 552627.59it/s]\n",
      "07/22/2022 03:53:34 PM WARNING: face_normals incorrect shape, ignoring! \n"
     ]
    },
    {
     "name": "stdout",
     "output_type": "stream",
     "text": [
      "Warning: deduplication not currently supported for this layer's variable layered draco meshes\n"
     ]
    },
    {
     "name": "stderr",
     "output_type": "stream",
     "text": [
      "100%|██████████| 3806/3806 [00:00<00:00, 568643.22it/s]\n",
      "07/22/2022 03:53:35 PM WARNING: face_normals incorrect shape, ignoring! \n"
     ]
    },
    {
     "name": "stdout",
     "output_type": "stream",
     "text": [
      "Warning: deduplication not currently supported for this layer's variable layered draco meshes\n"
     ]
    },
    {
     "name": "stderr",
     "output_type": "stream",
     "text": [
      "100%|██████████| 7820/7820 [00:00<00:00, 719081.34it/s]\n",
      "07/22/2022 03:53:37 PM WARNING: face_normals incorrect shape, ignoring! \n"
     ]
    },
    {
     "name": "stdout",
     "output_type": "stream",
     "text": [
      "Warning: deduplication not currently supported for this layer's variable layered draco meshes\n",
      "\n",
      "\n",
      "Seg 864691133769133345 returned error on get. Skipping.\n",
      "\n"
     ]
    },
    {
     "name": "stderr",
     "output_type": "stream",
     "text": [
      "07/22/2022 03:53:41 PM WARNING: face_normals incorrect shape, ignoring! \n"
     ]
    },
    {
     "name": "stdout",
     "output_type": "stream",
     "text": [
      "Warning: deduplication not currently supported for this layer's variable layered draco meshes\n"
     ]
    },
    {
     "name": "stderr",
     "output_type": "stream",
     "text": [
      "100%|██████████| 49920/49920 [00:00<00:00, 333066.07it/s]\n",
      "07/22/2022 03:53:48 PM WARNING: face_normals incorrect shape, ignoring! \n"
     ]
    },
    {
     "name": "stdout",
     "output_type": "stream",
     "text": [
      "Warning: deduplication not currently supported for this layer's variable layered draco meshes\n"
     ]
    },
    {
     "name": "stderr",
     "output_type": "stream",
     "text": [
      "100%|██████████| 43892/43892 [00:00<00:00, 524873.96it/s]\n",
      "07/22/2022 03:53:55 PM WARNING: face_normals incorrect shape, ignoring! \n"
     ]
    },
    {
     "name": "stdout",
     "output_type": "stream",
     "text": [
      "Warning: deduplication not currently supported for this layer's variable layered draco meshes\n"
     ]
    },
    {
     "name": "stderr",
     "output_type": "stream",
     "text": [
      "100%|██████████| 19407/19407 [00:00<00:00, 456279.30it/s]\n",
      "07/22/2022 03:53:58 PM WARNING: face_normals incorrect shape, ignoring! \n"
     ]
    },
    {
     "name": "stdout",
     "output_type": "stream",
     "text": [
      "Warning: deduplication not currently supported for this layer's variable layered draco meshes\n"
     ]
    },
    {
     "name": "stderr",
     "output_type": "stream",
     "text": [
      "100%|██████████| 2448/2448 [00:00<00:00, 408337.89it/s]\n",
      "07/22/2022 03:54:01 PM WARNING: face_normals incorrect shape, ignoring! \n"
     ]
    },
    {
     "name": "stdout",
     "output_type": "stream",
     "text": [
      "Warning: deduplication not currently supported for this layer's variable layered draco meshes\n"
     ]
    },
    {
     "name": "stderr",
     "output_type": "stream",
     "text": [
      "100%|██████████| 39637/39637 [00:00<00:00, 225692.52it/s]\n",
      "07/22/2022 03:54:07 PM WARNING: face_normals incorrect shape, ignoring! \n"
     ]
    },
    {
     "name": "stdout",
     "output_type": "stream",
     "text": [
      "Warning: deduplication not currently supported for this layer's variable layered draco meshes\n"
     ]
    },
    {
     "name": "stderr",
     "output_type": "stream",
     "text": [
      "100%|██████████| 8835/8835 [00:00<00:00, 596274.57it/s]\n",
      "07/22/2022 03:54:09 PM WARNING: face_normals incorrect shape, ignoring! \n"
     ]
    },
    {
     "name": "stdout",
     "output_type": "stream",
     "text": [
      "Warning: deduplication not currently supported for this layer's variable layered draco meshes\n"
     ]
    },
    {
     "name": "stderr",
     "output_type": "stream",
     "text": [
      "100%|██████████| 9474/9474 [00:00<00:00, 701296.04it/s]\n",
      "07/22/2022 03:54:12 PM WARNING: face_normals incorrect shape, ignoring! \n"
     ]
    },
    {
     "name": "stdout",
     "output_type": "stream",
     "text": [
      "Warning: deduplication not currently supported for this layer's variable layered draco meshes\n"
     ]
    },
    {
     "name": "stderr",
     "output_type": "stream",
     "text": [
      "100%|██████████| 19620/19620 [00:00<00:00, 656850.85it/s]\n",
      "07/22/2022 03:54:16 PM WARNING: face_normals incorrect shape, ignoring! \n"
     ]
    },
    {
     "name": "stdout",
     "output_type": "stream",
     "text": [
      "Warning: deduplication not currently supported for this layer's variable layered draco meshes\n"
     ]
    },
    {
     "name": "stderr",
     "output_type": "stream",
     "text": [
      "100%|██████████| 1286/1286 [00:00<00:00, 397368.13it/s]\n",
      "07/22/2022 03:54:18 PM WARNING: face_normals incorrect shape, ignoring! \n"
     ]
    },
    {
     "name": "stdout",
     "output_type": "stream",
     "text": [
      "Warning: deduplication not currently supported for this layer's variable layered draco meshes\n"
     ]
    },
    {
     "name": "stderr",
     "output_type": "stream",
     "text": [
      "100%|██████████| 23442/23442 [00:00<00:00, 596949.01it/s]\n",
      "07/22/2022 03:54:23 PM WARNING: face_normals incorrect shape, ignoring! \n"
     ]
    },
    {
     "name": "stdout",
     "output_type": "stream",
     "text": [
      "Warning: deduplication not currently supported for this layer's variable layered draco meshes\n"
     ]
    },
    {
     "name": "stderr",
     "output_type": "stream",
     "text": [
      "100%|██████████| 36158/36158 [00:00<00:00, 447909.40it/s]\n",
      "07/22/2022 03:54:29 PM WARNING: face_normals incorrect shape, ignoring! \n"
     ]
    },
    {
     "name": "stdout",
     "output_type": "stream",
     "text": [
      "Warning: deduplication not currently supported for this layer's variable layered draco meshes\n"
     ]
    },
    {
     "name": "stderr",
     "output_type": "stream",
     "text": [
      "100%|██████████| 4826/4826 [00:00<00:00, 562207.29it/s]\n",
      "07/22/2022 03:54:30 PM WARNING: face_normals incorrect shape, ignoring! \n"
     ]
    },
    {
     "name": "stdout",
     "output_type": "stream",
     "text": [
      "Warning: deduplication not currently supported for this layer's variable layered draco meshes\n"
     ]
    },
    {
     "name": "stderr",
     "output_type": "stream",
     "text": [
      "100%|██████████| 1973/1973 [00:00<00:00, 512247.71it/s]\n",
      "07/22/2022 03:54:44 PM WARNING: face_normals incorrect shape, ignoring! \n"
     ]
    },
    {
     "name": "stdout",
     "output_type": "stream",
     "text": [
      "Warning: deduplication not currently supported for this layer's variable layered draco meshes\n"
     ]
    },
    {
     "name": "stderr",
     "output_type": "stream",
     "text": [
      "100%|██████████| 187763/187763 [00:06<00:00, 27341.48it/s]\n",
      "07/22/2022 03:55:17 PM WARNING: face_normals incorrect shape, ignoring! \n"
     ]
    },
    {
     "name": "stdout",
     "output_type": "stream",
     "text": [
      "Warning: deduplication not currently supported for this layer's variable layered draco meshes\n"
     ]
    },
    {
     "name": "stderr",
     "output_type": "stream",
     "text": [
      "100%|██████████| 485/485 [00:00<00:00, 215058.40it/s]\n",
      "07/22/2022 03:55:21 PM WARNING: face_normals incorrect shape, ignoring! \n"
     ]
    },
    {
     "name": "stdout",
     "output_type": "stream",
     "text": [
      "Warning: deduplication not currently supported for this layer's variable layered draco meshes\n"
     ]
    },
    {
     "name": "stderr",
     "output_type": "stream",
     "text": [
      "100%|██████████| 37232/37232 [00:00<00:00, 244717.14it/s]\n",
      "07/22/2022 03:55:26 PM WARNING: face_normals incorrect shape, ignoring! \n"
     ]
    },
    {
     "name": "stdout",
     "output_type": "stream",
     "text": [
      "Warning: deduplication not currently supported for this layer's variable layered draco meshes\n"
     ]
    },
    {
     "name": "stderr",
     "output_type": "stream",
     "text": [
      "100%|██████████| 2640/2640 [00:00<00:00, 383558.92it/s]\n",
      "07/22/2022 03:55:28 PM WARNING: face_normals incorrect shape, ignoring! \n"
     ]
    },
    {
     "name": "stdout",
     "output_type": "stream",
     "text": [
      "Warning: deduplication not currently supported for this layer's variable layered draco meshes\n"
     ]
    },
    {
     "name": "stderr",
     "output_type": "stream",
     "text": [
      "100%|██████████| 5980/5980 [00:00<00:00, 475243.72it/s]\n",
      "07/22/2022 03:55:30 PM WARNING: face_normals incorrect shape, ignoring! \n"
     ]
    },
    {
     "name": "stdout",
     "output_type": "stream",
     "text": [
      "Warning: deduplication not currently supported for this layer's variable layered draco meshes\n"
     ]
    },
    {
     "name": "stderr",
     "output_type": "stream",
     "text": [
      "100%|██████████| 7616/7616 [00:00<00:00, 509535.81it/s]\n",
      "07/22/2022 03:55:31 PM WARNING: face_normals incorrect shape, ignoring! \n"
     ]
    },
    {
     "name": "stdout",
     "output_type": "stream",
     "text": [
      "Warning: deduplication not currently supported for this layer's variable layered draco meshes\n"
     ]
    },
    {
     "name": "stderr",
     "output_type": "stream",
     "text": [
      "100%|██████████| 1211/1211 [00:00<00:00, 418876.97it/s]\n",
      "07/22/2022 03:55:33 PM WARNING: face_normals incorrect shape, ignoring! \n"
     ]
    },
    {
     "name": "stdout",
     "output_type": "stream",
     "text": [
      "Warning: deduplication not currently supported for this layer's variable layered draco meshes\n"
     ]
    },
    {
     "name": "stderr",
     "output_type": "stream",
     "text": [
      "100%|██████████| 1359/1359 [00:00<00:00, 399611.55it/s]\n",
      "07/22/2022 03:55:34 PM WARNING: face_normals incorrect shape, ignoring! \n"
     ]
    },
    {
     "name": "stdout",
     "output_type": "stream",
     "text": [
      "Warning: deduplication not currently supported for this layer's variable layered draco meshes\n"
     ]
    },
    {
     "name": "stderr",
     "output_type": "stream",
     "text": [
      "100%|██████████| 11308/11308 [00:00<00:00, 593599.45it/s]\n",
      "07/22/2022 03:55:37 PM WARNING: face_normals incorrect shape, ignoring! \n"
     ]
    },
    {
     "name": "stdout",
     "output_type": "stream",
     "text": [
      "Warning: deduplication not currently supported for this layer's variable layered draco meshes\n"
     ]
    },
    {
     "name": "stderr",
     "output_type": "stream",
     "text": [
      "100%|██████████| 191/191 [00:00<00:00, 111513.37it/s]\n",
      "07/22/2022 03:55:38 PM WARNING: face_normals incorrect shape, ignoring! \n"
     ]
    },
    {
     "name": "stdout",
     "output_type": "stream",
     "text": [
      "Warning: deduplication not currently supported for this layer's variable layered draco meshes\n"
     ]
    },
    {
     "name": "stderr",
     "output_type": "stream",
     "text": [
      "100%|██████████| 105/105 [00:00<00:00, 53195.06it/s]\n",
      "07/22/2022 03:55:39 PM WARNING: face_normals incorrect shape, ignoring! \n"
     ]
    },
    {
     "name": "stdout",
     "output_type": "stream",
     "text": [
      "Warning: deduplication not currently supported for this layer's variable layered draco meshes\n"
     ]
    },
    {
     "name": "stderr",
     "output_type": "stream",
     "text": [
      "100%|██████████| 7685/7685 [00:00<00:00, 356199.73it/s]\n",
      "07/22/2022 03:55:42 PM WARNING: face_normals incorrect shape, ignoring! \n"
     ]
    },
    {
     "name": "stdout",
     "output_type": "stream",
     "text": [
      "Warning: deduplication not currently supported for this layer's variable layered draco meshes\n"
     ]
    },
    {
     "name": "stderr",
     "output_type": "stream",
     "text": [
      "100%|██████████| 6048/6048 [00:00<00:00, 606376.41it/s]\n",
      "07/22/2022 03:55:44 PM WARNING: face_normals incorrect shape, ignoring! \n"
     ]
    },
    {
     "name": "stdout",
     "output_type": "stream",
     "text": [
      "Warning: deduplication not currently supported for this layer's variable layered draco meshes\n"
     ]
    },
    {
     "name": "stderr",
     "output_type": "stream",
     "text": [
      "100%|██████████| 6896/6896 [00:00<00:00, 505645.26it/s]\n",
      "07/22/2022 03:55:45 PM WARNING: face_normals incorrect shape, ignoring! \n"
     ]
    },
    {
     "name": "stdout",
     "output_type": "stream",
     "text": [
      "Warning: deduplication not currently supported for this layer's variable layered draco meshes\n"
     ]
    },
    {
     "name": "stderr",
     "output_type": "stream",
     "text": [
      "100%|██████████| 2858/2858 [00:00<00:00, 575732.23it/s]\n",
      "07/22/2022 03:55:47 PM WARNING: face_normals incorrect shape, ignoring! \n"
     ]
    },
    {
     "name": "stdout",
     "output_type": "stream",
     "text": [
      "Warning: deduplication not currently supported for this layer's variable layered draco meshes\n"
     ]
    },
    {
     "name": "stderr",
     "output_type": "stream",
     "text": [
      "100%|██████████| 4775/4775 [00:00<00:00, 437948.04it/s]\n",
      "07/22/2022 03:55:48 PM WARNING: face_normals incorrect shape, ignoring! \n"
     ]
    },
    {
     "name": "stdout",
     "output_type": "stream",
     "text": [
      "Warning: deduplication not currently supported for this layer's variable layered draco meshes\n"
     ]
    },
    {
     "name": "stderr",
     "output_type": "stream",
     "text": [
      "100%|██████████| 1010/1010 [00:00<00:00, 286620.23it/s]\n",
      "07/22/2022 03:55:50 PM WARNING: face_normals incorrect shape, ignoring! \n"
     ]
    },
    {
     "name": "stdout",
     "output_type": "stream",
     "text": [
      "Warning: deduplication not currently supported for this layer's variable layered draco meshes\n"
     ]
    },
    {
     "name": "stderr",
     "output_type": "stream",
     "text": [
      "100%|██████████| 8895/8895 [00:00<00:00, 561230.13it/s]\n",
      "07/22/2022 03:55:52 PM WARNING: face_normals incorrect shape, ignoring! \n"
     ]
    },
    {
     "name": "stdout",
     "output_type": "stream",
     "text": [
      "Warning: deduplication not currently supported for this layer's variable layered draco meshes\n",
      "\n",
      "\n",
      "Seg 864691132747855184 returned error on get. Skipping.\n",
      "\n"
     ]
    },
    {
     "name": "stderr",
     "output_type": "stream",
     "text": [
      "07/22/2022 03:55:58 PM WARNING: face_normals incorrect shape, ignoring! \n"
     ]
    },
    {
     "name": "stdout",
     "output_type": "stream",
     "text": [
      "Warning: deduplication not currently supported for this layer's variable layered draco meshes\n"
     ]
    },
    {
     "name": "stderr",
     "output_type": "stream",
     "text": [
      "100%|██████████| 126419/126419 [00:00<00:00, 263504.58it/s]\n",
      "07/22/2022 03:56:13 PM WARNING: face_normals incorrect shape, ignoring! \n"
     ]
    },
    {
     "name": "stdout",
     "output_type": "stream",
     "text": [
      "Warning: deduplication not currently supported for this layer's variable layered draco meshes\n"
     ]
    },
    {
     "name": "stderr",
     "output_type": "stream",
     "text": [
      "100%|██████████| 22194/22194 [00:00<00:00, 357317.61it/s]\n",
      "07/22/2022 03:56:18 PM WARNING: face_normals incorrect shape, ignoring! \n"
     ]
    },
    {
     "name": "stdout",
     "output_type": "stream",
     "text": [
      "Warning: deduplication not currently supported for this layer's variable layered draco meshes\n"
     ]
    },
    {
     "name": "stderr",
     "output_type": "stream",
     "text": [
      "100%|██████████| 33346/33346 [00:00<00:00, 436328.21it/s]\n",
      "07/22/2022 03:56:23 PM WARNING: face_normals incorrect shape, ignoring! \n"
     ]
    },
    {
     "name": "stdout",
     "output_type": "stream",
     "text": [
      "Warning: deduplication not currently supported for this layer's variable layered draco meshes\n"
     ]
    },
    {
     "name": "stderr",
     "output_type": "stream",
     "text": [
      "100%|██████████| 22364/22364 [00:00<00:00, 462465.50it/s]\n",
      "07/22/2022 03:56:26 PM WARNING: face_normals incorrect shape, ignoring! \n"
     ]
    },
    {
     "name": "stdout",
     "output_type": "stream",
     "text": [
      "Warning: deduplication not currently supported for this layer's variable layered draco meshes\n"
     ]
    },
    {
     "name": "stderr",
     "output_type": "stream",
     "text": [
      "100%|██████████| 152/152 [00:00<00:00, 91665.59it/s]\n",
      "07/22/2022 03:56:27 PM WARNING: face_normals incorrect shape, ignoring! \n"
     ]
    },
    {
     "name": "stdout",
     "output_type": "stream",
     "text": [
      "Warning: deduplication not currently supported for this layer's variable layered draco meshes\n"
     ]
    },
    {
     "name": "stderr",
     "output_type": "stream",
     "text": [
      "100%|██████████| 5763/5763 [00:00<00:00, 714908.58it/s]\n",
      "07/22/2022 03:56:29 PM WARNING: face_normals incorrect shape, ignoring! \n"
     ]
    },
    {
     "name": "stdout",
     "output_type": "stream",
     "text": [
      "Warning: deduplication not currently supported for this layer's variable layered draco meshes\n",
      "\n",
      "\n",
      "Seg 864691136347887475 returned error on get. Skipping.\n",
      "\n"
     ]
    },
    {
     "name": "stderr",
     "output_type": "stream",
     "text": [
      "07/22/2022 03:56:30 PM WARNING: face_normals incorrect shape, ignoring! \n"
     ]
    },
    {
     "name": "stdout",
     "output_type": "stream",
     "text": [
      "Warning: deduplication not currently supported for this layer's variable layered draco meshes\n"
     ]
    },
    {
     "name": "stderr",
     "output_type": "stream",
     "text": [
      "100%|██████████| 1905/1905 [00:00<00:00, 447702.65it/s]\n",
      "07/22/2022 03:56:31 PM WARNING: face_normals incorrect shape, ignoring! \n"
     ]
    },
    {
     "name": "stdout",
     "output_type": "stream",
     "text": [
      "Warning: deduplication not currently supported for this layer's variable layered draco meshes\n"
     ]
    },
    {
     "name": "stderr",
     "output_type": "stream",
     "text": [
      "100%|██████████| 138/138 [00:00<00:00, 77693.15it/s]\n",
      "07/22/2022 03:56:33 PM WARNING: face_normals incorrect shape, ignoring! \n"
     ]
    },
    {
     "name": "stdout",
     "output_type": "stream",
     "text": [
      "Warning: deduplication not currently supported for this layer's variable layered draco meshes\n"
     ]
    },
    {
     "name": "stderr",
     "output_type": "stream",
     "text": [
      "100%|██████████| 11909/11909 [00:00<00:00, 553652.41it/s]\n",
      "07/22/2022 03:56:35 PM WARNING: face_normals incorrect shape, ignoring! \n"
     ]
    },
    {
     "name": "stdout",
     "output_type": "stream",
     "text": [
      "Warning: deduplication not currently supported for this layer's variable layered draco meshes\n",
      "\n",
      "\n",
      "Seg 864691133525367772 returned error on get. Skipping.\n",
      "\n"
     ]
    },
    {
     "name": "stderr",
     "output_type": "stream",
     "text": [
      "07/22/2022 03:56:41 PM WARNING: face_normals incorrect shape, ignoring! \n"
     ]
    },
    {
     "name": "stdout",
     "output_type": "stream",
     "text": [
      "Warning: deduplication not currently supported for this layer's variable layered draco meshes\n"
     ]
    },
    {
     "name": "stderr",
     "output_type": "stream",
     "text": [
      "100%|██████████| 120275/120275 [00:00<00:00, 212468.05it/s]\n",
      "07/22/2022 03:57:00 PM WARNING: face_normals incorrect shape, ignoring! \n"
     ]
    },
    {
     "name": "stdout",
     "output_type": "stream",
     "text": [
      "Warning: deduplication not currently supported for this layer's variable layered draco meshes\n"
     ]
    },
    {
     "name": "stderr",
     "output_type": "stream",
     "text": [
      "100%|██████████| 202161/202161 [00:01<00:00, 174448.46it/s]\n",
      "07/22/2022 03:57:22 PM WARNING: face_normals incorrect shape, ignoring! \n"
     ]
    },
    {
     "name": "stdout",
     "output_type": "stream",
     "text": [
      "Warning: deduplication not currently supported for this layer's variable layered draco meshes\n"
     ]
    },
    {
     "name": "stderr",
     "output_type": "stream",
     "text": [
      "100%|██████████| 194/194 [00:00<00:00, 104749.61it/s]\n",
      "07/22/2022 03:57:24 PM WARNING: face_normals incorrect shape, ignoring! \n"
     ]
    },
    {
     "name": "stdout",
     "output_type": "stream",
     "text": [
      "Warning: deduplication not currently supported for this layer's variable layered draco meshes\n"
     ]
    },
    {
     "name": "stderr",
     "output_type": "stream",
     "text": [
      "100%|██████████| 128/128 [00:00<00:00, 58693.66it/s]\n",
      "07/22/2022 03:57:25 PM WARNING: face_normals incorrect shape, ignoring! \n"
     ]
    },
    {
     "name": "stdout",
     "output_type": "stream",
     "text": [
      "Warning: deduplication not currently supported for this layer's variable layered draco meshes\n"
     ]
    },
    {
     "name": "stderr",
     "output_type": "stream",
     "text": [
      "100%|██████████| 266/266 [00:00<00:00, 135365.79it/s]\n",
      "07/22/2022 03:57:26 PM WARNING: face_normals incorrect shape, ignoring! \n"
     ]
    },
    {
     "name": "stdout",
     "output_type": "stream",
     "text": [
      "Warning: deduplication not currently supported for this layer's variable layered draco meshes\n"
     ]
    },
    {
     "name": "stderr",
     "output_type": "stream",
     "text": [
      "100%|██████████| 1532/1532 [00:00<00:00, 459633.31it/s]\n",
      "07/22/2022 03:57:28 PM WARNING: face_normals incorrect shape, ignoring! \n"
     ]
    },
    {
     "name": "stdout",
     "output_type": "stream",
     "text": [
      "Warning: deduplication not currently supported for this layer's variable layered draco meshes\n"
     ]
    },
    {
     "name": "stderr",
     "output_type": "stream",
     "text": [
      "100%|██████████| 2876/2876 [00:00<00:00, 549784.34it/s]\n",
      "07/22/2022 03:57:30 PM WARNING: face_normals incorrect shape, ignoring! \n"
     ]
    },
    {
     "name": "stdout",
     "output_type": "stream",
     "text": [
      "Warning: deduplication not currently supported for this layer's variable layered draco meshes\n"
     ]
    },
    {
     "name": "stderr",
     "output_type": "stream",
     "text": [
      "100%|██████████| 4484/4484 [00:00<00:00, 399491.46it/s]\n",
      "07/22/2022 03:57:32 PM WARNING: face_normals incorrect shape, ignoring! \n"
     ]
    },
    {
     "name": "stdout",
     "output_type": "stream",
     "text": [
      "Warning: deduplication not currently supported for this layer's variable layered draco meshes\n"
     ]
    },
    {
     "name": "stderr",
     "output_type": "stream",
     "text": [
      "100%|██████████| 13121/13121 [00:00<00:00, 512917.31it/s]\n",
      "07/22/2022 03:57:34 PM WARNING: face_normals incorrect shape, ignoring! \n"
     ]
    },
    {
     "name": "stdout",
     "output_type": "stream",
     "text": [
      "Warning: deduplication not currently supported for this layer's variable layered draco meshes\n"
     ]
    },
    {
     "name": "stderr",
     "output_type": "stream",
     "text": [
      "100%|██████████| 1758/1758 [00:00<00:00, 461166.20it/s]\n",
      "07/22/2022 03:57:35 PM WARNING: face_normals incorrect shape, ignoring! \n"
     ]
    },
    {
     "name": "stdout",
     "output_type": "stream",
     "text": [
      "Warning: deduplication not currently supported for this layer's variable layered draco meshes\n",
      "\n",
      "\n",
      "Seg 864691132647441812 returned error on get. Skipping.\n",
      "\n"
     ]
    },
    {
     "name": "stderr",
     "output_type": "stream",
     "text": [
      "07/22/2022 03:57:37 PM WARNING: face_normals incorrect shape, ignoring! \n"
     ]
    },
    {
     "name": "stdout",
     "output_type": "stream",
     "text": [
      "Warning: deduplication not currently supported for this layer's variable layered draco meshes\n"
     ]
    },
    {
     "name": "stderr",
     "output_type": "stream",
     "text": [
      "100%|██████████| 20125/20125 [00:00<00:00, 366208.68it/s]\n",
      "07/22/2022 03:57:42 PM WARNING: face_normals incorrect shape, ignoring! \n"
     ]
    },
    {
     "name": "stdout",
     "output_type": "stream",
     "text": [
      "Warning: deduplication not currently supported for this layer's variable layered draco meshes\n"
     ]
    },
    {
     "name": "stderr",
     "output_type": "stream",
     "text": [
      "100%|██████████| 11410/11410 [00:00<00:00, 800137.24it/s]\n",
      "07/22/2022 03:57:45 PM WARNING: face_normals incorrect shape, ignoring! \n"
     ]
    },
    {
     "name": "stdout",
     "output_type": "stream",
     "text": [
      "Warning: deduplication not currently supported for this layer's variable layered draco meshes\n"
     ]
    },
    {
     "name": "stderr",
     "output_type": "stream",
     "text": [
      "100%|██████████| 15601/15601 [00:00<00:00, 637373.73it/s]\n",
      "07/22/2022 03:57:48 PM WARNING: face_normals incorrect shape, ignoring! \n"
     ]
    },
    {
     "name": "stdout",
     "output_type": "stream",
     "text": [
      "Warning: deduplication not currently supported for this layer's variable layered draco meshes\n",
      "\n",
      "\n",
      "Seg 864691136597387729 returned error on get. Skipping.\n",
      "\n"
     ]
    },
    {
     "name": "stderr",
     "output_type": "stream",
     "text": [
      "07/22/2022 03:57:50 PM WARNING: face_normals incorrect shape, ignoring! \n"
     ]
    },
    {
     "name": "stdout",
     "output_type": "stream",
     "text": [
      "Warning: deduplication not currently supported for this layer's variable layered draco meshes\n"
     ]
    },
    {
     "name": "stderr",
     "output_type": "stream",
     "text": [
      "100%|██████████| 13348/13348 [00:00<00:00, 535286.07it/s]\n",
      "07/22/2022 03:57:53 PM WARNING: face_normals incorrect shape, ignoring! \n"
     ]
    },
    {
     "name": "stdout",
     "output_type": "stream",
     "text": [
      "Warning: deduplication not currently supported for this layer's variable layered draco meshes\n"
     ]
    },
    {
     "name": "stderr",
     "output_type": "stream",
     "text": [
      "100%|██████████| 2543/2543 [00:00<00:00, 475592.59it/s]\n",
      "07/22/2022 03:57:56 PM WARNING: face_normals incorrect shape, ignoring! \n"
     ]
    },
    {
     "name": "stdout",
     "output_type": "stream",
     "text": [
      "Warning: deduplication not currently supported for this layer's variable layered draco meshes\n"
     ]
    },
    {
     "name": "stderr",
     "output_type": "stream",
     "text": [
      "100%|██████████| 13258/13258 [00:00<00:00, 548284.22it/s]\n",
      "07/22/2022 03:57:59 PM WARNING: face_normals incorrect shape, ignoring! \n"
     ]
    },
    {
     "name": "stdout",
     "output_type": "stream",
     "text": [
      "Warning: deduplication not currently supported for this layer's variable layered draco meshes\n"
     ]
    },
    {
     "name": "stderr",
     "output_type": "stream",
     "text": [
      "100%|██████████| 9618/9618 [00:00<00:00, 718498.48it/s]\n",
      "07/22/2022 03:58:04 PM WARNING: face_normals incorrect shape, ignoring! \n"
     ]
    },
    {
     "name": "stdout",
     "output_type": "stream",
     "text": [
      "Warning: deduplication not currently supported for this layer's variable layered draco meshes\n"
     ]
    },
    {
     "name": "stderr",
     "output_type": "stream",
     "text": [
      "100%|██████████| 38734/38734 [00:00<00:00, 194500.49it/s]\n",
      "07/22/2022 03:58:09 PM WARNING: face_normals incorrect shape, ignoring! \n"
     ]
    },
    {
     "name": "stdout",
     "output_type": "stream",
     "text": [
      "Warning: deduplication not currently supported for this layer's variable layered draco meshes\n"
     ]
    },
    {
     "name": "stderr",
     "output_type": "stream",
     "text": [
      "100%|██████████| 811/811 [00:00<00:00, 277816.12it/s]\n",
      "07/22/2022 03:58:10 PM WARNING: face_normals incorrect shape, ignoring! \n"
     ]
    },
    {
     "name": "stdout",
     "output_type": "stream",
     "text": [
      "Warning: deduplication not currently supported for this layer's variable layered draco meshes\n"
     ]
    },
    {
     "name": "stderr",
     "output_type": "stream",
     "text": [
      "100%|██████████| 9313/9313 [00:00<00:00, 438814.97it/s]\n"
     ]
    }
   ],
   "source": [
    "for idx, i in enumerate(load['seg_id']):\n",
    "    #if idx==10:\n",
    "        #break\n",
    "    try:\n",
    "        t1, skel, mesh_obj = tip_finder_decimation(str(i))\n",
    "        endpoints_dict[i] = t1\n",
    "    except:\n",
    "        print(f\"\\n\\nSeg {i} returned error on get. Skipping.\\n\")\n",
    "        pass\n",
    "\n",
    "load['endpoints'] = load['endpoints'].apply(lambda x: list(ast.literal_eval(x)))\n",
    "load['proposed_endpoints'] = load.seg_id.map(endpoints_dict)"
   ]
  },
  {
   "cell_type": "code",
   "execution_count": 11,
   "metadata": {},
   "outputs": [
    {
     "data": {
      "text/html": [
       "<div>\n",
       "<style scoped>\n",
       "    .dataframe tbody tr th:only-of-type {\n",
       "        vertical-align: middle;\n",
       "    }\n",
       "\n",
       "    .dataframe tbody tr th {\n",
       "        vertical-align: top;\n",
       "    }\n",
       "\n",
       "    .dataframe thead th {\n",
       "        text-align: right;\n",
       "    }\n",
       "</style>\n",
       "<table border=\"1\" class=\"dataframe\">\n",
       "  <thead>\n",
       "    <tr style=\"text-align: right;\">\n",
       "      <th></th>\n",
       "      <th>neuron</th>\n",
       "      <th>ng_link</th>\n",
       "      <th>seg_id</th>\n",
       "      <th>pink_pts</th>\n",
       "      <th>num_endpoints</th>\n",
       "      <th>endpoints</th>\n",
       "      <th>comments</th>\n",
       "      <th>detailed_comments</th>\n",
       "      <th>proposed_endpoints</th>\n",
       "    </tr>\n",
       "  </thead>\n",
       "  <tbody>\n",
       "    <tr>\n",
       "      <th>0</th>\n",
       "      <td>8.646911e+17</td>\n",
       "      <td>https://neuroglancer.neuvue.io/?json_url=https...</td>\n",
       "      <td>864691135909994000</td>\n",
       "      <td>(402188, 228684, 24029)</td>\n",
       "      <td>2</td>\n",
       "      <td>[(402584, 228856, 23991), (402985, 229235, 235...</td>\n",
       "      <td>NaN</td>\n",
       "      <td>NaN</td>\n",
       "      <td>[(402567, 228758, 23991), (402990, 229222, 235...</td>\n",
       "    </tr>\n",
       "    <tr>\n",
       "      <th>1</th>\n",
       "      <td>NaN</td>\n",
       "      <td>NaN</td>\n",
       "      <td>864691135247440303</td>\n",
       "      <td>(401258, 224832, 24029)</td>\n",
       "      <td>3</td>\n",
       "      <td>[(401612, 224623, 23991), (405257, 226318, 236...</td>\n",
       "      <td>NaN</td>\n",
       "      <td>NaN</td>\n",
       "      <td>[(401467, 224644, 23990), (405021, 226754, 236...</td>\n",
       "    </tr>\n",
       "    <tr>\n",
       "      <th>2</th>\n",
       "      <td>NaN</td>\n",
       "      <td>NaN</td>\n",
       "      <td>864691134794123793</td>\n",
       "      <td>(401314, 228366, 24424)</td>\n",
       "      <td>2</td>\n",
       "      <td>[(401242, 228382, 24444), (400982, 228457, 245...</td>\n",
       "      <td>NaN</td>\n",
       "      <td>NaN</td>\n",
       "      <td>[(400269, 228563, 24514), (400319, 228912, 245...</td>\n",
       "    </tr>\n",
       "    <tr>\n",
       "      <th>3</th>\n",
       "      <td>NaN</td>\n",
       "      <td>NaN</td>\n",
       "      <td>864691134959738482</td>\n",
       "      <td>(400199, 220721, 24029)</td>\n",
       "      <td>7</td>\n",
       "      <td>[(401289, 218721, 23991), (399895, 216533, 235...</td>\n",
       "      <td>NaN</td>\n",
       "      <td>NaN</td>\n",
       "      <td>[(400448, 220975, 24009), (401240, 217916, 240...</td>\n",
       "    </tr>\n",
       "    <tr>\n",
       "      <th>4</th>\n",
       "      <td>NaN</td>\n",
       "      <td>NaN</td>\n",
       "      <td>864691135314714227</td>\n",
       "      <td>(397870, 232292, 24004)</td>\n",
       "      <td>2</td>\n",
       "      <td>[(397867, 232230, 23999), (397854, 232252, 239...</td>\n",
       "      <td>NaN</td>\n",
       "      <td>NaN</td>\n",
       "      <td>[(397815, 232393, 23996), (397931, 232013, 240...</td>\n",
       "    </tr>\n",
       "    <tr>\n",
       "      <th>5</th>\n",
       "      <td>NaN</td>\n",
       "      <td>NaN</td>\n",
       "      <td>864691135552841025</td>\n",
       "      <td>(403272, 227529, 24394)</td>\n",
       "      <td>2</td>\n",
       "      <td>[(403332, 227545, 24398), (403566, 227614, 244...</td>\n",
       "      <td>NaN</td>\n",
       "      <td>NaN</td>\n",
       "      <td>[(403094, 227479, 24424), (403709, 227788, 244...</td>\n",
       "    </tr>\n",
       "    <tr>\n",
       "      <th>6</th>\n",
       "      <td>8.646911e+17</td>\n",
       "      <td>https://neuroglancer.neuvue.io/?json_url=https...</td>\n",
       "      <td>864691135516937065</td>\n",
       "      <td>(77233, 113188, 20454)</td>\n",
       "      <td>2</td>\n",
       "      <td>[(77262, 113088, 20442), (79178, 109116, 20402)]</td>\n",
       "      <td>NaN</td>\n",
       "      <td>NaN</td>\n",
       "      <td>[(77206, 113116, 20440), (79748, 109356, 20411)]</td>\n",
       "    </tr>\n",
       "    <tr>\n",
       "      <th>7</th>\n",
       "      <td>NaN</td>\n",
       "      <td>NaN</td>\n",
       "      <td>864691134406233920</td>\n",
       "      <td>(100382, 143836, 21642)</td>\n",
       "      <td>2</td>\n",
       "      <td>[(100475, 143982, 21654), (100583, 144194, 217...</td>\n",
       "      <td>NaN</td>\n",
       "      <td>NaN</td>\n",
       "      <td>[(100780, 144830, 21653), (100979, 144058, 216...</td>\n",
       "    </tr>\n",
       "    <tr>\n",
       "      <th>8</th>\n",
       "      <td>NaN</td>\n",
       "      <td>NaN</td>\n",
       "      <td>864691135516937065</td>\n",
       "      <td>(77233, 113188, 20454)</td>\n",
       "      <td>2</td>\n",
       "      <td>[(77262, 113088, 20442), (79178, 109116, 20402)]</td>\n",
       "      <td>d</td>\n",
       "      <td>same point as previous endpoint</td>\n",
       "      <td>[(77206, 113116, 20440), (79748, 109356, 20411)]</td>\n",
       "    </tr>\n",
       "    <tr>\n",
       "      <th>9</th>\n",
       "      <td>NaN</td>\n",
       "      <td>NaN</td>\n",
       "      <td>864691136080776044</td>\n",
       "      <td>(80699, 146603, 20732)</td>\n",
       "      <td>5</td>\n",
       "      <td>[(80890, 147158, 20708), (81592, 148549, 20453...</td>\n",
       "      <td>mm</td>\n",
       "      <td>NaN</td>\n",
       "      <td>[(80210, 147262, 20629), (80439, 146968, 20684...</td>\n",
       "    </tr>\n",
       "    <tr>\n",
       "      <th>10</th>\n",
       "      <td>NaN</td>\n",
       "      <td>NaN</td>\n",
       "      <td>864691134330810585</td>\n",
       "      <td>(72020, 146120, 20454)</td>\n",
       "      <td>2</td>\n",
       "      <td>[(71898, 146194, 20442), (71499, 146291, 20404)]</td>\n",
       "      <td>NaN</td>\n",
       "      <td>NaN</td>\n",
       "      <td>[(71395, 146316, 20403), (71940, 146124, 20442)]</td>\n",
       "    </tr>\n",
       "    <tr>\n",
       "      <th>11</th>\n",
       "      <td>NaN</td>\n",
       "      <td>NaN</td>\n",
       "      <td>864691135337564242</td>\n",
       "      <td>(78888, 144940, 20729)</td>\n",
       "      <td>5</td>\n",
       "      <td>[(78610, 145071, 20707), (75884, 143590, 20453...</td>\n",
       "      <td>NaN</td>\n",
       "      <td>NaN</td>\n",
       "      <td>[(75803, 143440, 20452), (77534, 146657, 20452...</td>\n",
       "    </tr>\n",
       "    <tr>\n",
       "      <th>12</th>\n",
       "      <td>NaN</td>\n",
       "      <td>NaN</td>\n",
       "      <td>864691135920135864</td>\n",
       "      <td>(77581, 107903, 21128)</td>\n",
       "      <td>2</td>\n",
       "      <td>[(77575, 107807, 21133), (77000, 99565, 21215)]</td>\n",
       "      <td>NaN</td>\n",
       "      <td>NaN</td>\n",
       "      <td>[(76778, 99747, 21202), (77302, 107840, 21215)]</td>\n",
       "    </tr>\n",
       "    <tr>\n",
       "      <th>13</th>\n",
       "      <td>NaN</td>\n",
       "      <td>NaN</td>\n",
       "      <td>864691135730780609</td>\n",
       "      <td>(79752, 135765, 21128)</td>\n",
       "      <td>3</td>\n",
       "      <td>[(79785, 135709, 21133), (84176, 127514, 21582...</td>\n",
       "      <td>NaN</td>\n",
       "      <td>NaN</td>\n",
       "      <td>[(79642, 135833, 21211), (81329, 134587, 21452...</td>\n",
       "    </tr>\n",
       "    <tr>\n",
       "      <th>14</th>\n",
       "      <td>NaN</td>\n",
       "      <td>NaN</td>\n",
       "      <td>864691135651129491</td>\n",
       "      <td>(81247, 106776, 21128)</td>\n",
       "      <td>2</td>\n",
       "      <td>[(81198, 106660, 21133), (88864, 99498, 20482)]</td>\n",
       "      <td>NaN</td>\n",
       "      <td>NaN</td>\n",
       "      <td>[(80832, 106311, 21175), (88840, 99473, 20480)]</td>\n",
       "    </tr>\n",
       "  </tbody>\n",
       "</table>\n",
       "</div>"
      ],
      "text/plain": [
       "          neuron                                            ng_link  \\\n",
       "0   8.646911e+17  https://neuroglancer.neuvue.io/?json_url=https...   \n",
       "1            NaN                                                NaN   \n",
       "2            NaN                                                NaN   \n",
       "3            NaN                                                NaN   \n",
       "4            NaN                                                NaN   \n",
       "5            NaN                                                NaN   \n",
       "6   8.646911e+17  https://neuroglancer.neuvue.io/?json_url=https...   \n",
       "7            NaN                                                NaN   \n",
       "8            NaN                                                NaN   \n",
       "9            NaN                                                NaN   \n",
       "10           NaN                                                NaN   \n",
       "11           NaN                                                NaN   \n",
       "12           NaN                                                NaN   \n",
       "13           NaN                                                NaN   \n",
       "14           NaN                                                NaN   \n",
       "\n",
       "                seg_id                 pink_pts  num_endpoints  \\\n",
       "0   864691135909994000  (402188, 228684, 24029)              2   \n",
       "1   864691135247440303  (401258, 224832, 24029)              3   \n",
       "2   864691134794123793  (401314, 228366, 24424)              2   \n",
       "3   864691134959738482  (400199, 220721, 24029)              7   \n",
       "4   864691135314714227  (397870, 232292, 24004)              2   \n",
       "5   864691135552841025  (403272, 227529, 24394)              2   \n",
       "6   864691135516937065   (77233, 113188, 20454)              2   \n",
       "7   864691134406233920  (100382, 143836, 21642)              2   \n",
       "8   864691135516937065   (77233, 113188, 20454)              2   \n",
       "9   864691136080776044   (80699, 146603, 20732)              5   \n",
       "10  864691134330810585   (72020, 146120, 20454)              2   \n",
       "11  864691135337564242   (78888, 144940, 20729)              5   \n",
       "12  864691135920135864   (77581, 107903, 21128)              2   \n",
       "13  864691135730780609   (79752, 135765, 21128)              3   \n",
       "14  864691135651129491   (81247, 106776, 21128)              2   \n",
       "\n",
       "                                            endpoints comments  \\\n",
       "0   [(402584, 228856, 23991), (402985, 229235, 235...      NaN   \n",
       "1   [(401612, 224623, 23991), (405257, 226318, 236...      NaN   \n",
       "2   [(401242, 228382, 24444), (400982, 228457, 245...      NaN   \n",
       "3   [(401289, 218721, 23991), (399895, 216533, 235...      NaN   \n",
       "4   [(397867, 232230, 23999), (397854, 232252, 239...      NaN   \n",
       "5   [(403332, 227545, 24398), (403566, 227614, 244...      NaN   \n",
       "6    [(77262, 113088, 20442), (79178, 109116, 20402)]      NaN   \n",
       "7   [(100475, 143982, 21654), (100583, 144194, 217...      NaN   \n",
       "8    [(77262, 113088, 20442), (79178, 109116, 20402)]        d   \n",
       "9   [(80890, 147158, 20708), (81592, 148549, 20453...       mm   \n",
       "10   [(71898, 146194, 20442), (71499, 146291, 20404)]      NaN   \n",
       "11  [(78610, 145071, 20707), (75884, 143590, 20453...      NaN   \n",
       "12    [(77575, 107807, 21133), (77000, 99565, 21215)]      NaN   \n",
       "13  [(79785, 135709, 21133), (84176, 127514, 21582...      NaN   \n",
       "14    [(81198, 106660, 21133), (88864, 99498, 20482)]      NaN   \n",
       "\n",
       "                  detailed_comments  \\\n",
       "0                               NaN   \n",
       "1                               NaN   \n",
       "2                               NaN   \n",
       "3                               NaN   \n",
       "4                               NaN   \n",
       "5                               NaN   \n",
       "6                               NaN   \n",
       "7                               NaN   \n",
       "8   same point as previous endpoint   \n",
       "9                               NaN   \n",
       "10                              NaN   \n",
       "11                              NaN   \n",
       "12                              NaN   \n",
       "13                              NaN   \n",
       "14                              NaN   \n",
       "\n",
       "                                   proposed_endpoints  \n",
       "0   [(402567, 228758, 23991), (402990, 229222, 235...  \n",
       "1   [(401467, 224644, 23990), (405021, 226754, 236...  \n",
       "2   [(400269, 228563, 24514), (400319, 228912, 245...  \n",
       "3   [(400448, 220975, 24009), (401240, 217916, 240...  \n",
       "4   [(397815, 232393, 23996), (397931, 232013, 240...  \n",
       "5   [(403094, 227479, 24424), (403709, 227788, 244...  \n",
       "6    [(77206, 113116, 20440), (79748, 109356, 20411)]  \n",
       "7   [(100780, 144830, 21653), (100979, 144058, 216...  \n",
       "8    [(77206, 113116, 20440), (79748, 109356, 20411)]  \n",
       "9   [(80210, 147262, 20629), (80439, 146968, 20684...  \n",
       "10   [(71395, 146316, 20403), (71940, 146124, 20442)]  \n",
       "11  [(75803, 143440, 20452), (77534, 146657, 20452...  \n",
       "12    [(76778, 99747, 21202), (77302, 107840, 21215)]  \n",
       "13  [(79642, 135833, 21211), (81329, 134587, 21452...  \n",
       "14    [(80832, 106311, 21175), (88840, 99473, 20480)]  "
      ]
     },
     "execution_count": 11,
     "metadata": {},
     "output_type": "execute_result"
    }
   ],
   "source": [
    "#correctly  have 2 collumns for the proposed vs gt endpoints\n",
    "load.head(15)"
   ]
  },
  {
   "cell_type": "code",
   "execution_count": 12,
   "metadata": {},
   "outputs": [],
   "source": [
    "\n",
    "def find_euclidian_distance(proposed_endpoint, gt_endponts_array):\n",
    "    smallest_distance = 2**30\n",
    "    for endpoint in gt_endponts_array:\n",
    "        difference = proposed_endpoint - endpoint\n",
    "        distance = np.sqrt(np.sum(np.square(difference)))\n",
    "        if(distance < smallest_distance):\n",
    "            smallest_distance = distance \n",
    "    return smallest_distance \n",
    "            \n",
    "    #could add endpoint to dict\n",
    "    \n",
    "     \n"
   ]
  },
  {
   "cell_type": "code",
   "execution_count": 2,
   "metadata": {},
   "outputs": [],
   "source": [
    "def get_recall(num_correct, array_endpoints): \n",
    "    recall = num_correct / len(array_endpoints)\n",
    "    return recall * 100"
   ]
  },
  {
   "cell_type": "code",
   "execution_count": 13,
   "metadata": {},
   "outputs": [],
   "source": [
    "def get_precision(num_correct, array_proposed): \n",
    "    precision = num_correct / len(array_proposed)\n",
    "    return precision * 100"
   ]
  },
  {
   "cell_type": "code",
   "execution_count": 14,
   "metadata": {},
   "outputs": [
    {
     "name": "stdout",
     "output_type": "stream",
     "text": [
      "Seg id: 864691135909994000\n",
      "Endpoint Array:\n",
      "[[402584 228856  23991]\n",
      " [402985 229235  23554]]\n",
      "\n",
      "Proposed Endpoint Array:\n",
      "[[402567 228758  23991]\n",
      " [402990 229222  23552]]\n",
      "\n",
      "99.46356116689167\n",
      "correct\n",
      "\n",
      "14.071247279470288\n",
      "correct\n",
      "\n",
      "recall = 100.0\n",
      "precision = 100.0\n",
      "\n",
      "\n",
      "NEXT POINTS\n",
      "Seg id: 864691135247440303\n",
      "Endpoint Array:\n",
      "[[401612 224623  23991]\n",
      " [405257 226318  23620]\n",
      " [409162 219642  23891]]\n",
      "\n",
      "Proposed Endpoint Array:\n",
      "[[401467 224644  23990]\n",
      " [405021 226754  23620]\n",
      " [409143 219355  23868]]\n",
      "\n",
      "146.5162107072115\n",
      "correct\n",
      "\n",
      "495.77414212522217\n",
      "correct\n",
      "\n",
      "288.54635676091976\n",
      "correct\n",
      "\n",
      "recall = 100.0\n",
      "precision = 100.0\n",
      "\n",
      "\n",
      "NEXT POINTS\n",
      "Seg id: 864691134794123793\n",
      "Endpoint Array:\n",
      "[[401242 228382  24444]\n",
      " [400982 228457  24513]]\n",
      "\n",
      "Proposed Endpoint Array:\n",
      "[[400269 228563  24514]\n",
      " [400319 228912  24514]]\n",
      "\n",
      "720.8370134780816\n",
      "wrong\n",
      "\n",
      "804.1113107026912\n",
      "wrong\n",
      "\n",
      "recall = 0.0\n",
      "precision = 0.0\n",
      "\n",
      "\n",
      "NEXT POINTS\n",
      "Seg id: 864691134959738482\n",
      "Endpoint Array:\n",
      "[[401289 218721  23991]\n",
      " [399895 216533  23526]\n",
      " [406366 215719  23621]\n",
      " [403940 210639  23991]\n",
      " [394569 213255  23991]\n",
      " [376682 175983  22020]\n",
      " [365111 191189  24020]]\n",
      "\n",
      "Proposed Endpoint Array:\n",
      "[[400448 220975  24009]\n",
      " [401240 217916  24008]]\n",
      "\n",
      "2405.851408545424\n",
      "wrong\n",
      "\n",
      "806.6690771313848\n",
      "wrong\n",
      "\n",
      "recall = 0.0\n",
      "precision = 0.0\n",
      "\n",
      "\n",
      "NEXT POINTS\n",
      "Seg id: 864691135314714227\n",
      "Endpoint Array:\n",
      "[[397867 232230  23999]\n",
      " [397854 232252  23997]]\n",
      "\n",
      "Proposed Endpoint Array:\n",
      "[[397815 232393  23996]\n",
      " [397931 232013  24000]]\n",
      "\n",
      "146.29764181284673\n",
      "correct\n",
      "\n",
      "226.24323194296886\n",
      "correct\n",
      "\n",
      "recall = 100.0\n",
      "precision = 100.0\n",
      "\n",
      "\n",
      "NEXT POINTS\n",
      "Seg id: 864691135552841025\n",
      "Endpoint Array:\n",
      "[[403332 227545  24398]\n",
      " [403566 227614  24425]]\n",
      "\n",
      "Proposed Endpoint Array:\n",
      "[[403094 227479  24424]\n",
      " [403709 227788  24419]]\n",
      "\n",
      "248.34653208772616\n",
      "correct\n",
      "\n",
      "225.30201952046502\n",
      "correct\n",
      "\n",
      "recall = 100.0\n",
      "precision = 100.0\n",
      "\n",
      "\n",
      "NEXT POINTS\n",
      "Seg id: 864691135516937065\n",
      "Endpoint Array:\n",
      "[[ 77262 113088  20442]\n",
      " [ 79178 109116  20402]]\n",
      "\n",
      "Proposed Endpoint Array:\n",
      "[[ 77206 113116  20440]\n",
      " [ 79748 109356  20411]]\n",
      "\n",
      "62.6418390534633\n",
      "correct\n",
      "\n",
      "618.5313249949431\n",
      "wrong\n",
      "\n",
      "recall = 50.0\n",
      "precision = 50.0\n",
      "\n",
      "\n",
      "NEXT POINTS\n",
      "Seg id: 864691134406233920\n",
      "Endpoint Array:\n",
      "[[100475 143982  21654]\n",
      " [100583 144194  21702]]\n",
      "\n",
      "Proposed Endpoint Array:\n",
      "[[100780 144830  21653]\n",
      " [100979 144058  21663]]\n",
      "\n",
      "667.6121628610432\n",
      "wrong\n",
      "\n",
      "420.5151602499011\n",
      "correct\n",
      "\n",
      "recall = 50.0\n",
      "precision = 50.0\n",
      "\n",
      "\n",
      "NEXT POINTS\n",
      "Seg id: 864691135516937065\n",
      "Endpoint Array:\n",
      "[[ 77262 113088  20442]\n",
      " [ 79178 109116  20402]]\n",
      "\n",
      "Proposed Endpoint Array:\n",
      "[[ 77206 113116  20440]\n",
      " [ 79748 109356  20411]]\n",
      "\n",
      "62.6418390534633\n",
      "correct\n",
      "\n",
      "618.5313249949431\n",
      "wrong\n",
      "\n",
      "recall = 50.0\n",
      "precision = 50.0\n",
      "\n",
      "\n",
      "NEXT POINTS\n",
      "Seg id: 864691136080776044\n",
      "Endpoint Array:\n",
      "[[ 80890 147158  20708]\n",
      " [ 81592 148549  20453]\n",
      " [ 81373 148139  20453]\n",
      " [ 83362 154016  20454]\n",
      " [ 83471 163193  20640]]\n",
      "\n",
      "Proposed Endpoint Array:\n",
      "[[ 80210 147262  20629]\n",
      " [ 80439 146968  20684]\n",
      " [ 80729 150065  20609]\n",
      " [ 80866 147820  20663]\n",
      " [ 81160 148320  20676]\n",
      " [ 81462 151688  20595]\n",
      " [ 81595 148672  20451]\n",
      " [ 81578 148607  20707]\n",
      " [ 81762 147911  20524]\n",
      " [ 82289 152365  20608]\n",
      " [ 82412 152104  20453]\n",
      " [ 83058 153105  20553]\n",
      " [ 83130 148039  20713]\n",
      " [ 83492 163185  20640]]\n",
      "\n",
      "skipping\n",
      "\n",
      "Seg id: 864691134330810585\n",
      "Endpoint Array:\n",
      "[[ 71898 146194  20442]\n",
      " [ 71499 146291  20404]]\n",
      "\n",
      "Proposed Endpoint Array:\n",
      "[[ 71395 146316  20403]\n",
      " [ 71940 146124  20442]]\n",
      "\n",
      "106.96728471827262\n",
      "correct\n",
      "\n",
      "81.6333265278342\n",
      "correct\n",
      "\n",
      "recall = 100.0\n",
      "precision = 100.0\n",
      "\n",
      "\n",
      "NEXT POINTS\n",
      "Seg id: 864691135337564242\n",
      "Endpoint Array:\n",
      "[[ 78610 145071  20707]\n",
      " [ 75884 143590  20453]\n",
      " [ 78226 151636  19714]\n",
      " [ 66549 151567  19790]\n",
      " [ 78090 150130  20388]]\n",
      "\n",
      "Proposed Endpoint Array:\n",
      "[[ 75803 143440  20452]\n",
      " [ 77534 146657  20452]\n",
      " [ 78650 144989  20707]]\n",
      "\n",
      "170.47580473486553\n",
      "correct\n",
      "\n",
      "1933.4417498337\n",
      "wrong\n",
      "\n",
      "91.23595782365635\n",
      "correct\n",
      "\n",
      "recall = 40.0\n",
      "precision = 66.66666666666666\n",
      "\n",
      "\n",
      "NEXT POINTS\n",
      "Seg id: 864691135920135864\n",
      "Endpoint Array:\n",
      "[[ 77575 107807  21133]\n",
      " [ 77000  99565  21215]]\n",
      "\n",
      "Proposed Endpoint Array:\n",
      "[[ 76778  99747  21202]\n",
      " [ 77302 107840  21215]]\n",
      "\n",
      "287.36214086062205\n",
      "correct\n",
      "\n",
      "286.9529578171307\n",
      "correct\n",
      "\n",
      "recall = 100.0\n",
      "precision = 100.0\n",
      "\n",
      "\n",
      "NEXT POINTS\n",
      "Seg id: 864691135730780609\n",
      "Endpoint Array:\n",
      "[[ 79785 135709  21133]\n",
      " [ 84176 127514  21582]\n",
      " [ 80523 134733  21498]]\n",
      "\n",
      "Proposed Endpoint Array:\n",
      "[[ 79642 135833  21211]\n",
      " [ 81329 134587  21452]\n",
      " [ 84330 127313  21582]]\n",
      "\n",
      "204.71687766278578\n",
      "correct\n",
      "\n",
      "820.4072159604643\n",
      "wrong\n",
      "\n",
      "253.21334877924585\n",
      "correct\n",
      "\n",
      "recall = 66.66666666666666\n",
      "precision = 66.66666666666666\n",
      "\n",
      "\n",
      "NEXT POINTS\n",
      "Seg id: 864691135651129491\n",
      "Endpoint Array:\n",
      "[[ 81198 106660  21133]\n",
      " [ 88864  99498  20482]]\n",
      "\n",
      "Proposed Endpoint Array:\n",
      "[[ 80832 106311  21175]\n",
      " [ 88840  99473  20480]]\n",
      "\n",
      "507.46526974759564\n",
      "wrong\n",
      "\n",
      "34.713109915419565\n",
      "correct\n",
      "\n",
      "recall = 50.0\n",
      "precision = 50.0\n",
      "\n",
      "\n",
      "NEXT POINTS\n",
      "Seg id: 864691133692934758\n",
      "Endpoint Array:\n",
      "[[ 77826 139204  21137]\n",
      " [ 77790 139215  21140]]\n",
      "\n",
      "Proposed Endpoint Array:\n",
      "nan\n",
      "\n",
      "no proposed endpoints found, but ground truth endpoints exist\n",
      "\n",
      "NEXT POINTS\n",
      "Seg id: 864691133097965890\n",
      "Endpoint Array:\n",
      "[[ 79165 133413  20708]\n",
      " [ 79077 133479  20677]]\n",
      "\n",
      "Proposed Endpoint Array:\n",
      "[[ 79031 133454  20675]\n",
      " [ 79163 133437  20707]]\n",
      "\n",
      "52.392747589718944\n",
      "correct\n",
      "\n",
      "24.1039415863879\n",
      "correct\n",
      "\n",
      "recall = 100.0\n",
      "precision = 100.0\n",
      "\n",
      "\n",
      "NEXT POINTS\n",
      "Seg id: 864691134918217423\n",
      "Endpoint Array:\n",
      "[[ 75409 116393  21135]\n",
      " [ 74841 116076  21217]]\n",
      "\n",
      "Proposed Endpoint Array:\n",
      "[[ 74979 116567  21178]\n",
      " [ 75844 115967  21151]]\n",
      "\n",
      "465.8594208556912\n",
      "correct\n",
      "\n",
      "609.0623941764916\n",
      "wrong\n",
      "\n",
      "recall = 50.0\n",
      "precision = 50.0\n",
      "\n",
      "\n",
      "NEXT POINTS\n",
      "Seg id: 864691133946526057\n",
      "Endpoint Array:\n",
      "[ 82311 143111  20720]\n",
      "\n",
      "Proposed Endpoint Array:\n",
      "nan\n",
      "\n",
      "skipping\n",
      "\n",
      "Seg id: 864691133712131152\n",
      "Endpoint Array:\n",
      "[[ 84508 142994  20724]\n",
      " [ 84551 142973  20722]]\n",
      "\n",
      "Proposed Endpoint Array:\n",
      "nan\n",
      "\n",
      "no proposed endpoints found, but ground truth endpoints exist\n",
      "\n",
      "NEXT POINTS\n",
      "Seg id: 864691135559405139\n",
      "Endpoint Array:\n",
      "[[212020 200330  23231]\n",
      " [212535 200478  23228]]\n",
      "\n",
      "Proposed Endpoint Array:\n",
      "[[212056 200330  23230]\n",
      " [212512 200469  23225]]\n",
      "\n",
      "36.013886210738214\n",
      "correct\n",
      "\n",
      "24.879710609249457\n",
      "correct\n",
      "\n",
      "recall = 100.0\n",
      "precision = 100.0\n",
      "\n",
      "\n",
      "NEXT POINTS\n",
      "Seg id: 864691135537360703\n",
      "Endpoint Array:\n",
      "[[167695 211664  20725]\n",
      " [145921 225039  22976]]\n",
      "\n",
      "Proposed Endpoint Array:\n",
      "[[145718 224993  22957]\n",
      " [147843 224023  22885]\n",
      " [152766 222078  22418]\n",
      " [166663 211491  20783]]\n",
      "\n",
      "209.01196138020427\n",
      "correct\n",
      "\n",
      "2175.9184267798278\n",
      "wrong\n",
      "\n",
      "7478.83079097261\n",
      "wrong\n",
      "\n",
      "1048.0062022717232\n",
      "wrong\n",
      "\n",
      "recall = 50.0\n",
      "precision = 25.0\n",
      "\n",
      "\n",
      "NEXT POINTS\n",
      "Seg id: 864691134472630080\n",
      "Endpoint Array:\n",
      "[[351150 143681  15176]\n",
      " [348147 144970  14850]]\n",
      "\n",
      "Proposed Endpoint Array:\n",
      "[[348059 144976  14850]\n",
      " [351103 143484  15147]]\n",
      "\n",
      "88.20430828479978\n",
      "correct\n",
      "\n",
      "204.59472133953017\n",
      "correct\n",
      "\n",
      "recall = 100.0\n",
      "precision = 100.0\n",
      "\n",
      "\n",
      "NEXT POINTS\n",
      "Seg id: 864691133678427777\n",
      "Endpoint Array:\n",
      "[[344600 142349  16939]\n",
      " [344592 142335  16937]]\n",
      "\n",
      "Proposed Endpoint Array:\n",
      "nan\n",
      "\n",
      "no proposed endpoints found, but ground truth endpoints exist\n",
      "\n",
      "NEXT POINTS\n",
      "Seg id: 864691133922173572\n",
      "Endpoint Array:\n",
      "[[365649 143596  17209]\n",
      " [365939 143556  17266]]\n",
      "\n",
      "Proposed Endpoint Array:\n",
      "[[365770 143569  17209]\n",
      " [366021 143550  17266]]\n",
      "\n",
      "123.97580409095961\n",
      "correct\n",
      "\n",
      "82.21921916437786\n",
      "correct\n",
      "\n",
      "recall = 100.0\n",
      "precision = 100.0\n",
      "\n",
      "\n",
      "NEXT POINTS\n",
      "Seg id: 864691134865499607\n",
      "Endpoint Array:\n",
      "[[366719 138890  16417]\n",
      " [367885 138975  16518]]\n",
      "\n",
      "Proposed Endpoint Array:\n",
      "[[366625 138909  16416]\n",
      " [368153 139331  16507]]\n",
      "\n",
      "95.90620417887469\n",
      "correct\n",
      "\n",
      "445.7364692281752\n",
      "correct\n",
      "\n",
      "recall = 100.0\n",
      "precision = 100.0\n",
      "\n",
      "\n",
      "NEXT POINTS\n",
      "Seg id: 864691134742288112\n",
      "Endpoint Array:\n",
      "[[353411 147608  15177]\n",
      " [352169 149000  14848]]\n",
      "\n",
      "Proposed Endpoint Array:\n",
      "[[352095 148773  14850]\n",
      " [353871 147292  15173]]\n",
      "\n",
      "238.7655754081815\n",
      "correct\n",
      "\n",
      "558.0967658032073\n",
      "wrong\n",
      "\n",
      "recall = 50.0\n",
      "precision = 50.0\n",
      "\n",
      "\n",
      "NEXT POINTS\n",
      "Seg id: 864691136668362099\n",
      "Endpoint Array:\n",
      "[[363998 136280  16225]\n",
      " [364022 136258  16224]]\n",
      "\n",
      "Proposed Endpoint Array:\n",
      "[[363996 135901  16223]\n",
      " [364018 136610  16223]]\n",
      "\n",
      "skipping\n",
      "\n",
      "Seg id: 864691135105077237\n",
      "Endpoint Array:\n",
      "[[366292 145971  16282]\n",
      " [365559 146710  16237]\n",
      " [366729 146323  16252]]\n",
      "\n",
      "Proposed Endpoint Array:\n",
      "[[365942 146919  16264]\n",
      " [366875 146432  16252]]\n",
      "\n",
      "437.1487161138644\n",
      "correct\n",
      "\n",
      "182.20043907740728\n",
      "correct\n",
      "\n",
      "recall = 66.66666666666666\n",
      "precision = 100.0\n",
      "\n",
      "\n",
      "NEXT POINTS\n",
      "Seg id: 864691133766052845\n",
      "Endpoint Array:\n",
      "[[364450 138585  16225]\n",
      " [364459 138583  16224]]\n",
      "\n",
      "Proposed Endpoint Array:\n",
      "nan\n",
      "\n",
      "no proposed endpoints found, but ground truth endpoints exist\n",
      "\n",
      "NEXT POINTS\n",
      "Seg id: 864691135106856437\n",
      "Endpoint Array:\n",
      "[[368040 143694  16594]\n",
      " [369126 143559  16661]]\n",
      "\n",
      "Proposed Endpoint Array:\n",
      "[[367727 143734  16595]\n",
      " [369882 143414  16636]]\n",
      "\n",
      "315.5471438628466\n",
      "correct\n",
      "\n",
      "770.1856918951429\n",
      "wrong\n",
      "\n",
      "recall = 50.0\n",
      "precision = 50.0\n",
      "\n",
      "\n",
      "NEXT POINTS\n",
      "Seg id: 864691135701215880\n",
      "Endpoint Array:\n",
      "[[101795 247367  19549]\n",
      " [ 97049 240061  20592]]\n",
      "\n",
      "Proposed Endpoint Array:\n",
      "[[ 96287 240056  20559]\n",
      " [101824 247391  19548]]\n",
      "\n",
      "762.7306208616512\n",
      "wrong\n",
      "\n",
      "37.656340767525464\n",
      "correct\n",
      "\n",
      "recall = 50.0\n",
      "precision = 50.0\n",
      "\n",
      "\n",
      "NEXT POINTS\n",
      "Seg id: 864691134282775283\n",
      "Endpoint Array:\n",
      "[[ 92574 255351  20402]\n",
      " [ 92241 255519  20432]]\n",
      "\n",
      "Proposed Endpoint Array:\n",
      "[[ 92116 255502  20431]\n",
      " [ 92706 255329  20400]]\n",
      "\n",
      "126.15466697669174\n",
      "correct\n",
      "\n",
      "133.83572019457287\n",
      "correct\n",
      "\n",
      "recall = 100.0\n",
      "precision = 100.0\n",
      "\n",
      "\n",
      "NEXT POINTS\n",
      "Seg id: 864691135467651075\n",
      "Endpoint Array:\n",
      "[[114532 262237  21456]\n",
      " [117327 266080  21565]]\n",
      "\n",
      "Proposed Endpoint Array:\n",
      "[[114453 262180  21459]\n",
      " [117307 266092  21563]]\n",
      "\n",
      "97.46281342132495\n",
      "correct\n",
      "\n",
      "23.40939982143925\n",
      "correct\n",
      "\n",
      "recall = 100.0\n",
      "precision = 100.0\n",
      "\n",
      "\n",
      "NEXT POINTS\n",
      "Seg id: 864691135496889954\n",
      "Endpoint Array:\n",
      "[[121332 261988  21081]\n",
      " [124363 266598  21292]]\n",
      "\n",
      "Proposed Endpoint Array:\n",
      "[[121285 261997  21082]\n",
      " [124447 265936  21073]]\n",
      "\n",
      "47.86439177509728\n",
      "correct\n",
      "\n",
      "702.3254231479877\n",
      "wrong\n",
      "\n",
      "recall = 50.0\n",
      "precision = 50.0\n",
      "\n",
      "\n",
      "NEXT POINTS\n",
      "Seg id: 864691135418167764\n",
      "Endpoint Array:\n",
      "[[124076 245911  20653]\n",
      " [131332 245544  20993]]\n",
      "\n",
      "Proposed Endpoint Array:\n",
      "[[124065 245921  20653]\n",
      " [131439 245583  20985]]\n",
      "\n",
      "14.866068747318506\n",
      "correct\n",
      "\n",
      "114.16654501210063\n",
      "correct\n",
      "\n",
      "recall = 100.0\n",
      "precision = 100.0\n",
      "\n",
      "\n",
      "NEXT POINTS\n",
      "Seg id: 864691135091308176\n",
      "Endpoint Array:\n",
      "[[ 91990 254558  18886]\n",
      " [ 89162 254502  18809]]\n",
      "\n",
      "Proposed Endpoint Array:\n",
      "[[ 88949 254460  18808]\n",
      " [ 91824 255081  18885]]\n",
      "\n",
      "217.10366187607247\n",
      "correct\n",
      "\n",
      "548.7130397575768\n",
      "wrong\n",
      "\n",
      "recall = 50.0\n",
      "precision = 50.0\n",
      "\n",
      "\n",
      "NEXT POINTS\n",
      "Seg id: 864691136086187907\n",
      "Endpoint Array:\n",
      "[[ 91998 257005  18030]\n",
      " [ 92047 257166  17971]\n",
      " [ 95465 260435  18180]]\n",
      "\n",
      "Proposed Endpoint Array:\n",
      "[[ 91464 256980  17974]\n",
      " [ 95385 260451  18178]]\n",
      "\n",
      "537.5099999069785\n",
      "wrong\n",
      "\n",
      "81.60882305241266\n",
      "correct\n",
      "\n",
      "recall = 33.33333333333333\n",
      "precision = 50.0\n",
      "\n",
      "\n",
      "NEXT POINTS\n",
      "Seg id: 864691135452288336\n",
      "Endpoint Array:\n",
      "[[103494 249888  18886]\n",
      " [ 95051 235495  18680]]\n",
      "\n",
      "Proposed Endpoint Array:\n",
      "[[ 94883 236235  18681]\n",
      " [104954 249644  18777]]\n",
      "\n",
      "758.8313383091133\n",
      "wrong\n",
      "\n",
      "1484.2563794708783\n",
      "wrong\n",
      "\n",
      "recall = 0.0\n",
      "precision = 0.0\n",
      "\n",
      "\n",
      "NEXT POINTS\n",
      "Seg id: 864691135770899279\n",
      "Endpoint Array:\n",
      "[[ 89795 241829  19735]\n",
      " [ 92006 236451  19553]\n",
      " [ 83827 237824  19706]\n",
      " [ 83818 240029  19685]\n",
      " [ 79493 232299  19806]]\n",
      "\n",
      "Proposed Endpoint Array:\n",
      "[[ 79437 232290  19812]\n",
      " [ 83769 240131  19675]\n",
      " [ 83797 237807  19704]\n",
      " [ 84512 237921  20181]\n",
      " [ 85784 238137  19950]\n",
      " [ 89878 241916  19734]\n",
      " [ 92063 236354  19551]]\n",
      "\n",
      "57.0350769263968\n",
      "correct\n",
      "\n",
      "113.6001760562016\n",
      "correct\n",
      "\n",
      "34.539832078341085\n",
      "correct\n",
      "\n",
      "839.2014060998706\n",
      "wrong\n",
      "\n",
      "1996.8359972716837\n",
      "wrong\n",
      "\n",
      "120.24558203942463\n",
      "correct\n",
      "\n",
      "112.52555265360841\n",
      "correct\n",
      "\n",
      "recall = 100.0\n",
      "precision = 71.42857142857143\n",
      "\n",
      "\n",
      "NEXT POINTS\n",
      "Seg id: 864691135086426256\n",
      "Endpoint Array:\n",
      "[[ 92375 244828  19552]\n",
      " [ 89922 247651  20068]]\n",
      "\n",
      "Proposed Endpoint Array:\n",
      "[[ 88624 247428  19909]\n",
      " [ 89930 247640  20067]\n",
      " [ 92509 244812  19551]]\n",
      "\n",
      "1326.5798129023372\n",
      "wrong\n",
      "\n",
      "13.638181696985855\n",
      "correct\n",
      "\n",
      "134.95554823718808\n",
      "correct\n",
      "\n",
      "recall = 100.0\n",
      "precision = 66.66666666666666\n",
      "\n",
      "\n",
      "NEXT POINTS\n",
      "Seg id: 864691136339366110\n",
      "Endpoint Array:\n",
      "[[ 99421 237973  18886]\n",
      " [118801 231687  18346]\n",
      " [ 99834 231257  18886]\n",
      " [ 83955 228517  18160]\n",
      " [101885 213030  17722]\n",
      " [ 95893 197762  16390]\n",
      " [ 83218 198424  17497]]\n",
      "\n",
      "Proposed Endpoint Array:\n",
      "[[ 83059 198360  17496]\n",
      " [ 83943 228492  18159]\n",
      " [ 86659 199112  17492]\n",
      " [ 87431 205793  17760]\n",
      " [ 89449 212814  17892]\n",
      " [ 94626 223295  18433]\n",
      " [ 95744 216364  17817]\n",
      " [ 99218 237979  18852]\n",
      " [100103 231162  18875]\n",
      " [101871 213056  17717]\n",
      " [118865 231594  18350]]\n",
      "\n",
      "171.40011668607463\n",
      "correct\n",
      "\n",
      "27.748873851023216\n",
      "correct\n",
      "\n",
      "3509.109573666801\n",
      "wrong\n",
      "\n",
      "8492.390652813847\n",
      "wrong\n",
      "\n",
      "12439.037422566105\n",
      "wrong\n",
      "\n",
      "9524.805352341853\n",
      "wrong\n",
      "\n",
      "6988.308951384448\n",
      "wrong\n",
      "\n",
      "205.91503102007877\n",
      "correct\n",
      "\n",
      "285.4943081744363\n",
      "correct\n",
      "\n",
      "29.949958263743873\n",
      "correct\n",
      "\n",
      "112.96459622377269\n",
      "correct\n",
      "\n",
      "recall = 85.71428571428571\n",
      "precision = 54.54545454545454\n",
      "\n",
      "\n",
      "NEXT POINTS\n",
      "Seg id: 864691135465651024\n",
      "Endpoint Array:\n",
      "[[103084 242200  18886]\n",
      " [110692 237219  18434]\n",
      " [111502 242338  18430]]\n",
      "\n",
      "Proposed Endpoint Array:\n",
      "[[102934 242213  18886]\n",
      " [110606 237024  18445]\n",
      " [111357 241829  18377]]\n",
      "\n",
      "150.56227947264878\n",
      "correct\n",
      "\n",
      "213.40571688687254\n",
      "correct\n",
      "\n",
      "531.8975465256443\n",
      "wrong\n",
      "\n",
      "recall = 66.66666666666666\n",
      "precision = 66.66666666666666\n",
      "\n",
      "\n",
      "NEXT POINTS\n",
      "Seg id: 864691135445716048\n",
      "Endpoint Array:\n",
      "[[101395 241109  18886]\n",
      " [ 95743 240134  17874]\n",
      " [ 88413 241445  18707]]\n",
      "\n",
      "Proposed Endpoint Array:\n",
      "[[ 88247 241212  18694]\n",
      " [ 92705 240810  18070]\n",
      " [ 94037 239137  17874]\n",
      " [ 94273 240177  18087]\n",
      " [ 96684 239765  17889]]\n",
      "\n",
      "286.38086528258134\n",
      "correct\n",
      "\n",
      "3118.4669310415975\n",
      "wrong\n",
      "\n",
      "1975.9668519486859\n",
      "wrong\n",
      "\n",
      "1485.97375481534\n",
      "wrong\n",
      "\n",
      "1010.8743739951072\n",
      "wrong\n",
      "\n",
      "recall = 33.33333333333333\n",
      "precision = 20.0\n",
      "\n",
      "\n",
      "NEXT POINTS\n",
      "Seg id: 864691136255860877\n",
      "Endpoint Array:\n",
      "[[108790 257101  19282]\n",
      " [124559 269371  19408]]\n",
      "\n",
      "Proposed Endpoint Array:\n",
      "[[108751 257087  19282]\n",
      " [124637 269422  19411]]\n",
      "\n",
      "41.43669871020132\n",
      "correct\n",
      "\n",
      "93.24162160752032\n",
      "correct\n",
      "\n",
      "recall = 100.0\n",
      "precision = 100.0\n",
      "\n",
      "\n",
      "NEXT POINTS\n",
      "Seg id: 864691135595585988\n",
      "Endpoint Array:\n",
      "[]\n",
      "\n",
      "Proposed Endpoint Array:\n",
      "[[212884 243420  19514]\n",
      " [214524 226505  21188]\n",
      " [215377 241406  21967]\n",
      " [215433 243091  19242]\n",
      " [216070 244115  19846]\n",
      " [216182 244980  19536]\n",
      " [216296 244236  19650]\n",
      " [216573 242193  20654]\n",
      " [216836 220817  21022]\n",
      " [217143 239222  20354]\n",
      " [217356 242116  20013]\n",
      " [217621 240548  19730]\n",
      " [217620 244142  19738]\n",
      " [218304 245630  21876]\n",
      " [218415 216337  20877]\n",
      " [218706 243445  19553]\n",
      " [219301 242972  19901]\n",
      " [219321 242606  19776]\n",
      " [220031 244125  19667]\n",
      " [220049 239107  19629]\n",
      " [220339 240159  21775]\n",
      " [220386 248949  20081]\n",
      " [220563 239042  20477]\n",
      " [220660 242813  19544]\n",
      " [221813 254541  21053]\n",
      " [221960 243775  19919]\n",
      " [222037 238443  19460]\n",
      " [222299 252330  20578]\n",
      " [223731 245032  22062]\n",
      " [224961 243666  19690]\n",
      " [227736 244582  21603]]\n",
      "\n",
      "skipping\n",
      "\n",
      "Seg id: 864691135243838259\n",
      "Endpoint Array:\n",
      "[[238371 242473  22476]\n",
      " [238457 244555  22569]\n",
      " [244655 242054  22367]]\n",
      "\n",
      "Proposed Endpoint Array:\n",
      "[[238101 242721  22488]\n",
      " [238450 244546  22568]\n",
      " [244605 242201  22355]]\n",
      "\n",
      "366.80785160625993\n",
      "correct\n",
      "\n",
      "11.445523142259598\n",
      "correct\n",
      "\n",
      "155.73374714556894\n",
      "correct\n",
      "\n",
      "recall = 100.0\n",
      "precision = 100.0\n",
      "\n",
      "\n",
      "NEXT POINTS\n",
      "Seg id: 864691136485671798\n",
      "Endpoint Array:\n",
      "[]\n",
      "\n",
      "Proposed Endpoint Array:\n",
      "[[234964 248954  22476]\n",
      " [235631 250301  22456]\n",
      " [235724 261306  22859]\n",
      " [237607 254255  22407]\n",
      " [237774 249405  22251]\n",
      " [241292 250133  22699]]\n",
      "\n",
      "skipping\n",
      "\n",
      "Seg id: 864691135973152383\n",
      "Endpoint Array:\n",
      "[[214003 239696  22150]\n",
      " [207975 242223  21811]\n",
      " [207392 247744  21826]]\n",
      "\n",
      "Proposed Endpoint Array:\n",
      "[[207194 247833  21967]\n",
      " [207387 247588  21826]\n",
      " [207987 242201  21809]\n",
      " [214087 239668  22151]]\n",
      "\n",
      "258.85517186256874\n",
      "correct\n",
      "\n",
      "156.08010763707205\n",
      "correct\n",
      "\n",
      "25.13961017995307\n",
      "correct\n",
      "\n",
      "88.54942122905152\n",
      "correct\n",
      "\n",
      "recall = 133.33333333333331\n",
      "precision = 100.0\n",
      "ERROR: RESULTS OVER 100% DETECTED\n",
      "\n",
      "\n",
      "NEXT POINTS\n",
      "Seg id: 864691136020765090\n",
      "Endpoint Array:\n",
      "[[229738 242657  23002]\n",
      " [232273 221019  24296]]\n",
      "\n",
      "Proposed Endpoint Array:\n",
      "[[229637 242509  23000]\n",
      " [232276 220993  24296]]\n",
      "\n",
      "179.1898434621784\n",
      "correct\n",
      "\n",
      "26.1725046566048\n",
      "correct\n",
      "\n",
      "recall = 100.0\n",
      "precision = 100.0\n",
      "\n",
      "\n",
      "NEXT POINTS\n",
      "Seg id: 864691136868271982\n",
      "Endpoint Array:\n",
      "[[221936 234388  22049]\n",
      " [225075 238155  19382]\n",
      " [225894 221672  22439]\n",
      " [211405 208983  22094]\n",
      " [216657 214363  20269]\n",
      " [219251 215626  21774]\n",
      " [218205 197895  20556]\n",
      " [248614 184604  22874]\n",
      " [237999 180993  23196]\n",
      " [203332 186364  22843]\n",
      " [216400 168757  20654]]\n",
      "\n",
      "Proposed Endpoint Array:\n",
      "[[203303 186308  22835]\n",
      " [206015 185296  22726]\n",
      " [212187 209889  22043]\n",
      " [215029 209337  22062]\n",
      " [216484 168715  20654]\n",
      " [216641 214335  20270]\n",
      " [218184 197922  20555]\n",
      " [218215 215479  21983]\n",
      " [218882 219177  21644]\n",
      " [219551 214733  21825]\n",
      " [220226 200650  20795]\n",
      " [221664 199727  21025]\n",
      " [221933 235335  20856]\n",
      " [222065 201655  21134]\n",
      " [222176 234738  22049]\n",
      " [224934 239139  19636]\n",
      " [225084 238150  19383]\n",
      " [225922 221687  22439]\n",
      " [238031 181077  23187]\n",
      " [248226 184266  22873]]\n",
      "\n",
      "skipping\n",
      "\n",
      "Seg id: 864691136533382236\n",
      "Endpoint Array:\n",
      "[[215980 250188  22175]\n",
      " [216934 252017  21871]]\n",
      "\n",
      "Proposed Endpoint Array:\n",
      "[[215418 251336  22140]\n",
      " [215647 250132  22156]\n",
      " [216893 252072  21851]]\n",
      "\n",
      "1278.6606273753798\n",
      "wrong\n",
      "\n",
      "338.2099939386771\n",
      "correct\n",
      "\n",
      "71.45628033979938\n",
      "correct\n",
      "\n",
      "recall = 100.0\n",
      "precision = 66.66666666666666\n",
      "\n",
      "\n",
      "NEXT POINTS\n",
      "Seg id: 864691135701025416\n",
      "Endpoint Array:\n",
      "[[107780 233751  21951]\n",
      " [102886 233653  21793]\n",
      " [101029 231512  21571]]\n",
      "\n",
      "Proposed Endpoint Array:\n",
      "[[101069 231466  21572]\n",
      " [102862 233653  21793]\n",
      " [107964 233696  21923]]\n",
      "\n",
      "60.96720429870473\n",
      "correct\n",
      "\n",
      "24.0\n",
      "correct\n",
      "\n",
      "194.07472787563043\n",
      "correct\n",
      "\n",
      "recall = 100.0\n",
      "precision = 100.0\n",
      "\n",
      "\n",
      "NEXT POINTS\n",
      "Seg id: 864691136319048926\n",
      "Endpoint Array:\n",
      "[[116397 239042  23272]\n",
      " [116122 242018  23658]\n",
      " [128574 244535  23440]]\n",
      "\n",
      "Proposed Endpoint Array:\n",
      "[[115898 241786  23655]\n",
      " [128605 244498  23436]]\n",
      "\n",
      "322.50426353770894\n",
      "correct\n",
      "\n",
      "48.43552415324934\n",
      "correct\n",
      "\n",
      "recall = 66.66666666666666\n",
      "precision = 100.0\n",
      "\n",
      "\n",
      "NEXT POINTS\n",
      "Seg id: 864691135433586213\n",
      "Endpoint Array:\n",
      "[[124127 246567  21658]\n",
      " [125186 247739  21278]\n",
      " [124451 234883  21742]]\n",
      "\n",
      "Proposed Endpoint Array:\n",
      "[[121780 241561  21728]\n",
      " [122051 236517  21587]\n",
      " [123512 236007  21464]\n",
      " [123731 245994  21753]\n",
      " [124389 246387  21504]\n",
      " [124450 234856  21739]\n",
      " [125214 247761  21278]\n",
      " [126641 238208  21515]]\n",
      "\n",
      "skipping\n",
      "\n",
      "Seg id: 864691134992553950\n",
      "Endpoint Array:\n",
      "[[136200 231009  21675]\n",
      " [137726 231340  21467]]\n",
      "\n",
      "Proposed Endpoint Array:\n",
      "[[136067 230993  21674]\n",
      " [137713 231341  21466]]\n",
      "\n",
      "133.96268137059664\n",
      "correct\n",
      "\n",
      "13.076696830622021\n",
      "correct\n",
      "\n",
      "recall = 100.0\n",
      "precision = 100.0\n",
      "\n",
      "\n",
      "NEXT POINTS\n",
      "Seg id: 864691136332218590\n",
      "Endpoint Array:\n",
      "[[115538 236798  23272]\n",
      " [119437 236091  24379]]\n",
      "\n",
      "Proposed Endpoint Array:\n",
      "[[115441 236767  23271]\n",
      " [118324 235846  23462]\n",
      " [119391 236093  24377]]\n",
      "\n",
      "101.83810681665287\n",
      "correct\n",
      "\n",
      "1462.7655314506148\n",
      "wrong\n",
      "\n",
      "46.08687448721165\n",
      "correct\n",
      "\n",
      "recall = 100.0\n",
      "precision = 66.66666666666666\n",
      "\n",
      "\n",
      "NEXT POINTS\n",
      "Seg id: 864691135154890214\n",
      "Endpoint Array:\n",
      "[[105962 225371  22049]\n",
      " [105764 225119  22040]]\n",
      "\n",
      "Proposed Endpoint Array:\n",
      "[[105748 225109  22039]\n",
      " [106111 225403  22048]]\n",
      "\n",
      "18.894443627691185\n",
      "correct\n",
      "\n",
      "152.4007873995407\n",
      "correct\n",
      "\n",
      "recall = 100.0\n",
      "precision = 100.0\n",
      "\n",
      "\n",
      "NEXT POINTS\n",
      "Seg id: 864691135619456283\n",
      "Endpoint Array:\n",
      "[[106751 240190  22672]\n",
      " [105119 240360  22705]]\n",
      "\n",
      "Proposed Endpoint Array:\n",
      "[[105092 240358  22705]\n",
      " [106761 240165  22672]]\n",
      "\n",
      "27.073972741361768\n",
      "correct\n",
      "\n",
      "26.92582403567252\n",
      "correct\n",
      "\n",
      "recall = 100.0\n",
      "precision = 100.0\n",
      "\n",
      "\n",
      "NEXT POINTS\n",
      "Seg id: 864691135352678386\n",
      "Endpoint Array:\n",
      "[[111507 222732  22035]\n",
      " [103133 218005  21203]\n",
      " [102041 153623  21675]\n",
      " [112350 146522  21642]\n",
      " [ 99727 149747  20928]\n",
      " [ 92904 105009  21852]\n",
      " [ 98126 159248  21078]\n",
      " [ 95362 152436  20927]]\n",
      "\n",
      "Proposed Endpoint Array:\n",
      "[[102920 217969  21224]\n",
      " [107147 188954  21228]\n",
      " [108621 198217  21044]\n",
      " [108982 192906  21225]\n",
      " [109455 205642  21250]\n",
      " [109879 202629  21315]\n",
      " [111624 222888  22035]]\n",
      "\n",
      "217.03916697223107\n",
      "correct\n",
      "\n",
      "29327.008405222652\n",
      "wrong\n",
      "\n",
      "20535.53916993659\n",
      "wrong\n",
      "\n",
      "25771.516951859856\n",
      "wrong\n",
      "\n",
      "13885.735918560456\n",
      "wrong\n",
      "\n",
      "16791.141593113913\n",
      "wrong\n",
      "\n",
      "195.0\n",
      "correct\n",
      "\n",
      "recall = 25.0\n",
      "precision = 28.57142857142857\n",
      "\n",
      "\n",
      "NEXT POINTS\n",
      "Seg id: 864691133906162903\n",
      "Endpoint Array:\n",
      "[[122297 236006  21160]\n",
      " [122269 235695  21274]\n",
      " [122185 236026  21200]]\n",
      "\n",
      "Proposed Endpoint Array:\n",
      "[[122290 235670  21276]\n",
      " [122306 235996  21159]]\n",
      "\n",
      "skipping\n",
      "\n",
      "Seg id: 864691135410018528\n",
      "Endpoint Array:\n",
      "[[110710 238814  22885]\n",
      " [108984 238250  23105]\n",
      " [109103 239918  23104]]\n",
      "\n",
      "Proposed Endpoint Array:\n",
      "[[108989 240117  23110]\n",
      " [109084 237984  23086]\n",
      " [110886 238769  22883]]\n",
      "\n",
      "229.4188309620638\n",
      "correct\n",
      "\n",
      "284.8104632909402\n",
      "correct\n",
      "\n",
      "181.6727827716634\n",
      "correct\n",
      "\n",
      "recall = 100.0\n",
      "precision = 100.0\n",
      "\n",
      "\n",
      "NEXT POINTS\n",
      "Seg id: 864691136300402398\n",
      "Endpoint Array:\n",
      "[[114302 226209  22036]\n",
      " [122799 224013  21841]]\n",
      "\n",
      "Proposed Endpoint Array:\n",
      "[[114223 226129  22022]\n",
      " [122801 223998  21840]]\n",
      "\n",
      "113.30048543585328\n",
      "correct\n",
      "\n",
      "15.165750888103101\n",
      "correct\n",
      "\n",
      "recall = 100.0\n",
      "precision = 100.0\n",
      "\n",
      "\n",
      "NEXT POINTS\n",
      "Seg id: 864691135064182662\n",
      "Endpoint Array:\n",
      "[[108331 239439  22553]\n",
      " [108001 239551  22547]]\n",
      "\n",
      "Proposed Endpoint Array:\n",
      "[[107987 239504  22547]\n",
      " [108668 239788  22548]]\n",
      "\n",
      "49.040799340956916\n",
      "correct\n",
      "\n",
      "485.17522607816653\n",
      "correct\n",
      "\n",
      "recall = 100.0\n",
      "precision = 100.0\n",
      "\n",
      "\n",
      "NEXT POINTS\n",
      "Seg id: 864691136320471262\n",
      "Endpoint Array:\n",
      "[[138540 218696  26348]\n",
      " [113372 224291  24259]]\n",
      "\n",
      "Proposed Endpoint Array:\n",
      "[[112670 224005  24354]\n",
      " [134388 220361  26036]\n",
      " [138662 218656  26349]]\n",
      "\n",
      "763.9535326183131\n",
      "wrong\n",
      "\n",
      "4484.269505727772\n",
      "wrong\n",
      "\n",
      "128.39392508993564\n",
      "correct\n",
      "\n",
      "recall = 50.0\n",
      "precision = 33.33333333333333\n",
      "\n",
      "\n",
      "NEXT POINTS\n",
      "Seg id: 864691134952775929\n",
      "Endpoint Array:\n",
      "[[114948 194594  24243]\n",
      " [111880 193451  24003]]\n",
      "\n",
      "Proposed Endpoint Array:\n",
      "[[111847 193427  24003]\n",
      " [114964 194584  24243]]\n",
      "\n",
      "40.80441152620633\n",
      "correct\n",
      "\n",
      "18.867962264113206\n",
      "correct\n",
      "\n",
      "recall = 100.0\n",
      "precision = 100.0\n",
      "\n",
      "\n",
      "NEXT POINTS\n",
      "Seg id: 864691135800647092\n",
      "Endpoint Array:\n",
      "[[124463 104387  26580]\n",
      " [119649  95511  26587]]\n",
      "\n",
      "Proposed Endpoint Array:\n",
      "[[119638  95503  26586]\n",
      " [124471 104530  26574]]\n",
      "\n",
      "13.638181696985855\n",
      "correct\n",
      "\n",
      "143.34922392534952\n",
      "correct\n",
      "\n",
      "recall = 100.0\n",
      "precision = 100.0\n",
      "\n",
      "\n",
      "NEXT POINTS\n",
      "Seg id: 864691133769133345\n",
      "Endpoint Array:\n",
      "[[139122 211601  27166]\n",
      " [139135 211585  27170]]\n",
      "\n",
      "Proposed Endpoint Array:\n",
      "nan\n",
      "\n",
      "skipping\n",
      "\n",
      "Seg id: 864691136819565166\n",
      "Endpoint Array:\n",
      "[[138830 217418  26348]\n",
      " [119661 181314  25228]]\n",
      "\n",
      "Proposed Endpoint Array:\n",
      "[[113687 194627  24724]\n",
      " [117768 183862  25040]\n",
      " [119669 181238  25226]\n",
      " [130198 213109  25333]\n",
      " [131448 213325  25428]\n",
      " [135214 213007  25701]\n",
      " [136926 214167  25638]\n",
      " [138861 217420  26348]]\n",
      "\n",
      "14600.639061356183\n",
      "wrong\n",
      "\n",
      "3179.7951191861403\n",
      "wrong\n",
      "\n",
      "76.44605941446557\n",
      "correct\n",
      "\n",
      "9700.986032357741\n",
      "wrong\n",
      "\n",
      "8490.758093362452\n",
      "wrong\n",
      "\n",
      "5740.294940157692\n",
      "wrong\n",
      "\n",
      "3833.8384160003407\n",
      "wrong\n",
      "\n",
      "31.064449134018133\n",
      "correct\n",
      "\n",
      "recall = 100.0\n",
      "precision = 25.0\n",
      "\n",
      "\n",
      "NEXT POINTS\n",
      "Seg id: 864691136159416333\n",
      "Endpoint Array:\n",
      "[[139743 217650  26348]\n",
      " [164292 216295  23395]]\n",
      "\n",
      "Proposed Endpoint Array:\n",
      "[[138805 217747  26227]\n",
      " [139762 217654  26348]\n",
      " [164288 216267  23392]]\n",
      "\n",
      "950.7334011172638\n",
      "wrong\n",
      "\n",
      "19.4164878389476\n",
      "correct\n",
      "\n",
      "28.442925306655784\n",
      "correct\n",
      "\n",
      "recall = 100.0\n",
      "precision = 66.66666666666666\n",
      "\n",
      "\n",
      "NEXT POINTS\n",
      "Seg id: 864691136019108433\n",
      "Endpoint Array:\n",
      "[[128688 164321  26262]\n",
      " [122720 160983  25666]\n",
      " [119788 145710  25344]]\n",
      "\n",
      "Proposed Endpoint Array:\n",
      "[[117812 151211  25240]\n",
      " [119822 145665  25346]\n",
      " [124450 160123  25769]\n",
      " [128786 164754  26265]]\n",
      "\n",
      "5846.057902552796\n",
      "wrong\n",
      "\n",
      "56.43580423808985\n",
      "correct\n",
      "\n",
      "1934.7116064157985\n",
      "wrong\n",
      "\n",
      "443.9617100606763\n",
      "correct\n",
      "\n",
      "recall = 66.66666666666666\n",
      "precision = 50.0\n",
      "\n",
      "\n",
      "NEXT POINTS\n",
      "Seg id: 864691135431359971\n",
      "Endpoint Array:\n",
      "[[123195 178592  21507]\n",
      " [122128 178347  21278]]\n",
      "\n",
      "Proposed Endpoint Array:\n",
      "[[122001 178378  21275]\n",
      " [123152 178553  21508]]\n",
      "\n",
      "130.76314465475355\n",
      "correct\n",
      "\n",
      "58.06031346797914\n",
      "correct\n",
      "\n",
      "recall = 100.0\n",
      "precision = 100.0\n",
      "\n",
      "\n",
      "NEXT POINTS\n",
      "Seg id: 864691136261849751\n",
      "Endpoint Array:\n",
      "[[121982 182250  21512]\n",
      " [120362 183485  21278]\n",
      " [121355 183816  21279]\n",
      " [122898 181913  21279]\n",
      " [124468 181794  21280]\n",
      " [117392 179577  20651]\n",
      " [103241 168587  21422]]\n",
      "\n",
      "Proposed Endpoint Array:\n",
      "[[103080 169232  21411]\n",
      " [103841 168717  21413]\n",
      " [117302 179092  20934]\n",
      " [117352 179575  20650]\n",
      " [118830 178289  21105]\n",
      " [120350 183509  21276]\n",
      " [121436 181181  21462]\n",
      " [122810 180293  21513]\n",
      " [122907 181932  21277]\n",
      " [124536 181766  21277]]\n",
      "\n",
      "skipping\n",
      "\n",
      "Seg id: 864691135422747497\n",
      "Endpoint Array:\n",
      "[[120495 185235  21512]\n",
      " [120221 188999  20922]]\n",
      "\n",
      "Proposed Endpoint Array:\n",
      "[[119220 186674  21409]\n",
      " [119623 188980  20932]\n",
      " [120212 185245  21479]]\n",
      "\n",
      "1925.3454235539139\n",
      "wrong\n",
      "\n",
      "598.3853273602219\n",
      "wrong\n",
      "\n",
      "285.09296729312706\n",
      "correct\n",
      "\n",
      "recall = 50.0\n",
      "precision = 33.33333333333333\n",
      "\n",
      "\n",
      "NEXT POINTS\n",
      "Seg id: 864691135807736091\n",
      "Endpoint Array:\n",
      "[[128136 182787  21520]\n",
      " [131324 185441  20778]]\n",
      "\n",
      "Proposed Endpoint Array:\n",
      "[[127980 182953  21498]\n",
      " [131660 186307  20778]]\n",
      "\n",
      "skipping\n",
      "\n",
      "Seg id: 864691135477535596\n",
      "Endpoint Array:\n",
      "[[126152 175708  21515]\n",
      " [124992 176063  21277]\n",
      " [141422 170976  21715]\n",
      " [144545 167108  21467]\n",
      " [144234 161388  22553]]\n",
      "\n",
      "Proposed Endpoint Array:\n",
      "[[124887 176009  21284]\n",
      " [144571 167353  21502]]\n",
      "\n",
      "118.27933040053955\n",
      "correct\n",
      "\n",
      "248.84935201844507\n",
      "correct\n",
      "\n",
      "recall = 40.0\n",
      "precision = 100.0\n",
      "\n",
      "\n",
      "NEXT POINTS\n",
      "Seg id: 864691135066358591\n",
      "Endpoint Array:\n",
      "[[136079 182458  20917]\n",
      " [136402 182192  20846]]\n",
      "\n",
      "Proposed Endpoint Array:\n",
      "[[135886 182093  20857]\n",
      " [136350 182171  20845]]\n",
      "\n",
      "417.22176357424115\n",
      "correct\n",
      "\n",
      "56.089214649520635\n",
      "correct\n",
      "\n",
      "recall = 100.0\n",
      "precision = 100.0\n",
      "\n",
      "\n",
      "NEXT POINTS\n",
      "Seg id: 864691135243409363\n",
      "Endpoint Array:\n",
      "[[125651 179253  21829]\n",
      " [134788 162962  23513]]\n",
      "\n",
      "Proposed Endpoint Array:\n",
      "[[124722 179712  22206]\n",
      " [125667 179240  21827]\n",
      " [134809 163001  23515]]\n",
      "\n",
      "1102.6563381217195\n",
      "wrong\n",
      "\n",
      "20.71231517720798\n",
      "correct\n",
      "\n",
      "44.339598554790726\n",
      "correct\n",
      "\n",
      "recall = 100.0\n",
      "precision = 66.66666666666666\n",
      "\n",
      "\n",
      "NEXT POINTS\n",
      "Seg id: 864691135489218668\n",
      "Endpoint Array:\n",
      "[[127745 180987  21829]\n",
      " [127799 168227  22142]\n",
      " [145826 168883  22019]]\n",
      "\n",
      "Proposed Endpoint Array:\n",
      "[[127623 180939  21828]\n",
      " [127837 168509  22170]\n",
      " [145838 168946  22018]]\n",
      "\n",
      "131.10682667199293\n",
      "correct\n",
      "\n",
      "285.92306657560874\n",
      "correct\n",
      "\n",
      "64.1404708432983\n",
      "correct\n",
      "\n",
      "recall = 100.0\n",
      "precision = 100.0\n",
      "\n",
      "\n",
      "NEXT POINTS\n",
      "Seg id: 864691134734207271\n",
      "Endpoint Array:\n",
      "[[122541 156621  23215]\n",
      " [123400 153233  23659]]\n",
      "\n",
      "Proposed Endpoint Array:\n",
      "[[122507 156631  23212]\n",
      " [123046 153356  23632]]\n",
      "\n",
      "35.566838487557476\n",
      "correct\n",
      "\n",
      "375.7312869591778\n",
      "correct\n",
      "\n",
      "recall = 100.0\n",
      "precision = 100.0\n",
      "\n",
      "\n",
      "NEXT POINTS\n",
      "Seg id: 864691135108352130\n",
      "Endpoint Array:\n",
      "[[105079 184428  21958]\n",
      " [101985 184289  22036]]\n",
      "\n",
      "Proposed Endpoint Array:\n",
      "[[101963 184308  22035]\n",
      " [105112 184446  21957]]\n",
      "\n",
      "29.086079144497972\n",
      "correct\n",
      "\n",
      "37.603191353926334\n",
      "correct\n",
      "\n",
      "recall = 100.0\n",
      "precision = 100.0\n",
      "\n",
      "\n",
      "NEXT POINTS\n",
      "Seg id: 864691136819486574\n",
      "Endpoint Array:\n",
      "[]\n",
      "\n",
      "Proposed Endpoint Array:\n",
      "[[112091 195674  23658]\n",
      " [114916 187629  23702]\n",
      " [118304 165507  21777]\n",
      " [119551 150894  23622]\n",
      " [119651 159568  22538]\n",
      " [120674 164037  23401]\n",
      " [120964 154293  23994]\n",
      " [121452 148866  23266]\n",
      " [121860 161534  22262]\n",
      " [121954 160245  22440]\n",
      " [122147 158810  22919]\n",
      " [122150 161706  22586]\n",
      " [122144 141340  22354]\n",
      " [122240 158496  22540]\n",
      " [122286 179004  23084]\n",
      " [122321 171472  21972]\n",
      " [122594 162335  22380]\n",
      " [122666 174412  22267]\n",
      " [123269 147132  22205]\n",
      " [123380 157836  22398]\n",
      " [123510 150670  22305]\n",
      " [123608 148877  22084]\n",
      " [123622 148473  22715]\n",
      " [123643 154856  22279]\n",
      " [123637 179401  22248]\n",
      " [123979 172848  22303]\n",
      " [124201 159038  22470]\n",
      " [124325 169377  23070]\n",
      " [124349 163987  22810]\n",
      " [124901 180491  22345]\n",
      " [125293 164303  22393]\n",
      " [125621 142533  22760]\n",
      " [125719 145797  22614]\n",
      " [126098 168409  22583]\n",
      " [126172 169691  22615]\n",
      " [126259 163779  22605]\n",
      " [126256 174553  22547]\n",
      " [126440 184458  23379]\n",
      " [126809 183861  22370]\n",
      " [126854 175817  21527]\n",
      " [126905 166412  22713]\n",
      " [127147 173804  21961]\n",
      " [127383 171049  22640]\n",
      " [127788 175818  22495]\n",
      " [127825 182692  21822]\n",
      " [128015 181085  22548]\n",
      " [128365 163173  23044]\n",
      " [128732 165100  22381]\n",
      " [128849 176084  22629]\n",
      " [128912 176838  22093]\n",
      " [128961 174463  23200]\n",
      " [129160 175086  22538]\n",
      " [129932 178106  22047]\n",
      " [130643 167388  22779]\n",
      " [132454 164846  22112]\n",
      " [133370 185638  22433]\n",
      " [133837 166141  22356]\n",
      " [134061 179462  22555]\n",
      " [134206 184177  22211]\n",
      " [134934 178964  22264]\n",
      " [135011 161376  23039]\n",
      " [136586 187022  22797]\n",
      " [141638 191112  23414]\n",
      " [146674 179725  21216]\n",
      " [147683 182737  20838]\n",
      " [147956 180124  21216]\n",
      " [149358 180303  21047]\n",
      " [149463 182768  20727]\n",
      " [150945 180423  21085]\n",
      " [150966 177333  21206]\n",
      " [151429 172637  21039]\n",
      " [152248 172485  21017]\n",
      " [152606 173619  20842]\n",
      " [154394 177202  21076]]\n",
      "\n",
      "skipping\n",
      "\n",
      "Seg id: 864691134163330198\n",
      "Endpoint Array:\n",
      "[[124325 184170  21779]\n",
      " [124064 184357  21809]]\n",
      "\n",
      "Proposed Endpoint Array:\n",
      "[[123908 184510  21810]\n",
      " [124386 184032  21778]]\n",
      "\n",
      "218.50858106719744\n",
      "correct\n",
      "\n",
      "150.88406145116852\n",
      "correct\n",
      "\n",
      "recall = 100.0\n",
      "precision = 100.0\n",
      "\n",
      "\n",
      "NEXT POINTS\n",
      "Seg id: 864691136066569096\n",
      "Endpoint Array:\n",
      "[]\n",
      "\n",
      "Proposed Endpoint Array:\n",
      "[[282595 158772  20850]\n",
      " [283107 157885  20919]\n",
      " [285365 158693  20252]\n",
      " [288543 154648  19570]\n",
      " [292751 126128  19087]\n",
      " [293557 148317  18954]\n",
      " [293787 132044  18309]\n",
      " [294783 122470  18899]\n",
      " [295488 128606  18515]]\n",
      "\n",
      "skipping\n",
      "\n",
      "Seg id: 864691135224157062\n",
      "Endpoint Array:\n",
      "[[313505 161103  18580]\n",
      " [314477 162881  18717]]\n",
      "\n",
      "Proposed Endpoint Array:\n",
      "[[312925 162371  18612]\n",
      " [313369 161001  18587]\n",
      " [314462 162872  18716]]\n",
      "\n",
      "1394.7214775717766\n",
      "wrong\n",
      "\n",
      "170.14405661086138\n",
      "correct\n",
      "\n",
      "17.52141546793523\n",
      "correct\n",
      "\n",
      "recall = 100.0\n",
      "precision = 66.66666666666666\n",
      "\n",
      "\n",
      "NEXT POINTS\n",
      "Seg id: 864691136694775836\n",
      "Endpoint Array:\n",
      "[[307899  98712  19067]\n",
      " [309700  87653  19669]]\n",
      "\n",
      "Proposed Endpoint Array:\n",
      "[[307875  98733  19067]\n",
      " [309699  87623  19669]]\n",
      "\n",
      "31.89043743820395\n",
      "correct\n",
      "\n",
      "30.01666203960727\n",
      "correct\n",
      "\n",
      "recall = 100.0\n",
      "precision = 100.0\n",
      "\n",
      "\n",
      "NEXT POINTS\n",
      "Seg id: 864691135632675511\n",
      "Endpoint Array:\n",
      "[[286807  94503  18046]\n",
      " [291939  86875  18287]\n",
      " [286266  89000  18566]]\n",
      "\n",
      "Proposed Endpoint Array:\n",
      "[[286233  88973  18565]\n",
      " [286754  94574  18046]\n",
      " [291916  86854  18287]]\n",
      "\n",
      "42.649736224272246\n",
      "correct\n",
      "\n",
      "88.60022573334675\n",
      "correct\n",
      "\n",
      "31.144823004794873\n",
      "correct\n",
      "\n",
      "recall = 100.0\n",
      "precision = 100.0\n",
      "\n",
      "\n",
      "NEXT POINTS\n",
      "Seg id: 864691135707508054\n",
      "Endpoint Array:\n",
      "[[299555 102903  17377]\n",
      " [299986 100770  17256]]\n",
      "\n",
      "Proposed Endpoint Array:\n",
      "[[299124 102255  17325]\n",
      " [299974 100710  17257]]\n",
      "\n",
      "779.9801279519883\n",
      "wrong\n",
      "\n",
      "61.196405123176966\n",
      "correct\n",
      "\n",
      "recall = 50.0\n",
      "precision = 50.0\n",
      "\n",
      "\n",
      "NEXT POINTS\n",
      "Seg id: 864691135008495997\n",
      "Endpoint Array:\n",
      "[[280639  88256  18965]\n",
      " [280377  87163  19077]]\n",
      "\n",
      "Proposed Endpoint Array:\n",
      "[[280369  87070  19072]\n",
      " [281211  87765  19069]]\n",
      "\n",
      "93.47726996441435\n",
      "correct\n",
      "\n",
      "760.9737183372366\n",
      "wrong\n",
      "\n",
      "recall = 50.0\n",
      "precision = 50.0\n",
      "\n",
      "\n",
      "NEXT POINTS\n",
      "Seg id: 864691135867535786\n",
      "Endpoint Array:\n",
      "[[299386 144111  17853]\n",
      " [308152 142095  17214]]\n",
      "\n",
      "Proposed Endpoint Array:\n",
      "[[299323 144074  17851]\n",
      " [305010 144099  17525]\n",
      " [308004 141944  17201]]\n",
      "\n",
      "73.08898685848642\n",
      "correct\n",
      "\n",
      "3739.6391537152354\n",
      "wrong\n",
      "\n",
      "211.83484132691675\n",
      "correct\n",
      "\n",
      "recall = 100.0\n",
      "precision = 66.66666666666666\n",
      "\n",
      "\n",
      "NEXT POINTS\n",
      "Seg id: 864691133676046827\n",
      "Endpoint Array:\n",
      "[[273490 135822  19621]\n",
      " [273461 135845  19600]]\n",
      "\n",
      "Proposed Endpoint Array:\n",
      "[[273405 135760  19617]\n",
      " [273506 135890  19604]]\n",
      "\n",
      "skipping\n",
      "\n",
      "Seg id: 864691133661730792\n",
      "Endpoint Array:\n",
      "[[283057 132640  16711]\n",
      " [282934 132656  16737]]\n",
      "\n",
      "Proposed Endpoint Array:\n",
      "[[282876 132677  16736]\n",
      " [283048 132633  16709]]\n",
      "\n",
      "61.69278726074872\n",
      "correct\n",
      "\n",
      "11.575836902790225\n",
      "correct\n",
      "\n",
      "recall = 100.0\n",
      "precision = 100.0\n",
      "\n",
      "\n",
      "NEXT POINTS\n",
      "Seg id: 864691135496491232\n",
      "Endpoint Array:\n",
      "[[291603 151786  16467]\n",
      " [290050 150005  15752]\n",
      " [290423 152780  15746]]\n",
      "\n",
      "Proposed Endpoint Array:\n",
      "[[289718 152264  15870]\n",
      " [289921 153611  15893]\n",
      " [290030 150006  15750]\n",
      " [290966 153509  15846]\n",
      " [291652 151753  16465]]\n",
      "\n",
      "skipping\n",
      "\n",
      "Seg id: 864691136615450396\n",
      "Endpoint Array:\n",
      "[[300397  94652  17399]\n",
      " [303732  84897  16745]]\n",
      "\n",
      "Proposed Endpoint Array:\n",
      "[[300358  94650  17398]\n",
      " [303729  84851  16745]]\n",
      "\n",
      "39.06404996924922\n",
      "correct\n",
      "\n",
      "46.09772228646444\n",
      "correct\n",
      "\n",
      "recall = 100.0\n",
      "precision = 100.0\n",
      "\n",
      "\n",
      "NEXT POINTS\n",
      "Seg id: 864691135650898103\n",
      "Endpoint Array:\n",
      "[[284058  92219  17275]\n",
      " [280477  80185  16526]]\n",
      "\n",
      "Proposed Endpoint Array:\n",
      "[[280183  88217  17062]\n",
      " [280459  80123  16525]\n",
      " [284087  92309  17277]]\n",
      "\n",
      "5574.674699029531\n",
      "wrong\n",
      "\n",
      "64.56779382943171\n",
      "correct\n",
      "\n",
      "94.57801012920498\n",
      "correct\n",
      "\n",
      "recall = 100.0\n",
      "precision = 66.66666666666666\n",
      "\n",
      "\n",
      "NEXT POINTS\n",
      "Seg id: 864691135279907910\n",
      "Endpoint Array:\n",
      "[[142439 252626  22975]\n",
      " [144188 253104  22654]]\n",
      "\n",
      "Proposed Endpoint Array:\n",
      "[[142305 252688  22865]\n",
      " [144163 253108  22652]]\n",
      "\n",
      "184.11952639521968\n",
      "correct\n",
      "\n",
      "25.39685019840059\n",
      "correct\n",
      "\n",
      "recall = 100.0\n",
      "precision = 100.0\n",
      "\n",
      "\n",
      "NEXT POINTS\n",
      "Seg id: 864691134977448021\n",
      "Endpoint Array:\n",
      "[[114021 233743  22040]\n",
      " [112548 233575  22682]]\n",
      "\n",
      "Proposed Endpoint Array:\n",
      "[[112069 234182  22430]\n",
      " [112560 233557  22686]\n",
      " [113340 233903  22080]]\n",
      "\n",
      "813.2613356111306\n",
      "wrong\n",
      "\n",
      "22.0\n",
      "correct\n",
      "\n",
      "700.6860923409283\n",
      "wrong\n",
      "\n",
      "recall = 50.0\n",
      "precision = 33.33333333333333\n",
      "\n",
      "\n",
      "NEXT POINTS\n",
      "Seg id: 864691134235862095\n",
      "Endpoint Array:\n",
      "[[133389 255584  22054]\n",
      " [133595 255928  22130]]\n",
      "\n",
      "Proposed Endpoint Array:\n",
      "[[133538 255844  22053]\n",
      " [133620 255966  22130]]\n",
      "\n",
      "127.41271522104849\n",
      "correct\n",
      "\n",
      "45.48626166217664\n",
      "correct\n",
      "\n",
      "recall = 100.0\n",
      "precision = 100.0\n",
      "\n",
      "\n",
      "NEXT POINTS\n",
      "Seg id: 864691136123301507\n",
      "Endpoint Array:\n",
      "[[119057 255814  24248]\n",
      " [120636 255518  25187]]\n",
      "\n",
      "Proposed Endpoint Array:\n",
      "[[116604 254798  24592]\n",
      " [119196 255790  24246]\n",
      " [120112 255341  25140]]\n",
      "\n",
      "2677.2749205115265\n",
      "wrong\n",
      "\n",
      "141.0709041581573\n",
      "correct\n",
      "\n",
      "555.0801743892498\n",
      "wrong\n",
      "\n",
      "recall = 50.0\n",
      "precision = 33.33333333333333\n",
      "\n",
      "\n",
      "NEXT POINTS\n",
      "Seg id: 864691132747855184\n",
      "Endpoint Array:\n",
      "[110778 257333  22958]\n",
      "\n",
      "Proposed Endpoint Array:\n",
      "nan\n",
      "\n",
      "skipping\n",
      "\n",
      "Seg id: 864691135434940914\n",
      "Endpoint Array:\n",
      "[[115300 229294  20749]\n",
      " [ 89806 185302  20453]\n",
      " [ 91679 127944  19550]]\n",
      "\n",
      "Proposed Endpoint Array:\n",
      "[[ 89623 185351  20469]\n",
      " [ 91719 127782  19549]\n",
      " [ 95998 164084  19657]\n",
      " [ 96402 163393  19548]\n",
      " [ 98154 182655  19611]\n",
      " [101520 195600  19848]\n",
      " [104516 199465  19944]\n",
      " [115396 229490  20744]]\n",
      "\n",
      "190.12101409365562\n",
      "correct\n",
      "\n",
      "166.86821147240718\n",
      "correct\n",
      "\n",
      "22117.368830853276\n",
      "wrong\n",
      "\n",
      "22898.264606733846\n",
      "wrong\n",
      "\n",
      "8797.992782447596\n",
      "wrong\n",
      "\n",
      "15608.735534949652\n",
      "wrong\n",
      "\n",
      "20426.300448196682\n",
      "wrong\n",
      "\n",
      "218.3048327454067\n",
      "correct\n",
      "\n",
      "recall = 100.0\n",
      "precision = 37.5\n",
      "\n",
      "\n",
      "NEXT POINTS\n",
      "Seg id: 864691136116034179\n",
      "Endpoint Array:\n",
      "[]\n",
      "\n",
      "Proposed Endpoint Array:\n",
      "[[114637 266763  22171]\n",
      " [116631 267078  22268]\n",
      " [119472 266904  21963]\n",
      " [123953 266879  22604]\n",
      " [124382 267093  22970]\n",
      " [124414 273298  23278]]\n",
      "\n",
      "skipping\n",
      "\n",
      "Seg id: 864691135816837566\n",
      "Endpoint Array:\n",
      "[[127036 252594  22227]\n",
      " [142688 236562  22581]]\n",
      "\n",
      "Proposed Endpoint Array:\n",
      "[[126371 252184  22314]\n",
      " [127073 252617  22225]\n",
      " [141769 239124  22632]\n",
      " [141888 237937  22589]\n",
      " [142722 236575  22578]]\n",
      "\n",
      "786.062338494855\n",
      "wrong\n",
      "\n",
      "43.61192497471305\n",
      "correct\n",
      "\n",
      "2722.3162931591914\n",
      "wrong\n",
      "\n",
      "1590.8139426092544\n",
      "wrong\n",
      "\n",
      "36.52396473549935\n",
      "correct\n",
      "\n",
      "recall = 100.0\n",
      "precision = 40.0\n",
      "\n",
      "\n",
      "NEXT POINTS\n",
      "Seg id: 864691135621495904\n",
      "Endpoint Array:\n",
      "[[346497  82778  27090]\n",
      " [339051  74578  26769]\n",
      " [339905  90093  27016]]\n",
      "\n",
      "Proposed Endpoint Array:\n",
      "[[338868  74498  26775]\n",
      " [339717  89832  27031]\n",
      " [340264  75862  26977]\n",
      " [346702  82894  27091]]\n",
      "\n",
      "199.81241202688085\n",
      "correct\n",
      "\n",
      "322.0093166354042\n",
      "correct\n",
      "\n",
      "1778.5637463976375\n",
      "wrong\n",
      "\n",
      "235.54617381736432\n",
      "correct\n",
      "\n",
      "recall = 100.0\n",
      "precision = 75.0\n",
      "\n",
      "\n",
      "NEXT POINTS\n",
      "Seg id: 864691135196787278\n",
      "Endpoint Array:\n",
      "[[362020  82097  27644]\n",
      " [362087  82108  27649]]\n",
      "\n",
      "Proposed Endpoint Array:\n",
      "[[361935  82123  27642]\n",
      " [362244  82101  27653]]\n",
      "\n",
      "skipping\n",
      "\n",
      "Seg id: 864691136357471324\n",
      "Endpoint Array:\n",
      "[[351839  91058  27284]\n",
      " [349567  97065  26976]]\n",
      "\n",
      "Proposed Endpoint Array:\n",
      "[[348533  96966  26984]\n",
      " [351851  91047  27291]]\n",
      "\n",
      "1038.7593561552164\n",
      "wrong\n",
      "\n",
      "17.72004514666935\n",
      "correct\n",
      "\n",
      "recall = 50.0\n",
      "precision = 50.0\n",
      "\n",
      "\n",
      "NEXT POINTS\n",
      "Seg id: 864691136347887475\n",
      "Endpoint Array:\n",
      "[[356329  81030  27146]\n",
      " [356347  81004  27144]]\n",
      "\n",
      "Proposed Endpoint Array:\n",
      "nan\n",
      "\n",
      "skipping\n",
      "\n",
      "Seg id: 864691136343165555\n",
      "Endpoint Array:\n",
      "[[357525  81584  25828]\n",
      " [358640  81180  25734]]\n",
      "\n",
      "Proposed Endpoint Array:\n",
      "[[357380  81771  25823]\n",
      " [358760  81167  25734]]\n",
      "\n",
      "236.6833327465202\n",
      "correct\n",
      "\n",
      "120.70211265756701\n",
      "correct\n",
      "\n",
      "recall = 100.0\n",
      "precision = 100.0\n",
      "\n",
      "\n",
      "NEXT POINTS\n",
      "Seg id: 864691134890549721\n",
      "Endpoint Array:\n",
      "[[351987  86221  25848]\n",
      " [352110  86192  25831]]\n",
      "\n",
      "Proposed Endpoint Array:\n",
      "[[351943  86211  25848]\n",
      " [352155  86220  25833]]\n",
      "\n",
      "45.12205669071391\n",
      "correct\n",
      "\n",
      "53.03772242470448\n",
      "correct\n",
      "\n",
      "recall = 100.0\n",
      "precision = 100.0\n",
      "\n",
      "\n",
      "NEXT POINTS\n",
      "Seg id: 864691135652094947\n",
      "Endpoint Array:\n",
      "[[347271  87374  25828]\n",
      " [347862  89018  24930]]\n",
      "\n",
      "Proposed Endpoint Array:\n",
      "[[346716  85535  25315]\n",
      " [347572  88056  25784]\n",
      " [347975  89182  24923]]\n",
      "\n",
      "1988.2442002933142\n",
      "wrong\n",
      "\n",
      "746.767031945037\n",
      "wrong\n",
      "\n",
      "199.28371734790576\n",
      "correct\n",
      "\n",
      "recall = 50.0\n",
      "precision = 33.33333333333333\n",
      "\n",
      "\n",
      "NEXT POINTS\n",
      "Seg id: 864691133525367772\n",
      "Endpoint Array:\n",
      "[[3345353475      78900      27433]\n",
      " [    353483      78877      27430]]\n",
      "\n",
      "Proposed Endpoint Array:\n",
      "nan\n",
      "\n",
      "skipping\n",
      "\n",
      "Seg id: 864691135609152739\n",
      "Endpoint Array:\n",
      "[[350303  87245  25848]\n",
      " [352494  73961  24070]\n",
      " [361312  78217  23289]\n",
      " [355414  99032  24187]\n",
      " [362931  90693  23843]\n",
      " [369298  84988  24004]\n",
      " [363628  84718  23270]\n",
      " [359997  79012  22863]\n",
      " [363894  77910  22917]\n",
      " [368113  80177  22869]]\n",
      "\n",
      "Proposed Endpoint Array:\n",
      "[[349868  86932  25823]\n",
      " [352458  73896  24069]\n",
      " [355370  98899  24197]\n",
      " [359906  78922  22887]\n",
      " [360941  78468  23396]\n",
      " [362357  89415  24482]\n",
      " [362953  90719  23842]\n",
      " [363732  84815  23340]\n",
      " [363869  77935  22916]\n",
      " [364460  79960  22917]\n",
      " [368179  80449  22861]\n",
      " [369108  85073  24029]]\n",
      "\n",
      "536.4876513024321\n",
      "wrong\n",
      "\n",
      "74.31016081263719\n",
      "correct\n",
      "\n",
      "140.44571905188138\n",
      "correct\n",
      "\n",
      "130.21904622596497\n",
      "correct\n",
      "\n",
      "460.5333864118865\n",
      "correct\n",
      "\n",
      "1539.831484286511\n",
      "wrong\n",
      "\n",
      "34.07345007480164\n",
      "correct\n",
      "\n",
      "158.50867484147358\n",
      "correct\n",
      "\n",
      "35.369478367654786\n",
      "correct\n",
      "\n",
      "2126.7007311796365\n",
      "wrong\n",
      "\n",
      "280.0071427660373\n",
      "correct\n",
      "\n",
      "209.6425529323663\n",
      "correct\n",
      "\n",
      "recall = 90.0\n",
      "precision = 75.0\n",
      "\n",
      "\n",
      "NEXT POINTS\n",
      "Seg id: 864691136854180462\n",
      "Endpoint Array:\n",
      "[]\n",
      "\n",
      "Proposed Endpoint Array:\n",
      "[[ 82198 126101  20073]\n",
      " [ 89860 172242  19554]\n",
      " [ 90708 199933  20438]\n",
      " [ 92181 181659  19915]\n",
      " [101457 198138  20378]\n",
      " [101785 213189  20846]\n",
      " [102138 214687  20498]\n",
      " [105307 232795  22292]\n",
      " [106126 237643  22017]\n",
      " [108614 235665  22223]\n",
      " [111528 213303  20730]\n",
      " [112311 209740  20409]\n",
      " [123943 224929  21481]]\n",
      "\n",
      "skipping\n",
      "\n",
      "Seg id: 864691134016784879\n",
      "Endpoint Array:\n",
      "[[108698 243200  21973]\n",
      " [108707 243206  21960]]\n",
      "\n",
      "Proposed Endpoint Array:\n",
      "[[108586 243257  21962]\n",
      " [108908 243090  21971]]\n",
      "\n",
      "skipping\n",
      "\n",
      "Seg id: 864691135461715680\n",
      "Endpoint Array:\n",
      "[[109971 248988  22943]\n",
      " [109861 248990  22952]]\n",
      "\n",
      "Proposed Endpoint Array:\n",
      "[[109716 249047  22952]\n",
      " [110041 248976  22944]]\n",
      "\n",
      "skipping\n",
      "\n",
      "Seg id: 864691134182969537\n",
      "Endpoint Array:\n",
      "[[128700 257839  21398]\n",
      " [129082 258007  21381]]\n",
      "\n",
      "Proposed Endpoint Array:\n",
      "[[128676 257827  21398]\n",
      " [129149 257980  21389]]\n",
      "\n",
      "skipping\n",
      "\n",
      "Seg id: 864691135702260616\n",
      "Endpoint Array:\n",
      "[[111700 241689  22797]\n",
      " [110188 241117  22872]]\n",
      "\n",
      "Proposed Endpoint Array:\n",
      "[[110190 241124  22871]\n",
      " [111951 241655  22804]]\n",
      "\n",
      "7.3484692283495345\n",
      "correct\n",
      "\n",
      "253.38902896534412\n",
      "correct\n",
      "\n",
      "recall = 100.0\n",
      "precision = 100.0\n",
      "\n",
      "\n",
      "NEXT POINTS\n",
      "Seg id: 864691136235124174\n",
      "Endpoint Array:\n",
      "[[116186 247468  23275]\n",
      " [114619 246629  23503]]\n",
      "\n",
      "Proposed Endpoint Array:\n",
      "[[114600 246529  23503]\n",
      " [116240 247528  23270]]\n",
      "\n",
      "101.78899744078434\n",
      "correct\n",
      "\n",
      "80.876448982383\n",
      "correct\n",
      "\n",
      "recall = 100.0\n",
      "precision = 100.0\n",
      "\n",
      "\n",
      "NEXT POINTS\n",
      "Seg id: 864691136584897745\n",
      "Endpoint Array:\n",
      "[[103037 175591  18434]\n",
      " [ 99978 172371  18836]]\n",
      "\n",
      "Proposed Endpoint Array:\n",
      "[[ 99985 172365  18832]\n",
      " [102559 175774  18513]]\n",
      "\n",
      "10.04987562112089\n",
      "correct\n",
      "\n",
      "517.8938115096569\n",
      "wrong\n",
      "\n",
      "recall = 50.0\n",
      "precision = 50.0\n",
      "\n",
      "\n",
      "NEXT POINTS\n",
      "Seg id: 864691135258412858\n",
      "Endpoint Array:\n",
      "[[104045 175065  18434]\n",
      " [104250 162713  19999]]\n",
      "\n",
      "Proposed Endpoint Array:\n",
      "[[102451 164865  19788]\n",
      " [104036 175081  18433]\n",
      " [104250 162698  20001]]\n",
      "\n",
      "2812.8323803596973\n",
      "wrong\n",
      "\n",
      "18.384776310850235\n",
      "correct\n",
      "\n",
      "15.132745950421556\n",
      "correct\n",
      "\n",
      "recall = 100.0\n",
      "precision = 66.66666666666666\n",
      "\n",
      "\n",
      "NEXT POINTS\n",
      "Seg id: 864691134996628976\n",
      "Endpoint Array:\n",
      "[[ 84884 179330  16386]\n",
      " [ 84548 179822  16236]]\n",
      "\n",
      "Proposed Endpoint Array:\n",
      "[[ 84456 179840  16237]\n",
      " [ 85008 179266  16385]]\n",
      "\n",
      "93.74966666607408\n",
      "correct\n",
      "\n",
      "139.5456914419073\n",
      "correct\n",
      "\n",
      "recall = 100.0\n",
      "precision = 100.0\n",
      "\n",
      "\n",
      "NEXT POINTS\n",
      "Seg id: 864691132647441812\n",
      "Endpoint Array:\n",
      "[[125649 172835  17141]\n",
      " [125655 172900  17179]]\n",
      "\n",
      "Proposed Endpoint Array:\n",
      "nan\n",
      "\n",
      "no proposed endpoints found, but ground truth endpoints exist\n",
      "\n",
      "NEXT POINTS\n",
      "Seg id: 864691135507956420\n",
      "Endpoint Array:\n",
      "[[104286 187511  18434]\n",
      " [108856 189773  20406]]\n",
      "\n",
      "Proposed Endpoint Array:\n",
      "[[102042 188495  18898]\n",
      " [103923 188671  19032]\n",
      " [104435 187230  18433]\n",
      " [105533 189773  20143]\n",
      " [105971 191175  19450]\n",
      " [108850 189766  20406]]\n",
      "\n",
      "2493.809936623078\n",
      "wrong\n",
      "\n",
      "1354.611752495895\n",
      "wrong\n",
      "\n",
      "318.0613148435377\n",
      "correct\n",
      "\n",
      "3097.149334468714\n",
      "wrong\n",
      "\n",
      "3347.05318153148\n",
      "wrong\n",
      "\n",
      "9.219544457292887\n",
      "correct\n",
      "\n",
      "recall = 100.0\n",
      "precision = 33.33333333333333\n",
      "\n",
      "\n",
      "NEXT POINTS\n",
      "Seg id: 864691136947970766\n",
      "Endpoint Array:\n",
      "[[103922 176481  18434]\n",
      " [100014 169299  19066]]\n",
      "\n",
      "Proposed Endpoint Array:\n",
      "[[ 99988 169282  19066]\n",
      " [103911 176513  18433]]\n",
      "\n",
      "31.064449134018133\n",
      "correct\n",
      "\n",
      "33.85262175962151\n",
      "correct\n",
      "\n",
      "recall = 100.0\n",
      "precision = 100.0\n",
      "\n",
      "\n",
      "NEXT POINTS\n",
      "Seg id: 864691136700953198\n",
      "Endpoint Array:\n",
      "[[108881 194031  22039]\n",
      " [110659 191115  23047]\n",
      " [100252 195857  22499]]\n",
      "\n",
      "Proposed Endpoint Array:\n",
      "[[100020 196076  22525]\n",
      " [110791 191455  23017]]\n",
      "\n",
      "320.09529830973776\n",
      "correct\n",
      "\n",
      "365.956281541935\n",
      "correct\n",
      "\n",
      "recall = 66.66666666666666\n",
      "precision = 100.0\n",
      "\n",
      "\n",
      "NEXT POINTS\n",
      "Seg id: 864691136597387729\n",
      "Endpoint Array:\n",
      "[[106626 175281  21972]\n",
      " [106601 175281  21974]]\n",
      "\n",
      "Proposed Endpoint Array:\n",
      "nan\n",
      "\n",
      "skipping\n",
      "\n",
      "Seg id: 864691136810680430\n",
      "Endpoint Array:\n",
      "[[116389 195392  19326]\n",
      " [121899 191082  17880]]\n",
      "\n",
      "Proposed Endpoint Array:\n",
      "[[116340 195429  19326]\n",
      " [118328 192695  18931]\n",
      " [121887 191045  17877]]\n",
      "\n",
      "61.40032573203501\n",
      "correct\n",
      "\n",
      "3345.079221782348\n",
      "wrong\n",
      "\n",
      "39.01281840626232\n",
      "correct\n",
      "\n",
      "recall = 100.0\n",
      "precision = 66.66666666666666\n",
      "\n",
      "\n",
      "NEXT POINTS\n",
      "Seg id: 864691135089638001\n",
      "Endpoint Array:\n",
      "[[122789 154701  20649]\n",
      " [122688 151314  20558]]\n",
      "\n",
      "Proposed Endpoint Array:\n",
      "[[122634 154535  20597]\n",
      " [122670 151366  20554]]\n",
      "\n",
      "232.991416150896\n",
      "correct\n",
      "\n",
      "55.17245689653489\n",
      "correct\n",
      "\n",
      "recall = 100.0\n",
      "precision = 100.0\n",
      "\n",
      "\n",
      "NEXT POINTS\n",
      "Seg id: 864691135319600870\n",
      "Endpoint Array:\n",
      "[[106608 111803  20796]\n",
      " [ 98290  97555  21045]]\n",
      "\n",
      "Proposed Endpoint Array:\n",
      "[[ 98239  97526  21044]\n",
      " [104882 104419  20465]\n",
      " [106878 111714  20734]]\n",
      "\n",
      "58.677082408722406\n",
      "correct\n",
      "\n",
      "7590.263038920324\n",
      "wrong\n",
      "\n",
      "290.9725072923557\n",
      "correct\n",
      "\n",
      "recall = 100.0\n",
      "precision = 66.66666666666666\n",
      "\n",
      "\n",
      "NEXT POINTS\n",
      "Seg id: 864691136558839249\n",
      "Endpoint Array:\n",
      "[[103138 188530  21200]\n",
      " [ 91780 189141  20879]]\n",
      "\n",
      "Proposed Endpoint Array:\n",
      "[[ 91669 189101  20878]\n",
      " [103261 188532  21198]]\n",
      "\n",
      "117.99152511939153\n",
      "correct\n",
      "\n",
      "123.03251602726817\n",
      "correct\n",
      "\n",
      "recall = 100.0\n",
      "precision = 100.0\n",
      "\n",
      "\n",
      "NEXT POINTS\n",
      "Seg id: 864691135012763638\n",
      "Endpoint Array:\n",
      "[]\n",
      "\n",
      "Proposed Endpoint Array:\n",
      "[[112251 180742  19999]\n",
      " [118154 182238  20644]\n",
      " [119806 176366  19944]\n",
      " [119999 179421  19713]\n",
      " [120353 178457  20094]\n",
      " [120638 173254  19290]\n",
      " [125587 180536  19740]\n",
      " [126506 181414  19738]\n",
      " [129693 171279  19014]\n",
      " [132024 172290  19199]\n",
      " [133112 169764  19091]\n",
      " [135124 169978  19058]]\n",
      "\n",
      "skipping\n",
      "\n",
      "Seg id: 864691135458639120\n",
      "Endpoint Array:\n",
      "[[127475 206611  21525]\n",
      " [128120 207267  21512]]\n",
      "\n",
      "Proposed Endpoint Array:\n",
      "[[127403 206533  21524]\n",
      " [127619 207230  21462]]\n",
      "\n",
      "106.155546251715\n",
      "correct\n",
      "\n",
      "504.84651132794806\n",
      "wrong\n",
      "\n",
      "recall = 50.0\n",
      "precision = 50.0\n",
      "\n",
      "\n",
      "NEXT POINTS\n",
      "Seg id: 864691135826764827\n",
      "Endpoint Array:\n",
      "[[122293 186204  19621]\n",
      " [124943 185661  18677]]\n",
      "\n",
      "Proposed Endpoint Array:\n",
      "[[122081 186207  19626]\n",
      " [124657 185322  18856]\n",
      " [124948 185655  18676]\n",
      " [127988 185971  19116]]\n",
      "\n",
      "skipping\n",
      "\n"
     ]
    }
   ],
   "source": [
    "#TEST 1: invalidation_d at default: 12000, WITH Humfrey_Smoothing: 50 iterations, Decimation_Factor = 0.50\n",
    "\n",
    "#should track total amount of correct gt recovered \n",
    "\n",
    "for index, row in load.iterrows():\n",
    "    #reset num correct\n",
    "    num_correct = 0\n",
    "    threshold = 500\n",
    "    endpoint_array = np.array(row[\"endpoints\"])\n",
    "    proposed_endpoints_array = np.array(row[\"proposed_endpoints\"])\n",
    "    print(f\"Seg id: %i\" %(row[\"seg_id\"]))\n",
    "    print(\"Endpoint Array:\")\n",
    "    print(endpoint_array)\n",
    "    #print(len(endpoint_array))\n",
    "    print()\n",
    "    print(\"Proposed Endpoint Array:\")\n",
    "    print(proposed_endpoints_array)\n",
    "    print()\n",
    "    #print(load[\"Endpoints\"])\n",
    "\n",
    "    #skip sharply angled/false merged\n",
    "    if row[\"comments\"] == 'a':\n",
    "        print(\"skipping\")\n",
    "        print()\n",
    "        continue\n",
    "\n",
    "    #skip small seg ids\n",
    "    if row[\"comments\"] == 's':\n",
    "        print(\"skipping\")\n",
    "        print()\n",
    "        continue \n",
    "   \n",
    "    #skip any seg ids with false merges: \n",
    "    if row[\"comments\"] in ('m', \"mm\", \"e\"):\n",
    "        print(\"skipping\")\n",
    "        print()\n",
    "        continue\n",
    "\n",
    "    #learn better pandas filtered rather than if else statements \n",
    "\n",
    "    #maybe skip v-shaped segments\n",
    "\n",
    "    #add in a label for ground truth \n",
    "    \n",
    "    #if both say no endpoints, then it's correct\n",
    "    if (len(proposed_endpoints_array.shape) == 0 and len(endpoint_array.shape) == 0):\n",
    "        print(\"correct, no endpoints\")\n",
    "        print(\"\\nNEXT POINTS\")\n",
    "        continue\n",
    "    #if we propose no endpoints but there are endpoints, it's wrong\n",
    "    elif (len(proposed_endpoints_array.shape) == 0 and len(endpoint_array.shape) > 0):\n",
    "        print(\"no proposed endpoints found, but ground truth endpoints exist\")\n",
    "        print(\"\\nNEXT POINTS\")\n",
    "        continue \n",
    "\n",
    "    #if we propose endpoints but there are none, it's wrong\n",
    "    elif proposed_endpoints_array.size > 0 and endpoint_array.size == 0:\n",
    "        print(\"not correct--too many proposed endpoints but none ground truth endpoints exist\")\n",
    "        print(\"\\nNEXT POINTS\")\n",
    "        continue\n",
    "    #should skip for now if the endpoint array is size zero to avoid divide by zero error\n",
    "    elif endpoint_array.size == 0:\n",
    "        print(\"array size is 0\")\n",
    "        print(\"\\nNEXT POINTS\")\n",
    "        continue\n",
    "    else:                                                                                   \n",
    "        for proposed_endpoint in proposed_endpoints_array:\n",
    "            smallest_distance= find_euclidian_distance(proposed_endpoint, endpoint_array)\n",
    "            print(smallest_distance)\n",
    "            \n",
    "            \n",
    "            #compare to threshold and return yes or no \n",
    "            if smallest_distance < threshold:\n",
    "                print(\"correct\")\n",
    "                num_correct = num_correct + 1\n",
    "                print()\n",
    "            else:\n",
    "                print(\"wrong\")\n",
    "                print()\n",
    "        #get precision and recall at end of each iteration \n",
    "        recall = get_recall(num_correct, endpoint_array)\n",
    "        precision = get_precision(num_correct, proposed_endpoints_array)\n",
    "        print(\"recall = \" + str(recall))\n",
    "        print(\"precision = \" + str(precision))\n",
    "        if recall > 100.0 or precision > 100.0:\n",
    "            print(\"ERROR: RESULTS OVER 100% DETECTED\")\n",
    "        print()\n",
    "        print(\"\\nNEXT POINTS\")\n",
    "        \n",
    "        \n",
    "    "
   ]
  },
  {
   "cell_type": "code",
   "execution_count": 75,
   "metadata": {},
   "outputs": [
    {
     "data": {
      "text/html": [
       "<div>\n",
       "<style scoped>\n",
       "    .dataframe tbody tr th:only-of-type {\n",
       "        vertical-align: middle;\n",
       "    }\n",
       "\n",
       "    .dataframe tbody tr th {\n",
       "        vertical-align: top;\n",
       "    }\n",
       "\n",
       "    .dataframe thead th {\n",
       "        text-align: right;\n",
       "    }\n",
       "</style>\n",
       "<table border=\"1\" class=\"dataframe\">\n",
       "  <thead>\n",
       "    <tr style=\"text-align: right;\">\n",
       "      <th></th>\n",
       "      <th>neuron</th>\n",
       "      <th>ng_link</th>\n",
       "      <th>seg_id</th>\n",
       "      <th>pink_pts</th>\n",
       "      <th>num_endpoints</th>\n",
       "      <th>Endpoints</th>\n",
       "      <th>Comments</th>\n",
       "      <th>proposed_endpoints</th>\n",
       "    </tr>\n",
       "  </thead>\n",
       "  <tbody>\n",
       "    <tr>\n",
       "      <th>0</th>\n",
       "      <td>8.646911e+17</td>\n",
       "      <td>https://neuroglancer.neuvue.io/?json_url=https...</td>\n",
       "      <td>864691135909994000</td>\n",
       "      <td>(402188, 228684, 24029)</td>\n",
       "      <td>2</td>\n",
       "      <td>[(402584, 228856, 23991), (402985, 229235, 235...</td>\n",
       "      <td>NaN</td>\n",
       "      <td>[(402567, 228758, 23991), (402990, 229222, 235...</td>\n",
       "    </tr>\n",
       "    <tr>\n",
       "      <th>1</th>\n",
       "      <td>NaN</td>\n",
       "      <td>NaN</td>\n",
       "      <td>864691135247440303</td>\n",
       "      <td>(401258, 224832, 24029)</td>\n",
       "      <td>3</td>\n",
       "      <td>[(401612, 224623, 23991), (405257, 226318, 236...</td>\n",
       "      <td>NaN</td>\n",
       "      <td>[(401467, 224644, 23990), (405021, 226754, 236...</td>\n",
       "    </tr>\n",
       "    <tr>\n",
       "      <th>2</th>\n",
       "      <td>NaN</td>\n",
       "      <td>NaN</td>\n",
       "      <td>864691134794123793</td>\n",
       "      <td>(401314, 228366, 24424)</td>\n",
       "      <td>2</td>\n",
       "      <td>[(401242, 228382, 24444), (400982, 228457, 245...</td>\n",
       "      <td>NaN</td>\n",
       "      <td>[(400269, 228563, 24514), (400319, 228912, 245...</td>\n",
       "    </tr>\n",
       "    <tr>\n",
       "      <th>3</th>\n",
       "      <td>NaN</td>\n",
       "      <td>NaN</td>\n",
       "      <td>864691134959738482</td>\n",
       "      <td>(400199, 220721, 24029)</td>\n",
       "      <td>7</td>\n",
       "      <td>[(401289, 218721, 23991), (399895, 216533, 235...</td>\n",
       "      <td>NaN</td>\n",
       "      <td>[(400448, 220975, 24009), (401240, 217916, 240...</td>\n",
       "    </tr>\n",
       "    <tr>\n",
       "      <th>4</th>\n",
       "      <td>NaN</td>\n",
       "      <td>NaN</td>\n",
       "      <td>864691135314714227</td>\n",
       "      <td>(397870, 232292, 24004)</td>\n",
       "      <td>2</td>\n",
       "      <td>[(397867, 232230, 23999), (397854, 232252, 239...</td>\n",
       "      <td>NaN</td>\n",
       "      <td>[(397815, 232393, 23996), (397931, 232013, 240...</td>\n",
       "    </tr>\n",
       "  </tbody>\n",
       "</table>\n",
       "</div>"
      ],
      "text/plain": [
       "         neuron                                            ng_link  \\\n",
       "0  8.646911e+17  https://neuroglancer.neuvue.io/?json_url=https...   \n",
       "1           NaN                                                NaN   \n",
       "2           NaN                                                NaN   \n",
       "3           NaN                                                NaN   \n",
       "4           NaN                                                NaN   \n",
       "\n",
       "               seg_id                 pink_pts  num_endpoints  \\\n",
       "0  864691135909994000  (402188, 228684, 24029)              2   \n",
       "1  864691135247440303  (401258, 224832, 24029)              3   \n",
       "2  864691134794123793  (401314, 228366, 24424)              2   \n",
       "3  864691134959738482  (400199, 220721, 24029)              7   \n",
       "4  864691135314714227  (397870, 232292, 24004)              2   \n",
       "\n",
       "                                           Endpoints Comments  \\\n",
       "0  [(402584, 228856, 23991), (402985, 229235, 235...      NaN   \n",
       "1  [(401612, 224623, 23991), (405257, 226318, 236...      NaN   \n",
       "2  [(401242, 228382, 24444), (400982, 228457, 245...      NaN   \n",
       "3  [(401289, 218721, 23991), (399895, 216533, 235...      NaN   \n",
       "4  [(397867, 232230, 23999), (397854, 232252, 239...      NaN   \n",
       "\n",
       "                                  proposed_endpoints  \n",
       "0  [(402567, 228758, 23991), (402990, 229222, 235...  \n",
       "1  [(401467, 224644, 23990), (405021, 226754, 236...  \n",
       "2  [(400269, 228563, 24514), (400319, 228912, 245...  \n",
       "3  [(400448, 220975, 24009), (401240, 217916, 240...  \n",
       "4  [(397815, 232393, 23996), (397931, 232013, 240...  "
      ]
     },
     "execution_count": 75,
     "metadata": {},
     "output_type": "execute_result"
    }
   ],
   "source": [
    "load.head()"
   ]
  },
  {
   "cell_type": "markdown",
   "metadata": {},
   "source": []
  },
  {
   "cell_type": "markdown",
   "metadata": {},
   "source": [
    "make threshold for each endpoint\n",
    "experiment with box (cannot overlap)\n",
    "for each endpoint see if it finds in box -- if yes true found endpont, if false --not an endpoint\n",
    "find distance from predicted to ground truth \n",
    "could still do MSE "
   ]
  },
  {
   "cell_type": "markdown",
   "metadata": {},
   "source": [
    "Threshold: \n",
    "-find the size of the segment (maybe connected componenets)\n",
    "-array from the skel\n",
    "-flat is edge case \n",
    "-maybe a percentage \n",
    "--a hard number \n",
    "\n",
    "\n",
    "\n"
   ]
  },
  {
   "cell_type": "code",
   "execution_count": 33,
   "metadata": {},
   "outputs": [
    {
     "name": "stdout",
     "output_type": "stream",
     "text": [
      "correct\n"
     ]
    }
   ],
   "source": [
    "if len(proposed_endpoints_array.shape) == 0:\n",
    "    print(\"correct\")\n",
    "\n",
    "\n",
    "\n"
   ]
  },
  {
   "cell_type": "code",
   "execution_count": null,
   "metadata": {},
   "outputs": [],
   "source": []
  },
  {
   "cell_type": "markdown",
   "metadata": {},
   "source": [
    "Need to complie results!!!! \n",
    "\n",
    "add to dataframe all of the precision and recallls \n",
    "plot the results and check for \n",
    "params don't have to be the best \n",
    "\n",
    "\n",
    "make a sepereate dataframe \n",
    "\n",
    "look: pd.concat\n",
    "\n",
    "mention the params \n",
    "\n",
    "or have a collumn that has run number "
   ]
  },
  {
   "cell_type": "markdown",
   "metadata": {},
   "source": [
    "PRECISION: #test at ground truth / # test  \n",
    "\n",
    "RECALL: # gt recovered / number ground truth \n",
    "(would be 100% if you found all the correct endponts...NO EXTRAS)"
   ]
  }
 ],
 "metadata": {
  "interpreter": {
   "hash": "aee8b7b246df8f9039afb4144a1f6fd8d2ca17a180786b69acc140d282b71a49"
  },
  "kernelspec": {
   "display_name": "Python 3.8.10 64-bit",
   "language": "python",
   "name": "python3"
  },
  "language_info": {
   "codemirror_mode": {
    "name": "ipython",
    "version": 3
   },
   "file_extension": ".py",
   "mimetype": "text/x-python",
   "name": "python",
   "nbconvert_exporter": "python",
   "pygments_lexer": "ipython3",
   "version": "3.8.10"
  },
  "orig_nbformat": 4
 },
 "nbformat": 4,
 "nbformat_minor": 2
}
