{
 "cells": [
  {
   "cell_type": "code",
   "execution_count": null,
   "metadata": {},
   "outputs": [],
   "source": [
    "from caveclient import CAVEclient\n",
    "from intern import array\n",
    "import pickle\n",
    "import numpy as np\n",
    "from agents import data_loader\n",
    "from cloudvolume import CloudVolume\n",
    "from membrane_detection import membranes\n",
    "from agents.scripts import precompute_membrane_vectors, create_post_matrix, merge_paths, get_soma\n",
    "import agents.sensor\n",
    "from agents.run import run_agents\n",
    "import aws.sqs as sqs\n",
    "import sys\n",
    "import time\n",
    "import ast\n",
    "import pandas as pd\n",
    "import agents.scripts as scripts\n",
    "from drive import drive\n",
    "from finding_orphans import *\n",
    "from math import sqrt\n",
    "from tip_finding.tip_finding import tip_finder_decimation"
   ]
  },
  {
   "cell_type": "code",
   "execution_count": 2,
   "metadata": {},
   "outputs": [],
   "source": [
    "load = pd.read_csv(\"agents/Data/endpoints_gt2.csv\")\n",
    "endpoints_dict = {}"
   ]
  },
  {
   "cell_type": "code",
   "execution_count": null,
   "metadata": {},
   "outputs": [],
   "source": [
    "load.head()"
   ]
  },
  {
   "cell_type": "code",
   "execution_count": 5,
   "metadata": {},
   "outputs": [],
   "source": [
    "#creating series objects for the desired collumns \n",
    "segIDs = load['seg_id']\n",
    "Endpoints = load['Endpoints']\n"
   ]
  },
  {
   "cell_type": "code",
   "execution_count": null,
   "metadata": {},
   "outputs": [],
   "source": [
    "for idx, i in enumerate(load['seg_id']):\n",
    "    try:\n",
    "        t1, skel, mesh_obj = tip_finder_decimation(str(i))\n",
    "        endpoints_dict[i] = t1\n",
    "    except:\n",
    "        print(f\"\\n\\nSeg {i} returned error on get. Skipping.\\n\")\n",
    "        pass\n",
    "\n",
    "load['Endpoints'] = load['Endpoints'].apply(lambda x: list(ast.literal_eval(x)))\n",
    "load['proposed_endpoints'] = load.seg_id.map(endpoints_dict)"
   ]
  },
  {
   "cell_type": "code",
   "execution_count": null,
   "metadata": {},
   "outputs": [],
   "source": [
    "#correctly  have 2 collumns for the proposed vs gt endpoints\n",
    "load.head()"
   ]
  },
  {
   "cell_type": "code",
   "execution_count": 8,
   "metadata": {},
   "outputs": [],
   "source": [
    "\n",
    "def find_euclidian_distance(proposed_endpoint, gt_endponts_array):\n",
    "    smallest_distance = 2**30\n",
    "    for endpoint in gt_endponts_array:\n",
    "        difference = proposed_endpoint - endpoint\n",
    "        distance = np.sqrt(np.sum(np.square(difference)))\n",
    "        if(distance < smallest_distance):\n",
    "            smallest_distance = distance \n",
    "    return smallest_distance \n",
    "            \n",
    "    \n",
    "     \n"
   ]
  },
  {
   "cell_type": "code",
   "execution_count": 50,
   "metadata": {},
   "outputs": [],
   "source": [
    "def get_recall(num_correct, array_endpoints): \n",
    "    recall = num_correct / len(array_endpoints)\n",
    "    return recall * 100"
   ]
  },
  {
   "cell_type": "code",
   "execution_count": 53,
   "metadata": {},
   "outputs": [],
   "source": [
    "def get_precision(num_correct, array_proposed): \n",
    "    precision = num_correct / len(array_proposed)\n",
    "    return precision * 100"
   ]
  },
  {
   "cell_type": "code",
   "execution_count": null,
   "metadata": {},
   "outputs": [],
   "source": [
    "#TEST 1: invalidation_d at default: 12000, WITH Humfrey_Smoothing: 50 iterations, Decimation_Factor = 0.50\n",
    "\n",
    "#should track total amount of correct gt recovered \n",
    "\n",
    "for index, row in load.iterrows():\n",
    "    #reset num correct\n",
    "    num_correct = 0\n",
    "    threshold = 500\n",
    "    endpoint_array = np.array(row[\"Endpoints\"])\n",
    "    proposed_endpoints_array = np.array(row[\"proposed_endpoints\"])\n",
    "    print(\"Endpoint Array:\")\n",
    "    print(endpoint_array)\n",
    "    #print(len(endpoint_array))\n",
    "    print()\n",
    "    print(\"Proposed Endpoint Array:\")\n",
    "    print(proposed_endpoints_array)\n",
    "    print()\n",
    "    #print(load[\"Endpoints\"])\n",
    "   \n",
    "    #if both say no endpoints, then it's correct\n",
    "    if (len(proposed_endpoints_array.shape) == 0 and len(endpoint_array.shape) == 0):\n",
    "        print(\"correct, no endpoints\")\n",
    "        print(\"\\nNEXT POINTS\")\n",
    "        continue\n",
    "    #if we propose no endpoints but there are endpoints, it's wrong\n",
    "    elif (len(proposed_endpoints_array.shape) == 0 and len(endpoint_array.shape) > 0):\n",
    "        print(\"no proposed endpoints found, but ground truth endpoints exist\")\n",
    "        print(\"\\nNEXT POINTS\")\n",
    "        continue \n",
    "\n",
    "    #if we propose endpoints but there are none, it's wrong\n",
    "    elif proposed_endpoints_array.size > 0 and endpoint_array.size == 0:\n",
    "        print(\"not correct--too many proposed endpoints but none ground truth endpoints exist\")\n",
    "        print(\"\\nNEXT POINTS\")\n",
    "        continue\n",
    "    #should skip for now if the endpoint array is size zero to avoid divide by zero error\n",
    "    elif endpoint_array.size == 0:\n",
    "        print(\"array size is 0\")\n",
    "        continue\n",
    "    else:                                                                                   \n",
    "        for proposed_endpoint in proposed_endpoints_array:\n",
    "            smallest_distance= find_euclidian_distance(proposed_endpoint, endpoint_array)\n",
    "            print(smallest_distance)\n",
    "            \n",
    "            \n",
    "            #compare to threshold and return yes or no \n",
    "            if smallest_distance < threshold:\n",
    "                print(\"correct\")\n",
    "                num_correct = num_correct + 1\n",
    "                print()\n",
    "            else:\n",
    "                print(\"wrong\")\n",
    "                print()\n",
    "        #get precision and recall at end of each iteration \n",
    "        print(\"recall = \" + str(get_recall(num_correct, endpoint_array)))\n",
    "        print(\"precision = \" + str(get_precision(num_correct, proposed_endpoints_array)))\n",
    "        print()\n",
    "        print(\"\\nNEXT POINTS\")\n",
    "        \n",
    "        \n",
    "    "
   ]
  },
  {
   "cell_type": "code",
   "execution_count": null,
   "metadata": {},
   "outputs": [],
   "source": [
    "load.head()"
   ]
  },
  {
   "cell_type": "markdown",
   "metadata": {},
   "source": []
  },
  {
   "cell_type": "markdown",
   "metadata": {},
   "source": [
    "make threshold for each endpoint\n",
    "experiment with box (cannot overlap)\n",
    "for each endpoint see if it finds in box -- if yes true found endpont, if false --not an endpoint\n",
    "find distance from predicted to ground truth \n",
    "could still do MSE "
   ]
  },
  {
   "cell_type": "markdown",
   "metadata": {},
   "source": [
    "Threshold: \n",
    "-find the size of the segment (maybe connected componenets)\n",
    "-array from the skel\n",
    "-flat is edge case \n",
    "-maybe a percentage \n",
    "--a hard number \n",
    "\n",
    "\n",
    "\n"
   ]
  },
  {
   "cell_type": "code",
   "execution_count": 33,
   "metadata": {},
   "outputs": [
    {
     "name": "stdout",
     "output_type": "stream",
     "text": [
      "correct\n"
     ]
    }
   ],
   "source": [
    "if len(proposed_endpoints_array.shape) == 0:\n",
    "    print(\"correct\")\n"
   ]
  },
  {
   "cell_type": "code",
   "execution_count": null,
   "metadata": {},
   "outputs": [],
   "source": []
  },
  {
   "cell_type": "markdown",
   "metadata": {},
   "source": [
    "PRECISION: #test at ground truth / # test  \n",
    "\n",
    "RECALL: # gt recovered / number ground truth \n",
    "(would be 100% if you found all the correct endponts...NO EXTRAS)"
   ]
  }
 ],
 "metadata": {
  "interpreter": {
   "hash": "aee8b7b246df8f9039afb4144a1f6fd8d2ca17a180786b69acc140d282b71a49"
  },
  "kernelspec": {
   "display_name": "Python 3.8.10 64-bit",
   "language": "python",
   "name": "python3"
  },
  "language_info": {
   "codemirror_mode": {
    "name": "ipython",
    "version": 3
   },
   "file_extension": ".py",
   "mimetype": "text/x-python",
   "name": "python",
   "nbconvert_exporter": "python",
   "pygments_lexer": "ipython3",
   "version": "3.8.10"
  },
  "orig_nbformat": 4
 },
 "nbformat": 4,
 "nbformat_minor": 2
}
