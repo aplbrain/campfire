{
 "cells": [
  {
   "cell_type": "code",
   "execution_count": 2,
   "id": "343f5a2e",
   "metadata": {},
   "outputs": [],
   "source": [
    "from cloudvolume import CloudVolume\n",
    "import numpy as np\n",
    "\n",
    "seg = CloudVolume(\"s3://bossdb-open-data/iarpa_microns/minnie/minnie65/seg\", use_https=True, parallel=True, mip=0)\n",
    "seg0 = CloudVolume(\"s3://bossdb-open-data/iarpa_microns/minnie/minnie65/seg\", use_https=True, parallel=True, mip=(8,8,40))\n",
    "seg1 = CloudVolume(\"s3://bossdb-open-data/iarpa_microns/minnie/minnie65/seg\", use_https=True, parallel=True, mip=(16,16,40))\n",
    "seg2 = CloudVolume(\"s3://bossdb-open-data/iarpa_microns/minnie/minnie65/seg\", use_https=True, parallel=True, mip=(32,32,40))\n"
   ]
  },
  {
   "cell_type": "code",
   "execution_count": 5,
   "id": "6f77a9fd",
   "metadata": {},
   "outputs": [
    {
     "name": "stderr",
     "output_type": "stream",
     "text": [
      "100%|██████████| 4/4 [00:00<00:00, 16.33it/s]\n",
      "Decompressing: 100%|██████████| 12/12 [00:00<00:00, 3536.51it/s]\n",
      "100%|██████████| 4/4 [00:00<00:00, 17.37it/s]\n",
      "Decompressing: 100%|██████████| 4/4 [00:00<00:00, 1681.25it/s]\n",
      "100%|██████████| 4/4 [00:00<00:00, 19.52it/s]\n",
      "Decompressing: 100%|██████████| 4/4 [00:00<00:00, 1655.05it/s]\n"
     ]
    }
   ],
   "source": [
    "endpoint = (107820, 233757, 21960)\n",
    "# starting_point = (107620, 233557, 21950)\n",
    "import numpy as np\n",
    "def get_bounds(endpoint, radius, mult=1):\n",
    "    bound  = (endpoint[0] - int(mult*radius[0]), \n",
    "            endpoint[0] + int(mult*radius[0]),\n",
    "            endpoint[1] - int(mult*radius[1]),\n",
    "            endpoint[1] + int(mult*radius[1]),\n",
    "            endpoint[2] - radius[2],\n",
    "            endpoint[2] + radius[2])\n",
    "    return bound\n",
    "b0 = get_bounds(np.divide(endpoint, np.array([2,2,1])), (100,100,10)) # 8 8 40 \n",
    "b1 = get_bounds(np.divide(endpoint, np.array([4,4,1])), (50,50,10))\n",
    "b2 = get_bounds(np.divide(endpoint, np.array([8,8,1])), (25,25,10))\n",
    "s0 = seg0[b0[0]:b0[1], b0[2]:b0[3], b0[4]:b0[5]]\n",
    "s1 = seg1[b1[0]:b1[1], b1[2]:b1[3], b1[4]:b1[5]]\n",
    "s2 = seg2[b2[0]:b2[1], b2[2]:b2[3], b2[4]:b2[5]]\n",
    "s0 = np.squeeze(s0)\n",
    "s0_1 = np.array([s0==864691133497316692])\n"
   ]
  },
  {
   "cell_type": "code",
   "execution_count": 17,
   "id": "df845356",
   "metadata": {},
   "outputs": [
    {
     "data": {
      "image/png": "[encoded data removed]",
      "text/plain": [
       "<Figure size 432x288 with 3 Axes>"
      ]
     },
     "metadata": {
      "needs_background": "light"
     },
     "output_type": "display_data"
    }
   ],
   "source": [
    "s0_1 = np.array([s0==864691135177057614])\n",
    "\n",
    "\n",
    "import matplotlib.pyplot as plt\n",
    "from scipy import ndimage\n",
    "\n",
    "fig,ax=plt.subplots(1,3)\n",
    "s0_slice = s0_1[0, :, :, 9]\n",
    "s1_slice = s1[:, :, 0]\n",
    "s2_slice = s2[:, :, 0]\n",
    "\n",
    "\n",
    "ax[0].imshow(s0_slice, cmap='gray')\n",
    "ax[1].imshow(s1_slice, cmap='gray') # vmin=np.min(s1_slice[s1_slice > 0])\n",
    "ax[2].imshow(s2_slice, cmap='gray', vmin=np.min(s2_slice[s2_slice > 0]))\n",
    "plt.show()"
   ]
  },
  {
   "cell_type": "code",
   "execution_count": 3,
   "id": "78529123",
   "metadata": {},
   "outputs": [
    {
     "data": {
      "text/plain": [
       "[100.0, 100.0, 10.0]"
      ]
     },
     "execution_count": 3,
     "metadata": {},
     "output_type": "execute_result"
    }
   ],
   "source": []
  },
  {
   "cell_type": "code",
   "execution_count": 3,
   "id": "0db1e611",
   "metadata": {},
   "outputs": [
    {
     "data": {
      "text/plain": [
       "Bbox([26385, 30308, 14850],[218809, 161359, 27858], dtype=int32)"
      ]
     },
     "execution_count": 3,
     "metadata": {},
     "output_type": "execute_result"
    }
   ],
   "source": [
    "seg.bounds"
   ]
  },
  {
   "cell_type": "code",
   "execution_count": 6,
   "id": "76f771dc",
   "metadata": {},
   "outputs": [
    {
     "data": {
      "text/plain": [
       "array([ 53910. , 116878.5,  21960. ])"
      ]
     },
     "execution_count": 6,
     "metadata": {},
     "output_type": "execute_result"
    }
   ],
   "source": [
    "np.divide(endpoint, np.array([2,2,1]))"
   ]
  },
  {
   "cell_type": "code",
   "execution_count": 7,
   "id": "764f6523",
   "metadata": {},
   "outputs": [],
   "source": [
    "b0 = get_bounds(np.divide(endpoint, np.array([2,2,1])), (100,100,10))"
   ]
  },
  {
   "cell_type": "code",
   "execution_count": 10,
   "id": "7622e320",
   "metadata": {},
   "outputs": [
    {
     "data": {
      "text/plain": [
       "(53810.0, 54010.0, 116778.5, 116978.5, 21950.0, 21970.0)"
      ]
     },
     "execution_count": 10,
     "metadata": {},
     "output_type": "execute_result"
    }
   ],
   "source": [
    "b0"
   ]
  },
  {
   "cell_type": "code",
   "execution_count": null,
   "id": "537426ba",
   "metadata": {},
   "outputs": [],
   "source": []
  }
 ],
 "metadata": {
  "kernelspec": {
   "display_name": "Python 3.8.10 ('venv': venv)",
   "language": "python",
   "name": "python3"
  },
  "language_info": {
   "codemirror_mode": {
    "name": "ipython",
    "version": 3
   },
   "file_extension": ".py",
   "mimetype": "text/x-python",
   "name": "python",
   "nbconvert_exporter": "python",
   "pygments_lexer": "ipython3",
   "version": "3.8.10"
  },
  "vscode": {
   "interpreter": {
    "hash": "e70cd6dbfbd84db0df722de387fd9a98787af89bf0e7b259e8f6e74e5c75f4bc"
   }
  }
 },
 "nbformat": 4,
 "nbformat_minor": 5
}
