{
 "cells": [
  {
   "cell_type": "code",
<<<<<<< HEAD
   "execution_count": null,
=======
   "execution_count": 1,
>>>>>>> 27df4ed3a36d5fe3e6ca81d6edd242acefd5fe22
   "id": "343f5a2e",
   "metadata": {},
   "outputs": [],
   "source": [
    "from cloudvolume import CloudVolume\n",
    "import numpy as np\n",
    "\n",
    "seg0 = CloudVolume(\"s3://bossdb-open-data/iarpa_microns/minnie/minnie65/seg\", use_https=True, parallel=True, mip=(8,8,40))\n",
    "seg1 = CloudVolume(\"s3://bossdb-open-data/iarpa_microns/minnie/minnie65/seg\", use_https=True, parallel=True, mip=(16,16,40))\n",
    "seg2 = CloudVolume(\"s3://bossdb-open-data/iarpa_microns/minnie/minnie65/seg\", use_https=True, parallel=True, mip=(32,32,40))\n"
   ]
  },
  {
   "cell_type": "code",
<<<<<<< HEAD
   "execution_count": null,
   "id": "6f77a9fd",
   "metadata": {},
   "outputs": [],
=======
   "execution_count": 2,
   "id": "6f77a9fd",
   "metadata": {},
   "outputs": [
    {
     "ename": "SyntaxError",
     "evalue": "invalid syntax (130164044.py, line 18)",
     "output_type": "error",
     "traceback": [
      "\u001b[0;36m  Input \u001b[0;32mIn [2]\u001b[0;36m\u001b[0m\n\u001b[0;31m    s0_1 = np.array([s0==])\u001b[0m\n\u001b[0m                         ^\u001b[0m\n\u001b[0;31mSyntaxError\u001b[0m\u001b[0;31m:\u001b[0m invalid syntax\n"
     ]
    }
   ],
>>>>>>> 27df4ed3a36d5fe3e6ca81d6edd242acefd5fe22
   "source": [
    "endpoint = (107820, 233757, 21960)\n",
    "# starting_point = (107620, 233557, 21950)\n",
    "import numpy as np\n",
    "def get_bounds(endpoint, radius, mult=1):\n",
    "    bound  = (endpoint[0] - int(mult*radius[0]), \n",
    "            endpoint[0] + int(mult*radius[0]),\n",
    "            endpoint[1] - int(mult*radius[1]),\n",
    "            endpoint[1] + int(mult*radius[1]),\n",
    "            endpoint[2] - radius[2],\n",
    "            endpoint[2] + radius[2])\n",
    "    return bound\n",
    "b0 = get_bounds(np.divide(endpoint, np.array([2,2,1])), (100,100,10)) # 8 8 40 \n",
    "b1 = get_bounds(np.divide(endpoint, np.array([4,4,1])), (50,50,10))\n",
    "b2 = get_bounds(np.divide(endpoint, np.array([8,8,1])), (25,25,10))\n",
    "s0 = seg0[b0[0]:b0[1], b0[2]:b0[3], b0[4]:b0[5]]\n",
    "s1 = seg1[b1[0]:b1[1], b1[2]:b1[3], b1[4]:b1[5]]\n",
    "s2 = seg2[b2[0]:b2[1], b2[2]:b2[3], b2[4]:b2[5]]\n",
<<<<<<< HEAD
    "s0 = np.squeeze(s0)"
=======
    "s0 = np.squeeze(s0)\n",
    "s0_1 = np.array([s0==864691133497316692])\n"
>>>>>>> 27df4ed3a36d5fe3e6ca81d6edd242acefd5fe22
   ]
  },
  {
   "cell_type": "code",
   "execution_count": null,
   "id": "df845356",
   "metadata": {},
   "outputs": [],
   "source": [
    "s0_1 = np.array([s0==864691135177057614])\n",
    "\n",
    "\n",
    "import matplotlib.pyplot as plt\n",
    "import scipy.misc\n",
    "from scipy import ndimage\n",
    "\n",
    "fig,ax=plt.subplots(1,3)\n",
<<<<<<< HEAD
    "s0_slice = s0_1[0, :, :, 9]\n",
    "s1_slice = s1[:, :, 0]\n",
    "s2_slice = s2[:, :, 0]\n",
    "\n",
=======
    "s0_slice = s0_1[0, :, :, 1]\n",
    "s1_slice = s1[:, :, 1]\n",
    "s2_slice = s2[:, :, 1]\n",
>>>>>>> 27df4ed3a36d5fe3e6ca81d6edd242acefd5fe22
    "\n",
    "rotate_s0 = ndimage.rotate(s0_slice, 270) \n",
    "ax[0].imshow(rotate_s0, cmap='gray')\n",
    "ax[1].imshow(s1_slice, cmap='gray') # vmin=np.min(s1_slice[s1_slice > 0])\n",
    "ax[2].imshow(s2_slice, cmap='gray', vmin=np.min(s2_slice[s2_slice > 0]))\n",
    "plt.show()"
   ]
  },
  {
   "cell_type": "code",
   "execution_count": null,
   "id": "78529123",
   "metadata": {},
   "outputs": [],
   "source": [
    "s0_1.shape"
   ]
  }
 ],
 "metadata": {
  "kernelspec": {
   "display_name": "Python 3.8.10 ('venv': venv)",
   "language": "python",
   "name": "python3"
  },
  "language_info": {
   "codemirror_mode": {
    "name": "ipython",
    "version": 3
   },
   "file_extension": ".py",
   "mimetype": "text/x-python",
   "name": "python",
   "nbconvert_exporter": "python",
   "pygments_lexer": "ipython3",
   "version": "3.8.10"
  },
  "vscode": {
   "interpreter": {
    "hash": "e731f8991311859ddede0f108df595767e8c5b416a1a66775f2bc647dc4fa573"
   }
  }
 },
 "nbformat": 4,
 "nbformat_minor": 5
}
