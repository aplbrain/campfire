{
 "cells": [
  {
   "cell_type": "code",
   "execution_count": 1,
   "metadata": {},
   "outputs": [
    {
     "name": "stderr",
     "output_type": "stream",
     "text": [
      "face_normals incorrect shape, ignoring!\n"
     ]
    },
    {
     "name": "stdout",
     "output_type": "stream",
     "text": [
      "Warning: deduplication not currently supported for this layer's variable layered draco meshes\n"
     ]
    }
   ],
   "source": [
    "from orphan_mesh import Smoothing\n",
    "mesh = Smoothing(864691135247440303)\n",
    "smoothed_mesh = mesh.bilaplacian_smoothing()\n"
   ]
  },
  {
   "cell_type": "code",
   "execution_count": 7,
   "metadata": {},
   "outputs": [
    {
     "name": "stdout",
     "output_type": "stream",
     "text": [
      "setting up renderer\n",
      "done setting up\n",
      "actors added\n",
      "camera set\n",
      "render done\n",
      "finalizing..\n"
     ]
    },
    {
     "data": {
      "text/plain": [
       "<vtkmodules.vtkRenderingOpenGL2.vtkOpenGLRenderer(0x7fb33b556e00) at 0x13e609fa0>"
      ]
     },
     "execution_count": 7,
     "metadata": {},
     "output_type": "execute_result"
    }
   ],
   "source": [
    "from meshparty import trimesh_vtk\n",
    "mesh_actor = trimesh_vtk.mesh_actor(mesh.mesh, opacity=.5)\n",
    "trimesh_vtk.render_actors([mesh_actor])"
   ]
  },
  {
   "cell_type": "code",
   "execution_count": null,
   "metadata": {},
   "outputs": [],
   "source": []
  }
 ],
 "metadata": {
  "interpreter": {
   "hash": "31f2aee4e71d21fbe5cf8b01ff0e069b9275f58929596ceb00d14d90e3e16cd6"
  },
  "kernelspec": {
   "display_name": "Python 3.8.9 64-bit",
   "language": "python",
   "name": "python3"
  },
  "language_info": {
   "codemirror_mode": {
    "name": "ipython",
    "version": 3
   },
   "file_extension": ".py",
   "mimetype": "text/x-python",
   "name": "python",
   "nbconvert_exporter": "python",
   "pygments_lexer": "ipython3",
   "version": "3.8.9"
  },
  "orig_nbformat": 4
 },
 "nbformat": 4,
 "nbformat_minor": 2
}
