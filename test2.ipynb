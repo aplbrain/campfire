{
 "cells": [
  {
   "cell_type": "code",
   "execution_count": 8,
   "metadata": {},
   "outputs": [],
   "source": [
    "import pickle\n",
    "from drive import segment_points"
   ]
  },
  {
   "cell_type": "code",
   "execution_count": 7,
   "metadata": {},
   "outputs": [],
   "source": [
    "good_tips_thick, good_tips_thin = pickle.load(open(\"tips.pkl\", \"rb\"))"
   ]
  },
  {
   "cell_type": "code",
   "execution_count": 11,
   "metadata": {},
   "outputs": [
    {
     "name": "stdout",
     "output_type": "stream",
     "text": [
      "Ext Time 0.0009200572967529297\n",
      "[1611894.59016393  916850.24590164  942102.        ]\n",
      "[201486.82377049 114606.2807377   23552.55      ]\n",
      "[201186, 201786, 114306, 114906, 23522, 23582]\n",
      "Bounds Time 0.009380102157592773\n"
     ]
    },
    {
     "name": "stderr",
     "output_type": "stream",
     "text": [
      "Minishard Indices: 100%|██████████| 2/2 [00:00<00:00,  9.74it/s]\n",
      "100%|██████████| 50/50 [00:01<00:00, 26.38it/s] \n",
      "Decompressing: 100%|██████████| 120/120 [00:00<00:00, 698.46it/s]\n",
      "Minishard Indices: 100%|██████████| 4/4 [00:00<00:00, 14.46it/s]\n",
      "100%|██████████| 32/32 [00:00<00:00, 49.30it/s]\n",
      "Decompressing: 100%|██████████| 60/60 [00:00<00:00, 1713.25it/s]\n"
     ]
    },
    {
     "name": "stdout",
     "output_type": "stream",
     "text": [
      "Seg EM Time 10.771156787872314\n",
      "PULL False\n"
     ]
    },
    {
     "name": "stderr",
     "output_type": "stream",
     "text": [
      "10/28/2022 06:02:45 PM INFO: Remote TPU is not linked into jax; skipping remote TPU. \n",
      "10/28/2022 06:02:45 PM INFO: Unable to initialize backend 'tpu_driver': Could not initialize backend 'tpu_driver' \n",
      "10/28/2022 06:02:45 PM INFO: Unable to initialize backend 'cuda': module 'jaxlib.xla_extension' has no attribute 'GpuAllocatorConfig' \n",
      "10/28/2022 06:02:45 PM INFO: Unable to initialize backend 'rocm': module 'jaxlib.xla_extension' has no attribute 'GpuAllocatorConfig' \n",
      "10/28/2022 06:02:45 PM INFO: Unable to initialize backend 'tpu': module 'jaxlib.xla_extension' has no attribute 'get_tpu_client' \n",
      "10/28/2022 06:02:45 PM INFO: Starting flow estimation for 100 patches. \n",
      "10/28/2022 06:02:45 PM INFO: .. estimating 100 patches. \n",
      "10/28/2022 06:02:49 PM INFO: .. done. \n",
      "10/28/2022 06:02:49 PM INFO: Flow field estimation complete. \n",
      "10/28/2022 06:02:49 PM INFO: Starting flow estimation for 9 patches. \n",
      "10/28/2022 06:02:49 PM INFO: .. estimating 9 patches. \n",
      "10/28/2022 06:02:50 PM INFO: .. done. \n",
      "10/28/2022 06:02:50 PM INFO: Flow field estimation complete. \n",
      "10/28/2022 06:02:54 PM INFO: t=1000: dt=0.100000, alpha=0.051514, n_pos=71, cap=0.214359, v_max=0.000625, e_kin=0.000007 \n",
      "10/28/2022 06:02:54 PM INFO: t=2000: dt=0.100000, alpha=0.004617, n_pos=311, cap=0.555992, v_max=0.000012, e_kin=0.000000 \n",
      "10/28/2022 06:02:54 PM INFO: t=3000: dt=0.100000, alpha=0.020434, n_pos=163, cap=1.191818, v_max=0.000002, e_kin=0.000000 \n",
      "10/28/2022 06:02:54 PM INFO: t=4000: dt=0.100000, alpha=0.056391, n_pos=62, cap=2.810246, v_max=0.000002, e_kin=0.000000 \n",
      "10/28/2022 06:02:54 PM INFO: t=5000: dt=0.100000, alpha=0.061112, n_pos=54, cap=6.626416, v_max=0.000001, e_kin=0.000000 \n",
      "10/28/2022 06:02:54 PM INFO: t=6000: dt=0.100000, alpha=0.019046, n_pos=170, cap=10.000000, v_max=0.000002, e_kin=0.000000 \n",
      "/Users/RupaChalavadi/Desktop/CRIMSON/Summer/Campfire/campfire/agents/scripts.py:1221: VisibleDeprecationWarning: Creating an ndarray from ragged nested sequences (which is a list-or-tuple of lists-or-tuples-or ndarrays with different lengths or shapes) is deprecated. If you meant to do this, you must specify 'dtype=object' when creating the ndarray.\n",
      "  x, _, _ = np.array(mesh.relax_mesh(x, ffield_com, config))\n"
     ]
    },
    {
     "name": "stdout",
     "output_type": "stream",
     "text": [
      "32 31 31 False 1 0.9459944\n"
     ]
    },
    {
     "name": "stderr",
     "output_type": "stream",
     "text": [
      "10/28/2022 06:02:55 PM INFO: Starting flow estimation for 100 patches. \n",
      "10/28/2022 06:02:55 PM INFO: .. estimating 100 patches. \n",
      "10/28/2022 06:02:57 PM INFO: .. done. \n",
      "10/28/2022 06:02:57 PM INFO: Flow field estimation complete. \n",
      "10/28/2022 06:02:57 PM INFO: Starting flow estimation for 9 patches. \n",
      "10/28/2022 06:02:57 PM INFO: .. estimating 9 patches. \n",
      "10/28/2022 06:02:57 PM INFO: .. done. \n",
      "10/28/2022 06:02:57 PM INFO: Flow field estimation complete. \n",
      "10/28/2022 06:02:57 PM INFO: t=1000: dt=0.100000, alpha=0.000159, n_pos=646, cap=0.235795, v_max=0.158976, e_kin=0.747567 \n",
      "10/28/2022 06:02:57 PM INFO: t=2000: dt=0.100000, alpha=0.004954, n_pos=304, cap=0.555992, v_max=0.077359, e_kin=0.096726 \n",
      "10/28/2022 06:02:57 PM INFO: t=3000: dt=0.100000, alpha=0.004525, n_pos=313, cap=1.311000, v_max=0.156403, e_kin=0.487745 \n",
      "10/28/2022 06:02:57 PM INFO: t=4000: dt=0.100000, alpha=0.003281, n_pos=345, cap=3.091271, v_max=0.016483, e_kin=0.007513 \n",
      "10/28/2022 06:02:57 PM INFO: t=5000: dt=0.100000, alpha=0.001341, n_pos=434, cap=7.289057, v_max=0.000965, e_kin=0.000036 \n",
      "10/28/2022 06:02:57 PM INFO: t=6000: dt=0.100000, alpha=0.000787, n_pos=487, cap=10.000000, v_max=0.000057, e_kin=0.000000 \n"
     ]
    },
    {
     "name": "stdout",
     "output_type": "stream",
     "text": [
      "31 30 30 False 1 -5.683529\n"
     ]
    },
    {
     "name": "stderr",
     "output_type": "stream",
     "text": [
      "10/28/2022 06:02:58 PM INFO: Starting flow estimation for 100 patches. \n",
      "10/28/2022 06:02:58 PM INFO: .. estimating 100 patches. \n",
      "10/28/2022 06:03:00 PM INFO: .. done. \n",
      "10/28/2022 06:03:00 PM INFO: Flow field estimation complete. \n",
      "10/28/2022 06:03:00 PM INFO: Starting flow estimation for 9 patches. \n",
      "10/28/2022 06:03:00 PM INFO: .. estimating 9 patches. \n",
      "10/28/2022 06:03:00 PM INFO: .. done. \n",
      "10/28/2022 06:03:00 PM INFO: Flow field estimation complete. \n",
      "10/28/2022 06:03:00 PM INFO: t=1000: dt=0.100000, alpha=0.000005, n_pos=1000, cap=0.259374, v_max=0.000000, e_kin=0.000000 \n",
      "10/28/2022 06:03:00 PM INFO: t=2000: dt=0.100000, alpha=0.000000, n_pos=1000, cap=0.740025, v_max=0.000000, e_kin=0.000000 \n",
      "10/28/2022 06:03:00 PM INFO: t=3000: dt=0.100000, alpha=0.000000, n_pos=1000, cap=2.111379, v_max=0.000000, e_kin=0.000000 \n",
      "10/28/2022 06:03:00 PM INFO: t=4000: dt=0.100000, alpha=0.000000, n_pos=1000, cap=6.024014, v_max=0.000000, e_kin=0.000000 \n",
      "10/28/2022 06:03:00 PM INFO: t=5000: dt=0.100000, alpha=0.000000, n_pos=1000, cap=10.000000, v_max=0.000000, e_kin=0.000000 \n"
     ]
    },
    {
     "name": "stdout",
     "output_type": "stream",
     "text": [
      "30 29 29 False 1 0.0\n"
     ]
    },
    {
     "name": "stderr",
     "output_type": "stream",
     "text": [
      "10/28/2022 06:03:00 PM INFO: Starting flow estimation for 100 patches. \n",
      "10/28/2022 06:03:00 PM INFO: .. estimating 100 patches. \n",
      "10/28/2022 06:03:02 PM INFO: .. done. \n",
      "10/28/2022 06:03:02 PM INFO: Flow field estimation complete. \n",
      "10/28/2022 06:03:02 PM INFO: Starting flow estimation for 9 patches. \n",
      "10/28/2022 06:03:02 PM INFO: .. estimating 9 patches. \n",
      "10/28/2022 06:03:03 PM INFO: .. done. \n",
      "10/28/2022 06:03:03 PM INFO: Flow field estimation complete. \n",
      "10/28/2022 06:03:03 PM INFO: t=1000: dt=0.100000, alpha=0.000005, n_pos=1000, cap=0.259374, v_max=0.000000, e_kin=0.000000 \n",
      "10/28/2022 06:03:03 PM INFO: t=2000: dt=0.100000, alpha=0.000000, n_pos=1000, cap=0.740025, v_max=0.000000, e_kin=0.000000 \n",
      "10/28/2022 06:03:03 PM INFO: t=3000: dt=0.100000, alpha=0.000000, n_pos=1000, cap=2.111379, v_max=0.000000, e_kin=0.000000 \n",
      "10/28/2022 06:03:03 PM INFO: t=4000: dt=0.100000, alpha=0.000000, n_pos=1000, cap=6.024014, v_max=0.000000, e_kin=0.000000 \n",
      "10/28/2022 06:03:03 PM INFO: t=5000: dt=0.100000, alpha=0.000000, n_pos=1000, cap=10.000000, v_max=0.000000, e_kin=0.000000 \n"
     ]
    },
    {
     "name": "stdout",
     "output_type": "stream",
     "text": [
      "29 28 28 False 1 0.0\n"
     ]
    },
    {
     "name": "stderr",
     "output_type": "stream",
     "text": [
      "10/28/2022 06:03:03 PM INFO: Starting flow estimation for 100 patches. \n",
      "10/28/2022 06:03:03 PM INFO: .. estimating 100 patches. \n",
      "10/28/2022 06:03:05 PM INFO: .. done. \n",
      "10/28/2022 06:03:05 PM INFO: Flow field estimation complete. \n",
      "10/28/2022 06:03:05 PM INFO: Starting flow estimation for 9 patches. \n",
      "10/28/2022 06:03:05 PM INFO: .. estimating 9 patches. \n",
      "10/28/2022 06:03:05 PM INFO: .. done. \n",
      "10/28/2022 06:03:05 PM INFO: Flow field estimation complete. \n",
      "10/28/2022 06:03:05 PM INFO: t=1000: dt=0.100000, alpha=0.000005, n_pos=1000, cap=0.259374, v_max=0.000000, e_kin=0.000000 \n",
      "10/28/2022 06:03:05 PM INFO: t=2000: dt=0.100000, alpha=0.000000, n_pos=1000, cap=0.740025, v_max=0.000000, e_kin=0.000000 \n",
      "10/28/2022 06:03:05 PM INFO: t=3000: dt=0.100000, alpha=0.000000, n_pos=1000, cap=2.111379, v_max=0.000000, e_kin=0.000000 \n",
      "10/28/2022 06:03:05 PM INFO: t=4000: dt=0.100000, alpha=0.000000, n_pos=1000, cap=6.024014, v_max=0.000000, e_kin=0.000000 \n",
      "10/28/2022 06:03:05 PM INFO: t=5000: dt=0.100000, alpha=0.000000, n_pos=1000, cap=10.000000, v_max=0.000000, e_kin=0.000000 \n"
     ]
    },
    {
     "name": "stdout",
     "output_type": "stream",
     "text": [
      "28 27 27 False 1 0.0\n"
     ]
    },
    {
     "name": "stderr",
     "output_type": "stream",
     "text": [
      "10/28/2022 06:03:06 PM INFO: Starting flow estimation for 100 patches. \n",
      "10/28/2022 06:03:06 PM INFO: .. estimating 100 patches. \n",
      "10/28/2022 06:03:08 PM INFO: .. done. \n",
      "10/28/2022 06:03:08 PM INFO: Flow field estimation complete. \n",
      "10/28/2022 06:03:08 PM INFO: Starting flow estimation for 9 patches. \n",
      "10/28/2022 06:03:08 PM INFO: .. estimating 9 patches. \n",
      "10/28/2022 06:03:08 PM INFO: .. done. \n",
      "10/28/2022 06:03:08 PM INFO: Flow field estimation complete. \n",
      "10/28/2022 06:03:08 PM INFO: t=1000: dt=0.100000, alpha=0.036237, n_pos=106, cap=0.214359, v_max=0.001216, e_kin=0.000039 \n",
      "10/28/2022 06:03:08 PM INFO: t=2000: dt=0.100000, alpha=0.002850, n_pos=359, cap=0.459497, v_max=0.000022, e_kin=0.000000 \n",
      "10/28/2022 06:03:08 PM INFO: t=3000: dt=0.100000, alpha=0.010740, n_pos=227, cap=1.083471, v_max=0.000001, e_kin=0.000000 \n",
      "10/28/2022 06:03:08 PM INFO: t=4000: dt=0.100000, alpha=0.006902, n_pos=271, cap=2.554769, v_max=0.000001, e_kin=0.000000 \n",
      "10/28/2022 06:03:08 PM INFO: t=5000: dt=0.100000, alpha=0.017225, n_pos=180, cap=5.476376, v_max=0.000001, e_kin=0.000000 \n",
      "10/28/2022 06:03:08 PM INFO: t=6000: dt=0.100000, alpha=0.068255, n_pos=43, cap=10.000000, v_max=0.000001, e_kin=0.000000 \n"
     ]
    },
    {
     "name": "stdout",
     "output_type": "stream",
     "text": [
      "27 26 26 False 1 1.252213\n"
     ]
    },
    {
     "name": "stderr",
     "output_type": "stream",
     "text": [
      "10/28/2022 06:03:09 PM INFO: Starting flow estimation for 100 patches. \n",
      "10/28/2022 06:03:09 PM INFO: .. estimating 100 patches. \n",
      "10/28/2022 06:03:10 PM INFO: .. done. \n",
      "10/28/2022 06:03:10 PM INFO: Flow field estimation complete. \n",
      "10/28/2022 06:03:10 PM INFO: Starting flow estimation for 9 patches. \n",
      "10/28/2022 06:03:10 PM INFO: .. estimating 9 patches. \n",
      "10/28/2022 06:03:11 PM INFO: .. done. \n",
      "10/28/2022 06:03:11 PM INFO: Flow field estimation complete. \n",
      "10/28/2022 06:03:11 PM INFO: t=1000: dt=0.100000, alpha=0.055268, n_pos=64, cap=0.214359, v_max=0.000225, e_kin=0.000001 \n",
      "10/28/2022 06:03:11 PM INFO: t=2000: dt=0.100000, alpha=0.001165, n_pos=448, cap=0.555992, v_max=0.000011, e_kin=0.000000 \n",
      "10/28/2022 06:03:11 PM INFO: t=3000: dt=0.100000, alpha=0.080973, n_pos=26, cap=1.191818, v_max=0.000001, e_kin=0.000000 \n",
      "10/28/2022 06:03:11 PM INFO: t=4000: dt=0.100000, alpha=0.057535, n_pos=60, cap=2.322517, v_max=0.000001, e_kin=0.000000 \n",
      "10/28/2022 06:03:11 PM INFO: t=5000: dt=0.100000, alpha=0.014375, n_pos=198, cap=4.978524, v_max=0.000001, e_kin=0.000000 \n",
      "10/28/2022 06:03:11 PM INFO: t=6000: dt=0.100000, alpha=0.071055, n_pos=39, cap=10.000000, v_max=0.000001, e_kin=0.000000 \n"
     ]
    },
    {
     "name": "stdout",
     "output_type": "stream",
     "text": [
      "26 25 25 False 1 0.43985233\n"
     ]
    },
    {
     "name": "stderr",
     "output_type": "stream",
     "text": [
      "10/28/2022 06:03:11 PM INFO: Starting flow estimation for 100 patches. \n",
      "10/28/2022 06:03:11 PM INFO: .. estimating 100 patches. \n",
      "10/28/2022 06:03:13 PM INFO: .. done. \n",
      "10/28/2022 06:03:13 PM INFO: Flow field estimation complete. \n",
      "10/28/2022 06:03:13 PM INFO: Starting flow estimation for 9 patches. \n",
      "10/28/2022 06:03:13 PM INFO: .. estimating 9 patches. \n",
      "10/28/2022 06:03:13 PM INFO: .. done. \n",
      "10/28/2022 06:03:13 PM INFO: Flow field estimation complete. \n",
      "10/28/2022 06:03:13 PM INFO: t=1000: dt=0.100000, alpha=0.031481, n_pos=120, cap=0.235795, v_max=0.000361, e_kin=0.000004 \n",
      "10/28/2022 06:03:13 PM INFO: t=2000: dt=0.100000, alpha=0.003027, n_pos=353, cap=0.555992, v_max=0.000006, e_kin=0.000000 \n",
      "10/28/2022 06:03:13 PM INFO: t=3000: dt=0.100000, alpha=0.026537, n_pos=137, cap=1.311000, v_max=0.000001, e_kin=0.000000 \n",
      "10/28/2022 06:03:13 PM INFO: t=4000: dt=0.100000, alpha=0.027904, n_pos=132, cap=2.810246, v_max=0.000001, e_kin=0.000000 \n",
      "10/28/2022 06:03:14 PM INFO: t=5000: dt=0.100000, alpha=0.073970, n_pos=35, cap=6.024014, v_max=0.000001, e_kin=0.000000 \n",
      "10/28/2022 06:03:14 PM INFO: t=6000: dt=0.100000, alpha=0.074717, n_pos=34, cap=10.000000, v_max=0.000001, e_kin=0.000000 \n"
     ]
    },
    {
     "name": "stdout",
     "output_type": "stream",
     "text": [
      "25 24 24 False 1 0.5281463\n"
     ]
    },
    {
     "name": "stderr",
     "output_type": "stream",
     "text": [
      "10/28/2022 06:03:14 PM INFO: Starting flow estimation for 100 patches. \n",
      "10/28/2022 06:03:14 PM INFO: .. estimating 100 patches. \n",
      "10/28/2022 06:03:16 PM INFO: .. done. \n",
      "10/28/2022 06:03:16 PM INFO: Flow field estimation complete. \n",
      "10/28/2022 06:03:16 PM INFO: Starting flow estimation for 9 patches. \n",
      "10/28/2022 06:03:16 PM INFO: .. estimating 9 patches. \n",
      "10/28/2022 06:03:16 PM INFO: .. done. \n",
      "10/28/2022 06:03:16 PM INFO: Flow field estimation complete. \n",
      "10/28/2022 06:03:16 PM INFO: t=1000: dt=0.100000, alpha=0.040473, n_pos=95, cap=0.194872, v_max=0.000669, e_kin=0.000006 \n",
      "10/28/2022 06:03:16 PM INFO: t=2000: dt=0.100000, alpha=0.022145, n_pos=155, cap=0.459497, v_max=0.000001, e_kin=0.000000 \n",
      "10/28/2022 06:03:16 PM INFO: t=3000: dt=0.100000, alpha=0.035161, n_pos=109, cap=0.984974, v_max=0.000001, e_kin=0.000000 \n",
      "10/28/2022 06:03:17 PM INFO: t=4000: dt=0.100000, alpha=0.038490, n_pos=100, cap=2.111379, v_max=0.000001, e_kin=0.000000 \n",
      "10/28/2022 06:03:17 PM INFO: t=5000: dt=0.066550, alpha=0.097030, n_pos=8, cap=4.978524, v_max=0.000000, e_kin=0.000000 \n",
      "10/28/2022 06:03:17 PM INFO: t=6000: dt=0.100000, alpha=0.024242, n_pos=146, cap=10.000000, v_max=0.000001, e_kin=0.000000 \n"
     ]
    },
    {
     "name": "stdout",
     "output_type": "stream",
     "text": [
      "24 23 23 False 1 0.09570457\n"
     ]
    },
    {
     "name": "stderr",
     "output_type": "stream",
     "text": [
      "10/28/2022 06:03:17 PM INFO: Starting flow estimation for 100 patches. \n",
      "10/28/2022 06:03:17 PM INFO: .. estimating 100 patches. \n",
      "10/28/2022 06:03:19 PM INFO: .. done. \n",
      "10/28/2022 06:03:19 PM INFO: Flow field estimation complete. \n",
      "10/28/2022 06:03:19 PM INFO: Starting flow estimation for 9 patches. \n",
      "10/28/2022 06:03:19 PM INFO: .. estimating 9 patches. \n",
      "10/28/2022 06:03:19 PM INFO: .. done. \n",
      "10/28/2022 06:03:19 PM INFO: Flow field estimation complete. \n",
      "10/28/2022 06:03:19 PM INFO: t=1000: dt=0.100000, alpha=0.008610, n_pos=249, cap=0.235795, v_max=0.003451, e_kin=0.000258 \n",
      "10/28/2022 06:03:19 PM INFO: t=2000: dt=0.100000, alpha=0.004391, n_pos=316, cap=0.505447, v_max=0.000007, e_kin=0.000000 \n",
      "10/28/2022 06:03:19 PM INFO: t=3000: dt=0.100000, alpha=0.036973, n_pos=104, cap=1.191818, v_max=0.000001, e_kin=0.000000 \n",
      "10/28/2022 06:03:19 PM INFO: t=4000: dt=0.100000, alpha=0.016882, n_pos=182, cap=2.554769, v_max=0.000001, e_kin=0.000000 \n",
      "10/28/2022 06:03:19 PM INFO: t=5000: dt=0.100000, alpha=0.031166, n_pos=121, cap=5.476376, v_max=0.000001, e_kin=0.000000 \n",
      "10/28/2022 06:03:19 PM INFO: t=6000: dt=0.100000, alpha=0.021060, n_pos=160, cap=10.000000, v_max=0.000001, e_kin=0.000000 \n"
     ]
    },
    {
     "name": "stdout",
     "output_type": "stream",
     "text": [
      "23 22 22 False 1 -0.016415026\n",
      "22 20 21 True 1.0 -0.016415026\n"
     ]
    },
    {
     "name": "stderr",
     "output_type": "stream",
     "text": [
      "10/28/2022 06:03:20 PM INFO: Starting flow estimation for 100 patches. \n",
      "10/28/2022 06:03:20 PM INFO: .. estimating 100 patches. \n",
      "10/28/2022 06:03:22 PM INFO: .. done. \n",
      "10/28/2022 06:03:22 PM INFO: Flow field estimation complete. \n",
      "10/28/2022 06:03:22 PM INFO: Starting flow estimation for 9 patches. \n",
      "10/28/2022 06:03:22 PM INFO: .. estimating 9 patches. \n",
      "10/28/2022 06:03:22 PM INFO: .. done. \n",
      "10/28/2022 06:03:22 PM INFO: Flow field estimation complete. \n",
      "10/28/2022 06:03:22 PM INFO: t=1000: dt=0.100000, alpha=0.000005, n_pos=1000, cap=0.259374, v_max=0.000000, e_kin=0.000000 \n",
      "10/28/2022 06:03:22 PM INFO: t=2000: dt=0.100000, alpha=0.000000, n_pos=1000, cap=0.740025, v_max=0.000000, e_kin=0.000000 \n",
      "10/28/2022 06:03:22 PM INFO: t=3000: dt=0.100000, alpha=0.000000, n_pos=1000, cap=2.111379, v_max=0.000000, e_kin=0.000000 \n",
      "10/28/2022 06:03:22 PM INFO: t=4000: dt=0.100000, alpha=0.000000, n_pos=1000, cap=6.024014, v_max=0.000000, e_kin=0.000000 \n",
      "10/28/2022 06:03:22 PM INFO: t=5000: dt=0.100000, alpha=0.000000, n_pos=1000, cap=10.000000, v_max=0.000000, e_kin=0.000000 \n"
     ]
    },
    {
     "name": "stdout",
     "output_type": "stream",
     "text": [
      "21 20 20 False 1 0.0\n"
     ]
    },
    {
     "name": "stderr",
     "output_type": "stream",
     "text": [
      "10/28/2022 06:03:23 PM INFO: Starting flow estimation for 100 patches. \n",
      "10/28/2022 06:03:23 PM INFO: .. estimating 100 patches. \n",
      "10/28/2022 06:03:25 PM INFO: .. done. \n",
      "10/28/2022 06:03:25 PM INFO: Flow field estimation complete. \n",
      "10/28/2022 06:03:25 PM INFO: Starting flow estimation for 9 patches. \n",
      "10/28/2022 06:03:25 PM INFO: .. estimating 9 patches. \n",
      "10/28/2022 06:03:25 PM INFO: .. done. \n",
      "10/28/2022 06:03:25 PM INFO: Flow field estimation complete. \n",
      "10/28/2022 06:03:25 PM INFO: t=1000: dt=0.100000, alpha=0.000005, n_pos=1000, cap=0.259374, v_max=0.000000, e_kin=0.000000 \n",
      "10/28/2022 06:03:25 PM INFO: t=2000: dt=0.100000, alpha=0.000000, n_pos=1000, cap=0.740025, v_max=0.000000, e_kin=0.000000 \n",
      "10/28/2022 06:03:25 PM INFO: t=3000: dt=0.100000, alpha=0.000000, n_pos=1000, cap=2.111379, v_max=0.000000, e_kin=0.000000 \n",
      "10/28/2022 06:03:25 PM INFO: t=4000: dt=0.100000, alpha=0.000000, n_pos=1000, cap=6.024014, v_max=0.000000, e_kin=0.000000 \n",
      "10/28/2022 06:03:25 PM INFO: t=5000: dt=0.100000, alpha=0.000000, n_pos=1000, cap=10.000000, v_max=0.000000, e_kin=0.000000 \n"
     ]
    },
    {
     "name": "stdout",
     "output_type": "stream",
     "text": [
      "20 19 19 False 1 0.0\n"
     ]
    },
    {
     "name": "stderr",
     "output_type": "stream",
     "text": [
      "10/28/2022 06:03:26 PM INFO: Starting flow estimation for 100 patches. \n",
      "10/28/2022 06:03:26 PM INFO: .. estimating 100 patches. \n",
      "10/28/2022 06:03:28 PM INFO: .. done. \n",
      "10/28/2022 06:03:28 PM INFO: Flow field estimation complete. \n",
      "10/28/2022 06:03:28 PM INFO: Starting flow estimation for 9 patches. \n",
      "10/28/2022 06:03:28 PM INFO: .. estimating 9 patches. \n",
      "10/28/2022 06:03:28 PM INFO: .. done. \n",
      "10/28/2022 06:03:28 PM INFO: Flow field estimation complete. \n",
      "10/28/2022 06:03:28 PM INFO: t=1000: dt=0.100000, alpha=0.011876, n_pos=217, cap=0.235795, v_max=0.001543, e_kin=0.000073 \n",
      "10/28/2022 06:03:28 PM INFO: t=2000: dt=0.100000, alpha=0.011876, n_pos=217, cap=0.505447, v_max=0.000001, e_kin=0.000000 \n",
      "10/28/2022 06:03:28 PM INFO: t=3000: dt=0.100000, alpha=0.012363, n_pos=213, cap=1.191818, v_max=0.000001, e_kin=0.000000 \n",
      "10/28/2022 06:03:28 PM INFO: t=4000: dt=0.100000, alpha=0.034461, n_pos=111, cap=2.810246, v_max=0.000001, e_kin=0.000000 \n",
      "10/28/2022 06:03:28 PM INFO: t=5000: dt=0.100000, alpha=0.086006, n_pos=20, cap=5.476376, v_max=0.000001, e_kin=0.000000 \n",
      "10/28/2022 06:03:28 PM INFO: t=6000: dt=0.100000, alpha=0.050489, n_pos=73, cap=10.000000, v_max=0.000001, e_kin=0.000000 \n"
     ]
    },
    {
     "name": "stdout",
     "output_type": "stream",
     "text": [
      "19 18 18 False 1 0.43291053\n"
     ]
    },
    {
     "name": "stderr",
     "output_type": "stream",
     "text": [
      "10/28/2022 06:03:29 PM INFO: Starting flow estimation for 100 patches. \n",
      "10/28/2022 06:03:29 PM INFO: .. estimating 100 patches. \n",
      "10/28/2022 06:03:31 PM INFO: .. done. \n",
      "10/28/2022 06:03:31 PM INFO: Flow field estimation complete. \n",
      "10/28/2022 06:03:31 PM INFO: Starting flow estimation for 9 patches. \n",
      "10/28/2022 06:03:31 PM INFO: .. estimating 9 patches. \n",
      "10/28/2022 06:03:31 PM INFO: .. done. \n",
      "10/28/2022 06:03:31 PM INFO: Flow field estimation complete. \n",
      "10/28/2022 06:03:31 PM INFO: t=1000: dt=0.100000, alpha=0.009911, n_pos=235, cap=0.235795, v_max=0.001673, e_kin=0.000060 \n",
      "10/28/2022 06:03:31 PM INFO: t=2000: dt=0.100000, alpha=0.006179, n_pos=282, cap=0.459497, v_max=0.000005, e_kin=0.000000 \n",
      "10/28/2022 06:03:31 PM INFO: t=3000: dt=0.100000, alpha=0.013398, n_pos=205, cap=1.191818, v_max=0.000001, e_kin=0.000000 \n",
      "10/28/2022 06:03:31 PM INFO: t=4000: dt=0.100000, alpha=0.021705, n_pos=157, cap=2.554769, v_max=0.000001, e_kin=0.000000 \n",
      "10/28/2022 06:03:31 PM INFO: t=5000: dt=0.100000, alpha=0.070345, n_pos=40, cap=5.476376, v_max=0.000001, e_kin=0.000000 \n",
      "10/28/2022 06:03:31 PM INFO: t=6000: dt=0.100000, alpha=0.086875, n_pos=19, cap=10.000000, v_max=0.000001, e_kin=0.000000 \n"
     ]
    },
    {
     "name": "stdout",
     "output_type": "stream",
     "text": [
      "18 17 17 False 1 0.8310984\n"
     ]
    },
    {
     "name": "stderr",
     "output_type": "stream",
     "text": [
      "10/28/2022 06:03:31 PM INFO: Starting flow estimation for 100 patches. \n",
      "10/28/2022 06:03:31 PM INFO: .. estimating 100 patches. \n",
      "10/28/2022 06:03:33 PM INFO: .. done. \n",
      "10/28/2022 06:03:33 PM INFO: Flow field estimation complete. \n",
      "10/28/2022 06:03:33 PM INFO: Starting flow estimation for 9 patches. \n",
      "10/28/2022 06:03:33 PM INFO: .. estimating 9 patches. \n",
      "10/28/2022 06:03:33 PM INFO: .. done. \n",
      "10/28/2022 06:03:33 PM INFO: Flow field estimation complete. \n",
      "10/28/2022 06:03:33 PM INFO: t=1000: dt=0.100000, alpha=0.013264, n_pos=206, cap=0.235795, v_max=0.001354, e_kin=0.000057 \n",
      "10/28/2022 06:03:33 PM INFO: t=2000: dt=0.100000, alpha=0.039271, n_pos=98, cap=0.505447, v_max=0.000002, e_kin=0.000000 \n",
      "10/28/2022 06:03:34 PM INFO: t=3000: dt=0.100000, alpha=0.059896, n_pos=56, cap=1.191818, v_max=0.000001, e_kin=0.000000 \n",
      "10/28/2022 06:03:34 PM INFO: t=4000: dt=0.100000, alpha=0.037346, n_pos=103, cap=2.810246, v_max=0.000001, e_kin=0.000000 \n",
      "10/28/2022 06:03:34 PM INFO: t=5000: dt=0.100000, alpha=0.017752, n_pos=177, cap=5.476376, v_max=0.000001, e_kin=0.000000 \n",
      "10/28/2022 06:03:34 PM INFO: t=6000: dt=0.050000, alpha=0.100000, n_pos=3, cap=10.000000, v_max=0.000000, e_kin=0.000000 \n"
     ]
    },
    {
     "name": "stdout",
     "output_type": "stream",
     "text": [
      "17 16 16 False 1 0.7758212\n",
      "16 8 15 True 1.0 0.7758212\n",
      "16 8 14 True 0.875 0.67884356\n",
      "16 8 13 True 0.75 0.5818659\n",
      "16 8 12 True 0.625 0.48488826\n",
      "16 8 11 True 0.5 0.3879106\n",
      "16 8 10 True 0.375 0.29093295\n",
      "16 8 9 True 0.25 0.1939553\n"
     ]
    },
    {
     "name": "stderr",
     "output_type": "stream",
     "text": [
      "10/28/2022 06:03:37 PM INFO: Starting flow estimation for 100 patches. \n",
      "10/28/2022 06:03:37 PM INFO: .. estimating 100 patches. \n",
      "10/28/2022 06:03:38 PM INFO: .. done. \n",
      "10/28/2022 06:03:38 PM INFO: Flow field estimation complete. \n",
      "10/28/2022 06:03:38 PM INFO: Starting flow estimation for 9 patches. \n",
      "10/28/2022 06:03:38 PM INFO: .. estimating 9 patches. \n",
      "10/28/2022 06:03:39 PM INFO: .. done. \n",
      "10/28/2022 06:03:39 PM INFO: Flow field estimation complete. \n",
      "10/28/2022 06:03:39 PM INFO: t=1000: dt=0.100000, alpha=0.000005, n_pos=1000, cap=0.259374, v_max=0.000000, e_kin=0.000000 \n",
      "10/28/2022 06:03:39 PM INFO: t=2000: dt=0.100000, alpha=0.000000, n_pos=1000, cap=0.740025, v_max=0.000000, e_kin=0.000000 \n",
      "10/28/2022 06:03:39 PM INFO: t=3000: dt=0.100000, alpha=0.000000, n_pos=1000, cap=2.111379, v_max=0.000000, e_kin=0.000000 \n",
      "10/28/2022 06:03:39 PM INFO: t=4000: dt=0.100000, alpha=0.000000, n_pos=1000, cap=6.024014, v_max=0.000000, e_kin=0.000000 \n",
      "10/28/2022 06:03:39 PM INFO: t=5000: dt=0.100000, alpha=0.000000, n_pos=1000, cap=10.000000, v_max=0.000000, e_kin=0.000000 \n"
     ]
    },
    {
     "name": "stdout",
     "output_type": "stream",
     "text": [
      "9 8 8 False 1 0.0\n",
      "8 5 7 True 1.0 0.0\n",
      "8 5 6 True 0.6666666666666667 0.0\n"
     ]
    },
    {
     "name": "stderr",
     "output_type": "stream",
     "text": [
      "10/28/2022 06:03:40 PM INFO: Starting flow estimation for 100 patches. \n",
      "10/28/2022 06:03:40 PM INFO: .. estimating 100 patches. \n",
      "10/28/2022 06:03:42 PM INFO: .. done. \n",
      "10/28/2022 06:03:42 PM INFO: Flow field estimation complete. \n",
      "10/28/2022 06:03:42 PM INFO: Starting flow estimation for 9 patches. \n",
      "10/28/2022 06:03:42 PM INFO: .. estimating 9 patches. \n",
      "10/28/2022 06:03:42 PM INFO: .. done. \n",
      "10/28/2022 06:03:42 PM INFO: Flow field estimation complete. \n",
      "10/28/2022 06:03:42 PM INFO: t=1000: dt=0.100000, alpha=0.000005, n_pos=1000, cap=0.259374, v_max=0.000000, e_kin=0.000000 \n",
      "10/28/2022 06:03:42 PM INFO: t=2000: dt=0.100000, alpha=0.000000, n_pos=1000, cap=0.740025, v_max=0.000000, e_kin=0.000000 \n",
      "10/28/2022 06:03:42 PM INFO: t=3000: dt=0.100000, alpha=0.000000, n_pos=1000, cap=2.111379, v_max=0.000000, e_kin=0.000000 \n",
      "10/28/2022 06:03:42 PM INFO: t=4000: dt=0.100000, alpha=0.000000, n_pos=1000, cap=6.024014, v_max=0.000000, e_kin=0.000000 \n",
      "10/28/2022 06:03:42 PM INFO: t=5000: dt=0.100000, alpha=0.000000, n_pos=1000, cap=10.000000, v_max=0.000000, e_kin=0.000000 \n"
     ]
    },
    {
     "name": "stdout",
     "output_type": "stream",
     "text": [
      "6 5 5 False 1 0.0\n",
      "5 3 4 True 1.0 0.0\n"
     ]
    },
    {
     "name": "stderr",
     "output_type": "stream",
     "text": [
      "10/28/2022 06:03:43 PM INFO: Starting flow estimation for 100 patches. \n",
      "10/28/2022 06:03:43 PM INFO: .. estimating 100 patches. \n",
      "10/28/2022 06:03:45 PM INFO: .. done. \n",
      "10/28/2022 06:03:45 PM INFO: Flow field estimation complete. \n",
      "10/28/2022 06:03:45 PM INFO: Starting flow estimation for 9 patches. \n",
      "10/28/2022 06:03:45 PM INFO: .. estimating 9 patches. \n",
      "10/28/2022 06:03:45 PM INFO: .. done. \n",
      "10/28/2022 06:03:45 PM INFO: Flow field estimation complete. \n",
      "10/28/2022 06:03:45 PM INFO: t=1000: dt=0.100000, alpha=0.002476, n_pos=373, cap=0.235795, v_max=0.207107, e_kin=1.132268 \n",
      "10/28/2022 06:03:45 PM INFO: t=2000: dt=0.100000, alpha=0.001813, n_pos=404, cap=0.555992, v_max=0.231316, e_kin=1.401520 \n",
      "10/28/2022 06:03:45 PM INFO: t=3000: dt=0.100000, alpha=0.000677, n_pos=502, cap=1.311000, v_max=0.252650, e_kin=1.233170 \n",
      "10/28/2022 06:03:45 PM INFO: t=4000: dt=0.100000, alpha=0.014964, n_pos=194, cap=2.810246, v_max=0.001182, e_kin=0.000011 \n",
      "10/28/2022 06:03:45 PM INFO: t=5000: dt=0.100000, alpha=0.009053, n_pos=244, cap=6.626416, v_max=0.000021, e_kin=0.000000 \n",
      "10/28/2022 06:03:46 PM INFO: t=6000: dt=0.100000, alpha=0.038490, n_pos=100, cap=10.000000, v_max=0.000009, e_kin=0.000000 \n"
     ]
    },
    {
     "name": "stdout",
     "output_type": "stream",
     "text": [
      "4 3 3 False 1 -4.518824\n",
      "3 1 2 True 1.0 -4.518824\n"
     ]
    },
    {
     "name": "stderr",
     "output_type": "stream",
     "text": [
      "10/28/2022 06:03:46 PM INFO: Starting flow estimation for 100 patches. \n",
      "10/28/2022 06:03:46 PM INFO: .. estimating 100 patches. \n",
      "10/28/2022 06:03:48 PM INFO: .. done. \n",
      "10/28/2022 06:03:48 PM INFO: Flow field estimation complete. \n",
      "10/28/2022 06:03:48 PM INFO: Starting flow estimation for 9 patches. \n",
      "10/28/2022 06:03:48 PM INFO: .. estimating 9 patches. \n",
      "10/28/2022 06:03:48 PM INFO: .. done. \n",
      "10/28/2022 06:03:48 PM INFO: Flow field estimation complete. \n",
      "10/28/2022 06:03:48 PM INFO: t=1000: dt=0.100000, alpha=0.000005, n_pos=1000, cap=0.259374, v_max=0.000000, e_kin=0.000000 \n",
      "10/28/2022 06:03:48 PM INFO: t=2000: dt=0.100000, alpha=0.000000, n_pos=1000, cap=0.740025, v_max=0.000000, e_kin=0.000000 \n",
      "10/28/2022 06:03:48 PM INFO: t=3000: dt=0.100000, alpha=0.000000, n_pos=1000, cap=2.111379, v_max=0.000000, e_kin=0.000000 \n",
      "10/28/2022 06:03:48 PM INFO: t=4000: dt=0.100000, alpha=0.000000, n_pos=1000, cap=6.024014, v_max=0.000000, e_kin=0.000000 \n",
      "10/28/2022 06:03:49 PM INFO: t=5000: dt=0.100000, alpha=0.000000, n_pos=1000, cap=10.000000, v_max=0.000000, e_kin=0.000000 \n"
     ]
    },
    {
     "name": "stdout",
     "output_type": "stream",
     "text": [
      "2 1 1 False 1 0.0\n",
      "1 0 0.0\n",
      "-1\n",
      "Restitch True\n",
      "Seg EM Restitch 155.20422315597534\n",
      "Membranes Time 165.98586583137512\n",
      "1 28385\n",
      "2 37427\n",
      "3 46020\n",
      "4 41896\n",
      "5 45601\n",
      "6 50907\n",
      "7 50907\n",
      "8 50907\n",
      "9 50868\n",
      "10 50542\n",
      "11 50471\n",
      "12 50400\n",
      "13 50362\n",
      "14 50274\n",
      "15 39732\n",
      "16 15572\n",
      "17 147295\n",
      "18 155798\n",
      "19 16637\n",
      "20 20528\n",
      "21 41871\n",
      "22 39256\n",
      "23 168620\n",
      "24 164553\n",
      "25 142976\n",
      "26 145916\n",
      "27 16446\n",
      "28 39764\n",
      "29 48056\n",
      "30 40813\n",
      "31 167193\n",
      "Major Shift\n"
     ]
    }
   ],
   "source": [
    "root_id = 864691135909994000\n",
    "ext, num = segment_points(endpoint = good_tips_thick[0], root_id = root_id, point_id = 0, resolution=[8,8,40])"
   ]
  },
  {
   "cell_type": "code",
   "execution_count": 12,
   "metadata": {},
   "outputs": [
    {
     "data": {
      "text/html": [
       "<div>\n",
       "<style scoped>\n",
       "    .dataframe tbody tr th:only-of-type {\n",
       "        vertical-align: middle;\n",
       "    }\n",
       "\n",
       "    .dataframe tbody tr th {\n",
       "        vertical-align: top;\n",
       "    }\n",
       "\n",
       "    .dataframe thead th {\n",
       "        text-align: right;\n",
       "    }\n",
       "</style>\n",
       "<table border=\"1\" class=\"dataframe\">\n",
       "  <thead>\n",
       "    <tr style=\"text-align: right;\">\n",
       "      <th></th>\n",
       "    </tr>\n",
       "  </thead>\n",
       "  <tbody>\n",
       "  </tbody>\n",
       "</table>\n",
       "</div>"
      ],
      "text/plain": [
       "Empty DataFrame\n",
       "Columns: []\n",
       "Index: []"
      ]
     },
     "execution_count": 12,
     "metadata": {},
     "output_type": "execute_result"
    }
   ],
   "source": [
    "ext.merges"
   ]
  },
  {
   "cell_type": "code",
   "execution_count": null,
   "metadata": {},
   "outputs": [],
   "source": []
  }
 ],
 "metadata": {
  "kernelspec": {
   "display_name": "Python 3.8.9 64-bit",
   "language": "python",
   "name": "python3"
  },
  "language_info": {
   "codemirror_mode": {
    "name": "ipython",
    "version": 3
   },
   "file_extension": ".py",
   "mimetype": "text/x-python",
   "name": "python",
   "nbconvert_exporter": "python",
   "pygments_lexer": "ipython3",
   "version": "3.8.9"
  },
  "orig_nbformat": 4,
  "vscode": {
   "interpreter": {
    "hash": "31f2aee4e71d21fbe5cf8b01ff0e069b9275f58929596ceb00d14d90e3e16cd6"
   }
  }
 },
 "nbformat": 4,
 "nbformat_minor": 2
}
