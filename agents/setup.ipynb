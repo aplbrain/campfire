{
 "cells": [
  {
   "cell_type": "markdown",
   "metadata": {},
   "source": [
    "### Phase 1: \n",
    "\n",
    "Develop a function/algorithm to generate metrics to gauge the impact of the dendritic extension proofreading task on the connectome. Specific metrics include determining the number of additional synapses that are added to the connectome and the volume of the mesh that is added to the connectome.\n"
   ]
  },
  {
   "cell_type": "code",
   "execution_count": 2,
   "metadata": {},
   "outputs": [],
   "source": [
    "from caveclient import CAVEclient\n",
    "import pandas as pd\n",
    "import numpy as np\n",
    "from data_loader import get_syn_counts\n",
    "from cloudvolume import CloudVolume\n",
    "import trimesh"
   ]
  },
  {
   "cell_type": "code",
   "execution_count": 3,
   "metadata": {},
   "outputs": [],
   "source": [
    "client=CAVEclient()\n",
    "vol = CAVEclient('minnie65_phase3_v1')"
   ]
  },
  {
   "cell_type": "code",
   "execution_count": 4,
   "metadata": {},
   "outputs": [
    {
     "data": {
      "text/plain": [
       "15"
      ]
     },
     "execution_count": 4,
     "metadata": {},
     "output_type": "execute_result"
    }
   ],
   "source": [
    "df = pd.read_csv('expanded_gt.csv')\n",
    "len(set(df['Root_id'].to_list()))"
   ]
  },
  {
   "cell_type": "code",
   "execution_count": 5,
   "metadata": {},
   "outputs": [
    {
     "name": "stdout",
     "output_type": "stream",
     "text": [
      "Warning: deduplication not currently supported for this layer's variable layered draco meshes\n"
     ]
    },
    {
     "data": {
      "text/plain": [
       "1414939409226.0"
      ]
     },
     "execution_count": 5,
     "metadata": {},
     "output_type": "execute_result"
    }
   ],
   "source": [
    "#root_id = rids[ind]\n",
    "datastack_name = \"minnie65_phase3_v1\"\n",
    "client = CAVEclient(datastack_name)\n",
    "vol = CloudVolume(\n",
    "        client.info.segmentation_source(),\n",
    "        use_https=True,\n",
    "        progress=False,\n",
    "        bounded=False,\n",
    "        fill_missing=True,\n",
    "        secrets={\"token\": client.auth.token}\n",
    "    )\n",
    "mesh = vol.mesh.get(str(864691135526309723))[864691135526309723]\n",
    "\n",
    "mesh_obj = trimesh.Trimesh(mesh.vertices, mesh.faces)\n",
    "\n",
    "mesh_obj.volume"
   ]
  },
  {
   "cell_type": "code",
   "execution_count": 11,
   "metadata": {},
   "outputs": [],
   "source": [
    "def get_em(x_pre, x_post, y_pre, y_post, z_pre, z_post):\n",
    "    em = CloudVolume(\"s3://bossdb-open-data/iarpa_microns/minnie/minnie65/em\", use_https=True, mip=0)\n",
    "    return em[x_pre:x_post, y_pre:y_post, z_pre:z_post]"
   ]
  },
  {
   "cell_type": "code",
   "execution_count": 9,
   "metadata": {},
   "outputs": [],
   "source": [
    "# function to compute metrics for the first extension\n",
    "\n",
    "\n",
    "def metrics(root_id, extensions):\n",
    "    '''\n",
    "    Parameters:\n",
    "        root_id: (str) original segmentation root id\n",
    "        extensions: (list object) all segmentation extension candidates\n",
    "\n",
    "    Return:\n",
    "        total_synapses: total number of synapses added\n",
    "        volume: total mesh volume added\n",
    "        total_run_len : total run length of correct extension segid added\n",
    "    '''\n",
    "\n",
    "    # get correct seg_id from ground truth table\n",
    "    ground_truth = pd.read_csv('expanded_gt.csv')\n",
    "\n",
    "    # from ground truth table: extract the correct segid candidate\n",
    "\n",
    "    correct_extension = df.loc[df['Root_id'] == (str(864691136577830164) + '/')]\n",
    "\n",
    "    # drop null extensions\n",
    "    correct_extension.drop(correct_extension.index[correct_extension['Ext'] == 'null/'], inplace = True)\n",
    "\n",
    "    all_extensions = correct_extension['Ext'].to_list()\n",
    "\n",
    "    total_synapses = 0\n",
    "\n",
    "    # confirm later --> mesh_total (numerical quantity - float)\n",
    "    mesh_total = 0\n",
    "\n",
    "    for i in all_extensions:\n",
    "        pre_ct, post_ct = get_syn_counts(i[:-1])\n",
    "        total_synapses += pre_ct + post_ct\n",
    "        mesh = vol.mesh.get(str(i))[i]\n",
    "        mesh_obj = trimesh.Trimesh(mesh.vertices, mesh.faces)\n",
    "        mesh_total += (mesh_obj.volume)\n",
    "\n",
    "    incorrect_synapses = 0\n",
    "    mesh_total_inc = 0\n",
    "    for k in extensions:\n",
    "        if k not in all_extensions:\n",
    "            pre_ct_k, post_ct_k = get_syn_counts(k)\n",
    "            incorrect_synapses += pre_ct_k + post_ct_k\n",
    "            mesh1 = vol.mesh.get(str(k))\n",
    "            mesh1 = mesh1[int(k)]\n",
    "            mesh_obj1 = trimesh.Trimesh(mesh1.vertices, mesh1.faces)\n",
    "            mesh_total_inc += mesh_obj1\n",
    "\n",
    "    \n",
    "    prop_synap_correct = total_synapses / (total_synapses + incorrect_synapses)\n",
    "    prop_vol_correct = mesh_total / (mesh_total + mesh_total_inc)\n",
    "\n",
    "    return prop_synap_correct, prop_vol_correct\n"
   ]
  },
  {
   "cell_type": "code",
   "execution_count": 26,
   "metadata": {},
   "outputs": [
    {
     "name": "stderr",
     "output_type": "stream",
     "text": [
      "C:\\Users\\disc2\\AppData\\Local\\Temp\\ipykernel_24092\\3834407941.py:2: SettingWithCopyWarning: \n",
      "A value is trying to be set on a copy of a slice from a DataFrame\n",
      "\n",
      "See the caveats in the documentation: https://pandas.pydata.org/pandas-docs/stable/user_guide/indexing.html#returning-a-view-versus-a-copy\n",
      "  correct_extension.drop(correct_extension.index[correct_extension['Ext'] == 'null/'], inplace = True)\n"
     ]
    },
    {
     "data": {
      "text/plain": [
       "0.66"
      ]
     },
     "execution_count": 26,
     "metadata": {},
     "output_type": "execute_result"
    }
   ],
   "source": [
    "correct_extension = df.loc[df['Root_id'] == (str(864691136577830164) + '/')]\n",
    "correct_extension.drop(correct_extension.index[correct_extension['Ext'] == 'null/'], inplace = True)\n",
    "total_synapses = 0\n",
    "all_extensions = correct_extension['Ext'].to_list()\n",
    "\n",
    "total = []\n",
    "for i in all_extensions:\n",
    "    pre_ct, post_ct = get_syn_counts(i[:-1])\n",
    "    total.append( pre_ct + post_ct)\n",
    "\n",
    "non_correct = []\n",
    "\n",
    "for j in [864691135826764827, 864691135458639120]:\n",
    "    pre_ct, post_ct = get_syn_counts(j)\n",
    "    non_correct.append( pre_ct + post_ct)\n",
    "\n",
    "sum(total)/(sum(total)+sum(non_correct))"
   ]
  },
  {
   "cell_type": "markdown",
   "metadata": {},
   "source": [
    "# create function \n",
    "\n",
    "\n",
    "Function where:\n",
    "Inputs are (root_id, [extensions])\n",
    "Function should:\n",
    "Calculate how many synapses added by the extensions are correct / incorrect by comparing to the ground truth table\n",
    "Calculate how much volume is added by the extensions (again total / correct / incorrect)"
   ]
  }
 ],
 "metadata": {
  "kernelspec": {
   "display_name": "Python 3.9.13 64-bit",
   "language": "python",
   "name": "python3"
  },
  "language_info": {
   "codemirror_mode": {
    "name": "ipython",
    "version": 3
   },
   "file_extension": ".py",
   "mimetype": "text/x-python",
   "name": "python",
   "nbconvert_exporter": "python",
   "pygments_lexer": "ipython3",
   "version": "3.9.13"
  },
  "orig_nbformat": 4,
  "vscode": {
   "interpreter": {
    "hash": "aee8b7b246df8f9039afb4144a1f6fd8d2ca17a180786b69acc140d282b71a49"
   }
  }
 },
 "nbformat": 4,
 "nbformat_minor": 2
}
