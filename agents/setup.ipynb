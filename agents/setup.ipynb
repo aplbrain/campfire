{
 "cells": [
  {
   "cell_type": "markdown",
   "metadata": {},
   "source": [
    "### Phase 1: \n",
    "\n",
    "Develop a function/algorithm to generate metrics to gauge the impact of the dendritic extension proofreading task on the connectome. Specific metrics include determining the number of additional synapses that are added to the connectome and the volume of the mesh that is added to the connectome.\n"
   ]
  },
  {
   "cell_type": "code",
   "execution_count": 1,
   "metadata": {},
   "outputs": [],
   "source": [
    "from caveclient import CAVEclient\n",
    "import pandas as pd\n",
    "import numpy as np\n",
    "from data_loader import get_syn_counts\n",
    "from cloudvolume import CloudVolume"
   ]
  },
  {
   "cell_type": "code",
   "execution_count": 6,
   "metadata": {},
   "outputs": [],
   "source": [
    "client=CAVEclient()\n",
    "vol = CAVEclient('minnie65_phase3_v1')"
   ]
  },
  {
   "cell_type": "code",
   "execution_count": 3,
   "metadata": {},
   "outputs": [
    {
     "data": {
      "text/html": [
       "<div>\n",
       "<style scoped>\n",
       "    .dataframe tbody tr th:only-of-type {\n",
       "        vertical-align: middle;\n",
       "    }\n",
       "\n",
       "    .dataframe tbody tr th {\n",
       "        vertical-align: top;\n",
       "    }\n",
       "\n",
       "    .dataframe thead th {\n",
       "        text-align: right;\n",
       "    }\n",
       "</style>\n",
       "<table border=\"1\" class=\"dataframe\">\n",
       "  <thead>\n",
       "    <tr style=\"text-align: right;\">\n",
       "      <th></th>\n",
       "      <th>Unnamed: 0</th>\n",
       "      <th>Root_id</th>\n",
       "      <th>Link</th>\n",
       "      <th>EP</th>\n",
       "      <th>Ext</th>\n",
       "      <th>Gap</th>\n",
       "    </tr>\n",
       "  </thead>\n",
       "  <tbody>\n",
       "    <tr>\n",
       "      <th>0</th>\n",
       "      <td>0</td>\n",
       "      <td>864691136577830164/</td>\n",
       "      <td>https://neuroglancer.neuvue.io/?json_url=https...</td>\n",
       "      <td>[402188, 228684, 24029]</td>\n",
       "      <td>864691135909994000/</td>\n",
       "      <td>yes</td>\n",
       "    </tr>\n",
       "    <tr>\n",
       "      <th>1</th>\n",
       "      <td>0</td>\n",
       "      <td>864691136577830164/</td>\n",
       "      <td>https://neuroglancer.neuvue.io/?json_url=https...</td>\n",
       "      <td>[401258, 224832, 24029]</td>\n",
       "      <td>864691135247440303/</td>\n",
       "      <td>yes</td>\n",
       "    </tr>\n",
       "    <tr>\n",
       "      <th>2</th>\n",
       "      <td>0</td>\n",
       "      <td>864691136577830164/</td>\n",
       "      <td>https://neuroglancer.neuvue.io/?json_url=https...</td>\n",
       "      <td>[401314, 228366, 24424]</td>\n",
       "      <td>864691134794123793/</td>\n",
       "      <td>yes</td>\n",
       "    </tr>\n",
       "    <tr>\n",
       "      <th>3</th>\n",
       "      <td>0</td>\n",
       "      <td>864691136577830164/</td>\n",
       "      <td>https://neuroglancer.neuvue.io/?json_url=https...</td>\n",
       "      <td>[400199, 220721, 24029]</td>\n",
       "      <td>864691134959738482/</td>\n",
       "      <td>yes</td>\n",
       "    </tr>\n",
       "    <tr>\n",
       "      <th>4</th>\n",
       "      <td>0</td>\n",
       "      <td>864691136577830164/</td>\n",
       "      <td>https://neuroglancer.neuvue.io/?json_url=https...</td>\n",
       "      <td>[397870, 232292, 24004]</td>\n",
       "      <td>864691135314714227/</td>\n",
       "      <td>yes</td>\n",
       "    </tr>\n",
       "    <tr>\n",
       "      <th>...</th>\n",
       "      <td>...</td>\n",
       "      <td>...</td>\n",
       "      <td>...</td>\n",
       "      <td>...</td>\n",
       "      <td>...</td>\n",
       "      <td>...</td>\n",
       "    </tr>\n",
       "    <tr>\n",
       "      <th>228</th>\n",
       "      <td>0</td>\n",
       "      <td>864691135526309723/</td>\n",
       "      <td>https://neuroglancer.neuvue.io/?json_url=https...</td>\n",
       "      <td>[151721, 205162, 22236]</td>\n",
       "      <td>null/</td>\n",
       "      <td>NaN</td>\n",
       "    </tr>\n",
       "    <tr>\n",
       "      <th>229</th>\n",
       "      <td>0</td>\n",
       "      <td>864691135526309723/</td>\n",
       "      <td>https://neuroglancer.neuvue.io/?json_url=https...</td>\n",
       "      <td>[103176, 188510, 21202]</td>\n",
       "      <td>864691136558839249/</td>\n",
       "      <td>no</td>\n",
       "    </tr>\n",
       "    <tr>\n",
       "      <th>230</th>\n",
       "      <td>0</td>\n",
       "      <td>864691135526309723/</td>\n",
       "      <td>https://neuroglancer.neuvue.io/?json_url=https...</td>\n",
       "      <td>[118152, 182120, 20651]</td>\n",
       "      <td>864691135012763638/</td>\n",
       "      <td>yes</td>\n",
       "    </tr>\n",
       "    <tr>\n",
       "      <th>231</th>\n",
       "      <td>0</td>\n",
       "      <td>864691135526309723/</td>\n",
       "      <td>https://neuroglancer.neuvue.io/?json_url=https...</td>\n",
       "      <td>[127406, 206585, 21529]</td>\n",
       "      <td>864691135458639120/</td>\n",
       "      <td>no</td>\n",
       "    </tr>\n",
       "    <tr>\n",
       "      <th>232</th>\n",
       "      <td>0</td>\n",
       "      <td>864691135526309723/</td>\n",
       "      <td>https://neuroglancer.neuvue.io/?json_url=https...</td>\n",
       "      <td>[122260, 186180, 19628]</td>\n",
       "      <td>864691135826764827/</td>\n",
       "      <td>no</td>\n",
       "    </tr>\n",
       "  </tbody>\n",
       "</table>\n",
       "<p>233 rows × 6 columns</p>\n",
       "</div>"
      ],
      "text/plain": [
       "     Unnamed: 0              Root_id  \\\n",
       "0             0  864691136577830164/   \n",
       "1             0  864691136577830164/   \n",
       "2             0  864691136577830164/   \n",
       "3             0  864691136577830164/   \n",
       "4             0  864691136577830164/   \n",
       "..          ...                  ...   \n",
       "228           0  864691135526309723/   \n",
       "229           0  864691135526309723/   \n",
       "230           0  864691135526309723/   \n",
       "231           0  864691135526309723/   \n",
       "232           0  864691135526309723/   \n",
       "\n",
       "                                                  Link  \\\n",
       "0    https://neuroglancer.neuvue.io/?json_url=https...   \n",
       "1    https://neuroglancer.neuvue.io/?json_url=https...   \n",
       "2    https://neuroglancer.neuvue.io/?json_url=https...   \n",
       "3    https://neuroglancer.neuvue.io/?json_url=https...   \n",
       "4    https://neuroglancer.neuvue.io/?json_url=https...   \n",
       "..                                                 ...   \n",
       "228  https://neuroglancer.neuvue.io/?json_url=https...   \n",
       "229  https://neuroglancer.neuvue.io/?json_url=https...   \n",
       "230  https://neuroglancer.neuvue.io/?json_url=https...   \n",
       "231  https://neuroglancer.neuvue.io/?json_url=https...   \n",
       "232  https://neuroglancer.neuvue.io/?json_url=https...   \n",
       "\n",
       "                          EP                  Ext  Gap  \n",
       "0    [402188, 228684, 24029]  864691135909994000/  yes  \n",
       "1    [401258, 224832, 24029]  864691135247440303/  yes  \n",
       "2    [401314, 228366, 24424]  864691134794123793/  yes  \n",
       "3    [400199, 220721, 24029]  864691134959738482/  yes  \n",
       "4    [397870, 232292, 24004]  864691135314714227/  yes  \n",
       "..                       ...                  ...  ...  \n",
       "228  [151721, 205162, 22236]                null/  NaN  \n",
       "229  [103176, 188510, 21202]  864691136558839249/   no  \n",
       "230  [118152, 182120, 20651]  864691135012763638/  yes  \n",
       "231  [127406, 206585, 21529]  864691135458639120/   no  \n",
       "232  [122260, 186180, 19628]  864691135826764827/   no  \n",
       "\n",
       "[233 rows x 6 columns]"
      ]
     },
     "execution_count": 3,
     "metadata": {},
     "output_type": "execute_result"
    }
   ],
   "source": [
    "df = pd.read_csv('expanded_gt.csv')\n",
    "df"
   ]
  },
  {
   "cell_type": "code",
   "execution_count": 12,
   "metadata": {},
   "outputs": [
    {
     "name": "stdout",
     "output_type": "stream",
     "text": [
      "Warning: deduplication not currently supported for this layer's variable layered draco meshes\n"
     ]
    },
    {
     "data": {
      "text/plain": [
       "Mesh(vertices<906546>, faces<1804279>, normals<0>, segid=864691135526309723, encoding_type=<draco>)"
      ]
     },
     "execution_count": 12,
     "metadata": {},
     "output_type": "execute_result"
    }
   ],
   "source": [
    "#root_id = rids[ind]\n",
    "datastack_name = \"minnie65_phase3_v1\"\n",
    "client = CAVEclient(datastack_name)\n",
    "vol = CloudVolume(\n",
    "        client.info.segmentation_source(),\n",
    "        use_https=True,\n",
    "        progress=False,\n",
    "        bounded=False,\n",
    "        fill_missing=True,\n",
    "        secrets={\"token\": client.auth.token}\n",
    "    )\n",
    "mesh = vol.mesh.get(str(864691135526309723))[864691135526309723]\n",
    "mesh"
   ]
  },
  {
   "cell_type": "code",
   "execution_count": 11,
   "metadata": {},
   "outputs": [],
   "source": [
    "def get_em(x_pre, x_post, y_pre, y_post, z_pre, z_post):\n",
    "    em = CloudVolume(\"s3://bossdb-open-data/iarpa_microns/minnie/minnie65/em\", use_https=True, mip=0)\n",
    "    return em[x_pre:x_post, y_pre:y_post, z_pre:z_post]"
   ]
  },
  {
   "cell_type": "code",
   "execution_count": 9,
   "metadata": {},
   "outputs": [],
   "source": [
    "# function to compute metrics for the first extension\n",
    "\n",
    "\n",
    "def metrics(root_id, extensions):\n",
    "    '''\n",
    "    Parameters:\n",
    "        root_id: (str) original segmentation root id\n",
    "        extensions: (list object) all segmentation extension candidates\n",
    "\n",
    "    Return:\n",
    "        total_synapses: total number of synapses added\n",
    "        volume: total mesh volume added\n",
    "        total_run_len : total run length of correct extension segid added\n",
    "    '''\n",
    "\n",
    "    # get correct seg_id from ground truth table\n",
    "    ground_truth = pd.read_csv('expanded_gt.csv')\n",
    "\n",
    "    # from ground truth table: extract the correct segid candidate\n",
    "\n",
    "    correct_extension = df.loc[df['Root_id'] == (str(864691136577830164) + '/')]\n",
    "\n",
    "    # drop null extensions\n",
    "    correct_extension.drop(correct_extension.index[correct_extension['Ext'] == 'null/'], inplace = True)\n",
    "\n",
    "    all_extensions = correct_extension['Ext'].to_list()\n",
    "\n",
    "    total_synapses = 0\n",
    "\n",
    "    # confirm later --> mesh_total (numerical quantity - float)\n",
    "    mesh_total = 0\n",
    "\n",
    "    for i in all_extensions:\n",
    "        pre_ct, post_ct = get_syn_counts(i[:-1])\n",
    "        total_synapses += pre_ct + post_ct\n",
    "        mesh = vol.mesh.get(str(i))\n",
    "        mesh = mesh[int(i)]\n",
    "        mesh_total += mesh\n",
    "\n",
    "    incorrect_synapses = 0\n",
    "    mesh_total_inc = 0\n",
    "    for k in extensions:\n",
    "        if k not in all_extensions:\n",
    "            pre_ct_k, post_ct_k = get_syn_counts(k)\n",
    "            incorrect_synapses += pre_ct_k + post_ct_k\n",
    "            mesh1 = vol.mesh.get(str(k))\n",
    "            mesh = mesh[int(k)]\n",
    "            mesh_total_inc += mesh\n",
    "        \n",
    "    prop_synap_correct = total_synapses / (total_synapses + incorrect_synapses)\n",
    "    prop_vol_correct = mesh_total / (mesh_total + mesh_total_inc)\n",
    "\n",
    "    # compute the total run length\n",
    "\n",
    "\n",
    "    return prop_synap_correct, prop_vol_correct\n"
   ]
  },
  {
   "cell_type": "code",
   "execution_count": 26,
   "metadata": {},
   "outputs": [
    {
     "name": "stderr",
     "output_type": "stream",
     "text": [
      "C:\\Users\\disc2\\AppData\\Local\\Temp\\ipykernel_24092\\3834407941.py:2: SettingWithCopyWarning: \n",
      "A value is trying to be set on a copy of a slice from a DataFrame\n",
      "\n",
      "See the caveats in the documentation: https://pandas.pydata.org/pandas-docs/stable/user_guide/indexing.html#returning-a-view-versus-a-copy\n",
      "  correct_extension.drop(correct_extension.index[correct_extension['Ext'] == 'null/'], inplace = True)\n"
     ]
    },
    {
     "data": {
      "text/plain": [
       "0.66"
      ]
     },
     "execution_count": 26,
     "metadata": {},
     "output_type": "execute_result"
    }
   ],
   "source": [
    "correct_extension = df.loc[df['Root_id'] == (str(864691136577830164) + '/')]\n",
    "correct_extension.drop(correct_extension.index[correct_extension['Ext'] == 'null/'], inplace = True)\n",
    "total_synapses = 0\n",
    "all_extensions = correct_extension['Ext'].to_list()\n",
    "\n",
    "total = []\n",
    "for i in all_extensions:\n",
    "    pre_ct, post_ct = get_syn_counts(i[:-1])\n",
    "    total.append( pre_ct + post_ct)\n",
    "\n",
    "non_correct = []\n",
    "\n",
    "for j in [864691135826764827, 864691135458639120]:\n",
    "    pre_ct, post_ct = get_syn_counts(j)\n",
    "    non_correct.append( pre_ct + post_ct)\n",
    "\n",
    "sum(total)/(sum(total)+sum(non_correct))"
   ]
  },
  {
   "cell_type": "code",
   "execution_count": 19,
   "metadata": {},
   "outputs": [
    {
     "name": "stderr",
     "output_type": "stream",
     "text": [
      "C:\\Users\\disc2\\AppData\\Local\\Temp\\ipykernel_24092\\3732757869.py:24: SettingWithCopyWarning: \n",
      "A value is trying to be set on a copy of a slice from a DataFrame\n",
      "\n",
      "See the caveats in the documentation: https://pandas.pydata.org/pandas-docs/stable/user_guide/indexing.html#returning-a-view-versus-a-copy\n",
      "  correct_extension.drop(correct_extension.index[correct_extension['Ext'] == 'null/'], inplace = True)\n"
     ]
    },
    {
     "data": {
      "text/plain": [
       "0.66"
      ]
     },
     "execution_count": 19,
     "metadata": {},
     "output_type": "execute_result"
    }
   ],
   "source": [
    "metrics(864691136577830164, [864691135826764827, 864691135458639120])"
   ]
  },
  {
   "cell_type": "markdown",
   "metadata": {},
   "source": [
    "# create function \n",
    "\n",
    "\n",
    "Function where:\n",
    "Inputs are (root_id, [extensions])\n",
    "Function should:\n",
    "Calculate how many synapses added by the extensions are correct / incorrect by comparing to the ground truth table\n",
    "Calculate how much volume is added by the extensions (again total / correct / incorrect)"
   ]
  },
  {
   "cell_type": "markdown",
   "metadata": {},
   "source": [
    "Additional Metrics\n",
    "\n",
    "1. run length (see how much skeleton is added by the correct extentions)\n",
    "2. "
   ]
  }
 ],
 "metadata": {
  "kernelspec": {
   "display_name": "Python 3.9.13 ('AGT_environment': venv)",
   "language": "python",
   "name": "python3"
  },
  "language_info": {
   "codemirror_mode": {
    "name": "ipython",
    "version": 3
   },
   "file_extension": ".py",
   "mimetype": "text/x-python",
   "name": "python",
   "nbconvert_exporter": "python",
   "pygments_lexer": "ipython3",
   "version": "3.9.13"
  },
  "orig_nbformat": 4,
  "vscode": {
   "interpreter": {
    "hash": "0976e0b757ede73c72437a7ce9cbe7713357605d3875f9444ce8b9cf45c09f77"
   }
  }
 },
 "nbformat": 4,
 "nbformat_minor": 2
}
