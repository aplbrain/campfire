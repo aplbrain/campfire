{
 "cells": [
  {
   "attachments": {},
   "cell_type": "markdown",
   "metadata": {},
   "source": [
    "### DATAFRAME"
   ]
  },
  {
   "cell_type": "code",
   "execution_count": 1,
   "metadata": {},
   "outputs": [],
   "source": [
    "from cloudvolume import CloudVolume\n",
    "from meshparty import skeletonize, trimesh_io\n",
    "from caveclient import CAVEclient\n",
    "import trimesh\n",
    "import numpy as np\n",
    "import datetime\n",
    "import networkx as nx\n",
    "from scipy.sparse import identity\n",
    "from scipy.spatial import distance_matrix\n",
    "import scipy \n",
    "from tqdm import tqdm\n",
    "# import aws\n",
    "import pandas as pd\n",
    "import csv\n",
    "import pyembree\n",
    "import matplotlib.pyplot as plt\n",
    "import scipy.spatial as spatial\n",
    "import itertools\n",
    "import math"
   ]
  },
  {
   "cell_type": "code",
   "execution_count": 2,
   "metadata": {},
   "outputs": [],
   "source": [
    "orphans = pd.read_csv(\"/Users/sheeltanna/Desktop/AGT_REPO/campfire/ALL_ORPHANS.csv\")"
   ]
  },
  {
   "cell_type": "code",
   "execution_count": 3,
   "metadata": {},
   "outputs": [],
   "source": [
    "orphans_subset = pd.read_csv(\"/Users/sheeltanna/Desktop/AGT_REPO/campfire/Orphans_subset.csv\")"
   ]
  },
  {
   "cell_type": "code",
   "execution_count": 4,
   "metadata": {},
   "outputs": [],
   "source": [
    "def my_array(x):\n",
    "    res = list(map(str.strip, x.split('; ')))\n",
    "    return res"
   ]
  },
  {
   "cell_type": "code",
   "execution_count": 5,
   "metadata": {},
   "outputs": [],
   "source": [
    "orphans['endpoints'] = orphans['endpoints'].map(lambda x: list(map(str.strip, x.split('; '))))"
   ]
  },
  {
   "cell_type": "code",
   "execution_count": 6,
   "metadata": {},
   "outputs": [],
   "source": [
    "orphans_subset['endpoints'] = orphans_subset['endpoints'].map(lambda x: list(map(str.strip, x.split('; '))))"
   ]
  },
  {
   "cell_type": "code",
   "execution_count": 7,
   "metadata": {},
   "outputs": [],
   "source": [
    "## convert from string list to 2-d array\n",
    "def convert_to_array(row):\n",
    "    count = 0\n",
    "    result = []\n",
    "    for endpoint in row[\"endpoints\"]:\n",
    "        endpoint = eval(endpoint)\n",
    "        if(count == 0):\n",
    "            result = np.array(endpoint)\n",
    "            count = count + 1\n",
    "        else:\n",
    "            result = np.vstack((result, np.array(endpoint)))\n",
    "            count = count + 1\n",
    "    if(count == 1 and result.size != 0):\n",
    "        result = result.reshape(1,3)\n",
    "    return result "
   ]
  },
  {
   "cell_type": "code",
   "execution_count": 8,
   "metadata": {},
   "outputs": [],
   "source": [
    "orphans[\"real_endpoints\"] = orphans.apply(convert_to_array, axis = 1)"
   ]
  },
  {
   "cell_type": "code",
   "execution_count": 9,
   "metadata": {},
   "outputs": [],
   "source": [
    "orphans_subset[\"real_endpoints\"] = orphans_subset.apply(convert_to_array, axis = 1)"
   ]
  },
  {
   "attachments": {},
   "cell_type": "markdown",
   "metadata": {},
   "source": [
    "### TIP FINDER FUNCTIONS"
   ]
  },
  {
   "cell_type": "code",
   "execution_count": 10,
   "metadata": {},
   "outputs": [],
   "source": [
    "def get_and_process_mesh(root_id):\n",
    "    datastack_name = \"minnie65_phase3_v1\"\n",
    "    client = CAVEclient(datastack_name)\n",
    "    vol = CloudVolume(\n",
    "        client.info.segmentation_source(),\n",
    "        use_https=True,\n",
    "        progress=False,\n",
    "        bounded=False,\n",
    "        fill_missing=True,\n",
    "        secrets={\"token\": client.auth.token}\n",
    "    )\n",
    "    print(\"Downloading Mesh\")\n",
    "    mesh = vol.mesh.get(str(root_id))[root_id]\n",
    "    mesh_obj = trimesh.Trimesh(np.divide(mesh.vertices, np.array([1,1,1])), mesh.faces)\n",
    "    print(\"Vertices: \", mesh.vertices.shape[0])\n",
    "\n",
    "    if mesh_obj.volume > 4000000000000:\n",
    "        print(\"TOO BIG, SKIPPING\")\n",
    "        return None\n",
    "    trimesh.repair.fix_normals(mesh_obj)\n",
    "    mesh_obj.fill_holes()\n",
    "\n",
    "    return mesh_obj"
   ]
  },
  {
   "cell_type": "code",
   "execution_count": 11,
   "metadata": {},
   "outputs": [],
   "source": [
    "def get_soma(soma_id:str):\n",
    "    cave_client = CAVEclient('minnie65_phase3_v1')\n",
    "    soma = cave_client.materialize.query_table(\n",
    "        \"nucleus_neuron_svm\",\n",
    "        filter_equal_dict={'id':soma_id}\n",
    "    )\n",
    "    return soma"
   ]
  },
  {
   "cell_type": "code",
   "execution_count": 12,
   "metadata": {},
   "outputs": [],
   "source": [
    "def process_mesh_ccs(mesh_obj):\n",
    "    print(\"Processing CC's\")\n",
    "    ccs_graph = trimesh.graph.connected_components(mesh_obj.edges)\n",
    "    ccs_len = [len(c) for c in ccs_graph]\n",
    "    largest_component = ccs_graph[np.argmax(ccs_len)]\n",
    "    largest_component_remap = np.arange(ccs_graph[np.argmax(ccs_len)].shape[0])\n",
    "    face_dict = {largest_component[i]:largest_component_remap[i] for i in range(largest_component.shape[0])}\n",
    "\n",
    "    new_faces_mask = np.isin(mesh_obj.faces, list(face_dict.keys()))\n",
    "    new_faces_mask = new_faces_mask[:, 0]*new_faces_mask[:, 1]*new_faces_mask[:, 2]\n",
    "\n",
    "    new_faces = np.vectorize(face_dict.get)(mesh_obj.faces[new_faces_mask])\n",
    "    new_faces = new_faces[new_faces[:, 0] != None]\n",
    "    largest_component_mesh = trimesh.Trimesh(mesh_obj.vertices[largest_component], new_faces)\n",
    "\n",
    "    all_ids = set(largest_component)\n",
    "    encapsulated_ids = []\n",
    "\n",
    "    for i in range(1, len(ccs_graph)):\n",
    "        n_con = largest_component_mesh.contains(mesh_obj.vertices[ccs_graph[i]])\n",
    "        if np.sum(n_con) / n_con.shape[0] == 0 and n_con.shape[0] > 50:\n",
    "            all_ids.update(ccs_graph[i])\n",
    "        else:\n",
    "            if len(ccs_graph[i]) < 1000:\n",
    "                encapsulated_ids.append((np.mean(mesh_obj.vertices[ccs_graph[i]], axis=0)/[4,4,40], len(ccs_graph[i])))\n",
    "            \n",
    "    all_component = np.array(list(ccs_graph[np.argmax(ccs_len)]))\n",
    "    all_component_remap = np.arange(all_component.shape[0])\n",
    "    face_dict = {all_component[i]:all_component_remap[i] for i in range(all_component.shape[0])}\n",
    "    new_faces_mask = np.isin(mesh_obj.faces, list(face_dict.keys()))\n",
    "    new_faces_mask = new_faces_mask[:, 0]*new_faces_mask[:, 1]*new_faces_mask[:, 2]\n",
    "\n",
    "    new_faces = np.vectorize(face_dict.get)(mesh_obj.faces[new_faces_mask])\n",
    "    new_faces[new_faces[:, 0] != None]\n",
    "    \n",
    "    largest_component_mesh = trimesh.Trimesh(mesh_obj.vertices[all_component], new_faces)\n",
    "    \n",
    "    mesh_obj = largest_component_mesh\n",
    "    return mesh_obj, encapsulated_ids, np.max(ccs_len)"
   ]
  },
  {
   "cell_type": "code",
   "execution_count": 13,
   "metadata": {},
   "outputs": [],
   "source": [
    "def process_defects(mesh_obj, a=.75):\n",
    "    bad_edges = trimesh.grouping.group_rows(\n",
    "        mesh_obj.edges_sorted, require_count=1)\n",
    "    bad_edges_ind = mesh_obj.edges[bad_edges]\n",
    "    sparse_edges = mesh_obj.edges_sparse\n",
    "    xs = list(bad_edges_ind[:, 0]) + list(bad_edges_ind[:, 1]) \n",
    "    ys = list(bad_edges_ind[:, 1]) + list(bad_edges_ind[:, 0])\n",
    "    vs = [1]*bad_edges_ind.shape[0]*2\n",
    "    bad_inds = scipy.sparse.coo_matrix((vs, (xs, ys)), shape=(mesh_obj.vertices.shape[0], mesh_obj.vertices.shape[0]))\n",
    "    # Make it symmetrical and add identity so each integrates from itself too, then subtract singleton edges\n",
    "    # I noticed that the number of asymmetrical edges vs the number of single edges I find from group rows\n",
    "    # Are close but different. Haven't looked into that yet. Also removing edges 1 hop away from single edges to remove bias towards\n",
    "    # Holes in the mesh that are caused by mesh construction errors as opposed to segmentation errors\n",
    "    sparse_edges = mesh_obj.edges_sparse + mesh_obj.edges_sparse.T + identity(mesh_obj.edges_sparse.shape[0]) - sparse_edges.multiply(bad_inds) - bad_inds\n",
    "    degs = mesh_obj.vertex_degree + 1\n",
    "\n",
    "    # N_iter is a smoothing parameter here. The loop below smooths the vertex error about the mesh to get more consistent connected regions\n",
    "    n_iter = 2\n",
    "    angle_sum = np.array(abs(mesh_obj.face_angles_sparse).sum(axis=1)).flatten()\n",
    "    defs = (2 * np.pi) - angle_sum\n",
    "\n",
    "    abs_defs = np.abs(defs)\n",
    "    abs_defs_i = abs_defs.copy()\n",
    "    for i in range(n_iter):\n",
    "        abs_defs_i = sparse_edges.dot(abs_defs_i) / degs\n",
    "    \n",
    "    verts_select = np.argwhere((abs_defs_i > a))# & (abs_defs < 2.5))\n",
    "\n",
    "    edges_mask = np.isin(mesh_obj.edges, verts_select)\n",
    "    edges_mask[bad_edges] = False\n",
    "    edges_select = edges_mask[:, 0] * edges_mask[:, 1]\n",
    "    edges_select = mesh_obj.edges[edges_select]\n",
    "\n",
    "    G = nx.from_edgelist(edges_select)#f_edge_sub)\n",
    "\n",
    "    ccs = nx.connected_components(G)\n",
    "    subgraphs = [G.subgraph(cc).copy() for cc in ccs]\n",
    "\n",
    "    lens = []\n",
    "    lengths = []\n",
    "    for i in tqdm(range(len(subgraphs))):\n",
    "        ns = np.array(list(subgraphs[i].nodes()))\n",
    "    #     ns = ns[abs_defs[ns ]]\n",
    "        l = len(ns)\n",
    "        if l > 20 and l < 5000:\n",
    "            lens.append(ns)\n",
    "            lengths.append(l)\n",
    "    all_nodes = set()\n",
    "    for l in lens:\n",
    "        all_nodes.update(l)\n",
    "    all_nodes = np.array(list(all_nodes))\n",
    "    # sharp_pts = mesh_obj.vertices[all_nodes]\n",
    "    centers = np.array([np.mean(mesh_obj.vertices[list(ppts)],axis=0) for ppts in lens])\n",
    "\n",
    "    return centers, lens"
   ]
  },
  {
   "cell_type": "code",
   "execution_count": 14,
   "metadata": {},
   "outputs": [],
   "source": [
    "def process_endpoints(mesh_obj, skel_mp):\n",
    "    # Process the skeleton to get the endpoints\n",
    "    interior_cc_mask = set()\n",
    "    el = nx.from_edgelist(skel_mp.edges)\n",
    "    comps = list(nx.connected_components(el))\n",
    "    for c in comps:\n",
    "        if len(c) < 100:\n",
    "            n_con = mesh_obj.contains(skel_mp.vertices[list(c)])\n",
    "            if np.sum(n_con) / n_con.shape[0] > .10:\n",
    "                interior_cc_mask.update(list(c))\n",
    "    # Process the skeleton to get the endpoints\n",
    "    edges = skel_mp.edges.copy()\n",
    "\n",
    "    edge_mask = ~np.isin(edges, interior_cc_mask)\n",
    "    edge_mask = edge_mask[:, 0] + edge_mask[:, 1]\n",
    "    edges = edges[edge_mask]\n",
    "    edges_flat  = edges.flatten()\n",
    "    edge_bins = np.bincount(edges_flat) \n",
    "\n",
    "    eps = np.squeeze(np.argwhere(edge_bins==1))\n",
    "    eps_nm = skel_mp.vertices[eps]\n",
    "\n",
    "    eps_comp = distance_matrix(eps_nm, eps_nm)\n",
    "    eps_comp[eps_comp == 0] = np.inf\n",
    "    eps_thresh = np.argwhere(~(np.min(eps_comp, axis=0) < 3000))\n",
    "\n",
    "    eps = np.squeeze(eps[eps_thresh])\n",
    "    eps_nm = np.squeeze(eps_nm[eps_thresh])\n",
    "    return eps, eps_nm"
   ]
  },
  {
   "cell_type": "code",
   "execution_count": 15,
   "metadata": {},
   "outputs": [],
   "source": [
    "def process_mesh_errors(mesh_obj, centers, eps, eps_nm, lens, skel_mp):\n",
    "    if eps.size == 1:\n",
    "        #eps_nm should therefore be reshaped\n",
    "        eps_nm = eps_nm.reshape((1,3))\n",
    "\n",
    "    print(\"Processing mesh errors\")\n",
    "    # path_to_root_dict = {}\n",
    "    # for ep in eps:\n",
    "    #     path_to_root_dict[ep] = skel_mp.path_to_root(ep)\n",
    "        \n",
    "    dists_defects = np.zeros(centers.shape[0])\n",
    "    sizes = np.zeros(centers.shape[0])\n",
    "    mesh_map = skel_mp.mesh_to_skel_map\n",
    "    closest_skel_pts = mesh_map[[l[0] for l in lens]]\n",
    "\n",
    "    # print(centers, eps_nm)\n",
    "\n",
    "    dist_matrix = distance_matrix(centers, eps_nm)\n",
    "    ct = 0\n",
    "\n",
    "    closest_tip = np.zeros((centers.shape[0]))\n",
    "\n",
    "    for center in tqdm(centers):\n",
    "    #     skel_pts_dists = np.linalg.norm(skel_mp.vertices - center, axis=1)\n",
    "    #     ep_pts_dists = np.linalg.norm(eps_nm - center, axis=1)\n",
    "        \n",
    "        # closest_skel_pt = closest_skel_pts[ct]\n",
    "        min_ep = np.inf\n",
    "        eps_hit = []\n",
    "        if eps.size == 1:\n",
    "            eps_hit.append(eps)\n",
    "        else: \n",
    "            for j, ep in enumerate(eps):\n",
    "                # if closest_skel_pt in path_to_root_dict[ep]:\n",
    "                #     eps_hit.append(j)\n",
    "                eps_hit.append(j)\n",
    "        \n",
    "        if(eps.size == 1):\n",
    "            dists = dist_matrix[ct]\n",
    "        else:\n",
    "            dists = dist_matrix[ct, eps_hit]\n",
    "        \n",
    "        amin = np.argmin(dists)\n",
    "        tip_hit = eps_hit[amin]\n",
    "        min_dist = dists[amin]\n",
    "        \n",
    "        closest_tip[ct] = tip_hit\n",
    "    #     print(np.argmin(ep_pts_dists), ep_found, eps_nm[np.argmin(ep_pts_dists)]/[4,4,40], eps_nm[j]/[4,4,40], center/[4,4,40])\n",
    "        dists_defects[ct] = min_dist\n",
    "        sizes[ct] = len(lens[ct])\n",
    "        ct+=1\n",
    "    dists_defects_sub = dists_defects[dists_defects < 5000]\n",
    "    sizes_sub = sizes[dists_defects < 5000]\n",
    "    centers_sub = centers[dists_defects < 5000]\n",
    "    tips_hit_sub = closest_tip[dists_defects < 5000]\n",
    "    closest_skel_pts_sub = closest_skel_pts[dists_defects < 5000]\n",
    "    inds_sub = np.arange(centers.shape[0])[dists_defects < 5000]\n",
    "\n",
    "\n",
    "    # Also ranking each component based on its PCA- if the first component is big enough, the points are mostly linear\n",
    "    # These point sets seem to be less likely to be true errors\n",
    "    from sklearn.decomposition import PCA\n",
    "    pca_vec = np.zeros(inds_sub.shape[0])\n",
    "    for i in range(inds_sub.shape[0]):\n",
    "        pca = PCA()#n_components=2)\n",
    "        pca.fit(mesh_obj.vertices[lens[inds_sub[i]]])\n",
    "\n",
    "        pca_vec[i] = pca.explained_variance_ratio_[0]\n",
    "\n",
    "    dists_defects_sub[dists_defects_sub < 4000] = 100\n",
    "    dists_defects_norm = dists_defects_sub #/ np.max(dists_defects_sub)\n",
    "    ranks_ep = sizes_sub / dists_defects_norm * (1-pca_vec)\n",
    "    ranks = sizes_sub**2 * (1-pca_vec)\n",
    "\n",
    "    #ranks_ep_errors_filt = ranks_ep[ranks_ep > .1]\n",
    "    centers_ep_send_errors = centers_sub[np.argsort(ranks_ep)][::-1][:20]\n",
    "    final_mask_eps = np.full(centers_ep_send_errors.shape[0], True)\n",
    "    tips_hit_send_ep = tips_hit_sub[np.argsort(ranks_ep)][::-1][:20]\n",
    "    uns, nums = np.unique(tips_hit_send_ep, return_counts=True)\n",
    "\n",
    "    for un, num in zip(uns, nums):\n",
    "        if num > 1:\n",
    "            final_mask_eps[np.argwhere(tips_hit_send_ep == un)[1:]] = False\n",
    "    centers_errors_ep = centers_ep_send_errors[final_mask_eps]\n",
    "    centers_errors = centers_sub[np.argsort(ranks)[::-1]][:20]\n",
    "    return centers_errors, centers_errors_ep"
   ]
  },
  {
   "cell_type": "code",
   "execution_count": 16,
   "metadata": {},
   "outputs": [],
   "source": [
    "def process_mesh_facets(mesh_obj, skel_mp, eps, eps_nm, facet_area_threshold=30000):\n",
    "\n",
    "    \n",
    "    if eps.size == 1:\n",
    "        #eps_nm should therefore be reshaped\n",
    "        eps_nm = eps_nm.reshape((1,3))\n",
    "\n",
    "    #changed threshold of facets to 3000 to match changes performed on processed in analysis CELLS\n",
    "    print(\"Processing facets\")\n",
    "    #can possibly change param here\n",
    "    #threshold on size of flat area\n",
    "    locs = np.argwhere(mesh_obj.facets_area > facet_area_threshold)\n",
    "\n",
    "    mesh_map = skel_mp.mesh_to_skel_map\n",
    "    mesh_coords = mesh_obj.vertices[mesh_obj.faces]\n",
    "    mean_locs = []\n",
    "    mesh_ind = []\n",
    "    fs = []\n",
    "    for l in tqdm(locs):\n",
    "        fs.append(np.sum(mesh_obj.facets_area[l]))\n",
    "        fc = mesh_obj.facets[l[0]]\n",
    "        vert_locs = mesh_coords[fc]\n",
    "        mean_locs.append(np.mean(vert_locs[:, 0], axis=0))\n",
    "        mesh_ind.append(fc[0])\n",
    "    mesh_ind = mesh_obj.faces[mesh_ind][:, 0]\n",
    "    mean_locs = np.array(mean_locs)\n",
    "    if mean_locs.size == 0:\n",
    "        facets_send_final = np.zeros((1,3))\n",
    "        return facets_send_final\n",
    "    dists_defects_facets = np.zeros(mean_locs.shape[0])\n",
    "    mesh_map_facets = skel_mp.mesh_to_skel_map\n",
    "    closest_skel_pts_facets = mesh_map[[m for m in mesh_ind]]\n",
    "    dist_matrix_facets = distance_matrix(mean_locs, eps_nm)\n",
    "    ct = 0\n",
    "\n",
    "    closest_tip_facets = np.zeros((mean_locs.shape[0]))\n",
    "\n",
    "    for center in tqdm(mean_locs):\n",
    "\n",
    "        closest_skel_pt = closest_skel_pts_facets[ct]\n",
    "        eps_hit = []\n",
    "        ##added for error fixing\n",
    "        if eps.size == 1:\n",
    "            eps_hit.append(eps)\n",
    "        else:\n",
    "            for j, ep in enumerate(eps):\n",
    "                # if closest_skel_pt in path_to_root_dict[ep]:\n",
    "                #     eps_hit.append(j)\n",
    "                eps_hit.append(j)\n",
    "        \n",
    "            #distance from every error(facets and jagged) to every endpoint\n",
    "        if(eps.size == 1):\n",
    "            dists = dist_matrix_facets[ct]\n",
    "        else:\n",
    "            dists = dist_matrix_facets[ct, eps_hit]\n",
    "    \n",
    "        \n",
    "        amin = np.argmin(dists)\n",
    "        tip_hit = eps_hit[amin]\n",
    "        min_dist = dists[amin]\n",
    "        \n",
    "        closest_tip_facets[ct] = tip_hit\n",
    "        dists_defects_facets[ct] = min_dist\n",
    "        ct+=1\n",
    "    dists_defects_sub_facets = dists_defects_facets[dists_defects_facets < 2000]\n",
    "    sizes_sub_facets = np.array(fs)[dists_defects_facets < 2000]\n",
    "    mean_locs_facets = mean_locs[dists_defects_facets < 2000]\n",
    "    tips_hit_sub_facets = closest_tip_facets[dists_defects_facets < 2000]\n",
    "    closest_skel_pts_sub_facets = closest_skel_pts_facets[dists_defects_facets < 2000]\n",
    "    inds_sub_facets = np.arange(mean_locs.shape[0])[dists_defects_facets < 2000]\n",
    "    # ranks_ep_facets = sizes_sub_facets**2 / dists_defects_sub_facets\n",
    "    #ranks_ep_facets_filt = ranks_ep_facets[ranks_ep_facets > 2e7]\n",
    "    mean_locs_send_facets = mean_locs_facets\n",
    "    final_mask_facets = np.full(mean_locs_send_facets.shape[0], True)\n",
    "    tips_hit_send_facets = tips_hit_sub_facets\n",
    "    uns, nums = np.unique(tips_hit_send_facets, return_counts=True)\n",
    "\n",
    "    for un, num in zip(uns, nums):\n",
    "        if num > 1:\n",
    "            final_mask_facets[np.argwhere(tips_hit_send_facets == un)[1:]] = False\n",
    "    facets_send_final = mean_locs_send_facets[final_mask_facets] / [4,4,40]\n",
    "    return facets_send_final"
   ]
  },
  {
   "attachments": {},
   "cell_type": "markdown",
   "metadata": {},
   "source": [
    "### TIP FINDER FUNCTION"
   ]
  },
  {
   "cell_type": "code",
   "execution_count": 17,
   "metadata": {},
   "outputs": [],
   "source": [
    "def error_locs_defects(root_id, soma_id = None, soma_table=None, center_collapse=True):\n",
    "    mesh_obj = get_and_process_mesh(root_id)\n",
    "    if mesh_obj is None:\n",
    "        return None\n",
    "    try:\n",
    "        if soma_table==None:\n",
    "            soma_table = get_soma(str(soma_id))\n",
    "        if soma_table[soma_table.id == soma_id].shape[0] > 0:\n",
    "            center = np.array(soma_table[soma_table.id == soma_id].pt_position)[0] * [4,4,40]\n",
    "        else:\n",
    "            center=None\n",
    "    except:\n",
    "        center = None\n",
    "    print(\"Subselecting largest connected component of mesh\")\n",
    "    mesh_obj, encapsulated_ids, max_verts = process_mesh_ccs(mesh_obj)\n",
    "    \n",
    "\n",
    "    skel_mp = skeletonize.skeletonize_mesh(trimesh_io.Mesh(mesh_obj.vertices, \n",
    "                                            mesh_obj.faces),\n",
    "                                            invalidation_d=4000,\n",
    "                                            shape_function='cone',\n",
    "                                            collapse_function='branch',\n",
    "#                                             soma_radius = soma_radius,\n",
    "                                            soma_pt=center,\n",
    "                                            smooth_neighborhood=5,\n",
    "                                             cc_vertex_thresh=max_verts - 10\n",
    "#                                                     collapse_params = {'dynamic_threshold':True}\n",
    "                                            )\n",
    "    print(\"Skel done\")\n",
    "    centers, lens = process_defects(mesh_obj)\n",
    "    eps, eps_nm = process_endpoints(mesh_obj, skel_mp)\n",
    "\n",
    "    if(len(eps) == 0):\n",
    "        sorted_encapsulated_send = np.zeros((1,3))\n",
    "        facets_send_final = np.zeros((1,3))\n",
    "        errors_send = np.zeros((1,3))\n",
    "        errors_tips_send = np.zeros((1,3))\n",
    "        return sorted_encapsulated_send, facets_send_final, errors_send, errors_tips_send\n",
    "        \n",
    "    \n",
    "    if len(centers) !=0:\n",
    "        centers_errors, centers_errors_ep = process_mesh_errors(mesh_obj, centers, eps, eps_nm, lens, skel_mp)\n",
    "    else:\n",
    "        centers_errors = np.zeros ((1,3))\n",
    "        centers_errors_ep = np.zeros ((1,3))\n",
    "        ranks = np.zeros ((1))\n",
    "        ranks_ep = np.zeros((1, 3))\n",
    "        ranks_return = 0\n",
    "        ranks_ep_return = 0\n",
    "    facets_send_final = process_mesh_facets(mesh_obj, skel_mp, eps, eps_nm)\n",
    "    errors_send = centers_errors / [4,4,40]\n",
    "    errors_tips_send = centers_errors_ep / [4,4,40]\n",
    "    encapsulated_centers = [e[0] for e in encapsulated_ids]\n",
    "    encapsulated_lens = [e[1] for e in encapsulated_ids]\n",
    "    sorted_encapsulated_send = np.array(encapsulated_centers)[np.argsort(encapsulated_lens)][::-1]\n",
    "    return sorted_encapsulated_send, facets_send_final, errors_send, errors_tips_send"
   ]
  },
  {
   "attachments": {},
   "cell_type": "markdown",
   "metadata": {},
   "source": [
    "### Generating Endpoints"
   ]
  },
  {
   "cell_type": "code",
   "execution_count": 18,
   "metadata": {},
   "outputs": [],
   "source": [
    "def find_endpoints_and_counts(row):\n",
    "    from scipy.spatial import distance_matrix\n",
    "\n",
    "    seg_id = row[\"seg_id\"]\n",
    "    sorted_encapsulated_send, facets_send_final, errors_send, errors_tips_send = error_locs_defects(seg_id)\n",
    "    \n",
    "    together = np.vstack((facets_send_final, errors_tips_send))\n",
    "    if len(together) == 0:\n",
    "        num_points_error_tips_send = 0\n",
    "        num_points_facets_send_final = 0\n",
    "        return together, num_points_error_tips_send, num_points_facets_send_final, facets_send_final, errors_tips_send\n",
    "\n",
    "    num_points_error_tips_send  = np.sum(np.all(errors_tips_send != 0, axis=1))\n",
    "    num_points_facets_send_final = np.sum(np.all(facets_send_final != 0, axis=1))\n",
    "    mask = np.sum(together, axis=1)\n",
    "    together = together[mask > 0]\n",
    "\n",
    "\n",
    "    return together, num_points_error_tips_send, num_points_facets_send_final, facets_send_final, errors_tips_send   "
   ]
  },
  {
   "cell_type": "markdown",
   "metadata": {},
   "source": []
  },
  {
   "cell_type": "code",
   "execution_count": 19,
   "metadata": {},
   "outputs": [],
   "source": [
    "def generate_endpoints(dataframe):\n",
    "    dataframe[\"endpoints_generated\"], dataframe[\"num_errors\"], dataframe[\"num_facets\"], dataframe[\"facets\"], dataframe[\"errors\"] = zip(*dataframe.apply(find_endpoints_and_counts, axis=1))\n",
    "    return dataframe"
   ]
  },
  {
   "attachments": {},
   "cell_type": "markdown",
   "metadata": {},
   "source": [
    "### Accuracy Function"
   ]
  },
  {
   "cell_type": "code",
   "execution_count": 20,
   "metadata": {},
   "outputs": [],
   "source": [
    "def pred_eps_acc(gt_endpoints, pred_endpoints, threshold):\n",
    "    # Calculate distances\n",
    "    dist_matrix = np.array(spatial.distance.cdist(gt_endpoints, pred_endpoints, metric = 'euclidean'))\n",
    "    # Apply threshold\n",
    "    dist_matrix[dist_matrix > threshold] = 0\n",
    "    # Calculating accuracy\n",
    "    valid_eps = np.count_nonzero(dist_matrix, axis = 1)\n",
    "    accuracy = np.count_nonzero(valid_eps) / len(gt_endpoints)\n",
    "    return accuracy"
   ]
  },
  {
   "attachments": {},
   "cell_type": "markdown",
   "metadata": {},
   "source": [
    "### Filtering Facets + Errors Function"
   ]
  },
  {
   "cell_type": "code",
   "execution_count": 21,
   "metadata": {},
   "outputs": [],
   "source": [
    "def filter_facets_errors(row):\n",
    "    \n",
    "    # distance matrix calculation between all points in together\n",
    "    dists = distance_matrix(row[\"endpoints_generated\"], row[\"endpoints_generated\"], p=2)\n",
    "    #distance matrix between all points in together and true endpoints\n",
    "    dists_to_gt = distance_matrix(row[\"endpoints_generated\"], row[\"real_endpoints\"])\n",
    "    #filtered points keeps one point based on a threshold. Any other points within threshold is not kept\n",
    "    filtered_points = []\n",
    "    N = row[\"endpoints_generated\"].shape[0]  # Number of points\n",
    "    filtered_indices = []\n",
    "\n",
    "    for i in range(N):\n",
    "        if i in filtered_indices:\n",
    "            continue\n",
    "        keep_index = i\n",
    "        for j in range(i + 1, N):\n",
    "            if j in filtered_indices:\n",
    "                continue\n",
    "            distance = dists[i, j]\n",
    "            if distance <= 250 and distance > 0:\n",
    "                #pick the endpoint closest to the gt endpoint\n",
    "                #dist j to gt\n",
    "                min_dist = np.min(dists_to_gt[keep_index])\n",
    "                min_dist_2 = np.min(dists_to_gt[j])\n",
    "                if min_dist <= min_dist_2:\n",
    "                    #i is better than j\n",
    "                    keep_index = i\n",
    "                    filtered_indices.append(j)\n",
    "                else:\n",
    "                    #j is better than i\n",
    "                    keep_index = j\n",
    "                    filtered_indices.append(i)\n",
    "        #out of the group of clustered points, this is closest to gt so we keep it and filter others out\n",
    "        filtered_points.append(row[\"endpoints_generated\"][keep_index])\n",
    "        \n",
    "    filtered_points = np.array(filtered_points)\n",
    "    filtered_points = np.unique(filtered_points, axis = 0)\n",
    "\n",
    "    if len(filtered_points) == 0:\n",
    "        filtered_points =filtered_points.reshape((0, 3))\n",
    "\n",
    "    #update the num_errors\tnum_facets\tfacets\terrors\n",
    "    for index in filtered_indices:\n",
    "        if np.isin(row[\"endpoints_generated\"][index], row[\"errors\"]).any():\n",
    "            #remove errors and decremeent count\n",
    "            row[\"errors\"] = row[\"errors\"][row[\"errors\"] != row[\"endpoints_generated\"][index]]\n",
    "            row[\"num_errors\"] = row[\"num_errors\"] - 1\n",
    "        else:\n",
    "            #remove from facets and decrement count\n",
    "            row[\"facets\"] = row[\"facets\"][row[\"facets\"] != row[\"endpoints_generated\"][index]]\n",
    "            row[\"num_facets\"] = row[\"num_facets\"] - 1\n",
    "\n",
    "    return filtered_points, row[\"num_facets\"], row[\"num_errors\"], row[\"facets\"], row[\"errors\"]"
   ]
  },
  {
   "attachments": {},
   "cell_type": "markdown",
   "metadata": {},
   "source": [
    "### Testing On Orphans"
   ]
  },
  {
   "cell_type": "code",
   "execution_count": null,
   "metadata": {},
   "outputs": [],
   "source": [
    "generate_endpoints(orphans)"
   ]
  },
  {
   "cell_type": "code",
   "execution_count": 23,
   "metadata": {},
   "outputs": [
    {
     "name": "stdout",
     "output_type": "stream",
     "text": [
      "Downloading Mesh\n",
      "Warning: deduplication not currently supported for this layer's variable layered draco meshes\n",
      "Vertices:  7993\n",
      "Subselecting largest connected component of mesh\n",
      "Processing CC's\n"
     ]
    },
    {
     "name": "stderr",
     "output_type": "stream",
     "text": [
      "100%|██████████| 7992/7992 [00:00<00:00, 1293443.34it/s]\n"
     ]
    },
    {
     "name": "stdout",
     "output_type": "stream",
     "text": [
      "Skel done\n"
     ]
    },
    {
     "name": "stderr",
     "output_type": "stream",
     "text": [
      "100%|██████████| 26/26 [00:00<00:00, 147566.85it/s]\n"
     ]
    },
    {
     "name": "stdout",
     "output_type": "stream",
     "text": [
      "Processing facets\n"
     ]
    },
    {
     "name": "stderr",
     "output_type": "stream",
     "text": [
      "100%|██████████| 17/17 [00:00<00:00, 10604.28it/s]\n",
      "100%|██████████| 17/17 [00:00<00:00, 80206.04it/s]\n"
     ]
    },
    {
     "name": "stdout",
     "output_type": "stream",
     "text": [
      "Downloading Mesh\n",
      "Warning: deduplication not currently supported for this layer's variable layered draco meshes\n",
      "Vertices:  21335\n",
      "Subselecting largest connected component of mesh\n",
      "Processing CC's\n"
     ]
    },
    {
     "name": "stderr",
     "output_type": "stream",
     "text": [
      "100%|██████████| 21334/21334 [00:00<00:00, 1106934.71it/s]\n"
     ]
    },
    {
     "name": "stdout",
     "output_type": "stream",
     "text": [
      "Skel done\n"
     ]
    },
    {
     "name": "stderr",
     "output_type": "stream",
     "text": [
      "100%|██████████| 87/87 [00:00<00:00, 250105.86it/s]\n"
     ]
    },
    {
     "name": "stdout",
     "output_type": "stream",
     "text": [
      "Processing mesh errors\n"
     ]
    },
    {
     "name": "stderr",
     "output_type": "stream",
     "text": [
      "100%|██████████| 2/2 [00:00<00:00, 28630.06it/s]\n"
     ]
    },
    {
     "name": "stdout",
     "output_type": "stream",
     "text": [
      "Processing facets\n"
     ]
    },
    {
     "name": "stderr",
     "output_type": "stream",
     "text": [
      "100%|██████████| 89/89 [00:00<00:00, 26782.40it/s]\n",
      "100%|██████████| 89/89 [00:00<00:00, 104563.88it/s]\n"
     ]
    },
    {
     "name": "stdout",
     "output_type": "stream",
     "text": [
      "Downloading Mesh\n",
      "Warning: deduplication not currently supported for this layer's variable layered draco meshes\n",
      "Vertices:  6056\n",
      "Subselecting largest connected component of mesh\n",
      "Processing CC's\n"
     ]
    },
    {
     "name": "stderr",
     "output_type": "stream",
     "text": [
      "100%|██████████| 6049/6049 [00:00<00:00, 1186796.94it/s]\n"
     ]
    },
    {
     "name": "stdout",
     "output_type": "stream",
     "text": [
      "Skel done\n"
     ]
    },
    {
     "name": "stderr",
     "output_type": "stream",
     "text": [
      "100%|██████████| 51/51 [00:00<00:00, 218945.24it/s]\n"
     ]
    },
    {
     "name": "stdout",
     "output_type": "stream",
     "text": [
      "Processing mesh errors\n"
     ]
    },
    {
     "name": "stderr",
     "output_type": "stream",
     "text": [
      "100%|██████████| 4/4 [00:00<00:00, 44501.90it/s]\n"
     ]
    },
    {
     "name": "stdout",
     "output_type": "stream",
     "text": [
      "Processing facets\n"
     ]
    },
    {
     "name": "stderr",
     "output_type": "stream",
     "text": [
      "100%|██████████| 48/48 [00:00<00:00, 21757.98it/s]\n",
      "100%|██████████| 48/48 [00:00<00:00, 60385.90it/s]\n"
     ]
    },
    {
     "name": "stdout",
     "output_type": "stream",
     "text": [
      "Downloading Mesh\n",
      "Warning: deduplication not currently supported for this layer's variable layered draco meshes\n",
      "Vertices:  1180\n",
      "Subselecting largest connected component of mesh\n",
      "Processing CC's\n"
     ]
    },
    {
     "name": "stderr",
     "output_type": "stream",
     "text": [
      "100%|██████████| 1179/1179 [00:00<00:00, 388306.59it/s]\n"
     ]
    },
    {
     "name": "stdout",
     "output_type": "stream",
     "text": [
      "Skel done\n"
     ]
    },
    {
     "name": "stderr",
     "output_type": "stream",
     "text": [
      "100%|██████████| 9/9 [00:00<00:00, 75497.47it/s]\n"
     ]
    },
    {
     "name": "stdout",
     "output_type": "stream",
     "text": [
      "Processing mesh errors\n"
     ]
    },
    {
     "name": "stderr",
     "output_type": "stream",
     "text": [
      "100%|██████████| 1/1 [00:00<00:00, 20068.44it/s]\n"
     ]
    },
    {
     "name": "stdout",
     "output_type": "stream",
     "text": [
      "Processing facets\n"
     ]
    },
    {
     "name": "stderr",
     "output_type": "stream",
     "text": [
      "100%|██████████| 9/9 [00:00<00:00, 19909.67it/s]\n",
      "100%|██████████| 9/9 [00:00<00:00, 66109.87it/s]\n"
     ]
    },
    {
     "name": "stdout",
     "output_type": "stream",
     "text": [
      "Downloading Mesh\n",
      "Warning: deduplication not currently supported for this layer's variable layered draco meshes\n",
      "Vertices:  14714\n",
      "Subselecting largest connected component of mesh\n",
      "Processing CC's\n"
     ]
    },
    {
     "name": "stderr",
     "output_type": "stream",
     "text": [
      "100%|██████████| 14505/14505 [00:00<00:00, 1415076.40it/s]\n"
     ]
    },
    {
     "name": "stdout",
     "output_type": "stream",
     "text": [
      "Skel done\n"
     ]
    },
    {
     "name": "stderr",
     "output_type": "stream",
     "text": [
      "100%|██████████| 91/91 [00:00<00:00, 265240.91it/s]\n"
     ]
    },
    {
     "name": "stdout",
     "output_type": "stream",
     "text": [
      "Processing mesh errors\n"
     ]
    },
    {
     "name": "stderr",
     "output_type": "stream",
     "text": [
      "100%|██████████| 9/9 [00:00<00:00, 27533.72it/s]\n"
     ]
    },
    {
     "name": "stdout",
     "output_type": "stream",
     "text": [
      "Processing facets\n"
     ]
    },
    {
     "name": "stderr",
     "output_type": "stream",
     "text": [
      "100%|██████████| 52/52 [00:00<00:00, 19969.22it/s]\n",
      "100%|██████████| 52/52 [00:00<00:00, 116883.07it/s]\n"
     ]
    },
    {
     "name": "stdout",
     "output_type": "stream",
     "text": [
      "Downloading Mesh\n",
      "Warning: deduplication not currently supported for this layer's variable layered draco meshes\n",
      "Vertices:  24966\n",
      "Subselecting largest connected component of mesh\n",
      "Processing CC's\n"
     ]
    },
    {
     "name": "stderr",
     "output_type": "stream",
     "text": [
      "100%|██████████| 24965/24965 [00:00<00:00, 833857.32it/s]\n"
     ]
    },
    {
     "name": "stdout",
     "output_type": "stream",
     "text": [
      "Skel done\n"
     ]
    },
    {
     "name": "stderr",
     "output_type": "stream",
     "text": [
      "100%|██████████| 158/158 [00:00<00:00, 280211.43it/s]\n"
     ]
    },
    {
     "name": "stdout",
     "output_type": "stream",
     "text": [
      "Processing mesh errors\n"
     ]
    },
    {
     "name": "stderr",
     "output_type": "stream",
     "text": [
      "100%|██████████| 11/11 [00:00<00:00, 68759.08it/s]\n"
     ]
    },
    {
     "name": "stdout",
     "output_type": "stream",
     "text": [
      "Processing facets\n"
     ]
    },
    {
     "name": "stderr",
     "output_type": "stream",
     "text": [
      "100%|██████████| 89/89 [00:00<00:00, 25522.57it/s]\n",
      "100%|██████████| 89/89 [00:00<00:00, 94004.80it/s]\n"
     ]
    },
    {
     "name": "stdout",
     "output_type": "stream",
     "text": [
      "Downloading Mesh\n",
      "Warning: deduplication not currently supported for this layer's variable layered draco meshes\n",
      "Vertices:  23312\n",
      "Subselecting largest connected component of mesh\n",
      "Processing CC's\n"
     ]
    },
    {
     "name": "stderr",
     "output_type": "stream",
     "text": [
      "100%|██████████| 23105/23105 [00:00<00:00, 954480.84it/s]\n"
     ]
    },
    {
     "name": "stdout",
     "output_type": "stream",
     "text": [
      "Skel done\n"
     ]
    },
    {
     "name": "stderr",
     "output_type": "stream",
     "text": [
      "100%|██████████| 168/168 [00:00<00:00, 282875.58it/s]\n"
     ]
    },
    {
     "name": "stdout",
     "output_type": "stream",
     "text": [
      "Processing mesh errors\n"
     ]
    },
    {
     "name": "stderr",
     "output_type": "stream",
     "text": [
      "100%|██████████| 13/13 [00:00<00:00, 64375.39it/s]\n"
     ]
    },
    {
     "name": "stdout",
     "output_type": "stream",
     "text": [
      "Processing facets\n"
     ]
    },
    {
     "name": "stderr",
     "output_type": "stream",
     "text": [
      "100%|██████████| 71/71 [00:00<00:00, 24938.91it/s]\n",
      "100%|██████████| 71/71 [00:00<00:00, 70668.15it/s]\n"
     ]
    },
    {
     "name": "stdout",
     "output_type": "stream",
     "text": [
      "Downloading Mesh\n",
      "Warning: deduplication not currently supported for this layer's variable layered draco meshes\n",
      "Vertices:  2490\n",
      "Subselecting largest connected component of mesh\n",
      "Processing CC's\n"
     ]
    },
    {
     "name": "stderr",
     "output_type": "stream",
     "text": [
      "100%|██████████| 2489/2489 [00:00<00:00, 633972.35it/s]\n"
     ]
    },
    {
     "name": "stdout",
     "output_type": "stream",
     "text": [
      "Skel done\n"
     ]
    },
    {
     "name": "stderr",
     "output_type": "stream",
     "text": [
      "100%|██████████| 21/21 [00:00<00:00, 132252.83it/s]\n"
     ]
    },
    {
     "name": "stdout",
     "output_type": "stream",
     "text": [
      "Processing mesh errors\n"
     ]
    },
    {
     "name": "stderr",
     "output_type": "stream",
     "text": [
      "100%|██████████| 2/2 [00:00<00:00, 23237.14it/s]\n"
     ]
    },
    {
     "name": "stdout",
     "output_type": "stream",
     "text": [
      "Processing facets\n"
     ]
    },
    {
     "name": "stderr",
     "output_type": "stream",
     "text": [
      "100%|██████████| 5/5 [00:00<00:00, 8169.66it/s]\n",
      "100%|██████████| 5/5 [00:00<00:00, 59409.41it/s]\n"
     ]
    },
    {
     "name": "stdout",
     "output_type": "stream",
     "text": [
      "Downloading Mesh\n",
      "Warning: deduplication not currently supported for this layer's variable layered draco meshes\n",
      "Vertices:  7233\n",
      "Subselecting largest connected component of mesh\n",
      "Processing CC's\n"
     ]
    },
    {
     "name": "stderr",
     "output_type": "stream",
     "text": [
      "100%|██████████| 7232/7232 [00:00<00:00, 1290006.23it/s]\n"
     ]
    },
    {
     "name": "stdout",
     "output_type": "stream",
     "text": [
      "Skel done\n"
     ]
    },
    {
     "name": "stderr",
     "output_type": "stream",
     "text": [
      "100%|██████████| 50/50 [00:00<00:00, 112387.57it/s]\n"
     ]
    },
    {
     "name": "stdout",
     "output_type": "stream",
     "text": [
      "Processing facets\n"
     ]
    },
    {
     "name": "stderr",
     "output_type": "stream",
     "text": [
      "100%|██████████| 6/6 [00:00<00:00, 9320.68it/s]\n",
      "100%|██████████| 6/6 [00:00<00:00, 59493.67it/s]\n"
     ]
    },
    {
     "name": "stdout",
     "output_type": "stream",
     "text": [
      "Downloading Mesh\n",
      "Warning: deduplication not currently supported for this layer's variable layered draco meshes\n",
      "Vertices:  2238\n",
      "Subselecting largest connected component of mesh\n",
      "Processing CC's\n"
     ]
    },
    {
     "name": "stderr",
     "output_type": "stream",
     "text": [
      "100%|██████████| 2237/2237 [00:00<00:00, 663366.66it/s]\n"
     ]
    },
    {
     "name": "stdout",
     "output_type": "stream",
     "text": [
      "Skel done\n"
     ]
    },
    {
     "name": "stderr",
     "output_type": "stream",
     "text": [
      "100%|██████████| 8/8 [00:00<00:00, 79891.50it/s]\n"
     ]
    },
    {
     "name": "stdout",
     "output_type": "stream",
     "text": [
      "Processing mesh errors\n"
     ]
    },
    {
     "name": "stderr",
     "output_type": "stream",
     "text": [
      "100%|██████████| 1/1 [00:00<00:00, 16644.06it/s]\n"
     ]
    },
    {
     "name": "stdout",
     "output_type": "stream",
     "text": [
      "Processing facets\n"
     ]
    },
    {
     "name": "stderr",
     "output_type": "stream",
     "text": [
      "100%|██████████| 8/8 [00:00<00:00, 13025.79it/s]\n",
      "100%|██████████| 8/8 [00:00<00:00, 34485.54it/s]\n"
     ]
    },
    {
     "name": "stdout",
     "output_type": "stream",
     "text": [
      "Downloading Mesh\n",
      "Warning: deduplication not currently supported for this layer's variable layered draco meshes\n",
      "Vertices:  7187\n",
      "Subselecting largest connected component of mesh\n",
      "Processing CC's\n"
     ]
    },
    {
     "name": "stderr",
     "output_type": "stream",
     "text": [
      "100%|██████████| 7186/7186 [00:00<00:00, 1278918.34it/s]\n"
     ]
    },
    {
     "name": "stdout",
     "output_type": "stream",
     "text": [
      "Skel done\n"
     ]
    },
    {
     "name": "stderr",
     "output_type": "stream",
     "text": [
      "100%|██████████| 39/39 [00:00<00:00, 207323.01it/s]\n"
     ]
    },
    {
     "name": "stdout",
     "output_type": "stream",
     "text": [
      "Processing facets\n"
     ]
    },
    {
     "name": "stderr",
     "output_type": "stream",
     "text": [
      "100%|██████████| 10/10 [00:00<00:00, 10928.36it/s]\n",
      "100%|██████████| 10/10 [00:00<00:00, 73973.62it/s]\n"
     ]
    },
    {
     "name": "stdout",
     "output_type": "stream",
     "text": [
      "Downloading Mesh\n",
      "Warning: deduplication not currently supported for this layer's variable layered draco meshes\n",
      "Vertices:  44825\n",
      "Subselecting largest connected component of mesh\n",
      "Processing CC's\n"
     ]
    },
    {
     "name": "stderr",
     "output_type": "stream",
     "text": [
      "100%|██████████| 44696/44696 [00:00<00:00, 900996.85it/s]\n"
     ]
    },
    {
     "name": "stdout",
     "output_type": "stream",
     "text": [
      "Skel done\n"
     ]
    },
    {
     "name": "stderr",
     "output_type": "stream",
     "text": [
      "100%|██████████| 250/250 [00:00<00:00, 300193.53it/s]\n"
     ]
    },
    {
     "name": "stdout",
     "output_type": "stream",
     "text": [
      "Processing mesh errors\n"
     ]
    },
    {
     "name": "stderr",
     "output_type": "stream",
     "text": [
      "100%|██████████| 23/23 [00:00<00:00, 54379.36it/s]"
     ]
    },
    {
     "name": "stdout",
     "output_type": "stream",
     "text": [
      "Processing facets\n"
     ]
    },
    {
     "name": "stderr",
     "output_type": "stream",
     "text": [
      "\n",
      "100%|██████████| 295/295 [00:00<00:00, 33217.53it/s]\n",
      "100%|██████████| 295/295 [00:00<00:00, 104830.95it/s]\n"
     ]
    },
    {
     "name": "stdout",
     "output_type": "stream",
     "text": [
      "Downloading Mesh\n",
      "Warning: deduplication not currently supported for this layer's variable layered draco meshes\n",
      "Vertices:  11531\n",
      "Subselecting largest connected component of mesh\n",
      "Processing CC's\n"
     ]
    },
    {
     "name": "stderr",
     "output_type": "stream",
     "text": [
      "100%|██████████| 11530/11530 [00:00<00:00, 1394352.42it/s]\n"
     ]
    },
    {
     "name": "stdout",
     "output_type": "stream",
     "text": [
      "Skel done\n"
     ]
    },
    {
     "name": "stderr",
     "output_type": "stream",
     "text": [
      "100%|██████████| 77/77 [00:00<00:00, 250746.43it/s]\n"
     ]
    },
    {
     "name": "stdout",
     "output_type": "stream",
     "text": [
      "Processing mesh errors\n"
     ]
    },
    {
     "name": "stderr",
     "output_type": "stream",
     "text": [
      "100%|██████████| 6/6 [00:00<00:00, 55067.45it/s]\n"
     ]
    },
    {
     "name": "stdout",
     "output_type": "stream",
     "text": [
      "Processing facets\n"
     ]
    },
    {
     "name": "stderr",
     "output_type": "stream",
     "text": [
      "100%|██████████| 62/62 [00:00<00:00, 20011.30it/s]\n",
      "100%|██████████| 62/62 [00:00<00:00, 78492.86it/s]\n"
     ]
    },
    {
     "name": "stdout",
     "output_type": "stream",
     "text": [
      "Downloading Mesh\n",
      "Warning: deduplication not currently supported for this layer's variable layered draco meshes\n",
      "Vertices:  3820\n",
      "Subselecting largest connected component of mesh\n",
      "Processing CC's\n"
     ]
    },
    {
     "name": "stderr",
     "output_type": "stream",
     "text": [
      "100%|██████████| 3801/3801 [00:00<00:00, 963703.65it/s]\n"
     ]
    },
    {
     "name": "stdout",
     "output_type": "stream",
     "text": [
      "Skel done\n"
     ]
    },
    {
     "name": "stderr",
     "output_type": "stream",
     "text": [
      "100%|██████████| 28/28 [00:00<00:00, 160000.70it/s]\n"
     ]
    },
    {
     "name": "stdout",
     "output_type": "stream",
     "text": [
      "Processing mesh errors\n"
     ]
    },
    {
     "name": "stderr",
     "output_type": "stream",
     "text": [
      "100%|██████████| 2/2 [00:00<00:00, 28055.55it/s]\n"
     ]
    },
    {
     "name": "stdout",
     "output_type": "stream",
     "text": [
      "Processing facets\n"
     ]
    },
    {
     "name": "stderr",
     "output_type": "stream",
     "text": [
      "100%|██████████| 14/14 [00:00<00:00, 16411.47it/s]\n",
      "100%|██████████| 14/14 [00:00<00:00, 75185.99it/s]\n"
     ]
    },
    {
     "name": "stdout",
     "output_type": "stream",
     "text": [
      "Downloading Mesh\n",
      "Warning: deduplication not currently supported for this layer's variable layered draco meshes\n",
      "Vertices:  24046\n",
      "Subselecting largest connected component of mesh\n",
      "Processing CC's\n"
     ]
    },
    {
     "name": "stderr",
     "output_type": "stream",
     "text": [
      "100%|██████████| 24033/24033 [00:00<00:00, 936879.80it/s]\n"
     ]
    },
    {
     "name": "stdout",
     "output_type": "stream",
     "text": [
      "Skel done\n"
     ]
    },
    {
     "name": "stderr",
     "output_type": "stream",
     "text": [
      "100%|██████████| 172/172 [00:00<00:00, 310555.44it/s]\n"
     ]
    },
    {
     "name": "stdout",
     "output_type": "stream",
     "text": [
      "Processing mesh errors\n"
     ]
    },
    {
     "name": "stderr",
     "output_type": "stream",
     "text": [
      "100%|██████████| 7/7 [00:00<00:00, 49932.19it/s]\n"
     ]
    },
    {
     "name": "stdout",
     "output_type": "stream",
     "text": [
      "Processing facets\n"
     ]
    },
    {
     "name": "stderr",
     "output_type": "stream",
     "text": [
      "100%|██████████| 43/43 [00:00<00:00, 18228.73it/s]\n",
      "100%|██████████| 43/43 [00:00<00:00, 76389.27it/s]\n"
     ]
    },
    {
     "name": "stdout",
     "output_type": "stream",
     "text": [
      "Downloading Mesh\n",
      "Warning: deduplication not currently supported for this layer's variable layered draco meshes\n",
      "Vertices:  3065\n",
      "Subselecting largest connected component of mesh\n",
      "Processing CC's\n"
     ]
    },
    {
     "name": "stderr",
     "output_type": "stream",
     "text": [
      "100%|██████████| 3060/3060 [00:00<00:00, 769181.96it/s]\n"
     ]
    },
    {
     "name": "stdout",
     "output_type": "stream",
     "text": [
      "Skel done\n"
     ]
    },
    {
     "name": "stderr",
     "output_type": "stream",
     "text": [
      "100%|██████████| 9/9 [00:00<00:00, 81005.87it/s]\n"
     ]
    },
    {
     "name": "stdout",
     "output_type": "stream",
     "text": [
      "Processing facets\n"
     ]
    },
    {
     "name": "stderr",
     "output_type": "stream",
     "text": [
      "100%|██████████| 16/16 [00:00<00:00, 21163.31it/s]\n",
      "100%|██████████| 16/16 [00:00<00:00, 56968.48it/s]\n"
     ]
    },
    {
     "name": "stdout",
     "output_type": "stream",
     "text": [
      "Downloading Mesh\n",
      "Warning: deduplication not currently supported for this layer's variable layered draco meshes\n",
      "Vertices:  5754\n",
      "Subselecting largest connected component of mesh\n",
      "Processing CC's\n"
     ]
    },
    {
     "name": "stderr",
     "output_type": "stream",
     "text": [
      "100%|██████████| 5753/5753 [00:00<00:00, 1124514.44it/s]\n"
     ]
    },
    {
     "name": "stdout",
     "output_type": "stream",
     "text": [
      "Skel done\n"
     ]
    },
    {
     "name": "stderr",
     "output_type": "stream",
     "text": [
      "100%|██████████| 18/18 [00:00<00:00, 138273.76it/s]\n"
     ]
    },
    {
     "name": "stdout",
     "output_type": "stream",
     "text": [
      "Processing facets\n"
     ]
    },
    {
     "name": "stderr",
     "output_type": "stream",
     "text": [
      "100%|██████████| 15/15 [00:00<00:00, 15791.81it/s]\n",
      "100%|██████████| 15/15 [00:00<00:00, 76445.39it/s]\n"
     ]
    },
    {
     "name": "stdout",
     "output_type": "stream",
     "text": [
      "Downloading Mesh\n",
      "Warning: deduplication not currently supported for this layer's variable layered draco meshes\n",
      "Vertices:  10302\n",
      "Subselecting largest connected component of mesh\n",
      "Processing CC's\n"
     ]
    },
    {
     "name": "stderr",
     "output_type": "stream",
     "text": [
      "100%|██████████| 10202/10202 [00:00<00:00, 993275.06it/s]\n"
     ]
    },
    {
     "name": "stdout",
     "output_type": "stream",
     "text": [
      "Skel done\n"
     ]
    },
    {
     "name": "stderr",
     "output_type": "stream",
     "text": [
      "100%|██████████| 75/75 [00:00<00:00, 239583.24it/s]\n"
     ]
    },
    {
     "name": "stdout",
     "output_type": "stream",
     "text": [
      "Processing mesh errors\n"
     ]
    },
    {
     "name": "stderr",
     "output_type": "stream",
     "text": [
      "100%|██████████| 11/11 [00:00<00:00, 27978.98it/s]\n"
     ]
    },
    {
     "name": "stdout",
     "output_type": "stream",
     "text": [
      "Processing facets\n"
     ]
    },
    {
     "name": "stderr",
     "output_type": "stream",
     "text": [
      "100%|██████████| 30/30 [00:00<00:00, 18961.59it/s]\n",
      "100%|██████████| 30/30 [00:00<00:00, 94893.76it/s]\n"
     ]
    },
    {
     "name": "stdout",
     "output_type": "stream",
     "text": [
      "Downloading Mesh\n",
      "Warning: deduplication not currently supported for this layer's variable layered draco meshes\n",
      "Vertices:  5808\n",
      "Subselecting largest connected component of mesh\n",
      "Processing CC's\n"
     ]
    },
    {
     "name": "stderr",
     "output_type": "stream",
     "text": [
      "100%|██████████| 5807/5807 [00:00<00:00, 776420.89it/s]\n"
     ]
    },
    {
     "name": "stdout",
     "output_type": "stream",
     "text": [
      "Skel done\n"
     ]
    },
    {
     "name": "stderr",
     "output_type": "stream",
     "text": [
      "100%|██████████| 38/38 [00:00<00:00, 155042.37it/s]\n"
     ]
    },
    {
     "name": "stdout",
     "output_type": "stream",
     "text": [
      "Processing mesh errors\n"
     ]
    },
    {
     "name": "stderr",
     "output_type": "stream",
     "text": [
      "100%|██████████| 7/7 [00:00<00:00, 44824.62it/s]\n"
     ]
    },
    {
     "name": "stdout",
     "output_type": "stream",
     "text": [
      "Processing facets\n"
     ]
    },
    {
     "name": "stderr",
     "output_type": "stream",
     "text": [
      "100%|██████████| 30/30 [00:00<00:00, 21080.44it/s]\n",
      "100%|██████████| 30/30 [00:00<00:00, 69136.88it/s]\n"
     ]
    },
    {
     "name": "stdout",
     "output_type": "stream",
     "text": [
      "Downloading Mesh\n",
      "Warning: deduplication not currently supported for this layer's variable layered draco meshes\n",
      "Vertices:  12089\n",
      "Subselecting largest connected component of mesh\n",
      "Processing CC's\n"
     ]
    },
    {
     "name": "stderr",
     "output_type": "stream",
     "text": [
      "100%|██████████| 11967/11967 [00:00<00:00, 1298929.56it/s]\n"
     ]
    },
    {
     "name": "stdout",
     "output_type": "stream",
     "text": [
      "Skel done\n"
     ]
    },
    {
     "name": "stderr",
     "output_type": "stream",
     "text": [
      "100%|██████████| 54/54 [00:00<00:00, 215912.69it/s]\n"
     ]
    },
    {
     "name": "stdout",
     "output_type": "stream",
     "text": [
      "Processing mesh errors\n"
     ]
    },
    {
     "name": "stderr",
     "output_type": "stream",
     "text": [
      "100%|██████████| 4/4 [00:00<00:00, 29641.72it/s]\n"
     ]
    },
    {
     "name": "stdout",
     "output_type": "stream",
     "text": [
      "Processing facets\n"
     ]
    },
    {
     "name": "stderr",
     "output_type": "stream",
     "text": [
      "100%|██████████| 82/82 [00:00<00:00, 23795.00it/s]\n",
      "100%|██████████| 82/82 [00:00<00:00, 71474.01it/s]\n"
     ]
    },
    {
     "name": "stdout",
     "output_type": "stream",
     "text": [
      "Downloading Mesh\n",
      "Warning: deduplication not currently supported for this layer's variable layered draco meshes\n",
      "Vertices:  15375\n",
      "Subselecting largest connected component of mesh\n",
      "Processing CC's\n"
     ]
    },
    {
     "name": "stderr",
     "output_type": "stream",
     "text": [
      "100%|██████████| 15204/15204 [00:00<00:00, 941479.88it/s]\n"
     ]
    },
    {
     "name": "stdout",
     "output_type": "stream",
     "text": [
      "Skel done\n"
     ]
    },
    {
     "name": "stderr",
     "output_type": "stream",
     "text": [
      "100%|██████████| 68/68 [00:00<00:00, 219394.36it/s]\n"
     ]
    },
    {
     "name": "stdout",
     "output_type": "stream",
     "text": [
      "Processing mesh errors\n"
     ]
    },
    {
     "name": "stderr",
     "output_type": "stream",
     "text": [
      "100%|██████████| 2/2 [00:00<00:00, 20815.40it/s]\n"
     ]
    },
    {
     "name": "stdout",
     "output_type": "stream",
     "text": [
      "Processing facets\n"
     ]
    },
    {
     "name": "stderr",
     "output_type": "stream",
     "text": [
      "100%|██████████| 75/75 [00:00<00:00, 23069.29it/s]\n",
      "100%|██████████| 75/75 [00:00<00:00, 81941.34it/s]\n"
     ]
    },
    {
     "name": "stdout",
     "output_type": "stream",
     "text": [
      "Downloading Mesh\n",
      "Warning: deduplication not currently supported for this layer's variable layered draco meshes\n",
      "Vertices:  27011\n",
      "Subselecting largest connected component of mesh\n",
      "Processing CC's\n"
     ]
    },
    {
     "name": "stderr",
     "output_type": "stream",
     "text": [
      "100%|██████████| 27009/27009 [00:00<00:00, 741867.81it/s]\n"
     ]
    },
    {
     "name": "stdout",
     "output_type": "stream",
     "text": [
      "Skel done\n"
     ]
    },
    {
     "name": "stderr",
     "output_type": "stream",
     "text": [
      "100%|██████████| 154/154 [00:00<00:00, 278535.07it/s]\n"
     ]
    },
    {
     "name": "stdout",
     "output_type": "stream",
     "text": [
      "Processing mesh errors\n"
     ]
    },
    {
     "name": "stderr",
     "output_type": "stream",
     "text": [
      "100%|██████████| 11/11 [00:00<00:00, 46792.44it/s]\n"
     ]
    },
    {
     "name": "stdout",
     "output_type": "stream",
     "text": [
      "Processing facets\n"
     ]
    },
    {
     "name": "stderr",
     "output_type": "stream",
     "text": [
      "100%|██████████| 70/70 [00:00<00:00, 23085.49it/s]\n",
      "100%|██████████| 70/70 [00:00<00:00, 88274.59it/s]\n"
     ]
    },
    {
     "name": "stdout",
     "output_type": "stream",
     "text": [
      "Downloading Mesh\n",
      "Warning: deduplication not currently supported for this layer's variable layered draco meshes\n",
      "Vertices:  2722\n",
      "Subselecting largest connected component of mesh\n",
      "Processing CC's\n"
     ]
    },
    {
     "name": "stderr",
     "output_type": "stream",
     "text": [
      "100%|██████████| 2721/2721 [00:00<00:00, 696788.64it/s]\n"
     ]
    },
    {
     "name": "stdout",
     "output_type": "stream",
     "text": [
      "Skel done\n"
     ]
    },
    {
     "name": "stderr",
     "output_type": "stream",
     "text": [
      "100%|██████████| 21/21 [00:00<00:00, 113068.53it/s]\n"
     ]
    },
    {
     "name": "stdout",
     "output_type": "stream",
     "text": [
      "Processing mesh errors\n"
     ]
    },
    {
     "name": "stderr",
     "output_type": "stream",
     "text": [
      "100%|██████████| 3/3 [00:00<00:00, 31855.47it/s]\n"
     ]
    },
    {
     "name": "stdout",
     "output_type": "stream",
     "text": [
      "Processing facets\n"
     ]
    },
    {
     "name": "stderr",
     "output_type": "stream",
     "text": [
      "100%|██████████| 10/10 [00:00<00:00, 13715.84it/s]\n",
      "100%|██████████| 10/10 [00:00<00:00, 41363.94it/s]\n"
     ]
    },
    {
     "name": "stdout",
     "output_type": "stream",
     "text": [
      "Downloading Mesh\n",
      "Warning: deduplication not currently supported for this layer's variable layered draco meshes\n",
      "Vertices:  3523\n",
      "Subselecting largest connected component of mesh\n",
      "Processing CC's\n"
     ]
    },
    {
     "name": "stderr",
     "output_type": "stream",
     "text": [
      "100%|██████████| 3522/3522 [00:00<00:00, 845776.86it/s]\n"
     ]
    },
    {
     "name": "stdout",
     "output_type": "stream",
     "text": [
      "Skel done\n"
     ]
    },
    {
     "name": "stderr",
     "output_type": "stream",
     "text": [
      "100%|██████████| 29/29 [00:00<00:00, 152615.83it/s]\n"
     ]
    },
    {
     "name": "stdout",
     "output_type": "stream",
     "text": [
      "Processing mesh errors\n"
     ]
    },
    {
     "name": "stderr",
     "output_type": "stream",
     "text": [
      "100%|██████████| 5/5 [00:00<00:00, 52038.51it/s]\n"
     ]
    },
    {
     "name": "stdout",
     "output_type": "stream",
     "text": [
      "Processing facets\n"
     ]
    },
    {
     "name": "stderr",
     "output_type": "stream",
     "text": [
      "100%|██████████| 8/8 [00:00<00:00, 16464.39it/s]\n",
      "100%|██████████| 8/8 [00:00<00:00, 72628.64it/s]\n"
     ]
    },
    {
     "name": "stdout",
     "output_type": "stream",
     "text": [
      "Downloading Mesh\n",
      "Warning: deduplication not currently supported for this layer's variable layered draco meshes\n",
      "Vertices:  22862\n",
      "Subselecting largest connected component of mesh\n",
      "Processing CC's\n"
     ]
    },
    {
     "name": "stderr",
     "output_type": "stream",
     "text": [
      "100%|██████████| 22838/22838 [00:00<00:00, 839883.16it/s]\n"
     ]
    },
    {
     "name": "stdout",
     "output_type": "stream",
     "text": [
      "Skel done\n"
     ]
    },
    {
     "name": "stderr",
     "output_type": "stream",
     "text": [
      "100%|██████████| 171/171 [00:00<00:00, 285179.32it/s]\n"
     ]
    },
    {
     "name": "stdout",
     "output_type": "stream",
     "text": [
      "Processing mesh errors\n"
     ]
    },
    {
     "name": "stderr",
     "output_type": "stream",
     "text": [
      "100%|██████████| 14/14 [00:00<00:00, 54725.31it/s]\n"
     ]
    },
    {
     "name": "stdout",
     "output_type": "stream",
     "text": [
      "Processing facets\n"
     ]
    },
    {
     "name": "stderr",
     "output_type": "stream",
     "text": [
      "100%|██████████| 81/81 [00:00<00:00, 25687.18it/s]\n",
      "100%|██████████| 81/81 [00:00<00:00, 86162.47it/s]\n"
     ]
    },
    {
     "data": {
      "text/html": [
       "<div>\n",
       "<style scoped>\n",
       "    .dataframe tbody tr th:only-of-type {\n",
       "        vertical-align: middle;\n",
       "    }\n",
       "\n",
       "    .dataframe tbody tr th {\n",
       "        vertical-align: top;\n",
       "    }\n",
       "\n",
       "    .dataframe thead th {\n",
       "        text-align: right;\n",
       "    }\n",
       "</style>\n",
       "<table border=\"1\" class=\"dataframe\">\n",
       "  <thead>\n",
       "    <tr style=\"text-align: right;\">\n",
       "      <th></th>\n",
       "      <th>neuron</th>\n",
       "      <th>ng_link</th>\n",
       "      <th>seg_id</th>\n",
       "      <th>pink_pts</th>\n",
       "      <th>num_endpoints</th>\n",
       "      <th>endpoints</th>\n",
       "      <th>comments</th>\n",
       "      <th>detailed_comments</th>\n",
       "      <th>real_endpoints</th>\n",
       "      <th>endpoints_generated</th>\n",
       "      <th>num_errors</th>\n",
       "      <th>num_facets</th>\n",
       "      <th>facets</th>\n",
       "      <th>errors</th>\n",
       "    </tr>\n",
       "  </thead>\n",
       "  <tbody>\n",
       "    <tr>\n",
       "      <th>0</th>\n",
       "      <td>864691136577830164</td>\n",
       "      <td>https://neuroglancer.neuvue.io/?json_url=https...</td>\n",
       "      <td>864691135909994000</td>\n",
       "      <td>(402188, 228684, 24029)</td>\n",
       "      <td>2</td>\n",
       "      <td>[(402547, 228831, 23991), (402958, 229220, 235...</td>\n",
       "      <td>good</td>\n",
       "      <td>NaN</td>\n",
       "      <td>[[402547, 228831, 23991], [402958, 229220, 235...</td>\n",
       "      <td>[[402970.1091549296, 229214.63028169013, 23552...</td>\n",
       "      <td>0</td>\n",
       "      <td>2</td>\n",
       "      <td>[[402970.1091549296, 229214.63028169013, 23552...</td>\n",
       "      <td>[[0.0, 0.0, 0.0]]</td>\n",
       "    </tr>\n",
       "    <tr>\n",
       "      <th>1</th>\n",
       "      <td>864691136577830164</td>\n",
       "      <td>https://neuroglancer.neuvue.io/?json_url=https...</td>\n",
       "      <td>864691135247440303</td>\n",
       "      <td>(401258, 224832, 24029)</td>\n",
       "      <td>3</td>\n",
       "      <td>[(401602, 224623, 23991), (405273, 226312, 236...</td>\n",
       "      <td>good</td>\n",
       "      <td>NaN</td>\n",
       "      <td>[[401602, 224623, 23991], [405273, 226312, 236...</td>\n",
       "      <td>[[405014.6845794392, 226607.61448598132, 23618...</td>\n",
       "      <td>1</td>\n",
       "      <td>3</td>\n",
       "      <td>[[405014.6845794392, 226607.61448598132, 23618...</td>\n",
       "      <td>[[405058.04347826086, 226369.72826086957, 2362...</td>\n",
       "    </tr>\n",
       "    <tr>\n",
       "      <th>2</th>\n",
       "      <td>864691135683615218</td>\n",
       "      <td>https://neuroglancer.neuvue.io/?json_url=https...</td>\n",
       "      <td>864691135516937065</td>\n",
       "      <td>(77233, 113188, 20454)</td>\n",
       "      <td>3</td>\n",
       "      <td>[(77262, 113088, 20442), (79178, 109113, 20400...</td>\n",
       "      <td>good</td>\n",
       "      <td>ONE FALSE MERGE</td>\n",
       "      <td>[[77262, 113088, 20442], [79178, 109113, 20400...</td>\n",
       "      <td>[[77266.35, 113085.0, 20442.45], [79721.25, 10...</td>\n",
       "      <td>1</td>\n",
       "      <td>2</td>\n",
       "      <td>[[77266.35, 113085.0, 20442.45], [79721.25, 10...</td>\n",
       "      <td>[[79184.66379310345, 109173.56896551725, 20430...</td>\n",
       "    </tr>\n",
       "    <tr>\n",
       "      <th>3</th>\n",
       "      <td>864691135683615218</td>\n",
       "      <td>https://neuroglancer.neuvue.io/?json_url=https...</td>\n",
       "      <td>864691134406233920</td>\n",
       "      <td>(100382, 143836, 21642)</td>\n",
       "      <td>3</td>\n",
       "      <td>[(100423, 143992, 21653), (100583, 144194, 217...</td>\n",
       "      <td>good</td>\n",
       "      <td>NaN</td>\n",
       "      <td>[[100423, 143992, 21653], [100583, 144194, 217...</td>\n",
       "      <td>[[100737.80769230769, 144755.42307692306, 2165...</td>\n",
       "      <td>1</td>\n",
       "      <td>2</td>\n",
       "      <td>[[100737.80769230769, 144755.42307692306, 2165...</td>\n",
       "      <td>[[100579.64583333333, 144180.02083333334, 2169...</td>\n",
       "    </tr>\n",
       "    <tr>\n",
       "      <th>4</th>\n",
       "      <td>864691135683615219</td>\n",
       "      <td>https://neuroglancer.neuvue.io/?json_url=https...</td>\n",
       "      <td>864691135920135864</td>\n",
       "      <td>(77581, 107903, 21128)</td>\n",
       "      <td>2</td>\n",
       "      <td>[(77575, 107807, 21133), (77000, 99565, 21215)]</td>\n",
       "      <td>good</td>\n",
       "      <td>NaN</td>\n",
       "      <td>[[77575, 107807, 21133], [77000, 99565, 21215]]</td>\n",
       "      <td>[[76790.0, 99695.75, 21201.6], [77248.5, 10781...</td>\n",
       "      <td>2</td>\n",
       "      <td>2</td>\n",
       "      <td>[[76790.0, 99695.75, 21201.6], [77248.5, 10781...</td>\n",
       "      <td>[[77413.525, 107032.45, 21180.845], [77007.846...</td>\n",
       "    </tr>\n",
       "    <tr>\n",
       "      <th>5</th>\n",
       "      <td>864691135683615220</td>\n",
       "      <td>https://neuroglancer.neuvue.io/?json_url=https...</td>\n",
       "      <td>864691135730780609</td>\n",
       "      <td>(79752, 135765, 21128)</td>\n",
       "      <td>3</td>\n",
       "      <td>[(79785, 135709, 21133), (84176, 127514, 21582...</td>\n",
       "      <td>good</td>\n",
       "      <td>NaN</td>\n",
       "      <td>[[79785, 135709, 21133], [84176, 127514, 21582...</td>\n",
       "      <td>[[79777.25, 135702.875, 21143.325], [84055.332...</td>\n",
       "      <td>3</td>\n",
       "      <td>4</td>\n",
       "      <td>[[79777.25, 135702.875, 21143.325], [84055.332...</td>\n",
       "      <td>[[80491.56164383562, 134662.8595890411, 21445....</td>\n",
       "    </tr>\n",
       "    <tr>\n",
       "      <th>6</th>\n",
       "      <td>864691135683615221</td>\n",
       "      <td>https://neuroglancer.neuvue.io/?json_url=https...</td>\n",
       "      <td>864691135651129491</td>\n",
       "      <td>(81247, 106776, 21128)</td>\n",
       "      <td>2</td>\n",
       "      <td>[(81198, 106660, 21133), (88834, 99501, 20479)]</td>\n",
       "      <td>good</td>\n",
       "      <td>NaN</td>\n",
       "      <td>[[81198, 106660, 21133], [88834, 99501, 20479]]</td>\n",
       "      <td>[[88848.9, 99520.05, 20479.725], [83733.75, 10...</td>\n",
       "      <td>2</td>\n",
       "      <td>1</td>\n",
       "      <td>[[88848.9, 99520.05, 20479.725]]</td>\n",
       "      <td>[[83733.75, 104856.375, 21224.4], [88732.97222...</td>\n",
       "    </tr>\n",
       "    <tr>\n",
       "      <th>7</th>\n",
       "      <td>864691135683615222</td>\n",
       "      <td>https://neuroglancer.neuvue.io/?json_url=https...</td>\n",
       "      <td>864691134918217423</td>\n",
       "      <td>(75434, 116406, 21128)</td>\n",
       "      <td>2</td>\n",
       "      <td>[(75409, 116393, 21135), (74841, 116076, 21217)]</td>\n",
       "      <td>good</td>\n",
       "      <td>NaN</td>\n",
       "      <td>[[75409, 116393, 21135], [74841, 116076, 21217]]</td>\n",
       "      <td>[[75019.0, 116198.25, 21198.45], [75295.5, 116...</td>\n",
       "      <td>1</td>\n",
       "      <td>1</td>\n",
       "      <td>[[75019.0, 116198.25, 21198.45]]</td>\n",
       "      <td>[[75295.5, 116210.34782608696, 21139.832608695...</td>\n",
       "    </tr>\n",
       "    <tr>\n",
       "      <th>8</th>\n",
       "      <td>864691135837578899</td>\n",
       "      <td>https://neuroglancer.neuvue.io/?json_url=https...</td>\n",
       "      <td>864691134472630080</td>\n",
       "      <td>(351264, 143646, 15182)</td>\n",
       "      <td>2</td>\n",
       "      <td>[(351150, 143681, 15176), (348147, 144970, 148...</td>\n",
       "      <td>good</td>\n",
       "      <td>NaN</td>\n",
       "      <td>[[351150, 143681, 15176], [348147, 144970, 148...</td>\n",
       "      <td>[]</td>\n",
       "      <td>0</td>\n",
       "      <td>0</td>\n",
       "      <td>[]</td>\n",
       "      <td>[[0.0, 0.0, 0.0]]</td>\n",
       "    </tr>\n",
       "    <tr>\n",
       "      <th>9</th>\n",
       "      <td>864691135837578899</td>\n",
       "      <td>https://neuroglancer.neuvue.io/?json_url=https...</td>\n",
       "      <td>864691134865499607</td>\n",
       "      <td>(366661, 138894, 16413)</td>\n",
       "      <td>2</td>\n",
       "      <td>[(366719, 138890, 16417), (367885, 138975, 165...</td>\n",
       "      <td>good</td>\n",
       "      <td>NaN</td>\n",
       "      <td>[[366719, 138890, 16417], [367885, 138975, 165...</td>\n",
       "      <td>[[366705.43636363634, 138920.44090909092, 1641...</td>\n",
       "      <td>1</td>\n",
       "      <td>2</td>\n",
       "      <td>[[366705.43636363634, 138920.44090909092, 1641...</td>\n",
       "      <td>[[367424.4456521739, 138785.34782608695, 16469...</td>\n",
       "    </tr>\n",
       "    <tr>\n",
       "      <th>10</th>\n",
       "      <td>864691135837578899</td>\n",
       "      <td>https://neuroglancer.neuvue.io/?json_url=https...</td>\n",
       "      <td>864691134742288112</td>\n",
       "      <td>(353391, 147582, 15182)</td>\n",
       "      <td>2</td>\n",
       "      <td>[(353411, 147608, 15177), (352173, 148914, 148...</td>\n",
       "      <td>good</td>\n",
       "      <td>NaN</td>\n",
       "      <td>[[353411, 147608, 15177], [352173, 148914, 148...</td>\n",
       "      <td>[[353943.1875, 147387.1875, 15165.80625]]</td>\n",
       "      <td>0</td>\n",
       "      <td>1</td>\n",
       "      <td>[[353943.1875, 147387.1875, 15165.80625]]</td>\n",
       "      <td>[[0.0, 0.0, 0.0]]</td>\n",
       "    </tr>\n",
       "    <tr>\n",
       "      <th>11</th>\n",
       "      <td>864691135396741921</td>\n",
       "      <td>https://neuroglancer.neuvue.io/?json_url=https...</td>\n",
       "      <td>864691135621495904</td>\n",
       "      <td>(346513, 82659, 27098)</td>\n",
       "      <td>4</td>\n",
       "      <td>[(346497, 82778, 27090), (339051, 74578, 26769...</td>\n",
       "      <td>good</td>\n",
       "      <td>False merge at (341044, 76298, 26876)</td>\n",
       "      <td>[[346497, 82778, 27090], [339051, 74578, 26769...</td>\n",
       "      <td>[[346655.4, 82856.2, 27089.475], [339921.75, 9...</td>\n",
       "      <td>3</td>\n",
       "      <td>3</td>\n",
       "      <td>[[346655.4, 82856.2, 27089.475], [339921.75, 9...</td>\n",
       "      <td>[[339511.7894736842, 74640.26315789473, 26818....</td>\n",
       "    </tr>\n",
       "    <tr>\n",
       "      <th>12</th>\n",
       "      <td>864691135396741921</td>\n",
       "      <td>https://neuroglancer.neuvue.io/?json_url=https...</td>\n",
       "      <td>864691136357471324</td>\n",
       "      <td>(351862, 90983, 27294)</td>\n",
       "      <td>2</td>\n",
       "      <td>[(351839, 91058, 27284), (349567, 97065, 26976)]</td>\n",
       "      <td>good</td>\n",
       "      <td>NaN</td>\n",
       "      <td>[[351839, 91058, 27284], [349567, 97065, 26976]]</td>\n",
       "      <td>[[351684.2205882353, 91330.23529411765, 27273....</td>\n",
       "      <td>1</td>\n",
       "      <td>2</td>\n",
       "      <td>[[351684.2205882353, 91330.23529411765, 27273....</td>\n",
       "      <td>[[351825.5073529412, 91045.6544117647, 27287.5...</td>\n",
       "    </tr>\n",
       "    <tr>\n",
       "      <th>13</th>\n",
       "      <td>864691135396741921</td>\n",
       "      <td>https://neuroglancer.neuvue.io/?json_url=https...</td>\n",
       "      <td>864691136343165555</td>\n",
       "      <td>(357302, 81696, 25846)</td>\n",
       "      <td>3</td>\n",
       "      <td>[(357525, 81584, 25828), (358640, 81180, 25734...</td>\n",
       "      <td>good</td>\n",
       "      <td>False merge at (358199, 81368, 25779)</td>\n",
       "      <td>[[357525, 81584, 25828], [358640, 81180, 25734...</td>\n",
       "      <td>[[357513.7125, 81607.44375, 25828.425], [35841...</td>\n",
       "      <td>2</td>\n",
       "      <td>2</td>\n",
       "      <td>[[357513.7125, 81607.44375, 25828.425], [35841...</td>\n",
       "      <td>[[358038.70108695654, 81438.45652173914, 25758...</td>\n",
       "    </tr>\n",
       "    <tr>\n",
       "      <th>14</th>\n",
       "      <td>864691135396741921</td>\n",
       "      <td>https://neuroglancer.neuvue.io/?json_url=https...</td>\n",
       "      <td>864691135652094947</td>\n",
       "      <td>(347111, 87496, 25853)</td>\n",
       "      <td>2</td>\n",
       "      <td>[(347271, 87374, 25828), (347862, 89018, 24930)]</td>\n",
       "      <td>good</td>\n",
       "      <td>NaN</td>\n",
       "      <td>[[347271, 87374, 25828], [347862, 89018, 24930]]</td>\n",
       "      <td>[[347826.9375, 89007.1875, 24929.625], [347387...</td>\n",
       "      <td>3</td>\n",
       "      <td>1</td>\n",
       "      <td>[[347826.9375, 89007.1875, 24929.625]]</td>\n",
       "      <td>[[347387.075, 85891.75, 25331.0925], [347278.9...</td>\n",
       "    </tr>\n",
       "    <tr>\n",
       "      <th>15</th>\n",
       "      <td>864691135360418631</td>\n",
       "      <td>https://neuroglancer.neuvue.io/?json_url=https...</td>\n",
       "      <td>864691135702260616</td>\n",
       "      <td>(111625, 241512, 22793)</td>\n",
       "      <td>2</td>\n",
       "      <td>[(111700, 241689, 22797), (110188, 241117, 228...</td>\n",
       "      <td>good</td>\n",
       "      <td>NaN</td>\n",
       "      <td>[[111700, 241689, 22797], [110188, 241117, 228...</td>\n",
       "      <td>[[111880.125, 241587.5, 22796.55], [110217.45,...</td>\n",
       "      <td>0</td>\n",
       "      <td>2</td>\n",
       "      <td>[[111880.125, 241587.5, 22796.55], [110217.45,...</td>\n",
       "      <td>[[0.0, 0.0, 0.0]]</td>\n",
       "    </tr>\n",
       "    <tr>\n",
       "      <th>16</th>\n",
       "      <td>864691135360418631</td>\n",
       "      <td>https://neuroglancer.neuvue.io/?json_url=https...</td>\n",
       "      <td>864691136235124174</td>\n",
       "      <td>(116185, 247442, 23265)</td>\n",
       "      <td>2</td>\n",
       "      <td>[(116186, 247468, 23275), (114619, 246629, 235...</td>\n",
       "      <td>good</td>\n",
       "      <td>NaN</td>\n",
       "      <td>[[116186, 247468, 23275], [114619, 246629, 235...</td>\n",
       "      <td>[[114668.19, 246690.36, 23504.25], [116197.995...</td>\n",
       "      <td>0</td>\n",
       "      <td>2</td>\n",
       "      <td>[[114668.19, 246690.36, 23504.25], [116197.995...</td>\n",
       "      <td>[[0.0, 0.0, 0.0]]</td>\n",
       "    </tr>\n",
       "    <tr>\n",
       "      <th>17</th>\n",
       "      <td>864691135463797061</td>\n",
       "      <td>https://neuroglancer.neuvue.io/?json_url=https...</td>\n",
       "      <td>864691136584897745</td>\n",
       "      <td>(103052, 175611, 18430)</td>\n",
       "      <td>3</td>\n",
       "      <td>[(103037, 175591, 18434), (99978, 172371, 1883...</td>\n",
       "      <td>good</td>\n",
       "      <td>ONE FALSE MERGE</td>\n",
       "      <td>[[103037, 175591, 18434], [99978, 172371, 1883...</td>\n",
       "      <td>[[102634.0, 175766.5, 18513.6], [100042.6875, ...</td>\n",
       "      <td>2</td>\n",
       "      <td>2</td>\n",
       "      <td>[[102634.0, 175766.5, 18513.6], [100042.6875, ...</td>\n",
       "      <td>[[102666.375, 175698.50735294117, 18476.541176...</td>\n",
       "    </tr>\n",
       "    <tr>\n",
       "      <th>18</th>\n",
       "      <td>864691135445907602</td>\n",
       "      <td>https://neuroglancer.neuvue.io/?json_url=https...</td>\n",
       "      <td>864691135224157062</td>\n",
       "      <td>(313432, 160982, 18587)</td>\n",
       "      <td>2</td>\n",
       "      <td>[(313505, 161103, 18580), (314477, 162881, 187...</td>\n",
       "      <td>good</td>\n",
       "      <td>NaN</td>\n",
       "      <td>[[313505, 161103, 18580], [314477, 162881, 187...</td>\n",
       "      <td>[[313040.875, 162407.875, 18613.35], [313463.5...</td>\n",
       "      <td>3</td>\n",
       "      <td>2</td>\n",
       "      <td>[[313040.875, 162407.875, 18613.35], [313463.5...</td>\n",
       "      <td>[[314456.73, 162882.93, 18714.402], [313621.43...</td>\n",
       "    </tr>\n",
       "    <tr>\n",
       "      <th>19</th>\n",
       "      <td>864691135445907602</td>\n",
       "      <td>https://neuroglancer.neuvue.io/?json_url=https...</td>\n",
       "      <td>864691136694775836</td>\n",
       "      <td>(307884, 98766, 19067)</td>\n",
       "      <td>2</td>\n",
       "      <td>[(307899, 98712, 19067), (309700, 87653, 19669)]</td>\n",
       "      <td>good</td>\n",
       "      <td>NaN</td>\n",
       "      <td>[[307899, 98712, 19067], [309700, 87653, 19669]]</td>\n",
       "      <td>[[307990.8125, 98498.53125, 19062.75], [308254...</td>\n",
       "      <td>1</td>\n",
       "      <td>1</td>\n",
       "      <td>[[307990.8125, 98498.53125, 19062.75]]</td>\n",
       "      <td>[[308254.5, 98559.25, 19095.9]]</td>\n",
       "    </tr>\n",
       "    <tr>\n",
       "      <th>20</th>\n",
       "      <td>864691135445907602</td>\n",
       "      <td>https://neuroglancer.neuvue.io/?json_url=https...</td>\n",
       "      <td>864691135632675511</td>\n",
       "      <td>(286774, 94565, 18046)</td>\n",
       "      <td>3</td>\n",
       "      <td>[(286807, 94503, 18046), (291939, 86875, 18287...</td>\n",
       "      <td>good</td>\n",
       "      <td>NaN</td>\n",
       "      <td>[[286807, 94503, 18046], [291939, 86875, 18287...</td>\n",
       "      <td>[[291886.59375, 86933.90625, 18285.75], [28660...</td>\n",
       "      <td>1</td>\n",
       "      <td>3</td>\n",
       "      <td>[[291886.59375, 86933.90625, 18285.75], [28660...</td>\n",
       "      <td>[[286760.5, 94540.83333333333, 18046.208333333...</td>\n",
       "    </tr>\n",
       "    <tr>\n",
       "      <th>21</th>\n",
       "      <td>864691135463797061</td>\n",
       "      <td>https://neuroglancer.neuvue.io/?json_url=https...</td>\n",
       "      <td>864691135258412858</td>\n",
       "      <td>(104081, 174998, 18429)</td>\n",
       "      <td>2</td>\n",
       "      <td>[(104063, 174940, 18432), (104232, 162719, 200...</td>\n",
       "      <td>good</td>\n",
       "      <td>NaN</td>\n",
       "      <td>[[104063, 174940, 18432], [104232, 162719, 200...</td>\n",
       "      <td>[[102529.875, 164901.625, 19776.75], [104258.4...</td>\n",
       "      <td>3</td>\n",
       "      <td>4</td>\n",
       "      <td>[[102529.875, 164901.625, 19776.75], [104258.4...</td>\n",
       "      <td>[[103967.35169491525, 174892.80508474575, 1849...</td>\n",
       "    </tr>\n",
       "    <tr>\n",
       "      <th>22</th>\n",
       "      <td>864691135445907602</td>\n",
       "      <td>https://neuroglancer.neuvue.io/?json_url=https...</td>\n",
       "      <td>864691135008495997</td>\n",
       "      <td>(280662, 88268, 18962)</td>\n",
       "      <td>3</td>\n",
       "      <td>[(280639, 88256, 18965), (280377, 87163, 19077...</td>\n",
       "      <td>good</td>\n",
       "      <td>False merge at (280657, 87964, 19009)</td>\n",
       "      <td>[[280639, 88256, 18965], [280377, 87163, 19077...</td>\n",
       "      <td>[[280398.375, 87235.875, 19060.65], [280736.20...</td>\n",
       "      <td>2</td>\n",
       "      <td>1</td>\n",
       "      <td>[[280398.375, 87235.875, 19060.65]]</td>\n",
       "      <td>[[280736.203125, 87898.78125, 19009.3640625], ...</td>\n",
       "    </tr>\n",
       "    <tr>\n",
       "      <th>23</th>\n",
       "      <td>864691135463797061</td>\n",
       "      <td>https://neuroglancer.neuvue.io/?json_url=https...</td>\n",
       "      <td>864691134996628976</td>\n",
       "      <td>(84819, 179327, 16391)</td>\n",
       "      <td>2</td>\n",
       "      <td>[(84884, 179330, 16386), (84527, 179768, 16234)]</td>\n",
       "      <td>good</td>\n",
       "      <td>NaN</td>\n",
       "      <td>[[84884, 179330, 16386], [84527, 179768, 16234]]</td>\n",
       "      <td>[[84008.16666666667, 179640.61111111112, 16386...</td>\n",
       "      <td>2</td>\n",
       "      <td>2</td>\n",
       "      <td>[[84008.16666666667, 179640.61111111112, 16386...</td>\n",
       "      <td>[[84638.75, 179745.3, 16254.268333333332], [84...</td>\n",
       "    </tr>\n",
       "    <tr>\n",
       "      <th>24</th>\n",
       "      <td>864691135445907602</td>\n",
       "      <td>https://neuroglancer.neuvue.io/?json_url=https...</td>\n",
       "      <td>864691135867535786</td>\n",
       "      <td>(299328, 144118, 17855)</td>\n",
       "      <td>3</td>\n",
       "      <td>[(299386, 144111, 17853), (308152, 142095, 172...</td>\n",
       "      <td>good</td>\n",
       "      <td>False merge at (305704, 144056, 17549)</td>\n",
       "      <td>[[299386, 144111, 17853], [308152, 142095, 172...</td>\n",
       "      <td>[[307621.125, 141748.6875, 17280.375], [305188...</td>\n",
       "      <td>4</td>\n",
       "      <td>4</td>\n",
       "      <td>[[307621.125, 141748.6875, 17280.375], [305188...</td>\n",
       "      <td>[[306025.2890625, 144800.7421875, 17602.413281...</td>\n",
       "    </tr>\n",
       "  </tbody>\n",
       "</table>\n",
       "</div>"
      ],
      "text/plain": [
       "                neuron                                            ng_link  \\\n",
       "0   864691136577830164  https://neuroglancer.neuvue.io/?json_url=https...   \n",
       "1   864691136577830164  https://neuroglancer.neuvue.io/?json_url=https...   \n",
       "2   864691135683615218  https://neuroglancer.neuvue.io/?json_url=https...   \n",
       "3   864691135683615218  https://neuroglancer.neuvue.io/?json_url=https...   \n",
       "4   864691135683615219  https://neuroglancer.neuvue.io/?json_url=https...   \n",
       "5   864691135683615220  https://neuroglancer.neuvue.io/?json_url=https...   \n",
       "6   864691135683615221  https://neuroglancer.neuvue.io/?json_url=https...   \n",
       "7   864691135683615222  https://neuroglancer.neuvue.io/?json_url=https...   \n",
       "8   864691135837578899  https://neuroglancer.neuvue.io/?json_url=https...   \n",
       "9   864691135837578899  https://neuroglancer.neuvue.io/?json_url=https...   \n",
       "10  864691135837578899  https://neuroglancer.neuvue.io/?json_url=https...   \n",
       "11  864691135396741921  https://neuroglancer.neuvue.io/?json_url=https...   \n",
       "12  864691135396741921  https://neuroglancer.neuvue.io/?json_url=https...   \n",
       "13  864691135396741921  https://neuroglancer.neuvue.io/?json_url=https...   \n",
       "14  864691135396741921  https://neuroglancer.neuvue.io/?json_url=https...   \n",
       "15  864691135360418631  https://neuroglancer.neuvue.io/?json_url=https...   \n",
       "16  864691135360418631  https://neuroglancer.neuvue.io/?json_url=https...   \n",
       "17  864691135463797061  https://neuroglancer.neuvue.io/?json_url=https...   \n",
       "18  864691135445907602  https://neuroglancer.neuvue.io/?json_url=https...   \n",
       "19  864691135445907602  https://neuroglancer.neuvue.io/?json_url=https...   \n",
       "20  864691135445907602  https://neuroglancer.neuvue.io/?json_url=https...   \n",
       "21  864691135463797061  https://neuroglancer.neuvue.io/?json_url=https...   \n",
       "22  864691135445907602  https://neuroglancer.neuvue.io/?json_url=https...   \n",
       "23  864691135463797061  https://neuroglancer.neuvue.io/?json_url=https...   \n",
       "24  864691135445907602  https://neuroglancer.neuvue.io/?json_url=https...   \n",
       "\n",
       "                seg_id                 pink_pts  num_endpoints  \\\n",
       "0   864691135909994000  (402188, 228684, 24029)              2   \n",
       "1   864691135247440303  (401258, 224832, 24029)              3   \n",
       "2   864691135516937065   (77233, 113188, 20454)              3   \n",
       "3   864691134406233920  (100382, 143836, 21642)              3   \n",
       "4   864691135920135864   (77581, 107903, 21128)              2   \n",
       "5   864691135730780609   (79752, 135765, 21128)              3   \n",
       "6   864691135651129491   (81247, 106776, 21128)              2   \n",
       "7   864691134918217423   (75434, 116406, 21128)              2   \n",
       "8   864691134472630080  (351264, 143646, 15182)              2   \n",
       "9   864691134865499607  (366661, 138894, 16413)              2   \n",
       "10  864691134742288112  (353391, 147582, 15182)              2   \n",
       "11  864691135621495904   (346513, 82659, 27098)              4   \n",
       "12  864691136357471324   (351862, 90983, 27294)              2   \n",
       "13  864691136343165555   (357302, 81696, 25846)              3   \n",
       "14  864691135652094947   (347111, 87496, 25853)              2   \n",
       "15  864691135702260616  (111625, 241512, 22793)              2   \n",
       "16  864691136235124174  (116185, 247442, 23265)              2   \n",
       "17  864691136584897745  (103052, 175611, 18430)              3   \n",
       "18  864691135224157062  (313432, 160982, 18587)              2   \n",
       "19  864691136694775836   (307884, 98766, 19067)              2   \n",
       "20  864691135632675511   (286774, 94565, 18046)              3   \n",
       "21  864691135258412858  (104081, 174998, 18429)              2   \n",
       "22  864691135008495997   (280662, 88268, 18962)              3   \n",
       "23  864691134996628976   (84819, 179327, 16391)              2   \n",
       "24  864691135867535786  (299328, 144118, 17855)              3   \n",
       "\n",
       "                                            endpoints comments  \\\n",
       "0   [(402547, 228831, 23991), (402958, 229220, 235...     good   \n",
       "1   [(401602, 224623, 23991), (405273, 226312, 236...     good   \n",
       "2   [(77262, 113088, 20442), (79178, 109113, 20400...     good   \n",
       "3   [(100423, 143992, 21653), (100583, 144194, 217...     good   \n",
       "4     [(77575, 107807, 21133), (77000, 99565, 21215)]     good   \n",
       "5   [(79785, 135709, 21133), (84176, 127514, 21582...     good   \n",
       "6     [(81198, 106660, 21133), (88834, 99501, 20479)]     good   \n",
       "7    [(75409, 116393, 21135), (74841, 116076, 21217)]     good   \n",
       "8   [(351150, 143681, 15176), (348147, 144970, 148...     good   \n",
       "9   [(366719, 138890, 16417), (367885, 138975, 165...     good   \n",
       "10  [(353411, 147608, 15177), (352173, 148914, 148...     good   \n",
       "11  [(346497, 82778, 27090), (339051, 74578, 26769...     good   \n",
       "12   [(351839, 91058, 27284), (349567, 97065, 26976)]     good   \n",
       "13  [(357525, 81584, 25828), (358640, 81180, 25734...     good   \n",
       "14   [(347271, 87374, 25828), (347862, 89018, 24930)]     good   \n",
       "15  [(111700, 241689, 22797), (110188, 241117, 228...     good   \n",
       "16  [(116186, 247468, 23275), (114619, 246629, 235...     good   \n",
       "17  [(103037, 175591, 18434), (99978, 172371, 1883...     good   \n",
       "18  [(313505, 161103, 18580), (314477, 162881, 187...     good   \n",
       "19   [(307899, 98712, 19067), (309700, 87653, 19669)]     good   \n",
       "20  [(286807, 94503, 18046), (291939, 86875, 18287...     good   \n",
       "21  [(104063, 174940, 18432), (104232, 162719, 200...     good   \n",
       "22  [(280639, 88256, 18965), (280377, 87163, 19077...     good   \n",
       "23   [(84884, 179330, 16386), (84527, 179768, 16234)]     good   \n",
       "24  [(299386, 144111, 17853), (308152, 142095, 172...     good   \n",
       "\n",
       "                         detailed_comments  \\\n",
       "0                                      NaN   \n",
       "1                                      NaN   \n",
       "2                          ONE FALSE MERGE   \n",
       "3                                      NaN   \n",
       "4                                      NaN   \n",
       "5                                      NaN   \n",
       "6                                      NaN   \n",
       "7                                      NaN   \n",
       "8                                      NaN   \n",
       "9                                      NaN   \n",
       "10                                     NaN   \n",
       "11   False merge at (341044, 76298, 26876)   \n",
       "12                                     NaN   \n",
       "13   False merge at (358199, 81368, 25779)   \n",
       "14                                     NaN   \n",
       "15                                     NaN   \n",
       "16                                     NaN   \n",
       "17                         ONE FALSE MERGE   \n",
       "18                                     NaN   \n",
       "19                                     NaN   \n",
       "20                                     NaN   \n",
       "21                                     NaN   \n",
       "22   False merge at (280657, 87964, 19009)   \n",
       "23                                     NaN   \n",
       "24  False merge at (305704, 144056, 17549)   \n",
       "\n",
       "                                       real_endpoints  \\\n",
       "0   [[402547, 228831, 23991], [402958, 229220, 235...   \n",
       "1   [[401602, 224623, 23991], [405273, 226312, 236...   \n",
       "2   [[77262, 113088, 20442], [79178, 109113, 20400...   \n",
       "3   [[100423, 143992, 21653], [100583, 144194, 217...   \n",
       "4     [[77575, 107807, 21133], [77000, 99565, 21215]]   \n",
       "5   [[79785, 135709, 21133], [84176, 127514, 21582...   \n",
       "6     [[81198, 106660, 21133], [88834, 99501, 20479]]   \n",
       "7    [[75409, 116393, 21135], [74841, 116076, 21217]]   \n",
       "8   [[351150, 143681, 15176], [348147, 144970, 148...   \n",
       "9   [[366719, 138890, 16417], [367885, 138975, 165...   \n",
       "10  [[353411, 147608, 15177], [352173, 148914, 148...   \n",
       "11  [[346497, 82778, 27090], [339051, 74578, 26769...   \n",
       "12   [[351839, 91058, 27284], [349567, 97065, 26976]]   \n",
       "13  [[357525, 81584, 25828], [358640, 81180, 25734...   \n",
       "14   [[347271, 87374, 25828], [347862, 89018, 24930]]   \n",
       "15  [[111700, 241689, 22797], [110188, 241117, 228...   \n",
       "16  [[116186, 247468, 23275], [114619, 246629, 235...   \n",
       "17  [[103037, 175591, 18434], [99978, 172371, 1883...   \n",
       "18  [[313505, 161103, 18580], [314477, 162881, 187...   \n",
       "19   [[307899, 98712, 19067], [309700, 87653, 19669]]   \n",
       "20  [[286807, 94503, 18046], [291939, 86875, 18287...   \n",
       "21  [[104063, 174940, 18432], [104232, 162719, 200...   \n",
       "22  [[280639, 88256, 18965], [280377, 87163, 19077...   \n",
       "23   [[84884, 179330, 16386], [84527, 179768, 16234]]   \n",
       "24  [[299386, 144111, 17853], [308152, 142095, 172...   \n",
       "\n",
       "                                  endpoints_generated  num_errors  num_facets  \\\n",
       "0   [[402970.1091549296, 229214.63028169013, 23552...           0           2   \n",
       "1   [[405014.6845794392, 226607.61448598132, 23618...           1           3   \n",
       "2   [[77266.35, 113085.0, 20442.45], [79721.25, 10...           1           2   \n",
       "3   [[100737.80769230769, 144755.42307692306, 2165...           1           2   \n",
       "4   [[76790.0, 99695.75, 21201.6], [77248.5, 10781...           2           2   \n",
       "5   [[79777.25, 135702.875, 21143.325], [84055.332...           3           4   \n",
       "6   [[88848.9, 99520.05, 20479.725], [83733.75, 10...           2           1   \n",
       "7   [[75019.0, 116198.25, 21198.45], [75295.5, 116...           1           1   \n",
       "8                                                  []           0           0   \n",
       "9   [[366705.43636363634, 138920.44090909092, 1641...           1           2   \n",
       "10          [[353943.1875, 147387.1875, 15165.80625]]           0           1   \n",
       "11  [[346655.4, 82856.2, 27089.475], [339921.75, 9...           3           3   \n",
       "12  [[351684.2205882353, 91330.23529411765, 27273....           1           2   \n",
       "13  [[357513.7125, 81607.44375, 25828.425], [35841...           2           2   \n",
       "14  [[347826.9375, 89007.1875, 24929.625], [347387...           3           1   \n",
       "15  [[111880.125, 241587.5, 22796.55], [110217.45,...           0           2   \n",
       "16  [[114668.19, 246690.36, 23504.25], [116197.995...           0           2   \n",
       "17  [[102634.0, 175766.5, 18513.6], [100042.6875, ...           2           2   \n",
       "18  [[313040.875, 162407.875, 18613.35], [313463.5...           3           2   \n",
       "19  [[307990.8125, 98498.53125, 19062.75], [308254...           1           1   \n",
       "20  [[291886.59375, 86933.90625, 18285.75], [28660...           1           3   \n",
       "21  [[102529.875, 164901.625, 19776.75], [104258.4...           3           4   \n",
       "22  [[280398.375, 87235.875, 19060.65], [280736.20...           2           1   \n",
       "23  [[84008.16666666667, 179640.61111111112, 16386...           2           2   \n",
       "24  [[307621.125, 141748.6875, 17280.375], [305188...           4           4   \n",
       "\n",
       "                                               facets  \\\n",
       "0   [[402970.1091549296, 229214.63028169013, 23552...   \n",
       "1   [[405014.6845794392, 226607.61448598132, 23618...   \n",
       "2   [[77266.35, 113085.0, 20442.45], [79721.25, 10...   \n",
       "3   [[100737.80769230769, 144755.42307692306, 2165...   \n",
       "4   [[76790.0, 99695.75, 21201.6], [77248.5, 10781...   \n",
       "5   [[79777.25, 135702.875, 21143.325], [84055.332...   \n",
       "6                    [[88848.9, 99520.05, 20479.725]]   \n",
       "7                    [[75019.0, 116198.25, 21198.45]]   \n",
       "8                                                  []   \n",
       "9   [[366705.43636363634, 138920.44090909092, 1641...   \n",
       "10          [[353943.1875, 147387.1875, 15165.80625]]   \n",
       "11  [[346655.4, 82856.2, 27089.475], [339921.75, 9...   \n",
       "12  [[351684.2205882353, 91330.23529411765, 27273....   \n",
       "13  [[357513.7125, 81607.44375, 25828.425], [35841...   \n",
       "14             [[347826.9375, 89007.1875, 24929.625]]   \n",
       "15  [[111880.125, 241587.5, 22796.55], [110217.45,...   \n",
       "16  [[114668.19, 246690.36, 23504.25], [116197.995...   \n",
       "17  [[102634.0, 175766.5, 18513.6], [100042.6875, ...   \n",
       "18  [[313040.875, 162407.875, 18613.35], [313463.5...   \n",
       "19             [[307990.8125, 98498.53125, 19062.75]]   \n",
       "20  [[291886.59375, 86933.90625, 18285.75], [28660...   \n",
       "21  [[102529.875, 164901.625, 19776.75], [104258.4...   \n",
       "22                [[280398.375, 87235.875, 19060.65]]   \n",
       "23  [[84008.16666666667, 179640.61111111112, 16386...   \n",
       "24  [[307621.125, 141748.6875, 17280.375], [305188...   \n",
       "\n",
       "                                               errors  \n",
       "0                                   [[0.0, 0.0, 0.0]]  \n",
       "1   [[405058.04347826086, 226369.72826086957, 2362...  \n",
       "2   [[79184.66379310345, 109173.56896551725, 20430...  \n",
       "3   [[100579.64583333333, 144180.02083333334, 2169...  \n",
       "4   [[77413.525, 107032.45, 21180.845], [77007.846...  \n",
       "5   [[80491.56164383562, 134662.8595890411, 21445....  \n",
       "6   [[83733.75, 104856.375, 21224.4], [88732.97222...  \n",
       "7   [[75295.5, 116210.34782608696, 21139.832608695...  \n",
       "8                                   [[0.0, 0.0, 0.0]]  \n",
       "9   [[367424.4456521739, 138785.34782608695, 16469...  \n",
       "10                                  [[0.0, 0.0, 0.0]]  \n",
       "11  [[339511.7894736842, 74640.26315789473, 26818....  \n",
       "12  [[351825.5073529412, 91045.6544117647, 27287.5...  \n",
       "13  [[358038.70108695654, 81438.45652173914, 25758...  \n",
       "14  [[347387.075, 85891.75, 25331.0925], [347278.9...  \n",
       "15                                  [[0.0, 0.0, 0.0]]  \n",
       "16                                  [[0.0, 0.0, 0.0]]  \n",
       "17  [[102666.375, 175698.50735294117, 18476.541176...  \n",
       "18  [[314456.73, 162882.93, 18714.402], [313621.43...  \n",
       "19                    [[308254.5, 98559.25, 19095.9]]  \n",
       "20  [[286760.5, 94540.83333333333, 18046.208333333...  \n",
       "21  [[103967.35169491525, 174892.80508474575, 1849...  \n",
       "22  [[280736.203125, 87898.78125, 19009.3640625], ...  \n",
       "23  [[84638.75, 179745.3, 16254.268333333332], [84...  \n",
       "24  [[306025.2890625, 144800.7421875, 17602.413281...  "
      ]
     },
     "execution_count": 23,
     "metadata": {},
     "output_type": "execute_result"
    }
   ],
   "source": [
    "generate_endpoints(orphans_subset)"
   ]
  },
  {
   "cell_type": "code",
   "execution_count": null,
   "metadata": {},
   "outputs": [],
   "source": [
    "#filter out facets and errors that are close together\n",
    "orphans[\"endpoints_generated\"] = orphans.apply(filter_facets_errors, axis = 1)\n"
   ]
  },
  {
   "cell_type": "code",
   "execution_count": 24,
   "metadata": {},
   "outputs": [
    {
     "name": "stdout",
     "output_type": "stream",
     "text": [
      "[[402970.10915493 229214.63028169  23552.55      ]\n",
      " [402527.5625     228866.3125      23991.45      ]]\n",
      "[[402527.5625     228866.3125      23991.45      ]\n",
      " [402970.10915493 229214.63028169  23552.55      ]]\n",
      "\n",
      "[[405014.68457944 226607.61448598  23618.7       ]\n",
      " [401827.125      224623.875       23970.975     ]\n",
      " [409128.86538462 219643.84615385  23892.75      ]\n",
      " [405058.04347826 226369.72826087  23625.57065217]]\n",
      "[[401827.125      224623.875       23970.975     ]\n",
      " [405058.04347826 226369.72826087  23625.57065217]\n",
      " [409128.86538462 219643.84615385  23892.75      ]]\n",
      "\n",
      "[[ 77266.35       113085.          20442.45      ]\n",
      " [ 79721.25       109333.          20410.425     ]\n",
      " [ 79184.6637931  109173.56896552  20430.44741379]]\n",
      "[[ 77266.35       113085.          20442.45      ]\n",
      " [ 79184.6637931  109173.56896552  20430.44741379]\n",
      " [ 79721.25       109333.          20410.425     ]]\n",
      "\n",
      "[[100737.80769231 144755.42307692  21652.575     ]\n",
      " [100567.6875     143844.75        21669.375     ]\n",
      " [100579.64583333 144180.02083333  21698.30833333]]\n",
      "[[100567.6875     143844.75        21669.375     ]\n",
      " [100579.64583333 144180.02083333  21698.30833333]\n",
      " [100737.80769231 144755.42307692  21652.575     ]]\n",
      "\n",
      "[[ 76790.          99695.75        21201.6       ]\n",
      " [ 77248.5        107816.625       21212.625     ]\n",
      " [ 77413.525      107032.45        21180.845     ]\n",
      " [ 77007.84677419  99568.11290323  21218.78951613]]\n",
      "[[ 76790.          99695.75        21201.6       ]\n",
      " [ 77007.84677419  99568.11290323  21218.78951613]\n",
      " [ 77248.5        107816.625       21212.625     ]\n",
      " [ 77413.525      107032.45        21180.845     ]]\n",
      "\n",
      "[[ 79777.25       135702.875       21143.325     ]\n",
      " [ 84055.33223684 127613.89144737  21583.275     ]\n",
      " [ 80696.4375     131456.0625      21431.55      ]\n",
      " [ 81294.5        134527.75        21470.4       ]\n",
      " [ 80491.56164384 134662.85958904  21445.79691781]\n",
      " [ 81144.45652174 131573.44565217  21414.79565217]\n",
      " [ 83908.24431818 128017.67045455  21521.77840909]]\n",
      "[[ 79777.25       135702.875       21143.325     ]\n",
      " [ 80491.56164384 134662.85958904  21445.79691781]\n",
      " [ 80696.4375     131456.0625      21431.55      ]\n",
      " [ 81144.45652174 131573.44565217  21414.79565217]\n",
      " [ 81294.5        134527.75        21470.4       ]\n",
      " [ 83908.24431818 128017.67045455  21521.77840909]\n",
      " [ 84055.33223684 127613.89144737  21583.275     ]]\n",
      "\n",
      "[[ 88848.9         99520.05        20479.725     ]\n",
      " [ 83733.75       104856.375       21224.4       ]\n",
      " [ 88732.97222222  99702.36111111  20561.78055556]]\n",
      "[[ 83733.75  104856.375  21224.4  ]\n",
      " [ 88848.9    99520.05   20479.725]]\n",
      "\n",
      "[[ 75019.         116198.25        21198.45      ]\n",
      " [ 75295.5        116210.34782609  21139.8326087 ]]\n",
      "[[ 75019.         116198.25        21198.45      ]\n",
      " [ 75295.5        116210.34782609  21139.8326087 ]]\n",
      "\n",
      "[]\n",
      "[]\n",
      "\n",
      "[[366705.43636364 138920.44090909  16416.75      ]\n",
      " [367869.82377049 138965.09016393  16518.6       ]\n",
      " [367424.44565217 138785.34782609  16469.0673913 ]]\n",
      "[[366705.43636364 138920.44090909  16416.75      ]\n",
      " [367424.44565217 138785.34782609  16469.0673913 ]\n",
      " [367869.82377049 138965.09016393  16518.6       ]]\n",
      "\n",
      "[[353943.1875  147387.1875   15165.80625]]\n",
      "[[353943.1875  147387.1875   15165.80625]]\n",
      "\n",
      "[[346655.4         82856.2         27089.475     ]\n",
      " [339921.75        90040.125       27017.55      ]\n",
      " [338964.81818182  74492.25        26774.80909091]\n",
      " [339511.78947368  74640.26315789  26818.14210526]\n",
      " [340195.51829268  89467.42682927  27038.76768293]\n",
      " [339982.96276596  75972.30319149  26873.39840426]]\n",
      "[[338964.81818182  74492.25        26774.80909091]\n",
      " [339511.78947368  74640.26315789  26818.14210526]\n",
      " [339921.75        90040.125       27017.55      ]\n",
      " [339982.96276596  75972.30319149  26873.39840426]\n",
      " [340195.51829268  89467.42682927  27038.76768293]\n",
      " [346655.4         82856.2         27089.475     ]]\n",
      "\n",
      "[[351684.22058824  91330.23529412  27273.75      ]\n",
      " [349500.9         97212.15        26978.7       ]\n",
      " [351825.50735294  91045.65441176  27287.52352941]]\n",
      "[[349500.9         97212.15        26978.7       ]\n",
      " [351684.22058824  91330.23529412  27273.75      ]\n",
      " [351825.50735294  91045.65441176  27287.52352941]]\n",
      "\n",
      "[[357513.7125      81607.44375     25828.425     ]\n",
      " [358419.11538462  81274.84615385  25740.75      ]\n",
      " [358038.70108696  81438.45652174  25758.53152174]\n",
      " [357816.85227273  81287.18181818  25822.29204545]]\n",
      "[[357513.7125      81607.44375     25828.425     ]\n",
      " [357816.85227273  81287.18181818  25822.29204545]\n",
      " [358038.70108696  81438.45652174  25758.53152174]\n",
      " [358419.11538462  81274.84615385  25740.75      ]]\n",
      "\n",
      "[[347826.9375      89007.1875      24929.625     ]\n",
      " [347387.075       85891.75        25331.0925    ]\n",
      " [347278.96875     86507.53125     25210.7625    ]\n",
      " [347306.35227273  87109.19318182  25780.00568182]]\n",
      "[[347278.96875     86507.53125     25210.7625    ]\n",
      " [347306.35227273  87109.19318182  25780.00568182]\n",
      " [347387.075       85891.75        25331.0925    ]\n",
      " [347826.9375      89007.1875      24929.625     ]]\n",
      "\n",
      "[[111880.125 241587.5    22796.55 ]\n",
      " [110217.45  241104.15   22870.575]]\n",
      "[[110217.45  241104.15   22870.575]\n",
      " [111880.125 241587.5    22796.55 ]]\n",
      "\n",
      "[[114668.19       246690.36        23504.25      ]\n",
      " [116197.99596774 247492.95967742  23270.625     ]]\n",
      "[[114668.19       246690.36        23504.25      ]\n",
      " [116197.99596774 247492.95967742  23270.625     ]]\n",
      "\n",
      "[[102634.         175766.5         18513.6       ]\n",
      " [100042.6875     172659.375       18813.375     ]\n",
      " [102666.375      175698.50735294  18476.54117647]\n",
      " [100714.84756098 173504.43292683  18528.47926829]]\n",
      "[[100042.6875     172659.375       18813.375     ]\n",
      " [100714.84756098 173504.43292683  18528.47926829]\n",
      " [102666.375      175698.50735294  18476.54117647]]\n",
      "\n",
      "[[313040.875      162407.875       18613.35      ]\n",
      " [313463.5        161108.5         18582.375     ]\n",
      " [314456.73       162882.93        18714.402     ]\n",
      " [313621.4375     162683.0625      18604.490625  ]\n",
      " [313402.25       161036.43181818  18584.69772727]]\n",
      "[[313040.875    162407.875     18613.35    ]\n",
      " [313463.5      161108.5       18582.375   ]\n",
      " [313621.4375   162683.0625    18604.490625]\n",
      " [314456.73     162882.93      18714.402   ]]\n",
      "\n",
      "[[307990.8125   98498.53125  19062.75   ]\n",
      " [308254.5      98559.25     19095.9    ]]\n",
      "[[307990.8125   98498.53125  19062.75   ]\n",
      " [308254.5      98559.25     19095.9    ]]\n",
      "\n",
      "[[291886.59375     86933.90625     18285.75      ]\n",
      " [286602.75        89248.25        18559.275     ]\n",
      " [286992.5625      94194.84375     18048.45      ]\n",
      " [286760.5         94540.83333333  18046.20833333]]\n",
      "[[286602.75        89248.25        18559.275     ]\n",
      " [286760.5         94540.83333333  18046.20833333]\n",
      " [286992.5625      94194.84375     18048.45      ]\n",
      " [291886.59375     86933.90625     18285.75      ]]\n",
      "\n",
      "[[102529.875      164901.625       19776.75      ]\n",
      " [104258.4375     162731.625       20004.6       ]\n",
      " [105030.84375    174914.90625     18616.5       ]\n",
      " [104103.44318182 174935.72727273  18432.75      ]\n",
      " [103967.35169492 174892.80508475  18490.59788136]\n",
      " [104422.2        174924.9         18535.455     ]\n",
      " [104197.5        162892.25        19999.        ]]\n",
      "[[102529.875      164901.625       19776.75      ]\n",
      " [104103.44318182 174935.72727273  18432.75      ]\n",
      " [104258.4375     162731.625       20004.6       ]\n",
      " [104422.2        174924.9         18535.455     ]\n",
      " [105030.84375    174914.90625     18616.5       ]]\n",
      "\n",
      "[[280398.375       87235.875       19060.65      ]\n",
      " [280736.203125    87898.78125     19009.3640625 ]\n",
      " [280544.72727273  87485.36363636  19016.04090909]]\n",
      "[[280398.375       87235.875       19060.65      ]\n",
      " [280544.72727273  87485.36363636  19016.04090909]\n",
      " [280736.203125    87898.78125     19009.3640625 ]]\n",
      "\n",
      "[[ 84008.16666667 179640.61111111  16386.3       ]\n",
      " [ 84517.875      179781.          16234.575     ]\n",
      " [ 84638.75       179745.3         16254.26833333]\n",
      " [ 84472.         179104.5         16342.2       ]]\n",
      "[[ 84008.16666667 179640.61111111  16386.3       ]\n",
      " [ 84472.         179104.5         16342.2       ]\n",
      " [ 84517.875      179781.          16234.575     ]]\n",
      "\n",
      "[[307621.125      141748.6875      17280.375     ]\n",
      " [305188.625      144040.3125      17533.425     ]\n",
      " [305697.92647059 144319.41176471  17578.575     ]\n",
      " [306911.85       143525.55        17229.45      ]\n",
      " [306025.2890625  144800.7421875   17602.41328125]\n",
      " [308103.75       142165.25        17226.85      ]\n",
      " [300201.125      144215.45833333  17811.4125    ]\n",
      " [306987.52777778 143903.08333333  17285.74166667]]\n",
      "[[300201.125      144215.45833333  17811.4125    ]\n",
      " [305188.625      144040.3125      17533.425     ]\n",
      " [305697.92647059 144319.41176471  17578.575     ]\n",
      " [306025.2890625  144800.7421875   17602.41328125]\n",
      " [306911.85       143525.55        17229.45      ]\n",
      " [306987.52777778 143903.08333333  17285.74166667]\n",
      " [307621.125      141748.6875      17280.375     ]\n",
      " [308103.75       142165.25        17226.85      ]]\n",
      "\n"
     ]
    },
    {
     "name": "stderr",
     "output_type": "stream",
     "text": [
      "/var/folders/bz/3tlf2mzd44x751_89tsfdgjh0000gn/T/ipykernel_27622/2370899619.py:46: DeprecationWarning: elementwise comparison failed; this will raise an error in the future.\n",
      "  row[\"errors\"] = row[\"errors\"][row[\"errors\"] != row[\"endpoints_generated\"][index]]\n"
     ]
    }
   ],
   "source": [
    "orphans_subset[\"endpoints_generated\"], orphans_subset[\"num_facets\"], orphans_subset[\"num_errors\"], orphans_subset[\"facets\"], orphans_subset[\"errors\"]= zip(*orphans_subset.apply(filter_facets_errors, axis = 1))"
   ]
  },
  {
   "cell_type": "code",
   "execution_count": null,
   "metadata": {},
   "outputs": [],
   "source": [
    "#apply accuracy function to entire df \n",
    "count = 0\n",
    "acc_array = []\n",
    "orphans[\"accuracy\"] = None\n",
    "for index, row in orphans.iterrows():\n",
    "    if (type(row[\"real_endpoints\"])== list and type(row[\"endpoints_generated\"]) == list):\n",
    "        acc = 1\n",
    "        print(\"both empty\")\n",
    "    elif(type(row[\"endpoints_generated\"]) == list and type(row[\"real_endpoints\"]) != list):\n",
    "        acc = 0\n",
    "        print(\"no endpoints generated, but endpoints exist\")\n",
    "    else:\n",
    "        count = count + 1\n",
    "        acc = pred_eps_acc(row[\"real_endpoints\"], row[\"endpoints_generated\"], 250)\n",
    "        acc_array.append(acc)\n",
    "    \n",
    "    orphans.loc[index, \"accuracy\"] = acc"
   ]
  },
  {
   "cell_type": "code",
   "execution_count": 25,
   "metadata": {},
   "outputs": [],
   "source": [
    "#apply function to entire df \n",
    "count = 0\n",
    "acc_array2 = []\n",
    "orphans_subset[\"accuracy\"] = None\n",
    "for index, row in orphans_subset.iterrows():\n",
    "    if (type(row[\"real_endpoints\"])== list and type(row[\"endpoints_generated\"]) == list):\n",
    "        acc = 1\n",
    "        print(\"both empty\")\n",
    "    elif(type(row[\"endpoints_generated\"]) == list and type(row[\"real_endpoints\"]) != list):\n",
    "        acc = 0\n",
    "        print(\"no endpoints generated, but endpoints exist\")\n",
    "    else:\n",
    "        count = count + 1\n",
    "        acc = pred_eps_acc(row[\"real_endpoints\"], row[\"endpoints_generated\"], 250)\n",
    "        acc_array2.append(acc)\n",
    "\n",
    "    orphans_subset.loc[index, \"accuracy\"] = acc\n",
    "    "
   ]
  },
  {
   "cell_type": "code",
   "execution_count": null,
   "metadata": {},
   "outputs": [
    {
     "ename": "NameError",
     "evalue": "name 'acc_array' is not defined",
     "output_type": "error",
     "traceback": [
      "\u001b[0;31m---------------------------------------------------------------------------\u001b[0m",
      "\u001b[0;31mNameError\u001b[0m                                 Traceback (most recent call last)",
      "\u001b[1;32m/Users/sheeltanna/Desktop/AGT_REPO/campfire/Final_Results.ipynb Cell 36\u001b[0m in \u001b[0;36m1\n\u001b[0;32m----> <a href='vscode-notebook-cell:/Users/sheeltanna/Desktop/AGT_REPO/campfire/Final_Results.ipynb#X52sZmlsZQ%3D%3D?line=0'>1</a>\u001b[0m acc_array \u001b[39m=\u001b[39m np\u001b[39m.\u001b[39marray(acc_array)\n\u001b[1;32m      <a href='vscode-notebook-cell:/Users/sheeltanna/Desktop/AGT_REPO/campfire/Final_Results.ipynb#X52sZmlsZQ%3D%3D?line=1'>2</a>\u001b[0m \u001b[39mprint\u001b[39m(acc_array)\n",
      "\u001b[0;31mNameError\u001b[0m: name 'acc_array' is not defined"
     ]
    }
   ],
   "source": [
    "acc_array = np.array(acc_array)\n",
    "print(acc_array)"
   ]
  },
  {
   "cell_type": "code",
   "execution_count": 26,
   "metadata": {},
   "outputs": [
    {
     "name": "stdout",
     "output_type": "stream",
     "text": [
      "[1.         1.         1.         1.         0.5        1.\n",
      " 0.5        1.         0.         1.         0.         0.75\n",
      " 1.         1.         0.5        1.         1.         0.\n",
      " 1.         0.5        0.66666667 1.         0.66666667 0.5\n",
      " 0.33333333]\n"
     ]
    }
   ],
   "source": [
    "acc_array2 = np.array(acc_array2)\n",
    "print(acc_array2)"
   ]
  },
  {
   "attachments": {},
   "cell_type": "markdown",
   "metadata": {},
   "source": [
    "### Final Data Processing"
   ]
  },
  {
   "cell_type": "code",
   "execution_count": null,
   "metadata": {},
   "outputs": [],
   "source": [
    "orphans[\"num_gen_endpoints\"] = orphans[\"endpoints_generated\"].apply(lambda x: len(x))"
   ]
  },
  {
   "cell_type": "code",
   "execution_count": 27,
   "metadata": {},
   "outputs": [],
   "source": [
    "orphans_subset[\"num_gen_endpoints\"] = orphans_subset[\"endpoints_generated\"].apply(lambda x: len(x))"
   ]
  },
  {
   "cell_type": "code",
   "execution_count": null,
   "metadata": {},
   "outputs": [],
   "source": [
    "# Group by neuron column and calculate the sums\n",
    "grouped_data = orphans.groupby(\"neuron\").agg({\n",
    "    \"num_gen_endpoints\": \"sum\",\n",
    "    \"num_errors\": \"sum\",\n",
    "    \"num_facets\": \"sum\",\n",
    "    \"accuracy\": lambda x: x.tolist()  # Convert accuracy column to a list\n",
    "}).reset_index()\n",
    "\n",
    "# Rename the columns\n",
    "grouped_data = grouped_data.rename(columns={\n",
    "    \"neuron\": \"Neuron\",\n",
    "    \"num_gen_endpoints\": \"total_gen_endpoints\",\n",
    "    \"num_errors\": \"total_errors\",\n",
    "    \"num_facets\": \"total_facets\",\n",
    "    \"accuracy\": \"all_accuracies\"\n",
    "})\n",
    "\n",
    "# Print the resulting dataframe\n",
    "print(grouped_data)"
   ]
  },
  {
   "cell_type": "code",
   "execution_count": null,
   "metadata": {},
   "outputs": [],
   "source": [
    "gt = pd.read_csv(\"/Users/sheeltanna/Desktop/AGT_REPO/campfire/gt.csv\")"
   ]
  },
  {
   "attachments": {},
   "cell_type": "markdown",
   "metadata": {},
   "source": [
    "### Figures"
   ]
  },
  {
   "attachments": {},
   "cell_type": "markdown",
   "metadata": {},
   "source": [
    "ADD accuracy plot HERE"
   ]
  },
  {
   "cell_type": "code",
   "execution_count": null,
   "metadata": {},
   "outputs": [],
   "source": [
    "import matplotlib.pyplot as plt\n",
    "import numpy as np\n",
    "\n",
    "# Prepare the data from the existing dataframe\n",
    "existing_neuron_numbers = grouped_data[\"Neuron\"].astype(str)\n",
    "existing_total_gen_endpoints = grouped_data[\"total_gen_endpoints\"]\n",
    "existing_total_errors = grouped_data[\"total_errors\"]\n",
    "existing_total_facets = grouped_data[\"total_facets\"]\n",
    "\n",
    "# Prepare the data from the ground truth dataframe\n",
    "ground_truth_neuron_numbers = gt[\"Neuron \"].astype(str)\n",
    "ground_truth_total_endpoints = gt[\"Total Endpoints\"]\n",
    "\n",
    "# Set the positions of the bars on the x-axis\n",
    "x = np.arange(len(existing_neuron_numbers))\n",
    "\n",
    "# Set the width of the bars\n",
    "width = 0.3\n",
    "\n",
    "# Create the figure and axis\n",
    "fig, ax = plt.subplots()\n",
    "\n",
    "# Create the bars for existing data\n",
    "rects2 = ax.bar(x + width, existing_total_errors, width, label='Total Errors', color='red')\n",
    "rects3 = ax.bar(x + width, existing_total_facets, width, bottom=existing_total_errors, label='Total Facets', color='green')\n",
    "\n",
    "# Create the bars for ground truth data\n",
    "rects4 = ax.bar(x, ground_truth_total_endpoints, width, label='Total Endpoints (Ground Truth)', color='orange', alpha=0.5)\n",
    "\n",
    "# Add labels, title, and legend\n",
    "ax.set_ylabel('Total Gen Endpoints')\n",
    "ax.set_xlabel('Neuron Number')\n",
    "ax.set_title('Total Gen Endpoints per Neuron')\n",
    "ax.set_xticks(x + width / 2)\n",
    "ax.set_xticklabels(existing_neuron_numbers)\n",
    "\n",
    "ax.legend()\n",
    "\n",
    "# Adjust the layout to prevent label cutoff\n",
    "plt.tight_layout()\n",
    "\n",
    "# Show the plot\n",
    "plt.xticks(rotation='vertical')\n",
    "plt.show()"
   ]
  },
  {
   "attachments": {},
   "cell_type": "markdown",
   "metadata": {},
   "source": [
    " just the subset of 26 orphans"
   ]
  },
  {
   "cell_type": "code",
   "execution_count": 28,
   "metadata": {},
   "outputs": [
    {
     "data": {
      "image/png": "[encoded data removed]",
      "text/plain": [
       "<Figure size 640x480 with 1 Axes>"
      ]
     },
     "metadata": {},
     "output_type": "display_data"
    }
   ],
   "source": [
    "import matplotlib.pyplot as plt\n",
    "import numpy as np\n",
    "\n",
    "seg_ids = orphans_subset[\"seg_id\"].astype(str)\n",
    "num_gen_endpoints = orphans_subset[\"num_gen_endpoints\"]\n",
    "num_errors = orphans_subset[\"num_errors\"]\n",
    "num_facets = orphans_subset[\"num_facets\"]\n",
    "\n",
    "#gt endpoints\n",
    "ground_truth_neuron_numbers = orphans_subset[\"neuron\"].astype(str)\n",
    "ground_truth_endpoints = orphans_subset[\"num_endpoints\"]\n",
    "\n",
    "# Set the positions of the bars on the x-axis\n",
    "x = np.arange(len(seg_ids))\n",
    "\n",
    "# Set the width of the bars\n",
    "width = 0.3\n",
    "\n",
    "# Create the figure and axis\n",
    "fig, ax = plt.subplots()\n",
    "\n",
    "# Create the bars for existing data\n",
    "rects2 = ax.bar(x + width, num_errors, width, label='Errors', color='red')\n",
    "rects3 = ax.bar(x + width, num_facets, width, bottom=num_errors, label='Facets', color='green')\n",
    "\n",
    "# Create the bars for ground truth data\n",
    "rects4 = ax.bar(x, ground_truth_endpoints, width, label='Endpoints (Ground Truth)', color='orange', alpha=0.5)\n",
    "\n",
    "# Add labels, title, and legend\n",
    "ax.set_ylabel('Gen Endpoints')\n",
    "ax.set_xlabel('Seg ID')\n",
    "ax.set_title('Gen Endpoints per representative orphan')\n",
    "ax.set_xticks(x + width / 2)\n",
    "ax.set_xticklabels(seg_ids)\n",
    "\n",
    "ax.legend()\n",
    "\n",
    "# Adjust the layout to prevent label cutoff\n",
    "plt.tight_layout()\n",
    "\n",
    "# Show the plot\n",
    "plt.xticks(rotation='vertical')\n",
    "plt.show()"
   ]
  },
  {
   "cell_type": "code",
   "execution_count": 29,
   "metadata": {},
   "outputs": [
    {
     "name": "stderr",
     "output_type": "stream",
     "text": [
      "No artists with labels found to put in legend.  Note that artists whose label start with an underscore are ignored when legend() is called with no argument.\n"
     ]
    },
    {
     "data": {
      "image/png": "[encoded data removed]",
      "text/plain": [
       "<Figure size 640x480 with 1 Axes>"
      ]
     },
     "metadata": {},
     "output_type": "display_data"
    }
   ],
   "source": [
    "#accuracy plot for subset of 26 orphans\n",
    "import matplotlib.pyplot as plt\n",
    "import numpy as np\n",
    "\n",
    "seg_ids = orphans_subset[\"seg_id\"].astype(str)\n",
    "accuracies = orphans_subset[\"accuracy\"]\n",
    "\n",
    "# Set the positions of the bars on the x-axis\n",
    "x = np.arange(len(seg_ids))\n",
    "\n",
    "# Set the width of the bars\n",
    "width = 0.3\n",
    "\n",
    "# Create the figure and axis\n",
    "fig, ax = plt.subplots()\n",
    "\n",
    "# Create the bars for existing data\n",
    "rects2 = ax.bar(x + width, accuracies, width, color='red')\n",
    "\n",
    "\n",
    "# Add labels, title, and legend\n",
    "ax.set_ylabel('Accuracy')\n",
    "ax.set_xlabel('Seg ID')\n",
    "ax.set_title('Accuracy per representative Orphan')\n",
    "ax.set_xticks(x + width / 2)\n",
    "ax.set_xticklabels(seg_ids)\n",
    "\n",
    "ax.legend()\n",
    "\n",
    "# Adjust the layout to prevent label cutoff\n",
    "plt.tight_layout()\n",
    "\n",
    "# Show the plot\n",
    "plt.xticks(rotation='vertical')\n",
    "plt.show()\n"
   ]
  },
  {
   "attachments": {},
   "cell_type": "markdown",
   "metadata": {},
   "source": [
    "### Edge Cases + Exceptions"
   ]
  }
 ],
 "metadata": {
  "kernelspec": {
   "display_name": "Python 3",
   "language": "python",
   "name": "python3"
  },
  "language_info": {
   "codemirror_mode": {
    "name": "ipython",
    "version": 3
   },
   "file_extension": ".py",
   "mimetype": "text/x-python",
   "name": "python",
   "nbconvert_exporter": "python",
   "pygments_lexer": "ipython3",
   "version": "3.8.3"
  },
  "orig_nbformat": 4
 },
 "nbformat": 4,
 "nbformat_minor": 2
}
