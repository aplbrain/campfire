{
 "cells": [
  {
   "attachments": {},
   "cell_type": "markdown",
   "metadata": {},
   "source": [
    "### DATAFRAME"
   ]
  },
  {
   "cell_type": "code",
   "execution_count": 1,
   "metadata": {},
   "outputs": [],
   "source": [
    "from cloudvolume import CloudVolume\n",
    "from meshparty import skeletonize, trimesh_io\n",
    "from caveclient import CAVEclient\n",
    "import trimesh\n",
    "import numpy as np\n",
    "import datetime\n",
    "import networkx as nx\n",
    "from scipy.sparse import identity\n",
    "from scipy.spatial import distance_matrix\n",
    "import scipy \n",
    "from tqdm import tqdm\n",
    "# import aws\n",
    "import pandas as pd\n",
    "import csv\n",
    "import pyembree\n",
    "import matplotlib.pyplot as plt\n",
    "import scipy.spatial as spatial\n",
    "import itertools\n",
    "import math\n",
    "from IPython.display import display\n",
    "from PIL import Image"
   ]
  },
  {
   "cell_type": "code",
   "execution_count": 2,
   "metadata": {},
   "outputs": [],
   "source": [
    "orphans = pd.read_csv(\"ALL_ORPHANS.csv\")"
   ]
  },
  {
   "cell_type": "code",
   "execution_count": 3,
   "metadata": {},
   "outputs": [],
   "source": [
    "orphans_subset = pd.read_csv(\"Orphans_subset.csv\")"
   ]
  },
  {
   "cell_type": "code",
   "execution_count": 4,
   "metadata": {},
   "outputs": [],
   "source": [
    "def my_array(x):\n",
    "    res = list(map(str.strip, x.split('; ')))\n",
    "    return res"
   ]
  },
  {
   "cell_type": "code",
   "execution_count": 5,
   "metadata": {},
   "outputs": [],
   "source": [
    "orphans['endpoints'] = orphans['endpoints'].map(lambda x: list(map(str.strip, x.split('; '))))"
   ]
  },
  {
   "cell_type": "code",
   "execution_count": 6,
   "metadata": {},
   "outputs": [],
   "source": [
    "orphans_subset['endpoints'] = orphans_subset['endpoints'].map(lambda x: list(map(str.strip, x.split('; '))))"
   ]
  },
  {
   "cell_type": "code",
   "execution_count": 7,
   "metadata": {},
   "outputs": [],
   "source": [
    "## convert from string list to 2-d array\n",
    "def convert_to_array(row):\n",
    "    count = 0\n",
    "    result = []\n",
    "    for endpoint in row[\"endpoints\"]:\n",
    "        endpoint = eval(endpoint)\n",
    "        if(count == 0):\n",
    "            result = np.array(endpoint)\n",
    "            count = count + 1\n",
    "        else:\n",
    "            result = np.vstack((result, np.array(endpoint)))\n",
    "            count = count + 1\n",
    "    if(count == 1 and result.size != 0):\n",
    "        result = result.reshape(1,3)\n",
    "    return result "
   ]
  },
  {
   "cell_type": "code",
   "execution_count": 8,
   "metadata": {},
   "outputs": [],
   "source": [
    "orphans[\"real_endpoints\"] = orphans.apply(convert_to_array, axis = 1)"
   ]
  },
  {
   "cell_type": "code",
   "execution_count": 9,
   "metadata": {},
   "outputs": [],
   "source": [
    "orphans_subset[\"real_endpoints\"] = orphans_subset.apply(convert_to_array, axis = 1)"
   ]
  },
  {
   "attachments": {},
   "cell_type": "markdown",
   "metadata": {},
   "source": [
    "### TIP FINDER FUNCTIONS"
   ]
  },
  {
   "cell_type": "code",
   "execution_count": 10,
   "metadata": {},
   "outputs": [],
   "source": [
    "def get_and_process_mesh(root_id):\n",
    "    datastack_name = \"minnie65_phase3_v1\"\n",
    "    client = CAVEclient(datastack_name)\n",
    "    vol = CloudVolume(\n",
    "        client.info.segmentation_source(),\n",
    "        use_https=True,\n",
    "        progress=False,\n",
    "        bounded=False,\n",
    "        fill_missing=True,\n",
    "        secrets={\"token\": client.auth.token}\n",
    "    )\n",
    "    print(\"Downloading Mesh\")\n",
    "    mesh = vol.mesh.get(str(root_id))[root_id]\n",
    "    mesh_obj = trimesh.Trimesh(np.divide(mesh.vertices, np.array([1,1,1])), mesh.faces)\n",
    "    print(\"Vertices: \", mesh.vertices.shape[0])\n",
    "\n",
    "    if mesh_obj.volume > 4000000000000:\n",
    "        print(\"TOO BIG, SKIPPING\")\n",
    "        return None\n",
    "    trimesh.repair.fix_normals(mesh_obj)\n",
    "    mesh_obj.fill_holes()\n",
    "\n",
    "    return mesh_obj"
   ]
  },
  {
   "cell_type": "code",
   "execution_count": 11,
   "metadata": {},
   "outputs": [],
   "source": [
    "def get_soma(soma_id:str):\n",
    "    cave_client = CAVEclient('minnie65_phase3_v1')\n",
    "    soma = cave_client.materialize.query_table(\n",
    "        \"nucleus_neuron_svm\",\n",
    "        filter_equal_dict={'id':soma_id}\n",
    "    )\n",
    "    return soma"
   ]
  },
  {
   "cell_type": "code",
   "execution_count": 12,
   "metadata": {},
   "outputs": [],
   "source": [
    "def process_mesh_ccs(mesh_obj):\n",
    "    print(\"Processing CC's\")\n",
    "    ccs_graph = trimesh.graph.connected_components(mesh_obj.edges)\n",
    "    ccs_len = [len(c) for c in ccs_graph]\n",
    "    largest_component = ccs_graph[np.argmax(ccs_len)]\n",
    "    largest_component_remap = np.arange(ccs_graph[np.argmax(ccs_len)].shape[0])\n",
    "    face_dict = {largest_component[i]:largest_component_remap[i] for i in range(largest_component.shape[0])}\n",
    "\n",
    "    new_faces_mask = np.isin(mesh_obj.faces, list(face_dict.keys()))\n",
    "    new_faces_mask = new_faces_mask[:, 0]*new_faces_mask[:, 1]*new_faces_mask[:, 2]\n",
    "\n",
    "    new_faces = np.vectorize(face_dict.get)(mesh_obj.faces[new_faces_mask])\n",
    "    new_faces = new_faces[new_faces[:, 0] != None]\n",
    "    largest_component_mesh = trimesh.Trimesh(mesh_obj.vertices[largest_component], new_faces)\n",
    "\n",
    "    all_ids = set(largest_component)\n",
    "    encapsulated_ids = []\n",
    "\n",
    "    for i in range(1, len(ccs_graph)):\n",
    "        n_con = largest_component_mesh.contains(mesh_obj.vertices[ccs_graph[i]])\n",
    "        if np.sum(n_con) / n_con.shape[0] == 0 and n_con.shape[0] > 50:\n",
    "            all_ids.update(ccs_graph[i])\n",
    "        else:\n",
    "            if len(ccs_graph[i]) < 1000:\n",
    "                encapsulated_ids.append((np.mean(mesh_obj.vertices[ccs_graph[i]], axis=0)/[4,4,40], len(ccs_graph[i])))\n",
    "            \n",
    "    all_component = np.array(list(ccs_graph[np.argmax(ccs_len)]))\n",
    "    all_component_remap = np.arange(all_component.shape[0])\n",
    "    face_dict = {all_component[i]:all_component_remap[i] for i in range(all_component.shape[0])}\n",
    "    new_faces_mask = np.isin(mesh_obj.faces, list(face_dict.keys()))\n",
    "    new_faces_mask = new_faces_mask[:, 0]*new_faces_mask[:, 1]*new_faces_mask[:, 2]\n",
    "\n",
    "    new_faces = np.vectorize(face_dict.get)(mesh_obj.faces[new_faces_mask])\n",
    "    new_faces[new_faces[:, 0] != None]\n",
    "    \n",
    "    largest_component_mesh = trimesh.Trimesh(mesh_obj.vertices[all_component], new_faces)\n",
    "    \n",
    "    mesh_obj = largest_component_mesh\n",
    "    return mesh_obj, encapsulated_ids, np.max(ccs_len)"
   ]
  },
  {
   "cell_type": "code",
   "execution_count": 13,
   "metadata": {},
   "outputs": [],
   "source": [
    "def process_defects(mesh_obj, a=.75):\n",
    "    bad_edges = trimesh.grouping.group_rows(\n",
    "        mesh_obj.edges_sorted, require_count=1)\n",
    "    bad_edges_ind = mesh_obj.edges[bad_edges]\n",
    "    sparse_edges = mesh_obj.edges_sparse\n",
    "    xs = list(bad_edges_ind[:, 0]) + list(bad_edges_ind[:, 1]) \n",
    "    ys = list(bad_edges_ind[:, 1]) + list(bad_edges_ind[:, 0])\n",
    "    vs = [1]*bad_edges_ind.shape[0]*2\n",
    "    bad_inds = scipy.sparse.coo_matrix((vs, (xs, ys)), shape=(mesh_obj.vertices.shape[0], mesh_obj.vertices.shape[0]))\n",
    "    # Make it symmetrical and add identity so each integrates from itself too, then subtract singleton edges\n",
    "    # I noticed that the number of asymmetrical edges vs the number of single edges I find from group rows\n",
    "    # Are close but different. Haven't looked into that yet. Also removing edges 1 hop away from single edges to remove bias towards\n",
    "    # Holes in the mesh that are caused by mesh construction errors as opposed to segmentation errors\n",
    "    sparse_edges = mesh_obj.edges_sparse + mesh_obj.edges_sparse.T + identity(mesh_obj.edges_sparse.shape[0]) - sparse_edges.multiply(bad_inds) - bad_inds\n",
    "    degs = mesh_obj.vertex_degree + 1\n",
    "\n",
    "    # N_iter is a smoothing parameter here. The loop below smooths the vertex error about the mesh to get more consistent connected regions\n",
    "    n_iter = 2\n",
    "    angle_sum = np.array(abs(mesh_obj.face_angles_sparse).sum(axis=1)).flatten()\n",
    "    defs = (2 * np.pi) - angle_sum\n",
    "\n",
    "    abs_defs = np.abs(defs)\n",
    "    abs_defs_i = abs_defs.copy()\n",
    "    for i in range(n_iter):\n",
    "        abs_defs_i = sparse_edges.dot(abs_defs_i) / degs\n",
    "    \n",
    "    verts_select = np.argwhere((abs_defs_i > a))# & (abs_defs < 2.5))\n",
    "\n",
    "    edges_mask = np.isin(mesh_obj.edges, verts_select)\n",
    "    edges_mask[bad_edges] = False\n",
    "    edges_select = edges_mask[:, 0] * edges_mask[:, 1]\n",
    "    edges_select = mesh_obj.edges[edges_select]\n",
    "\n",
    "    G = nx.from_edgelist(edges_select)#f_edge_sub)\n",
    "\n",
    "    ccs = nx.connected_components(G)\n",
    "    subgraphs = [G.subgraph(cc).copy() for cc in ccs]\n",
    "\n",
    "    lens = []\n",
    "    lengths = []\n",
    "    for i in tqdm(range(len(subgraphs))):\n",
    "        ns = np.array(list(subgraphs[i].nodes()))\n",
    "    #     ns = ns[abs_defs[ns ]]\n",
    "        l = len(ns)\n",
    "        if l > 20 and l < 5000:\n",
    "            lens.append(ns)\n",
    "            lengths.append(l)\n",
    "    all_nodes = set()\n",
    "    for l in lens:\n",
    "        all_nodes.update(l)\n",
    "    all_nodes = np.array(list(all_nodes))\n",
    "    # sharp_pts = mesh_obj.vertices[all_nodes]\n",
    "    centers = np.array([np.mean(mesh_obj.vertices[list(ppts)],axis=0) for ppts in lens])\n",
    "\n",
    "    return centers, lens"
   ]
  },
  {
   "cell_type": "code",
   "execution_count": 14,
   "metadata": {},
   "outputs": [],
   "source": [
    "def process_endpoints(mesh_obj, skel_mp):\n",
    "    # Process the skeleton to get the endpoints\n",
    "    interior_cc_mask = set()\n",
    "    el = nx.from_edgelist(skel_mp.edges)\n",
    "    comps = list(nx.connected_components(el))\n",
    "    for c in comps:\n",
    "        if len(c) < 100:\n",
    "            n_con = mesh_obj.contains(skel_mp.vertices[list(c)])\n",
    "            if np.sum(n_con) / n_con.shape[0] > .10:\n",
    "                interior_cc_mask.update(list(c))\n",
    "    # Process the skeleton to get the endpoints\n",
    "    edges = skel_mp.edges.copy()\n",
    "\n",
    "    edge_mask = ~np.isin(edges, interior_cc_mask)\n",
    "    edge_mask = edge_mask[:, 0] + edge_mask[:, 1]\n",
    "    edges = edges[edge_mask]\n",
    "    edges_flat  = edges.flatten()\n",
    "    edge_bins = np.bincount(edges_flat) \n",
    "\n",
    "    eps = np.squeeze(np.argwhere(edge_bins==1))\n",
    "    eps_nm = skel_mp.vertices[eps]\n",
    "\n",
    "    eps_comp = distance_matrix(eps_nm, eps_nm)\n",
    "    eps_comp[eps_comp == 0] = np.inf\n",
    "    eps_thresh = np.argwhere(~(np.min(eps_comp, axis=0) < 3000))\n",
    "\n",
    "    eps = np.squeeze(eps[eps_thresh])\n",
    "    eps_nm = np.squeeze(eps_nm[eps_thresh])\n",
    "    return eps, eps_nm"
   ]
  },
  {
   "cell_type": "code",
   "execution_count": 15,
   "metadata": {},
   "outputs": [],
   "source": [
    "def process_mesh_errors(mesh_obj, centers, eps, eps_nm, lens, skel_mp):\n",
    "    if eps.size == 1:\n",
    "        #eps_nm should therefore be reshaped\n",
    "        eps_nm = eps_nm.reshape((1,3))\n",
    "\n",
    "    print(\"Processing mesh errors\")\n",
    "    # path_to_root_dict = {}\n",
    "    # for ep in eps:\n",
    "    #     path_to_root_dict[ep] = skel_mp.path_to_root(ep)\n",
    "        \n",
    "    dists_defects = np.zeros(centers.shape[0])\n",
    "    sizes = np.zeros(centers.shape[0])\n",
    "    mesh_map = skel_mp.mesh_to_skel_map\n",
    "    closest_skel_pts = mesh_map[[l[0] for l in lens]]\n",
    "\n",
    "    # print(centers, eps_nm)\n",
    "\n",
    "    dist_matrix = distance_matrix(centers, eps_nm)\n",
    "    ct = 0\n",
    "\n",
    "    closest_tip = np.zeros((centers.shape[0]))\n",
    "\n",
    "    for center in tqdm(centers):\n",
    "    #     skel_pts_dists = np.linalg.norm(skel_mp.vertices - center, axis=1)\n",
    "    #     ep_pts_dists = np.linalg.norm(eps_nm - center, axis=1)\n",
    "        \n",
    "        # closest_skel_pt = closest_skel_pts[ct]\n",
    "        min_ep = np.inf\n",
    "        eps_hit = []\n",
    "        if eps.size == 1:\n",
    "            eps_hit.append(eps)\n",
    "        else: \n",
    "            for j, ep in enumerate(eps):\n",
    "                # if closest_skel_pt in path_to_root_dict[ep]:\n",
    "                #     eps_hit.append(j)\n",
    "                eps_hit.append(j)\n",
    "        \n",
    "        if(eps.size == 1):\n",
    "            dists = dist_matrix[ct]\n",
    "        else:\n",
    "            dists = dist_matrix[ct, eps_hit]\n",
    "        \n",
    "        amin = np.argmin(dists)\n",
    "        tip_hit = eps_hit[amin]\n",
    "        min_dist = dists[amin]\n",
    "        \n",
    "        closest_tip[ct] = tip_hit\n",
    "    #     print(np.argmin(ep_pts_dists), ep_found, eps_nm[np.argmin(ep_pts_dists)]/[4,4,40], eps_nm[j]/[4,4,40], center/[4,4,40])\n",
    "        dists_defects[ct] = min_dist\n",
    "        sizes[ct] = len(lens[ct])\n",
    "        ct+=1\n",
    "    dists_defects_sub = dists_defects[dists_defects < 5000]\n",
    "    sizes_sub = sizes[dists_defects < 5000]\n",
    "    centers_sub = centers[dists_defects < 5000]\n",
    "    tips_hit_sub = closest_tip[dists_defects < 5000]\n",
    "    closest_skel_pts_sub = closest_skel_pts[dists_defects < 5000]\n",
    "    inds_sub = np.arange(centers.shape[0])[dists_defects < 5000]\n",
    "\n",
    "\n",
    "    # Also ranking each component based on its PCA- if the first component is big enough, the points are mostly linear\n",
    "    # These point sets seem to be less likely to be true errors\n",
    "    from sklearn.decomposition import PCA\n",
    "    pca_vec = np.zeros(inds_sub.shape[0])\n",
    "    for i in range(inds_sub.shape[0]):\n",
    "        pca = PCA()#n_components=2)\n",
    "        pca.fit(mesh_obj.vertices[lens[inds_sub[i]]])\n",
    "\n",
    "        pca_vec[i] = pca.explained_variance_ratio_[0]\n",
    "\n",
    "    dists_defects_sub[dists_defects_sub < 4000] = 100\n",
    "    dists_defects_norm = dists_defects_sub #/ np.max(dists_defects_sub)\n",
    "    ranks_ep = sizes_sub / dists_defects_norm * (1-pca_vec)\n",
    "    ranks = sizes_sub**2 * (1-pca_vec)\n",
    "\n",
    "    #ranks_ep_errors_filt = ranks_ep[ranks_ep > .1]\n",
    "    centers_ep_send_errors = centers_sub[np.argsort(ranks_ep)][::-1][:20]\n",
    "    final_mask_eps = np.full(centers_ep_send_errors.shape[0], True)\n",
    "    tips_hit_send_ep = tips_hit_sub[np.argsort(ranks_ep)][::-1][:20]\n",
    "    uns, nums = np.unique(tips_hit_send_ep, return_counts=True)\n",
    "\n",
    "    for un, num in zip(uns, nums):\n",
    "        if num > 1:\n",
    "            final_mask_eps[np.argwhere(tips_hit_send_ep == un)[1:]] = False\n",
    "    centers_errors_ep = centers_ep_send_errors[final_mask_eps]\n",
    "    centers_errors = centers_sub[np.argsort(ranks)[::-1]][:20]\n",
    "    return centers_errors, centers_errors_ep"
   ]
  },
  {
   "cell_type": "code",
   "execution_count": 16,
   "metadata": {},
   "outputs": [],
   "source": [
    "def process_mesh_facets(mesh_obj, skel_mp, eps, eps_nm, facet_area_threshold=30000):\n",
    "\n",
    "    \n",
    "    if eps.size == 1:\n",
    "        #eps_nm should therefore be reshaped\n",
    "        eps_nm = eps_nm.reshape((1,3))\n",
    "\n",
    "    #changed threshold of facets to 3000 to match changes performed on processed in analysis CELLS\n",
    "    print(\"Processing facets\")\n",
    "    #can possibly change param here\n",
    "    #threshold on size of flat area\n",
    "    locs = np.argwhere(mesh_obj.facets_area > facet_area_threshold)\n",
    "\n",
    "    mesh_map = skel_mp.mesh_to_skel_map\n",
    "    mesh_coords = mesh_obj.vertices[mesh_obj.faces]\n",
    "    mean_locs = []\n",
    "    mesh_ind = []\n",
    "    fs = []\n",
    "    for l in tqdm(locs):\n",
    "        fs.append(np.sum(mesh_obj.facets_area[l]))\n",
    "        fc = mesh_obj.facets[l[0]]\n",
    "        vert_locs = mesh_coords[fc]\n",
    "        mean_locs.append(np.mean(vert_locs[:, 0], axis=0))\n",
    "        mesh_ind.append(fc[0])\n",
    "    mesh_ind = mesh_obj.faces[mesh_ind][:, 0]\n",
    "    mean_locs = np.array(mean_locs)\n",
    "    if mean_locs.size == 0:\n",
    "        facets_send_final = np.zeros((1,3))\n",
    "        return facets_send_final\n",
    "    dists_defects_facets = np.zeros(mean_locs.shape[0])\n",
    "    mesh_map_facets = skel_mp.mesh_to_skel_map\n",
    "    closest_skel_pts_facets = mesh_map[[m for m in mesh_ind]]\n",
    "    dist_matrix_facets = distance_matrix(mean_locs, eps_nm)\n",
    "    ct = 0\n",
    "\n",
    "    closest_tip_facets = np.zeros((mean_locs.shape[0]))\n",
    "\n",
    "    for center in tqdm(mean_locs):\n",
    "\n",
    "        closest_skel_pt = closest_skel_pts_facets[ct]\n",
    "        eps_hit = []\n",
    "        ##added for error fixing\n",
    "        if eps.size == 1:\n",
    "            eps_hit.append(eps)\n",
    "        else:\n",
    "            for j, ep in enumerate(eps):\n",
    "                # if closest_skel_pt in path_to_root_dict[ep]:\n",
    "                #     eps_hit.append(j)\n",
    "                eps_hit.append(j)\n",
    "        \n",
    "            #distance from every error(facets and jagged) to every endpoint\n",
    "        if(eps.size == 1):\n",
    "            dists = dist_matrix_facets[ct]\n",
    "        else:\n",
    "            dists = dist_matrix_facets[ct, eps_hit]\n",
    "    \n",
    "        \n",
    "        amin = np.argmin(dists)\n",
    "        tip_hit = eps_hit[amin]\n",
    "        min_dist = dists[amin]\n",
    "        \n",
    "        closest_tip_facets[ct] = tip_hit\n",
    "        dists_defects_facets[ct] = min_dist\n",
    "        ct+=1\n",
    "    dists_defects_sub_facets = dists_defects_facets[dists_defects_facets < 2000]\n",
    "    sizes_sub_facets = np.array(fs)[dists_defects_facets < 2000]\n",
    "    mean_locs_facets = mean_locs[dists_defects_facets < 2000]\n",
    "    tips_hit_sub_facets = closest_tip_facets[dists_defects_facets < 2000]\n",
    "    closest_skel_pts_sub_facets = closest_skel_pts_facets[dists_defects_facets < 2000]\n",
    "    inds_sub_facets = np.arange(mean_locs.shape[0])[dists_defects_facets < 2000]\n",
    "    # ranks_ep_facets = sizes_sub_facets**2 / dists_defects_sub_facets\n",
    "    #ranks_ep_facets_filt = ranks_ep_facets[ranks_ep_facets > 2e7]\n",
    "    mean_locs_send_facets = mean_locs_facets\n",
    "    final_mask_facets = np.full(mean_locs_send_facets.shape[0], True)\n",
    "    tips_hit_send_facets = tips_hit_sub_facets\n",
    "    uns, nums = np.unique(tips_hit_send_facets, return_counts=True)\n",
    "\n",
    "    for un, num in zip(uns, nums):\n",
    "        if num > 1:\n",
    "            final_mask_facets[np.argwhere(tips_hit_send_facets == un)[1:]] = False\n",
    "    facets_send_final = mean_locs_send_facets[final_mask_facets] / [4,4,40]\n",
    "    return facets_send_final"
   ]
  },
  {
   "attachments": {},
   "cell_type": "markdown",
   "metadata": {},
   "source": [
    "### TIP FINDER FUNCTION"
   ]
  },
  {
   "cell_type": "code",
   "execution_count": 17,
   "metadata": {},
   "outputs": [],
   "source": [
    "def error_locs_defects(root_id, soma_id = None, soma_table=None, center_collapse=True):\n",
    "    mesh_obj = get_and_process_mesh(root_id)\n",
    "    if mesh_obj is None:\n",
    "        return None\n",
    "    try:\n",
    "        if soma_table==None:\n",
    "            soma_table = get_soma(str(soma_id))\n",
    "        if soma_table[soma_table.id == soma_id].shape[0] > 0:\n",
    "            center = np.array(soma_table[soma_table.id == soma_id].pt_position)[0] * [4,4,40]\n",
    "        else:\n",
    "            center=None\n",
    "    except:\n",
    "        center = None\n",
    "    print(\"Subselecting largest connected component of mesh\")\n",
    "    mesh_obj, encapsulated_ids, max_verts = process_mesh_ccs(mesh_obj)\n",
    "    \n",
    "\n",
    "    skel_mp = skeletonize.skeletonize_mesh(trimesh_io.Mesh(mesh_obj.vertices, \n",
    "                                            mesh_obj.faces),\n",
    "                                            invalidation_d=4000,\n",
    "                                            shape_function='cone',\n",
    "                                            collapse_function='branch',\n",
    "#                                             soma_radius = soma_radius,\n",
    "                                            soma_pt=center,\n",
    "                                            smooth_neighborhood=5,\n",
    "                                             cc_vertex_thresh=max_verts - 10\n",
    "#                                                     collapse_params = {'dynamic_threshold':True}\n",
    "                                            )\n",
    "    print(\"Skel done\")\n",
    "    centers, lens = process_defects(mesh_obj)\n",
    "    eps, eps_nm = process_endpoints(mesh_obj, skel_mp)\n",
    "\n",
    "    if(len(eps) == 0):\n",
    "        sorted_encapsulated_send = np.zeros((1,3))\n",
    "        facets_send_final = np.zeros((1,3))\n",
    "        errors_send = np.zeros((1,3))\n",
    "        errors_tips_send = np.zeros((1,3))\n",
    "        return sorted_encapsulated_send, facets_send_final, errors_send, errors_tips_send\n",
    "        \n",
    "    \n",
    "    if len(centers) !=0:\n",
    "        centers_errors, centers_errors_ep = process_mesh_errors(mesh_obj, centers, eps, eps_nm, lens, skel_mp)\n",
    "    else:\n",
    "        centers_errors = np.zeros ((1,3))\n",
    "        centers_errors_ep = np.zeros ((1,3))\n",
    "        ranks = np.zeros ((1))\n",
    "        ranks_ep = np.zeros((1, 3))\n",
    "        ranks_return = 0\n",
    "        ranks_ep_return = 0\n",
    "    facets_send_final = process_mesh_facets(mesh_obj, skel_mp, eps, eps_nm)\n",
    "    errors_send = centers_errors / [4,4,40]\n",
    "    errors_tips_send = centers_errors_ep / [4,4,40]\n",
    "    encapsulated_centers = [e[0] for e in encapsulated_ids]\n",
    "    encapsulated_lens = [e[1] for e in encapsulated_ids]\n",
    "    sorted_encapsulated_send = np.array(encapsulated_centers)[np.argsort(encapsulated_lens)][::-1]\n",
    "    return sorted_encapsulated_send, facets_send_final, errors_send, errors_tips_send"
   ]
  },
  {
   "attachments": {},
   "cell_type": "markdown",
   "metadata": {},
   "source": [
    "### Generating Endpoints"
   ]
  },
  {
   "cell_type": "code",
   "execution_count": 18,
   "metadata": {},
   "outputs": [],
   "source": [
    "def find_endpoints_and_counts(row):\n",
    "    from scipy.spatial import distance_matrix\n",
    "\n",
    "    seg_id = row[\"seg_id\"]\n",
    "    sorted_encapsulated_send, facets_send_final, errors_send, errors_tips_send = error_locs_defects(seg_id)\n",
    "    \n",
    "    together = np.vstack((facets_send_final, errors_tips_send))\n",
    "    if len(together) == 0 or np.all(together == 0):\n",
    "        num_points_error_tips_send = 0\n",
    "        num_points_facets_send_final = 0\n",
    "        together = np.zeros((1,3))\n",
    "        return together, num_points_error_tips_send, num_points_facets_send_final, facets_send_final, errors_tips_send\n",
    "\n",
    "    num_points_error_tips_send  = np.sum(np.all(errors_tips_send != 0, axis=1))\n",
    "    num_points_facets_send_final = np.sum(np.all(facets_send_final != 0, axis=1))\n",
    "    mask = np.sum(together, axis=1)\n",
    "    together = together[mask > 0]\n",
    "\n",
    "\n",
    "    return together, num_points_error_tips_send, num_points_facets_send_final, facets_send_final, errors_tips_send   "
   ]
  },
  {
   "cell_type": "code",
   "execution_count": 19,
   "metadata": {},
   "outputs": [],
   "source": [
    "def generate_endpoints(dataframe):\n",
    "    dataframe[\"endpoints_generated\"], dataframe[\"num_errors\"], dataframe[\"num_facets\"], dataframe[\"facets\"], dataframe[\"errors\"] = zip(*dataframe.apply(find_endpoints_and_counts, axis=1))\n",
    "    return dataframe"
   ]
  },
  {
   "attachments": {},
   "cell_type": "markdown",
   "metadata": {},
   "source": [
    "### Accuracy Function"
   ]
  },
  {
   "cell_type": "code",
   "execution_count": 39,
   "metadata": {},
   "outputs": [],
   "source": [
    "from sklearn import metrics\n",
    "def pred_eps_acc(gt_endpoints, pred_endpoints, threshold):\n",
    "    # Calculate distances\n",
    "    dist_matrix = np.array(spatial.distance.cdist(gt_endpoints, pred_endpoints, metric = 'euclidean'))\n",
    "    # Apply threshold\n",
    "    dist_matrix[dist_matrix > threshold] = 0\n",
    "    # Calculating accuracy\n",
    "    valid_eps = np.count_nonzero(dist_matrix, axis = 1)\n",
    "    #iterate through rows of distance matrix\n",
    "    row_sums = np.sum(dist_matrix, axis=1)\n",
    "\n",
    "    # CHECK HERE - len(valid_eps) should give us the same as len(gt_eps), i think we need to get number of non_zeros in valid_eps\n",
    "    # so double_counts always = 0\n",
    "    # double_counts = (len(valid_eps) - len(gt_endpoints))\n",
    "    double_counts = sum(valid_eps) - len(gt_endpoints)\n",
    "\n",
    "    if double_counts < 0:\n",
    "        double_counts = 0\n",
    "    \n",
    "    false_negatives = len(row_sums) - np.count_nonzero(row_sums) #number of zeros in row_sums\n",
    "\n",
    "    # false positives = len(pred_eps) - len(gt_eps) basically\n",
    "    # false_positives = (len(pred_endpoints) - len(valid_eps)) + double_counts # len(valid_eps) = len(gt_eps), double_counts = 0 always\n",
    "    false_positives = len(pred_endpoints) - np.count_nonzero(valid_eps) + double_counts\n",
    "\n",
    "    # true_positives = len(gt_eps) basically\n",
    "    # true_positives = len(valid_eps) - double_counts\n",
    "    # true positives => # gt_eps with at least 1 pred_ep within threshold\n",
    "    true_positives = np.count_nonzero(valid_eps)\n",
    "\n",
    "    accuracy = np.count_nonzero(valid_eps) / len(gt_endpoints) # acc = #gt eps w >= 1 valid ep/ # gt eps\n",
    "\n",
    "    # precision = True Positive / (True Positive + False Positive)\n",
    "    # precision is becoming len(gt_eps)/len(pred_eps) - len(gt_eps), which is why it's coming out to be >1\n",
    "    precision = true_positives / (true_positives + false_positives)\n",
    "\n",
    "    precision = np.count_nonzero(valid_eps)/+ len(pred_endpoints)  + double_counts\n",
    "\n",
    "\n",
    "    #recall = True Positive / (True Positive + False Negative)\n",
    "    # recall = len(gt_eps)/len(gt_eps) + #zeros in row_sums\n",
    "    recall = true_positives / (true_positives + false_negatives)\n",
    "\n",
    "\n",
    "    # F1 = 2 * ((Precision * Sensitivity) / (Precision + Sensitivity))\n",
    "    if (precision + recall == 0):\n",
    "        F1 = 0\n",
    "    else:\n",
    "        F1 = 2 * ((precision * recall) / (precision + recall))\n",
    "    return accuracy, precision, recall, F1"
   ]
  },
  {
   "attachments": {},
   "cell_type": "markdown",
   "metadata": {},
   "source": [
    "### Filtering Facets + Errors Function"
   ]
  },
  {
   "attachments": {},
   "cell_type": "markdown",
   "metadata": {},
   "source": [
    "This function iterates through the given dataframe with the generated endpoints. Sometimes an \"error\" and \"facet\" can be placed close to one another and represent the same \"true\" endpoint. This function filters any close together errors and facets and chooses only one of them to represent the true endpoint. (point closest to gt endpoint is the one chosen)"
   ]
  },
  {
   "cell_type": "code",
   "execution_count": 21,
   "metadata": {},
   "outputs": [],
   "source": [
    "def filter_facets_errors(row):\n",
    "    filtered_points = []\n",
    "    if len(row[\"endpoints_generated\"]) == 0 or np.all(row[\"endpoints_generated\"] == 0):\n",
    "        filtered_points = np.zeros((1,3))\n",
    "        return filtered_points, row[\"num_facets\"], row[\"num_errors\"], row[\"facets\"], row[\"errors\"] \n",
    "    # distance matrix calculation between all points in together\n",
    "    dists = distance_matrix(row[\"endpoints_generated\"], row[\"endpoints_generated\"], p=2)\n",
    "    #distance matrix between all points in together and true endpoints\n",
    "    dists_to_gt = distance_matrix(row[\"endpoints_generated\"], row[\"real_endpoints\"])\n",
    "    #filtered points keeps one point based on a threshold. Any other points within threshold is not kept\n",
    "    N = row[\"endpoints_generated\"].shape[0]  # Number of points\n",
    "    filtered_indices = []\n",
    "\n",
    "    for i in range(N):\n",
    "        if i in filtered_indices:\n",
    "            continue\n",
    "        keep_index = i\n",
    "        for j in range(i + 1, N):\n",
    "            if j in filtered_indices:\n",
    "                continue\n",
    "            distance = dists[i, j]\n",
    "            if distance <= 250 and distance > 0:\n",
    "                #pick the endpoint closest to the gt endpoint\n",
    "                #dist j to gt\n",
    "                min_dist = np.min(dists_to_gt[keep_index])\n",
    "                min_dist_2 = np.min(dists_to_gt[j])\n",
    "                if min_dist <= min_dist_2:\n",
    "                    #i is better than j\n",
    "                    keep_index = i\n",
    "                    filtered_indices.append(j)\n",
    "                else:\n",
    "                    #j is better than i\n",
    "                    keep_index = j\n",
    "                    filtered_indices.append(i)\n",
    "        #out of the group of clustered points, this is closest to gt so we keep it and filter others out\n",
    "        filtered_points.append(row[\"endpoints_generated\"][keep_index])\n",
    "        \n",
    "    filtered_points = np.array(filtered_points)\n",
    "    filtered_points = np.unique(filtered_points, axis = 0)\n",
    "\n",
    "    if len(filtered_points) == 0:\n",
    "        filtered_points =filtered_points.reshape((0, 3))\n",
    "\n",
    "    #update the num_errors\tnum_facets\tfacets\terrors\n",
    "    for index in filtered_indices:\n",
    "        if np.isin(row[\"endpoints_generated\"][index], row[\"errors\"]).any():\n",
    "            #remove errors and decremeent count\n",
    "            row[\"errors\"] = row[\"errors\"][row[\"errors\"] != row[\"endpoints_generated\"][index]]\n",
    "            row[\"num_errors\"] = row[\"num_errors\"] - 1\n",
    "        else:\n",
    "            #remove from facets and decrement count\n",
    "            row[\"facets\"] = row[\"facets\"][row[\"facets\"] != row[\"endpoints_generated\"][index]]\n",
    "            row[\"num_facets\"] = row[\"num_facets\"] - 1\n",
    "\n",
    "    return filtered_points, row[\"num_facets\"], row[\"num_errors\"], row[\"facets\"], row[\"errors\"]"
   ]
  },
  {
   "attachments": {},
   "cell_type": "markdown",
   "metadata": {},
   "source": [
    "### Testing On Orphans"
   ]
  },
  {
   "cell_type": "code",
   "execution_count": 22,
   "metadata": {},
   "outputs": [
    {
     "name": "stdout",
     "output_type": "stream",
     "text": [
      "Downloading Mesh\n",
      "Warning: deduplication not currently supported for this layer's variable layered draco meshes\n",
      "Vertices:  7993\n",
      "Subselecting largest connected component of mesh\n",
      "Processing CC's\n"
     ]
    },
    {
     "name": "stderr",
     "output_type": "stream",
     "text": [
      "100%|██████████| 7992/7992 [00:00<00:00, 758390.90it/s]\n"
     ]
    },
    {
     "name": "stdout",
     "output_type": "stream",
     "text": [
      "Skel done\n"
     ]
    },
    {
     "name": "stderr",
     "output_type": "stream",
     "text": [
      "100%|██████████| 26/26 [00:00<00:00, 67150.19it/s]\n"
     ]
    },
    {
     "name": "stdout",
     "output_type": "stream",
     "text": [
      "Processing facets\n"
     ]
    },
    {
     "name": "stderr",
     "output_type": "stream",
     "text": [
      "100%|██████████| 17/17 [00:00<00:00, 6938.81it/s]\n",
      "100%|██████████| 17/17 [00:00<00:00, 26805.70it/s]\n"
     ]
    },
    {
     "name": "stdout",
     "output_type": "stream",
     "text": [
      "Downloading Mesh\n",
      "Warning: deduplication not currently supported for this layer's variable layered draco meshes\n",
      "Vertices:  21335\n",
      "Subselecting largest connected component of mesh\n",
      "Processing CC's\n"
     ]
    },
    {
     "name": "stderr",
     "output_type": "stream",
     "text": [
      "100%|██████████| 21334/21334 [00:00<00:00, 568604.45it/s]\n"
     ]
    },
    {
     "name": "stdout",
     "output_type": "stream",
     "text": [
      "Skel done\n"
     ]
    },
    {
     "name": "stderr",
     "output_type": "stream",
     "text": [
      "100%|██████████| 86/86 [00:00<00:00, 144515.28it/s]\n"
     ]
    },
    {
     "name": "stdout",
     "output_type": "stream",
     "text": [
      "Processing mesh errors\n"
     ]
    },
    {
     "name": "stderr",
     "output_type": "stream",
     "text": [
      "100%|██████████| 2/2 [00:00<00:00, 5394.60it/s]"
     ]
    },
    {
     "name": "stdout",
     "output_type": "stream",
     "text": [
      "Processing facets\n"
     ]
    },
    {
     "name": "stderr",
     "output_type": "stream",
     "text": [
      "\n",
      "100%|██████████| 89/89 [00:00<00:00, 4342.08it/s]\n",
      "100%|██████████| 89/89 [00:00<00:00, 33246.62it/s]\n"
     ]
    },
    {
     "name": "stdout",
     "output_type": "stream",
     "text": [
      "Downloading Mesh\n",
      "Warning: deduplication not currently supported for this layer's variable layered draco meshes\n",
      "Vertices:  2282\n",
      "Subselecting largest connected component of mesh\n",
      "Processing CC's\n"
     ]
    },
    {
     "name": "stderr",
     "output_type": "stream",
     "text": [
      "100%|██████████| 2281/2281 [00:00<00:00, 385774.49it/s]\n"
     ]
    },
    {
     "name": "stdout",
     "output_type": "stream",
     "text": [
      "Skel done\n"
     ]
    },
    {
     "name": "stderr",
     "output_type": "stream",
     "text": [
      "100%|██████████| 11/11 [00:00<00:00, 61846.31it/s]\n"
     ]
    },
    {
     "name": "stdout",
     "output_type": "stream",
     "text": [
      "Downloading Mesh\n",
      "Warning: deduplication not currently supported for this layer's variable layered draco meshes\n",
      "Vertices:  185182\n",
      "Subselecting largest connected component of mesh\n",
      "Processing CC's\n"
     ]
    },
    {
     "name": "stderr",
     "output_type": "stream",
     "text": [
      "Mesh is non-watertight for contained point query!\n",
      "Mesh is non-watertight for contained point query!\n",
      "Mesh is non-watertight for contained point query!\n",
      "Mesh is non-watertight for contained point query!\n",
      "Mesh is non-watertight for contained point query!\n",
      "Mesh is non-watertight for contained point query!\n",
      "Mesh is non-watertight for contained point query!\n",
      "Mesh is non-watertight for contained point query!\n",
      "Mesh is non-watertight for contained point query!\n",
      "Mesh is non-watertight for contained point query!\n",
      "Mesh is non-watertight for contained point query!\n",
      "Mesh is non-watertight for contained point query!\n",
      "Mesh is non-watertight for contained point query!\n",
      "Mesh is non-watertight for contained point query!\n",
      "Mesh is non-watertight for contained point query!\n",
      "Mesh is non-watertight for contained point query!\n",
      "Mesh is non-watertight for contained point query!\n",
      "Mesh is non-watertight for contained point query!\n",
      "Mesh is non-watertight for contained point query!\n",
      "Mesh is non-watertight for contained point query!\n",
      "Mesh is non-watertight for contained point query!\n",
      "Mesh is non-watertight for contained point query!\n",
      "Mesh is non-watertight for contained point query!\n",
      "Mesh is non-watertight for contained point query!\n",
      "Mesh is non-watertight for contained point query!\n",
      "Mesh is non-watertight for contained point query!\n",
      "Mesh is non-watertight for contained point query!\n",
      "Mesh is non-watertight for contained point query!\n",
      "Mesh is non-watertight for contained point query!\n",
      "Mesh is non-watertight for contained point query!\n",
      "Mesh is non-watertight for contained point query!\n",
      "Mesh is non-watertight for contained point query!\n",
      "Mesh is non-watertight for contained point query!\n",
      "Mesh is non-watertight for contained point query!\n",
      "Mesh is non-watertight for contained point query!\n",
      "Mesh is non-watertight for contained point query!\n",
      "Mesh is non-watertight for contained point query!\n",
      "Mesh is non-watertight for contained point query!\n",
      "Mesh is non-watertight for contained point query!\n",
      "Mesh is non-watertight for contained point query!\n",
      "Mesh is non-watertight for contained point query!\n",
      "Mesh is non-watertight for contained point query!\n",
      "Mesh is non-watertight for contained point query!\n",
      "Mesh is non-watertight for contained point query!\n",
      "Mesh is non-watertight for contained point query!\n",
      "Mesh is non-watertight for contained point query!\n",
      "Mesh is non-watertight for contained point query!\n",
      "100%|██████████| 184108/184108 [00:01<00:00, 168471.97it/s]\n"
     ]
    },
    {
     "name": "stdout",
     "output_type": "stream",
     "text": [
      "Skel done\n"
     ]
    },
    {
     "name": "stderr",
     "output_type": "stream",
     "text": [
      "100%|██████████| 785/785 [00:00<00:00, 175892.34it/s]\n"
     ]
    },
    {
     "name": "stdout",
     "output_type": "stream",
     "text": [
      "Processing mesh errors\n"
     ]
    },
    {
     "name": "stderr",
     "output_type": "stream",
     "text": [
      "100%|██████████| 48/48 [00:00<00:00, 25824.34it/s]\n"
     ]
    },
    {
     "name": "stdout",
     "output_type": "stream",
     "text": [
      "Processing facets\n"
     ]
    },
    {
     "name": "stderr",
     "output_type": "stream",
     "text": [
      "100%|██████████| 1002/1002 [00:00<00:00, 21125.43it/s]\n",
      "100%|██████████| 1002/1002 [00:00<00:00, 62473.13it/s]\n"
     ]
    },
    {
     "name": "stdout",
     "output_type": "stream",
     "text": [
      "Downloading Mesh\n",
      "Warning: deduplication not currently supported for this layer's variable layered draco meshes\n",
      "Vertices:  234\n",
      "Subselecting largest connected component of mesh\n",
      "Processing CC's\n"
     ]
    },
    {
     "name": "stderr",
     "output_type": "stream",
     "text": [
      "100%|██████████| 233/233 [00:00<00:00, 117971.13it/s]\n"
     ]
    },
    {
     "name": "stdout",
     "output_type": "stream",
     "text": [
      "Skel done\n"
     ]
    },
    {
     "name": "stderr",
     "output_type": "stream",
     "text": [
      "100%|██████████| 2/2 [00:00<00:00, 15279.80it/s]\n"
     ]
    },
    {
     "name": "stdout",
     "output_type": "stream",
     "text": [
      "Downloading Mesh\n",
      "Warning: deduplication not currently supported for this layer's variable layered draco meshes\n",
      "Vertices:  1451\n",
      "Subselecting largest connected component of mesh\n",
      "Processing CC's\n"
     ]
    },
    {
     "name": "stderr",
     "output_type": "stream",
     "text": [
      "100%|██████████| 1450/1450 [00:00<00:00, 370747.43it/s]\n"
     ]
    },
    {
     "name": "stdout",
     "output_type": "stream",
     "text": [
      "Skel done\n"
     ]
    },
    {
     "name": "stderr",
     "output_type": "stream",
     "text": [
      "100%|██████████| 6/6 [00:00<00:00, 31068.92it/s]\n"
     ]
    },
    {
     "name": "stdout",
     "output_type": "stream",
     "text": [
      "Downloading Mesh\n",
      "Warning: deduplication not currently supported for this layer's variable layered draco meshes\n",
      "Vertices:  1180\n",
      "Subselecting largest connected component of mesh\n",
      "Processing CC's\n"
     ]
    },
    {
     "name": "stderr",
     "output_type": "stream",
     "text": [
      "100%|██████████| 1179/1179 [00:00<00:00, 271976.92it/s]\n"
     ]
    },
    {
     "name": "stdout",
     "output_type": "stream",
     "text": [
      "Skel done\n"
     ]
    },
    {
     "name": "stderr",
     "output_type": "stream",
     "text": [
      "100%|██████████| 9/9 [00:00<00:00, 57368.90it/s]\n"
     ]
    },
    {
     "name": "stdout",
     "output_type": "stream",
     "text": [
      "Processing mesh errors\n"
     ]
    },
    {
     "name": "stderr",
     "output_type": "stream",
     "text": [
      "100%|██████████| 1/1 [00:00<00:00, 6853.44it/s]\n"
     ]
    },
    {
     "name": "stdout",
     "output_type": "stream",
     "text": [
      "Processing facets\n"
     ]
    },
    {
     "name": "stderr",
     "output_type": "stream",
     "text": [
      "100%|██████████| 9/9 [00:00<00:00, 3709.58it/s]\n",
      "100%|██████████| 9/9 [00:00<00:00, 19074.65it/s]\n"
     ]
    },
    {
     "name": "stdout",
     "output_type": "stream",
     "text": [
      "Downloading Mesh\n",
      "Warning: deduplication not currently supported for this layer's variable layered draco meshes\n",
      "Vertices:  68105\n",
      "Subselecting largest connected component of mesh\n",
      "Processing CC's\n"
     ]
    },
    {
     "name": "stderr",
     "output_type": "stream",
     "text": [
      "Mesh is non-watertight for contained point query!\n",
      "Mesh is non-watertight for contained point query!\n",
      "Mesh is non-watertight for contained point query!\n",
      "Mesh is non-watertight for contained point query!\n",
      "Mesh is non-watertight for contained point query!\n",
      "100%|██████████| 68066/68066 [00:01<00:00, 65400.30it/s] \n"
     ]
    },
    {
     "name": "stdout",
     "output_type": "stream",
     "text": [
      "Skel done\n"
     ]
    },
    {
     "name": "stderr",
     "output_type": "stream",
     "text": [
      "100%|██████████| 428/428 [00:00<00:00, 170189.81it/s]\n"
     ]
    },
    {
     "name": "stdout",
     "output_type": "stream",
     "text": [
      "Processing mesh errors\n"
     ]
    },
    {
     "name": "stderr",
     "output_type": "stream",
     "text": [
      "100%|██████████| 41/41 [00:00<00:00, 20530.86it/s]\n"
     ]
    },
    {
     "name": "stdout",
     "output_type": "stream",
     "text": [
      "Processing facets\n"
     ]
    },
    {
     "name": "stderr",
     "output_type": "stream",
     "text": [
      "100%|██████████| 328/328 [00:00<00:00, 17874.77it/s]\n",
      "100%|██████████| 328/328 [00:00<00:00, 30870.23it/s]\n"
     ]
    },
    {
     "name": "stdout",
     "output_type": "stream",
     "text": [
      "Downloading Mesh\n",
      "Warning: deduplication not currently supported for this layer's variable layered draco meshes\n",
      "Vertices:  677\n",
      "Subselecting largest connected component of mesh\n",
      "Processing CC's\n"
     ]
    },
    {
     "name": "stderr",
     "output_type": "stream",
     "text": [
      "100%|██████████| 676/676 [00:00<00:00, 140155.68it/s]\n"
     ]
    },
    {
     "name": "stdout",
     "output_type": "stream",
     "text": [
      "Skel done\n"
     ]
    },
    {
     "name": "stderr",
     "output_type": "stream",
     "text": [
      "100%|██████████| 4/4 [00:00<00:00, 3098.29it/s]\n"
     ]
    },
    {
     "name": "stdout",
     "output_type": "stream",
     "text": [
      "Downloading Mesh\n",
      "Warning: deduplication not currently supported for this layer's variable layered draco meshes\n",
      "Vertices:  11725\n",
      "Subselecting largest connected component of mesh\n",
      "Processing CC's\n"
     ]
    },
    {
     "name": "stderr",
     "output_type": "stream",
     "text": [
      "100%|██████████| 11724/11724 [00:00<00:00, 359167.78it/s]\n"
     ]
    },
    {
     "name": "stdout",
     "output_type": "stream",
     "text": [
      "Skel done\n"
     ]
    },
    {
     "name": "stderr",
     "output_type": "stream",
     "text": [
      "100%|██████████| 44/44 [00:00<00:00, 88006.38it/s]\n"
     ]
    },
    {
     "name": "stdout",
     "output_type": "stream",
     "text": [
      "Processing mesh errors\n"
     ]
    },
    {
     "name": "stderr",
     "output_type": "stream",
     "text": [
      "100%|██████████| 3/3 [00:00<00:00, 13950.01it/s]\n"
     ]
    },
    {
     "name": "stdout",
     "output_type": "stream",
     "text": [
      "Processing facets\n"
     ]
    },
    {
     "name": "stderr",
     "output_type": "stream",
     "text": [
      "100%|██████████| 47/47 [00:00<00:00, 11260.20it/s]\n",
      "100%|██████████| 47/47 [00:00<00:00, 28698.83it/s]\n"
     ]
    },
    {
     "name": "stdout",
     "output_type": "stream",
     "text": [
      "Downloading Mesh\n",
      "Warning: deduplication not currently supported for this layer's variable layered draco meshes\n",
      "Vertices:  14714\n"
     ]
    },
    {
     "name": "stderr",
     "output_type": "stream",
     "text": [
      "Mesh is non-watertight for contained point query!\n",
      "Mesh is non-watertight for contained point query!\n",
      "Mesh is non-watertight for contained point query!\n",
      "Mesh is non-watertight for contained point query!\n",
      "Mesh is non-watertight for contained point query!\n"
     ]
    },
    {
     "name": "stdout",
     "output_type": "stream",
     "text": [
      "Subselecting largest connected component of mesh\n",
      "Processing CC's\n"
     ]
    },
    {
     "name": "stderr",
     "output_type": "stream",
     "text": [
      "100%|██████████| 14505/14505 [00:00<00:00, 738159.64it/s]\n"
     ]
    },
    {
     "name": "stdout",
     "output_type": "stream",
     "text": [
      "Skel done\n"
     ]
    },
    {
     "name": "stderr",
     "output_type": "stream",
     "text": [
      "100%|██████████| 91/91 [00:00<00:00, 106199.68it/s]\n"
     ]
    },
    {
     "name": "stdout",
     "output_type": "stream",
     "text": [
      "Processing mesh errors\n"
     ]
    },
    {
     "name": "stderr",
     "output_type": "stream",
     "text": [
      "100%|██████████| 9/9 [00:00<00:00, 18360.28it/s]\n"
     ]
    },
    {
     "name": "stdout",
     "output_type": "stream",
     "text": [
      "Processing facets\n"
     ]
    },
    {
     "name": "stderr",
     "output_type": "stream",
     "text": [
      "100%|██████████| 52/52 [00:00<00:00, 9132.56it/s]\n",
      "100%|██████████| 52/52 [00:00<00:00, 14981.72it/s]\n"
     ]
    },
    {
     "name": "stdout",
     "output_type": "stream",
     "text": [
      "Downloading Mesh\n",
      "Warning: deduplication not currently supported for this layer's variable layered draco meshes\n",
      "Vertices:  24966\n",
      "Subselecting largest connected component of mesh\n",
      "Processing CC's\n"
     ]
    },
    {
     "name": "stderr",
     "output_type": "stream",
     "text": [
      "100%|██████████| 24965/24965 [00:00<00:00, 442078.86it/s]\n"
     ]
    },
    {
     "name": "stdout",
     "output_type": "stream",
     "text": [
      "Skel done\n"
     ]
    },
    {
     "name": "stderr",
     "output_type": "stream",
     "text": [
      "100%|██████████| 158/158 [00:00<00:00, 147266.67it/s]\n"
     ]
    },
    {
     "name": "stdout",
     "output_type": "stream",
     "text": [
      "Processing mesh errors\n"
     ]
    },
    {
     "name": "stderr",
     "output_type": "stream",
     "text": [
      "100%|██████████| 11/11 [00:00<00:00, 40901.90it/s]\n"
     ]
    },
    {
     "name": "stdout",
     "output_type": "stream",
     "text": [
      "Processing facets\n"
     ]
    },
    {
     "name": "stderr",
     "output_type": "stream",
     "text": [
      "100%|██████████| 89/89 [00:00<00:00, 8186.97it/s]\n",
      "100%|██████████| 89/89 [00:00<00:00, 32926.97it/s]\n"
     ]
    },
    {
     "name": "stdout",
     "output_type": "stream",
     "text": [
      "Downloading Mesh\n",
      "Warning: deduplication not currently supported for this layer's variable layered draco meshes\n",
      "Vertices:  23312\n"
     ]
    },
    {
     "name": "stderr",
     "output_type": "stream",
     "text": [
      "Mesh is non-watertight for contained point query!\n"
     ]
    },
    {
     "name": "stdout",
     "output_type": "stream",
     "text": [
      "Subselecting largest connected component of mesh\n",
      "Processing CC's\n"
     ]
    },
    {
     "name": "stderr",
     "output_type": "stream",
     "text": [
      "Mesh is non-watertight for contained point query!\n",
      "Mesh is non-watertight for contained point query!\n",
      "Mesh is non-watertight for contained point query!\n",
      "Mesh is non-watertight for contained point query!\n",
      "Mesh is non-watertight for contained point query!\n",
      "100%|██████████| 23105/23105 [00:00<00:00, 384808.46it/s]\n"
     ]
    },
    {
     "name": "stdout",
     "output_type": "stream",
     "text": [
      "Skel done\n"
     ]
    },
    {
     "name": "stderr",
     "output_type": "stream",
     "text": [
      "100%|██████████| 168/168 [00:00<00:00, 162322.75it/s]\n"
     ]
    },
    {
     "name": "stdout",
     "output_type": "stream",
     "text": [
      "Processing mesh errors\n"
     ]
    },
    {
     "name": "stderr",
     "output_type": "stream",
     "text": [
      "100%|██████████| 13/13 [00:00<00:00, 27847.78it/s]"
     ]
    },
    {
     "name": "stdout",
     "output_type": "stream",
     "text": [
      "Processing facets\n"
     ]
    },
    {
     "name": "stderr",
     "output_type": "stream",
     "text": [
      "\n",
      "100%|██████████| 71/71 [00:00<00:00, 14396.00it/s]\n",
      "100%|██████████| 71/71 [00:00<00:00, 36263.47it/s]\n"
     ]
    },
    {
     "name": "stdout",
     "output_type": "stream",
     "text": [
      "Downloading Mesh\n",
      "Warning: deduplication not currently supported for this layer's variable layered draco meshes\n",
      "Vertices:  171\n",
      "Subselecting largest connected component of mesh\n",
      "Processing CC's\n"
     ]
    },
    {
     "name": "stderr",
     "output_type": "stream",
     "text": [
      "100%|██████████| 170/170 [00:00<00:00, 56815.27it/s]\n"
     ]
    },
    {
     "name": "stdout",
     "output_type": "stream",
     "text": [
      "Skel done\n"
     ]
    },
    {
     "name": "stderr",
     "output_type": "stream",
     "text": [
      "100%|██████████| 1/1 [00:00<00:00, 2695.57it/s]\n"
     ]
    },
    {
     "name": "stdout",
     "output_type": "stream",
     "text": [
      "Downloading Mesh\n",
      "Warning: deduplication not currently supported for this layer's variable layered draco meshes\n",
      "Vertices:  316\n",
      "Subselecting largest connected component of mesh\n",
      "Processing CC's\n"
     ]
    },
    {
     "name": "stderr",
     "output_type": "stream",
     "text": [
      "100%|██████████| 315/315 [00:00<00:00, 143640.55it/s]\n"
     ]
    },
    {
     "name": "stdout",
     "output_type": "stream",
     "text": [
      "Skel done\n"
     ]
    },
    {
     "name": "stderr",
     "output_type": "stream",
     "text": [
      "100%|██████████| 2/2 [00:00<00:00, 14614.30it/s]\n"
     ]
    },
    {
     "name": "stdout",
     "output_type": "stream",
     "text": [
      "Downloading Mesh\n",
      "Warning: deduplication not currently supported for this layer's variable layered draco meshes\n",
      "Vertices:  2490\n",
      "Subselecting largest connected component of mesh\n",
      "Processing CC's\n"
     ]
    },
    {
     "name": "stderr",
     "output_type": "stream",
     "text": [
      "100%|██████████| 2489/2489 [00:00<00:00, 370949.18it/s]\n"
     ]
    },
    {
     "name": "stdout",
     "output_type": "stream",
     "text": [
      "Skel done\n"
     ]
    },
    {
     "name": "stderr",
     "output_type": "stream",
     "text": [
      "100%|██████████| 21/21 [00:00<00:00, 55292.14it/s]\n",
      "Mesh is non-watertight for contained point query!\n"
     ]
    },
    {
     "name": "stdout",
     "output_type": "stream",
     "text": [
      "Processing mesh errors\n"
     ]
    },
    {
     "name": "stderr",
     "output_type": "stream",
     "text": [
      "100%|██████████| 2/2 [00:00<00:00, 9478.65it/s]\n"
     ]
    },
    {
     "name": "stdout",
     "output_type": "stream",
     "text": [
      "Processing facets\n"
     ]
    },
    {
     "name": "stderr",
     "output_type": "stream",
     "text": [
      "100%|██████████| 5/5 [00:00<00:00, 3291.72it/s]\n",
      "100%|██████████| 5/5 [00:00<00:00, 12379.88it/s]\n"
     ]
    },
    {
     "name": "stdout",
     "output_type": "stream",
     "text": [
      "Downloading Mesh\n",
      "Warning: deduplication not currently supported for this layer's variable layered draco meshes\n",
      "Vertices:  67\n",
      "Subselecting largest connected component of mesh\n",
      "Processing CC's\n"
     ]
    },
    {
     "name": "stderr",
     "output_type": "stream",
     "text": [
      "100%|██████████| 66/66 [00:00<00:00, 39265.82it/s]\n"
     ]
    },
    {
     "name": "stdout",
     "output_type": "stream",
     "text": [
      "Skel done\n"
     ]
    },
    {
     "name": "stderr",
     "output_type": "stream",
     "text": [
      "0it [00:00, ?it/s]\n"
     ]
    },
    {
     "name": "stdout",
     "output_type": "stream",
     "text": [
      "Downloading Mesh\n",
      "Warning: deduplication not currently supported for this layer's variable layered draco meshes\n",
      "Vertices:  167\n",
      "Subselecting largest connected component of mesh\n",
      "Processing CC's\n"
     ]
    },
    {
     "name": "stderr",
     "output_type": "stream",
     "text": [
      "100%|██████████| 166/166 [00:00<00:00, 71579.57it/s]\n"
     ]
    },
    {
     "name": "stdout",
     "output_type": "stream",
     "text": [
      "Skel done\n"
     ]
    },
    {
     "name": "stderr",
     "output_type": "stream",
     "text": [
      "100%|██████████| 3/3 [00:00<00:00, 16958.10it/s]\n"
     ]
    },
    {
     "name": "stdout",
     "output_type": "stream",
     "text": [
      "Downloading Mesh\n",
      "Warning: deduplication not currently supported for this layer's variable layered draco meshes\n",
      "Vertices:  413\n",
      "Subselecting largest connected component of mesh\n",
      "Processing CC's\n"
     ]
    },
    {
     "name": "stderr",
     "output_type": "stream",
     "text": [
      "100%|██████████| 412/412 [00:00<00:00, 167155.47it/s]\n"
     ]
    },
    {
     "name": "stdout",
     "output_type": "stream",
     "text": [
      "Skel done\n"
     ]
    },
    {
     "name": "stderr",
     "output_type": "stream",
     "text": [
      "100%|██████████| 2/2 [00:00<00:00, 10810.06it/s]\n"
     ]
    },
    {
     "name": "stdout",
     "output_type": "stream",
     "text": [
      "Downloading Mesh\n",
      "Warning: deduplication not currently supported for this layer's variable layered draco meshes\n",
      "Vertices:  46191\n",
      "Subselecting largest connected component of mesh\n",
      "Processing CC's\n"
     ]
    },
    {
     "name": "stderr",
     "output_type": "stream",
     "text": [
      "Mesh is non-watertight for contained point query!\n",
      "Mesh is non-watertight for contained point query!\n",
      "100%|██████████| 46171/46171 [00:00<00:00, 294128.24it/s]\n"
     ]
    },
    {
     "name": "stdout",
     "output_type": "stream",
     "text": [
      "Skel done\n"
     ]
    },
    {
     "name": "stderr",
     "output_type": "stream",
     "text": [
      "100%|██████████| 199/199 [00:00<00:00, 190085.74it/s]\n"
     ]
    },
    {
     "name": "stdout",
     "output_type": "stream",
     "text": [
      "Processing mesh errors\n"
     ]
    },
    {
     "name": "stderr",
     "output_type": "stream",
     "text": [
      "100%|██████████| 17/17 [00:00<00:00, 24146.01it/s]\n"
     ]
    },
    {
     "name": "stdout",
     "output_type": "stream",
     "text": [
      "Processing facets\n"
     ]
    },
    {
     "name": "stderr",
     "output_type": "stream",
     "text": [
      "100%|██████████| 141/141 [00:00<00:00, 12607.05it/s]\n",
      "100%|██████████| 141/141 [00:00<00:00, 51158.90it/s]\n"
     ]
    },
    {
     "name": "stdout",
     "output_type": "stream",
     "text": [
      "Downloading Mesh\n",
      "Warning: deduplication not currently supported for this layer's variable layered draco meshes\n",
      "Vertices:  7233\n",
      "Subselecting largest connected component of mesh\n",
      "Processing CC's\n"
     ]
    },
    {
     "name": "stderr",
     "output_type": "stream",
     "text": [
      "100%|██████████| 7232/7232 [00:00<00:00, 682135.62it/s]\n"
     ]
    },
    {
     "name": "stdout",
     "output_type": "stream",
     "text": [
      "Skel done\n"
     ]
    },
    {
     "name": "stderr",
     "output_type": "stream",
     "text": [
      "100%|██████████| 50/50 [00:00<00:00, 112871.47it/s]\n"
     ]
    },
    {
     "name": "stdout",
     "output_type": "stream",
     "text": [
      "Processing facets\n"
     ]
    },
    {
     "name": "stderr",
     "output_type": "stream",
     "text": [
      "100%|██████████| 6/6 [00:00<00:00, 3908.95it/s]\n",
      "100%|██████████| 6/6 [00:00<00:00, 16480.57it/s]\n"
     ]
    },
    {
     "name": "stdout",
     "output_type": "stream",
     "text": [
      "Downloading Mesh\n",
      "Warning: deduplication not currently supported for this layer's variable layered draco meshes\n",
      "Vertices:  80\n",
      "Subselecting largest connected component of mesh\n",
      "Processing CC's\n"
     ]
    },
    {
     "name": "stderr",
     "output_type": "stream",
     "text": [
      "100%|██████████| 79/79 [00:00<00:00, 19137.69it/s]\n"
     ]
    },
    {
     "name": "stdout",
     "output_type": "stream",
     "text": [
      "Skel done\n"
     ]
    },
    {
     "name": "stderr",
     "output_type": "stream",
     "text": [
      "100%|██████████| 1/1 [00:00<00:00, 794.38it/s]\n"
     ]
    },
    {
     "name": "stdout",
     "output_type": "stream",
     "text": [
      "Downloading Mesh\n",
      "Warning: deduplication not currently supported for this layer's variable layered draco meshes\n",
      "Vertices:  1113\n",
      "Subselecting largest connected component of mesh\n",
      "Processing CC's\n"
     ]
    },
    {
     "name": "stderr",
     "output_type": "stream",
     "text": [
      "100%|██████████| 1112/1112 [00:00<00:00, 298767.92it/s]\n"
     ]
    },
    {
     "name": "stdout",
     "output_type": "stream",
     "text": [
      "Skel done\n"
     ]
    },
    {
     "name": "stderr",
     "output_type": "stream",
     "text": [
      "100%|██████████| 3/3 [00:00<00:00, 8289.14it/s]\n"
     ]
    },
    {
     "name": "stdout",
     "output_type": "stream",
     "text": [
      "Downloading Mesh\n",
      "Warning: deduplication not currently supported for this layer's variable layered draco meshes\n",
      "Vertices:  2238\n",
      "Subselecting largest connected component of mesh\n",
      "Processing CC's\n"
     ]
    },
    {
     "name": "stderr",
     "output_type": "stream",
     "text": [
      "100%|██████████| 2237/2237 [00:00<00:00, 94177.86it/s]\n"
     ]
    },
    {
     "name": "stdout",
     "output_type": "stream",
     "text": [
      "Skel done\n"
     ]
    },
    {
     "name": "stderr",
     "output_type": "stream",
     "text": [
      "100%|██████████| 8/8 [00:00<00:00, 25285.93it/s]\n"
     ]
    },
    {
     "name": "stdout",
     "output_type": "stream",
     "text": [
      "Processing mesh errors\n"
     ]
    },
    {
     "name": "stderr",
     "output_type": "stream",
     "text": [
      "100%|██████████| 1/1 [00:00<00:00, 7244.05it/s]\n"
     ]
    },
    {
     "name": "stdout",
     "output_type": "stream",
     "text": [
      "Processing facets\n"
     ]
    },
    {
     "name": "stderr",
     "output_type": "stream",
     "text": [
      "100%|██████████| 8/8 [00:00<00:00, 4837.72it/s]\n",
      "100%|██████████| 8/8 [00:00<00:00, 23253.24it/s]\n"
     ]
    },
    {
     "name": "stdout",
     "output_type": "stream",
     "text": [
      "Downloading Mesh\n",
      "Warning: deduplication not currently supported for this layer's variable layered draco meshes\n",
      "Vertices:  7187\n",
      "Subselecting largest connected component of mesh\n",
      "Processing CC's\n"
     ]
    },
    {
     "name": "stderr",
     "output_type": "stream",
     "text": [
      "100%|██████████| 7186/7186 [00:00<00:00, 607336.10it/s]\n"
     ]
    },
    {
     "name": "stdout",
     "output_type": "stream",
     "text": [
      "Skel done\n"
     ]
    },
    {
     "name": "stderr",
     "output_type": "stream",
     "text": [
      "100%|██████████| 39/39 [00:00<00:00, 94172.63it/s]\n"
     ]
    },
    {
     "name": "stdout",
     "output_type": "stream",
     "text": [
      "Processing facets\n"
     ]
    },
    {
     "name": "stderr",
     "output_type": "stream",
     "text": [
      "100%|██████████| 10/10 [00:00<00:00, 4780.92it/s]\n",
      "100%|██████████| 10/10 [00:00<00:00, 17571.45it/s]\n"
     ]
    },
    {
     "name": "stdout",
     "output_type": "stream",
     "text": [
      "Downloading Mesh\n",
      "Warning: deduplication not currently supported for this layer's variable layered draco meshes\n",
      "Vertices:  460\n",
      "Subselecting largest connected component of mesh\n",
      "Processing CC's\n"
     ]
    },
    {
     "name": "stderr",
     "output_type": "stream",
     "text": [
      "100%|██████████| 459/459 [00:00<00:00, 94196.38it/s]\n"
     ]
    },
    {
     "name": "stdout",
     "output_type": "stream",
     "text": [
      "Skel done\n"
     ]
    },
    {
     "name": "stderr",
     "output_type": "stream",
     "text": [
      "100%|██████████| 2/2 [00:00<00:00, 6775.94it/s]\n"
     ]
    },
    {
     "name": "stdout",
     "output_type": "stream",
     "text": [
      "Downloading Mesh\n",
      "Warning: deduplication not currently supported for this layer's variable layered draco meshes\n",
      "Vertices:  2808\n",
      "Subselecting largest connected component of mesh\n",
      "Processing CC's\n"
     ]
    },
    {
     "name": "stderr",
     "output_type": "stream",
     "text": [
      "100%|██████████| 2807/2807 [00:00<00:00, 502857.87it/s]\n"
     ]
    },
    {
     "name": "stdout",
     "output_type": "stream",
     "text": [
      "Skel done\n"
     ]
    },
    {
     "name": "stderr",
     "output_type": "stream",
     "text": [
      "100%|██████████| 23/23 [00:00<00:00, 95798.40it/s]\n",
      "Mesh is non-watertight for contained point query!\n"
     ]
    },
    {
     "name": "stdout",
     "output_type": "stream",
     "text": [
      "Processing facets\n"
     ]
    },
    {
     "name": "stderr",
     "output_type": "stream",
     "text": [
      "100%|██████████| 27/27 [00:00<00:00, 7771.49it/s]\n",
      "100%|██████████| 27/27 [00:00<00:00, 32560.73it/s]\n"
     ]
    },
    {
     "name": "stdout",
     "output_type": "stream",
     "text": [
      "Downloading Mesh\n",
      "Warning: deduplication not currently supported for this layer's variable layered draco meshes\n",
      "Vertices:  54\n",
      "Subselecting largest connected component of mesh\n",
      "Processing CC's\n"
     ]
    },
    {
     "name": "stderr",
     "output_type": "stream",
     "text": [
      "100%|██████████| 53/53 [00:00<00:00, 22903.16it/s]\n"
     ]
    },
    {
     "name": "stdout",
     "output_type": "stream",
     "text": [
      "Skel done\n"
     ]
    },
    {
     "name": "stderr",
     "output_type": "stream",
     "text": [
      "100%|██████████| 1/1 [00:00<00:00, 5289.16it/s]\n"
     ]
    },
    {
     "name": "stdout",
     "output_type": "stream",
     "text": [
      "Downloading Mesh\n",
      "Warning: deduplication not currently supported for this layer's variable layered draco meshes\n",
      "Vertices:  3001\n",
      "Subselecting largest connected component of mesh\n",
      "Processing CC's\n"
     ]
    },
    {
     "name": "stderr",
     "output_type": "stream",
     "text": [
      "100%|██████████| 3000/3000 [00:00<00:00, 506680.84it/s]\n"
     ]
    },
    {
     "name": "stdout",
     "output_type": "stream",
     "text": [
      "Skel done\n"
     ]
    },
    {
     "name": "stderr",
     "output_type": "stream",
     "text": [
      "100%|██████████| 5/5 [00:00<00:00, 45789.34it/s]\n",
      "Mesh is non-watertight for contained point query!\n"
     ]
    },
    {
     "name": "stdout",
     "output_type": "stream",
     "text": [
      "Processing facets\n"
     ]
    },
    {
     "name": "stderr",
     "output_type": "stream",
     "text": [
      "100%|██████████| 10/10 [00:00<00:00, 4522.65it/s]\n",
      "100%|██████████| 10/10 [00:00<00:00, 20919.22it/s]\n"
     ]
    },
    {
     "name": "stdout",
     "output_type": "stream",
     "text": [
      "Downloading Mesh\n",
      "Warning: deduplication not currently supported for this layer's variable layered draco meshes\n",
      "Vertices:  30924\n"
     ]
    },
    {
     "name": "stderr",
     "output_type": "stream",
     "text": [
      "Mesh is non-watertight for contained point query!\n"
     ]
    },
    {
     "name": "stdout",
     "output_type": "stream",
     "text": [
      "Subselecting largest connected component of mesh\n",
      "Processing CC's\n"
     ]
    },
    {
     "name": "stderr",
     "output_type": "stream",
     "text": [
      "Mesh is non-watertight for contained point query!\n",
      "Mesh is non-watertight for contained point query!\n",
      "Mesh is non-watertight for contained point query!\n",
      "100%|██████████| 30890/30890 [00:00<00:00, 466139.41it/s]\n"
     ]
    },
    {
     "name": "stdout",
     "output_type": "stream",
     "text": [
      "Skel done\n"
     ]
    },
    {
     "name": "stderr",
     "output_type": "stream",
     "text": [
      "100%|██████████| 144/144 [00:00<00:00, 129387.27it/s]\n"
     ]
    },
    {
     "name": "stdout",
     "output_type": "stream",
     "text": [
      "Processing mesh errors\n"
     ]
    },
    {
     "name": "stderr",
     "output_type": "stream",
     "text": [
      "100%|██████████| 17/17 [00:00<00:00, 16440.67it/s]\n"
     ]
    },
    {
     "name": "stdout",
     "output_type": "stream",
     "text": [
      "Processing facets\n"
     ]
    },
    {
     "name": "stderr",
     "output_type": "stream",
     "text": [
      "100%|██████████| 93/93 [00:00<00:00, 14202.97it/s]\n",
      "100%|██████████| 93/93 [00:00<00:00, 31612.79it/s]\n"
     ]
    },
    {
     "name": "stdout",
     "output_type": "stream",
     "text": [
      "Downloading Mesh\n",
      "Warning: deduplication not currently supported for this layer's variable layered draco meshes\n",
      "Vertices:  738\n",
      "Subselecting largest connected component of mesh\n",
      "Processing CC's\n"
     ]
    },
    {
     "name": "stderr",
     "output_type": "stream",
     "text": [
      "100%|██████████| 707/707 [00:00<00:00, 207571.95it/s]\n"
     ]
    },
    {
     "name": "stdout",
     "output_type": "stream",
     "text": [
      "Skel done\n"
     ]
    },
    {
     "name": "stderr",
     "output_type": "stream",
     "text": [
      "100%|██████████| 2/2 [00:00<00:00, 12483.05it/s]\n"
     ]
    },
    {
     "name": "stdout",
     "output_type": "stream",
     "text": [
      "Downloading Mesh\n",
      "Warning: deduplication not currently supported for this layer's variable layered draco meshes\n",
      "Vertices:  7233\n"
     ]
    },
    {
     "name": "stderr",
     "output_type": "stream",
     "text": [
      "Mesh is non-watertight for contained point query!\n",
      "Mesh is non-watertight for contained point query!\n",
      "Mesh is non-watertight for contained point query!\n"
     ]
    },
    {
     "name": "stdout",
     "output_type": "stream",
     "text": [
      "Subselecting largest connected component of mesh\n",
      "Processing CC's\n"
     ]
    },
    {
     "name": "stderr",
     "output_type": "stream",
     "text": [
      "100%|██████████| 7157/7157 [00:00<00:00, 689750.55it/s]\n"
     ]
    },
    {
     "name": "stdout",
     "output_type": "stream",
     "text": [
      "Skel done\n"
     ]
    },
    {
     "name": "stderr",
     "output_type": "stream",
     "text": [
      "100%|██████████| 45/45 [00:00<00:00, 116293.09it/s]\n"
     ]
    },
    {
     "name": "stdout",
     "output_type": "stream",
     "text": [
      "Processing mesh errors\n"
     ]
    },
    {
     "name": "stderr",
     "output_type": "stream",
     "text": [
      "100%|██████████| 2/2 [00:00<00:00, 453.93it/s]\n"
     ]
    },
    {
     "name": "stdout",
     "output_type": "stream",
     "text": [
      "Processing facets\n"
     ]
    },
    {
     "name": "stderr",
     "output_type": "stream",
     "text": [
      "100%|██████████| 45/45 [00:00<00:00, 6767.67it/s]\n",
      "100%|██████████| 45/45 [00:00<00:00, 20141.25it/s]\n"
     ]
    },
    {
     "name": "stdout",
     "output_type": "stream",
     "text": [
      "Downloading Mesh\n",
      "Warning: deduplication not currently supported for this layer's variable layered draco meshes\n",
      "Vertices:  10673\n"
     ]
    },
    {
     "name": "stderr",
     "output_type": "stream",
     "text": [
      "Mesh is non-watertight for contained point query!\n",
      "Mesh is non-watertight for contained point query!\n",
      "Mesh is non-watertight for contained point query!\n",
      "Mesh is non-watertight for contained point query!\n"
     ]
    },
    {
     "name": "stdout",
     "output_type": "stream",
     "text": [
      "Subselecting largest connected component of mesh\n",
      "Processing CC's\n"
     ]
    },
    {
     "name": "stderr",
     "output_type": "stream",
     "text": [
      "100%|██████████| 10621/10621 [00:00<00:00, 546798.86it/s]\n"
     ]
    },
    {
     "name": "stdout",
     "output_type": "stream",
     "text": [
      "Skel done\n"
     ]
    },
    {
     "name": "stderr",
     "output_type": "stream",
     "text": [
      "100%|██████████| 53/53 [00:00<00:00, 92817.58it/s]\n"
     ]
    },
    {
     "name": "stdout",
     "output_type": "stream",
     "text": [
      "Processing mesh errors\n"
     ]
    },
    {
     "name": "stderr",
     "output_type": "stream",
     "text": [
      "100%|██████████| 7/7 [00:00<00:00, 13160.08it/s]\n"
     ]
    },
    {
     "name": "stdout",
     "output_type": "stream",
     "text": [
      "Processing facets\n"
     ]
    },
    {
     "name": "stderr",
     "output_type": "stream",
     "text": [
      "100%|██████████| 43/43 [00:00<00:00, 8831.84it/s]\n",
      "100%|██████████| 43/43 [00:00<00:00, 33704.93it/s]\n"
     ]
    },
    {
     "name": "stdout",
     "output_type": "stream",
     "text": [
      "Downloading Mesh\n",
      "Warning: deduplication not currently supported for this layer's variable layered draco meshes\n",
      "Vertices:  14203\n",
      "Subselecting largest connected component of mesh\n",
      "Processing CC's\n"
     ]
    },
    {
     "name": "stderr",
     "output_type": "stream",
     "text": [
      "100%|██████████| 14202/14202 [00:00<00:00, 420858.75it/s]\n"
     ]
    },
    {
     "name": "stdout",
     "output_type": "stream",
     "text": [
      "Skel done\n"
     ]
    },
    {
     "name": "stderr",
     "output_type": "stream",
     "text": [
      "100%|██████████| 72/72 [00:00<00:00, 139230.01it/s]\n"
     ]
    },
    {
     "name": "stdout",
     "output_type": "stream",
     "text": [
      "Processing mesh errors\n"
     ]
    },
    {
     "name": "stderr",
     "output_type": "stream",
     "text": [
      "100%|██████████| 4/4 [00:00<00:00, 7781.64it/s]\n"
     ]
    },
    {
     "name": "stdout",
     "output_type": "stream",
     "text": [
      "Processing facets\n"
     ]
    },
    {
     "name": "stderr",
     "output_type": "stream",
     "text": [
      "100%|██████████| 65/65 [00:00<00:00, 8789.69it/s]\n",
      "100%|██████████| 65/65 [00:00<00:00, 31631.25it/s]\n"
     ]
    },
    {
     "name": "stdout",
     "output_type": "stream",
     "text": [
      "Downloading Mesh\n",
      "Warning: deduplication not currently supported for this layer's variable layered draco meshes\n",
      "Vertices:  4773\n",
      "Subselecting largest connected component of mesh\n",
      "Processing CC's\n"
     ]
    },
    {
     "name": "stderr",
     "output_type": "stream",
     "text": [
      "100%|██████████| 4766/4766 [00:00<00:00, 398327.25it/s]\n"
     ]
    },
    {
     "name": "stdout",
     "output_type": "stream",
     "text": [
      "Skel done\n"
     ]
    },
    {
     "name": "stderr",
     "output_type": "stream",
     "text": [
      "100%|██████████| 30/30 [00:00<00:00, 35001.15it/s]\n"
     ]
    },
    {
     "name": "stdout",
     "output_type": "stream",
     "text": [
      "Processing mesh errors\n"
     ]
    },
    {
     "name": "stderr",
     "output_type": "stream",
     "text": [
      "100%|██████████| 2/2 [00:00<00:00, 3603.35it/s]\n"
     ]
    },
    {
     "name": "stdout",
     "output_type": "stream",
     "text": [
      "Processing facets\n"
     ]
    },
    {
     "name": "stderr",
     "output_type": "stream",
     "text": [
      "100%|██████████| 27/27 [00:00<00:00, 6353.22it/s]\n",
      "100%|██████████| 27/27 [00:00<00:00, 9815.06it/s]\n"
     ]
    },
    {
     "name": "stdout",
     "output_type": "stream",
     "text": [
      "Downloading Mesh\n",
      "Warning: deduplication not currently supported for this layer's variable layered draco meshes\n",
      "Vertices:  9476\n"
     ]
    },
    {
     "name": "stderr",
     "output_type": "stream",
     "text": [
      "Mesh is non-watertight for contained point query!\n",
      "Mesh is non-watertight for contained point query!\n",
      "Mesh is non-watertight for contained point query!\n"
     ]
    },
    {
     "name": "stdout",
     "output_type": "stream",
     "text": [
      "Subselecting largest connected component of mesh\n",
      "Processing CC's\n"
     ]
    },
    {
     "name": "stderr",
     "output_type": "stream",
     "text": [
      "100%|██████████| 9423/9423 [00:00<00:00, 499834.66it/s]\n"
     ]
    },
    {
     "name": "stdout",
     "output_type": "stream",
     "text": [
      "Skel done\n"
     ]
    },
    {
     "name": "stderr",
     "output_type": "stream",
     "text": [
      "100%|██████████| 66/66 [00:00<00:00, 129720.74it/s]\n"
     ]
    },
    {
     "name": "stdout",
     "output_type": "stream",
     "text": [
      "Processing mesh errors\n"
     ]
    },
    {
     "name": "stderr",
     "output_type": "stream",
     "text": [
      "100%|██████████| 8/8 [00:00<00:00, 12841.34it/s]\n"
     ]
    },
    {
     "name": "stdout",
     "output_type": "stream",
     "text": [
      "Processing facets\n"
     ]
    },
    {
     "name": "stderr",
     "output_type": "stream",
     "text": [
      "100%|██████████| 52/52 [00:00<00:00, 7909.76it/s]\n",
      "100%|██████████| 52/52 [00:00<00:00, 24633.36it/s]\n"
     ]
    },
    {
     "name": "stdout",
     "output_type": "stream",
     "text": [
      "Downloading Mesh\n",
      "Warning: deduplication not currently supported for this layer's variable layered draco meshes\n",
      "Vertices:  31310\n"
     ]
    },
    {
     "name": "stderr",
     "output_type": "stream",
     "text": [
      "Mesh is non-watertight for contained point query!\n"
     ]
    },
    {
     "name": "stdout",
     "output_type": "stream",
     "text": [
      "Subselecting largest connected component of mesh\n",
      "Processing CC's\n"
     ]
    },
    {
     "name": "stderr",
     "output_type": "stream",
     "text": [
      "Mesh is non-watertight for contained point query!\n",
      "Mesh is non-watertight for contained point query!\n",
      "100%|██████████| 31273/31273 [00:00<00:00, 497834.62it/s]\n"
     ]
    },
    {
     "name": "stdout",
     "output_type": "stream",
     "text": [
      "Skel done\n"
     ]
    },
    {
     "name": "stderr",
     "output_type": "stream",
     "text": [
      "100%|██████████| 135/135 [00:00<00:00, 116796.83it/s]\n"
     ]
    },
    {
     "name": "stdout",
     "output_type": "stream",
     "text": [
      "Processing mesh errors\n"
     ]
    },
    {
     "name": "stderr",
     "output_type": "stream",
     "text": [
      "100%|██████████| 7/7 [00:00<00:00, 8986.88it/s]\n"
     ]
    },
    {
     "name": "stdout",
     "output_type": "stream",
     "text": [
      "Processing facets\n"
     ]
    },
    {
     "name": "stderr",
     "output_type": "stream",
     "text": [
      "100%|██████████| 153/153 [00:00<00:00, 15980.89it/s]\n",
      "100%|██████████| 153/153 [00:00<00:00, 30538.14it/s]\n"
     ]
    },
    {
     "name": "stdout",
     "output_type": "stream",
     "text": [
      "Downloading Mesh\n",
      "Warning: deduplication not currently supported for this layer's variable layered draco meshes\n",
      "Vertices:  58138\n",
      "Subselecting largest connected component of mesh\n",
      "Processing CC's\n"
     ]
    },
    {
     "name": "stderr",
     "output_type": "stream",
     "text": [
      "Mesh is non-watertight for contained point query!\n",
      "Mesh is non-watertight for contained point query!\n",
      "Mesh is non-watertight for contained point query!\n",
      "Mesh is non-watertight for contained point query!\n",
      "Mesh is non-watertight for contained point query!\n",
      "Mesh is non-watertight for contained point query!\n",
      "Mesh is non-watertight for contained point query!\n",
      "Mesh is non-watertight for contained point query!\n",
      "Mesh is non-watertight for contained point query!\n",
      "100%|██████████| 58016/58016 [00:00<00:00, 229035.32it/s]\n"
     ]
    },
    {
     "name": "stdout",
     "output_type": "stream",
     "text": [
      "Skel done\n"
     ]
    },
    {
     "name": "stderr",
     "output_type": "stream",
     "text": [
      "100%|██████████| 378/378 [00:00<00:00, 139896.49it/s]\n"
     ]
    },
    {
     "name": "stdout",
     "output_type": "stream",
     "text": [
      "Processing mesh errors\n"
     ]
    },
    {
     "name": "stderr",
     "output_type": "stream",
     "text": [
      "100%|██████████| 25/25 [00:00<00:00, 16201.73it/s]\n"
     ]
    },
    {
     "name": "stdout",
     "output_type": "stream",
     "text": [
      "Processing facets\n"
     ]
    },
    {
     "name": "stderr",
     "output_type": "stream",
     "text": [
      "100%|██████████| 281/281 [00:00<00:00, 24076.63it/s]\n",
      "100%|██████████| 281/281 [00:00<00:00, 39244.79it/s]\n"
     ]
    },
    {
     "name": "stdout",
     "output_type": "stream",
     "text": [
      "Downloading Mesh\n",
      "Warning: deduplication not currently supported for this layer's variable layered draco meshes\n",
      "Vertices:  13251\n"
     ]
    },
    {
     "name": "stderr",
     "output_type": "stream",
     "text": [
      "Mesh is non-watertight for contained point query!\n",
      "Mesh is non-watertight for contained point query!\n"
     ]
    },
    {
     "name": "stdout",
     "output_type": "stream",
     "text": [
      "Subselecting largest connected component of mesh\n",
      "Processing CC's\n"
     ]
    },
    {
     "name": "stderr",
     "output_type": "stream",
     "text": [
      "100%|██████████| 13160/13160 [00:00<00:00, 611039.61it/s]\n"
     ]
    },
    {
     "name": "stdout",
     "output_type": "stream",
     "text": [
      "Skel done\n"
     ]
    },
    {
     "name": "stderr",
     "output_type": "stream",
     "text": [
      "100%|██████████| 58/58 [00:00<00:00, 72748.10it/s]\n"
     ]
    },
    {
     "name": "stdout",
     "output_type": "stream",
     "text": [
      "Processing mesh errors\n"
     ]
    },
    {
     "name": "stderr",
     "output_type": "stream",
     "text": [
      "100%|██████████| 4/4 [00:00<00:00, 7040.38it/s]\n"
     ]
    },
    {
     "name": "stdout",
     "output_type": "stream",
     "text": [
      "Processing facets\n"
     ]
    },
    {
     "name": "stderr",
     "output_type": "stream",
     "text": [
      "100%|██████████| 59/59 [00:00<00:00, 10931.83it/s]\n",
      "100%|██████████| 59/59 [00:00<00:00, 49831.64it/s]\n"
     ]
    },
    {
     "name": "stdout",
     "output_type": "stream",
     "text": [
      "Downloading Mesh\n",
      "Warning: deduplication not currently supported for this layer's variable layered draco meshes\n",
      "Vertices:  211159\n",
      "Subselecting largest connected component of mesh\n",
      "Processing CC's\n"
     ]
    },
    {
     "name": "stderr",
     "output_type": "stream",
     "text": [
      "Mesh is non-watertight for contained point query!\n",
      "Mesh is non-watertight for contained point query!\n",
      "Mesh is non-watertight for contained point query!\n",
      "Mesh is non-watertight for contained point query!\n",
      "Mesh is non-watertight for contained point query!\n",
      "Mesh is non-watertight for contained point query!\n",
      "Mesh is non-watertight for contained point query!\n",
      "Mesh is non-watertight for contained point query!\n",
      "Mesh is non-watertight for contained point query!\n",
      "Mesh is non-watertight for contained point query!\n",
      "Mesh is non-watertight for contained point query!\n",
      "Mesh is non-watertight for contained point query!\n",
      "Mesh is non-watertight for contained point query!\n",
      "Mesh is non-watertight for contained point query!\n",
      "Mesh is non-watertight for contained point query!\n",
      "Mesh is non-watertight for contained point query!\n",
      "Mesh is non-watertight for contained point query!\n",
      "Mesh is non-watertight for contained point query!\n",
      "Mesh is non-watertight for contained point query!\n",
      "Mesh is non-watertight for contained point query!\n",
      "Mesh is non-watertight for contained point query!\n",
      "Mesh is non-watertight for contained point query!\n",
      "Mesh is non-watertight for contained point query!\n",
      "Mesh is non-watertight for contained point query!\n",
      "100%|██████████| 210803/210803 [00:01<00:00, 143946.49it/s]\n"
     ]
    },
    {
     "name": "stdout",
     "output_type": "stream",
     "text": [
      "Skel done\n"
     ]
    },
    {
     "name": "stderr",
     "output_type": "stream",
     "text": [
      "100%|██████████| 879/879 [00:00<00:00, 241947.32it/s]\n"
     ]
    },
    {
     "name": "stdout",
     "output_type": "stream",
     "text": [
      "Processing mesh errors\n"
     ]
    },
    {
     "name": "stderr",
     "output_type": "stream",
     "text": [
      "100%|██████████| 48/48 [00:00<00:00, 32435.41it/s]\n"
     ]
    },
    {
     "name": "stdout",
     "output_type": "stream",
     "text": [
      "Processing facets\n"
     ]
    },
    {
     "name": "stderr",
     "output_type": "stream",
     "text": [
      "100%|██████████| 1160/1160 [00:00<00:00, 20903.22it/s]\n",
      "100%|██████████| 1160/1160 [00:00<00:00, 52193.70it/s]\n"
     ]
    },
    {
     "name": "stdout",
     "output_type": "stream",
     "text": [
      "Downloading Mesh\n",
      "Warning: deduplication not currently supported for this layer's variable layered draco meshes\n",
      "Vertices:  37346\n",
      "Subselecting largest connected component of mesh\n",
      "Processing CC's\n"
     ]
    },
    {
     "name": "stderr",
     "output_type": "stream",
     "text": [
      "Mesh is non-watertight for contained point query!\n",
      "Mesh is non-watertight for contained point query!\n",
      "Mesh is non-watertight for contained point query!\n",
      "Mesh is non-watertight for contained point query!\n",
      "Mesh is non-watertight for contained point query!\n",
      "Mesh is non-watertight for contained point query!\n",
      "Mesh is non-watertight for contained point query!\n",
      "100%|██████████| 37089/37089 [00:00<00:00, 307412.16it/s]\n"
     ]
    },
    {
     "name": "stdout",
     "output_type": "stream",
     "text": [
      "Skel done\n"
     ]
    },
    {
     "name": "stderr",
     "output_type": "stream",
     "text": [
      "100%|██████████| 158/158 [00:00<00:00, 154152.14it/s]\n"
     ]
    },
    {
     "name": "stdout",
     "output_type": "stream",
     "text": [
      "Processing mesh errors\n"
     ]
    },
    {
     "name": "stderr",
     "output_type": "stream",
     "text": [
      "100%|██████████| 14/14 [00:00<00:00, 14768.68it/s]\n"
     ]
    },
    {
     "name": "stdout",
     "output_type": "stream",
     "text": [
      "Processing facets\n"
     ]
    },
    {
     "name": "stderr",
     "output_type": "stream",
     "text": [
      "100%|██████████| 183/183 [00:00<00:00, 18210.58it/s]\n",
      "100%|██████████| 183/183 [00:00<00:00, 33430.21it/s]\n"
     ]
    },
    {
     "name": "stdout",
     "output_type": "stream",
     "text": [
      "Downloading Mesh\n",
      "Warning: deduplication not currently supported for this layer's variable layered draco meshes\n",
      "Vertices:  54492\n",
      "Subselecting largest connected component of mesh\n",
      "Processing CC's\n"
     ]
    },
    {
     "name": "stderr",
     "output_type": "stream",
     "text": [
      "Mesh is non-watertight for contained point query!\n",
      "Mesh is non-watertight for contained point query!\n",
      "Mesh is non-watertight for contained point query!\n",
      "Mesh is non-watertight for contained point query!\n",
      "Mesh is non-watertight for contained point query!\n",
      "Mesh is non-watertight for contained point query!\n",
      "Mesh is non-watertight for contained point query!\n",
      "100%|██████████| 53939/53939 [00:00<00:00, 166863.64it/s]\n"
     ]
    },
    {
     "name": "stdout",
     "output_type": "stream",
     "text": [
      "Skel done\n"
     ]
    },
    {
     "name": "stderr",
     "output_type": "stream",
     "text": [
      "100%|██████████| 342/342 [00:00<00:00, 79024.46it/s]\n"
     ]
    },
    {
     "name": "stdout",
     "output_type": "stream",
     "text": [
      "Processing mesh errors\n"
     ]
    },
    {
     "name": "stderr",
     "output_type": "stream",
     "text": [
      "100%|██████████| 24/24 [00:00<00:00, 30765.07it/s]\n"
     ]
    },
    {
     "name": "stdout",
     "output_type": "stream",
     "text": [
      "Processing facets\n"
     ]
    },
    {
     "name": "stderr",
     "output_type": "stream",
     "text": [
      "100%|██████████| 146/146 [00:00<00:00, 17132.54it/s]\n",
      "100%|██████████| 146/146 [00:00<00:00, 25233.57it/s]\n"
     ]
    },
    {
     "name": "stdout",
     "output_type": "stream",
     "text": [
      "Downloading Mesh\n",
      "Warning: deduplication not currently supported for this layer's variable layered draco meshes\n",
      "Vertices:  31053\n"
     ]
    },
    {
     "name": "stderr",
     "output_type": "stream",
     "text": [
      "Mesh is non-watertight for contained point query!\n"
     ]
    },
    {
     "name": "stdout",
     "output_type": "stream",
     "text": [
      "Subselecting largest connected component of mesh\n",
      "Processing CC's\n"
     ]
    },
    {
     "name": "stderr",
     "output_type": "stream",
     "text": [
      "Mesh is non-watertight for contained point query!\n",
      "Mesh is non-watertight for contained point query!\n",
      "Mesh is non-watertight for contained point query!\n",
      "Mesh is non-watertight for contained point query!\n",
      "Mesh is non-watertight for contained point query!\n",
      "Mesh is non-watertight for contained point query!\n",
      "Mesh is non-watertight for contained point query!\n",
      "Mesh is non-watertight for contained point query!\n",
      "Mesh is non-watertight for contained point query!\n",
      "Mesh is non-watertight for contained point query!\n",
      "Mesh is non-watertight for contained point query!\n",
      "Mesh is non-watertight for contained point query!\n",
      "100%|██████████| 30446/30446 [00:00<00:00, 549298.34it/s]\n"
     ]
    },
    {
     "name": "stdout",
     "output_type": "stream",
     "text": [
      "Skel done\n"
     ]
    },
    {
     "name": "stderr",
     "output_type": "stream",
     "text": [
      "100%|██████████| 150/150 [00:00<00:00, 118304.93it/s]\n"
     ]
    },
    {
     "name": "stdout",
     "output_type": "stream",
     "text": [
      "Processing mesh errors\n"
     ]
    },
    {
     "name": "stderr",
     "output_type": "stream",
     "text": [
      "100%|██████████| 18/18 [00:00<00:00, 28076.41it/s]\n"
     ]
    },
    {
     "name": "stdout",
     "output_type": "stream",
     "text": [
      "Processing facets\n"
     ]
    },
    {
     "name": "stderr",
     "output_type": "stream",
     "text": [
      "100%|██████████| 218/218 [00:00<00:00, 18757.22it/s]\n",
      "100%|██████████| 218/218 [00:00<00:00, 43083.37it/s]\n"
     ]
    },
    {
     "name": "stdout",
     "output_type": "stream",
     "text": [
      "Downloading Mesh\n",
      "Warning: deduplication not currently supported for this layer's variable layered draco meshes\n",
      "Vertices:  11809\n"
     ]
    },
    {
     "name": "stderr",
     "output_type": "stream",
     "text": [
      "Mesh is non-watertight for contained point query!\n"
     ]
    },
    {
     "name": "stdout",
     "output_type": "stream",
     "text": [
      "Subselecting largest connected component of mesh\n",
      "Processing CC's\n"
     ]
    },
    {
     "name": "stderr",
     "output_type": "stream",
     "text": [
      "100%|██████████| 11797/11797 [00:00<00:00, 615961.71it/s]\n"
     ]
    },
    {
     "name": "stdout",
     "output_type": "stream",
     "text": [
      "Skel done\n"
     ]
    },
    {
     "name": "stderr",
     "output_type": "stream",
     "text": [
      "100%|██████████| 86/86 [00:00<00:00, 74851.66it/s]\n"
     ]
    },
    {
     "name": "stdout",
     "output_type": "stream",
     "text": [
      "Processing mesh errors\n"
     ]
    },
    {
     "name": "stderr",
     "output_type": "stream",
     "text": [
      "100%|██████████| 9/9 [00:00<00:00, 12425.52it/s]"
     ]
    },
    {
     "name": "stdout",
     "output_type": "stream",
     "text": [
      "Processing facets\n"
     ]
    },
    {
     "name": "stderr",
     "output_type": "stream",
     "text": [
      "\n",
      "100%|██████████| 57/57 [00:00<00:00, 6577.58it/s]\n",
      "100%|██████████| 57/57 [00:00<00:00, 18428.68it/s]\n"
     ]
    },
    {
     "name": "stdout",
     "output_type": "stream",
     "text": [
      "Downloading Mesh\n",
      "Warning: deduplication not currently supported for this layer's variable layered draco meshes\n",
      "Vertices:  25267\n"
     ]
    },
    {
     "name": "stderr",
     "output_type": "stream",
     "text": [
      "Mesh is non-watertight for contained point query!\n"
     ]
    },
    {
     "name": "stdout",
     "output_type": "stream",
     "text": [
      "Subselecting largest connected component of mesh\n",
      "Processing CC's\n"
     ]
    },
    {
     "name": "stderr",
     "output_type": "stream",
     "text": [
      "Mesh is non-watertight for contained point query!\n",
      "Mesh is non-watertight for contained point query!\n",
      "Mesh is non-watertight for contained point query!\n",
      "Mesh is non-watertight for contained point query!\n",
      "100%|██████████| 25219/25219 [00:00<00:00, 472381.57it/s]\n"
     ]
    },
    {
     "name": "stdout",
     "output_type": "stream",
     "text": [
      "Skel done\n"
     ]
    },
    {
     "name": "stderr",
     "output_type": "stream",
     "text": [
      "100%|██████████| 158/158 [00:00<00:00, 145744.45it/s]\n"
     ]
    },
    {
     "name": "stdout",
     "output_type": "stream",
     "text": [
      "Processing mesh errors\n"
     ]
    },
    {
     "name": "stderr",
     "output_type": "stream",
     "text": [
      "100%|██████████| 13/13 [00:00<00:00, 30325.89it/s]\n"
     ]
    },
    {
     "name": "stdout",
     "output_type": "stream",
     "text": [
      "Processing facets\n"
     ]
    },
    {
     "name": "stderr",
     "output_type": "stream",
     "text": [
      "100%|██████████| 179/179 [00:00<00:00, 9802.33it/s]\n",
      "100%|██████████| 179/179 [00:00<00:00, 39761.70it/s]\n"
     ]
    },
    {
     "name": "stdout",
     "output_type": "stream",
     "text": [
      "Downloading Mesh\n",
      "Warning: deduplication not currently supported for this layer's variable layered draco meshes\n",
      "Vertices:  52186\n",
      "Subselecting largest connected component of mesh\n",
      "Processing CC's\n"
     ]
    },
    {
     "name": "stderr",
     "output_type": "stream",
     "text": [
      "Mesh is non-watertight for contained point query!\n",
      "100%|██████████| 52169/52169 [00:00<00:00, 505729.92it/s]\n"
     ]
    },
    {
     "name": "stdout",
     "output_type": "stream",
     "text": [
      "Skel done\n"
     ]
    },
    {
     "name": "stderr",
     "output_type": "stream",
     "text": [
      "100%|██████████| 233/233 [00:00<00:00, 216306.51it/s]\n"
     ]
    },
    {
     "name": "stdout",
     "output_type": "stream",
     "text": [
      "Processing mesh errors\n"
     ]
    },
    {
     "name": "stderr",
     "output_type": "stream",
     "text": [
      "100%|██████████| 13/13 [00:00<00:00, 12730.78it/s]\n"
     ]
    },
    {
     "name": "stdout",
     "output_type": "stream",
     "text": [
      "Processing facets\n"
     ]
    },
    {
     "name": "stderr",
     "output_type": "stream",
     "text": [
      "100%|██████████| 247/247 [00:00<00:00, 19091.02it/s]\n",
      "100%|██████████| 247/247 [00:00<00:00, 35699.28it/s]\n"
     ]
    },
    {
     "name": "stdout",
     "output_type": "stream",
     "text": [
      "Downloading Mesh\n",
      "Warning: deduplication not currently supported for this layer's variable layered draco meshes\n",
      "Vertices:  423059\n",
      "Subselecting largest connected component of mesh\n",
      "Processing CC's\n"
     ]
    },
    {
     "name": "stderr",
     "output_type": "stream",
     "text": [
      "Mesh is non-watertight for contained point query!\n",
      "Mesh is non-watertight for contained point query!\n",
      "Mesh is non-watertight for contained point query!\n",
      "Mesh is non-watertight for contained point query!\n",
      "Mesh is non-watertight for contained point query!\n",
      "Mesh is non-watertight for contained point query!\n",
      "Mesh is non-watertight for contained point query!\n",
      "Mesh is non-watertight for contained point query!\n",
      "Mesh is non-watertight for contained point query!\n",
      "Mesh is non-watertight for contained point query!\n",
      "Mesh is non-watertight for contained point query!\n",
      "Mesh is non-watertight for contained point query!\n",
      "Mesh is non-watertight for contained point query!\n",
      "Mesh is non-watertight for contained point query!\n",
      "Mesh is non-watertight for contained point query!\n",
      "Mesh is non-watertight for contained point query!\n",
      "Mesh is non-watertight for contained point query!\n",
      "Mesh is non-watertight for contained point query!\n",
      "Mesh is non-watertight for contained point query!\n",
      "Mesh is non-watertight for contained point query!\n",
      "Mesh is non-watertight for contained point query!\n",
      "Mesh is non-watertight for contained point query!\n",
      "Mesh is non-watertight for contained point query!\n",
      "Mesh is non-watertight for contained point query!\n",
      "Mesh is non-watertight for contained point query!\n",
      "Mesh is non-watertight for contained point query!\n",
      "Mesh is non-watertight for contained point query!\n",
      "Mesh is non-watertight for contained point query!\n",
      "100%|██████████| 422471/422471 [00:07<00:00, 59468.27it/s] \n"
     ]
    },
    {
     "name": "stdout",
     "output_type": "stream",
     "text": [
      "Skel done\n"
     ]
    },
    {
     "name": "stderr",
     "output_type": "stream",
     "text": [
      "100%|██████████| 2288/2288 [00:00<00:00, 225759.09it/s]\n"
     ]
    },
    {
     "name": "stdout",
     "output_type": "stream",
     "text": [
      "Processing mesh errors\n"
     ]
    },
    {
     "name": "stderr",
     "output_type": "stream",
     "text": [
      "100%|██████████| 137/137 [00:00<00:00, 25041.17it/s]\n"
     ]
    },
    {
     "name": "stdout",
     "output_type": "stream",
     "text": [
      "Processing facets\n"
     ]
    },
    {
     "name": "stderr",
     "output_type": "stream",
     "text": [
      "100%|██████████| 1984/1984 [00:00<00:00, 15376.16it/s]\n",
      "100%|██████████| 1984/1984 [00:00<00:00, 44281.67it/s]\n"
     ]
    },
    {
     "name": "stdout",
     "output_type": "stream",
     "text": [
      "Downloading Mesh\n",
      "Warning: deduplication not currently supported for this layer's variable layered draco meshes\n",
      "Vertices:  7500\n"
     ]
    },
    {
     "name": "stderr",
     "output_type": "stream",
     "text": [
      "Mesh is non-watertight for contained point query!\n",
      "Mesh is non-watertight for contained point query!\n",
      "Mesh is non-watertight for contained point query!\n",
      "Mesh is non-watertight for contained point query!\n"
     ]
    },
    {
     "name": "stdout",
     "output_type": "stream",
     "text": [
      "Subselecting largest connected component of mesh\n",
      "Processing CC's\n"
     ]
    },
    {
     "name": "stderr",
     "output_type": "stream",
     "text": [
      "100%|██████████| 7409/7409 [00:00<00:00, 662282.05it/s]\n"
     ]
    },
    {
     "name": "stdout",
     "output_type": "stream",
     "text": [
      "Skel done\n"
     ]
    },
    {
     "name": "stderr",
     "output_type": "stream",
     "text": [
      "100%|██████████| 49/49 [00:00<00:00, 94579.34it/s]\n"
     ]
    },
    {
     "name": "stdout",
     "output_type": "stream",
     "text": [
      "Processing mesh errors\n"
     ]
    },
    {
     "name": "stderr",
     "output_type": "stream",
     "text": [
      "100%|██████████| 5/5 [00:00<00:00, 3849.40it/s]\n"
     ]
    },
    {
     "name": "stdout",
     "output_type": "stream",
     "text": [
      "Processing facets\n"
     ]
    },
    {
     "name": "stderr",
     "output_type": "stream",
     "text": [
      "100%|██████████| 30/30 [00:00<00:00, 8476.77it/s]\n",
      "100%|██████████| 30/30 [00:00<00:00, 27025.15it/s]\n"
     ]
    },
    {
     "name": "stdout",
     "output_type": "stream",
     "text": [
      "Downloading Mesh\n",
      "Warning: deduplication not currently supported for this layer's variable layered draco meshes\n",
      "Vertices:  16722\n"
     ]
    },
    {
     "name": "stderr",
     "output_type": "stream",
     "text": [
      "Mesh is non-watertight for contained point query!\n",
      "Mesh is non-watertight for contained point query!\n"
     ]
    },
    {
     "name": "stdout",
     "output_type": "stream",
     "text": [
      "Subselecting largest connected component of mesh\n",
      "Processing CC's\n"
     ]
    },
    {
     "name": "stderr",
     "output_type": "stream",
     "text": [
      "100%|██████████| 16695/16695 [00:00<00:00, 568126.84it/s]\n"
     ]
    },
    {
     "name": "stdout",
     "output_type": "stream",
     "text": [
      "Skel done\n"
     ]
    },
    {
     "name": "stderr",
     "output_type": "stream",
     "text": [
      "100%|██████████| 105/105 [00:00<00:00, 96791.63it/s]\n"
     ]
    },
    {
     "name": "stdout",
     "output_type": "stream",
     "text": [
      "Processing mesh errors\n"
     ]
    },
    {
     "name": "stderr",
     "output_type": "stream",
     "text": [
      "100%|██████████| 9/9 [00:00<00:00, 4325.02it/s]\n"
     ]
    },
    {
     "name": "stdout",
     "output_type": "stream",
     "text": [
      "Processing facets\n"
     ]
    },
    {
     "name": "stderr",
     "output_type": "stream",
     "text": [
      "100%|██████████| 85/85 [00:00<00:00, 13683.73it/s]\n",
      "100%|██████████| 85/85 [00:00<00:00, 26984.24it/s]\n"
     ]
    },
    {
     "name": "stdout",
     "output_type": "stream",
     "text": [
      "Downloading Mesh\n",
      "Warning: deduplication not currently supported for this layer's variable layered draco meshes\n",
      "Vertices:  35236\n",
      "Subselecting largest connected component of mesh\n",
      "Processing CC's\n"
     ]
    },
    {
     "name": "stderr",
     "output_type": "stream",
     "text": [
      "Mesh is non-watertight for contained point query!\n",
      "Mesh is non-watertight for contained point query!\n",
      "Mesh is non-watertight for contained point query!\n",
      "Mesh is non-watertight for contained point query!\n",
      "Mesh is non-watertight for contained point query!\n",
      "Mesh is non-watertight for contained point query!\n",
      "Mesh is non-watertight for contained point query!\n",
      "100%|██████████| 35116/35116 [00:00<00:00, 744314.46it/s]\n"
     ]
    },
    {
     "name": "stdout",
     "output_type": "stream",
     "text": [
      "Skel done\n"
     ]
    },
    {
     "name": "stderr",
     "output_type": "stream",
     "text": [
      "100%|██████████| 158/158 [00:00<00:00, 141180.24it/s]\n"
     ]
    },
    {
     "name": "stdout",
     "output_type": "stream",
     "text": [
      "Processing mesh errors\n"
     ]
    },
    {
     "name": "stderr",
     "output_type": "stream",
     "text": [
      "100%|██████████| 3/3 [00:00<00:00, 8642.11it/s]\n"
     ]
    },
    {
     "name": "stdout",
     "output_type": "stream",
     "text": [
      "Processing facets\n"
     ]
    },
    {
     "name": "stderr",
     "output_type": "stream",
     "text": [
      "100%|██████████| 170/170 [00:00<00:00, 18185.41it/s]\n",
      "100%|██████████| 170/170 [00:00<00:00, 31836.04it/s]\n"
     ]
    },
    {
     "name": "stdout",
     "output_type": "stream",
     "text": [
      "Downloading Mesh\n",
      "Warning: deduplication not currently supported for this layer's variable layered draco meshes\n",
      "Vertices:  35955\n",
      "Subselecting largest connected component of mesh\n",
      "Processing CC's\n"
     ]
    },
    {
     "name": "stderr",
     "output_type": "stream",
     "text": [
      "Mesh is non-watertight for contained point query!\n",
      "Mesh is non-watertight for contained point query!\n",
      "Mesh is non-watertight for contained point query!\n",
      "Mesh is non-watertight for contained point query!\n",
      "100%|██████████| 35866/35866 [00:00<00:00, 325338.42it/s]\n"
     ]
    },
    {
     "name": "stdout",
     "output_type": "stream",
     "text": [
      "Skel done\n"
     ]
    },
    {
     "name": "stderr",
     "output_type": "stream",
     "text": [
      "100%|██████████| 242/242 [00:00<00:00, 142439.18it/s]\n"
     ]
    },
    {
     "name": "stdout",
     "output_type": "stream",
     "text": [
      "Processing mesh errors\n"
     ]
    },
    {
     "name": "stderr",
     "output_type": "stream",
     "text": [
      "100%|██████████| 21/21 [00:00<00:00, 24480.37it/s]\n"
     ]
    },
    {
     "name": "stdout",
     "output_type": "stream",
     "text": [
      "Processing facets\n"
     ]
    },
    {
     "name": "stderr",
     "output_type": "stream",
     "text": [
      "100%|██████████| 154/154 [00:00<00:00, 18641.35it/s]\n",
      "100%|██████████| 154/154 [00:00<00:00, 48427.26it/s]\n"
     ]
    },
    {
     "name": "stdout",
     "output_type": "stream",
     "text": [
      "Downloading Mesh\n",
      "Warning: deduplication not currently supported for this layer's variable layered draco meshes\n",
      "Vertices:  3302\n",
      "Subselecting largest connected component of mesh\n",
      "Processing CC's\n"
     ]
    },
    {
     "name": "stderr",
     "output_type": "stream",
     "text": [
      "100%|██████████| 3301/3301 [00:00<00:00, 491878.55it/s]\n"
     ]
    },
    {
     "name": "stdout",
     "output_type": "stream",
     "text": [
      "Skel done\n"
     ]
    },
    {
     "name": "stderr",
     "output_type": "stream",
     "text": [
      "100%|██████████| 23/23 [00:00<00:00, 53653.50it/s]\n"
     ]
    },
    {
     "name": "stdout",
     "output_type": "stream",
     "text": [
      "Processing mesh errors\n"
     ]
    },
    {
     "name": "stderr",
     "output_type": "stream",
     "text": [
      "100%|██████████| 1/1 [00:00<00:00, 2388.56it/s]\n"
     ]
    },
    {
     "name": "stdout",
     "output_type": "stream",
     "text": [
      "Processing facets\n"
     ]
    },
    {
     "name": "stderr",
     "output_type": "stream",
     "text": [
      "100%|██████████| 11/11 [00:00<00:00, 8053.30it/s]\n",
      "100%|██████████| 11/11 [00:00<00:00, 11653.79it/s]\n"
     ]
    },
    {
     "name": "stdout",
     "output_type": "stream",
     "text": [
      "Downloading Mesh\n",
      "Warning: deduplication not currently supported for this layer's variable layered draco meshes\n",
      "Vertices:  22842\n"
     ]
    },
    {
     "name": "stderr",
     "output_type": "stream",
     "text": [
      "Mesh is non-watertight for contained point query!\n"
     ]
    },
    {
     "name": "stdout",
     "output_type": "stream",
     "text": [
      "Subselecting largest connected component of mesh\n",
      "Processing CC's\n"
     ]
    },
    {
     "name": "stderr",
     "output_type": "stream",
     "text": [
      "Mesh is non-watertight for contained point query!\n",
      "100%|██████████| 22824/22824 [00:00<00:00, 558630.28it/s]\n"
     ]
    },
    {
     "name": "stdout",
     "output_type": "stream",
     "text": [
      "Skel done\n"
     ]
    },
    {
     "name": "stderr",
     "output_type": "stream",
     "text": [
      "100%|██████████| 115/115 [00:00<00:00, 74666.40it/s]\n"
     ]
    },
    {
     "name": "stdout",
     "output_type": "stream",
     "text": [
      "Processing mesh errors\n"
     ]
    },
    {
     "name": "stderr",
     "output_type": "stream",
     "text": [
      "100%|██████████| 5/5 [00:00<00:00, 8908.89it/s]"
     ]
    },
    {
     "name": "stdout",
     "output_type": "stream",
     "text": [
      "Processing facets\n"
     ]
    },
    {
     "name": "stderr",
     "output_type": "stream",
     "text": [
      "\n",
      "100%|██████████| 88/88 [00:00<00:00, 17197.78it/s]\n",
      "100%|██████████| 88/88 [00:00<00:00, 29710.92it/s]\n"
     ]
    },
    {
     "name": "stdout",
     "output_type": "stream",
     "text": [
      "Downloading Mesh\n",
      "Warning: deduplication not currently supported for this layer's variable layered draco meshes\n",
      "Vertices:  304\n",
      "Subselecting largest connected component of mesh\n",
      "Processing CC's\n"
     ]
    },
    {
     "name": "stderr",
     "output_type": "stream",
     "text": [
      "100%|██████████| 303/303 [00:00<00:00, 111187.59it/s]\n"
     ]
    },
    {
     "name": "stdout",
     "output_type": "stream",
     "text": [
      "Skel done\n"
     ]
    },
    {
     "name": "stderr",
     "output_type": "stream",
     "text": [
      "100%|██████████| 4/4 [00:00<00:00, 660.52it/s]\n"
     ]
    },
    {
     "name": "stdout",
     "output_type": "stream",
     "text": [
      "Downloading Mesh\n",
      "Warning: deduplication not currently supported for this layer's variable layered draco meshes\n",
      "Vertices:  1869\n",
      "Subselecting largest connected component of mesh\n",
      "Processing CC's\n"
     ]
    },
    {
     "name": "stderr",
     "output_type": "stream",
     "text": [
      "100%|██████████| 1868/1868 [00:00<00:00, 249998.72it/s]\n"
     ]
    },
    {
     "name": "stdout",
     "output_type": "stream",
     "text": [
      "Skel done\n"
     ]
    },
    {
     "name": "stderr",
     "output_type": "stream",
     "text": [
      "100%|██████████| 9/9 [00:00<00:00, 9617.51it/s]\n"
     ]
    },
    {
     "name": "stdout",
     "output_type": "stream",
     "text": [
      "Processing facets\n"
     ]
    },
    {
     "name": "stderr",
     "output_type": "stream",
     "text": [
      "100%|██████████| 12/12 [00:00<00:00, 3541.74it/s]\n",
      "100%|██████████| 12/12 [00:00<00:00, 16003.70it/s]\n"
     ]
    },
    {
     "name": "stdout",
     "output_type": "stream",
     "text": [
      "Downloading Mesh\n",
      "Warning: deduplication not currently supported for this layer's variable layered draco meshes\n",
      "Vertices:  148888\n",
      "Subselecting largest connected component of mesh\n",
      "Processing CC's\n"
     ]
    },
    {
     "name": "stderr",
     "output_type": "stream",
     "text": [
      "Mesh is non-watertight for contained point query!\n",
      "Mesh is non-watertight for contained point query!\n",
      "Mesh is non-watertight for contained point query!\n",
      "Mesh is non-watertight for contained point query!\n",
      "Mesh is non-watertight for contained point query!\n",
      "Mesh is non-watertight for contained point query!\n",
      "Mesh is non-watertight for contained point query!\n",
      "Mesh is non-watertight for contained point query!\n",
      "Mesh is non-watertight for contained point query!\n",
      "Mesh is non-watertight for contained point query!\n",
      "Mesh is non-watertight for contained point query!\n",
      "Mesh is non-watertight for contained point query!\n",
      "Mesh is non-watertight for contained point query!\n",
      "Mesh is non-watertight for contained point query!\n",
      "Mesh is non-watertight for contained point query!\n",
      "Mesh is non-watertight for contained point query!\n",
      "Mesh is non-watertight for contained point query!\n",
      "Mesh is non-watertight for contained point query!\n",
      "Mesh is non-watertight for contained point query!\n",
      "Mesh is non-watertight for contained point query!\n",
      "Mesh is non-watertight for contained point query!\n",
      "Mesh is non-watertight for contained point query!\n",
      "100%|██████████| 148597/148597 [00:00<00:00, 183946.35it/s]\n"
     ]
    },
    {
     "name": "stdout",
     "output_type": "stream",
     "text": [
      "Skel done\n"
     ]
    },
    {
     "name": "stderr",
     "output_type": "stream",
     "text": [
      "100%|██████████| 879/879 [00:00<00:00, 152972.62it/s]\n"
     ]
    },
    {
     "name": "stdout",
     "output_type": "stream",
     "text": [
      "Processing mesh errors\n"
     ]
    },
    {
     "name": "stderr",
     "output_type": "stream",
     "text": [
      "100%|██████████| 90/90 [00:00<00:00, 29644.05it/s]\n"
     ]
    },
    {
     "name": "stdout",
     "output_type": "stream",
     "text": [
      "Processing facets\n"
     ]
    },
    {
     "name": "stderr",
     "output_type": "stream",
     "text": [
      "100%|██████████| 864/864 [00:00<00:00, 19868.52it/s]\n",
      "100%|██████████| 864/864 [00:00<00:00, 52117.39it/s]\n"
     ]
    },
    {
     "name": "stdout",
     "output_type": "stream",
     "text": [
      "Downloading Mesh\n",
      "Warning: deduplication not currently supported for this layer's variable layered draco meshes\n",
      "Vertices:  806\n",
      "Subselecting largest connected component of mesh\n",
      "Processing CC's\n"
     ]
    },
    {
     "name": "stderr",
     "output_type": "stream",
     "text": [
      "100%|██████████| 805/805 [00:00<00:00, 251183.95it/s]\n"
     ]
    },
    {
     "name": "stdout",
     "output_type": "stream",
     "text": [
      "Skel done\n"
     ]
    },
    {
     "name": "stderr",
     "output_type": "stream",
     "text": [
      "100%|██████████| 7/7 [00:00<00:00, 9806.32it/s]\n"
     ]
    },
    {
     "name": "stdout",
     "output_type": "stream",
     "text": [
      "Processing mesh errors\n"
     ]
    },
    {
     "name": "stderr",
     "output_type": "stream",
     "text": [
      "100%|██████████| 1/1 [00:00<00:00, 8422.30it/s]\n"
     ]
    },
    {
     "name": "stdout",
     "output_type": "stream",
     "text": [
      "Processing facets\n"
     ]
    },
    {
     "name": "stderr",
     "output_type": "stream",
     "text": [
      "0it [00:00, ?it/s]\n"
     ]
    },
    {
     "name": "stdout",
     "output_type": "stream",
     "text": [
      "Downloading Mesh\n",
      "Warning: deduplication not currently supported for this layer's variable layered draco meshes\n",
      "Vertices:  11858\n",
      "Subselecting largest connected component of mesh\n",
      "Processing CC's\n"
     ]
    },
    {
     "name": "stderr",
     "output_type": "stream",
     "text": [
      "100%|██████████| 11857/11857 [00:00<00:00, 430351.61it/s]\n"
     ]
    },
    {
     "name": "stdout",
     "output_type": "stream",
     "text": [
      "Skel done\n"
     ]
    },
    {
     "name": "stderr",
     "output_type": "stream",
     "text": [
      "100%|██████████| 36/36 [00:00<00:00, 58254.22it/s]\n"
     ]
    },
    {
     "name": "stdout",
     "output_type": "stream",
     "text": [
      "Processing facets\n"
     ]
    },
    {
     "name": "stderr",
     "output_type": "stream",
     "text": [
      "100%|██████████| 51/51 [00:00<00:00, 6294.60it/s]\n",
      "100%|██████████| 51/51 [00:00<00:00, 17599.93it/s]\n"
     ]
    },
    {
     "name": "stdout",
     "output_type": "stream",
     "text": [
      "Downloading Mesh\n",
      "Warning: deduplication not currently supported for this layer's variable layered draco meshes\n",
      "Vertices:  16084\n"
     ]
    },
    {
     "name": "stderr",
     "output_type": "stream",
     "text": [
      "Mesh is non-watertight for contained point query!\n",
      "Mesh is non-watertight for contained point query!\n",
      "Mesh is non-watertight for contained point query!\n",
      "Mesh is non-watertight for contained point query!\n",
      "Mesh is non-watertight for contained point query!\n"
     ]
    },
    {
     "name": "stdout",
     "output_type": "stream",
     "text": [
      "Subselecting largest connected component of mesh\n",
      "Processing CC's\n"
     ]
    },
    {
     "name": "stderr",
     "output_type": "stream",
     "text": [
      "100%|██████████| 16033/16033 [00:00<00:00, 621267.86it/s]\n"
     ]
    },
    {
     "name": "stdout",
     "output_type": "stream",
     "text": [
      "Skel done\n"
     ]
    },
    {
     "name": "stderr",
     "output_type": "stream",
     "text": [
      "100%|██████████| 87/87 [00:00<00:00, 176027.23it/s]\n"
     ]
    },
    {
     "name": "stdout",
     "output_type": "stream",
     "text": [
      "Processing mesh errors\n"
     ]
    },
    {
     "name": "stderr",
     "output_type": "stream",
     "text": [
      "100%|██████████| 7/7 [00:00<00:00, 4765.48it/s]"
     ]
    },
    {
     "name": "stdout",
     "output_type": "stream",
     "text": [
      "Processing facets\n"
     ]
    },
    {
     "name": "stderr",
     "output_type": "stream",
     "text": [
      "\n",
      "100%|██████████| 91/91 [00:00<00:00, 17360.21it/s]\n",
      "100%|██████████| 91/91 [00:00<00:00, 20776.31it/s]\n"
     ]
    },
    {
     "name": "stdout",
     "output_type": "stream",
     "text": [
      "Downloading Mesh\n",
      "Warning: deduplication not currently supported for this layer's variable layered draco meshes\n",
      "Vertices:  528\n",
      "Subselecting largest connected component of mesh\n",
      "Processing CC's\n"
     ]
    },
    {
     "name": "stderr",
     "output_type": "stream",
     "text": [
      "100%|██████████| 527/527 [00:00<00:00, 138288.18it/s]\n"
     ]
    },
    {
     "name": "stdout",
     "output_type": "stream",
     "text": [
      "Skel done\n"
     ]
    },
    {
     "name": "stderr",
     "output_type": "stream",
     "text": [
      "100%|██████████| 2/2 [00:00<00:00, 16644.06it/s]\n"
     ]
    },
    {
     "name": "stdout",
     "output_type": "stream",
     "text": [
      "Processing facets\n"
     ]
    },
    {
     "name": "stderr",
     "output_type": "stream",
     "text": [
      "100%|██████████| 12/12 [00:00<00:00, 4927.71it/s]\n",
      "100%|██████████| 12/12 [00:00<00:00, 32430.19it/s]\n"
     ]
    },
    {
     "name": "stdout",
     "output_type": "stream",
     "text": [
      "Downloading Mesh\n",
      "Warning: deduplication not currently supported for this layer's variable layered draco meshes\n",
      "Vertices:  61226\n",
      "Subselecting largest connected component of mesh\n",
      "Processing CC's\n"
     ]
    },
    {
     "name": "stderr",
     "output_type": "stream",
     "text": [
      "Mesh is non-watertight for contained point query!\n",
      "Mesh is non-watertight for contained point query!\n",
      "Mesh is non-watertight for contained point query!\n",
      "Mesh is non-watertight for contained point query!\n",
      "Mesh is non-watertight for contained point query!\n",
      "Mesh is non-watertight for contained point query!\n",
      "Mesh is non-watertight for contained point query!\n",
      "Mesh is non-watertight for contained point query!\n",
      "Mesh is non-watertight for contained point query!\n",
      "100%|██████████| 61096/61096 [00:00<00:00, 407015.93it/s]\n"
     ]
    },
    {
     "name": "stdout",
     "output_type": "stream",
     "text": [
      "Skel done\n"
     ]
    },
    {
     "name": "stderr",
     "output_type": "stream",
     "text": [
      "100%|██████████| 179/179 [00:00<00:00, 118438.31it/s]\n"
     ]
    },
    {
     "name": "stdout",
     "output_type": "stream",
     "text": [
      "Processing mesh errors\n"
     ]
    },
    {
     "name": "stderr",
     "output_type": "stream",
     "text": [
      "100%|██████████| 12/12 [00:00<00:00, 14051.27it/s]\n"
     ]
    },
    {
     "name": "stdout",
     "output_type": "stream",
     "text": [
      "Processing facets\n"
     ]
    },
    {
     "name": "stderr",
     "output_type": "stream",
     "text": [
      "100%|██████████| 153/153 [00:00<00:00, 16643.20it/s]\n",
      "100%|██████████| 153/153 [00:00<00:00, 33159.12it/s]\n"
     ]
    },
    {
     "name": "stdout",
     "output_type": "stream",
     "text": [
      "Downloading Mesh\n",
      "Warning: deduplication not currently supported for this layer's variable layered draco meshes\n",
      "Vertices:  7735\n",
      "Subselecting largest connected component of mesh\n",
      "Processing CC's\n"
     ]
    },
    {
     "name": "stderr",
     "output_type": "stream",
     "text": [
      "100%|██████████| 7727/7727 [00:00<00:00, 559486.72it/s]\n"
     ]
    },
    {
     "name": "stdout",
     "output_type": "stream",
     "text": [
      "Skel done\n"
     ]
    },
    {
     "name": "stderr",
     "output_type": "stream",
     "text": [
      "100%|██████████| 37/37 [00:00<00:00, 61050.06it/s]\n"
     ]
    },
    {
     "name": "stdout",
     "output_type": "stream",
     "text": [
      "Processing mesh errors\n"
     ]
    },
    {
     "name": "stderr",
     "output_type": "stream",
     "text": [
      "100%|██████████| 2/2 [00:00<00:00, 1974.72it/s]\n"
     ]
    },
    {
     "name": "stdout",
     "output_type": "stream",
     "text": [
      "Processing facets\n"
     ]
    },
    {
     "name": "stderr",
     "output_type": "stream",
     "text": [
      "100%|██████████| 38/38 [00:00<00:00, 7870.79it/s]\n",
      "100%|██████████| 38/38 [00:00<00:00, 26081.42it/s]\n"
     ]
    },
    {
     "name": "stdout",
     "output_type": "stream",
     "text": [
      "Downloading Mesh\n",
      "Warning: deduplication not currently supported for this layer's variable layered draco meshes\n",
      "Vertices:  15732\n",
      "Subselecting largest connected component of mesh\n",
      "Processing CC's\n"
     ]
    },
    {
     "name": "stderr",
     "output_type": "stream",
     "text": [
      "100%|██████████| 15673/15673 [00:00<00:00, 676108.22it/s]\n"
     ]
    },
    {
     "name": "stdout",
     "output_type": "stream",
     "text": [
      "Skel done\n"
     ]
    },
    {
     "name": "stderr",
     "output_type": "stream",
     "text": [
      "100%|██████████| 67/67 [00:00<00:00, 138160.46it/s]\n"
     ]
    },
    {
     "name": "stdout",
     "output_type": "stream",
     "text": [
      "Processing mesh errors\n"
     ]
    },
    {
     "name": "stderr",
     "output_type": "stream",
     "text": [
      "100%|██████████| 5/5 [00:00<00:00, 7342.97it/s]"
     ]
    },
    {
     "name": "stdout",
     "output_type": "stream",
     "text": [
      "Processing facets\n"
     ]
    },
    {
     "name": "stderr",
     "output_type": "stream",
     "text": [
      "\n",
      "100%|██████████| 83/83 [00:00<00:00, 12652.27it/s]\n",
      "100%|██████████| 83/83 [00:00<00:00, 27195.32it/s]\n"
     ]
    },
    {
     "name": "stdout",
     "output_type": "stream",
     "text": [
      "Downloading Mesh\n",
      "Warning: deduplication not currently supported for this layer's variable layered draco meshes\n",
      "Vertices:  110\n",
      "Subselecting largest connected component of mesh\n",
      "Processing CC's\n"
     ]
    },
    {
     "name": "stderr",
     "output_type": "stream",
     "text": [
      "100%|██████████| 109/109 [00:00<00:00, 48332.71it/s]\n"
     ]
    },
    {
     "name": "stdout",
     "output_type": "stream",
     "text": [
      "Skel done\n"
     ]
    },
    {
     "name": "stderr",
     "output_type": "stream",
     "text": [
      "100%|██████████| 2/2 [00:00<00:00, 17084.74it/s]\n"
     ]
    },
    {
     "name": "stdout",
     "output_type": "stream",
     "text": [
      "Downloading Mesh\n",
      "Warning: deduplication not currently supported for this layer's variable layered draco meshes\n",
      "Vertices:  100996\n",
      "Subselecting largest connected component of mesh\n",
      "Processing CC's\n"
     ]
    },
    {
     "name": "stderr",
     "output_type": "stream",
     "text": [
      "Mesh is non-watertight for contained point query!\n",
      "Mesh is non-watertight for contained point query!\n",
      "Mesh is non-watertight for contained point query!\n",
      "Mesh is non-watertight for contained point query!\n",
      "Mesh is non-watertight for contained point query!\n",
      "Mesh is non-watertight for contained point query!\n",
      "Mesh is non-watertight for contained point query!\n",
      "Mesh is non-watertight for contained point query!\n",
      "Mesh is non-watertight for contained point query!\n",
      "Mesh is non-watertight for contained point query!\n",
      "Mesh is non-watertight for contained point query!\n",
      "Mesh is non-watertight for contained point query!\n",
      "Mesh is non-watertight for contained point query!\n",
      "100%|██████████| 100854/100854 [00:00<00:00, 163295.40it/s]\n"
     ]
    },
    {
     "name": "stdout",
     "output_type": "stream",
     "text": [
      "Skel done\n"
     ]
    },
    {
     "name": "stderr",
     "output_type": "stream",
     "text": [
      "100%|██████████| 455/455 [00:00<00:00, 167213.56it/s]\n"
     ]
    },
    {
     "name": "stdout",
     "output_type": "stream",
     "text": [
      "Processing mesh errors\n"
     ]
    },
    {
     "name": "stderr",
     "output_type": "stream",
     "text": [
      "100%|██████████| 31/31 [00:00<00:00, 21724.88it/s]\n"
     ]
    },
    {
     "name": "stdout",
     "output_type": "stream",
     "text": [
      "Processing facets\n"
     ]
    },
    {
     "name": "stderr",
     "output_type": "stream",
     "text": [
      "100%|██████████| 492/492 [00:00<00:00, 19381.60it/s]\n",
      "100%|██████████| 492/492 [00:00<00:00, 51470.27it/s]\n"
     ]
    },
    {
     "name": "stdout",
     "output_type": "stream",
     "text": [
      "Downloading Mesh\n",
      "Warning: deduplication not currently supported for this layer's variable layered draco meshes\n",
      "Vertices:  88632\n",
      "Subselecting largest connected component of mesh\n",
      "Processing CC's\n"
     ]
    },
    {
     "name": "stderr",
     "output_type": "stream",
     "text": [
      "Mesh is non-watertight for contained point query!\n",
      "Mesh is non-watertight for contained point query!\n",
      "Mesh is non-watertight for contained point query!\n",
      "Mesh is non-watertight for contained point query!\n",
      "Mesh is non-watertight for contained point query!\n",
      "Mesh is non-watertight for contained point query!\n",
      "Mesh is non-watertight for contained point query!\n",
      "Mesh is non-watertight for contained point query!\n",
      "100%|██████████| 88512/88512 [00:00<00:00, 327733.69it/s]\n"
     ]
    },
    {
     "name": "stdout",
     "output_type": "stream",
     "text": [
      "Skel done\n"
     ]
    },
    {
     "name": "stderr",
     "output_type": "stream",
     "text": [
      "100%|██████████| 458/458 [00:00<00:00, 127327.58it/s]\n"
     ]
    },
    {
     "name": "stdout",
     "output_type": "stream",
     "text": [
      "Processing mesh errors\n"
     ]
    },
    {
     "name": "stderr",
     "output_type": "stream",
     "text": [
      "100%|██████████| 25/25 [00:00<00:00, 19904.63it/s]\n"
     ]
    },
    {
     "name": "stdout",
     "output_type": "stream",
     "text": [
      "Processing facets\n"
     ]
    },
    {
     "name": "stderr",
     "output_type": "stream",
     "text": [
      "100%|██████████| 316/316 [00:00<00:00, 18419.08it/s]\n",
      "100%|██████████| 316/316 [00:00<00:00, 36722.82it/s]\n"
     ]
    },
    {
     "name": "stdout",
     "output_type": "stream",
     "text": [
      "Downloading Mesh\n",
      "Warning: deduplication not currently supported for this layer's variable layered draco meshes\n",
      "Vertices:  38883\n",
      "Subselecting largest connected component of mesh\n",
      "Processing CC's\n"
     ]
    },
    {
     "name": "stderr",
     "output_type": "stream",
     "text": [
      "Mesh is non-watertight for contained point query!\n",
      "Mesh is non-watertight for contained point query!\n",
      "Mesh is non-watertight for contained point query!\n",
      "100%|██████████| 38834/38834 [00:00<00:00, 228754.09it/s]\n"
     ]
    },
    {
     "name": "stdout",
     "output_type": "stream",
     "text": [
      "Skel done\n"
     ]
    },
    {
     "name": "stderr",
     "output_type": "stream",
     "text": [
      "100%|██████████| 208/208 [00:00<00:00, 162764.04it/s]\n"
     ]
    },
    {
     "name": "stdout",
     "output_type": "stream",
     "text": [
      "Processing mesh errors\n"
     ]
    },
    {
     "name": "stderr",
     "output_type": "stream",
     "text": [
      "100%|██████████| 19/19 [00:00<00:00, 14741.36it/s]\n"
     ]
    },
    {
     "name": "stdout",
     "output_type": "stream",
     "text": [
      "Processing facets\n"
     ]
    },
    {
     "name": "stderr",
     "output_type": "stream",
     "text": [
      "100%|██████████| 228/228 [00:00<00:00, 10186.31it/s]\n",
      "100%|██████████| 228/228 [00:00<00:00, 33844.19it/s]\n"
     ]
    },
    {
     "name": "stdout",
     "output_type": "stream",
     "text": [
      "Downloading Mesh\n",
      "Warning: deduplication not currently supported for this layer's variable layered draco meshes\n",
      "Vertices:  4897\n",
      "Subselecting largest connected component of mesh\n",
      "Processing CC's\n"
     ]
    },
    {
     "name": "stderr",
     "output_type": "stream",
     "text": [
      "100%|██████████| 4896/4896 [00:00<00:00, 458940.94it/s]\n"
     ]
    },
    {
     "name": "stdout",
     "output_type": "stream",
     "text": [
      "Skel done\n"
     ]
    },
    {
     "name": "stderr",
     "output_type": "stream",
     "text": [
      "100%|██████████| 25/25 [00:00<00:00, 13593.16it/s]\n"
     ]
    },
    {
     "name": "stdout",
     "output_type": "stream",
     "text": [
      "Processing mesh errors\n"
     ]
    },
    {
     "name": "stderr",
     "output_type": "stream",
     "text": [
      "100%|██████████| 2/2 [00:00<00:00, 1292.15it/s]\n"
     ]
    },
    {
     "name": "stdout",
     "output_type": "stream",
     "text": [
      "Processing facets\n"
     ]
    },
    {
     "name": "stderr",
     "output_type": "stream",
     "text": [
      "100%|██████████| 9/9 [00:00<00:00, 4336.94it/s]\n",
      "100%|██████████| 9/9 [00:00<00:00, 30030.82it/s]\n"
     ]
    },
    {
     "name": "stdout",
     "output_type": "stream",
     "text": [
      "Downloading Mesh\n",
      "Warning: deduplication not currently supported for this layer's variable layered draco meshes\n",
      "Vertices:  79906\n",
      "Subselecting largest connected component of mesh\n",
      "Processing CC's\n"
     ]
    },
    {
     "name": "stderr",
     "output_type": "stream",
     "text": [
      "Mesh is non-watertight for contained point query!\n",
      "Mesh is non-watertight for contained point query!\n",
      "Mesh is non-watertight for contained point query!\n",
      "Mesh is non-watertight for contained point query!\n",
      "100%|██████████| 79862/79862 [00:00<00:00, 179113.39it/s]\n"
     ]
    },
    {
     "name": "stdout",
     "output_type": "stream",
     "text": [
      "Skel done\n"
     ]
    },
    {
     "name": "stderr",
     "output_type": "stream",
     "text": [
      "100%|██████████| 505/505 [00:00<00:00, 259065.99it/s]\n"
     ]
    },
    {
     "name": "stdout",
     "output_type": "stream",
     "text": [
      "Processing mesh errors\n"
     ]
    },
    {
     "name": "stderr",
     "output_type": "stream",
     "text": [
      "100%|██████████| 42/42 [00:00<00:00, 25769.57it/s]\n"
     ]
    },
    {
     "name": "stdout",
     "output_type": "stream",
     "text": [
      "Processing facets\n"
     ]
    },
    {
     "name": "stderr",
     "output_type": "stream",
     "text": [
      "100%|██████████| 363/363 [00:00<00:00, 19494.15it/s]\n",
      "100%|██████████| 363/363 [00:00<00:00, 37538.71it/s]\n"
     ]
    },
    {
     "name": "stdout",
     "output_type": "stream",
     "text": [
      "Downloading Mesh\n",
      "Warning: deduplication not currently supported for this layer's variable layered draco meshes\n",
      "Vertices:  17683\n",
      "Subselecting largest connected component of mesh\n",
      "Processing CC's\n"
     ]
    },
    {
     "name": "stderr",
     "output_type": "stream",
     "text": [
      "100%|██████████| 17673/17673 [00:00<00:00, 413075.22it/s]\n"
     ]
    },
    {
     "name": "stdout",
     "output_type": "stream",
     "text": [
      "Skel done\n"
     ]
    },
    {
     "name": "stderr",
     "output_type": "stream",
     "text": [
      "100%|██████████| 107/107 [00:00<00:00, 110512.32it/s]\n"
     ]
    },
    {
     "name": "stdout",
     "output_type": "stream",
     "text": [
      "Processing mesh errors\n"
     ]
    },
    {
     "name": "stderr",
     "output_type": "stream",
     "text": [
      "100%|██████████| 11/11 [00:00<00:00, 25294.60it/s]"
     ]
    },
    {
     "name": "stdout",
     "output_type": "stream",
     "text": [
      "Processing facets\n"
     ]
    },
    {
     "name": "stderr",
     "output_type": "stream",
     "text": [
      "\n",
      "100%|██████████| 52/52 [00:00<00:00, 11813.02it/s]\n",
      "100%|██████████| 52/52 [00:00<00:00, 10244.42it/s]\n"
     ]
    },
    {
     "name": "stdout",
     "output_type": "stream",
     "text": [
      "Downloading Mesh\n",
      "Warning: deduplication not currently supported for this layer's variable layered draco meshes\n",
      "Vertices:  18981\n"
     ]
    },
    {
     "name": "stderr",
     "output_type": "stream",
     "text": [
      "Mesh is non-watertight for contained point query!\n",
      "Mesh is non-watertight for contained point query!\n"
     ]
    },
    {
     "name": "stdout",
     "output_type": "stream",
     "text": [
      "Subselecting largest connected component of mesh\n",
      "Processing CC's\n"
     ]
    },
    {
     "name": "stderr",
     "output_type": "stream",
     "text": [
      "100%|██████████| 18968/18968 [00:00<00:00, 416586.25it/s]\n"
     ]
    },
    {
     "name": "stdout",
     "output_type": "stream",
     "text": [
      "Skel done\n"
     ]
    },
    {
     "name": "stderr",
     "output_type": "stream",
     "text": [
      "100%|██████████| 125/125 [00:00<00:00, 125788.87it/s]\n"
     ]
    },
    {
     "name": "stdout",
     "output_type": "stream",
     "text": [
      "Processing mesh errors\n"
     ]
    },
    {
     "name": "stderr",
     "output_type": "stream",
     "text": [
      "100%|██████████| 13/13 [00:00<00:00, 23635.00it/s]"
     ]
    },
    {
     "name": "stdout",
     "output_type": "stream",
     "text": [
      "Processing facets\n"
     ]
    },
    {
     "name": "stderr",
     "output_type": "stream",
     "text": [
      "\n",
      "100%|██████████| 54/54 [00:00<00:00, 8244.48it/s]\n",
      "100%|██████████| 54/54 [00:00<00:00, 49767.62it/s]\n"
     ]
    },
    {
     "name": "stdout",
     "output_type": "stream",
     "text": [
      "Downloading Mesh\n",
      "Warning: deduplication not currently supported for this layer's variable layered draco meshes\n",
      "Vertices:  68355\n",
      "Subselecting largest connected component of mesh\n",
      "Processing CC's\n"
     ]
    },
    {
     "name": "stderr",
     "output_type": "stream",
     "text": [
      "Mesh is non-watertight for contained point query!\n",
      "Mesh is non-watertight for contained point query!\n",
      "Mesh is non-watertight for contained point query!\n",
      "100%|██████████| 68316/68316 [00:00<00:00, 299715.67it/s]\n"
     ]
    },
    {
     "name": "stdout",
     "output_type": "stream",
     "text": [
      "Skel done\n"
     ]
    },
    {
     "name": "stderr",
     "output_type": "stream",
     "text": [
      "100%|██████████| 397/397 [00:00<00:00, 113972.53it/s]\n"
     ]
    },
    {
     "name": "stdout",
     "output_type": "stream",
     "text": [
      "Processing mesh errors\n"
     ]
    },
    {
     "name": "stderr",
     "output_type": "stream",
     "text": [
      "100%|██████████| 30/30 [00:00<00:00, 55358.17it/s]\n"
     ]
    },
    {
     "name": "stdout",
     "output_type": "stream",
     "text": [
      "Processing facets\n"
     ]
    },
    {
     "name": "stderr",
     "output_type": "stream",
     "text": [
      "100%|██████████| 354/354 [00:00<00:00, 19587.14it/s]\n",
      "100%|██████████| 354/354 [00:00<00:00, 39623.82it/s]\n"
     ]
    },
    {
     "name": "stdout",
     "output_type": "stream",
     "text": [
      "Downloading Mesh\n",
      "Warning: deduplication not currently supported for this layer's variable layered draco meshes\n",
      "Vertices:  2624\n",
      "Subselecting largest connected component of mesh\n",
      "Processing CC's\n"
     ]
    },
    {
     "name": "stderr",
     "output_type": "stream",
     "text": [
      "100%|██████████| 2623/2623 [00:00<00:00, 306563.92it/s]\n"
     ]
    },
    {
     "name": "stdout",
     "output_type": "stream",
     "text": [
      "Skel done\n"
     ]
    },
    {
     "name": "stderr",
     "output_type": "stream",
     "text": [
      "100%|██████████| 23/23 [00:00<00:00, 62197.93it/s]\n"
     ]
    },
    {
     "name": "stdout",
     "output_type": "stream",
     "text": [
      "Downloading Mesh\n",
      "Warning: deduplication not currently supported for this layer's variable layered draco meshes\n",
      "Vertices:  47772\n",
      "Subselecting largest connected component of mesh\n",
      "Processing CC's\n"
     ]
    },
    {
     "name": "stderr",
     "output_type": "stream",
     "text": [
      "Mesh is non-watertight for contained point query!\n",
      "Mesh is non-watertight for contained point query!\n",
      "Mesh is non-watertight for contained point query!\n",
      "100%|██████████| 47752/47752 [00:00<00:00, 500598.37it/s]\n"
     ]
    },
    {
     "name": "stdout",
     "output_type": "stream",
     "text": [
      "Skel done\n"
     ]
    },
    {
     "name": "stderr",
     "output_type": "stream",
     "text": [
      "100%|██████████| 254/254 [00:00<00:00, 154690.46it/s]\n"
     ]
    },
    {
     "name": "stdout",
     "output_type": "stream",
     "text": [
      "Processing mesh errors\n"
     ]
    },
    {
     "name": "stderr",
     "output_type": "stream",
     "text": [
      "100%|██████████| 17/17 [00:00<00:00, 43905.89it/s]\n"
     ]
    },
    {
     "name": "stdout",
     "output_type": "stream",
     "text": [
      "Processing facets\n"
     ]
    },
    {
     "name": "stderr",
     "output_type": "stream",
     "text": [
      "100%|██████████| 199/199 [00:00<00:00, 19270.13it/s]\n",
      "100%|██████████| 199/199 [00:00<00:00, 35667.98it/s]\n"
     ]
    },
    {
     "name": "stdout",
     "output_type": "stream",
     "text": [
      "Downloading Mesh\n",
      "Warning: deduplication not currently supported for this layer's variable layered draco meshes\n",
      "Vertices:  73440\n",
      "Subselecting largest connected component of mesh\n",
      "Processing CC's\n"
     ]
    },
    {
     "name": "stderr",
     "output_type": "stream",
     "text": [
      "Mesh is non-watertight for contained point query!\n",
      "Mesh is non-watertight for contained point query!\n",
      "Mesh is non-watertight for contained point query!\n",
      "Mesh is non-watertight for contained point query!\n",
      "100%|██████████| 73391/73391 [00:00<00:00, 447243.98it/s]\n"
     ]
    },
    {
     "name": "stdout",
     "output_type": "stream",
     "text": [
      "Skel done\n"
     ]
    },
    {
     "name": "stderr",
     "output_type": "stream",
     "text": [
      "100%|██████████| 421/421 [00:00<00:00, 253016.48it/s]\n"
     ]
    },
    {
     "name": "stdout",
     "output_type": "stream",
     "text": [
      "Processing mesh errors\n"
     ]
    },
    {
     "name": "stderr",
     "output_type": "stream",
     "text": [
      "100%|██████████| 18/18 [00:00<00:00, 18018.49it/s]\n"
     ]
    },
    {
     "name": "stdout",
     "output_type": "stream",
     "text": [
      "Processing facets\n"
     ]
    },
    {
     "name": "stderr",
     "output_type": "stream",
     "text": [
      "100%|██████████| 419/419 [00:00<00:00, 26487.41it/s]\n",
      "100%|██████████| 419/419 [00:00<00:00, 38900.62it/s]\n"
     ]
    },
    {
     "name": "stdout",
     "output_type": "stream",
     "text": [
      "Downloading Mesh\n",
      "Warning: deduplication not currently supported for this layer's variable layered draco meshes\n",
      "Vertices:  9676\n"
     ]
    },
    {
     "name": "stderr",
     "output_type": "stream",
     "text": [
      "Mesh is non-watertight for contained point query!\n",
      "Mesh is non-watertight for contained point query!\n"
     ]
    },
    {
     "name": "stdout",
     "output_type": "stream",
     "text": [
      "Subselecting largest connected component of mesh\n",
      "Processing CC's\n"
     ]
    },
    {
     "name": "stderr",
     "output_type": "stream",
     "text": [
      "100%|██████████| 9662/9662 [00:00<00:00, 703308.95it/s]\n"
     ]
    },
    {
     "name": "stdout",
     "output_type": "stream",
     "text": [
      "Skel done\n"
     ]
    },
    {
     "name": "stderr",
     "output_type": "stream",
     "text": [
      "100%|██████████| 64/64 [00:00<00:00, 123760.01it/s]\n"
     ]
    },
    {
     "name": "stdout",
     "output_type": "stream",
     "text": [
      "Processing mesh errors\n"
     ]
    },
    {
     "name": "stderr",
     "output_type": "stream",
     "text": [
      "100%|██████████| 5/5 [00:00<00:00, 12108.27it/s]"
     ]
    },
    {
     "name": "stdout",
     "output_type": "stream",
     "text": [
      "Processing facets\n"
     ]
    },
    {
     "name": "stderr",
     "output_type": "stream",
     "text": [
      "\n",
      "100%|██████████| 26/26 [00:00<00:00, 4922.23it/s]\n",
      "100%|██████████| 26/26 [00:00<00:00, 18193.51it/s]\n"
     ]
    },
    {
     "name": "stdout",
     "output_type": "stream",
     "text": [
      "Downloading Mesh\n",
      "Warning: deduplication not currently supported for this layer's variable layered draco meshes\n",
      "Vertices:  3957\n",
      "Subselecting largest connected component of mesh\n",
      "Processing CC's\n"
     ]
    },
    {
     "name": "stderr",
     "output_type": "stream",
     "text": [
      "100%|██████████| 3950/3950 [00:00<00:00, 252865.59it/s]\n"
     ]
    },
    {
     "name": "stdout",
     "output_type": "stream",
     "text": [
      "Skel done\n"
     ]
    },
    {
     "name": "stderr",
     "output_type": "stream",
     "text": [
      "100%|██████████| 17/17 [00:00<00:00, 32573.40it/s]\n"
     ]
    },
    {
     "name": "stdout",
     "output_type": "stream",
     "text": [
      "Processing mesh errors\n"
     ]
    },
    {
     "name": "stderr",
     "output_type": "stream",
     "text": [
      "100%|██████████| 2/2 [00:00<00:00, 7936.24it/s]\n"
     ]
    },
    {
     "name": "stdout",
     "output_type": "stream",
     "text": [
      "Processing facets\n"
     ]
    },
    {
     "name": "stderr",
     "output_type": "stream",
     "text": [
      "100%|██████████| 31/31 [00:00<00:00, 12062.66it/s]\n",
      "100%|██████████| 31/31 [00:00<00:00, 26357.88it/s]\n"
     ]
    },
    {
     "name": "stdout",
     "output_type": "stream",
     "text": [
      "Downloading Mesh\n",
      "Warning: deduplication not currently supported for this layer's variable layered draco meshes\n",
      "Vertices:  971\n",
      "Subselecting largest connected component of mesh\n",
      "Processing CC's\n"
     ]
    },
    {
     "name": "stderr",
     "output_type": "stream",
     "text": [
      "100%|██████████| 970/970 [00:00<00:00, 208746.79it/s]\n"
     ]
    },
    {
     "name": "stdout",
     "output_type": "stream",
     "text": [
      "Skel done\n"
     ]
    },
    {
     "name": "stderr",
     "output_type": "stream",
     "text": [
      "100%|██████████| 5/5 [00:00<00:00, 11875.15it/s]\n"
     ]
    },
    {
     "name": "stdout",
     "output_type": "stream",
     "text": [
      "Downloading Mesh\n",
      "Warning: deduplication not currently supported for this layer's variable layered draco meshes\n",
      "Vertices:  5808\n",
      "Subselecting largest connected component of mesh\n",
      "Processing CC's\n"
     ]
    },
    {
     "name": "stderr",
     "output_type": "stream",
     "text": [
      "100%|██████████| 5807/5807 [00:00<00:00, 428619.86it/s]\n"
     ]
    },
    {
     "name": "stdout",
     "output_type": "stream",
     "text": [
      "Skel done\n"
     ]
    },
    {
     "name": "stderr",
     "output_type": "stream",
     "text": [
      "100%|██████████| 38/38 [00:00<00:00, 33717.70it/s]\n"
     ]
    },
    {
     "name": "stdout",
     "output_type": "stream",
     "text": [
      "Processing mesh errors\n"
     ]
    },
    {
     "name": "stderr",
     "output_type": "stream",
     "text": [
      "100%|██████████| 7/7 [00:00<00:00, 14491.67it/s]\n"
     ]
    },
    {
     "name": "stdout",
     "output_type": "stream",
     "text": [
      "Processing facets\n"
     ]
    },
    {
     "name": "stderr",
     "output_type": "stream",
     "text": [
      "100%|██████████| 30/30 [00:00<00:00, 10424.08it/s]\n",
      "100%|██████████| 30/30 [00:00<00:00, 12356.78it/s]\n"
     ]
    },
    {
     "name": "stdout",
     "output_type": "stream",
     "text": [
      "Downloading Mesh\n",
      "Warning: deduplication not currently supported for this layer's variable layered draco meshes\n",
      "Vertices:  12089\n"
     ]
    },
    {
     "name": "stderr",
     "output_type": "stream",
     "text": [
      "Mesh is non-watertight for contained point query!\n",
      "Mesh is non-watertight for contained point query!\n",
      "Mesh is non-watertight for contained point query!\n",
      "Mesh is non-watertight for contained point query!\n"
     ]
    },
    {
     "name": "stdout",
     "output_type": "stream",
     "text": [
      "Subselecting largest connected component of mesh\n",
      "Processing CC's\n"
     ]
    },
    {
     "name": "stderr",
     "output_type": "stream",
     "text": [
      "100%|██████████| 11967/11967 [00:00<00:00, 385692.39it/s]\n"
     ]
    },
    {
     "name": "stdout",
     "output_type": "stream",
     "text": [
      "Skel done\n"
     ]
    },
    {
     "name": "stderr",
     "output_type": "stream",
     "text": [
      "100%|██████████| 54/54 [00:00<00:00, 54327.76it/s]\n"
     ]
    },
    {
     "name": "stdout",
     "output_type": "stream",
     "text": [
      "Processing mesh errors\n"
     ]
    },
    {
     "name": "stderr",
     "output_type": "stream",
     "text": [
      "100%|██████████| 4/4 [00:00<00:00, 3283.86it/s]"
     ]
    },
    {
     "name": "stdout",
     "output_type": "stream",
     "text": [
      "Processing facets\n"
     ]
    },
    {
     "name": "stderr",
     "output_type": "stream",
     "text": [
      "\n",
      "100%|██████████| 82/82 [00:00<00:00, 8173.12it/s]\n",
      "100%|██████████| 82/82 [00:00<00:00, 33805.08it/s]\n"
     ]
    },
    {
     "name": "stdout",
     "output_type": "stream",
     "text": [
      "Downloading Mesh\n",
      "Warning: deduplication not currently supported for this layer's variable layered draco meshes\n",
      "Vertices:  15375\n",
      "Subselecting largest connected component of mesh\n",
      "Processing CC's\n"
     ]
    },
    {
     "name": "stderr",
     "output_type": "stream",
     "text": [
      "100%|██████████| 15204/15204 [00:00<00:00, 30063.95it/s]\n"
     ]
    },
    {
     "name": "stdout",
     "output_type": "stream",
     "text": [
      "Skel done\n"
     ]
    },
    {
     "name": "stderr",
     "output_type": "stream",
     "text": [
      "100%|██████████| 68/68 [00:00<00:00, 95484.66it/s]\n"
     ]
    },
    {
     "name": "stdout",
     "output_type": "stream",
     "text": [
      "Processing mesh errors\n"
     ]
    },
    {
     "name": "stderr",
     "output_type": "stream",
     "text": [
      "100%|██████████| 2/2 [00:00<00:00, 1716.51it/s]\n"
     ]
    },
    {
     "name": "stdout",
     "output_type": "stream",
     "text": [
      "Processing facets\n"
     ]
    },
    {
     "name": "stderr",
     "output_type": "stream",
     "text": [
      "100%|██████████| 75/75 [00:00<00:00, 339.06it/s]\n",
      "100%|██████████| 75/75 [00:00<00:00, 18577.50it/s]\n"
     ]
    },
    {
     "name": "stdout",
     "output_type": "stream",
     "text": [
      "Downloading Mesh\n",
      "Warning: deduplication not currently supported for this layer's variable layered draco meshes\n",
      "Vertices:  2424\n",
      "Subselecting largest connected component of mesh\n",
      "Processing CC's\n"
     ]
    },
    {
     "name": "stderr",
     "output_type": "stream",
     "text": [
      "100%|██████████| 2423/2423 [00:00<00:00, 308665.11it/s]\n"
     ]
    },
    {
     "name": "stdout",
     "output_type": "stream",
     "text": [
      "Skel done\n"
     ]
    },
    {
     "name": "stderr",
     "output_type": "stream",
     "text": [
      "100%|██████████| 18/18 [00:00<00:00, 16380.45it/s]\n"
     ]
    },
    {
     "name": "stdout",
     "output_type": "stream",
     "text": [
      "Processing mesh errors\n"
     ]
    },
    {
     "name": "stderr",
     "output_type": "stream",
     "text": [
      "100%|██████████| 3/3 [00:00<00:00, 10263.39it/s]\n"
     ]
    },
    {
     "name": "stdout",
     "output_type": "stream",
     "text": [
      "Processing facets\n"
     ]
    },
    {
     "name": "stderr",
     "output_type": "stream",
     "text": [
      "100%|██████████| 8/8 [00:00<00:00, 3713.83it/s]\n",
      "100%|██████████| 8/8 [00:00<00:00, 11218.47it/s]\n"
     ]
    },
    {
     "name": "stdout",
     "output_type": "stream",
     "text": [
      "Downloading Mesh\n",
      "Warning: deduplication not currently supported for this layer's variable layered draco meshes\n",
      "Vertices:  2722\n",
      "Subselecting largest connected component of mesh\n",
      "Processing CC's\n"
     ]
    },
    {
     "name": "stderr",
     "output_type": "stream",
     "text": [
      "100%|██████████| 2721/2721 [00:00<00:00, 290362.58it/s]\n"
     ]
    },
    {
     "name": "stdout",
     "output_type": "stream",
     "text": [
      "Skel done\n"
     ]
    },
    {
     "name": "stderr",
     "output_type": "stream",
     "text": [
      "100%|██████████| 21/21 [00:00<00:00, 49622.75it/s]\n"
     ]
    },
    {
     "name": "stdout",
     "output_type": "stream",
     "text": [
      "Processing mesh errors\n"
     ]
    },
    {
     "name": "stderr",
     "output_type": "stream",
     "text": [
      "100%|██████████| 3/3 [00:00<00:00, 16666.11it/s]\n"
     ]
    },
    {
     "name": "stdout",
     "output_type": "stream",
     "text": [
      "Processing facets\n"
     ]
    },
    {
     "name": "stderr",
     "output_type": "stream",
     "text": [
      "100%|██████████| 10/10 [00:00<00:00, 4035.31it/s]\n",
      "100%|██████████| 10/10 [00:00<00:00, 13353.40it/s]\n"
     ]
    },
    {
     "name": "stdout",
     "output_type": "stream",
     "text": [
      "Downloading Mesh\n",
      "Warning: deduplication not currently supported for this layer's variable layered draco meshes\n",
      "Vertices:  22862\n",
      "Subselecting largest connected component of mesh\n",
      "Processing CC's\n"
     ]
    },
    {
     "name": "stderr",
     "output_type": "stream",
     "text": [
      "Mesh is non-watertight for contained point query!\n",
      "Mesh is non-watertight for contained point query!\n",
      "Mesh is non-watertight for contained point query!\n",
      "100%|██████████| 22838/22838 [00:00<00:00, 258889.88it/s]\n"
     ]
    },
    {
     "name": "stdout",
     "output_type": "stream",
     "text": [
      "Skel done\n"
     ]
    },
    {
     "name": "stderr",
     "output_type": "stream",
     "text": [
      "100%|██████████| 170/170 [00:00<00:00, 134280.92it/s]\n"
     ]
    },
    {
     "name": "stdout",
     "output_type": "stream",
     "text": [
      "Processing mesh errors\n"
     ]
    },
    {
     "name": "stderr",
     "output_type": "stream",
     "text": [
      "100%|██████████| 14/14 [00:00<00:00, 15383.88it/s]\n"
     ]
    },
    {
     "name": "stdout",
     "output_type": "stream",
     "text": [
      "Processing facets\n"
     ]
    },
    {
     "name": "stderr",
     "output_type": "stream",
     "text": [
      "100%|██████████| 81/81 [00:00<00:00, 8503.03it/s]\n",
      "100%|██████████| 81/81 [00:00<00:00, 20967.64it/s]\n"
     ]
    },
    {
     "name": "stdout",
     "output_type": "stream",
     "text": [
      "Downloading Mesh\n",
      "Warning: deduplication not currently supported for this layer's variable layered draco meshes\n",
      "Vertices:  382\n",
      "Subselecting largest connected component of mesh\n",
      "Processing CC's\n"
     ]
    },
    {
     "name": "stderr",
     "output_type": "stream",
     "text": [
      "100%|██████████| 381/381 [00:00<00:00, 200530.78it/s]\n"
     ]
    },
    {
     "name": "stdout",
     "output_type": "stream",
     "text": [
      "Skel done\n"
     ]
    },
    {
     "name": "stderr",
     "output_type": "stream",
     "text": [
      "100%|██████████| 1/1 [00:00<00:00, 3625.15it/s]\n"
     ]
    },
    {
     "name": "stdout",
     "output_type": "stream",
     "text": [
      "Downloading Mesh\n",
      "Warning: deduplication not currently supported for this layer's variable layered draco meshes\n",
      "Vertices:  211\n",
      "Subselecting largest connected component of mesh\n",
      "Processing CC's\n"
     ]
    },
    {
     "name": "stderr",
     "output_type": "stream",
     "text": [
      "100%|██████████| 210/210 [00:00<00:00, 64002.60it/s]\n"
     ]
    },
    {
     "name": "stdout",
     "output_type": "stream",
     "text": [
      "Skel done\n"
     ]
    },
    {
     "name": "stderr",
     "output_type": "stream",
     "text": [
      "100%|██████████| 1/1 [00:00<00:00, 2104.52it/s]\n"
     ]
    },
    {
     "name": "stdout",
     "output_type": "stream",
     "text": [
      "Downloading Mesh\n",
      "Warning: deduplication not currently supported for this layer's variable layered draco meshes\n",
      "Vertices:  15665\n",
      "Subselecting largest connected component of mesh\n",
      "Processing CC's\n"
     ]
    },
    {
     "name": "stderr",
     "output_type": "stream",
     "text": [
      "100%|██████████| 15662/15662 [00:00<00:00, 260803.51it/s]\n"
     ]
    },
    {
     "name": "stdout",
     "output_type": "stream",
     "text": [
      "Skel done\n"
     ]
    },
    {
     "name": "stderr",
     "output_type": "stream",
     "text": [
      "100%|██████████| 103/103 [00:00<00:00, 169616.53it/s]\n"
     ]
    },
    {
     "name": "stdout",
     "output_type": "stream",
     "text": [
      "Processing mesh errors\n"
     ]
    },
    {
     "name": "stderr",
     "output_type": "stream",
     "text": [
      "100%|██████████| 2/2 [00:00<00:00, 4226.00it/s]\n"
     ]
    },
    {
     "name": "stdout",
     "output_type": "stream",
     "text": [
      "Processing facets\n"
     ]
    },
    {
     "name": "stderr",
     "output_type": "stream",
     "text": [
      "100%|██████████| 35/35 [00:00<00:00, 8460.16it/s]\n",
      "100%|██████████| 35/35 [00:00<00:00, 26985.41it/s]\n"
     ]
    },
    {
     "name": "stdout",
     "output_type": "stream",
     "text": [
      "Downloading Mesh\n",
      "Warning: deduplication not currently supported for this layer's variable layered draco meshes\n",
      "Vertices:  12138\n"
     ]
    },
    {
     "name": "stderr",
     "output_type": "stream",
     "text": [
      "Mesh is non-watertight for contained point query!\n",
      "Mesh is non-watertight for contained point query!\n"
     ]
    },
    {
     "name": "stdout",
     "output_type": "stream",
     "text": [
      "Subselecting largest connected component of mesh\n",
      "Processing CC's\n"
     ]
    },
    {
     "name": "stderr",
     "output_type": "stream",
     "text": [
      "100%|██████████| 12099/12099 [00:00<00:00, 527596.65it/s]\n"
     ]
    },
    {
     "name": "stdout",
     "output_type": "stream",
     "text": [
      "Skel done\n"
     ]
    },
    {
     "name": "stderr",
     "output_type": "stream",
     "text": [
      "100%|██████████| 71/71 [00:00<00:00, 134993.47it/s]\n"
     ]
    },
    {
     "name": "stdout",
     "output_type": "stream",
     "text": [
      "Processing mesh errors\n"
     ]
    },
    {
     "name": "stderr",
     "output_type": "stream",
     "text": [
      "100%|██████████| 2/2 [00:00<00:00, 11244.78it/s]\n"
     ]
    },
    {
     "name": "stdout",
     "output_type": "stream",
     "text": [
      "Processing facets\n"
     ]
    },
    {
     "name": "stderr",
     "output_type": "stream",
     "text": [
      "100%|██████████| 57/57 [00:00<00:00, 9500.31it/s]\n",
      "100%|██████████| 57/57 [00:00<00:00, 37204.38it/s]\n"
     ]
    },
    {
     "name": "stdout",
     "output_type": "stream",
     "text": [
      "Downloading Mesh\n",
      "Warning: deduplication not currently supported for this layer's variable layered draco meshes\n",
      "Vertices:  13860\n"
     ]
    },
    {
     "name": "stderr",
     "output_type": "stream",
     "text": [
      "Mesh is non-watertight for contained point query!\n",
      "Mesh is non-watertight for contained point query!\n"
     ]
    },
    {
     "name": "stdout",
     "output_type": "stream",
     "text": [
      "Subselecting largest connected component of mesh\n",
      "Processing CC's\n"
     ]
    },
    {
     "name": "stderr",
     "output_type": "stream",
     "text": [
      "100%|██████████| 13828/13828 [00:00<00:00, 248491.18it/s]\n"
     ]
    },
    {
     "name": "stdout",
     "output_type": "stream",
     "text": [
      "Skel done\n"
     ]
    },
    {
     "name": "stderr",
     "output_type": "stream",
     "text": [
      "100%|██████████| 44/44 [00:00<00:00, 44129.45it/s]\n"
     ]
    },
    {
     "name": "stdout",
     "output_type": "stream",
     "text": [
      "Processing mesh errors\n"
     ]
    },
    {
     "name": "stderr",
     "output_type": "stream",
     "text": [
      "100%|██████████| 1/1 [00:00<00:00, 2053.01it/s]\n"
     ]
    },
    {
     "name": "stdout",
     "output_type": "stream",
     "text": [
      "Processing facets\n"
     ]
    },
    {
     "name": "stderr",
     "output_type": "stream",
     "text": [
      "100%|██████████| 63/63 [00:00<00:00, 6876.98it/s]\n",
      "100%|██████████| 63/63 [00:00<00:00, 18688.81it/s]\n"
     ]
    },
    {
     "name": "stdout",
     "output_type": "stream",
     "text": [
      "Downloading Mesh\n",
      "Warning: deduplication not currently supported for this layer's variable layered draco meshes\n",
      "Vertices:  5724\n",
      "Subselecting largest connected component of mesh\n",
      "Processing CC's\n"
     ]
    },
    {
     "name": "stderr",
     "output_type": "stream",
     "text": [
      "100%|██████████| 5723/5723 [00:00<00:00, 427239.10it/s]\n"
     ]
    },
    {
     "name": "stdout",
     "output_type": "stream",
     "text": [
      "Skel done\n"
     ]
    },
    {
     "name": "stderr",
     "output_type": "stream",
     "text": [
      "100%|██████████| 30/30 [00:00<00:00, 149796.57it/s]\n"
     ]
    },
    {
     "name": "stdout",
     "output_type": "stream",
     "text": [
      "Processing facets\n"
     ]
    },
    {
     "name": "stderr",
     "output_type": "stream",
     "text": [
      "100%|██████████| 10/10 [00:00<00:00, 6076.06it/s]\n",
      "100%|██████████| 10/10 [00:00<00:00, 20490.00it/s]\n"
     ]
    },
    {
     "name": "stdout",
     "output_type": "stream",
     "text": [
      "Downloading Mesh\n",
      "Warning: deduplication not currently supported for this layer's variable layered draco meshes\n",
      "Vertices:  9557\n",
      "Subselecting largest connected component of mesh\n",
      "Processing CC's\n"
     ]
    },
    {
     "name": "stderr",
     "output_type": "stream",
     "text": [
      "100%|██████████| 9550/9550 [00:00<00:00, 631164.67it/s]\n"
     ]
    },
    {
     "name": "stdout",
     "output_type": "stream",
     "text": [
      "Skel done\n"
     ]
    },
    {
     "name": "stderr",
     "output_type": "stream",
     "text": [
      "100%|██████████| 47/47 [00:00<00:00, 158721.65it/s]\n"
     ]
    },
    {
     "name": "stdout",
     "output_type": "stream",
     "text": [
      "Processing mesh errors\n"
     ]
    },
    {
     "name": "stderr",
     "output_type": "stream",
     "text": [
      "100%|██████████| 2/2 [00:00<00:00, 1841.63it/s]\n"
     ]
    },
    {
     "name": "stdout",
     "output_type": "stream",
     "text": [
      "Processing facets\n"
     ]
    },
    {
     "name": "stderr",
     "output_type": "stream",
     "text": [
      "100%|██████████| 26/26 [00:00<00:00, 8091.70it/s]\n",
      "100%|██████████| 26/26 [00:00<00:00, 17933.22it/s]\n"
     ]
    },
    {
     "name": "stdout",
     "output_type": "stream",
     "text": [
      "Downloading Mesh\n",
      "Warning: deduplication not currently supported for this layer's variable layered draco meshes\n",
      "Vertices:  2020\n",
      "Subselecting largest connected component of mesh\n",
      "Processing CC's\n"
     ]
    },
    {
     "name": "stderr",
     "output_type": "stream",
     "text": [
      "100%|██████████| 2019/2019 [00:00<00:00, 286983.18it/s]\n"
     ]
    },
    {
     "name": "stdout",
     "output_type": "stream",
     "text": [
      "Skel done\n"
     ]
    },
    {
     "name": "stderr",
     "output_type": "stream",
     "text": [
      "100%|██████████| 9/9 [00:00<00:00, 47127.01it/s]\n"
     ]
    },
    {
     "name": "stdout",
     "output_type": "stream",
     "text": [
      "Processing mesh errors\n"
     ]
    },
    {
     "name": "stderr",
     "output_type": "stream",
     "text": [
      "100%|██████████| 1/1 [00:00<00:00, 6034.97it/s]\n"
     ]
    },
    {
     "name": "stdout",
     "output_type": "stream",
     "text": [
      "Processing facets\n"
     ]
    },
    {
     "name": "stderr",
     "output_type": "stream",
     "text": [
      "100%|██████████| 12/12 [00:00<00:00, 4276.63it/s]\n",
      "100%|██████████| 12/12 [00:00<00:00, 18606.89it/s]\n"
     ]
    },
    {
     "name": "stdout",
     "output_type": "stream",
     "text": [
      "Downloading Mesh\n",
      "Warning: deduplication not currently supported for this layer's variable layered draco meshes\n",
      "Vertices:  18265\n",
      "Subselecting largest connected component of mesh\n",
      "Processing CC's\n"
     ]
    },
    {
     "name": "stderr",
     "output_type": "stream",
     "text": [
      "100%|██████████| 18129/18129 [00:00<00:00, 498930.71it/s]\n"
     ]
    },
    {
     "name": "stdout",
     "output_type": "stream",
     "text": [
      "Skel done\n"
     ]
    },
    {
     "name": "stderr",
     "output_type": "stream",
     "text": [
      "100%|██████████| 93/93 [00:00<00:00, 78092.15it/s]\n"
     ]
    },
    {
     "name": "stdout",
     "output_type": "stream",
     "text": [
      "Processing mesh errors\n"
     ]
    },
    {
     "name": "stderr",
     "output_type": "stream",
     "text": [
      "100%|██████████| 4/4 [00:00<00:00, 12043.95it/s]\n"
     ]
    },
    {
     "name": "stdout",
     "output_type": "stream",
     "text": [
      "Processing facets\n"
     ]
    },
    {
     "name": "stderr",
     "output_type": "stream",
     "text": [
      "100%|██████████| 39/39 [00:00<00:00, 8841.09it/s]\n",
      "100%|██████████| 39/39 [00:00<00:00, 15168.57it/s]\n"
     ]
    },
    {
     "name": "stdout",
     "output_type": "stream",
     "text": [
      "Downloading Mesh\n",
      "Warning: deduplication not currently supported for this layer's variable layered draco meshes\n",
      "Vertices:  35\n",
      "Subselecting largest connected component of mesh\n",
      "Processing CC's\n"
     ]
    },
    {
     "name": "stderr",
     "output_type": "stream",
     "text": [
      "100%|██████████| 34/34 [00:00<00:00, 16292.28it/s]\n"
     ]
    },
    {
     "name": "stdout",
     "output_type": "stream",
     "text": [
      "Skel done\n"
     ]
    },
    {
     "name": "stderr",
     "output_type": "stream",
     "text": [
      "100%|██████████| 1/1 [00:00<00:00, 4854.52it/s]\n"
     ]
    },
    {
     "name": "stdout",
     "output_type": "stream",
     "text": [
      "Downloading Mesh\n",
      "Warning: deduplication not currently supported for this layer's variable layered draco meshes\n",
      "Vertices:  254074\n",
      "Subselecting largest connected component of mesh\n",
      "Processing CC's\n"
     ]
    },
    {
     "name": "stderr",
     "output_type": "stream",
     "text": [
      "Mesh is non-watertight for contained point query!\n",
      "Mesh is non-watertight for contained point query!\n",
      "Mesh is non-watertight for contained point query!\n",
      "Mesh is non-watertight for contained point query!\n",
      "Mesh is non-watertight for contained point query!\n",
      "Mesh is non-watertight for contained point query!\n",
      "Mesh is non-watertight for contained point query!\n",
      "Mesh is non-watertight for contained point query!\n",
      "Mesh is non-watertight for contained point query!\n",
      "Mesh is non-watertight for contained point query!\n",
      "Mesh is non-watertight for contained point query!\n",
      "Mesh is non-watertight for contained point query!\n",
      "Mesh is non-watertight for contained point query!\n",
      "Mesh is non-watertight for contained point query!\n",
      "Mesh is non-watertight for contained point query!\n",
      "Mesh is non-watertight for contained point query!\n",
      "Mesh is non-watertight for contained point query!\n",
      "Mesh is non-watertight for contained point query!\n",
      "Mesh is non-watertight for contained point query!\n",
      "Mesh is non-watertight for contained point query!\n",
      "Mesh is non-watertight for contained point query!\n",
      "Mesh is non-watertight for contained point query!\n",
      "Mesh is non-watertight for contained point query!\n",
      "Mesh is non-watertight for contained point query!\n",
      "Mesh is non-watertight for contained point query!\n",
      "Mesh is non-watertight for contained point query!\n",
      "Mesh is non-watertight for contained point query!\n",
      "Mesh is non-watertight for contained point query!\n",
      "Mesh is non-watertight for contained point query!\n",
      "Mesh is non-watertight for contained point query!\n",
      "Mesh is non-watertight for contained point query!\n",
      "Mesh is non-watertight for contained point query!\n",
      "Mesh is non-watertight for contained point query!\n",
      "Mesh is non-watertight for contained point query!\n",
      "100%|██████████| 253660/253660 [00:01<00:00, 128888.81it/s]\n"
     ]
    },
    {
     "name": "stdout",
     "output_type": "stream",
     "text": [
      "Skel done\n"
     ]
    },
    {
     "name": "stderr",
     "output_type": "stream",
     "text": [
      "100%|██████████| 1160/1160 [00:00<00:00, 97407.21it/s]\n"
     ]
    },
    {
     "name": "stdout",
     "output_type": "stream",
     "text": [
      "Processing mesh errors\n"
     ]
    },
    {
     "name": "stderr",
     "output_type": "stream",
     "text": [
      "100%|██████████| 90/90 [00:00<00:00, 10064.72it/s]\n"
     ]
    },
    {
     "name": "stdout",
     "output_type": "stream",
     "text": [
      "Processing facets\n"
     ]
    },
    {
     "name": "stderr",
     "output_type": "stream",
     "text": [
      "100%|██████████| 2076/2076 [00:00<00:00, 12917.61it/s]\n",
      "100%|██████████| 2076/2076 [00:00<00:00, 72726.91it/s]\n"
     ]
    },
    {
     "name": "stdout",
     "output_type": "stream",
     "text": [
      "Downloading Mesh\n",
      "Warning: deduplication not currently supported for this layer's variable layered draco meshes\n",
      "Vertices:  67155\n",
      "Subselecting largest connected component of mesh\n",
      "Processing CC's\n"
     ]
    },
    {
     "name": "stderr",
     "output_type": "stream",
     "text": [
      "Mesh is non-watertight for contained point query!\n",
      "Mesh is non-watertight for contained point query!\n",
      "100%|██████████| 67111/67111 [00:00<00:00, 278401.75it/s]\n"
     ]
    },
    {
     "name": "stdout",
     "output_type": "stream",
     "text": [
      "Skel done\n"
     ]
    },
    {
     "name": "stderr",
     "output_type": "stream",
     "text": [
      "100%|██████████| 288/288 [00:00<00:00, 106315.75it/s]\n"
     ]
    },
    {
     "name": "stdout",
     "output_type": "stream",
     "text": [
      "Processing mesh errors\n"
     ]
    },
    {
     "name": "stderr",
     "output_type": "stream",
     "text": [
      "100%|██████████| 12/12 [00:00<00:00, 14665.40it/s]\n"
     ]
    },
    {
     "name": "stdout",
     "output_type": "stream",
     "text": [
      "Processing facets\n"
     ]
    },
    {
     "name": "stderr",
     "output_type": "stream",
     "text": [
      "100%|██████████| 306/306 [00:00<00:00, 9968.29it/s]\n",
      "100%|██████████| 306/306 [00:00<00:00, 35429.17it/s]\n"
     ]
    },
    {
     "name": "stdout",
     "output_type": "stream",
     "text": [
      "Downloading Mesh\n",
      "Warning: deduplication not currently supported for this layer's variable layered draco meshes\n",
      "Vertices:  44825\n",
      "Subselecting largest connected component of mesh\n",
      "Processing CC's\n"
     ]
    },
    {
     "name": "stderr",
     "output_type": "stream",
     "text": [
      "Mesh is non-watertight for contained point query!\n",
      "Mesh is non-watertight for contained point query!\n",
      "Mesh is non-watertight for contained point query!\n",
      "Mesh is non-watertight for contained point query!\n",
      "Mesh is non-watertight for contained point query!\n",
      "Mesh is non-watertight for contained point query!\n",
      "Mesh is non-watertight for contained point query!\n",
      "Mesh is non-watertight for contained point query!\n",
      "Mesh is non-watertight for contained point query!\n",
      "Mesh is non-watertight for contained point query!\n",
      "Mesh is non-watertight for contained point query!\n",
      "100%|██████████| 44696/44696 [00:00<00:00, 415243.22it/s]\n"
     ]
    },
    {
     "name": "stdout",
     "output_type": "stream",
     "text": [
      "Skel done\n"
     ]
    },
    {
     "name": "stderr",
     "output_type": "stream",
     "text": [
      "100%|██████████| 250/250 [00:00<00:00, 88614.55it/s]\n"
     ]
    },
    {
     "name": "stdout",
     "output_type": "stream",
     "text": [
      "Processing mesh errors\n"
     ]
    },
    {
     "name": "stderr",
     "output_type": "stream",
     "text": [
      "100%|██████████| 23/23 [00:00<00:00, 26415.39it/s]\n"
     ]
    },
    {
     "name": "stdout",
     "output_type": "stream",
     "text": [
      "Processing facets\n"
     ]
    },
    {
     "name": "stderr",
     "output_type": "stream",
     "text": [
      "100%|██████████| 295/295 [00:00<00:00, 10821.79it/s]\n",
      "100%|██████████| 295/295 [00:00<00:00, 38943.71it/s]\n"
     ]
    },
    {
     "name": "stdout",
     "output_type": "stream",
     "text": [
      "Downloading Mesh\n",
      "Warning: deduplication not currently supported for this layer's variable layered draco meshes\n",
      "Vertices:  304\n",
      "Subselecting largest connected component of mesh\n",
      "Processing CC's\n"
     ]
    },
    {
     "name": "stderr",
     "output_type": "stream",
     "text": [
      "100%|██████████| 303/303 [00:00<00:00, 84303.42it/s]\n"
     ]
    },
    {
     "name": "stdout",
     "output_type": "stream",
     "text": [
      "Skel done\n"
     ]
    },
    {
     "name": "stderr",
     "output_type": "stream",
     "text": [
      "100%|██████████| 2/2 [00:00<00:00, 10267.57it/s]\n"
     ]
    },
    {
     "name": "stdout",
     "output_type": "stream",
     "text": [
      "Downloading Mesh\n",
      "Warning: deduplication not currently supported for this layer's variable layered draco meshes\n",
      "Vertices:  11531\n",
      "Subselecting largest connected component of mesh\n",
      "Processing CC's\n"
     ]
    },
    {
     "name": "stderr",
     "output_type": "stream",
     "text": [
      "100%|██████████| 11530/11530 [00:00<00:00, 662597.28it/s]\n"
     ]
    },
    {
     "name": "stdout",
     "output_type": "stream",
     "text": [
      "Skel done\n"
     ]
    },
    {
     "name": "stderr",
     "output_type": "stream",
     "text": [
      "100%|██████████| 77/77 [00:00<00:00, 72283.22it/s]\n"
     ]
    },
    {
     "name": "stdout",
     "output_type": "stream",
     "text": [
      "Processing mesh errors\n"
     ]
    },
    {
     "name": "stderr",
     "output_type": "stream",
     "text": [
      "100%|██████████| 6/6 [00:00<00:00, 8609.59it/s]\n"
     ]
    },
    {
     "name": "stdout",
     "output_type": "stream",
     "text": [
      "Processing facets\n"
     ]
    },
    {
     "name": "stderr",
     "output_type": "stream",
     "text": [
      "100%|██████████| 62/62 [00:00<00:00, 8483.85it/s]\n",
      "100%|██████████| 62/62 [00:00<00:00, 31566.75it/s]\n"
     ]
    },
    {
     "name": "stdout",
     "output_type": "stream",
     "text": [
      "Downloading Mesh\n",
      "Warning: deduplication not currently supported for this layer's variable layered draco meshes\n",
      "Vertices:  113\n",
      "Subselecting largest connected component of mesh\n",
      "Processing CC's\n"
     ]
    },
    {
     "name": "stderr",
     "output_type": "stream",
     "text": [
      "100%|██████████| 112/112 [00:00<00:00, 69266.01it/s]\n"
     ]
    },
    {
     "name": "stdout",
     "output_type": "stream",
     "text": [
      "Skel done\n"
     ]
    },
    {
     "name": "stderr",
     "output_type": "stream",
     "text": [
      "100%|██████████| 1/1 [00:00<00:00, 7943.76it/s]\n"
     ]
    },
    {
     "name": "stdout",
     "output_type": "stream",
     "text": [
      "Downloading Mesh\n",
      "Warning: deduplication not currently supported for this layer's variable layered draco meshes\n",
      "Vertices:  3820\n",
      "Subselecting largest connected component of mesh\n",
      "Processing CC's\n"
     ]
    },
    {
     "name": "stderr",
     "output_type": "stream",
     "text": [
      "100%|██████████| 3801/3801 [00:00<00:00, 413276.38it/s]\n"
     ]
    },
    {
     "name": "stdout",
     "output_type": "stream",
     "text": [
      "Skel done\n"
     ]
    },
    {
     "name": "stderr",
     "output_type": "stream",
     "text": [
      "100%|██████████| 28/28 [00:00<00:00, 37082.57it/s]\n"
     ]
    },
    {
     "name": "stdout",
     "output_type": "stream",
     "text": [
      "Processing mesh errors\n"
     ]
    },
    {
     "name": "stderr",
     "output_type": "stream",
     "text": [
      "100%|██████████| 2/2 [00:00<00:00, 1797.05it/s]\n"
     ]
    },
    {
     "name": "stdout",
     "output_type": "stream",
     "text": [
      "Processing facets\n"
     ]
    },
    {
     "name": "stderr",
     "output_type": "stream",
     "text": [
      "100%|██████████| 14/14 [00:00<00:00, 6566.06it/s]\n",
      "100%|██████████| 14/14 [00:00<00:00, 16990.81it/s]\n"
     ]
    },
    {
     "name": "stdout",
     "output_type": "stream",
     "text": [
      "Downloading Mesh\n",
      "Warning: deduplication not currently supported for this layer's variable layered draco meshes\n",
      "Vertices:  277\n",
      "Subselecting largest connected component of mesh\n",
      "Processing CC's\n"
     ]
    },
    {
     "name": "stderr",
     "output_type": "stream",
     "text": [
      "100%|██████████| 276/276 [00:00<00:00, 88679.94it/s]\n"
     ]
    },
    {
     "name": "stdout",
     "output_type": "stream",
     "text": [
      "Skel done\n"
     ]
    },
    {
     "name": "stderr",
     "output_type": "stream",
     "text": [
      "100%|██████████| 3/3 [00:00<00:00, 27533.72it/s]\n"
     ]
    },
    {
     "name": "stdout",
     "output_type": "stream",
     "text": [
      "Downloading Mesh\n",
      "Warning: deduplication not currently supported for this layer's variable layered draco meshes\n",
      "Vertices:  24046\n"
     ]
    },
    {
     "name": "stderr",
     "output_type": "stream",
     "text": [
      "Mesh is non-watertight for contained point query!\n"
     ]
    },
    {
     "name": "stdout",
     "output_type": "stream",
     "text": [
      "Subselecting largest connected component of mesh\n",
      "Processing CC's\n"
     ]
    },
    {
     "name": "stderr",
     "output_type": "stream",
     "text": [
      "100%|██████████| 24033/24033 [00:00<00:00, 454053.57it/s]\n"
     ]
    },
    {
     "name": "stdout",
     "output_type": "stream",
     "text": [
      "Skel done\n"
     ]
    },
    {
     "name": "stderr",
     "output_type": "stream",
     "text": [
      "100%|██████████| 172/172 [00:00<00:00, 96407.90it/s]\n"
     ]
    },
    {
     "name": "stdout",
     "output_type": "stream",
     "text": [
      "Processing mesh errors\n"
     ]
    },
    {
     "name": "stderr",
     "output_type": "stream",
     "text": [
      "100%|██████████| 7/7 [00:00<00:00, 30456.56it/s]\n"
     ]
    },
    {
     "name": "stdout",
     "output_type": "stream",
     "text": [
      "Processing facets\n"
     ]
    },
    {
     "name": "stderr",
     "output_type": "stream",
     "text": [
      "100%|██████████| 43/43 [00:00<00:00, 3098.19it/s]\n",
      "100%|██████████| 43/43 [00:00<00:00, 23600.51it/s]\n"
     ]
    },
    {
     "name": "stdout",
     "output_type": "stream",
     "text": [
      "Downloading Mesh\n",
      "Warning: deduplication not currently supported for this layer's variable layered draco meshes\n",
      "Vertices:  58\n",
      "Subselecting largest connected component of mesh\n",
      "Processing CC's\n"
     ]
    },
    {
     "name": "stderr",
     "output_type": "stream",
     "text": [
      "100%|██████████| 57/57 [00:00<00:00, 43444.54it/s]\n"
     ]
    },
    {
     "name": "stdout",
     "output_type": "stream",
     "text": [
      "Skel done\n"
     ]
    },
    {
     "name": "stderr",
     "output_type": "stream",
     "text": [
      "100%|██████████| 1/1 [00:00<00:00, 9258.95it/s]\n"
     ]
    },
    {
     "name": "stdout",
     "output_type": "stream",
     "text": [
      "Downloading Mesh\n",
      "Warning: deduplication not currently supported for this layer's variable layered draco meshes\n",
      "Vertices:  244554\n",
      "Subselecting largest connected component of mesh\n",
      "Processing CC's\n"
     ]
    },
    {
     "name": "stderr",
     "output_type": "stream",
     "text": [
      "Mesh is non-watertight for contained point query!\n",
      "Mesh is non-watertight for contained point query!\n",
      "Mesh is non-watertight for contained point query!\n",
      "Mesh is non-watertight for contained point query!\n",
      "Mesh is non-watertight for contained point query!\n",
      "Mesh is non-watertight for contained point query!\n",
      "Mesh is non-watertight for contained point query!\n",
      "Mesh is non-watertight for contained point query!\n",
      "Mesh is non-watertight for contained point query!\n",
      "Mesh is non-watertight for contained point query!\n",
      "Mesh is non-watertight for contained point query!\n",
      "Mesh is non-watertight for contained point query!\n",
      "Mesh is non-watertight for contained point query!\n",
      "Mesh is non-watertight for contained point query!\n",
      "Mesh is non-watertight for contained point query!\n",
      "Mesh is non-watertight for contained point query!\n",
      "Mesh is non-watertight for contained point query!\n",
      "Mesh is non-watertight for contained point query!\n",
      "Mesh is non-watertight for contained point query!\n",
      "Mesh is non-watertight for contained point query!\n",
      "Mesh is non-watertight for contained point query!\n",
      "Mesh is non-watertight for contained point query!\n",
      "Mesh is non-watertight for contained point query!\n",
      "Mesh is non-watertight for contained point query!\n",
      "Mesh is non-watertight for contained point query!\n",
      "100%|██████████| 244251/244251 [00:02<00:00, 83205.42it/s] \n"
     ]
    },
    {
     "name": "stdout",
     "output_type": "stream",
     "text": [
      "Skel done\n"
     ]
    },
    {
     "name": "stderr",
     "output_type": "stream",
     "text": [
      "100%|██████████| 1634/1634 [00:00<00:00, 249890.35it/s]\n"
     ]
    },
    {
     "name": "stdout",
     "output_type": "stream",
     "text": [
      "Processing mesh errors\n"
     ]
    },
    {
     "name": "stderr",
     "output_type": "stream",
     "text": [
      "100%|██████████| 102/102 [00:00<00:00, 40667.21it/s]\n"
     ]
    },
    {
     "name": "stdout",
     "output_type": "stream",
     "text": [
      "Processing facets\n"
     ]
    },
    {
     "name": "stderr",
     "output_type": "stream",
     "text": [
      "100%|██████████| 791/791 [00:00<00:00, 20001.90it/s]\n",
      "100%|██████████| 791/791 [00:00<00:00, 53399.23it/s]\n"
     ]
    },
    {
     "name": "stdout",
     "output_type": "stream",
     "text": [
      "Downloading Mesh\n",
      "Warning: deduplication not currently supported for this layer's variable layered draco meshes\n",
      "Vertices:  389\n",
      "Subselecting largest connected component of mesh\n",
      "Processing CC's\n"
     ]
    },
    {
     "name": "stderr",
     "output_type": "stream",
     "text": [
      "100%|██████████| 388/388 [00:00<00:00, 160397.20it/s]\n"
     ]
    },
    {
     "name": "stdout",
     "output_type": "stream",
     "text": [
      "Skel done\n"
     ]
    },
    {
     "name": "stderr",
     "output_type": "stream",
     "text": [
      "100%|██████████| 4/4 [00:00<00:00, 8701.88it/s]\n"
     ]
    },
    {
     "name": "stdout",
     "output_type": "stream",
     "text": [
      "Downloading Mesh\n",
      "Warning: deduplication not currently supported for this layer's variable layered draco meshes\n",
      "Vertices:  257\n",
      "Subselecting largest connected component of mesh\n",
      "Processing CC's\n"
     ]
    },
    {
     "name": "stderr",
     "output_type": "stream",
     "text": [
      "100%|██████████| 256/256 [00:00<00:00, 68104.90it/s]\n"
     ]
    },
    {
     "name": "stdout",
     "output_type": "stream",
     "text": [
      "Skel done\n"
     ]
    },
    {
     "name": "stderr",
     "output_type": "stream",
     "text": [
      "100%|██████████| 1/1 [00:00<00:00, 8701.88it/s]\n"
     ]
    },
    {
     "name": "stdout",
     "output_type": "stream",
     "text": [
      "Downloading Mesh\n",
      "Warning: deduplication not currently supported for this layer's variable layered draco meshes\n",
      "Vertices:  533\n",
      "Subselecting largest connected component of mesh\n",
      "Processing CC's\n"
     ]
    },
    {
     "name": "stderr",
     "output_type": "stream",
     "text": [
      "100%|██████████| 532/532 [00:00<00:00, 138611.61it/s]\n"
     ]
    },
    {
     "name": "stdout",
     "output_type": "stream",
     "text": [
      "Skel done\n"
     ]
    },
    {
     "name": "stderr",
     "output_type": "stream",
     "text": [
      "100%|██████████| 4/4 [00:00<00:00, 10754.63it/s]\n"
     ]
    },
    {
     "name": "stdout",
     "output_type": "stream",
     "text": [
      "Downloading Mesh\n",
      "Warning: deduplication not currently supported for this layer's variable layered draco meshes\n",
      "Vertices:  3065\n",
      "Subselecting largest connected component of mesh\n",
      "Processing CC's\n"
     ]
    },
    {
     "name": "stderr",
     "output_type": "stream",
     "text": [
      "100%|██████████| 3060/3060 [00:00<00:00, 393071.49it/s]\n"
     ]
    },
    {
     "name": "stdout",
     "output_type": "stream",
     "text": [
      "Skel done\n"
     ]
    },
    {
     "name": "stderr",
     "output_type": "stream",
     "text": [
      "100%|██████████| 9/9 [00:00<00:00, 16754.88it/s]\n",
      "Mesh is non-watertight for contained point query!\n"
     ]
    },
    {
     "name": "stdout",
     "output_type": "stream",
     "text": [
      "Processing facets\n"
     ]
    },
    {
     "name": "stderr",
     "output_type": "stream",
     "text": [
      "100%|██████████| 16/16 [00:00<00:00, 3515.58it/s]\n",
      "100%|██████████| 16/16 [00:00<00:00, 16578.28it/s]\n"
     ]
    },
    {
     "name": "stdout",
     "output_type": "stream",
     "text": [
      "Downloading Mesh\n",
      "Warning: deduplication not currently supported for this layer's variable layered draco meshes\n",
      "Vertices:  5754\n",
      "Subselecting largest connected component of mesh\n",
      "Processing CC's\n"
     ]
    },
    {
     "name": "stderr",
     "output_type": "stream",
     "text": [
      "100%|██████████| 5753/5753 [00:00<00:00, 521624.57it/s]\n"
     ]
    },
    {
     "name": "stdout",
     "output_type": "stream",
     "text": [
      "Skel done\n"
     ]
    },
    {
     "name": "stderr",
     "output_type": "stream",
     "text": [
      "100%|██████████| 19/19 [00:00<00:00, 30117.83it/s]\n"
     ]
    },
    {
     "name": "stdout",
     "output_type": "stream",
     "text": [
      "Processing facets\n"
     ]
    },
    {
     "name": "stderr",
     "output_type": "stream",
     "text": [
      "100%|██████████| 15/15 [00:00<00:00, 5947.68it/s]\n",
      "100%|██████████| 15/15 [00:00<00:00, 17082.42it/s]\n"
     ]
    },
    {
     "name": "stdout",
     "output_type": "stream",
     "text": [
      "Downloading Mesh\n",
      "Warning: deduplication not currently supported for this layer's variable layered draco meshes\n",
      "Vertices:  10302\n"
     ]
    },
    {
     "name": "stderr",
     "output_type": "stream",
     "text": [
      "Mesh is non-watertight for contained point query!\n"
     ]
    },
    {
     "name": "stdout",
     "output_type": "stream",
     "text": [
      "Subselecting largest connected component of mesh\n",
      "Processing CC's\n"
     ]
    },
    {
     "name": "stderr",
     "output_type": "stream",
     "text": [
      "100%|██████████| 10202/10202 [00:00<00:00, 392942.78it/s]\n"
     ]
    },
    {
     "name": "stdout",
     "output_type": "stream",
     "text": [
      "Skel done\n"
     ]
    },
    {
     "name": "stderr",
     "output_type": "stream",
     "text": [
      "100%|██████████| 75/75 [00:00<00:00, 155652.05it/s]\n"
     ]
    },
    {
     "name": "stdout",
     "output_type": "stream",
     "text": [
      "Processing mesh errors\n"
     ]
    },
    {
     "name": "stderr",
     "output_type": "stream",
     "text": [
      "100%|██████████| 11/11 [00:00<00:00, 12247.77it/s]\n"
     ]
    },
    {
     "name": "stdout",
     "output_type": "stream",
     "text": [
      "Processing facets\n"
     ]
    },
    {
     "name": "stderr",
     "output_type": "stream",
     "text": [
      "100%|██████████| 30/30 [00:00<00:00, 6415.92it/s]\n",
      "100%|██████████| 30/30 [00:00<00:00, 25885.44it/s]\n"
     ]
    },
    {
     "name": "stdout",
     "output_type": "stream",
     "text": [
      "Downloading Mesh\n",
      "Warning: deduplication not currently supported for this layer's variable layered draco meshes\n",
      "Vertices:  27011\n",
      "Subselecting largest connected component of mesh\n",
      "Processing CC's\n"
     ]
    },
    {
     "name": "stderr",
     "output_type": "stream",
     "text": [
      "100%|██████████| 27009/27009 [00:00<00:00, 313915.54it/s]\n"
     ]
    },
    {
     "name": "stdout",
     "output_type": "stream",
     "text": [
      "Skel done\n"
     ]
    },
    {
     "name": "stderr",
     "output_type": "stream",
     "text": [
      "100%|██████████| 154/154 [00:00<00:00, 220677.42it/s]\n"
     ]
    },
    {
     "name": "stdout",
     "output_type": "stream",
     "text": [
      "Processing mesh errors\n"
     ]
    },
    {
     "name": "stderr",
     "output_type": "stream",
     "text": [
      "100%|██████████| 11/11 [00:00<00:00, 8479.57it/s]\n"
     ]
    },
    {
     "name": "stdout",
     "output_type": "stream",
     "text": [
      "Processing facets\n"
     ]
    },
    {
     "name": "stderr",
     "output_type": "stream",
     "text": [
      "100%|██████████| 70/70 [00:00<00:00, 9380.83it/s]\n",
      "100%|██████████| 70/70 [00:00<00:00, 41074.61it/s]\n"
     ]
    },
    {
     "name": "stdout",
     "output_type": "stream",
     "text": [
      "Downloading Mesh\n",
      "Warning: deduplication not currently supported for this layer's variable layered draco meshes\n",
      "Vertices:  3523\n",
      "Subselecting largest connected component of mesh\n",
      "Processing CC's\n"
     ]
    },
    {
     "name": "stderr",
     "output_type": "stream",
     "text": [
      "100%|██████████| 3522/3522 [00:00<00:00, 390203.89it/s]\n"
     ]
    },
    {
     "name": "stdout",
     "output_type": "stream",
     "text": [
      "Skel done\n"
     ]
    },
    {
     "name": "stderr",
     "output_type": "stream",
     "text": [
      "100%|██████████| 29/29 [00:00<00:00, 51605.78it/s]\n"
     ]
    },
    {
     "name": "stdout",
     "output_type": "stream",
     "text": [
      "Processing mesh errors\n"
     ]
    },
    {
     "name": "stderr",
     "output_type": "stream",
     "text": [
      "100%|██████████| 5/5 [00:00<00:00, 19599.55it/s]\n"
     ]
    },
    {
     "name": "stdout",
     "output_type": "stream",
     "text": [
      "Processing facets\n"
     ]
    },
    {
     "name": "stderr",
     "output_type": "stream",
     "text": [
      "100%|██████████| 8/8 [00:00<00:00, 5960.99it/s]\n",
      "100%|██████████| 8/8 [00:00<00:00, 7208.26it/s]\n"
     ]
    },
    {
     "name": "stdout",
     "output_type": "stream",
     "text": [
      "Downloading Mesh\n",
      "Warning: deduplication not currently supported for this layer's variable layered draco meshes\n",
      "Vertices:  172\n",
      "Subselecting largest connected component of mesh\n",
      "Processing CC's\n"
     ]
    },
    {
     "name": "stderr",
     "output_type": "stream",
     "text": [
      "100%|██████████| 171/171 [00:00<00:00, 63197.28it/s]\n"
     ]
    },
    {
     "name": "stdout",
     "output_type": "stream",
     "text": [
      "Skel done\n"
     ]
    },
    {
     "name": "stderr",
     "output_type": "stream",
     "text": [
      "100%|██████████| 3/3 [00:00<00:00, 9994.37it/s]\n"
     ]
    },
    {
     "name": "stdout",
     "output_type": "stream",
     "text": [
      "Downloading Mesh\n",
      "Warning: deduplication not currently supported for this layer's variable layered draco meshes\n",
      "Vertices:  42061\n",
      "Subselecting largest connected component of mesh\n",
      "Processing CC's\n"
     ]
    },
    {
     "name": "stderr",
     "output_type": "stream",
     "text": [
      "Mesh is non-watertight for contained point query!\n",
      "Mesh is non-watertight for contained point query!\n",
      "100%|██████████| 42038/42038 [00:00<00:00, 271455.13it/s]\n"
     ]
    },
    {
     "name": "stdout",
     "output_type": "stream",
     "text": [
      "Skel done\n"
     ]
    },
    {
     "name": "stderr",
     "output_type": "stream",
     "text": [
      "100%|██████████| 269/269 [00:00<00:00, 182597.15it/s]\n"
     ]
    },
    {
     "name": "stdout",
     "output_type": "stream",
     "text": [
      "Processing mesh errors\n"
     ]
    },
    {
     "name": "stderr",
     "output_type": "stream",
     "text": [
      "100%|██████████| 23/23 [00:00<00:00, 3932.21it/s]\n"
     ]
    },
    {
     "name": "stdout",
     "output_type": "stream",
     "text": [
      "Processing facets\n"
     ]
    },
    {
     "name": "stderr",
     "output_type": "stream",
     "text": [
      "100%|██████████| 87/87 [00:00<00:00, 14185.37it/s]\n",
      "100%|██████████| 87/87 [00:00<00:00, 39815.00it/s]\n"
     ]
    },
    {
     "name": "stdout",
     "output_type": "stream",
     "text": [
      "Downloading Mesh\n",
      "Warning: deduplication not currently supported for this layer's variable layered draco meshes\n",
      "Vertices:  23856\n"
     ]
    },
    {
     "name": "stderr",
     "output_type": "stream",
     "text": [
      "Mesh is non-watertight for contained point query!\n"
     ]
    },
    {
     "name": "stdout",
     "output_type": "stream",
     "text": [
      "Subselecting largest connected component of mesh\n",
      "Processing CC's\n"
     ]
    },
    {
     "name": "stderr",
     "output_type": "stream",
     "text": [
      "Mesh is non-watertight for contained point query!\n",
      "Mesh is non-watertight for contained point query!\n",
      "Mesh is non-watertight for contained point query!\n",
      "100%|██████████| 23484/23484 [00:00<00:00, 199339.92it/s]\n"
     ]
    },
    {
     "name": "stdout",
     "output_type": "stream",
     "text": [
      "Skel done\n"
     ]
    },
    {
     "name": "stderr",
     "output_type": "stream",
     "text": [
      "100%|██████████| 151/151 [00:00<00:00, 128963.53it/s]\n"
     ]
    },
    {
     "name": "stdout",
     "output_type": "stream",
     "text": [
      "Processing mesh errors\n"
     ]
    },
    {
     "name": "stderr",
     "output_type": "stream",
     "text": [
      "100%|██████████| 16/16 [00:00<00:00, 32388.45it/s]\n"
     ]
    },
    {
     "name": "stdout",
     "output_type": "stream",
     "text": [
      "Processing facets\n"
     ]
    },
    {
     "name": "stderr",
     "output_type": "stream",
     "text": [
      "100%|██████████| 90/90 [00:00<00:00, 7245.30it/s]\n",
      "100%|██████████| 90/90 [00:00<00:00, 14562.99it/s]\n"
     ]
    },
    {
     "name": "stdout",
     "output_type": "stream",
     "text": [
      "Downloading Mesh\n",
      "Warning: deduplication not currently supported for this layer's variable layered draco meshes\n",
      "Vertices:  31640\n",
      "Subselecting largest connected component of mesh\n",
      "Processing CC's\n"
     ]
    },
    {
     "name": "stderr",
     "output_type": "stream",
     "text": [
      "Mesh is non-watertight for contained point query!\n",
      "Mesh is non-watertight for contained point query!\n",
      "Mesh is non-watertight for contained point query!\n",
      "100%|██████████| 31589/31589 [00:00<00:00, 221227.22it/s]\n"
     ]
    },
    {
     "name": "stdout",
     "output_type": "stream",
     "text": [
      "Skel done\n"
     ]
    },
    {
     "name": "stderr",
     "output_type": "stream",
     "text": [
      "100%|██████████| 137/137 [00:00<00:00, 97442.71it/s]\n"
     ]
    },
    {
     "name": "stdout",
     "output_type": "stream",
     "text": [
      "Processing mesh errors\n"
     ]
    },
    {
     "name": "stderr",
     "output_type": "stream",
     "text": [
      "100%|██████████| 5/5 [00:00<00:00, 24759.76it/s]\n"
     ]
    },
    {
     "name": "stdout",
     "output_type": "stream",
     "text": [
      "Processing facets\n"
     ]
    },
    {
     "name": "stderr",
     "output_type": "stream",
     "text": [
      "100%|██████████| 119/119 [00:00<00:00, 10843.65it/s]\n",
      "100%|██████████| 119/119 [00:00<00:00, 31886.68it/s]\n"
     ]
    },
    {
     "name": "stdout",
     "output_type": "stream",
     "text": [
      "Downloading Mesh\n",
      "Warning: deduplication not currently supported for this layer's variable layered draco meshes\n",
      "Vertices:  198\n",
      "Subselecting largest connected component of mesh\n",
      "Processing CC's\n"
     ]
    },
    {
     "name": "stderr",
     "output_type": "stream",
     "text": [
      "100%|██████████| 197/197 [00:00<00:00, 65401.13it/s]\n"
     ]
    },
    {
     "name": "stdout",
     "output_type": "stream",
     "text": [
      "Skel done\n"
     ]
    },
    {
     "name": "stderr",
     "output_type": "stream",
     "text": [
      "100%|██████████| 2/2 [00:00<00:00, 14193.92it/s]\n"
     ]
    },
    {
     "name": "stdout",
     "output_type": "stream",
     "text": [
      "Downloading Mesh\n",
      "Warning: deduplication not currently supported for this layer's variable layered draco meshes\n",
      "Vertices:  26717\n",
      "Subselecting largest connected component of mesh\n",
      "Processing CC's\n"
     ]
    },
    {
     "name": "stderr",
     "output_type": "stream",
     "text": [
      "100%|██████████| 26716/26716 [00:00<00:00, 298705.87it/s]\n"
     ]
    },
    {
     "name": "stdout",
     "output_type": "stream",
     "text": [
      "Skel done\n"
     ]
    },
    {
     "name": "stderr",
     "output_type": "stream",
     "text": [
      "100%|██████████| 172/172 [00:00<00:00, 99191.57it/s]\n"
     ]
    },
    {
     "name": "stdout",
     "output_type": "stream",
     "text": [
      "Processing mesh errors\n"
     ]
    },
    {
     "name": "stderr",
     "output_type": "stream",
     "text": [
      "100%|██████████| 17/17 [00:00<00:00, 46572.94it/s]\n"
     ]
    },
    {
     "name": "stdout",
     "output_type": "stream",
     "text": [
      "Processing facets\n"
     ]
    },
    {
     "name": "stderr",
     "output_type": "stream",
     "text": [
      "100%|██████████| 57/57 [00:00<00:00, 6703.55it/s]\n",
      "100%|██████████| 57/57 [00:00<00:00, 28444.42it/s]\n"
     ]
    },
    {
     "name": "stdout",
     "output_type": "stream",
     "text": [
      "Downloading Mesh\n",
      "Warning: deduplication not currently supported for this layer's variable layered draco meshes\n",
      "Vertices:  5089\n",
      "Subselecting largest connected component of mesh\n",
      "Processing CC's\n"
     ]
    },
    {
     "name": "stderr",
     "output_type": "stream",
     "text": [
      "100%|██████████| 5088/5088 [00:00<00:00, 495670.99it/s]\n"
     ]
    },
    {
     "name": "stdout",
     "output_type": "stream",
     "text": [
      "Skel done\n"
     ]
    },
    {
     "name": "stderr",
     "output_type": "stream",
     "text": [
      "100%|██████████| 30/30 [00:00<00:00, 29296.65it/s]\n"
     ]
    },
    {
     "name": "stdout",
     "output_type": "stream",
     "text": [
      "Processing mesh errors\n"
     ]
    },
    {
     "name": "stderr",
     "output_type": "stream",
     "text": [
      "100%|██████████| 1/1 [00:00<00:00, 4899.89it/s]\n"
     ]
    },
    {
     "name": "stdout",
     "output_type": "stream",
     "text": [
      "Processing facets\n"
     ]
    },
    {
     "name": "stderr",
     "output_type": "stream",
     "text": [
      "100%|██████████| 24/24 [00:00<00:00, 4869.31it/s]\n",
      "100%|██████████| 24/24 [00:00<00:00, 11347.46it/s]\n"
     ]
    },
    {
     "name": "stdout",
     "output_type": "stream",
     "text": [
      "Downloading Mesh\n",
      "Warning: deduplication not currently supported for this layer's variable layered draco meshes\n",
      "Vertices:  26753\n"
     ]
    },
    {
     "name": "stderr",
     "output_type": "stream",
     "text": [
      "Mesh is non-watertight for contained point query!\n"
     ]
    },
    {
     "name": "stdout",
     "output_type": "stream",
     "text": [
      "Subselecting largest connected component of mesh\n",
      "Processing CC's\n"
     ]
    },
    {
     "name": "stderr",
     "output_type": "stream",
     "text": [
      "Mesh is non-watertight for contained point query!\n",
      "Mesh is non-watertight for contained point query!\n",
      "Mesh is non-watertight for contained point query!\n",
      "Mesh is non-watertight for contained point query!\n",
      "Mesh is non-watertight for contained point query!\n",
      "Mesh is non-watertight for contained point query!\n",
      "Mesh is non-watertight for contained point query!\n",
      "Mesh is non-watertight for contained point query!\n",
      "Mesh is non-watertight for contained point query!\n",
      "Mesh is non-watertight for contained point query!\n",
      "Mesh is non-watertight for contained point query!\n",
      "Mesh is non-watertight for contained point query!\n",
      "Mesh is non-watertight for contained point query!\n",
      "Mesh is non-watertight for contained point query!\n",
      "Mesh is non-watertight for contained point query!\n",
      "Mesh is non-watertight for contained point query!\n",
      "100%|██████████| 26554/26554 [00:00<00:00, 405837.28it/s]\n"
     ]
    },
    {
     "name": "stdout",
     "output_type": "stream",
     "text": [
      "Skel done\n"
     ]
    },
    {
     "name": "stderr",
     "output_type": "stream",
     "text": [
      "100%|██████████| 145/145 [00:00<00:00, 99930.02it/s]\n"
     ]
    },
    {
     "name": "stdout",
     "output_type": "stream",
     "text": [
      "Processing mesh errors\n"
     ]
    },
    {
     "name": "stderr",
     "output_type": "stream",
     "text": [
      "100%|██████████| 18/18 [00:00<00:00, 14435.46it/s]\n"
     ]
    },
    {
     "name": "stdout",
     "output_type": "stream",
     "text": [
      "Processing facets\n"
     ]
    },
    {
     "name": "stderr",
     "output_type": "stream",
     "text": [
      "100%|██████████| 129/129 [00:00<00:00, 10936.80it/s]\n",
      "100%|██████████| 129/129 [00:00<00:00, 22016.90it/s]\n"
     ]
    },
    {
     "name": "stdout",
     "output_type": "stream",
     "text": [
      "Downloading Mesh\n",
      "Warning: deduplication not currently supported for this layer's variable layered draco meshes\n",
      "Vertices:  19551\n"
     ]
    },
    {
     "name": "stderr",
     "output_type": "stream",
     "text": [
      "Mesh is non-watertight for contained point query!\n"
     ]
    },
    {
     "name": "stdout",
     "output_type": "stream",
     "text": [
      "Subselecting largest connected component of mesh\n",
      "Processing CC's\n"
     ]
    },
    {
     "name": "stderr",
     "output_type": "stream",
     "text": [
      "Mesh is non-watertight for contained point query!\n",
      "Mesh is non-watertight for contained point query!\n",
      "Mesh is non-watertight for contained point query!\n",
      "100%|██████████| 19465/19465 [00:00<00:00, 215394.69it/s]\n"
     ]
    },
    {
     "name": "stdout",
     "output_type": "stream",
     "text": [
      "Skel done\n"
     ]
    },
    {
     "name": "stderr",
     "output_type": "stream",
     "text": [
      "100%|██████████| 123/123 [00:00<00:00, 70410.73it/s]\n"
     ]
    },
    {
     "name": "stdout",
     "output_type": "stream",
     "text": [
      "Processing mesh errors\n"
     ]
    },
    {
     "name": "stderr",
     "output_type": "stream",
     "text": [
      "100%|██████████| 13/13 [00:00<00:00, 12358.56it/s]"
     ]
    },
    {
     "name": "stdout",
     "output_type": "stream",
     "text": [
      "Processing facets\n"
     ]
    },
    {
     "name": "stderr",
     "output_type": "stream",
     "text": [
      "\n",
      "100%|██████████| 122/122 [00:00<00:00, 14716.86it/s]\n",
      "100%|██████████| 122/122 [00:00<00:00, 40560.01it/s]\n"
     ]
    },
    {
     "name": "stdout",
     "output_type": "stream",
     "text": [
      "Downloading Mesh\n",
      "Warning: deduplication not currently supported for this layer's variable layered draco meshes\n",
      "Vertices:  1631\n",
      "Subselecting largest connected component of mesh\n",
      "Processing CC's\n"
     ]
    },
    {
     "name": "stderr",
     "output_type": "stream",
     "text": [
      "100%|██████████| 1630/1630 [00:00<00:00, 366403.10it/s]\n"
     ]
    },
    {
     "name": "stdout",
     "output_type": "stream",
     "text": [
      "Skel done\n"
     ]
    },
    {
     "name": "stderr",
     "output_type": "stream",
     "text": [
      "100%|██████████| 9/9 [00:00<00:00, 23431.87it/s]\n"
     ]
    },
    {
     "name": "stdout",
     "output_type": "stream",
     "text": [
      "Processing mesh errors\n"
     ]
    },
    {
     "name": "stderr",
     "output_type": "stream",
     "text": [
      "100%|██████████| 2/2 [00:00<00:00, 4238.81it/s]\n"
     ]
    },
    {
     "name": "stdout",
     "output_type": "stream",
     "text": [
      "Processing facets\n"
     ]
    },
    {
     "name": "stderr",
     "output_type": "stream",
     "text": [
      "100%|██████████| 12/12 [00:00<00:00, 4381.24it/s]\n",
      "100%|██████████| 12/12 [00:00<00:00, 19079.47it/s]\n"
     ]
    },
    {
     "name": "stdout",
     "output_type": "stream",
     "text": [
      "Downloading Mesh\n",
      "Warning: deduplication not currently supported for this layer's variable layered draco meshes\n",
      "Vertices:  18937\n"
     ]
    },
    {
     "name": "stderr",
     "output_type": "stream",
     "text": [
      "Mesh is non-watertight for contained point query!\n",
      "Mesh is non-watertight for contained point query!\n"
     ]
    },
    {
     "name": "stdout",
     "output_type": "stream",
     "text": [
      "Subselecting largest connected component of mesh\n",
      "Processing CC's\n"
     ]
    },
    {
     "name": "stderr",
     "output_type": "stream",
     "text": [
      "100%|██████████| 18924/18924 [00:00<00:00, 446447.50it/s]\n"
     ]
    },
    {
     "name": "stdout",
     "output_type": "stream",
     "text": [
      "Skel done\n"
     ]
    },
    {
     "name": "stderr",
     "output_type": "stream",
     "text": [
      "100%|██████████| 121/121 [00:00<00:00, 90433.14it/s]\n"
     ]
    },
    {
     "name": "stdout",
     "output_type": "stream",
     "text": [
      "Processing mesh errors\n"
     ]
    },
    {
     "name": "stderr",
     "output_type": "stream",
     "text": [
      "100%|██████████| 13/13 [00:00<00:00, 12572.27it/s]"
     ]
    },
    {
     "name": "stdout",
     "output_type": "stream",
     "text": [
      "Processing facets\n"
     ]
    },
    {
     "name": "stderr",
     "output_type": "stream",
     "text": [
      "\n",
      "100%|██████████| 66/66 [00:00<00:00, 9684.58it/s]\n",
      "100%|██████████| 66/66 [00:00<00:00, 3181.63it/s]\n"
     ]
    },
    {
     "data": {
      "text/html": [
       "<div>\n",
       "<style scoped>\n",
       "    .dataframe tbody tr th:only-of-type {\n",
       "        vertical-align: middle;\n",
       "    }\n",
       "\n",
       "    .dataframe tbody tr th {\n",
       "        vertical-align: top;\n",
       "    }\n",
       "\n",
       "    .dataframe thead th {\n",
       "        text-align: right;\n",
       "    }\n",
       "</style>\n",
       "<table border=\"1\" class=\"dataframe\">\n",
       "  <thead>\n",
       "    <tr style=\"text-align: right;\">\n",
       "      <th></th>\n",
       "      <th>neuron</th>\n",
       "      <th>ng_link</th>\n",
       "      <th>seg_id</th>\n",
       "      <th>pink_pts</th>\n",
       "      <th>num_endpoints</th>\n",
       "      <th>endpoints</th>\n",
       "      <th>comments</th>\n",
       "      <th>detailed_comments</th>\n",
       "      <th>real_endpoints</th>\n",
       "      <th>endpoints_generated</th>\n",
       "      <th>num_errors</th>\n",
       "      <th>num_facets</th>\n",
       "      <th>facets</th>\n",
       "      <th>errors</th>\n",
       "    </tr>\n",
       "  </thead>\n",
       "  <tbody>\n",
       "    <tr>\n",
       "      <th>0</th>\n",
       "      <td>864691136577830164</td>\n",
       "      <td>https://neuroglancer.neuvue.io/?json_url=https...</td>\n",
       "      <td>864691135909994000</td>\n",
       "      <td>(402188, 228684, 24029)</td>\n",
       "      <td>2</td>\n",
       "      <td>[(402584, 228856, 23991), (402985, 229235, 235...</td>\n",
       "      <td>good</td>\n",
       "      <td>NaN</td>\n",
       "      <td>[[402584, 228856, 23991], [402985, 229235, 235...</td>\n",
       "      <td>[[402970.1091549296, 229214.63028169013, 23552...</td>\n",
       "      <td>0</td>\n",
       "      <td>2</td>\n",
       "      <td>[[402970.1091549296, 229214.63028169013, 23552...</td>\n",
       "      <td>[[0.0, 0.0, 0.0]]</td>\n",
       "    </tr>\n",
       "    <tr>\n",
       "      <th>1</th>\n",
       "      <td>864691136577830164</td>\n",
       "      <td>https://neuroglancer.neuvue.io/?json_url=https...</td>\n",
       "      <td>864691135247440303</td>\n",
       "      <td>(401258, 224832, 24029)</td>\n",
       "      <td>3</td>\n",
       "      <td>[(401612, 224623, 23991), (405257, 226318, 236...</td>\n",
       "      <td>good</td>\n",
       "      <td>NaN</td>\n",
       "      <td>[[401612, 224623, 23991], [405257, 226318, 236...</td>\n",
       "      <td>[[401768.85, 224295.75, 23978.325], [409128.86...</td>\n",
       "      <td>1</td>\n",
       "      <td>3</td>\n",
       "      <td>[[401768.85, 224295.75, 23978.325], [409128.86...</td>\n",
       "      <td>[[405058.04347826086, 226369.72826086957, 2362...</td>\n",
       "    </tr>\n",
       "    <tr>\n",
       "      <th>2</th>\n",
       "      <td>864691136577830164</td>\n",
       "      <td>https://neuroglancer.neuvue.io/?json_url=https...</td>\n",
       "      <td>864691134794123793</td>\n",
       "      <td>(401314, 228366, 24424)</td>\n",
       "      <td>2</td>\n",
       "      <td>[(401242, 228382, 24444), (400982, 228457, 245...</td>\n",
       "      <td>m</td>\n",
       "      <td>merged to two axon pieces</td>\n",
       "      <td>[[401242, 228382, 24444], [400982, 228457, 245...</td>\n",
       "      <td>[[0.0, 0.0, 0.0]]</td>\n",
       "      <td>0</td>\n",
       "      <td>0</td>\n",
       "      <td>[[0.0, 0.0, 0.0]]</td>\n",
       "      <td>[[0.0, 0.0, 0.0]]</td>\n",
       "    </tr>\n",
       "    <tr>\n",
       "      <th>3</th>\n",
       "      <td>864691136577830164</td>\n",
       "      <td>https://neuroglancer.neuvue.io/?json_url=https...</td>\n",
       "      <td>864691135772363453</td>\n",
       "      <td>(400199, 220721, 24029)</td>\n",
       "      <td>7</td>\n",
       "      <td>[(401289, 218721, 23991), (399895, 216533, 235...</td>\n",
       "      <td>m</td>\n",
       "      <td>NaN</td>\n",
       "      <td>[[401289, 218721, 23991], [399895, 216533, 235...</td>\n",
       "      <td>[[375337.025, 189396.9, 22553.475], [378316.16...</td>\n",
       "      <td>9</td>\n",
       "      <td>10</td>\n",
       "      <td>[[375337.025, 189396.9, 22553.475], [378316.16...</td>\n",
       "      <td>[[404000.0073529412, 210782.86764705883, 23984...</td>\n",
       "    </tr>\n",
       "    <tr>\n",
       "      <th>4</th>\n",
       "      <td>864691136577830164</td>\n",
       "      <td>https://neuroglancer.neuvue.io/?json_url=https...</td>\n",
       "      <td>864691135314714227</td>\n",
       "      <td>(397870, 232292, 24004)</td>\n",
       "      <td>2</td>\n",
       "      <td>[(397867, 232230, 23999), (397854, 232252, 239...</td>\n",
       "      <td>good</td>\n",
       "      <td>NaN</td>\n",
       "      <td>[[397867, 232230, 23999], [397854, 232252, 239...</td>\n",
       "      <td>[[0.0, 0.0, 0.0]]</td>\n",
       "      <td>0</td>\n",
       "      <td>0</td>\n",
       "      <td>[[0.0, 0.0, 0.0]]</td>\n",
       "      <td>[[0.0, 0.0, 0.0]]</td>\n",
       "    </tr>\n",
       "    <tr>\n",
       "      <th>...</th>\n",
       "      <td>...</td>\n",
       "      <td>...</td>\n",
       "      <td>...</td>\n",
       "      <td>...</td>\n",
       "      <td>...</td>\n",
       "      <td>...</td>\n",
       "      <td>...</td>\n",
       "      <td>...</td>\n",
       "      <td>...</td>\n",
       "      <td>...</td>\n",
       "      <td>...</td>\n",
       "      <td>...</td>\n",
       "      <td>...</td>\n",
       "      <td>...</td>\n",
       "    </tr>\n",
       "    <tr>\n",
       "      <th>119</th>\n",
       "      <td>864691135526309723</td>\n",
       "      <td>https://neuroglancer.neuvue.io/?json_url=https...</td>\n",
       "      <td>864691135089638001</td>\n",
       "      <td>(122738, 154726, 20654)</td>\n",
       "      <td>2</td>\n",
       "      <td>[(122789, 154701, 20649), (122688, 151314, 205...</td>\n",
       "      <td>good</td>\n",
       "      <td>NaN</td>\n",
       "      <td>[[122789, 154701, 20649], [122688, 151314, 205...</td>\n",
       "      <td>[[122716.125, 154749.0, 20649.3]]</td>\n",
       "      <td>0</td>\n",
       "      <td>1</td>\n",
       "      <td>[[122716.125, 154749.0, 20649.3]]</td>\n",
       "      <td>[]</td>\n",
       "    </tr>\n",
       "    <tr>\n",
       "      <th>120</th>\n",
       "      <td>864691135526309723</td>\n",
       "      <td>https://neuroglancer.neuvue.io/?json_url=https...</td>\n",
       "      <td>864691135319600870</td>\n",
       "      <td>(106639, 111664, 20802)</td>\n",
       "      <td>2</td>\n",
       "      <td>[(106608, 111803, 20796), (98290, 97555, 21045)]</td>\n",
       "      <td>good</td>\n",
       "      <td>NaN</td>\n",
       "      <td>[[106608, 111803, 20796], [98290, 97555, 21045]]</td>\n",
       "      <td>[[98335.2794117647, 97571.25, 21045.675], [106...</td>\n",
       "      <td>3</td>\n",
       "      <td>2</td>\n",
       "      <td>[[98335.2794117647, 97571.25, 21045.675], [106...</td>\n",
       "      <td>[[106455.234375, 110471.89453125, 20704.425], ...</td>\n",
       "    </tr>\n",
       "    <tr>\n",
       "      <th>121</th>\n",
       "      <td>864691135526309723</td>\n",
       "      <td>https://neuroglancer.neuvue.io/?json_url=https...</td>\n",
       "      <td>864691136558839249</td>\n",
       "      <td>(103176, 188510, 21202)</td>\n",
       "      <td>2</td>\n",
       "      <td>[(103138, 188530, 21200), (91780, 189141, 20879)]</td>\n",
       "      <td>good</td>\n",
       "      <td>NaN</td>\n",
       "      <td>[[103138, 188530, 21200], [91780, 189141, 20879]]</td>\n",
       "      <td>[[102875.85, 188569.5, 21178.5], [91735.620967...</td>\n",
       "      <td>2</td>\n",
       "      <td>2</td>\n",
       "      <td>[[102875.85, 188569.5, 21178.5], [91735.620967...</td>\n",
       "      <td>[[103168.6106557377, 188489.20081967214, 21193...</td>\n",
       "    </tr>\n",
       "    <tr>\n",
       "      <th>122</th>\n",
       "      <td>864691135526309723</td>\n",
       "      <td>https://neuroglancer.neuvue.io/?json_url=https...</td>\n",
       "      <td>864691135458639120</td>\n",
       "      <td>(127406, 206585, 21529)</td>\n",
       "      <td>2</td>\n",
       "      <td>[(127475, 206611, 21525), (128120, 207267, 215...</td>\n",
       "      <td>good</td>\n",
       "      <td>NaN</td>\n",
       "      <td>[[127475, 206611, 21525], [128120, 207267, 215...</td>\n",
       "      <td>[[127722.0, 206896.375, 21513.45], [127879.5, ...</td>\n",
       "      <td>1</td>\n",
       "      <td>2</td>\n",
       "      <td>[[127722.0, 206896.375, 21513.45], [127879.5, ...</td>\n",
       "      <td>[[127769.33139534884, 207096.5058139535, 21502...</td>\n",
       "    </tr>\n",
       "    <tr>\n",
       "      <th>123</th>\n",
       "      <td>864691135526309723</td>\n",
       "      <td>https://neuroglancer.neuvue.io/?json_url=https...</td>\n",
       "      <td>864691135826764827</td>\n",
       "      <td>(122260, 186180, 19628)</td>\n",
       "      <td>2</td>\n",
       "      <td>[(122293, 186204, 19621), (124943, 185661, 186...</td>\n",
       "      <td>m</td>\n",
       "      <td>NaN</td>\n",
       "      <td>[[122293, 186204, 19621], [124943, 185661, 186...</td>\n",
       "      <td>[[122412.34090909091, 186594.54545454544, 1960...</td>\n",
       "      <td>3</td>\n",
       "      <td>4</td>\n",
       "      <td>[[122412.34090909091, 186594.54545454544, 1960...</td>\n",
       "      <td>[[122120.61627906977, 186268.16860465117, 1962...</td>\n",
       "    </tr>\n",
       "  </tbody>\n",
       "</table>\n",
       "<p>124 rows × 14 columns</p>\n",
       "</div>"
      ],
      "text/plain": [
       "                 neuron                                            ng_link  \\\n",
       "0    864691136577830164  https://neuroglancer.neuvue.io/?json_url=https...   \n",
       "1    864691136577830164  https://neuroglancer.neuvue.io/?json_url=https...   \n",
       "2    864691136577830164  https://neuroglancer.neuvue.io/?json_url=https...   \n",
       "3    864691136577830164  https://neuroglancer.neuvue.io/?json_url=https...   \n",
       "4    864691136577830164  https://neuroglancer.neuvue.io/?json_url=https...   \n",
       "..                  ...                                                ...   \n",
       "119  864691135526309723  https://neuroglancer.neuvue.io/?json_url=https...   \n",
       "120  864691135526309723  https://neuroglancer.neuvue.io/?json_url=https...   \n",
       "121  864691135526309723  https://neuroglancer.neuvue.io/?json_url=https...   \n",
       "122  864691135526309723  https://neuroglancer.neuvue.io/?json_url=https...   \n",
       "123  864691135526309723  https://neuroglancer.neuvue.io/?json_url=https...   \n",
       "\n",
       "                 seg_id                 pink_pts  num_endpoints  \\\n",
       "0    864691135909994000  (402188, 228684, 24029)              2   \n",
       "1    864691135247440303  (401258, 224832, 24029)              3   \n",
       "2    864691134794123793  (401314, 228366, 24424)              2   \n",
       "3    864691135772363453  (400199, 220721, 24029)              7   \n",
       "4    864691135314714227  (397870, 232292, 24004)              2   \n",
       "..                  ...                      ...            ...   \n",
       "119  864691135089638001  (122738, 154726, 20654)              2   \n",
       "120  864691135319600870  (106639, 111664, 20802)              2   \n",
       "121  864691136558839249  (103176, 188510, 21202)              2   \n",
       "122  864691135458639120  (127406, 206585, 21529)              2   \n",
       "123  864691135826764827  (122260, 186180, 19628)              2   \n",
       "\n",
       "                                             endpoints comments  \\\n",
       "0    [(402584, 228856, 23991), (402985, 229235, 235...     good   \n",
       "1    [(401612, 224623, 23991), (405257, 226318, 236...     good   \n",
       "2    [(401242, 228382, 24444), (400982, 228457, 245...        m   \n",
       "3    [(401289, 218721, 23991), (399895, 216533, 235...        m   \n",
       "4    [(397867, 232230, 23999), (397854, 232252, 239...     good   \n",
       "..                                                 ...      ...   \n",
       "119  [(122789, 154701, 20649), (122688, 151314, 205...     good   \n",
       "120   [(106608, 111803, 20796), (98290, 97555, 21045)]     good   \n",
       "121  [(103138, 188530, 21200), (91780, 189141, 20879)]     good   \n",
       "122  [(127475, 206611, 21525), (128120, 207267, 215...     good   \n",
       "123  [(122293, 186204, 19621), (124943, 185661, 186...        m   \n",
       "\n",
       "             detailed_comments  \\\n",
       "0                          NaN   \n",
       "1                          NaN   \n",
       "2    merged to two axon pieces   \n",
       "3                          NaN   \n",
       "4                          NaN   \n",
       "..                         ...   \n",
       "119                        NaN   \n",
       "120                        NaN   \n",
       "121                        NaN   \n",
       "122                        NaN   \n",
       "123                        NaN   \n",
       "\n",
       "                                        real_endpoints  \\\n",
       "0    [[402584, 228856, 23991], [402985, 229235, 235...   \n",
       "1    [[401612, 224623, 23991], [405257, 226318, 236...   \n",
       "2    [[401242, 228382, 24444], [400982, 228457, 245...   \n",
       "3    [[401289, 218721, 23991], [399895, 216533, 235...   \n",
       "4    [[397867, 232230, 23999], [397854, 232252, 239...   \n",
       "..                                                 ...   \n",
       "119  [[122789, 154701, 20649], [122688, 151314, 205...   \n",
       "120   [[106608, 111803, 20796], [98290, 97555, 21045]]   \n",
       "121  [[103138, 188530, 21200], [91780, 189141, 20879]]   \n",
       "122  [[127475, 206611, 21525], [128120, 207267, 215...   \n",
       "123  [[122293, 186204, 19621], [124943, 185661, 186...   \n",
       "\n",
       "                                   endpoints_generated  num_errors  \\\n",
       "0    [[402970.1091549296, 229214.63028169013, 23552...           0   \n",
       "1    [[401768.85, 224295.75, 23978.325], [409128.86...           1   \n",
       "2                                    [[0.0, 0.0, 0.0]]           0   \n",
       "3    [[375337.025, 189396.9, 22553.475], [378316.16...           9   \n",
       "4                                    [[0.0, 0.0, 0.0]]           0   \n",
       "..                                                 ...         ...   \n",
       "119                  [[122716.125, 154749.0, 20649.3]]           0   \n",
       "120  [[98335.2794117647, 97571.25, 21045.675], [106...           3   \n",
       "121  [[102875.85, 188569.5, 21178.5], [91735.620967...           2   \n",
       "122  [[127722.0, 206896.375, 21513.45], [127879.5, ...           1   \n",
       "123  [[122412.34090909091, 186594.54545454544, 1960...           3   \n",
       "\n",
       "     num_facets                                             facets  \\\n",
       "0             2  [[402970.1091549296, 229214.63028169013, 23552...   \n",
       "1             3  [[401768.85, 224295.75, 23978.325], [409128.86...   \n",
       "2             0                                  [[0.0, 0.0, 0.0]]   \n",
       "3            10  [[375337.025, 189396.9, 22553.475], [378316.16...   \n",
       "4             0                                  [[0.0, 0.0, 0.0]]   \n",
       "..          ...                                                ...   \n",
       "119           1                  [[122716.125, 154749.0, 20649.3]]   \n",
       "120           2  [[98335.2794117647, 97571.25, 21045.675], [106...   \n",
       "121           2  [[102875.85, 188569.5, 21178.5], [91735.620967...   \n",
       "122           2  [[127722.0, 206896.375, 21513.45], [127879.5, ...   \n",
       "123           4  [[122412.34090909091, 186594.54545454544, 1960...   \n",
       "\n",
       "                                                errors  \n",
       "0                                    [[0.0, 0.0, 0.0]]  \n",
       "1    [[405058.04347826086, 226369.72826086957, 2362...  \n",
       "2                                    [[0.0, 0.0, 0.0]]  \n",
       "3    [[404000.0073529412, 210782.86764705883, 23984...  \n",
       "4                                    [[0.0, 0.0, 0.0]]  \n",
       "..                                                 ...  \n",
       "119                                                 []  \n",
       "120  [[106455.234375, 110471.89453125, 20704.425], ...  \n",
       "121  [[103168.6106557377, 188489.20081967214, 21193...  \n",
       "122  [[127769.33139534884, 207096.5058139535, 21502...  \n",
       "123  [[122120.61627906977, 186268.16860465117, 1962...  \n",
       "\n",
       "[124 rows x 14 columns]"
      ]
     },
     "execution_count": 22,
     "metadata": {},
     "output_type": "execute_result"
    }
   ],
   "source": [
    "generate_endpoints(orphans)"
   ]
  },
  {
   "cell_type": "code",
   "execution_count": 23,
   "metadata": {},
   "outputs": [
    {
     "name": "stdout",
     "output_type": "stream",
     "text": [
      "Downloading Mesh\n",
      "Warning: deduplication not currently supported for this layer's variable layered draco meshes\n",
      "Vertices:  7993\n",
      "Subselecting largest connected component of mesh\n",
      "Processing CC's\n"
     ]
    },
    {
     "name": "stderr",
     "output_type": "stream",
     "text": [
      "100%|██████████| 7992/7992 [00:00<00:00, 569647.00it/s]\n"
     ]
    },
    {
     "name": "stdout",
     "output_type": "stream",
     "text": [
      "Skel done\n"
     ]
    },
    {
     "name": "stderr",
     "output_type": "stream",
     "text": [
      "100%|██████████| 26/26 [00:00<00:00, 36314.32it/s]\n"
     ]
    },
    {
     "name": "stdout",
     "output_type": "stream",
     "text": [
      "Processing facets\n"
     ]
    },
    {
     "name": "stderr",
     "output_type": "stream",
     "text": [
      "100%|██████████| 17/17 [00:00<00:00, 2890.28it/s]\n",
      "100%|██████████| 17/17 [00:00<00:00, 20119.40it/s]\n"
     ]
    },
    {
     "name": "stdout",
     "output_type": "stream",
     "text": [
      "Downloading Mesh\n",
      "Warning: deduplication not currently supported for this layer's variable layered draco meshes\n",
      "Vertices:  21335\n",
      "Subselecting largest connected component of mesh\n",
      "Processing CC's\n"
     ]
    },
    {
     "name": "stderr",
     "output_type": "stream",
     "text": [
      "100%|██████████| 21334/21334 [00:00<00:00, 409624.68it/s]\n"
     ]
    },
    {
     "name": "stdout",
     "output_type": "stream",
     "text": [
      "Skel done\n"
     ]
    },
    {
     "name": "stderr",
     "output_type": "stream",
     "text": [
      "100%|██████████| 86/86 [00:00<00:00, 42075.14it/s]\n"
     ]
    },
    {
     "name": "stdout",
     "output_type": "stream",
     "text": [
      "Processing mesh errors\n"
     ]
    },
    {
     "name": "stderr",
     "output_type": "stream",
     "text": [
      "100%|██████████| 2/2 [00:00<00:00, 5074.78it/s]\n"
     ]
    },
    {
     "name": "stdout",
     "output_type": "stream",
     "text": [
      "Processing facets\n"
     ]
    },
    {
     "name": "stderr",
     "output_type": "stream",
     "text": [
      "100%|██████████| 89/89 [00:00<00:00, 5751.91it/s]\n",
      "100%|██████████| 89/89 [00:00<00:00, 17658.97it/s]\n"
     ]
    },
    {
     "name": "stdout",
     "output_type": "stream",
     "text": [
      "Downloading Mesh\n",
      "Warning: deduplication not currently supported for this layer's variable layered draco meshes\n",
      "Vertices:  6056\n",
      "Subselecting largest connected component of mesh\n",
      "Processing CC's\n"
     ]
    },
    {
     "name": "stderr",
     "output_type": "stream",
     "text": [
      "100%|██████████| 6049/6049 [00:00<00:00, 414253.09it/s]\n"
     ]
    },
    {
     "name": "stdout",
     "output_type": "stream",
     "text": [
      "Skel done\n"
     ]
    },
    {
     "name": "stderr",
     "output_type": "stream",
     "text": [
      "100%|██████████| 51/51 [00:00<00:00, 77279.45it/s]\n"
     ]
    },
    {
     "name": "stdout",
     "output_type": "stream",
     "text": [
      "Processing mesh errors\n"
     ]
    },
    {
     "name": "stderr",
     "output_type": "stream",
     "text": [
      "100%|██████████| 4/4 [00:00<00:00, 6814.47it/s]\n"
     ]
    },
    {
     "name": "stdout",
     "output_type": "stream",
     "text": [
      "Processing facets\n"
     ]
    },
    {
     "name": "stderr",
     "output_type": "stream",
     "text": [
      "100%|██████████| 48/48 [00:00<00:00, 7012.66it/s]\n",
      "100%|██████████| 48/48 [00:00<00:00, 25260.55it/s]\n"
     ]
    },
    {
     "name": "stdout",
     "output_type": "stream",
     "text": [
      "Downloading Mesh\n",
      "Warning: deduplication not currently supported for this layer's variable layered draco meshes\n",
      "Vertices:  1180\n",
      "Subselecting largest connected component of mesh\n",
      "Processing CC's\n"
     ]
    },
    {
     "name": "stderr",
     "output_type": "stream",
     "text": [
      "100%|██████████| 1179/1179 [00:00<00:00, 205437.43it/s]\n"
     ]
    },
    {
     "name": "stdout",
     "output_type": "stream",
     "text": [
      "Skel done\n"
     ]
    },
    {
     "name": "stderr",
     "output_type": "stream",
     "text": [
      "100%|██████████| 9/9 [00:00<00:00, 18078.90it/s]\n"
     ]
    },
    {
     "name": "stdout",
     "output_type": "stream",
     "text": [
      "Processing mesh errors\n"
     ]
    },
    {
     "name": "stderr",
     "output_type": "stream",
     "text": [
      "100%|██████████| 1/1 [00:00<00:00, 6213.78it/s]\n"
     ]
    },
    {
     "name": "stdout",
     "output_type": "stream",
     "text": [
      "Processing facets\n"
     ]
    },
    {
     "name": "stderr",
     "output_type": "stream",
     "text": [
      "100%|██████████| 9/9 [00:00<00:00, 5278.81it/s]\n",
      "100%|██████████| 9/9 [00:00<00:00, 19691.57it/s]\n"
     ]
    },
    {
     "name": "stdout",
     "output_type": "stream",
     "text": [
      "Downloading Mesh\n",
      "Warning: deduplication not currently supported for this layer's variable layered draco meshes\n",
      "Vertices:  14714\n"
     ]
    },
    {
     "name": "stderr",
     "output_type": "stream",
     "text": [
      "Mesh is non-watertight for contained point query!\n",
      "Mesh is non-watertight for contained point query!\n",
      "Mesh is non-watertight for contained point query!\n",
      "Mesh is non-watertight for contained point query!\n",
      "Mesh is non-watertight for contained point query!\n"
     ]
    },
    {
     "name": "stdout",
     "output_type": "stream",
     "text": [
      "Subselecting largest connected component of mesh\n",
      "Processing CC's\n"
     ]
    },
    {
     "name": "stderr",
     "output_type": "stream",
     "text": [
      "100%|██████████| 14505/14505 [00:00<00:00, 727357.69it/s]\n"
     ]
    },
    {
     "name": "stdout",
     "output_type": "stream",
     "text": [
      "Skel done\n"
     ]
    },
    {
     "name": "stderr",
     "output_type": "stream",
     "text": [
      "100%|██████████| 91/91 [00:00<00:00, 71089.90it/s]\n"
     ]
    },
    {
     "name": "stdout",
     "output_type": "stream",
     "text": [
      "Processing mesh errors\n"
     ]
    },
    {
     "name": "stderr",
     "output_type": "stream",
     "text": [
      "100%|██████████| 9/9 [00:00<00:00, 10906.89it/s]"
     ]
    },
    {
     "name": "stdout",
     "output_type": "stream",
     "text": [
      "Processing facets\n"
     ]
    },
    {
     "name": "stderr",
     "output_type": "stream",
     "text": [
      "\n",
      "100%|██████████| 52/52 [00:00<00:00, 8759.89it/s]\n",
      "100%|██████████| 52/52 [00:00<00:00, 23962.19it/s]\n"
     ]
    },
    {
     "name": "stdout",
     "output_type": "stream",
     "text": [
      "Downloading Mesh\n",
      "Warning: deduplication not currently supported for this layer's variable layered draco meshes\n",
      "Vertices:  24966\n",
      "Subselecting largest connected component of mesh\n",
      "Processing CC's\n"
     ]
    },
    {
     "name": "stderr",
     "output_type": "stream",
     "text": [
      "100%|██████████| 24965/24965 [00:00<00:00, 467125.26it/s]\n"
     ]
    },
    {
     "name": "stdout",
     "output_type": "stream",
     "text": [
      "Skel done\n"
     ]
    },
    {
     "name": "stderr",
     "output_type": "stream",
     "text": [
      "100%|██████████| 158/158 [00:00<00:00, 117229.80it/s]\n"
     ]
    },
    {
     "name": "stdout",
     "output_type": "stream",
     "text": [
      "Processing mesh errors\n"
     ]
    },
    {
     "name": "stderr",
     "output_type": "stream",
     "text": [
      "100%|██████████| 11/11 [00:00<00:00, 16900.13it/s]"
     ]
    },
    {
     "name": "stdout",
     "output_type": "stream",
     "text": [
      "Processing facets\n"
     ]
    },
    {
     "name": "stderr",
     "output_type": "stream",
     "text": [
      "\n",
      "100%|██████████| 89/89 [00:00<00:00, 14915.02it/s]\n",
      "100%|██████████| 89/89 [00:00<00:00, 60218.27it/s]\n"
     ]
    },
    {
     "name": "stdout",
     "output_type": "stream",
     "text": [
      "Downloading Mesh\n",
      "Warning: deduplication not currently supported for this layer's variable layered draco meshes\n",
      "Vertices:  23312\n"
     ]
    },
    {
     "name": "stderr",
     "output_type": "stream",
     "text": [
      "Mesh is non-watertight for contained point query!\n"
     ]
    },
    {
     "name": "stdout",
     "output_type": "stream",
     "text": [
      "Subselecting largest connected component of mesh\n",
      "Processing CC's\n"
     ]
    },
    {
     "name": "stderr",
     "output_type": "stream",
     "text": [
      "Mesh is non-watertight for contained point query!\n",
      "Mesh is non-watertight for contained point query!\n",
      "Mesh is non-watertight for contained point query!\n",
      "Mesh is non-watertight for contained point query!\n",
      "Mesh is non-watertight for contained point query!\n",
      "100%|██████████| 23105/23105 [00:00<00:00, 487766.23it/s]\n"
     ]
    },
    {
     "name": "stdout",
     "output_type": "stream",
     "text": [
      "Skel done\n"
     ]
    },
    {
     "name": "stderr",
     "output_type": "stream",
     "text": [
      "100%|██████████| 168/168 [00:00<00:00, 89455.77it/s]\n"
     ]
    },
    {
     "name": "stdout",
     "output_type": "stream",
     "text": [
      "Processing mesh errors\n"
     ]
    },
    {
     "name": "stderr",
     "output_type": "stream",
     "text": [
      "100%|██████████| 13/13 [00:00<00:00, 35337.62it/s]\n"
     ]
    },
    {
     "name": "stdout",
     "output_type": "stream",
     "text": [
      "Processing facets\n"
     ]
    },
    {
     "name": "stderr",
     "output_type": "stream",
     "text": [
      "100%|██████████| 71/71 [00:00<00:00, 8800.37it/s]\n",
      "100%|██████████| 71/71 [00:00<00:00, 49898.72it/s]\n"
     ]
    },
    {
     "name": "stdout",
     "output_type": "stream",
     "text": [
      "Downloading Mesh\n",
      "Warning: deduplication not currently supported for this layer's variable layered draco meshes\n",
      "Vertices:  2490\n",
      "Subselecting largest connected component of mesh\n",
      "Processing CC's\n"
     ]
    },
    {
     "name": "stderr",
     "output_type": "stream",
     "text": [
      "100%|██████████| 2489/2489 [00:00<00:00, 159898.65it/s]\n"
     ]
    },
    {
     "name": "stdout",
     "output_type": "stream",
     "text": [
      "Skel done\n"
     ]
    },
    {
     "name": "stderr",
     "output_type": "stream",
     "text": [
      "100%|██████████| 21/21 [00:00<00:00, 76858.97it/s]\n",
      "Mesh is non-watertight for contained point query!\n"
     ]
    },
    {
     "name": "stdout",
     "output_type": "stream",
     "text": [
      "Processing mesh errors\n"
     ]
    },
    {
     "name": "stderr",
     "output_type": "stream",
     "text": [
      "100%|██████████| 2/2 [00:00<00:00, 5305.89it/s]\n"
     ]
    },
    {
     "name": "stdout",
     "output_type": "stream",
     "text": [
      "Processing facets\n"
     ]
    },
    {
     "name": "stderr",
     "output_type": "stream",
     "text": [
      "100%|██████████| 5/5 [00:00<00:00, 4927.52it/s]\n",
      "100%|██████████| 5/5 [00:00<00:00, 9558.58it/s]\n"
     ]
    },
    {
     "name": "stdout",
     "output_type": "stream",
     "text": [
      "Downloading Mesh\n",
      "Warning: deduplication not currently supported for this layer's variable layered draco meshes\n",
      "Vertices:  7233\n",
      "Subselecting largest connected component of mesh\n",
      "Processing CC's\n"
     ]
    },
    {
     "name": "stderr",
     "output_type": "stream",
     "text": [
      "100%|██████████| 7232/7232 [00:00<00:00, 652776.24it/s]\n"
     ]
    },
    {
     "name": "stdout",
     "output_type": "stream",
     "text": [
      "Skel done\n"
     ]
    },
    {
     "name": "stderr",
     "output_type": "stream",
     "text": [
      "100%|██████████| 50/50 [00:00<00:00, 63300.69it/s]\n"
     ]
    },
    {
     "name": "stdout",
     "output_type": "stream",
     "text": [
      "Processing facets\n"
     ]
    },
    {
     "name": "stderr",
     "output_type": "stream",
     "text": [
      "100%|██████████| 6/6 [00:00<00:00, 3078.76it/s]\n",
      "100%|██████████| 6/6 [00:00<00:00, 7958.83it/s]\n"
     ]
    },
    {
     "name": "stdout",
     "output_type": "stream",
     "text": [
      "Downloading Mesh\n",
      "Warning: deduplication not currently supported for this layer's variable layered draco meshes\n",
      "Vertices:  2238\n",
      "Subselecting largest connected component of mesh\n",
      "Processing CC's\n"
     ]
    },
    {
     "name": "stderr",
     "output_type": "stream",
     "text": [
      "100%|██████████| 2237/2237 [00:00<00:00, 454960.87it/s]\n"
     ]
    },
    {
     "name": "stdout",
     "output_type": "stream",
     "text": [
      "Skel done\n"
     ]
    },
    {
     "name": "stderr",
     "output_type": "stream",
     "text": [
      "100%|██████████| 8/8 [00:00<00:00, 41476.43it/s]\n"
     ]
    },
    {
     "name": "stdout",
     "output_type": "stream",
     "text": [
      "Processing mesh errors\n"
     ]
    },
    {
     "name": "stderr",
     "output_type": "stream",
     "text": [
      "100%|██████████| 1/1 [00:00<00:00, 2525.17it/s]\n"
     ]
    },
    {
     "name": "stdout",
     "output_type": "stream",
     "text": [
      "Processing facets\n"
     ]
    },
    {
     "name": "stderr",
     "output_type": "stream",
     "text": [
      "100%|██████████| 8/8 [00:00<00:00, 4687.03it/s]\n",
      "100%|██████████| 8/8 [00:00<00:00, 15121.42it/s]\n"
     ]
    },
    {
     "name": "stdout",
     "output_type": "stream",
     "text": [
      "Downloading Mesh\n",
      "Warning: deduplication not currently supported for this layer's variable layered draco meshes\n",
      "Vertices:  7187\n",
      "Subselecting largest connected component of mesh\n",
      "Processing CC's\n"
     ]
    },
    {
     "name": "stderr",
     "output_type": "stream",
     "text": [
      "100%|██████████| 7186/7186 [00:00<00:00, 634118.12it/s]\n"
     ]
    },
    {
     "name": "stdout",
     "output_type": "stream",
     "text": [
      "Skel done\n"
     ]
    },
    {
     "name": "stderr",
     "output_type": "stream",
     "text": [
      "100%|██████████| 39/39 [00:00<00:00, 49871.30it/s]\n"
     ]
    },
    {
     "name": "stdout",
     "output_type": "stream",
     "text": [
      "Processing facets\n"
     ]
    },
    {
     "name": "stderr",
     "output_type": "stream",
     "text": [
      "100%|██████████| 10/10 [00:00<00:00, 3043.32it/s]\n",
      "100%|██████████| 10/10 [00:00<00:00, 11172.89it/s]\n"
     ]
    },
    {
     "name": "stdout",
     "output_type": "stream",
     "text": [
      "Downloading Mesh\n",
      "Warning: deduplication not currently supported for this layer's variable layered draco meshes\n",
      "Vertices:  44825\n",
      "Subselecting largest connected component of mesh\n",
      "Processing CC's\n"
     ]
    },
    {
     "name": "stderr",
     "output_type": "stream",
     "text": [
      "Mesh is non-watertight for contained point query!\n",
      "Mesh is non-watertight for contained point query!\n",
      "Mesh is non-watertight for contained point query!\n",
      "Mesh is non-watertight for contained point query!\n",
      "Mesh is non-watertight for contained point query!\n",
      "Mesh is non-watertight for contained point query!\n",
      "Mesh is non-watertight for contained point query!\n",
      "Mesh is non-watertight for contained point query!\n",
      "Mesh is non-watertight for contained point query!\n",
      "Mesh is non-watertight for contained point query!\n",
      "Mesh is non-watertight for contained point query!\n",
      "100%|██████████| 44696/44696 [00:00<00:00, 469269.85it/s]\n"
     ]
    },
    {
     "name": "stdout",
     "output_type": "stream",
     "text": [
      "Skel done\n"
     ]
    },
    {
     "name": "stderr",
     "output_type": "stream",
     "text": [
      "100%|██████████| 250/250 [00:00<00:00, 195739.41it/s]\n"
     ]
    },
    {
     "name": "stdout",
     "output_type": "stream",
     "text": [
      "Processing mesh errors\n"
     ]
    },
    {
     "name": "stderr",
     "output_type": "stream",
     "text": [
      "100%|██████████| 23/23 [00:00<00:00, 28490.55it/s]\n"
     ]
    },
    {
     "name": "stdout",
     "output_type": "stream",
     "text": [
      "Processing facets\n"
     ]
    },
    {
     "name": "stderr",
     "output_type": "stream",
     "text": [
      "100%|██████████| 295/295 [00:00<00:00, 16329.94it/s]\n",
      "100%|██████████| 295/295 [00:00<00:00, 37642.83it/s]\n"
     ]
    },
    {
     "name": "stdout",
     "output_type": "stream",
     "text": [
      "Downloading Mesh\n",
      "Warning: deduplication not currently supported for this layer's variable layered draco meshes\n",
      "Vertices:  11531\n",
      "Subselecting largest connected component of mesh\n",
      "Processing CC's\n"
     ]
    },
    {
     "name": "stderr",
     "output_type": "stream",
     "text": [
      "100%|██████████| 11530/11530 [00:00<00:00, 636948.64it/s]\n"
     ]
    },
    {
     "name": "stdout",
     "output_type": "stream",
     "text": [
      "Skel done\n"
     ]
    },
    {
     "name": "stderr",
     "output_type": "stream",
     "text": [
      "100%|██████████| 77/77 [00:00<00:00, 83973.33it/s]\n"
     ]
    },
    {
     "name": "stdout",
     "output_type": "stream",
     "text": [
      "Processing mesh errors\n"
     ]
    },
    {
     "name": "stderr",
     "output_type": "stream",
     "text": [
      "100%|██████████| 6/6 [00:00<00:00, 18531.53it/s]"
     ]
    },
    {
     "name": "stdout",
     "output_type": "stream",
     "text": [
      "Processing facets\n"
     ]
    },
    {
     "name": "stderr",
     "output_type": "stream",
     "text": [
      "\n",
      "100%|██████████| 62/62 [00:00<00:00, 9058.97it/s]\n",
      "100%|██████████| 62/62 [00:00<00:00, 20434.30it/s]\n"
     ]
    },
    {
     "name": "stdout",
     "output_type": "stream",
     "text": [
      "Downloading Mesh\n",
      "Warning: deduplication not currently supported for this layer's variable layered draco meshes\n",
      "Vertices:  3820\n",
      "Subselecting largest connected component of mesh\n",
      "Processing CC's\n"
     ]
    },
    {
     "name": "stderr",
     "output_type": "stream",
     "text": [
      "100%|██████████| 3801/3801 [00:00<00:00, 507530.55it/s]\n"
     ]
    },
    {
     "name": "stdout",
     "output_type": "stream",
     "text": [
      "Skel done\n"
     ]
    },
    {
     "name": "stderr",
     "output_type": "stream",
     "text": [
      "100%|██████████| 28/28 [00:00<00:00, 67301.15it/s]\n"
     ]
    },
    {
     "name": "stdout",
     "output_type": "stream",
     "text": [
      "Processing mesh errors\n"
     ]
    },
    {
     "name": "stderr",
     "output_type": "stream",
     "text": [
      "100%|██████████| 2/2 [00:00<00:00, 3251.40it/s]\n"
     ]
    },
    {
     "name": "stdout",
     "output_type": "stream",
     "text": [
      "Processing facets\n"
     ]
    },
    {
     "name": "stderr",
     "output_type": "stream",
     "text": [
      "100%|██████████| 14/14 [00:00<00:00, 2969.87it/s]\n",
      "100%|██████████| 14/14 [00:00<00:00, 17745.62it/s]\n"
     ]
    },
    {
     "name": "stdout",
     "output_type": "stream",
     "text": [
      "Downloading Mesh\n",
      "Warning: deduplication not currently supported for this layer's variable layered draco meshes\n",
      "Vertices:  24046\n"
     ]
    },
    {
     "name": "stderr",
     "output_type": "stream",
     "text": [
      "Mesh is non-watertight for contained point query!\n"
     ]
    },
    {
     "name": "stdout",
     "output_type": "stream",
     "text": [
      "Subselecting largest connected component of mesh\n",
      "Processing CC's\n"
     ]
    },
    {
     "name": "stderr",
     "output_type": "stream",
     "text": [
      "100%|██████████| 24033/24033 [00:00<00:00, 484749.44it/s]\n"
     ]
    },
    {
     "name": "stdout",
     "output_type": "stream",
     "text": [
      "Skel done\n"
     ]
    },
    {
     "name": "stderr",
     "output_type": "stream",
     "text": [
      "100%|██████████| 172/172 [00:00<00:00, 72395.41it/s]"
     ]
    },
    {
     "name": "stdout",
     "output_type": "stream",
     "text": [
      "Processing mesh errors"
     ]
    },
    {
     "name": "stderr",
     "output_type": "stream",
     "text": [
      "\n"
     ]
    },
    {
     "name": "stdout",
     "output_type": "stream",
     "text": [
      "\n"
     ]
    },
    {
     "name": "stderr",
     "output_type": "stream",
     "text": [
      "100%|██████████| 7/7 [00:00<00:00, 9510.89it/s]\n"
     ]
    },
    {
     "name": "stdout",
     "output_type": "stream",
     "text": [
      "Processing facets\n"
     ]
    },
    {
     "name": "stderr",
     "output_type": "stream",
     "text": [
      "100%|██████████| 43/43 [00:00<00:00, 7722.66it/s]\n",
      "100%|██████████| 43/43 [00:00<00:00, 12489.10it/s]\n"
     ]
    },
    {
     "name": "stdout",
     "output_type": "stream",
     "text": [
      "Downloading Mesh\n",
      "Warning: deduplication not currently supported for this layer's variable layered draco meshes\n",
      "Vertices:  3065\n",
      "Subselecting largest connected component of mesh\n",
      "Processing CC's\n"
     ]
    },
    {
     "name": "stderr",
     "output_type": "stream",
     "text": [
      "100%|██████████| 3060/3060 [00:00<00:00, 419567.51it/s]\n"
     ]
    },
    {
     "name": "stdout",
     "output_type": "stream",
     "text": [
      "Skel done\n"
     ]
    },
    {
     "name": "stderr",
     "output_type": "stream",
     "text": [
      "100%|██████████| 9/9 [00:00<00:00, 24136.02it/s]\n",
      "Mesh is non-watertight for contained point query!\n"
     ]
    },
    {
     "name": "stdout",
     "output_type": "stream",
     "text": [
      "Processing facets\n"
     ]
    },
    {
     "name": "stderr",
     "output_type": "stream",
     "text": [
      "100%|██████████| 16/16 [00:00<00:00, 4567.40it/s]\n",
      "100%|██████████| 16/16 [00:00<00:00, 17300.56it/s]\n"
     ]
    },
    {
     "name": "stdout",
     "output_type": "stream",
     "text": [
      "Downloading Mesh\n",
      "Warning: deduplication not currently supported for this layer's variable layered draco meshes\n",
      "Vertices:  5754\n",
      "Subselecting largest connected component of mesh\n",
      "Processing CC's\n"
     ]
    },
    {
     "name": "stderr",
     "output_type": "stream",
     "text": [
      "100%|██████████| 5753/5753 [00:00<00:00, 292149.93it/s]\n"
     ]
    },
    {
     "name": "stdout",
     "output_type": "stream",
     "text": [
      "Skel done\n"
     ]
    },
    {
     "name": "stderr",
     "output_type": "stream",
     "text": [
      "100%|██████████| 19/19 [00:00<00:00, 37912.36it/s]\n"
     ]
    },
    {
     "name": "stdout",
     "output_type": "stream",
     "text": [
      "Processing facets\n"
     ]
    },
    {
     "name": "stderr",
     "output_type": "stream",
     "text": [
      "100%|██████████| 15/15 [00:00<00:00, 5714.31it/s]\n",
      "100%|██████████| 15/15 [00:00<00:00, 19430.07it/s]\n"
     ]
    },
    {
     "name": "stdout",
     "output_type": "stream",
     "text": [
      "Downloading Mesh\n",
      "Warning: deduplication not currently supported for this layer's variable layered draco meshes\n",
      "Vertices:  10302\n"
     ]
    },
    {
     "name": "stderr",
     "output_type": "stream",
     "text": [
      "Mesh is non-watertight for contained point query!\n"
     ]
    },
    {
     "name": "stdout",
     "output_type": "stream",
     "text": [
      "Subselecting largest connected component of mesh\n",
      "Processing CC's\n"
     ]
    },
    {
     "name": "stderr",
     "output_type": "stream",
     "text": [
      "100%|██████████| 10202/10202 [00:00<00:00, 427428.45it/s]\n"
     ]
    },
    {
     "name": "stdout",
     "output_type": "stream",
     "text": [
      "Skel done\n"
     ]
    },
    {
     "name": "stderr",
     "output_type": "stream",
     "text": [
      "100%|██████████| 75/75 [00:00<00:00, 76987.96it/s]\n"
     ]
    },
    {
     "name": "stdout",
     "output_type": "stream",
     "text": [
      "Processing mesh errors\n"
     ]
    },
    {
     "name": "stderr",
     "output_type": "stream",
     "text": [
      "100%|██████████| 11/11 [00:00<00:00, 9847.89it/s]\n"
     ]
    },
    {
     "name": "stdout",
     "output_type": "stream",
     "text": [
      "Processing facets\n"
     ]
    },
    {
     "name": "stderr",
     "output_type": "stream",
     "text": [
      "100%|██████████| 30/30 [00:00<00:00, 7364.89it/s]\n",
      "100%|██████████| 30/30 [00:00<00:00, 18763.66it/s]\n"
     ]
    },
    {
     "name": "stdout",
     "output_type": "stream",
     "text": [
      "Downloading Mesh\n",
      "Warning: deduplication not currently supported for this layer's variable layered draco meshes\n",
      "Vertices:  5808\n",
      "Subselecting largest connected component of mesh\n",
      "Processing CC's\n"
     ]
    },
    {
     "name": "stderr",
     "output_type": "stream",
     "text": [
      "100%|██████████| 5807/5807 [00:00<00:00, 347475.90it/s]\n"
     ]
    },
    {
     "name": "stdout",
     "output_type": "stream",
     "text": [
      "Skel done\n"
     ]
    },
    {
     "name": "stderr",
     "output_type": "stream",
     "text": [
      "100%|██████████| 38/38 [00:00<00:00, 113198.55it/s]\n"
     ]
    },
    {
     "name": "stdout",
     "output_type": "stream",
     "text": [
      "Processing mesh errors\n"
     ]
    },
    {
     "name": "stderr",
     "output_type": "stream",
     "text": [
      "100%|██████████| 7/7 [00:00<00:00, 9918.96it/s]\n"
     ]
    },
    {
     "name": "stdout",
     "output_type": "stream",
     "text": [
      "Processing facets\n"
     ]
    },
    {
     "name": "stderr",
     "output_type": "stream",
     "text": [
      "100%|██████████| 30/30 [00:00<00:00, 4861.27it/s]\n",
      "100%|██████████| 30/30 [00:00<00:00, 28597.53it/s]\n"
     ]
    },
    {
     "name": "stdout",
     "output_type": "stream",
     "text": [
      "Downloading Mesh\n",
      "Warning: deduplication not currently supported for this layer's variable layered draco meshes\n",
      "Vertices:  12089\n"
     ]
    },
    {
     "name": "stderr",
     "output_type": "stream",
     "text": [
      "Mesh is non-watertight for contained point query!\n",
      "Mesh is non-watertight for contained point query!\n",
      "Mesh is non-watertight for contained point query!\n",
      "Mesh is non-watertight for contained point query!\n"
     ]
    },
    {
     "name": "stdout",
     "output_type": "stream",
     "text": [
      "Subselecting largest connected component of mesh\n",
      "Processing CC's\n"
     ]
    },
    {
     "name": "stderr",
     "output_type": "stream",
     "text": [
      "100%|██████████| 11967/11967 [00:00<00:00, 687880.11it/s]\n"
     ]
    },
    {
     "name": "stdout",
     "output_type": "stream",
     "text": [
      "Skel done\n"
     ]
    },
    {
     "name": "stderr",
     "output_type": "stream",
     "text": [
      "100%|██████████| 54/54 [00:00<00:00, 134576.60it/s]\n"
     ]
    },
    {
     "name": "stdout",
     "output_type": "stream",
     "text": [
      "Processing mesh errors\n"
     ]
    },
    {
     "name": "stderr",
     "output_type": "stream",
     "text": [
      "100%|██████████| 4/4 [00:00<00:00, 14181.92it/s]\n"
     ]
    },
    {
     "name": "stdout",
     "output_type": "stream",
     "text": [
      "Processing facets\n"
     ]
    },
    {
     "name": "stderr",
     "output_type": "stream",
     "text": [
      "100%|██████████| 82/82 [00:00<00:00, 8608.65it/s]\n",
      "100%|██████████| 82/82 [00:00<00:00, 31745.70it/s]\n"
     ]
    },
    {
     "name": "stdout",
     "output_type": "stream",
     "text": [
      "Downloading Mesh\n",
      "Warning: deduplication not currently supported for this layer's variable layered draco meshes\n",
      "Vertices:  15375\n",
      "Subselecting largest connected component of mesh\n",
      "Processing CC's\n"
     ]
    },
    {
     "name": "stderr",
     "output_type": "stream",
     "text": [
      "100%|██████████| 15204/15204 [00:00<00:00, 438937.78it/s]\n"
     ]
    },
    {
     "name": "stdout",
     "output_type": "stream",
     "text": [
      "Skel done\n"
     ]
    },
    {
     "name": "stderr",
     "output_type": "stream",
     "text": [
      "100%|██████████| 68/68 [00:00<00:00, 69513.20it/s]\n"
     ]
    },
    {
     "name": "stdout",
     "output_type": "stream",
     "text": [
      "Processing mesh errors\n"
     ]
    },
    {
     "name": "stderr",
     "output_type": "stream",
     "text": [
      "100%|██████████| 2/2 [00:00<00:00, 4140.48it/s]"
     ]
    },
    {
     "name": "stdout",
     "output_type": "stream",
     "text": [
      "Processing facets\n"
     ]
    },
    {
     "name": "stderr",
     "output_type": "stream",
     "text": [
      "\n",
      "100%|██████████| 75/75 [00:00<00:00, 8518.08it/s]\n",
      "100%|██████████| 75/75 [00:00<00:00, 36839.54it/s]\n"
     ]
    },
    {
     "name": "stdout",
     "output_type": "stream",
     "text": [
      "Downloading Mesh\n",
      "Warning: deduplication not currently supported for this layer's variable layered draco meshes\n",
      "Vertices:  27011\n",
      "Subselecting largest connected component of mesh\n",
      "Processing CC's\n"
     ]
    },
    {
     "name": "stderr",
     "output_type": "stream",
     "text": [
      "100%|██████████| 27009/27009 [00:00<00:00, 366372.87it/s]\n"
     ]
    },
    {
     "name": "stdout",
     "output_type": "stream",
     "text": [
      "Skel done\n"
     ]
    },
    {
     "name": "stderr",
     "output_type": "stream",
     "text": [
      "100%|██████████| 154/154 [00:00<00:00, 102870.33it/s]\n"
     ]
    },
    {
     "name": "stdout",
     "output_type": "stream",
     "text": [
      "Processing mesh errors\n"
     ]
    },
    {
     "name": "stderr",
     "output_type": "stream",
     "text": [
      "100%|██████████| 11/11 [00:00<00:00, 15513.57it/s]\n"
     ]
    },
    {
     "name": "stdout",
     "output_type": "stream",
     "text": [
      "Processing facets\n"
     ]
    },
    {
     "name": "stderr",
     "output_type": "stream",
     "text": [
      "100%|██████████| 70/70 [00:00<00:00, 8620.63it/s]\n",
      "100%|██████████| 70/70 [00:00<00:00, 30277.54it/s]\n"
     ]
    },
    {
     "name": "stdout",
     "output_type": "stream",
     "text": [
      "Downloading Mesh\n",
      "Warning: deduplication not currently supported for this layer's variable layered draco meshes\n",
      "Vertices:  2722\n",
      "Subselecting largest connected component of mesh\n",
      "Processing CC's\n"
     ]
    },
    {
     "name": "stderr",
     "output_type": "stream",
     "text": [
      "100%|██████████| 2721/2721 [00:00<00:00, 362365.49it/s]\n"
     ]
    },
    {
     "name": "stdout",
     "output_type": "stream",
     "text": [
      "Skel done\n"
     ]
    },
    {
     "name": "stderr",
     "output_type": "stream",
     "text": [
      "100%|██████████| 21/21 [00:00<00:00, 24818.37it/s]\n"
     ]
    },
    {
     "name": "stdout",
     "output_type": "stream",
     "text": [
      "Processing mesh errors\n"
     ]
    },
    {
     "name": "stderr",
     "output_type": "stream",
     "text": [
      "100%|██████████| 3/3 [00:00<00:00, 4950.00it/s]\n"
     ]
    },
    {
     "name": "stdout",
     "output_type": "stream",
     "text": [
      "Processing facets\n"
     ]
    },
    {
     "name": "stderr",
     "output_type": "stream",
     "text": [
      "100%|██████████| 10/10 [00:00<00:00, 3340.74it/s]\n",
      "100%|██████████| 10/10 [00:00<00:00, 6774.84it/s]\n"
     ]
    },
    {
     "name": "stdout",
     "output_type": "stream",
     "text": [
      "Downloading Mesh\n",
      "Warning: deduplication not currently supported for this layer's variable layered draco meshes\n",
      "Vertices:  3523\n",
      "Subselecting largest connected component of mesh\n",
      "Processing CC's\n"
     ]
    },
    {
     "name": "stderr",
     "output_type": "stream",
     "text": [
      "100%|██████████| 3522/3522 [00:00<00:00, 381576.14it/s]\n"
     ]
    },
    {
     "name": "stdout",
     "output_type": "stream",
     "text": [
      "Skel done\n"
     ]
    },
    {
     "name": "stderr",
     "output_type": "stream",
     "text": [
      "100%|██████████| 29/29 [00:00<00:00, 22850.80it/s]\n"
     ]
    },
    {
     "name": "stdout",
     "output_type": "stream",
     "text": [
      "Processing mesh errors\n"
     ]
    },
    {
     "name": "stderr",
     "output_type": "stream",
     "text": [
      "100%|██████████| 5/5 [00:00<00:00, 8090.86it/s]\n"
     ]
    },
    {
     "name": "stdout",
     "output_type": "stream",
     "text": [
      "Processing facets\n"
     ]
    },
    {
     "name": "stderr",
     "output_type": "stream",
     "text": [
      "100%|██████████| 8/8 [00:00<00:00, 2212.33it/s]\n",
      "100%|██████████| 8/8 [00:00<00:00, 13179.27it/s]\n"
     ]
    },
    {
     "name": "stdout",
     "output_type": "stream",
     "text": [
      "Downloading Mesh\n",
      "Warning: deduplication not currently supported for this layer's variable layered draco meshes\n",
      "Vertices:  22862\n"
     ]
    },
    {
     "name": "stderr",
     "output_type": "stream",
     "text": [
      "Mesh is non-watertight for contained point query!\n"
     ]
    },
    {
     "name": "stdout",
     "output_type": "stream",
     "text": [
      "Subselecting largest connected component of mesh\n",
      "Processing CC's\n"
     ]
    },
    {
     "name": "stderr",
     "output_type": "stream",
     "text": [
      "Mesh is non-watertight for contained point query!\n",
      "Mesh is non-watertight for contained point query!\n",
      "100%|██████████| 22838/22838 [00:00<00:00, 274696.78it/s]\n"
     ]
    },
    {
     "name": "stdout",
     "output_type": "stream",
     "text": [
      "Skel done\n"
     ]
    },
    {
     "name": "stderr",
     "output_type": "stream",
     "text": [
      "100%|██████████| 170/170 [00:00<00:00, 95020.21it/s]\n"
     ]
    },
    {
     "name": "stdout",
     "output_type": "stream",
     "text": [
      "Processing mesh errors\n"
     ]
    },
    {
     "name": "stderr",
     "output_type": "stream",
     "text": [
      "100%|██████████| 14/14 [00:00<00:00, 7407.63it/s]\n"
     ]
    },
    {
     "name": "stdout",
     "output_type": "stream",
     "text": [
      "Processing facets\n"
     ]
    },
    {
     "name": "stderr",
     "output_type": "stream",
     "text": [
      "100%|██████████| 81/81 [00:00<00:00, 6417.79it/s]\n",
      "100%|██████████| 81/81 [00:00<00:00, 21531.06it/s]\n"
     ]
    },
    {
     "data": {
      "text/html": [
       "<div>\n",
       "<style scoped>\n",
       "    .dataframe tbody tr th:only-of-type {\n",
       "        vertical-align: middle;\n",
       "    }\n",
       "\n",
       "    .dataframe tbody tr th {\n",
       "        vertical-align: top;\n",
       "    }\n",
       "\n",
       "    .dataframe thead th {\n",
       "        text-align: right;\n",
       "    }\n",
       "</style>\n",
       "<table border=\"1\" class=\"dataframe\">\n",
       "  <thead>\n",
       "    <tr style=\"text-align: right;\">\n",
       "      <th></th>\n",
       "      <th>neuron</th>\n",
       "      <th>ng_link</th>\n",
       "      <th>seg_id</th>\n",
       "      <th>pink_pts</th>\n",
       "      <th>num_endpoints</th>\n",
       "      <th>endpoints</th>\n",
       "      <th>comments</th>\n",
       "      <th>detailed_comments</th>\n",
       "      <th>real_endpoints</th>\n",
       "      <th>endpoints_generated</th>\n",
       "      <th>num_errors</th>\n",
       "      <th>num_facets</th>\n",
       "      <th>facets</th>\n",
       "      <th>errors</th>\n",
       "    </tr>\n",
       "  </thead>\n",
       "  <tbody>\n",
       "    <tr>\n",
       "      <th>0</th>\n",
       "      <td>864691136577830164</td>\n",
       "      <td>https://neuroglancer.neuvue.io/?json_url=https...</td>\n",
       "      <td>864691135909994000</td>\n",
       "      <td>(402188, 228684, 24029)</td>\n",
       "      <td>2</td>\n",
       "      <td>[(402547, 228831, 23991), (402958, 229220, 235...</td>\n",
       "      <td>good</td>\n",
       "      <td>NaN</td>\n",
       "      <td>[[402547, 228831, 23991], [402958, 229220, 235...</td>\n",
       "      <td>[[402970.1091549296, 229214.63028169013, 23552...</td>\n",
       "      <td>0</td>\n",
       "      <td>2</td>\n",
       "      <td>[[402970.1091549296, 229214.63028169013, 23552...</td>\n",
       "      <td>[[0.0, 0.0, 0.0]]</td>\n",
       "    </tr>\n",
       "    <tr>\n",
       "      <th>1</th>\n",
       "      <td>864691136577830164</td>\n",
       "      <td>https://neuroglancer.neuvue.io/?json_url=https...</td>\n",
       "      <td>864691135247440303</td>\n",
       "      <td>(401258, 224832, 24029)</td>\n",
       "      <td>3</td>\n",
       "      <td>[(401602, 224623, 23991), (405273, 226312, 236...</td>\n",
       "      <td>good</td>\n",
       "      <td>NaN</td>\n",
       "      <td>[[401602, 224623, 23991], [405273, 226312, 236...</td>\n",
       "      <td>[[405014.6845794392, 226607.61448598132, 23618...</td>\n",
       "      <td>1</td>\n",
       "      <td>3</td>\n",
       "      <td>[[405014.6845794392, 226607.61448598132, 23618...</td>\n",
       "      <td>[[405058.04347826086, 226369.72826086957, 2362...</td>\n",
       "    </tr>\n",
       "    <tr>\n",
       "      <th>2</th>\n",
       "      <td>864691135683615218</td>\n",
       "      <td>https://neuroglancer.neuvue.io/?json_url=https...</td>\n",
       "      <td>864691135516937065</td>\n",
       "      <td>(77233, 113188, 20454)</td>\n",
       "      <td>3</td>\n",
       "      <td>[(77262, 113088, 20442), (79178, 109113, 20400...</td>\n",
       "      <td>good</td>\n",
       "      <td>ONE FALSE MERGE</td>\n",
       "      <td>[[77262, 113088, 20442], [79178, 109113, 20400...</td>\n",
       "      <td>[[77266.35, 113085.0, 20442.45], [79721.25, 10...</td>\n",
       "      <td>1</td>\n",
       "      <td>2</td>\n",
       "      <td>[[77266.35, 113085.0, 20442.45], [79721.25, 10...</td>\n",
       "      <td>[[79184.66379310345, 109173.56896551725, 20430...</td>\n",
       "    </tr>\n",
       "    <tr>\n",
       "      <th>3</th>\n",
       "      <td>864691135683615218</td>\n",
       "      <td>https://neuroglancer.neuvue.io/?json_url=https...</td>\n",
       "      <td>864691134406233920</td>\n",
       "      <td>(100382, 143836, 21642)</td>\n",
       "      <td>3</td>\n",
       "      <td>[(100423, 143992, 21653), (100583, 144194, 217...</td>\n",
       "      <td>good</td>\n",
       "      <td>NaN</td>\n",
       "      <td>[[100423, 143992, 21653], [100583, 144194, 217...</td>\n",
       "      <td>[[100737.80769230769, 144755.42307692306, 2165...</td>\n",
       "      <td>1</td>\n",
       "      <td>2</td>\n",
       "      <td>[[100737.80769230769, 144755.42307692306, 2165...</td>\n",
       "      <td>[[100579.64583333333, 144180.02083333334, 2169...</td>\n",
       "    </tr>\n",
       "    <tr>\n",
       "      <th>4</th>\n",
       "      <td>864691135683615219</td>\n",
       "      <td>https://neuroglancer.neuvue.io/?json_url=https...</td>\n",
       "      <td>864691135920135864</td>\n",
       "      <td>(77581, 107903, 21128)</td>\n",
       "      <td>2</td>\n",
       "      <td>[(77575, 107807, 21133), (77000, 99565, 21215)]</td>\n",
       "      <td>good</td>\n",
       "      <td>NaN</td>\n",
       "      <td>[[77575, 107807, 21133], [77000, 99565, 21215]]</td>\n",
       "      <td>[[76790.0, 99695.75, 21201.6], [77248.5, 10781...</td>\n",
       "      <td>2</td>\n",
       "      <td>2</td>\n",
       "      <td>[[76790.0, 99695.75, 21201.6], [77248.5, 10781...</td>\n",
       "      <td>[[77413.525, 107032.45, 21180.845], [77007.846...</td>\n",
       "    </tr>\n",
       "    <tr>\n",
       "      <th>5</th>\n",
       "      <td>864691135683615220</td>\n",
       "      <td>https://neuroglancer.neuvue.io/?json_url=https...</td>\n",
       "      <td>864691135730780609</td>\n",
       "      <td>(79752, 135765, 21128)</td>\n",
       "      <td>3</td>\n",
       "      <td>[(79785, 135709, 21133), (84176, 127514, 21582...</td>\n",
       "      <td>good</td>\n",
       "      <td>NaN</td>\n",
       "      <td>[[79785, 135709, 21133], [84176, 127514, 21582...</td>\n",
       "      <td>[[79777.25, 135702.875, 21143.325], [84055.332...</td>\n",
       "      <td>3</td>\n",
       "      <td>4</td>\n",
       "      <td>[[79777.25, 135702.875, 21143.325], [84055.332...</td>\n",
       "      <td>[[80491.56164383562, 134662.8595890411, 21445....</td>\n",
       "    </tr>\n",
       "    <tr>\n",
       "      <th>6</th>\n",
       "      <td>864691135683615221</td>\n",
       "      <td>https://neuroglancer.neuvue.io/?json_url=https...</td>\n",
       "      <td>864691135651129491</td>\n",
       "      <td>(81247, 106776, 21128)</td>\n",
       "      <td>2</td>\n",
       "      <td>[(81198, 106660, 21133), (88834, 99501, 20479)]</td>\n",
       "      <td>good</td>\n",
       "      <td>NaN</td>\n",
       "      <td>[[81198, 106660, 21133], [88834, 99501, 20479]]</td>\n",
       "      <td>[[88848.9, 99520.05, 20479.725], [83733.75, 10...</td>\n",
       "      <td>2</td>\n",
       "      <td>1</td>\n",
       "      <td>[[88848.9, 99520.05, 20479.725]]</td>\n",
       "      <td>[[83733.75, 104856.375, 21224.4], [88732.97222...</td>\n",
       "    </tr>\n",
       "    <tr>\n",
       "      <th>7</th>\n",
       "      <td>864691135683615222</td>\n",
       "      <td>https://neuroglancer.neuvue.io/?json_url=https...</td>\n",
       "      <td>864691134918217423</td>\n",
       "      <td>(75434, 116406, 21128)</td>\n",
       "      <td>2</td>\n",
       "      <td>[(75409, 116393, 21135), (74841, 116076, 21217)]</td>\n",
       "      <td>good</td>\n",
       "      <td>NaN</td>\n",
       "      <td>[[75409, 116393, 21135], [74841, 116076, 21217]]</td>\n",
       "      <td>[[75019.0, 116198.25, 21198.45], [75295.5, 116...</td>\n",
       "      <td>1</td>\n",
       "      <td>1</td>\n",
       "      <td>[[75019.0, 116198.25, 21198.45]]</td>\n",
       "      <td>[[75295.5, 116210.34782608696, 21139.832608695...</td>\n",
       "    </tr>\n",
       "    <tr>\n",
       "      <th>8</th>\n",
       "      <td>864691135837578899</td>\n",
       "      <td>https://neuroglancer.neuvue.io/?json_url=https...</td>\n",
       "      <td>864691134472630080</td>\n",
       "      <td>(351264, 143646, 15182)</td>\n",
       "      <td>2</td>\n",
       "      <td>[(351150, 143681, 15176), (348147, 144970, 148...</td>\n",
       "      <td>good</td>\n",
       "      <td>NaN</td>\n",
       "      <td>[[351150, 143681, 15176], [348147, 144970, 148...</td>\n",
       "      <td>[[0.0, 0.0, 0.0]]</td>\n",
       "      <td>0</td>\n",
       "      <td>0</td>\n",
       "      <td>[]</td>\n",
       "      <td>[[0.0, 0.0, 0.0]]</td>\n",
       "    </tr>\n",
       "    <tr>\n",
       "      <th>9</th>\n",
       "      <td>864691135837578899</td>\n",
       "      <td>https://neuroglancer.neuvue.io/?json_url=https...</td>\n",
       "      <td>864691134865499607</td>\n",
       "      <td>(366661, 138894, 16413)</td>\n",
       "      <td>2</td>\n",
       "      <td>[(366719, 138890, 16417), (367885, 138975, 165...</td>\n",
       "      <td>good</td>\n",
       "      <td>NaN</td>\n",
       "      <td>[[366719, 138890, 16417], [367885, 138975, 165...</td>\n",
       "      <td>[[366705.43636363634, 138920.44090909092, 1641...</td>\n",
       "      <td>1</td>\n",
       "      <td>2</td>\n",
       "      <td>[[366705.43636363634, 138920.44090909092, 1641...</td>\n",
       "      <td>[[367424.4456521739, 138785.34782608695, 16469...</td>\n",
       "    </tr>\n",
       "    <tr>\n",
       "      <th>10</th>\n",
       "      <td>864691135837578899</td>\n",
       "      <td>https://neuroglancer.neuvue.io/?json_url=https...</td>\n",
       "      <td>864691134742288112</td>\n",
       "      <td>(353391, 147582, 15182)</td>\n",
       "      <td>2</td>\n",
       "      <td>[(353411, 147608, 15177), (352173, 148914, 148...</td>\n",
       "      <td>good</td>\n",
       "      <td>NaN</td>\n",
       "      <td>[[353411, 147608, 15177], [352173, 148914, 148...</td>\n",
       "      <td>[[353943.1875, 147387.1875, 15165.80625]]</td>\n",
       "      <td>0</td>\n",
       "      <td>1</td>\n",
       "      <td>[[353943.1875, 147387.1875, 15165.80625]]</td>\n",
       "      <td>[[0.0, 0.0, 0.0]]</td>\n",
       "    </tr>\n",
       "    <tr>\n",
       "      <th>11</th>\n",
       "      <td>864691135396741921</td>\n",
       "      <td>https://neuroglancer.neuvue.io/?json_url=https...</td>\n",
       "      <td>864691135621495904</td>\n",
       "      <td>(346513, 82659, 27098)</td>\n",
       "      <td>4</td>\n",
       "      <td>[(346497, 82778, 27090), (339051, 74578, 26769...</td>\n",
       "      <td>good</td>\n",
       "      <td>False merge at (341044, 76298, 26876)</td>\n",
       "      <td>[[346497, 82778, 27090], [339051, 74578, 26769...</td>\n",
       "      <td>[[346655.4, 82856.2, 27089.475], [339921.75, 9...</td>\n",
       "      <td>3</td>\n",
       "      <td>3</td>\n",
       "      <td>[[346655.4, 82856.2, 27089.475], [339921.75, 9...</td>\n",
       "      <td>[[339511.7894736842, 74640.26315789473, 26818....</td>\n",
       "    </tr>\n",
       "    <tr>\n",
       "      <th>12</th>\n",
       "      <td>864691135396741921</td>\n",
       "      <td>https://neuroglancer.neuvue.io/?json_url=https...</td>\n",
       "      <td>864691136357471324</td>\n",
       "      <td>(351862, 90983, 27294)</td>\n",
       "      <td>2</td>\n",
       "      <td>[(351839, 91058, 27284), (349567, 97065, 26976)]</td>\n",
       "      <td>good</td>\n",
       "      <td>NaN</td>\n",
       "      <td>[[351839, 91058, 27284], [349567, 97065, 26976]]</td>\n",
       "      <td>[[349500.9, 97212.15, 26978.7], [351684.220588...</td>\n",
       "      <td>1</td>\n",
       "      <td>2</td>\n",
       "      <td>[[349500.9, 97212.15, 26978.7], [351684.220588...</td>\n",
       "      <td>[[351825.5073529412, 91045.6544117647, 27287.5...</td>\n",
       "    </tr>\n",
       "    <tr>\n",
       "      <th>13</th>\n",
       "      <td>864691135396741921</td>\n",
       "      <td>https://neuroglancer.neuvue.io/?json_url=https...</td>\n",
       "      <td>864691136343165555</td>\n",
       "      <td>(357302, 81696, 25846)</td>\n",
       "      <td>3</td>\n",
       "      <td>[(357525, 81584, 25828), (358640, 81180, 25734...</td>\n",
       "      <td>good</td>\n",
       "      <td>False merge at (358199, 81368, 25779)</td>\n",
       "      <td>[[357525, 81584, 25828], [358640, 81180, 25734...</td>\n",
       "      <td>[[357513.7125, 81607.44375, 25828.425], [35841...</td>\n",
       "      <td>2</td>\n",
       "      <td>2</td>\n",
       "      <td>[[357513.7125, 81607.44375, 25828.425], [35841...</td>\n",
       "      <td>[[358038.70108695654, 81438.45652173914, 25758...</td>\n",
       "    </tr>\n",
       "    <tr>\n",
       "      <th>14</th>\n",
       "      <td>864691135396741921</td>\n",
       "      <td>https://neuroglancer.neuvue.io/?json_url=https...</td>\n",
       "      <td>864691135652094947</td>\n",
       "      <td>(347111, 87496, 25853)</td>\n",
       "      <td>2</td>\n",
       "      <td>[(347271, 87374, 25828), (347862, 89018, 24930)]</td>\n",
       "      <td>good</td>\n",
       "      <td>NaN</td>\n",
       "      <td>[[347271, 87374, 25828], [347862, 89018, 24930]]</td>\n",
       "      <td>[[347826.9375, 89007.1875, 24929.625], [347387...</td>\n",
       "      <td>3</td>\n",
       "      <td>1</td>\n",
       "      <td>[[347826.9375, 89007.1875, 24929.625]]</td>\n",
       "      <td>[[347387.075, 85891.75, 25331.0925], [347278.9...</td>\n",
       "    </tr>\n",
       "    <tr>\n",
       "      <th>15</th>\n",
       "      <td>864691135360418631</td>\n",
       "      <td>https://neuroglancer.neuvue.io/?json_url=https...</td>\n",
       "      <td>864691135702260616</td>\n",
       "      <td>(111625, 241512, 22793)</td>\n",
       "      <td>2</td>\n",
       "      <td>[(111700, 241689, 22797), (110188, 241117, 228...</td>\n",
       "      <td>good</td>\n",
       "      <td>NaN</td>\n",
       "      <td>[[111700, 241689, 22797], [110188, 241117, 228...</td>\n",
       "      <td>[[111880.125, 241587.5, 22796.55], [110217.45,...</td>\n",
       "      <td>0</td>\n",
       "      <td>2</td>\n",
       "      <td>[[111880.125, 241587.5, 22796.55], [110217.45,...</td>\n",
       "      <td>[[0.0, 0.0, 0.0]]</td>\n",
       "    </tr>\n",
       "    <tr>\n",
       "      <th>16</th>\n",
       "      <td>864691135360418631</td>\n",
       "      <td>https://neuroglancer.neuvue.io/?json_url=https...</td>\n",
       "      <td>864691136235124174</td>\n",
       "      <td>(116185, 247442, 23265)</td>\n",
       "      <td>2</td>\n",
       "      <td>[(116186, 247468, 23275), (114619, 246629, 235...</td>\n",
       "      <td>good</td>\n",
       "      <td>NaN</td>\n",
       "      <td>[[116186, 247468, 23275], [114619, 246629, 235...</td>\n",
       "      <td>[[114668.19, 246690.36, 23504.25], [116197.995...</td>\n",
       "      <td>0</td>\n",
       "      <td>2</td>\n",
       "      <td>[[114668.19, 246690.36, 23504.25], [116197.995...</td>\n",
       "      <td>[[0.0, 0.0, 0.0]]</td>\n",
       "    </tr>\n",
       "    <tr>\n",
       "      <th>17</th>\n",
       "      <td>864691135463797061</td>\n",
       "      <td>https://neuroglancer.neuvue.io/?json_url=https...</td>\n",
       "      <td>864691136584897745</td>\n",
       "      <td>(103052, 175611, 18430)</td>\n",
       "      <td>3</td>\n",
       "      <td>[(103037, 175591, 18434), (99978, 172371, 1883...</td>\n",
       "      <td>good</td>\n",
       "      <td>ONE FALSE MERGE</td>\n",
       "      <td>[[103037, 175591, 18434], [99978, 172371, 1883...</td>\n",
       "      <td>[[100042.6875, 172659.375, 18813.375], [102634...</td>\n",
       "      <td>2</td>\n",
       "      <td>2</td>\n",
       "      <td>[[100042.6875, 172659.375, 18813.375], [102634...</td>\n",
       "      <td>[[102666.375, 175698.50735294117, 18476.541176...</td>\n",
       "    </tr>\n",
       "    <tr>\n",
       "      <th>18</th>\n",
       "      <td>864691135445907602</td>\n",
       "      <td>https://neuroglancer.neuvue.io/?json_url=https...</td>\n",
       "      <td>864691135224157062</td>\n",
       "      <td>(313432, 160982, 18587)</td>\n",
       "      <td>2</td>\n",
       "      <td>[(313505, 161103, 18580), (314477, 162881, 187...</td>\n",
       "      <td>good</td>\n",
       "      <td>NaN</td>\n",
       "      <td>[[313505, 161103, 18580], [314477, 162881, 187...</td>\n",
       "      <td>[[313040.875, 162407.875, 18613.35], [313463.5...</td>\n",
       "      <td>3</td>\n",
       "      <td>2</td>\n",
       "      <td>[[313040.875, 162407.875, 18613.35], [313463.5...</td>\n",
       "      <td>[[314456.73, 162882.93, 18714.402], [313621.43...</td>\n",
       "    </tr>\n",
       "    <tr>\n",
       "      <th>19</th>\n",
       "      <td>864691135445907602</td>\n",
       "      <td>https://neuroglancer.neuvue.io/?json_url=https...</td>\n",
       "      <td>864691136694775836</td>\n",
       "      <td>(307884, 98766, 19067)</td>\n",
       "      <td>2</td>\n",
       "      <td>[(307899, 98712, 19067), (309700, 87653, 19669)]</td>\n",
       "      <td>good</td>\n",
       "      <td>NaN</td>\n",
       "      <td>[[307899, 98712, 19067], [309700, 87653, 19669]]</td>\n",
       "      <td>[[307990.8125, 98498.53125, 19062.75], [308254...</td>\n",
       "      <td>1</td>\n",
       "      <td>1</td>\n",
       "      <td>[[307990.8125, 98498.53125, 19062.75]]</td>\n",
       "      <td>[[308254.5, 98559.25, 19095.9]]</td>\n",
       "    </tr>\n",
       "    <tr>\n",
       "      <th>20</th>\n",
       "      <td>864691135445907602</td>\n",
       "      <td>https://neuroglancer.neuvue.io/?json_url=https...</td>\n",
       "      <td>864691135632675511</td>\n",
       "      <td>(286774, 94565, 18046)</td>\n",
       "      <td>3</td>\n",
       "      <td>[(286807, 94503, 18046), (291939, 86875, 18287...</td>\n",
       "      <td>good</td>\n",
       "      <td>NaN</td>\n",
       "      <td>[[286807, 94503, 18046], [291939, 86875, 18287...</td>\n",
       "      <td>[[291886.59375, 86933.90625, 18285.75], [28660...</td>\n",
       "      <td>1</td>\n",
       "      <td>3</td>\n",
       "      <td>[[291886.59375, 86933.90625, 18285.75], [28660...</td>\n",
       "      <td>[[286760.5, 94540.83333333333, 18046.208333333...</td>\n",
       "    </tr>\n",
       "    <tr>\n",
       "      <th>21</th>\n",
       "      <td>864691135463797061</td>\n",
       "      <td>https://neuroglancer.neuvue.io/?json_url=https...</td>\n",
       "      <td>864691135258412858</td>\n",
       "      <td>(104081, 174998, 18429)</td>\n",
       "      <td>2</td>\n",
       "      <td>[(104063, 174940, 18432), (104232, 162719, 200...</td>\n",
       "      <td>good</td>\n",
       "      <td>NaN</td>\n",
       "      <td>[[104063, 174940, 18432], [104232, 162719, 200...</td>\n",
       "      <td>[[102529.875, 164901.625, 19776.75], [104258.4...</td>\n",
       "      <td>3</td>\n",
       "      <td>4</td>\n",
       "      <td>[[102529.875, 164901.625, 19776.75], [104258.4...</td>\n",
       "      <td>[[103967.35169491525, 174892.80508474575, 1849...</td>\n",
       "    </tr>\n",
       "    <tr>\n",
       "      <th>22</th>\n",
       "      <td>864691135445907602</td>\n",
       "      <td>https://neuroglancer.neuvue.io/?json_url=https...</td>\n",
       "      <td>864691135008495997</td>\n",
       "      <td>(280662, 88268, 18962)</td>\n",
       "      <td>3</td>\n",
       "      <td>[(280639, 88256, 18965), (280377, 87163, 19077...</td>\n",
       "      <td>good</td>\n",
       "      <td>False merge at (280657, 87964, 19009)</td>\n",
       "      <td>[[280639, 88256, 18965], [280377, 87163, 19077...</td>\n",
       "      <td>[[280398.375, 87235.875, 19060.65], [280736.20...</td>\n",
       "      <td>2</td>\n",
       "      <td>1</td>\n",
       "      <td>[[280398.375, 87235.875, 19060.65]]</td>\n",
       "      <td>[[280736.203125, 87898.78125, 19009.3640625], ...</td>\n",
       "    </tr>\n",
       "    <tr>\n",
       "      <th>23</th>\n",
       "      <td>864691135463797061</td>\n",
       "      <td>https://neuroglancer.neuvue.io/?json_url=https...</td>\n",
       "      <td>864691134996628976</td>\n",
       "      <td>(84819, 179327, 16391)</td>\n",
       "      <td>2</td>\n",
       "      <td>[(84884, 179330, 16386), (84527, 179768, 16234)]</td>\n",
       "      <td>good</td>\n",
       "      <td>NaN</td>\n",
       "      <td>[[84884, 179330, 16386], [84527, 179768, 16234]]</td>\n",
       "      <td>[[84008.16666666667, 179640.61111111112, 16386...</td>\n",
       "      <td>2</td>\n",
       "      <td>2</td>\n",
       "      <td>[[84008.16666666667, 179640.61111111112, 16386...</td>\n",
       "      <td>[[84638.75, 179745.3, 16254.268333333332], [84...</td>\n",
       "    </tr>\n",
       "    <tr>\n",
       "      <th>24</th>\n",
       "      <td>864691135445907602</td>\n",
       "      <td>https://neuroglancer.neuvue.io/?json_url=https...</td>\n",
       "      <td>864691135867535786</td>\n",
       "      <td>(299328, 144118, 17855)</td>\n",
       "      <td>3</td>\n",
       "      <td>[(299386, 144111, 17853), (308152, 142095, 172...</td>\n",
       "      <td>good</td>\n",
       "      <td>False merge at (305704, 144056, 17549)</td>\n",
       "      <td>[[299386, 144111, 17853], [308152, 142095, 172...</td>\n",
       "      <td>[[305188.625, 144040.3125, 17533.425], [306911...</td>\n",
       "      <td>4</td>\n",
       "      <td>3</td>\n",
       "      <td>[[305188.625, 144040.3125, 17533.425], [306911...</td>\n",
       "      <td>[[306025.2890625, 144800.7421875, 17602.413281...</td>\n",
       "    </tr>\n",
       "  </tbody>\n",
       "</table>\n",
       "</div>"
      ],
      "text/plain": [
       "                neuron                                            ng_link  \\\n",
       "0   864691136577830164  https://neuroglancer.neuvue.io/?json_url=https...   \n",
       "1   864691136577830164  https://neuroglancer.neuvue.io/?json_url=https...   \n",
       "2   864691135683615218  https://neuroglancer.neuvue.io/?json_url=https...   \n",
       "3   864691135683615218  https://neuroglancer.neuvue.io/?json_url=https...   \n",
       "4   864691135683615219  https://neuroglancer.neuvue.io/?json_url=https...   \n",
       "5   864691135683615220  https://neuroglancer.neuvue.io/?json_url=https...   \n",
       "6   864691135683615221  https://neuroglancer.neuvue.io/?json_url=https...   \n",
       "7   864691135683615222  https://neuroglancer.neuvue.io/?json_url=https...   \n",
       "8   864691135837578899  https://neuroglancer.neuvue.io/?json_url=https...   \n",
       "9   864691135837578899  https://neuroglancer.neuvue.io/?json_url=https...   \n",
       "10  864691135837578899  https://neuroglancer.neuvue.io/?json_url=https...   \n",
       "11  864691135396741921  https://neuroglancer.neuvue.io/?json_url=https...   \n",
       "12  864691135396741921  https://neuroglancer.neuvue.io/?json_url=https...   \n",
       "13  864691135396741921  https://neuroglancer.neuvue.io/?json_url=https...   \n",
       "14  864691135396741921  https://neuroglancer.neuvue.io/?json_url=https...   \n",
       "15  864691135360418631  https://neuroglancer.neuvue.io/?json_url=https...   \n",
       "16  864691135360418631  https://neuroglancer.neuvue.io/?json_url=https...   \n",
       "17  864691135463797061  https://neuroglancer.neuvue.io/?json_url=https...   \n",
       "18  864691135445907602  https://neuroglancer.neuvue.io/?json_url=https...   \n",
       "19  864691135445907602  https://neuroglancer.neuvue.io/?json_url=https...   \n",
       "20  864691135445907602  https://neuroglancer.neuvue.io/?json_url=https...   \n",
       "21  864691135463797061  https://neuroglancer.neuvue.io/?json_url=https...   \n",
       "22  864691135445907602  https://neuroglancer.neuvue.io/?json_url=https...   \n",
       "23  864691135463797061  https://neuroglancer.neuvue.io/?json_url=https...   \n",
       "24  864691135445907602  https://neuroglancer.neuvue.io/?json_url=https...   \n",
       "\n",
       "                seg_id                 pink_pts  num_endpoints  \\\n",
       "0   864691135909994000  (402188, 228684, 24029)              2   \n",
       "1   864691135247440303  (401258, 224832, 24029)              3   \n",
       "2   864691135516937065   (77233, 113188, 20454)              3   \n",
       "3   864691134406233920  (100382, 143836, 21642)              3   \n",
       "4   864691135920135864   (77581, 107903, 21128)              2   \n",
       "5   864691135730780609   (79752, 135765, 21128)              3   \n",
       "6   864691135651129491   (81247, 106776, 21128)              2   \n",
       "7   864691134918217423   (75434, 116406, 21128)              2   \n",
       "8   864691134472630080  (351264, 143646, 15182)              2   \n",
       "9   864691134865499607  (366661, 138894, 16413)              2   \n",
       "10  864691134742288112  (353391, 147582, 15182)              2   \n",
       "11  864691135621495904   (346513, 82659, 27098)              4   \n",
       "12  864691136357471324   (351862, 90983, 27294)              2   \n",
       "13  864691136343165555   (357302, 81696, 25846)              3   \n",
       "14  864691135652094947   (347111, 87496, 25853)              2   \n",
       "15  864691135702260616  (111625, 241512, 22793)              2   \n",
       "16  864691136235124174  (116185, 247442, 23265)              2   \n",
       "17  864691136584897745  (103052, 175611, 18430)              3   \n",
       "18  864691135224157062  (313432, 160982, 18587)              2   \n",
       "19  864691136694775836   (307884, 98766, 19067)              2   \n",
       "20  864691135632675511   (286774, 94565, 18046)              3   \n",
       "21  864691135258412858  (104081, 174998, 18429)              2   \n",
       "22  864691135008495997   (280662, 88268, 18962)              3   \n",
       "23  864691134996628976   (84819, 179327, 16391)              2   \n",
       "24  864691135867535786  (299328, 144118, 17855)              3   \n",
       "\n",
       "                                            endpoints comments  \\\n",
       "0   [(402547, 228831, 23991), (402958, 229220, 235...     good   \n",
       "1   [(401602, 224623, 23991), (405273, 226312, 236...     good   \n",
       "2   [(77262, 113088, 20442), (79178, 109113, 20400...     good   \n",
       "3   [(100423, 143992, 21653), (100583, 144194, 217...     good   \n",
       "4     [(77575, 107807, 21133), (77000, 99565, 21215)]     good   \n",
       "5   [(79785, 135709, 21133), (84176, 127514, 21582...     good   \n",
       "6     [(81198, 106660, 21133), (88834, 99501, 20479)]     good   \n",
       "7    [(75409, 116393, 21135), (74841, 116076, 21217)]     good   \n",
       "8   [(351150, 143681, 15176), (348147, 144970, 148...     good   \n",
       "9   [(366719, 138890, 16417), (367885, 138975, 165...     good   \n",
       "10  [(353411, 147608, 15177), (352173, 148914, 148...     good   \n",
       "11  [(346497, 82778, 27090), (339051, 74578, 26769...     good   \n",
       "12   [(351839, 91058, 27284), (349567, 97065, 26976)]     good   \n",
       "13  [(357525, 81584, 25828), (358640, 81180, 25734...     good   \n",
       "14   [(347271, 87374, 25828), (347862, 89018, 24930)]     good   \n",
       "15  [(111700, 241689, 22797), (110188, 241117, 228...     good   \n",
       "16  [(116186, 247468, 23275), (114619, 246629, 235...     good   \n",
       "17  [(103037, 175591, 18434), (99978, 172371, 1883...     good   \n",
       "18  [(313505, 161103, 18580), (314477, 162881, 187...     good   \n",
       "19   [(307899, 98712, 19067), (309700, 87653, 19669)]     good   \n",
       "20  [(286807, 94503, 18046), (291939, 86875, 18287...     good   \n",
       "21  [(104063, 174940, 18432), (104232, 162719, 200...     good   \n",
       "22  [(280639, 88256, 18965), (280377, 87163, 19077...     good   \n",
       "23   [(84884, 179330, 16386), (84527, 179768, 16234)]     good   \n",
       "24  [(299386, 144111, 17853), (308152, 142095, 172...     good   \n",
       "\n",
       "                         detailed_comments  \\\n",
       "0                                      NaN   \n",
       "1                                      NaN   \n",
       "2                          ONE FALSE MERGE   \n",
       "3                                      NaN   \n",
       "4                                      NaN   \n",
       "5                                      NaN   \n",
       "6                                      NaN   \n",
       "7                                      NaN   \n",
       "8                                      NaN   \n",
       "9                                      NaN   \n",
       "10                                     NaN   \n",
       "11   False merge at (341044, 76298, 26876)   \n",
       "12                                     NaN   \n",
       "13   False merge at (358199, 81368, 25779)   \n",
       "14                                     NaN   \n",
       "15                                     NaN   \n",
       "16                                     NaN   \n",
       "17                         ONE FALSE MERGE   \n",
       "18                                     NaN   \n",
       "19                                     NaN   \n",
       "20                                     NaN   \n",
       "21                                     NaN   \n",
       "22   False merge at (280657, 87964, 19009)   \n",
       "23                                     NaN   \n",
       "24  False merge at (305704, 144056, 17549)   \n",
       "\n",
       "                                       real_endpoints  \\\n",
       "0   [[402547, 228831, 23991], [402958, 229220, 235...   \n",
       "1   [[401602, 224623, 23991], [405273, 226312, 236...   \n",
       "2   [[77262, 113088, 20442], [79178, 109113, 20400...   \n",
       "3   [[100423, 143992, 21653], [100583, 144194, 217...   \n",
       "4     [[77575, 107807, 21133], [77000, 99565, 21215]]   \n",
       "5   [[79785, 135709, 21133], [84176, 127514, 21582...   \n",
       "6     [[81198, 106660, 21133], [88834, 99501, 20479]]   \n",
       "7    [[75409, 116393, 21135], [74841, 116076, 21217]]   \n",
       "8   [[351150, 143681, 15176], [348147, 144970, 148...   \n",
       "9   [[366719, 138890, 16417], [367885, 138975, 165...   \n",
       "10  [[353411, 147608, 15177], [352173, 148914, 148...   \n",
       "11  [[346497, 82778, 27090], [339051, 74578, 26769...   \n",
       "12   [[351839, 91058, 27284], [349567, 97065, 26976]]   \n",
       "13  [[357525, 81584, 25828], [358640, 81180, 25734...   \n",
       "14   [[347271, 87374, 25828], [347862, 89018, 24930]]   \n",
       "15  [[111700, 241689, 22797], [110188, 241117, 228...   \n",
       "16  [[116186, 247468, 23275], [114619, 246629, 235...   \n",
       "17  [[103037, 175591, 18434], [99978, 172371, 1883...   \n",
       "18  [[313505, 161103, 18580], [314477, 162881, 187...   \n",
       "19   [[307899, 98712, 19067], [309700, 87653, 19669]]   \n",
       "20  [[286807, 94503, 18046], [291939, 86875, 18287...   \n",
       "21  [[104063, 174940, 18432], [104232, 162719, 200...   \n",
       "22  [[280639, 88256, 18965], [280377, 87163, 19077...   \n",
       "23   [[84884, 179330, 16386], [84527, 179768, 16234]]   \n",
       "24  [[299386, 144111, 17853], [308152, 142095, 172...   \n",
       "\n",
       "                                  endpoints_generated  num_errors  num_facets  \\\n",
       "0   [[402970.1091549296, 229214.63028169013, 23552...           0           2   \n",
       "1   [[405014.6845794392, 226607.61448598132, 23618...           1           3   \n",
       "2   [[77266.35, 113085.0, 20442.45], [79721.25, 10...           1           2   \n",
       "3   [[100737.80769230769, 144755.42307692306, 2165...           1           2   \n",
       "4   [[76790.0, 99695.75, 21201.6], [77248.5, 10781...           2           2   \n",
       "5   [[79777.25, 135702.875, 21143.325], [84055.332...           3           4   \n",
       "6   [[88848.9, 99520.05, 20479.725], [83733.75, 10...           2           1   \n",
       "7   [[75019.0, 116198.25, 21198.45], [75295.5, 116...           1           1   \n",
       "8                                   [[0.0, 0.0, 0.0]]           0           0   \n",
       "9   [[366705.43636363634, 138920.44090909092, 1641...           1           2   \n",
       "10          [[353943.1875, 147387.1875, 15165.80625]]           0           1   \n",
       "11  [[346655.4, 82856.2, 27089.475], [339921.75, 9...           3           3   \n",
       "12  [[349500.9, 97212.15, 26978.7], [351684.220588...           1           2   \n",
       "13  [[357513.7125, 81607.44375, 25828.425], [35841...           2           2   \n",
       "14  [[347826.9375, 89007.1875, 24929.625], [347387...           3           1   \n",
       "15  [[111880.125, 241587.5, 22796.55], [110217.45,...           0           2   \n",
       "16  [[114668.19, 246690.36, 23504.25], [116197.995...           0           2   \n",
       "17  [[100042.6875, 172659.375, 18813.375], [102634...           2           2   \n",
       "18  [[313040.875, 162407.875, 18613.35], [313463.5...           3           2   \n",
       "19  [[307990.8125, 98498.53125, 19062.75], [308254...           1           1   \n",
       "20  [[291886.59375, 86933.90625, 18285.75], [28660...           1           3   \n",
       "21  [[102529.875, 164901.625, 19776.75], [104258.4...           3           4   \n",
       "22  [[280398.375, 87235.875, 19060.65], [280736.20...           2           1   \n",
       "23  [[84008.16666666667, 179640.61111111112, 16386...           2           2   \n",
       "24  [[305188.625, 144040.3125, 17533.425], [306911...           4           3   \n",
       "\n",
       "                                               facets  \\\n",
       "0   [[402970.1091549296, 229214.63028169013, 23552...   \n",
       "1   [[405014.6845794392, 226607.61448598132, 23618...   \n",
       "2   [[77266.35, 113085.0, 20442.45], [79721.25, 10...   \n",
       "3   [[100737.80769230769, 144755.42307692306, 2165...   \n",
       "4   [[76790.0, 99695.75, 21201.6], [77248.5, 10781...   \n",
       "5   [[79777.25, 135702.875, 21143.325], [84055.332...   \n",
       "6                    [[88848.9, 99520.05, 20479.725]]   \n",
       "7                    [[75019.0, 116198.25, 21198.45]]   \n",
       "8                                                  []   \n",
       "9   [[366705.43636363634, 138920.44090909092, 1641...   \n",
       "10          [[353943.1875, 147387.1875, 15165.80625]]   \n",
       "11  [[346655.4, 82856.2, 27089.475], [339921.75, 9...   \n",
       "12  [[349500.9, 97212.15, 26978.7], [351684.220588...   \n",
       "13  [[357513.7125, 81607.44375, 25828.425], [35841...   \n",
       "14             [[347826.9375, 89007.1875, 24929.625]]   \n",
       "15  [[111880.125, 241587.5, 22796.55], [110217.45,...   \n",
       "16  [[114668.19, 246690.36, 23504.25], [116197.995...   \n",
       "17  [[100042.6875, 172659.375, 18813.375], [102634...   \n",
       "18  [[313040.875, 162407.875, 18613.35], [313463.5...   \n",
       "19             [[307990.8125, 98498.53125, 19062.75]]   \n",
       "20  [[291886.59375, 86933.90625, 18285.75], [28660...   \n",
       "21  [[102529.875, 164901.625, 19776.75], [104258.4...   \n",
       "22                [[280398.375, 87235.875, 19060.65]]   \n",
       "23  [[84008.16666666667, 179640.61111111112, 16386...   \n",
       "24  [[305188.625, 144040.3125, 17533.425], [306911...   \n",
       "\n",
       "                                               errors  \n",
       "0                                   [[0.0, 0.0, 0.0]]  \n",
       "1   [[405058.04347826086, 226369.72826086957, 2362...  \n",
       "2   [[79184.66379310345, 109173.56896551725, 20430...  \n",
       "3   [[100579.64583333333, 144180.02083333334, 2169...  \n",
       "4   [[77413.525, 107032.45, 21180.845], [77007.846...  \n",
       "5   [[80491.56164383562, 134662.8595890411, 21445....  \n",
       "6   [[83733.75, 104856.375, 21224.4], [88732.97222...  \n",
       "7   [[75295.5, 116210.34782608696, 21139.832608695...  \n",
       "8                                   [[0.0, 0.0, 0.0]]  \n",
       "9   [[367424.4456521739, 138785.34782608695, 16469...  \n",
       "10                                  [[0.0, 0.0, 0.0]]  \n",
       "11  [[339511.7894736842, 74640.26315789473, 26818....  \n",
       "12  [[351825.5073529412, 91045.6544117647, 27287.5...  \n",
       "13  [[358038.70108695654, 81438.45652173914, 25758...  \n",
       "14  [[347387.075, 85891.75, 25331.0925], [347278.9...  \n",
       "15                                  [[0.0, 0.0, 0.0]]  \n",
       "16                                  [[0.0, 0.0, 0.0]]  \n",
       "17  [[102666.375, 175698.50735294117, 18476.541176...  \n",
       "18  [[314456.73, 162882.93, 18714.402], [313621.43...  \n",
       "19                    [[308254.5, 98559.25, 19095.9]]  \n",
       "20  [[286760.5, 94540.83333333333, 18046.208333333...  \n",
       "21  [[103967.35169491525, 174892.80508474575, 1849...  \n",
       "22  [[280736.203125, 87898.78125, 19009.3640625], ...  \n",
       "23  [[84638.75, 179745.3, 16254.268333333332], [84...  \n",
       "24  [[306025.2890625, 144800.7421875, 17602.413281...  "
      ]
     },
     "execution_count": 23,
     "metadata": {},
     "output_type": "execute_result"
    }
   ],
   "source": [
    "generate_endpoints(orphans_subset)"
   ]
  },
  {
   "cell_type": "code",
   "execution_count": 66,
   "metadata": {},
   "outputs": [],
   "source": [
    "#filter out facets and errors that are close together\n",
    "orphans[\"endpoints_generated\"], orphans[\"num_facets\"], orphans[\"num_errors\"], orphans[\"facets\"], orphans[\"errors\"]= zip(*orphans.apply(filter_facets_errors, axis = 1))\n"
   ]
  },
  {
   "cell_type": "code",
   "execution_count": 67,
   "metadata": {},
   "outputs": [],
   "source": [
    "orphans_subset[\"endpoints_generated\"], orphans_subset[\"num_facets\"], orphans_subset[\"num_errors\"], orphans_subset[\"facets\"], orphans_subset[\"errors\"]= zip(*orphans_subset.apply(filter_facets_errors, axis = 1))"
   ]
  },
  {
   "cell_type": "code",
   "execution_count": 70,
   "metadata": {},
   "outputs": [],
   "source": [
    "#apply accuracy function to entire df \n",
    "count = 0\n",
    "acc_array = []\n",
    "orphans[\"accuracy\"], orphans[\"precision\"], orphans[\"recall\"], orphans[\"F1\"] = None, None, None, None\n",
    "\n",
    "for index, row in orphans.iterrows():\n",
    "    if (type(row[\"real_endpoints\"])== list and type(row[\"endpoints_generated\"]) == list):\n",
    "        acc, precision, recall, F1 = 1\n",
    "        print(\"both empty\")\n",
    "    elif(type(row[\"endpoints_generated\"]) == list and type(row[\"real_endpoints\"]) != list):\n",
    "        acc, precision, recall, F1 = 0\n",
    "        print(\"no endpoints generated, but endpoints exist\")\n",
    "    else:\n",
    "        count = count + 1\n",
    "        acc, precision, recall, F1  = pred_eps_acc(row[\"real_endpoints\"], row[\"endpoints_generated\"], 250)\n",
    "        acc_array.append(acc)\n",
    "    \n",
    "    orphans.loc[index, \"accuracy\"] = acc\n",
    "    orphans.loc[index, \"precision\"] = precision\n",
    "    orphans.loc[index, \"recall\"] = recall\n",
    "    orphans.loc[index, \"F1\"] = F1"
   ]
  },
  {
   "cell_type": "code",
   "execution_count": 71,
   "metadata": {},
   "outputs": [
    {
     "data": {
      "text/html": [
       "<div>\n",
       "<style scoped>\n",
       "    .dataframe tbody tr th:only-of-type {\n",
       "        vertical-align: middle;\n",
       "    }\n",
       "\n",
       "    .dataframe tbody tr th {\n",
       "        vertical-align: top;\n",
       "    }\n",
       "\n",
       "    .dataframe thead th {\n",
       "        text-align: right;\n",
       "    }\n",
       "</style>\n",
       "<table border=\"1\" class=\"dataframe\">\n",
       "  <thead>\n",
       "    <tr style=\"text-align: right;\">\n",
       "      <th></th>\n",
       "      <th>neuron</th>\n",
       "      <th>ng_link</th>\n",
       "      <th>seg_id</th>\n",
       "      <th>pink_pts</th>\n",
       "      <th>num_endpoints</th>\n",
       "      <th>endpoints</th>\n",
       "      <th>comments</th>\n",
       "      <th>detailed_comments</th>\n",
       "      <th>real_endpoints</th>\n",
       "      <th>endpoints_generated</th>\n",
       "      <th>num_errors</th>\n",
       "      <th>num_facets</th>\n",
       "      <th>facets</th>\n",
       "      <th>errors</th>\n",
       "      <th>accuracy</th>\n",
       "      <th>precision</th>\n",
       "      <th>recall</th>\n",
       "      <th>F1</th>\n",
       "      <th>num_gen_endpoints</th>\n",
       "    </tr>\n",
       "  </thead>\n",
       "  <tbody>\n",
       "    <tr>\n",
       "      <th>1</th>\n",
       "      <td>864691136577830164</td>\n",
       "      <td>https://neuroglancer.neuvue.io/?json_url=https...</td>\n",
       "      <td>864691135247440303</td>\n",
       "      <td>(401258, 224832, 24029)</td>\n",
       "      <td>3</td>\n",
       "      <td>[(401612, 224623, 23991), (405257, 226318, 236...</td>\n",
       "      <td>good</td>\n",
       "      <td>NaN</td>\n",
       "      <td>[[401612, 224623, 23991], [405257, 226318, 236...</td>\n",
       "      <td>[[401768.85, 224295.75, 23978.325], [405058.04...</td>\n",
       "      <td>1</td>\n",
       "      <td>2</td>\n",
       "      <td>[401768.85, 224295.75, 23978.325, 409128.86538...</td>\n",
       "      <td>[[405058.04347826086, 226369.72826086957, 2362...</td>\n",
       "      <td>0.666667</td>\n",
       "      <td>0.666667</td>\n",
       "      <td>0.666667</td>\n",
       "      <td>0.666667</td>\n",
       "      <td>3</td>\n",
       "    </tr>\n",
       "    <tr>\n",
       "      <th>2</th>\n",
       "      <td>864691136577830164</td>\n",
       "      <td>https://neuroglancer.neuvue.io/?json_url=https...</td>\n",
       "      <td>864691134794123793</td>\n",
       "      <td>(401314, 228366, 24424)</td>\n",
       "      <td>2</td>\n",
       "      <td>[(401242, 228382, 24444), (400982, 228457, 245...</td>\n",
       "      <td>m</td>\n",
       "      <td>merged to two axon pieces</td>\n",
       "      <td>[[401242, 228382, 24444], [400982, 228457, 245...</td>\n",
       "      <td>[[0.0, 0.0, 0.0]]</td>\n",
       "      <td>0</td>\n",
       "      <td>0</td>\n",
       "      <td>[[0.0, 0.0, 0.0]]</td>\n",
       "      <td>[[0.0, 0.0, 0.0]]</td>\n",
       "      <td>0.0</td>\n",
       "      <td>0.0</td>\n",
       "      <td>0.0</td>\n",
       "      <td>0</td>\n",
       "      <td>1</td>\n",
       "    </tr>\n",
       "    <tr>\n",
       "      <th>3</th>\n",
       "      <td>864691136577830164</td>\n",
       "      <td>https://neuroglancer.neuvue.io/?json_url=https...</td>\n",
       "      <td>864691135772363453</td>\n",
       "      <td>(400199, 220721, 24029)</td>\n",
       "      <td>7</td>\n",
       "      <td>[(401289, 218721, 23991), (399895, 216533, 235...</td>\n",
       "      <td>m</td>\n",
       "      <td>NaN</td>\n",
       "      <td>[[401289, 218721, 23991], [399895, 216533, 235...</td>\n",
       "      <td>[[371314.9573170732, 191786.98170731709, 21777...</td>\n",
       "      <td>7</td>\n",
       "      <td>9</td>\n",
       "      <td>[375337.025, 189396.9, 22553.475, 373275.92647...</td>\n",
       "      <td>[[404000.0073529412, 210782.86764705883, 23984...</td>\n",
       "      <td>0.75</td>\n",
       "      <td>0.375</td>\n",
       "      <td>0.75</td>\n",
       "      <td>0.5</td>\n",
       "      <td>16</td>\n",
       "    </tr>\n",
       "    <tr>\n",
       "      <th>4</th>\n",
       "      <td>864691136577830164</td>\n",
       "      <td>https://neuroglancer.neuvue.io/?json_url=https...</td>\n",
       "      <td>864691135314714227</td>\n",
       "      <td>(397870, 232292, 24004)</td>\n",
       "      <td>2</td>\n",
       "      <td>[(397867, 232230, 23999), (397854, 232252, 239...</td>\n",
       "      <td>good</td>\n",
       "      <td>NaN</td>\n",
       "      <td>[[397867, 232230, 23999], [397854, 232252, 239...</td>\n",
       "      <td>[[0.0, 0.0, 0.0]]</td>\n",
       "      <td>0</td>\n",
       "      <td>0</td>\n",
       "      <td>[[0.0, 0.0, 0.0]]</td>\n",
       "      <td>[[0.0, 0.0, 0.0]]</td>\n",
       "      <td>0.0</td>\n",
       "      <td>0.0</td>\n",
       "      <td>0.0</td>\n",
       "      <td>0</td>\n",
       "      <td>1</td>\n",
       "    </tr>\n",
       "    <tr>\n",
       "      <th>5</th>\n",
       "      <td>864691136577830164</td>\n",
       "      <td>https://neuroglancer.neuvue.io/?json_url=https...</td>\n",
       "      <td>864691135552841025</td>\n",
       "      <td>(403272, 227529, 24394)</td>\n",
       "      <td>2</td>\n",
       "      <td>[(403332, 227545, 24398), (403566, 227614, 244...</td>\n",
       "      <td>good</td>\n",
       "      <td>NaN</td>\n",
       "      <td>[[403332, 227545, 24398], [403566, 227614, 244...</td>\n",
       "      <td>[[0.0, 0.0, 0.0]]</td>\n",
       "      <td>0</td>\n",
       "      <td>0</td>\n",
       "      <td>[[0.0, 0.0, 0.0]]</td>\n",
       "      <td>[[0.0, 0.0, 0.0]]</td>\n",
       "      <td>0.0</td>\n",
       "      <td>0.0</td>\n",
       "      <td>0.0</td>\n",
       "      <td>0</td>\n",
       "      <td>1</td>\n",
       "    </tr>\n",
       "    <tr>\n",
       "      <th>...</th>\n",
       "      <td>...</td>\n",
       "      <td>...</td>\n",
       "      <td>...</td>\n",
       "      <td>...</td>\n",
       "      <td>...</td>\n",
       "      <td>...</td>\n",
       "      <td>...</td>\n",
       "      <td>...</td>\n",
       "      <td>...</td>\n",
       "      <td>...</td>\n",
       "      <td>...</td>\n",
       "      <td>...</td>\n",
       "      <td>...</td>\n",
       "      <td>...</td>\n",
       "      <td>...</td>\n",
       "      <td>...</td>\n",
       "      <td>...</td>\n",
       "      <td>...</td>\n",
       "      <td>...</td>\n",
       "    </tr>\n",
       "    <tr>\n",
       "      <th>118</th>\n",
       "      <td>864691135526309723</td>\n",
       "      <td>https://neuroglancer.neuvue.io/?json_url=https...</td>\n",
       "      <td>864691136810680430</td>\n",
       "      <td>(116314, 195453, 19337)</td>\n",
       "      <td>2</td>\n",
       "      <td>[(116389, 195392, 19326), (121899, 191082, 178...</td>\n",
       "      <td>good</td>\n",
       "      <td>NaN</td>\n",
       "      <td>[[116389, 195392, 19326], [121899, 191082, 178...</td>\n",
       "      <td>[[116388.40243902439, 195408.58536585365, 1932...</td>\n",
       "      <td>4</td>\n",
       "      <td>2</td>\n",
       "      <td>[[120023.4, 192603.6, 18667.425], [118194.3, 1...</td>\n",
       "      <td>[[116388.40243902439, 195408.58536585365, 1932...</td>\n",
       "      <td>1.0</td>\n",
       "      <td>0.333333</td>\n",
       "      <td>1.0</td>\n",
       "      <td>0.5</td>\n",
       "      <td>6</td>\n",
       "    </tr>\n",
       "    <tr>\n",
       "      <th>120</th>\n",
       "      <td>864691135526309723</td>\n",
       "      <td>https://neuroglancer.neuvue.io/?json_url=https...</td>\n",
       "      <td>864691135319600870</td>\n",
       "      <td>(106639, 111664, 20802)</td>\n",
       "      <td>2</td>\n",
       "      <td>[(106608, 111803, 20796), (98290, 97555, 21045)]</td>\n",
       "      <td>good</td>\n",
       "      <td>NaN</td>\n",
       "      <td>[[106608, 111803, 20796], [98290, 97555, 21045]]</td>\n",
       "      <td>[[98335.2794117647, 97571.25, 21045.675], [988...</td>\n",
       "      <td>2</td>\n",
       "      <td>2</td>\n",
       "      <td>[[98335.2794117647, 97571.25, 21045.675], [106...</td>\n",
       "      <td>[106455.234375, 110471.89453125, 20704.425, 98...</td>\n",
       "      <td>1.0</td>\n",
       "      <td>0.5</td>\n",
       "      <td>1.0</td>\n",
       "      <td>0.666667</td>\n",
       "      <td>4</td>\n",
       "    </tr>\n",
       "    <tr>\n",
       "      <th>121</th>\n",
       "      <td>864691135526309723</td>\n",
       "      <td>https://neuroglancer.neuvue.io/?json_url=https...</td>\n",
       "      <td>864691136558839249</td>\n",
       "      <td>(103176, 188510, 21202)</td>\n",
       "      <td>2</td>\n",
       "      <td>[(103138, 188530, 21200), (91780, 189141, 20879)]</td>\n",
       "      <td>good</td>\n",
       "      <td>NaN</td>\n",
       "      <td>[[103138, 188530, 21200], [91780, 189141, 20879]]</td>\n",
       "      <td>[[91735.62096774194, 189119.98790322582, 20877...</td>\n",
       "      <td>1</td>\n",
       "      <td>2</td>\n",
       "      <td>[[102875.85, 188569.5, 21178.5], [91735.620967...</td>\n",
       "      <td>[103168.6106557377, 188489.20081967214, 21193....</td>\n",
       "      <td>1.0</td>\n",
       "      <td>0.666667</td>\n",
       "      <td>1.0</td>\n",
       "      <td>0.8</td>\n",
       "      <td>3</td>\n",
       "    </tr>\n",
       "    <tr>\n",
       "      <th>122</th>\n",
       "      <td>864691135526309723</td>\n",
       "      <td>https://neuroglancer.neuvue.io/?json_url=https...</td>\n",
       "      <td>864691135458639120</td>\n",
       "      <td>(127406, 206585, 21529)</td>\n",
       "      <td>2</td>\n",
       "      <td>[(127475, 206611, 21525), (128120, 207267, 215...</td>\n",
       "      <td>good</td>\n",
       "      <td>NaN</td>\n",
       "      <td>[[127475, 206611, 21525], [128120, 207267, 215...</td>\n",
       "      <td>[[127879.5, 207063.86842105264, 21498.75]]</td>\n",
       "      <td>0</td>\n",
       "      <td>0</td>\n",
       "      <td>[127879.5, 207063.86842105264, 21498.75]</td>\n",
       "      <td>[]</td>\n",
       "      <td>0.0</td>\n",
       "      <td>0.0</td>\n",
       "      <td>0.0</td>\n",
       "      <td>0</td>\n",
       "      <td>2</td>\n",
       "    </tr>\n",
       "    <tr>\n",
       "      <th>123</th>\n",
       "      <td>864691135526309723</td>\n",
       "      <td>https://neuroglancer.neuvue.io/?json_url=https...</td>\n",
       "      <td>864691135826764827</td>\n",
       "      <td>(122260, 186180, 19628)</td>\n",
       "      <td>2</td>\n",
       "      <td>[(122293, 186204, 19621), (124943, 185661, 186...</td>\n",
       "      <td>m</td>\n",
       "      <td>NaN</td>\n",
       "      <td>[[122293, 186204, 19621], [124943, 185661, 186...</td>\n",
       "      <td>[[122120.61627906977, 186268.16860465117, 1962...</td>\n",
       "      <td>2</td>\n",
       "      <td>3</td>\n",
       "      <td>[122412.34090909091, 186594.54545454544, 19607...</td>\n",
       "      <td>[122120.61627906977, 186268.16860465117, 19624...</td>\n",
       "      <td>1.0</td>\n",
       "      <td>0.4</td>\n",
       "      <td>1.0</td>\n",
       "      <td>0.571429</td>\n",
       "      <td>5</td>\n",
       "    </tr>\n",
       "  </tbody>\n",
       "</table>\n",
       "<p>107 rows × 19 columns</p>\n",
       "</div>"
      ],
      "text/plain": [
       "                 neuron                                            ng_link  \\\n",
       "1    864691136577830164  https://neuroglancer.neuvue.io/?json_url=https...   \n",
       "2    864691136577830164  https://neuroglancer.neuvue.io/?json_url=https...   \n",
       "3    864691136577830164  https://neuroglancer.neuvue.io/?json_url=https...   \n",
       "4    864691136577830164  https://neuroglancer.neuvue.io/?json_url=https...   \n",
       "5    864691136577830164  https://neuroglancer.neuvue.io/?json_url=https...   \n",
       "..                  ...                                                ...   \n",
       "118  864691135526309723  https://neuroglancer.neuvue.io/?json_url=https...   \n",
       "120  864691135526309723  https://neuroglancer.neuvue.io/?json_url=https...   \n",
       "121  864691135526309723  https://neuroglancer.neuvue.io/?json_url=https...   \n",
       "122  864691135526309723  https://neuroglancer.neuvue.io/?json_url=https...   \n",
       "123  864691135526309723  https://neuroglancer.neuvue.io/?json_url=https...   \n",
       "\n",
       "                 seg_id                 pink_pts  num_endpoints  \\\n",
       "1    864691135247440303  (401258, 224832, 24029)              3   \n",
       "2    864691134794123793  (401314, 228366, 24424)              2   \n",
       "3    864691135772363453  (400199, 220721, 24029)              7   \n",
       "4    864691135314714227  (397870, 232292, 24004)              2   \n",
       "5    864691135552841025  (403272, 227529, 24394)              2   \n",
       "..                  ...                      ...            ...   \n",
       "118  864691136810680430  (116314, 195453, 19337)              2   \n",
       "120  864691135319600870  (106639, 111664, 20802)              2   \n",
       "121  864691136558839249  (103176, 188510, 21202)              2   \n",
       "122  864691135458639120  (127406, 206585, 21529)              2   \n",
       "123  864691135826764827  (122260, 186180, 19628)              2   \n",
       "\n",
       "                                             endpoints comments  \\\n",
       "1    [(401612, 224623, 23991), (405257, 226318, 236...     good   \n",
       "2    [(401242, 228382, 24444), (400982, 228457, 245...        m   \n",
       "3    [(401289, 218721, 23991), (399895, 216533, 235...        m   \n",
       "4    [(397867, 232230, 23999), (397854, 232252, 239...     good   \n",
       "5    [(403332, 227545, 24398), (403566, 227614, 244...     good   \n",
       "..                                                 ...      ...   \n",
       "118  [(116389, 195392, 19326), (121899, 191082, 178...     good   \n",
       "120   [(106608, 111803, 20796), (98290, 97555, 21045)]     good   \n",
       "121  [(103138, 188530, 21200), (91780, 189141, 20879)]     good   \n",
       "122  [(127475, 206611, 21525), (128120, 207267, 215...     good   \n",
       "123  [(122293, 186204, 19621), (124943, 185661, 186...        m   \n",
       "\n",
       "             detailed_comments  \\\n",
       "1                          NaN   \n",
       "2    merged to two axon pieces   \n",
       "3                          NaN   \n",
       "4                          NaN   \n",
       "5                          NaN   \n",
       "..                         ...   \n",
       "118                        NaN   \n",
       "120                        NaN   \n",
       "121                        NaN   \n",
       "122                        NaN   \n",
       "123                        NaN   \n",
       "\n",
       "                                        real_endpoints  \\\n",
       "1    [[401612, 224623, 23991], [405257, 226318, 236...   \n",
       "2    [[401242, 228382, 24444], [400982, 228457, 245...   \n",
       "3    [[401289, 218721, 23991], [399895, 216533, 235...   \n",
       "4    [[397867, 232230, 23999], [397854, 232252, 239...   \n",
       "5    [[403332, 227545, 24398], [403566, 227614, 244...   \n",
       "..                                                 ...   \n",
       "118  [[116389, 195392, 19326], [121899, 191082, 178...   \n",
       "120   [[106608, 111803, 20796], [98290, 97555, 21045]]   \n",
       "121  [[103138, 188530, 21200], [91780, 189141, 20879]]   \n",
       "122  [[127475, 206611, 21525], [128120, 207267, 215...   \n",
       "123  [[122293, 186204, 19621], [124943, 185661, 186...   \n",
       "\n",
       "                                   endpoints_generated  num_errors  \\\n",
       "1    [[401768.85, 224295.75, 23978.325], [405058.04...           1   \n",
       "2                                    [[0.0, 0.0, 0.0]]           0   \n",
       "3    [[371314.9573170732, 191786.98170731709, 21777...           7   \n",
       "4                                    [[0.0, 0.0, 0.0]]           0   \n",
       "5                                    [[0.0, 0.0, 0.0]]           0   \n",
       "..                                                 ...         ...   \n",
       "118  [[116388.40243902439, 195408.58536585365, 1932...           4   \n",
       "120  [[98335.2794117647, 97571.25, 21045.675], [988...           2   \n",
       "121  [[91735.62096774194, 189119.98790322582, 20877...           1   \n",
       "122         [[127879.5, 207063.86842105264, 21498.75]]           0   \n",
       "123  [[122120.61627906977, 186268.16860465117, 1962...           2   \n",
       "\n",
       "     num_facets                                             facets  \\\n",
       "1             2  [401768.85, 224295.75, 23978.325, 409128.86538...   \n",
       "2             0                                  [[0.0, 0.0, 0.0]]   \n",
       "3             9  [375337.025, 189396.9, 22553.475, 373275.92647...   \n",
       "4             0                                  [[0.0, 0.0, 0.0]]   \n",
       "5             0                                  [[0.0, 0.0, 0.0]]   \n",
       "..          ...                                                ...   \n",
       "118           2  [[120023.4, 192603.6, 18667.425], [118194.3, 1...   \n",
       "120           2  [[98335.2794117647, 97571.25, 21045.675], [106...   \n",
       "121           2  [[102875.85, 188569.5, 21178.5], [91735.620967...   \n",
       "122           0           [127879.5, 207063.86842105264, 21498.75]   \n",
       "123           3  [122412.34090909091, 186594.54545454544, 19607...   \n",
       "\n",
       "                                                errors  accuracy precision  \\\n",
       "1    [[405058.04347826086, 226369.72826086957, 2362...  0.666667  0.666667   \n",
       "2                                    [[0.0, 0.0, 0.0]]       0.0       0.0   \n",
       "3    [[404000.0073529412, 210782.86764705883, 23984...      0.75     0.375   \n",
       "4                                    [[0.0, 0.0, 0.0]]       0.0       0.0   \n",
       "5                                    [[0.0, 0.0, 0.0]]       0.0       0.0   \n",
       "..                                                 ...       ...       ...   \n",
       "118  [[116388.40243902439, 195408.58536585365, 1932...       1.0  0.333333   \n",
       "120  [106455.234375, 110471.89453125, 20704.425, 98...       1.0       0.5   \n",
       "121  [103168.6106557377, 188489.20081967214, 21193....       1.0  0.666667   \n",
       "122                                                 []       0.0       0.0   \n",
       "123  [122120.61627906977, 186268.16860465117, 19624...       1.0       0.4   \n",
       "\n",
       "       recall        F1  num_gen_endpoints  \n",
       "1    0.666667  0.666667                  3  \n",
       "2         0.0         0                  1  \n",
       "3        0.75       0.5                 16  \n",
       "4         0.0         0                  1  \n",
       "5         0.0         0                  1  \n",
       "..        ...       ...                ...  \n",
       "118       1.0       0.5                  6  \n",
       "120       1.0  0.666667                  4  \n",
       "121       1.0       0.8                  3  \n",
       "122       0.0         0                  2  \n",
       "123       1.0  0.571429                  5  \n",
       "\n",
       "[107 rows x 19 columns]"
      ]
     },
     "execution_count": 71,
     "metadata": {},
     "output_type": "execute_result"
    }
   ],
   "source": [
    "orphans"
   ]
  },
  {
   "cell_type": "code",
   "execution_count": null,
   "metadata": {},
   "outputs": [],
   "source": [
    "# #apply function to entire df \n",
    "# count = 0\n",
    "# acc_array2 = []\n",
    "# orphans_subset[\"accuracy\"] = None\n",
    "# for index, row in orphans_subset.iterrows():\n",
    "#     if (type(row[\"real_endpoints\"])== list and type(row[\"endpoints_generated\"]) == list):\n",
    "#         acc = 1\n",
    "#         print(\"both empty\")\n",
    "#     elif(type(row[\"endpoints_generated\"]) == list and type(row[\"real_endpoints\"]) != list):\n",
    "#         acc = 0\n",
    "#         print(\"no endpoints generated, but endpoints exist\")\n",
    "#     else:\n",
    "#         count = count + 1\n",
    "#         acc = pred_eps_acc(row[\"real_endpoints\"], row[\"endpoints_generated\"], 250)\n",
    "#         acc_array2.append(acc)\n",
    "\n",
    "#     orphans_subset.loc[index, \"accuracy\"] = acc\n",
    "    "
   ]
  },
  {
   "cell_type": "code",
   "execution_count": 29,
   "metadata": {},
   "outputs": [
    {
     "name": "stdout",
     "output_type": "stream",
     "text": [
      "[1.         0.66666667 0.         0.75       0.         0.\n",
      " 1.         0.4        0.         0.4        0.5        1.\n",
      " 0.5        0.         0.         1.         0.         0.\n",
      " 0.         1.         0.         0.         0.         1.\n",
      " 0.         0.         0.33333333 0.         0.5        0.5\n",
      " 0.         0.5        0.         0.5        0.5        0.66666667\n",
      " 0.5        0.6        1.         0.85714286 0.66666667 0.66666667\n",
      " 0.5        0.33333333 1.         0.5        0.45454545 0.5\n",
      " 0.66666667 0.66666667 0.33333333 0.5        0.5        0.\n",
      " 0.         0.25       0.66666667 0.66666667 1.         1.\n",
      " 1.         1.         0.5        0.         0.5        1.\n",
      " 0.66666667 1.         0.85714286 0.5        0.5        0.8\n",
      " 0.         0.5        1.         0.5        0.5        0.\n",
      " 1.         0.5        0.66666667 0.5        0.5        0.5\n",
      " 0.         0.         0.66666667 0.5        0.5        0.5\n",
      " 0.5        1.         0.5        0.         1.         0.5\n",
      " 1.         0.         1.         0.         1.         0.\n",
      " 0.5        0.         0.7        0.         0.         0.\n",
      " 1.         1.         0.         1.         0.5        0.\n",
      " 0.5        1.         1.         0.         1.         0.5\n",
      " 1.         1.         0.         1.        ]\n"
     ]
    }
   ],
   "source": [
    "acc_array = np.array(acc_array)\n",
    "print(acc_array)"
   ]
  },
  {
   "cell_type": "code",
   "execution_count": 30,
   "metadata": {},
   "outputs": [
    {
     "ename": "NameError",
     "evalue": "name 'acc_array2' is not defined",
     "output_type": "error",
     "traceback": [
      "\u001b[0;31m---------------------------------------------------------------------------\u001b[0m",
      "\u001b[0;31mNameError\u001b[0m                                 Traceback (most recent call last)",
      "\u001b[1;32m/Users/RupaChalavadi/Desktop/CRIMSON/Summer/Campfire/campfire/Final_Results.ipynb Cell 37\u001b[0m in \u001b[0;36m<cell line: 1>\u001b[0;34m()\u001b[0m\n\u001b[0;32m----> <a href='vscode-notebook-cell:/Users/RupaChalavadi/Desktop/CRIMSON/Summer/Campfire/campfire/Final_Results.ipynb#Y201sZmlsZQ%3D%3D?line=0'>1</a>\u001b[0m acc_array2 \u001b[39m=\u001b[39m np\u001b[39m.\u001b[39marray(acc_array2)\n\u001b[1;32m      <a href='vscode-notebook-cell:/Users/RupaChalavadi/Desktop/CRIMSON/Summer/Campfire/campfire/Final_Results.ipynb#Y201sZmlsZQ%3D%3D?line=1'>2</a>\u001b[0m \u001b[39mprint\u001b[39m(acc_array2)\n",
      "\u001b[0;31mNameError\u001b[0m: name 'acc_array2' is not defined"
     ]
    }
   ],
   "source": [
    "acc_array2 = np.array(acc_array2)\n",
    "print(acc_array2)"
   ]
  },
  {
   "attachments": {},
   "cell_type": "markdown",
   "metadata": {},
   "source": [
    "### Final Data Processing"
   ]
  },
  {
   "cell_type": "code",
   "execution_count": 77,
   "metadata": {},
   "outputs": [],
   "source": [
    "# Filtering out precision = 2.0 (one orphan)\n",
    "orphans = orphans[orphans['precision'] < 1]"
   ]
  },
  {
   "cell_type": "code",
   "execution_count": 78,
   "metadata": {},
   "outputs": [],
   "source": [
    "orphans[\"num_gen_endpoints\"] = orphans[\"endpoints_generated\"].apply(lambda x: len(x))"
   ]
  },
  {
   "cell_type": "code",
   "execution_count": 79,
   "metadata": {},
   "outputs": [],
   "source": [
    "orphans_subset[\"num_gen_endpoints\"] = orphans_subset[\"endpoints_generated\"].apply(lambda x: len(x))"
   ]
  },
  {
   "cell_type": "code",
   "execution_count": 80,
   "metadata": {},
   "outputs": [],
   "source": [
    "# Group by neuron column and calculate the sums\n",
    "grouped_data = orphans.groupby(\"neuron\").agg({\n",
    "    \"num_gen_endpoints\": \"sum\",\n",
    "    \"num_errors\": \"sum\",\n",
    "    \"num_facets\": \"sum\",\n",
    "    \"accuracy\": lambda x: x.tolist(),  # Convert accuracy column to a list\n",
    "    \"precision\": lambda x: x.tolist(),\n",
    "    \"recall\": lambda x: x.tolist(),\n",
    "    \"F1\": lambda x: x.tolist()\n",
    "}).reset_index()\n",
    "\n",
    "# Rename the codlumns\n",
    "grouped_data = grouped_data.rename(columns={\n",
    "    \"neuron\": \"Neuron\",\n",
    "    \"num_gen_endpoints\": \"total_gen_endpoints\",\n",
    "    \"num_errors\": \"total_errors\",\n",
    "    \"num_facets\": \"total_facets\",\n",
    "    \"accuracy\": \"all_accuracies\",\n",
    "    \"precision\": \"all_precision\",\n",
    "    \"recall\":  \"all_recalls\",\n",
    "    \"F1\": \"all_F1\"\n",
    "})"
   ]
  },
  {
   "cell_type": "code",
   "execution_count": 81,
   "metadata": {},
   "outputs": [],
   "source": [
    "grouped_data.to_csv('accuracies.csv', index=False)"
   ]
  },
  {
   "cell_type": "code",
   "execution_count": 82,
   "metadata": {},
   "outputs": [],
   "source": [
    "accuracies = pd.read_csv(\"accuracies.csv\")"
   ]
  },
  {
   "cell_type": "code",
   "execution_count": null,
   "metadata": {},
   "outputs": [],
   "source": [
    "accuracies"
   ]
  },
  {
   "cell_type": "code",
   "execution_count": 83,
   "metadata": {},
   "outputs": [],
   "source": [
    "gt = pd.read_csv(\"gt.csv\")"
   ]
  },
  {
   "attachments": {},
   "cell_type": "markdown",
   "metadata": {},
   "source": [
    "### Figures"
   ]
  },
  {
   "attachments": {},
   "cell_type": "markdown",
   "metadata": {},
   "source": [
    "We grouped together orphans that belong to the same neuron. Then, we compared generated number of errors/facets to gt endpoints. "
   ]
  },
  {
   "cell_type": "code",
   "execution_count": 117,
   "metadata": {},
   "outputs": [
    {
     "data": {
      "image/png": "[encoded data removed]",
      "text/plain": [
       "<Figure size 432x288 with 1 Axes>"
      ]
     },
     "metadata": {
      "needs_background": "light"
     },
     "output_type": "display_data"
    }
   ],
   "source": [
    "import matplotlib.pyplot as plt\n",
    "import numpy as np\n",
    "\n",
    "# Prepare the data from the existing dataframe\n",
    "existing_neuron_numbers = grouped_data[\"Neuron\"].astype(str)\n",
    "existing_total_gen_endpoints = grouped_data[\"total_gen_endpoints\"]\n",
    "existing_total_errors = grouped_data[\"total_errors\"]\n",
    "existing_total_facets = grouped_data[\"total_facets\"]\n",
    "\n",
    "# Prepare the data from the ground truth dataframe\n",
    "ground_truth_neuron_numbers = gt[\"Neuron \"].astype(str)\n",
    "ground_truth_total_endpoints = gt[\"Total Endpoints\"]\n",
    "\n",
    "# Set the positions of the bars on the x-axis\n",
    "x = np.arange(len(existing_neuron_numbers))\n",
    "\n",
    "# Set the width of the bars\n",
    "width = 0.3\n",
    "\n",
    "# Create the figure and axis\n",
    "fig, ax = plt.subplots()\n",
    "\n",
    "# Create the bars for existing data\n",
    "rects2 = ax.bar(x + width, existing_total_errors, width, label='Total Errors', color='red')\n",
    "rects3 = ax.bar(x + width, existing_total_facets, width, bottom=existing_total_errors, label='Total Facets', color='green')\n",
    "\n",
    "# Create the bars for ground truth data\n",
    "rects4 = ax.bar(x, ground_truth_total_endpoints, width, label='Total Endpoints (Ground Truth)', color='orange', alpha=0.5)\n",
    "\n",
    "# Add labels, title, and legend\n",
    "ax.set_ylabel('Total Gen Endpoints')\n",
    "ax.set_xlabel('Neuron Number')\n",
    "ax.set_title('Total Gen Endpoints per Neuron')\n",
    "ax.set_xticks(x + width / 2)\n",
    "ax.set_xticklabels(existing_neuron_numbers)\n",
    "\n",
    "ax.legend()\n",
    "\n",
    "# Adjust the layout to prevent label cutoff\n",
    "plt.tight_layout()\n",
    "\n",
    "# Show the plot\n",
    "plt.xticks(rotation='vertical')\n",
    "plt.show()"
   ]
  },
  {
   "attachments": {},
   "cell_type": "markdown",
   "metadata": {},
   "source": [
    "This figure showcases a subset of orphans that were large, mostly spiny, and well-defined. We found our tip generator to function best on these orphans, only overgenerating endpoints by 1-3 if at all (disregarding outliers)"
   ]
  },
  {
   "cell_type": "code",
   "execution_count": null,
   "metadata": {},
   "outputs": [],
   "source": [
    "import matplotlib.pyplot as plt\n",
    "import numpy as np\n",
    "\n",
    "seg_ids = orphans_subset[\"seg_id\"].astype(str)\n",
    "num_gen_endpoints = orphans_subset[\"num_gen_endpoints\"]\n",
    "num_errors = orphans_subset[\"num_errors\"]\n",
    "num_facets = orphans_subset[\"num_facets\"]\n",
    "\n",
    "#gt endpoints\n",
    "ground_truth_neuron_numbers = orphans_subset[\"neuron\"].astype(str)\n",
    "ground_truth_endpoints = orphans_subset[\"num_endpoints\"]\n",
    "\n",
    "# Set the positions of the bars on the x-axis\n",
    "x = np.arange(len(seg_ids))\n",
    "\n",
    "# Set the width of the bars\n",
    "width = 0.3\n",
    "\n",
    "# Create the figure and axis\n",
    "fig, ax = plt.subplots()\n",
    "\n",
    "# Create the bars for existing data\n",
    "rects2 = ax.bar(x + width, num_errors, width, label='Errors', color='red')\n",
    "rects3 = ax.bar(x + width, num_facets, width, bottom=num_errors, label='Facets', color='green')\n",
    "\n",
    "# Create the bars for ground truth data\n",
    "rects4 = ax.bar(x, ground_truth_endpoints, width, label='Endpoints (Ground Truth)', color='orange', alpha=0.5)\n",
    "\n",
    "# Add labels, title, and legend\n",
    "ax.set_ylabel('Gen Endpoints')\n",
    "ax.set_xlabel('Seg ID')\n",
    "ax.set_title('Gen Endpoints per representative orphan')\n",
    "ax.set_xticks(x + width / 2)\n",
    "ax.set_xticklabels(seg_ids)\n",
    "\n",
    "ax.legend()\n",
    "\n",
    "# Adjust the layout to prevent label cutoff\n",
    "plt.tight_layout()\n",
    "\n",
    "# Show the plot\n",
    "plt.xticks(rotation='vertical')\n",
    "plt.show()"
   ]
  },
  {
   "attachments": {},
   "cell_type": "markdown",
   "metadata": {},
   "source": [
    "The next figure plots the accuracies for the subset of orphans. Note: we calculated the accuracy based on reasonable euclidian distance to gt endpoints. We did not deduct for overgeneration of endpoints. Although, this was not a major issue with this subset of orphans. "
   ]
  },
  {
   "cell_type": "code",
   "execution_count": null,
   "metadata": {},
   "outputs": [],
   "source": [
    "#accuracy plot for subset orphans\n",
    "import matplotlib.pyplot as plt\n",
    "import numpy as np\n",
    "\n",
    "seg_ids = orphans_subset[\"seg_id\"].astype(str)\n",
    "accuracies = orphans_subset[\"accuracy\"]\n",
    "\n",
    "# Set the positions of the bars on the x-axis\n",
    "x = np.arange(len(seg_ids))\n",
    "\n",
    "# Set the width of the bars\n",
    "width = 0.3\n",
    "\n",
    "# Create the figure and axis\n",
    "fig, ax = plt.subplots()\n",
    "\n",
    "# Create the bars for existing data\n",
    "rects2 = ax.bar(x + width, accuracies, width, color='red')\n",
    "\n",
    "\n",
    "# Add labels, title, and legend\n",
    "ax.set_ylabel('Accuracy')\n",
    "ax.set_xlabel('Seg ID')\n",
    "ax.set_title('Accuracy per representative Orphan')\n",
    "ax.set_xticks(x + width / 2)\n",
    "ax.set_xticklabels(seg_ids)\n",
    "\n",
    "ax.legend()\n",
    "\n",
    "# Adjust the layout to prevent label cutoff\n",
    "plt.tight_layout()\n",
    "\n",
    "# Show the plot\n",
    "plt.xticks(rotation='vertical')\n",
    "plt.show()\n"
   ]
  },
  {
   "attachments": {},
   "cell_type": "markdown",
   "metadata": {},
   "source": [
    "The last figure grouped orphans that belong to the same neuron. Frequencies of their accuracies are then displayed. Some orphans were very small and belonged to the same neuron, explaning why some neurons have very high purple bars. "
   ]
  },
  {
   "cell_type": "code",
   "execution_count": 131,
   "metadata": {},
   "outputs": [
    {
     "name": "stdout",
     "output_type": "stream",
     "text": [
      "11\n"
     ]
    },
    {
     "data": {
      "image/png": "[encoded data removed]",
      "text/plain": [
       "<Figure size 720x432 with 1 Axes>"
      ]
     },
     "metadata": {
      "needs_background": "light"
     },
     "output_type": "display_data"
    }
   ],
   "source": [
    "import matplotlib.pyplot as plt\n",
    "import numpy as np\n",
    "\n",
    "# Extracting data for the chart\n",
    "neurons = [str(n) for n in grouped_data['Neuron']]\n",
    "accuracies = grouped_data['all_accuracies']\n",
    "\n",
    "# Counting the frequency of each accuracy value for each neuron\n",
    "accuracy_freq = np.zeros((len(neurons), 11))\n",
    "for i, acc in enumerate(accuracies):\n",
    "    for val in acc:\n",
    "        accuracy_freq[i, int(val * 10)] += 1\n",
    "\n",
    "# Creating the stacked bar chart\n",
    "fig, ax = plt.subplots(figsize=(10, 6))\n",
    "colors = ['#8A2BE2', '#0000FF', '#00BFFF', '#1E90FF', '#00FFFF', '#32CD32', '#ADFF2F', '#FFD700', '#FFA500', '#FF4500', '#FF0000']\n",
    "\n",
    "bars = []\n",
    "labels = [str(round(a/10, 1)) for a in range(11)]\n",
    "bottom = np.zeros(len(neurons))\n",
    "for i in range(11):\n",
    "    acc_freq = accuracy_freq[:, i]\n",
    "    bar = ax.bar(neurons, acc_freq, bottom=bottom, color=colors[i])\n",
    "    bars.append(bar[0])\n",
    "    bottom += acc_freq\n",
    "\n",
    "\n",
    "# Legend for the accuracy values\n",
    "ax.legend(bars, labels, bbox_to_anchor=(1, 0.5), loc='center left')\n",
    "\n",
    "ax.set_xlabel('Neurons')\n",
    "ax.set_ylabel('Orphans')\n",
    "ax.set_title('Frequency of Accuracies for Each Neuron')\n",
    "\n",
    "# Setting the ticks on the x-axis and rotating labels\n",
    "ax.set_xticks(neurons)\n",
    "ax.set_xticklabels(neurons, rotation=45, ha='right')\n",
    "\n",
    "plt.tight_layout()\n",
    "plt.show()\n"
   ]
  },
  {
   "attachments": {},
   "cell_type": "markdown",
   "metadata": {},
   "source": [
    "### Precision, Recall, and F1 frequencies for all orphans across neurons - doesn't work"
   ]
  },
  {
   "cell_type": "code",
   "execution_count": 94,
   "metadata": {},
   "outputs": [
    {
     "ename": "TypeError",
     "evalue": "list indices must be integers or slices, not tuple",
     "output_type": "error",
     "traceback": [
      "\u001b[0;31m---------------------------------------------------------------------------\u001b[0m",
      "\u001b[0;31mTypeError\u001b[0m                                 Traceback (most recent call last)",
      "\u001b[1;32m/Users/RupaChalavadi/Desktop/CRIMSON/Summer/Campfire/campfire/Final_Results.ipynb Cell 58\u001b[0m in \u001b[0;36m<cell line: 39>\u001b[0;34m()\u001b[0m\n\u001b[1;32m     <a href='vscode-notebook-cell:/Users/RupaChalavadi/Desktop/CRIMSON/Summer/Campfire/campfire/Final_Results.ipynb#Y226sZmlsZQ%3D%3D?line=36'>37</a>\u001b[0m bottom \u001b[39m=\u001b[39m np\u001b[39m.\u001b[39mzeros(\u001b[39mlen\u001b[39m(neurons))\n\u001b[1;32m     <a href='vscode-notebook-cell:/Users/RupaChalavadi/Desktop/CRIMSON/Summer/Campfire/campfire/Final_Results.ipynb#Y226sZmlsZQ%3D%3D?line=38'>39</a>\u001b[0m \u001b[39mfor\u001b[39;00m i \u001b[39min\u001b[39;00m \u001b[39mrange\u001b[39m(\u001b[39m11\u001b[39m):\n\u001b[0;32m---> <a href='vscode-notebook-cell:/Users/RupaChalavadi/Desktop/CRIMSON/Summer/Campfire/campfire/Final_Results.ipynb#Y226sZmlsZQ%3D%3D?line=39'>40</a>\u001b[0m     precision_freq \u001b[39m=\u001b[39m precision[:, i]\n\u001b[1;32m     <a href='vscode-notebook-cell:/Users/RupaChalavadi/Desktop/CRIMSON/Summer/Campfire/campfire/Final_Results.ipynb#Y226sZmlsZQ%3D%3D?line=40'>41</a>\u001b[0m     recall_freq \u001b[39m=\u001b[39m recall[:, i]\n\u001b[1;32m     <a href='vscode-notebook-cell:/Users/RupaChalavadi/Desktop/CRIMSON/Summer/Campfire/campfire/Final_Results.ipynb#Y226sZmlsZQ%3D%3D?line=41'>42</a>\u001b[0m     F1_freq \u001b[39m=\u001b[39m F1[:, i]\n",
      "\u001b[0;31mTypeError\u001b[0m: list indices must be integers or slices, not tuple"
     ]
    },
    {
     "data": {
      "image/png": "[encoded data removed]",
      "text/plain": [
       "<Figure size 720x432 with 1 Axes>"
      ]
     },
     "metadata": {
      "needs_background": "light"
     },
     "output_type": "display_data"
    }
   ],
   "source": [
    "import matplotlib.pyplot as plt\n",
    "import numpy as np\n",
    "\n",
    "#  \"precision\": \"all_precision\",\n",
    "#\"recall\":  \"all_recalls\",\n",
    "#\"F1\": \"all_F1\"\n",
    "# Extracting data for the chart\n",
    "neurons = [str(n) for n in grouped_data['Neuron']]\n",
    "precisions = grouped_data['all_precision']\n",
    "recalls = grouped_data['all_recalls']\n",
    "F1s = grouped_data['all_F1']\n",
    "\n",
    "# Counting the frequency of each precision value for each neuron\n",
    "precision_freq = np.zeros((len(neurons), 11))\n",
    "for i, precision in enumerate(precisions):\n",
    "    for val in precision:\n",
    "        precision_freq[i, int(val * 10)] += 1\n",
    "\n",
    "# Counting the frequency of each recall value for each neuron\n",
    "recall_freq = np.zeros((len(neurons), 11))\n",
    "for i, recall in enumerate(recalls):\n",
    "    for val in recall:\n",
    "        recall_freq[i, int(val * 10)] += 1\n",
    "\n",
    "# Counting the frequency of each F1 value for each neuron\n",
    "F1_freq = np.zeros((len(neurons), 11))\n",
    "for i, F1 in enumerate(F1s):\n",
    "    for val in F1:\n",
    "        F1_freq[i, int(val * 10)] += 1\n",
    "\n",
    "# Creating the stacked bar chart\n",
    "fig, ax = plt.subplots(figsize=(10, 6))\n",
    "colors = ['#8A2BE2', '#0000FF', '#00BFFF', '#1E90FF', '#00FFFF', '#32CD32', '#ADFF2F', '#FFD700', '#FFA500', '#FF4500', '#FF0000']\n",
    "\n",
    "bars = []\n",
    "labels = [str(round(a/10, 1)) for a in range(11)]\n",
    "bottom = np.zeros(len(neurons))\n",
    "\n",
    "for i in range(11):\n",
    "    precision_freq = precision[:, i]\n",
    "    recall_freq = recall[:, i]\n",
    "    F1_freq = F1[:, i]\n",
    "\n",
    "    bar_precision = ax.bar(neurons, precision_freq, bottom=bottom, color=colors[0])\n",
    "    bar_recall = ax.bar(neurons, recall_freq, bottom=bottom, color=colors[1])\n",
    "    bar_f1 = ax.bar(neurons, F1_freq, bottom=bottom, color=colors[2])\n",
    "\n",
    "\n",
    "    bars.extend([bar_precision[0], bar_recall[0], bar_f1[0]])\n",
    "    bottom += precision_freq + recall_freq + F1_freq\n",
    "\n",
    "# Legend for the values\n",
    "ax.legend(bars, labels, bbox_to_anchor=(1, 0.5), loc='center left')\n",
    "\n",
    "ax.set_xlabel('Neurons')\n",
    "ax.set_ylabel('Orphans')\n",
    "ax.set_title('Frequency of Precision, Recall, F1 for Each Neuron')\n",
    "\n",
    "# Setting the ticks on the x-axis and rotating labels\n",
    "ax.set_xticks(neurons)\n",
    "ax.set_xticklabels(neurons, rotation=45, ha='right')\n",
    "\n",
    "plt.tight_layout()\n",
    "plt.show()\n"
   ]
  },
  {
   "cell_type": "code",
   "execution_count": 95,
   "metadata": {},
   "outputs": [],
   "source": [
    "neurons = [str(n) for n in grouped_data['Neuron']]\n",
    "precisions = grouped_data['all_precision']\n",
    "recalls = grouped_data['all_recalls']\n",
    "F1s = grouped_data['all_F1']\n",
    "\n",
    "# Counting the frequency of each precision value for each neuron\n",
    "precision_freq = np.zeros((len(neurons), 11))\n",
    "for i, precision in enumerate(precisions):\n",
    "    for val in precision:\n",
    "        precision_freq[i, int(val * 10)] += 1\n",
    "\n",
    "# Counting the frequency of each recall value for each neuron\n",
    "recall_freq = np.zeros((len(neurons), 11))\n",
    "for i, recall in enumerate(recalls):\n",
    "    for val in recall:\n",
    "        recall_freq[i, int(val * 10)] += 1\n",
    "\n",
    "# Counting the frequency of each F1 value for each neuron\n",
    "F1_freq = np.zeros((len(neurons), 11))\n",
    "for i, F1 in enumerate(F1s):\n",
    "    for val in F1:\n",
    "        F1_freq[i, int(val * 10)] += 1\n"
   ]
  },
  {
   "cell_type": "code",
   "execution_count": 120,
   "metadata": {},
   "outputs": [
    {
     "data": {
      "image/png": "[encoded data removed]",
      "text/plain": [
       "<Figure size 1440x720 with 1 Axes>"
      ]
     },
     "metadata": {
      "needs_background": "light"
     },
     "output_type": "display_data"
    }
   ],
   "source": [
    "df = pd.DataFrame(dict(\n",
    "    p00 = precision_freq[:,0],\n",
    "    p01 = precision_freq[:, 1],\n",
    "    p02 = precision_freq[:, 2],\n",
    "    p03 = precision_freq[:, 3],\n",
    "    p04 = precision_freq[:, 4],\n",
    "    p05 = precision_freq[:, 5],\n",
    "    p06 = precision_freq[:, 6],\n",
    "    p07 = precision_freq[:, 7],\n",
    "    p08 = precision_freq[:, 8],\n",
    "    p09 = precision_freq[:, 9],\n",
    "    p10 = precision_freq[:, 10],\n",
    "\n",
    "    r00=recall_freq[:, 0],\n",
    "    r01=recall_freq[:, 1],\n",
    "    r02=recall_freq[:, 2],\n",
    "    r03=recall_freq[:, 3],\n",
    "    r04=recall_freq[:, 4],\n",
    "    r05=recall_freq[:, 5],\n",
    "    r06=recall_freq[:, 6],\n",
    "    r07=recall_freq[:, 7],\n",
    "    r08=recall_freq[:, 8],\n",
    "    r09=recall_freq[:, 9],\n",
    "    r10=recall_freq[:, 10],\n",
    "\n",
    "    f00=F1_freq[:, 0],\n",
    "    f01=F1_freq[:, 1],\n",
    "    f02=F1_freq[:, 2],\n",
    "    f03=F1_freq[:, 3],\n",
    "    f04=F1_freq[:, 4],\n",
    "    f05=F1_freq[:, 5],\n",
    "    f06=F1_freq[:, 6],\n",
    "    f07=F1_freq[:, 7],\n",
    "    f08=F1_freq[:, 8],\n",
    "    f09=F1_freq[:, 9],\n",
    "    f10=F1_freq[:, 10]\n",
    "))\n",
    "\n",
    "import matplotlib.pyplot as plt\n",
    "%matplotlib inline\n",
    "\n",
    "fig = plt.figure(figsize = (20,10))\n",
    "width = 0.2\n",
    "\n",
    "\n",
    "precision_bar_list = [plt.bar([0, 1, 2, 3, 4, 5, 6, 7, 8, 9, 10, 11, 12, 13, 14], df.p10, align='edge', width= -0.2 , edgecolor = \"black\"),\n",
    "                      plt.bar([0, 1, 2, 3, 4, 5, 6, 7, 8, 9, 10, 11, 12, 13, 14], df.p09, align='edge', width= -0.2, edgecolor = \"black\"),\n",
    "                      plt.bar([0, 1, 2, 3, 4, 5, 6, 7, 8, 9, 10, 11, 12, 13, 14], df.p07, align='edge', width= -0.2, edgecolor = \"black\"), \n",
    "                      plt.bar([0, 1, 2, 3, 4, 5, 6, 7, 8, 9, 10, 11, 12, 13, 14], df.p08, align='edge', width= -0.2, edgecolor = \"black\"), \n",
    "                      plt.bar([0, 1, 2, 3, 4, 5, 6, 7, 8, 9, 10, 11, 12, 13, 14], df.p06, align='edge', width= -0.2, edgecolor = \"black\"), \n",
    "                      plt.bar([0, 1, 2, 3, 4, 5, 6, 7, 8, 9, 10, 11, 12, 13, 14], df.p05, align='edge', width= -0.2, edgecolor = \"black\"), \n",
    "                      plt.bar([0, 1, 2, 3, 4, 5, 6, 7, 8, 9, 10, 11, 12, 13, 14], df.p04, align='edge', width= -0.2, edgecolor = \"black\"), \n",
    "                      plt.bar([0, 1, 2, 3, 4, 5, 6, 7, 8, 9, 10, 11, 12, 13, 14], df.p03, align='edge', width= -0.2, edgecolor = \"black\"),\n",
    "                      plt.bar([0, 1, 2, 3, 4, 5, 6, 7, 8, 9, 10, 11, 12, 13, 14], df.p02, align='edge', width= -0.2, edgecolor = \"black\"),\n",
    "                      plt.bar([0, 1, 2, 3, 4, 5, 6, 7, 8, 9, 10, 11, 12, 13, 14], df.p01, align='edge', width= -0.2, edgecolor = \"black\"),\n",
    "                      plt.bar([0, 1, 2, 3, 4, 5, 6, 7, 8, 9, 10, 11, 12, 13, 14], df.p00, align='edge', width= -0.2, edgecolor = \"black\")\n",
    "                      ]\n",
    "\n",
    "recall_bar_list = [plt.bar([0, 1, 2, 3, 4, 5, 6, 7, 8, 9, 10, 11, 12, 13, 14], df.r10, align='edge', width=0.2, edgecolor = \"black\"),\n",
    "                   plt.bar([0, 1, 2, 3, 4, 5, 6, 7, 8, 9, 10, 11, 12, 13, 14], df.r09, align='edge', width=0.2, edgecolor = \"black\"),\n",
    "                   plt.bar([0, 1, 2, 3, 4, 5, 6, 7, 8, 9, 10, 11, 12, 13, 14], df.r07, align='edge', width=0.2, edgecolor = \"black\"),\n",
    "                   plt.bar([0, 1, 2, 3, 4, 5, 6, 7, 8, 9, 10, 11, 12, 13, 14], df.r08, align='edge', width=0.2, edgecolor = \"black\"),\n",
    "                   plt.bar([0, 1, 2, 3, 4, 5, 6, 7, 8, 9, 10, 11, 12, 13, 14], df.r06, align='edge', width=0.2, edgecolor = \"black\"),\n",
    "                   plt.bar([0, 1, 2, 3, 4, 5, 6, 7, 8, 9, 10, 11, 12, 13, 14], df.r05, align='edge', width=0.2, edgecolor = \"black\"),\n",
    "                   plt.bar([0, 1, 2, 3, 4, 5, 6, 7, 8, 9, 10, 11, 12, 13, 14], df.r04, align='edge', width=0.2, edgecolor = \"black\"),\n",
    "                   plt.bar([0, 1, 2, 3, 4, 5, 6, 7, 8, 9, 10, 11, 12, 13, 14], df.r03, align='edge', width=0.2, edgecolor = \"black\"),\n",
    "                   plt.bar([0, 1, 2, 3, 4, 5, 6, 7, 8, 9, 10, 11, 12, 13, 14], df.r02, align='edge', width=0.2, edgecolor = \"black\"),\n",
    "                   plt.bar([0, 1, 2, 3, 4, 5, 6, 7, 8, 9, 10, 11, 12, 13, 14], df.r01, align='edge', width=0.2, edgecolor = \"black\"),\n",
    "                   plt.bar([0, 1, 2, 3, 4, 5, 6, 7, 8, 9, 10, 11, 12, 13, 14], df.r00, align='edge', width=0.2, edgecolor = \"black\")\n",
    "                   ]\n",
    "\n",
    "\n",
    "f1_bar_list = [plt.bar([0, 1, 2, 3, 4, 5, 6, 7, 8, 9, 10, 11, 12, 13, 14], df.f10, align='edge', width=0.4, edgecolor = \"black\"),\n",
    "                   plt.bar([0, 1, 2, 3, 4, 5, 6, 7, 8, 9, 10, 11, 12, 13, 14], df.f09, align='edge', width=0.4, edgecolor = \"black\"),\n",
    "                   plt.bar([0, 1, 2, 3, 4, 5, 6, 7, 8, 9, 10, 11, 12, 13, 14], df.f07, align='edge', width=0.4, edgecolor = \"black\"),\n",
    "                   plt.bar([0, 1, 2, 3, 4, 5, 6, 7, 8, 9, 10, 11, 12, 13, 14], df.f08, align='edge', width=0.4, edgecolor = \"black\"),\n",
    "                   plt.bar([0, 1, 2, 3, 4, 5, 6, 7, 8, 9, 10, 11, 12, 13, 14], df.f06, align='edge', width=0.4, edgecolor = \"black\"),\n",
    "                   plt.bar([0, 1, 2, 3, 4, 5, 6, 7, 8, 9, 10, 11, 12, 13, 14], df.f05, align='edge', width=0.4, edgecolor = \"black\"),\n",
    "                   plt.bar([0, 1, 2, 3, 4, 5, 6, 7, 8, 9, 10, 11, 12, 13, 14], df.f04, align='edge', width=0.4, edgecolor = \"black\"),\n",
    "                   plt.bar([0, 1, 2, 3, 4, 5, 6, 7, 8, 9, 10, 11, 12, 13, 14], df.f03, align='edge', width=0.4, edgecolor = \"black\"),\n",
    "                   plt.bar([0, 1, 2, 3, 4, 5, 6, 7, 8, 9, 10, 11, 12, 13, 14], df.f02, align='edge', width=0.4, edgecolor = \"black\"),\n",
    "                   plt.bar([0, 1, 2, 3, 4, 5, 6, 7, 8, 9, 10, 11, 12, 13, 14], df.f01, align='edge', width=0.4, edgecolor = \"black\"),\n",
    "                   plt.bar([0, 1, 2, 3, 4, 5, 6, 7, 8, 9, 10, 11, 12, 13, 14], df.f00, align='edge', width=0.4, edgecolor = \"black\")\n",
    "                   ]\n",
    "\n",
    "\n",
    "\n"
   ]
  },
  {
   "attachments": {},
   "cell_type": "markdown",
   "metadata": {},
   "source": [
    "### Precisions, Recalls, Frequencies for each neuron (3 stacked-bars bar chart) - WORKING VERSION"
   ]
  },
  {
   "cell_type": "code",
   "execution_count": 213,
   "metadata": {},
   "outputs": [
    {
     "data": {
      "image/png": "[encoded data removed]",
      "text/plain": [
       "<Figure size 1080x576 with 1 Axes>"
      ]
     },
     "metadata": {},
     "output_type": "display_data"
    }
   ],
   "source": [
    "neurons = [str(n) for n in grouped_data['Neuron']]\n",
    "neurons2 = []\n",
    "\n",
    "j = 0\n",
    "for i in np.arange(0, len(neurons)*4, 4):\n",
    "    neurons2.insert(i, 'Neuron'+ str(j+1) +'_P')\n",
    "    neurons2.insert(i+1, 'Neuron' + str(j+1) +'_R')\n",
    "    neurons2.insert(i+2, 'Neuron' + str(j+1) +'_F1')\n",
    "    neurons2.insert(i+3, '...'+str(j+1))\n",
    "    j += 1\n",
    "\n",
    "precisions = grouped_data['all_precision']\n",
    "recalls = grouped_data['all_recalls']\n",
    "F1s = grouped_data['all_F1']\n",
    "\n",
    "# Counting the frequency of each precision value for each neuron\n",
    "precision_freq = np.zeros((len(neurons), 11))\n",
    "for i, precision in enumerate(precisions):\n",
    "    for val in precision:\n",
    "        precision_freq[i, int(val * 10)] += 1\n",
    "\n",
    "# Counting the frequency of each recall value for each neuron\n",
    "recall_freq = np.zeros((len(neurons), 11))\n",
    "for i, recall in enumerate(recalls):\n",
    "    for val in recall:\n",
    "        recall_freq[i, int(val * 10)] += 1\n",
    "\n",
    "# Counting the frequency of each F1 value for each neuron\n",
    "F1_freq = np.zeros((len(neurons), 11))\n",
    "for i, F1 in enumerate(F1s):\n",
    "    for val in F1:\n",
    "        F1_freq[i, int(val * 10)] += 1\n",
    "\n",
    "fig, ax = plt.subplots(figsize=(15, 8), facecolor='white')\n",
    "colors = ['#8A2BE2', '#0000FF', '#00BFFF', '#1E90FF', '#00FFFF',\n",
    "          '#32CD32', '#ADFF2F', '#FFD700', '#FFA500', '#FF4500', '#FF0000']\n",
    "\n",
    "bars = []\n",
    "labels = [str(round(a/10, 1)) for a in range(11)]\n",
    "bottom = np.zeros(len(neurons2))\n",
    "color_index = 0\n",
    "\n",
    "#w: widths for each bar\n",
    "w = np.zeros(len(neurons)*4)\n",
    "bar_width = 0.5\n",
    "for i in np.arange(0,len(neurons)*4,4):\n",
    "    w[i] = bar_width\n",
    "    w[i+1] = bar_width\n",
    "    w[i+2] = bar_width\n",
    "    w[i+3] = bar_width * 0.1\n",
    "\n",
    "for i in range(11):\n",
    "    prec_freq = precision_freq[:, i]\n",
    "    rec_freq = recall_freq[:, i]\n",
    "    f1_freq = F1_freq[:, i]\n",
    "    empty_bars = np.zeros(len(f1_freq))\n",
    "\n",
    "    prec_rec_f1 = np.zeros(len(neurons2))\n",
    "    j = 0\n",
    "\n",
    "    for i in np.arange(0,len(neurons)*4,4):\n",
    "       \n",
    "        prec_rec_f1[i] = prec_freq[j]\n",
    "        prec_rec_f1[i+1] = rec_freq[j]\n",
    "        prec_rec_f1[i+2] = f1_freq[j]\n",
    "        prec_rec_f1[i+3] = empty_bars[j]\n",
    "        j+=1\n",
    "    \n",
    "    bar = ax.bar(neurons2, prec_rec_f1, bottom=bottom, color=colors[color_index], width = w)\n",
    "    bars.append(bar[0])\n",
    "    bottom += prec_rec_f1\n",
    "    color_index += 1\n",
    "\n",
    "# Legend for the accuracy values\n",
    "ax.legend(bars, labels, bbox_to_anchor=(1, 0.5), loc='center left')\n",
    "\n",
    "ax.set_xlabel('Neurons')\n",
    "ax.set_ylabel('Orphans')\n",
    "# ax.set_title('Frequency of Accuracies for Each Neuron')\n",
    "\n",
    "# Setting the ticks on the x-axis and rotating labels\n",
    "ax.set_xticks(neurons2)\n",
    "ax.set_xticklabels(neurons2, rotation=45, ha='right')\n",
    "\n",
    "plt.tight_layout()\n",
    "\n",
    "colors = ['black', 'black', 'black', 'white']\n",
    "for i in range(len(neurons)):\n",
    "    colors = colors + colors\n",
    "    \n",
    "for xtick, color in zip(ax.get_xticklabels(), colors):\n",
    "    xtick.set_color(color)\n",
    "    \n",
    "plt.show()\n"
   ]
  },
  {
   "attachments": {},
   "cell_type": "markdown",
   "metadata": {},
   "source": [
    "### Edge Cases"
   ]
  },
  {
   "attachments": {},
   "cell_type": "markdown",
   "metadata": {},
   "source": [
    "The 2 images below represent edge cases/errors involvingn skeletonization. Both seg_ids have clear flat regions (facets) that should be considered true endpoints. However, the skeleton (pink) is incorrectly branching. We filter candidate endpoints based on distance to skeleton endpoints. So, even thought the correct facets are found in the first image, they are ultimately filtered out due to the invalid skeleton. The same issue occurs for the second image. Future developers could furhter optimize skeletonization and avoid this invalid branching effect. "
   ]
  },
  {
   "cell_type": "code",
   "execution_count": null,
   "metadata": {},
   "outputs": [],
   "source": [
    "# Load the image\n",
    "image_path = \"campfire/Edge_cases/Edge_case_1.png\"\n",
    "image = Image.open(image_path)\n",
    "# Display the image\n",
    "display(image)"
   ]
  },
  {
   "cell_type": "code",
   "execution_count": null,
   "metadata": {},
   "outputs": [],
   "source": [
    "image_path2 = \"campfire/Edge_cases/EdgeCase_1_ex2.png\"\n",
    "image2 = Image.open(image_path2)\n",
    "display(image2)"
   ]
  },
  {
   "attachments": {},
   "cell_type": "markdown",
   "metadata": {},
   "source": [
    "The red orphan pictured below represents a class of small, flat orphans that our endpoint detector cannot process. There is no mesh and skeleotn that can be generated for these orphans, resulting in 0% accuracy. These orphans are somehwat common (have some in our gt data) and therefore represent an important edge case. Future developers may choose to focus on larger processes or develop a seperate tool to handle these orphans.  "
   ]
  },
  {
   "cell_type": "code",
   "execution_count": null,
   "metadata": {},
   "outputs": [],
   "source": [
    "# Load the image\n",
    "image_path = \"campfire/Edge_cases/Small_edge_case.png\"\n",
    "image = Image.open(image_path)\n",
    "# Display the image\n",
    "display(image)"
   ]
  }
 ],
 "metadata": {
  "kernelspec": {
   "display_name": "Python 3",
   "language": "python",
   "name": "python3"
  },
  "language_info": {
   "codemirror_mode": {
    "name": "ipython",
    "version": 3
   },
   "file_extension": ".py",
   "mimetype": "text/x-python",
   "name": "python",
   "nbconvert_exporter": "python",
   "pygments_lexer": "ipython3",
   "version": "3.8.10"
  },
  "orig_nbformat": 4
 },
 "nbformat": 4,
 "nbformat_minor": 2
}
