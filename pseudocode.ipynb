{
 "cells": [
  {
   "cell_type": "code",
   "execution_count": 2,
   "metadata": {},
   "outputs": [
    {
     "ename": "ModuleNotFoundError",
     "evalue": "No module named 'matplotlib'",
     "output_type": "error",
     "traceback": [
      "\u001b[0;31m---------------------------------------------------------------------------\u001b[0m",
      "\u001b[0;31mModuleNotFoundError\u001b[0m                       Traceback (most recent call last)",
      "Cell \u001b[0;32mIn [2], line 3\u001b[0m\n\u001b[1;32m      1\u001b[0m \u001b[38;5;28;01mimport\u001b[39;00m \u001b[38;5;21;01mnumpy\u001b[39;00m \u001b[38;5;28;01mas\u001b[39;00m \u001b[38;5;21;01mnp\u001b[39;00m\n\u001b[1;32m      2\u001b[0m \u001b[38;5;28;01mimport\u001b[39;00m \u001b[38;5;21;01mpandas\u001b[39;00m \u001b[38;5;28;01mas\u001b[39;00m \u001b[38;5;21;01mpd\u001b[39;00m\n\u001b[0;32m----> 3\u001b[0m \u001b[38;5;28;01mimport\u001b[39;00m \u001b[38;5;21;01mmatplotlib\u001b[39;00m\u001b[38;5;21;01m.\u001b[39;00m\u001b[38;5;21;01mpyplot\u001b[39;00m \u001b[38;5;28;01mas\u001b[39;00m \u001b[38;5;21;01mplt\u001b[39;00m\n\u001b[1;32m      4\u001b[0m \u001b[38;5;28;01mimport\u001b[39;00m \u001b[38;5;21;01mpickle\u001b[39;00m \u001b[38;5;28;01mas\u001b[39;00m \u001b[38;5;21;01mpkl\u001b[39;00m\n\u001b[1;32m      5\u001b[0m \u001b[38;5;28;01mfrom\u001b[39;00m \u001b[38;5;21;01mdrive\u001b[39;00m \u001b[38;5;28;01mimport\u001b[39;00m segment_points\n",
      "\u001b[0;31mModuleNotFoundError\u001b[0m: No module named 'matplotlib'"
     ]
    }
   ],
   "source": [
    "import numpy as np\n",
    "import pandas as pd\n",
    "import matplotlib.pyplot as plt\n",
    "import pickle as pkl\n",
    "from drive import segment_points\n",
    "from tip_finding import tip_finding"
   ]
  },
  {
   "cell_type": "code",
   "execution_count": 2,
   "metadata": {},
   "outputs": [
    {
     "name": "stdout",
     "output_type": "stream",
     "text": [
      "Warning: deduplication not currently supported for this layer's variable layered draco meshes\n",
      "branch\n"
     ]
    },
    {
     "name": "stderr",
     "output_type": "stream",
     "text": [
      "100%|██████████| 21334/21334 [00:00<00:00, 47053.58it/s] \n",
      "11/04/2022 03:09:36 PM WARNING: calculating rays without pyembree, conda install pyembree for large speedup \n"
     ]
    },
    {
     "ename": "ImportError",
     "evalue": "cannot import name 'rtcore_scene' from 'pyembree' (/Users/Joey_Chan/campfire/env/lib/python3.10/site-packages/pyembree/__init__.py)",
     "output_type": "error",
     "traceback": [
      "\u001b[0;31m---------------------------------------------------------------------------\u001b[0m",
      "\u001b[0;31mImportError\u001b[0m                               Traceback (most recent call last)",
      "Cell \u001b[0;32mIn [2], line 2\u001b[0m\n\u001b[1;32m      1\u001b[0m root_id \u001b[38;5;241m=\u001b[39m \u001b[38;5;241m864691135247440303\u001b[39m\n\u001b[0;32m----> 2\u001b[0m good_tips_thick, good_tips_thin, good_tips_bad_thick, good_tips_bad_thin, just_tips, just_means  \u001b[38;5;241m=\u001b[39m \u001b[43mtip_finding\u001b[49m\u001b[38;5;241;43m.\u001b[39;49m\u001b[43mendpoints_from_rid\u001b[49m\u001b[43m(\u001b[49m\u001b[43mroot_id\u001b[49m\u001b[43m)\u001b[49m\n\u001b[1;32m      3\u001b[0m \u001b[38;5;28;01mfor\u001b[39;00m tip \u001b[38;5;129;01min\u001b[39;00m good_tips_thick:\n\u001b[1;32m      4\u001b[0m     ext, num \u001b[38;5;241m=\u001b[39m segment_points(endpoint\u001b[38;5;241m=\u001b[39mtip, root_id\u001b[38;5;241m=\u001b[39mroot_id, point_id\u001b[38;5;241m=\u001b[39m\u001b[38;5;241m0\u001b[39m, resolution\u001b[38;5;241m=\u001b[39m[\u001b[38;5;241m4\u001b[39m,\u001b[38;5;241m4\u001b[39m,\u001b[38;5;241m40\u001b[39m])\n",
      "File \u001b[0;32m~/campfire/tip_finding/tip_finding.py:798\u001b[0m, in \u001b[0;36mendpoints_from_rid\u001b[0;34m(root_id, center_collapse)\u001b[0m\n\u001b[1;32m    780\u001b[0m mesh_obj\u001b[39m.\u001b[39mfill_holes()\n\u001b[1;32m    782\u001b[0m \u001b[39m# def get_soma(root_id:str):\u001b[39;00m\n\u001b[1;32m    783\u001b[0m \u001b[39m#     cave_client = CAVEclient('minnie65_phase3_v1')\u001b[39;00m\n\u001b[1;32m    784\u001b[0m \u001b[39m#     soma = cave_client.materialize.query_table(\u001b[39;00m\n\u001b[0;32m   (...)\u001b[0m\n\u001b[1;32m    795\u001b[0m \u001b[39m#     print(root_id, \"No Soma Found\")\u001b[39;00m\n\u001b[1;32m    796\u001b[0m \u001b[39m# good_tips_thick, good_tips_thin, good_tips_bad_thick, good_tips_bad_thin, just_tips, just_means = get_endpoints(mesh_obj, soma_center)\u001b[39;00m\n\u001b[0;32m--> 798\u001b[0m good_tips_thick, good_tips_thin, good_tips_bad_thick, good_tips_bad_thin, just_tips, just_means \u001b[39m=\u001b[39m get_endpoints(mesh_obj)\n\u001b[1;32m    800\u001b[0m \u001b[39mreturn\u001b[39;00m good_tips_thick, good_tips_thin, good_tips_bad_thick, good_tips_bad_thin, just_tips, just_means\n",
      "File \u001b[0;32m~/campfire/tip_finding/tip_finding.py:907\u001b[0m, in \u001b[0;36mget_endpoints\u001b[0;34m(mesh, center, invalidation, rad_len_thresh, rad_thresh, filt_len, path_dist_to_tip)\u001b[0m\n\u001b[1;32m    905\u001b[0m         collapse_function \u001b[39m=\u001b[39m \u001b[39m'\u001b[39m\u001b[39msphere\u001b[39m\u001b[39m'\u001b[39m\n\u001b[1;32m    906\u001b[0m     \u001b[39mprint\u001b[39m(collapse_function)\n\u001b[0;32m--> 907\u001b[0m     skel_mp \u001b[39m=\u001b[39m skeletonize\u001b[39m.\u001b[39;49mskeletonize_mesh(trimesh_io\u001b[39m.\u001b[39;49mMesh(mesh\u001b[39m.\u001b[39;49mvertices, \n\u001b[1;32m    908\u001b[0m                                                 mesh\u001b[39m.\u001b[39;49mfaces),\n\u001b[1;32m    909\u001b[0m                                                 invalidation_d\u001b[39m=\u001b[39;49minvalidation,\n\u001b[1;32m    910\u001b[0m                                                 collapse_function\u001b[39m=\u001b[39;49mcollapse_function,\n\u001b[1;32m    911\u001b[0m                                                 \u001b[39m# soma_radius = soma_radius,\u001b[39;49;00m\n\u001b[1;32m    912\u001b[0m                                                 soma_pt\u001b[39m=\u001b[39;49mcenter,\n\u001b[1;32m    913\u001b[0m                                                 smooth_neighborhood\u001b[39m=\u001b[39;49m\u001b[39m5\u001b[39;49m,\n\u001b[1;32m    914\u001b[0m \u001b[39m#                                                     collapse_params = {'dynamic_threshold':True}\u001b[39;49;00m\n\u001b[1;32m    915\u001b[0m                                                 )\n\u001b[1;32m    916\u001b[0m     sums_mask, locs, sums, graphs, normals, mean_locs, mean_locs_bad, mean_locs_all \u001b[39m=\u001b[39m get_flat_regions(mesh)\n\u001b[1;32m    918\u001b[0m     edges_thick, area_dict, mask_verts, gtips, btips, all_tips \u001b[39m=\u001b[39m chop_thin_bits_mean(mean_locs, \n\u001b[1;32m    919\u001b[0m                                                                                     skel_mp,\n\u001b[1;32m    920\u001b[0m                                                                                     rad_thresh\u001b[39m=\u001b[39mrad_thresh, \n\u001b[1;32m    921\u001b[0m                                                                                     rad_len_thresh\u001b[39m=\u001b[39mrad_len_thresh,\n\u001b[1;32m    922\u001b[0m                                                                                     filt_len\u001b[39m=\u001b[39mfilt_len,\n\u001b[1;32m    923\u001b[0m                                                                                     path_dist_to_tip\u001b[39m=\u001b[39mpath_dist_to_tip)\n",
      "File \u001b[0;32m~/campfire/env/lib/python3.10/site-packages/meshparty/skeletonize.py:221\u001b[0m, in \u001b[0;36mskeletonize_mesh\u001b[0;34m(mesh, soma_pt, soma_radius, collapse_soma, collapse_function, invalidation_d, smooth_vertices, compute_radius, shape_function, compute_original_index, verbose, smooth_iterations, smooth_neighborhood, smooth_r, cc_vertex_thresh, root_index, remove_zero_length_edges, collapse_params, meta)\u001b[0m\n\u001b[1;32m    219\u001b[0m \u001b[39mif\u001b[39;00m rs \u001b[39mis\u001b[39;00m \u001b[39mNone\u001b[39;00m:\n\u001b[1;32m    220\u001b[0m     \u001b[39mif\u001b[39;00m shape_function \u001b[39m==\u001b[39m \u001b[39m\"\u001b[39m\u001b[39msingle\u001b[39m\u001b[39m\"\u001b[39m:\n\u001b[0;32m--> 221\u001b[0m         rs \u001b[39m=\u001b[39m ray_trace_distance(orig_skel_index[vert_filter], mesh)\n\u001b[1;32m    222\u001b[0m     \u001b[39melif\u001b[39;00m shape_function \u001b[39m==\u001b[39m \u001b[39m\"\u001b[39m\u001b[39mcone\u001b[39m\u001b[39m\"\u001b[39m:\n\u001b[1;32m    223\u001b[0m         rs \u001b[39m=\u001b[39m shape_diameter_function(orig_skel_index[vert_filter], mesh)\n",
      "File \u001b[0;32m~/campfire/env/lib/python3.10/site-packages/meshparty/ray_tracing.py:42\u001b[0m, in \u001b[0;36mray_trace_distance\u001b[0;34m(vertex_inds, mesh, max_iter, rand_jitter, verbose, ray_inter)\u001b[0m\n\u001b[1;32m     38\u001b[0m     logging\u001b[39m.\u001b[39mwarning(\n\u001b[1;32m     39\u001b[0m         \u001b[39m\"\u001b[39m\u001b[39mcalculating rays without pyembree, conda install pyembree for large speedup\u001b[39m\u001b[39m\"\u001b[39m)\n\u001b[1;32m     41\u001b[0m \u001b[39mif\u001b[39;00m ray_inter \u001b[39mis\u001b[39;00m \u001b[39mNone\u001b[39;00m:\n\u001b[0;32m---> 42\u001b[0m     ray_inter \u001b[39m=\u001b[39m ray_pyembree\u001b[39m.\u001b[39;49mRayMeshIntersector(mesh)\n\u001b[1;32m     44\u001b[0m rs \u001b[39m=\u001b[39m np\u001b[39m.\u001b[39mzeros(\u001b[39mlen\u001b[39m(vertex_inds))\n\u001b[1;32m     45\u001b[0m good_rs \u001b[39m=\u001b[39m np\u001b[39m.\u001b[39mfull(\u001b[39mlen\u001b[39m(rs), \u001b[39mFalse\u001b[39;00m)\n",
      "File \u001b[0;32m~/campfire/env/lib/python3.10/site-packages/trimesh/exceptions.py:28\u001b[0m, in \u001b[0;36mExceptionModule.__getattribute__\u001b[0;34m(self, *args, **kwargs)\u001b[0m\n\u001b[1;32m     26\u001b[0m     \u001b[39mreturn\u001b[39;00m \u001b[39mNone\u001b[39;00m\u001b[39m.\u001b[39m\u001b[39m__class__\u001b[39m\n\u001b[1;32m     27\u001b[0m \u001b[39m# otherwise raise our original exception\u001b[39;00m\n\u001b[0;32m---> 28\u001b[0m \u001b[39mraise\u001b[39;00m \u001b[39msuper\u001b[39m(ExceptionModule, \u001b[39mself\u001b[39m)\u001b[39m.\u001b[39m\u001b[39m__getattribute__\u001b[39m(\u001b[39m'\u001b[39m\u001b[39mexc\u001b[39m\u001b[39m'\u001b[39m)\n",
      "File \u001b[0;32m~/campfire/env/lib/python3.10/site-packages/trimesh/ray/__init__.py:5\u001b[0m\n\u001b[1;32m      3\u001b[0m \u001b[39m# optionally load an interface to the embree raytracer\u001b[39;00m\n\u001b[1;32m      4\u001b[0m \u001b[39mtry\u001b[39;00m:\n\u001b[0;32m----> 5\u001b[0m     \u001b[39mfrom\u001b[39;00m \u001b[39m.\u001b[39;00m \u001b[39mimport\u001b[39;00m ray_pyembree\n\u001b[1;32m      6\u001b[0m     has_embree \u001b[39m=\u001b[39m \u001b[39mTrue\u001b[39;00m\n\u001b[1;32m      7\u001b[0m \u001b[39mexcept\u001b[39;00m \u001b[39mBaseException\u001b[39;00m \u001b[39mas\u001b[39;00m E:\n",
      "File \u001b[0;32m~/campfire/env/lib/python3.10/site-packages/trimesh/ray/ray_pyembree.py:10\u001b[0m\n\u001b[1;32m      7\u001b[0m \u001b[39mfrom\u001b[39;00m \u001b[39mcopy\u001b[39;00m \u001b[39mimport\u001b[39;00m deepcopy\n\u001b[1;32m      9\u001b[0m \u001b[39mfrom\u001b[39;00m \u001b[39mpyembree\u001b[39;00m \u001b[39mimport\u001b[39;00m __version__ \u001b[39mas\u001b[39;00m _ver\n\u001b[0;32m---> 10\u001b[0m \u001b[39mfrom\u001b[39;00m \u001b[39mpyembree\u001b[39;00m \u001b[39mimport\u001b[39;00m rtcore_scene\n\u001b[1;32m     11\u001b[0m \u001b[39mfrom\u001b[39;00m \u001b[39mpyembree\u001b[39;00m\u001b[39m.\u001b[39;00m\u001b[39mmesh_construction\u001b[39;00m \u001b[39mimport\u001b[39;00m TriangleMesh\n\u001b[1;32m     13\u001b[0m \u001b[39mfrom\u001b[39;00m \u001b[39mpkg_resources\u001b[39;00m \u001b[39mimport\u001b[39;00m parse_version\n",
      "\u001b[0;31mImportError\u001b[0m: cannot import name 'rtcore_scene' from 'pyembree' (/Users/Joey_Chan/campfire/env/lib/python3.10/site-packages/pyembree/__init__.py)"
     ]
    }
   ],
   "source": [
    "root_id = 864691135247440303\n",
    "good_tips_thick, good_tips_thin, good_tips_bad_thick, good_tips_bad_thin, just_tips, just_means  = tip_finding.endpoints_from_rid(root_id)\n",
    "endpoints = np.concatenate([good_tips_thick, good_tips_thin])\n",
    "for tips in endpoints:\n",
    "    ext, num = segment_points(endpoint=tips, root_id=root_id, point_id=0, resolution=[8,8,40])\n",
    "    \n"
   ]
  }
 ],
 "metadata": {
  "kernelspec": {
   "display_name": "Python 3.8.3 ('camp': venv)",
   "language": "python",
   "name": "python3"
  },
  "language_info": {
   "codemirror_mode": {
    "name": "ipython",
    "version": 3
   },
   "file_extension": ".py",
   "mimetype": "text/x-python",
   "name": "python",
   "nbconvert_exporter": "python",
   "pygments_lexer": "ipython3",
   "version": "3.8.3"
  },
  "orig_nbformat": 4,
  "vscode": {
   "interpreter": {
    "hash": "5cc4c12d680633e03e183e01f123f12854ae2eb507947de409886dd0a926d1d5"
   }
  }
 },
 "nbformat": 4,
 "nbformat_minor": 2
}
