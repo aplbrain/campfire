{
 "cells": [
  {
   "cell_type": "code",
   "execution_count": null,
   "metadata": {},
   "outputs": [],
   "source": [
    "import numpy as np\n",
    "import pandas as pd\n",
    "import matplotlib.pyplot as plt\n",
    "import pickle as pkl\n",
    "from drive import segment_points\n",
    "from tip_finding import tip_finding"
   ]
  },
  {
   "cell_type": "code",
   "execution_count": null,
   "metadata": {},
   "outputs": [],
   "source": [
    "from collections import deque\n",
    "#use append and pop functions (acts LIFO)\n",
    "stack = deque()\n",
    "root_id = 864691135247440303\n",
    "good_tips_thick, good_tips_thin, good_tips_bad_thick, good_tips_bad_thin, just_tips, just_means  = tip_finding.endpoints_from_rid(root_id)\n",
    "#our list of all endpoints to extend\n",
    "endpoints = np.concatenate([good_tips_thick, good_tips_thin])\n",
    "#OBTAIN ACTUAL THRESHOLD NUMBER\n",
    "threshold = 0.3\\\n",
    "#this is for one SEG_ID--PUT INTO FUNCTION; run this for each seg_ID\n",
    "for tip in endpoints:\n",
    "    #reset stack everytime we move on to extending a new tip(endpoint)\n",
    "    next_seg_id = tip\n",
    "    while(max_confidence > threshold and next_seg_id.num_soma == (0)):\n",
    "        stack.append(next_seg_id)\n",
    "        ext, num = segment_points(endpoint=stack.pop(), root_id=root_id, point_id=0, resolution=[8,8,40])\n",
    "        #need to loop through values to get largest confidence\n",
    "        val_list = list(ext.merges.values())\n",
    "        key_list = list(ext.merges.keys())\n",
    "        max_confidence = max(ext.merges.values())\n",
    "        position = val_list.index(max_confidence)\n",
    "        #obtain the extension associated with highest confidence\n",
    "        next_seg_id = key_list[position]\n",
    "        #stack.append(next_seg_id)\n",
    "        #make sure this next seg_ID is an orphan and has enough confidence\n",
    "\n",
    "\n",
    "\n",
    "    \n"
   ]
  },
  {
   "cell_type": "code",
   "execution_count": null,
   "metadata": {},
   "outputs": [],
   "source": [
    "#VERSION 2\n",
    "from collections import deque\n",
    "#use append and pop functions (acts LIFO)\n",
    "stack = deque()\n",
    "root_id = 864691135247440303\n",
    "good_tips_thick, good_tips_thin, good_tips_bad_thick, good_tips_bad_thin, just_tips, just_means  = tip_finding.endpoints_from_rid(root_id)\n",
    "#our list of all endpoints to extend\n",
    "endpoints = np.concatenate([good_tips_thick, good_tips_thin])\n",
    "#OBTAIN ACTUAL THRESHOLD NUMBER\n",
    "threshold = 0.3\n",
    "#this is for one SEG_ID--PUT INTO FUNCTION; run this for each seg_ID\n",
    " #add all endpoints in stack\n",
    "for tip in endpoints:\n",
    "    #reset stack everytime we move on to extending a new tip(endpoint)\n",
    "    #TUPLE: (SEG_ID1, tip1), (SEG_ID1, tip2)\n",
    "    stack.append((tip, root_id))\n",
    "while(stack):\n",
    "    next_seg_id_endpoint = stack.pop()\n",
    "    ext, num = segment_points(endpoint=next_seg_id_endpoint[0], root_id=next_seg_id_endpoint[1], point_id=0, resolution=[8,8,40])\n",
    "    #need to loop through values to get largest confidence\n",
    "    val_list = list(ext.merges.values())\n",
    "    key_list = list(ext.merges.keys())\n",
    "    max_confidence = max(ext.merges.values())\n",
    "    position = val_list.index(max_confidence)\n",
    "    #obtain the extension associated with highest confidence\n",
    "    next_seg_id = key_list[position]\n",
    "    if (max_confidence > threshold and next_seg_id.num_soma == (0)):\n",
    "        #get endpoints for next seg_ID\n",
    "        good_tips_thick, good_tips_thin, good_tips_bad_thick, good_tips_bad_thin, just_tips, \n",
    "        just_means = tip_finding.endpoints_from_rid(next_seg_id)\n",
    "        endpoints = np.concatenate([good_tips_thick, good_tips_thin])\n",
    "        #append all of the endpoints\n",
    "        for tip in endpoints:\n",
    "            #reset stack everytime we move on to extending a new tip(endpoint)\n",
    "            #TUPLE: (SEG_ID1, tip1), (SEG_ID1, tip2)\n",
    "            stack.append((tip, next_seg_id))"
   ]
  }
 ],
 "metadata": {
  "kernelspec": {
   "display_name": "Python 3.8.3 ('AGTS_2022': venv)",
   "language": "python",
   "name": "python3"
  },
  "language_info": {
   "codemirror_mode": {
    "name": "ipython",
    "version": 3
   },
   "file_extension": ".py",
   "mimetype": "text/x-python",
   "name": "python",
   "nbconvert_exporter": "python",
   "pygments_lexer": "ipython3",
   "version": "3.8.3"
  },
  "orig_nbformat": 4,
  "vscode": {
   "interpreter": {
    "hash": "5796726b1a94aac0f08323043a0a9796c93d03d7eeac7ac13359ed865c5f5621"
   }
  }
 },
 "nbformat": 4,
 "nbformat_minor": 2
}
