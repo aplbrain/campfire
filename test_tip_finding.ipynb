{
 "cells": [
  {
   "cell_type": "code",
   "execution_count": 1,
   "metadata": {},
   "outputs": [
    {
     "name": "stderr",
     "output_type": "stream",
     "text": [
      "/Library/Frameworks/Python.framework/Versions/3.8/lib/python3.8/site-packages/tqdm/auto.py:22: TqdmWarning: IProgress not found. Please update jupyter and ipywidgets. See https://ipywidgets.readthedocs.io/en/stable/user_install.html\n",
      "  from .autonotebook import tqdm as notebook_tqdm\n"
     ]
    }
   ],
   "source": [
    "from caveclient import CAVEclient\n",
    "from intern import array\n",
    "import pickle\n",
    "import numpy as np\n",
    "from agents import data_loader\n",
    "from cloudvolume import CloudVolume\n",
    "from membrane_detection import membranes\n",
    "from agents.scripts import precompute_membrane_vectors, create_post_matrix, merge_paths, get_soma\n",
    "import agents.sensor\n",
    "from agents.run import run_agents\n",
    "import aws.sqs as sqs\n",
    "import sys\n",
    "import time\n",
    "import ast\n",
    "import pandas as pd\n",
    "import agents.scripts as scripts\n",
    "from drive import drive\n",
    "from finding_orphans import *\n",
    "from math import sqrt"
   ]
  },
  {
   "cell_type": "markdown",
   "metadata": {},
   "source": [
    "### Testing tip finder on neurons w somas"
   ]
  },
  {
   "cell_type": "code",
   "execution_count": 5,
   "metadata": {},
   "outputs": [
    {
     "name": "stderr",
     "output_type": "stream",
     "text": [
      "08/02/2022 03:43:19 PM WARNING: face_normals incorrect shape, ignoring! \n"
     ]
    },
    {
     "name": "stdout",
     "output_type": "stream",
     "text": [
      "Warning: deduplication not currently supported for this layer's variable layered draco meshes\n"
     ]
    },
    {
     "name": "stderr",
     "output_type": "stream",
     "text": [
      "100%|██████████| 66050/66050 [00:00<00:00, 478007.07it/s]\n"
     ]
    },
    {
     "name": "stdout",
     "output_type": "stream",
     "text": [
      "len of tl:  3\n",
      "\n",
      "tl:  [(127626, 180942, 21828), (127834, 168512, 22169), (145833, 168943, 22017)]\n"
     ]
    }
   ],
   "source": [
    "tl, skel, mesh_obj = tip_finding.tip_finder_decimation(root_id = 864691135489218668, inval_d = 5600, num_humfrey_iters= 200, decimation_factor= 0.9)\n",
    " #looking at the tuple list and printing out all of the endpoints   \n",
    "print(\"len of tl: \",len(tl))\n",
    "print()\n",
    "print(\"tl: \",tl)\n",
    "# print()\n",
    "# print(\"cc2: \")\n",
    "# print(len(cc2))\n",
    "# print(cc2)\n"
   ]
  },
  {
   "cell_type": "code",
   "execution_count": null,
   "metadata": {},
   "outputs": [],
   "source": [
    "cc2_lens = []\n",
    "for arr in cc2:\n",
    "    cc2_lens.append(len(arr))\n",
    "\n",
    "print(\"Maximum number of connected components: \",max(cc2_lens))\n",
    "max_index = [index for index, item in enumerate(cc2_lens) if item == max(cc2_lens)]\n",
    "cc2_lens[max_index[0]] = 0\n",
    "print(\"Second largest number of connected components: \",max(cc2_lens))"
   ]
  },
  {
   "cell_type": "code",
   "execution_count": null,
   "metadata": {},
   "outputs": [],
   "source": [
    "unique_vals, counts = np.unique(cc, return_counts = True)\n",
    "print(counts)"
   ]
  },
  {
   "cell_type": "code",
   "execution_count": null,
   "metadata": {},
   "outputs": [],
   "source": [
    "print(len(edges_by_component))\n",
    "max_ind = (edges_by_component.argmax())\n",
    "print(edges_by_component[max_ind])\n",
    "edges_by_component[max_ind] = 0\n",
    "print(edges_by_component[max_ind])\n",
    "second_max_ind = edges_by_component.argmax()\n",
    "print(edges_by_component[second_max_ind])\n",
    "# edges_by_componenet[second_max_ind]\n",
    "# print(len(edges_by_component[edges_by_component > 5]))"
   ]
  },
  {
   "cell_type": "code",
   "execution_count": null,
   "metadata": {},
   "outputs": [],
   "source": [
    "mesh_obj.edges"
   ]
  },
  {
   "cell_type": "code",
   "execution_count": null,
   "metadata": {},
   "outputs": [],
   "source": [
    "vertexA = mesh_obj.vertices[mesh_obj.edges[0][0]]\n",
    "vertexB = mesh_obj.vertices[mesh_obj.edges[0][1]]\n",
    "x1 = vertexA[0]\n",
    "x2 = vertexB[0]\n",
    "y1 = vertexA[1]\n",
    "y2 = vertexB[1]\n",
    "z1 = vertexA[2]\n",
    "z2 = vertexB[2]\n",
    "edge_length = sqrt(((x1 - x2)**2) + ((y1-y2)**2) + ((z1-z2)**2))\n",
    "print(vertexA)\n",
    "print(vertexB)\n",
    "print(edge_length)\n"
   ]
  },
  {
   "cell_type": "code",
   "execution_count": null,
   "metadata": {},
   "outputs": [],
   "source": [
    "from meshparty import trimesh_vtk\n",
    "mesh_actor = trimesh_vtk.mesh_actor(mesh_obj, opacity=.5)\n",
    "trimesh_vtk.render_actors([mesh_actor])"
   ]
  },
  {
   "cell_type": "code",
   "execution_count": null,
   "metadata": {},
   "outputs": [],
   "source": [
    "from meshparty import trimesh_vtk\n",
    "import trimesh\n",
    "\n",
    "\n",
    "def skel_vis(skel):\n",
    "    import meshparty.skeleton_io as skel_io\n",
    "    from meshparty import trimesh_vtk\n",
    "\n",
    "    mesh_actor = trimesh_vtk.skeleton_actor(skel,\n",
    "                                            color=(1, 0, 0),\n",
    "                                            opacity=0.5)\n",
    "\n",
    "    end_point_actor = trimesh_vtk.point_cloud_actor(skel.vertices[skel.end_points], size=1200, color=(0, 1, 0),\n",
    "                                                    opacity=1)\n",
    "\n",
    "    trimesh_vtk.render_actors([mesh_actor, end_point_actor])\n",
    "\n",
    "skel_vis(skel)\n",
    "\n",
    "# mesh_obj = trimesh.smoothing.filter_laplacian(mesh_obj, iterations=50)\n",
    "\n",
    "\n",
    "# mesh_actor = trimesh_vtk.mesh_actor(mesh_obj,opacity=.5)\n",
    "# trimesh_vtk.render_actors([mesh_actor])\n",
    "\n"
   ]
  },
  {
   "cell_type": "code",
   "execution_count": null,
   "metadata": {},
   "outputs": [],
   "source": [
    "# # Trying to get all endpoints on mesh_obj\n",
    "\n",
    "# edges_by_component2 = trimesh.graph.connected_component_labels(\n",
    "#     mesh_obj.face_adjacency)\n",
    "# largest_component2 = np.bincount(edges_by_component2).argmax()\n",
    "# largest_component_size2 = np.sum(edges_by_component2 == largest_component2)\n",
    "\n",
    "# cc2 = trimesh.graph.connected_components(\n",
    "#     mesh_obj.face_adjacency, min_len=largest_component_size2-1)\n",
    "\n",
    "# mask2 = np.zeros(len(mesh_obj.faces), dtype=bool)\n",
    "\n",
    "# mask2[np.concatenate(cc2)] = True\n",
    "\n",
    "# mesh_obj.update_faces(mask2)\n",
    "# skel2 = skeletonize.skeletonize_mesh(trimesh_io.Mesh(mesh_obj.vertices,\n",
    "#                                                      mesh_obj.faces))\n",
    "# degree_dict2 = {}\n",
    "# unique_ids2 = np.unique(skel2.edges)\n",
    "# for i in unique_ids2:\n",
    "#     degree_dict2[i] = np.sum(skel2.edges == i)\n",
    "\n",
    "# degree2 = np.array(list(degree_dict2.values()))\n",
    "# points2 = skel2.vertices[np.argwhere(degree == 1)].astype(int)\n",
    "# tl2 = [tuple([int(e[0][0])//4, int(e[0][1])//4, int(e[0][2])//40]) for e in points2]\n",
    "\n",
    "# print(len(tl2))\n"
   ]
  },
  {
   "cell_type": "code",
   "execution_count": null,
   "metadata": {},
   "outputs": [],
   "source": []
  },
  {
   "cell_type": "markdown",
   "metadata": {},
   "source": [
    "### Testing orphan tip finder"
   ]
  },
  {
   "cell_type": "code",
   "execution_count": null,
   "metadata": {},
   "outputs": [],
   "source": [
    "# Importing data\n",
    "\n",
    "data_path = \"/Users/RupaChalavadi/Desktop/15_ng_links_edited_20220610.csv\"\n",
    "data = pd.read_csv(data_path)"
   ]
  },
  {
   "cell_type": "code",
   "execution_count": null,
   "metadata": {},
   "outputs": [],
   "source": [
    "# Cleaning up data\n",
    "seg_ids_endpoints = data.iloc[:,2:4]\n",
    "# seg_ids_endpoints = seg_ids_endpoints.to_numpy\n",
    "for i in range(seg_ids_endpoints.shape[0]):\n",
    "    endpoints_str = seg_ids_endpoints.iloc[i][0]\n",
    "    endpoints_list = list(endpoints_str.split(','))\n",
    "    print(endpoints_list)\n",
    "    \n",
    "\n",
    "# seg_ids_endpoints\n"
   ]
  },
  {
   "cell_type": "code",
   "execution_count": null,
   "metadata": {},
   "outputs": [],
   "source": [
    "# seg_ids = [864691135909994000,\n",
    "#            864691135247440303,\n",
    "#            864691134959738482,\n",
    "#            864691135314714227,\n",
    "#            864691135552841025,\n",
    "#            ]\n",
    "# endpoints = [[402188, 228684, 24029],[401258, 224832, 24029],[401314, 228366, 24424],[400199, 220721, 24029],[397870, 232292, 24004],[403272, 227529, 24394]]\n",
    "\n",
    "# closest_calculated_endpoints = []\n",
    "\n",
    "\n",
    "# for i in seg_ids:\n",
    "#     print(tip_finding.tip_finder_decimation(i))\n",
    "\n",
    "# # for i in range(len(seg_ids)):\n",
    "# #     endpoints_list = tip_finding.tip_finder_decimation(seg_ids[i])\n",
    "#     # distances_list = []\n",
    "#     # for point in endpoints_list:\n",
    "#     #     distance = sqrt((point[0] - endpoints[i][0])**2 + (point[1] - endpoints[i][1])**2 + (point[2] - endpoints[i][2])**2)\n",
    "#     #     distances_list.append(distance)\n",
    "    \n",
    "#     # min_index = distances_list.index(min(distances_list))\n",
    "#     # closest_calculated_endpoints.append(endpoints_list[min_index])\n",
    "\n",
    "# # closest_calculated_endpoints\n",
    "\n",
    "\n",
    "    "
   ]
  },
  {
   "cell_type": "code",
   "execution_count": null,
   "metadata": {},
   "outputs": [],
   "source": [
    "tl, skel = tip_finding.tip_finder_decimation(864691135909994000)\n"
   ]
  },
  {
   "cell_type": "code",
   "execution_count": null,
   "metadata": {},
   "outputs": [],
   "source": []
  }
 ],
 "metadata": {
  "interpreter": {
   "hash": "aee8b7b246df8f9039afb4144a1f6fd8d2ca17a180786b69acc140d282b71a49"
  },
  "kernelspec": {
   "display_name": "Python 3.8.10 64-bit",
   "language": "python",
   "name": "python3"
  },
  "language_info": {
   "codemirror_mode": {
    "name": "ipython",
    "version": 3
   },
   "file_extension": ".py",
   "mimetype": "text/x-python",
   "name": "python",
   "nbconvert_exporter": "python",
   "pygments_lexer": "ipython3",
   "version": "3.8.10"
  },
  "orig_nbformat": 4,
  "vscode": {
   "interpreter": {
    "hash": "e70cd6dbfbd84db0df722de387fd9a98787af89bf0e7b259e8f6e74e5c75f4bc"
   }
  }
 },
 "nbformat": 4,
 "nbformat_minor": 2
}
