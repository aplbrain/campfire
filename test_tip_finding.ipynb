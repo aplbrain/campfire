{
 "cells": [
  {
   "cell_type": "code",
   "execution_count": 1,
   "metadata": {},
   "outputs": [],
   "source": [
    "from caveclient import CAVEclient\n",
    "from intern import array\n",
    "import pickle\n",
    "import numpy as np\n",
    "from agents import data_loader\n",
    "from cloudvolume import CloudVolume\n",
    "from membrane_detection import membranes\n",
    "from agents.scripts import precompute_membrane_vectors, create_post_matrix, merge_paths, get_soma\n",
    "import agents.sensor\n",
    "from agents.run import run_agents\n",
    "import aws.sqs as sqs\n",
    "import sys\n",
    "import time\n",
    "import ast\n",
    "import pandas as pd\n",
    "import agents.scripts as scripts\n",
    "from drive import drive\n",
    "from finding_orphans import *\n",
    "from math import sqrt"
   ]
  },
  {
   "cell_type": "code",
   "execution_count": 2,
   "metadata": {},
   "outputs": [
    {
     "name": "stderr",
     "output_type": "stream",
     "text": [
      "06/16/2022 06:14:38 PM WARNING: face_normals incorrect shape, ignoring! \n"
     ]
    },
    {
     "name": "stdout",
     "output_type": "stream",
     "text": [
      "Warning: deduplication not currently supported for this layer's variable layered draco meshes\n"
     ]
    },
    {
     "ename": "IndexError",
     "evalue": "arrays used as indices must be of integer (or boolean) type",
     "output_type": "error",
     "traceback": [
      "\u001b[0;31m---------------------------------------------------------------------------\u001b[0m",
      "\u001b[0;31mIndexError\u001b[0m                                Traceback (most recent call last)",
      "\u001b[1;32m/Users/RupaChalavadi/Desktop/CRIMSON/Summer/Campfire/campfire/test_tip_finding.ipynb Cell 2'\u001b[0m in \u001b[0;36m<cell line: 1>\u001b[0;34m()\u001b[0m\n\u001b[0;32m----> <a href='vscode-notebook-cell:/Users/RupaChalavadi/Desktop/CRIMSON/Summer/Campfire/campfire/test_tip_finding.ipynb#ch0000001?line=0'>1</a>\u001b[0m tl, skel, mesh, cc2 \u001b[39m=\u001b[39m tip_finding\u001b[39m.\u001b[39;49mtip_finder_decimation(\n\u001b[1;32m      <a href='vscode-notebook-cell:/Users/RupaChalavadi/Desktop/CRIMSON/Summer/Campfire/campfire/test_tip_finding.ipynb#ch0000001?line=1'>2</a>\u001b[0m     \u001b[39m864691133318219559\u001b[39;49m)\n\u001b[1;32m      <a href='vscode-notebook-cell:/Users/RupaChalavadi/Desktop/CRIMSON/Summer/Campfire/campfire/test_tip_finding.ipynb#ch0000001?line=2'>3</a>\u001b[0m \u001b[39mprint\u001b[39m(\u001b[39m\"\u001b[39m\u001b[39mlen of tl: \u001b[39m\u001b[39m\"\u001b[39m,\u001b[39mlen\u001b[39m(tl))\n\u001b[1;32m      <a href='vscode-notebook-cell:/Users/RupaChalavadi/Desktop/CRIMSON/Summer/Campfire/campfire/test_tip_finding.ipynb#ch0000001?line=3'>4</a>\u001b[0m \u001b[39mprint\u001b[39m()\n",
      "File \u001b[0;32m~/Desktop/CRIMSON/Summer/Campfire/campfire/tip_finding/tip_finding.py:36\u001b[0m, in \u001b[0;36mtip_finder_decimation\u001b[0;34m(root_id, nucleus_id, time, pt_position, sqs_queue_name, save_df, save_nvq)\u001b[0m\n\u001b[1;32m     <a href='file:///Users/RupaChalavadi/Desktop/CRIMSON/Summer/Campfire/campfire/tip_finding/tip_finding.py?line=32'>33</a>\u001b[0m mask[np\u001b[39m.\u001b[39mconcatenate(cc)] \u001b[39m=\u001b[39m \u001b[39mTrue\u001b[39;00m\n\u001b[1;32m     <a href='file:///Users/RupaChalavadi/Desktop/CRIMSON/Summer/Campfire/campfire/tip_finding/tip_finding.py?line=34'>35</a>\u001b[0m decimated\u001b[39m.\u001b[39mupdate_faces(mask)\n\u001b[0;32m---> <a href='file:///Users/RupaChalavadi/Desktop/CRIMSON/Summer/Campfire/campfire/tip_finding/tip_finding.py?line=35'>36</a>\u001b[0m skel \u001b[39m=\u001b[39m skeletonize\u001b[39m.\u001b[39;49mskeletonize_mesh(trimesh_io\u001b[39m.\u001b[39;49mMesh(decimated\u001b[39m.\u001b[39;49mvertices, \n\u001b[1;32m     <a href='file:///Users/RupaChalavadi/Desktop/CRIMSON/Summer/Campfire/campfire/tip_finding/tip_finding.py?line=36'>37</a>\u001b[0m                                                             decimated\u001b[39m.\u001b[39;49mfaces))\n\u001b[1;32m     <a href='file:///Users/RupaChalavadi/Desktop/CRIMSON/Summer/Campfire/campfire/tip_finding/tip_finding.py?line=38'>39</a>\u001b[0m degree_dict \u001b[39m=\u001b[39m {}\n\u001b[1;32m     <a href='file:///Users/RupaChalavadi/Desktop/CRIMSON/Summer/Campfire/campfire/tip_finding/tip_finding.py?line=39'>40</a>\u001b[0m unique_ids \u001b[39m=\u001b[39m np\u001b[39m.\u001b[39munique(skel\u001b[39m.\u001b[39medges)\n",
      "File \u001b[0;32m~/Library/Python/3.8/lib/python/site-packages/meshparty/skeletonize.py:107\u001b[0m, in \u001b[0;36mskeletonize_mesh\u001b[0;34m(mesh, soma_pt, soma_radius, collapse_soma, collapse_function, invalidation_d, smooth_vertices, compute_radius, shape_function, compute_original_index, verbose, smooth_iterations, smooth_neighborhood, smooth_r, cc_vertex_thresh, root_index, remove_zero_length_edges, collapse_params, meta)\u001b[0m\n\u001b[1;32m     <a href='file:///Users/RupaChalavadi/Library/Python/3.8/lib/python/site-packages/meshparty/skeletonize.py?line=17'>18</a>\u001b[0m \u001b[39mdef\u001b[39;00m \u001b[39mskeletonize_mesh\u001b[39m(\n\u001b[1;32m     <a href='file:///Users/RupaChalavadi/Library/Python/3.8/lib/python/site-packages/meshparty/skeletonize.py?line=18'>19</a>\u001b[0m     mesh,\n\u001b[1;32m     <a href='file:///Users/RupaChalavadi/Library/Python/3.8/lib/python/site-packages/meshparty/skeletonize.py?line=19'>20</a>\u001b[0m     soma_pt\u001b[39m=\u001b[39m\u001b[39mNone\u001b[39;00m,\n\u001b[0;32m   (...)\u001b[0m\n\u001b[1;32m     <a href='file:///Users/RupaChalavadi/Library/Python/3.8/lib/python/site-packages/meshparty/skeletonize.py?line=36'>37</a>\u001b[0m     meta\u001b[39m=\u001b[39m{},\n\u001b[1;32m     <a href='file:///Users/RupaChalavadi/Library/Python/3.8/lib/python/site-packages/meshparty/skeletonize.py?line=37'>38</a>\u001b[0m ):\n\u001b[1;32m     <a href='file:///Users/RupaChalavadi/Library/Python/3.8/lib/python/site-packages/meshparty/skeletonize.py?line=38'>39</a>\u001b[0m     \u001b[39m\"\"\"\u001b[39;00m\n\u001b[1;32m     <a href='file:///Users/RupaChalavadi/Library/Python/3.8/lib/python/site-packages/meshparty/skeletonize.py?line=39'>40</a>\u001b[0m \u001b[39m    Build skeleton object from mesh skeletonization\u001b[39;00m\n\u001b[1;32m     <a href='file:///Users/RupaChalavadi/Library/Python/3.8/lib/python/site-packages/meshparty/skeletonize.py?line=40'>41</a>\u001b[0m \n\u001b[0;32m   (...)\u001b[0m\n\u001b[1;32m    <a href='file:///Users/RupaChalavadi/Library/Python/3.8/lib/python/site-packages/meshparty/skeletonize.py?line=99'>100</a>\u001b[0m \u001b[39m           a Skeleton object for this mesh\u001b[39;00m\n\u001b[1;32m    <a href='file:///Users/RupaChalavadi/Library/Python/3.8/lib/python/site-packages/meshparty/skeletonize.py?line=100'>101</a>\u001b[0m \u001b[39m    \"\"\"\u001b[39;00m\n\u001b[1;32m    <a href='file:///Users/RupaChalavadi/Library/Python/3.8/lib/python/site-packages/meshparty/skeletonize.py?line=101'>102</a>\u001b[0m     (\n\u001b[1;32m    <a href='file:///Users/RupaChalavadi/Library/Python/3.8/lib/python/site-packages/meshparty/skeletonize.py?line=102'>103</a>\u001b[0m         skel_verts,\n\u001b[1;32m    <a href='file:///Users/RupaChalavadi/Library/Python/3.8/lib/python/site-packages/meshparty/skeletonize.py?line=103'>104</a>\u001b[0m         skel_edges,\n\u001b[1;32m    <a href='file:///Users/RupaChalavadi/Library/Python/3.8/lib/python/site-packages/meshparty/skeletonize.py?line=104'>105</a>\u001b[0m         orig_skel_index,\n\u001b[1;32m    <a href='file:///Users/RupaChalavadi/Library/Python/3.8/lib/python/site-packages/meshparty/skeletonize.py?line=105'>106</a>\u001b[0m         skel_map,\n\u001b[0;32m--> <a href='file:///Users/RupaChalavadi/Library/Python/3.8/lib/python/site-packages/meshparty/skeletonize.py?line=106'>107</a>\u001b[0m     ) \u001b[39m=\u001b[39m calculate_skeleton_paths_on_mesh(\n\u001b[1;32m    <a href='file:///Users/RupaChalavadi/Library/Python/3.8/lib/python/site-packages/meshparty/skeletonize.py?line=107'>108</a>\u001b[0m         mesh,\n\u001b[1;32m    <a href='file:///Users/RupaChalavadi/Library/Python/3.8/lib/python/site-packages/meshparty/skeletonize.py?line=108'>109</a>\u001b[0m         invalidation_d\u001b[39m=\u001b[39;49minvalidation_d,\n\u001b[1;32m    <a href='file:///Users/RupaChalavadi/Library/Python/3.8/lib/python/site-packages/meshparty/skeletonize.py?line=109'>110</a>\u001b[0m         cc_vertex_thresh\u001b[39m=\u001b[39;49mcc_vertex_thresh,\n\u001b[1;32m    <a href='file:///Users/RupaChalavadi/Library/Python/3.8/lib/python/site-packages/meshparty/skeletonize.py?line=110'>111</a>\u001b[0m         root_index\u001b[39m=\u001b[39;49mroot_index,\n\u001b[1;32m    <a href='file:///Users/RupaChalavadi/Library/Python/3.8/lib/python/site-packages/meshparty/skeletonize.py?line=111'>112</a>\u001b[0m         return_map\u001b[39m=\u001b[39;49m\u001b[39mTrue\u001b[39;49;00m,\n\u001b[1;32m    <a href='file:///Users/RupaChalavadi/Library/Python/3.8/lib/python/site-packages/meshparty/skeletonize.py?line=112'>113</a>\u001b[0m     )\n\u001b[1;32m    <a href='file:///Users/RupaChalavadi/Library/Python/3.8/lib/python/site-packages/meshparty/skeletonize.py?line=114'>115</a>\u001b[0m     \u001b[39mif\u001b[39;00m smooth_vertices \u001b[39mis\u001b[39;00m \u001b[39mTrue\u001b[39;00m:\n\u001b[1;32m    <a href='file:///Users/RupaChalavadi/Library/Python/3.8/lib/python/site-packages/meshparty/skeletonize.py?line=115'>116</a>\u001b[0m         smooth_verts \u001b[39m=\u001b[39m smooth_graph(\n\u001b[1;32m    <a href='file:///Users/RupaChalavadi/Library/Python/3.8/lib/python/site-packages/meshparty/skeletonize.py?line=116'>117</a>\u001b[0m             skel_verts,\n\u001b[1;32m    <a href='file:///Users/RupaChalavadi/Library/Python/3.8/lib/python/site-packages/meshparty/skeletonize.py?line=117'>118</a>\u001b[0m             skel_edges,\n\u001b[0;32m   (...)\u001b[0m\n\u001b[1;32m    <a href='file:///Users/RupaChalavadi/Library/Python/3.8/lib/python/site-packages/meshparty/skeletonize.py?line=120'>121</a>\u001b[0m             r\u001b[39m=\u001b[39msmooth_r,\n\u001b[1;32m    <a href='file:///Users/RupaChalavadi/Library/Python/3.8/lib/python/site-packages/meshparty/skeletonize.py?line=121'>122</a>\u001b[0m         )\n",
      "File \u001b[0;32m~/Library/Python/3.8/lib/python/site-packages/meshparty/skeletonize.py:383\u001b[0m, in \u001b[0;36mcalculate_skeleton_paths_on_mesh\u001b[0;34m(mesh, soma_pt, soma_thresh, invalidation_d, smooth_neighborhood, smooth_iterations, cc_vertex_thresh, large_skel_path_threshold, return_map, root_index)\u001b[0m\n\u001b[1;32m    <a href='file:///Users/RupaChalavadi/Library/Python/3.8/lib/python/site-packages/meshparty/skeletonize.py?line=379'>380</a>\u001b[0m \u001b[39melse\u001b[39;00m:\n\u001b[1;32m    <a href='file:///Users/RupaChalavadi/Library/Python/3.8/lib/python/site-packages/meshparty/skeletonize.py?line=380'>381</a>\u001b[0m     tot_edges \u001b[39m=\u001b[39m np\u001b[39m.\u001b[39mzeros((\u001b[39m3\u001b[39m, \u001b[39m0\u001b[39m))\n\u001b[0;32m--> <a href='file:///Users/RupaChalavadi/Library/Python/3.8/lib/python/site-packages/meshparty/skeletonize.py?line=382'>383</a>\u001b[0m skel_verts, skel_edges, skel_verts_orig \u001b[39m=\u001b[39m reduce_verts(mesh\u001b[39m.\u001b[39;49mvertices, tot_edges)\n\u001b[1;32m    <a href='file:///Users/RupaChalavadi/Library/Python/3.8/lib/python/site-packages/meshparty/skeletonize.py?line=384'>385</a>\u001b[0m \u001b[39mif\u001b[39;00m return_map:\n\u001b[1;32m    <a href='file:///Users/RupaChalavadi/Library/Python/3.8/lib/python/site-packages/meshparty/skeletonize.py?line=385'>386</a>\u001b[0m     mesh_to_skeleton_map \u001b[39m=\u001b[39m utils\u001b[39m.\u001b[39mnanfilter_shapes(\n\u001b[1;32m    <a href='file:///Users/RupaChalavadi/Library/Python/3.8/lib/python/site-packages/meshparty/skeletonize.py?line=386'>387</a>\u001b[0m         np\u001b[39m.\u001b[39munique(tot_edges\u001b[39m.\u001b[39mravel()), mesh_to_skeleton_map\n\u001b[1;32m    <a href='file:///Users/RupaChalavadi/Library/Python/3.8/lib/python/site-packages/meshparty/skeletonize.py?line=387'>388</a>\u001b[0m     )\n",
      "File \u001b[0;32m~/Library/Python/3.8/lib/python/site-packages/meshparty/skeletonize.py:423\u001b[0m, in \u001b[0;36mreduce_verts\u001b[0;34m(verts, faces)\u001b[0m\n\u001b[1;32m    <a href='file:///Users/RupaChalavadi/Library/Python/3.8/lib/python/site-packages/meshparty/skeletonize.py?line=401'>402</a>\u001b[0m \u001b[39m\"\"\"removes unused vertices from a graph or mesh\u001b[39;00m\n\u001b[1;32m    <a href='file:///Users/RupaChalavadi/Library/Python/3.8/lib/python/site-packages/meshparty/skeletonize.py?line=402'>403</a>\u001b[0m \n\u001b[1;32m    <a href='file:///Users/RupaChalavadi/Library/Python/3.8/lib/python/site-packages/meshparty/skeletonize.py?line=403'>404</a>\u001b[0m \u001b[39mParameters\u001b[39;00m\n\u001b[0;32m   (...)\u001b[0m\n\u001b[1;32m    <a href='file:///Users/RupaChalavadi/Library/Python/3.8/lib/python/site-packages/meshparty/skeletonize.py?line=419'>420</a>\u001b[0m \n\u001b[1;32m    <a href='file:///Users/RupaChalavadi/Library/Python/3.8/lib/python/site-packages/meshparty/skeletonize.py?line=420'>421</a>\u001b[0m \u001b[39m\"\"\"\u001b[39;00m\n\u001b[1;32m    <a href='file:///Users/RupaChalavadi/Library/Python/3.8/lib/python/site-packages/meshparty/skeletonize.py?line=421'>422</a>\u001b[0m used_verts \u001b[39m=\u001b[39m np\u001b[39m.\u001b[39munique(faces\u001b[39m.\u001b[39mravel())\n\u001b[0;32m--> <a href='file:///Users/RupaChalavadi/Library/Python/3.8/lib/python/site-packages/meshparty/skeletonize.py?line=422'>423</a>\u001b[0m new_verts \u001b[39m=\u001b[39m verts[used_verts, :]\n\u001b[1;32m    <a href='file:///Users/RupaChalavadi/Library/Python/3.8/lib/python/site-packages/meshparty/skeletonize.py?line=423'>424</a>\u001b[0m new_face \u001b[39m=\u001b[39m np\u001b[39m.\u001b[39mzeros(faces\u001b[39m.\u001b[39mshape, dtype\u001b[39m=\u001b[39mfaces\u001b[39m.\u001b[39mdtype)\n\u001b[1;32m    <a href='file:///Users/RupaChalavadi/Library/Python/3.8/lib/python/site-packages/meshparty/skeletonize.py?line=424'>425</a>\u001b[0m \u001b[39mfor\u001b[39;00m i \u001b[39min\u001b[39;00m \u001b[39mrange\u001b[39m(faces\u001b[39m.\u001b[39mshape[\u001b[39m1\u001b[39m]):\n",
      "\u001b[0;31mIndexError\u001b[0m: arrays used as indices must be of integer (or boolean) type"
     ]
    }
   ],
   "source": [
    "tl, skel, mesh, cc2 = tip_finding.tip_finder_decimation(\n",
    "    864691135918483376)\n",
    "print(\"len of tl: \",len(tl))\n",
    "print()\n",
    "print(\"tl: \",tl)\n",
    "print()\n",
    "print(\"cc2: \")\n",
    "print(len(cc2))\n",
    "print(cc2)\n"
   ]
  },
  {
   "cell_type": "code",
   "execution_count": 36,
   "metadata": {},
   "outputs": [
    {
     "name": "stdout",
     "output_type": "stream",
     "text": [
      "Maximum number of connected components:  47393\n",
      "Second largest number of connected components:  2901\n"
     ]
    }
   ],
   "source": [
    "cc2_lens = []\n",
    "for arr in cc2:\n",
    "    cc2_lens.append(len(arr))\n",
    "\n",
    "print(\"Maximum number of connected components: \",max(cc2_lens))\n",
    "max_index = [index for index, item in enumerate(cc2_lens) if item == max(cc2_lens)]\n",
    "cc2_lens[max_index[0]] = 0\n",
    "print(\"Second largest number of connected components: \",max(cc2_lens))"
   ]
  },
  {
   "cell_type": "code",
   "execution_count": 7,
   "metadata": {},
   "outputs": [
    {
     "ename": "NameError",
     "evalue": "name 'cc' is not defined",
     "output_type": "error",
     "traceback": [
      "\u001b[0;31m---------------------------------------------------------------------------\u001b[0m",
      "\u001b[0;31mNameError\u001b[0m                                 Traceback (most recent call last)",
      "\u001b[1;32m/Users/RupaChalavadi/Desktop/CRIMSON/Summer/Campfire/campfire/test_tip_finding.ipynb Cell 4'\u001b[0m in \u001b[0;36m<cell line: 1>\u001b[0;34m()\u001b[0m\n\u001b[0;32m----> <a href='vscode-notebook-cell:/Users/RupaChalavadi/Desktop/CRIMSON/Summer/Campfire/campfire/test_tip_finding.ipynb#ch0000002?line=0'>1</a>\u001b[0m unique_vals, counts \u001b[39m=\u001b[39m np\u001b[39m.\u001b[39munique(cc, return_counts \u001b[39m=\u001b[39m \u001b[39mTrue\u001b[39;00m)\n\u001b[1;32m      <a href='vscode-notebook-cell:/Users/RupaChalavadi/Desktop/CRIMSON/Summer/Campfire/campfire/test_tip_finding.ipynb#ch0000002?line=1'>2</a>\u001b[0m \u001b[39mprint\u001b[39m(counts)\n",
      "\u001b[0;31mNameError\u001b[0m: name 'cc' is not defined"
     ]
    }
   ],
   "source": [
    "unique_vals, counts = np.unique(cc, return_counts = True)\n",
    "print(counts)"
   ]
  },
  {
   "cell_type": "code",
   "execution_count": 35,
   "metadata": {},
   "outputs": [
    {
     "name": "stdout",
     "output_type": "stream",
     "text": [
      "71550\n",
      "9288\n",
      "0\n",
      "9288\n"
     ]
    }
   ],
   "source": [
    "print(len(edges_by_component))\n",
    "max_ind = (edges_by_component.argmax())\n",
    "print(edges_by_component[max_ind])\n",
    "edges_by_component[max_ind] = 0\n",
    "print(edges_by_component[max_ind])\n",
    "second_max_ind = edges_by_component.argmax()\n",
    "print(edges_by_component[second_max_ind])\n",
    "# edges_by_componenet[second_max_ind]\n",
    "# print(len(edges_by_component[edges_by_component > 5]))"
   ]
  },
  {
   "cell_type": "code",
   "execution_count": 3,
   "metadata": {},
   "outputs": [
    {
     "name": "stderr",
     "output_type": "stream",
     "text": [
      "\n",
      "KeyboardInterrupt\n",
      "\n"
     ]
    }
   ],
   "source": [
    "mesh_obj.edges"
   ]
  },
  {
   "cell_type": "code",
   "execution_count": 8,
   "metadata": {},
   "outputs": [
    {
     "name": "stdout",
     "output_type": "stream",
     "text": [
      "[322224. 578214. 841659.]\n",
      "[322287. 578193. 841680.]\n",
      "69.6491205974634\n"
     ]
    }
   ],
   "source": [
    "vertexA = mesh_obj.vertices[mesh_obj.edges[0][0]]\n",
    "vertexB = mesh_obj.vertices[mesh_obj.edges[0][1]]\n",
    "x1 = vertexA[0]\n",
    "x2 = vertexB[0]\n",
    "y1 = vertexA[1]\n",
    "y2 = vertexB[1]\n",
    "z1 = vertexA[2]\n",
    "z2 = vertexB[2]\n",
    "edge_length = sqrt(((x1 - x2)**2) + ((y1-y2)**2) + ((z1-z2)**2))\n",
    "print(vertexA)\n",
    "print(vertexB)\n",
    "print(edge_length)\n"
   ]
  },
  {
   "cell_type": "code",
   "execution_count": 37,
   "metadata": {},
   "outputs": [
    {
     "name": "stdout",
     "output_type": "stream",
     "text": [
      "setting up renderer\n",
      "done setting up\n",
      "actors added\n",
      "camera set\n",
      "render done\n",
      "finalizing..\n"
     ]
    },
    {
     "ename": "",
     "evalue": "",
     "output_type": "error",
     "traceback": [
      "\u001b[1;31mThe Kernel crashed while executing code in the the current cell or a previous cell. Please review the code in the cell(s) to identify a possible cause of the failure. Click <a href='https://aka.ms/vscodeJupyterKernelCrash'>here</a> for more info. View Jupyter <a href='command:jupyter.viewOutput'>log</a> for further details."
     ]
    }
   ],
   "source": [
    "from meshparty import trimesh_vtk\n",
    "\n",
    "\n",
    "def skel_vis(skel):\n",
    "    import meshparty.skeleton_io as skel_io\n",
    "    from meshparty import trimesh_vtk\n",
    "\n",
    "    mesh_actor = trimesh_vtk.skeleton_actor(skel,\n",
    "                                            color=(1, 0, 0),\n",
    "                                            opacity=0.5)\n",
    "\n",
    "    end_point_actor = trimesh_vtk.point_cloud_actor(skel.vertices[skel.end_points], size=1200, color=(0, 1, 0),\n",
    "                                                    opacity=1)\n",
    "\n",
    "    trimesh_vtk.render_actors([mesh_actor, end_point_actor])\n",
    "\n",
    "skel_vis(skel)\n",
    "# mesh_actor = trimesh_vtk.mesh_actor(mesh_obj,opacity=.5)\n",
    "# trimesh_vtk.render_actors([mesh_actor])\n",
    "\n"
   ]
  },
  {
   "cell_type": "code",
   "execution_count": 7,
   "metadata": {},
   "outputs": [
    {
     "ename": "NameError",
     "evalue": "name 'trimesh' is not defined",
     "output_type": "error",
     "traceback": [
      "\u001b[0;31m---------------------------------------------------------------------------\u001b[0m",
      "\u001b[0;31mNameError\u001b[0m                                 Traceback (most recent call last)",
      "\u001b[1;32m/Users/RupaChalavadi/Desktop/CRIMSON/Summer/Campfire/campfire/test_tip_finding.ipynb Cell 4'\u001b[0m in \u001b[0;36m<cell line: 3>\u001b[0;34m()\u001b[0m\n\u001b[1;32m      <a href='vscode-notebook-cell:/Users/RupaChalavadi/Desktop/CRIMSON/Summer/Campfire/campfire/test_tip_finding.ipynb#ch0000006?line=0'>1</a>\u001b[0m \u001b[39m# Trying to get all endpoints on mesh_obj\u001b[39;00m\n\u001b[0;32m----> <a href='vscode-notebook-cell:/Users/RupaChalavadi/Desktop/CRIMSON/Summer/Campfire/campfire/test_tip_finding.ipynb#ch0000006?line=2'>3</a>\u001b[0m edges_by_component2 \u001b[39m=\u001b[39m trimesh\u001b[39m.\u001b[39mgraph\u001b[39m.\u001b[39mconnected_component_labels(\n\u001b[1;32m      <a href='vscode-notebook-cell:/Users/RupaChalavadi/Desktop/CRIMSON/Summer/Campfire/campfire/test_tip_finding.ipynb#ch0000006?line=3'>4</a>\u001b[0m     mesh_obj\u001b[39m.\u001b[39mface_adjacency)\n\u001b[1;32m      <a href='vscode-notebook-cell:/Users/RupaChalavadi/Desktop/CRIMSON/Summer/Campfire/campfire/test_tip_finding.ipynb#ch0000006?line=4'>5</a>\u001b[0m largest_component2 \u001b[39m=\u001b[39m np\u001b[39m.\u001b[39mbincount(edges_by_component2)\u001b[39m.\u001b[39margmax()\n\u001b[1;32m      <a href='vscode-notebook-cell:/Users/RupaChalavadi/Desktop/CRIMSON/Summer/Campfire/campfire/test_tip_finding.ipynb#ch0000006?line=5'>6</a>\u001b[0m largest_component_size2 \u001b[39m=\u001b[39m np\u001b[39m.\u001b[39msum(edges_by_component2 \u001b[39m==\u001b[39m largest_component2)\n",
      "\u001b[0;31mNameError\u001b[0m: name 'trimesh' is not defined"
     ]
    }
   ],
   "source": [
    "# # Trying to get all endpoints on mesh_obj\n",
    "\n",
    "# edges_by_component2 = trimesh.graph.connected_component_labels(\n",
    "#     mesh_obj.face_adjacency)\n",
    "# largest_component2 = np.bincount(edges_by_component2).argmax()\n",
    "# largest_component_size2 = np.sum(edges_by_component2 == largest_component2)\n",
    "\n",
    "# cc2 = trimesh.graph.connected_components(\n",
    "#     mesh_obj.face_adjacency, min_len=largest_component_size2-1)\n",
    "\n",
    "# mask2 = np.zeros(len(mesh_obj.faces), dtype=bool)\n",
    "\n",
    "# mask2[np.concatenate(cc2)] = True\n",
    "\n",
    "# mesh_obj.update_faces(mask2)\n",
    "# skel2 = skeletonize.skeletonize_mesh(trimesh_io.Mesh(mesh_obj.vertices,\n",
    "#                                                      mesh_obj.faces))\n",
    "# degree_dict2 = {}\n",
    "# unique_ids2 = np.unique(skel2.edges)\n",
    "# for i in unique_ids2:\n",
    "#     degree_dict2[i] = np.sum(skel2.edges == i)\n",
    "\n",
    "# degree2 = np.array(list(degree_dict2.values()))\n",
    "# points2 = skel2.vertices[np.argwhere(degree == 1)].astype(int)\n",
    "# tl2 = [tuple([int(e[0][0])//4, int(e[0][1])//4, int(e[0][2])//40]) for e in points2]\n",
    "\n",
    "# print(len(tl2))\n"
   ]
  },
  {
   "cell_type": "code",
   "execution_count": null,
   "metadata": {},
   "outputs": [],
   "source": []
  }
 ],
 "metadata": {
  "interpreter": {
   "hash": "31f2aee4e71d21fbe5cf8b01ff0e069b9275f58929596ceb00d14d90e3e16cd6"
  },
  "kernelspec": {
   "display_name": "Python 3.8.9 64-bit",
   "language": "python",
   "name": "python3"
  },
  "language_info": {
   "codemirror_mode": {
    "name": "ipython",
    "version": 3
   },
   "file_extension": ".py",
   "mimetype": "text/x-python",
   "name": "python",
   "nbconvert_exporter": "python",
   "pygments_lexer": "ipython3",
   "version": "3.8.9"
  },
  "orig_nbformat": 4
 },
 "nbformat": 4,
 "nbformat_minor": 2
}
